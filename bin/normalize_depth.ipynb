{
  "cells": [
    {
      "cell_type": "code",
      "execution_count": 19,
      "metadata": {},
      "outputs": [],
      "source": [
        "import numpy as np\n",
        "import anndata\n",
        "import os\n",
        "import sys\n",
        "import scipy\n",
        "import re\n",
        "import matplotlib.pyplot as plt\n"
      ]
    },
    {
      "cell_type": "code",
      "execution_count": 2,
      "metadata": {},
      "outputs": [],
      "source": [
        "adata = anndata.read_h5ad(\"../../../../../pipeline42/datasets/TabulaSapiens/normalized/TS_Liver.h5ad\")"
      ]
    },
    {
      "cell_type": "code",
      "execution_count": 4,
      "metadata": {},
      "outputs": [],
      "source": [
        "\n",
        "######## Global Variables ############\n",
        "\n",
        "### Gene Names\n",
        "gene_symbols = adata.var.gene_symbol\n",
        "\n",
        "\n",
        "### Num Cells\n",
        "\n",
        "\n",
        "### Cell Types\n",
        "#Larger compartments\n",
        "#cell_types = adata.obs.compartment.unique()\n",
        "cell_types = adata.obs.cell_ontology_class.unique()\n",
        "\n",
        "\n",
        "### Organism_Part\n",
        "organism_part = adata.obs.organ_tissue.unique()[0]\n",
        "\n"
      ]
    },
    {
      "cell_type": "code",
      "execution_count": 5,
      "metadata": {},
      "outputs": [],
      "source": [
        "def sum_UMIs_per_cell(adata):\n",
        "    X_counts_UMIs = [np.sum(adata[cell_index].X) for cell_index in range(adata.shape[0])]\n",
        "    return np.array(X_counts_UMIs)\n",
        "\n",
        "X_counts_UMIs = sum_UMIs_per_cell(adata)"
      ]
    },
    {
      "cell_type": "code",
      "execution_count": 25,
      "metadata": {},
      "outputs": [],
      "source": []
    },
    {
      "cell_type": "code",
      "execution_count": 24,
      "metadata": {},
      "outputs": [
        {
          "data": {
            "text/plain": [
              "Text(0, 0.5, 'count')"
            ]
          },
          "execution_count": 24,
          "metadata": {},
          "output_type": "execute_result"
        },
        {
          "data": {
            "image/png": "[encoded data removed]",
            "text/plain": [
              "<Figure size 432x288 with 1 Axes>"
            ]
          },
          "metadata": {
            "needs_background": "light"
          },
          "output_type": "display_data"
        }
      ],
      "source": [
        "plt.hist(X_counts_UMIs)\n",
        "plt.title(\"Distribution of Row Sums\")\n",
        "plt.xlabel(\"UMI Sum\")\n",
        "plt.ylabel(\"count\")"
      ]
    },
    {
      "cell_type": "code",
      "execution_count": 6,
      "metadata": {},
      "outputs": [],
      "source": [
        "adata.obs['X_counts_UMIs'] = X_counts_UMIs\n"
      ]
    },
    {
      "cell_type": "code",
      "execution_count": 9,
      "metadata": {},
      "outputs": [],
      "source": [
        "\n",
        "assert len(X_counts_UMIs) == adata.shape[0]\n",
        "assert np.sum(adata[0].X) == X_counts_UMIs[0]\n",
        "assert np.sum(adata[adata.shape[0]-1].X) == X_counts_UMIs[adata.shape[0]-1]"
      ]
    },
    {
      "cell_type": "code",
      "execution_count": 10,
      "metadata": {},
      "outputs": [],
      "source": [
        "def normalize_UMIs(adata):\n",
        "    \"\"\"\n",
        "    Requires adata.obs to contain X_counts_UMIs\n",
        "    \n",
        "    Normalize adata.X by deviding it by the indexed value of X_counts_UMIs\n",
        "\n",
        "    Adds depth_normed layer to adata and saves to disk\n",
        "\n",
        "    Adds pseudocount of +1 to both sides of division\n",
        "    \"\"\"\n",
        "    depth_normed_layer = []\n",
        "    for i, cell in enumerate(adata):\n",
        "        depth_normed_cell = (adata.X[i]) / (adata.obs.X_counts_UMIs[i])\n",
        "\n",
        "        depth_normed_layer.append(depth_normed_cell)\n",
        "\n",
        "    sparse_normed_layer = scipy.sparse.vstack(blocks = depth_normed_layer)\n",
        "    \n",
        "    adata.layers['depth_normalized'] = sparse_normed_layer\n",
        "\n",
        "    return None\n",
        "depth_normed = normalize_UMIs(adata)"
      ]
    },
    {
      "cell_type": "code",
      "execution_count": 11,
      "metadata": {},
      "outputs": [],
      "source": [
        "assert adata.layers['depth_normalized'].shape[0]>0\n",
        "assert len(adata.layers['depth_normalized'][0].toarray()[0]) == adata.shape[1]\n"
      ]
    },
    {
      "cell_type": "code",
      "execution_count": 12,
      "metadata": {},
      "outputs": [
        {
          "data": {
            "text/plain": [
              "<5007x58870 sparse matrix of type '<class 'numpy.float64'>'\n",
              "\twith 12047253 stored elements in Compressed Sparse Row format>"
            ]
          },
          "execution_count": 12,
          "metadata": {},
          "output_type": "execute_result"
        }
      ],
      "source": [
        "adata.layers['depth_normalized']"
      ]
    },
    {
      "cell_type": "code",
      "execution_count": 15,
      "metadata": {},
      "outputs": [
        {
          "data": {
            "text/plain": [
              "<5007x58870 sparse matrix of type '<class 'numpy.float32'>'\n",
              "\twith 12047253 stored elements in Compressed Sparse Row format>"
            ]
          },
          "execution_count": 15,
          "metadata": {},
          "output_type": "execute_result"
        }
      ],
      "source": [
        "adata.X"
      ]
    }
  ],
  "metadata": {
    "anaconda-cloud": {},
    "kernelspec": {
      "display_name": "PseudoPipelineEnv",
      "language": "python",
      "name": "python3"
    },
    "language_info": {
      "codemirror_mode": {
        "name": "ipython",
        "version": 3
      },
      "file_extension": ".py",
      "mimetype": "text/x-python",
      "name": "python",
      "nbconvert_exporter": "python",
      "pygments_lexer": "ipython3",
      "version": "3.9.13 | packaged by conda-forge | (main, May 27 2022, 16:58:50) \n[GCC 10.3.0]"
    },
    "vscode": {
      "interpreter": {
        "hash": "f088962022b5c5089ca0fd10bf64a529eb202e14a97c8bfe5bb517a051d5f1e8"
      }
    }
  },
  "nbformat": 4,
  "nbformat_minor": 4
}
