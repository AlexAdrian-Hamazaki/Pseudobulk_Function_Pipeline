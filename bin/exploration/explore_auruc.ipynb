{
 "cells": [
  {
   "cell_type": "code",
   "execution_count": 16,
   "metadata": {},
   "outputs": [],
   "source": [
    "import matplotlib.pyplot as plt\n",
    "import pandas as pd\n",
    "import numpy as np\n",
    "import anndata \n"
   ]
  },
  {
   "cell_type": "code",
   "execution_count": 17,
   "metadata": {},
   "outputs": [],
   "source": [
    "def describe(array):\n",
    "\n",
    "    print(f'MEAN: {np.mean(array):.5f}')\n",
    "    print(f'MEDIAN: {np.median(array):.5f}')\n",
    "    print(f'MAX: {np.max(array):.5f}')\n",
    "    print(f'MIN: {np.min(array):.5f}')\n",
    "    print(f'ST: {np.std(array):.5f}')"
   ]
  },
  {
   "attachments": {},
   "cell_type": "markdown",
   "metadata": {},
   "source": [
    "# Purpose:\n",
    "\n",
    "Investigate the AUROC for:\n",
    "\n",
    "data/EGAD/EGAD.csv\n",
    "\n",
    "data/EGAD/EGAD_sum.csv"
   ]
  },
  {
   "attachments": {},
   "cell_type": "markdown",
   "metadata": {},
   "source": [
    "## EGAD.csv"
   ]
  },
  {
   "cell_type": "code",
   "execution_count": 18,
   "metadata": {},
   "outputs": [],
   "source": [
    "EGAD = pd.read_csv('../../data/EAGD/EGAD_avg.csv', index_col=0 , header = 0)"
   ]
  },
  {
   "cell_type": "code",
   "execution_count": 19,
   "metadata": {},
   "outputs": [],
   "source": [
    "def describe(array):\n",
    "    print(f'MEAN: {np.mean(array)}')\n",
    "    print(f'MEDIAN: {np.median(array)}')\n",
    "    print(f'MAX: {np.max(array)}')\n",
    "    print(f'MIN: {np.min(array)}')\n",
    "\n",
    "def describe_no_zeros(array):\n",
    "    array = array[array!=0]\n",
    "    print(f'MEAN: {np.mean(array)}')\n",
    "    print(f'MEDIAN: {np.median(array)}')\n",
    "    print(f'MAX: {np.max(array)}')\n",
    "    print(f'MIN: {np.min(array)}')"
   ]
  },
  {
   "attachments": {},
   "cell_type": "markdown",
   "metadata": {},
   "source": [
    "### Investingating auc values"
   ]
  },
  {
   "cell_type": "code",
   "execution_count": 20,
   "metadata": {},
   "outputs": [],
   "source": [
    "auc = EGAD.loc[:,'auc']"
   ]
  },
  {
   "cell_type": "code",
   "execution_count": 21,
   "metadata": {},
   "outputs": [],
   "source": [
    "NAs = auc.loc[auc.isna()]"
   ]
  },
  {
   "cell_type": "code",
   "execution_count": 22,
   "metadata": {},
   "outputs": [
    {
     "data": {
      "text/plain": [
       "GO:0043610   NaN\n",
       "GO:0072522   NaN\n",
       "GO:0048584   NaN\n",
       "GO:0051961   NaN\n",
       "GO:0051494   NaN\n",
       "              ..\n",
       "GO:0042078   NaN\n",
       "GO:0090220   NaN\n",
       "GO:0090172   NaN\n",
       "GO:0070478   NaN\n",
       "GO:0042773   NaN\n",
       "Name: auc, Length: 71, dtype: float64"
      ]
     },
     "execution_count": 22,
     "metadata": {},
     "output_type": "execute_result"
    }
   ],
   "source": [
    "NAs"
   ]
  },
  {
   "attachments": {},
   "cell_type": "markdown",
   "metadata": {},
   "source": [
    "### There are 71 nan auc values??"
   ]
  },
  {
   "cell_type": "code",
   "execution_count": 23,
   "metadata": {},
   "outputs": [
    {
     "data": {
      "text/html": [
       "<div>\n",
       "<style scoped>\n",
       "    .dataframe tbody tr th:only-of-type {\n",
       "        vertical-align: middle;\n",
       "    }\n",
       "\n",
       "    .dataframe tbody tr th {\n",
       "        vertical-align: top;\n",
       "    }\n",
       "\n",
       "    .dataframe thead th {\n",
       "        text-align: right;\n",
       "    }\n",
       "</style>\n",
       "<table border=\"1\" class=\"dataframe\">\n",
       "  <thead>\n",
       "    <tr style=\"text-align: right;\">\n",
       "      <th></th>\n",
       "      <th>auc</th>\n",
       "      <th>avg_node_degree</th>\n",
       "      <th>degree_null_auc</th>\n",
       "    </tr>\n",
       "  </thead>\n",
       "  <tbody>\n",
       "    <tr>\n",
       "      <th>GO:0043610</th>\n",
       "      <td>NaN</td>\n",
       "      <td>NaN</td>\n",
       "      <td>NaN</td>\n",
       "    </tr>\n",
       "    <tr>\n",
       "      <th>GO:0072522</th>\n",
       "      <td>NaN</td>\n",
       "      <td>NaN</td>\n",
       "      <td>NaN</td>\n",
       "    </tr>\n",
       "    <tr>\n",
       "      <th>GO:0048584</th>\n",
       "      <td>NaN</td>\n",
       "      <td>NaN</td>\n",
       "      <td>NaN</td>\n",
       "    </tr>\n",
       "    <tr>\n",
       "      <th>GO:0051961</th>\n",
       "      <td>NaN</td>\n",
       "      <td>NaN</td>\n",
       "      <td>NaN</td>\n",
       "    </tr>\n",
       "    <tr>\n",
       "      <th>GO:0051494</th>\n",
       "      <td>NaN</td>\n",
       "      <td>NaN</td>\n",
       "      <td>NaN</td>\n",
       "    </tr>\n",
       "    <tr>\n",
       "      <th>...</th>\n",
       "      <td>...</td>\n",
       "      <td>...</td>\n",
       "      <td>...</td>\n",
       "    </tr>\n",
       "    <tr>\n",
       "      <th>GO:0042078</th>\n",
       "      <td>NaN</td>\n",
       "      <td>NaN</td>\n",
       "      <td>NaN</td>\n",
       "    </tr>\n",
       "    <tr>\n",
       "      <th>GO:0090220</th>\n",
       "      <td>NaN</td>\n",
       "      <td>NaN</td>\n",
       "      <td>NaN</td>\n",
       "    </tr>\n",
       "    <tr>\n",
       "      <th>GO:0090172</th>\n",
       "      <td>NaN</td>\n",
       "      <td>NaN</td>\n",
       "      <td>NaN</td>\n",
       "    </tr>\n",
       "    <tr>\n",
       "      <th>GO:0070478</th>\n",
       "      <td>NaN</td>\n",
       "      <td>NaN</td>\n",
       "      <td>NaN</td>\n",
       "    </tr>\n",
       "    <tr>\n",
       "      <th>GO:0042773</th>\n",
       "      <td>NaN</td>\n",
       "      <td>NaN</td>\n",
       "      <td>NaN</td>\n",
       "    </tr>\n",
       "  </tbody>\n",
       "</table>\n",
       "<p>71 rows × 3 columns</p>\n",
       "</div>"
      ],
      "text/plain": [
       "            auc  avg_node_degree  degree_null_auc\n",
       "GO:0043610  NaN              NaN              NaN\n",
       "GO:0072522  NaN              NaN              NaN\n",
       "GO:0048584  NaN              NaN              NaN\n",
       "GO:0051961  NaN              NaN              NaN\n",
       "GO:0051494  NaN              NaN              NaN\n",
       "...         ...              ...              ...\n",
       "GO:0042078  NaN              NaN              NaN\n",
       "GO:0090220  NaN              NaN              NaN\n",
       "GO:0090172  NaN              NaN              NaN\n",
       "GO:0070478  NaN              NaN              NaN\n",
       "GO:0042773  NaN              NaN              NaN\n",
       "\n",
       "[71 rows x 3 columns]"
      ]
     },
     "execution_count": 23,
     "metadata": {},
     "output_type": "execute_result"
    }
   ],
   "source": [
    "EGAD.loc[NAs.index]"
   ]
  },
  {
   "attachments": {},
   "cell_type": "markdown",
   "metadata": {},
   "source": [
    "# Plotting AUCs"
   ]
  },
  {
   "cell_type": "code",
   "execution_count": 24,
   "metadata": {},
   "outputs": [
    {
     "data": {
      "text/plain": [
       "Text(0, 0.5, 'Number of GO Terms in bins')"
      ]
     },
     "execution_count": 24,
     "metadata": {},
     "output_type": "execute_result"
    },
    {
     "data": {
      "image/png": "[encoded data removed]",
      "text/plain": [
       "<Figure size 432x288 with 1 Axes>"
      ]
     },
     "metadata": {
      "needs_background": "light"
     },
     "output_type": "display_data"
    }
   ],
   "source": [
    "plt.hist(auc)\n",
    "plt.title(\"Distribution of AUCs for Avg_PseudoBulk\")\n",
    "plt.xlabel('AUROC For GO Terms')\n",
    "plt.ylabel('Number of GO Terms in bins')"
   ]
  },
  {
   "attachments": {},
   "cell_type": "markdown",
   "metadata": {},
   "source": [
    "# Investigating high AUCs"
   ]
  },
  {
   "cell_type": "code",
   "execution_count": 25,
   "metadata": {},
   "outputs": [],
   "source": [
    "High = EGAD.loc[EGAD.loc[:,'auc'] > 0.8]\n"
   ]
  },
  {
   "cell_type": "code",
   "execution_count": 26,
   "metadata": {},
   "outputs": [
    {
     "data": {
      "text/plain": [
       "Index(['auc', 'avg_node_degree', 'degree_null_auc'], dtype='object')"
      ]
     },
     "execution_count": 26,
     "metadata": {},
     "output_type": "execute_result"
    }
   ],
   "source": [
    "High.columns"
   ]
  },
  {
   "cell_type": "code",
   "execution_count": 27,
   "metadata": {},
   "outputs": [
    {
     "data": {
      "text/html": [
       "<div>\n",
       "<style scoped>\n",
       "    .dataframe tbody tr th:only-of-type {\n",
       "        vertical-align: middle;\n",
       "    }\n",
       "\n",
       "    .dataframe tbody tr th {\n",
       "        vertical-align: top;\n",
       "    }\n",
       "\n",
       "    .dataframe thead th {\n",
       "        text-align: right;\n",
       "    }\n",
       "</style>\n",
       "<table border=\"1\" class=\"dataframe\">\n",
       "  <thead>\n",
       "    <tr style=\"text-align: right;\">\n",
       "      <th></th>\n",
       "      <th>auc</th>\n",
       "      <th>avg_node_degree</th>\n",
       "      <th>degree_null_auc</th>\n",
       "    </tr>\n",
       "  </thead>\n",
       "  <tbody>\n",
       "    <tr>\n",
       "      <th>GO:0070476</th>\n",
       "      <td>0.997992</td>\n",
       "      <td>1.521736</td>\n",
       "      <td>0.009455</td>\n",
       "    </tr>\n",
       "    <tr>\n",
       "      <th>GO:0030573</th>\n",
       "      <td>0.996838</td>\n",
       "      <td>9.090693</td>\n",
       "      <td>0.044741</td>\n",
       "    </tr>\n",
       "    <tr>\n",
       "      <th>GO:0060621</th>\n",
       "      <td>0.996600</td>\n",
       "      <td>-4.832343</td>\n",
       "      <td>0.047605</td>\n",
       "    </tr>\n",
       "    <tr>\n",
       "      <th>GO:0008315</th>\n",
       "      <td>0.995466</td>\n",
       "      <td>-2.246772</td>\n",
       "      <td>0.050468</td>\n",
       "    </tr>\n",
       "    <tr>\n",
       "      <th>GO:0055090</th>\n",
       "      <td>0.995188</td>\n",
       "      <td>17.480989</td>\n",
       "      <td>0.083130</td>\n",
       "    </tr>\n",
       "    <tr>\n",
       "      <th>...</th>\n",
       "      <td>...</td>\n",
       "      <td>...</td>\n",
       "      <td>...</td>\n",
       "    </tr>\n",
       "    <tr>\n",
       "      <th>GO:0060333</th>\n",
       "      <td>0.800230</td>\n",
       "      <td>2.659137</td>\n",
       "      <td>0.384976</td>\n",
       "    </tr>\n",
       "    <tr>\n",
       "      <th>GO:0002431</th>\n",
       "      <td>0.800155</td>\n",
       "      <td>-325.874269</td>\n",
       "      <td>0.890652</td>\n",
       "    </tr>\n",
       "    <tr>\n",
       "      <th>GO:0035791</th>\n",
       "      <td>0.800139</td>\n",
       "      <td>150.458441</td>\n",
       "      <td>0.714773</td>\n",
       "    </tr>\n",
       "    <tr>\n",
       "      <th>GO:0060025</th>\n",
       "      <td>0.800084</td>\n",
       "      <td>68.318998</td>\n",
       "      <td>0.276578</td>\n",
       "    </tr>\n",
       "    <tr>\n",
       "      <th>GO:0033182</th>\n",
       "      <td>0.800036</td>\n",
       "      <td>162.868755</td>\n",
       "      <td>0.612301</td>\n",
       "    </tr>\n",
       "  </tbody>\n",
       "</table>\n",
       "<p>1022 rows × 3 columns</p>\n",
       "</div>"
      ],
      "text/plain": [
       "                 auc  avg_node_degree  degree_null_auc\n",
       "GO:0070476  0.997992         1.521736         0.009455\n",
       "GO:0030573  0.996838         9.090693         0.044741\n",
       "GO:0060621  0.996600        -4.832343         0.047605\n",
       "GO:0008315  0.995466        -2.246772         0.050468\n",
       "GO:0055090  0.995188        17.480989         0.083130\n",
       "...              ...              ...              ...\n",
       "GO:0060333  0.800230         2.659137         0.384976\n",
       "GO:0002431  0.800155      -325.874269         0.890652\n",
       "GO:0035791  0.800139       150.458441         0.714773\n",
       "GO:0060025  0.800084        68.318998         0.276578\n",
       "GO:0033182  0.800036       162.868755         0.612301\n",
       "\n",
       "[1022 rows x 3 columns]"
      ]
     },
     "execution_count": 27,
     "metadata": {},
     "output_type": "execute_result"
    }
   ],
   "source": [
    "High.sort_values(by = 'auc', axis = 0, ascending=False)"
   ]
  },
  {
   "cell_type": "code",
   "execution_count": 28,
   "metadata": {},
   "outputs": [
    {
     "data": {
      "text/html": [
       "<div>\n",
       "<style scoped>\n",
       "    .dataframe tbody tr th:only-of-type {\n",
       "        vertical-align: middle;\n",
       "    }\n",
       "\n",
       "    .dataframe tbody tr th {\n",
       "        vertical-align: top;\n",
       "    }\n",
       "\n",
       "    .dataframe thead th {\n",
       "        text-align: right;\n",
       "    }\n",
       "</style>\n",
       "<table border=\"1\" class=\"dataframe\">\n",
       "  <thead>\n",
       "    <tr style=\"text-align: right;\">\n",
       "      <th></th>\n",
       "      <th>auc</th>\n",
       "      <th>avg_node_degree</th>\n",
       "      <th>degree_null_auc</th>\n",
       "    </tr>\n",
       "  </thead>\n",
       "  <tbody>\n",
       "    <tr>\n",
       "      <th>GO:0045143</th>\n",
       "      <td>0.817630</td>\n",
       "      <td>-75.182360</td>\n",
       "      <td>0.336446</td>\n",
       "    </tr>\n",
       "    <tr>\n",
       "      <th>GO:0042178</th>\n",
       "      <td>0.806082</td>\n",
       "      <td>46.251145</td>\n",
       "      <td>0.331943</td>\n",
       "    </tr>\n",
       "    <tr>\n",
       "      <th>GO:0050911</th>\n",
       "      <td>0.821821</td>\n",
       "      <td>-17.499809</td>\n",
       "      <td>0.269663</td>\n",
       "    </tr>\n",
       "    <tr>\n",
       "      <th>GO:0031424</th>\n",
       "      <td>0.830815</td>\n",
       "      <td>-4.573750</td>\n",
       "      <td>0.257772</td>\n",
       "    </tr>\n",
       "    <tr>\n",
       "      <th>GO:0061966</th>\n",
       "      <td>0.986197</td>\n",
       "      <td>23.023765</td>\n",
       "      <td>0.279511</td>\n",
       "    </tr>\n",
       "    <tr>\n",
       "      <th>...</th>\n",
       "      <td>...</td>\n",
       "      <td>...</td>\n",
       "      <td>...</td>\n",
       "    </tr>\n",
       "    <tr>\n",
       "      <th>GO:0110032</th>\n",
       "      <td>0.860140</td>\n",
       "      <td>168.505082</td>\n",
       "      <td>0.583960</td>\n",
       "    </tr>\n",
       "    <tr>\n",
       "      <th>GO:0010142</th>\n",
       "      <td>0.890413</td>\n",
       "      <td>71.981563</td>\n",
       "      <td>0.298276</td>\n",
       "    </tr>\n",
       "    <tr>\n",
       "      <th>GO:0010312</th>\n",
       "      <td>0.949214</td>\n",
       "      <td>18.124995</td>\n",
       "      <td>0.123218</td>\n",
       "    </tr>\n",
       "    <tr>\n",
       "      <th>GO:0002397</th>\n",
       "      <td>0.957347</td>\n",
       "      <td>-29.951724</td>\n",
       "      <td>0.139325</td>\n",
       "    </tr>\n",
       "    <tr>\n",
       "      <th>GO:0045004</th>\n",
       "      <td>0.896816</td>\n",
       "      <td>171.636804</td>\n",
       "      <td>0.631510</td>\n",
       "    </tr>\n",
       "  </tbody>\n",
       "</table>\n",
       "<p>1022 rows × 3 columns</p>\n",
       "</div>"
      ],
      "text/plain": [
       "                 auc  avg_node_degree  degree_null_auc\n",
       "GO:0045143  0.817630       -75.182360         0.336446\n",
       "GO:0042178  0.806082        46.251145         0.331943\n",
       "GO:0050911  0.821821       -17.499809         0.269663\n",
       "GO:0031424  0.830815        -4.573750         0.257772\n",
       "GO:0061966  0.986197        23.023765         0.279511\n",
       "...              ...              ...              ...\n",
       "GO:0110032  0.860140       168.505082         0.583960\n",
       "GO:0010142  0.890413        71.981563         0.298276\n",
       "GO:0010312  0.949214        18.124995         0.123218\n",
       "GO:0002397  0.957347       -29.951724         0.139325\n",
       "GO:0045004  0.896816       171.636804         0.631510\n",
       "\n",
       "[1022 rows x 3 columns]"
      ]
     },
     "execution_count": 28,
     "metadata": {},
     "output_type": "execute_result"
    }
   ],
   "source": [
    "High"
   ]
  },
  {
   "cell_type": "code",
   "execution_count": null,
   "metadata": {},
   "outputs": [],
   "source": []
  },
  {
   "attachments": {},
   "cell_type": "markdown",
   "metadata": {},
   "source": [
    "# sum_EGAD.csv"
   ]
  },
  {
   "cell_type": "code",
   "execution_count": 30,
   "metadata": {},
   "outputs": [],
   "source": [
    "sum_EGAD = pd.read_csv('../../data/EAGD/EGAD_sum.csv', index_col=0 , header = 0)"
   ]
  },
  {
   "cell_type": "code",
   "execution_count": 31,
   "metadata": {},
   "outputs": [],
   "source": [
    "sum_auc = sum_EGAD.loc[:,'auc']"
   ]
  },
  {
   "cell_type": "code",
   "execution_count": 32,
   "metadata": {},
   "outputs": [],
   "source": [
    "sum_NAs = sum_auc.loc[sum_auc.isna()]"
   ]
  },
  {
   "cell_type": "code",
   "execution_count": 33,
   "metadata": {},
   "outputs": [
    {
     "data": {
      "text/plain": [
       "GO:0043610   NaN\n",
       "GO:0072522   NaN\n",
       "GO:0048584   NaN\n",
       "GO:0051961   NaN\n",
       "GO:0051494   NaN\n",
       "              ..\n",
       "GO:0042078   NaN\n",
       "GO:0090220   NaN\n",
       "GO:0090172   NaN\n",
       "GO:0070478   NaN\n",
       "GO:0042773   NaN\n",
       "Name: auc, Length: 71, dtype: float64"
      ]
     },
     "execution_count": 33,
     "metadata": {},
     "output_type": "execute_result"
    }
   ],
   "source": [
    "sum_NAs"
   ]
  },
  {
   "attachments": {},
   "cell_type": "markdown",
   "metadata": {},
   "source": [
    "### Plotting sum_auc"
   ]
  },
  {
   "cell_type": "code",
   "execution_count": 34,
   "metadata": {},
   "outputs": [
    {
     "data": {
      "text/plain": [
       "Text(0, 0.5, 'Number of GO Terms in bins')"
      ]
     },
     "execution_count": 34,
     "metadata": {},
     "output_type": "execute_result"
    },
    {
     "data": {
      "image/png": "[encoded data removed]",
      "text/plain": [
       "<Figure size 432x288 with 1 Axes>"
      ]
     },
     "metadata": {
      "needs_background": "light"
     },
     "output_type": "display_data"
    }
   ],
   "source": [
    "plt.hist(sum_auc)\n",
    "plt.title(\"Distribution of AUCs for Sum_Pseudobulk\")\n",
    "plt.xlabel('AUROC For GO Terms')\n",
    "plt.ylabel('Number of GO Terms in bins')"
   ]
  },
  {
   "attachments": {},
   "cell_type": "markdown",
   "metadata": {},
   "source": [
    "# Bulk Expression"
   ]
  },
  {
   "cell_type": "code",
   "execution_count": 37,
   "metadata": {},
   "outputs": [],
   "source": [
    "bulk_EGAD = pd.read_csv('../../data/EAGD/EGAD_bulk.csv', index_col=0 , header = 0)"
   ]
  },
  {
   "cell_type": "code",
   "execution_count": 38,
   "metadata": {},
   "outputs": [
    {
     "data": {
      "text/html": [
       "<div>\n",
       "<style scoped>\n",
       "    .dataframe tbody tr th:only-of-type {\n",
       "        vertical-align: middle;\n",
       "    }\n",
       "\n",
       "    .dataframe tbody tr th {\n",
       "        vertical-align: top;\n",
       "    }\n",
       "\n",
       "    .dataframe thead th {\n",
       "        text-align: right;\n",
       "    }\n",
       "</style>\n",
       "<table border=\"1\" class=\"dataframe\">\n",
       "  <thead>\n",
       "    <tr style=\"text-align: right;\">\n",
       "      <th></th>\n",
       "      <th>auc</th>\n",
       "      <th>avg_node_degree</th>\n",
       "      <th>degree_null_auc</th>\n",
       "    </tr>\n",
       "  </thead>\n",
       "  <tbody>\n",
       "    <tr>\n",
       "      <th>GO:0002250</th>\n",
       "      <td>0.799935</td>\n",
       "      <td>494.519817</td>\n",
       "      <td>0.238547</td>\n",
       "    </tr>\n",
       "    <tr>\n",
       "      <th>GO:0045087</th>\n",
       "      <td>0.670182</td>\n",
       "      <td>893.203658</td>\n",
       "      <td>0.379591</td>\n",
       "    </tr>\n",
       "    <tr>\n",
       "      <th>GO:0071918</th>\n",
       "      <td>0.823148</td>\n",
       "      <td>76.504642</td>\n",
       "      <td>0.144572</td>\n",
       "    </tr>\n",
       "    <tr>\n",
       "      <th>GO:0006955</th>\n",
       "      <td>0.754855</td>\n",
       "      <td>536.131997</td>\n",
       "      <td>0.249467</td>\n",
       "    </tr>\n",
       "    <tr>\n",
       "      <th>GO:0050830</th>\n",
       "      <td>0.721034</td>\n",
       "      <td>501.303302</td>\n",
       "      <td>0.290244</td>\n",
       "    </tr>\n",
       "    <tr>\n",
       "      <th>...</th>\n",
       "      <td>...</td>\n",
       "      <td>...</td>\n",
       "      <td>...</td>\n",
       "    </tr>\n",
       "    <tr>\n",
       "      <th>GO:1902983</th>\n",
       "      <td>NaN</td>\n",
       "      <td>NaN</td>\n",
       "      <td>NaN</td>\n",
       "    </tr>\n",
       "    <tr>\n",
       "      <th>GO:0033316</th>\n",
       "      <td>0.500000</td>\n",
       "      <td>1424.382744</td>\n",
       "      <td>0.466725</td>\n",
       "    </tr>\n",
       "    <tr>\n",
       "      <th>GO:0031445</th>\n",
       "      <td>NaN</td>\n",
       "      <td>NaN</td>\n",
       "      <td>NaN</td>\n",
       "    </tr>\n",
       "    <tr>\n",
       "      <th>GO:0031282</th>\n",
       "      <td>0.500000</td>\n",
       "      <td>2858.328857</td>\n",
       "      <td>0.909190</td>\n",
       "    </tr>\n",
       "    <tr>\n",
       "      <th>GO:0009396</th>\n",
       "      <td>NaN</td>\n",
       "      <td>NaN</td>\n",
       "      <td>NaN</td>\n",
       "    </tr>\n",
       "  </tbody>\n",
       "</table>\n",
       "<p>12535 rows × 3 columns</p>\n",
       "</div>"
      ],
      "text/plain": [
       "                 auc  avg_node_degree  degree_null_auc\n",
       "GO:0002250  0.799935       494.519817         0.238547\n",
       "GO:0045087  0.670182       893.203658         0.379591\n",
       "GO:0071918  0.823148        76.504642         0.144572\n",
       "GO:0006955  0.754855       536.131997         0.249467\n",
       "GO:0050830  0.721034       501.303302         0.290244\n",
       "...              ...              ...              ...\n",
       "GO:1902983       NaN              NaN              NaN\n",
       "GO:0033316  0.500000      1424.382744         0.466725\n",
       "GO:0031445       NaN              NaN              NaN\n",
       "GO:0031282  0.500000      2858.328857         0.909190\n",
       "GO:0009396       NaN              NaN              NaN\n",
       "\n",
       "[12535 rows x 3 columns]"
      ]
     },
     "execution_count": 38,
     "metadata": {},
     "output_type": "execute_result"
    }
   ],
   "source": [
    "bulk_EGAD"
   ]
  },
  {
   "cell_type": "code",
   "execution_count": 39,
   "metadata": {},
   "outputs": [],
   "source": [
    "bulk_auc = bulk_EGAD.loc[:,'auc']"
   ]
  },
  {
   "cell_type": "code",
   "execution_count": 40,
   "metadata": {},
   "outputs": [
    {
     "data": {
      "text/plain": [
       "GO:0043610   NaN\n",
       "GO:0072522   NaN\n",
       "GO:0048584   NaN\n",
       "GO:0051961   NaN\n",
       "GO:0051494   NaN\n",
       "              ..\n",
       "GO:0042078   NaN\n",
       "GO:0090220   NaN\n",
       "GO:0090172   NaN\n",
       "GO:0070478   NaN\n",
       "GO:0042773   NaN\n",
       "Name: auc, Length: 71, dtype: float64"
      ]
     },
     "execution_count": 40,
     "metadata": {},
     "output_type": "execute_result"
    }
   ],
   "source": [
    "NAs = auc.loc[auc.isna()]\n",
    "NAs"
   ]
  },
  {
   "attachments": {},
   "cell_type": "markdown",
   "metadata": {},
   "source": [
    "### 71 nan aucs again"
   ]
  },
  {
   "cell_type": "code",
   "execution_count": null,
   "metadata": {},
   "outputs": [],
   "source": []
  },
  {
   "attachments": {},
   "cell_type": "markdown",
   "metadata": {},
   "source": [
    "# Plotting bulk aucs"
   ]
  },
  {
   "cell_type": "code",
   "execution_count": 41,
   "metadata": {},
   "outputs": [
    {
     "data": {
      "text/plain": [
       "Text(0, 0.5, 'Number of GO Terms in bins')"
      ]
     },
     "execution_count": 41,
     "metadata": {},
     "output_type": "execute_result"
    },
    {
     "data": {
      "image/png": "[encoded data removed]",
      "text/plain": [
       "<Figure size 432x288 with 1 Axes>"
      ]
     },
     "metadata": {
      "needs_background": "light"
     },
     "output_type": "display_data"
    }
   ],
   "source": [
    "plt.hist(bulk_auc)\n",
    "plt.title(\"Distribution of AUCs for Bulk\")\n",
    "plt.xlabel('AUROC For GO Terms')\n",
    "plt.ylabel('Number of GO Terms in bins')"
   ]
  },
  {
   "attachments": {},
   "cell_type": "markdown",
   "metadata": {},
   "source": [
    "# PC EGAD Exploration"
   ]
  },
  {
   "cell_type": "code",
   "execution_count": 42,
   "metadata": {},
   "outputs": [],
   "source": [
    "bulk_pc = pd.read_csv(\"../../data/EAGD/EGAD_bulk_pc.csv\")\n",
    "sum_pc = pd.read_csv(\"../../data/EAGD/EGAD_sum_pc.csv\")\n",
    "avg_pc = pd.read_csv(\"../../data/EAGD/EGAD_avg_pc.csv\")"
   ]
  },
  {
   "attachments": {},
   "cell_type": "markdown",
   "metadata": {},
   "source": [
    "### Bulk and Sum\n"
   ]
  },
  {
   "cell_type": "code",
   "execution_count": 43,
   "metadata": {},
   "outputs": [
    {
     "data": {
      "text/plain": [
       "0.35"
      ]
     },
     "execution_count": 43,
     "metadata": {},
     "output_type": "execute_result"
    }
   ],
   "source": [
    "# Bulk and Sum\n",
    "round(bulk_pc.loc[:,\"auc\"].corr(sum_pc.loc[:,\"auc\"]),2)\n"
   ]
  },
  {
   "cell_type": "code",
   "execution_count": 44,
   "metadata": {},
   "outputs": [
    {
     "name": "stdout",
     "output_type": "stream",
     "text": [
      "MEAN: 0.6109585263751964\n",
      "MEDIAN: nan\n",
      "MAX: 0.936849574266793\n",
      "MIN: 0.235442538931599\n"
     ]
    }
   ],
   "source": [
    "describe(bulk_pc.loc[:,'auc'])"
   ]
  },
  {
   "cell_type": "code",
   "execution_count": 45,
   "metadata": {},
   "outputs": [
    {
     "data": {
      "text/plain": [
       "Text(0.5, 1.0, 'Correlation Between Sum and Bulk EGAD AUCs')"
      ]
     },
     "execution_count": 45,
     "metadata": {},
     "output_type": "execute_result"
    },
    {
     "data": {
      "image/png": "[encoded data removed]",
      "text/plain": [
       "<Figure size 432x288 with 1 Axes>"
      ]
     },
     "metadata": {
      "needs_background": "light"
     },
     "output_type": "display_data"
    }
   ],
   "source": [
    "plt.scatter(bulk_pc.loc[:,\"auc\"],sum_pc.loc[:,\"auc\"])\n",
    "plt.ylabel(\"Sum EGAD AUCs\")\n",
    "plt.xlabel(\"Bulk EGAD AUCs\")\n",
    "plt.title(\"Correlation Between Sum and Bulk EGAD AUCs\")"
   ]
  },
  {
   "attachments": {},
   "cell_type": "markdown",
   "metadata": {},
   "source": [
    "### Bulk and Avg"
   ]
  },
  {
   "cell_type": "code",
   "execution_count": 46,
   "metadata": {},
   "outputs": [
    {
     "data": {
      "text/plain": [
       "0.47"
      ]
     },
     "execution_count": 46,
     "metadata": {},
     "output_type": "execute_result"
    }
   ],
   "source": [
    "# bulk and avg\n",
    "round(bulk_pc.loc[:,\"auc\"].corr(avg_pc.loc[:,\"auc\"]),2)"
   ]
  },
  {
   "cell_type": "code",
   "execution_count": 47,
   "metadata": {},
   "outputs": [
    {
     "data": {
      "text/plain": [
       "Text(0.5, 1.0, 'Correlation Between AVG and BULK EGAD AUCs')"
      ]
     },
     "execution_count": 47,
     "metadata": {},
     "output_type": "execute_result"
    },
    {
     "data": {
      "image/png": "[encoded data removed]",
      "text/plain": [
       "<Figure size 432x288 with 1 Axes>"
      ]
     },
     "metadata": {
      "needs_background": "light"
     },
     "output_type": "display_data"
    }
   ],
   "source": [
    "plt.scatter(bulk_pc.loc[:,\"auc\"],avg_pc.loc[:,\"auc\"])\n",
    "plt.ylabel(\"AVG EGAD AUCs\")\n",
    "plt.xlabel(\"Bulk EGAD AUCs\")\n",
    "plt.title(\"Correlation Between AVG and BULK EGAD AUCs\")"
   ]
  },
  {
   "attachments": {},
   "cell_type": "markdown",
   "metadata": {},
   "source": [
    "### Sum and Avg"
   ]
  },
  {
   "cell_type": "code",
   "execution_count": 48,
   "metadata": {},
   "outputs": [
    {
     "data": {
      "text/plain": [
       "0.52"
      ]
     },
     "execution_count": 48,
     "metadata": {},
     "output_type": "execute_result"
    }
   ],
   "source": [
    "round(sum_pc.loc[:,\"auc\"].corr(avg_pc.loc[:,\"auc\"]),2)"
   ]
  },
  {
   "cell_type": "code",
   "execution_count": 49,
   "metadata": {},
   "outputs": [
    {
     "data": {
      "text/plain": [
       "Text(0.5, 1.0, 'Correlation Between Avg and Sum EGAD AUCs')"
      ]
     },
     "execution_count": 49,
     "metadata": {},
     "output_type": "execute_result"
    },
    {
     "data": {
      "image/png": "[encoded data removed]",
      "text/plain": [
       "<Figure size 432x288 with 1 Axes>"
      ]
     },
     "metadata": {
      "needs_background": "light"
     },
     "output_type": "display_data"
    }
   ],
   "source": [
    "plt.scatter(sum_pc.loc[:,\"auc\"],avg_pc.loc[:,\"auc\"])\n",
    "plt.ylabel(\"AVG EGAD AUCs\")\n",
    "plt.xlabel(\"Sum EGAD AUCs\")\n",
    "plt.title(\"Correlation Between Avg and Sum EGAD AUCs\")"
   ]
  },
  {
   "attachments": {},
   "cell_type": "markdown",
   "metadata": {},
   "source": [
    "# Investingating AURUC With Equal OP groups"
   ]
  },
  {
   "cell_type": "code",
   "execution_count": 50,
   "metadata": {},
   "outputs": [],
   "source": [
    "bulk_pc = pd.read_csv(\"../../data/EAGD/EGAD_bulk_pc_OPfiltered.csv\")\n",
    "sum_pc = pd.read_csv(\"../../data/EAGD/EGAD_sum_pc_OPfiltered.csv\")"
   ]
  },
  {
   "cell_type": "code",
   "execution_count": 51,
   "metadata": {},
   "outputs": [
    {
     "data": {
      "text/plain": [
       "0.4"
      ]
     },
     "execution_count": 51,
     "metadata": {},
     "output_type": "execute_result"
    }
   ],
   "source": [
    "### Bulk and Sum\n",
    "round(bulk_pc.loc[:,\"auc\"].corr(sum_pc.loc[:,\"auc\"]),2)\n"
   ]
  },
  {
   "cell_type": "code",
   "execution_count": 52,
   "metadata": {},
   "outputs": [
    {
     "data": {
      "text/plain": [
       "Text(0.5, 1.0, 'Sum and Bulk EGAD AUCs with Equal OPs')"
      ]
     },
     "execution_count": 52,
     "metadata": {},
     "output_type": "execute_result"
    },
    {
     "data": {
      "image/png": "[encoded data removed]",
      "text/plain": [
       "<Figure size 432x288 with 1 Axes>"
      ]
     },
     "metadata": {
      "needs_background": "light"
     },
     "output_type": "display_data"
    }
   ],
   "source": [
    "plt.scatter(bulk_pc.loc[:,\"auc\"],sum_pc.loc[:,\"auc\"])\n",
    "plt.ylabel(\"Sum EGAD AUCs\")\n",
    "plt.xlabel(\"Bulk EGAD AUCs\")\n",
    "plt.title(\"Sum and Bulk EGAD AUCs with Equal OPs\")"
   ]
  },
  {
   "cell_type": "code",
   "execution_count": 56,
   "metadata": {},
   "outputs": [
    {
     "name": "stdout",
     "output_type": "stream",
     "text": [
      "MEAN: 0.5762630966239813\n",
      "MEDIAN: nan\n",
      "MAX: 0.96\n",
      "MIN: 0.13\n"
     ]
    }
   ],
   "source": [
    "describe(bulk_pc.loc[:,'auc'].round(2))"
   ]
  },
  {
   "cell_type": "code",
   "execution_count": 57,
   "metadata": {},
   "outputs": [
    {
     "name": "stdout",
     "output_type": "stream",
     "text": [
      "MEAN: 0.6688953488372092\n",
      "MEDIAN: 0.67\n",
      "MAX: 0.97\n",
      "MIN: 0.35\n"
     ]
    }
   ],
   "source": [
    "describe(sum_pc.loc[:,'auc'].round(2))"
   ]
  },
  {
   "cell_type": "code",
   "execution_count": null,
   "metadata": {},
   "outputs": [],
   "source": []
  }
 ],
 "metadata": {
  "kernelspec": {
   "display_name": "PseudoPipelineEnv",
   "language": "python",
   "name": "python3"
  },
  "language_info": {
   "codemirror_mode": {
    "name": "ipython",
    "version": 3
   },
   "file_extension": ".py",
   "mimetype": "text/x-python",
   "name": "python",
   "nbconvert_exporter": "python",
   "pygments_lexer": "ipython3",
   "version": "3.9.13"
  },
  "orig_nbformat": 4,
  "vscode": {
   "interpreter": {
    "hash": "f088962022b5c5089ca0fd10bf64a529eb202e14a97c8bfe5bb517a051d5f1e8"
   }
  }
 },
 "nbformat": 4,
 "nbformat_minor": 2
}
