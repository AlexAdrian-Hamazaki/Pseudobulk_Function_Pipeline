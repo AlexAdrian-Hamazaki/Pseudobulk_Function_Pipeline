{
 "cells": [
  {
   "attachments": {},
   "cell_type": "markdown",
   "metadata": {},
   "source": [
    "# Purpose: filter for only protein coding genes and save to csv."
   ]
  },
  {
   "cell_type": "code",
   "execution_count": 19,
   "metadata": {},
   "outputs": [],
   "source": [
    "import pandas as pd\n",
    "import numpy as np\n",
    "import anndata\n"
   ]
  },
  {
   "cell_type": "code",
   "execution_count": 20,
   "metadata": {},
   "outputs": [],
   "source": [
    "def filter_for_pc_genes(expression, pc_genes):\n",
    "    return expression.iloc[:, np.isin(expression.columns, pc_genes)]"
   ]
  },
  {
   "attachments": {},
   "cell_type": "markdown",
   "metadata": {},
   "source": [
    "# Load Dataframe of PC genes (made from identify_pc_genes.ipynb)"
   ]
  },
  {
   "cell_type": "code",
   "execution_count": 21,
   "metadata": {},
   "outputs": [],
   "source": [
    "pc_genes = pd.read_csv('../../data/pc_genes/uniprot-compressed_true_download_true_fields_accession_2Creviewed_2C-2023.01.13-21.17.12.15.tsv.gz', sep = \"\\t\")"
   ]
  },
  {
   "cell_type": "code",
   "execution_count": 22,
   "metadata": {},
   "outputs": [],
   "source": [
    "pc_genes_map = pd.read_csv('../../data/pc_genes/uniprot-compressed_ENSEMBLE.tsv.gz', sep = \"\\t\")"
   ]
  },
  {
   "cell_type": "code",
   "execution_count": 23,
   "metadata": {},
   "outputs": [],
   "source": [
    "pc_genes = pc_genes[pc_genes.loc[:,\"Organism\"] == \"Homo sapiens (Human)\"]"
   ]
  },
  {
   "cell_type": "code",
   "execution_count": 24,
   "metadata": {},
   "outputs": [],
   "source": [
    "pc_genes_confident = pc_genes[pc_genes.loc[:,\"Protein existence\"] == \"Evidence at protein level\"]"
   ]
  },
  {
   "cell_type": "code",
   "execution_count": 25,
   "metadata": {},
   "outputs": [
    {
     "data": {
      "text/html": [
       "<div>\n",
       "<style scoped>\n",
       "    .dataframe tbody tr th:only-of-type {\n",
       "        vertical-align: middle;\n",
       "    }\n",
       "\n",
       "    .dataframe tbody tr th {\n",
       "        vertical-align: top;\n",
       "    }\n",
       "\n",
       "    .dataframe thead th {\n",
       "        text-align: right;\n",
       "    }\n",
       "</style>\n",
       "<table border=\"1\" class=\"dataframe\">\n",
       "  <thead>\n",
       "    <tr style=\"text-align: right;\">\n",
       "      <th></th>\n",
       "      <th>Entry</th>\n",
       "      <th>Reviewed</th>\n",
       "      <th>Entry Name</th>\n",
       "      <th>Protein names</th>\n",
       "      <th>Gene Names</th>\n",
       "      <th>Organism</th>\n",
       "      <th>Length</th>\n",
       "      <th>Protein existence</th>\n",
       "    </tr>\n",
       "  </thead>\n",
       "  <tbody>\n",
       "    <tr>\n",
       "      <th>31</th>\n",
       "      <td>A0A087X1C5</td>\n",
       "      <td>reviewed</td>\n",
       "      <td>CP2D7_HUMAN</td>\n",
       "      <td>Putative cytochrome P450 2D7 (EC 1.14.14.1)</td>\n",
       "      <td>CYP2D7</td>\n",
       "      <td>Homo sapiens (Human)</td>\n",
       "      <td>515</td>\n",
       "      <td>Uncertain</td>\n",
       "    </tr>\n",
       "    <tr>\n",
       "      <th>58</th>\n",
       "      <td>A0A0B4J2F0</td>\n",
       "      <td>reviewed</td>\n",
       "      <td>PIOS1_HUMAN</td>\n",
       "      <td>Protein PIGBOS1 (PIGB opposite strand protein 1)</td>\n",
       "      <td>PIGBOS1</td>\n",
       "      <td>Homo sapiens (Human)</td>\n",
       "      <td>54</td>\n",
       "      <td>Evidence at protein level</td>\n",
       "    </tr>\n",
       "    <tr>\n",
       "      <th>59</th>\n",
       "      <td>A0A0B4J2F2</td>\n",
       "      <td>reviewed</td>\n",
       "      <td>SIK1B_HUMAN</td>\n",
       "      <td>Putative serine/threonine-protein kinase SIK1B...</td>\n",
       "      <td>SIK1B</td>\n",
       "      <td>Homo sapiens (Human)</td>\n",
       "      <td>783</td>\n",
       "      <td>Uncertain</td>\n",
       "    </tr>\n",
       "    <tr>\n",
       "      <th>75</th>\n",
       "      <td>A0A0C5B5G6</td>\n",
       "      <td>reviewed</td>\n",
       "      <td>MOTSC_HUMAN</td>\n",
       "      <td>Mitochondrial-derived peptide MOTS-c (Mitochon...</td>\n",
       "      <td>MT-RNR1</td>\n",
       "      <td>Homo sapiens (Human)</td>\n",
       "      <td>16</td>\n",
       "      <td>Evidence at protein level</td>\n",
       "    </tr>\n",
       "    <tr>\n",
       "      <th>147</th>\n",
       "      <td>A0A0K2S4Q6</td>\n",
       "      <td>reviewed</td>\n",
       "      <td>CD3CH_HUMAN</td>\n",
       "      <td>Protein CD300H (CD300 antigen-like family memb...</td>\n",
       "      <td>CD300H</td>\n",
       "      <td>Homo sapiens (Human)</td>\n",
       "      <td>201</td>\n",
       "      <td>Evidence at protein level</td>\n",
       "    </tr>\n",
       "  </tbody>\n",
       "</table>\n",
       "</div>"
      ],
      "text/plain": [
       "          Entry  Reviewed   Entry Name  \\\n",
       "31   A0A087X1C5  reviewed  CP2D7_HUMAN   \n",
       "58   A0A0B4J2F0  reviewed  PIOS1_HUMAN   \n",
       "59   A0A0B4J2F2  reviewed  SIK1B_HUMAN   \n",
       "75   A0A0C5B5G6  reviewed  MOTSC_HUMAN   \n",
       "147  A0A0K2S4Q6  reviewed  CD3CH_HUMAN   \n",
       "\n",
       "                                         Protein names Gene Names  \\\n",
       "31         Putative cytochrome P450 2D7 (EC 1.14.14.1)     CYP2D7   \n",
       "58    Protein PIGBOS1 (PIGB opposite strand protein 1)    PIGBOS1   \n",
       "59   Putative serine/threonine-protein kinase SIK1B...      SIK1B   \n",
       "75   Mitochondrial-derived peptide MOTS-c (Mitochon...    MT-RNR1   \n",
       "147  Protein CD300H (CD300 antigen-like family memb...     CD300H   \n",
       "\n",
       "                 Organism  Length          Protein existence  \n",
       "31   Homo sapiens (Human)     515                  Uncertain  \n",
       "58   Homo sapiens (Human)      54  Evidence at protein level  \n",
       "59   Homo sapiens (Human)     783                  Uncertain  \n",
       "75   Homo sapiens (Human)      16  Evidence at protein level  \n",
       "147  Homo sapiens (Human)     201  Evidence at protein level  "
      ]
     },
     "execution_count": 25,
     "metadata": {},
     "output_type": "execute_result"
    }
   ],
   "source": [
    "pc_genes.head()"
   ]
  },
  {
   "cell_type": "code",
   "execution_count": 26,
   "metadata": {},
   "outputs": [],
   "source": [
    "merged_df = pd.merge(pc_genes_confident, pc_genes_map, left_on = 'Entry', right_on='From', how = 'inner')"
   ]
  },
  {
   "cell_type": "code",
   "execution_count": 27,
   "metadata": {},
   "outputs": [
    {
     "data": {
      "text/html": [
       "<div>\n",
       "<style scoped>\n",
       "    .dataframe tbody tr th:only-of-type {\n",
       "        vertical-align: middle;\n",
       "    }\n",
       "\n",
       "    .dataframe tbody tr th {\n",
       "        vertical-align: top;\n",
       "    }\n",
       "\n",
       "    .dataframe thead th {\n",
       "        text-align: right;\n",
       "    }\n",
       "</style>\n",
       "<table border=\"1\" class=\"dataframe\">\n",
       "  <thead>\n",
       "    <tr style=\"text-align: right;\">\n",
       "      <th></th>\n",
       "      <th>Entry</th>\n",
       "      <th>Reviewed</th>\n",
       "      <th>Entry Name</th>\n",
       "      <th>Protein names</th>\n",
       "      <th>Gene Names</th>\n",
       "      <th>Organism</th>\n",
       "      <th>Length</th>\n",
       "      <th>Protein existence</th>\n",
       "      <th>From</th>\n",
       "      <th>To</th>\n",
       "    </tr>\n",
       "  </thead>\n",
       "  <tbody>\n",
       "    <tr>\n",
       "      <th>0</th>\n",
       "      <td>A0A0B4J2F0</td>\n",
       "      <td>reviewed</td>\n",
       "      <td>PIOS1_HUMAN</td>\n",
       "      <td>Protein PIGBOS1 (PIGB opposite strand protein 1)</td>\n",
       "      <td>PIGBOS1</td>\n",
       "      <td>Homo sapiens (Human)</td>\n",
       "      <td>54</td>\n",
       "      <td>Evidence at protein level</td>\n",
       "      <td>A0A0B4J2F0</td>\n",
       "      <td>ENSG00000225973.4</td>\n",
       "    </tr>\n",
       "    <tr>\n",
       "      <th>1</th>\n",
       "      <td>A0A0K2S4Q6</td>\n",
       "      <td>reviewed</td>\n",
       "      <td>CD3CH_HUMAN</td>\n",
       "      <td>Protein CD300H (CD300 antigen-like family memb...</td>\n",
       "      <td>CD300H</td>\n",
       "      <td>Homo sapiens (Human)</td>\n",
       "      <td>201</td>\n",
       "      <td>Evidence at protein level</td>\n",
       "      <td>A0A0K2S4Q6</td>\n",
       "      <td>ENSG00000284690.3</td>\n",
       "    </tr>\n",
       "    <tr>\n",
       "      <th>2</th>\n",
       "      <td>A0A0U1RRE5</td>\n",
       "      <td>reviewed</td>\n",
       "      <td>NBDY_HUMAN</td>\n",
       "      <td>Negative regulator of P-body association (P-bo...</td>\n",
       "      <td>NBDY LINC01420</td>\n",
       "      <td>Homo sapiens (Human)</td>\n",
       "      <td>68</td>\n",
       "      <td>Evidence at protein level</td>\n",
       "      <td>A0A0U1RRE5</td>\n",
       "      <td>ENSG00000204272.13</td>\n",
       "    </tr>\n",
       "    <tr>\n",
       "      <th>3</th>\n",
       "      <td>A0A1B0GTW7</td>\n",
       "      <td>reviewed</td>\n",
       "      <td>CIROP_HUMAN</td>\n",
       "      <td>Ciliated left-right organizer metallopeptidase...</td>\n",
       "      <td>CIROP LMLN2</td>\n",
       "      <td>Homo sapiens (Human)</td>\n",
       "      <td>788</td>\n",
       "      <td>Evidence at protein level</td>\n",
       "      <td>A0A1B0GTW7</td>\n",
       "      <td>ENSG00000283654.3</td>\n",
       "    </tr>\n",
       "    <tr>\n",
       "      <th>4</th>\n",
       "      <td>A0AV02</td>\n",
       "      <td>reviewed</td>\n",
       "      <td>S12A8_HUMAN</td>\n",
       "      <td>Solute carrier family 12 member 8 (Cation-chlo...</td>\n",
       "      <td>SLC12A8 CCC9</td>\n",
       "      <td>Homo sapiens (Human)</td>\n",
       "      <td>714</td>\n",
       "      <td>Evidence at protein level</td>\n",
       "      <td>A0AV02</td>\n",
       "      <td>ENSG00000221955.11</td>\n",
       "    </tr>\n",
       "  </tbody>\n",
       "</table>\n",
       "</div>"
      ],
      "text/plain": [
       "        Entry  Reviewed   Entry Name  \\\n",
       "0  A0A0B4J2F0  reviewed  PIOS1_HUMAN   \n",
       "1  A0A0K2S4Q6  reviewed  CD3CH_HUMAN   \n",
       "2  A0A0U1RRE5  reviewed   NBDY_HUMAN   \n",
       "3  A0A1B0GTW7  reviewed  CIROP_HUMAN   \n",
       "4      A0AV02  reviewed  S12A8_HUMAN   \n",
       "\n",
       "                                       Protein names      Gene Names  \\\n",
       "0   Protein PIGBOS1 (PIGB opposite strand protein 1)         PIGBOS1   \n",
       "1  Protein CD300H (CD300 antigen-like family memb...          CD300H   \n",
       "2  Negative regulator of P-body association (P-bo...  NBDY LINC01420   \n",
       "3  Ciliated left-right organizer metallopeptidase...     CIROP LMLN2   \n",
       "4  Solute carrier family 12 member 8 (Cation-chlo...    SLC12A8 CCC9   \n",
       "\n",
       "               Organism  Length          Protein existence        From  \\\n",
       "0  Homo sapiens (Human)      54  Evidence at protein level  A0A0B4J2F0   \n",
       "1  Homo sapiens (Human)     201  Evidence at protein level  A0A0K2S4Q6   \n",
       "2  Homo sapiens (Human)      68  Evidence at protein level  A0A0U1RRE5   \n",
       "3  Homo sapiens (Human)     788  Evidence at protein level  A0A1B0GTW7   \n",
       "4  Homo sapiens (Human)     714  Evidence at protein level      A0AV02   \n",
       "\n",
       "                   To  \n",
       "0   ENSG00000225973.4  \n",
       "1   ENSG00000284690.3  \n",
       "2  ENSG00000204272.13  \n",
       "3   ENSG00000283654.3  \n",
       "4  ENSG00000221955.11  "
      ]
     },
     "execution_count": 27,
     "metadata": {},
     "output_type": "execute_result"
    }
   ],
   "source": [
    "merged_df.head()"
   ]
  },
  {
   "cell_type": "code",
   "execution_count": 28,
   "metadata": {},
   "outputs": [],
   "source": [
    "pc_genes_confident.loc[:,'Entry'].to_csv('../../data/pc_genes/highConfPCUniprots.txt', \"\\n\", index=False)\n",
    "\n",
    "# saves highConfPCUniprots.txt\n",
    "# This needs to be put in https://www.uniprot.org/id-mapping: Input is UniProtKB_AC, Output is Ensemble\n",
    "# ALl of these mapped\n",
    "\n",
    "# The ENSEMBLE Ids were mapped to "
   ]
  },
  {
   "attachments": {},
   "cell_type": "markdown",
   "metadata": {},
   "source": [
    "# Load Raw Expression Datasets"
   ]
  },
  {
   "cell_type": "code",
   "execution_count": 29,
   "metadata": {},
   "outputs": [],
   "source": [
    "bulk_expression = pd.read_csv('../../data/bulk/bulk_grouped.csv', index_col=0)\n",
    "sum_expression = pd.read_csv('../../data/pseudobulk/sum_pseudobulk.csv', index_col=0)\n"
   ]
  },
  {
   "cell_type": "code",
   "execution_count": null,
   "metadata": {},
   "outputs": [],
   "source": [
    "adata = anndata.read_h5ad('/pipeline42/datasets/TabulaSapiens/TS_Liver.h5ad')"
   ]
  },
  {
   "cell_type": "code",
   "execution_count": null,
   "metadata": {},
   "outputs": [],
   "source": [
    "pc_merged = pd.merge(adata.var, merged_df, left_on=\"ensemblid\", right_on='To')"
   ]
  },
  {
   "cell_type": "code",
   "execution_count": null,
   "metadata": {},
   "outputs": [],
   "source": [
    "merged_df['To'] = merged_df['To'].str.extract('(.+?)\\.')\n"
   ]
  },
  {
   "cell_type": "code",
   "execution_count": null,
   "metadata": {},
   "outputs": [],
   "source": [
    "PC = adata.var.loc[:,'ensemblid'].str.extract('(.+?)\\.')"
   ]
  },
  {
   "cell_type": "code",
   "execution_count": null,
   "metadata": {},
   "outputs": [],
   "source": [
    "adata_ensembleids = adata.var.loc[:,'ensemblid'].str.extract('(.+?)\\.')"
   ]
  },
  {
   "cell_type": "code",
   "execution_count": null,
   "metadata": {},
   "outputs": [],
   "source": [
    "adata2 = adata[:,np.isin(adata_ensembleids, merged_df['To'])]"
   ]
  },
  {
   "cell_type": "code",
   "execution_count": null,
   "metadata": {},
   "outputs": [
    {
     "data": {
      "text/plain": [
       "array(['OR4F29', 'OR4F16', 'SAMD11', ..., 'MT-ND5', 'MT-ND6', 'MT-CYB'],\n",
       "      dtype=object)"
      ]
     },
     "execution_count": 141,
     "metadata": {},
     "output_type": "execute_result"
    }
   ],
   "source": [
    "adata2.var.index.to_numpy()"
   ]
  },
  {
   "cell_type": "code",
   "execution_count": null,
   "metadata": {},
   "outputs": [],
   "source": [
    "bulk_expression.columns.to_series().to_csv('bulk_genes.txt', index = False, header = False)\n",
    "# Put those into https://biit.cs.ut.ee/gprofiler/convert"
   ]
  },
  {
   "cell_type": "code",
   "execution_count": null,
   "metadata": {},
   "outputs": [],
   "source": [
    "bulk_genes = pd.read_csv('../../data/pc_genes/genes_in_bulk.csv')"
   ]
  },
  {
   "cell_type": "code",
   "execution_count": null,
   "metadata": {},
   "outputs": [
    {
     "data": {
      "text/html": [
       "<div>\n",
       "<style scoped>\n",
       "    .dataframe tbody tr th:only-of-type {\n",
       "        vertical-align: middle;\n",
       "    }\n",
       "\n",
       "    .dataframe tbody tr th {\n",
       "        vertical-align: top;\n",
       "    }\n",
       "\n",
       "    .dataframe thead th {\n",
       "        text-align: right;\n",
       "    }\n",
       "</style>\n",
       "<table border=\"1\" class=\"dataframe\">\n",
       "  <thead>\n",
       "    <tr style=\"text-align: right;\">\n",
       "      <th></th>\n",
       "      <th>initial_alias</th>\n",
       "      <th>converted_alias</th>\n",
       "      <th>name</th>\n",
       "      <th>description</th>\n",
       "      <th>namespace</th>\n",
       "    </tr>\n",
       "  </thead>\n",
       "  <tbody>\n",
       "    <tr>\n",
       "      <th>0</th>\n",
       "      <td>DDX11L1</td>\n",
       "      <td>ENSG00000223972</td>\n",
       "      <td>DDX11L1</td>\n",
       "      <td>DEAD/H-box helicase 11 like 1 (pseudogene) [So...</td>\n",
       "      <td>ENTREZGENE,HGNC,WIKIGENE</td>\n",
       "    </tr>\n",
       "    <tr>\n",
       "      <th>1</th>\n",
       "      <td>DDX11L1</td>\n",
       "      <td>ENSG00000290825</td>\n",
       "      <td>DDX11L2</td>\n",
       "      <td>DEAD/H-box helicase 11 like 2 (pseudogene) [So...</td>\n",
       "      <td>ENTREZGENE,HGNC,WIKIGENE</td>\n",
       "    </tr>\n",
       "    <tr>\n",
       "      <th>2</th>\n",
       "      <td>WASH7P</td>\n",
       "      <td>ENSG00000227232</td>\n",
       "      <td>WASH7P</td>\n",
       "      <td>WASP family homolog 7, pseudogene [Source:HGNC...</td>\n",
       "      <td>HGNC</td>\n",
       "    </tr>\n",
       "    <tr>\n",
       "      <th>3</th>\n",
       "      <td>MIR6859-1</td>\n",
       "      <td>ENSG00000278267</td>\n",
       "      <td>MIR6859-1</td>\n",
       "      <td>microRNA 6859-1 [Source:HGNC Symbol;Acc:HGNC:5...</td>\n",
       "      <td>ENTREZGENE,HGNC,WIKIGENE</td>\n",
       "    </tr>\n",
       "    <tr>\n",
       "      <th>4</th>\n",
       "      <td>MIR1302-2HG</td>\n",
       "      <td>ENSG00000243485</td>\n",
       "      <td>MIR1302-2HG</td>\n",
       "      <td>MIR1302-2 host gene [Source:HGNC Symbol;Acc:HG...</td>\n",
       "      <td>HGNC</td>\n",
       "    </tr>\n",
       "  </tbody>\n",
       "</table>\n",
       "</div>"
      ],
      "text/plain": [
       "  initial_alias  converted_alias         name  \\\n",
       "0       DDX11L1  ENSG00000223972      DDX11L1   \n",
       "1       DDX11L1  ENSG00000290825      DDX11L2   \n",
       "2        WASH7P  ENSG00000227232       WASH7P   \n",
       "3     MIR6859-1  ENSG00000278267    MIR6859-1   \n",
       "4   MIR1302-2HG  ENSG00000243485  MIR1302-2HG   \n",
       "\n",
       "                                         description                 namespace  \n",
       "0  DEAD/H-box helicase 11 like 1 (pseudogene) [So...  ENTREZGENE,HGNC,WIKIGENE  \n",
       "1  DEAD/H-box helicase 11 like 2 (pseudogene) [So...  ENTREZGENE,HGNC,WIKIGENE  \n",
       "2  WASP family homolog 7, pseudogene [Source:HGNC...                      HGNC  \n",
       "3  microRNA 6859-1 [Source:HGNC Symbol;Acc:HGNC:5...  ENTREZGENE,HGNC,WIKIGENE  \n",
       "4  MIR1302-2 host gene [Source:HGNC Symbol;Acc:HG...                      HGNC  "
      ]
     },
     "execution_count": 18,
     "metadata": {},
     "output_type": "execute_result"
    }
   ],
   "source": [
    "bulk_genes.head()"
   ]
  },
  {
   "cell_type": "code",
   "execution_count": null,
   "metadata": {},
   "outputs": [],
   "source": [
    "bulk_pc = merge(merged_df, bulk_genes, left_on='', right_on='converted_alias'"
   ]
  },
  {
   "attachments": {},
   "cell_type": "markdown",
   "metadata": {},
   "source": [
    "# Filter expression datasets for PC Genes\n"
   ]
  },
  {
   "cell_type": "code",
   "execution_count": null,
   "metadata": {},
   "outputs": [],
   "source": [
    "sum_pc_expression = filter_for_pc_genes(sum_expression, pc_genes=adata2.var.index.to_numpy())"
   ]
  },
  {
   "cell_type": "code",
   "execution_count": null,
   "metadata": {},
   "outputs": [],
   "source": [
    "bulk_pc_expression = filter_for_pc_genes(bulk_expression, pc_genes=adata2.var.index.to_numpy())"
   ]
  },
  {
   "attachments": {},
   "cell_type": "markdown",
   "metadata": {},
   "source": [
    "Load bulk gte"
   ]
  },
  {
   "attachments": {},
   "cell_type": "markdown",
   "metadata": {},
   "source": [
    "# Save\n",
    "\n",
    "### data/bulk/bulk_pc.csv\n",
    "### data/pseudobulk/sum_pseudobulk_pc.csv"
   ]
  },
  {
   "cell_type": "code",
   "execution_count": null,
   "metadata": {},
   "outputs": [],
   "source": [
    "bulk_pc_expression.to_csv('../../data/bulk/bulk_pc.csv')\n",
    "sum_pc_expression.to_csv('../../data/pseudobulk/sum_pseudobulk_pc.csv')"
   ]
  }
 ],
 "metadata": {
  "kernelspec": {
   "display_name": "PseudoPipelineEnv",
   "language": "python",
   "name": "python3"
  },
  "language_info": {
   "codemirror_mode": {
    "name": "ipython",
    "version": 3
   },
   "file_extension": ".py",
   "mimetype": "text/x-python",
   "name": "python",
   "nbconvert_exporter": "python",
   "pygments_lexer": "ipython3",
   "version": "3.9.13"
  },
  "orig_nbformat": 4,
  "vscode": {
   "interpreter": {
    "hash": "f088962022b5c5089ca0fd10bf64a529eb202e14a97c8bfe5bb517a051d5f1e8"
   }
  }
 },
 "nbformat": 4,
 "nbformat_minor": 2
}
