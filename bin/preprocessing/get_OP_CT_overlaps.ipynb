{
 "cells": [
  {
   "cell_type": "code",
   "execution_count": 1,
   "metadata": {},
   "outputs": [],
   "source": [
    "import anndata \n",
    "import pandas as pd \n",
    "import numpy as np \n",
    "import re"
   ]
  },
  {
   "attachments": {},
   "cell_type": "markdown",
   "metadata": {},
   "source": [
    "### This script is for saving"
   ]
  },
  {
   "cell_type": "code",
   "execution_count": 3,
   "metadata": {},
   "outputs": [],
   "source": [
    "bulk = pd.read_csv('../../data/bulk/bulk_grouped.csv')"
   ]
  },
  {
   "cell_type": "code",
   "execution_count": 9,
   "metadata": {},
   "outputs": [],
   "source": [
    "bulks = bulk.index.values"
   ]
  },
  {
   "cell_type": "code",
   "execution_count": 10,
   "metadata": {},
   "outputs": [
    {
     "data": {
      "text/plain": [
       "array(['Adipose Tissue', 'Muscle', 'Blood Vessel', 'Heart', 'Uterus',\n",
       "       'Vagina', 'Breast', 'Skin', 'Salivary Gland', 'Brain',\n",
       "       'Adrenal Gland', 'Thyroid', 'Lung', 'Spleen', 'Pancreas',\n",
       "       'Esophagus', 'Stomach', 'Colon', 'Small Intestine', 'Prostate',\n",
       "       'Testis', 'Nerve', 'Blood', 'Pituitary', 'Ovary', 'Liver',\n",
       "       'Kidney', 'Cervix Uteri', 'Fallopian Tube', 'Bladder'],\n",
       "      dtype=object)"
      ]
     },
     "execution_count": 10,
     "metadata": {},
     "output_type": "execute_result"
    }
   ],
   "source": [
    "bulks"
   ]
  },
  {
   "cell_type": "code",
   "execution_count": 11,
   "metadata": {},
   "outputs": [],
   "source": [
    "sum_pseudo = pd.read_csv('../../data/pseudobulk/sum_pseudobulk.csv', sep = \",\", header = 0, index_col=0)"
   ]
  },
  {
   "cell_type": "code",
   "execution_count": 12,
   "metadata": {},
   "outputs": [
    {
     "data": {
      "text/plain": [
       "Index(['Tongue_epithelial cell', 'Tongue_basal cell', 'Tongue_immune cell',\n",
       "       'Tongue_fibroblast', 'Tongue_vein endothelial cell',\n",
       "       'Tongue_pericyte cell', 'Tongue_endothelial cell of lymphatic vessel',\n",
       "       'Tongue_endothelial cell of artery',\n",
       "       'Tongue_capillary endothelial cell', 'Tongue_tongue muscle cell',\n",
       "       ...\n",
       "       'Liver_liver dendritic cell', 'Liver_nk cell', 'Liver_fibroblast',\n",
       "       'Liver_hepatocyte', 'Liver_intrahepatic cholangiocyte', 'Liver_t cell',\n",
       "       'Liver_neutrophil', 'Liver_plasma cell', 'Liver_erythrocyte',\n",
       "       'Liver_endothelial cell'],\n",
       "      dtype='object', length=474)"
      ]
     },
     "execution_count": 12,
     "metadata": {},
     "output_type": "execute_result"
    }
   ],
   "source": [
    "sum_pseudo.index"
   ]
  },
  {
   "cell_type": "code",
   "execution_count": 13,
   "metadata": {},
   "outputs": [],
   "source": [
    "mylist = ['Bladder',\n",
    "'Blood',\n",
    "'Bone_Marrow',\n",
    "'Eye',\n",
    "'Fat',\n",
    "'Heart',\n",
    "'Kidney',\n",
    "'Large_Intestine',\n",
    "'Liver',\n",
    "'Lung',\n",
    "'Lymph_Node',\n",
    "'Mammary',\n",
    "'Muscle',\n",
    "'Pancreas',\n",
    "'Prostate',\n",
    "'Salivary_Gland',\n",
    "'Skin',\n",
    "'Small_Intestine',\n",
    "'Spleen',\n",
    "'Thymus',\n",
    "'Tongue',\n",
    "'Trachea',\n",
    "'Uterus',\n",
    "'Vasculature']\n",
    "\n",
    "pseudo_samples = np.array(mylist)"
   ]
  },
  {
   "cell_type": "code",
   "execution_count": 14,
   "metadata": {},
   "outputs": [
    {
     "data": {
      "text/plain": [
       "array(['Bladder', 'Blood', 'Heart', 'Kidney', 'Liver', 'Lung', 'Muscle',\n",
       "       'Pancreas', 'Prostate', 'Skin', 'Spleen', 'Uterus'], dtype='<U15')"
      ]
     },
     "execution_count": 14,
     "metadata": {},
     "output_type": "execute_result"
    }
   ],
   "source": [
    "matches = pseudo_samples[np.isin(pseudo_samples, bulks)]\n",
    "matches"
   ]
  },
  {
   "cell_type": "code",
   "execution_count": 15,
   "metadata": {},
   "outputs": [
    {
     "data": {
      "text/plain": [
       "array(['Bone_Marrow', 'Eye', 'Fat', 'Large_Intestine', 'Lymph_Node',\n",
       "       'Mammary', 'Salivary_Gland', 'Small_Intestine', 'Thymus', 'Tongue',\n",
       "       'Trachea', 'Vasculature'], dtype='<U15')"
      ]
     },
     "execution_count": 15,
     "metadata": {},
     "output_type": "execute_result"
    }
   ],
   "source": [
    "non_matches = pseudo_samples[~np.isin(pseudo_samples, bulks)]\n",
    "non_matches"
   ]
  },
  {
   "cell_type": "code",
   "execution_count": 16,
   "metadata": {},
   "outputs": [],
   "source": [
    "#Bone_Marrow is present in pseudobulk, but not bulk."
   ]
  },
  {
   "attachments": {},
   "cell_type": "markdown",
   "metadata": {},
   "source": [
    "# Identify what Organism Parts are in the Bulk, bot not the Pseudobulk, so we can delete the ones un the bulk for a more fair comparison\n"
   ]
  },
  {
   "cell_type": "code",
   "execution_count": 52,
   "metadata": {},
   "outputs": [
    {
     "data": {
      "text/plain": [
       "array(['Bladder', 'Blood', 'Heart', 'Kidney', 'Liver', 'Lung', 'Muscle',\n",
       "       'Pancreas', 'Prostate', 'Skin', 'Spleen', 'Uterus'], dtype=object)"
      ]
     },
     "execution_count": 52,
     "metadata": {},
     "output_type": "execute_result"
    }
   ],
   "source": [
    "bulk_matches = bulks[np.isin(bulks, pseudo_samples)]\n",
    "bulk_matches = np.sort(bulk_matches)\n",
    "bulk_matches"
   ]
  },
  {
   "cell_type": "code",
   "execution_count": 53,
   "metadata": {},
   "outputs": [
    {
     "data": {
      "text/plain": [
       "array(['Adipose Tissue', 'Blood Vessel', 'Vagina', 'Breast',\n",
       "       'Salivary Gland', 'Brain', 'Adrenal Gland', 'Thyroid', 'Esophagus',\n",
       "       'Stomach', 'Colon', 'Small Intestine', 'Testis', 'Nerve',\n",
       "       'Pituitary', 'Ovary', 'Cervix Uteri', 'Fallopian Tube'],\n",
       "      dtype=object)"
      ]
     },
     "execution_count": 53,
     "metadata": {},
     "output_type": "execute_result"
    }
   ],
   "source": [
    "bulk_non_matches = bulks[~np.isin(bulks,pseudo_samples)]\n",
    "bulk_non_matches"
   ]
  },
  {
   "cell_type": "code",
   "execution_count": 54,
   "metadata": {},
   "outputs": [],
   "source": [
    "# Adipose Tissue the bulk is \"Fat\" in the pseudobulk\n",
    "# Add Adipose Tissue into our matches so we know to include it when we end up subsetting our bulk\n",
    "bulk_matches = np.append(bulk_matches, \"Adipose Tissue\")\n",
    "bulk_matches = np.append(bulk_matches, 'Blood Vessel')\n",
    "bulk_matches = np.append(bulk_matches, 'Breast')\n",
    "bulk_matches = np.append(bulk_matches, 'Salivary Gland')\n",
    "bulk_matches = np.append(bulk_matches, 'Colon')\n",
    "bulk_matches = np.append(bulk_matches, 'Small Intestine')\n",
    "\n",
    "\n",
    "\n",
    "\n",
    "\n"
   ]
  },
  {
   "cell_type": "code",
   "execution_count": 55,
   "metadata": {},
   "outputs": [
    {
     "data": {
      "text/plain": [
       "array(['Bladder', 'Blood', 'Heart', 'Kidney', 'Liver', 'Lung', 'Muscle',\n",
       "       'Pancreas', 'Prostate', 'Skin', 'Spleen', 'Uterus',\n",
       "       'Adipose Tissue', 'Blood Vessel', 'Breast', 'Salivary Gland',\n",
       "       'Colon', 'Small Intestine'], dtype=object)"
      ]
     },
     "execution_count": 55,
     "metadata": {},
     "output_type": "execute_result"
    }
   ],
   "source": [
    "bulk_matches"
   ]
  },
  {
   "attachments": {},
   "cell_type": "markdown",
   "metadata": {},
   "source": [
    "### Find the names for the pseudobulks now"
   ]
  },
  {
   "cell_type": "code",
   "execution_count": 56,
   "metadata": {},
   "outputs": [],
   "source": [
    "pseudo_matches = pseudo_samples[np.isin(pseudo_samples, bulks)]\n",
    "pseudo_matches = np.sort(pseudo_matches)"
   ]
  },
  {
   "cell_type": "code",
   "execution_count": 57,
   "metadata": {},
   "outputs": [
    {
     "data": {
      "text/plain": [
       "array(['Bladder', 'Blood', 'Heart', 'Kidney', 'Liver', 'Lung', 'Muscle',\n",
       "       'Pancreas', 'Prostate', 'Skin', 'Spleen', 'Uterus'], dtype='<U15')"
      ]
     },
     "execution_count": 57,
     "metadata": {},
     "output_type": "execute_result"
    }
   ],
   "source": [
    "pseudo_matches"
   ]
  },
  {
   "cell_type": "code",
   "execution_count": 58,
   "metadata": {},
   "outputs": [
    {
     "data": {
      "text/plain": [
       "array(['Bone_Marrow', 'Eye', 'Fat', 'Large_Intestine', 'Lymph_Node',\n",
       "       'Mammary', 'Salivary_Gland', 'Small_Intestine', 'Thymus', 'Tongue',\n",
       "       'Trachea', 'Vasculature'], dtype='<U15')"
      ]
     },
     "execution_count": 58,
     "metadata": {},
     "output_type": "execute_result"
    }
   ],
   "source": [
    "pseudo_non_matches = pseudo_samples[~np.isin(pseudo_samples, bulks)]\n",
    "pseudo_non_matches"
   ]
  },
  {
   "cell_type": "code",
   "execution_count": 59,
   "metadata": {},
   "outputs": [],
   "source": [
    "pseudo_matches = np.append(pseudo_matches, \"Fat\")\n",
    "pseudo_matches = np.append(pseudo_matches, 'Vasculature')\n",
    "pseudo_matches = np.append(pseudo_matches, 'Mammary')\n",
    "pseudo_matches = np.append(pseudo_matches, 'Salivary_Gland')\n",
    "pseudo_matches = np.append(pseudo_matches, \"Large_Intestine\")\n",
    "pseudo_matches = np.append(pseudo_matches, 'Small_Intestine')"
   ]
  },
  {
   "attachments": {},
   "cell_type": "markdown",
   "metadata": {},
   "source": [
    "our goal here is to trim the bulks so we have the same types of smaples in the pseudobulk"
   ]
  },
  {
   "attachments": {},
   "cell_type": "markdown",
   "metadata": {},
   "source": [
    "# Save dataset\n"
   ]
  },
  {
   "cell_type": "code",
   "execution_count": 65,
   "metadata": {},
   "outputs": [],
   "source": [
    "df = pd.DataFrame({'bulk_names':bulk_matches, 'pseudo_names':pseudo_matches})"
   ]
  },
  {
   "cell_type": "code",
   "execution_count": 68,
   "metadata": {},
   "outputs": [],
   "source": [
    "df.to_csv('../../data/sample_names/bulk_pseudo.csv')"
   ]
  }
 ],
 "metadata": {
  "kernelspec": {
   "display_name": "PseudoPipelineEnv",
   "language": "python",
   "name": "python3"
  },
  "language_info": {
   "codemirror_mode": {
    "name": "ipython",
    "version": 3
   },
   "file_extension": ".py",
   "mimetype": "text/x-python",
   "name": "python",
   "nbconvert_exporter": "python",
   "pygments_lexer": "ipython3",
   "version": "3.9.13"
  },
  "orig_nbformat": 4,
  "vscode": {
   "interpreter": {
    "hash": "f088962022b5c5089ca0fd10bf64a529eb202e14a97c8bfe5bb517a051d5f1e8"
   }
  }
 },
 "nbformat": 4,
 "nbformat_minor": 2
}
