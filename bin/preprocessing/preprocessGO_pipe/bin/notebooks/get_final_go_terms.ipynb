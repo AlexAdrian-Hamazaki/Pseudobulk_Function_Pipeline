{
 "cells": [
  {
   "cell_type": "code",
   "execution_count": 1,
   "metadata": {},
   "outputs": [],
   "source": [
    "import pandas as pd"
   ]
  },
  {
   "cell_type": "code",
   "execution_count": 38,
   "metadata": {},
   "outputs": [],
   "source": [
    "annotations = pd.read_csv(\"/space/grp/aadrian/Pseudobulk_Function_Pipeline_HighRes/bin/preprocessing/preprocessGO_pipe/data/2024/data/GO_annotationsWithENSGandPC/bp_annotations_withGeneData.csv\")\n",
    "annotations\n",
    "\n",
    "annotations2 = pd.read_csv(\"/space/grp/aadrian/Pseudobulk_Function_Pipeline_HighRes/bin/preprocessing/preprocessGO_pipe/data/GO_annotationsWithENSGandPC/bp_annotations_withGeneData.csv\")"
   ]
  },
  {
   "cell_type": "code",
   "execution_count": 40,
   "metadata": {},
   "outputs": [
    {
     "data": {
      "text/plain": [
       "(349178, 9)"
      ]
     },
     "execution_count": 40,
     "metadata": {},
     "output_type": "execute_result"
    }
   ],
   "source": [
    "annotations2.shape"
   ]
  },
  {
   "cell_type": "code",
   "execution_count": 42,
   "metadata": {},
   "outputs": [
    {
     "data": {
      "text/plain": [
       "(349178, 9)"
      ]
     },
     "execution_count": 42,
     "metadata": {},
     "output_type": "execute_result"
    }
   ],
   "source": [
    "annotations.shape"
   ]
  },
  {
   "cell_type": "code",
   "execution_count": 37,
   "metadata": {},
   "outputs": [
    {
     "data": {
      "text/plain": [
       "12526"
      ]
     },
     "execution_count": 37,
     "metadata": {},
     "output_type": "execute_result"
    }
   ],
   "source": [
    "len(annotations.loc[:,'GO ID'].unique())"
   ]
  },
  {
   "cell_type": "code",
   "execution_count": 20,
   "metadata": {},
   "outputs": [
    {
     "data": {
      "text/html": [
       "<div>\n",
       "<style scoped>\n",
       "    .dataframe tbody tr th:only-of-type {\n",
       "        vertical-align: middle;\n",
       "    }\n",
       "\n",
       "    .dataframe tbody tr th {\n",
       "        vertical-align: top;\n",
       "    }\n",
       "\n",
       "    .dataframe thead th {\n",
       "        text-align: right;\n",
       "    }\n",
       "</style>\n",
       "<table border=\"1\" class=\"dataframe\">\n",
       "  <thead>\n",
       "    <tr style=\"text-align: right;\">\n",
       "      <th></th>\n",
       "      <th>id</th>\n",
       "      <th>name</th>\n",
       "      <th>namespace</th>\n",
       "      <th>def</th>\n",
       "    </tr>\n",
       "  </thead>\n",
       "  <tbody>\n",
       "    <tr>\n",
       "      <th>0</th>\n",
       "      <td>GO:0000001</td>\n",
       "      <td>mitochondrion inheritance</td>\n",
       "      <td>biological_process</td>\n",
       "      <td>The distribution of mitochondria, including th...</td>\n",
       "    </tr>\n",
       "    <tr>\n",
       "      <th>1</th>\n",
       "      <td>GO:0000002</td>\n",
       "      <td>mitochondrial genome maintenance</td>\n",
       "      <td>biological_process</td>\n",
       "      <td>The maintenance of the structure and integrity...</td>\n",
       "    </tr>\n",
       "    <tr>\n",
       "      <th>2</th>\n",
       "      <td>GO:0000003</td>\n",
       "      <td>reproduction</td>\n",
       "      <td>biological_process</td>\n",
       "      <td>The production of new individuals that contain...</td>\n",
       "    </tr>\n",
       "    <tr>\n",
       "      <th>3</th>\n",
       "      <td>GO:0000005</td>\n",
       "      <td>obsolete ribosomal chaperone activity</td>\n",
       "      <td>molecular_function</td>\n",
       "      <td>OBSOLETE. Assists in the correct assembly of r...</td>\n",
       "    </tr>\n",
       "    <tr>\n",
       "      <th>4</th>\n",
       "      <td>GO:0000006</td>\n",
       "      <td>high-affinity zinc transmembrane transporter a...</td>\n",
       "      <td>molecular_function</td>\n",
       "      <td>Enables the transfer of zinc ions (Zn2+) from ...</td>\n",
       "    </tr>\n",
       "    <tr>\n",
       "      <th>...</th>\n",
       "      <td>...</td>\n",
       "      <td>...</td>\n",
       "      <td>...</td>\n",
       "      <td>...</td>\n",
       "    </tr>\n",
       "    <tr>\n",
       "      <th>47716</th>\n",
       "      <td>negatively_regulates</td>\n",
       "      <td>negatively regulates</td>\n",
       "      <td>external</td>\n",
       "      <td>NaN</td>\n",
       "    </tr>\n",
       "    <tr>\n",
       "      <th>47717</th>\n",
       "      <td>part_of</td>\n",
       "      <td>part of</td>\n",
       "      <td>external</td>\n",
       "      <td>NaN</td>\n",
       "    </tr>\n",
       "    <tr>\n",
       "      <th>47718</th>\n",
       "      <td>positively_regulates</td>\n",
       "      <td>positively regulates</td>\n",
       "      <td>external</td>\n",
       "      <td>NaN</td>\n",
       "    </tr>\n",
       "    <tr>\n",
       "      <th>47719</th>\n",
       "      <td>regulates</td>\n",
       "      <td>regulates</td>\n",
       "      <td>external</td>\n",
       "      <td>NaN</td>\n",
       "    </tr>\n",
       "    <tr>\n",
       "      <th>47720</th>\n",
       "      <td>term_tracker_item</td>\n",
       "      <td>term tracker item</td>\n",
       "      <td>external</td>\n",
       "      <td>NaN</td>\n",
       "    </tr>\n",
       "  </tbody>\n",
       "</table>\n",
       "<p>47721 rows × 4 columns</p>\n",
       "</div>"
      ],
      "text/plain": [
       "                         id  \\\n",
       "0                GO:0000001   \n",
       "1                GO:0000002   \n",
       "2                GO:0000003   \n",
       "3                GO:0000005   \n",
       "4                GO:0000006   \n",
       "...                     ...   \n",
       "47716  negatively_regulates   \n",
       "47717               part_of   \n",
       "47718  positively_regulates   \n",
       "47719             regulates   \n",
       "47720     term_tracker_item   \n",
       "\n",
       "                                                    name           namespace  \\\n",
       "0                              mitochondrion inheritance  biological_process   \n",
       "1                       mitochondrial genome maintenance  biological_process   \n",
       "2                                           reproduction  biological_process   \n",
       "3                  obsolete ribosomal chaperone activity  molecular_function   \n",
       "4      high-affinity zinc transmembrane transporter a...  molecular_function   \n",
       "...                                                  ...                 ...   \n",
       "47716                               negatively regulates            external   \n",
       "47717                                            part of            external   \n",
       "47718                               positively regulates            external   \n",
       "47719                                          regulates            external   \n",
       "47720                                  term tracker item            external   \n",
       "\n",
       "                                                     def  \n",
       "0      The distribution of mitochondria, including th...  \n",
       "1      The maintenance of the structure and integrity...  \n",
       "2      The production of new individuals that contain...  \n",
       "3      OBSOLETE. Assists in the correct assembly of r...  \n",
       "4      Enables the transfer of zinc ions (Zn2+) from ...  \n",
       "...                                                  ...  \n",
       "47716                                                NaN  \n",
       "47717                                                NaN  \n",
       "47718                                                NaN  \n",
       "47719                                                NaN  \n",
       "47720                                                NaN  \n",
       "\n",
       "[47721 rows x 4 columns]"
      ]
     },
     "execution_count": 20,
     "metadata": {},
     "output_type": "execute_result"
    }
   ],
   "source": [
    "terms = pd.read_csv(\"/space/grp/aadrian/Pseudobulk_Function_Pipeline_HighRes/bin/preprocessing/preprocessGO_pipe/data/2024/data/GO_Terms/go_metadata.tsv\", sep = \"\\t\")\n",
    "\n",
    "terms"
   ]
  },
  {
   "cell_type": "code",
   "execution_count": 30,
   "metadata": {},
   "outputs": [
    {
     "data": {
      "text/plain": [
       "12526"
      ]
     },
     "execution_count": 30,
     "metadata": {},
     "output_type": "execute_result"
    }
   ],
   "source": [
    "len(annotations.loc[:,\"GO ID\"].unique())"
   ]
  },
  {
   "cell_type": "code",
   "execution_count": 31,
   "metadata": {},
   "outputs": [],
   "source": [
    "terms_to_keep = terms[terms.id.isin(annotations.loc[:,\"GO ID\"].unique())]"
   ]
  },
  {
   "cell_type": "code",
   "execution_count": 33,
   "metadata": {},
   "outputs": [
    {
     "data": {
      "text/html": [
       "<div>\n",
       "<style scoped>\n",
       "    .dataframe tbody tr th:only-of-type {\n",
       "        vertical-align: middle;\n",
       "    }\n",
       "\n",
       "    .dataframe tbody tr th {\n",
       "        vertical-align: top;\n",
       "    }\n",
       "\n",
       "    .dataframe thead th {\n",
       "        text-align: right;\n",
       "    }\n",
       "</style>\n",
       "<table border=\"1\" class=\"dataframe\">\n",
       "  <thead>\n",
       "    <tr style=\"text-align: right;\">\n",
       "      <th></th>\n",
       "      <th>id</th>\n",
       "      <th>name</th>\n",
       "      <th>namespace</th>\n",
       "      <th>def</th>\n",
       "    </tr>\n",
       "  </thead>\n",
       "  <tbody>\n",
       "    <tr>\n",
       "      <th>1</th>\n",
       "      <td>GO:0000002</td>\n",
       "      <td>mitochondrial genome maintenance</td>\n",
       "      <td>biological_process</td>\n",
       "      <td>The maintenance of the structure and integrity...</td>\n",
       "    </tr>\n",
       "    <tr>\n",
       "      <th>2</th>\n",
       "      <td>GO:0000003</td>\n",
       "      <td>reproduction</td>\n",
       "      <td>biological_process</td>\n",
       "      <td>The production of new individuals that contain...</td>\n",
       "    </tr>\n",
       "    <tr>\n",
       "      <th>10</th>\n",
       "      <td>GO:0000012</td>\n",
       "      <td>single strand break repair</td>\n",
       "      <td>biological_process</td>\n",
       "      <td>The repair of single strand breaks in DNA. Rep...</td>\n",
       "    </tr>\n",
       "    <tr>\n",
       "      <th>14</th>\n",
       "      <td>GO:0000017</td>\n",
       "      <td>alpha-glucoside transport</td>\n",
       "      <td>biological_process</td>\n",
       "      <td>The directed movement of alpha-glucosides into...</td>\n",
       "    </tr>\n",
       "    <tr>\n",
       "      <th>15</th>\n",
       "      <td>GO:0000018</td>\n",
       "      <td>regulation of DNA recombination</td>\n",
       "      <td>biological_process</td>\n",
       "      <td>Any process that modulates the frequency, rate...</td>\n",
       "    </tr>\n",
       "    <tr>\n",
       "      <th>...</th>\n",
       "      <td>...</td>\n",
       "      <td>...</td>\n",
       "      <td>...</td>\n",
       "      <td>...</td>\n",
       "    </tr>\n",
       "    <tr>\n",
       "      <th>47698</th>\n",
       "      <td>GO:2001301</td>\n",
       "      <td>lipoxin biosynthetic process</td>\n",
       "      <td>biological_process</td>\n",
       "      <td>The chemical reactions and pathways resulting ...</td>\n",
       "    </tr>\n",
       "    <tr>\n",
       "      <th>47699</th>\n",
       "      <td>GO:2001302</td>\n",
       "      <td>lipoxin A4 metabolic process</td>\n",
       "      <td>biological_process</td>\n",
       "      <td>The chemical reactions and pathways involving ...</td>\n",
       "    </tr>\n",
       "    <tr>\n",
       "      <th>47700</th>\n",
       "      <td>GO:2001303</td>\n",
       "      <td>lipoxin A4 biosynthetic process</td>\n",
       "      <td>biological_process</td>\n",
       "      <td>The chemical reactions and pathways resulting ...</td>\n",
       "    </tr>\n",
       "    <tr>\n",
       "      <th>47703</th>\n",
       "      <td>GO:2001306</td>\n",
       "      <td>lipoxin B4 biosynthetic process</td>\n",
       "      <td>biological_process</td>\n",
       "      <td>The chemical reactions and pathways resulting ...</td>\n",
       "    </tr>\n",
       "    <tr>\n",
       "      <th>47708</th>\n",
       "      <td>GO:2001311</td>\n",
       "      <td>lysobisphosphatidic acid metabolic process</td>\n",
       "      <td>biological_process</td>\n",
       "      <td>The chemical reactions and pathways involving ...</td>\n",
       "    </tr>\n",
       "  </tbody>\n",
       "</table>\n",
       "<p>12525 rows × 4 columns</p>\n",
       "</div>"
      ],
      "text/plain": [
       "               id                                        name  \\\n",
       "1      GO:0000002            mitochondrial genome maintenance   \n",
       "2      GO:0000003                                reproduction   \n",
       "10     GO:0000012                  single strand break repair   \n",
       "14     GO:0000017                   alpha-glucoside transport   \n",
       "15     GO:0000018             regulation of DNA recombination   \n",
       "...           ...                                         ...   \n",
       "47698  GO:2001301                lipoxin biosynthetic process   \n",
       "47699  GO:2001302                lipoxin A4 metabolic process   \n",
       "47700  GO:2001303             lipoxin A4 biosynthetic process   \n",
       "47703  GO:2001306             lipoxin B4 biosynthetic process   \n",
       "47708  GO:2001311  lysobisphosphatidic acid metabolic process   \n",
       "\n",
       "                namespace                                                def  \n",
       "1      biological_process  The maintenance of the structure and integrity...  \n",
       "2      biological_process  The production of new individuals that contain...  \n",
       "10     biological_process  The repair of single strand breaks in DNA. Rep...  \n",
       "14     biological_process  The directed movement of alpha-glucosides into...  \n",
       "15     biological_process  Any process that modulates the frequency, rate...  \n",
       "...                   ...                                                ...  \n",
       "47698  biological_process  The chemical reactions and pathways resulting ...  \n",
       "47699  biological_process  The chemical reactions and pathways involving ...  \n",
       "47700  biological_process  The chemical reactions and pathways resulting ...  \n",
       "47703  biological_process  The chemical reactions and pathways resulting ...  \n",
       "47708  biological_process  The chemical reactions and pathways involving ...  \n",
       "\n",
       "[12525 rows x 4 columns]"
      ]
     },
     "execution_count": 33,
     "metadata": {},
     "output_type": "execute_result"
    }
   ],
   "source": [
    "terms_to_keep[terms_to_keep.namespace == \"biological_process\"]"
   ]
  },
  {
   "cell_type": "code",
   "execution_count": null,
   "metadata": {},
   "outputs": [],
   "source": [
    "df = pd.read_csv(\"\")"
   ]
  }
 ],
 "metadata": {
  "kernelspec": {
   "display_name": "main_env",
   "language": "python",
   "name": "python3"
  },
  "language_info": {
   "codemirror_mode": {
    "name": "ipython",
    "version": 3
   },
   "file_extension": ".py",
   "mimetype": "text/x-python",
   "name": "python",
   "nbconvert_exporter": "python",
   "pygments_lexer": "ipython3",
   "version": "3.9.18"
  }
 },
 "nbformat": 4,
 "nbformat_minor": 2
}
