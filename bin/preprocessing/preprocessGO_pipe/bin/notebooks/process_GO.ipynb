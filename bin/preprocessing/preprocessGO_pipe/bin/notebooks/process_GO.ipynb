{
 "cells": [
  {
   "cell_type": "code",
   "execution_count": 1,
   "metadata": {},
   "outputs": [],
   "source": [
    "import pandas as pd"
   ]
  },
  {
   "attachments": {},
   "cell_type": "markdown",
   "metadata": {},
   "source": [
    "# Purpose\n",
    "\n",
    "Take only the Biological Process GO Terms. Saves this as pro_GO.csv\n",
    "\n",
    "Column names of the .gaf file can be found here: http://geneontology.org/docs/go-annotation-file-gaf-format-2.2/#aspect-column-9\n",
    "\n",
    "Data downloaded from here: http://current.geneontology.org/products/pages/downloads.html"
   ]
  },
  {
   "cell_type": "code",
   "execution_count": 7,
   "metadata": {},
   "outputs": [
    {
     "ename": "ValueError",
     "evalue": "header must be integer or list of integers",
     "output_type": "error",
     "traceback": [
      "\u001b[0;31m---------------------------------------------------------------------------\u001b[0m",
      "\u001b[0;31mValueError\u001b[0m                                Traceback (most recent call last)",
      "\u001b[1;32m/home/aadrian/Masters/Pseudobulk_Function_Pipeline_HighRes/bin/preprocessing/bin/process_GO.ipynb Cell 3\u001b[0m in \u001b[0;36m<cell line: 1>\u001b[0;34m()\u001b[0m\n\u001b[0;32m----> <a href='vscode-notebook-cell://ssh-remote%2Bfrink/home/aadrian/Masters/Pseudobulk_Function_Pipeline_HighRes/bin/preprocessing/bin/process_GO.ipynb#W2sdnNjb2RlLXJlbW90ZQ%3D%3D?line=0'>1</a>\u001b[0m GO \u001b[39m=\u001b[39m pd\u001b[39m.\u001b[39;49mread_csv(\u001b[39m'\u001b[39;49m\u001b[39m/home/aadrian/Masters/Pseudobulk_Function_Pipeline_HighRes/data/GO/goa_human.gaf\u001b[39;49m\u001b[39m'\u001b[39;49m, skiprows\u001b[39m=\u001b[39;49m\u001b[39m41\u001b[39;49m, sep \u001b[39m=\u001b[39;49m \u001b[39m\"\u001b[39;49m\u001b[39m\\t\u001b[39;49;00m\u001b[39m\"\u001b[39;49m, header \u001b[39m=\u001b[39;49m colnames)\n",
      "File \u001b[0;32m~/anaconda3/envs/PseudoPipelineEnv/lib/python3.9/site-packages/pandas/util/_decorators.py:211\u001b[0m, in \u001b[0;36mdeprecate_kwarg.<locals>._deprecate_kwarg.<locals>.wrapper\u001b[0;34m(*args, **kwargs)\u001b[0m\n\u001b[1;32m    209\u001b[0m     \u001b[39melse\u001b[39;00m:\n\u001b[1;32m    210\u001b[0m         kwargs[new_arg_name] \u001b[39m=\u001b[39m new_arg_value\n\u001b[0;32m--> 211\u001b[0m \u001b[39mreturn\u001b[39;00m func(\u001b[39m*\u001b[39;49margs, \u001b[39m*\u001b[39;49m\u001b[39m*\u001b[39;49mkwargs)\n",
      "File \u001b[0;32m~/anaconda3/envs/PseudoPipelineEnv/lib/python3.9/site-packages/pandas/util/_decorators.py:331\u001b[0m, in \u001b[0;36mdeprecate_nonkeyword_arguments.<locals>.decorate.<locals>.wrapper\u001b[0;34m(*args, **kwargs)\u001b[0m\n\u001b[1;32m    325\u001b[0m \u001b[39mif\u001b[39;00m \u001b[39mlen\u001b[39m(args) \u001b[39m>\u001b[39m num_allow_args:\n\u001b[1;32m    326\u001b[0m     warnings\u001b[39m.\u001b[39mwarn(\n\u001b[1;32m    327\u001b[0m         msg\u001b[39m.\u001b[39mformat(arguments\u001b[39m=\u001b[39m_format_argument_list(allow_args)),\n\u001b[1;32m    328\u001b[0m         \u001b[39mFutureWarning\u001b[39;00m,\n\u001b[1;32m    329\u001b[0m         stacklevel\u001b[39m=\u001b[39mfind_stack_level(),\n\u001b[1;32m    330\u001b[0m     )\n\u001b[0;32m--> 331\u001b[0m \u001b[39mreturn\u001b[39;00m func(\u001b[39m*\u001b[39;49margs, \u001b[39m*\u001b[39;49m\u001b[39m*\u001b[39;49mkwargs)\n",
      "File \u001b[0;32m~/anaconda3/envs/PseudoPipelineEnv/lib/python3.9/site-packages/pandas/io/parsers/readers.py:950\u001b[0m, in \u001b[0;36mread_csv\u001b[0;34m(filepath_or_buffer, sep, delimiter, header, names, index_col, usecols, squeeze, prefix, mangle_dupe_cols, dtype, engine, converters, true_values, false_values, skipinitialspace, skiprows, skipfooter, nrows, na_values, keep_default_na, na_filter, verbose, skip_blank_lines, parse_dates, infer_datetime_format, keep_date_col, date_parser, dayfirst, cache_dates, iterator, chunksize, compression, thousands, decimal, lineterminator, quotechar, quoting, doublequote, escapechar, comment, encoding, encoding_errors, dialect, error_bad_lines, warn_bad_lines, on_bad_lines, delim_whitespace, low_memory, memory_map, float_precision, storage_options)\u001b[0m\n\u001b[1;32m    935\u001b[0m kwds_defaults \u001b[39m=\u001b[39m _refine_defaults_read(\n\u001b[1;32m    936\u001b[0m     dialect,\n\u001b[1;32m    937\u001b[0m     delimiter,\n\u001b[0;32m   (...)\u001b[0m\n\u001b[1;32m    946\u001b[0m     defaults\u001b[39m=\u001b[39m{\u001b[39m\"\u001b[39m\u001b[39mdelimiter\u001b[39m\u001b[39m\"\u001b[39m: \u001b[39m\"\u001b[39m\u001b[39m,\u001b[39m\u001b[39m\"\u001b[39m},\n\u001b[1;32m    947\u001b[0m )\n\u001b[1;32m    948\u001b[0m kwds\u001b[39m.\u001b[39mupdate(kwds_defaults)\n\u001b[0;32m--> 950\u001b[0m \u001b[39mreturn\u001b[39;00m _read(filepath_or_buffer, kwds)\n",
      "File \u001b[0;32m~/anaconda3/envs/PseudoPipelineEnv/lib/python3.9/site-packages/pandas/io/parsers/readers.py:605\u001b[0m, in \u001b[0;36m_read\u001b[0;34m(filepath_or_buffer, kwds)\u001b[0m\n\u001b[1;32m    602\u001b[0m _validate_names(kwds\u001b[39m.\u001b[39mget(\u001b[39m\"\u001b[39m\u001b[39mnames\u001b[39m\u001b[39m\"\u001b[39m, \u001b[39mNone\u001b[39;00m))\n\u001b[1;32m    604\u001b[0m \u001b[39m# Create the parser.\u001b[39;00m\n\u001b[0;32m--> 605\u001b[0m parser \u001b[39m=\u001b[39m TextFileReader(filepath_or_buffer, \u001b[39m*\u001b[39;49m\u001b[39m*\u001b[39;49mkwds)\n\u001b[1;32m    607\u001b[0m \u001b[39mif\u001b[39;00m chunksize \u001b[39mor\u001b[39;00m iterator:\n\u001b[1;32m    608\u001b[0m     \u001b[39mreturn\u001b[39;00m parser\n",
      "File \u001b[0;32m~/anaconda3/envs/PseudoPipelineEnv/lib/python3.9/site-packages/pandas/io/parsers/readers.py:1434\u001b[0m, in \u001b[0;36mTextFileReader.__init__\u001b[0;34m(self, f, engine, **kwds)\u001b[0m\n\u001b[1;32m   1431\u001b[0m \u001b[39mself\u001b[39m\u001b[39m.\u001b[39mnrows \u001b[39m=\u001b[39m options\u001b[39m.\u001b[39mpop(\u001b[39m\"\u001b[39m\u001b[39mnrows\u001b[39m\u001b[39m\"\u001b[39m, \u001b[39mNone\u001b[39;00m)\n\u001b[1;32m   1433\u001b[0m \u001b[39mself\u001b[39m\u001b[39m.\u001b[39m_check_file_or_buffer(f, engine)\n\u001b[0;32m-> 1434\u001b[0m \u001b[39mself\u001b[39m\u001b[39m.\u001b[39moptions, \u001b[39mself\u001b[39m\u001b[39m.\u001b[39mengine \u001b[39m=\u001b[39m \u001b[39mself\u001b[39;49m\u001b[39m.\u001b[39;49m_clean_options(options, engine)\n\u001b[1;32m   1436\u001b[0m \u001b[39mself\u001b[39m\u001b[39m.\u001b[39msqueeze \u001b[39m=\u001b[39m \u001b[39mself\u001b[39m\u001b[39m.\u001b[39moptions\u001b[39m.\u001b[39mpop(\u001b[39m\"\u001b[39m\u001b[39msqueeze\u001b[39m\u001b[39m\"\u001b[39m, \u001b[39mFalse\u001b[39;00m)\n\u001b[1;32m   1438\u001b[0m \u001b[39mif\u001b[39;00m \u001b[39m\"\u001b[39m\u001b[39mhas_index_names\u001b[39m\u001b[39m\"\u001b[39m \u001b[39min\u001b[39;00m kwds:\n",
      "File \u001b[0;32m~/anaconda3/envs/PseudoPipelineEnv/lib/python3.9/site-packages/pandas/io/parsers/readers.py:1629\u001b[0m, in \u001b[0;36mTextFileReader._clean_options\u001b[0;34m(self, options, engine)\u001b[0m\n\u001b[1;32m   1626\u001b[0m na_values \u001b[39m=\u001b[39m options[\u001b[39m\"\u001b[39m\u001b[39mna_values\u001b[39m\u001b[39m\"\u001b[39m]\n\u001b[1;32m   1627\u001b[0m skiprows \u001b[39m=\u001b[39m options[\u001b[39m\"\u001b[39m\u001b[39mskiprows\u001b[39m\u001b[39m\"\u001b[39m]\n\u001b[0;32m-> 1629\u001b[0m validate_header_arg(options[\u001b[39m\"\u001b[39;49m\u001b[39mheader\u001b[39;49m\u001b[39m\"\u001b[39;49m])\n\u001b[1;32m   1631\u001b[0m \u001b[39mfor\u001b[39;00m arg \u001b[39min\u001b[39;00m _deprecated_defaults\u001b[39m.\u001b[39mkeys():\n\u001b[1;32m   1632\u001b[0m     parser_default \u001b[39m=\u001b[39m _c_parser_defaults\u001b[39m.\u001b[39mget(arg, parser_defaults[arg])\n",
      "File \u001b[0;32m~/anaconda3/envs/PseudoPipelineEnv/lib/python3.9/site-packages/pandas/io/common.py:198\u001b[0m, in \u001b[0;36mvalidate_header_arg\u001b[0;34m(header)\u001b[0m\n\u001b[1;32m    196\u001b[0m header \u001b[39m=\u001b[39m cast(Sequence, header)\n\u001b[1;32m    197\u001b[0m \u001b[39mif\u001b[39;00m \u001b[39mnot\u001b[39;00m \u001b[39mall\u001b[39m(\u001b[39mmap\u001b[39m(is_integer, header)):\n\u001b[0;32m--> 198\u001b[0m     \u001b[39mraise\u001b[39;00m \u001b[39mValueError\u001b[39;00m(\u001b[39m\"\u001b[39m\u001b[39mheader must be integer or list of integers\u001b[39m\u001b[39m\"\u001b[39m)\n\u001b[1;32m    199\u001b[0m \u001b[39mif\u001b[39;00m \u001b[39many\u001b[39m(i \u001b[39m<\u001b[39m \u001b[39m0\u001b[39m \u001b[39mfor\u001b[39;00m i \u001b[39min\u001b[39;00m header):\n\u001b[1;32m    200\u001b[0m     \u001b[39mraise\u001b[39;00m \u001b[39mValueError\u001b[39;00m(\u001b[39m\"\u001b[39m\u001b[39mcannot specify multi-index header with negative integers\u001b[39m\u001b[39m\"\u001b[39m)\n",
      "\u001b[0;31mValueError\u001b[0m: header must be integer or list of integers"
     ]
    }
   ],
   "source": [
    "GO = pd.read_csv('/home/aadrian/Masters/Pseudobulk_Function_Pipeline_HighRes/data/GO/goa_human.gaf', skiprows=41, sep = \"\\t\", header = None)"
   ]
  },
  {
   "cell_type": "code",
   "execution_count": 6,
   "metadata": {},
   "outputs": [],
   "source": [
    "colnames = ['DB',\n",
    "            'DB_Object_ID',\n",
    "            'DB_Object_Symbol',\n",
    "            'Qualifier',\n",
    "            'GO ID',\n",
    "            'DB:Reference (|DB:Reference)',\n",
    "            'Evidence Code',\n",
    "            'With (or) From',\n",
    "            'Aspect',\n",
    "            'DB Object Name',\n",
    "            'DB Object Synonym (|Synonym)',\n",
    "            'DB Object Type',\n",
    "            'Taxon(|taxon)',\n",
    "            'Date',\n",
    "            'Assigned By',\n",
    "            'Annotation Extension',\n",
    "            'Gene Product Form ID']"
   ]
  },
  {
   "cell_type": "code",
   "execution_count": 12,
   "metadata": {},
   "outputs": [],
   "source": [
    "GO.columns = colnames"
   ]
  },
  {
   "cell_type": "code",
   "execution_count": 33,
   "metadata": {},
   "outputs": [
    {
     "data": {
      "text/html": [
       "<div>\n",
       "<style scoped>\n",
       "    .dataframe tbody tr th:only-of-type {\n",
       "        vertical-align: middle;\n",
       "    }\n",
       "\n",
       "    .dataframe tbody tr th {\n",
       "        vertical-align: top;\n",
       "    }\n",
       "\n",
       "    .dataframe thead th {\n",
       "        text-align: right;\n",
       "    }\n",
       "</style>\n",
       "<table border=\"1\" class=\"dataframe\">\n",
       "  <thead>\n",
       "    <tr style=\"text-align: right;\">\n",
       "      <th></th>\n",
       "      <th>DB_Object_Symbol</th>\n",
       "      <th>GO ID</th>\n",
       "      <th>Aspect</th>\n",
       "      <th>DB Object Name</th>\n",
       "    </tr>\n",
       "  </thead>\n",
       "  <tbody>\n",
       "    <tr>\n",
       "      <th>3</th>\n",
       "      <td>IGKV3-7</td>\n",
       "      <td>GO:0002250</td>\n",
       "      <td>P</td>\n",
       "      <td>Probable non-functional immunoglobulin kappa v...</td>\n",
       "    </tr>\n",
       "    <tr>\n",
       "      <th>6</th>\n",
       "      <td>IGKV1D-42</td>\n",
       "      <td>GO:0002250</td>\n",
       "      <td>P</td>\n",
       "      <td>Probable non-functional immunoglobulin kappa v...</td>\n",
       "    </tr>\n",
       "    <tr>\n",
       "      <th>9</th>\n",
       "      <td>IGLV4-69</td>\n",
       "      <td>GO:0002250</td>\n",
       "      <td>P</td>\n",
       "      <td>Immunoglobulin lambda variable 4-69</td>\n",
       "    </tr>\n",
       "    <tr>\n",
       "      <th>12</th>\n",
       "      <td>IGLV8-61</td>\n",
       "      <td>GO:0002250</td>\n",
       "      <td>P</td>\n",
       "      <td>Immunoglobulin lambda variable 8-61</td>\n",
       "    </tr>\n",
       "    <tr>\n",
       "      <th>15</th>\n",
       "      <td>IGLV4-60</td>\n",
       "      <td>GO:0002250</td>\n",
       "      <td>P</td>\n",
       "      <td>Immunoglobulin lambda variable 4-60</td>\n",
       "    </tr>\n",
       "    <tr>\n",
       "      <th>...</th>\n",
       "      <td>...</td>\n",
       "      <td>...</td>\n",
       "      <td>...</td>\n",
       "      <td>...</td>\n",
       "    </tr>\n",
       "    <tr>\n",
       "      <th>626123</th>\n",
       "      <td>IKBKG</td>\n",
       "      <td>GO:0043123</td>\n",
       "      <td>P</td>\n",
       "      <td>NF-kappa-B essential modulator</td>\n",
       "    </tr>\n",
       "    <tr>\n",
       "      <th>626128</th>\n",
       "      <td>EFCAB9</td>\n",
       "      <td>GO:0048240</td>\n",
       "      <td>P</td>\n",
       "      <td>EF-hand calcium-binding domain-containing prot...</td>\n",
       "    </tr>\n",
       "    <tr>\n",
       "      <th>626129</th>\n",
       "      <td>KNSTRN</td>\n",
       "      <td>GO:0051988</td>\n",
       "      <td>P</td>\n",
       "      <td>Small kinetochore-associated protein</td>\n",
       "    </tr>\n",
       "    <tr>\n",
       "      <th>626130</th>\n",
       "      <td>PTPN23</td>\n",
       "      <td>GO:0045022</td>\n",
       "      <td>P</td>\n",
       "      <td>Tyrosine-protein phosphatase non-receptor type 23</td>\n",
       "    </tr>\n",
       "    <tr>\n",
       "      <th>626131</th>\n",
       "      <td>UNC13B</td>\n",
       "      <td>GO:0061789</td>\n",
       "      <td>P</td>\n",
       "      <td>Protein unc-13 homolog B</td>\n",
       "    </tr>\n",
       "  </tbody>\n",
       "</table>\n",
       "<p>160866 rows × 4 columns</p>\n",
       "</div>"
      ],
      "text/plain": [
       "       DB_Object_Symbol       GO ID Aspect  \\\n",
       "3               IGKV3-7  GO:0002250      P   \n",
       "6             IGKV1D-42  GO:0002250      P   \n",
       "9              IGLV4-69  GO:0002250      P   \n",
       "12             IGLV8-61  GO:0002250      P   \n",
       "15             IGLV4-60  GO:0002250      P   \n",
       "...                 ...         ...    ...   \n",
       "626123            IKBKG  GO:0043123      P   \n",
       "626128           EFCAB9  GO:0048240      P   \n",
       "626129           KNSTRN  GO:0051988      P   \n",
       "626130           PTPN23  GO:0045022      P   \n",
       "626131           UNC13B  GO:0061789      P   \n",
       "\n",
       "                                           DB Object Name  \n",
       "3       Probable non-functional immunoglobulin kappa v...  \n",
       "6       Probable non-functional immunoglobulin kappa v...  \n",
       "9                     Immunoglobulin lambda variable 4-69  \n",
       "12                    Immunoglobulin lambda variable 8-61  \n",
       "15                    Immunoglobulin lambda variable 4-60  \n",
       "...                                                   ...  \n",
       "626123                     NF-kappa-B essential modulator  \n",
       "626128  EF-hand calcium-binding domain-containing prot...  \n",
       "626129               Small kinetochore-associated protein  \n",
       "626130  Tyrosine-protein phosphatase non-receptor type 23  \n",
       "626131                           Protein unc-13 homolog B  \n",
       "\n",
       "[160866 rows x 4 columns]"
      ]
     },
     "execution_count": 33,
     "metadata": {},
     "output_type": "execute_result"
    }
   ],
   "source": [
    "GO"
   ]
  },
  {
   "cell_type": "code",
   "execution_count": 17,
   "metadata": {},
   "outputs": [],
   "source": [
    "GO = GO.loc[:,['DB_Object_Symbol', 'GO ID', 'Aspect', 'DB Object Name'\t]]"
   ]
  },
  {
   "cell_type": "code",
   "execution_count": 22,
   "metadata": {},
   "outputs": [],
   "source": [
    "GO = GO[GO.loc[:, 'Aspect'] == \"P\"]"
   ]
  },
  {
   "cell_type": "code",
   "execution_count": 24,
   "metadata": {},
   "outputs": [
    {
     "data": {
      "text/html": [
       "<div>\n",
       "<style scoped>\n",
       "    .dataframe tbody tr th:only-of-type {\n",
       "        vertical-align: middle;\n",
       "    }\n",
       "\n",
       "    .dataframe tbody tr th {\n",
       "        vertical-align: top;\n",
       "    }\n",
       "\n",
       "    .dataframe thead th {\n",
       "        text-align: right;\n",
       "    }\n",
       "</style>\n",
       "<table border=\"1\" class=\"dataframe\">\n",
       "  <thead>\n",
       "    <tr style=\"text-align: right;\">\n",
       "      <th></th>\n",
       "      <th>DB_Object_Symbol</th>\n",
       "      <th>GO ID</th>\n",
       "      <th>Aspect</th>\n",
       "      <th>DB Object Name</th>\n",
       "    </tr>\n",
       "  </thead>\n",
       "  <tbody>\n",
       "    <tr>\n",
       "      <th>3</th>\n",
       "      <td>IGKV3-7</td>\n",
       "      <td>GO:0002250</td>\n",
       "      <td>P</td>\n",
       "      <td>Probable non-functional immunoglobulin kappa v...</td>\n",
       "    </tr>\n",
       "    <tr>\n",
       "      <th>6</th>\n",
       "      <td>IGKV1D-42</td>\n",
       "      <td>GO:0002250</td>\n",
       "      <td>P</td>\n",
       "      <td>Probable non-functional immunoglobulin kappa v...</td>\n",
       "    </tr>\n",
       "    <tr>\n",
       "      <th>9</th>\n",
       "      <td>IGLV4-69</td>\n",
       "      <td>GO:0002250</td>\n",
       "      <td>P</td>\n",
       "      <td>Immunoglobulin lambda variable 4-69</td>\n",
       "    </tr>\n",
       "    <tr>\n",
       "      <th>12</th>\n",
       "      <td>IGLV8-61</td>\n",
       "      <td>GO:0002250</td>\n",
       "      <td>P</td>\n",
       "      <td>Immunoglobulin lambda variable 8-61</td>\n",
       "    </tr>\n",
       "    <tr>\n",
       "      <th>15</th>\n",
       "      <td>IGLV4-60</td>\n",
       "      <td>GO:0002250</td>\n",
       "      <td>P</td>\n",
       "      <td>Immunoglobulin lambda variable 4-60</td>\n",
       "    </tr>\n",
       "    <tr>\n",
       "      <th>...</th>\n",
       "      <td>...</td>\n",
       "      <td>...</td>\n",
       "      <td>...</td>\n",
       "      <td>...</td>\n",
       "    </tr>\n",
       "    <tr>\n",
       "      <th>626123</th>\n",
       "      <td>IKBKG</td>\n",
       "      <td>GO:0043123</td>\n",
       "      <td>P</td>\n",
       "      <td>NF-kappa-B essential modulator</td>\n",
       "    </tr>\n",
       "    <tr>\n",
       "      <th>626128</th>\n",
       "      <td>EFCAB9</td>\n",
       "      <td>GO:0048240</td>\n",
       "      <td>P</td>\n",
       "      <td>EF-hand calcium-binding domain-containing prot...</td>\n",
       "    </tr>\n",
       "    <tr>\n",
       "      <th>626129</th>\n",
       "      <td>KNSTRN</td>\n",
       "      <td>GO:0051988</td>\n",
       "      <td>P</td>\n",
       "      <td>Small kinetochore-associated protein</td>\n",
       "    </tr>\n",
       "    <tr>\n",
       "      <th>626130</th>\n",
       "      <td>PTPN23</td>\n",
       "      <td>GO:0045022</td>\n",
       "      <td>P</td>\n",
       "      <td>Tyrosine-protein phosphatase non-receptor type 23</td>\n",
       "    </tr>\n",
       "    <tr>\n",
       "      <th>626131</th>\n",
       "      <td>UNC13B</td>\n",
       "      <td>GO:0061789</td>\n",
       "      <td>P</td>\n",
       "      <td>Protein unc-13 homolog B</td>\n",
       "    </tr>\n",
       "  </tbody>\n",
       "</table>\n",
       "<p>160866 rows × 4 columns</p>\n",
       "</div>"
      ],
      "text/plain": [
       "       DB_Object_Symbol       GO ID Aspect  \\\n",
       "3               IGKV3-7  GO:0002250      P   \n",
       "6             IGKV1D-42  GO:0002250      P   \n",
       "9              IGLV4-69  GO:0002250      P   \n",
       "12             IGLV8-61  GO:0002250      P   \n",
       "15             IGLV4-60  GO:0002250      P   \n",
       "...                 ...         ...    ...   \n",
       "626123            IKBKG  GO:0043123      P   \n",
       "626128           EFCAB9  GO:0048240      P   \n",
       "626129           KNSTRN  GO:0051988      P   \n",
       "626130           PTPN23  GO:0045022      P   \n",
       "626131           UNC13B  GO:0061789      P   \n",
       "\n",
       "                                           DB Object Name  \n",
       "3       Probable non-functional immunoglobulin kappa v...  \n",
       "6       Probable non-functional immunoglobulin kappa v...  \n",
       "9                     Immunoglobulin lambda variable 4-69  \n",
       "12                    Immunoglobulin lambda variable 8-61  \n",
       "15                    Immunoglobulin lambda variable 4-60  \n",
       "...                                                   ...  \n",
       "626123                     NF-kappa-B essential modulator  \n",
       "626128  EF-hand calcium-binding domain-containing prot...  \n",
       "626129               Small kinetochore-associated protein  \n",
       "626130  Tyrosine-protein phosphatase non-receptor type 23  \n",
       "626131                           Protein unc-13 homolog B  \n",
       "\n",
       "[160866 rows x 4 columns]"
      ]
     },
     "execution_count": 24,
     "metadata": {},
     "output_type": "execute_result"
    }
   ],
   "source": [
    "GO"
   ]
  },
  {
   "cell_type": "code",
   "execution_count": 38,
   "metadata": {},
   "outputs": [
    {
     "data": {
      "text/plain": [
       "12535"
      ]
     },
     "execution_count": 38,
     "metadata": {},
     "output_type": "execute_result"
    }
   ],
   "source": [
    "# Unique GO Biological Processes\n",
    "len(GO.loc[:,'GO ID'].unique())"
   ]
  },
  {
   "cell_type": "code",
   "execution_count": 39,
   "metadata": {},
   "outputs": [
    {
     "data": {
      "text/plain": [
       "17519"
      ]
     },
     "execution_count": 39,
     "metadata": {},
     "output_type": "execute_result"
    }
   ],
   "source": [
    "# Unique Genes that are annotated\n",
    "len(GO.loc[:,'DB_Object_Symbol'].unique())"
   ]
  },
  {
   "cell_type": "code",
   "execution_count": 26,
   "metadata": {},
   "outputs": [],
   "source": [
    "GO.to_csv('../data/GO/pro_GO.csv', index= False)"
   ]
  }
 ],
 "metadata": {
  "kernelspec": {
   "display_name": "PseudoPipelineEnv",
   "language": "python",
   "name": "python3"
  },
  "language_info": {
   "codemirror_mode": {
    "name": "ipython",
    "version": 3
   },
   "file_extension": ".py",
   "mimetype": "text/x-python",
   "name": "python",
   "nbconvert_exporter": "python",
   "pygments_lexer": "ipython3",
   "version": "3.9.13"
  },
  "orig_nbformat": 4,
  "vscode": {
   "interpreter": {
    "hash": "f088962022b5c5089ca0fd10bf64a529eb202e14a97c8bfe5bb517a051d5f1e8"
   }
  }
 },
 "nbformat": 4,
 "nbformat_minor": 2
}
