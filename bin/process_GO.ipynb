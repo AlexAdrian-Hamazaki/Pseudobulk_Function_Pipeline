{
 "cells": [
  {
   "cell_type": "code",
   "execution_count": 1,
   "metadata": {},
   "outputs": [],
   "source": [
    "import pandas as pd"
   ]
  },
  {
   "attachments": {},
   "cell_type": "markdown",
   "metadata": {},
   "source": [
    "# Purpose\n",
    "\n",
    "Take only the Biological Process GO Terms. Saves this as pro_GO.csv\n",
    "\n",
    "Column names of the .gaf file can be found here: http://geneontology.org/docs/go-annotation-file-gaf-format-2.2/#aspect-column-9\n",
    "\n",
    "Data downloaded from here: http://current.geneontology.org/products/pages/downloads.html"
   ]
  },
  {
   "cell_type": "code",
   "execution_count": 9,
   "metadata": {},
   "outputs": [
    {
     "name": "stderr",
     "output_type": "stream",
     "text": [
      "/tmp/ipykernel_29795/111684433.py:1: DtypeWarning: Columns (15) have mixed types. Specify dtype option on import or set low_memory=False.\n",
      "  GO = pd.read_csv('../data/GO/goa_human.gaf', skiprows=41, sep = \"\\t\", header = None)\n"
     ]
    }
   ],
   "source": [
    "GO = pd.read_csv('../data/GO/goa_human.gaf', skiprows=41, sep = \"\\t\", header = None)"
   ]
  },
  {
   "cell_type": "code",
   "execution_count": 11,
   "metadata": {},
   "outputs": [],
   "source": [
    "colnames = ['DB',\n",
    "            'DB_Object_ID',\n",
    "            'DB_Object_Symbol',\n",
    "            'Qualifier',\n",
    "            'GO ID',\n",
    "            'DB:Reference (|DB:Reference)',\n",
    "            'Evidence Code',\n",
    "            'With (or) From',\n",
    "            'Aspect',\n",
    "            'DB Object Name',\n",
    "            'DB Object Synonym (|Synonym)',\n",
    "            'DB Object Type',\n",
    "            'Taxon(|taxon)',\n",
    "            'Date',\n",
    "            'Assigned By',\n",
    "            'Annotation Extension',\n",
    "            'Gene Product Form ID']"
   ]
  },
  {
   "cell_type": "code",
   "execution_count": 12,
   "metadata": {},
   "outputs": [],
   "source": [
    "GO.columns = colnames"
   ]
  },
  {
   "cell_type": "code",
   "execution_count": 33,
   "metadata": {},
   "outputs": [
    {
     "data": {
      "text/html": [
       "<div>\n",
       "<style scoped>\n",
       "    .dataframe tbody tr th:only-of-type {\n",
       "        vertical-align: middle;\n",
       "    }\n",
       "\n",
       "    .dataframe tbody tr th {\n",
       "        vertical-align: top;\n",
       "    }\n",
       "\n",
       "    .dataframe thead th {\n",
       "        text-align: right;\n",
       "    }\n",
       "</style>\n",
       "<table border=\"1\" class=\"dataframe\">\n",
       "  <thead>\n",
       "    <tr style=\"text-align: right;\">\n",
       "      <th></th>\n",
       "      <th>DB_Object_Symbol</th>\n",
       "      <th>GO ID</th>\n",
       "      <th>Aspect</th>\n",
       "      <th>DB Object Name</th>\n",
       "    </tr>\n",
       "  </thead>\n",
       "  <tbody>\n",
       "    <tr>\n",
       "      <th>3</th>\n",
       "      <td>IGKV3-7</td>\n",
       "      <td>GO:0002250</td>\n",
       "      <td>P</td>\n",
       "      <td>Probable non-functional immunoglobulin kappa v...</td>\n",
       "    </tr>\n",
       "    <tr>\n",
       "      <th>6</th>\n",
       "      <td>IGKV1D-42</td>\n",
       "      <td>GO:0002250</td>\n",
       "      <td>P</td>\n",
       "      <td>Probable non-functional immunoglobulin kappa v...</td>\n",
       "    </tr>\n",
       "    <tr>\n",
       "      <th>9</th>\n",
       "      <td>IGLV4-69</td>\n",
       "      <td>GO:0002250</td>\n",
       "      <td>P</td>\n",
       "      <td>Immunoglobulin lambda variable 4-69</td>\n",
       "    </tr>\n",
       "    <tr>\n",
       "      <th>12</th>\n",
       "      <td>IGLV8-61</td>\n",
       "      <td>GO:0002250</td>\n",
       "      <td>P</td>\n",
       "      <td>Immunoglobulin lambda variable 8-61</td>\n",
       "    </tr>\n",
       "    <tr>\n",
       "      <th>15</th>\n",
       "      <td>IGLV4-60</td>\n",
       "      <td>GO:0002250</td>\n",
       "      <td>P</td>\n",
       "      <td>Immunoglobulin lambda variable 4-60</td>\n",
       "    </tr>\n",
       "    <tr>\n",
       "      <th>...</th>\n",
       "      <td>...</td>\n",
       "      <td>...</td>\n",
       "      <td>...</td>\n",
       "      <td>...</td>\n",
       "    </tr>\n",
       "    <tr>\n",
       "      <th>626123</th>\n",
       "      <td>IKBKG</td>\n",
       "      <td>GO:0043123</td>\n",
       "      <td>P</td>\n",
       "      <td>NF-kappa-B essential modulator</td>\n",
       "    </tr>\n",
       "    <tr>\n",
       "      <th>626128</th>\n",
       "      <td>EFCAB9</td>\n",
       "      <td>GO:0048240</td>\n",
       "      <td>P</td>\n",
       "      <td>EF-hand calcium-binding domain-containing prot...</td>\n",
       "    </tr>\n",
       "    <tr>\n",
       "      <th>626129</th>\n",
       "      <td>KNSTRN</td>\n",
       "      <td>GO:0051988</td>\n",
       "      <td>P</td>\n",
       "      <td>Small kinetochore-associated protein</td>\n",
       "    </tr>\n",
       "    <tr>\n",
       "      <th>626130</th>\n",
       "      <td>PTPN23</td>\n",
       "      <td>GO:0045022</td>\n",
       "      <td>P</td>\n",
       "      <td>Tyrosine-protein phosphatase non-receptor type 23</td>\n",
       "    </tr>\n",
       "    <tr>\n",
       "      <th>626131</th>\n",
       "      <td>UNC13B</td>\n",
       "      <td>GO:0061789</td>\n",
       "      <td>P</td>\n",
       "      <td>Protein unc-13 homolog B</td>\n",
       "    </tr>\n",
       "  </tbody>\n",
       "</table>\n",
       "<p>160866 rows × 4 columns</p>\n",
       "</div>"
      ],
      "text/plain": [
       "       DB_Object_Symbol       GO ID Aspect  \\\n",
       "3               IGKV3-7  GO:0002250      P   \n",
       "6             IGKV1D-42  GO:0002250      P   \n",
       "9              IGLV4-69  GO:0002250      P   \n",
       "12             IGLV8-61  GO:0002250      P   \n",
       "15             IGLV4-60  GO:0002250      P   \n",
       "...                 ...         ...    ...   \n",
       "626123            IKBKG  GO:0043123      P   \n",
       "626128           EFCAB9  GO:0048240      P   \n",
       "626129           KNSTRN  GO:0051988      P   \n",
       "626130           PTPN23  GO:0045022      P   \n",
       "626131           UNC13B  GO:0061789      P   \n",
       "\n",
       "                                           DB Object Name  \n",
       "3       Probable non-functional immunoglobulin kappa v...  \n",
       "6       Probable non-functional immunoglobulin kappa v...  \n",
       "9                     Immunoglobulin lambda variable 4-69  \n",
       "12                    Immunoglobulin lambda variable 8-61  \n",
       "15                    Immunoglobulin lambda variable 4-60  \n",
       "...                                                   ...  \n",
       "626123                     NF-kappa-B essential modulator  \n",
       "626128  EF-hand calcium-binding domain-containing prot...  \n",
       "626129               Small kinetochore-associated protein  \n",
       "626130  Tyrosine-protein phosphatase non-receptor type 23  \n",
       "626131                           Protein unc-13 homolog B  \n",
       "\n",
       "[160866 rows x 4 columns]"
      ]
     },
     "execution_count": 33,
     "metadata": {},
     "output_type": "execute_result"
    }
   ],
   "source": [
    "GO"
   ]
  },
  {
   "cell_type": "code",
   "execution_count": 17,
   "metadata": {},
   "outputs": [],
   "source": [
    "GO = GO.loc[:,['DB_Object_Symbol', 'GO ID', 'Aspect', 'DB Object Name'\t]]"
   ]
  },
  {
   "cell_type": "code",
   "execution_count": 22,
   "metadata": {},
   "outputs": [],
   "source": [
    "GO = GO[GO.loc[:, 'Aspect'] == \"P\"]"
   ]
  },
  {
   "cell_type": "code",
   "execution_count": 24,
   "metadata": {},
   "outputs": [
    {
     "data": {
      "text/html": [
       "<div>\n",
       "<style scoped>\n",
       "    .dataframe tbody tr th:only-of-type {\n",
       "        vertical-align: middle;\n",
       "    }\n",
       "\n",
       "    .dataframe tbody tr th {\n",
       "        vertical-align: top;\n",
       "    }\n",
       "\n",
       "    .dataframe thead th {\n",
       "        text-align: right;\n",
       "    }\n",
       "</style>\n",
       "<table border=\"1\" class=\"dataframe\">\n",
       "  <thead>\n",
       "    <tr style=\"text-align: right;\">\n",
       "      <th></th>\n",
       "      <th>DB_Object_Symbol</th>\n",
       "      <th>GO ID</th>\n",
       "      <th>Aspect</th>\n",
       "      <th>DB Object Name</th>\n",
       "    </tr>\n",
       "  </thead>\n",
       "  <tbody>\n",
       "    <tr>\n",
       "      <th>3</th>\n",
       "      <td>IGKV3-7</td>\n",
       "      <td>GO:0002250</td>\n",
       "      <td>P</td>\n",
       "      <td>Probable non-functional immunoglobulin kappa v...</td>\n",
       "    </tr>\n",
       "    <tr>\n",
       "      <th>6</th>\n",
       "      <td>IGKV1D-42</td>\n",
       "      <td>GO:0002250</td>\n",
       "      <td>P</td>\n",
       "      <td>Probable non-functional immunoglobulin kappa v...</td>\n",
       "    </tr>\n",
       "    <tr>\n",
       "      <th>9</th>\n",
       "      <td>IGLV4-69</td>\n",
       "      <td>GO:0002250</td>\n",
       "      <td>P</td>\n",
       "      <td>Immunoglobulin lambda variable 4-69</td>\n",
       "    </tr>\n",
       "    <tr>\n",
       "      <th>12</th>\n",
       "      <td>IGLV8-61</td>\n",
       "      <td>GO:0002250</td>\n",
       "      <td>P</td>\n",
       "      <td>Immunoglobulin lambda variable 8-61</td>\n",
       "    </tr>\n",
       "    <tr>\n",
       "      <th>15</th>\n",
       "      <td>IGLV4-60</td>\n",
       "      <td>GO:0002250</td>\n",
       "      <td>P</td>\n",
       "      <td>Immunoglobulin lambda variable 4-60</td>\n",
       "    </tr>\n",
       "    <tr>\n",
       "      <th>...</th>\n",
       "      <td>...</td>\n",
       "      <td>...</td>\n",
       "      <td>...</td>\n",
       "      <td>...</td>\n",
       "    </tr>\n",
       "    <tr>\n",
       "      <th>626123</th>\n",
       "      <td>IKBKG</td>\n",
       "      <td>GO:0043123</td>\n",
       "      <td>P</td>\n",
       "      <td>NF-kappa-B essential modulator</td>\n",
       "    </tr>\n",
       "    <tr>\n",
       "      <th>626128</th>\n",
       "      <td>EFCAB9</td>\n",
       "      <td>GO:0048240</td>\n",
       "      <td>P</td>\n",
       "      <td>EF-hand calcium-binding domain-containing prot...</td>\n",
       "    </tr>\n",
       "    <tr>\n",
       "      <th>626129</th>\n",
       "      <td>KNSTRN</td>\n",
       "      <td>GO:0051988</td>\n",
       "      <td>P</td>\n",
       "      <td>Small kinetochore-associated protein</td>\n",
       "    </tr>\n",
       "    <tr>\n",
       "      <th>626130</th>\n",
       "      <td>PTPN23</td>\n",
       "      <td>GO:0045022</td>\n",
       "      <td>P</td>\n",
       "      <td>Tyrosine-protein phosphatase non-receptor type 23</td>\n",
       "    </tr>\n",
       "    <tr>\n",
       "      <th>626131</th>\n",
       "      <td>UNC13B</td>\n",
       "      <td>GO:0061789</td>\n",
       "      <td>P</td>\n",
       "      <td>Protein unc-13 homolog B</td>\n",
       "    </tr>\n",
       "  </tbody>\n",
       "</table>\n",
       "<p>160866 rows × 4 columns</p>\n",
       "</div>"
      ],
      "text/plain": [
       "       DB_Object_Symbol       GO ID Aspect  \\\n",
       "3               IGKV3-7  GO:0002250      P   \n",
       "6             IGKV1D-42  GO:0002250      P   \n",
       "9              IGLV4-69  GO:0002250      P   \n",
       "12             IGLV8-61  GO:0002250      P   \n",
       "15             IGLV4-60  GO:0002250      P   \n",
       "...                 ...         ...    ...   \n",
       "626123            IKBKG  GO:0043123      P   \n",
       "626128           EFCAB9  GO:0048240      P   \n",
       "626129           KNSTRN  GO:0051988      P   \n",
       "626130           PTPN23  GO:0045022      P   \n",
       "626131           UNC13B  GO:0061789      P   \n",
       "\n",
       "                                           DB Object Name  \n",
       "3       Probable non-functional immunoglobulin kappa v...  \n",
       "6       Probable non-functional immunoglobulin kappa v...  \n",
       "9                     Immunoglobulin lambda variable 4-69  \n",
       "12                    Immunoglobulin lambda variable 8-61  \n",
       "15                    Immunoglobulin lambda variable 4-60  \n",
       "...                                                   ...  \n",
       "626123                     NF-kappa-B essential modulator  \n",
       "626128  EF-hand calcium-binding domain-containing prot...  \n",
       "626129               Small kinetochore-associated protein  \n",
       "626130  Tyrosine-protein phosphatase non-receptor type 23  \n",
       "626131                           Protein unc-13 homolog B  \n",
       "\n",
       "[160866 rows x 4 columns]"
      ]
     },
     "execution_count": 24,
     "metadata": {},
     "output_type": "execute_result"
    }
   ],
   "source": [
    "GO"
   ]
  },
  {
   "cell_type": "code",
   "execution_count": 38,
   "metadata": {},
   "outputs": [
    {
     "data": {
      "text/plain": [
       "12535"
      ]
     },
     "execution_count": 38,
     "metadata": {},
     "output_type": "execute_result"
    }
   ],
   "source": [
    "# Unique GO Biological Processes\n",
    "len(GO.loc[:,'GO ID'].unique())"
   ]
  },
  {
   "cell_type": "code",
   "execution_count": 39,
   "metadata": {},
   "outputs": [
    {
     "data": {
      "text/plain": [
       "17519"
      ]
     },
     "execution_count": 39,
     "metadata": {},
     "output_type": "execute_result"
    }
   ],
   "source": [
    "# Unique Genes that are annotated\n",
    "len(GO.loc[:,'DB_Object_Symbol'].unique())"
   ]
  },
  {
   "cell_type": "code",
   "execution_count": 26,
   "metadata": {},
   "outputs": [],
   "source": [
    "GO.to_csv('../data/GO/pro_GO.csv', index= False)"
   ]
  }
 ],
 "metadata": {
  "kernelspec": {
   "display_name": "PseudoPipelineEnv",
   "language": "python",
   "name": "python3"
  },
  "language_info": {
   "codemirror_mode": {
    "name": "ipython",
    "version": 3
   },
   "file_extension": ".py",
   "mimetype": "text/x-python",
   "name": "python",
   "nbconvert_exporter": "python",
   "pygments_lexer": "ipython3",
   "version": "3.9.13"
  },
  "orig_nbformat": 4,
  "vscode": {
   "interpreter": {
    "hash": "f088962022b5c5089ca0fd10bf64a529eb202e14a97c8bfe5bb517a051d5f1e8"
   }
  }
 },
 "nbformat": 4,
 "nbformat_minor": 2
}
