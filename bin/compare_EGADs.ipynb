{
 "cells": [
  {
   "cell_type": "code",
   "execution_count": 1,
   "metadata": {},
   "outputs": [],
   "source": [
    "import matplotlib.pyplot as plt\n",
    "import pandas as pd\n",
    "import numpy as np\n",
    "import anndata \n",
    "import my_describes"
   ]
  },
  {
   "cell_type": "code",
   "execution_count": 2,
   "metadata": {},
   "outputs": [],
   "source": [
    "sum_EGAD = pd.read_csv('../data/EAGD/EGAD_sum.csv')\n",
    "bulk_EGAD = pd.read_csv('../data/EAGD/EGAD_bulk.csv')\n",
    "avg_EGAD = pd.read_csv('../data/EAGD/EGAD.csv')"
   ]
  },
  {
   "cell_type": "code",
   "execution_count": 3,
   "metadata": {},
   "outputs": [
    {
     "data": {
      "text/html": [
       "<div>\n",
       "<style scoped>\n",
       "    .dataframe tbody tr th:only-of-type {\n",
       "        vertical-align: middle;\n",
       "    }\n",
       "\n",
       "    .dataframe tbody tr th {\n",
       "        vertical-align: top;\n",
       "    }\n",
       "\n",
       "    .dataframe thead th {\n",
       "        text-align: right;\n",
       "    }\n",
       "</style>\n",
       "<table border=\"1\" class=\"dataframe\">\n",
       "  <thead>\n",
       "    <tr style=\"text-align: right;\">\n",
       "      <th></th>\n",
       "      <th>auc</th>\n",
       "      <th>avg_node_degree</th>\n",
       "      <th>degree_null_auc</th>\n",
       "    </tr>\n",
       "  </thead>\n",
       "  <tbody>\n",
       "    <tr>\n",
       "      <th>GO:0002250</th>\n",
       "      <td>0.859971</td>\n",
       "      <td>5307.379533</td>\n",
       "      <td>0.216926</td>\n",
       "    </tr>\n",
       "    <tr>\n",
       "      <th>GO:0045087</th>\n",
       "      <td>0.694435</td>\n",
       "      <td>7381.768526</td>\n",
       "      <td>0.408815</td>\n",
       "    </tr>\n",
       "    <tr>\n",
       "      <th>GO:0071918</th>\n",
       "      <td>0.455685</td>\n",
       "      <td>5677.674758</td>\n",
       "      <td>0.234813</td>\n",
       "    </tr>\n",
       "    <tr>\n",
       "      <th>GO:0006955</th>\n",
       "      <td>0.756960</td>\n",
       "      <td>6516.232412</td>\n",
       "      <td>0.307746</td>\n",
       "    </tr>\n",
       "    <tr>\n",
       "      <th>GO:0050830</th>\n",
       "      <td>0.729795</td>\n",
       "      <td>5711.458055</td>\n",
       "      <td>0.270138</td>\n",
       "    </tr>\n",
       "    <tr>\n",
       "      <th>...</th>\n",
       "      <td>...</td>\n",
       "      <td>...</td>\n",
       "      <td>...</td>\n",
       "    </tr>\n",
       "    <tr>\n",
       "      <th>GO:1902983</th>\n",
       "      <td>0.500000</td>\n",
       "      <td>8849.766000</td>\n",
       "      <td>0.473873</td>\n",
       "    </tr>\n",
       "    <tr>\n",
       "      <th>GO:0033316</th>\n",
       "      <td>0.500000</td>\n",
       "      <td>7707.735000</td>\n",
       "      <td>0.390301</td>\n",
       "    </tr>\n",
       "    <tr>\n",
       "      <th>GO:0031445</th>\n",
       "      <td>0.500000</td>\n",
       "      <td>10482.470000</td>\n",
       "      <td>0.634693</td>\n",
       "    </tr>\n",
       "    <tr>\n",
       "      <th>GO:0031282</th>\n",
       "      <td>0.500000</td>\n",
       "      <td>10126.800000</td>\n",
       "      <td>0.578442</td>\n",
       "    </tr>\n",
       "    <tr>\n",
       "      <th>GO:0009396</th>\n",
       "      <td>0.500000</td>\n",
       "      <td>10519.320000</td>\n",
       "      <td>0.643343</td>\n",
       "    </tr>\n",
       "  </tbody>\n",
       "</table>\n",
       "<p>12535 rows × 3 columns</p>\n",
       "</div>"
      ],
      "text/plain": [
       "                 auc  avg_node_degree  degree_null_auc\n",
       "GO:0002250  0.859971      5307.379533         0.216926\n",
       "GO:0045087  0.694435      7381.768526         0.408815\n",
       "GO:0071918  0.455685      5677.674758         0.234813\n",
       "GO:0006955  0.756960      6516.232412         0.307746\n",
       "GO:0050830  0.729795      5711.458055         0.270138\n",
       "...              ...              ...              ...\n",
       "GO:1902983  0.500000      8849.766000         0.473873\n",
       "GO:0033316  0.500000      7707.735000         0.390301\n",
       "GO:0031445  0.500000     10482.470000         0.634693\n",
       "GO:0031282  0.500000     10126.800000         0.578442\n",
       "GO:0009396  0.500000     10519.320000         0.643343\n",
       "\n",
       "[12535 rows x 3 columns]"
      ]
     },
     "execution_count": 3,
     "metadata": {},
     "output_type": "execute_result"
    }
   ],
   "source": [
    "sum_EGAD"
   ]
  },
  {
   "cell_type": "code",
   "execution_count": 4,
   "metadata": {},
   "outputs": [
    {
     "data": {
      "text/html": [
       "<div>\n",
       "<style scoped>\n",
       "    .dataframe tbody tr th:only-of-type {\n",
       "        vertical-align: middle;\n",
       "    }\n",
       "\n",
       "    .dataframe tbody tr th {\n",
       "        vertical-align: top;\n",
       "    }\n",
       "\n",
       "    .dataframe thead th {\n",
       "        text-align: right;\n",
       "    }\n",
       "</style>\n",
       "<table border=\"1\" class=\"dataframe\">\n",
       "  <thead>\n",
       "    <tr style=\"text-align: right;\">\n",
       "      <th></th>\n",
       "      <th>auc</th>\n",
       "      <th>avg_node_degree</th>\n",
       "      <th>degree_null_auc</th>\n",
       "    </tr>\n",
       "  </thead>\n",
       "  <tbody>\n",
       "    <tr>\n",
       "      <th>GO:0002250</th>\n",
       "      <td>0.799935</td>\n",
       "      <td>494.519817</td>\n",
       "      <td>0.238547</td>\n",
       "    </tr>\n",
       "    <tr>\n",
       "      <th>GO:0045087</th>\n",
       "      <td>0.670182</td>\n",
       "      <td>893.203658</td>\n",
       "      <td>0.379591</td>\n",
       "    </tr>\n",
       "    <tr>\n",
       "      <th>GO:0071918</th>\n",
       "      <td>0.823148</td>\n",
       "      <td>76.504642</td>\n",
       "      <td>0.144572</td>\n",
       "    </tr>\n",
       "    <tr>\n",
       "      <th>GO:0006955</th>\n",
       "      <td>0.754855</td>\n",
       "      <td>536.131997</td>\n",
       "      <td>0.249467</td>\n",
       "    </tr>\n",
       "    <tr>\n",
       "      <th>GO:0050830</th>\n",
       "      <td>0.721034</td>\n",
       "      <td>501.303302</td>\n",
       "      <td>0.290244</td>\n",
       "    </tr>\n",
       "    <tr>\n",
       "      <th>...</th>\n",
       "      <td>...</td>\n",
       "      <td>...</td>\n",
       "      <td>...</td>\n",
       "    </tr>\n",
       "    <tr>\n",
       "      <th>GO:1902983</th>\n",
       "      <td>NaN</td>\n",
       "      <td>NaN</td>\n",
       "      <td>NaN</td>\n",
       "    </tr>\n",
       "    <tr>\n",
       "      <th>GO:0033316</th>\n",
       "      <td>0.500000</td>\n",
       "      <td>1424.382744</td>\n",
       "      <td>0.466725</td>\n",
       "    </tr>\n",
       "    <tr>\n",
       "      <th>GO:0031445</th>\n",
       "      <td>NaN</td>\n",
       "      <td>NaN</td>\n",
       "      <td>NaN</td>\n",
       "    </tr>\n",
       "    <tr>\n",
       "      <th>GO:0031282</th>\n",
       "      <td>0.500000</td>\n",
       "      <td>2858.328857</td>\n",
       "      <td>0.909190</td>\n",
       "    </tr>\n",
       "    <tr>\n",
       "      <th>GO:0009396</th>\n",
       "      <td>NaN</td>\n",
       "      <td>NaN</td>\n",
       "      <td>NaN</td>\n",
       "    </tr>\n",
       "  </tbody>\n",
       "</table>\n",
       "<p>12535 rows × 3 columns</p>\n",
       "</div>"
      ],
      "text/plain": [
       "                 auc  avg_node_degree  degree_null_auc\n",
       "GO:0002250  0.799935       494.519817         0.238547\n",
       "GO:0045087  0.670182       893.203658         0.379591\n",
       "GO:0071918  0.823148        76.504642         0.144572\n",
       "GO:0006955  0.754855       536.131997         0.249467\n",
       "GO:0050830  0.721034       501.303302         0.290244\n",
       "...              ...              ...              ...\n",
       "GO:1902983       NaN              NaN              NaN\n",
       "GO:0033316  0.500000      1424.382744         0.466725\n",
       "GO:0031445       NaN              NaN              NaN\n",
       "GO:0031282  0.500000      2858.328857         0.909190\n",
       "GO:0009396       NaN              NaN              NaN\n",
       "\n",
       "[12535 rows x 3 columns]"
      ]
     },
     "execution_count": 4,
     "metadata": {},
     "output_type": "execute_result"
    }
   ],
   "source": [
    "bulk_EGAD"
   ]
  },
  {
   "cell_type": "code",
   "execution_count": 5,
   "metadata": {},
   "outputs": [
    {
     "data": {
      "text/html": [
       "<div>\n",
       "<style scoped>\n",
       "    .dataframe tbody tr th:only-of-type {\n",
       "        vertical-align: middle;\n",
       "    }\n",
       "\n",
       "    .dataframe tbody tr th {\n",
       "        vertical-align: top;\n",
       "    }\n",
       "\n",
       "    .dataframe thead th {\n",
       "        text-align: right;\n",
       "    }\n",
       "</style>\n",
       "<table border=\"1\" class=\"dataframe\">\n",
       "  <thead>\n",
       "    <tr style=\"text-align: right;\">\n",
       "      <th></th>\n",
       "      <th>auc</th>\n",
       "      <th>avg_node_degree</th>\n",
       "      <th>degree_null_auc</th>\n",
       "    </tr>\n",
       "  </thead>\n",
       "  <tbody>\n",
       "    <tr>\n",
       "      <th>GO:0002250</th>\n",
       "      <td>0.698722</td>\n",
       "      <td>-36.622420</td>\n",
       "      <td>0.337597</td>\n",
       "    </tr>\n",
       "    <tr>\n",
       "      <th>GO:0045087</th>\n",
       "      <td>0.572079</td>\n",
       "      <td>4.684482</td>\n",
       "      <td>0.470169</td>\n",
       "    </tr>\n",
       "    <tr>\n",
       "      <th>GO:0071918</th>\n",
       "      <td>0.535595</td>\n",
       "      <td>-83.280470</td>\n",
       "      <td>0.421289</td>\n",
       "    </tr>\n",
       "    <tr>\n",
       "      <th>GO:0006955</th>\n",
       "      <td>0.642805</td>\n",
       "      <td>-21.098645</td>\n",
       "      <td>0.404564</td>\n",
       "    </tr>\n",
       "    <tr>\n",
       "      <th>GO:0050830</th>\n",
       "      <td>0.649765</td>\n",
       "      <td>3.562382</td>\n",
       "      <td>0.342652</td>\n",
       "    </tr>\n",
       "    <tr>\n",
       "      <th>...</th>\n",
       "      <td>...</td>\n",
       "      <td>...</td>\n",
       "      <td>...</td>\n",
       "    </tr>\n",
       "    <tr>\n",
       "      <th>GO:1902983</th>\n",
       "      <td>0.500000</td>\n",
       "      <td>205.923307</td>\n",
       "      <td>0.718325</td>\n",
       "    </tr>\n",
       "    <tr>\n",
       "      <th>GO:0033316</th>\n",
       "      <td>0.500000</td>\n",
       "      <td>7.085241</td>\n",
       "      <td>0.036387</td>\n",
       "    </tr>\n",
       "    <tr>\n",
       "      <th>GO:0031445</th>\n",
       "      <td>0.500000</td>\n",
       "      <td>-213.266224</td>\n",
       "      <td>0.733596</td>\n",
       "    </tr>\n",
       "    <tr>\n",
       "      <th>GO:0031282</th>\n",
       "      <td>0.500000</td>\n",
       "      <td>41.515715</td>\n",
       "      <td>0.188797</td>\n",
       "    </tr>\n",
       "    <tr>\n",
       "      <th>GO:0009396</th>\n",
       "      <td>0.500000</td>\n",
       "      <td>-67.545619</td>\n",
       "      <td>0.298020</td>\n",
       "    </tr>\n",
       "  </tbody>\n",
       "</table>\n",
       "<p>12535 rows × 3 columns</p>\n",
       "</div>"
      ],
      "text/plain": [
       "                 auc  avg_node_degree  degree_null_auc\n",
       "GO:0002250  0.698722       -36.622420         0.337597\n",
       "GO:0045087  0.572079         4.684482         0.470169\n",
       "GO:0071918  0.535595       -83.280470         0.421289\n",
       "GO:0006955  0.642805       -21.098645         0.404564\n",
       "GO:0050830  0.649765         3.562382         0.342652\n",
       "...              ...              ...              ...\n",
       "GO:1902983  0.500000       205.923307         0.718325\n",
       "GO:0033316  0.500000         7.085241         0.036387\n",
       "GO:0031445  0.500000      -213.266224         0.733596\n",
       "GO:0031282  0.500000        41.515715         0.188797\n",
       "GO:0009396  0.500000       -67.545619         0.298020\n",
       "\n",
       "[12535 rows x 3 columns]"
      ]
     },
     "execution_count": 5,
     "metadata": {},
     "output_type": "execute_result"
    }
   ],
   "source": [
    "avg_EGAD"
   ]
  },
  {
   "attachments": {},
   "cell_type": "markdown",
   "metadata": {},
   "source": [
    "# Filter for top 10% GO annotations"
   ]
  },
  {
   "cell_type": "code",
   "execution_count": 6,
   "metadata": {},
   "outputs": [],
   "source": [
    "def filter_by_percentile(df:pd.DataFrame, by:str, percentage:float, ascending:bool):\n",
    "\n",
    "    n_row = len(df)\n",
    "\n",
    "    return df.sort_values(by = by, ascending = ascending).head(int(n_row*percentage))\n",
    "\n"
   ]
  },
  {
   "cell_type": "code",
   "execution_count": 7,
   "metadata": {},
   "outputs": [],
   "source": [
    "sum_top_GO = filter_by_percentile(sum_EGAD, by = 'auc', percentage=0.1, ascending=False)"
   ]
  },
  {
   "cell_type": "code",
   "execution_count": 8,
   "metadata": {},
   "outputs": [
    {
     "data": {
      "text/html": [
       "<div>\n",
       "<style scoped>\n",
       "    .dataframe tbody tr th:only-of-type {\n",
       "        vertical-align: middle;\n",
       "    }\n",
       "\n",
       "    .dataframe tbody tr th {\n",
       "        vertical-align: top;\n",
       "    }\n",
       "\n",
       "    .dataframe thead th {\n",
       "        text-align: right;\n",
       "    }\n",
       "</style>\n",
       "<table border=\"1\" class=\"dataframe\">\n",
       "  <thead>\n",
       "    <tr style=\"text-align: right;\">\n",
       "      <th></th>\n",
       "      <th>auc</th>\n",
       "      <th>avg_node_degree</th>\n",
       "      <th>degree_null_auc</th>\n",
       "    </tr>\n",
       "  </thead>\n",
       "  <tbody>\n",
       "    <tr>\n",
       "      <th>GO:0050817</th>\n",
       "      <td>0.999901</td>\n",
       "      <td>1901.794000</td>\n",
       "      <td>0.012945</td>\n",
       "    </tr>\n",
       "    <tr>\n",
       "      <th>GO:0044278</th>\n",
       "      <td>0.999483</td>\n",
       "      <td>1867.432000</td>\n",
       "      <td>0.014289</td>\n",
       "    </tr>\n",
       "    <tr>\n",
       "      <th>GO:0072272</th>\n",
       "      <td>0.998986</td>\n",
       "      <td>5275.135000</td>\n",
       "      <td>0.189733</td>\n",
       "    </tr>\n",
       "    <tr>\n",
       "      <th>GO:0030221</th>\n",
       "      <td>0.998827</td>\n",
       "      <td>2609.022000</td>\n",
       "      <td>0.050259</td>\n",
       "    </tr>\n",
       "    <tr>\n",
       "      <th>GO:0070640</th>\n",
       "      <td>0.998707</td>\n",
       "      <td>3252.896000</td>\n",
       "      <td>0.062250</td>\n",
       "    </tr>\n",
       "    <tr>\n",
       "      <th>...</th>\n",
       "      <td>...</td>\n",
       "      <td>...</td>\n",
       "      <td>...</td>\n",
       "    </tr>\n",
       "    <tr>\n",
       "      <th>GO:0034089</th>\n",
       "      <td>0.867589</td>\n",
       "      <td>10532.870000</td>\n",
       "      <td>0.791510</td>\n",
       "    </tr>\n",
       "    <tr>\n",
       "      <th>GO:0090179</th>\n",
       "      <td>0.867588</td>\n",
       "      <td>7896.030000</td>\n",
       "      <td>0.469490</td>\n",
       "    </tr>\n",
       "    <tr>\n",
       "      <th>GO:0060160</th>\n",
       "      <td>0.867538</td>\n",
       "      <td>5189.463000</td>\n",
       "      <td>0.190709</td>\n",
       "    </tr>\n",
       "    <tr>\n",
       "      <th>GO:0062043</th>\n",
       "      <td>0.867518</td>\n",
       "      <td>8405.508000</td>\n",
       "      <td>0.443861</td>\n",
       "    </tr>\n",
       "    <tr>\n",
       "      <th>GO:0060350</th>\n",
       "      <td>0.867470</td>\n",
       "      <td>8035.441638</td>\n",
       "      <td>0.483459</td>\n",
       "    </tr>\n",
       "  </tbody>\n",
       "</table>\n",
       "<p>1253 rows × 3 columns</p>\n",
       "</div>"
      ],
      "text/plain": [
       "                 auc  avg_node_degree  degree_null_auc\n",
       "GO:0050817  0.999901      1901.794000         0.012945\n",
       "GO:0044278  0.999483      1867.432000         0.014289\n",
       "GO:0072272  0.998986      5275.135000         0.189733\n",
       "GO:0030221  0.998827      2609.022000         0.050259\n",
       "GO:0070640  0.998707      3252.896000         0.062250\n",
       "...              ...              ...              ...\n",
       "GO:0034089  0.867589     10532.870000         0.791510\n",
       "GO:0090179  0.867588      7896.030000         0.469490\n",
       "GO:0060160  0.867538      5189.463000         0.190709\n",
       "GO:0062043  0.867518      8405.508000         0.443861\n",
       "GO:0060350  0.867470      8035.441638         0.483459\n",
       "\n",
       "[1253 rows x 3 columns]"
      ]
     },
     "execution_count": 8,
     "metadata": {},
     "output_type": "execute_result"
    }
   ],
   "source": [
    "sum_top_GO"
   ]
  },
  {
   "cell_type": "code",
   "execution_count": 9,
   "metadata": {},
   "outputs": [],
   "source": [
    "bulk_top_GO = filter_by_percentile(bulk_EGAD, by = 'auc', percentage=0.1, ascending=False)"
   ]
  },
  {
   "cell_type": "code",
   "execution_count": 10,
   "metadata": {},
   "outputs": [
    {
     "data": {
      "text/html": [
       "<div>\n",
       "<style scoped>\n",
       "    .dataframe tbody tr th:only-of-type {\n",
       "        vertical-align: middle;\n",
       "    }\n",
       "\n",
       "    .dataframe tbody tr th {\n",
       "        vertical-align: top;\n",
       "    }\n",
       "\n",
       "    .dataframe thead th {\n",
       "        text-align: right;\n",
       "    }\n",
       "</style>\n",
       "<table border=\"1\" class=\"dataframe\">\n",
       "  <thead>\n",
       "    <tr style=\"text-align: right;\">\n",
       "      <th></th>\n",
       "      <th>auc</th>\n",
       "      <th>avg_node_degree</th>\n",
       "      <th>degree_null_auc</th>\n",
       "    </tr>\n",
       "  </thead>\n",
       "  <tbody>\n",
       "    <tr>\n",
       "      <th>GO:0048627</th>\n",
       "      <td>0.998616</td>\n",
       "      <td>-3.331421</td>\n",
       "      <td>0.002077</td>\n",
       "    </tr>\n",
       "    <tr>\n",
       "      <th>GO:0055096</th>\n",
       "      <td>0.995155</td>\n",
       "      <td>59.076677</td>\n",
       "      <td>0.045574</td>\n",
       "    </tr>\n",
       "    <tr>\n",
       "      <th>GO:0001661</th>\n",
       "      <td>0.992350</td>\n",
       "      <td>13.711224</td>\n",
       "      <td>0.028743</td>\n",
       "    </tr>\n",
       "    <tr>\n",
       "      <th>GO:0035434</th>\n",
       "      <td>0.992058</td>\n",
       "      <td>18.947792</td>\n",
       "      <td>0.025082</td>\n",
       "    </tr>\n",
       "    <tr>\n",
       "      <th>GO:1905704</th>\n",
       "      <td>0.991913</td>\n",
       "      <td>66.507726</td>\n",
       "      <td>0.026284</td>\n",
       "    </tr>\n",
       "    <tr>\n",
       "      <th>...</th>\n",
       "      <td>...</td>\n",
       "      <td>...</td>\n",
       "      <td>...</td>\n",
       "    </tr>\n",
       "    <tr>\n",
       "      <th>GO:0007035</th>\n",
       "      <td>0.774930</td>\n",
       "      <td>694.754570</td>\n",
       "      <td>0.359726</td>\n",
       "    </tr>\n",
       "    <tr>\n",
       "      <th>GO:2001045</th>\n",
       "      <td>0.774681</td>\n",
       "      <td>2212.761897</td>\n",
       "      <td>0.729508</td>\n",
       "    </tr>\n",
       "    <tr>\n",
       "      <th>GO:0010739</th>\n",
       "      <td>0.774637</td>\n",
       "      <td>688.331265</td>\n",
       "      <td>0.262027</td>\n",
       "    </tr>\n",
       "    <tr>\n",
       "      <th>GO:0018057</th>\n",
       "      <td>0.774486</td>\n",
       "      <td>1580.598302</td>\n",
       "      <td>0.525552</td>\n",
       "    </tr>\n",
       "    <tr>\n",
       "      <th>GO:0060336</th>\n",
       "      <td>0.774462</td>\n",
       "      <td>645.870078</td>\n",
       "      <td>0.367727</td>\n",
       "    </tr>\n",
       "  </tbody>\n",
       "</table>\n",
       "<p>1253 rows × 3 columns</p>\n",
       "</div>"
      ],
      "text/plain": [
       "                 auc  avg_node_degree  degree_null_auc\n",
       "GO:0048627  0.998616        -3.331421         0.002077\n",
       "GO:0055096  0.995155        59.076677         0.045574\n",
       "GO:0001661  0.992350        13.711224         0.028743\n",
       "GO:0035434  0.992058        18.947792         0.025082\n",
       "GO:1905704  0.991913        66.507726         0.026284\n",
       "...              ...              ...              ...\n",
       "GO:0007035  0.774930       694.754570         0.359726\n",
       "GO:2001045  0.774681      2212.761897         0.729508\n",
       "GO:0010739  0.774637       688.331265         0.262027\n",
       "GO:0018057  0.774486      1580.598302         0.525552\n",
       "GO:0060336  0.774462       645.870078         0.367727\n",
       "\n",
       "[1253 rows x 3 columns]"
      ]
     },
     "execution_count": 10,
     "metadata": {},
     "output_type": "execute_result"
    }
   ],
   "source": [
    "bulk_top_GO"
   ]
  },
  {
   "cell_type": "code",
   "execution_count": 11,
   "metadata": {},
   "outputs": [],
   "source": [
    "avg_top_GO = filter_by_percentile(avg_EGAD, by = 'auc', percentage=0.1, ascending=False)"
   ]
  },
  {
   "cell_type": "code",
   "execution_count": 12,
   "metadata": {},
   "outputs": [
    {
     "data": {
      "text/html": [
       "<div>\n",
       "<style scoped>\n",
       "    .dataframe tbody tr th:only-of-type {\n",
       "        vertical-align: middle;\n",
       "    }\n",
       "\n",
       "    .dataframe tbody tr th {\n",
       "        vertical-align: top;\n",
       "    }\n",
       "\n",
       "    .dataframe thead th {\n",
       "        text-align: right;\n",
       "    }\n",
       "</style>\n",
       "<table border=\"1\" class=\"dataframe\">\n",
       "  <thead>\n",
       "    <tr style=\"text-align: right;\">\n",
       "      <th></th>\n",
       "      <th>auc</th>\n",
       "      <th>avg_node_degree</th>\n",
       "      <th>degree_null_auc</th>\n",
       "    </tr>\n",
       "  </thead>\n",
       "  <tbody>\n",
       "    <tr>\n",
       "      <th>GO:0070476</th>\n",
       "      <td>0.997992</td>\n",
       "      <td>1.521736</td>\n",
       "      <td>0.009455</td>\n",
       "    </tr>\n",
       "    <tr>\n",
       "      <th>GO:0030573</th>\n",
       "      <td>0.996838</td>\n",
       "      <td>9.090693</td>\n",
       "      <td>0.044741</td>\n",
       "    </tr>\n",
       "    <tr>\n",
       "      <th>GO:0060621</th>\n",
       "      <td>0.996600</td>\n",
       "      <td>-4.832343</td>\n",
       "      <td>0.047605</td>\n",
       "    </tr>\n",
       "    <tr>\n",
       "      <th>GO:0008315</th>\n",
       "      <td>0.995466</td>\n",
       "      <td>-2.246772</td>\n",
       "      <td>0.050468</td>\n",
       "    </tr>\n",
       "    <tr>\n",
       "      <th>GO:0034370</th>\n",
       "      <td>0.995188</td>\n",
       "      <td>-2.141337</td>\n",
       "      <td>0.035495</td>\n",
       "    </tr>\n",
       "    <tr>\n",
       "      <th>...</th>\n",
       "      <td>...</td>\n",
       "      <td>...</td>\n",
       "      <td>...</td>\n",
       "    </tr>\n",
       "    <tr>\n",
       "      <th>GO:0072673</th>\n",
       "      <td>0.775550</td>\n",
       "      <td>-7.953564</td>\n",
       "      <td>0.471587</td>\n",
       "    </tr>\n",
       "    <tr>\n",
       "      <th>GO:0044806</th>\n",
       "      <td>0.775401</td>\n",
       "      <td>101.669619</td>\n",
       "      <td>0.466984</td>\n",
       "    </tr>\n",
       "    <tr>\n",
       "      <th>GO:0007494</th>\n",
       "      <td>0.775397</td>\n",
       "      <td>117.012913</td>\n",
       "      <td>0.440711</td>\n",
       "    </tr>\n",
       "    <tr>\n",
       "      <th>GO:1904708</th>\n",
       "      <td>0.775319</td>\n",
       "      <td>180.555845</td>\n",
       "      <td>0.499463</td>\n",
       "    </tr>\n",
       "    <tr>\n",
       "      <th>GO:0051884</th>\n",
       "      <td>0.775160</td>\n",
       "      <td>72.144186</td>\n",
       "      <td>0.283631</td>\n",
       "    </tr>\n",
       "  </tbody>\n",
       "</table>\n",
       "<p>1253 rows × 3 columns</p>\n",
       "</div>"
      ],
      "text/plain": [
       "                 auc  avg_node_degree  degree_null_auc\n",
       "GO:0070476  0.997992         1.521736         0.009455\n",
       "GO:0030573  0.996838         9.090693         0.044741\n",
       "GO:0060621  0.996600        -4.832343         0.047605\n",
       "GO:0008315  0.995466        -2.246772         0.050468\n",
       "GO:0034370  0.995188        -2.141337         0.035495\n",
       "...              ...              ...              ...\n",
       "GO:0072673  0.775550        -7.953564         0.471587\n",
       "GO:0044806  0.775401       101.669619         0.466984\n",
       "GO:0007494  0.775397       117.012913         0.440711\n",
       "GO:1904708  0.775319       180.555845         0.499463\n",
       "GO:0051884  0.775160        72.144186         0.283631\n",
       "\n",
       "[1253 rows x 3 columns]"
      ]
     },
     "execution_count": 12,
     "metadata": {},
     "output_type": "execute_result"
    }
   ],
   "source": [
    "avg_top_GO"
   ]
  },
  {
   "attachments": {},
   "cell_type": "markdown",
   "metadata": {},
   "source": [
    "# Retieve GO Terms"
   ]
  },
  {
   "cell_type": "code",
   "execution_count": 13,
   "metadata": {},
   "outputs": [],
   "source": [
    "sum_GO = np.array(sum_top_GO.index)"
   ]
  },
  {
   "cell_type": "code",
   "execution_count": 14,
   "metadata": {},
   "outputs": [
    {
     "data": {
      "text/plain": [
       "array(['GO:0050817', 'GO:0044278', 'GO:0072272', ..., 'GO:0060160',\n",
       "       'GO:0062043', 'GO:0060350'], dtype=object)"
      ]
     },
     "execution_count": 14,
     "metadata": {},
     "output_type": "execute_result"
    }
   ],
   "source": [
    "sum_GO"
   ]
  },
  {
   "cell_type": "code",
   "execution_count": 15,
   "metadata": {},
   "outputs": [],
   "source": [
    "bulk_GO = np.array(bulk_top_GO.index)"
   ]
  },
  {
   "cell_type": "code",
   "execution_count": 16,
   "metadata": {},
   "outputs": [
    {
     "data": {
      "text/plain": [
       "array(['GO:0048627', 'GO:0055096', 'GO:0001661', ..., 'GO:0010739',\n",
       "       'GO:0018057', 'GO:0060336'], dtype=object)"
      ]
     },
     "execution_count": 16,
     "metadata": {},
     "output_type": "execute_result"
    }
   ],
   "source": [
    "bulk_GO"
   ]
  },
  {
   "cell_type": "code",
   "execution_count": 17,
   "metadata": {},
   "outputs": [],
   "source": [
    "avg_GO = np.array(avg_top_GO.index)"
   ]
  },
  {
   "cell_type": "code",
   "execution_count": 18,
   "metadata": {},
   "outputs": [
    {
     "data": {
      "text/plain": [
       "array(['GO:0070476', 'GO:0030573', 'GO:0060621', ..., 'GO:0007494',\n",
       "       'GO:1904708', 'GO:0051884'], dtype=object)"
      ]
     },
     "execution_count": 18,
     "metadata": {},
     "output_type": "execute_result"
    }
   ],
   "source": [
    "avg_GO"
   ]
  },
  {
   "attachments": {},
   "cell_type": "markdown",
   "metadata": {},
   "source": [
    "# Check for overlap\n"
   ]
  },
  {
   "cell_type": "code",
   "execution_count": 19,
   "metadata": {},
   "outputs": [],
   "source": [
    "def get_overlap(array1, array2):\n",
    "    \"\"\"\n",
    "    Returns the terms shared among array1 array2.\n",
    "    \n",
    "    Like an inner join for arrays\n",
    "    \"\"\"\n",
    "    return list(set(array1).intersection(array2))"
   ]
  },
  {
   "cell_type": "code",
   "execution_count": 20,
   "metadata": {},
   "outputs": [],
   "source": [
    "avg_sum_overlap = get_overlap(avg_GO, sum_GO)"
   ]
  },
  {
   "cell_type": "code",
   "execution_count": 21,
   "metadata": {},
   "outputs": [],
   "source": [
    "sum_bulk_overlap = get_overlap(sum_GO, bulk_GO)"
   ]
  },
  {
   "cell_type": "code",
   "execution_count": 22,
   "metadata": {},
   "outputs": [],
   "source": [
    "bulk_avg_overlap = get_overlap(bulk_GO, avg_GO)"
   ]
  },
  {
   "cell_type": "code",
   "execution_count": 23,
   "metadata": {},
   "outputs": [
    {
     "name": "stdout",
     "output_type": "stream",
     "text": [
      "594\n",
      "340\n",
      "355\n"
     ]
    }
   ],
   "source": [
    "print(len(avg_sum_overlap))\n",
    "print(len(sum_bulk_overlap))\n",
    "print(len(bulk_avg_overlap))\n"
   ]
  },
  {
   "attachments": {},
   "cell_type": "markdown",
   "metadata": {},
   "source": [
    "# Correlations\n"
   ]
  },
  {
   "attachments": {},
   "cell_type": "markdown",
   "metadata": {},
   "source": [
    "## put aucs in df"
   ]
  },
  {
   "cell_type": "code",
   "execution_count": 53,
   "metadata": {},
   "outputs": [],
   "source": [
    "auc_df = pd.DataFrame(sum_EGAD.loc[:,'auc']).rename(columns={'auc':'sum_auc'})"
   ]
  },
  {
   "cell_type": "code",
   "execution_count": 54,
   "metadata": {},
   "outputs": [
    {
     "data": {
      "text/html": [
       "<div>\n",
       "<style scoped>\n",
       "    .dataframe tbody tr th:only-of-type {\n",
       "        vertical-align: middle;\n",
       "    }\n",
       "\n",
       "    .dataframe tbody tr th {\n",
       "        vertical-align: top;\n",
       "    }\n",
       "\n",
       "    .dataframe thead th {\n",
       "        text-align: right;\n",
       "    }\n",
       "</style>\n",
       "<table border=\"1\" class=\"dataframe\">\n",
       "  <thead>\n",
       "    <tr style=\"text-align: right;\">\n",
       "      <th></th>\n",
       "      <th>sum_auc</th>\n",
       "    </tr>\n",
       "  </thead>\n",
       "  <tbody>\n",
       "    <tr>\n",
       "      <th>GO:0002250</th>\n",
       "      <td>0.859971</td>\n",
       "    </tr>\n",
       "    <tr>\n",
       "      <th>GO:0045087</th>\n",
       "      <td>0.694435</td>\n",
       "    </tr>\n",
       "    <tr>\n",
       "      <th>GO:0071918</th>\n",
       "      <td>0.455685</td>\n",
       "    </tr>\n",
       "    <tr>\n",
       "      <th>GO:0006955</th>\n",
       "      <td>0.756960</td>\n",
       "    </tr>\n",
       "    <tr>\n",
       "      <th>GO:0050830</th>\n",
       "      <td>0.729795</td>\n",
       "    </tr>\n",
       "    <tr>\n",
       "      <th>...</th>\n",
       "      <td>...</td>\n",
       "    </tr>\n",
       "    <tr>\n",
       "      <th>GO:1902983</th>\n",
       "      <td>0.500000</td>\n",
       "    </tr>\n",
       "    <tr>\n",
       "      <th>GO:0033316</th>\n",
       "      <td>0.500000</td>\n",
       "    </tr>\n",
       "    <tr>\n",
       "      <th>GO:0031445</th>\n",
       "      <td>0.500000</td>\n",
       "    </tr>\n",
       "    <tr>\n",
       "      <th>GO:0031282</th>\n",
       "      <td>0.500000</td>\n",
       "    </tr>\n",
       "    <tr>\n",
       "      <th>GO:0009396</th>\n",
       "      <td>0.500000</td>\n",
       "    </tr>\n",
       "  </tbody>\n",
       "</table>\n",
       "<p>12535 rows × 1 columns</p>\n",
       "</div>"
      ],
      "text/plain": [
       "             sum_auc\n",
       "GO:0002250  0.859971\n",
       "GO:0045087  0.694435\n",
       "GO:0071918  0.455685\n",
       "GO:0006955  0.756960\n",
       "GO:0050830  0.729795\n",
       "...              ...\n",
       "GO:1902983  0.500000\n",
       "GO:0033316  0.500000\n",
       "GO:0031445  0.500000\n",
       "GO:0031282  0.500000\n",
       "GO:0009396  0.500000\n",
       "\n",
       "[12535 rows x 1 columns]"
      ]
     },
     "execution_count": 54,
     "metadata": {},
     "output_type": "execute_result"
    }
   ],
   "source": [
    "auc_df"
   ]
  },
  {
   "cell_type": "code",
   "execution_count": 58,
   "metadata": {},
   "outputs": [],
   "source": [
    "auc_df = auc_df.join(pd.DataFrame(avg_EGAD.loc[:,'auc'])).rename(columns={'auc':'avg_auc'})"
   ]
  },
  {
   "cell_type": "code",
   "execution_count": 60,
   "metadata": {},
   "outputs": [],
   "source": [
    "auc_df = auc_df.join(pd.DataFrame(bulk_EGAD.loc[:,'auc'])).rename(columns={'auc':'bulk_auc'})"
   ]
  },
  {
   "attachments": {},
   "cell_type": "markdown",
   "metadata": {},
   "source": [
    "## Remove NANs"
   ]
  },
  {
   "cell_type": "code",
   "execution_count": 35,
   "metadata": {},
   "outputs": [],
   "source": [
    "def remove_nans(array:np.array):\n",
    "    return array[~np.isnan(array)]"
   ]
  },
  {
   "cell_type": "code",
   "execution_count": 61,
   "metadata": {},
   "outputs": [],
   "source": [
    "row = auc_df.iloc[0,:]"
   ]
  },
  {
   "cell_type": "code",
   "execution_count": null,
   "metadata": {},
   "outputs": [],
   "source": [
    "def remove_nan_rows(auc_df:pd.DataFrame):\n",
    "    for i, row in enumerate(auc_df):\n",
    "        print(i)\n",
    "        print(row)"
   ]
  },
  {
   "cell_type": "code",
   "execution_count": 65,
   "metadata": {},
   "outputs": [
    {
     "data": {
      "text/plain": [
       "False"
      ]
     },
     "execution_count": 65,
     "metadata": {},
     "output_type": "execute_result"
    }
   ],
   "source": [
    "sum(row.isna()) >  0"
   ]
  },
  {
   "cell_type": "code",
   "execution_count": 36,
   "metadata": {},
   "outputs": [
    {
     "data": {
      "text/plain": [
       "12535"
      ]
     },
     "execution_count": 36,
     "metadata": {},
     "output_type": "execute_result"
    }
   ],
   "source": [
    "len(sum_auc)"
   ]
  },
  {
   "cell_type": "code",
   "execution_count": 38,
   "metadata": {},
   "outputs": [
    {
     "data": {
      "text/plain": [
       "12464"
      ]
     },
     "execution_count": 38,
     "metadata": {},
     "output_type": "execute_result"
    }
   ],
   "source": [
    "sum_auc = sum_auc[~np.isnan(sum_auc)]\n",
    "len(sum_auc)"
   ]
  },
  {
   "cell_type": "code",
   "execution_count": 40,
   "metadata": {},
   "outputs": [],
   "source": [
    "def remove_nans(array:np.array):\n",
    "    return array[~np.isnan(array)]"
   ]
  },
  {
   "cell_type": "code",
   "execution_count": 41,
   "metadata": {},
   "outputs": [],
   "source": [
    "test = remove_nans(sum_auc)"
   ]
  },
  {
   "cell_type": "code",
   "execution_count": 42,
   "metadata": {},
   "outputs": [
    {
     "data": {
      "text/plain": [
       "GO:0002250    0.859971\n",
       "GO:0045087    0.694435\n",
       "GO:0071918    0.455685\n",
       "GO:0006955    0.756960\n",
       "GO:0050830    0.729795\n",
       "                ...   \n",
       "GO:1902983    0.500000\n",
       "GO:0033316    0.500000\n",
       "GO:0031445    0.500000\n",
       "GO:0031282    0.500000\n",
       "GO:0009396    0.500000\n",
       "Name: auc, Length: 12464, dtype: float64"
      ]
     },
     "execution_count": 42,
     "metadata": {},
     "output_type": "execute_result"
    }
   ],
   "source": [
    "test"
   ]
  },
  {
   "cell_type": "code",
   "execution_count": 25,
   "metadata": {},
   "outputs": [
    {
     "data": {
      "text/plain": [
       "array([[nan, nan],\n",
       "       [nan, nan]])"
      ]
     },
     "execution_count": 25,
     "metadata": {},
     "output_type": "execute_result"
    }
   ],
   "source": [
    "np.corrcoef(sum_EGAD.loc[:,'auc'], avg_EGAD.loc[:,'auc'], )"
   ]
  },
  {
   "cell_type": "code",
   "execution_count": 27,
   "metadata": {},
   "outputs": [
    {
     "data": {
      "text/plain": [
       "nan"
      ]
     },
     "execution_count": 27,
     "metadata": {},
     "output_type": "execute_result"
    }
   ],
   "source": [
    "np.corrcoef(sum_EGAD.loc[:,'auc']"
   ]
  }
 ],
 "metadata": {
  "kernelspec": {
   "display_name": "PseudoPipelineEnv",
   "language": "python",
   "name": "python3"
  },
  "language_info": {
   "codemirror_mode": {
    "name": "ipython",
    "version": 3
   },
   "file_extension": ".py",
   "mimetype": "text/x-python",
   "name": "python",
   "nbconvert_exporter": "python",
   "pygments_lexer": "ipython3",
   "version": "3.9.13"
  },
  "orig_nbformat": 4,
  "vscode": {
   "interpreter": {
    "hash": "f088962022b5c5089ca0fd10bf64a529eb202e14a97c8bfe5bb517a051d5f1e8"
   }
  }
 },
 "nbformat": 4,
 "nbformat_minor": 2
}
