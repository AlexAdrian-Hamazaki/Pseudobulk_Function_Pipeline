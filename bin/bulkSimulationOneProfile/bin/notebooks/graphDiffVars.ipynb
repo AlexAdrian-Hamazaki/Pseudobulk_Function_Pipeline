{
 "cells": [
  {
   "cell_type": "code",
   "execution_count": 1,
   "metadata": {},
   "outputs": [],
   "source": [
    "# This script is for making sure that the average number of cells sampled across a variance level converges to the expected baseline proportion"
   ]
  },
  {
   "cell_type": "code",
   "execution_count": 39,
   "metadata": {},
   "outputs": [],
   "source": [
    "import os\n",
    "import pandas as pd\n",
    "\n",
    "import re\n",
    "import json\n",
    "import plotly.express as px"
   ]
  },
  {
   "cell_type": "code",
   "execution_count": 2,
   "metadata": {},
   "outputs": [],
   "source": [
    "path = \"/space/grp/aadrian/Pseudobulk_Function_Pipeline_HighRes/bin/bulkSimulationOneProfile/data/simulations/0/pbmc_sc_with_metadata_cpm_pc_cell_type_profiles.csv\"\n",
    "proportions_json_path= \"/space/grp/aadrian/Pseudobulk_Function_Pipeline_HighRes/bin/bulkSimulationOneProfile/cell_type_proportions.json\""
   ]
  },
  {
   "cell_type": "code",
   "execution_count": 3,
   "metadata": {},
   "outputs": [
    {
     "name": "stdout",
     "output_type": "stream",
     "text": [
      "{'pbmc_sc_with_metadata_cpm_pc_cell_type_profiles.csv': {'B-cells': 0.05, 'Dendritic cells': 0.05, 'Macrophages': 0.2, 'Monocytes': 0.05, 'Nk-cells': 0.1, 'Platelets': 0.05, 'T-cells': 0.5}, 'brain_sc_with_metadata_cpm_pc_cell_type_profiles.csv': {'Astrocytes': 0.05, 'Excitatory neurons': 0.5, 'Inhibitory neurons': 0.3, 'Microglial cells': 0.05, 'Oligodendrocyte precursor cells': 0.05, 'Oligodendrocytes': 0.05}}\n"
     ]
    }
   ],
   "source": [
    "def getBaselineProportion(CTProfile_name:str, proportions_json_path:json) -> dict:\n",
    "    \"\"\"Get the list of proper cell type baseline proportions depending on if we are using brain or pbmc\n",
    "\n",
    "    Args:\n",
    "        CTProfile_name (str): name of the dataframe of cell type profiles\n",
    "        proportions_json (json): json that contains baseline cell type profiles for brian or pbmc\n",
    "\n",
    "    Returns:\n",
    "        dict: A dict where keys are cell types, and values are their expected baseline proportions\n",
    "    \"\"\"\n",
    "    \n",
    "    # open json file\n",
    "    with open(proportions_json_path, 'r') as json_file:\n",
    "        dict_propostions_json = json.load(json_file)\n",
    "    \n",
    "        print(dict_propostions_json)\n",
    "    \n",
    "    # Get the correct key\n",
    "    for key in dict_propostions_json.keys():\n",
    "        if key == CTProfile_name:\n",
    "            correct_key = key\n",
    "    # If no key was found,raise error\n",
    "    if not correct_key:\n",
    "        raise ValueError(\"Key not found\")\n",
    "    \n",
    "    # Return the proportions of cell types based on our key (which is a tissue type)\n",
    "    return dict_propostions_json[correct_key]\n",
    "baseline_proportion = getBaselineProportion(CTProfile_name=\"brain_sc_with_metadata_cpm_pc_cell_type_profiles.csv\", proportions_json_path=proportions_json_path)\n",
    "\n",
    "    "
   ]
  },
  {
   "cell_type": "code",
   "execution_count": 7,
   "metadata": {},
   "outputs": [],
   "source": [
    "def getMatchingFiles(path):\n",
    "    \n",
    "    lofiles = os.listdir(path)\n",
    "\n",
    "\n",
    "    pattern = \".*n_sim.*\"\n",
    "\n",
    "    # Initialize a list to store matching file names\n",
    "    matching_files = []\n",
    "\n",
    "    # Loop through the files and check if they match the pattern\n",
    "    for file_name in lofiles:\n",
    "        if re.match(pattern, file_name):\n",
    "            matching_files.append(f\"{path}/{file_name}\")\n",
    "        \n",
    "    return matching_files\n",
    "        "
   ]
  },
  {
   "cell_type": "code",
   "execution_count": 4,
   "metadata": {},
   "outputs": [],
   "source": [
    "def normalize_df_by_sum(series):\n",
    "    \"\"\"\n",
    "    Normalize a pandas Series by dividing each value by the sum of the Series.\n",
    "\n",
    "    Args:\n",
    "        series (pandas.Series): The Series to normalize.\n",
    "\n",
    "    Returns:\n",
    "        pandas.Series: A new Series with values normalized by the sum.\n",
    "    \"\"\"\n",
    "    # Calculate the sum of the Series\n",
    "    series_sum = series.sum()\n",
    "\n",
    "    # Normalize the Series by dividing each value by the sum\n",
    "    normalized_series = series / series_sum\n",
    "\n",
    "    return normalized_series\n"
   ]
  },
  {
   "cell_type": "code",
   "execution_count": 6,
   "metadata": {},
   "outputs": [],
   "source": [
    "def getCellAverage(loFiles):\n",
    "    lodfs = [pd.read_csv(file_path, index_col=0) for file_path in loFiles]\n",
    "    \n",
    "    merged_df = pd.concat(lodfs, axis = 1)\n",
    "    merged_df = merged_df.sum(axis = 1)\n",
    "\n",
    "    normalized_series = normalize_series_by_sum(merged_df)\n",
    "    \n",
    "    return normalized_series"
   ]
  },
  {
   "cell_type": "code",
   "execution_count": 42,
   "metadata": {},
   "outputs": [],
   "source": [
    "def normalize_dataframe(df):\n",
    "    \"\"\"\n",
    "    Normalize a pandas DataFrame by dividing each value by the column total.\n",
    "\n",
    "    Parameters:\n",
    "    df (pd.DataFrame): The input DataFrame to be normalized.\n",
    "\n",
    "    Returns:\n",
    "    pd.DataFrame: The normalized DataFrame.\n",
    "    \"\"\"\n",
    "    # Calculate the sum of each column\n",
    "    column_sums = df.sum()\n",
    "    \n",
    "    # Divide each value by the column total\n",
    "    normalized_df = df / column_sums\n",
    "    \n",
    "    return normalized_df"
   ]
  },
  {
   "cell_type": "code",
   "execution_count": 43,
   "metadata": {},
   "outputs": [
    {
     "name": "stdout",
     "output_type": "stream",
     "text": [
      "['/space/grp/aadrian/Pseudobulk_Function_Pipeline_HighRes/bin/bulkSimulationOneProfile/data/simulations/0/pbmc_sc_with_metadata_cpm_pc_cell_type_profiles.csv', '/space/grp/aadrian/Pseudobulk_Function_Pipeline_HighRes/bin/bulkSimulationOneProfile/data/simulations/0.1/pbmc_sc_with_metadata_cpm_pc_cell_type_profiles.csv', '/space/grp/aadrian/Pseudobulk_Function_Pipeline_HighRes/bin/bulkSimulationOneProfile/data/simulations/1/pbmc_sc_with_metadata_cpm_pc_cell_type_profiles.csv']\n",
      "[['/space/grp/aadrian/Pseudobulk_Function_Pipeline_HighRes/bin/bulkSimulationOneProfile/data/simulations/0/pbmc_sc_with_metadata_cpm_pc_cell_type_profiles.csv/pbmc_sc_with_metadata_cpm_pc_cell_type_profiles_n_sim_67_profiles.csv', '/space/grp/aadrian/Pseudobulk_Function_Pipeline_HighRes/bin/bulkSimulationOneProfile/data/simulations/0/pbmc_sc_with_metadata_cpm_pc_cell_type_profiles.csv/pbmc_sc_with_metadata_cpm_pc_cell_type_profiles_n_sim_34_profiles.csv', '/space/grp/aadrian/Pseudobulk_Function_Pipeline_HighRes/bin/bulkSimulationOneProfile/data/simulations/0/pbmc_sc_with_metadata_cpm_pc_cell_type_profiles.csv/pbmc_sc_with_metadata_cpm_pc_cell_type_profiles_n_sim_92_profiles.csv', '/space/grp/aadrian/Pseudobulk_Function_Pipeline_HighRes/bin/bulkSimulationOneProfile/data/simulations/0/pbmc_sc_with_metadata_cpm_pc_cell_type_profiles.csv/pbmc_sc_with_metadata_cpm_pc_cell_type_profiles_n_sim_93_profiles.csv', '/space/grp/aadrian/Pseudobulk_Function_Pipeline_HighRes/bin/bulkSimulationOneProfile/data/simulations/0/pbmc_sc_with_metadata_cpm_pc_cell_type_profiles.csv/pbmc_sc_with_metadata_cpm_pc_cell_type_profiles_n_sim_66_profiles.csv', '/space/grp/aadrian/Pseudobulk_Function_Pipeline_HighRes/bin/bulkSimulationOneProfile/data/simulations/0/pbmc_sc_with_metadata_cpm_pc_cell_type_profiles.csv/pbmc_sc_with_metadata_cpm_pc_cell_type_profiles_n_sim_35_profiles.csv', '/space/grp/aadrian/Pseudobulk_Function_Pipeline_HighRes/bin/bulkSimulationOneProfile/data/simulations/0/pbmc_sc_with_metadata_cpm_pc_cell_type_profiles.csv/pbmc_sc_with_metadata_cpm_pc_cell_type_profiles_n_sim_91_profiles.csv', '/space/grp/aadrian/Pseudobulk_Function_Pipeline_HighRes/bin/bulkSimulationOneProfile/data/simulations/0/pbmc_sc_with_metadata_cpm_pc_cell_type_profiles.csv/pbmc_sc_with_metadata_cpm_pc_cell_type_profiles_n_sim_37_profiles.csv', '/space/grp/aadrian/Pseudobulk_Function_Pipeline_HighRes/bin/bulkSimulationOneProfile/data/simulations/0/pbmc_sc_with_metadata_cpm_pc_cell_type_profiles.csv/pbmc_sc_with_metadata_cpm_pc_cell_type_profiles_n_sim_64_profiles.csv', '/space/grp/aadrian/Pseudobulk_Function_Pipeline_HighRes/bin/bulkSimulationOneProfile/data/simulations/0/pbmc_sc_with_metadata_cpm_pc_cell_type_profiles.csv/pbmc_sc_with_metadata_cpm_pc_cell_type_profiles_n_sim_36_profiles.csv', '/space/grp/aadrian/Pseudobulk_Function_Pipeline_HighRes/bin/bulkSimulationOneProfile/data/simulations/0/pbmc_sc_with_metadata_cpm_pc_cell_type_profiles.csv/pbmc_sc_with_metadata_cpm_pc_cell_type_profiles_n_sim_65_profiles.csv', '/space/grp/aadrian/Pseudobulk_Function_Pipeline_HighRes/bin/bulkSimulationOneProfile/data/simulations/0/pbmc_sc_with_metadata_cpm_pc_cell_type_profiles.csv/pbmc_sc_with_metadata_cpm_pc_cell_type_profiles_n_sim_90_profiles.csv', '/space/grp/aadrian/Pseudobulk_Function_Pipeline_HighRes/bin/bulkSimulationOneProfile/data/simulations/0/pbmc_sc_with_metadata_cpm_pc_cell_type_profiles.csv/pbmc_sc_with_metadata_cpm_pc_cell_type_profiles_n_sim_60_profiles.csv', '/space/grp/aadrian/Pseudobulk_Function_Pipeline_HighRes/bin/bulkSimulationOneProfile/data/simulations/0/pbmc_sc_with_metadata_cpm_pc_cell_type_profiles.csv/pbmc_sc_with_metadata_cpm_pc_cell_type_profiles_n_sim_33_profiles.csv', '/space/grp/aadrian/Pseudobulk_Function_Pipeline_HighRes/bin/bulkSimulationOneProfile/data/simulations/0/pbmc_sc_with_metadata_cpm_pc_cell_type_profiles.csv/pbmc_sc_with_metadata_cpm_pc_cell_type_profiles_n_sim_19_profiles.csv', '/space/grp/aadrian/Pseudobulk_Function_Pipeline_HighRes/bin/bulkSimulationOneProfile/data/simulations/0/pbmc_sc_with_metadata_cpm_pc_cell_type_profiles.csv/pbmc_sc_with_metadata_cpm_pc_cell_type_profiles_n_sim_95_profiles.csv', '/space/grp/aadrian/Pseudobulk_Function_Pipeline_HighRes/bin/bulkSimulationOneProfile/data/simulations/0/pbmc_sc_with_metadata_cpm_pc_cell_type_profiles.csv/pbmc_sc_with_metadata_cpm_pc_cell_type_profiles_n_sim_18_profiles.csv', '/space/grp/aadrian/Pseudobulk_Function_Pipeline_HighRes/bin/bulkSimulationOneProfile/data/simulations/0/pbmc_sc_with_metadata_cpm_pc_cell_type_profiles.csv/pbmc_sc_with_metadata_cpm_pc_cell_type_profiles_n_sim_94_profiles.csv', '/space/grp/aadrian/Pseudobulk_Function_Pipeline_HighRes/bin/bulkSimulationOneProfile/data/simulations/0/pbmc_sc_with_metadata_cpm_pc_cell_type_profiles.csv/pbmc_sc_with_metadata_cpm_pc_cell_type_profiles_n_sim_61_profiles.csv', '/space/grp/aadrian/Pseudobulk_Function_Pipeline_HighRes/bin/bulkSimulationOneProfile/data/simulations/0/pbmc_sc_with_metadata_cpm_pc_cell_type_profiles.csv/pbmc_sc_with_metadata_cpm_pc_cell_type_profiles_n_sim_32_profiles.csv', '/space/grp/aadrian/Pseudobulk_Function_Pipeline_HighRes/bin/bulkSimulationOneProfile/data/simulations/0/pbmc_sc_with_metadata_cpm_pc_cell_type_profiles.csv/pbmc_sc_with_metadata_cpm_pc_cell_type_profiles_n_sim_49_profiles.csv', '/space/grp/aadrian/Pseudobulk_Function_Pipeline_HighRes/bin/bulkSimulationOneProfile/data/simulations/0/pbmc_sc_with_metadata_cpm_pc_cell_type_profiles.csv/pbmc_sc_with_metadata_cpm_pc_cell_type_profiles_n_sim_96_profiles.csv', '/space/grp/aadrian/Pseudobulk_Function_Pipeline_HighRes/bin/bulkSimulationOneProfile/data/simulations/0/pbmc_sc_with_metadata_cpm_pc_cell_type_profiles.csv/pbmc_sc_with_metadata_cpm_pc_cell_type_profiles_n_sim_30_profiles.csv', '/space/grp/aadrian/Pseudobulk_Function_Pipeline_HighRes/bin/bulkSimulationOneProfile/data/simulations/0/pbmc_sc_with_metadata_cpm_pc_cell_type_profiles.csv/pbmc_sc_with_metadata_cpm_pc_cell_type_profiles_n_sim_63_profiles.csv', '/space/grp/aadrian/Pseudobulk_Function_Pipeline_HighRes/bin/bulkSimulationOneProfile/data/simulations/0/pbmc_sc_with_metadata_cpm_pc_cell_type_profiles.csv/pbmc_sc_with_metadata_cpm_pc_cell_type_profiles_n_sim_31_profiles.csv', '/space/grp/aadrian/Pseudobulk_Function_Pipeline_HighRes/bin/bulkSimulationOneProfile/data/simulations/0/pbmc_sc_with_metadata_cpm_pc_cell_type_profiles.csv/pbmc_sc_with_metadata_cpm_pc_cell_type_profiles_n_sim_62_profiles.csv', '/space/grp/aadrian/Pseudobulk_Function_Pipeline_HighRes/bin/bulkSimulationOneProfile/data/simulations/0/pbmc_sc_with_metadata_cpm_pc_cell_type_profiles.csv/pbmc_sc_with_metadata_cpm_pc_cell_type_profiles_n_sim_97_profiles.csv', '/space/grp/aadrian/Pseudobulk_Function_Pipeline_HighRes/bin/bulkSimulationOneProfile/data/simulations/0/pbmc_sc_with_metadata_cpm_pc_cell_type_profiles.csv/pbmc_sc_with_metadata_cpm_pc_cell_type_profiles_n_sim_48_profiles.csv', '/space/grp/aadrian/Pseudobulk_Function_Pipeline_HighRes/bin/bulkSimulationOneProfile/data/simulations/0/pbmc_sc_with_metadata_cpm_pc_cell_type_profiles.csv/pbmc_sc_with_metadata_cpm_pc_cell_type_profiles_n_sim_69_profiles.csv', '/space/grp/aadrian/Pseudobulk_Function_Pipeline_HighRes/bin/bulkSimulationOneProfile/data/simulations/0/pbmc_sc_with_metadata_cpm_pc_cell_type_profiles.csv/pbmc_sc_with_metadata_cpm_pc_cell_type_profiles_n_sim_43_profiles.csv', '/space/grp/aadrian/Pseudobulk_Function_Pipeline_HighRes/bin/bulkSimulationOneProfile/data/simulations/0/pbmc_sc_with_metadata_cpm_pc_cell_type_profiles.csv/pbmc_sc_with_metadata_cpm_pc_cell_type_profiles_n_sim_10_profiles.csv', '/space/grp/aadrian/Pseudobulk_Function_Pipeline_HighRes/bin/bulkSimulationOneProfile/data/simulations/0/pbmc_sc_with_metadata_cpm_pc_cell_type_profiles.csv/pbmc_sc_with_metadata_cpm_pc_cell_type_profiles_n_sim_42_profiles.csv', '/space/grp/aadrian/Pseudobulk_Function_Pipeline_HighRes/bin/bulkSimulationOneProfile/data/simulations/0/pbmc_sc_with_metadata_cpm_pc_cell_type_profiles.csv/pbmc_sc_with_metadata_cpm_pc_cell_type_profiles_n_sim_11_profiles.csv', '/space/grp/aadrian/Pseudobulk_Function_Pipeline_HighRes/bin/bulkSimulationOneProfile/data/simulations/0/pbmc_sc_with_metadata_cpm_pc_cell_type_profiles.csv/pbmc_sc_with_metadata_cpm_pc_cell_type_profiles_n_sim_68_profiles.csv', '/space/grp/aadrian/Pseudobulk_Function_Pipeline_HighRes/bin/bulkSimulationOneProfile/data/simulations/0/pbmc_sc_with_metadata_cpm_pc_cell_type_profiles.csv/pbmc_sc_with_metadata_cpm_pc_cell_type_profiles_n_sim_13_profiles.csv', '/space/grp/aadrian/Pseudobulk_Function_Pipeline_HighRes/bin/bulkSimulationOneProfile/data/simulations/0/pbmc_sc_with_metadata_cpm_pc_cell_type_profiles.csv/pbmc_sc_with_metadata_cpm_pc_cell_type_profiles_n_sim_40_profiles.csv', '/space/grp/aadrian/Pseudobulk_Function_Pipeline_HighRes/bin/bulkSimulationOneProfile/data/simulations/0/pbmc_sc_with_metadata_cpm_pc_cell_type_profiles.csv/pbmc_sc_with_metadata_cpm_pc_cell_type_profiles_n_sim_39_profiles.csv', '/space/grp/aadrian/Pseudobulk_Function_Pipeline_HighRes/bin/bulkSimulationOneProfile/data/simulations/0/pbmc_sc_with_metadata_cpm_pc_cell_type_profiles.csv/pbmc_sc_with_metadata_cpm_pc_cell_type_profiles_n_sim_38_profiles.csv', '/space/grp/aadrian/Pseudobulk_Function_Pipeline_HighRes/bin/bulkSimulationOneProfile/data/simulations/0/pbmc_sc_with_metadata_cpm_pc_cell_type_profiles.csv/pbmc_sc_with_metadata_cpm_pc_cell_type_profiles_n_sim_12_profiles.csv', '/space/grp/aadrian/Pseudobulk_Function_Pipeline_HighRes/bin/bulkSimulationOneProfile/data/simulations/0/pbmc_sc_with_metadata_cpm_pc_cell_type_profiles.csv/pbmc_sc_with_metadata_cpm_pc_cell_type_profiles_n_sim_41_profiles.csv', '/space/grp/aadrian/Pseudobulk_Function_Pipeline_HighRes/bin/bulkSimulationOneProfile/data/simulations/0/pbmc_sc_with_metadata_cpm_pc_cell_type_profiles.csv/pbmc_sc_with_metadata_cpm_pc_cell_type_profiles_n_sim_44_profiles.csv', '/space/grp/aadrian/Pseudobulk_Function_Pipeline_HighRes/bin/bulkSimulationOneProfile/data/simulations/0/pbmc_sc_with_metadata_cpm_pc_cell_type_profiles.csv/pbmc_sc_with_metadata_cpm_pc_cell_type_profiles_n_sim_17_profiles.csv', '/space/grp/aadrian/Pseudobulk_Function_Pipeline_HighRes/bin/bulkSimulationOneProfile/data/simulations/0/pbmc_sc_with_metadata_cpm_pc_cell_type_profiles.csv/pbmc_sc_with_metadata_cpm_pc_cell_type_profiles_n_sim_45_profiles.csv', '/space/grp/aadrian/Pseudobulk_Function_Pipeline_HighRes/bin/bulkSimulationOneProfile/data/simulations/0/pbmc_sc_with_metadata_cpm_pc_cell_type_profiles.csv/pbmc_sc_with_metadata_cpm_pc_cell_type_profiles_n_sim_16_profiles.csv', '/space/grp/aadrian/Pseudobulk_Function_Pipeline_HighRes/bin/bulkSimulationOneProfile/data/simulations/0/pbmc_sc_with_metadata_cpm_pc_cell_type_profiles.csv/pbmc_sc_with_metadata_cpm_pc_cell_type_profiles_n_sim_14_profiles.csv', '/space/grp/aadrian/Pseudobulk_Function_Pipeline_HighRes/bin/bulkSimulationOneProfile/data/simulations/0/pbmc_sc_with_metadata_cpm_pc_cell_type_profiles.csv/pbmc_sc_with_metadata_cpm_pc_cell_type_profiles_n_sim_47_profiles.csv', '/space/grp/aadrian/Pseudobulk_Function_Pipeline_HighRes/bin/bulkSimulationOneProfile/data/simulations/0/pbmc_sc_with_metadata_cpm_pc_cell_type_profiles.csv/pbmc_sc_with_metadata_cpm_pc_cell_type_profiles_n_sim_98_profiles.csv', '/space/grp/aadrian/Pseudobulk_Function_Pipeline_HighRes/bin/bulkSimulationOneProfile/data/simulations/0/pbmc_sc_with_metadata_cpm_pc_cell_type_profiles.csv/pbmc_sc_with_metadata_cpm_pc_cell_type_profiles_n_sim_15_profiles.csv', '/space/grp/aadrian/Pseudobulk_Function_Pipeline_HighRes/bin/bulkSimulationOneProfile/data/simulations/0/pbmc_sc_with_metadata_cpm_pc_cell_type_profiles.csv/pbmc_sc_with_metadata_cpm_pc_cell_type_profiles_n_sim_99_profiles.csv', '/space/grp/aadrian/Pseudobulk_Function_Pipeline_HighRes/bin/bulkSimulationOneProfile/data/simulations/0/pbmc_sc_with_metadata_cpm_pc_cell_type_profiles.csv/pbmc_sc_with_metadata_cpm_pc_cell_type_profiles_n_sim_46_profiles.csv', '/space/grp/aadrian/Pseudobulk_Function_Pipeline_HighRes/bin/bulkSimulationOneProfile/data/simulations/0/pbmc_sc_with_metadata_cpm_pc_cell_type_profiles.csv/pbmc_sc_with_metadata_cpm_pc_cell_type_profiles_n_sim_57_profiles.csv', '/space/grp/aadrian/Pseudobulk_Function_Pipeline_HighRes/bin/bulkSimulationOneProfile/data/simulations/0/pbmc_sc_with_metadata_cpm_pc_cell_type_profiles.csv/pbmc_sc_with_metadata_cpm_pc_cell_type_profiles_n_sim_0_profiles.csv', '/space/grp/aadrian/Pseudobulk_Function_Pipeline_HighRes/bin/bulkSimulationOneProfile/data/simulations/0/pbmc_sc_with_metadata_cpm_pc_cell_type_profiles.csv/pbmc_sc_with_metadata_cpm_pc_cell_type_profiles_n_sim_88_profiles.csv', '/space/grp/aadrian/Pseudobulk_Function_Pipeline_HighRes/bin/bulkSimulationOneProfile/data/simulations/0/pbmc_sc_with_metadata_cpm_pc_cell_type_profiles.csv/pbmc_sc_with_metadata_cpm_pc_cell_type_profiles_n_sim_89_profiles.csv', '/space/grp/aadrian/Pseudobulk_Function_Pipeline_HighRes/bin/bulkSimulationOneProfile/data/simulations/0/pbmc_sc_with_metadata_cpm_pc_cell_type_profiles.csv/pbmc_sc_with_metadata_cpm_pc_cell_type_profiles_n_sim_1_profiles.csv', '/space/grp/aadrian/Pseudobulk_Function_Pipeline_HighRes/bin/bulkSimulationOneProfile/data/simulations/0/pbmc_sc_with_metadata_cpm_pc_cell_type_profiles.csv/pbmc_sc_with_metadata_cpm_pc_cell_type_profiles_n_sim_56_profiles.csv', '/space/grp/aadrian/Pseudobulk_Function_Pipeline_HighRes/bin/bulkSimulationOneProfile/data/simulations/0/pbmc_sc_with_metadata_cpm_pc_cell_type_profiles.csv/pbmc_sc_with_metadata_cpm_pc_cell_type_profiles_n_sim_54_profiles.csv', '/space/grp/aadrian/Pseudobulk_Function_Pipeline_HighRes/bin/bulkSimulationOneProfile/data/simulations/0/pbmc_sc_with_metadata_cpm_pc_cell_type_profiles.csv/pbmc_sc_with_metadata_cpm_pc_cell_type_profiles_n_sim_3_profiles.csv', '/space/grp/aadrian/Pseudobulk_Function_Pipeline_HighRes/bin/bulkSimulationOneProfile/data/simulations/0/pbmc_sc_with_metadata_cpm_pc_cell_type_profiles.csv/pbmc_sc_with_metadata_cpm_pc_cell_type_profiles_n_sim_2_profiles.csv', '/space/grp/aadrian/Pseudobulk_Function_Pipeline_HighRes/bin/bulkSimulationOneProfile/data/simulations/0/pbmc_sc_with_metadata_cpm_pc_cell_type_profiles.csv/pbmc_sc_with_metadata_cpm_pc_cell_type_profiles_n_sim_55_profiles.csv', '/space/grp/aadrian/Pseudobulk_Function_Pipeline_HighRes/bin/bulkSimulationOneProfile/data/simulations/0/pbmc_sc_with_metadata_cpm_pc_cell_type_profiles.csv/pbmc_sc_with_metadata_cpm_pc_cell_type_profiles_n_sim_7_profiles.csv', '/space/grp/aadrian/Pseudobulk_Function_Pipeline_HighRes/bin/bulkSimulationOneProfile/data/simulations/0/pbmc_sc_with_metadata_cpm_pc_cell_type_profiles.csv/pbmc_sc_with_metadata_cpm_pc_cell_type_profiles_n_sim_50_profiles.csv', '/space/grp/aadrian/Pseudobulk_Function_Pipeline_HighRes/bin/bulkSimulationOneProfile/data/simulations/0/pbmc_sc_with_metadata_cpm_pc_cell_type_profiles.csv/pbmc_sc_with_metadata_cpm_pc_cell_type_profiles_n_sim_29_profiles.csv', '/space/grp/aadrian/Pseudobulk_Function_Pipeline_HighRes/bin/bulkSimulationOneProfile/data/simulations/0/pbmc_sc_with_metadata_cpm_pc_cell_type_profiles.csv/pbmc_sc_with_metadata_cpm_pc_cell_type_profiles_n_sim_28_profiles.csv', '/space/grp/aadrian/Pseudobulk_Function_Pipeline_HighRes/bin/bulkSimulationOneProfile/data/simulations/0/pbmc_sc_with_metadata_cpm_pc_cell_type_profiles.csv/pbmc_sc_with_metadata_cpm_pc_cell_type_profiles_n_sim_51_profiles.csv', '/space/grp/aadrian/Pseudobulk_Function_Pipeline_HighRes/bin/bulkSimulationOneProfile/data/simulations/0/pbmc_sc_with_metadata_cpm_pc_cell_type_profiles.csv/pbmc_sc_with_metadata_cpm_pc_cell_type_profiles_n_sim_6_profiles.csv', '/space/grp/aadrian/Pseudobulk_Function_Pipeline_HighRes/bin/bulkSimulationOneProfile/data/simulations/0/pbmc_sc_with_metadata_cpm_pc_cell_type_profiles.csv/pbmc_sc_with_metadata_cpm_pc_cell_type_profiles_n_sim_79_profiles.csv', '/space/grp/aadrian/Pseudobulk_Function_Pipeline_HighRes/bin/bulkSimulationOneProfile/data/simulations/0/pbmc_sc_with_metadata_cpm_pc_cell_type_profiles.csv/pbmc_sc_with_metadata_cpm_pc_cell_type_profiles_n_sim_4_profiles.csv', '/space/grp/aadrian/Pseudobulk_Function_Pipeline_HighRes/bin/bulkSimulationOneProfile/data/simulations/0/pbmc_sc_with_metadata_cpm_pc_cell_type_profiles.csv/pbmc_sc_with_metadata_cpm_pc_cell_type_profiles_n_sim_53_profiles.csv', '/space/grp/aadrian/Pseudobulk_Function_Pipeline_HighRes/bin/bulkSimulationOneProfile/data/simulations/0/pbmc_sc_with_metadata_cpm_pc_cell_type_profiles.csv/pbmc_sc_with_metadata_cpm_pc_cell_type_profiles_n_sim_52_profiles.csv', '/space/grp/aadrian/Pseudobulk_Function_Pipeline_HighRes/bin/bulkSimulationOneProfile/data/simulations/0/pbmc_sc_with_metadata_cpm_pc_cell_type_profiles.csv/pbmc_sc_with_metadata_cpm_pc_cell_type_profiles_n_sim_5_profiles.csv', '/space/grp/aadrian/Pseudobulk_Function_Pipeline_HighRes/bin/bulkSimulationOneProfile/data/simulations/0/pbmc_sc_with_metadata_cpm_pc_cell_type_profiles.csv/pbmc_sc_with_metadata_cpm_pc_cell_type_profiles_n_sim_78_profiles.csv', '/space/grp/aadrian/Pseudobulk_Function_Pipeline_HighRes/bin/bulkSimulationOneProfile/data/simulations/0/pbmc_sc_with_metadata_cpm_pc_cell_type_profiles.csv/pbmc_sc_with_metadata_cpm_pc_cell_type_profiles_n_sim_59_profiles.csv', '/space/grp/aadrian/Pseudobulk_Function_Pipeline_HighRes/bin/bulkSimulationOneProfile/data/simulations/0/pbmc_sc_with_metadata_cpm_pc_cell_type_profiles.csv/pbmc_sc_with_metadata_cpm_pc_cell_type_profiles_n_sim_86_profiles.csv', '/space/grp/aadrian/Pseudobulk_Function_Pipeline_HighRes/bin/bulkSimulationOneProfile/data/simulations/0/pbmc_sc_with_metadata_cpm_pc_cell_type_profiles.csv/pbmc_sc_with_metadata_cpm_pc_cell_type_profiles_n_sim_20_profiles.csv', '/space/grp/aadrian/Pseudobulk_Function_Pipeline_HighRes/bin/bulkSimulationOneProfile/data/simulations/0/pbmc_sc_with_metadata_cpm_pc_cell_type_profiles.csv/pbmc_sc_with_metadata_cpm_pc_cell_type_profiles_n_sim_73_profiles.csv', '/space/grp/aadrian/Pseudobulk_Function_Pipeline_HighRes/bin/bulkSimulationOneProfile/data/simulations/0/pbmc_sc_with_metadata_cpm_pc_cell_type_profiles.csv/pbmc_sc_with_metadata_cpm_pc_cell_type_profiles_n_sim_21_profiles.csv', '/space/grp/aadrian/Pseudobulk_Function_Pipeline_HighRes/bin/bulkSimulationOneProfile/data/simulations/0/pbmc_sc_with_metadata_cpm_pc_cell_type_profiles.csv/pbmc_sc_with_metadata_cpm_pc_cell_type_profiles_n_sim_72_profiles.csv', '/space/grp/aadrian/Pseudobulk_Function_Pipeline_HighRes/bin/bulkSimulationOneProfile/data/simulations/0/pbmc_sc_with_metadata_cpm_pc_cell_type_profiles.csv/pbmc_sc_with_metadata_cpm_pc_cell_type_profiles_n_sim_87_profiles.csv', '/space/grp/aadrian/Pseudobulk_Function_Pipeline_HighRes/bin/bulkSimulationOneProfile/data/simulations/0/pbmc_sc_with_metadata_cpm_pc_cell_type_profiles.csv/pbmc_sc_with_metadata_cpm_pc_cell_type_profiles_n_sim_58_profiles.csv', '/space/grp/aadrian/Pseudobulk_Function_Pipeline_HighRes/bin/bulkSimulationOneProfile/data/simulations/0/pbmc_sc_with_metadata_cpm_pc_cell_type_profiles.csv/pbmc_sc_with_metadata_cpm_pc_cell_type_profiles_n_sim_70_profiles.csv', '/space/grp/aadrian/Pseudobulk_Function_Pipeline_HighRes/bin/bulkSimulationOneProfile/data/simulations/0/pbmc_sc_with_metadata_cpm_pc_cell_type_profiles.csv/pbmc_sc_with_metadata_cpm_pc_cell_type_profiles_n_sim_23_profiles.csv', '/space/grp/aadrian/Pseudobulk_Function_Pipeline_HighRes/bin/bulkSimulationOneProfile/data/simulations/0/pbmc_sc_with_metadata_cpm_pc_cell_type_profiles.csv/pbmc_sc_with_metadata_cpm_pc_cell_type_profiles_n_sim_85_profiles.csv', '/space/grp/aadrian/Pseudobulk_Function_Pipeline_HighRes/bin/bulkSimulationOneProfile/data/simulations/0/pbmc_sc_with_metadata_cpm_pc_cell_type_profiles.csv/pbmc_sc_with_metadata_cpm_pc_cell_type_profiles_n_sim_84_profiles.csv', '/space/grp/aadrian/Pseudobulk_Function_Pipeline_HighRes/bin/bulkSimulationOneProfile/data/simulations/0/pbmc_sc_with_metadata_cpm_pc_cell_type_profiles.csv/pbmc_sc_with_metadata_cpm_pc_cell_type_profiles_n_sim_71_profiles.csv', '/space/grp/aadrian/Pseudobulk_Function_Pipeline_HighRes/bin/bulkSimulationOneProfile/data/simulations/0/pbmc_sc_with_metadata_cpm_pc_cell_type_profiles.csv/pbmc_sc_with_metadata_cpm_pc_cell_type_profiles_n_sim_22_profiles.csv', '/space/grp/aadrian/Pseudobulk_Function_Pipeline_HighRes/bin/bulkSimulationOneProfile/data/simulations/0/pbmc_sc_with_metadata_cpm_pc_cell_type_profiles.csv/pbmc_sc_with_metadata_cpm_pc_cell_type_profiles_n_sim_9_profiles.csv', '/space/grp/aadrian/Pseudobulk_Function_Pipeline_HighRes/bin/bulkSimulationOneProfile/data/simulations/0/pbmc_sc_with_metadata_cpm_pc_cell_type_profiles.csv/pbmc_sc_with_metadata_cpm_pc_cell_type_profiles_n_sim_81_profiles.csv', '/space/grp/aadrian/Pseudobulk_Function_Pipeline_HighRes/bin/bulkSimulationOneProfile/data/simulations/0/pbmc_sc_with_metadata_cpm_pc_cell_type_profiles.csv/pbmc_sc_with_metadata_cpm_pc_cell_type_profiles_n_sim_27_profiles.csv', '/space/grp/aadrian/Pseudobulk_Function_Pipeline_HighRes/bin/bulkSimulationOneProfile/data/simulations/0/pbmc_sc_with_metadata_cpm_pc_cell_type_profiles.csv/pbmc_sc_with_metadata_cpm_pc_cell_type_profiles_n_sim_74_profiles.csv', '/space/grp/aadrian/Pseudobulk_Function_Pipeline_HighRes/bin/bulkSimulationOneProfile/data/simulations/0/pbmc_sc_with_metadata_cpm_pc_cell_type_profiles.csv/pbmc_sc_with_metadata_cpm_pc_cell_type_profiles_n_sim_26_profiles.csv', '/space/grp/aadrian/Pseudobulk_Function_Pipeline_HighRes/bin/bulkSimulationOneProfile/data/simulations/0/pbmc_sc_with_metadata_cpm_pc_cell_type_profiles.csv/pbmc_sc_with_metadata_cpm_pc_cell_type_profiles_n_sim_75_profiles.csv', '/space/grp/aadrian/Pseudobulk_Function_Pipeline_HighRes/bin/bulkSimulationOneProfile/data/simulations/0/pbmc_sc_with_metadata_cpm_pc_cell_type_profiles.csv/pbmc_sc_with_metadata_cpm_pc_cell_type_profiles_n_sim_80_profiles.csv', '/space/grp/aadrian/Pseudobulk_Function_Pipeline_HighRes/bin/bulkSimulationOneProfile/data/simulations/0/pbmc_sc_with_metadata_cpm_pc_cell_type_profiles.csv/pbmc_sc_with_metadata_cpm_pc_cell_type_profiles_n_sim_8_profiles.csv', '/space/grp/aadrian/Pseudobulk_Function_Pipeline_HighRes/bin/bulkSimulationOneProfile/data/simulations/0/pbmc_sc_with_metadata_cpm_pc_cell_type_profiles.csv/pbmc_sc_with_metadata_cpm_pc_cell_type_profiles_n_sim_77_profiles.csv', '/space/grp/aadrian/Pseudobulk_Function_Pipeline_HighRes/bin/bulkSimulationOneProfile/data/simulations/0/pbmc_sc_with_metadata_cpm_pc_cell_type_profiles.csv/pbmc_sc_with_metadata_cpm_pc_cell_type_profiles_n_sim_24_profiles.csv', '/space/grp/aadrian/Pseudobulk_Function_Pipeline_HighRes/bin/bulkSimulationOneProfile/data/simulations/0/pbmc_sc_with_metadata_cpm_pc_cell_type_profiles.csv/pbmc_sc_with_metadata_cpm_pc_cell_type_profiles_n_sim_82_profiles.csv', '/space/grp/aadrian/Pseudobulk_Function_Pipeline_HighRes/bin/bulkSimulationOneProfile/data/simulations/0/pbmc_sc_with_metadata_cpm_pc_cell_type_profiles.csv/pbmc_sc_with_metadata_cpm_pc_cell_type_profiles_n_sim_83_profiles.csv', '/space/grp/aadrian/Pseudobulk_Function_Pipeline_HighRes/bin/bulkSimulationOneProfile/data/simulations/0/pbmc_sc_with_metadata_cpm_pc_cell_type_profiles.csv/pbmc_sc_with_metadata_cpm_pc_cell_type_profiles_n_sim_76_profiles.csv', '/space/grp/aadrian/Pseudobulk_Function_Pipeline_HighRes/bin/bulkSimulationOneProfile/data/simulations/0/pbmc_sc_with_metadata_cpm_pc_cell_type_profiles.csv/pbmc_sc_with_metadata_cpm_pc_cell_type_profiles_n_sim_25_profiles.csv'], ['/space/grp/aadrian/Pseudobulk_Function_Pipeline_HighRes/bin/bulkSimulationOneProfile/data/simulations/0.1/pbmc_sc_with_metadata_cpm_pc_cell_type_profiles.csv/pbmc_sc_with_metadata_cpm_pc_cell_type_profiles_n_sim_44_profiles.csv', '/space/grp/aadrian/Pseudobulk_Function_Pipeline_HighRes/bin/bulkSimulationOneProfile/data/simulations/0.1/pbmc_sc_with_metadata_cpm_pc_cell_type_profiles.csv/pbmc_sc_with_metadata_cpm_pc_cell_type_profiles_n_sim_17_profiles.csv', '/space/grp/aadrian/Pseudobulk_Function_Pipeline_HighRes/bin/bulkSimulationOneProfile/data/simulations/0.1/pbmc_sc_with_metadata_cpm_pc_cell_type_profiles.csv/pbmc_sc_with_metadata_cpm_pc_cell_type_profiles_n_sim_3_profiles.csv', '/space/grp/aadrian/Pseudobulk_Function_Pipeline_HighRes/bin/bulkSimulationOneProfile/data/simulations/0.1/pbmc_sc_with_metadata_cpm_pc_cell_type_profiles.csv/pbmc_sc_with_metadata_cpm_pc_cell_type_profiles_n_sim_45_profiles.csv', '/space/grp/aadrian/Pseudobulk_Function_Pipeline_HighRes/bin/bulkSimulationOneProfile/data/simulations/0.1/pbmc_sc_with_metadata_cpm_pc_cell_type_profiles.csv/pbmc_sc_with_metadata_cpm_pc_cell_type_profiles_n_sim_16_profiles.csv', '/space/grp/aadrian/Pseudobulk_Function_Pipeline_HighRes/bin/bulkSimulationOneProfile/data/simulations/0.1/pbmc_sc_with_metadata_cpm_pc_cell_type_profiles.csv/pbmc_sc_with_metadata_cpm_pc_cell_type_profiles_n_sim_2_profiles.csv', '/space/grp/aadrian/Pseudobulk_Function_Pipeline_HighRes/bin/bulkSimulationOneProfile/data/simulations/0.1/pbmc_sc_with_metadata_cpm_pc_cell_type_profiles.csv/pbmc_sc_with_metadata_cpm_pc_cell_type_profiles_n_sim_0_profiles.csv', '/space/grp/aadrian/Pseudobulk_Function_Pipeline_HighRes/bin/bulkSimulationOneProfile/data/simulations/0.1/pbmc_sc_with_metadata_cpm_pc_cell_type_profiles.csv/pbmc_sc_with_metadata_cpm_pc_cell_type_profiles_n_sim_14_profiles.csv', '/space/grp/aadrian/Pseudobulk_Function_Pipeline_HighRes/bin/bulkSimulationOneProfile/data/simulations/0.1/pbmc_sc_with_metadata_cpm_pc_cell_type_profiles.csv/pbmc_sc_with_metadata_cpm_pc_cell_type_profiles_n_sim_47_profiles.csv', '/space/grp/aadrian/Pseudobulk_Function_Pipeline_HighRes/bin/bulkSimulationOneProfile/data/simulations/0.1/pbmc_sc_with_metadata_cpm_pc_cell_type_profiles.csv/pbmc_sc_with_metadata_cpm_pc_cell_type_profiles_n_sim_98_profiles.csv', '/space/grp/aadrian/Pseudobulk_Function_Pipeline_HighRes/bin/bulkSimulationOneProfile/data/simulations/0.1/pbmc_sc_with_metadata_cpm_pc_cell_type_profiles.csv/pbmc_sc_with_metadata_cpm_pc_cell_type_profiles_n_sim_1_profiles.csv', '/space/grp/aadrian/Pseudobulk_Function_Pipeline_HighRes/bin/bulkSimulationOneProfile/data/simulations/0.1/pbmc_sc_with_metadata_cpm_pc_cell_type_profiles.csv/pbmc_sc_with_metadata_cpm_pc_cell_type_profiles_n_sim_15_profiles.csv', '/space/grp/aadrian/Pseudobulk_Function_Pipeline_HighRes/bin/bulkSimulationOneProfile/data/simulations/0.1/pbmc_sc_with_metadata_cpm_pc_cell_type_profiles.csv/pbmc_sc_with_metadata_cpm_pc_cell_type_profiles_n_sim_99_profiles.csv', '/space/grp/aadrian/Pseudobulk_Function_Pipeline_HighRes/bin/bulkSimulationOneProfile/data/simulations/0.1/pbmc_sc_with_metadata_cpm_pc_cell_type_profiles.csv/pbmc_sc_with_metadata_cpm_pc_cell_type_profiles_n_sim_46_profiles.csv', '/space/grp/aadrian/Pseudobulk_Function_Pipeline_HighRes/bin/bulkSimulationOneProfile/data/simulations/0.1/pbmc_sc_with_metadata_cpm_pc_cell_type_profiles.csv/pbmc_sc_with_metadata_cpm_pc_cell_type_profiles_n_sim_43_profiles.csv', '/space/grp/aadrian/Pseudobulk_Function_Pipeline_HighRes/bin/bulkSimulationOneProfile/data/simulations/0.1/pbmc_sc_with_metadata_cpm_pc_cell_type_profiles.csv/pbmc_sc_with_metadata_cpm_pc_cell_type_profiles_n_sim_10_profiles.csv', '/space/grp/aadrian/Pseudobulk_Function_Pipeline_HighRes/bin/bulkSimulationOneProfile/data/simulations/0.1/pbmc_sc_with_metadata_cpm_pc_cell_type_profiles.csv/pbmc_sc_with_metadata_cpm_pc_cell_type_profiles_n_sim_4_profiles.csv', '/space/grp/aadrian/Pseudobulk_Function_Pipeline_HighRes/bin/bulkSimulationOneProfile/data/simulations/0.1/pbmc_sc_with_metadata_cpm_pc_cell_type_profiles.csv/pbmc_sc_with_metadata_cpm_pc_cell_type_profiles_n_sim_69_profiles.csv', '/space/grp/aadrian/Pseudobulk_Function_Pipeline_HighRes/bin/bulkSimulationOneProfile/data/simulations/0.1/pbmc_sc_with_metadata_cpm_pc_cell_type_profiles.csv/pbmc_sc_with_metadata_cpm_pc_cell_type_profiles_n_sim_68_profiles.csv', '/space/grp/aadrian/Pseudobulk_Function_Pipeline_HighRes/bin/bulkSimulationOneProfile/data/simulations/0.1/pbmc_sc_with_metadata_cpm_pc_cell_type_profiles.csv/pbmc_sc_with_metadata_cpm_pc_cell_type_profiles_n_sim_42_profiles.csv', '/space/grp/aadrian/Pseudobulk_Function_Pipeline_HighRes/bin/bulkSimulationOneProfile/data/simulations/0.1/pbmc_sc_with_metadata_cpm_pc_cell_type_profiles.csv/pbmc_sc_with_metadata_cpm_pc_cell_type_profiles_n_sim_11_profiles.csv', '/space/grp/aadrian/Pseudobulk_Function_Pipeline_HighRes/bin/bulkSimulationOneProfile/data/simulations/0.1/pbmc_sc_with_metadata_cpm_pc_cell_type_profiles.csv/pbmc_sc_with_metadata_cpm_pc_cell_type_profiles_n_sim_5_profiles.csv', '/space/grp/aadrian/Pseudobulk_Function_Pipeline_HighRes/bin/bulkSimulationOneProfile/data/simulations/0.1/pbmc_sc_with_metadata_cpm_pc_cell_type_profiles.csv/pbmc_sc_with_metadata_cpm_pc_cell_type_profiles_n_sim_39_profiles.csv', '/space/grp/aadrian/Pseudobulk_Function_Pipeline_HighRes/bin/bulkSimulationOneProfile/data/simulations/0.1/pbmc_sc_with_metadata_cpm_pc_cell_type_profiles.csv/pbmc_sc_with_metadata_cpm_pc_cell_type_profiles_n_sim_7_profiles.csv', '/space/grp/aadrian/Pseudobulk_Function_Pipeline_HighRes/bin/bulkSimulationOneProfile/data/simulations/0.1/pbmc_sc_with_metadata_cpm_pc_cell_type_profiles.csv/pbmc_sc_with_metadata_cpm_pc_cell_type_profiles_n_sim_13_profiles.csv', '/space/grp/aadrian/Pseudobulk_Function_Pipeline_HighRes/bin/bulkSimulationOneProfile/data/simulations/0.1/pbmc_sc_with_metadata_cpm_pc_cell_type_profiles.csv/pbmc_sc_with_metadata_cpm_pc_cell_type_profiles_n_sim_40_profiles.csv', '/space/grp/aadrian/Pseudobulk_Function_Pipeline_HighRes/bin/bulkSimulationOneProfile/data/simulations/0.1/pbmc_sc_with_metadata_cpm_pc_cell_type_profiles.csv/pbmc_sc_with_metadata_cpm_pc_cell_type_profiles_n_sim_6_profiles.csv', '/space/grp/aadrian/Pseudobulk_Function_Pipeline_HighRes/bin/bulkSimulationOneProfile/data/simulations/0.1/pbmc_sc_with_metadata_cpm_pc_cell_type_profiles.csv/pbmc_sc_with_metadata_cpm_pc_cell_type_profiles_n_sim_12_profiles.csv', '/space/grp/aadrian/Pseudobulk_Function_Pipeline_HighRes/bin/bulkSimulationOneProfile/data/simulations/0.1/pbmc_sc_with_metadata_cpm_pc_cell_type_profiles.csv/pbmc_sc_with_metadata_cpm_pc_cell_type_profiles_n_sim_41_profiles.csv', '/space/grp/aadrian/Pseudobulk_Function_Pipeline_HighRes/bin/bulkSimulationOneProfile/data/simulations/0.1/pbmc_sc_with_metadata_cpm_pc_cell_type_profiles.csv/pbmc_sc_with_metadata_cpm_pc_cell_type_profiles_n_sim_38_profiles.csv', '/space/grp/aadrian/Pseudobulk_Function_Pipeline_HighRes/bin/bulkSimulationOneProfile/data/simulations/0.1/pbmc_sc_with_metadata_cpm_pc_cell_type_profiles.csv/pbmc_sc_with_metadata_cpm_pc_cell_type_profiles_n_sim_19_profiles.csv', '/space/grp/aadrian/Pseudobulk_Function_Pipeline_HighRes/bin/bulkSimulationOneProfile/data/simulations/0.1/pbmc_sc_with_metadata_cpm_pc_cell_type_profiles.csv/pbmc_sc_with_metadata_cpm_pc_cell_type_profiles_n_sim_95_profiles.csv', '/space/grp/aadrian/Pseudobulk_Function_Pipeline_HighRes/bin/bulkSimulationOneProfile/data/simulations/0.1/pbmc_sc_with_metadata_cpm_pc_cell_type_profiles.csv/pbmc_sc_with_metadata_cpm_pc_cell_type_profiles_n_sim_60_profiles.csv', '/space/grp/aadrian/Pseudobulk_Function_Pipeline_HighRes/bin/bulkSimulationOneProfile/data/simulations/0.1/pbmc_sc_with_metadata_cpm_pc_cell_type_profiles.csv/pbmc_sc_with_metadata_cpm_pc_cell_type_profiles_n_sim_33_profiles.csv', '/space/grp/aadrian/Pseudobulk_Function_Pipeline_HighRes/bin/bulkSimulationOneProfile/data/simulations/0.1/pbmc_sc_with_metadata_cpm_pc_cell_type_profiles.csv/pbmc_sc_with_metadata_cpm_pc_cell_type_profiles_n_sim_61_profiles.csv', '/space/grp/aadrian/Pseudobulk_Function_Pipeline_HighRes/bin/bulkSimulationOneProfile/data/simulations/0.1/pbmc_sc_with_metadata_cpm_pc_cell_type_profiles.csv/pbmc_sc_with_metadata_cpm_pc_cell_type_profiles_n_sim_32_profiles.csv', '/space/grp/aadrian/Pseudobulk_Function_Pipeline_HighRes/bin/bulkSimulationOneProfile/data/simulations/0.1/pbmc_sc_with_metadata_cpm_pc_cell_type_profiles.csv/pbmc_sc_with_metadata_cpm_pc_cell_type_profiles_n_sim_18_profiles.csv', '/space/grp/aadrian/Pseudobulk_Function_Pipeline_HighRes/bin/bulkSimulationOneProfile/data/simulations/0.1/pbmc_sc_with_metadata_cpm_pc_cell_type_profiles.csv/pbmc_sc_with_metadata_cpm_pc_cell_type_profiles_n_sim_94_profiles.csv', '/space/grp/aadrian/Pseudobulk_Function_Pipeline_HighRes/bin/bulkSimulationOneProfile/data/simulations/0.1/pbmc_sc_with_metadata_cpm_pc_cell_type_profiles.csv/pbmc_sc_with_metadata_cpm_pc_cell_type_profiles_n_sim_30_profiles.csv', '/space/grp/aadrian/Pseudobulk_Function_Pipeline_HighRes/bin/bulkSimulationOneProfile/data/simulations/0.1/pbmc_sc_with_metadata_cpm_pc_cell_type_profiles.csv/pbmc_sc_with_metadata_cpm_pc_cell_type_profiles_n_sim_63_profiles.csv', '/space/grp/aadrian/Pseudobulk_Function_Pipeline_HighRes/bin/bulkSimulationOneProfile/data/simulations/0.1/pbmc_sc_with_metadata_cpm_pc_cell_type_profiles.csv/pbmc_sc_with_metadata_cpm_pc_cell_type_profiles_n_sim_49_profiles.csv', '/space/grp/aadrian/Pseudobulk_Function_Pipeline_HighRes/bin/bulkSimulationOneProfile/data/simulations/0.1/pbmc_sc_with_metadata_cpm_pc_cell_type_profiles.csv/pbmc_sc_with_metadata_cpm_pc_cell_type_profiles_n_sim_96_profiles.csv', '/space/grp/aadrian/Pseudobulk_Function_Pipeline_HighRes/bin/bulkSimulationOneProfile/data/simulations/0.1/pbmc_sc_with_metadata_cpm_pc_cell_type_profiles.csv/pbmc_sc_with_metadata_cpm_pc_cell_type_profiles_n_sim_97_profiles.csv', '/space/grp/aadrian/Pseudobulk_Function_Pipeline_HighRes/bin/bulkSimulationOneProfile/data/simulations/0.1/pbmc_sc_with_metadata_cpm_pc_cell_type_profiles.csv/pbmc_sc_with_metadata_cpm_pc_cell_type_profiles_n_sim_48_profiles.csv', '/space/grp/aadrian/Pseudobulk_Function_Pipeline_HighRes/bin/bulkSimulationOneProfile/data/simulations/0.1/pbmc_sc_with_metadata_cpm_pc_cell_type_profiles.csv/pbmc_sc_with_metadata_cpm_pc_cell_type_profiles_n_sim_31_profiles.csv', '/space/grp/aadrian/Pseudobulk_Function_Pipeline_HighRes/bin/bulkSimulationOneProfile/data/simulations/0.1/pbmc_sc_with_metadata_cpm_pc_cell_type_profiles.csv/pbmc_sc_with_metadata_cpm_pc_cell_type_profiles_n_sim_62_profiles.csv', '/space/grp/aadrian/Pseudobulk_Function_Pipeline_HighRes/bin/bulkSimulationOneProfile/data/simulations/0.1/pbmc_sc_with_metadata_cpm_pc_cell_type_profiles.csv/pbmc_sc_with_metadata_cpm_pc_cell_type_profiles_n_sim_92_profiles.csv', '/space/grp/aadrian/Pseudobulk_Function_Pipeline_HighRes/bin/bulkSimulationOneProfile/data/simulations/0.1/pbmc_sc_with_metadata_cpm_pc_cell_type_profiles.csv/pbmc_sc_with_metadata_cpm_pc_cell_type_profiles_n_sim_67_profiles.csv', '/space/grp/aadrian/Pseudobulk_Function_Pipeline_HighRes/bin/bulkSimulationOneProfile/data/simulations/0.1/pbmc_sc_with_metadata_cpm_pc_cell_type_profiles.csv/pbmc_sc_with_metadata_cpm_pc_cell_type_profiles_n_sim_34_profiles.csv', '/space/grp/aadrian/Pseudobulk_Function_Pipeline_HighRes/bin/bulkSimulationOneProfile/data/simulations/0.1/pbmc_sc_with_metadata_cpm_pc_cell_type_profiles.csv/pbmc_sc_with_metadata_cpm_pc_cell_type_profiles_n_sim_66_profiles.csv', '/space/grp/aadrian/Pseudobulk_Function_Pipeline_HighRes/bin/bulkSimulationOneProfile/data/simulations/0.1/pbmc_sc_with_metadata_cpm_pc_cell_type_profiles.csv/pbmc_sc_with_metadata_cpm_pc_cell_type_profiles_n_sim_35_profiles.csv', '/space/grp/aadrian/Pseudobulk_Function_Pipeline_HighRes/bin/bulkSimulationOneProfile/data/simulations/0.1/pbmc_sc_with_metadata_cpm_pc_cell_type_profiles.csv/pbmc_sc_with_metadata_cpm_pc_cell_type_profiles_n_sim_93_profiles.csv', '/space/grp/aadrian/Pseudobulk_Function_Pipeline_HighRes/bin/bulkSimulationOneProfile/data/simulations/0.1/pbmc_sc_with_metadata_cpm_pc_cell_type_profiles.csv/pbmc_sc_with_metadata_cpm_pc_cell_type_profiles_n_sim_37_profiles.csv', '/space/grp/aadrian/Pseudobulk_Function_Pipeline_HighRes/bin/bulkSimulationOneProfile/data/simulations/0.1/pbmc_sc_with_metadata_cpm_pc_cell_type_profiles.csv/pbmc_sc_with_metadata_cpm_pc_cell_type_profiles_n_sim_64_profiles.csv', '/space/grp/aadrian/Pseudobulk_Function_Pipeline_HighRes/bin/bulkSimulationOneProfile/data/simulations/0.1/pbmc_sc_with_metadata_cpm_pc_cell_type_profiles.csv/pbmc_sc_with_metadata_cpm_pc_cell_type_profiles_n_sim_91_profiles.csv', '/space/grp/aadrian/Pseudobulk_Function_Pipeline_HighRes/bin/bulkSimulationOneProfile/data/simulations/0.1/pbmc_sc_with_metadata_cpm_pc_cell_type_profiles.csv/pbmc_sc_with_metadata_cpm_pc_cell_type_profiles_n_sim_9_profiles.csv', '/space/grp/aadrian/Pseudobulk_Function_Pipeline_HighRes/bin/bulkSimulationOneProfile/data/simulations/0.1/pbmc_sc_with_metadata_cpm_pc_cell_type_profiles.csv/pbmc_sc_with_metadata_cpm_pc_cell_type_profiles_n_sim_90_profiles.csv', '/space/grp/aadrian/Pseudobulk_Function_Pipeline_HighRes/bin/bulkSimulationOneProfile/data/simulations/0.1/pbmc_sc_with_metadata_cpm_pc_cell_type_profiles.csv/pbmc_sc_with_metadata_cpm_pc_cell_type_profiles_n_sim_8_profiles.csv', '/space/grp/aadrian/Pseudobulk_Function_Pipeline_HighRes/bin/bulkSimulationOneProfile/data/simulations/0.1/pbmc_sc_with_metadata_cpm_pc_cell_type_profiles.csv/pbmc_sc_with_metadata_cpm_pc_cell_type_profiles_n_sim_36_profiles.csv', '/space/grp/aadrian/Pseudobulk_Function_Pipeline_HighRes/bin/bulkSimulationOneProfile/data/simulations/0.1/pbmc_sc_with_metadata_cpm_pc_cell_type_profiles.csv/pbmc_sc_with_metadata_cpm_pc_cell_type_profiles_n_sim_65_profiles.csv', '/space/grp/aadrian/Pseudobulk_Function_Pipeline_HighRes/bin/bulkSimulationOneProfile/data/simulations/0.1/pbmc_sc_with_metadata_cpm_pc_cell_type_profiles.csv/pbmc_sc_with_metadata_cpm_pc_cell_type_profiles_n_sim_27_profiles.csv', '/space/grp/aadrian/Pseudobulk_Function_Pipeline_HighRes/bin/bulkSimulationOneProfile/data/simulations/0.1/pbmc_sc_with_metadata_cpm_pc_cell_type_profiles.csv/pbmc_sc_with_metadata_cpm_pc_cell_type_profiles_n_sim_74_profiles.csv', '/space/grp/aadrian/Pseudobulk_Function_Pipeline_HighRes/bin/bulkSimulationOneProfile/data/simulations/0.1/pbmc_sc_with_metadata_cpm_pc_cell_type_profiles.csv/pbmc_sc_with_metadata_cpm_pc_cell_type_profiles_n_sim_81_profiles.csv', '/space/grp/aadrian/Pseudobulk_Function_Pipeline_HighRes/bin/bulkSimulationOneProfile/data/simulations/0.1/pbmc_sc_with_metadata_cpm_pc_cell_type_profiles.csv/pbmc_sc_with_metadata_cpm_pc_cell_type_profiles_n_sim_80_profiles.csv', '/space/grp/aadrian/Pseudobulk_Function_Pipeline_HighRes/bin/bulkSimulationOneProfile/data/simulations/0.1/pbmc_sc_with_metadata_cpm_pc_cell_type_profiles.csv/pbmc_sc_with_metadata_cpm_pc_cell_type_profiles_n_sim_26_profiles.csv', '/space/grp/aadrian/Pseudobulk_Function_Pipeline_HighRes/bin/bulkSimulationOneProfile/data/simulations/0.1/pbmc_sc_with_metadata_cpm_pc_cell_type_profiles.csv/pbmc_sc_with_metadata_cpm_pc_cell_type_profiles_n_sim_75_profiles.csv', '/space/grp/aadrian/Pseudobulk_Function_Pipeline_HighRes/bin/bulkSimulationOneProfile/data/simulations/0.1/pbmc_sc_with_metadata_cpm_pc_cell_type_profiles.csv/pbmc_sc_with_metadata_cpm_pc_cell_type_profiles_n_sim_82_profiles.csv', '/space/grp/aadrian/Pseudobulk_Function_Pipeline_HighRes/bin/bulkSimulationOneProfile/data/simulations/0.1/pbmc_sc_with_metadata_cpm_pc_cell_type_profiles.csv/pbmc_sc_with_metadata_cpm_pc_cell_type_profiles_n_sim_77_profiles.csv', '/space/grp/aadrian/Pseudobulk_Function_Pipeline_HighRes/bin/bulkSimulationOneProfile/data/simulations/0.1/pbmc_sc_with_metadata_cpm_pc_cell_type_profiles.csv/pbmc_sc_with_metadata_cpm_pc_cell_type_profiles_n_sim_24_profiles.csv', '/space/grp/aadrian/Pseudobulk_Function_Pipeline_HighRes/bin/bulkSimulationOneProfile/data/simulations/0.1/pbmc_sc_with_metadata_cpm_pc_cell_type_profiles.csv/pbmc_sc_with_metadata_cpm_pc_cell_type_profiles_n_sim_76_profiles.csv', '/space/grp/aadrian/Pseudobulk_Function_Pipeline_HighRes/bin/bulkSimulationOneProfile/data/simulations/0.1/pbmc_sc_with_metadata_cpm_pc_cell_type_profiles.csv/pbmc_sc_with_metadata_cpm_pc_cell_type_profiles_n_sim_25_profiles.csv', '/space/grp/aadrian/Pseudobulk_Function_Pipeline_HighRes/bin/bulkSimulationOneProfile/data/simulations/0.1/pbmc_sc_with_metadata_cpm_pc_cell_type_profiles.csv/pbmc_sc_with_metadata_cpm_pc_cell_type_profiles_n_sim_83_profiles.csv', '/space/grp/aadrian/Pseudobulk_Function_Pipeline_HighRes/bin/bulkSimulationOneProfile/data/simulations/0.1/pbmc_sc_with_metadata_cpm_pc_cell_type_profiles.csv/pbmc_sc_with_metadata_cpm_pc_cell_type_profiles_n_sim_20_profiles.csv', '/space/grp/aadrian/Pseudobulk_Function_Pipeline_HighRes/bin/bulkSimulationOneProfile/data/simulations/0.1/pbmc_sc_with_metadata_cpm_pc_cell_type_profiles.csv/pbmc_sc_with_metadata_cpm_pc_cell_type_profiles_n_sim_73_profiles.csv', '/space/grp/aadrian/Pseudobulk_Function_Pipeline_HighRes/bin/bulkSimulationOneProfile/data/simulations/0.1/pbmc_sc_with_metadata_cpm_pc_cell_type_profiles.csv/pbmc_sc_with_metadata_cpm_pc_cell_type_profiles_n_sim_59_profiles.csv', '/space/grp/aadrian/Pseudobulk_Function_Pipeline_HighRes/bin/bulkSimulationOneProfile/data/simulations/0.1/pbmc_sc_with_metadata_cpm_pc_cell_type_profiles.csv/pbmc_sc_with_metadata_cpm_pc_cell_type_profiles_n_sim_86_profiles.csv', '/space/grp/aadrian/Pseudobulk_Function_Pipeline_HighRes/bin/bulkSimulationOneProfile/data/simulations/0.1/pbmc_sc_with_metadata_cpm_pc_cell_type_profiles.csv/pbmc_sc_with_metadata_cpm_pc_cell_type_profiles_n_sim_87_profiles.csv', '/space/grp/aadrian/Pseudobulk_Function_Pipeline_HighRes/bin/bulkSimulationOneProfile/data/simulations/0.1/pbmc_sc_with_metadata_cpm_pc_cell_type_profiles.csv/pbmc_sc_with_metadata_cpm_pc_cell_type_profiles_n_sim_58_profiles.csv', '/space/grp/aadrian/Pseudobulk_Function_Pipeline_HighRes/bin/bulkSimulationOneProfile/data/simulations/0.1/pbmc_sc_with_metadata_cpm_pc_cell_type_profiles.csv/pbmc_sc_with_metadata_cpm_pc_cell_type_profiles_n_sim_21_profiles.csv', '/space/grp/aadrian/Pseudobulk_Function_Pipeline_HighRes/bin/bulkSimulationOneProfile/data/simulations/0.1/pbmc_sc_with_metadata_cpm_pc_cell_type_profiles.csv/pbmc_sc_with_metadata_cpm_pc_cell_type_profiles_n_sim_72_profiles.csv', '/space/grp/aadrian/Pseudobulk_Function_Pipeline_HighRes/bin/bulkSimulationOneProfile/data/simulations/0.1/pbmc_sc_with_metadata_cpm_pc_cell_type_profiles.csv/pbmc_sc_with_metadata_cpm_pc_cell_type_profiles_n_sim_85_profiles.csv', '/space/grp/aadrian/Pseudobulk_Function_Pipeline_HighRes/bin/bulkSimulationOneProfile/data/simulations/0.1/pbmc_sc_with_metadata_cpm_pc_cell_type_profiles.csv/pbmc_sc_with_metadata_cpm_pc_cell_type_profiles_n_sim_70_profiles.csv', '/space/grp/aadrian/Pseudobulk_Function_Pipeline_HighRes/bin/bulkSimulationOneProfile/data/simulations/0.1/pbmc_sc_with_metadata_cpm_pc_cell_type_profiles.csv/pbmc_sc_with_metadata_cpm_pc_cell_type_profiles_n_sim_23_profiles.csv', '/space/grp/aadrian/Pseudobulk_Function_Pipeline_HighRes/bin/bulkSimulationOneProfile/data/simulations/0.1/pbmc_sc_with_metadata_cpm_pc_cell_type_profiles.csv/pbmc_sc_with_metadata_cpm_pc_cell_type_profiles_n_sim_71_profiles.csv', '/space/grp/aadrian/Pseudobulk_Function_Pipeline_HighRes/bin/bulkSimulationOneProfile/data/simulations/0.1/pbmc_sc_with_metadata_cpm_pc_cell_type_profiles.csv/pbmc_sc_with_metadata_cpm_pc_cell_type_profiles_n_sim_22_profiles.csv', '/space/grp/aadrian/Pseudobulk_Function_Pipeline_HighRes/bin/bulkSimulationOneProfile/data/simulations/0.1/pbmc_sc_with_metadata_cpm_pc_cell_type_profiles.csv/pbmc_sc_with_metadata_cpm_pc_cell_type_profiles_n_sim_84_profiles.csv', '/space/grp/aadrian/Pseudobulk_Function_Pipeline_HighRes/bin/bulkSimulationOneProfile/data/simulations/0.1/pbmc_sc_with_metadata_cpm_pc_cell_type_profiles.csv/pbmc_sc_with_metadata_cpm_pc_cell_type_profiles_n_sim_29_profiles.csv', '/space/grp/aadrian/Pseudobulk_Function_Pipeline_HighRes/bin/bulkSimulationOneProfile/data/simulations/0.1/pbmc_sc_with_metadata_cpm_pc_cell_type_profiles.csv/pbmc_sc_with_metadata_cpm_pc_cell_type_profiles_n_sim_50_profiles.csv', '/space/grp/aadrian/Pseudobulk_Function_Pipeline_HighRes/bin/bulkSimulationOneProfile/data/simulations/0.1/pbmc_sc_with_metadata_cpm_pc_cell_type_profiles.csv/pbmc_sc_with_metadata_cpm_pc_cell_type_profiles_n_sim_51_profiles.csv', '/space/grp/aadrian/Pseudobulk_Function_Pipeline_HighRes/bin/bulkSimulationOneProfile/data/simulations/0.1/pbmc_sc_with_metadata_cpm_pc_cell_type_profiles.csv/pbmc_sc_with_metadata_cpm_pc_cell_type_profiles_n_sim_28_profiles.csv', '/space/grp/aadrian/Pseudobulk_Function_Pipeline_HighRes/bin/bulkSimulationOneProfile/data/simulations/0.1/pbmc_sc_with_metadata_cpm_pc_cell_type_profiles.csv/pbmc_sc_with_metadata_cpm_pc_cell_type_profiles_n_sim_53_profiles.csv', '/space/grp/aadrian/Pseudobulk_Function_Pipeline_HighRes/bin/bulkSimulationOneProfile/data/simulations/0.1/pbmc_sc_with_metadata_cpm_pc_cell_type_profiles.csv/pbmc_sc_with_metadata_cpm_pc_cell_type_profiles_n_sim_79_profiles.csv', '/space/grp/aadrian/Pseudobulk_Function_Pipeline_HighRes/bin/bulkSimulationOneProfile/data/simulations/0.1/pbmc_sc_with_metadata_cpm_pc_cell_type_profiles.csv/pbmc_sc_with_metadata_cpm_pc_cell_type_profiles_n_sim_78_profiles.csv', '/space/grp/aadrian/Pseudobulk_Function_Pipeline_HighRes/bin/bulkSimulationOneProfile/data/simulations/0.1/pbmc_sc_with_metadata_cpm_pc_cell_type_profiles.csv/pbmc_sc_with_metadata_cpm_pc_cell_type_profiles_n_sim_52_profiles.csv', '/space/grp/aadrian/Pseudobulk_Function_Pipeline_HighRes/bin/bulkSimulationOneProfile/data/simulations/0.1/pbmc_sc_with_metadata_cpm_pc_cell_type_profiles.csv/pbmc_sc_with_metadata_cpm_pc_cell_type_profiles_n_sim_57_profiles.csv', '/space/grp/aadrian/Pseudobulk_Function_Pipeline_HighRes/bin/bulkSimulationOneProfile/data/simulations/0.1/pbmc_sc_with_metadata_cpm_pc_cell_type_profiles.csv/pbmc_sc_with_metadata_cpm_pc_cell_type_profiles_n_sim_88_profiles.csv', '/space/grp/aadrian/Pseudobulk_Function_Pipeline_HighRes/bin/bulkSimulationOneProfile/data/simulations/0.1/pbmc_sc_with_metadata_cpm_pc_cell_type_profiles.csv/pbmc_sc_with_metadata_cpm_pc_cell_type_profiles_n_sim_89_profiles.csv', '/space/grp/aadrian/Pseudobulk_Function_Pipeline_HighRes/bin/bulkSimulationOneProfile/data/simulations/0.1/pbmc_sc_with_metadata_cpm_pc_cell_type_profiles.csv/pbmc_sc_with_metadata_cpm_pc_cell_type_profiles_n_sim_56_profiles.csv', '/space/grp/aadrian/Pseudobulk_Function_Pipeline_HighRes/bin/bulkSimulationOneProfile/data/simulations/0.1/pbmc_sc_with_metadata_cpm_pc_cell_type_profiles.csv/pbmc_sc_with_metadata_cpm_pc_cell_type_profiles_n_sim_54_profiles.csv', '/space/grp/aadrian/Pseudobulk_Function_Pipeline_HighRes/bin/bulkSimulationOneProfile/data/simulations/0.1/pbmc_sc_with_metadata_cpm_pc_cell_type_profiles.csv/pbmc_sc_with_metadata_cpm_pc_cell_type_profiles_n_sim_55_profiles.csv'], ['/space/grp/aadrian/Pseudobulk_Function_Pipeline_HighRes/bin/bulkSimulationOneProfile/data/simulations/1/pbmc_sc_with_metadata_cpm_pc_cell_type_profiles.csv/pbmc_sc_with_metadata_cpm_pc_cell_type_profiles_n_sim_71_profiles.csv', '/space/grp/aadrian/Pseudobulk_Function_Pipeline_HighRes/bin/bulkSimulationOneProfile/data/simulations/1/pbmc_sc_with_metadata_cpm_pc_cell_type_profiles.csv/pbmc_sc_with_metadata_cpm_pc_cell_type_profiles_n_sim_22_profiles.csv', '/space/grp/aadrian/Pseudobulk_Function_Pipeline_HighRes/bin/bulkSimulationOneProfile/data/simulations/1/pbmc_sc_with_metadata_cpm_pc_cell_type_profiles.csv/pbmc_sc_with_metadata_cpm_pc_cell_type_profiles_n_sim_84_profiles.csv', '/space/grp/aadrian/Pseudobulk_Function_Pipeline_HighRes/bin/bulkSimulationOneProfile/data/simulations/1/pbmc_sc_with_metadata_cpm_pc_cell_type_profiles.csv/pbmc_sc_with_metadata_cpm_pc_cell_type_profiles_n_sim_85_profiles.csv', '/space/grp/aadrian/Pseudobulk_Function_Pipeline_HighRes/bin/bulkSimulationOneProfile/data/simulations/1/pbmc_sc_with_metadata_cpm_pc_cell_type_profiles.csv/pbmc_sc_with_metadata_cpm_pc_cell_type_profiles_n_sim_70_profiles.csv', '/space/grp/aadrian/Pseudobulk_Function_Pipeline_HighRes/bin/bulkSimulationOneProfile/data/simulations/1/pbmc_sc_with_metadata_cpm_pc_cell_type_profiles.csv/pbmc_sc_with_metadata_cpm_pc_cell_type_profiles_n_sim_23_profiles.csv', '/space/grp/aadrian/Pseudobulk_Function_Pipeline_HighRes/bin/bulkSimulationOneProfile/data/simulations/1/pbmc_sc_with_metadata_cpm_pc_cell_type_profiles.csv/pbmc_sc_with_metadata_cpm_pc_cell_type_profiles_n_sim_58_profiles.csv', '/space/grp/aadrian/Pseudobulk_Function_Pipeline_HighRes/bin/bulkSimulationOneProfile/data/simulations/1/pbmc_sc_with_metadata_cpm_pc_cell_type_profiles.csv/pbmc_sc_with_metadata_cpm_pc_cell_type_profiles_n_sim_87_profiles.csv', '/space/grp/aadrian/Pseudobulk_Function_Pipeline_HighRes/bin/bulkSimulationOneProfile/data/simulations/1/pbmc_sc_with_metadata_cpm_pc_cell_type_profiles.csv/pbmc_sc_with_metadata_cpm_pc_cell_type_profiles_n_sim_21_profiles.csv', '/space/grp/aadrian/Pseudobulk_Function_Pipeline_HighRes/bin/bulkSimulationOneProfile/data/simulations/1/pbmc_sc_with_metadata_cpm_pc_cell_type_profiles.csv/pbmc_sc_with_metadata_cpm_pc_cell_type_profiles_n_sim_72_profiles.csv', '/space/grp/aadrian/Pseudobulk_Function_Pipeline_HighRes/bin/bulkSimulationOneProfile/data/simulations/1/pbmc_sc_with_metadata_cpm_pc_cell_type_profiles.csv/pbmc_sc_with_metadata_cpm_pc_cell_type_profiles_n_sim_20_profiles.csv', '/space/grp/aadrian/Pseudobulk_Function_Pipeline_HighRes/bin/bulkSimulationOneProfile/data/simulations/1/pbmc_sc_with_metadata_cpm_pc_cell_type_profiles.csv/pbmc_sc_with_metadata_cpm_pc_cell_type_profiles_n_sim_73_profiles.csv', '/space/grp/aadrian/Pseudobulk_Function_Pipeline_HighRes/bin/bulkSimulationOneProfile/data/simulations/1/pbmc_sc_with_metadata_cpm_pc_cell_type_profiles.csv/pbmc_sc_with_metadata_cpm_pc_cell_type_profiles_n_sim_86_profiles.csv', '/space/grp/aadrian/Pseudobulk_Function_Pipeline_HighRes/bin/bulkSimulationOneProfile/data/simulations/1/pbmc_sc_with_metadata_cpm_pc_cell_type_profiles.csv/pbmc_sc_with_metadata_cpm_pc_cell_type_profiles_n_sim_59_profiles.csv', '/space/grp/aadrian/Pseudobulk_Function_Pipeline_HighRes/bin/bulkSimulationOneProfile/data/simulations/1/pbmc_sc_with_metadata_cpm_pc_cell_type_profiles.csv/pbmc_sc_with_metadata_cpm_pc_cell_type_profiles_n_sim_76_profiles.csv', '/space/grp/aadrian/Pseudobulk_Function_Pipeline_HighRes/bin/bulkSimulationOneProfile/data/simulations/1/pbmc_sc_with_metadata_cpm_pc_cell_type_profiles.csv/pbmc_sc_with_metadata_cpm_pc_cell_type_profiles_n_sim_25_profiles.csv', '/space/grp/aadrian/Pseudobulk_Function_Pipeline_HighRes/bin/bulkSimulationOneProfile/data/simulations/1/pbmc_sc_with_metadata_cpm_pc_cell_type_profiles.csv/pbmc_sc_with_metadata_cpm_pc_cell_type_profiles_n_sim_83_profiles.csv', '/space/grp/aadrian/Pseudobulk_Function_Pipeline_HighRes/bin/bulkSimulationOneProfile/data/simulations/1/pbmc_sc_with_metadata_cpm_pc_cell_type_profiles.csv/pbmc_sc_with_metadata_cpm_pc_cell_type_profiles_n_sim_82_profiles.csv', '/space/grp/aadrian/Pseudobulk_Function_Pipeline_HighRes/bin/bulkSimulationOneProfile/data/simulations/1/pbmc_sc_with_metadata_cpm_pc_cell_type_profiles.csv/pbmc_sc_with_metadata_cpm_pc_cell_type_profiles_n_sim_77_profiles.csv', '/space/grp/aadrian/Pseudobulk_Function_Pipeline_HighRes/bin/bulkSimulationOneProfile/data/simulations/1/pbmc_sc_with_metadata_cpm_pc_cell_type_profiles.csv/pbmc_sc_with_metadata_cpm_pc_cell_type_profiles_n_sim_24_profiles.csv', '/space/grp/aadrian/Pseudobulk_Function_Pipeline_HighRes/bin/bulkSimulationOneProfile/data/simulations/1/pbmc_sc_with_metadata_cpm_pc_cell_type_profiles.csv/pbmc_sc_with_metadata_cpm_pc_cell_type_profiles_n_sim_80_profiles.csv', '/space/grp/aadrian/Pseudobulk_Function_Pipeline_HighRes/bin/bulkSimulationOneProfile/data/simulations/1/pbmc_sc_with_metadata_cpm_pc_cell_type_profiles.csv/pbmc_sc_with_metadata_cpm_pc_cell_type_profiles_n_sim_26_profiles.csv', '/space/grp/aadrian/Pseudobulk_Function_Pipeline_HighRes/bin/bulkSimulationOneProfile/data/simulations/1/pbmc_sc_with_metadata_cpm_pc_cell_type_profiles.csv/pbmc_sc_with_metadata_cpm_pc_cell_type_profiles_n_sim_75_profiles.csv', '/space/grp/aadrian/Pseudobulk_Function_Pipeline_HighRes/bin/bulkSimulationOneProfile/data/simulations/1/pbmc_sc_with_metadata_cpm_pc_cell_type_profiles.csv/pbmc_sc_with_metadata_cpm_pc_cell_type_profiles_n_sim_27_profiles.csv', '/space/grp/aadrian/Pseudobulk_Function_Pipeline_HighRes/bin/bulkSimulationOneProfile/data/simulations/1/pbmc_sc_with_metadata_cpm_pc_cell_type_profiles.csv/pbmc_sc_with_metadata_cpm_pc_cell_type_profiles_n_sim_74_profiles.csv', '/space/grp/aadrian/Pseudobulk_Function_Pipeline_HighRes/bin/bulkSimulationOneProfile/data/simulations/1/pbmc_sc_with_metadata_cpm_pc_cell_type_profiles.csv/pbmc_sc_with_metadata_cpm_pc_cell_type_profiles_n_sim_81_profiles.csv', '/space/grp/aadrian/Pseudobulk_Function_Pipeline_HighRes/bin/bulkSimulationOneProfile/data/simulations/1/pbmc_sc_with_metadata_cpm_pc_cell_type_profiles.csv/pbmc_sc_with_metadata_cpm_pc_cell_type_profiles_n_sim_55_profiles.csv', '/space/grp/aadrian/Pseudobulk_Function_Pipeline_HighRes/bin/bulkSimulationOneProfile/data/simulations/1/pbmc_sc_with_metadata_cpm_pc_cell_type_profiles.csv/pbmc_sc_with_metadata_cpm_pc_cell_type_profiles_n_sim_54_profiles.csv', '/space/grp/aadrian/Pseudobulk_Function_Pipeline_HighRes/bin/bulkSimulationOneProfile/data/simulations/1/pbmc_sc_with_metadata_cpm_pc_cell_type_profiles.csv/pbmc_sc_with_metadata_cpm_pc_cell_type_profiles_n_sim_56_profiles.csv', '/space/grp/aadrian/Pseudobulk_Function_Pipeline_HighRes/bin/bulkSimulationOneProfile/data/simulations/1/pbmc_sc_with_metadata_cpm_pc_cell_type_profiles.csv/pbmc_sc_with_metadata_cpm_pc_cell_type_profiles_n_sim_89_profiles.csv', '/space/grp/aadrian/Pseudobulk_Function_Pipeline_HighRes/bin/bulkSimulationOneProfile/data/simulations/1/pbmc_sc_with_metadata_cpm_pc_cell_type_profiles.csv/pbmc_sc_with_metadata_cpm_pc_cell_type_profiles_n_sim_88_profiles.csv', '/space/grp/aadrian/Pseudobulk_Function_Pipeline_HighRes/bin/bulkSimulationOneProfile/data/simulations/1/pbmc_sc_with_metadata_cpm_pc_cell_type_profiles.csv/pbmc_sc_with_metadata_cpm_pc_cell_type_profiles_n_sim_57_profiles.csv', '/space/grp/aadrian/Pseudobulk_Function_Pipeline_HighRes/bin/bulkSimulationOneProfile/data/simulations/1/pbmc_sc_with_metadata_cpm_pc_cell_type_profiles.csv/pbmc_sc_with_metadata_cpm_pc_cell_type_profiles_n_sim_78_profiles.csv', '/space/grp/aadrian/Pseudobulk_Function_Pipeline_HighRes/bin/bulkSimulationOneProfile/data/simulations/1/pbmc_sc_with_metadata_cpm_pc_cell_type_profiles.csv/pbmc_sc_with_metadata_cpm_pc_cell_type_profiles_n_sim_52_profiles.csv', '/space/grp/aadrian/Pseudobulk_Function_Pipeline_HighRes/bin/bulkSimulationOneProfile/data/simulations/1/pbmc_sc_with_metadata_cpm_pc_cell_type_profiles.csv/pbmc_sc_with_metadata_cpm_pc_cell_type_profiles_n_sim_53_profiles.csv', '/space/grp/aadrian/Pseudobulk_Function_Pipeline_HighRes/bin/bulkSimulationOneProfile/data/simulations/1/pbmc_sc_with_metadata_cpm_pc_cell_type_profiles.csv/pbmc_sc_with_metadata_cpm_pc_cell_type_profiles_n_sim_79_profiles.csv', '/space/grp/aadrian/Pseudobulk_Function_Pipeline_HighRes/bin/bulkSimulationOneProfile/data/simulations/1/pbmc_sc_with_metadata_cpm_pc_cell_type_profiles.csv/pbmc_sc_with_metadata_cpm_pc_cell_type_profiles_n_sim_51_profiles.csv', '/space/grp/aadrian/Pseudobulk_Function_Pipeline_HighRes/bin/bulkSimulationOneProfile/data/simulations/1/pbmc_sc_with_metadata_cpm_pc_cell_type_profiles.csv/pbmc_sc_with_metadata_cpm_pc_cell_type_profiles_n_sim_28_profiles.csv', '/space/grp/aadrian/Pseudobulk_Function_Pipeline_HighRes/bin/bulkSimulationOneProfile/data/simulations/1/pbmc_sc_with_metadata_cpm_pc_cell_type_profiles.csv/pbmc_sc_with_metadata_cpm_pc_cell_type_profiles_n_sim_29_profiles.csv', '/space/grp/aadrian/Pseudobulk_Function_Pipeline_HighRes/bin/bulkSimulationOneProfile/data/simulations/1/pbmc_sc_with_metadata_cpm_pc_cell_type_profiles.csv/pbmc_sc_with_metadata_cpm_pc_cell_type_profiles_n_sim_50_profiles.csv', '/space/grp/aadrian/Pseudobulk_Function_Pipeline_HighRes/bin/bulkSimulationOneProfile/data/simulations/1/pbmc_sc_with_metadata_cpm_pc_cell_type_profiles.csv/pbmc_sc_with_metadata_cpm_pc_cell_type_profiles_n_sim_12_profiles.csv', '/space/grp/aadrian/Pseudobulk_Function_Pipeline_HighRes/bin/bulkSimulationOneProfile/data/simulations/1/pbmc_sc_with_metadata_cpm_pc_cell_type_profiles.csv/pbmc_sc_with_metadata_cpm_pc_cell_type_profiles_n_sim_41_profiles.csv', '/space/grp/aadrian/Pseudobulk_Function_Pipeline_HighRes/bin/bulkSimulationOneProfile/data/simulations/1/pbmc_sc_with_metadata_cpm_pc_cell_type_profiles.csv/pbmc_sc_with_metadata_cpm_pc_cell_type_profiles_n_sim_38_profiles.csv', '/space/grp/aadrian/Pseudobulk_Function_Pipeline_HighRes/bin/bulkSimulationOneProfile/data/simulations/1/pbmc_sc_with_metadata_cpm_pc_cell_type_profiles.csv/pbmc_sc_with_metadata_cpm_pc_cell_type_profiles_n_sim_39_profiles.csv', '/space/grp/aadrian/Pseudobulk_Function_Pipeline_HighRes/bin/bulkSimulationOneProfile/data/simulations/1/pbmc_sc_with_metadata_cpm_pc_cell_type_profiles.csv/pbmc_sc_with_metadata_cpm_pc_cell_type_profiles_n_sim_13_profiles.csv', '/space/grp/aadrian/Pseudobulk_Function_Pipeline_HighRes/bin/bulkSimulationOneProfile/data/simulations/1/pbmc_sc_with_metadata_cpm_pc_cell_type_profiles.csv/pbmc_sc_with_metadata_cpm_pc_cell_type_profiles_n_sim_40_profiles.csv', '/space/grp/aadrian/Pseudobulk_Function_Pipeline_HighRes/bin/bulkSimulationOneProfile/data/simulations/1/pbmc_sc_with_metadata_cpm_pc_cell_type_profiles.csv/pbmc_sc_with_metadata_cpm_pc_cell_type_profiles_n_sim_68_profiles.csv', '/space/grp/aadrian/Pseudobulk_Function_Pipeline_HighRes/bin/bulkSimulationOneProfile/data/simulations/1/pbmc_sc_with_metadata_cpm_pc_cell_type_profiles.csv/pbmc_sc_with_metadata_cpm_pc_cell_type_profiles_n_sim_8_profiles.csv', '/space/grp/aadrian/Pseudobulk_Function_Pipeline_HighRes/bin/bulkSimulationOneProfile/data/simulations/1/pbmc_sc_with_metadata_cpm_pc_cell_type_profiles.csv/pbmc_sc_with_metadata_cpm_pc_cell_type_profiles_n_sim_42_profiles.csv', '/space/grp/aadrian/Pseudobulk_Function_Pipeline_HighRes/bin/bulkSimulationOneProfile/data/simulations/1/pbmc_sc_with_metadata_cpm_pc_cell_type_profiles.csv/pbmc_sc_with_metadata_cpm_pc_cell_type_profiles_n_sim_11_profiles.csv', '/space/grp/aadrian/Pseudobulk_Function_Pipeline_HighRes/bin/bulkSimulationOneProfile/data/simulations/1/pbmc_sc_with_metadata_cpm_pc_cell_type_profiles.csv/pbmc_sc_with_metadata_cpm_pc_cell_type_profiles_n_sim_43_profiles.csv', '/space/grp/aadrian/Pseudobulk_Function_Pipeline_HighRes/bin/bulkSimulationOneProfile/data/simulations/1/pbmc_sc_with_metadata_cpm_pc_cell_type_profiles.csv/pbmc_sc_with_metadata_cpm_pc_cell_type_profiles_n_sim_9_profiles.csv', '/space/grp/aadrian/Pseudobulk_Function_Pipeline_HighRes/bin/bulkSimulationOneProfile/data/simulations/1/pbmc_sc_with_metadata_cpm_pc_cell_type_profiles.csv/pbmc_sc_with_metadata_cpm_pc_cell_type_profiles_n_sim_10_profiles.csv', '/space/grp/aadrian/Pseudobulk_Function_Pipeline_HighRes/bin/bulkSimulationOneProfile/data/simulations/1/pbmc_sc_with_metadata_cpm_pc_cell_type_profiles.csv/pbmc_sc_with_metadata_cpm_pc_cell_type_profiles_n_sim_69_profiles.csv', '/space/grp/aadrian/Pseudobulk_Function_Pipeline_HighRes/bin/bulkSimulationOneProfile/data/simulations/1/pbmc_sc_with_metadata_cpm_pc_cell_type_profiles.csv/pbmc_sc_with_metadata_cpm_pc_cell_type_profiles_n_sim_15_profiles.csv', '/space/grp/aadrian/Pseudobulk_Function_Pipeline_HighRes/bin/bulkSimulationOneProfile/data/simulations/1/pbmc_sc_with_metadata_cpm_pc_cell_type_profiles.csv/pbmc_sc_with_metadata_cpm_pc_cell_type_profiles_n_sim_46_profiles.csv', '/space/grp/aadrian/Pseudobulk_Function_Pipeline_HighRes/bin/bulkSimulationOneProfile/data/simulations/1/pbmc_sc_with_metadata_cpm_pc_cell_type_profiles.csv/pbmc_sc_with_metadata_cpm_pc_cell_type_profiles_n_sim_99_profiles.csv', '/space/grp/aadrian/Pseudobulk_Function_Pipeline_HighRes/bin/bulkSimulationOneProfile/data/simulations/1/pbmc_sc_with_metadata_cpm_pc_cell_type_profiles.csv/pbmc_sc_with_metadata_cpm_pc_cell_type_profiles_n_sim_14_profiles.csv', '/space/grp/aadrian/Pseudobulk_Function_Pipeline_HighRes/bin/bulkSimulationOneProfile/data/simulations/1/pbmc_sc_with_metadata_cpm_pc_cell_type_profiles.csv/pbmc_sc_with_metadata_cpm_pc_cell_type_profiles_n_sim_98_profiles.csv', '/space/grp/aadrian/Pseudobulk_Function_Pipeline_HighRes/bin/bulkSimulationOneProfile/data/simulations/1/pbmc_sc_with_metadata_cpm_pc_cell_type_profiles.csv/pbmc_sc_with_metadata_cpm_pc_cell_type_profiles_n_sim_47_profiles.csv', '/space/grp/aadrian/Pseudobulk_Function_Pipeline_HighRes/bin/bulkSimulationOneProfile/data/simulations/1/pbmc_sc_with_metadata_cpm_pc_cell_type_profiles.csv/pbmc_sc_with_metadata_cpm_pc_cell_type_profiles_n_sim_45_profiles.csv', '/space/grp/aadrian/Pseudobulk_Function_Pipeline_HighRes/bin/bulkSimulationOneProfile/data/simulations/1/pbmc_sc_with_metadata_cpm_pc_cell_type_profiles.csv/pbmc_sc_with_metadata_cpm_pc_cell_type_profiles_n_sim_16_profiles.csv', '/space/grp/aadrian/Pseudobulk_Function_Pipeline_HighRes/bin/bulkSimulationOneProfile/data/simulations/1/pbmc_sc_with_metadata_cpm_pc_cell_type_profiles.csv/pbmc_sc_with_metadata_cpm_pc_cell_type_profiles_n_sim_44_profiles.csv', '/space/grp/aadrian/Pseudobulk_Function_Pipeline_HighRes/bin/bulkSimulationOneProfile/data/simulations/1/pbmc_sc_with_metadata_cpm_pc_cell_type_profiles.csv/pbmc_sc_with_metadata_cpm_pc_cell_type_profiles_n_sim_17_profiles.csv', '/space/grp/aadrian/Pseudobulk_Function_Pipeline_HighRes/bin/bulkSimulationOneProfile/data/simulations/1/pbmc_sc_with_metadata_cpm_pc_cell_type_profiles.csv/pbmc_sc_with_metadata_cpm_pc_cell_type_profiles_n_sim_5_profiles.csv', '/space/grp/aadrian/Pseudobulk_Function_Pipeline_HighRes/bin/bulkSimulationOneProfile/data/simulations/1/pbmc_sc_with_metadata_cpm_pc_cell_type_profiles.csv/pbmc_sc_with_metadata_cpm_pc_cell_type_profiles_n_sim_90_profiles.csv', '/space/grp/aadrian/Pseudobulk_Function_Pipeline_HighRes/bin/bulkSimulationOneProfile/data/simulations/1/pbmc_sc_with_metadata_cpm_pc_cell_type_profiles.csv/pbmc_sc_with_metadata_cpm_pc_cell_type_profiles_n_sim_36_profiles.csv', '/space/grp/aadrian/Pseudobulk_Function_Pipeline_HighRes/bin/bulkSimulationOneProfile/data/simulations/1/pbmc_sc_with_metadata_cpm_pc_cell_type_profiles.csv/pbmc_sc_with_metadata_cpm_pc_cell_type_profiles_n_sim_65_profiles.csv', '/space/grp/aadrian/Pseudobulk_Function_Pipeline_HighRes/bin/bulkSimulationOneProfile/data/simulations/1/pbmc_sc_with_metadata_cpm_pc_cell_type_profiles.csv/pbmc_sc_with_metadata_cpm_pc_cell_type_profiles_n_sim_37_profiles.csv', '/space/grp/aadrian/Pseudobulk_Function_Pipeline_HighRes/bin/bulkSimulationOneProfile/data/simulations/1/pbmc_sc_with_metadata_cpm_pc_cell_type_profiles.csv/pbmc_sc_with_metadata_cpm_pc_cell_type_profiles_n_sim_64_profiles.csv', '/space/grp/aadrian/Pseudobulk_Function_Pipeline_HighRes/bin/bulkSimulationOneProfile/data/simulations/1/pbmc_sc_with_metadata_cpm_pc_cell_type_profiles.csv/pbmc_sc_with_metadata_cpm_pc_cell_type_profiles_n_sim_91_profiles.csv', '/space/grp/aadrian/Pseudobulk_Function_Pipeline_HighRes/bin/bulkSimulationOneProfile/data/simulations/1/pbmc_sc_with_metadata_cpm_pc_cell_type_profiles.csv/pbmc_sc_with_metadata_cpm_pc_cell_type_profiles_n_sim_4_profiles.csv', '/space/grp/aadrian/Pseudobulk_Function_Pipeline_HighRes/bin/bulkSimulationOneProfile/data/simulations/1/pbmc_sc_with_metadata_cpm_pc_cell_type_profiles.csv/pbmc_sc_with_metadata_cpm_pc_cell_type_profiles_n_sim_66_profiles.csv', '/space/grp/aadrian/Pseudobulk_Function_Pipeline_HighRes/bin/bulkSimulationOneProfile/data/simulations/1/pbmc_sc_with_metadata_cpm_pc_cell_type_profiles.csv/pbmc_sc_with_metadata_cpm_pc_cell_type_profiles_n_sim_35_profiles.csv', '/space/grp/aadrian/Pseudobulk_Function_Pipeline_HighRes/bin/bulkSimulationOneProfile/data/simulations/1/pbmc_sc_with_metadata_cpm_pc_cell_type_profiles.csv/pbmc_sc_with_metadata_cpm_pc_cell_type_profiles_n_sim_93_profiles.csv', '/space/grp/aadrian/Pseudobulk_Function_Pipeline_HighRes/bin/bulkSimulationOneProfile/data/simulations/1/pbmc_sc_with_metadata_cpm_pc_cell_type_profiles.csv/pbmc_sc_with_metadata_cpm_pc_cell_type_profiles_n_sim_6_profiles.csv', '/space/grp/aadrian/Pseudobulk_Function_Pipeline_HighRes/bin/bulkSimulationOneProfile/data/simulations/1/pbmc_sc_with_metadata_cpm_pc_cell_type_profiles.csv/pbmc_sc_with_metadata_cpm_pc_cell_type_profiles_n_sim_7_profiles.csv', '/space/grp/aadrian/Pseudobulk_Function_Pipeline_HighRes/bin/bulkSimulationOneProfile/data/simulations/1/pbmc_sc_with_metadata_cpm_pc_cell_type_profiles.csv/pbmc_sc_with_metadata_cpm_pc_cell_type_profiles_n_sim_92_profiles.csv', '/space/grp/aadrian/Pseudobulk_Function_Pipeline_HighRes/bin/bulkSimulationOneProfile/data/simulations/1/pbmc_sc_with_metadata_cpm_pc_cell_type_profiles.csv/pbmc_sc_with_metadata_cpm_pc_cell_type_profiles_n_sim_67_profiles.csv', '/space/grp/aadrian/Pseudobulk_Function_Pipeline_HighRes/bin/bulkSimulationOneProfile/data/simulations/1/pbmc_sc_with_metadata_cpm_pc_cell_type_profiles.csv/pbmc_sc_with_metadata_cpm_pc_cell_type_profiles_n_sim_34_profiles.csv', '/space/grp/aadrian/Pseudobulk_Function_Pipeline_HighRes/bin/bulkSimulationOneProfile/data/simulations/1/pbmc_sc_with_metadata_cpm_pc_cell_type_profiles.csv/pbmc_sc_with_metadata_cpm_pc_cell_type_profiles_n_sim_48_profiles.csv', '/space/grp/aadrian/Pseudobulk_Function_Pipeline_HighRes/bin/bulkSimulationOneProfile/data/simulations/1/pbmc_sc_with_metadata_cpm_pc_cell_type_profiles.csv/pbmc_sc_with_metadata_cpm_pc_cell_type_profiles_n_sim_2_profiles.csv', '/space/grp/aadrian/Pseudobulk_Function_Pipeline_HighRes/bin/bulkSimulationOneProfile/data/simulations/1/pbmc_sc_with_metadata_cpm_pc_cell_type_profiles.csv/pbmc_sc_with_metadata_cpm_pc_cell_type_profiles_n_sim_97_profiles.csv', '/space/grp/aadrian/Pseudobulk_Function_Pipeline_HighRes/bin/bulkSimulationOneProfile/data/simulations/1/pbmc_sc_with_metadata_cpm_pc_cell_type_profiles.csv/pbmc_sc_with_metadata_cpm_pc_cell_type_profiles_n_sim_31_profiles.csv', '/space/grp/aadrian/Pseudobulk_Function_Pipeline_HighRes/bin/bulkSimulationOneProfile/data/simulations/1/pbmc_sc_with_metadata_cpm_pc_cell_type_profiles.csv/pbmc_sc_with_metadata_cpm_pc_cell_type_profiles_n_sim_62_profiles.csv', '/space/grp/aadrian/Pseudobulk_Function_Pipeline_HighRes/bin/bulkSimulationOneProfile/data/simulations/1/pbmc_sc_with_metadata_cpm_pc_cell_type_profiles.csv/pbmc_sc_with_metadata_cpm_pc_cell_type_profiles_n_sim_30_profiles.csv', '/space/grp/aadrian/Pseudobulk_Function_Pipeline_HighRes/bin/bulkSimulationOneProfile/data/simulations/1/pbmc_sc_with_metadata_cpm_pc_cell_type_profiles.csv/pbmc_sc_with_metadata_cpm_pc_cell_type_profiles_n_sim_63_profiles.csv', '/space/grp/aadrian/Pseudobulk_Function_Pipeline_HighRes/bin/bulkSimulationOneProfile/data/simulations/1/pbmc_sc_with_metadata_cpm_pc_cell_type_profiles.csv/pbmc_sc_with_metadata_cpm_pc_cell_type_profiles_n_sim_96_profiles.csv', '/space/grp/aadrian/Pseudobulk_Function_Pipeline_HighRes/bin/bulkSimulationOneProfile/data/simulations/1/pbmc_sc_with_metadata_cpm_pc_cell_type_profiles.csv/pbmc_sc_with_metadata_cpm_pc_cell_type_profiles_n_sim_3_profiles.csv', '/space/grp/aadrian/Pseudobulk_Function_Pipeline_HighRes/bin/bulkSimulationOneProfile/data/simulations/1/pbmc_sc_with_metadata_cpm_pc_cell_type_profiles.csv/pbmc_sc_with_metadata_cpm_pc_cell_type_profiles_n_sim_49_profiles.csv', '/space/grp/aadrian/Pseudobulk_Function_Pipeline_HighRes/bin/bulkSimulationOneProfile/data/simulations/1/pbmc_sc_with_metadata_cpm_pc_cell_type_profiles.csv/pbmc_sc_with_metadata_cpm_pc_cell_type_profiles_n_sim_61_profiles.csv', '/space/grp/aadrian/Pseudobulk_Function_Pipeline_HighRes/bin/bulkSimulationOneProfile/data/simulations/1/pbmc_sc_with_metadata_cpm_pc_cell_type_profiles.csv/pbmc_sc_with_metadata_cpm_pc_cell_type_profiles_n_sim_32_profiles.csv', '/space/grp/aadrian/Pseudobulk_Function_Pipeline_HighRes/bin/bulkSimulationOneProfile/data/simulations/1/pbmc_sc_with_metadata_cpm_pc_cell_type_profiles.csv/pbmc_sc_with_metadata_cpm_pc_cell_type_profiles_n_sim_18_profiles.csv', '/space/grp/aadrian/Pseudobulk_Function_Pipeline_HighRes/bin/bulkSimulationOneProfile/data/simulations/1/pbmc_sc_with_metadata_cpm_pc_cell_type_profiles.csv/pbmc_sc_with_metadata_cpm_pc_cell_type_profiles_n_sim_94_profiles.csv', '/space/grp/aadrian/Pseudobulk_Function_Pipeline_HighRes/bin/bulkSimulationOneProfile/data/simulations/1/pbmc_sc_with_metadata_cpm_pc_cell_type_profiles.csv/pbmc_sc_with_metadata_cpm_pc_cell_type_profiles_n_sim_1_profiles.csv', '/space/grp/aadrian/Pseudobulk_Function_Pipeline_HighRes/bin/bulkSimulationOneProfile/data/simulations/1/pbmc_sc_with_metadata_cpm_pc_cell_type_profiles.csv/pbmc_sc_with_metadata_cpm_pc_cell_type_profiles_n_sim_19_profiles.csv', '/space/grp/aadrian/Pseudobulk_Function_Pipeline_HighRes/bin/bulkSimulationOneProfile/data/simulations/1/pbmc_sc_with_metadata_cpm_pc_cell_type_profiles.csv/pbmc_sc_with_metadata_cpm_pc_cell_type_profiles_n_sim_0_profiles.csv', '/space/grp/aadrian/Pseudobulk_Function_Pipeline_HighRes/bin/bulkSimulationOneProfile/data/simulations/1/pbmc_sc_with_metadata_cpm_pc_cell_type_profiles.csv/pbmc_sc_with_metadata_cpm_pc_cell_type_profiles_n_sim_95_profiles.csv', '/space/grp/aadrian/Pseudobulk_Function_Pipeline_HighRes/bin/bulkSimulationOneProfile/data/simulations/1/pbmc_sc_with_metadata_cpm_pc_cell_type_profiles.csv/pbmc_sc_with_metadata_cpm_pc_cell_type_profiles_n_sim_60_profiles.csv', '/space/grp/aadrian/Pseudobulk_Function_Pipeline_HighRes/bin/bulkSimulationOneProfile/data/simulations/1/pbmc_sc_with_metadata_cpm_pc_cell_type_profiles.csv/pbmc_sc_with_metadata_cpm_pc_cell_type_profiles_n_sim_33_profiles.csv']]\n",
      "0\n",
      "0.1\n",
      "1\n",
      "{'0':                  numbers_to_sample  numbers_to_sample  numbers_to_sample  \\\n",
      "Monocytes                     0.05               0.05               0.05   \n",
      "T-cells                       0.50               0.50               0.50   \n",
      "Platelets                     0.05               0.05               0.05   \n",
      "Dendritic cells               0.05               0.05               0.05   \n",
      "B-cells                       0.05               0.05               0.05   \n",
      "Nk-cells                      0.10               0.10               0.10   \n",
      "Macrophages                   0.20               0.20               0.20   \n",
      "\n",
      "                 numbers_to_sample  numbers_to_sample  numbers_to_sample  \\\n",
      "Monocytes                     0.05               0.05               0.05   \n",
      "T-cells                       0.50               0.50               0.50   \n",
      "Platelets                     0.05               0.05               0.05   \n",
      "Dendritic cells               0.05               0.05               0.05   \n",
      "B-cells                       0.05               0.05               0.05   \n",
      "Nk-cells                      0.10               0.10               0.10   \n",
      "Macrophages                   0.20               0.20               0.20   \n",
      "\n",
      "                 numbers_to_sample  numbers_to_sample  numbers_to_sample  \\\n",
      "Monocytes                     0.05               0.05               0.05   \n",
      "T-cells                       0.50               0.50               0.50   \n",
      "Platelets                     0.05               0.05               0.05   \n",
      "Dendritic cells               0.05               0.05               0.05   \n",
      "B-cells                       0.05               0.05               0.05   \n",
      "Nk-cells                      0.10               0.10               0.10   \n",
      "Macrophages                   0.20               0.20               0.20   \n",
      "\n",
      "                 numbers_to_sample  ...  numbers_to_sample  numbers_to_sample  \\\n",
      "Monocytes                     0.05  ...               0.05               0.05   \n",
      "T-cells                       0.50  ...               0.50               0.50   \n",
      "Platelets                     0.05  ...               0.05               0.05   \n",
      "Dendritic cells               0.05  ...               0.05               0.05   \n",
      "B-cells                       0.05  ...               0.05               0.05   \n",
      "Nk-cells                      0.10  ...               0.10               0.10   \n",
      "Macrophages                   0.20  ...               0.20               0.20   \n",
      "\n",
      "                 numbers_to_sample  numbers_to_sample  numbers_to_sample  \\\n",
      "Monocytes                     0.05               0.05               0.05   \n",
      "T-cells                       0.50               0.50               0.50   \n",
      "Platelets                     0.05               0.05               0.05   \n",
      "Dendritic cells               0.05               0.05               0.05   \n",
      "B-cells                       0.05               0.05               0.05   \n",
      "Nk-cells                      0.10               0.10               0.10   \n",
      "Macrophages                   0.20               0.20               0.20   \n",
      "\n",
      "                 numbers_to_sample  numbers_to_sample  numbers_to_sample  \\\n",
      "Monocytes                     0.05               0.05               0.05   \n",
      "T-cells                       0.50               0.50               0.50   \n",
      "Platelets                     0.05               0.05               0.05   \n",
      "Dendritic cells               0.05               0.05               0.05   \n",
      "B-cells                       0.05               0.05               0.05   \n",
      "Nk-cells                      0.10               0.10               0.10   \n",
      "Macrophages                   0.20               0.20               0.20   \n",
      "\n",
      "                 numbers_to_sample  numbers_to_sample  \n",
      "Monocytes                     0.05               0.05  \n",
      "T-cells                       0.50               0.50  \n",
      "Platelets                     0.05               0.05  \n",
      "Dendritic cells               0.05               0.05  \n",
      "B-cells                       0.05               0.05  \n",
      "Nk-cells                      0.10               0.10  \n",
      "Macrophages                   0.20               0.20  \n",
      "\n",
      "[7 rows x 100 columns], '0.1':                  numbers_to_sample  numbers_to_sample  numbers_to_sample  \\\n",
      "Platelets                    0.104           0.029081           0.118262   \n",
      "Dendritic cells              0.022           0.108818           0.070796   \n",
      "Monocytes                    0.066           0.115385           0.000000   \n",
      "B-cells                      0.132           0.095685           0.024135   \n",
      "Nk-cells                     0.145           0.000000           0.082864   \n",
      "Macrophages                  0.266           0.227955           0.235720   \n",
      "T-cells                      0.265           0.423077           0.468222   \n",
      "\n",
      "                 numbers_to_sample  numbers_to_sample  numbers_to_sample  \\\n",
      "Platelets                    0.009              0.085           0.009737   \n",
      "Dendritic cells              0.134              0.030           0.117819   \n",
      "Monocytes                    0.083              0.058           0.130477   \n",
      "B-cells                      0.037              0.008           0.000000   \n",
      "Nk-cells                     0.044              0.147           0.021422   \n",
      "Macrophages                  0.108              0.236           0.197663   \n",
      "T-cells                      0.585              0.436           0.522882   \n",
      "\n",
      "                 numbers_to_sample  numbers_to_sample  numbers_to_sample  \\\n",
      "Platelets                    0.080           0.132058              0.147   \n",
      "Dendritic cells              0.051           0.000000              0.044   \n",
      "Monocytes                    0.048           0.000000              0.097   \n",
      "B-cells                      0.120           0.071038              0.102   \n",
      "Nk-cells                     0.003           0.160291              0.019   \n",
      "Macrophages                  0.185           0.250455              0.138   \n",
      "T-cells                      0.513           0.386157              0.453   \n",
      "\n",
      "                 numbers_to_sample  ...  numbers_to_sample  numbers_to_sample  \\\n",
      "Platelets                    0.074  ...              0.088              0.141   \n",
      "Dendritic cells              0.093  ...              0.005              0.149   \n",
      "Monocytes                    0.028  ...              0.101              0.092   \n",
      "B-cells                      0.145  ...              0.112              0.054   \n",
      "Nk-cells                     0.153  ...              0.110              0.152   \n",
      "Macrophages                  0.276  ...              0.120              0.260   \n",
      "T-cells                      0.231  ...              0.464              0.152   \n",
      "\n",
      "                 numbers_to_sample  numbers_to_sample  numbers_to_sample  \\\n",
      "Platelets                 0.134831           0.005644              0.012   \n",
      "Dendritic cells           0.088015           0.086548              0.007   \n",
      "Monocytes                 0.000000           0.086548              0.068   \n",
      "B-cells                   0.024345           0.129821              0.083   \n",
      "Nk-cells                  0.117978           0.165569              0.100   \n",
      "Macrophages               0.175094           0.000000              0.161   \n",
      "T-cells                   0.459738           0.525870              0.569   \n",
      "\n",
      "                 numbers_to_sample  numbers_to_sample  numbers_to_sample  \\\n",
      "Platelets                    0.142           0.053587           0.098531   \n",
      "Dendritic cells              0.080           0.000000           0.070009   \n",
      "Monocytes                    0.001           0.065687           0.000000   \n",
      "B-cells                      0.074           0.121867           0.095073   \n",
      "Nk-cells                     0.191           0.097666           0.156439   \n",
      "Macrophages                  0.168           0.165082           0.216076   \n",
      "T-cells                      0.344           0.496111           0.363872   \n",
      "\n",
      "                 numbers_to_sample  numbers_to_sample  \n",
      "Platelets                    0.004              0.100  \n",
      "Dendritic cells              0.041              0.143  \n",
      "Monocytes                    0.090              0.085  \n",
      "B-cells                      0.104              0.025  \n",
      "Nk-cells                     0.009              0.061  \n",
      "Macrophages                  0.225              0.172  \n",
      "T-cells                      0.527              0.414  \n",
      "\n",
      "[7 rows x 100 columns], '1':                  numbers_to_sample  numbers_to_sample  numbers_to_sample  \\\n",
      "Macrophages               0.234286           0.102396           0.132430   \n",
      "B-cells                   0.084969           0.248172           0.000000   \n",
      "Monocytes                 0.099379           0.187137           0.159194   \n",
      "Nk-cells                  0.126460           0.175284           0.165798   \n",
      "Platelets                 0.244472           0.000000           0.194995   \n",
      "T-cells                   0.210435           0.109458           0.251651   \n",
      "Dendritic cells           0.000000           0.177554           0.095933   \n",
      "\n",
      "                 numbers_to_sample  numbers_to_sample  numbers_to_sample  \\\n",
      "Macrophages               0.173063           0.069547           0.000000   \n",
      "B-cells                   0.000000           0.295750           0.112348   \n",
      "Monocytes                 0.088915           0.000000           0.253312   \n",
      "Nk-cells                  0.228129           0.363892           0.126921   \n",
      "Platelets                 0.200238           0.134528           0.088500   \n",
      "T-cells                   0.275805           0.021075           0.209062   \n",
      "Dendritic cells           0.033850           0.115209           0.209857   \n",
      "\n",
      "                 numbers_to_sample  numbers_to_sample  numbers_to_sample  \\\n",
      "Macrophages               0.046374           0.091495           0.197361   \n",
      "B-cells                   0.109521           0.257474           0.000000   \n",
      "Monocytes                 0.000000           0.066753           0.056274   \n",
      "Nk-cells                  0.052787           0.214948           0.063274   \n",
      "Platelets                 0.375925           0.000000           0.123317   \n",
      "T-cells                   0.081401           0.201289           0.372913   \n",
      "Dendritic cells           0.333991           0.168041           0.186861   \n",
      "\n",
      "                 numbers_to_sample  ...  numbers_to_sample  numbers_to_sample  \\\n",
      "Macrophages               0.394630  ...           0.245302           0.303693   \n",
      "B-cells                   0.118794  ...           0.101979           0.066315   \n",
      "Monocytes                 0.000000  ...           0.157605           0.010927   \n",
      "Nk-cells                  0.009195  ...           0.225758           0.132253   \n",
      "Platelets                 0.276572  ...           0.238537           0.037302   \n",
      "T-cells                   0.027216  ...           0.030819           0.449510   \n",
      "Dendritic cells           0.173593  ...           0.000000           0.000000   \n",
      "\n",
      "                 numbers_to_sample  numbers_to_sample  numbers_to_sample  \\\n",
      "Macrophages               0.061856           0.250701           0.000000   \n",
      "B-cells                   0.308634           0.250191           0.189212   \n",
      "Monocytes                 0.000000           0.158726           0.074486   \n",
      "Nk-cells                  0.266430           0.000000           0.116438   \n",
      "Platelets                 0.217784           0.128917           0.017979   \n",
      "T-cells                   0.009665           0.025223           0.356735   \n",
      "Dendritic cells           0.135631           0.186242           0.245148   \n",
      "\n",
      "                 numbers_to_sample  numbers_to_sample  numbers_to_sample  \\\n",
      "Macrophages               0.031955           0.328467           0.057756   \n",
      "B-cells                   0.347274           0.000000           0.074257   \n",
      "Monocytes                 0.000000           0.177505           0.216997   \n",
      "Nk-cells                  0.507519           0.066357           0.418729   \n",
      "Platelets                 0.094925           0.019244           0.137789   \n",
      "T-cells                   0.013158           0.160916           0.000000   \n",
      "Dendritic cells           0.005169           0.247512           0.094472   \n",
      "\n",
      "                 numbers_to_sample  numbers_to_sample  \n",
      "Macrophages               0.162674           0.009858  \n",
      "B-cells                   0.150139           0.032037  \n",
      "Monocytes                 0.084958           0.280394  \n",
      "Nk-cells                  0.150139           0.000000  \n",
      "Platelets                 0.216156           0.099945  \n",
      "T-cells                   0.235933           0.408817  \n",
      "Dendritic cells           0.000000           0.168949  \n",
      "\n",
      "[7 rows x 100 columns]}\n"
     ]
    }
   ],
   "source": [
    "def main():\n",
    "    main_path = \"/space/grp/aadrian/Pseudobulk_Function_Pipeline_HighRes/bin/bulkSimulationOneProfile/data/simulations\"\n",
    "        \n",
    "    variances_of_interest = [\"0\", \"0.1\", \"1\"]\n",
    "    \n",
    "    lopaths = [f\"{main_path}/{variance}/pbmc_sc_with_metadata_cpm_pc_cell_type_profiles.csv\" for variance in variances_of_interest]\n",
    "    print(lopaths)\n",
    "    \n",
    "    \n",
    "    lolofiles = [getMatchingFiles(path) for path in lopaths]\n",
    "    print(lolofiles)\n",
    "    \n",
    "    # get a list of list of dfs\n",
    "    lolodfs = [getDfs(lofiles) for lofiles in lolofiles]\n",
    "    \n",
    "    # merge each list of dfs\n",
    "    lo_mergeddfs = [pd.concat(lodfs, axis = 1) for lodfs in lolodfs]\n",
    "    \n",
    "    # Normalize each df\n",
    "    lo_mergeddfs = [normalize_dataframe(df) for df in lo_mergeddfs]\n",
    "    \n",
    "    # Init a dict to hold the merged dataframes\n",
    "    dict_variances = {}\n",
    "    \n",
    "    for i, merged_df in enumerate(lo_mergeddfs):\n",
    "        variance_level = variances_of_interest[i]\n",
    "        print(variance_level)\n",
    "        dict_variances[variance_level] = merged_df\n",
    "        \n",
    "    print(dict_variances)\n",
    "    return dict_variances\n",
    "    \n",
    "dict_variances= main()"
   ]
  },
  {
   "cell_type": "code",
   "execution_count": 12,
   "metadata": {},
   "outputs": [],
   "source": [
    "def getDfs(lofiles):\n",
    "    \n",
    "    lodfs = [pd.read_csv(file, index_col=0) for file in lofiles]\n",
    "    \n",
    "    return lodfs"
   ]
  },
  {
   "cell_type": "code",
   "execution_count": 44,
   "metadata": {},
   "outputs": [
    {
     "data": {
      "text/html": [
       "<div>\n",
       "<style scoped>\n",
       "    .dataframe tbody tr th:only-of-type {\n",
       "        vertical-align: middle;\n",
       "    }\n",
       "\n",
       "    .dataframe tbody tr th {\n",
       "        vertical-align: top;\n",
       "    }\n",
       "\n",
       "    .dataframe thead th {\n",
       "        text-align: right;\n",
       "    }\n",
       "</style>\n",
       "<table border=\"1\" class=\"dataframe\">\n",
       "  <thead>\n",
       "    <tr style=\"text-align: right;\">\n",
       "      <th></th>\n",
       "      <th>numbers_to_sample</th>\n",
       "      <th>numbers_to_sample</th>\n",
       "      <th>numbers_to_sample</th>\n",
       "      <th>numbers_to_sample</th>\n",
       "      <th>numbers_to_sample</th>\n",
       "      <th>numbers_to_sample</th>\n",
       "      <th>numbers_to_sample</th>\n",
       "      <th>numbers_to_sample</th>\n",
       "      <th>numbers_to_sample</th>\n",
       "      <th>numbers_to_sample</th>\n",
       "      <th>...</th>\n",
       "      <th>numbers_to_sample</th>\n",
       "      <th>numbers_to_sample</th>\n",
       "      <th>numbers_to_sample</th>\n",
       "      <th>numbers_to_sample</th>\n",
       "      <th>numbers_to_sample</th>\n",
       "      <th>numbers_to_sample</th>\n",
       "      <th>numbers_to_sample</th>\n",
       "      <th>numbers_to_sample</th>\n",
       "      <th>numbers_to_sample</th>\n",
       "      <th>numbers_to_sample</th>\n",
       "    </tr>\n",
       "  </thead>\n",
       "  <tbody>\n",
       "    <tr>\n",
       "      <th>Monocytes</th>\n",
       "      <td>0.05</td>\n",
       "      <td>0.05</td>\n",
       "      <td>0.05</td>\n",
       "      <td>0.05</td>\n",
       "      <td>0.05</td>\n",
       "      <td>0.05</td>\n",
       "      <td>0.05</td>\n",
       "      <td>0.05</td>\n",
       "      <td>0.05</td>\n",
       "      <td>0.05</td>\n",
       "      <td>...</td>\n",
       "      <td>0.05</td>\n",
       "      <td>0.05</td>\n",
       "      <td>0.05</td>\n",
       "      <td>0.05</td>\n",
       "      <td>0.05</td>\n",
       "      <td>0.05</td>\n",
       "      <td>0.05</td>\n",
       "      <td>0.05</td>\n",
       "      <td>0.05</td>\n",
       "      <td>0.05</td>\n",
       "    </tr>\n",
       "    <tr>\n",
       "      <th>T-cells</th>\n",
       "      <td>0.50</td>\n",
       "      <td>0.50</td>\n",
       "      <td>0.50</td>\n",
       "      <td>0.50</td>\n",
       "      <td>0.50</td>\n",
       "      <td>0.50</td>\n",
       "      <td>0.50</td>\n",
       "      <td>0.50</td>\n",
       "      <td>0.50</td>\n",
       "      <td>0.50</td>\n",
       "      <td>...</td>\n",
       "      <td>0.50</td>\n",
       "      <td>0.50</td>\n",
       "      <td>0.50</td>\n",
       "      <td>0.50</td>\n",
       "      <td>0.50</td>\n",
       "      <td>0.50</td>\n",
       "      <td>0.50</td>\n",
       "      <td>0.50</td>\n",
       "      <td>0.50</td>\n",
       "      <td>0.50</td>\n",
       "    </tr>\n",
       "    <tr>\n",
       "      <th>Platelets</th>\n",
       "      <td>0.05</td>\n",
       "      <td>0.05</td>\n",
       "      <td>0.05</td>\n",
       "      <td>0.05</td>\n",
       "      <td>0.05</td>\n",
       "      <td>0.05</td>\n",
       "      <td>0.05</td>\n",
       "      <td>0.05</td>\n",
       "      <td>0.05</td>\n",
       "      <td>0.05</td>\n",
       "      <td>...</td>\n",
       "      <td>0.05</td>\n",
       "      <td>0.05</td>\n",
       "      <td>0.05</td>\n",
       "      <td>0.05</td>\n",
       "      <td>0.05</td>\n",
       "      <td>0.05</td>\n",
       "      <td>0.05</td>\n",
       "      <td>0.05</td>\n",
       "      <td>0.05</td>\n",
       "      <td>0.05</td>\n",
       "    </tr>\n",
       "    <tr>\n",
       "      <th>Dendritic cells</th>\n",
       "      <td>0.05</td>\n",
       "      <td>0.05</td>\n",
       "      <td>0.05</td>\n",
       "      <td>0.05</td>\n",
       "      <td>0.05</td>\n",
       "      <td>0.05</td>\n",
       "      <td>0.05</td>\n",
       "      <td>0.05</td>\n",
       "      <td>0.05</td>\n",
       "      <td>0.05</td>\n",
       "      <td>...</td>\n",
       "      <td>0.05</td>\n",
       "      <td>0.05</td>\n",
       "      <td>0.05</td>\n",
       "      <td>0.05</td>\n",
       "      <td>0.05</td>\n",
       "      <td>0.05</td>\n",
       "      <td>0.05</td>\n",
       "      <td>0.05</td>\n",
       "      <td>0.05</td>\n",
       "      <td>0.05</td>\n",
       "    </tr>\n",
       "    <tr>\n",
       "      <th>B-cells</th>\n",
       "      <td>0.05</td>\n",
       "      <td>0.05</td>\n",
       "      <td>0.05</td>\n",
       "      <td>0.05</td>\n",
       "      <td>0.05</td>\n",
       "      <td>0.05</td>\n",
       "      <td>0.05</td>\n",
       "      <td>0.05</td>\n",
       "      <td>0.05</td>\n",
       "      <td>0.05</td>\n",
       "      <td>...</td>\n",
       "      <td>0.05</td>\n",
       "      <td>0.05</td>\n",
       "      <td>0.05</td>\n",
       "      <td>0.05</td>\n",
       "      <td>0.05</td>\n",
       "      <td>0.05</td>\n",
       "      <td>0.05</td>\n",
       "      <td>0.05</td>\n",
       "      <td>0.05</td>\n",
       "      <td>0.05</td>\n",
       "    </tr>\n",
       "    <tr>\n",
       "      <th>Nk-cells</th>\n",
       "      <td>0.10</td>\n",
       "      <td>0.10</td>\n",
       "      <td>0.10</td>\n",
       "      <td>0.10</td>\n",
       "      <td>0.10</td>\n",
       "      <td>0.10</td>\n",
       "      <td>0.10</td>\n",
       "      <td>0.10</td>\n",
       "      <td>0.10</td>\n",
       "      <td>0.10</td>\n",
       "      <td>...</td>\n",
       "      <td>0.10</td>\n",
       "      <td>0.10</td>\n",
       "      <td>0.10</td>\n",
       "      <td>0.10</td>\n",
       "      <td>0.10</td>\n",
       "      <td>0.10</td>\n",
       "      <td>0.10</td>\n",
       "      <td>0.10</td>\n",
       "      <td>0.10</td>\n",
       "      <td>0.10</td>\n",
       "    </tr>\n",
       "    <tr>\n",
       "      <th>Macrophages</th>\n",
       "      <td>0.20</td>\n",
       "      <td>0.20</td>\n",
       "      <td>0.20</td>\n",
       "      <td>0.20</td>\n",
       "      <td>0.20</td>\n",
       "      <td>0.20</td>\n",
       "      <td>0.20</td>\n",
       "      <td>0.20</td>\n",
       "      <td>0.20</td>\n",
       "      <td>0.20</td>\n",
       "      <td>...</td>\n",
       "      <td>0.20</td>\n",
       "      <td>0.20</td>\n",
       "      <td>0.20</td>\n",
       "      <td>0.20</td>\n",
       "      <td>0.20</td>\n",
       "      <td>0.20</td>\n",
       "      <td>0.20</td>\n",
       "      <td>0.20</td>\n",
       "      <td>0.20</td>\n",
       "      <td>0.20</td>\n",
       "    </tr>\n",
       "  </tbody>\n",
       "</table>\n",
       "<p>7 rows × 100 columns</p>\n",
       "</div>"
      ],
      "text/plain": [
       "                 numbers_to_sample  numbers_to_sample  numbers_to_sample  \\\n",
       "Monocytes                     0.05               0.05               0.05   \n",
       "T-cells                       0.50               0.50               0.50   \n",
       "Platelets                     0.05               0.05               0.05   \n",
       "Dendritic cells               0.05               0.05               0.05   \n",
       "B-cells                       0.05               0.05               0.05   \n",
       "Nk-cells                      0.10               0.10               0.10   \n",
       "Macrophages                   0.20               0.20               0.20   \n",
       "\n",
       "                 numbers_to_sample  numbers_to_sample  numbers_to_sample  \\\n",
       "Monocytes                     0.05               0.05               0.05   \n",
       "T-cells                       0.50               0.50               0.50   \n",
       "Platelets                     0.05               0.05               0.05   \n",
       "Dendritic cells               0.05               0.05               0.05   \n",
       "B-cells                       0.05               0.05               0.05   \n",
       "Nk-cells                      0.10               0.10               0.10   \n",
       "Macrophages                   0.20               0.20               0.20   \n",
       "\n",
       "                 numbers_to_sample  numbers_to_sample  numbers_to_sample  \\\n",
       "Monocytes                     0.05               0.05               0.05   \n",
       "T-cells                       0.50               0.50               0.50   \n",
       "Platelets                     0.05               0.05               0.05   \n",
       "Dendritic cells               0.05               0.05               0.05   \n",
       "B-cells                       0.05               0.05               0.05   \n",
       "Nk-cells                      0.10               0.10               0.10   \n",
       "Macrophages                   0.20               0.20               0.20   \n",
       "\n",
       "                 numbers_to_sample  ...  numbers_to_sample  numbers_to_sample  \\\n",
       "Monocytes                     0.05  ...               0.05               0.05   \n",
       "T-cells                       0.50  ...               0.50               0.50   \n",
       "Platelets                     0.05  ...               0.05               0.05   \n",
       "Dendritic cells               0.05  ...               0.05               0.05   \n",
       "B-cells                       0.05  ...               0.05               0.05   \n",
       "Nk-cells                      0.10  ...               0.10               0.10   \n",
       "Macrophages                   0.20  ...               0.20               0.20   \n",
       "\n",
       "                 numbers_to_sample  numbers_to_sample  numbers_to_sample  \\\n",
       "Monocytes                     0.05               0.05               0.05   \n",
       "T-cells                       0.50               0.50               0.50   \n",
       "Platelets                     0.05               0.05               0.05   \n",
       "Dendritic cells               0.05               0.05               0.05   \n",
       "B-cells                       0.05               0.05               0.05   \n",
       "Nk-cells                      0.10               0.10               0.10   \n",
       "Macrophages                   0.20               0.20               0.20   \n",
       "\n",
       "                 numbers_to_sample  numbers_to_sample  numbers_to_sample  \\\n",
       "Monocytes                     0.05               0.05               0.05   \n",
       "T-cells                       0.50               0.50               0.50   \n",
       "Platelets                     0.05               0.05               0.05   \n",
       "Dendritic cells               0.05               0.05               0.05   \n",
       "B-cells                       0.05               0.05               0.05   \n",
       "Nk-cells                      0.10               0.10               0.10   \n",
       "Macrophages                   0.20               0.20               0.20   \n",
       "\n",
       "                 numbers_to_sample  numbers_to_sample  \n",
       "Monocytes                     0.05               0.05  \n",
       "T-cells                       0.50               0.50  \n",
       "Platelets                     0.05               0.05  \n",
       "Dendritic cells               0.05               0.05  \n",
       "B-cells                       0.05               0.05  \n",
       "Nk-cells                      0.10               0.10  \n",
       "Macrophages                   0.20               0.20  \n",
       "\n",
       "[7 rows x 100 columns]"
      ]
     },
     "execution_count": 44,
     "metadata": {},
     "output_type": "execute_result"
    }
   ],
   "source": [
    "dict_variances['0']"
   ]
  },
  {
   "cell_type": "code",
   "execution_count": 48,
   "metadata": {},
   "outputs": [
    {
     "data": {
      "application/vnd.plotly.v1+json": {
       "config": {
        "plotlyServerURL": "https://plot.ly"
       },
       "data": [
        {
         "hovertemplate": "index=Monocytes<br>variable=%{x}<br>value=%{y}<extra></extra>",
         "legendgroup": "Monocytes",
         "line": {
          "color": "#636efa",
          "dash": "solid"
         },
         "marker": {
          "symbol": "circle"
         },
         "mode": "lines",
         "name": "Monocytes",
         "orientation": "v",
         "showlegend": true,
         "type": "scatter",
         "x": [
          "0",
          "1",
          "10",
          "11",
          "12",
          "13",
          "14",
          "15",
          "16",
          "17",
          "18",
          "19",
          "2",
          "20",
          "21",
          "22",
          "23",
          "24",
          "25",
          "26",
          "27",
          "28",
          "29",
          "3",
          "30",
          "31",
          "32",
          "33",
          "34",
          "35",
          "36",
          "37",
          "38",
          "39",
          "4",
          "40",
          "41",
          "42",
          "43",
          "44",
          "45",
          "46",
          "47",
          "48",
          "49",
          "5",
          "50",
          "51",
          "52",
          "53",
          "54",
          "55",
          "56",
          "57",
          "58",
          "59",
          "6",
          "60",
          "61",
          "62",
          "63",
          "64",
          "65",
          "66",
          "67",
          "68",
          "69",
          "7",
          "70",
          "71",
          "72",
          "73",
          "74",
          "75",
          "76",
          "77",
          "78",
          "79",
          "8",
          "80",
          "81",
          "82",
          "83",
          "84",
          "85",
          "86",
          "87",
          "88",
          "89",
          "9",
          "90",
          "91",
          "92",
          "93",
          "94",
          "95",
          "96",
          "97",
          "98",
          "99"
         ],
         "xaxis": "x",
         "y": [
          0.05,
          0.05,
          0.05,
          0.05,
          0.05,
          0.05,
          0.05,
          0.05,
          0.05,
          0.05,
          0.05,
          0.05,
          0.05,
          0.05,
          0.05,
          0.05,
          0.05,
          0.05,
          0.05,
          0.05,
          0.05,
          0.05,
          0.05,
          0.05,
          0.05,
          0.05,
          0.05,
          0.05,
          0.05,
          0.05,
          0.05,
          0.05,
          0.05,
          0.05,
          0.05,
          0.05,
          0.05,
          0.05,
          0.05,
          0.05,
          0.05,
          0.05,
          0.05,
          0.05,
          0.05,
          0.05,
          0.05,
          0.05,
          0.05,
          0.05,
          0.05,
          0.05,
          0.05,
          0.05,
          0.05,
          0.05,
          0.05,
          0.05,
          0.05,
          0.05,
          0.05,
          0.05,
          0.05,
          0.05,
          0.05,
          0.05,
          0.05,
          0.05,
          0.05,
          0.05,
          0.05,
          0.05,
          0.05,
          0.05,
          0.05,
          0.05,
          0.05,
          0.05,
          0.05,
          0.05,
          0.05,
          0.05,
          0.05,
          0.05,
          0.05,
          0.05,
          0.05,
          0.05,
          0.05,
          0.05,
          0.05,
          0.05,
          0.05,
          0.05,
          0.05,
          0.05,
          0.05,
          0.05,
          0.05,
          0.05
         ],
         "yaxis": "y"
        },
        {
         "hovertemplate": "index=T-cells<br>variable=%{x}<br>value=%{y}<extra></extra>",
         "legendgroup": "T-cells",
         "line": {
          "color": "#EF553B",
          "dash": "solid"
         },
         "marker": {
          "symbol": "circle"
         },
         "mode": "lines",
         "name": "T-cells",
         "orientation": "v",
         "showlegend": true,
         "type": "scatter",
         "x": [
          "0",
          "1",
          "10",
          "11",
          "12",
          "13",
          "14",
          "15",
          "16",
          "17",
          "18",
          "19",
          "2",
          "20",
          "21",
          "22",
          "23",
          "24",
          "25",
          "26",
          "27",
          "28",
          "29",
          "3",
          "30",
          "31",
          "32",
          "33",
          "34",
          "35",
          "36",
          "37",
          "38",
          "39",
          "4",
          "40",
          "41",
          "42",
          "43",
          "44",
          "45",
          "46",
          "47",
          "48",
          "49",
          "5",
          "50",
          "51",
          "52",
          "53",
          "54",
          "55",
          "56",
          "57",
          "58",
          "59",
          "6",
          "60",
          "61",
          "62",
          "63",
          "64",
          "65",
          "66",
          "67",
          "68",
          "69",
          "7",
          "70",
          "71",
          "72",
          "73",
          "74",
          "75",
          "76",
          "77",
          "78",
          "79",
          "8",
          "80",
          "81",
          "82",
          "83",
          "84",
          "85",
          "86",
          "87",
          "88",
          "89",
          "9",
          "90",
          "91",
          "92",
          "93",
          "94",
          "95",
          "96",
          "97",
          "98",
          "99"
         ],
         "xaxis": "x",
         "y": [
          0.5,
          0.5,
          0.5,
          0.5,
          0.5,
          0.5,
          0.5,
          0.5,
          0.5,
          0.5,
          0.5,
          0.5,
          0.5,
          0.5,
          0.5,
          0.5,
          0.5,
          0.5,
          0.5,
          0.5,
          0.5,
          0.5,
          0.5,
          0.5,
          0.5,
          0.5,
          0.5,
          0.5,
          0.5,
          0.5,
          0.5,
          0.5,
          0.5,
          0.5,
          0.5,
          0.5,
          0.5,
          0.5,
          0.5,
          0.5,
          0.5,
          0.5,
          0.5,
          0.5,
          0.5,
          0.5,
          0.5,
          0.5,
          0.5,
          0.5,
          0.5,
          0.5,
          0.5,
          0.5,
          0.5,
          0.5,
          0.5,
          0.5,
          0.5,
          0.5,
          0.5,
          0.5,
          0.5,
          0.5,
          0.5,
          0.5,
          0.5,
          0.5,
          0.5,
          0.5,
          0.5,
          0.5,
          0.5,
          0.5,
          0.5,
          0.5,
          0.5,
          0.5,
          0.5,
          0.5,
          0.5,
          0.5,
          0.5,
          0.5,
          0.5,
          0.5,
          0.5,
          0.5,
          0.5,
          0.5,
          0.5,
          0.5,
          0.5,
          0.5,
          0.5,
          0.5,
          0.5,
          0.5,
          0.5,
          0.5
         ],
         "yaxis": "y"
        },
        {
         "hovertemplate": "index=Platelets<br>variable=%{x}<br>value=%{y}<extra></extra>",
         "legendgroup": "Platelets",
         "line": {
          "color": "#00cc96",
          "dash": "solid"
         },
         "marker": {
          "symbol": "circle"
         },
         "mode": "lines",
         "name": "Platelets",
         "orientation": "v",
         "showlegend": true,
         "type": "scatter",
         "x": [
          "0",
          "1",
          "10",
          "11",
          "12",
          "13",
          "14",
          "15",
          "16",
          "17",
          "18",
          "19",
          "2",
          "20",
          "21",
          "22",
          "23",
          "24",
          "25",
          "26",
          "27",
          "28",
          "29",
          "3",
          "30",
          "31",
          "32",
          "33",
          "34",
          "35",
          "36",
          "37",
          "38",
          "39",
          "4",
          "40",
          "41",
          "42",
          "43",
          "44",
          "45",
          "46",
          "47",
          "48",
          "49",
          "5",
          "50",
          "51",
          "52",
          "53",
          "54",
          "55",
          "56",
          "57",
          "58",
          "59",
          "6",
          "60",
          "61",
          "62",
          "63",
          "64",
          "65",
          "66",
          "67",
          "68",
          "69",
          "7",
          "70",
          "71",
          "72",
          "73",
          "74",
          "75",
          "76",
          "77",
          "78",
          "79",
          "8",
          "80",
          "81",
          "82",
          "83",
          "84",
          "85",
          "86",
          "87",
          "88",
          "89",
          "9",
          "90",
          "91",
          "92",
          "93",
          "94",
          "95",
          "96",
          "97",
          "98",
          "99"
         ],
         "xaxis": "x",
         "y": [
          0.05,
          0.05,
          0.05,
          0.05,
          0.05,
          0.05,
          0.05,
          0.05,
          0.05,
          0.05,
          0.05,
          0.05,
          0.05,
          0.05,
          0.05,
          0.05,
          0.05,
          0.05,
          0.05,
          0.05,
          0.05,
          0.05,
          0.05,
          0.05,
          0.05,
          0.05,
          0.05,
          0.05,
          0.05,
          0.05,
          0.05,
          0.05,
          0.05,
          0.05,
          0.05,
          0.05,
          0.05,
          0.05,
          0.05,
          0.05,
          0.05,
          0.05,
          0.05,
          0.05,
          0.05,
          0.05,
          0.05,
          0.05,
          0.05,
          0.05,
          0.05,
          0.05,
          0.05,
          0.05,
          0.05,
          0.05,
          0.05,
          0.05,
          0.05,
          0.05,
          0.05,
          0.05,
          0.05,
          0.05,
          0.05,
          0.05,
          0.05,
          0.05,
          0.05,
          0.05,
          0.05,
          0.05,
          0.05,
          0.05,
          0.05,
          0.05,
          0.05,
          0.05,
          0.05,
          0.05,
          0.05,
          0.05,
          0.05,
          0.05,
          0.05,
          0.05,
          0.05,
          0.05,
          0.05,
          0.05,
          0.05,
          0.05,
          0.05,
          0.05,
          0.05,
          0.05,
          0.05,
          0.05,
          0.05,
          0.05
         ],
         "yaxis": "y"
        },
        {
         "hovertemplate": "index=Dendritic cells<br>variable=%{x}<br>value=%{y}<extra></extra>",
         "legendgroup": "Dendritic cells",
         "line": {
          "color": "#ab63fa",
          "dash": "solid"
         },
         "marker": {
          "symbol": "circle"
         },
         "mode": "lines",
         "name": "Dendritic cells",
         "orientation": "v",
         "showlegend": true,
         "type": "scatter",
         "x": [
          "0",
          "1",
          "10",
          "11",
          "12",
          "13",
          "14",
          "15",
          "16",
          "17",
          "18",
          "19",
          "2",
          "20",
          "21",
          "22",
          "23",
          "24",
          "25",
          "26",
          "27",
          "28",
          "29",
          "3",
          "30",
          "31",
          "32",
          "33",
          "34",
          "35",
          "36",
          "37",
          "38",
          "39",
          "4",
          "40",
          "41",
          "42",
          "43",
          "44",
          "45",
          "46",
          "47",
          "48",
          "49",
          "5",
          "50",
          "51",
          "52",
          "53",
          "54",
          "55",
          "56",
          "57",
          "58",
          "59",
          "6",
          "60",
          "61",
          "62",
          "63",
          "64",
          "65",
          "66",
          "67",
          "68",
          "69",
          "7",
          "70",
          "71",
          "72",
          "73",
          "74",
          "75",
          "76",
          "77",
          "78",
          "79",
          "8",
          "80",
          "81",
          "82",
          "83",
          "84",
          "85",
          "86",
          "87",
          "88",
          "89",
          "9",
          "90",
          "91",
          "92",
          "93",
          "94",
          "95",
          "96",
          "97",
          "98",
          "99"
         ],
         "xaxis": "x",
         "y": [
          0.05,
          0.05,
          0.05,
          0.05,
          0.05,
          0.05,
          0.05,
          0.05,
          0.05,
          0.05,
          0.05,
          0.05,
          0.05,
          0.05,
          0.05,
          0.05,
          0.05,
          0.05,
          0.05,
          0.05,
          0.05,
          0.05,
          0.05,
          0.05,
          0.05,
          0.05,
          0.05,
          0.05,
          0.05,
          0.05,
          0.05,
          0.05,
          0.05,
          0.05,
          0.05,
          0.05,
          0.05,
          0.05,
          0.05,
          0.05,
          0.05,
          0.05,
          0.05,
          0.05,
          0.05,
          0.05,
          0.05,
          0.05,
          0.05,
          0.05,
          0.05,
          0.05,
          0.05,
          0.05,
          0.05,
          0.05,
          0.05,
          0.05,
          0.05,
          0.05,
          0.05,
          0.05,
          0.05,
          0.05,
          0.05,
          0.05,
          0.05,
          0.05,
          0.05,
          0.05,
          0.05,
          0.05,
          0.05,
          0.05,
          0.05,
          0.05,
          0.05,
          0.05,
          0.05,
          0.05,
          0.05,
          0.05,
          0.05,
          0.05,
          0.05,
          0.05,
          0.05,
          0.05,
          0.05,
          0.05,
          0.05,
          0.05,
          0.05,
          0.05,
          0.05,
          0.05,
          0.05,
          0.05,
          0.05,
          0.05
         ],
         "yaxis": "y"
        },
        {
         "hovertemplate": "index=B-cells<br>variable=%{x}<br>value=%{y}<extra></extra>",
         "legendgroup": "B-cells",
         "line": {
          "color": "#FFA15A",
          "dash": "solid"
         },
         "marker": {
          "symbol": "circle"
         },
         "mode": "lines",
         "name": "B-cells",
         "orientation": "v",
         "showlegend": true,
         "type": "scatter",
         "x": [
          "0",
          "1",
          "10",
          "11",
          "12",
          "13",
          "14",
          "15",
          "16",
          "17",
          "18",
          "19",
          "2",
          "20",
          "21",
          "22",
          "23",
          "24",
          "25",
          "26",
          "27",
          "28",
          "29",
          "3",
          "30",
          "31",
          "32",
          "33",
          "34",
          "35",
          "36",
          "37",
          "38",
          "39",
          "4",
          "40",
          "41",
          "42",
          "43",
          "44",
          "45",
          "46",
          "47",
          "48",
          "49",
          "5",
          "50",
          "51",
          "52",
          "53",
          "54",
          "55",
          "56",
          "57",
          "58",
          "59",
          "6",
          "60",
          "61",
          "62",
          "63",
          "64",
          "65",
          "66",
          "67",
          "68",
          "69",
          "7",
          "70",
          "71",
          "72",
          "73",
          "74",
          "75",
          "76",
          "77",
          "78",
          "79",
          "8",
          "80",
          "81",
          "82",
          "83",
          "84",
          "85",
          "86",
          "87",
          "88",
          "89",
          "9",
          "90",
          "91",
          "92",
          "93",
          "94",
          "95",
          "96",
          "97",
          "98",
          "99"
         ],
         "xaxis": "x",
         "y": [
          0.05,
          0.05,
          0.05,
          0.05,
          0.05,
          0.05,
          0.05,
          0.05,
          0.05,
          0.05,
          0.05,
          0.05,
          0.05,
          0.05,
          0.05,
          0.05,
          0.05,
          0.05,
          0.05,
          0.05,
          0.05,
          0.05,
          0.05,
          0.05,
          0.05,
          0.05,
          0.05,
          0.05,
          0.05,
          0.05,
          0.05,
          0.05,
          0.05,
          0.05,
          0.05,
          0.05,
          0.05,
          0.05,
          0.05,
          0.05,
          0.05,
          0.05,
          0.05,
          0.05,
          0.05,
          0.05,
          0.05,
          0.05,
          0.05,
          0.05,
          0.05,
          0.05,
          0.05,
          0.05,
          0.05,
          0.05,
          0.05,
          0.05,
          0.05,
          0.05,
          0.05,
          0.05,
          0.05,
          0.05,
          0.05,
          0.05,
          0.05,
          0.05,
          0.05,
          0.05,
          0.05,
          0.05,
          0.05,
          0.05,
          0.05,
          0.05,
          0.05,
          0.05,
          0.05,
          0.05,
          0.05,
          0.05,
          0.05,
          0.05,
          0.05,
          0.05,
          0.05,
          0.05,
          0.05,
          0.05,
          0.05,
          0.05,
          0.05,
          0.05,
          0.05,
          0.05,
          0.05,
          0.05,
          0.05,
          0.05
         ],
         "yaxis": "y"
        },
        {
         "hovertemplate": "index=Nk-cells<br>variable=%{x}<br>value=%{y}<extra></extra>",
         "legendgroup": "Nk-cells",
         "line": {
          "color": "#19d3f3",
          "dash": "solid"
         },
         "marker": {
          "symbol": "circle"
         },
         "mode": "lines",
         "name": "Nk-cells",
         "orientation": "v",
         "showlegend": true,
         "type": "scatter",
         "x": [
          "0",
          "1",
          "10",
          "11",
          "12",
          "13",
          "14",
          "15",
          "16",
          "17",
          "18",
          "19",
          "2",
          "20",
          "21",
          "22",
          "23",
          "24",
          "25",
          "26",
          "27",
          "28",
          "29",
          "3",
          "30",
          "31",
          "32",
          "33",
          "34",
          "35",
          "36",
          "37",
          "38",
          "39",
          "4",
          "40",
          "41",
          "42",
          "43",
          "44",
          "45",
          "46",
          "47",
          "48",
          "49",
          "5",
          "50",
          "51",
          "52",
          "53",
          "54",
          "55",
          "56",
          "57",
          "58",
          "59",
          "6",
          "60",
          "61",
          "62",
          "63",
          "64",
          "65",
          "66",
          "67",
          "68",
          "69",
          "7",
          "70",
          "71",
          "72",
          "73",
          "74",
          "75",
          "76",
          "77",
          "78",
          "79",
          "8",
          "80",
          "81",
          "82",
          "83",
          "84",
          "85",
          "86",
          "87",
          "88",
          "89",
          "9",
          "90",
          "91",
          "92",
          "93",
          "94",
          "95",
          "96",
          "97",
          "98",
          "99"
         ],
         "xaxis": "x",
         "y": [
          0.1,
          0.1,
          0.1,
          0.1,
          0.1,
          0.1,
          0.1,
          0.1,
          0.1,
          0.1,
          0.1,
          0.1,
          0.1,
          0.1,
          0.1,
          0.1,
          0.1,
          0.1,
          0.1,
          0.1,
          0.1,
          0.1,
          0.1,
          0.1,
          0.1,
          0.1,
          0.1,
          0.1,
          0.1,
          0.1,
          0.1,
          0.1,
          0.1,
          0.1,
          0.1,
          0.1,
          0.1,
          0.1,
          0.1,
          0.1,
          0.1,
          0.1,
          0.1,
          0.1,
          0.1,
          0.1,
          0.1,
          0.1,
          0.1,
          0.1,
          0.1,
          0.1,
          0.1,
          0.1,
          0.1,
          0.1,
          0.1,
          0.1,
          0.1,
          0.1,
          0.1,
          0.1,
          0.1,
          0.1,
          0.1,
          0.1,
          0.1,
          0.1,
          0.1,
          0.1,
          0.1,
          0.1,
          0.1,
          0.1,
          0.1,
          0.1,
          0.1,
          0.1,
          0.1,
          0.1,
          0.1,
          0.1,
          0.1,
          0.1,
          0.1,
          0.1,
          0.1,
          0.1,
          0.1,
          0.1,
          0.1,
          0.1,
          0.1,
          0.1,
          0.1,
          0.1,
          0.1,
          0.1,
          0.1,
          0.1
         ],
         "yaxis": "y"
        },
        {
         "hovertemplate": "index=Macrophages<br>variable=%{x}<br>value=%{y}<extra></extra>",
         "legendgroup": "Macrophages",
         "line": {
          "color": "#FF6692",
          "dash": "solid"
         },
         "marker": {
          "symbol": "circle"
         },
         "mode": "lines",
         "name": "Macrophages",
         "orientation": "v",
         "showlegend": true,
         "type": "scatter",
         "x": [
          "0",
          "1",
          "10",
          "11",
          "12",
          "13",
          "14",
          "15",
          "16",
          "17",
          "18",
          "19",
          "2",
          "20",
          "21",
          "22",
          "23",
          "24",
          "25",
          "26",
          "27",
          "28",
          "29",
          "3",
          "30",
          "31",
          "32",
          "33",
          "34",
          "35",
          "36",
          "37",
          "38",
          "39",
          "4",
          "40",
          "41",
          "42",
          "43",
          "44",
          "45",
          "46",
          "47",
          "48",
          "49",
          "5",
          "50",
          "51",
          "52",
          "53",
          "54",
          "55",
          "56",
          "57",
          "58",
          "59",
          "6",
          "60",
          "61",
          "62",
          "63",
          "64",
          "65",
          "66",
          "67",
          "68",
          "69",
          "7",
          "70",
          "71",
          "72",
          "73",
          "74",
          "75",
          "76",
          "77",
          "78",
          "79",
          "8",
          "80",
          "81",
          "82",
          "83",
          "84",
          "85",
          "86",
          "87",
          "88",
          "89",
          "9",
          "90",
          "91",
          "92",
          "93",
          "94",
          "95",
          "96",
          "97",
          "98",
          "99"
         ],
         "xaxis": "x",
         "y": [
          0.2,
          0.2,
          0.2,
          0.2,
          0.2,
          0.2,
          0.2,
          0.2,
          0.2,
          0.2,
          0.2,
          0.2,
          0.2,
          0.2,
          0.2,
          0.2,
          0.2,
          0.2,
          0.2,
          0.2,
          0.2,
          0.2,
          0.2,
          0.2,
          0.2,
          0.2,
          0.2,
          0.2,
          0.2,
          0.2,
          0.2,
          0.2,
          0.2,
          0.2,
          0.2,
          0.2,
          0.2,
          0.2,
          0.2,
          0.2,
          0.2,
          0.2,
          0.2,
          0.2,
          0.2,
          0.2,
          0.2,
          0.2,
          0.2,
          0.2,
          0.2,
          0.2,
          0.2,
          0.2,
          0.2,
          0.2,
          0.2,
          0.2,
          0.2,
          0.2,
          0.2,
          0.2,
          0.2,
          0.2,
          0.2,
          0.2,
          0.2,
          0.2,
          0.2,
          0.2,
          0.2,
          0.2,
          0.2,
          0.2,
          0.2,
          0.2,
          0.2,
          0.2,
          0.2,
          0.2,
          0.2,
          0.2,
          0.2,
          0.2,
          0.2,
          0.2,
          0.2,
          0.2,
          0.2,
          0.2,
          0.2,
          0.2,
          0.2,
          0.2,
          0.2,
          0.2,
          0.2,
          0.2,
          0.2,
          0.2
         ],
         "yaxis": "y"
        }
       ],
       "layout": {
        "legend": {
         "title": {
          "text": "Cell Types (CTs)"
         },
         "tracegroupgap": 0
        },
        "margin": {
         "t": 60
        },
        "template": {
         "data": {
          "bar": [
           {
            "error_x": {
             "color": "#2a3f5f"
            },
            "error_y": {
             "color": "#2a3f5f"
            },
            "marker": {
             "line": {
              "color": "#E5ECF6",
              "width": 0.5
             },
             "pattern": {
              "fillmode": "overlay",
              "size": 10,
              "solidity": 0.2
             }
            },
            "type": "bar"
           }
          ],
          "barpolar": [
           {
            "marker": {
             "line": {
              "color": "#E5ECF6",
              "width": 0.5
             },
             "pattern": {
              "fillmode": "overlay",
              "size": 10,
              "solidity": 0.2
             }
            },
            "type": "barpolar"
           }
          ],
          "carpet": [
           {
            "aaxis": {
             "endlinecolor": "#2a3f5f",
             "gridcolor": "white",
             "linecolor": "white",
             "minorgridcolor": "white",
             "startlinecolor": "#2a3f5f"
            },
            "baxis": {
             "endlinecolor": "#2a3f5f",
             "gridcolor": "white",
             "linecolor": "white",
             "minorgridcolor": "white",
             "startlinecolor": "#2a3f5f"
            },
            "type": "carpet"
           }
          ],
          "choropleth": [
           {
            "colorbar": {
             "outlinewidth": 0,
             "ticks": ""
            },
            "type": "choropleth"
           }
          ],
          "contour": [
           {
            "colorbar": {
             "outlinewidth": 0,
             "ticks": ""
            },
            "colorscale": [
             [
              0,
              "#0d0887"
             ],
             [
              0.1111111111111111,
              "#46039f"
             ],
             [
              0.2222222222222222,
              "#7201a8"
             ],
             [
              0.3333333333333333,
              "#9c179e"
             ],
             [
              0.4444444444444444,
              "#bd3786"
             ],
             [
              0.5555555555555556,
              "#d8576b"
             ],
             [
              0.6666666666666666,
              "#ed7953"
             ],
             [
              0.7777777777777778,
              "#fb9f3a"
             ],
             [
              0.8888888888888888,
              "#fdca26"
             ],
             [
              1,
              "#f0f921"
             ]
            ],
            "type": "contour"
           }
          ],
          "contourcarpet": [
           {
            "colorbar": {
             "outlinewidth": 0,
             "ticks": ""
            },
            "type": "contourcarpet"
           }
          ],
          "heatmap": [
           {
            "colorbar": {
             "outlinewidth": 0,
             "ticks": ""
            },
            "colorscale": [
             [
              0,
              "#0d0887"
             ],
             [
              0.1111111111111111,
              "#46039f"
             ],
             [
              0.2222222222222222,
              "#7201a8"
             ],
             [
              0.3333333333333333,
              "#9c179e"
             ],
             [
              0.4444444444444444,
              "#bd3786"
             ],
             [
              0.5555555555555556,
              "#d8576b"
             ],
             [
              0.6666666666666666,
              "#ed7953"
             ],
             [
              0.7777777777777778,
              "#fb9f3a"
             ],
             [
              0.8888888888888888,
              "#fdca26"
             ],
             [
              1,
              "#f0f921"
             ]
            ],
            "type": "heatmap"
           }
          ],
          "heatmapgl": [
           {
            "colorbar": {
             "outlinewidth": 0,
             "ticks": ""
            },
            "colorscale": [
             [
              0,
              "#0d0887"
             ],
             [
              0.1111111111111111,
              "#46039f"
             ],
             [
              0.2222222222222222,
              "#7201a8"
             ],
             [
              0.3333333333333333,
              "#9c179e"
             ],
             [
              0.4444444444444444,
              "#bd3786"
             ],
             [
              0.5555555555555556,
              "#d8576b"
             ],
             [
              0.6666666666666666,
              "#ed7953"
             ],
             [
              0.7777777777777778,
              "#fb9f3a"
             ],
             [
              0.8888888888888888,
              "#fdca26"
             ],
             [
              1,
              "#f0f921"
             ]
            ],
            "type": "heatmapgl"
           }
          ],
          "histogram": [
           {
            "marker": {
             "pattern": {
              "fillmode": "overlay",
              "size": 10,
              "solidity": 0.2
             }
            },
            "type": "histogram"
           }
          ],
          "histogram2d": [
           {
            "colorbar": {
             "outlinewidth": 0,
             "ticks": ""
            },
            "colorscale": [
             [
              0,
              "#0d0887"
             ],
             [
              0.1111111111111111,
              "#46039f"
             ],
             [
              0.2222222222222222,
              "#7201a8"
             ],
             [
              0.3333333333333333,
              "#9c179e"
             ],
             [
              0.4444444444444444,
              "#bd3786"
             ],
             [
              0.5555555555555556,
              "#d8576b"
             ],
             [
              0.6666666666666666,
              "#ed7953"
             ],
             [
              0.7777777777777778,
              "#fb9f3a"
             ],
             [
              0.8888888888888888,
              "#fdca26"
             ],
             [
              1,
              "#f0f921"
             ]
            ],
            "type": "histogram2d"
           }
          ],
          "histogram2dcontour": [
           {
            "colorbar": {
             "outlinewidth": 0,
             "ticks": ""
            },
            "colorscale": [
             [
              0,
              "#0d0887"
             ],
             [
              0.1111111111111111,
              "#46039f"
             ],
             [
              0.2222222222222222,
              "#7201a8"
             ],
             [
              0.3333333333333333,
              "#9c179e"
             ],
             [
              0.4444444444444444,
              "#bd3786"
             ],
             [
              0.5555555555555556,
              "#d8576b"
             ],
             [
              0.6666666666666666,
              "#ed7953"
             ],
             [
              0.7777777777777778,
              "#fb9f3a"
             ],
             [
              0.8888888888888888,
              "#fdca26"
             ],
             [
              1,
              "#f0f921"
             ]
            ],
            "type": "histogram2dcontour"
           }
          ],
          "mesh3d": [
           {
            "colorbar": {
             "outlinewidth": 0,
             "ticks": ""
            },
            "type": "mesh3d"
           }
          ],
          "parcoords": [
           {
            "line": {
             "colorbar": {
              "outlinewidth": 0,
              "ticks": ""
             }
            },
            "type": "parcoords"
           }
          ],
          "pie": [
           {
            "automargin": true,
            "type": "pie"
           }
          ],
          "scatter": [
           {
            "fillpattern": {
             "fillmode": "overlay",
             "size": 10,
             "solidity": 0.2
            },
            "type": "scatter"
           }
          ],
          "scatter3d": [
           {
            "line": {
             "colorbar": {
              "outlinewidth": 0,
              "ticks": ""
             }
            },
            "marker": {
             "colorbar": {
              "outlinewidth": 0,
              "ticks": ""
             }
            },
            "type": "scatter3d"
           }
          ],
          "scattercarpet": [
           {
            "marker": {
             "colorbar": {
              "outlinewidth": 0,
              "ticks": ""
             }
            },
            "type": "scattercarpet"
           }
          ],
          "scattergeo": [
           {
            "marker": {
             "colorbar": {
              "outlinewidth": 0,
              "ticks": ""
             }
            },
            "type": "scattergeo"
           }
          ],
          "scattergl": [
           {
            "marker": {
             "colorbar": {
              "outlinewidth": 0,
              "ticks": ""
             }
            },
            "type": "scattergl"
           }
          ],
          "scattermapbox": [
           {
            "marker": {
             "colorbar": {
              "outlinewidth": 0,
              "ticks": ""
             }
            },
            "type": "scattermapbox"
           }
          ],
          "scatterpolar": [
           {
            "marker": {
             "colorbar": {
              "outlinewidth": 0,
              "ticks": ""
             }
            },
            "type": "scatterpolar"
           }
          ],
          "scatterpolargl": [
           {
            "marker": {
             "colorbar": {
              "outlinewidth": 0,
              "ticks": ""
             }
            },
            "type": "scatterpolargl"
           }
          ],
          "scatterternary": [
           {
            "marker": {
             "colorbar": {
              "outlinewidth": 0,
              "ticks": ""
             }
            },
            "type": "scatterternary"
           }
          ],
          "surface": [
           {
            "colorbar": {
             "outlinewidth": 0,
             "ticks": ""
            },
            "colorscale": [
             [
              0,
              "#0d0887"
             ],
             [
              0.1111111111111111,
              "#46039f"
             ],
             [
              0.2222222222222222,
              "#7201a8"
             ],
             [
              0.3333333333333333,
              "#9c179e"
             ],
             [
              0.4444444444444444,
              "#bd3786"
             ],
             [
              0.5555555555555556,
              "#d8576b"
             ],
             [
              0.6666666666666666,
              "#ed7953"
             ],
             [
              0.7777777777777778,
              "#fb9f3a"
             ],
             [
              0.8888888888888888,
              "#fdca26"
             ],
             [
              1,
              "#f0f921"
             ]
            ],
            "type": "surface"
           }
          ],
          "table": [
           {
            "cells": {
             "fill": {
              "color": "#EBF0F8"
             },
             "line": {
              "color": "white"
             }
            },
            "header": {
             "fill": {
              "color": "#C8D4E3"
             },
             "line": {
              "color": "white"
             }
            },
            "type": "table"
           }
          ]
         },
         "layout": {
          "annotationdefaults": {
           "arrowcolor": "#2a3f5f",
           "arrowhead": 0,
           "arrowwidth": 1
          },
          "autotypenumbers": "strict",
          "coloraxis": {
           "colorbar": {
            "outlinewidth": 0,
            "ticks": ""
           }
          },
          "colorscale": {
           "diverging": [
            [
             0,
             "#8e0152"
            ],
            [
             0.1,
             "#c51b7d"
            ],
            [
             0.2,
             "#de77ae"
            ],
            [
             0.3,
             "#f1b6da"
            ],
            [
             0.4,
             "#fde0ef"
            ],
            [
             0.5,
             "#f7f7f7"
            ],
            [
             0.6,
             "#e6f5d0"
            ],
            [
             0.7,
             "#b8e186"
            ],
            [
             0.8,
             "#7fbc41"
            ],
            [
             0.9,
             "#4d9221"
            ],
            [
             1,
             "#276419"
            ]
           ],
           "sequential": [
            [
             0,
             "#0d0887"
            ],
            [
             0.1111111111111111,
             "#46039f"
            ],
            [
             0.2222222222222222,
             "#7201a8"
            ],
            [
             0.3333333333333333,
             "#9c179e"
            ],
            [
             0.4444444444444444,
             "#bd3786"
            ],
            [
             0.5555555555555556,
             "#d8576b"
            ],
            [
             0.6666666666666666,
             "#ed7953"
            ],
            [
             0.7777777777777778,
             "#fb9f3a"
            ],
            [
             0.8888888888888888,
             "#fdca26"
            ],
            [
             1,
             "#f0f921"
            ]
           ],
           "sequentialminus": [
            [
             0,
             "#0d0887"
            ],
            [
             0.1111111111111111,
             "#46039f"
            ],
            [
             0.2222222222222222,
             "#7201a8"
            ],
            [
             0.3333333333333333,
             "#9c179e"
            ],
            [
             0.4444444444444444,
             "#bd3786"
            ],
            [
             0.5555555555555556,
             "#d8576b"
            ],
            [
             0.6666666666666666,
             "#ed7953"
            ],
            [
             0.7777777777777778,
             "#fb9f3a"
            ],
            [
             0.8888888888888888,
             "#fdca26"
            ],
            [
             1,
             "#f0f921"
            ]
           ]
          },
          "colorway": [
           "#636efa",
           "#EF553B",
           "#00cc96",
           "#ab63fa",
           "#FFA15A",
           "#19d3f3",
           "#FF6692",
           "#B6E880",
           "#FF97FF",
           "#FECB52"
          ],
          "font": {
           "color": "#2a3f5f"
          },
          "geo": {
           "bgcolor": "white",
           "lakecolor": "white",
           "landcolor": "#E5ECF6",
           "showlakes": true,
           "showland": true,
           "subunitcolor": "white"
          },
          "hoverlabel": {
           "align": "left"
          },
          "hovermode": "closest",
          "mapbox": {
           "style": "light"
          },
          "paper_bgcolor": "white",
          "plot_bgcolor": "#E5ECF6",
          "polar": {
           "angularaxis": {
            "gridcolor": "white",
            "linecolor": "white",
            "ticks": ""
           },
           "bgcolor": "#E5ECF6",
           "radialaxis": {
            "gridcolor": "white",
            "linecolor": "white",
            "ticks": ""
           }
          },
          "scene": {
           "xaxis": {
            "backgroundcolor": "#E5ECF6",
            "gridcolor": "white",
            "gridwidth": 2,
            "linecolor": "white",
            "showbackground": true,
            "ticks": "",
            "zerolinecolor": "white"
           },
           "yaxis": {
            "backgroundcolor": "#E5ECF6",
            "gridcolor": "white",
            "gridwidth": 2,
            "linecolor": "white",
            "showbackground": true,
            "ticks": "",
            "zerolinecolor": "white"
           },
           "zaxis": {
            "backgroundcolor": "#E5ECF6",
            "gridcolor": "white",
            "gridwidth": 2,
            "linecolor": "white",
            "showbackground": true,
            "ticks": "",
            "zerolinecolor": "white"
           }
          },
          "shapedefaults": {
           "line": {
            "color": "#2a3f5f"
           }
          },
          "ternary": {
           "aaxis": {
            "gridcolor": "white",
            "linecolor": "white",
            "ticks": ""
           },
           "baxis": {
            "gridcolor": "white",
            "linecolor": "white",
            "ticks": ""
           },
           "bgcolor": "#E5ECF6",
           "caxis": {
            "gridcolor": "white",
            "linecolor": "white",
            "ticks": ""
           }
          },
          "title": {
           "x": 0.05
          },
          "xaxis": {
           "automargin": true,
           "gridcolor": "white",
           "linecolor": "white",
           "ticks": "",
           "title": {
            "standoff": 15
           },
           "zerolinecolor": "white",
           "zerolinewidth": 2
          },
          "yaxis": {
           "automargin": true,
           "gridcolor": "white",
           "linecolor": "white",
           "ticks": "",
           "title": {
            "standoff": 15
           },
           "zerolinecolor": "white",
           "zerolinewidth": 2
          }
         }
        },
        "title": {
         "text": "Percent Composition Across Simulations with 0 Variance"
        },
        "xaxis": {
         "anchor": "y",
         "domain": [
          0,
          1
         ],
         "title": {
          "text": "Simulation"
         }
        },
        "yaxis": {
         "anchor": "x",
         "domain": [
          0,
          1
         ],
         "title": {
          "text": "Percent Composition"
         }
        }
       }
      },
      "text/html": [
       "<div>                            <div id=\"f7b785f7-65ff-4d50-8873-ec4c1c62b2ea\" class=\"plotly-graph-div\" style=\"height:525px; width:100%;\"></div>            <script type=\"text/javascript\">                require([\"plotly\"], function(Plotly) {                    window.PLOTLYENV=window.PLOTLYENV || {};                                    if (document.getElementById(\"f7b785f7-65ff-4d50-8873-ec4c1c62b2ea\")) {                    Plotly.newPlot(                        \"f7b785f7-65ff-4d50-8873-ec4c1c62b2ea\",                        [{\"hovertemplate\":\"index=Monocytes\\u003cbr\\u003evariable=%{x}\\u003cbr\\u003evalue=%{y}\\u003cextra\\u003e\\u003c\\u002fextra\\u003e\",\"legendgroup\":\"Monocytes\",\"line\":{\"color\":\"#636efa\",\"dash\":\"solid\"},\"marker\":{\"symbol\":\"circle\"},\"mode\":\"lines\",\"name\":\"Monocytes\",\"orientation\":\"v\",\"showlegend\":true,\"x\":[\"0\",\"1\",\"10\",\"11\",\"12\",\"13\",\"14\",\"15\",\"16\",\"17\",\"18\",\"19\",\"2\",\"20\",\"21\",\"22\",\"23\",\"24\",\"25\",\"26\",\"27\",\"28\",\"29\",\"3\",\"30\",\"31\",\"32\",\"33\",\"34\",\"35\",\"36\",\"37\",\"38\",\"39\",\"4\",\"40\",\"41\",\"42\",\"43\",\"44\",\"45\",\"46\",\"47\",\"48\",\"49\",\"5\",\"50\",\"51\",\"52\",\"53\",\"54\",\"55\",\"56\",\"57\",\"58\",\"59\",\"6\",\"60\",\"61\",\"62\",\"63\",\"64\",\"65\",\"66\",\"67\",\"68\",\"69\",\"7\",\"70\",\"71\",\"72\",\"73\",\"74\",\"75\",\"76\",\"77\",\"78\",\"79\",\"8\",\"80\",\"81\",\"82\",\"83\",\"84\",\"85\",\"86\",\"87\",\"88\",\"89\",\"9\",\"90\",\"91\",\"92\",\"93\",\"94\",\"95\",\"96\",\"97\",\"98\",\"99\"],\"xaxis\":\"x\",\"y\":[0.05,0.05,0.05,0.05,0.05,0.05,0.05,0.05,0.05,0.05,0.05,0.05,0.05,0.05,0.05,0.05,0.05,0.05,0.05,0.05,0.05,0.05,0.05,0.05,0.05,0.05,0.05,0.05,0.05,0.05,0.05,0.05,0.05,0.05,0.05,0.05,0.05,0.05,0.05,0.05,0.05,0.05,0.05,0.05,0.05,0.05,0.05,0.05,0.05,0.05,0.05,0.05,0.05,0.05,0.05,0.05,0.05,0.05,0.05,0.05,0.05,0.05,0.05,0.05,0.05,0.05,0.05,0.05,0.05,0.05,0.05,0.05,0.05,0.05,0.05,0.05,0.05,0.05,0.05,0.05,0.05,0.05,0.05,0.05,0.05,0.05,0.05,0.05,0.05,0.05,0.05,0.05,0.05,0.05,0.05,0.05,0.05,0.05,0.05,0.05],\"yaxis\":\"y\",\"type\":\"scatter\"},{\"hovertemplate\":\"index=T-cells\\u003cbr\\u003evariable=%{x}\\u003cbr\\u003evalue=%{y}\\u003cextra\\u003e\\u003c\\u002fextra\\u003e\",\"legendgroup\":\"T-cells\",\"line\":{\"color\":\"#EF553B\",\"dash\":\"solid\"},\"marker\":{\"symbol\":\"circle\"},\"mode\":\"lines\",\"name\":\"T-cells\",\"orientation\":\"v\",\"showlegend\":true,\"x\":[\"0\",\"1\",\"10\",\"11\",\"12\",\"13\",\"14\",\"15\",\"16\",\"17\",\"18\",\"19\",\"2\",\"20\",\"21\",\"22\",\"23\",\"24\",\"25\",\"26\",\"27\",\"28\",\"29\",\"3\",\"30\",\"31\",\"32\",\"33\",\"34\",\"35\",\"36\",\"37\",\"38\",\"39\",\"4\",\"40\",\"41\",\"42\",\"43\",\"44\",\"45\",\"46\",\"47\",\"48\",\"49\",\"5\",\"50\",\"51\",\"52\",\"53\",\"54\",\"55\",\"56\",\"57\",\"58\",\"59\",\"6\",\"60\",\"61\",\"62\",\"63\",\"64\",\"65\",\"66\",\"67\",\"68\",\"69\",\"7\",\"70\",\"71\",\"72\",\"73\",\"74\",\"75\",\"76\",\"77\",\"78\",\"79\",\"8\",\"80\",\"81\",\"82\",\"83\",\"84\",\"85\",\"86\",\"87\",\"88\",\"89\",\"9\",\"90\",\"91\",\"92\",\"93\",\"94\",\"95\",\"96\",\"97\",\"98\",\"99\"],\"xaxis\":\"x\",\"y\":[0.5,0.5,0.5,0.5,0.5,0.5,0.5,0.5,0.5,0.5,0.5,0.5,0.5,0.5,0.5,0.5,0.5,0.5,0.5,0.5,0.5,0.5,0.5,0.5,0.5,0.5,0.5,0.5,0.5,0.5,0.5,0.5,0.5,0.5,0.5,0.5,0.5,0.5,0.5,0.5,0.5,0.5,0.5,0.5,0.5,0.5,0.5,0.5,0.5,0.5,0.5,0.5,0.5,0.5,0.5,0.5,0.5,0.5,0.5,0.5,0.5,0.5,0.5,0.5,0.5,0.5,0.5,0.5,0.5,0.5,0.5,0.5,0.5,0.5,0.5,0.5,0.5,0.5,0.5,0.5,0.5,0.5,0.5,0.5,0.5,0.5,0.5,0.5,0.5,0.5,0.5,0.5,0.5,0.5,0.5,0.5,0.5,0.5,0.5,0.5],\"yaxis\":\"y\",\"type\":\"scatter\"},{\"hovertemplate\":\"index=Platelets\\u003cbr\\u003evariable=%{x}\\u003cbr\\u003evalue=%{y}\\u003cextra\\u003e\\u003c\\u002fextra\\u003e\",\"legendgroup\":\"Platelets\",\"line\":{\"color\":\"#00cc96\",\"dash\":\"solid\"},\"marker\":{\"symbol\":\"circle\"},\"mode\":\"lines\",\"name\":\"Platelets\",\"orientation\":\"v\",\"showlegend\":true,\"x\":[\"0\",\"1\",\"10\",\"11\",\"12\",\"13\",\"14\",\"15\",\"16\",\"17\",\"18\",\"19\",\"2\",\"20\",\"21\",\"22\",\"23\",\"24\",\"25\",\"26\",\"27\",\"28\",\"29\",\"3\",\"30\",\"31\",\"32\",\"33\",\"34\",\"35\",\"36\",\"37\",\"38\",\"39\",\"4\",\"40\",\"41\",\"42\",\"43\",\"44\",\"45\",\"46\",\"47\",\"48\",\"49\",\"5\",\"50\",\"51\",\"52\",\"53\",\"54\",\"55\",\"56\",\"57\",\"58\",\"59\",\"6\",\"60\",\"61\",\"62\",\"63\",\"64\",\"65\",\"66\",\"67\",\"68\",\"69\",\"7\",\"70\",\"71\",\"72\",\"73\",\"74\",\"75\",\"76\",\"77\",\"78\",\"79\",\"8\",\"80\",\"81\",\"82\",\"83\",\"84\",\"85\",\"86\",\"87\",\"88\",\"89\",\"9\",\"90\",\"91\",\"92\",\"93\",\"94\",\"95\",\"96\",\"97\",\"98\",\"99\"],\"xaxis\":\"x\",\"y\":[0.05,0.05,0.05,0.05,0.05,0.05,0.05,0.05,0.05,0.05,0.05,0.05,0.05,0.05,0.05,0.05,0.05,0.05,0.05,0.05,0.05,0.05,0.05,0.05,0.05,0.05,0.05,0.05,0.05,0.05,0.05,0.05,0.05,0.05,0.05,0.05,0.05,0.05,0.05,0.05,0.05,0.05,0.05,0.05,0.05,0.05,0.05,0.05,0.05,0.05,0.05,0.05,0.05,0.05,0.05,0.05,0.05,0.05,0.05,0.05,0.05,0.05,0.05,0.05,0.05,0.05,0.05,0.05,0.05,0.05,0.05,0.05,0.05,0.05,0.05,0.05,0.05,0.05,0.05,0.05,0.05,0.05,0.05,0.05,0.05,0.05,0.05,0.05,0.05,0.05,0.05,0.05,0.05,0.05,0.05,0.05,0.05,0.05,0.05,0.05],\"yaxis\":\"y\",\"type\":\"scatter\"},{\"hovertemplate\":\"index=Dendritic cells\\u003cbr\\u003evariable=%{x}\\u003cbr\\u003evalue=%{y}\\u003cextra\\u003e\\u003c\\u002fextra\\u003e\",\"legendgroup\":\"Dendritic cells\",\"line\":{\"color\":\"#ab63fa\",\"dash\":\"solid\"},\"marker\":{\"symbol\":\"circle\"},\"mode\":\"lines\",\"name\":\"Dendritic cells\",\"orientation\":\"v\",\"showlegend\":true,\"x\":[\"0\",\"1\",\"10\",\"11\",\"12\",\"13\",\"14\",\"15\",\"16\",\"17\",\"18\",\"19\",\"2\",\"20\",\"21\",\"22\",\"23\",\"24\",\"25\",\"26\",\"27\",\"28\",\"29\",\"3\",\"30\",\"31\",\"32\",\"33\",\"34\",\"35\",\"36\",\"37\",\"38\",\"39\",\"4\",\"40\",\"41\",\"42\",\"43\",\"44\",\"45\",\"46\",\"47\",\"48\",\"49\",\"5\",\"50\",\"51\",\"52\",\"53\",\"54\",\"55\",\"56\",\"57\",\"58\",\"59\",\"6\",\"60\",\"61\",\"62\",\"63\",\"64\",\"65\",\"66\",\"67\",\"68\",\"69\",\"7\",\"70\",\"71\",\"72\",\"73\",\"74\",\"75\",\"76\",\"77\",\"78\",\"79\",\"8\",\"80\",\"81\",\"82\",\"83\",\"84\",\"85\",\"86\",\"87\",\"88\",\"89\",\"9\",\"90\",\"91\",\"92\",\"93\",\"94\",\"95\",\"96\",\"97\",\"98\",\"99\"],\"xaxis\":\"x\",\"y\":[0.05,0.05,0.05,0.05,0.05,0.05,0.05,0.05,0.05,0.05,0.05,0.05,0.05,0.05,0.05,0.05,0.05,0.05,0.05,0.05,0.05,0.05,0.05,0.05,0.05,0.05,0.05,0.05,0.05,0.05,0.05,0.05,0.05,0.05,0.05,0.05,0.05,0.05,0.05,0.05,0.05,0.05,0.05,0.05,0.05,0.05,0.05,0.05,0.05,0.05,0.05,0.05,0.05,0.05,0.05,0.05,0.05,0.05,0.05,0.05,0.05,0.05,0.05,0.05,0.05,0.05,0.05,0.05,0.05,0.05,0.05,0.05,0.05,0.05,0.05,0.05,0.05,0.05,0.05,0.05,0.05,0.05,0.05,0.05,0.05,0.05,0.05,0.05,0.05,0.05,0.05,0.05,0.05,0.05,0.05,0.05,0.05,0.05,0.05,0.05],\"yaxis\":\"y\",\"type\":\"scatter\"},{\"hovertemplate\":\"index=B-cells\\u003cbr\\u003evariable=%{x}\\u003cbr\\u003evalue=%{y}\\u003cextra\\u003e\\u003c\\u002fextra\\u003e\",\"legendgroup\":\"B-cells\",\"line\":{\"color\":\"#FFA15A\",\"dash\":\"solid\"},\"marker\":{\"symbol\":\"circle\"},\"mode\":\"lines\",\"name\":\"B-cells\",\"orientation\":\"v\",\"showlegend\":true,\"x\":[\"0\",\"1\",\"10\",\"11\",\"12\",\"13\",\"14\",\"15\",\"16\",\"17\",\"18\",\"19\",\"2\",\"20\",\"21\",\"22\",\"23\",\"24\",\"25\",\"26\",\"27\",\"28\",\"29\",\"3\",\"30\",\"31\",\"32\",\"33\",\"34\",\"35\",\"36\",\"37\",\"38\",\"39\",\"4\",\"40\",\"41\",\"42\",\"43\",\"44\",\"45\",\"46\",\"47\",\"48\",\"49\",\"5\",\"50\",\"51\",\"52\",\"53\",\"54\",\"55\",\"56\",\"57\",\"58\",\"59\",\"6\",\"60\",\"61\",\"62\",\"63\",\"64\",\"65\",\"66\",\"67\",\"68\",\"69\",\"7\",\"70\",\"71\",\"72\",\"73\",\"74\",\"75\",\"76\",\"77\",\"78\",\"79\",\"8\",\"80\",\"81\",\"82\",\"83\",\"84\",\"85\",\"86\",\"87\",\"88\",\"89\",\"9\",\"90\",\"91\",\"92\",\"93\",\"94\",\"95\",\"96\",\"97\",\"98\",\"99\"],\"xaxis\":\"x\",\"y\":[0.05,0.05,0.05,0.05,0.05,0.05,0.05,0.05,0.05,0.05,0.05,0.05,0.05,0.05,0.05,0.05,0.05,0.05,0.05,0.05,0.05,0.05,0.05,0.05,0.05,0.05,0.05,0.05,0.05,0.05,0.05,0.05,0.05,0.05,0.05,0.05,0.05,0.05,0.05,0.05,0.05,0.05,0.05,0.05,0.05,0.05,0.05,0.05,0.05,0.05,0.05,0.05,0.05,0.05,0.05,0.05,0.05,0.05,0.05,0.05,0.05,0.05,0.05,0.05,0.05,0.05,0.05,0.05,0.05,0.05,0.05,0.05,0.05,0.05,0.05,0.05,0.05,0.05,0.05,0.05,0.05,0.05,0.05,0.05,0.05,0.05,0.05,0.05,0.05,0.05,0.05,0.05,0.05,0.05,0.05,0.05,0.05,0.05,0.05,0.05],\"yaxis\":\"y\",\"type\":\"scatter\"},{\"hovertemplate\":\"index=Nk-cells\\u003cbr\\u003evariable=%{x}\\u003cbr\\u003evalue=%{y}\\u003cextra\\u003e\\u003c\\u002fextra\\u003e\",\"legendgroup\":\"Nk-cells\",\"line\":{\"color\":\"#19d3f3\",\"dash\":\"solid\"},\"marker\":{\"symbol\":\"circle\"},\"mode\":\"lines\",\"name\":\"Nk-cells\",\"orientation\":\"v\",\"showlegend\":true,\"x\":[\"0\",\"1\",\"10\",\"11\",\"12\",\"13\",\"14\",\"15\",\"16\",\"17\",\"18\",\"19\",\"2\",\"20\",\"21\",\"22\",\"23\",\"24\",\"25\",\"26\",\"27\",\"28\",\"29\",\"3\",\"30\",\"31\",\"32\",\"33\",\"34\",\"35\",\"36\",\"37\",\"38\",\"39\",\"4\",\"40\",\"41\",\"42\",\"43\",\"44\",\"45\",\"46\",\"47\",\"48\",\"49\",\"5\",\"50\",\"51\",\"52\",\"53\",\"54\",\"55\",\"56\",\"57\",\"58\",\"59\",\"6\",\"60\",\"61\",\"62\",\"63\",\"64\",\"65\",\"66\",\"67\",\"68\",\"69\",\"7\",\"70\",\"71\",\"72\",\"73\",\"74\",\"75\",\"76\",\"77\",\"78\",\"79\",\"8\",\"80\",\"81\",\"82\",\"83\",\"84\",\"85\",\"86\",\"87\",\"88\",\"89\",\"9\",\"90\",\"91\",\"92\",\"93\",\"94\",\"95\",\"96\",\"97\",\"98\",\"99\"],\"xaxis\":\"x\",\"y\":[0.1,0.1,0.1,0.1,0.1,0.1,0.1,0.1,0.1,0.1,0.1,0.1,0.1,0.1,0.1,0.1,0.1,0.1,0.1,0.1,0.1,0.1,0.1,0.1,0.1,0.1,0.1,0.1,0.1,0.1,0.1,0.1,0.1,0.1,0.1,0.1,0.1,0.1,0.1,0.1,0.1,0.1,0.1,0.1,0.1,0.1,0.1,0.1,0.1,0.1,0.1,0.1,0.1,0.1,0.1,0.1,0.1,0.1,0.1,0.1,0.1,0.1,0.1,0.1,0.1,0.1,0.1,0.1,0.1,0.1,0.1,0.1,0.1,0.1,0.1,0.1,0.1,0.1,0.1,0.1,0.1,0.1,0.1,0.1,0.1,0.1,0.1,0.1,0.1,0.1,0.1,0.1,0.1,0.1,0.1,0.1,0.1,0.1,0.1,0.1],\"yaxis\":\"y\",\"type\":\"scatter\"},{\"hovertemplate\":\"index=Macrophages\\u003cbr\\u003evariable=%{x}\\u003cbr\\u003evalue=%{y}\\u003cextra\\u003e\\u003c\\u002fextra\\u003e\",\"legendgroup\":\"Macrophages\",\"line\":{\"color\":\"#FF6692\",\"dash\":\"solid\"},\"marker\":{\"symbol\":\"circle\"},\"mode\":\"lines\",\"name\":\"Macrophages\",\"orientation\":\"v\",\"showlegend\":true,\"x\":[\"0\",\"1\",\"10\",\"11\",\"12\",\"13\",\"14\",\"15\",\"16\",\"17\",\"18\",\"19\",\"2\",\"20\",\"21\",\"22\",\"23\",\"24\",\"25\",\"26\",\"27\",\"28\",\"29\",\"3\",\"30\",\"31\",\"32\",\"33\",\"34\",\"35\",\"36\",\"37\",\"38\",\"39\",\"4\",\"40\",\"41\",\"42\",\"43\",\"44\",\"45\",\"46\",\"47\",\"48\",\"49\",\"5\",\"50\",\"51\",\"52\",\"53\",\"54\",\"55\",\"56\",\"57\",\"58\",\"59\",\"6\",\"60\",\"61\",\"62\",\"63\",\"64\",\"65\",\"66\",\"67\",\"68\",\"69\",\"7\",\"70\",\"71\",\"72\",\"73\",\"74\",\"75\",\"76\",\"77\",\"78\",\"79\",\"8\",\"80\",\"81\",\"82\",\"83\",\"84\",\"85\",\"86\",\"87\",\"88\",\"89\",\"9\",\"90\",\"91\",\"92\",\"93\",\"94\",\"95\",\"96\",\"97\",\"98\",\"99\"],\"xaxis\":\"x\",\"y\":[0.2,0.2,0.2,0.2,0.2,0.2,0.2,0.2,0.2,0.2,0.2,0.2,0.2,0.2,0.2,0.2,0.2,0.2,0.2,0.2,0.2,0.2,0.2,0.2,0.2,0.2,0.2,0.2,0.2,0.2,0.2,0.2,0.2,0.2,0.2,0.2,0.2,0.2,0.2,0.2,0.2,0.2,0.2,0.2,0.2,0.2,0.2,0.2,0.2,0.2,0.2,0.2,0.2,0.2,0.2,0.2,0.2,0.2,0.2,0.2,0.2,0.2,0.2,0.2,0.2,0.2,0.2,0.2,0.2,0.2,0.2,0.2,0.2,0.2,0.2,0.2,0.2,0.2,0.2,0.2,0.2,0.2,0.2,0.2,0.2,0.2,0.2,0.2,0.2,0.2,0.2,0.2,0.2,0.2,0.2,0.2,0.2,0.2,0.2,0.2],\"yaxis\":\"y\",\"type\":\"scatter\"}],                        {\"template\":{\"data\":{\"histogram2dcontour\":[{\"type\":\"histogram2dcontour\",\"colorbar\":{\"outlinewidth\":0,\"ticks\":\"\"},\"colorscale\":[[0.0,\"#0d0887\"],[0.1111111111111111,\"#46039f\"],[0.2222222222222222,\"#7201a8\"],[0.3333333333333333,\"#9c179e\"],[0.4444444444444444,\"#bd3786\"],[0.5555555555555556,\"#d8576b\"],[0.6666666666666666,\"#ed7953\"],[0.7777777777777778,\"#fb9f3a\"],[0.8888888888888888,\"#fdca26\"],[1.0,\"#f0f921\"]]}],\"choropleth\":[{\"type\":\"choropleth\",\"colorbar\":{\"outlinewidth\":0,\"ticks\":\"\"}}],\"histogram2d\":[{\"type\":\"histogram2d\",\"colorbar\":{\"outlinewidth\":0,\"ticks\":\"\"},\"colorscale\":[[0.0,\"#0d0887\"],[0.1111111111111111,\"#46039f\"],[0.2222222222222222,\"#7201a8\"],[0.3333333333333333,\"#9c179e\"],[0.4444444444444444,\"#bd3786\"],[0.5555555555555556,\"#d8576b\"],[0.6666666666666666,\"#ed7953\"],[0.7777777777777778,\"#fb9f3a\"],[0.8888888888888888,\"#fdca26\"],[1.0,\"#f0f921\"]]}],\"heatmap\":[{\"type\":\"heatmap\",\"colorbar\":{\"outlinewidth\":0,\"ticks\":\"\"},\"colorscale\":[[0.0,\"#0d0887\"],[0.1111111111111111,\"#46039f\"],[0.2222222222222222,\"#7201a8\"],[0.3333333333333333,\"#9c179e\"],[0.4444444444444444,\"#bd3786\"],[0.5555555555555556,\"#d8576b\"],[0.6666666666666666,\"#ed7953\"],[0.7777777777777778,\"#fb9f3a\"],[0.8888888888888888,\"#fdca26\"],[1.0,\"#f0f921\"]]}],\"heatmapgl\":[{\"type\":\"heatmapgl\",\"colorbar\":{\"outlinewidth\":0,\"ticks\":\"\"},\"colorscale\":[[0.0,\"#0d0887\"],[0.1111111111111111,\"#46039f\"],[0.2222222222222222,\"#7201a8\"],[0.3333333333333333,\"#9c179e\"],[0.4444444444444444,\"#bd3786\"],[0.5555555555555556,\"#d8576b\"],[0.6666666666666666,\"#ed7953\"],[0.7777777777777778,\"#fb9f3a\"],[0.8888888888888888,\"#fdca26\"],[1.0,\"#f0f921\"]]}],\"contourcarpet\":[{\"type\":\"contourcarpet\",\"colorbar\":{\"outlinewidth\":0,\"ticks\":\"\"}}],\"contour\":[{\"type\":\"contour\",\"colorbar\":{\"outlinewidth\":0,\"ticks\":\"\"},\"colorscale\":[[0.0,\"#0d0887\"],[0.1111111111111111,\"#46039f\"],[0.2222222222222222,\"#7201a8\"],[0.3333333333333333,\"#9c179e\"],[0.4444444444444444,\"#bd3786\"],[0.5555555555555556,\"#d8576b\"],[0.6666666666666666,\"#ed7953\"],[0.7777777777777778,\"#fb9f3a\"],[0.8888888888888888,\"#fdca26\"],[1.0,\"#f0f921\"]]}],\"surface\":[{\"type\":\"surface\",\"colorbar\":{\"outlinewidth\":0,\"ticks\":\"\"},\"colorscale\":[[0.0,\"#0d0887\"],[0.1111111111111111,\"#46039f\"],[0.2222222222222222,\"#7201a8\"],[0.3333333333333333,\"#9c179e\"],[0.4444444444444444,\"#bd3786\"],[0.5555555555555556,\"#d8576b\"],[0.6666666666666666,\"#ed7953\"],[0.7777777777777778,\"#fb9f3a\"],[0.8888888888888888,\"#fdca26\"],[1.0,\"#f0f921\"]]}],\"mesh3d\":[{\"type\":\"mesh3d\",\"colorbar\":{\"outlinewidth\":0,\"ticks\":\"\"}}],\"scatter\":[{\"fillpattern\":{\"fillmode\":\"overlay\",\"size\":10,\"solidity\":0.2},\"type\":\"scatter\"}],\"parcoords\":[{\"type\":\"parcoords\",\"line\":{\"colorbar\":{\"outlinewidth\":0,\"ticks\":\"\"}}}],\"scatterpolargl\":[{\"type\":\"scatterpolargl\",\"marker\":{\"colorbar\":{\"outlinewidth\":0,\"ticks\":\"\"}}}],\"bar\":[{\"error_x\":{\"color\":\"#2a3f5f\"},\"error_y\":{\"color\":\"#2a3f5f\"},\"marker\":{\"line\":{\"color\":\"#E5ECF6\",\"width\":0.5},\"pattern\":{\"fillmode\":\"overlay\",\"size\":10,\"solidity\":0.2}},\"type\":\"bar\"}],\"scattergeo\":[{\"type\":\"scattergeo\",\"marker\":{\"colorbar\":{\"outlinewidth\":0,\"ticks\":\"\"}}}],\"scatterpolar\":[{\"type\":\"scatterpolar\",\"marker\":{\"colorbar\":{\"outlinewidth\":0,\"ticks\":\"\"}}}],\"histogram\":[{\"marker\":{\"pattern\":{\"fillmode\":\"overlay\",\"size\":10,\"solidity\":0.2}},\"type\":\"histogram\"}],\"scattergl\":[{\"type\":\"scattergl\",\"marker\":{\"colorbar\":{\"outlinewidth\":0,\"ticks\":\"\"}}}],\"scatter3d\":[{\"type\":\"scatter3d\",\"line\":{\"colorbar\":{\"outlinewidth\":0,\"ticks\":\"\"}},\"marker\":{\"colorbar\":{\"outlinewidth\":0,\"ticks\":\"\"}}}],\"scattermapbox\":[{\"type\":\"scattermapbox\",\"marker\":{\"colorbar\":{\"outlinewidth\":0,\"ticks\":\"\"}}}],\"scatterternary\":[{\"type\":\"scatterternary\",\"marker\":{\"colorbar\":{\"outlinewidth\":0,\"ticks\":\"\"}}}],\"scattercarpet\":[{\"type\":\"scattercarpet\",\"marker\":{\"colorbar\":{\"outlinewidth\":0,\"ticks\":\"\"}}}],\"carpet\":[{\"aaxis\":{\"endlinecolor\":\"#2a3f5f\",\"gridcolor\":\"white\",\"linecolor\":\"white\",\"minorgridcolor\":\"white\",\"startlinecolor\":\"#2a3f5f\"},\"baxis\":{\"endlinecolor\":\"#2a3f5f\",\"gridcolor\":\"white\",\"linecolor\":\"white\",\"minorgridcolor\":\"white\",\"startlinecolor\":\"#2a3f5f\"},\"type\":\"carpet\"}],\"table\":[{\"cells\":{\"fill\":{\"color\":\"#EBF0F8\"},\"line\":{\"color\":\"white\"}},\"header\":{\"fill\":{\"color\":\"#C8D4E3\"},\"line\":{\"color\":\"white\"}},\"type\":\"table\"}],\"barpolar\":[{\"marker\":{\"line\":{\"color\":\"#E5ECF6\",\"width\":0.5},\"pattern\":{\"fillmode\":\"overlay\",\"size\":10,\"solidity\":0.2}},\"type\":\"barpolar\"}],\"pie\":[{\"automargin\":true,\"type\":\"pie\"}]},\"layout\":{\"autotypenumbers\":\"strict\",\"colorway\":[\"#636efa\",\"#EF553B\",\"#00cc96\",\"#ab63fa\",\"#FFA15A\",\"#19d3f3\",\"#FF6692\",\"#B6E880\",\"#FF97FF\",\"#FECB52\"],\"font\":{\"color\":\"#2a3f5f\"},\"hovermode\":\"closest\",\"hoverlabel\":{\"align\":\"left\"},\"paper_bgcolor\":\"white\",\"plot_bgcolor\":\"#E5ECF6\",\"polar\":{\"bgcolor\":\"#E5ECF6\",\"angularaxis\":{\"gridcolor\":\"white\",\"linecolor\":\"white\",\"ticks\":\"\"},\"radialaxis\":{\"gridcolor\":\"white\",\"linecolor\":\"white\",\"ticks\":\"\"}},\"ternary\":{\"bgcolor\":\"#E5ECF6\",\"aaxis\":{\"gridcolor\":\"white\",\"linecolor\":\"white\",\"ticks\":\"\"},\"baxis\":{\"gridcolor\":\"white\",\"linecolor\":\"white\",\"ticks\":\"\"},\"caxis\":{\"gridcolor\":\"white\",\"linecolor\":\"white\",\"ticks\":\"\"}},\"coloraxis\":{\"colorbar\":{\"outlinewidth\":0,\"ticks\":\"\"}},\"colorscale\":{\"sequential\":[[0.0,\"#0d0887\"],[0.1111111111111111,\"#46039f\"],[0.2222222222222222,\"#7201a8\"],[0.3333333333333333,\"#9c179e\"],[0.4444444444444444,\"#bd3786\"],[0.5555555555555556,\"#d8576b\"],[0.6666666666666666,\"#ed7953\"],[0.7777777777777778,\"#fb9f3a\"],[0.8888888888888888,\"#fdca26\"],[1.0,\"#f0f921\"]],\"sequentialminus\":[[0.0,\"#0d0887\"],[0.1111111111111111,\"#46039f\"],[0.2222222222222222,\"#7201a8\"],[0.3333333333333333,\"#9c179e\"],[0.4444444444444444,\"#bd3786\"],[0.5555555555555556,\"#d8576b\"],[0.6666666666666666,\"#ed7953\"],[0.7777777777777778,\"#fb9f3a\"],[0.8888888888888888,\"#fdca26\"],[1.0,\"#f0f921\"]],\"diverging\":[[0,\"#8e0152\"],[0.1,\"#c51b7d\"],[0.2,\"#de77ae\"],[0.3,\"#f1b6da\"],[0.4,\"#fde0ef\"],[0.5,\"#f7f7f7\"],[0.6,\"#e6f5d0\"],[0.7,\"#b8e186\"],[0.8,\"#7fbc41\"],[0.9,\"#4d9221\"],[1,\"#276419\"]]},\"xaxis\":{\"gridcolor\":\"white\",\"linecolor\":\"white\",\"ticks\":\"\",\"title\":{\"standoff\":15},\"zerolinecolor\":\"white\",\"automargin\":true,\"zerolinewidth\":2},\"yaxis\":{\"gridcolor\":\"white\",\"linecolor\":\"white\",\"ticks\":\"\",\"title\":{\"standoff\":15},\"zerolinecolor\":\"white\",\"automargin\":true,\"zerolinewidth\":2},\"scene\":{\"xaxis\":{\"backgroundcolor\":\"#E5ECF6\",\"gridcolor\":\"white\",\"linecolor\":\"white\",\"showbackground\":true,\"ticks\":\"\",\"zerolinecolor\":\"white\",\"gridwidth\":2},\"yaxis\":{\"backgroundcolor\":\"#E5ECF6\",\"gridcolor\":\"white\",\"linecolor\":\"white\",\"showbackground\":true,\"ticks\":\"\",\"zerolinecolor\":\"white\",\"gridwidth\":2},\"zaxis\":{\"backgroundcolor\":\"#E5ECF6\",\"gridcolor\":\"white\",\"linecolor\":\"white\",\"showbackground\":true,\"ticks\":\"\",\"zerolinecolor\":\"white\",\"gridwidth\":2}},\"shapedefaults\":{\"line\":{\"color\":\"#2a3f5f\"}},\"annotationdefaults\":{\"arrowcolor\":\"#2a3f5f\",\"arrowhead\":0,\"arrowwidth\":1},\"geo\":{\"bgcolor\":\"white\",\"landcolor\":\"#E5ECF6\",\"subunitcolor\":\"white\",\"showland\":true,\"showlakes\":true,\"lakecolor\":\"white\"},\"title\":{\"x\":0.05},\"mapbox\":{\"style\":\"light\"}}},\"xaxis\":{\"anchor\":\"y\",\"domain\":[0.0,1.0],\"title\":{\"text\":\"Simulation\"}},\"yaxis\":{\"anchor\":\"x\",\"domain\":[0.0,1.0],\"title\":{\"text\":\"Percent Composition\"}},\"legend\":{\"title\":{\"text\":\"Cell Types (CTs)\"},\"tracegroupgap\":0},\"margin\":{\"t\":60},\"title\":{\"text\":\"Percent Composition Across Simulations with 0 Variance\"}},                        {\"responsive\": true}                    ).then(function(){\n",
       "                            \n",
       "var gd = document.getElementById('f7b785f7-65ff-4d50-8873-ec4c1c62b2ea');\n",
       "var x = new MutationObserver(function (mutations, observer) {{\n",
       "        var display = window.getComputedStyle(gd).display;\n",
       "        if (!display || display === 'none') {{\n",
       "            console.log([gd, 'removed!']);\n",
       "            Plotly.purge(gd);\n",
       "            observer.disconnect();\n",
       "        }}\n",
       "}});\n",
       "\n",
       "// Listen for the removal of the full notebook cells\n",
       "var notebookContainer = gd.closest('#notebook-container');\n",
       "if (notebookContainer) {{\n",
       "    x.observe(notebookContainer, {childList: true});\n",
       "}}\n",
       "\n",
       "// Listen for the clearing of the current output cell\n",
       "var outputEl = gd.closest('.output');\n",
       "if (outputEl) {{\n",
       "    x.observe(outputEl, {childList: true});\n",
       "}}\n",
       "\n",
       "                        })                };                });            </script>        </div>"
      ]
     },
     "metadata": {},
     "output_type": "display_data"
    },
    {
     "data": {
      "application/vnd.plotly.v1+json": {
       "config": {
        "plotlyServerURL": "https://plot.ly"
       },
       "data": [
        {
         "hovertemplate": "index=Platelets<br>variable=%{x}<br>value=%{y}<extra></extra>",
         "legendgroup": "Platelets",
         "line": {
          "color": "#636efa",
          "dash": "solid"
         },
         "marker": {
          "symbol": "circle"
         },
         "mode": "lines",
         "name": "Platelets",
         "orientation": "v",
         "showlegend": true,
         "type": "scatter",
         "x": [
          "0",
          "1",
          "10",
          "11",
          "12",
          "13",
          "14",
          "15",
          "16",
          "17",
          "18",
          "19",
          "2",
          "20",
          "21",
          "22",
          "23",
          "24",
          "25",
          "26",
          "27",
          "28",
          "29",
          "3",
          "30",
          "31",
          "32",
          "33",
          "34",
          "35",
          "36",
          "37",
          "38",
          "39",
          "4",
          "40",
          "41",
          "42",
          "43",
          "44",
          "45",
          "46",
          "47",
          "48",
          "49",
          "5",
          "50",
          "51",
          "52",
          "53",
          "54",
          "55",
          "56",
          "57",
          "58",
          "59",
          "6",
          "60",
          "61",
          "62",
          "63",
          "64",
          "65",
          "66",
          "67",
          "68",
          "69",
          "7",
          "70",
          "71",
          "72",
          "73",
          "74",
          "75",
          "76",
          "77",
          "78",
          "79",
          "8",
          "80",
          "81",
          "82",
          "83",
          "84",
          "85",
          "86",
          "87",
          "88",
          "89",
          "9",
          "90",
          "91",
          "92",
          "93",
          "94",
          "95",
          "96",
          "97",
          "98",
          "99"
         ],
         "xaxis": "x",
         "y": [
          0.104,
          0.029080675422138838,
          0.12,
          0.027079303675048357,
          0,
          0.094,
          0.012999071494893221,
          0.11288805268109126,
          0.128,
          0.04318618042226487,
          0.059,
          0.09799382716049383,
          0.11826226870474658,
          0.04803921568627451,
          0.06338028169014084,
          0.03,
          0,
          0.08,
          0.055,
          0.111,
          0.045,
          0.131,
          0.059,
          0.009,
          0.116,
          0.06401551891367604,
          0.079,
          0.045,
          0.11178509532062392,
          0.046218487394957986,
          0.142,
          0.068,
          0,
          0.033,
          0.085,
          0.031,
          0.011320754716981131,
          0.012081784386617101,
          0.024,
          0.235,
          0.144,
          0.068,
          0.03,
          0.108,
          0.007,
          0.009737098344693282,
          0.1181026137463698,
          0.025,
          0.008,
          0.03194321206743567,
          0.054,
          0.005,
          0.061,
          0.145,
          0.06679035250463822,
          0.10493343774471417,
          0.08,
          0.081,
          0.136,
          0.147,
          0.03038427167113494,
          0.109,
          0.008,
          0.011337868480725623,
          0.085,
          0.05392156862745098,
          0.14173998044965788,
          0.1320582877959927,
          0.041,
          0,
          0.03,
          0.083,
          0,
          0.03527336860670194,
          0.055445544554455446,
          0.021,
          0.024,
          0.213,
          0.147,
          0.099,
          0.042435424354243544,
          0.005,
          0.066,
          0.13,
          0,
          0.016,
          0.084,
          0.093,
          0.124,
          0.074,
          0.088,
          0.141,
          0.1348314606741573,
          0.005644402634054563,
          0.012,
          0.142,
          0.05358686257562662,
          0.09853068280034573,
          0.004,
          0.1
         ],
         "yaxis": "y"
        },
        {
         "hovertemplate": "index=Dendritic cells<br>variable=%{x}<br>value=%{y}<extra></extra>",
         "legendgroup": "Dendritic cells",
         "line": {
          "color": "#EF553B",
          "dash": "solid"
         },
         "marker": {
          "symbol": "circle"
         },
         "mode": "lines",
         "name": "Dendritic cells",
         "orientation": "v",
         "showlegend": true,
         "type": "scatter",
         "x": [
          "0",
          "1",
          "10",
          "11",
          "12",
          "13",
          "14",
          "15",
          "16",
          "17",
          "18",
          "19",
          "2",
          "20",
          "21",
          "22",
          "23",
          "24",
          "25",
          "26",
          "27",
          "28",
          "29",
          "3",
          "30",
          "31",
          "32",
          "33",
          "34",
          "35",
          "36",
          "37",
          "38",
          "39",
          "4",
          "40",
          "41",
          "42",
          "43",
          "44",
          "45",
          "46",
          "47",
          "48",
          "49",
          "5",
          "50",
          "51",
          "52",
          "53",
          "54",
          "55",
          "56",
          "57",
          "58",
          "59",
          "6",
          "60",
          "61",
          "62",
          "63",
          "64",
          "65",
          "66",
          "67",
          "68",
          "69",
          "7",
          "70",
          "71",
          "72",
          "73",
          "74",
          "75",
          "76",
          "77",
          "78",
          "79",
          "8",
          "80",
          "81",
          "82",
          "83",
          "84",
          "85",
          "86",
          "87",
          "88",
          "89",
          "9",
          "90",
          "91",
          "92",
          "93",
          "94",
          "95",
          "96",
          "97",
          "98",
          "99"
         ],
         "xaxis": "x",
         "y": [
          0.022,
          0.10881801125703565,
          0.125,
          0.12959381044487428,
          0.07609668755595345,
          0.063,
          0.10677808727948004,
          0.09689557855126998,
          0.11,
          0.1218809980806142,
          0.023,
          0.10648148148148148,
          0.07079646017699115,
          0.049019607843137254,
          0.10123239436619719,
          0.133,
          0.08757819481680071,
          0.009,
          0.007,
          0.06,
          0.018,
          0.048,
          0.068,
          0.134,
          0.055,
          0.041707080504364696,
          0.232,
          0.067,
          0.12478336221837089,
          0.0949579831932773,
          0.135,
          0.13,
          0.028769841269841268,
          0.139,
          0.03,
          0.015,
          0,
          0.1171003717472119,
          0.014,
          0.065,
          0.019,
          0,
          0.088,
          0.049,
          0.104,
          0.11781888997078871,
          0,
          0.144,
          0.115,
          0.062111801242236024,
          0.019,
          0.005,
          0.042,
          0.095,
          0.012059369202226345,
          0.07204385277995301,
          0.051,
          0.029,
          0.028,
          0.034,
          0,
          0.018,
          0.07,
          0,
          0.122,
          0,
          0,
          0,
          0.026,
          0.10043668122270742,
          0.108,
          0.127,
          0.06640625,
          0.12169312169312169,
          0.04455445544554455,
          0.142,
          0.021,
          0.012,
          0.044,
          0.022,
          0.08671586715867159,
          0.251,
          0.064,
          0.063,
          0.01998001998001998,
          0.12,
          0.036,
          0.099,
          0.094,
          0.093,
          0.005,
          0.149,
          0.08801498127340825,
          0.08654750705550329,
          0.007,
          0.08,
          0,
          0.07000864304235091,
          0.041,
          0.143
         ],
         "yaxis": "y"
        },
        {
         "hovertemplate": "index=Monocytes<br>variable=%{x}<br>value=%{y}<extra></extra>",
         "legendgroup": "Monocytes",
         "line": {
          "color": "#00cc96",
          "dash": "solid"
         },
         "marker": {
          "symbol": "circle"
         },
         "mode": "lines",
         "name": "Monocytes",
         "orientation": "v",
         "showlegend": true,
         "type": "scatter",
         "x": [
          "0",
          "1",
          "10",
          "11",
          "12",
          "13",
          "14",
          "15",
          "16",
          "17",
          "18",
          "19",
          "2",
          "20",
          "21",
          "22",
          "23",
          "24",
          "25",
          "26",
          "27",
          "28",
          "29",
          "3",
          "30",
          "31",
          "32",
          "33",
          "34",
          "35",
          "36",
          "37",
          "38",
          "39",
          "4",
          "40",
          "41",
          "42",
          "43",
          "44",
          "45",
          "46",
          "47",
          "48",
          "49",
          "5",
          "50",
          "51",
          "52",
          "53",
          "54",
          "55",
          "56",
          "57",
          "58",
          "59",
          "6",
          "60",
          "61",
          "62",
          "63",
          "64",
          "65",
          "66",
          "67",
          "68",
          "69",
          "7",
          "70",
          "71",
          "72",
          "73",
          "74",
          "75",
          "76",
          "77",
          "78",
          "79",
          "8",
          "80",
          "81",
          "82",
          "83",
          "84",
          "85",
          "86",
          "87",
          "88",
          "89",
          "9",
          "90",
          "91",
          "92",
          "93",
          "94",
          "95",
          "96",
          "97",
          "98",
          "99"
         ],
         "xaxis": "x",
         "y": [
          0.066,
          0.11538461538461539,
          0.125,
          0,
          0.05998209489704566,
          0.01,
          0.12163416898792943,
          0.021636876763875823,
          0.069,
          0.0067178502879078695,
          0.136,
          0,
          0,
          0.01568627450980392,
          0.08362676056338028,
          0.025,
          0.0902591599642538,
          0.002,
          0.134,
          0.123,
          0.076,
          0.02,
          0.016,
          0.083,
          0.053,
          0.10766246362754607,
          0.007,
          0.028,
          0,
          0.0773109243697479,
          0.003,
          0.033,
          0.03273809523809524,
          0.061,
          0.058,
          0.035,
          0.09622641509433963,
          0,
          0.126,
          0.116,
          0.08,
          0.078,
          0.056,
          0.148,
          0.006,
          0.13047711781888996,
          0.00484027105517909,
          0.076,
          0.093,
          0.08163265306122448,
          0.037,
          0.03,
          0.061,
          0.065,
          0.10204081632653061,
          0.09788566953797964,
          0.048,
          0.118,
          0.138,
          0.048,
          0.09919571045576407,
          0.1,
          0.063,
          0.10506424792139078,
          0.015,
          0.06862745098039216,
          0.006842619745845552,
          0,
          0.109,
          0.09519650655021834,
          0.018,
          0.003,
          0.060546875,
          0.11022927689594356,
          0,
          0.041,
          0.058,
          0.109,
          0.097,
          0.11,
          0,
          0.038,
          0.014,
          0.099,
          0.07492507492507493,
          0.047,
          0.151,
          0.01,
          0.101,
          0.028,
          0.101,
          0.092,
          0,
          0.08654750705550329,
          0.068,
          0.001,
          0.06568712186689715,
          0,
          0.09,
          0.085
         ],
         "yaxis": "y"
        },
        {
         "hovertemplate": "index=B-cells<br>variable=%{x}<br>value=%{y}<extra></extra>",
         "legendgroup": "B-cells",
         "line": {
          "color": "#ab63fa",
          "dash": "solid"
         },
         "marker": {
          "symbol": "circle"
         },
         "mode": "lines",
         "name": "B-cells",
         "orientation": "v",
         "showlegend": true,
         "type": "scatter",
         "x": [
          "0",
          "1",
          "10",
          "11",
          "12",
          "13",
          "14",
          "15",
          "16",
          "17",
          "18",
          "19",
          "2",
          "20",
          "21",
          "22",
          "23",
          "24",
          "25",
          "26",
          "27",
          "28",
          "29",
          "3",
          "30",
          "31",
          "32",
          "33",
          "34",
          "35",
          "36",
          "37",
          "38",
          "39",
          "4",
          "40",
          "41",
          "42",
          "43",
          "44",
          "45",
          "46",
          "47",
          "48",
          "49",
          "5",
          "50",
          "51",
          "52",
          "53",
          "54",
          "55",
          "56",
          "57",
          "58",
          "59",
          "6",
          "60",
          "61",
          "62",
          "63",
          "64",
          "65",
          "66",
          "67",
          "68",
          "69",
          "7",
          "70",
          "71",
          "72",
          "73",
          "74",
          "75",
          "76",
          "77",
          "78",
          "79",
          "8",
          "80",
          "81",
          "82",
          "83",
          "84",
          "85",
          "86",
          "87",
          "88",
          "89",
          "9",
          "90",
          "91",
          "92",
          "93",
          "94",
          "95",
          "96",
          "97",
          "98",
          "99"
         ],
         "xaxis": "x",
         "y": [
          0.132,
          0.09568480300187618,
          0.102,
          0.08897485493230174,
          0.09579230080572963,
          0.067,
          0.13463324048282266,
          0,
          0.042,
          0.05758157389635317,
          0.043,
          0.033950617283950615,
          0.02413515687851971,
          0,
          0,
          0.001,
          0.006255585344057194,
          0.045,
          0.063,
          0.104,
          0.003,
          0.025,
          0.042,
          0.037,
          0.009,
          0.06207565470417071,
          0.085,
          0.011,
          0.05719237435008666,
          0,
          0.124,
          0.009,
          0.1378968253968254,
          0.062,
          0.008,
          0.068,
          0.08773584905660377,
          0.10966542750929369,
          0.03,
          0.03,
          0.103,
          0.034,
          0.149,
          0.003,
          0.061,
          0,
          0.04356243949661181,
          0.112,
          0.012,
          0.08961845607808341,
          0.104,
          0.165,
          0.002,
          0.091,
          0.07606679035250463,
          0.056382145653876274,
          0.12,
          0.05,
          0.104,
          0.11,
          0.0071492403932082215,
          0.042,
          0.081,
          0.08692365835222977,
          0.02,
          0.12254901960784313,
          0.04007820136852395,
          0.07103825136612021,
          0.101,
          0.0794759825327511,
          0.015,
          0.006,
          0.1337890625,
          0,
          0.02277227722772277,
          0.1,
          0.125,
          0.014,
          0.102,
          0.088,
          0.12361623616236163,
          0.089,
          0.138,
          0.037,
          0.08791208791208792,
          0.097,
          0.115,
          0.054,
          0.02,
          0.145,
          0.112,
          0.054,
          0.024344569288389514,
          0.12982126058325494,
          0.083,
          0.074,
          0.12186689714779603,
          0.09507346585998272,
          0.104,
          0.025
         ],
         "yaxis": "y"
        },
        {
         "hovertemplate": "index=Nk-cells<br>variable=%{x}<br>value=%{y}<extra></extra>",
         "legendgroup": "Nk-cells",
         "line": {
          "color": "#FFA15A",
          "dash": "solid"
         },
         "marker": {
          "symbol": "circle"
         },
         "mode": "lines",
         "name": "Nk-cells",
         "orientation": "v",
         "showlegend": true,
         "type": "scatter",
         "x": [
          "0",
          "1",
          "10",
          "11",
          "12",
          "13",
          "14",
          "15",
          "16",
          "17",
          "18",
          "19",
          "2",
          "20",
          "21",
          "22",
          "23",
          "24",
          "25",
          "26",
          "27",
          "28",
          "29",
          "3",
          "30",
          "31",
          "32",
          "33",
          "34",
          "35",
          "36",
          "37",
          "38",
          "39",
          "4",
          "40",
          "41",
          "42",
          "43",
          "44",
          "45",
          "46",
          "47",
          "48",
          "49",
          "5",
          "50",
          "51",
          "52",
          "53",
          "54",
          "55",
          "56",
          "57",
          "58",
          "59",
          "6",
          "60",
          "61",
          "62",
          "63",
          "64",
          "65",
          "66",
          "67",
          "68",
          "69",
          "7",
          "70",
          "71",
          "72",
          "73",
          "74",
          "75",
          "76",
          "77",
          "78",
          "79",
          "8",
          "80",
          "81",
          "82",
          "83",
          "84",
          "85",
          "86",
          "87",
          "88",
          "89",
          "9",
          "90",
          "91",
          "92",
          "93",
          "94",
          "95",
          "96",
          "97",
          "98",
          "99"
         ],
         "xaxis": "x",
         "y": [
          0.145,
          0,
          0.147,
          0.18762088974854932,
          0.1575649059982095,
          0.043,
          0.13370473537604458,
          0.12605832549388524,
          0.046,
          0,
          0.107,
          0.12962962962962962,
          0.08286403861625101,
          0.15294117647058825,
          0.15140845070422534,
          0.109,
          0.12779267202859695,
          0.131,
          0.092,
          0.006,
          0.188,
          0.198,
          0.127,
          0.044,
          0.192,
          0,
          0.002,
          0.176,
          0.1022530329289428,
          0.09327731092436975,
          0.052,
          0.058,
          0.10416666666666667,
          0.023,
          0.147,
          0.073,
          0.15188679245283018,
          0.03066914498141264,
          0.025,
          0.015,
          0.03,
          0.115,
          0.125,
          0.191,
          0.044,
          0.021421616358325218,
          0.1403678606001936,
          0.001,
          0.156,
          0,
          0.177,
          0.03,
          0.079,
          0.041,
          0,
          0,
          0.003,
          0.168,
          0.01,
          0.083,
          0.13672922252010725,
          0.188,
          0.079,
          0.1330309901738473,
          0.178,
          0.09117647058823529,
          0.15835777126099707,
          0.16029143897996356,
          0.113,
          0.1423580786026201,
          0.115,
          0.117,
          0.0556640625,
          0.07583774250440917,
          0.18613861386138614,
          0.013,
          0.029,
          0.042,
          0.019,
          0.069,
          0.13376383763837638,
          0.036,
          0.114,
          0.148,
          0.17882117882117882,
          0.085,
          0.012,
          0.132,
          0.028,
          0.153,
          0.11,
          0.152,
          0.11797752808988764,
          0.16556914393226718,
          0.1,
          0.191,
          0.09766637856525497,
          0.15643906655142611,
          0.009,
          0.061
         ],
         "yaxis": "y"
        },
        {
         "hovertemplate": "index=Macrophages<br>variable=%{x}<br>value=%{y}<extra></extra>",
         "legendgroup": "Macrophages",
         "line": {
          "color": "#19d3f3",
          "dash": "solid"
         },
         "marker": {
          "symbol": "circle"
         },
         "mode": "lines",
         "name": "Macrophages",
         "orientation": "v",
         "showlegend": true,
         "type": "scatter",
         "x": [
          "0",
          "1",
          "10",
          "11",
          "12",
          "13",
          "14",
          "15",
          "16",
          "17",
          "18",
          "19",
          "2",
          "20",
          "21",
          "22",
          "23",
          "24",
          "25",
          "26",
          "27",
          "28",
          "29",
          "3",
          "30",
          "31",
          "32",
          "33",
          "34",
          "35",
          "36",
          "37",
          "38",
          "39",
          "4",
          "40",
          "41",
          "42",
          "43",
          "44",
          "45",
          "46",
          "47",
          "48",
          "49",
          "5",
          "50",
          "51",
          "52",
          "53",
          "54",
          "55",
          "56",
          "57",
          "58",
          "59",
          "6",
          "60",
          "61",
          "62",
          "63",
          "64",
          "65",
          "66",
          "67",
          "68",
          "69",
          "7",
          "70",
          "71",
          "72",
          "73",
          "74",
          "75",
          "76",
          "77",
          "78",
          "79",
          "8",
          "80",
          "81",
          "82",
          "83",
          "84",
          "85",
          "86",
          "87",
          "88",
          "89",
          "9",
          "90",
          "91",
          "92",
          "93",
          "94",
          "95",
          "96",
          "97",
          "98",
          "99"
         ],
         "xaxis": "x",
         "y": [
          0.266,
          0.22795497185741087,
          0.153,
          0.1102514506769826,
          0.162041181736795,
          0.213,
          0,
          0.20602069614299154,
          0.135,
          0.28502879078694815,
          0.101,
          0.17978395061728394,
          0.23572003218020918,
          0.1980392156862745,
          0.23591549295774647,
          0.134,
          0.19213583556747096,
          0.268,
          0.137,
          0.18,
          0.197,
          0.054,
          0.217,
          0.108,
          0.063,
          0.17070805043646944,
          0.183,
          0.143,
          0.24090121317157712,
          0.1899159663865546,
          0.136,
          0.109,
          0.10317460317460317,
          0.1,
          0.236,
          0.296,
          0.10943396226415095,
          0.22304832713754646,
          0.2,
          0.104,
          0.144,
          0.293,
          0.1,
          0.02,
          0.286,
          0.1976630963972736,
          0.1829622458857696,
          0.243,
          0.186,
          0.20585625554569653,
          0.088,
          0.262,
          0.157,
          0.139,
          0.23376623376623376,
          0.2317932654659358,
          0.185,
          0.182,
          0.134,
          0.175,
          0.26273458445040215,
          0.105,
          0.175,
          0.22071050642479215,
          0.134,
          0.21274509803921568,
          0.12609970674486803,
          0.25045537340619306,
          0.165,
          0.1589519650655022,
          0.277,
          0.091,
          0.1162109375,
          0.1675485008818342,
          0.2,
          0.206,
          0.297,
          0.201,
          0.138,
          0.115,
          0.18357933579335795,
          0.16,
          0.204,
          0.239,
          0.18281718281718282,
          0.141,
          0.156,
          0.158,
          0.218,
          0.276,
          0.12,
          0.26,
          0.1750936329588015,
          0,
          0.161,
          0.168,
          0.16508210890233363,
          0.21607605877268798,
          0.225,
          0.172
         ],
         "yaxis": "y"
        },
        {
         "hovertemplate": "index=T-cells<br>variable=%{x}<br>value=%{y}<extra></extra>",
         "legendgroup": "T-cells",
         "line": {
          "color": "#FF6692",
          "dash": "solid"
         },
         "marker": {
          "symbol": "circle"
         },
         "mode": "lines",
         "name": "T-cells",
         "orientation": "v",
         "showlegend": true,
         "type": "scatter",
         "x": [
          "0",
          "1",
          "10",
          "11",
          "12",
          "13",
          "14",
          "15",
          "16",
          "17",
          "18",
          "19",
          "2",
          "20",
          "21",
          "22",
          "23",
          "24",
          "25",
          "26",
          "27",
          "28",
          "29",
          "3",
          "30",
          "31",
          "32",
          "33",
          "34",
          "35",
          "36",
          "37",
          "38",
          "39",
          "4",
          "40",
          "41",
          "42",
          "43",
          "44",
          "45",
          "46",
          "47",
          "48",
          "49",
          "5",
          "50",
          "51",
          "52",
          "53",
          "54",
          "55",
          "56",
          "57",
          "58",
          "59",
          "6",
          "60",
          "61",
          "62",
          "63",
          "64",
          "65",
          "66",
          "67",
          "68",
          "69",
          "7",
          "70",
          "71",
          "72",
          "73",
          "74",
          "75",
          "76",
          "77",
          "78",
          "79",
          "8",
          "80",
          "81",
          "82",
          "83",
          "84",
          "85",
          "86",
          "87",
          "88",
          "89",
          "9",
          "90",
          "91",
          "92",
          "93",
          "94",
          "95",
          "96",
          "97",
          "98",
          "99"
         ],
         "xaxis": "x",
         "y": [
          0.265,
          0.4230769230769231,
          0.228,
          0.4564796905222437,
          0.4485228290062668,
          0.51,
          0.49025069637883006,
          0.43650047036688616,
          0.47,
          0.4856046065259117,
          0.531,
          0.4521604938271605,
          0.4682220434432824,
          0.5362745098039216,
          0.3644366197183099,
          0.568,
          0.4959785522788204,
          0.465,
          0.512,
          0.416,
          0.473,
          0.524,
          0.471,
          0.585,
          0.512,
          0.553831231813773,
          0.412,
          0.53,
          0.3630849220103986,
          0.49831932773109244,
          0.408,
          0.593,
          0.5932539682539683,
          0.582,
          0.436,
          0.482,
          0.5433962264150943,
          0.5074349442379182,
          0.581,
          0.435,
          0.48,
          0.412,
          0.452,
          0.481,
          0.492,
          0.5228821811100293,
          0.510164569215876,
          0.399,
          0.43,
          0.5288376220053239,
          0.521,
          0.503,
          0.598,
          0.424,
          0.5092764378478665,
          0.43696162881754114,
          0.513,
          0.372,
          0.45,
          0.403,
          0.46380697050938335,
          0.438,
          0.524,
          0.4429327286470144,
          0.446,
          0.45098039215686275,
          0.5268817204301075,
          0.3861566484517304,
          0.445,
          0.42358078602620086,
          0.437,
          0.573,
          0.5673828125,
          0.4894179894179894,
          0.4910891089108911,
          0.477,
          0.446,
          0.409,
          0.453,
          0.497,
          0.42988929889298894,
          0.421,
          0.4,
          0.284,
          0.45554445554445555,
          0.494,
          0.446,
          0.454,
          0.415,
          0.231,
          0.464,
          0.152,
          0.4597378277153558,
          0.5258701787394168,
          0.569,
          0.344,
          0.4961106309420916,
          0.36387208297320656,
          0.527,
          0.414
         ],
         "yaxis": "y"
        }
       ],
       "layout": {
        "legend": {
         "title": {
          "text": "Cell Types (CTs)"
         },
         "tracegroupgap": 0
        },
        "margin": {
         "t": 60
        },
        "template": {
         "data": {
          "bar": [
           {
            "error_x": {
             "color": "#2a3f5f"
            },
            "error_y": {
             "color": "#2a3f5f"
            },
            "marker": {
             "line": {
              "color": "#E5ECF6",
              "width": 0.5
             },
             "pattern": {
              "fillmode": "overlay",
              "size": 10,
              "solidity": 0.2
             }
            },
            "type": "bar"
           }
          ],
          "barpolar": [
           {
            "marker": {
             "line": {
              "color": "#E5ECF6",
              "width": 0.5
             },
             "pattern": {
              "fillmode": "overlay",
              "size": 10,
              "solidity": 0.2
             }
            },
            "type": "barpolar"
           }
          ],
          "carpet": [
           {
            "aaxis": {
             "endlinecolor": "#2a3f5f",
             "gridcolor": "white",
             "linecolor": "white",
             "minorgridcolor": "white",
             "startlinecolor": "#2a3f5f"
            },
            "baxis": {
             "endlinecolor": "#2a3f5f",
             "gridcolor": "white",
             "linecolor": "white",
             "minorgridcolor": "white",
             "startlinecolor": "#2a3f5f"
            },
            "type": "carpet"
           }
          ],
          "choropleth": [
           {
            "colorbar": {
             "outlinewidth": 0,
             "ticks": ""
            },
            "type": "choropleth"
           }
          ],
          "contour": [
           {
            "colorbar": {
             "outlinewidth": 0,
             "ticks": ""
            },
            "colorscale": [
             [
              0,
              "#0d0887"
             ],
             [
              0.1111111111111111,
              "#46039f"
             ],
             [
              0.2222222222222222,
              "#7201a8"
             ],
             [
              0.3333333333333333,
              "#9c179e"
             ],
             [
              0.4444444444444444,
              "#bd3786"
             ],
             [
              0.5555555555555556,
              "#d8576b"
             ],
             [
              0.6666666666666666,
              "#ed7953"
             ],
             [
              0.7777777777777778,
              "#fb9f3a"
             ],
             [
              0.8888888888888888,
              "#fdca26"
             ],
             [
              1,
              "#f0f921"
             ]
            ],
            "type": "contour"
           }
          ],
          "contourcarpet": [
           {
            "colorbar": {
             "outlinewidth": 0,
             "ticks": ""
            },
            "type": "contourcarpet"
           }
          ],
          "heatmap": [
           {
            "colorbar": {
             "outlinewidth": 0,
             "ticks": ""
            },
            "colorscale": [
             [
              0,
              "#0d0887"
             ],
             [
              0.1111111111111111,
              "#46039f"
             ],
             [
              0.2222222222222222,
              "#7201a8"
             ],
             [
              0.3333333333333333,
              "#9c179e"
             ],
             [
              0.4444444444444444,
              "#bd3786"
             ],
             [
              0.5555555555555556,
              "#d8576b"
             ],
             [
              0.6666666666666666,
              "#ed7953"
             ],
             [
              0.7777777777777778,
              "#fb9f3a"
             ],
             [
              0.8888888888888888,
              "#fdca26"
             ],
             [
              1,
              "#f0f921"
             ]
            ],
            "type": "heatmap"
           }
          ],
          "heatmapgl": [
           {
            "colorbar": {
             "outlinewidth": 0,
             "ticks": ""
            },
            "colorscale": [
             [
              0,
              "#0d0887"
             ],
             [
              0.1111111111111111,
              "#46039f"
             ],
             [
              0.2222222222222222,
              "#7201a8"
             ],
             [
              0.3333333333333333,
              "#9c179e"
             ],
             [
              0.4444444444444444,
              "#bd3786"
             ],
             [
              0.5555555555555556,
              "#d8576b"
             ],
             [
              0.6666666666666666,
              "#ed7953"
             ],
             [
              0.7777777777777778,
              "#fb9f3a"
             ],
             [
              0.8888888888888888,
              "#fdca26"
             ],
             [
              1,
              "#f0f921"
             ]
            ],
            "type": "heatmapgl"
           }
          ],
          "histogram": [
           {
            "marker": {
             "pattern": {
              "fillmode": "overlay",
              "size": 10,
              "solidity": 0.2
             }
            },
            "type": "histogram"
           }
          ],
          "histogram2d": [
           {
            "colorbar": {
             "outlinewidth": 0,
             "ticks": ""
            },
            "colorscale": [
             [
              0,
              "#0d0887"
             ],
             [
              0.1111111111111111,
              "#46039f"
             ],
             [
              0.2222222222222222,
              "#7201a8"
             ],
             [
              0.3333333333333333,
              "#9c179e"
             ],
             [
              0.4444444444444444,
              "#bd3786"
             ],
             [
              0.5555555555555556,
              "#d8576b"
             ],
             [
              0.6666666666666666,
              "#ed7953"
             ],
             [
              0.7777777777777778,
              "#fb9f3a"
             ],
             [
              0.8888888888888888,
              "#fdca26"
             ],
             [
              1,
              "#f0f921"
             ]
            ],
            "type": "histogram2d"
           }
          ],
          "histogram2dcontour": [
           {
            "colorbar": {
             "outlinewidth": 0,
             "ticks": ""
            },
            "colorscale": [
             [
              0,
              "#0d0887"
             ],
             [
              0.1111111111111111,
              "#46039f"
             ],
             [
              0.2222222222222222,
              "#7201a8"
             ],
             [
              0.3333333333333333,
              "#9c179e"
             ],
             [
              0.4444444444444444,
              "#bd3786"
             ],
             [
              0.5555555555555556,
              "#d8576b"
             ],
             [
              0.6666666666666666,
              "#ed7953"
             ],
             [
              0.7777777777777778,
              "#fb9f3a"
             ],
             [
              0.8888888888888888,
              "#fdca26"
             ],
             [
              1,
              "#f0f921"
             ]
            ],
            "type": "histogram2dcontour"
           }
          ],
          "mesh3d": [
           {
            "colorbar": {
             "outlinewidth": 0,
             "ticks": ""
            },
            "type": "mesh3d"
           }
          ],
          "parcoords": [
           {
            "line": {
             "colorbar": {
              "outlinewidth": 0,
              "ticks": ""
             }
            },
            "type": "parcoords"
           }
          ],
          "pie": [
           {
            "automargin": true,
            "type": "pie"
           }
          ],
          "scatter": [
           {
            "fillpattern": {
             "fillmode": "overlay",
             "size": 10,
             "solidity": 0.2
            },
            "type": "scatter"
           }
          ],
          "scatter3d": [
           {
            "line": {
             "colorbar": {
              "outlinewidth": 0,
              "ticks": ""
             }
            },
            "marker": {
             "colorbar": {
              "outlinewidth": 0,
              "ticks": ""
             }
            },
            "type": "scatter3d"
           }
          ],
          "scattercarpet": [
           {
            "marker": {
             "colorbar": {
              "outlinewidth": 0,
              "ticks": ""
             }
            },
            "type": "scattercarpet"
           }
          ],
          "scattergeo": [
           {
            "marker": {
             "colorbar": {
              "outlinewidth": 0,
              "ticks": ""
             }
            },
            "type": "scattergeo"
           }
          ],
          "scattergl": [
           {
            "marker": {
             "colorbar": {
              "outlinewidth": 0,
              "ticks": ""
             }
            },
            "type": "scattergl"
           }
          ],
          "scattermapbox": [
           {
            "marker": {
             "colorbar": {
              "outlinewidth": 0,
              "ticks": ""
             }
            },
            "type": "scattermapbox"
           }
          ],
          "scatterpolar": [
           {
            "marker": {
             "colorbar": {
              "outlinewidth": 0,
              "ticks": ""
             }
            },
            "type": "scatterpolar"
           }
          ],
          "scatterpolargl": [
           {
            "marker": {
             "colorbar": {
              "outlinewidth": 0,
              "ticks": ""
             }
            },
            "type": "scatterpolargl"
           }
          ],
          "scatterternary": [
           {
            "marker": {
             "colorbar": {
              "outlinewidth": 0,
              "ticks": ""
             }
            },
            "type": "scatterternary"
           }
          ],
          "surface": [
           {
            "colorbar": {
             "outlinewidth": 0,
             "ticks": ""
            },
            "colorscale": [
             [
              0,
              "#0d0887"
             ],
             [
              0.1111111111111111,
              "#46039f"
             ],
             [
              0.2222222222222222,
              "#7201a8"
             ],
             [
              0.3333333333333333,
              "#9c179e"
             ],
             [
              0.4444444444444444,
              "#bd3786"
             ],
             [
              0.5555555555555556,
              "#d8576b"
             ],
             [
              0.6666666666666666,
              "#ed7953"
             ],
             [
              0.7777777777777778,
              "#fb9f3a"
             ],
             [
              0.8888888888888888,
              "#fdca26"
             ],
             [
              1,
              "#f0f921"
             ]
            ],
            "type": "surface"
           }
          ],
          "table": [
           {
            "cells": {
             "fill": {
              "color": "#EBF0F8"
             },
             "line": {
              "color": "white"
             }
            },
            "header": {
             "fill": {
              "color": "#C8D4E3"
             },
             "line": {
              "color": "white"
             }
            },
            "type": "table"
           }
          ]
         },
         "layout": {
          "annotationdefaults": {
           "arrowcolor": "#2a3f5f",
           "arrowhead": 0,
           "arrowwidth": 1
          },
          "autotypenumbers": "strict",
          "coloraxis": {
           "colorbar": {
            "outlinewidth": 0,
            "ticks": ""
           }
          },
          "colorscale": {
           "diverging": [
            [
             0,
             "#8e0152"
            ],
            [
             0.1,
             "#c51b7d"
            ],
            [
             0.2,
             "#de77ae"
            ],
            [
             0.3,
             "#f1b6da"
            ],
            [
             0.4,
             "#fde0ef"
            ],
            [
             0.5,
             "#f7f7f7"
            ],
            [
             0.6,
             "#e6f5d0"
            ],
            [
             0.7,
             "#b8e186"
            ],
            [
             0.8,
             "#7fbc41"
            ],
            [
             0.9,
             "#4d9221"
            ],
            [
             1,
             "#276419"
            ]
           ],
           "sequential": [
            [
             0,
             "#0d0887"
            ],
            [
             0.1111111111111111,
             "#46039f"
            ],
            [
             0.2222222222222222,
             "#7201a8"
            ],
            [
             0.3333333333333333,
             "#9c179e"
            ],
            [
             0.4444444444444444,
             "#bd3786"
            ],
            [
             0.5555555555555556,
             "#d8576b"
            ],
            [
             0.6666666666666666,
             "#ed7953"
            ],
            [
             0.7777777777777778,
             "#fb9f3a"
            ],
            [
             0.8888888888888888,
             "#fdca26"
            ],
            [
             1,
             "#f0f921"
            ]
           ],
           "sequentialminus": [
            [
             0,
             "#0d0887"
            ],
            [
             0.1111111111111111,
             "#46039f"
            ],
            [
             0.2222222222222222,
             "#7201a8"
            ],
            [
             0.3333333333333333,
             "#9c179e"
            ],
            [
             0.4444444444444444,
             "#bd3786"
            ],
            [
             0.5555555555555556,
             "#d8576b"
            ],
            [
             0.6666666666666666,
             "#ed7953"
            ],
            [
             0.7777777777777778,
             "#fb9f3a"
            ],
            [
             0.8888888888888888,
             "#fdca26"
            ],
            [
             1,
             "#f0f921"
            ]
           ]
          },
          "colorway": [
           "#636efa",
           "#EF553B",
           "#00cc96",
           "#ab63fa",
           "#FFA15A",
           "#19d3f3",
           "#FF6692",
           "#B6E880",
           "#FF97FF",
           "#FECB52"
          ],
          "font": {
           "color": "#2a3f5f"
          },
          "geo": {
           "bgcolor": "white",
           "lakecolor": "white",
           "landcolor": "#E5ECF6",
           "showlakes": true,
           "showland": true,
           "subunitcolor": "white"
          },
          "hoverlabel": {
           "align": "left"
          },
          "hovermode": "closest",
          "mapbox": {
           "style": "light"
          },
          "paper_bgcolor": "white",
          "plot_bgcolor": "#E5ECF6",
          "polar": {
           "angularaxis": {
            "gridcolor": "white",
            "linecolor": "white",
            "ticks": ""
           },
           "bgcolor": "#E5ECF6",
           "radialaxis": {
            "gridcolor": "white",
            "linecolor": "white",
            "ticks": ""
           }
          },
          "scene": {
           "xaxis": {
            "backgroundcolor": "#E5ECF6",
            "gridcolor": "white",
            "gridwidth": 2,
            "linecolor": "white",
            "showbackground": true,
            "ticks": "",
            "zerolinecolor": "white"
           },
           "yaxis": {
            "backgroundcolor": "#E5ECF6",
            "gridcolor": "white",
            "gridwidth": 2,
            "linecolor": "white",
            "showbackground": true,
            "ticks": "",
            "zerolinecolor": "white"
           },
           "zaxis": {
            "backgroundcolor": "#E5ECF6",
            "gridcolor": "white",
            "gridwidth": 2,
            "linecolor": "white",
            "showbackground": true,
            "ticks": "",
            "zerolinecolor": "white"
           }
          },
          "shapedefaults": {
           "line": {
            "color": "#2a3f5f"
           }
          },
          "ternary": {
           "aaxis": {
            "gridcolor": "white",
            "linecolor": "white",
            "ticks": ""
           },
           "baxis": {
            "gridcolor": "white",
            "linecolor": "white",
            "ticks": ""
           },
           "bgcolor": "#E5ECF6",
           "caxis": {
            "gridcolor": "white",
            "linecolor": "white",
            "ticks": ""
           }
          },
          "title": {
           "x": 0.05
          },
          "xaxis": {
           "automargin": true,
           "gridcolor": "white",
           "linecolor": "white",
           "ticks": "",
           "title": {
            "standoff": 15
           },
           "zerolinecolor": "white",
           "zerolinewidth": 2
          },
          "yaxis": {
           "automargin": true,
           "gridcolor": "white",
           "linecolor": "white",
           "ticks": "",
           "title": {
            "standoff": 15
           },
           "zerolinecolor": "white",
           "zerolinewidth": 2
          }
         }
        },
        "title": {
         "text": "Percent Composition Across Simulations with 0.1 Variance"
        },
        "xaxis": {
         "anchor": "y",
         "domain": [
          0,
          1
         ],
         "title": {
          "text": "Simulation"
         }
        },
        "yaxis": {
         "anchor": "x",
         "domain": [
          0,
          1
         ],
         "title": {
          "text": "Percent Composition"
         }
        }
       }
      },
      "text/html": [
       "<div>                            <div id=\"176b06d1-b3b0-4b34-9e44-a3c6803046a6\" class=\"plotly-graph-div\" style=\"height:525px; width:100%;\"></div>            <script type=\"text/javascript\">                require([\"plotly\"], function(Plotly) {                    window.PLOTLYENV=window.PLOTLYENV || {};                                    if (document.getElementById(\"176b06d1-b3b0-4b34-9e44-a3c6803046a6\")) {                    Plotly.newPlot(                        \"176b06d1-b3b0-4b34-9e44-a3c6803046a6\",                        [{\"hovertemplate\":\"index=Platelets\\u003cbr\\u003evariable=%{x}\\u003cbr\\u003evalue=%{y}\\u003cextra\\u003e\\u003c\\u002fextra\\u003e\",\"legendgroup\":\"Platelets\",\"line\":{\"color\":\"#636efa\",\"dash\":\"solid\"},\"marker\":{\"symbol\":\"circle\"},\"mode\":\"lines\",\"name\":\"Platelets\",\"orientation\":\"v\",\"showlegend\":true,\"x\":[\"0\",\"1\",\"10\",\"11\",\"12\",\"13\",\"14\",\"15\",\"16\",\"17\",\"18\",\"19\",\"2\",\"20\",\"21\",\"22\",\"23\",\"24\",\"25\",\"26\",\"27\",\"28\",\"29\",\"3\",\"30\",\"31\",\"32\",\"33\",\"34\",\"35\",\"36\",\"37\",\"38\",\"39\",\"4\",\"40\",\"41\",\"42\",\"43\",\"44\",\"45\",\"46\",\"47\",\"48\",\"49\",\"5\",\"50\",\"51\",\"52\",\"53\",\"54\",\"55\",\"56\",\"57\",\"58\",\"59\",\"6\",\"60\",\"61\",\"62\",\"63\",\"64\",\"65\",\"66\",\"67\",\"68\",\"69\",\"7\",\"70\",\"71\",\"72\",\"73\",\"74\",\"75\",\"76\",\"77\",\"78\",\"79\",\"8\",\"80\",\"81\",\"82\",\"83\",\"84\",\"85\",\"86\",\"87\",\"88\",\"89\",\"9\",\"90\",\"91\",\"92\",\"93\",\"94\",\"95\",\"96\",\"97\",\"98\",\"99\"],\"xaxis\":\"x\",\"y\":[0.104,0.029080675422138838,0.12,0.027079303675048357,0.0,0.094,0.012999071494893221,0.11288805268109126,0.128,0.04318618042226487,0.059,0.09799382716049383,0.11826226870474658,0.04803921568627451,0.06338028169014084,0.03,0.0,0.08,0.055,0.111,0.045,0.131,0.059,0.009,0.116,0.06401551891367604,0.079,0.045,0.11178509532062392,0.046218487394957986,0.142,0.068,0.0,0.033,0.085,0.031,0.011320754716981131,0.012081784386617101,0.024,0.235,0.144,0.068,0.03,0.108,0.007,0.009737098344693282,0.1181026137463698,0.025,0.008,0.03194321206743567,0.054,0.005,0.061,0.145,0.06679035250463822,0.10493343774471417,0.08,0.081,0.136,0.147,0.03038427167113494,0.109,0.008,0.011337868480725623,0.085,0.05392156862745098,0.14173998044965788,0.1320582877959927,0.041,0.0,0.03,0.083,0.0,0.03527336860670194,0.055445544554455446,0.021,0.024,0.213,0.147,0.099,0.042435424354243544,0.005,0.066,0.13,0.0,0.016,0.084,0.093,0.124,0.074,0.088,0.141,0.1348314606741573,0.005644402634054563,0.012,0.142,0.05358686257562662,0.09853068280034573,0.004,0.1],\"yaxis\":\"y\",\"type\":\"scatter\"},{\"hovertemplate\":\"index=Dendritic cells\\u003cbr\\u003evariable=%{x}\\u003cbr\\u003evalue=%{y}\\u003cextra\\u003e\\u003c\\u002fextra\\u003e\",\"legendgroup\":\"Dendritic cells\",\"line\":{\"color\":\"#EF553B\",\"dash\":\"solid\"},\"marker\":{\"symbol\":\"circle\"},\"mode\":\"lines\",\"name\":\"Dendritic cells\",\"orientation\":\"v\",\"showlegend\":true,\"x\":[\"0\",\"1\",\"10\",\"11\",\"12\",\"13\",\"14\",\"15\",\"16\",\"17\",\"18\",\"19\",\"2\",\"20\",\"21\",\"22\",\"23\",\"24\",\"25\",\"26\",\"27\",\"28\",\"29\",\"3\",\"30\",\"31\",\"32\",\"33\",\"34\",\"35\",\"36\",\"37\",\"38\",\"39\",\"4\",\"40\",\"41\",\"42\",\"43\",\"44\",\"45\",\"46\",\"47\",\"48\",\"49\",\"5\",\"50\",\"51\",\"52\",\"53\",\"54\",\"55\",\"56\",\"57\",\"58\",\"59\",\"6\",\"60\",\"61\",\"62\",\"63\",\"64\",\"65\",\"66\",\"67\",\"68\",\"69\",\"7\",\"70\",\"71\",\"72\",\"73\",\"74\",\"75\",\"76\",\"77\",\"78\",\"79\",\"8\",\"80\",\"81\",\"82\",\"83\",\"84\",\"85\",\"86\",\"87\",\"88\",\"89\",\"9\",\"90\",\"91\",\"92\",\"93\",\"94\",\"95\",\"96\",\"97\",\"98\",\"99\"],\"xaxis\":\"x\",\"y\":[0.022,0.10881801125703565,0.125,0.12959381044487428,0.07609668755595345,0.063,0.10677808727948004,0.09689557855126998,0.11,0.1218809980806142,0.023,0.10648148148148148,0.07079646017699115,0.049019607843137254,0.10123239436619719,0.133,0.08757819481680071,0.009,0.007,0.06,0.018,0.048,0.068,0.134,0.055,0.041707080504364696,0.232,0.067,0.12478336221837089,0.0949579831932773,0.135,0.13,0.028769841269841268,0.139,0.03,0.015,0.0,0.1171003717472119,0.014,0.065,0.019,0.0,0.088,0.049,0.104,0.11781888997078871,0.0,0.144,0.115,0.062111801242236024,0.019,0.005,0.042,0.095,0.012059369202226345,0.07204385277995301,0.051,0.029,0.028,0.034,0.0,0.018,0.07,0.0,0.122,0.0,0.0,0.0,0.026,0.10043668122270742,0.108,0.127,0.06640625,0.12169312169312169,0.04455445544554455,0.142,0.021,0.012,0.044,0.022,0.08671586715867159,0.251,0.064,0.063,0.01998001998001998,0.12,0.036,0.099,0.094,0.093,0.005,0.149,0.08801498127340825,0.08654750705550329,0.007,0.08,0.0,0.07000864304235091,0.041,0.143],\"yaxis\":\"y\",\"type\":\"scatter\"},{\"hovertemplate\":\"index=Monocytes\\u003cbr\\u003evariable=%{x}\\u003cbr\\u003evalue=%{y}\\u003cextra\\u003e\\u003c\\u002fextra\\u003e\",\"legendgroup\":\"Monocytes\",\"line\":{\"color\":\"#00cc96\",\"dash\":\"solid\"},\"marker\":{\"symbol\":\"circle\"},\"mode\":\"lines\",\"name\":\"Monocytes\",\"orientation\":\"v\",\"showlegend\":true,\"x\":[\"0\",\"1\",\"10\",\"11\",\"12\",\"13\",\"14\",\"15\",\"16\",\"17\",\"18\",\"19\",\"2\",\"20\",\"21\",\"22\",\"23\",\"24\",\"25\",\"26\",\"27\",\"28\",\"29\",\"3\",\"30\",\"31\",\"32\",\"33\",\"34\",\"35\",\"36\",\"37\",\"38\",\"39\",\"4\",\"40\",\"41\",\"42\",\"43\",\"44\",\"45\",\"46\",\"47\",\"48\",\"49\",\"5\",\"50\",\"51\",\"52\",\"53\",\"54\",\"55\",\"56\",\"57\",\"58\",\"59\",\"6\",\"60\",\"61\",\"62\",\"63\",\"64\",\"65\",\"66\",\"67\",\"68\",\"69\",\"7\",\"70\",\"71\",\"72\",\"73\",\"74\",\"75\",\"76\",\"77\",\"78\",\"79\",\"8\",\"80\",\"81\",\"82\",\"83\",\"84\",\"85\",\"86\",\"87\",\"88\",\"89\",\"9\",\"90\",\"91\",\"92\",\"93\",\"94\",\"95\",\"96\",\"97\",\"98\",\"99\"],\"xaxis\":\"x\",\"y\":[0.066,0.11538461538461539,0.125,0.0,0.05998209489704566,0.01,0.12163416898792943,0.021636876763875823,0.069,0.0067178502879078695,0.136,0.0,0.0,0.01568627450980392,0.08362676056338028,0.025,0.0902591599642538,0.002,0.134,0.123,0.076,0.02,0.016,0.083,0.053,0.10766246362754607,0.007,0.028,0.0,0.0773109243697479,0.003,0.033,0.03273809523809524,0.061,0.058,0.035,0.09622641509433963,0.0,0.126,0.116,0.08,0.078,0.056,0.148,0.006,0.13047711781888996,0.00484027105517909,0.076,0.093,0.08163265306122448,0.037,0.03,0.061,0.065,0.10204081632653061,0.09788566953797964,0.048,0.118,0.138,0.048,0.09919571045576407,0.1,0.063,0.10506424792139078,0.015,0.06862745098039216,0.006842619745845552,0.0,0.109,0.09519650655021834,0.018,0.003,0.060546875,0.11022927689594356,0.0,0.041,0.058,0.109,0.097,0.11,0.0,0.038,0.014,0.099,0.07492507492507493,0.047,0.151,0.01,0.101,0.028,0.101,0.092,0.0,0.08654750705550329,0.068,0.001,0.06568712186689715,0.0,0.09,0.085],\"yaxis\":\"y\",\"type\":\"scatter\"},{\"hovertemplate\":\"index=B-cells\\u003cbr\\u003evariable=%{x}\\u003cbr\\u003evalue=%{y}\\u003cextra\\u003e\\u003c\\u002fextra\\u003e\",\"legendgroup\":\"B-cells\",\"line\":{\"color\":\"#ab63fa\",\"dash\":\"solid\"},\"marker\":{\"symbol\":\"circle\"},\"mode\":\"lines\",\"name\":\"B-cells\",\"orientation\":\"v\",\"showlegend\":true,\"x\":[\"0\",\"1\",\"10\",\"11\",\"12\",\"13\",\"14\",\"15\",\"16\",\"17\",\"18\",\"19\",\"2\",\"20\",\"21\",\"22\",\"23\",\"24\",\"25\",\"26\",\"27\",\"28\",\"29\",\"3\",\"30\",\"31\",\"32\",\"33\",\"34\",\"35\",\"36\",\"37\",\"38\",\"39\",\"4\",\"40\",\"41\",\"42\",\"43\",\"44\",\"45\",\"46\",\"47\",\"48\",\"49\",\"5\",\"50\",\"51\",\"52\",\"53\",\"54\",\"55\",\"56\",\"57\",\"58\",\"59\",\"6\",\"60\",\"61\",\"62\",\"63\",\"64\",\"65\",\"66\",\"67\",\"68\",\"69\",\"7\",\"70\",\"71\",\"72\",\"73\",\"74\",\"75\",\"76\",\"77\",\"78\",\"79\",\"8\",\"80\",\"81\",\"82\",\"83\",\"84\",\"85\",\"86\",\"87\",\"88\",\"89\",\"9\",\"90\",\"91\",\"92\",\"93\",\"94\",\"95\",\"96\",\"97\",\"98\",\"99\"],\"xaxis\":\"x\",\"y\":[0.132,0.09568480300187618,0.102,0.08897485493230174,0.09579230080572963,0.067,0.13463324048282266,0.0,0.042,0.05758157389635317,0.043,0.033950617283950615,0.02413515687851971,0.0,0.0,0.001,0.006255585344057194,0.045,0.063,0.104,0.003,0.025,0.042,0.037,0.009,0.06207565470417071,0.085,0.011,0.05719237435008666,0.0,0.124,0.009,0.1378968253968254,0.062,0.008,0.068,0.08773584905660377,0.10966542750929369,0.03,0.03,0.103,0.034,0.149,0.003,0.061,0.0,0.04356243949661181,0.112,0.012,0.08961845607808341,0.104,0.165,0.002,0.091,0.07606679035250463,0.056382145653876274,0.12,0.05,0.104,0.11,0.0071492403932082215,0.042,0.081,0.08692365835222977,0.02,0.12254901960784313,0.04007820136852395,0.07103825136612021,0.101,0.0794759825327511,0.015,0.006,0.1337890625,0.0,0.02277227722772277,0.1,0.125,0.014,0.102,0.088,0.12361623616236163,0.089,0.138,0.037,0.08791208791208792,0.097,0.115,0.054,0.02,0.145,0.112,0.054,0.024344569288389514,0.12982126058325494,0.083,0.074,0.12186689714779603,0.09507346585998272,0.104,0.025],\"yaxis\":\"y\",\"type\":\"scatter\"},{\"hovertemplate\":\"index=Nk-cells\\u003cbr\\u003evariable=%{x}\\u003cbr\\u003evalue=%{y}\\u003cextra\\u003e\\u003c\\u002fextra\\u003e\",\"legendgroup\":\"Nk-cells\",\"line\":{\"color\":\"#FFA15A\",\"dash\":\"solid\"},\"marker\":{\"symbol\":\"circle\"},\"mode\":\"lines\",\"name\":\"Nk-cells\",\"orientation\":\"v\",\"showlegend\":true,\"x\":[\"0\",\"1\",\"10\",\"11\",\"12\",\"13\",\"14\",\"15\",\"16\",\"17\",\"18\",\"19\",\"2\",\"20\",\"21\",\"22\",\"23\",\"24\",\"25\",\"26\",\"27\",\"28\",\"29\",\"3\",\"30\",\"31\",\"32\",\"33\",\"34\",\"35\",\"36\",\"37\",\"38\",\"39\",\"4\",\"40\",\"41\",\"42\",\"43\",\"44\",\"45\",\"46\",\"47\",\"48\",\"49\",\"5\",\"50\",\"51\",\"52\",\"53\",\"54\",\"55\",\"56\",\"57\",\"58\",\"59\",\"6\",\"60\",\"61\",\"62\",\"63\",\"64\",\"65\",\"66\",\"67\",\"68\",\"69\",\"7\",\"70\",\"71\",\"72\",\"73\",\"74\",\"75\",\"76\",\"77\",\"78\",\"79\",\"8\",\"80\",\"81\",\"82\",\"83\",\"84\",\"85\",\"86\",\"87\",\"88\",\"89\",\"9\",\"90\",\"91\",\"92\",\"93\",\"94\",\"95\",\"96\",\"97\",\"98\",\"99\"],\"xaxis\":\"x\",\"y\":[0.145,0.0,0.147,0.18762088974854932,0.1575649059982095,0.043,0.13370473537604458,0.12605832549388524,0.046,0.0,0.107,0.12962962962962962,0.08286403861625101,0.15294117647058825,0.15140845070422534,0.109,0.12779267202859695,0.131,0.092,0.006,0.188,0.198,0.127,0.044,0.192,0.0,0.002,0.176,0.1022530329289428,0.09327731092436975,0.052,0.058,0.10416666666666667,0.023,0.147,0.073,0.15188679245283018,0.03066914498141264,0.025,0.015,0.03,0.115,0.125,0.191,0.044,0.021421616358325218,0.1403678606001936,0.001,0.156,0.0,0.177,0.03,0.079,0.041,0.0,0.0,0.003,0.168,0.01,0.083,0.13672922252010725,0.188,0.079,0.1330309901738473,0.178,0.09117647058823529,0.15835777126099707,0.16029143897996356,0.113,0.1423580786026201,0.115,0.117,0.0556640625,0.07583774250440917,0.18613861386138614,0.013,0.029,0.042,0.019,0.069,0.13376383763837638,0.036,0.114,0.148,0.17882117882117882,0.085,0.012,0.132,0.028,0.153,0.11,0.152,0.11797752808988764,0.16556914393226718,0.1,0.191,0.09766637856525497,0.15643906655142611,0.009,0.061],\"yaxis\":\"y\",\"type\":\"scatter\"},{\"hovertemplate\":\"index=Macrophages\\u003cbr\\u003evariable=%{x}\\u003cbr\\u003evalue=%{y}\\u003cextra\\u003e\\u003c\\u002fextra\\u003e\",\"legendgroup\":\"Macrophages\",\"line\":{\"color\":\"#19d3f3\",\"dash\":\"solid\"},\"marker\":{\"symbol\":\"circle\"},\"mode\":\"lines\",\"name\":\"Macrophages\",\"orientation\":\"v\",\"showlegend\":true,\"x\":[\"0\",\"1\",\"10\",\"11\",\"12\",\"13\",\"14\",\"15\",\"16\",\"17\",\"18\",\"19\",\"2\",\"20\",\"21\",\"22\",\"23\",\"24\",\"25\",\"26\",\"27\",\"28\",\"29\",\"3\",\"30\",\"31\",\"32\",\"33\",\"34\",\"35\",\"36\",\"37\",\"38\",\"39\",\"4\",\"40\",\"41\",\"42\",\"43\",\"44\",\"45\",\"46\",\"47\",\"48\",\"49\",\"5\",\"50\",\"51\",\"52\",\"53\",\"54\",\"55\",\"56\",\"57\",\"58\",\"59\",\"6\",\"60\",\"61\",\"62\",\"63\",\"64\",\"65\",\"66\",\"67\",\"68\",\"69\",\"7\",\"70\",\"71\",\"72\",\"73\",\"74\",\"75\",\"76\",\"77\",\"78\",\"79\",\"8\",\"80\",\"81\",\"82\",\"83\",\"84\",\"85\",\"86\",\"87\",\"88\",\"89\",\"9\",\"90\",\"91\",\"92\",\"93\",\"94\",\"95\",\"96\",\"97\",\"98\",\"99\"],\"xaxis\":\"x\",\"y\":[0.266,0.22795497185741087,0.153,0.1102514506769826,0.162041181736795,0.213,0.0,0.20602069614299154,0.135,0.28502879078694815,0.101,0.17978395061728394,0.23572003218020918,0.1980392156862745,0.23591549295774647,0.134,0.19213583556747096,0.268,0.137,0.18,0.197,0.054,0.217,0.108,0.063,0.17070805043646944,0.183,0.143,0.24090121317157712,0.1899159663865546,0.136,0.109,0.10317460317460317,0.1,0.236,0.296,0.10943396226415095,0.22304832713754646,0.2,0.104,0.144,0.293,0.1,0.02,0.286,0.1976630963972736,0.1829622458857696,0.243,0.186,0.20585625554569653,0.088,0.262,0.157,0.139,0.23376623376623376,0.2317932654659358,0.185,0.182,0.134,0.175,0.26273458445040215,0.105,0.175,0.22071050642479215,0.134,0.21274509803921568,0.12609970674486803,0.25045537340619306,0.165,0.1589519650655022,0.277,0.091,0.1162109375,0.1675485008818342,0.2,0.206,0.297,0.201,0.138,0.115,0.18357933579335795,0.16,0.204,0.239,0.18281718281718282,0.141,0.156,0.158,0.218,0.276,0.12,0.26,0.1750936329588015,0.0,0.161,0.168,0.16508210890233363,0.21607605877268798,0.225,0.172],\"yaxis\":\"y\",\"type\":\"scatter\"},{\"hovertemplate\":\"index=T-cells\\u003cbr\\u003evariable=%{x}\\u003cbr\\u003evalue=%{y}\\u003cextra\\u003e\\u003c\\u002fextra\\u003e\",\"legendgroup\":\"T-cells\",\"line\":{\"color\":\"#FF6692\",\"dash\":\"solid\"},\"marker\":{\"symbol\":\"circle\"},\"mode\":\"lines\",\"name\":\"T-cells\",\"orientation\":\"v\",\"showlegend\":true,\"x\":[\"0\",\"1\",\"10\",\"11\",\"12\",\"13\",\"14\",\"15\",\"16\",\"17\",\"18\",\"19\",\"2\",\"20\",\"21\",\"22\",\"23\",\"24\",\"25\",\"26\",\"27\",\"28\",\"29\",\"3\",\"30\",\"31\",\"32\",\"33\",\"34\",\"35\",\"36\",\"37\",\"38\",\"39\",\"4\",\"40\",\"41\",\"42\",\"43\",\"44\",\"45\",\"46\",\"47\",\"48\",\"49\",\"5\",\"50\",\"51\",\"52\",\"53\",\"54\",\"55\",\"56\",\"57\",\"58\",\"59\",\"6\",\"60\",\"61\",\"62\",\"63\",\"64\",\"65\",\"66\",\"67\",\"68\",\"69\",\"7\",\"70\",\"71\",\"72\",\"73\",\"74\",\"75\",\"76\",\"77\",\"78\",\"79\",\"8\",\"80\",\"81\",\"82\",\"83\",\"84\",\"85\",\"86\",\"87\",\"88\",\"89\",\"9\",\"90\",\"91\",\"92\",\"93\",\"94\",\"95\",\"96\",\"97\",\"98\",\"99\"],\"xaxis\":\"x\",\"y\":[0.265,0.4230769230769231,0.228,0.4564796905222437,0.4485228290062668,0.51,0.49025069637883006,0.43650047036688616,0.47,0.4856046065259117,0.531,0.4521604938271605,0.4682220434432824,0.5362745098039216,0.3644366197183099,0.568,0.4959785522788204,0.465,0.512,0.416,0.473,0.524,0.471,0.585,0.512,0.553831231813773,0.412,0.53,0.3630849220103986,0.49831932773109244,0.408,0.593,0.5932539682539683,0.582,0.436,0.482,0.5433962264150943,0.5074349442379182,0.581,0.435,0.48,0.412,0.452,0.481,0.492,0.5228821811100293,0.510164569215876,0.399,0.43,0.5288376220053239,0.521,0.503,0.598,0.424,0.5092764378478665,0.43696162881754114,0.513,0.372,0.45,0.403,0.46380697050938335,0.438,0.524,0.4429327286470144,0.446,0.45098039215686275,0.5268817204301075,0.3861566484517304,0.445,0.42358078602620086,0.437,0.573,0.5673828125,0.4894179894179894,0.4910891089108911,0.477,0.446,0.409,0.453,0.497,0.42988929889298894,0.421,0.4,0.284,0.45554445554445555,0.494,0.446,0.454,0.415,0.231,0.464,0.152,0.4597378277153558,0.5258701787394168,0.569,0.344,0.4961106309420916,0.36387208297320656,0.527,0.414],\"yaxis\":\"y\",\"type\":\"scatter\"}],                        {\"template\":{\"data\":{\"histogram2dcontour\":[{\"type\":\"histogram2dcontour\",\"colorbar\":{\"outlinewidth\":0,\"ticks\":\"\"},\"colorscale\":[[0.0,\"#0d0887\"],[0.1111111111111111,\"#46039f\"],[0.2222222222222222,\"#7201a8\"],[0.3333333333333333,\"#9c179e\"],[0.4444444444444444,\"#bd3786\"],[0.5555555555555556,\"#d8576b\"],[0.6666666666666666,\"#ed7953\"],[0.7777777777777778,\"#fb9f3a\"],[0.8888888888888888,\"#fdca26\"],[1.0,\"#f0f921\"]]}],\"choropleth\":[{\"type\":\"choropleth\",\"colorbar\":{\"outlinewidth\":0,\"ticks\":\"\"}}],\"histogram2d\":[{\"type\":\"histogram2d\",\"colorbar\":{\"outlinewidth\":0,\"ticks\":\"\"},\"colorscale\":[[0.0,\"#0d0887\"],[0.1111111111111111,\"#46039f\"],[0.2222222222222222,\"#7201a8\"],[0.3333333333333333,\"#9c179e\"],[0.4444444444444444,\"#bd3786\"],[0.5555555555555556,\"#d8576b\"],[0.6666666666666666,\"#ed7953\"],[0.7777777777777778,\"#fb9f3a\"],[0.8888888888888888,\"#fdca26\"],[1.0,\"#f0f921\"]]}],\"heatmap\":[{\"type\":\"heatmap\",\"colorbar\":{\"outlinewidth\":0,\"ticks\":\"\"},\"colorscale\":[[0.0,\"#0d0887\"],[0.1111111111111111,\"#46039f\"],[0.2222222222222222,\"#7201a8\"],[0.3333333333333333,\"#9c179e\"],[0.4444444444444444,\"#bd3786\"],[0.5555555555555556,\"#d8576b\"],[0.6666666666666666,\"#ed7953\"],[0.7777777777777778,\"#fb9f3a\"],[0.8888888888888888,\"#fdca26\"],[1.0,\"#f0f921\"]]}],\"heatmapgl\":[{\"type\":\"heatmapgl\",\"colorbar\":{\"outlinewidth\":0,\"ticks\":\"\"},\"colorscale\":[[0.0,\"#0d0887\"],[0.1111111111111111,\"#46039f\"],[0.2222222222222222,\"#7201a8\"],[0.3333333333333333,\"#9c179e\"],[0.4444444444444444,\"#bd3786\"],[0.5555555555555556,\"#d8576b\"],[0.6666666666666666,\"#ed7953\"],[0.7777777777777778,\"#fb9f3a\"],[0.8888888888888888,\"#fdca26\"],[1.0,\"#f0f921\"]]}],\"contourcarpet\":[{\"type\":\"contourcarpet\",\"colorbar\":{\"outlinewidth\":0,\"ticks\":\"\"}}],\"contour\":[{\"type\":\"contour\",\"colorbar\":{\"outlinewidth\":0,\"ticks\":\"\"},\"colorscale\":[[0.0,\"#0d0887\"],[0.1111111111111111,\"#46039f\"],[0.2222222222222222,\"#7201a8\"],[0.3333333333333333,\"#9c179e\"],[0.4444444444444444,\"#bd3786\"],[0.5555555555555556,\"#d8576b\"],[0.6666666666666666,\"#ed7953\"],[0.7777777777777778,\"#fb9f3a\"],[0.8888888888888888,\"#fdca26\"],[1.0,\"#f0f921\"]]}],\"surface\":[{\"type\":\"surface\",\"colorbar\":{\"outlinewidth\":0,\"ticks\":\"\"},\"colorscale\":[[0.0,\"#0d0887\"],[0.1111111111111111,\"#46039f\"],[0.2222222222222222,\"#7201a8\"],[0.3333333333333333,\"#9c179e\"],[0.4444444444444444,\"#bd3786\"],[0.5555555555555556,\"#d8576b\"],[0.6666666666666666,\"#ed7953\"],[0.7777777777777778,\"#fb9f3a\"],[0.8888888888888888,\"#fdca26\"],[1.0,\"#f0f921\"]]}],\"mesh3d\":[{\"type\":\"mesh3d\",\"colorbar\":{\"outlinewidth\":0,\"ticks\":\"\"}}],\"scatter\":[{\"fillpattern\":{\"fillmode\":\"overlay\",\"size\":10,\"solidity\":0.2},\"type\":\"scatter\"}],\"parcoords\":[{\"type\":\"parcoords\",\"line\":{\"colorbar\":{\"outlinewidth\":0,\"ticks\":\"\"}}}],\"scatterpolargl\":[{\"type\":\"scatterpolargl\",\"marker\":{\"colorbar\":{\"outlinewidth\":0,\"ticks\":\"\"}}}],\"bar\":[{\"error_x\":{\"color\":\"#2a3f5f\"},\"error_y\":{\"color\":\"#2a3f5f\"},\"marker\":{\"line\":{\"color\":\"#E5ECF6\",\"width\":0.5},\"pattern\":{\"fillmode\":\"overlay\",\"size\":10,\"solidity\":0.2}},\"type\":\"bar\"}],\"scattergeo\":[{\"type\":\"scattergeo\",\"marker\":{\"colorbar\":{\"outlinewidth\":0,\"ticks\":\"\"}}}],\"scatterpolar\":[{\"type\":\"scatterpolar\",\"marker\":{\"colorbar\":{\"outlinewidth\":0,\"ticks\":\"\"}}}],\"histogram\":[{\"marker\":{\"pattern\":{\"fillmode\":\"overlay\",\"size\":10,\"solidity\":0.2}},\"type\":\"histogram\"}],\"scattergl\":[{\"type\":\"scattergl\",\"marker\":{\"colorbar\":{\"outlinewidth\":0,\"ticks\":\"\"}}}],\"scatter3d\":[{\"type\":\"scatter3d\",\"line\":{\"colorbar\":{\"outlinewidth\":0,\"ticks\":\"\"}},\"marker\":{\"colorbar\":{\"outlinewidth\":0,\"ticks\":\"\"}}}],\"scattermapbox\":[{\"type\":\"scattermapbox\",\"marker\":{\"colorbar\":{\"outlinewidth\":0,\"ticks\":\"\"}}}],\"scatterternary\":[{\"type\":\"scatterternary\",\"marker\":{\"colorbar\":{\"outlinewidth\":0,\"ticks\":\"\"}}}],\"scattercarpet\":[{\"type\":\"scattercarpet\",\"marker\":{\"colorbar\":{\"outlinewidth\":0,\"ticks\":\"\"}}}],\"carpet\":[{\"aaxis\":{\"endlinecolor\":\"#2a3f5f\",\"gridcolor\":\"white\",\"linecolor\":\"white\",\"minorgridcolor\":\"white\",\"startlinecolor\":\"#2a3f5f\"},\"baxis\":{\"endlinecolor\":\"#2a3f5f\",\"gridcolor\":\"white\",\"linecolor\":\"white\",\"minorgridcolor\":\"white\",\"startlinecolor\":\"#2a3f5f\"},\"type\":\"carpet\"}],\"table\":[{\"cells\":{\"fill\":{\"color\":\"#EBF0F8\"},\"line\":{\"color\":\"white\"}},\"header\":{\"fill\":{\"color\":\"#C8D4E3\"},\"line\":{\"color\":\"white\"}},\"type\":\"table\"}],\"barpolar\":[{\"marker\":{\"line\":{\"color\":\"#E5ECF6\",\"width\":0.5},\"pattern\":{\"fillmode\":\"overlay\",\"size\":10,\"solidity\":0.2}},\"type\":\"barpolar\"}],\"pie\":[{\"automargin\":true,\"type\":\"pie\"}]},\"layout\":{\"autotypenumbers\":\"strict\",\"colorway\":[\"#636efa\",\"#EF553B\",\"#00cc96\",\"#ab63fa\",\"#FFA15A\",\"#19d3f3\",\"#FF6692\",\"#B6E880\",\"#FF97FF\",\"#FECB52\"],\"font\":{\"color\":\"#2a3f5f\"},\"hovermode\":\"closest\",\"hoverlabel\":{\"align\":\"left\"},\"paper_bgcolor\":\"white\",\"plot_bgcolor\":\"#E5ECF6\",\"polar\":{\"bgcolor\":\"#E5ECF6\",\"angularaxis\":{\"gridcolor\":\"white\",\"linecolor\":\"white\",\"ticks\":\"\"},\"radialaxis\":{\"gridcolor\":\"white\",\"linecolor\":\"white\",\"ticks\":\"\"}},\"ternary\":{\"bgcolor\":\"#E5ECF6\",\"aaxis\":{\"gridcolor\":\"white\",\"linecolor\":\"white\",\"ticks\":\"\"},\"baxis\":{\"gridcolor\":\"white\",\"linecolor\":\"white\",\"ticks\":\"\"},\"caxis\":{\"gridcolor\":\"white\",\"linecolor\":\"white\",\"ticks\":\"\"}},\"coloraxis\":{\"colorbar\":{\"outlinewidth\":0,\"ticks\":\"\"}},\"colorscale\":{\"sequential\":[[0.0,\"#0d0887\"],[0.1111111111111111,\"#46039f\"],[0.2222222222222222,\"#7201a8\"],[0.3333333333333333,\"#9c179e\"],[0.4444444444444444,\"#bd3786\"],[0.5555555555555556,\"#d8576b\"],[0.6666666666666666,\"#ed7953\"],[0.7777777777777778,\"#fb9f3a\"],[0.8888888888888888,\"#fdca26\"],[1.0,\"#f0f921\"]],\"sequentialminus\":[[0.0,\"#0d0887\"],[0.1111111111111111,\"#46039f\"],[0.2222222222222222,\"#7201a8\"],[0.3333333333333333,\"#9c179e\"],[0.4444444444444444,\"#bd3786\"],[0.5555555555555556,\"#d8576b\"],[0.6666666666666666,\"#ed7953\"],[0.7777777777777778,\"#fb9f3a\"],[0.8888888888888888,\"#fdca26\"],[1.0,\"#f0f921\"]],\"diverging\":[[0,\"#8e0152\"],[0.1,\"#c51b7d\"],[0.2,\"#de77ae\"],[0.3,\"#f1b6da\"],[0.4,\"#fde0ef\"],[0.5,\"#f7f7f7\"],[0.6,\"#e6f5d0\"],[0.7,\"#b8e186\"],[0.8,\"#7fbc41\"],[0.9,\"#4d9221\"],[1,\"#276419\"]]},\"xaxis\":{\"gridcolor\":\"white\",\"linecolor\":\"white\",\"ticks\":\"\",\"title\":{\"standoff\":15},\"zerolinecolor\":\"white\",\"automargin\":true,\"zerolinewidth\":2},\"yaxis\":{\"gridcolor\":\"white\",\"linecolor\":\"white\",\"ticks\":\"\",\"title\":{\"standoff\":15},\"zerolinecolor\":\"white\",\"automargin\":true,\"zerolinewidth\":2},\"scene\":{\"xaxis\":{\"backgroundcolor\":\"#E5ECF6\",\"gridcolor\":\"white\",\"linecolor\":\"white\",\"showbackground\":true,\"ticks\":\"\",\"zerolinecolor\":\"white\",\"gridwidth\":2},\"yaxis\":{\"backgroundcolor\":\"#E5ECF6\",\"gridcolor\":\"white\",\"linecolor\":\"white\",\"showbackground\":true,\"ticks\":\"\",\"zerolinecolor\":\"white\",\"gridwidth\":2},\"zaxis\":{\"backgroundcolor\":\"#E5ECF6\",\"gridcolor\":\"white\",\"linecolor\":\"white\",\"showbackground\":true,\"ticks\":\"\",\"zerolinecolor\":\"white\",\"gridwidth\":2}},\"shapedefaults\":{\"line\":{\"color\":\"#2a3f5f\"}},\"annotationdefaults\":{\"arrowcolor\":\"#2a3f5f\",\"arrowhead\":0,\"arrowwidth\":1},\"geo\":{\"bgcolor\":\"white\",\"landcolor\":\"#E5ECF6\",\"subunitcolor\":\"white\",\"showland\":true,\"showlakes\":true,\"lakecolor\":\"white\"},\"title\":{\"x\":0.05},\"mapbox\":{\"style\":\"light\"}}},\"xaxis\":{\"anchor\":\"y\",\"domain\":[0.0,1.0],\"title\":{\"text\":\"Simulation\"}},\"yaxis\":{\"anchor\":\"x\",\"domain\":[0.0,1.0],\"title\":{\"text\":\"Percent Composition\"}},\"legend\":{\"title\":{\"text\":\"Cell Types (CTs)\"},\"tracegroupgap\":0},\"margin\":{\"t\":60},\"title\":{\"text\":\"Percent Composition Across Simulations with 0.1 Variance\"}},                        {\"responsive\": true}                    ).then(function(){\n",
       "                            \n",
       "var gd = document.getElementById('176b06d1-b3b0-4b34-9e44-a3c6803046a6');\n",
       "var x = new MutationObserver(function (mutations, observer) {{\n",
       "        var display = window.getComputedStyle(gd).display;\n",
       "        if (!display || display === 'none') {{\n",
       "            console.log([gd, 'removed!']);\n",
       "            Plotly.purge(gd);\n",
       "            observer.disconnect();\n",
       "        }}\n",
       "}});\n",
       "\n",
       "// Listen for the removal of the full notebook cells\n",
       "var notebookContainer = gd.closest('#notebook-container');\n",
       "if (notebookContainer) {{\n",
       "    x.observe(notebookContainer, {childList: true});\n",
       "}}\n",
       "\n",
       "// Listen for the clearing of the current output cell\n",
       "var outputEl = gd.closest('.output');\n",
       "if (outputEl) {{\n",
       "    x.observe(outputEl, {childList: true});\n",
       "}}\n",
       "\n",
       "                        })                };                });            </script>        </div>"
      ]
     },
     "metadata": {},
     "output_type": "display_data"
    },
    {
     "data": {
      "application/vnd.plotly.v1+json": {
       "config": {
        "plotlyServerURL": "https://plot.ly"
       },
       "data": [
        {
         "hovertemplate": "index=Macrophages<br>variable=%{x}<br>value=%{y}<extra></extra>",
         "legendgroup": "Macrophages",
         "line": {
          "color": "#636efa",
          "dash": "solid"
         },
         "marker": {
          "symbol": "circle"
         },
         "mode": "lines",
         "name": "Macrophages",
         "orientation": "v",
         "showlegend": true,
         "type": "scatter",
         "x": [
          "0",
          "1",
          "10",
          "11",
          "12",
          "13",
          "14",
          "15",
          "16",
          "17",
          "18",
          "19",
          "2",
          "20",
          "21",
          "22",
          "23",
          "24",
          "25",
          "26",
          "27",
          "28",
          "29",
          "3",
          "30",
          "31",
          "32",
          "33",
          "34",
          "35",
          "36",
          "37",
          "38",
          "39",
          "4",
          "40",
          "41",
          "42",
          "43",
          "44",
          "45",
          "46",
          "47",
          "48",
          "49",
          "5",
          "50",
          "51",
          "52",
          "53",
          "54",
          "55",
          "56",
          "57",
          "58",
          "59",
          "6",
          "60",
          "61",
          "62",
          "63",
          "64",
          "65",
          "66",
          "67",
          "68",
          "69",
          "7",
          "70",
          "71",
          "72",
          "73",
          "74",
          "75",
          "76",
          "77",
          "78",
          "79",
          "8",
          "80",
          "81",
          "82",
          "83",
          "84",
          "85",
          "86",
          "87",
          "88",
          "89",
          "9",
          "90",
          "91",
          "92",
          "93",
          "94",
          "95",
          "96",
          "97",
          "98",
          "99"
         ],
         "xaxis": "x",
         "y": [
          0.2342857142857143,
          0.10239596469104666,
          0.18,
          0.22578104489367287,
          0.047637795275590554,
          0.17915010700091716,
          0.13687342641336692,
          0.020431010355443605,
          0.30408228865316617,
          0,
          0.3136842105263158,
          0.2074712643678161,
          0.132429614181439,
          0.24762702400893355,
          0.25723117686023406,
          0.33723875870804304,
          0.13130544993662865,
          0.32466442953020136,
          0.039722863741339494,
          0.3285109386026817,
          0.2005427408412483,
          0.19701046337817638,
          0.04628704628704629,
          0.1730631704410012,
          0.22545317220543806,
          0.05525606469002695,
          0.21485053037608487,
          0.019042437431991296,
          0,
          0.11144219308700834,
          0.22109016811003565,
          0.26776649746192893,
          0,
          0.3584735576923077,
          0.06954689146469968,
          0.01565217391304348,
          0.22387173396674584,
          0,
          0.2509388869921475,
          0.10741687979539642,
          0.16187594553706505,
          0.08684611477907567,
          0.13031508106454573,
          0.0803830528148578,
          0.270935960591133,
          0,
          0.23475935828877006,
          0.26552655265526554,
          0.07340025094102885,
          0,
          0.1106646058732612,
          0.10067969413763807,
          0.12302893779241032,
          0.10973084886128365,
          0.1994500458295142,
          0.29543591145121617,
          0.046373951652688705,
          0.10064167510976021,
          0.19430337822918967,
          0,
          0.10907424381301559,
          0.05886010362694301,
          0,
          0.16660808435852373,
          0.23955801104972377,
          0.2398876404494382,
          0.09326726901777907,
          0.09149484536082474,
          0.12288993923024984,
          0.2522053833974214,
          0.002573634543894767,
          0.08289930555555555,
          0.1333534015653221,
          0.024290313140181447,
          0.10679064525218371,
          0.25029543843063107,
          0.14020427112349118,
          0.14771547248182762,
          0.1973613354873452,
          0.09666339548577037,
          0.09382352941176471,
          0.0115018801150188,
          0,
          0.04204625087596356,
          0.10748218527315914,
          0.19796557120500782,
          0.016456921587608905,
          0.07929997265518185,
          0.3351449275362319,
          0.3946303788157411,
          0.2453019293410173,
          0.3036925395629239,
          0.061855670103092786,
          0.25070063694267514,
          0,
          0.03195488721804511,
          0.3284671532846715,
          0.057755775577557754,
          0.1626740947075209,
          0.009857612267250822
         ],
         "yaxis": "y"
        },
        {
         "hovertemplate": "index=B-cells<br>variable=%{x}<br>value=%{y}<extra></extra>",
         "legendgroup": "B-cells",
         "line": {
          "color": "#EF553B",
          "dash": "solid"
         },
         "marker": {
          "symbol": "circle"
         },
         "mode": "lines",
         "name": "B-cells",
         "orientation": "v",
         "showlegend": true,
         "type": "scatter",
         "x": [
          "0",
          "1",
          "10",
          "11",
          "12",
          "13",
          "14",
          "15",
          "16",
          "17",
          "18",
          "19",
          "2",
          "20",
          "21",
          "22",
          "23",
          "24",
          "25",
          "26",
          "27",
          "28",
          "29",
          "3",
          "30",
          "31",
          "32",
          "33",
          "34",
          "35",
          "36",
          "37",
          "38",
          "39",
          "4",
          "40",
          "41",
          "42",
          "43",
          "44",
          "45",
          "46",
          "47",
          "48",
          "49",
          "5",
          "50",
          "51",
          "52",
          "53",
          "54",
          "55",
          "56",
          "57",
          "58",
          "59",
          "6",
          "60",
          "61",
          "62",
          "63",
          "64",
          "65",
          "66",
          "67",
          "68",
          "69",
          "7",
          "70",
          "71",
          "72",
          "73",
          "74",
          "75",
          "76",
          "77",
          "78",
          "79",
          "8",
          "80",
          "81",
          "82",
          "83",
          "84",
          "85",
          "86",
          "87",
          "88",
          "89",
          "9",
          "90",
          "91",
          "92",
          "93",
          "94",
          "95",
          "96",
          "97",
          "98",
          "99"
         ],
         "xaxis": "x",
         "y": [
          0.08496894409937888,
          0.24817150063051702,
          0.19154639175257732,
          0.2373326332370701,
          0.3562992125984252,
          0.22286762457963927,
          0.17761501487754636,
          0.2767982087881332,
          0.08968177434908389,
          0.2047265002655337,
          0.013157894736842105,
          0.13448275862068965,
          0,
          0.1426577331099944,
          0.2183705012143961,
          0.18872704243191893,
          0.13130544993662865,
          0.12472035794183445,
          0.018937644341801386,
          0.027170077628793227,
          0.16363636363636364,
          0.2705530642750374,
          0,
          0,
          0,
          0.18733153638814015,
          0.0570877531340405,
          0.07290533188248095,
          0.13855278766310794,
          0.0166865315852205,
          0.2628629648497198,
          0,
          0.12161172161172161,
          0.19501201923076922,
          0.29574991218826835,
          0.059130434782608696,
          0,
          0.18048780487804877,
          0.2686923864800273,
          0.1534526854219949,
          0.19440242057488655,
          0,
          0.1560110125420618,
          0,
          0.11416980585337583,
          0.11234764175940647,
          0.2106951871657754,
          0,
          0.2383939774153074,
          0.15881883479648842,
          0.12797527047913446,
          0.001274426508071368,
          0.1658291457286432,
          0,
          0.17030247479376717,
          0.2153593878108773,
          0.10952146028613714,
          0,
          0,
          0.30256230256230254,
          0.17804766269477543,
          0.1801036269430052,
          0.19811554673939996,
          0,
          0.1425414364640884,
          0.06882022471910113,
          0,
          0.2574742268041237,
          0.14922349763673193,
          0.17281158109025108,
          0.13783242779525307,
          0,
          0.3073449729078868,
          0.28767925080479956,
          0.25443786982248523,
          0.11912077523044197,
          0.2872175796966883,
          0.006490134994807892,
          0,
          0.08047105004906771,
          0.1952941176470588,
          0.21190002211900022,
          0.005504587155963303,
          0.12543798177995796,
          0.09619952494061758,
          0.107981220657277,
          0.3159083575346886,
          0.17856166256494393,
          0.2179951690821256,
          0.11879367414490621,
          0.10197945377098472,
          0.06631499623210249,
          0.3086340206185567,
          0.25019108280254776,
          0.1892123287671233,
          0.34727443609022557,
          0,
          0.07425742574257425,
          0.1501392757660167,
          0.032037239868565166
         ],
         "yaxis": "y"
        },
        {
         "hovertemplate": "index=Monocytes<br>variable=%{x}<br>value=%{y}<extra></extra>",
         "legendgroup": "Monocytes",
         "line": {
          "color": "#00cc96",
          "dash": "solid"
         },
         "marker": {
          "symbol": "circle"
         },
         "mode": "lines",
         "name": "Monocytes",
         "orientation": "v",
         "showlegend": true,
         "type": "scatter",
         "x": [
          "0",
          "1",
          "10",
          "11",
          "12",
          "13",
          "14",
          "15",
          "16",
          "17",
          "18",
          "19",
          "2",
          "20",
          "21",
          "22",
          "23",
          "24",
          "25",
          "26",
          "27",
          "28",
          "29",
          "3",
          "30",
          "31",
          "32",
          "33",
          "34",
          "35",
          "36",
          "37",
          "38",
          "39",
          "4",
          "40",
          "41",
          "42",
          "43",
          "44",
          "45",
          "46",
          "47",
          "48",
          "49",
          "5",
          "50",
          "51",
          "52",
          "53",
          "54",
          "55",
          "56",
          "57",
          "58",
          "59",
          "6",
          "60",
          "61",
          "62",
          "63",
          "64",
          "65",
          "66",
          "67",
          "68",
          "69",
          "7",
          "70",
          "71",
          "72",
          "73",
          "74",
          "75",
          "76",
          "77",
          "78",
          "79",
          "8",
          "80",
          "81",
          "82",
          "83",
          "84",
          "85",
          "86",
          "87",
          "88",
          "89",
          "9",
          "90",
          "91",
          "92",
          "93",
          "94",
          "95",
          "96",
          "97",
          "98",
          "99"
         ],
         "xaxis": "x",
         "y": [
          0.09937888198757763,
          0.1871374527112232,
          0.1843298969072165,
          0.27093725387240747,
          0.11968503937007874,
          0.18801589727911955,
          0,
          0.260565351245452,
          0.23336547733847637,
          0.2732342007434944,
          0.22263157894736843,
          0.18620689655172415,
          0.1591936044490789,
          0.03796761585706309,
          0.00883197173769044,
          0.2720075997466751,
          0.26337135614702156,
          0,
          0,
          0.22300635144671843,
          0.024423337856173677,
          0.03976083707025411,
          0.2547452547452547,
          0.08891537544696067,
          0.2753021148036254,
          0.22668463611859838,
          0.18418514946962392,
          0.22007616974972796,
          0.23463819691577698,
          0.19547079856972585,
          0,
          0.10628172588832488,
          0.17631257631257632,
          0.15655048076923078,
          0,
          0.12782608695652173,
          0.047802850356294536,
          0.20264227642276422,
          0.038579720040969614,
          0.1925133689839572,
          0.21759959657085223,
          0.061960385982732354,
          0.11043132456408687,
          0.044399303540336624,
          0.09881193856853086,
          0.2533121356650768,
          0.11283422459893049,
          0.10373537353735374,
          0.2440401505646173,
          0.040702314445331206,
          0,
          0.28674596431605776,
          0.1696413099982672,
          0.14368530020703935,
          0.07901008249312558,
          0.24378245422246517,
          0,
          0.060452549814251945,
          0.13844115698829765,
          0.08108108108108109,
          0,
          0.16373056994818652,
          0.18943714356558394,
          0.17258347978910368,
          0.07049723756906077,
          0.1396067415730337,
          0.031186243077819878,
          0.06675257731958763,
          0.22372270988071122,
          0,
          0,
          0.2243923611111111,
          0.2477423239012643,
          0.012584138132865087,
          0.2042828965905889,
          0,
          0,
          0.127466251298027,
          0.05627355950457728,
          0,
          0,
          0,
          0.18820445609436434,
          0.34442887175893483,
          0.12796912114014253,
          0.13067292644757433,
          0,
          0.27727645611156687,
          0.057367149758454104,
          0,
          0.15760461037334,
          0.01092690278824416,
          0,
          0.15872611464968153,
          0.07448630136986302,
          0,
          0.17750497677504976,
          0.21699669966996699,
          0.08495821727019498,
          0.28039430449069
         ],
         "yaxis": "y"
        },
        {
         "hovertemplate": "index=Nk-cells<br>variable=%{x}<br>value=%{y}<extra></extra>",
         "legendgroup": "Nk-cells",
         "line": {
          "color": "#ab63fa",
          "dash": "solid"
         },
         "marker": {
          "symbol": "circle"
         },
         "mode": "lines",
         "name": "Nk-cells",
         "orientation": "v",
         "showlegend": true,
         "type": "scatter",
         "x": [
          "0",
          "1",
          "10",
          "11",
          "12",
          "13",
          "14",
          "15",
          "16",
          "17",
          "18",
          "19",
          "2",
          "20",
          "21",
          "22",
          "23",
          "24",
          "25",
          "26",
          "27",
          "28",
          "29",
          "3",
          "30",
          "31",
          "32",
          "33",
          "34",
          "35",
          "36",
          "37",
          "38",
          "39",
          "4",
          "40",
          "41",
          "42",
          "43",
          "44",
          "45",
          "46",
          "47",
          "48",
          "49",
          "5",
          "50",
          "51",
          "52",
          "53",
          "54",
          "55",
          "56",
          "57",
          "58",
          "59",
          "6",
          "60",
          "61",
          "62",
          "63",
          "64",
          "65",
          "66",
          "67",
          "68",
          "69",
          "7",
          "70",
          "71",
          "72",
          "73",
          "74",
          "75",
          "76",
          "77",
          "78",
          "79",
          "8",
          "80",
          "81",
          "82",
          "83",
          "84",
          "85",
          "86",
          "87",
          "88",
          "89",
          "9",
          "90",
          "91",
          "92",
          "93",
          "94",
          "95",
          "96",
          "97",
          "98",
          "99"
         ],
         "xaxis": "x",
         "y": [
          0.12645962732919255,
          0.17528373266078184,
          0.14927835051546393,
          0.11052769755841428,
          0.21850393700787402,
          0.12901253439315194,
          0.18562600137331198,
          0.19283515253288552,
          0.2687238829958213,
          0.09160913436006372,
          0,
          0.1367816091954023,
          0.16579770594369134,
          0.3012283640424344,
          0,
          0.10924635845471818,
          0.2585551330798479,
          0.08305369127516779,
          0.28960739030023097,
          0.027522935779816515,
          0,
          0.15994020926756353,
          0.19746919746919747,
          0.22812872467222883,
          0.0581570996978852,
          0.18140161725067386,
          0.19382835101253615,
          0.10745375408052231,
          0.14922894424673785,
          0,
          0.1706571574121243,
          0.002220812182741117,
          0.13162393162393163,
          0.006610576923076923,
          0.36389181594661046,
          0.4434782608695652,
          0.208729216152019,
          0.05426829268292683,
          0.10447251621713896,
          0.18181818181818182,
          0,
          0.09090909090909091,
          0.20159070052003672,
          0.07980266976204295,
          0.22283396117067517,
          0.12692103868574456,
          0.06042780748663101,
          0.2265976597659766,
          0.14742785445420326,
          0.08512902367650971,
          0.27449768160741883,
          0.40611724723874254,
          0.17154739213307918,
          0.26335403726708073,
          0.19706691109074242,
          0,
          0.05278737049827331,
          0.06180344478216818,
          0.001987193640980349,
          0.03861003861003861,
          0.09142988084326306,
          0,
          0.08083312670468634,
          0.11318101933216168,
          0.20662983425414364,
          0.29297752808988764,
          0.22325852521130865,
          0.21494845360824744,
          0.18275939680396128,
          0.20063334087310564,
          0.30740634829854163,
          0.1948784722222222,
          0.12372065021071643,
          0,
          0.0884756269371654,
          0.24178681162845664,
          0.1324667285670071,
          0.22611630321910695,
          0.06327409800753904,
          0.022571148184494603,
          0.22294117647058823,
          0.13492590134925903,
          0.236435124508519,
          0.002452697967764541,
          0.13271971496437054,
          0,
          0.3430138754436915,
          0.2966912770030079,
          0.11956521739130435,
          0.009194556822361161,
          0.2257579553996492,
          0.1322532027128862,
          0.266430412371134,
          0,
          0.11643835616438356,
          0.5075187969924813,
          0.06635700066357,
          0.41872937293729373,
          0.1501392757660167,
          0
         ],
         "yaxis": "y"
        },
        {
         "hovertemplate": "index=Platelets<br>variable=%{x}<br>value=%{y}<extra></extra>",
         "legendgroup": "Platelets",
         "line": {
          "color": "#FFA15A",
          "dash": "solid"
         },
         "marker": {
          "symbol": "circle"
         },
         "mode": "lines",
         "name": "Platelets",
         "orientation": "v",
         "showlegend": true,
         "type": "scatter",
         "x": [
          "0",
          "1",
          "10",
          "11",
          "12",
          "13",
          "14",
          "15",
          "16",
          "17",
          "18",
          "19",
          "2",
          "20",
          "21",
          "22",
          "23",
          "24",
          "25",
          "26",
          "27",
          "28",
          "29",
          "3",
          "30",
          "31",
          "32",
          "33",
          "34",
          "35",
          "36",
          "37",
          "38",
          "39",
          "4",
          "40",
          "41",
          "42",
          "43",
          "44",
          "45",
          "46",
          "47",
          "48",
          "49",
          "5",
          "50",
          "51",
          "52",
          "53",
          "54",
          "55",
          "56",
          "57",
          "58",
          "59",
          "6",
          "60",
          "61",
          "62",
          "63",
          "64",
          "65",
          "66",
          "67",
          "68",
          "69",
          "7",
          "70",
          "71",
          "72",
          "73",
          "74",
          "75",
          "76",
          "77",
          "78",
          "79",
          "8",
          "80",
          "81",
          "82",
          "83",
          "84",
          "85",
          "86",
          "87",
          "88",
          "89",
          "9",
          "90",
          "91",
          "92",
          "93",
          "94",
          "95",
          "96",
          "97",
          "98",
          "99"
         ],
         "xaxis": "x",
         "y": [
          0.244472049689441,
          0,
          0.12515463917525774,
          0.03465476503019165,
          0.1799212598425197,
          0.21858758789361052,
          0.1828793774319066,
          0.23173803526448364,
          0,
          0.06027615507169411,
          0.16052631578947368,
          0,
          0.19499478623566216,
          0.2694025683975433,
          0.1850298079046147,
          0.0037998733375554147,
          0.19239543726235742,
          0.21588366890380314,
          0.2882217090069284,
          0.27769936485532815,
          0.006241519674355495,
          0.08221225710014948,
          0.05927405927405927,
          0.20023837902264602,
          0.04871601208459214,
          0,
          0,
          0.27121871599564745,
          0.15302491103202848,
          0.1567342073897497,
          0.2435048395313296,
          0.030774111675126902,
          0.036874236874236875,
          0.036057692307692304,
          0.13452757288373726,
          0.21565217391304348,
          0.17695961995249407,
          0.19979674796747968,
          0,
          0.13973494536154382,
          0.19692385274836108,
          0.17013712544438803,
          0,
          0.2536273940800929,
          0.0854824688496088,
          0.08850026497085321,
          0.1443850267379679,
          0.06998199819981998,
          0.10978670012547051,
          0.2724128757648311,
          0.25285935085007727,
          0.1508071367884452,
          0,
          0.06666666666666667,
          0,
          0.09647444657010112,
          0.3759250123334978,
          0.2907801418439716,
          0.186133804371826,
          0.25026325026325025,
          0.20623281393217233,
          0.18404145077720208,
          0.10538060996776594,
          0.057644991212653776,
          0.10607734806629834,
          0,
          0.168755464879044,
          0,
          0.18793607922574837,
          0.020809771544899346,
          0.268515870746354,
          0.062065972222222224,
          0,
          0.19110330699443956,
          0.26429980276134124,
          0.03781611912077523,
          0.20705663881151345,
          0.20768431983385255,
          0.12331717824448034,
          0.3940137389597645,
          0.25588235294117645,
          0.23114355231143552,
          0.06893840104849279,
          0.31674842326559216,
          0,
          0.20187793427230047,
          0.1313326879638593,
          0.013125512715340444,
          0,
          0.27657226921662376,
          0.23853670759208218,
          0.03730218538055765,
          0.21778350515463918,
          0.1289171974522293,
          0.01797945205479452,
          0.09492481203007519,
          0.019243530192435302,
          0.1377887788778878,
          0.2161559888579387,
          0.09994523548740417
         ],
         "yaxis": "y"
        },
        {
         "hovertemplate": "index=T-cells<br>variable=%{x}<br>value=%{y}<extra></extra>",
         "legendgroup": "T-cells",
         "line": {
          "color": "#19d3f3",
          "dash": "solid"
         },
         "marker": {
          "symbol": "circle"
         },
         "mode": "lines",
         "name": "T-cells",
         "orientation": "v",
         "showlegend": true,
         "type": "scatter",
         "x": [
          "0",
          "1",
          "10",
          "11",
          "12",
          "13",
          "14",
          "15",
          "16",
          "17",
          "18",
          "19",
          "2",
          "20",
          "21",
          "22",
          "23",
          "24",
          "25",
          "26",
          "27",
          "28",
          "29",
          "3",
          "30",
          "31",
          "32",
          "33",
          "34",
          "35",
          "36",
          "37",
          "38",
          "39",
          "4",
          "40",
          "41",
          "42",
          "43",
          "44",
          "45",
          "46",
          "47",
          "48",
          "49",
          "5",
          "50",
          "51",
          "52",
          "53",
          "54",
          "55",
          "56",
          "57",
          "58",
          "59",
          "6",
          "60",
          "61",
          "62",
          "63",
          "64",
          "65",
          "66",
          "67",
          "68",
          "69",
          "7",
          "70",
          "71",
          "72",
          "73",
          "74",
          "75",
          "76",
          "77",
          "78",
          "79",
          "8",
          "80",
          "81",
          "82",
          "83",
          "84",
          "85",
          "86",
          "87",
          "88",
          "89",
          "9",
          "90",
          "91",
          "92",
          "93",
          "94",
          "95",
          "96",
          "97",
          "98",
          "99"
         ],
         "xaxis": "x",
         "y": [
          0.21043478260869566,
          0.1094577553593947,
          0,
          0,
          0,
          0,
          0.1581597619592584,
          0.017632241813602016,
          0.06428801028608165,
          0.18348380244291024,
          0.15763157894736843,
          0.2517241379310345,
          0.25165102537365314,
          0.0011166945840312675,
          0.19496577610951646,
          0,
          0,
          0.025167785234899327,
          0.24341801385681294,
          0.11609033168666197,
          0.32184531886024426,
          0,
          0.4385614385614386,
          0.2758045292014303,
          0.36442598187311176,
          0.30889487870619947,
          0.24493731918997108,
          0.30930359085963005,
          0.2858837485172005,
          0.2696662693682956,
          0.09882832399388691,
          0.2766497461928934,
          0.28766788766788765,
          0.24729567307692307,
          0.02107481559536354,
          0.13826086956521738,
          0.19447743467933493,
          0.3016260162601626,
          0.2205530897917378,
          0.22506393861892582,
          0.13993948562783662,
          0.15134586084306756,
          0.28877332517589477,
          0.2585606500290192,
          0,
          0.20906200317965024,
          0,
          0.18991899189918993,
          0.18695106649937265,
          0.27321096036179837,
          0.061205564142194746,
          0,
          0.19649974007970888,
          0.28488612836438926,
          0.18973418881759854,
          0.11505875922383164,
          0.08140108534780464,
          0.27524484971293484,
          0.29344226098476484,
          0.1776061776061776,
          0.3114115490375802,
          0.2194818652849741,
          0.20902553930076867,
          0.3876977152899824,
          0.2346961325966851,
          0.044101123595505616,
          0.43456718157971436,
          0.20128865979381444,
          0.13346837722259736,
          0.3214204931011084,
          0.21504146411209607,
          0.3732638888888889,
          0.15051173991571343,
          0.3658179689786362,
          0,
          0.25360434885369887,
          0.14763231197771587,
          0.284527518172378,
          0.3729133010231556,
          0.338567222767419,
          0.11235294117647059,
          0.2552532625525326,
          0.38060288335517695,
          0,
          0.3319477434679335,
          0.12728221178925403,
          0.14875766376250404,
          0,
          0.21859903381642512,
          0.02721588819418904,
          0.030819343522926586,
          0.44951017332328563,
          0.009664948453608248,
          0.025222929936305732,
          0.3567351598173516,
          0.013157894736842105,
          0.16091572660915726,
          0,
          0.235933147632312,
          0.4088170865279299
         ],
         "yaxis": "y"
        },
        {
         "hovertemplate": "index=Dendritic cells<br>variable=%{x}<br>value=%{y}<extra></extra>",
         "legendgroup": "Dendritic cells",
         "line": {
          "color": "#FF6692",
          "dash": "solid"
         },
         "marker": {
          "symbol": "circle"
         },
         "mode": "lines",
         "name": "Dendritic cells",
         "orientation": "v",
         "showlegend": true,
         "type": "scatter",
         "x": [
          "0",
          "1",
          "10",
          "11",
          "12",
          "13",
          "14",
          "15",
          "16",
          "17",
          "18",
          "19",
          "2",
          "20",
          "21",
          "22",
          "23",
          "24",
          "25",
          "26",
          "27",
          "28",
          "29",
          "3",
          "30",
          "31",
          "32",
          "33",
          "34",
          "35",
          "36",
          "37",
          "38",
          "39",
          "4",
          "40",
          "41",
          "42",
          "43",
          "44",
          "45",
          "46",
          "47",
          "48",
          "49",
          "5",
          "50",
          "51",
          "52",
          "53",
          "54",
          "55",
          "56",
          "57",
          "58",
          "59",
          "6",
          "60",
          "61",
          "62",
          "63",
          "64",
          "65",
          "66",
          "67",
          "68",
          "69",
          "7",
          "70",
          "71",
          "72",
          "73",
          "74",
          "75",
          "76",
          "77",
          "78",
          "79",
          "8",
          "80",
          "81",
          "82",
          "83",
          "84",
          "85",
          "86",
          "87",
          "88",
          "89",
          "9",
          "90",
          "91",
          "92",
          "93",
          "94",
          "95",
          "96",
          "97",
          "98",
          "99"
         ],
         "xaxis": "x",
         "y": [
          0,
          0.17755359394703657,
          0.16969072164948454,
          0.12076660540824363,
          0.07795275590551182,
          0.0623662488535616,
          0.15884641794460974,
          0,
          0.03985856637737062,
          0.18667020711630378,
          0.13236842105263158,
          0.08333333333333333,
          0.09593326381647549,
          0,
          0.13557076617354824,
          0.0889803673210893,
          0.023067173637515842,
          0.22651006711409397,
          0.12009237875288684,
          0,
          0.28331071913161465,
          0.25052316890881915,
          0.003663003663003663,
          0.03384982121573302,
          0.027945619335347432,
          0.04043126684636118,
          0.1051108968177435,
          0,
          0.03867141162514828,
          0.25,
          0.003056546102903719,
          0.31630710659898476,
          0.2459096459096459,
          0,
          0.11520899192132068,
          0,
          0.14815914489311163,
          0.06117886178861789,
          0.11676340047797883,
          0,
          0.08925869894099848,
          0.4388014220416455,
          0.11287855613337412,
          0.2832269297736506,
          0.20776586496667632,
          0.20985691573926868,
          0.23689839572192514,
          0.14423942394239425,
          0,
          0.16972599095504123,
          0.17279752704791346,
          0.05437553101104503,
          0.17345347426789118,
          0.13167701863354037,
          0.16443629697525206,
          0.03388904072150861,
          0.3339911198815984,
          0.2110773387369132,
          0.1856922057849415,
          0.14987714987714987,
          0.1038038496791934,
          0.19378238341968912,
          0.2172080337217952,
          0.10228471001757469,
          0,
          0.21460674157303372,
          0.04896531623433401,
          0.16804123711340208,
          0,
          0.0321194299932142,
          0.06863025450386046,
          0.0625,
          0.03732691149909693,
          0.11852502194907814,
          0.08171315863623556,
          0.09737650673599622,
          0.08542246982358404,
          0,
          0.18686052773290254,
          0.06771344455348381,
          0.11970588235294118,
          0.1552753815527538,
          0.12031454783748362,
          0.16888577435178698,
          0.20368171021377673,
          0.23422013562858635,
          0.044530493707647625,
          0.15504511894995898,
          0.051328502415458936,
          0.17359323280617875,
          0,
          0,
          0.13563144329896906,
          0.18624203821656052,
          0.245148401826484,
          0.005169172932330827,
          0.24751161247511613,
          0.09447194719471948,
          0,
          0.1689485213581599
         ],
         "yaxis": "y"
        }
       ],
       "layout": {
        "legend": {
         "title": {
          "text": "Cell Types (CTs)"
         },
         "tracegroupgap": 0
        },
        "margin": {
         "t": 60
        },
        "template": {
         "data": {
          "bar": [
           {
            "error_x": {
             "color": "#2a3f5f"
            },
            "error_y": {
             "color": "#2a3f5f"
            },
            "marker": {
             "line": {
              "color": "#E5ECF6",
              "width": 0.5
             },
             "pattern": {
              "fillmode": "overlay",
              "size": 10,
              "solidity": 0.2
             }
            },
            "type": "bar"
           }
          ],
          "barpolar": [
           {
            "marker": {
             "line": {
              "color": "#E5ECF6",
              "width": 0.5
             },
             "pattern": {
              "fillmode": "overlay",
              "size": 10,
              "solidity": 0.2
             }
            },
            "type": "barpolar"
           }
          ],
          "carpet": [
           {
            "aaxis": {
             "endlinecolor": "#2a3f5f",
             "gridcolor": "white",
             "linecolor": "white",
             "minorgridcolor": "white",
             "startlinecolor": "#2a3f5f"
            },
            "baxis": {
             "endlinecolor": "#2a3f5f",
             "gridcolor": "white",
             "linecolor": "white",
             "minorgridcolor": "white",
             "startlinecolor": "#2a3f5f"
            },
            "type": "carpet"
           }
          ],
          "choropleth": [
           {
            "colorbar": {
             "outlinewidth": 0,
             "ticks": ""
            },
            "type": "choropleth"
           }
          ],
          "contour": [
           {
            "colorbar": {
             "outlinewidth": 0,
             "ticks": ""
            },
            "colorscale": [
             [
              0,
              "#0d0887"
             ],
             [
              0.1111111111111111,
              "#46039f"
             ],
             [
              0.2222222222222222,
              "#7201a8"
             ],
             [
              0.3333333333333333,
              "#9c179e"
             ],
             [
              0.4444444444444444,
              "#bd3786"
             ],
             [
              0.5555555555555556,
              "#d8576b"
             ],
             [
              0.6666666666666666,
              "#ed7953"
             ],
             [
              0.7777777777777778,
              "#fb9f3a"
             ],
             [
              0.8888888888888888,
              "#fdca26"
             ],
             [
              1,
              "#f0f921"
             ]
            ],
            "type": "contour"
           }
          ],
          "contourcarpet": [
           {
            "colorbar": {
             "outlinewidth": 0,
             "ticks": ""
            },
            "type": "contourcarpet"
           }
          ],
          "heatmap": [
           {
            "colorbar": {
             "outlinewidth": 0,
             "ticks": ""
            },
            "colorscale": [
             [
              0,
              "#0d0887"
             ],
             [
              0.1111111111111111,
              "#46039f"
             ],
             [
              0.2222222222222222,
              "#7201a8"
             ],
             [
              0.3333333333333333,
              "#9c179e"
             ],
             [
              0.4444444444444444,
              "#bd3786"
             ],
             [
              0.5555555555555556,
              "#d8576b"
             ],
             [
              0.6666666666666666,
              "#ed7953"
             ],
             [
              0.7777777777777778,
              "#fb9f3a"
             ],
             [
              0.8888888888888888,
              "#fdca26"
             ],
             [
              1,
              "#f0f921"
             ]
            ],
            "type": "heatmap"
           }
          ],
          "heatmapgl": [
           {
            "colorbar": {
             "outlinewidth": 0,
             "ticks": ""
            },
            "colorscale": [
             [
              0,
              "#0d0887"
             ],
             [
              0.1111111111111111,
              "#46039f"
             ],
             [
              0.2222222222222222,
              "#7201a8"
             ],
             [
              0.3333333333333333,
              "#9c179e"
             ],
             [
              0.4444444444444444,
              "#bd3786"
             ],
             [
              0.5555555555555556,
              "#d8576b"
             ],
             [
              0.6666666666666666,
              "#ed7953"
             ],
             [
              0.7777777777777778,
              "#fb9f3a"
             ],
             [
              0.8888888888888888,
              "#fdca26"
             ],
             [
              1,
              "#f0f921"
             ]
            ],
            "type": "heatmapgl"
           }
          ],
          "histogram": [
           {
            "marker": {
             "pattern": {
              "fillmode": "overlay",
              "size": 10,
              "solidity": 0.2
             }
            },
            "type": "histogram"
           }
          ],
          "histogram2d": [
           {
            "colorbar": {
             "outlinewidth": 0,
             "ticks": ""
            },
            "colorscale": [
             [
              0,
              "#0d0887"
             ],
             [
              0.1111111111111111,
              "#46039f"
             ],
             [
              0.2222222222222222,
              "#7201a8"
             ],
             [
              0.3333333333333333,
              "#9c179e"
             ],
             [
              0.4444444444444444,
              "#bd3786"
             ],
             [
              0.5555555555555556,
              "#d8576b"
             ],
             [
              0.6666666666666666,
              "#ed7953"
             ],
             [
              0.7777777777777778,
              "#fb9f3a"
             ],
             [
              0.8888888888888888,
              "#fdca26"
             ],
             [
              1,
              "#f0f921"
             ]
            ],
            "type": "histogram2d"
           }
          ],
          "histogram2dcontour": [
           {
            "colorbar": {
             "outlinewidth": 0,
             "ticks": ""
            },
            "colorscale": [
             [
              0,
              "#0d0887"
             ],
             [
              0.1111111111111111,
              "#46039f"
             ],
             [
              0.2222222222222222,
              "#7201a8"
             ],
             [
              0.3333333333333333,
              "#9c179e"
             ],
             [
              0.4444444444444444,
              "#bd3786"
             ],
             [
              0.5555555555555556,
              "#d8576b"
             ],
             [
              0.6666666666666666,
              "#ed7953"
             ],
             [
              0.7777777777777778,
              "#fb9f3a"
             ],
             [
              0.8888888888888888,
              "#fdca26"
             ],
             [
              1,
              "#f0f921"
             ]
            ],
            "type": "histogram2dcontour"
           }
          ],
          "mesh3d": [
           {
            "colorbar": {
             "outlinewidth": 0,
             "ticks": ""
            },
            "type": "mesh3d"
           }
          ],
          "parcoords": [
           {
            "line": {
             "colorbar": {
              "outlinewidth": 0,
              "ticks": ""
             }
            },
            "type": "parcoords"
           }
          ],
          "pie": [
           {
            "automargin": true,
            "type": "pie"
           }
          ],
          "scatter": [
           {
            "fillpattern": {
             "fillmode": "overlay",
             "size": 10,
             "solidity": 0.2
            },
            "type": "scatter"
           }
          ],
          "scatter3d": [
           {
            "line": {
             "colorbar": {
              "outlinewidth": 0,
              "ticks": ""
             }
            },
            "marker": {
             "colorbar": {
              "outlinewidth": 0,
              "ticks": ""
             }
            },
            "type": "scatter3d"
           }
          ],
          "scattercarpet": [
           {
            "marker": {
             "colorbar": {
              "outlinewidth": 0,
              "ticks": ""
             }
            },
            "type": "scattercarpet"
           }
          ],
          "scattergeo": [
           {
            "marker": {
             "colorbar": {
              "outlinewidth": 0,
              "ticks": ""
             }
            },
            "type": "scattergeo"
           }
          ],
          "scattergl": [
           {
            "marker": {
             "colorbar": {
              "outlinewidth": 0,
              "ticks": ""
             }
            },
            "type": "scattergl"
           }
          ],
          "scattermapbox": [
           {
            "marker": {
             "colorbar": {
              "outlinewidth": 0,
              "ticks": ""
             }
            },
            "type": "scattermapbox"
           }
          ],
          "scatterpolar": [
           {
            "marker": {
             "colorbar": {
              "outlinewidth": 0,
              "ticks": ""
             }
            },
            "type": "scatterpolar"
           }
          ],
          "scatterpolargl": [
           {
            "marker": {
             "colorbar": {
              "outlinewidth": 0,
              "ticks": ""
             }
            },
            "type": "scatterpolargl"
           }
          ],
          "scatterternary": [
           {
            "marker": {
             "colorbar": {
              "outlinewidth": 0,
              "ticks": ""
             }
            },
            "type": "scatterternary"
           }
          ],
          "surface": [
           {
            "colorbar": {
             "outlinewidth": 0,
             "ticks": ""
            },
            "colorscale": [
             [
              0,
              "#0d0887"
             ],
             [
              0.1111111111111111,
              "#46039f"
             ],
             [
              0.2222222222222222,
              "#7201a8"
             ],
             [
              0.3333333333333333,
              "#9c179e"
             ],
             [
              0.4444444444444444,
              "#bd3786"
             ],
             [
              0.5555555555555556,
              "#d8576b"
             ],
             [
              0.6666666666666666,
              "#ed7953"
             ],
             [
              0.7777777777777778,
              "#fb9f3a"
             ],
             [
              0.8888888888888888,
              "#fdca26"
             ],
             [
              1,
              "#f0f921"
             ]
            ],
            "type": "surface"
           }
          ],
          "table": [
           {
            "cells": {
             "fill": {
              "color": "#EBF0F8"
             },
             "line": {
              "color": "white"
             }
            },
            "header": {
             "fill": {
              "color": "#C8D4E3"
             },
             "line": {
              "color": "white"
             }
            },
            "type": "table"
           }
          ]
         },
         "layout": {
          "annotationdefaults": {
           "arrowcolor": "#2a3f5f",
           "arrowhead": 0,
           "arrowwidth": 1
          },
          "autotypenumbers": "strict",
          "coloraxis": {
           "colorbar": {
            "outlinewidth": 0,
            "ticks": ""
           }
          },
          "colorscale": {
           "diverging": [
            [
             0,
             "#8e0152"
            ],
            [
             0.1,
             "#c51b7d"
            ],
            [
             0.2,
             "#de77ae"
            ],
            [
             0.3,
             "#f1b6da"
            ],
            [
             0.4,
             "#fde0ef"
            ],
            [
             0.5,
             "#f7f7f7"
            ],
            [
             0.6,
             "#e6f5d0"
            ],
            [
             0.7,
             "#b8e186"
            ],
            [
             0.8,
             "#7fbc41"
            ],
            [
             0.9,
             "#4d9221"
            ],
            [
             1,
             "#276419"
            ]
           ],
           "sequential": [
            [
             0,
             "#0d0887"
            ],
            [
             0.1111111111111111,
             "#46039f"
            ],
            [
             0.2222222222222222,
             "#7201a8"
            ],
            [
             0.3333333333333333,
             "#9c179e"
            ],
            [
             0.4444444444444444,
             "#bd3786"
            ],
            [
             0.5555555555555556,
             "#d8576b"
            ],
            [
             0.6666666666666666,
             "#ed7953"
            ],
            [
             0.7777777777777778,
             "#fb9f3a"
            ],
            [
             0.8888888888888888,
             "#fdca26"
            ],
            [
             1,
             "#f0f921"
            ]
           ],
           "sequentialminus": [
            [
             0,
             "#0d0887"
            ],
            [
             0.1111111111111111,
             "#46039f"
            ],
            [
             0.2222222222222222,
             "#7201a8"
            ],
            [
             0.3333333333333333,
             "#9c179e"
            ],
            [
             0.4444444444444444,
             "#bd3786"
            ],
            [
             0.5555555555555556,
             "#d8576b"
            ],
            [
             0.6666666666666666,
             "#ed7953"
            ],
            [
             0.7777777777777778,
             "#fb9f3a"
            ],
            [
             0.8888888888888888,
             "#fdca26"
            ],
            [
             1,
             "#f0f921"
            ]
           ]
          },
          "colorway": [
           "#636efa",
           "#EF553B",
           "#00cc96",
           "#ab63fa",
           "#FFA15A",
           "#19d3f3",
           "#FF6692",
           "#B6E880",
           "#FF97FF",
           "#FECB52"
          ],
          "font": {
           "color": "#2a3f5f"
          },
          "geo": {
           "bgcolor": "white",
           "lakecolor": "white",
           "landcolor": "#E5ECF6",
           "showlakes": true,
           "showland": true,
           "subunitcolor": "white"
          },
          "hoverlabel": {
           "align": "left"
          },
          "hovermode": "closest",
          "mapbox": {
           "style": "light"
          },
          "paper_bgcolor": "white",
          "plot_bgcolor": "#E5ECF6",
          "polar": {
           "angularaxis": {
            "gridcolor": "white",
            "linecolor": "white",
            "ticks": ""
           },
           "bgcolor": "#E5ECF6",
           "radialaxis": {
            "gridcolor": "white",
            "linecolor": "white",
            "ticks": ""
           }
          },
          "scene": {
           "xaxis": {
            "backgroundcolor": "#E5ECF6",
            "gridcolor": "white",
            "gridwidth": 2,
            "linecolor": "white",
            "showbackground": true,
            "ticks": "",
            "zerolinecolor": "white"
           },
           "yaxis": {
            "backgroundcolor": "#E5ECF6",
            "gridcolor": "white",
            "gridwidth": 2,
            "linecolor": "white",
            "showbackground": true,
            "ticks": "",
            "zerolinecolor": "white"
           },
           "zaxis": {
            "backgroundcolor": "#E5ECF6",
            "gridcolor": "white",
            "gridwidth": 2,
            "linecolor": "white",
            "showbackground": true,
            "ticks": "",
            "zerolinecolor": "white"
           }
          },
          "shapedefaults": {
           "line": {
            "color": "#2a3f5f"
           }
          },
          "ternary": {
           "aaxis": {
            "gridcolor": "white",
            "linecolor": "white",
            "ticks": ""
           },
           "baxis": {
            "gridcolor": "white",
            "linecolor": "white",
            "ticks": ""
           },
           "bgcolor": "#E5ECF6",
           "caxis": {
            "gridcolor": "white",
            "linecolor": "white",
            "ticks": ""
           }
          },
          "title": {
           "x": 0.05
          },
          "xaxis": {
           "automargin": true,
           "gridcolor": "white",
           "linecolor": "white",
           "ticks": "",
           "title": {
            "standoff": 15
           },
           "zerolinecolor": "white",
           "zerolinewidth": 2
          },
          "yaxis": {
           "automargin": true,
           "gridcolor": "white",
           "linecolor": "white",
           "ticks": "",
           "title": {
            "standoff": 15
           },
           "zerolinecolor": "white",
           "zerolinewidth": 2
          }
         }
        },
        "title": {
         "text": "Percent Composition Across Simulations with 1 Variance"
        },
        "xaxis": {
         "anchor": "y",
         "domain": [
          0,
          1
         ],
         "title": {
          "text": "Simulation"
         }
        },
        "yaxis": {
         "anchor": "x",
         "domain": [
          0,
          1
         ],
         "title": {
          "text": "Percent Composition"
         }
        }
       }
      },
      "text/html": [
       "<div>                            <div id=\"286df788-250b-4996-9245-dd9f235fdd00\" class=\"plotly-graph-div\" style=\"height:525px; width:100%;\"></div>            <script type=\"text/javascript\">                require([\"plotly\"], function(Plotly) {                    window.PLOTLYENV=window.PLOTLYENV || {};                                    if (document.getElementById(\"286df788-250b-4996-9245-dd9f235fdd00\")) {                    Plotly.newPlot(                        \"286df788-250b-4996-9245-dd9f235fdd00\",                        [{\"hovertemplate\":\"index=Macrophages\\u003cbr\\u003evariable=%{x}\\u003cbr\\u003evalue=%{y}\\u003cextra\\u003e\\u003c\\u002fextra\\u003e\",\"legendgroup\":\"Macrophages\",\"line\":{\"color\":\"#636efa\",\"dash\":\"solid\"},\"marker\":{\"symbol\":\"circle\"},\"mode\":\"lines\",\"name\":\"Macrophages\",\"orientation\":\"v\",\"showlegend\":true,\"x\":[\"0\",\"1\",\"10\",\"11\",\"12\",\"13\",\"14\",\"15\",\"16\",\"17\",\"18\",\"19\",\"2\",\"20\",\"21\",\"22\",\"23\",\"24\",\"25\",\"26\",\"27\",\"28\",\"29\",\"3\",\"30\",\"31\",\"32\",\"33\",\"34\",\"35\",\"36\",\"37\",\"38\",\"39\",\"4\",\"40\",\"41\",\"42\",\"43\",\"44\",\"45\",\"46\",\"47\",\"48\",\"49\",\"5\",\"50\",\"51\",\"52\",\"53\",\"54\",\"55\",\"56\",\"57\",\"58\",\"59\",\"6\",\"60\",\"61\",\"62\",\"63\",\"64\",\"65\",\"66\",\"67\",\"68\",\"69\",\"7\",\"70\",\"71\",\"72\",\"73\",\"74\",\"75\",\"76\",\"77\",\"78\",\"79\",\"8\",\"80\",\"81\",\"82\",\"83\",\"84\",\"85\",\"86\",\"87\",\"88\",\"89\",\"9\",\"90\",\"91\",\"92\",\"93\",\"94\",\"95\",\"96\",\"97\",\"98\",\"99\"],\"xaxis\":\"x\",\"y\":[0.2342857142857143,0.10239596469104666,0.18,0.22578104489367287,0.047637795275590554,0.17915010700091716,0.13687342641336692,0.020431010355443605,0.30408228865316617,0.0,0.3136842105263158,0.2074712643678161,0.132429614181439,0.24762702400893355,0.25723117686023406,0.33723875870804304,0.13130544993662865,0.32466442953020136,0.039722863741339494,0.3285109386026817,0.2005427408412483,0.19701046337817638,0.04628704628704629,0.1730631704410012,0.22545317220543806,0.05525606469002695,0.21485053037608487,0.019042437431991296,0.0,0.11144219308700834,0.22109016811003565,0.26776649746192893,0.0,0.3584735576923077,0.06954689146469968,0.01565217391304348,0.22387173396674584,0.0,0.2509388869921475,0.10741687979539642,0.16187594553706505,0.08684611477907567,0.13031508106454573,0.0803830528148578,0.270935960591133,0.0,0.23475935828877006,0.26552655265526554,0.07340025094102885,0.0,0.1106646058732612,0.10067969413763807,0.12302893779241032,0.10973084886128365,0.1994500458295142,0.29543591145121617,0.046373951652688705,0.10064167510976021,0.19430337822918967,0.0,0.10907424381301559,0.05886010362694301,0.0,0.16660808435852373,0.23955801104972377,0.2398876404494382,0.09326726901777907,0.09149484536082474,0.12288993923024984,0.2522053833974214,0.002573634543894767,0.08289930555555555,0.1333534015653221,0.024290313140181447,0.10679064525218371,0.25029543843063107,0.14020427112349118,0.14771547248182762,0.1973613354873452,0.09666339548577037,0.09382352941176471,0.0115018801150188,0.0,0.04204625087596356,0.10748218527315914,0.19796557120500782,0.016456921587608905,0.07929997265518185,0.3351449275362319,0.3946303788157411,0.2453019293410173,0.3036925395629239,0.061855670103092786,0.25070063694267514,0.0,0.03195488721804511,0.3284671532846715,0.057755775577557754,0.1626740947075209,0.009857612267250822],\"yaxis\":\"y\",\"type\":\"scatter\"},{\"hovertemplate\":\"index=B-cells\\u003cbr\\u003evariable=%{x}\\u003cbr\\u003evalue=%{y}\\u003cextra\\u003e\\u003c\\u002fextra\\u003e\",\"legendgroup\":\"B-cells\",\"line\":{\"color\":\"#EF553B\",\"dash\":\"solid\"},\"marker\":{\"symbol\":\"circle\"},\"mode\":\"lines\",\"name\":\"B-cells\",\"orientation\":\"v\",\"showlegend\":true,\"x\":[\"0\",\"1\",\"10\",\"11\",\"12\",\"13\",\"14\",\"15\",\"16\",\"17\",\"18\",\"19\",\"2\",\"20\",\"21\",\"22\",\"23\",\"24\",\"25\",\"26\",\"27\",\"28\",\"29\",\"3\",\"30\",\"31\",\"32\",\"33\",\"34\",\"35\",\"36\",\"37\",\"38\",\"39\",\"4\",\"40\",\"41\",\"42\",\"43\",\"44\",\"45\",\"46\",\"47\",\"48\",\"49\",\"5\",\"50\",\"51\",\"52\",\"53\",\"54\",\"55\",\"56\",\"57\",\"58\",\"59\",\"6\",\"60\",\"61\",\"62\",\"63\",\"64\",\"65\",\"66\",\"67\",\"68\",\"69\",\"7\",\"70\",\"71\",\"72\",\"73\",\"74\",\"75\",\"76\",\"77\",\"78\",\"79\",\"8\",\"80\",\"81\",\"82\",\"83\",\"84\",\"85\",\"86\",\"87\",\"88\",\"89\",\"9\",\"90\",\"91\",\"92\",\"93\",\"94\",\"95\",\"96\",\"97\",\"98\",\"99\"],\"xaxis\":\"x\",\"y\":[0.08496894409937888,0.24817150063051702,0.19154639175257732,0.2373326332370701,0.3562992125984252,0.22286762457963927,0.17761501487754636,0.2767982087881332,0.08968177434908389,0.2047265002655337,0.013157894736842105,0.13448275862068965,0.0,0.1426577331099944,0.2183705012143961,0.18872704243191893,0.13130544993662865,0.12472035794183445,0.018937644341801386,0.027170077628793227,0.16363636363636364,0.2705530642750374,0.0,0.0,0.0,0.18733153638814015,0.0570877531340405,0.07290533188248095,0.13855278766310794,0.0166865315852205,0.2628629648497198,0.0,0.12161172161172161,0.19501201923076922,0.29574991218826835,0.059130434782608696,0.0,0.18048780487804877,0.2686923864800273,0.1534526854219949,0.19440242057488655,0.0,0.1560110125420618,0.0,0.11416980585337583,0.11234764175940647,0.2106951871657754,0.0,0.2383939774153074,0.15881883479648842,0.12797527047913446,0.001274426508071368,0.1658291457286432,0.0,0.17030247479376717,0.2153593878108773,0.10952146028613714,0.0,0.0,0.30256230256230254,0.17804766269477543,0.1801036269430052,0.19811554673939996,0.0,0.1425414364640884,0.06882022471910113,0.0,0.2574742268041237,0.14922349763673193,0.17281158109025108,0.13783242779525307,0.0,0.3073449729078868,0.28767925080479956,0.25443786982248523,0.11912077523044197,0.2872175796966883,0.006490134994807892,0.0,0.08047105004906771,0.1952941176470588,0.21190002211900022,0.005504587155963303,0.12543798177995796,0.09619952494061758,0.107981220657277,0.3159083575346886,0.17856166256494393,0.2179951690821256,0.11879367414490621,0.10197945377098472,0.06631499623210249,0.3086340206185567,0.25019108280254776,0.1892123287671233,0.34727443609022557,0.0,0.07425742574257425,0.1501392757660167,0.032037239868565166],\"yaxis\":\"y\",\"type\":\"scatter\"},{\"hovertemplate\":\"index=Monocytes\\u003cbr\\u003evariable=%{x}\\u003cbr\\u003evalue=%{y}\\u003cextra\\u003e\\u003c\\u002fextra\\u003e\",\"legendgroup\":\"Monocytes\",\"line\":{\"color\":\"#00cc96\",\"dash\":\"solid\"},\"marker\":{\"symbol\":\"circle\"},\"mode\":\"lines\",\"name\":\"Monocytes\",\"orientation\":\"v\",\"showlegend\":true,\"x\":[\"0\",\"1\",\"10\",\"11\",\"12\",\"13\",\"14\",\"15\",\"16\",\"17\",\"18\",\"19\",\"2\",\"20\",\"21\",\"22\",\"23\",\"24\",\"25\",\"26\",\"27\",\"28\",\"29\",\"3\",\"30\",\"31\",\"32\",\"33\",\"34\",\"35\",\"36\",\"37\",\"38\",\"39\",\"4\",\"40\",\"41\",\"42\",\"43\",\"44\",\"45\",\"46\",\"47\",\"48\",\"49\",\"5\",\"50\",\"51\",\"52\",\"53\",\"54\",\"55\",\"56\",\"57\",\"58\",\"59\",\"6\",\"60\",\"61\",\"62\",\"63\",\"64\",\"65\",\"66\",\"67\",\"68\",\"69\",\"7\",\"70\",\"71\",\"72\",\"73\",\"74\",\"75\",\"76\",\"77\",\"78\",\"79\",\"8\",\"80\",\"81\",\"82\",\"83\",\"84\",\"85\",\"86\",\"87\",\"88\",\"89\",\"9\",\"90\",\"91\",\"92\",\"93\",\"94\",\"95\",\"96\",\"97\",\"98\",\"99\"],\"xaxis\":\"x\",\"y\":[0.09937888198757763,0.1871374527112232,0.1843298969072165,0.27093725387240747,0.11968503937007874,0.18801589727911955,0.0,0.260565351245452,0.23336547733847637,0.2732342007434944,0.22263157894736843,0.18620689655172415,0.1591936044490789,0.03796761585706309,0.00883197173769044,0.2720075997466751,0.26337135614702156,0.0,0.0,0.22300635144671843,0.024423337856173677,0.03976083707025411,0.2547452547452547,0.08891537544696067,0.2753021148036254,0.22668463611859838,0.18418514946962392,0.22007616974972796,0.23463819691577698,0.19547079856972585,0.0,0.10628172588832488,0.17631257631257632,0.15655048076923078,0.0,0.12782608695652173,0.047802850356294536,0.20264227642276422,0.038579720040969614,0.1925133689839572,0.21759959657085223,0.061960385982732354,0.11043132456408687,0.044399303540336624,0.09881193856853086,0.2533121356650768,0.11283422459893049,0.10373537353735374,0.2440401505646173,0.040702314445331206,0.0,0.28674596431605776,0.1696413099982672,0.14368530020703935,0.07901008249312558,0.24378245422246517,0.0,0.060452549814251945,0.13844115698829765,0.08108108108108109,0.0,0.16373056994818652,0.18943714356558394,0.17258347978910368,0.07049723756906077,0.1396067415730337,0.031186243077819878,0.06675257731958763,0.22372270988071122,0.0,0.0,0.2243923611111111,0.2477423239012643,0.012584138132865087,0.2042828965905889,0.0,0.0,0.127466251298027,0.05627355950457728,0.0,0.0,0.0,0.18820445609436434,0.34442887175893483,0.12796912114014253,0.13067292644757433,0.0,0.27727645611156687,0.057367149758454104,0.0,0.15760461037334,0.01092690278824416,0.0,0.15872611464968153,0.07448630136986302,0.0,0.17750497677504976,0.21699669966996699,0.08495821727019498,0.28039430449069],\"yaxis\":\"y\",\"type\":\"scatter\"},{\"hovertemplate\":\"index=Nk-cells\\u003cbr\\u003evariable=%{x}\\u003cbr\\u003evalue=%{y}\\u003cextra\\u003e\\u003c\\u002fextra\\u003e\",\"legendgroup\":\"Nk-cells\",\"line\":{\"color\":\"#ab63fa\",\"dash\":\"solid\"},\"marker\":{\"symbol\":\"circle\"},\"mode\":\"lines\",\"name\":\"Nk-cells\",\"orientation\":\"v\",\"showlegend\":true,\"x\":[\"0\",\"1\",\"10\",\"11\",\"12\",\"13\",\"14\",\"15\",\"16\",\"17\",\"18\",\"19\",\"2\",\"20\",\"21\",\"22\",\"23\",\"24\",\"25\",\"26\",\"27\",\"28\",\"29\",\"3\",\"30\",\"31\",\"32\",\"33\",\"34\",\"35\",\"36\",\"37\",\"38\",\"39\",\"4\",\"40\",\"41\",\"42\",\"43\",\"44\",\"45\",\"46\",\"47\",\"48\",\"49\",\"5\",\"50\",\"51\",\"52\",\"53\",\"54\",\"55\",\"56\",\"57\",\"58\",\"59\",\"6\",\"60\",\"61\",\"62\",\"63\",\"64\",\"65\",\"66\",\"67\",\"68\",\"69\",\"7\",\"70\",\"71\",\"72\",\"73\",\"74\",\"75\",\"76\",\"77\",\"78\",\"79\",\"8\",\"80\",\"81\",\"82\",\"83\",\"84\",\"85\",\"86\",\"87\",\"88\",\"89\",\"9\",\"90\",\"91\",\"92\",\"93\",\"94\",\"95\",\"96\",\"97\",\"98\",\"99\"],\"xaxis\":\"x\",\"y\":[0.12645962732919255,0.17528373266078184,0.14927835051546393,0.11052769755841428,0.21850393700787402,0.12901253439315194,0.18562600137331198,0.19283515253288552,0.2687238829958213,0.09160913436006372,0.0,0.1367816091954023,0.16579770594369134,0.3012283640424344,0.0,0.10924635845471818,0.2585551330798479,0.08305369127516779,0.28960739030023097,0.027522935779816515,0.0,0.15994020926756353,0.19746919746919747,0.22812872467222883,0.0581570996978852,0.18140161725067386,0.19382835101253615,0.10745375408052231,0.14922894424673785,0.0,0.1706571574121243,0.002220812182741117,0.13162393162393163,0.006610576923076923,0.36389181594661046,0.4434782608695652,0.208729216152019,0.05426829268292683,0.10447251621713896,0.18181818181818182,0.0,0.09090909090909091,0.20159070052003672,0.07980266976204295,0.22283396117067517,0.12692103868574456,0.06042780748663101,0.2265976597659766,0.14742785445420326,0.08512902367650971,0.27449768160741883,0.40611724723874254,0.17154739213307918,0.26335403726708073,0.19706691109074242,0.0,0.05278737049827331,0.06180344478216818,0.001987193640980349,0.03861003861003861,0.09142988084326306,0.0,0.08083312670468634,0.11318101933216168,0.20662983425414364,0.29297752808988764,0.22325852521130865,0.21494845360824744,0.18275939680396128,0.20063334087310564,0.30740634829854163,0.1948784722222222,0.12372065021071643,0.0,0.0884756269371654,0.24178681162845664,0.1324667285670071,0.22611630321910695,0.06327409800753904,0.022571148184494603,0.22294117647058823,0.13492590134925903,0.236435124508519,0.002452697967764541,0.13271971496437054,0.0,0.3430138754436915,0.2966912770030079,0.11956521739130435,0.009194556822361161,0.2257579553996492,0.1322532027128862,0.266430412371134,0.0,0.11643835616438356,0.5075187969924813,0.06635700066357,0.41872937293729373,0.1501392757660167,0.0],\"yaxis\":\"y\",\"type\":\"scatter\"},{\"hovertemplate\":\"index=Platelets\\u003cbr\\u003evariable=%{x}\\u003cbr\\u003evalue=%{y}\\u003cextra\\u003e\\u003c\\u002fextra\\u003e\",\"legendgroup\":\"Platelets\",\"line\":{\"color\":\"#FFA15A\",\"dash\":\"solid\"},\"marker\":{\"symbol\":\"circle\"},\"mode\":\"lines\",\"name\":\"Platelets\",\"orientation\":\"v\",\"showlegend\":true,\"x\":[\"0\",\"1\",\"10\",\"11\",\"12\",\"13\",\"14\",\"15\",\"16\",\"17\",\"18\",\"19\",\"2\",\"20\",\"21\",\"22\",\"23\",\"24\",\"25\",\"26\",\"27\",\"28\",\"29\",\"3\",\"30\",\"31\",\"32\",\"33\",\"34\",\"35\",\"36\",\"37\",\"38\",\"39\",\"4\",\"40\",\"41\",\"42\",\"43\",\"44\",\"45\",\"46\",\"47\",\"48\",\"49\",\"5\",\"50\",\"51\",\"52\",\"53\",\"54\",\"55\",\"56\",\"57\",\"58\",\"59\",\"6\",\"60\",\"61\",\"62\",\"63\",\"64\",\"65\",\"66\",\"67\",\"68\",\"69\",\"7\",\"70\",\"71\",\"72\",\"73\",\"74\",\"75\",\"76\",\"77\",\"78\",\"79\",\"8\",\"80\",\"81\",\"82\",\"83\",\"84\",\"85\",\"86\",\"87\",\"88\",\"89\",\"9\",\"90\",\"91\",\"92\",\"93\",\"94\",\"95\",\"96\",\"97\",\"98\",\"99\"],\"xaxis\":\"x\",\"y\":[0.244472049689441,0.0,0.12515463917525774,0.03465476503019165,0.1799212598425197,0.21858758789361052,0.1828793774319066,0.23173803526448364,0.0,0.06027615507169411,0.16052631578947368,0.0,0.19499478623566216,0.2694025683975433,0.1850298079046147,0.0037998733375554147,0.19239543726235742,0.21588366890380314,0.2882217090069284,0.27769936485532815,0.006241519674355495,0.08221225710014948,0.05927405927405927,0.20023837902264602,0.04871601208459214,0.0,0.0,0.27121871599564745,0.15302491103202848,0.1567342073897497,0.2435048395313296,0.030774111675126902,0.036874236874236875,0.036057692307692304,0.13452757288373726,0.21565217391304348,0.17695961995249407,0.19979674796747968,0.0,0.13973494536154382,0.19692385274836108,0.17013712544438803,0.0,0.2536273940800929,0.0854824688496088,0.08850026497085321,0.1443850267379679,0.06998199819981998,0.10978670012547051,0.2724128757648311,0.25285935085007727,0.1508071367884452,0.0,0.06666666666666667,0.0,0.09647444657010112,0.3759250123334978,0.2907801418439716,0.186133804371826,0.25026325026325025,0.20623281393217233,0.18404145077720208,0.10538060996776594,0.057644991212653776,0.10607734806629834,0.0,0.168755464879044,0.0,0.18793607922574837,0.020809771544899346,0.268515870746354,0.062065972222222224,0.0,0.19110330699443956,0.26429980276134124,0.03781611912077523,0.20705663881151345,0.20768431983385255,0.12331717824448034,0.3940137389597645,0.25588235294117645,0.23114355231143552,0.06893840104849279,0.31674842326559216,0.0,0.20187793427230047,0.1313326879638593,0.013125512715340444,0.0,0.27657226921662376,0.23853670759208218,0.03730218538055765,0.21778350515463918,0.1289171974522293,0.01797945205479452,0.09492481203007519,0.019243530192435302,0.1377887788778878,0.2161559888579387,0.09994523548740417],\"yaxis\":\"y\",\"type\":\"scatter\"},{\"hovertemplate\":\"index=T-cells\\u003cbr\\u003evariable=%{x}\\u003cbr\\u003evalue=%{y}\\u003cextra\\u003e\\u003c\\u002fextra\\u003e\",\"legendgroup\":\"T-cells\",\"line\":{\"color\":\"#19d3f3\",\"dash\":\"solid\"},\"marker\":{\"symbol\":\"circle\"},\"mode\":\"lines\",\"name\":\"T-cells\",\"orientation\":\"v\",\"showlegend\":true,\"x\":[\"0\",\"1\",\"10\",\"11\",\"12\",\"13\",\"14\",\"15\",\"16\",\"17\",\"18\",\"19\",\"2\",\"20\",\"21\",\"22\",\"23\",\"24\",\"25\",\"26\",\"27\",\"28\",\"29\",\"3\",\"30\",\"31\",\"32\",\"33\",\"34\",\"35\",\"36\",\"37\",\"38\",\"39\",\"4\",\"40\",\"41\",\"42\",\"43\",\"44\",\"45\",\"46\",\"47\",\"48\",\"49\",\"5\",\"50\",\"51\",\"52\",\"53\",\"54\",\"55\",\"56\",\"57\",\"58\",\"59\",\"6\",\"60\",\"61\",\"62\",\"63\",\"64\",\"65\",\"66\",\"67\",\"68\",\"69\",\"7\",\"70\",\"71\",\"72\",\"73\",\"74\",\"75\",\"76\",\"77\",\"78\",\"79\",\"8\",\"80\",\"81\",\"82\",\"83\",\"84\",\"85\",\"86\",\"87\",\"88\",\"89\",\"9\",\"90\",\"91\",\"92\",\"93\",\"94\",\"95\",\"96\",\"97\",\"98\",\"99\"],\"xaxis\":\"x\",\"y\":[0.21043478260869566,0.1094577553593947,0.0,0.0,0.0,0.0,0.1581597619592584,0.017632241813602016,0.06428801028608165,0.18348380244291024,0.15763157894736843,0.2517241379310345,0.25165102537365314,0.0011166945840312675,0.19496577610951646,0.0,0.0,0.025167785234899327,0.24341801385681294,0.11609033168666197,0.32184531886024426,0.0,0.4385614385614386,0.2758045292014303,0.36442598187311176,0.30889487870619947,0.24493731918997108,0.30930359085963005,0.2858837485172005,0.2696662693682956,0.09882832399388691,0.2766497461928934,0.28766788766788765,0.24729567307692307,0.02107481559536354,0.13826086956521738,0.19447743467933493,0.3016260162601626,0.2205530897917378,0.22506393861892582,0.13993948562783662,0.15134586084306756,0.28877332517589477,0.2585606500290192,0.0,0.20906200317965024,0.0,0.18991899189918993,0.18695106649937265,0.27321096036179837,0.061205564142194746,0.0,0.19649974007970888,0.28488612836438926,0.18973418881759854,0.11505875922383164,0.08140108534780464,0.27524484971293484,0.29344226098476484,0.1776061776061776,0.3114115490375802,0.2194818652849741,0.20902553930076867,0.3876977152899824,0.2346961325966851,0.044101123595505616,0.43456718157971436,0.20128865979381444,0.13346837722259736,0.3214204931011084,0.21504146411209607,0.3732638888888889,0.15051173991571343,0.3658179689786362,0.0,0.25360434885369887,0.14763231197771587,0.284527518172378,0.3729133010231556,0.338567222767419,0.11235294117647059,0.2552532625525326,0.38060288335517695,0.0,0.3319477434679335,0.12728221178925403,0.14875766376250404,0.0,0.21859903381642512,0.02721588819418904,0.030819343522926586,0.44951017332328563,0.009664948453608248,0.025222929936305732,0.3567351598173516,0.013157894736842105,0.16091572660915726,0.0,0.235933147632312,0.4088170865279299],\"yaxis\":\"y\",\"type\":\"scatter\"},{\"hovertemplate\":\"index=Dendritic cells\\u003cbr\\u003evariable=%{x}\\u003cbr\\u003evalue=%{y}\\u003cextra\\u003e\\u003c\\u002fextra\\u003e\",\"legendgroup\":\"Dendritic cells\",\"line\":{\"color\":\"#FF6692\",\"dash\":\"solid\"},\"marker\":{\"symbol\":\"circle\"},\"mode\":\"lines\",\"name\":\"Dendritic cells\",\"orientation\":\"v\",\"showlegend\":true,\"x\":[\"0\",\"1\",\"10\",\"11\",\"12\",\"13\",\"14\",\"15\",\"16\",\"17\",\"18\",\"19\",\"2\",\"20\",\"21\",\"22\",\"23\",\"24\",\"25\",\"26\",\"27\",\"28\",\"29\",\"3\",\"30\",\"31\",\"32\",\"33\",\"34\",\"35\",\"36\",\"37\",\"38\",\"39\",\"4\",\"40\",\"41\",\"42\",\"43\",\"44\",\"45\",\"46\",\"47\",\"48\",\"49\",\"5\",\"50\",\"51\",\"52\",\"53\",\"54\",\"55\",\"56\",\"57\",\"58\",\"59\",\"6\",\"60\",\"61\",\"62\",\"63\",\"64\",\"65\",\"66\",\"67\",\"68\",\"69\",\"7\",\"70\",\"71\",\"72\",\"73\",\"74\",\"75\",\"76\",\"77\",\"78\",\"79\",\"8\",\"80\",\"81\",\"82\",\"83\",\"84\",\"85\",\"86\",\"87\",\"88\",\"89\",\"9\",\"90\",\"91\",\"92\",\"93\",\"94\",\"95\",\"96\",\"97\",\"98\",\"99\"],\"xaxis\":\"x\",\"y\":[0.0,0.17755359394703657,0.16969072164948454,0.12076660540824363,0.07795275590551182,0.0623662488535616,0.15884641794460974,0.0,0.03985856637737062,0.18667020711630378,0.13236842105263158,0.08333333333333333,0.09593326381647549,0.0,0.13557076617354824,0.0889803673210893,0.023067173637515842,0.22651006711409397,0.12009237875288684,0.0,0.28331071913161465,0.25052316890881915,0.003663003663003663,0.03384982121573302,0.027945619335347432,0.04043126684636118,0.1051108968177435,0.0,0.03867141162514828,0.25,0.003056546102903719,0.31630710659898476,0.2459096459096459,0.0,0.11520899192132068,0.0,0.14815914489311163,0.06117886178861789,0.11676340047797883,0.0,0.08925869894099848,0.4388014220416455,0.11287855613337412,0.2832269297736506,0.20776586496667632,0.20985691573926868,0.23689839572192514,0.14423942394239425,0.0,0.16972599095504123,0.17279752704791346,0.05437553101104503,0.17345347426789118,0.13167701863354037,0.16443629697525206,0.03388904072150861,0.3339911198815984,0.2110773387369132,0.1856922057849415,0.14987714987714987,0.1038038496791934,0.19378238341968912,0.2172080337217952,0.10228471001757469,0.0,0.21460674157303372,0.04896531623433401,0.16804123711340208,0.0,0.0321194299932142,0.06863025450386046,0.0625,0.03732691149909693,0.11852502194907814,0.08171315863623556,0.09737650673599622,0.08542246982358404,0.0,0.18686052773290254,0.06771344455348381,0.11970588235294118,0.1552753815527538,0.12031454783748362,0.16888577435178698,0.20368171021377673,0.23422013562858635,0.044530493707647625,0.15504511894995898,0.051328502415458936,0.17359323280617875,0.0,0.0,0.13563144329896906,0.18624203821656052,0.245148401826484,0.005169172932330827,0.24751161247511613,0.09447194719471948,0.0,0.1689485213581599],\"yaxis\":\"y\",\"type\":\"scatter\"}],                        {\"template\":{\"data\":{\"histogram2dcontour\":[{\"type\":\"histogram2dcontour\",\"colorbar\":{\"outlinewidth\":0,\"ticks\":\"\"},\"colorscale\":[[0.0,\"#0d0887\"],[0.1111111111111111,\"#46039f\"],[0.2222222222222222,\"#7201a8\"],[0.3333333333333333,\"#9c179e\"],[0.4444444444444444,\"#bd3786\"],[0.5555555555555556,\"#d8576b\"],[0.6666666666666666,\"#ed7953\"],[0.7777777777777778,\"#fb9f3a\"],[0.8888888888888888,\"#fdca26\"],[1.0,\"#f0f921\"]]}],\"choropleth\":[{\"type\":\"choropleth\",\"colorbar\":{\"outlinewidth\":0,\"ticks\":\"\"}}],\"histogram2d\":[{\"type\":\"histogram2d\",\"colorbar\":{\"outlinewidth\":0,\"ticks\":\"\"},\"colorscale\":[[0.0,\"#0d0887\"],[0.1111111111111111,\"#46039f\"],[0.2222222222222222,\"#7201a8\"],[0.3333333333333333,\"#9c179e\"],[0.4444444444444444,\"#bd3786\"],[0.5555555555555556,\"#d8576b\"],[0.6666666666666666,\"#ed7953\"],[0.7777777777777778,\"#fb9f3a\"],[0.8888888888888888,\"#fdca26\"],[1.0,\"#f0f921\"]]}],\"heatmap\":[{\"type\":\"heatmap\",\"colorbar\":{\"outlinewidth\":0,\"ticks\":\"\"},\"colorscale\":[[0.0,\"#0d0887\"],[0.1111111111111111,\"#46039f\"],[0.2222222222222222,\"#7201a8\"],[0.3333333333333333,\"#9c179e\"],[0.4444444444444444,\"#bd3786\"],[0.5555555555555556,\"#d8576b\"],[0.6666666666666666,\"#ed7953\"],[0.7777777777777778,\"#fb9f3a\"],[0.8888888888888888,\"#fdca26\"],[1.0,\"#f0f921\"]]}],\"heatmapgl\":[{\"type\":\"heatmapgl\",\"colorbar\":{\"outlinewidth\":0,\"ticks\":\"\"},\"colorscale\":[[0.0,\"#0d0887\"],[0.1111111111111111,\"#46039f\"],[0.2222222222222222,\"#7201a8\"],[0.3333333333333333,\"#9c179e\"],[0.4444444444444444,\"#bd3786\"],[0.5555555555555556,\"#d8576b\"],[0.6666666666666666,\"#ed7953\"],[0.7777777777777778,\"#fb9f3a\"],[0.8888888888888888,\"#fdca26\"],[1.0,\"#f0f921\"]]}],\"contourcarpet\":[{\"type\":\"contourcarpet\",\"colorbar\":{\"outlinewidth\":0,\"ticks\":\"\"}}],\"contour\":[{\"type\":\"contour\",\"colorbar\":{\"outlinewidth\":0,\"ticks\":\"\"},\"colorscale\":[[0.0,\"#0d0887\"],[0.1111111111111111,\"#46039f\"],[0.2222222222222222,\"#7201a8\"],[0.3333333333333333,\"#9c179e\"],[0.4444444444444444,\"#bd3786\"],[0.5555555555555556,\"#d8576b\"],[0.6666666666666666,\"#ed7953\"],[0.7777777777777778,\"#fb9f3a\"],[0.8888888888888888,\"#fdca26\"],[1.0,\"#f0f921\"]]}],\"surface\":[{\"type\":\"surface\",\"colorbar\":{\"outlinewidth\":0,\"ticks\":\"\"},\"colorscale\":[[0.0,\"#0d0887\"],[0.1111111111111111,\"#46039f\"],[0.2222222222222222,\"#7201a8\"],[0.3333333333333333,\"#9c179e\"],[0.4444444444444444,\"#bd3786\"],[0.5555555555555556,\"#d8576b\"],[0.6666666666666666,\"#ed7953\"],[0.7777777777777778,\"#fb9f3a\"],[0.8888888888888888,\"#fdca26\"],[1.0,\"#f0f921\"]]}],\"mesh3d\":[{\"type\":\"mesh3d\",\"colorbar\":{\"outlinewidth\":0,\"ticks\":\"\"}}],\"scatter\":[{\"fillpattern\":{\"fillmode\":\"overlay\",\"size\":10,\"solidity\":0.2},\"type\":\"scatter\"}],\"parcoords\":[{\"type\":\"parcoords\",\"line\":{\"colorbar\":{\"outlinewidth\":0,\"ticks\":\"\"}}}],\"scatterpolargl\":[{\"type\":\"scatterpolargl\",\"marker\":{\"colorbar\":{\"outlinewidth\":0,\"ticks\":\"\"}}}],\"bar\":[{\"error_x\":{\"color\":\"#2a3f5f\"},\"error_y\":{\"color\":\"#2a3f5f\"},\"marker\":{\"line\":{\"color\":\"#E5ECF6\",\"width\":0.5},\"pattern\":{\"fillmode\":\"overlay\",\"size\":10,\"solidity\":0.2}},\"type\":\"bar\"}],\"scattergeo\":[{\"type\":\"scattergeo\",\"marker\":{\"colorbar\":{\"outlinewidth\":0,\"ticks\":\"\"}}}],\"scatterpolar\":[{\"type\":\"scatterpolar\",\"marker\":{\"colorbar\":{\"outlinewidth\":0,\"ticks\":\"\"}}}],\"histogram\":[{\"marker\":{\"pattern\":{\"fillmode\":\"overlay\",\"size\":10,\"solidity\":0.2}},\"type\":\"histogram\"}],\"scattergl\":[{\"type\":\"scattergl\",\"marker\":{\"colorbar\":{\"outlinewidth\":0,\"ticks\":\"\"}}}],\"scatter3d\":[{\"type\":\"scatter3d\",\"line\":{\"colorbar\":{\"outlinewidth\":0,\"ticks\":\"\"}},\"marker\":{\"colorbar\":{\"outlinewidth\":0,\"ticks\":\"\"}}}],\"scattermapbox\":[{\"type\":\"scattermapbox\",\"marker\":{\"colorbar\":{\"outlinewidth\":0,\"ticks\":\"\"}}}],\"scatterternary\":[{\"type\":\"scatterternary\",\"marker\":{\"colorbar\":{\"outlinewidth\":0,\"ticks\":\"\"}}}],\"scattercarpet\":[{\"type\":\"scattercarpet\",\"marker\":{\"colorbar\":{\"outlinewidth\":0,\"ticks\":\"\"}}}],\"carpet\":[{\"aaxis\":{\"endlinecolor\":\"#2a3f5f\",\"gridcolor\":\"white\",\"linecolor\":\"white\",\"minorgridcolor\":\"white\",\"startlinecolor\":\"#2a3f5f\"},\"baxis\":{\"endlinecolor\":\"#2a3f5f\",\"gridcolor\":\"white\",\"linecolor\":\"white\",\"minorgridcolor\":\"white\",\"startlinecolor\":\"#2a3f5f\"},\"type\":\"carpet\"}],\"table\":[{\"cells\":{\"fill\":{\"color\":\"#EBF0F8\"},\"line\":{\"color\":\"white\"}},\"header\":{\"fill\":{\"color\":\"#C8D4E3\"},\"line\":{\"color\":\"white\"}},\"type\":\"table\"}],\"barpolar\":[{\"marker\":{\"line\":{\"color\":\"#E5ECF6\",\"width\":0.5},\"pattern\":{\"fillmode\":\"overlay\",\"size\":10,\"solidity\":0.2}},\"type\":\"barpolar\"}],\"pie\":[{\"automargin\":true,\"type\":\"pie\"}]},\"layout\":{\"autotypenumbers\":\"strict\",\"colorway\":[\"#636efa\",\"#EF553B\",\"#00cc96\",\"#ab63fa\",\"#FFA15A\",\"#19d3f3\",\"#FF6692\",\"#B6E880\",\"#FF97FF\",\"#FECB52\"],\"font\":{\"color\":\"#2a3f5f\"},\"hovermode\":\"closest\",\"hoverlabel\":{\"align\":\"left\"},\"paper_bgcolor\":\"white\",\"plot_bgcolor\":\"#E5ECF6\",\"polar\":{\"bgcolor\":\"#E5ECF6\",\"angularaxis\":{\"gridcolor\":\"white\",\"linecolor\":\"white\",\"ticks\":\"\"},\"radialaxis\":{\"gridcolor\":\"white\",\"linecolor\":\"white\",\"ticks\":\"\"}},\"ternary\":{\"bgcolor\":\"#E5ECF6\",\"aaxis\":{\"gridcolor\":\"white\",\"linecolor\":\"white\",\"ticks\":\"\"},\"baxis\":{\"gridcolor\":\"white\",\"linecolor\":\"white\",\"ticks\":\"\"},\"caxis\":{\"gridcolor\":\"white\",\"linecolor\":\"white\",\"ticks\":\"\"}},\"coloraxis\":{\"colorbar\":{\"outlinewidth\":0,\"ticks\":\"\"}},\"colorscale\":{\"sequential\":[[0.0,\"#0d0887\"],[0.1111111111111111,\"#46039f\"],[0.2222222222222222,\"#7201a8\"],[0.3333333333333333,\"#9c179e\"],[0.4444444444444444,\"#bd3786\"],[0.5555555555555556,\"#d8576b\"],[0.6666666666666666,\"#ed7953\"],[0.7777777777777778,\"#fb9f3a\"],[0.8888888888888888,\"#fdca26\"],[1.0,\"#f0f921\"]],\"sequentialminus\":[[0.0,\"#0d0887\"],[0.1111111111111111,\"#46039f\"],[0.2222222222222222,\"#7201a8\"],[0.3333333333333333,\"#9c179e\"],[0.4444444444444444,\"#bd3786\"],[0.5555555555555556,\"#d8576b\"],[0.6666666666666666,\"#ed7953\"],[0.7777777777777778,\"#fb9f3a\"],[0.8888888888888888,\"#fdca26\"],[1.0,\"#f0f921\"]],\"diverging\":[[0,\"#8e0152\"],[0.1,\"#c51b7d\"],[0.2,\"#de77ae\"],[0.3,\"#f1b6da\"],[0.4,\"#fde0ef\"],[0.5,\"#f7f7f7\"],[0.6,\"#e6f5d0\"],[0.7,\"#b8e186\"],[0.8,\"#7fbc41\"],[0.9,\"#4d9221\"],[1,\"#276419\"]]},\"xaxis\":{\"gridcolor\":\"white\",\"linecolor\":\"white\",\"ticks\":\"\",\"title\":{\"standoff\":15},\"zerolinecolor\":\"white\",\"automargin\":true,\"zerolinewidth\":2},\"yaxis\":{\"gridcolor\":\"white\",\"linecolor\":\"white\",\"ticks\":\"\",\"title\":{\"standoff\":15},\"zerolinecolor\":\"white\",\"automargin\":true,\"zerolinewidth\":2},\"scene\":{\"xaxis\":{\"backgroundcolor\":\"#E5ECF6\",\"gridcolor\":\"white\",\"linecolor\":\"white\",\"showbackground\":true,\"ticks\":\"\",\"zerolinecolor\":\"white\",\"gridwidth\":2},\"yaxis\":{\"backgroundcolor\":\"#E5ECF6\",\"gridcolor\":\"white\",\"linecolor\":\"white\",\"showbackground\":true,\"ticks\":\"\",\"zerolinecolor\":\"white\",\"gridwidth\":2},\"zaxis\":{\"backgroundcolor\":\"#E5ECF6\",\"gridcolor\":\"white\",\"linecolor\":\"white\",\"showbackground\":true,\"ticks\":\"\",\"zerolinecolor\":\"white\",\"gridwidth\":2}},\"shapedefaults\":{\"line\":{\"color\":\"#2a3f5f\"}},\"annotationdefaults\":{\"arrowcolor\":\"#2a3f5f\",\"arrowhead\":0,\"arrowwidth\":1},\"geo\":{\"bgcolor\":\"white\",\"landcolor\":\"#E5ECF6\",\"subunitcolor\":\"white\",\"showland\":true,\"showlakes\":true,\"lakecolor\":\"white\"},\"title\":{\"x\":0.05},\"mapbox\":{\"style\":\"light\"}}},\"xaxis\":{\"anchor\":\"y\",\"domain\":[0.0,1.0],\"title\":{\"text\":\"Simulation\"}},\"yaxis\":{\"anchor\":\"x\",\"domain\":[0.0,1.0],\"title\":{\"text\":\"Percent Composition\"}},\"legend\":{\"title\":{\"text\":\"Cell Types (CTs)\"},\"tracegroupgap\":0},\"margin\":{\"t\":60},\"title\":{\"text\":\"Percent Composition Across Simulations with 1 Variance\"}},                        {\"responsive\": true}                    ).then(function(){\n",
       "                            \n",
       "var gd = document.getElementById('286df788-250b-4996-9245-dd9f235fdd00');\n",
       "var x = new MutationObserver(function (mutations, observer) {{\n",
       "        var display = window.getComputedStyle(gd).display;\n",
       "        if (!display || display === 'none') {{\n",
       "            console.log([gd, 'removed!']);\n",
       "            Plotly.purge(gd);\n",
       "            observer.disconnect();\n",
       "        }}\n",
       "}});\n",
       "\n",
       "// Listen for the removal of the full notebook cells\n",
       "var notebookContainer = gd.closest('#notebook-container');\n",
       "if (notebookContainer) {{\n",
       "    x.observe(notebookContainer, {childList: true});\n",
       "}}\n",
       "\n",
       "// Listen for the clearing of the current output cell\n",
       "var outputEl = gd.closest('.output');\n",
       "if (outputEl) {{\n",
       "    x.observe(outputEl, {childList: true});\n",
       "}}\n",
       "\n",
       "                        })                };                });            </script>        </div>"
      ]
     },
     "metadata": {},
     "output_type": "display_data"
    }
   ],
   "source": [
    "def graph(df_variance, var_level:int):\n",
    "    \n",
    "    # Rename columns to their positions\n",
    "    df_variance.columns = [str(i) for i, _ in enumerate(df_variance.columns)]\n",
    "    \n",
    "    melted = df_variance.reset_index().melt(id_vars=['index', ])\n",
    "    melted = melted.sort_values(\"variable\")\n",
    "\n",
    "    \n",
    "    fig = px.line(melted, x = 'variable', y = 'value', color = 'index')\n",
    "\n",
    "    fig.update_layout(title = f\"Percent Composition Across Simulations with {var_level} Variance\")\n",
    "\n",
    "    # Update x-axis and y-axis labels\n",
    "    fig.update_xaxes(title_text = \"Simulation\") \n",
    "    fig.update_yaxes(title_text='Percent Composition')\n",
    "    fig.update_layout(legend_title_text='Cell Types (CTs)')\n",
    "    \n",
    "    fig.show()\n",
    "        \n",
    "    \n",
    "for key in dict_variances.keys():\n",
    "    graph(dict_variances[key], key)"
   ]
  },
  {
   "cell_type": "code",
   "execution_count": 37,
   "metadata": {},
   "outputs": [],
   "source": [
    "cor_matrix = merged_df.corr(method = \"pearson\")\n",
    "cor_matrix = cor_matrix.sort_index(axis = 0).sort_index(axis = 1)"
   ]
  },
  {
   "cell_type": "code",
   "execution_count": 38,
   "metadata": {},
   "outputs": [
    {
     "data": {
      "application/vnd.plotly.v1+json": {
       "config": {
        "plotlyServerURL": "https://plot.ly"
       },
       "data": [
        {
         "coloraxis": "coloraxis",
         "hovertemplate": "x: %{x}<br>y: %{y}<br>color: %{z}<extra></extra>",
         "name": "0",
         "type": "heatmap",
         "x": [
          "0",
          "0.005",
          "0.01",
          "0.015",
          "0.02",
          "0.025",
          "0.03",
          "0.035",
          "0.04",
          "0.045",
          "0.05",
          "0.055",
          "0.06",
          "0.065",
          "0.07",
          "0.075",
          "0.08",
          "0.085",
          "0.09",
          "0.095",
          "0.1",
          "0.3",
          "0.5",
          "0.7",
          "0.9",
          "1"
         ],
         "xaxis": "x",
         "y": [
          "0",
          "0.005",
          "0.01",
          "0.015",
          "0.02",
          "0.025",
          "0.03",
          "0.035",
          "0.04",
          "0.045",
          "0.05",
          "0.055",
          "0.06",
          "0.065",
          "0.07",
          "0.075",
          "0.08",
          "0.085",
          "0.09",
          "0.095",
          "0.1",
          "0.3",
          "0.5",
          "0.7",
          "0.9",
          "1"
         ],
         "yaxis": "y",
         "z": [
          [
           1,
           0.9999969885613903,
           0.9999975084660078,
           0.9999558250753281,
           0.9999920757764111,
           0.9999683578371849,
           0.9999151604057245,
           0.9999738198180765,
           0.9996986597282279,
           0.9998834106359444,
           0.9996790714707272,
           0.9996665822591668,
           0.9994620225584929,
           0.999642024281989,
           0.999587877153287,
           0.9992112006137952,
           0.9982810663091228,
           0.9986700482302433,
           0.99790863934883,
           0.9992723270128002,
           0.9980709429667384,
           0.9947529917599071,
           0.9908944188715478,
           0.9043503316605696,
           0.9777211592220625,
           0.9413945242441216
          ],
          [
           0.9999969885613903,
           1,
           0.9999952476175926,
           0.9999381487667532,
           0.999994811982482,
           0.9999635903338945,
           0.9999166226524682,
           0.9999733633036811,
           0.9997377423389371,
           0.9998850545038105,
           0.9996393910796211,
           0.9996883930305714,
           0.9995164329722105,
           0.9996341347309008,
           0.9995883977685008,
           0.9992141452064648,
           0.9983372417919992,
           0.9986683848788066,
           0.9979780433774986,
           0.9992808223617815,
           0.9981348186575597,
           0.9948255778063094,
           0.9907567286725382,
           0.9044177331740019,
           0.9776514595444692,
           0.9411934738861086
          ],
          [
           0.9999975084660078,
           0.9999952476175926,
           1,
           0.9999591613777128,
           0.9999899274046038,
           0.9999563644132795,
           0.9998964565689445,
           0.9999742295040275,
           0.9996761877750263,
           0.9998812114476918,
           0.9996847425579484,
           0.9996306751773132,
           0.9994449596748008,
           0.999624890777147,
           0.9995656875900956,
           0.9992082731701514,
           0.9982629634307627,
           0.9986095892048056,
           0.9978741523629941,
           0.9992245638183274,
           0.998047104799354,
           0.9948067789817019,
           0.9908913420842766,
           0.9034501538040102,
           0.9776630361945359,
           0.9414383139748872
          ],
          [
           0.9999558250753281,
           0.9999381487667532,
           0.9999591613777128,
           1,
           0.9999297321228154,
           0.9999552834118449,
           0.9998155640211603,
           0.9999279660622636,
           0.9995589864933568,
           0.9998987330178869,
           0.9996628514635325,
           0.9994247667319764,
           0.9991419688201258,
           0.999437229876829,
           0.9993533485062847,
           0.9990425851161272,
           0.998022809545605,
           0.9983208752044399,
           0.997399700238903,
           0.9989944454666384,
           0.9976880621203479,
           0.9944430277883631,
           0.9914471680649175,
           0.9023708054885056,
           0.977385115765348,
           0.9433492160910318
          ],
          [
           0.9999920757764111,
           0.999994811982482,
           0.9999899274046038,
           0.9999297321228154,
           1,
           0.9999524036237829,
           0.9999008243421649,
           0.9999627210642122,
           0.9997573934356104,
           0.9998682627782414,
           0.9996350334806339,
           0.9997180211753266,
           0.9994832121858704,
           0.9996737610766913,
           0.9996348003161848,
           0.9992732657947545,
           0.9984250310308128,
           0.998766244921637,
           0.9980712914068022,
           0.9993146182308917,
           0.9981645673964836,
           0.9947876191935136,
           0.9906292596101911,
           0.9048293291057186,
           0.978296581870331,
           0.9417858008279534
          ],
          [
           0.9999683578371849,
           0.9999635903338945,
           0.9999563644132795,
           0.9999552834118449,
           0.9999524036237829,
           1,
           0.9998875415454578,
           0.9999293784570285,
           0.9997492505979778,
           0.9999392562317142,
           0.9995741701051261,
           0.9996181754758509,
           0.9993725696975119,
           0.9994819835447638,
           0.9994378698232764,
           0.9990948902212367,
           0.9982706102875852,
           0.9985282407159164,
           0.9977250077280614,
           0.9992138192612788,
           0.9980049791665142,
           0.9945922155793996,
           0.9910005646927952,
           0.9055672690652262,
           0.9771394695070359,
           0.9425822605658223
          ],
          [
           0.9999151604057245,
           0.9999166226524682,
           0.9998964565689445,
           0.9998155640211603,
           0.9999008243421649,
           0.9998875415454578,
           1,
           0.9999512578359313,
           0.9996123691477161,
           0.9996868595954921,
           0.9994361068950143,
           0.9996518613581356,
           0.9995297854197194,
           0.9995838470454531,
           0.9995287709831429,
           0.9988248638539898,
           0.9978167733236919,
           0.9986322989368945,
           0.9977107444384127,
           0.9991813122148148,
           0.997713542334244,
           0.9938607941651249,
           0.9917023291029622,
           0.9071031180393273,
           0.9775210969323007,
           0.9385917788453285
          ],
          [
           0.9999738198180765,
           0.9999733633036811,
           0.9999742295040275,
           0.9999279660622636,
           0.9999627210642122,
           0.9999293784570285,
           0.9999512578359313,
           1,
           0.999617197629841,
           0.9997936718836551,
           0.9995458773039159,
           0.9995604360981426,
           0.9994217803123067,
           0.9995544575656169,
           0.9994827800373824,
           0.9989410969289935,
           0.9979202207021461,
           0.9984624807226926,
           0.997618196188177,
           0.9990590455148997,
           0.9977028111184852,
           0.9941777575328706,
           0.9916459356131422,
           0.9036591528965052,
           0.9776318574100288,
           0.9404035401573231
          ],
          [
           0.9996986597282279,
           0.9997377423389371,
           0.9996761877750263,
           0.9995589864933568,
           0.9997573934356104,
           0.9997492505979778,
           0.9996123691477161,
           0.999617197629841,
           1,
           0.9997483700655463,
           0.9990387796998206,
           0.9997635222681709,
           0.9994968028984389,
           0.9993252582134801,
           0.9993946346242145,
           0.9991966119904119,
           0.9990187839492725,
           0.9987671993417161,
           0.9985126407794044,
           0.999355886154346,
           0.998637177704608,
           0.9950471337107658,
           0.9888119860124827,
           0.909800831492911,
           0.9782053696058761,
           0.9435444758708834
          ],
          [
           0.9998834106359444,
           0.9998850545038105,
           0.9998812114476918,
           0.9998987330178869,
           0.9998682627782414,
           0.9999392562317142,
           0.9996868595954921,
           0.9997936718836551,
           0.9997483700655463,
           1,
           0.9995435754007578,
           0.9995000316484794,
           0.9992982478416498,
           0.9992924827486589,
           0.9992630950645289,
           0.9991968186135938,
           0.9985424041521002,
           0.9983013645109826,
           0.9977511305850144,
           0.9991468624426769,
           0.9982684051928025,
           0.9953613912049256,
           0.9900306286819631,
           0.9036312685820331,
           0.9760894451771762,
           0.9440126269314313
          ],
          [
           0.9996790714707272,
           0.9996393910796211,
           0.9996847425579484,
           0.9996628514635325,
           0.9996350334806339,
           0.9995741701051261,
           0.9994361068950143,
           0.9995458773039159,
           0.9990387796998206,
           0.9995435754007578,
           1,
           0.9993620208374909,
           0.9990629648192155,
           0.9996665832305346,
           0.9995705408825657,
           0.999490222912042,
           0.9981845543704281,
           0.9987807809274372,
           0.9979231638890713,
           0.9993362747014347,
           0.9982390797351643,
           0.9957801669249309,
           0.9893822910463478,
           0.9018294065526464,
           0.977316059446991,
           0.9403422615316083
          ],
          [
           0.9996665822591668,
           0.9996883930305714,
           0.9996306751773132,
           0.9994247667319764,
           0.9997180211753266,
           0.9996181754758509,
           0.9996518613581356,
           0.9995604360981426,
           0.9997635222681709,
           0.9995000316484794,
           0.9993620208374909,
           1,
           0.9996891755347749,
           0.9998078357797309,
           0.999867798574399,
           0.9995232961486257,
           0.999022610949572,
           0.999524391706809,
           0.9990987915996797,
           0.9998414981022641,
           0.998960311222653,
           0.9953364650940086,
           0.9882169867454091,
           0.9126697221902028,
           0.9794103320339542,
           0.9394831456898479
          ],
          [
           0.9994620225584929,
           0.9995164329722105,
           0.9994449596748008,
           0.9991419688201258,
           0.9994832121858704,
           0.9993725696975119,
           0.9995297854197194,
           0.9994217803123067,
           0.9994968028984389,
           0.9992982478416498,
           0.9990629648192155,
           0.9996891755347749,
           1,
           0.9994220550993214,
           0.9994638243260511,
           0.9990156258527083,
           0.9984540611420579,
           0.9987453914806668,
           0.9987423082016266,
           0.9994448926336158,
           0.9988685124666165,
           0.9958657208347789,
           0.9880429367923687,
           0.9083212094374892,
           0.9752052502687744,
           0.9330897470115097
          ],
          [
           0.999642024281989,
           0.9996341347309008,
           0.999624890777147,
           0.999437229876829,
           0.9996737610766913,
           0.9994819835447638,
           0.9995838470454531,
           0.9995544575656169,
           0.9993252582134801,
           0.9992924827486589,
           0.9996665832305346,
           0.9998078357797309,
           0.9994220550993214,
           1,
           0.9999858944592411,
           0.9995715559484916,
           0.9985548563534654,
           0.9995738921675786,
           0.9988411715993905,
           0.9997125495775654,
           0.998541953224027,
           0.9951098793837074,
           0.9888306194279638,
           0.9088510429219748,
           0.9805630257126181,
           0.9383640054335589
          ],
          [
           0.999587877153287,
           0.9995883977685008,
           0.9995656875900956,
           0.9993533485062847,
           0.9996348003161848,
           0.9994378698232764,
           0.9995287709831429,
           0.9994827800373824,
           0.9993946346242145,
           0.9992630950645289,
           0.9995705408825657,
           0.999867798574399,
           0.9994638243260511,
           0.9999858944592411,
           1,
           0.9996284459619807,
           0.9987633561418697,
           0.9996784074312619,
           0.9990598624695429,
           0.9997943193061671,
           0.9987368001542587,
           0.9952651062360492,
           0.9882667205385918,
           0.9102565134398429,
           0.9807846800111738,
           0.9386068700003992
          ],
          [
           0.9992112006137952,
           0.9992141452064648,
           0.9992082731701514,
           0.9990425851161272,
           0.9992732657947545,
           0.9990948902212367,
           0.9988248638539898,
           0.9989410969289935,
           0.9991966119904119,
           0.9991968186135938,
           0.999490222912042,
           0.9995232961486257,
           0.9990156258527083,
           0.9995715559484916,
           0.9996284459619807,
           1,
           0.9995096232395027,
           0.9993783181738615,
           0.9992738611235501,
           0.9996897254349033,
           0.9993893973651918,
           0.9970902073172744,
           0.9852436243559068,
           0.9067921919635024,
           0.9797657544341302,
           0.9431486732473849
          ],
          [
           0.9982810663091228,
           0.9983372417919992,
           0.9982629634307627,
           0.998022809545605,
           0.9984250310308128,
           0.9982706102875852,
           0.9978167733236919,
           0.9979202207021461,
           0.9990187839492725,
           0.9985424041521002,
           0.9981845543704281,
           0.999022610949572,
           0.9984540611420579,
           0.9985548563534654,
           0.9987633561418697,
           0.9995096232395027,
           1,
           0.9988110789602569,
           0.9994473335058836,
           0.999185963727126,
           0.9996385998117815,
           0.9973078916813461,
           0.9817620381886957,
           0.9112011183817973,
           0.9794021874005697,
           0.9463161989017089
          ],
          [
           0.9986700482302433,
           0.9986683848788066,
           0.9986095892048056,
           0.9983208752044399,
           0.998766244921637,
           0.9985282407159164,
           0.9986322989368945,
           0.9984624807226926,
           0.9987671993417161,
           0.9983013645109826,
           0.9987807809274372,
           0.999524391706809,
           0.9987453914806668,
           0.9995738921675786,
           0.9996784074312619,
           0.9993783181738615,
           0.9988110789602569,
           1,
           0.999388372978003,
           0.9997238010759715,
           0.9987402266861536,
           0.9947872825370142,
           0.9855229208626066,
           0.9183933465841905,
           0.9830766879566688,
           0.9389393077544824
          ],
          [
           0.99790863934883,
           0.9979780433774986,
           0.9978741523629941,
           0.997399700238903,
           0.9980712914068022,
           0.9977250077280614,
           0.9977107444384127,
           0.997618196188177,
           0.9985126407794044,
           0.9977511305850144,
           0.9979231638890713,
           0.9990987915996797,
           0.9987423082016266,
           0.9988411715993905,
           0.9990598624695429,
           0.9992738611235501,
           0.9994473335058836,
           0.999388372978003,
           1,
           0.9993749177456541,
           0.9995926460491843,
           0.9967728548341293,
           0.9811704159597879,
           0.9155469460686138,
           0.9805920357171687,
           0.9370133950890643
          ],
          [
           0.9992723270128002,
           0.9992808223617815,
           0.9992245638183274,
           0.9989944454666384,
           0.9993146182308917,
           0.9992138192612788,
           0.9991813122148148,
           0.9990590455148997,
           0.999355886154346,
           0.9991468624426769,
           0.9993362747014347,
           0.9998414981022641,
           0.9994448926336158,
           0.9997125495775654,
           0.9997943193061671,
           0.9996897254349033,
           0.999185963727126,
           0.9997238010759715,
           0.9993749177456541,
           1,
           0.9993416582525868,
           0.996170564748276,
           0.9862240172262114,
           0.9145291986807885,
           0.9789918796530862,
           0.9385893003297577
          ],
          [
           0.9980709429667384,
           0.9981348186575597,
           0.998047104799354,
           0.9976880621203479,
           0.9981645673964836,
           0.9980049791665142,
           0.997713542334244,
           0.9977028111184852,
           0.998637177704608,
           0.9982684051928025,
           0.9982390797351643,
           0.998960311222653,
           0.9988685124666165,
           0.998541953224027,
           0.9987368001542587,
           0.9993893973651918,
           0.9996385998117815,
           0.9987402266861536,
           0.9995926460491843,
           0.9993416582525868,
           1,
           0.9983132962698142,
           0.9808165335974719,
           0.9110769748586387,
           0.975732732575985,
           0.938194938470322
          ],
          [
           0.9947529917599071,
           0.9948255778063094,
           0.9948067789817019,
           0.9944430277883631,
           0.9947876191935136,
           0.9945922155793996,
           0.9938607941651249,
           0.9941777575328706,
           0.9950471337107658,
           0.9953613912049256,
           0.9957801669249309,
           0.9953364650940086,
           0.9958657208347789,
           0.9951098793837074,
           0.9952651062360492,
           0.9970902073172744,
           0.9973078916813461,
           0.9947872825370142,
           0.9967728548341293,
           0.996170564748276,
           0.9983132962698142,
           1,
           0.9734610147268843,
           0.8924366514242463,
           0.9660652533277758,
           0.9337852981508851
          ],
          [
           0.9908944188715478,
           0.9907567286725382,
           0.9908913420842766,
           0.9914471680649175,
           0.9906292596101911,
           0.9910005646927952,
           0.9917023291029622,
           0.9916459356131422,
           0.9888119860124827,
           0.9900306286819631,
           0.9893822910463478,
           0.9882169867454091,
           0.9880429367923687,
           0.9888306194279638,
           0.9882667205385918,
           0.9852436243559068,
           0.9817620381886957,
           0.9855229208626066,
           0.9811704159597879,
           0.9862240172262114,
           0.9808165335974719,
           0.9734610147268843,
           1,
           0.8853797185049529,
           0.9666543222853244,
           0.9292912247505983
          ],
          [
           0.9043503316605696,
           0.9044177331740019,
           0.9034501538040102,
           0.9023708054885056,
           0.9048293291057186,
           0.9055672690652262,
           0.9071031180393273,
           0.9036591528965052,
           0.909800831492911,
           0.9036312685820331,
           0.9018294065526464,
           0.9126697221902028,
           0.9083212094374892,
           0.9088510429219748,
           0.9102565134398429,
           0.9067921919635024,
           0.9112011183817973,
           0.9183933465841905,
           0.9155469460686138,
           0.9145291986807885,
           0.9110769748586387,
           0.8924366514242463,
           0.8853797185049529,
           1,
           0.9146150909202292,
           0.8472101348060105
          ],
          [
           0.9777211592220625,
           0.9776514595444692,
           0.9776630361945359,
           0.977385115765348,
           0.978296581870331,
           0.9771394695070359,
           0.9775210969323007,
           0.9776318574100288,
           0.9782053696058761,
           0.9760894451771762,
           0.977316059446991,
           0.9794103320339542,
           0.9752052502687744,
           0.9805630257126181,
           0.9807846800111738,
           0.9797657544341302,
           0.9794021874005697,
           0.9830766879566688,
           0.9805920357171687,
           0.9789918796530862,
           0.975732732575985,
           0.9660652533277758,
           0.9666543222853244,
           0.9146150909202292,
           1,
           0.9486463043293071
          ],
          [
           0.9413945242441216,
           0.9411934738861086,
           0.9414383139748872,
           0.9433492160910318,
           0.9417858008279534,
           0.9425822605658223,
           0.9385917788453285,
           0.9404035401573231,
           0.9435444758708834,
           0.9440126269314313,
           0.9403422615316083,
           0.9394831456898479,
           0.9330897470115097,
           0.9383640054335589,
           0.9386068700003992,
           0.9431486732473849,
           0.9463161989017089,
           0.9389393077544824,
           0.9370133950890643,
           0.9385893003297577,
           0.938194938470322,
           0.9337852981508851,
           0.9292912247505983,
           0.8472101348060105,
           0.9486463043293071,
           1
          ]
         ]
        }
       ],
       "layout": {
        "coloraxis": {
         "colorscale": [
          [
           0,
           "#0d0887"
          ],
          [
           0.1111111111111111,
           "#46039f"
          ],
          [
           0.2222222222222222,
           "#7201a8"
          ],
          [
           0.3333333333333333,
           "#9c179e"
          ],
          [
           0.4444444444444444,
           "#bd3786"
          ],
          [
           0.5555555555555556,
           "#d8576b"
          ],
          [
           0.6666666666666666,
           "#ed7953"
          ],
          [
           0.7777777777777778,
           "#fb9f3a"
          ],
          [
           0.8888888888888888,
           "#fdca26"
          ],
          [
           1,
           "#f0f921"
          ]
         ]
        },
        "margin": {
         "t": 60
        },
        "template": {
         "data": {
          "bar": [
           {
            "error_x": {
             "color": "#2a3f5f"
            },
            "error_y": {
             "color": "#2a3f5f"
            },
            "marker": {
             "line": {
              "color": "#E5ECF6",
              "width": 0.5
             },
             "pattern": {
              "fillmode": "overlay",
              "size": 10,
              "solidity": 0.2
             }
            },
            "type": "bar"
           }
          ],
          "barpolar": [
           {
            "marker": {
             "line": {
              "color": "#E5ECF6",
              "width": 0.5
             },
             "pattern": {
              "fillmode": "overlay",
              "size": 10,
              "solidity": 0.2
             }
            },
            "type": "barpolar"
           }
          ],
          "carpet": [
           {
            "aaxis": {
             "endlinecolor": "#2a3f5f",
             "gridcolor": "white",
             "linecolor": "white",
             "minorgridcolor": "white",
             "startlinecolor": "#2a3f5f"
            },
            "baxis": {
             "endlinecolor": "#2a3f5f",
             "gridcolor": "white",
             "linecolor": "white",
             "minorgridcolor": "white",
             "startlinecolor": "#2a3f5f"
            },
            "type": "carpet"
           }
          ],
          "choropleth": [
           {
            "colorbar": {
             "outlinewidth": 0,
             "ticks": ""
            },
            "type": "choropleth"
           }
          ],
          "contour": [
           {
            "colorbar": {
             "outlinewidth": 0,
             "ticks": ""
            },
            "colorscale": [
             [
              0,
              "#0d0887"
             ],
             [
              0.1111111111111111,
              "#46039f"
             ],
             [
              0.2222222222222222,
              "#7201a8"
             ],
             [
              0.3333333333333333,
              "#9c179e"
             ],
             [
              0.4444444444444444,
              "#bd3786"
             ],
             [
              0.5555555555555556,
              "#d8576b"
             ],
             [
              0.6666666666666666,
              "#ed7953"
             ],
             [
              0.7777777777777778,
              "#fb9f3a"
             ],
             [
              0.8888888888888888,
              "#fdca26"
             ],
             [
              1,
              "#f0f921"
             ]
            ],
            "type": "contour"
           }
          ],
          "contourcarpet": [
           {
            "colorbar": {
             "outlinewidth": 0,
             "ticks": ""
            },
            "type": "contourcarpet"
           }
          ],
          "heatmap": [
           {
            "colorbar": {
             "outlinewidth": 0,
             "ticks": ""
            },
            "colorscale": [
             [
              0,
              "#0d0887"
             ],
             [
              0.1111111111111111,
              "#46039f"
             ],
             [
              0.2222222222222222,
              "#7201a8"
             ],
             [
              0.3333333333333333,
              "#9c179e"
             ],
             [
              0.4444444444444444,
              "#bd3786"
             ],
             [
              0.5555555555555556,
              "#d8576b"
             ],
             [
              0.6666666666666666,
              "#ed7953"
             ],
             [
              0.7777777777777778,
              "#fb9f3a"
             ],
             [
              0.8888888888888888,
              "#fdca26"
             ],
             [
              1,
              "#f0f921"
             ]
            ],
            "type": "heatmap"
           }
          ],
          "heatmapgl": [
           {
            "colorbar": {
             "outlinewidth": 0,
             "ticks": ""
            },
            "colorscale": [
             [
              0,
              "#0d0887"
             ],
             [
              0.1111111111111111,
              "#46039f"
             ],
             [
              0.2222222222222222,
              "#7201a8"
             ],
             [
              0.3333333333333333,
              "#9c179e"
             ],
             [
              0.4444444444444444,
              "#bd3786"
             ],
             [
              0.5555555555555556,
              "#d8576b"
             ],
             [
              0.6666666666666666,
              "#ed7953"
             ],
             [
              0.7777777777777778,
              "#fb9f3a"
             ],
             [
              0.8888888888888888,
              "#fdca26"
             ],
             [
              1,
              "#f0f921"
             ]
            ],
            "type": "heatmapgl"
           }
          ],
          "histogram": [
           {
            "marker": {
             "pattern": {
              "fillmode": "overlay",
              "size": 10,
              "solidity": 0.2
             }
            },
            "type": "histogram"
           }
          ],
          "histogram2d": [
           {
            "colorbar": {
             "outlinewidth": 0,
             "ticks": ""
            },
            "colorscale": [
             [
              0,
              "#0d0887"
             ],
             [
              0.1111111111111111,
              "#46039f"
             ],
             [
              0.2222222222222222,
              "#7201a8"
             ],
             [
              0.3333333333333333,
              "#9c179e"
             ],
             [
              0.4444444444444444,
              "#bd3786"
             ],
             [
              0.5555555555555556,
              "#d8576b"
             ],
             [
              0.6666666666666666,
              "#ed7953"
             ],
             [
              0.7777777777777778,
              "#fb9f3a"
             ],
             [
              0.8888888888888888,
              "#fdca26"
             ],
             [
              1,
              "#f0f921"
             ]
            ],
            "type": "histogram2d"
           }
          ],
          "histogram2dcontour": [
           {
            "colorbar": {
             "outlinewidth": 0,
             "ticks": ""
            },
            "colorscale": [
             [
              0,
              "#0d0887"
             ],
             [
              0.1111111111111111,
              "#46039f"
             ],
             [
              0.2222222222222222,
              "#7201a8"
             ],
             [
              0.3333333333333333,
              "#9c179e"
             ],
             [
              0.4444444444444444,
              "#bd3786"
             ],
             [
              0.5555555555555556,
              "#d8576b"
             ],
             [
              0.6666666666666666,
              "#ed7953"
             ],
             [
              0.7777777777777778,
              "#fb9f3a"
             ],
             [
              0.8888888888888888,
              "#fdca26"
             ],
             [
              1,
              "#f0f921"
             ]
            ],
            "type": "histogram2dcontour"
           }
          ],
          "mesh3d": [
           {
            "colorbar": {
             "outlinewidth": 0,
             "ticks": ""
            },
            "type": "mesh3d"
           }
          ],
          "parcoords": [
           {
            "line": {
             "colorbar": {
              "outlinewidth": 0,
              "ticks": ""
             }
            },
            "type": "parcoords"
           }
          ],
          "pie": [
           {
            "automargin": true,
            "type": "pie"
           }
          ],
          "scatter": [
           {
            "fillpattern": {
             "fillmode": "overlay",
             "size": 10,
             "solidity": 0.2
            },
            "type": "scatter"
           }
          ],
          "scatter3d": [
           {
            "line": {
             "colorbar": {
              "outlinewidth": 0,
              "ticks": ""
             }
            },
            "marker": {
             "colorbar": {
              "outlinewidth": 0,
              "ticks": ""
             }
            },
            "type": "scatter3d"
           }
          ],
          "scattercarpet": [
           {
            "marker": {
             "colorbar": {
              "outlinewidth": 0,
              "ticks": ""
             }
            },
            "type": "scattercarpet"
           }
          ],
          "scattergeo": [
           {
            "marker": {
             "colorbar": {
              "outlinewidth": 0,
              "ticks": ""
             }
            },
            "type": "scattergeo"
           }
          ],
          "scattergl": [
           {
            "marker": {
             "colorbar": {
              "outlinewidth": 0,
              "ticks": ""
             }
            },
            "type": "scattergl"
           }
          ],
          "scattermapbox": [
           {
            "marker": {
             "colorbar": {
              "outlinewidth": 0,
              "ticks": ""
             }
            },
            "type": "scattermapbox"
           }
          ],
          "scatterpolar": [
           {
            "marker": {
             "colorbar": {
              "outlinewidth": 0,
              "ticks": ""
             }
            },
            "type": "scatterpolar"
           }
          ],
          "scatterpolargl": [
           {
            "marker": {
             "colorbar": {
              "outlinewidth": 0,
              "ticks": ""
             }
            },
            "type": "scatterpolargl"
           }
          ],
          "scatterternary": [
           {
            "marker": {
             "colorbar": {
              "outlinewidth": 0,
              "ticks": ""
             }
            },
            "type": "scatterternary"
           }
          ],
          "surface": [
           {
            "colorbar": {
             "outlinewidth": 0,
             "ticks": ""
            },
            "colorscale": [
             [
              0,
              "#0d0887"
             ],
             [
              0.1111111111111111,
              "#46039f"
             ],
             [
              0.2222222222222222,
              "#7201a8"
             ],
             [
              0.3333333333333333,
              "#9c179e"
             ],
             [
              0.4444444444444444,
              "#bd3786"
             ],
             [
              0.5555555555555556,
              "#d8576b"
             ],
             [
              0.6666666666666666,
              "#ed7953"
             ],
             [
              0.7777777777777778,
              "#fb9f3a"
             ],
             [
              0.8888888888888888,
              "#fdca26"
             ],
             [
              1,
              "#f0f921"
             ]
            ],
            "type": "surface"
           }
          ],
          "table": [
           {
            "cells": {
             "fill": {
              "color": "#EBF0F8"
             },
             "line": {
              "color": "white"
             }
            },
            "header": {
             "fill": {
              "color": "#C8D4E3"
             },
             "line": {
              "color": "white"
             }
            },
            "type": "table"
           }
          ]
         },
         "layout": {
          "annotationdefaults": {
           "arrowcolor": "#2a3f5f",
           "arrowhead": 0,
           "arrowwidth": 1
          },
          "autotypenumbers": "strict",
          "coloraxis": {
           "colorbar": {
            "outlinewidth": 0,
            "ticks": ""
           }
          },
          "colorscale": {
           "diverging": [
            [
             0,
             "#8e0152"
            ],
            [
             0.1,
             "#c51b7d"
            ],
            [
             0.2,
             "#de77ae"
            ],
            [
             0.3,
             "#f1b6da"
            ],
            [
             0.4,
             "#fde0ef"
            ],
            [
             0.5,
             "#f7f7f7"
            ],
            [
             0.6,
             "#e6f5d0"
            ],
            [
             0.7,
             "#b8e186"
            ],
            [
             0.8,
             "#7fbc41"
            ],
            [
             0.9,
             "#4d9221"
            ],
            [
             1,
             "#276419"
            ]
           ],
           "sequential": [
            [
             0,
             "#0d0887"
            ],
            [
             0.1111111111111111,
             "#46039f"
            ],
            [
             0.2222222222222222,
             "#7201a8"
            ],
            [
             0.3333333333333333,
             "#9c179e"
            ],
            [
             0.4444444444444444,
             "#bd3786"
            ],
            [
             0.5555555555555556,
             "#d8576b"
            ],
            [
             0.6666666666666666,
             "#ed7953"
            ],
            [
             0.7777777777777778,
             "#fb9f3a"
            ],
            [
             0.8888888888888888,
             "#fdca26"
            ],
            [
             1,
             "#f0f921"
            ]
           ],
           "sequentialminus": [
            [
             0,
             "#0d0887"
            ],
            [
             0.1111111111111111,
             "#46039f"
            ],
            [
             0.2222222222222222,
             "#7201a8"
            ],
            [
             0.3333333333333333,
             "#9c179e"
            ],
            [
             0.4444444444444444,
             "#bd3786"
            ],
            [
             0.5555555555555556,
             "#d8576b"
            ],
            [
             0.6666666666666666,
             "#ed7953"
            ],
            [
             0.7777777777777778,
             "#fb9f3a"
            ],
            [
             0.8888888888888888,
             "#fdca26"
            ],
            [
             1,
             "#f0f921"
            ]
           ]
          },
          "colorway": [
           "#636efa",
           "#EF553B",
           "#00cc96",
           "#ab63fa",
           "#FFA15A",
           "#19d3f3",
           "#FF6692",
           "#B6E880",
           "#FF97FF",
           "#FECB52"
          ],
          "font": {
           "color": "#2a3f5f"
          },
          "geo": {
           "bgcolor": "white",
           "lakecolor": "white",
           "landcolor": "#E5ECF6",
           "showlakes": true,
           "showland": true,
           "subunitcolor": "white"
          },
          "hoverlabel": {
           "align": "left"
          },
          "hovermode": "closest",
          "mapbox": {
           "style": "light"
          },
          "paper_bgcolor": "white",
          "plot_bgcolor": "#E5ECF6",
          "polar": {
           "angularaxis": {
            "gridcolor": "white",
            "linecolor": "white",
            "ticks": ""
           },
           "bgcolor": "#E5ECF6",
           "radialaxis": {
            "gridcolor": "white",
            "linecolor": "white",
            "ticks": ""
           }
          },
          "scene": {
           "xaxis": {
            "backgroundcolor": "#E5ECF6",
            "gridcolor": "white",
            "gridwidth": 2,
            "linecolor": "white",
            "showbackground": true,
            "ticks": "",
            "zerolinecolor": "white"
           },
           "yaxis": {
            "backgroundcolor": "#E5ECF6",
            "gridcolor": "white",
            "gridwidth": 2,
            "linecolor": "white",
            "showbackground": true,
            "ticks": "",
            "zerolinecolor": "white"
           },
           "zaxis": {
            "backgroundcolor": "#E5ECF6",
            "gridcolor": "white",
            "gridwidth": 2,
            "linecolor": "white",
            "showbackground": true,
            "ticks": "",
            "zerolinecolor": "white"
           }
          },
          "shapedefaults": {
           "line": {
            "color": "#2a3f5f"
           }
          },
          "ternary": {
           "aaxis": {
            "gridcolor": "white",
            "linecolor": "white",
            "ticks": ""
           },
           "baxis": {
            "gridcolor": "white",
            "linecolor": "white",
            "ticks": ""
           },
           "bgcolor": "#E5ECF6",
           "caxis": {
            "gridcolor": "white",
            "linecolor": "white",
            "ticks": ""
           }
          },
          "title": {
           "x": 0.05
          },
          "xaxis": {
           "automargin": true,
           "gridcolor": "white",
           "linecolor": "white",
           "ticks": "",
           "title": {
            "standoff": 15
           },
           "zerolinecolor": "white",
           "zerolinewidth": 2
          },
          "yaxis": {
           "automargin": true,
           "gridcolor": "white",
           "linecolor": "white",
           "ticks": "",
           "title": {
            "standoff": 15
           },
           "zerolinecolor": "white",
           "zerolinewidth": 2
          }
         }
        },
        "xaxis": {
         "anchor": "y",
         "constrain": "domain",
         "domain": [
          0,
          1
         ],
         "scaleanchor": "y"
        },
        "yaxis": {
         "anchor": "x",
         "autorange": "reversed",
         "constrain": "domain",
         "domain": [
          0,
          1
         ]
        }
       }
      },
      "text/html": [
       "<div>                            <div id=\"8e457460-3c73-4905-a8c9-0f9a96a799d6\" class=\"plotly-graph-div\" style=\"height:525px; width:100%;\"></div>            <script type=\"text/javascript\">                require([\"plotly\"], function(Plotly) {                    window.PLOTLYENV=window.PLOTLYENV || {};                                    if (document.getElementById(\"8e457460-3c73-4905-a8c9-0f9a96a799d6\")) {                    Plotly.newPlot(                        \"8e457460-3c73-4905-a8c9-0f9a96a799d6\",                        [{\"coloraxis\":\"coloraxis\",\"name\":\"0\",\"x\":[\"0\",\"0.005\",\"0.01\",\"0.015\",\"0.02\",\"0.025\",\"0.03\",\"0.035\",\"0.04\",\"0.045\",\"0.05\",\"0.055\",\"0.06\",\"0.065\",\"0.07\",\"0.075\",\"0.08\",\"0.085\",\"0.09\",\"0.095\",\"0.1\",\"0.3\",\"0.5\",\"0.7\",\"0.9\",\"1\"],\"y\":[\"0\",\"0.005\",\"0.01\",\"0.015\",\"0.02\",\"0.025\",\"0.03\",\"0.035\",\"0.04\",\"0.045\",\"0.05\",\"0.055\",\"0.06\",\"0.065\",\"0.07\",\"0.075\",\"0.08\",\"0.085\",\"0.09\",\"0.095\",\"0.1\",\"0.3\",\"0.5\",\"0.7\",\"0.9\",\"1\"],\"z\":[[1.0,0.9999969885613903,0.9999975084660078,0.9999558250753281,0.9999920757764111,0.9999683578371849,0.9999151604057245,0.9999738198180765,0.9996986597282279,0.9998834106359444,0.9996790714707272,0.9996665822591668,0.9994620225584929,0.999642024281989,0.999587877153287,0.9992112006137952,0.9982810663091228,0.9986700482302433,0.99790863934883,0.9992723270128002,0.9980709429667384,0.9947529917599071,0.9908944188715478,0.9043503316605696,0.9777211592220625,0.9413945242441216],[0.9999969885613903,1.0,0.9999952476175926,0.9999381487667532,0.999994811982482,0.9999635903338945,0.9999166226524682,0.9999733633036811,0.9997377423389371,0.9998850545038105,0.9996393910796211,0.9996883930305714,0.9995164329722105,0.9996341347309008,0.9995883977685008,0.9992141452064648,0.9983372417919992,0.9986683848788066,0.9979780433774986,0.9992808223617815,0.9981348186575597,0.9948255778063094,0.9907567286725382,0.9044177331740019,0.9776514595444692,0.9411934738861086],[0.9999975084660078,0.9999952476175926,1.0,0.9999591613777128,0.9999899274046038,0.9999563644132795,0.9998964565689445,0.9999742295040275,0.9996761877750263,0.9998812114476918,0.9996847425579484,0.9996306751773132,0.9994449596748008,0.999624890777147,0.9995656875900956,0.9992082731701514,0.9982629634307627,0.9986095892048056,0.9978741523629941,0.9992245638183274,0.998047104799354,0.9948067789817019,0.9908913420842766,0.9034501538040102,0.9776630361945359,0.9414383139748872],[0.9999558250753281,0.9999381487667532,0.9999591613777128,1.0,0.9999297321228154,0.9999552834118449,0.9998155640211603,0.9999279660622636,0.9995589864933568,0.9998987330178869,0.9996628514635325,0.9994247667319764,0.9991419688201258,0.999437229876829,0.9993533485062847,0.9990425851161272,0.998022809545605,0.9983208752044399,0.997399700238903,0.9989944454666384,0.9976880621203479,0.9944430277883631,0.9914471680649175,0.9023708054885056,0.977385115765348,0.9433492160910318],[0.9999920757764111,0.999994811982482,0.9999899274046038,0.9999297321228154,1.0,0.9999524036237829,0.9999008243421649,0.9999627210642122,0.9997573934356104,0.9998682627782414,0.9996350334806339,0.9997180211753266,0.9994832121858704,0.9996737610766913,0.9996348003161848,0.9992732657947545,0.9984250310308128,0.998766244921637,0.9980712914068022,0.9993146182308917,0.9981645673964836,0.9947876191935136,0.9906292596101911,0.9048293291057186,0.978296581870331,0.9417858008279534],[0.9999683578371849,0.9999635903338945,0.9999563644132795,0.9999552834118449,0.9999524036237829,1.0,0.9998875415454578,0.9999293784570285,0.9997492505979778,0.9999392562317142,0.9995741701051261,0.9996181754758509,0.9993725696975119,0.9994819835447638,0.9994378698232764,0.9990948902212367,0.9982706102875852,0.9985282407159164,0.9977250077280614,0.9992138192612788,0.9980049791665142,0.9945922155793996,0.9910005646927952,0.9055672690652262,0.9771394695070359,0.9425822605658223],[0.9999151604057245,0.9999166226524682,0.9998964565689445,0.9998155640211603,0.9999008243421649,0.9998875415454578,1.0,0.9999512578359313,0.9996123691477161,0.9996868595954921,0.9994361068950143,0.9996518613581356,0.9995297854197194,0.9995838470454531,0.9995287709831429,0.9988248638539898,0.9978167733236919,0.9986322989368945,0.9977107444384127,0.9991813122148148,0.997713542334244,0.9938607941651249,0.9917023291029622,0.9071031180393273,0.9775210969323007,0.9385917788453285],[0.9999738198180765,0.9999733633036811,0.9999742295040275,0.9999279660622636,0.9999627210642122,0.9999293784570285,0.9999512578359313,1.0,0.999617197629841,0.9997936718836551,0.9995458773039159,0.9995604360981426,0.9994217803123067,0.9995544575656169,0.9994827800373824,0.9989410969289935,0.9979202207021461,0.9984624807226926,0.997618196188177,0.9990590455148997,0.9977028111184852,0.9941777575328706,0.9916459356131422,0.9036591528965052,0.9776318574100288,0.9404035401573231],[0.9996986597282279,0.9997377423389371,0.9996761877750263,0.9995589864933568,0.9997573934356104,0.9997492505979778,0.9996123691477161,0.999617197629841,1.0,0.9997483700655463,0.9990387796998206,0.9997635222681709,0.9994968028984389,0.9993252582134801,0.9993946346242145,0.9991966119904119,0.9990187839492725,0.9987671993417161,0.9985126407794044,0.999355886154346,0.998637177704608,0.9950471337107658,0.9888119860124827,0.909800831492911,0.9782053696058761,0.9435444758708834],[0.9998834106359444,0.9998850545038105,0.9998812114476918,0.9998987330178869,0.9998682627782414,0.9999392562317142,0.9996868595954921,0.9997936718836551,0.9997483700655463,1.0,0.9995435754007578,0.9995000316484794,0.9992982478416498,0.9992924827486589,0.9992630950645289,0.9991968186135938,0.9985424041521002,0.9983013645109826,0.9977511305850144,0.9991468624426769,0.9982684051928025,0.9953613912049256,0.9900306286819631,0.9036312685820331,0.9760894451771762,0.9440126269314313],[0.9996790714707272,0.9996393910796211,0.9996847425579484,0.9996628514635325,0.9996350334806339,0.9995741701051261,0.9994361068950143,0.9995458773039159,0.9990387796998206,0.9995435754007578,1.0,0.9993620208374909,0.9990629648192155,0.9996665832305346,0.9995705408825657,0.999490222912042,0.9981845543704281,0.9987807809274372,0.9979231638890713,0.9993362747014347,0.9982390797351643,0.9957801669249309,0.9893822910463478,0.9018294065526464,0.977316059446991,0.9403422615316083],[0.9996665822591668,0.9996883930305714,0.9996306751773132,0.9994247667319764,0.9997180211753266,0.9996181754758509,0.9996518613581356,0.9995604360981426,0.9997635222681709,0.9995000316484794,0.9993620208374909,1.0,0.9996891755347749,0.9998078357797309,0.999867798574399,0.9995232961486257,0.999022610949572,0.999524391706809,0.9990987915996797,0.9998414981022641,0.998960311222653,0.9953364650940086,0.9882169867454091,0.9126697221902028,0.9794103320339542,0.9394831456898479],[0.9994620225584929,0.9995164329722105,0.9994449596748008,0.9991419688201258,0.9994832121858704,0.9993725696975119,0.9995297854197194,0.9994217803123067,0.9994968028984389,0.9992982478416498,0.9990629648192155,0.9996891755347749,1.0,0.9994220550993214,0.9994638243260511,0.9990156258527083,0.9984540611420579,0.9987453914806668,0.9987423082016266,0.9994448926336158,0.9988685124666165,0.9958657208347789,0.9880429367923687,0.9083212094374892,0.9752052502687744,0.9330897470115097],[0.999642024281989,0.9996341347309008,0.999624890777147,0.999437229876829,0.9996737610766913,0.9994819835447638,0.9995838470454531,0.9995544575656169,0.9993252582134801,0.9992924827486589,0.9996665832305346,0.9998078357797309,0.9994220550993214,1.0,0.9999858944592411,0.9995715559484916,0.9985548563534654,0.9995738921675786,0.9988411715993905,0.9997125495775654,0.998541953224027,0.9951098793837074,0.9888306194279638,0.9088510429219748,0.9805630257126181,0.9383640054335589],[0.999587877153287,0.9995883977685008,0.9995656875900956,0.9993533485062847,0.9996348003161848,0.9994378698232764,0.9995287709831429,0.9994827800373824,0.9993946346242145,0.9992630950645289,0.9995705408825657,0.999867798574399,0.9994638243260511,0.9999858944592411,1.0,0.9996284459619807,0.9987633561418697,0.9996784074312619,0.9990598624695429,0.9997943193061671,0.9987368001542587,0.9952651062360492,0.9882667205385918,0.9102565134398429,0.9807846800111738,0.9386068700003992],[0.9992112006137952,0.9992141452064648,0.9992082731701514,0.9990425851161272,0.9992732657947545,0.9990948902212367,0.9988248638539898,0.9989410969289935,0.9991966119904119,0.9991968186135938,0.999490222912042,0.9995232961486257,0.9990156258527083,0.9995715559484916,0.9996284459619807,1.0,0.9995096232395027,0.9993783181738615,0.9992738611235501,0.9996897254349033,0.9993893973651918,0.9970902073172744,0.9852436243559068,0.9067921919635024,0.9797657544341302,0.9431486732473849],[0.9982810663091228,0.9983372417919992,0.9982629634307627,0.998022809545605,0.9984250310308128,0.9982706102875852,0.9978167733236919,0.9979202207021461,0.9990187839492725,0.9985424041521002,0.9981845543704281,0.999022610949572,0.9984540611420579,0.9985548563534654,0.9987633561418697,0.9995096232395027,1.0,0.9988110789602569,0.9994473335058836,0.999185963727126,0.9996385998117815,0.9973078916813461,0.9817620381886957,0.9112011183817973,0.9794021874005697,0.9463161989017089],[0.9986700482302433,0.9986683848788066,0.9986095892048056,0.9983208752044399,0.998766244921637,0.9985282407159164,0.9986322989368945,0.9984624807226926,0.9987671993417161,0.9983013645109826,0.9987807809274372,0.999524391706809,0.9987453914806668,0.9995738921675786,0.9996784074312619,0.9993783181738615,0.9988110789602569,1.0,0.999388372978003,0.9997238010759715,0.9987402266861536,0.9947872825370142,0.9855229208626066,0.9183933465841905,0.9830766879566688,0.9389393077544824],[0.99790863934883,0.9979780433774986,0.9978741523629941,0.997399700238903,0.9980712914068022,0.9977250077280614,0.9977107444384127,0.997618196188177,0.9985126407794044,0.9977511305850144,0.9979231638890713,0.9990987915996797,0.9987423082016266,0.9988411715993905,0.9990598624695429,0.9992738611235501,0.9994473335058836,0.999388372978003,1.0,0.9993749177456541,0.9995926460491843,0.9967728548341293,0.9811704159597879,0.9155469460686138,0.9805920357171687,0.9370133950890643],[0.9992723270128002,0.9992808223617815,0.9992245638183274,0.9989944454666384,0.9993146182308917,0.9992138192612788,0.9991813122148148,0.9990590455148997,0.999355886154346,0.9991468624426769,0.9993362747014347,0.9998414981022641,0.9994448926336158,0.9997125495775654,0.9997943193061671,0.9996897254349033,0.999185963727126,0.9997238010759715,0.9993749177456541,1.0,0.9993416582525868,0.996170564748276,0.9862240172262114,0.9145291986807885,0.9789918796530862,0.9385893003297577],[0.9980709429667384,0.9981348186575597,0.998047104799354,0.9976880621203479,0.9981645673964836,0.9980049791665142,0.997713542334244,0.9977028111184852,0.998637177704608,0.9982684051928025,0.9982390797351643,0.998960311222653,0.9988685124666165,0.998541953224027,0.9987368001542587,0.9993893973651918,0.9996385998117815,0.9987402266861536,0.9995926460491843,0.9993416582525868,1.0,0.9983132962698142,0.9808165335974719,0.9110769748586387,0.975732732575985,0.938194938470322],[0.9947529917599071,0.9948255778063094,0.9948067789817019,0.9944430277883631,0.9947876191935136,0.9945922155793996,0.9938607941651249,0.9941777575328706,0.9950471337107658,0.9953613912049256,0.9957801669249309,0.9953364650940086,0.9958657208347789,0.9951098793837074,0.9952651062360492,0.9970902073172744,0.9973078916813461,0.9947872825370142,0.9967728548341293,0.996170564748276,0.9983132962698142,1.0,0.9734610147268843,0.8924366514242463,0.9660652533277758,0.9337852981508851],[0.9908944188715478,0.9907567286725382,0.9908913420842766,0.9914471680649175,0.9906292596101911,0.9910005646927952,0.9917023291029622,0.9916459356131422,0.9888119860124827,0.9900306286819631,0.9893822910463478,0.9882169867454091,0.9880429367923687,0.9888306194279638,0.9882667205385918,0.9852436243559068,0.9817620381886957,0.9855229208626066,0.9811704159597879,0.9862240172262114,0.9808165335974719,0.9734610147268843,1.0,0.8853797185049529,0.9666543222853244,0.9292912247505983],[0.9043503316605696,0.9044177331740019,0.9034501538040102,0.9023708054885056,0.9048293291057186,0.9055672690652262,0.9071031180393273,0.9036591528965052,0.909800831492911,0.9036312685820331,0.9018294065526464,0.9126697221902028,0.9083212094374892,0.9088510429219748,0.9102565134398429,0.9067921919635024,0.9112011183817973,0.9183933465841905,0.9155469460686138,0.9145291986807885,0.9110769748586387,0.8924366514242463,0.8853797185049529,1.0,0.9146150909202292,0.8472101348060105],[0.9777211592220625,0.9776514595444692,0.9776630361945359,0.977385115765348,0.978296581870331,0.9771394695070359,0.9775210969323007,0.9776318574100288,0.9782053696058761,0.9760894451771762,0.977316059446991,0.9794103320339542,0.9752052502687744,0.9805630257126181,0.9807846800111738,0.9797657544341302,0.9794021874005697,0.9830766879566688,0.9805920357171687,0.9789918796530862,0.975732732575985,0.9660652533277758,0.9666543222853244,0.9146150909202292,1.0,0.9486463043293071],[0.9413945242441216,0.9411934738861086,0.9414383139748872,0.9433492160910318,0.9417858008279534,0.9425822605658223,0.9385917788453285,0.9404035401573231,0.9435444758708834,0.9440126269314313,0.9403422615316083,0.9394831456898479,0.9330897470115097,0.9383640054335589,0.9386068700003992,0.9431486732473849,0.9463161989017089,0.9389393077544824,0.9370133950890643,0.9385893003297577,0.938194938470322,0.9337852981508851,0.9292912247505983,0.8472101348060105,0.9486463043293071,1.0]],\"type\":\"heatmap\",\"xaxis\":\"x\",\"yaxis\":\"y\",\"hovertemplate\":\"x: %{x}\\u003cbr\\u003ey: %{y}\\u003cbr\\u003ecolor: %{z}\\u003cextra\\u003e\\u003c\\u002fextra\\u003e\"}],                        {\"template\":{\"data\":{\"histogram2dcontour\":[{\"type\":\"histogram2dcontour\",\"colorbar\":{\"outlinewidth\":0,\"ticks\":\"\"},\"colorscale\":[[0.0,\"#0d0887\"],[0.1111111111111111,\"#46039f\"],[0.2222222222222222,\"#7201a8\"],[0.3333333333333333,\"#9c179e\"],[0.4444444444444444,\"#bd3786\"],[0.5555555555555556,\"#d8576b\"],[0.6666666666666666,\"#ed7953\"],[0.7777777777777778,\"#fb9f3a\"],[0.8888888888888888,\"#fdca26\"],[1.0,\"#f0f921\"]]}],\"choropleth\":[{\"type\":\"choropleth\",\"colorbar\":{\"outlinewidth\":0,\"ticks\":\"\"}}],\"histogram2d\":[{\"type\":\"histogram2d\",\"colorbar\":{\"outlinewidth\":0,\"ticks\":\"\"},\"colorscale\":[[0.0,\"#0d0887\"],[0.1111111111111111,\"#46039f\"],[0.2222222222222222,\"#7201a8\"],[0.3333333333333333,\"#9c179e\"],[0.4444444444444444,\"#bd3786\"],[0.5555555555555556,\"#d8576b\"],[0.6666666666666666,\"#ed7953\"],[0.7777777777777778,\"#fb9f3a\"],[0.8888888888888888,\"#fdca26\"],[1.0,\"#f0f921\"]]}],\"heatmap\":[{\"type\":\"heatmap\",\"colorbar\":{\"outlinewidth\":0,\"ticks\":\"\"},\"colorscale\":[[0.0,\"#0d0887\"],[0.1111111111111111,\"#46039f\"],[0.2222222222222222,\"#7201a8\"],[0.3333333333333333,\"#9c179e\"],[0.4444444444444444,\"#bd3786\"],[0.5555555555555556,\"#d8576b\"],[0.6666666666666666,\"#ed7953\"],[0.7777777777777778,\"#fb9f3a\"],[0.8888888888888888,\"#fdca26\"],[1.0,\"#f0f921\"]]}],\"heatmapgl\":[{\"type\":\"heatmapgl\",\"colorbar\":{\"outlinewidth\":0,\"ticks\":\"\"},\"colorscale\":[[0.0,\"#0d0887\"],[0.1111111111111111,\"#46039f\"],[0.2222222222222222,\"#7201a8\"],[0.3333333333333333,\"#9c179e\"],[0.4444444444444444,\"#bd3786\"],[0.5555555555555556,\"#d8576b\"],[0.6666666666666666,\"#ed7953\"],[0.7777777777777778,\"#fb9f3a\"],[0.8888888888888888,\"#fdca26\"],[1.0,\"#f0f921\"]]}],\"contourcarpet\":[{\"type\":\"contourcarpet\",\"colorbar\":{\"outlinewidth\":0,\"ticks\":\"\"}}],\"contour\":[{\"type\":\"contour\",\"colorbar\":{\"outlinewidth\":0,\"ticks\":\"\"},\"colorscale\":[[0.0,\"#0d0887\"],[0.1111111111111111,\"#46039f\"],[0.2222222222222222,\"#7201a8\"],[0.3333333333333333,\"#9c179e\"],[0.4444444444444444,\"#bd3786\"],[0.5555555555555556,\"#d8576b\"],[0.6666666666666666,\"#ed7953\"],[0.7777777777777778,\"#fb9f3a\"],[0.8888888888888888,\"#fdca26\"],[1.0,\"#f0f921\"]]}],\"surface\":[{\"type\":\"surface\",\"colorbar\":{\"outlinewidth\":0,\"ticks\":\"\"},\"colorscale\":[[0.0,\"#0d0887\"],[0.1111111111111111,\"#46039f\"],[0.2222222222222222,\"#7201a8\"],[0.3333333333333333,\"#9c179e\"],[0.4444444444444444,\"#bd3786\"],[0.5555555555555556,\"#d8576b\"],[0.6666666666666666,\"#ed7953\"],[0.7777777777777778,\"#fb9f3a\"],[0.8888888888888888,\"#fdca26\"],[1.0,\"#f0f921\"]]}],\"mesh3d\":[{\"type\":\"mesh3d\",\"colorbar\":{\"outlinewidth\":0,\"ticks\":\"\"}}],\"scatter\":[{\"fillpattern\":{\"fillmode\":\"overlay\",\"size\":10,\"solidity\":0.2},\"type\":\"scatter\"}],\"parcoords\":[{\"type\":\"parcoords\",\"line\":{\"colorbar\":{\"outlinewidth\":0,\"ticks\":\"\"}}}],\"scatterpolargl\":[{\"type\":\"scatterpolargl\",\"marker\":{\"colorbar\":{\"outlinewidth\":0,\"ticks\":\"\"}}}],\"bar\":[{\"error_x\":{\"color\":\"#2a3f5f\"},\"error_y\":{\"color\":\"#2a3f5f\"},\"marker\":{\"line\":{\"color\":\"#E5ECF6\",\"width\":0.5},\"pattern\":{\"fillmode\":\"overlay\",\"size\":10,\"solidity\":0.2}},\"type\":\"bar\"}],\"scattergeo\":[{\"type\":\"scattergeo\",\"marker\":{\"colorbar\":{\"outlinewidth\":0,\"ticks\":\"\"}}}],\"scatterpolar\":[{\"type\":\"scatterpolar\",\"marker\":{\"colorbar\":{\"outlinewidth\":0,\"ticks\":\"\"}}}],\"histogram\":[{\"marker\":{\"pattern\":{\"fillmode\":\"overlay\",\"size\":10,\"solidity\":0.2}},\"type\":\"histogram\"}],\"scattergl\":[{\"type\":\"scattergl\",\"marker\":{\"colorbar\":{\"outlinewidth\":0,\"ticks\":\"\"}}}],\"scatter3d\":[{\"type\":\"scatter3d\",\"line\":{\"colorbar\":{\"outlinewidth\":0,\"ticks\":\"\"}},\"marker\":{\"colorbar\":{\"outlinewidth\":0,\"ticks\":\"\"}}}],\"scattermapbox\":[{\"type\":\"scattermapbox\",\"marker\":{\"colorbar\":{\"outlinewidth\":0,\"ticks\":\"\"}}}],\"scatterternary\":[{\"type\":\"scatterternary\",\"marker\":{\"colorbar\":{\"outlinewidth\":0,\"ticks\":\"\"}}}],\"scattercarpet\":[{\"type\":\"scattercarpet\",\"marker\":{\"colorbar\":{\"outlinewidth\":0,\"ticks\":\"\"}}}],\"carpet\":[{\"aaxis\":{\"endlinecolor\":\"#2a3f5f\",\"gridcolor\":\"white\",\"linecolor\":\"white\",\"minorgridcolor\":\"white\",\"startlinecolor\":\"#2a3f5f\"},\"baxis\":{\"endlinecolor\":\"#2a3f5f\",\"gridcolor\":\"white\",\"linecolor\":\"white\",\"minorgridcolor\":\"white\",\"startlinecolor\":\"#2a3f5f\"},\"type\":\"carpet\"}],\"table\":[{\"cells\":{\"fill\":{\"color\":\"#EBF0F8\"},\"line\":{\"color\":\"white\"}},\"header\":{\"fill\":{\"color\":\"#C8D4E3\"},\"line\":{\"color\":\"white\"}},\"type\":\"table\"}],\"barpolar\":[{\"marker\":{\"line\":{\"color\":\"#E5ECF6\",\"width\":0.5},\"pattern\":{\"fillmode\":\"overlay\",\"size\":10,\"solidity\":0.2}},\"type\":\"barpolar\"}],\"pie\":[{\"automargin\":true,\"type\":\"pie\"}]},\"layout\":{\"autotypenumbers\":\"strict\",\"colorway\":[\"#636efa\",\"#EF553B\",\"#00cc96\",\"#ab63fa\",\"#FFA15A\",\"#19d3f3\",\"#FF6692\",\"#B6E880\",\"#FF97FF\",\"#FECB52\"],\"font\":{\"color\":\"#2a3f5f\"},\"hovermode\":\"closest\",\"hoverlabel\":{\"align\":\"left\"},\"paper_bgcolor\":\"white\",\"plot_bgcolor\":\"#E5ECF6\",\"polar\":{\"bgcolor\":\"#E5ECF6\",\"angularaxis\":{\"gridcolor\":\"white\",\"linecolor\":\"white\",\"ticks\":\"\"},\"radialaxis\":{\"gridcolor\":\"white\",\"linecolor\":\"white\",\"ticks\":\"\"}},\"ternary\":{\"bgcolor\":\"#E5ECF6\",\"aaxis\":{\"gridcolor\":\"white\",\"linecolor\":\"white\",\"ticks\":\"\"},\"baxis\":{\"gridcolor\":\"white\",\"linecolor\":\"white\",\"ticks\":\"\"},\"caxis\":{\"gridcolor\":\"white\",\"linecolor\":\"white\",\"ticks\":\"\"}},\"coloraxis\":{\"colorbar\":{\"outlinewidth\":0,\"ticks\":\"\"}},\"colorscale\":{\"sequential\":[[0.0,\"#0d0887\"],[0.1111111111111111,\"#46039f\"],[0.2222222222222222,\"#7201a8\"],[0.3333333333333333,\"#9c179e\"],[0.4444444444444444,\"#bd3786\"],[0.5555555555555556,\"#d8576b\"],[0.6666666666666666,\"#ed7953\"],[0.7777777777777778,\"#fb9f3a\"],[0.8888888888888888,\"#fdca26\"],[1.0,\"#f0f921\"]],\"sequentialminus\":[[0.0,\"#0d0887\"],[0.1111111111111111,\"#46039f\"],[0.2222222222222222,\"#7201a8\"],[0.3333333333333333,\"#9c179e\"],[0.4444444444444444,\"#bd3786\"],[0.5555555555555556,\"#d8576b\"],[0.6666666666666666,\"#ed7953\"],[0.7777777777777778,\"#fb9f3a\"],[0.8888888888888888,\"#fdca26\"],[1.0,\"#f0f921\"]],\"diverging\":[[0,\"#8e0152\"],[0.1,\"#c51b7d\"],[0.2,\"#de77ae\"],[0.3,\"#f1b6da\"],[0.4,\"#fde0ef\"],[0.5,\"#f7f7f7\"],[0.6,\"#e6f5d0\"],[0.7,\"#b8e186\"],[0.8,\"#7fbc41\"],[0.9,\"#4d9221\"],[1,\"#276419\"]]},\"xaxis\":{\"gridcolor\":\"white\",\"linecolor\":\"white\",\"ticks\":\"\",\"title\":{\"standoff\":15},\"zerolinecolor\":\"white\",\"automargin\":true,\"zerolinewidth\":2},\"yaxis\":{\"gridcolor\":\"white\",\"linecolor\":\"white\",\"ticks\":\"\",\"title\":{\"standoff\":15},\"zerolinecolor\":\"white\",\"automargin\":true,\"zerolinewidth\":2},\"scene\":{\"xaxis\":{\"backgroundcolor\":\"#E5ECF6\",\"gridcolor\":\"white\",\"linecolor\":\"white\",\"showbackground\":true,\"ticks\":\"\",\"zerolinecolor\":\"white\",\"gridwidth\":2},\"yaxis\":{\"backgroundcolor\":\"#E5ECF6\",\"gridcolor\":\"white\",\"linecolor\":\"white\",\"showbackground\":true,\"ticks\":\"\",\"zerolinecolor\":\"white\",\"gridwidth\":2},\"zaxis\":{\"backgroundcolor\":\"#E5ECF6\",\"gridcolor\":\"white\",\"linecolor\":\"white\",\"showbackground\":true,\"ticks\":\"\",\"zerolinecolor\":\"white\",\"gridwidth\":2}},\"shapedefaults\":{\"line\":{\"color\":\"#2a3f5f\"}},\"annotationdefaults\":{\"arrowcolor\":\"#2a3f5f\",\"arrowhead\":0,\"arrowwidth\":1},\"geo\":{\"bgcolor\":\"white\",\"landcolor\":\"#E5ECF6\",\"subunitcolor\":\"white\",\"showland\":true,\"showlakes\":true,\"lakecolor\":\"white\"},\"title\":{\"x\":0.05},\"mapbox\":{\"style\":\"light\"}}},\"xaxis\":{\"anchor\":\"y\",\"domain\":[0.0,1.0],\"scaleanchor\":\"y\",\"constrain\":\"domain\"},\"yaxis\":{\"anchor\":\"x\",\"domain\":[0.0,1.0],\"autorange\":\"reversed\",\"constrain\":\"domain\"},\"coloraxis\":{\"colorscale\":[[0.0,\"#0d0887\"],[0.1111111111111111,\"#46039f\"],[0.2222222222222222,\"#7201a8\"],[0.3333333333333333,\"#9c179e\"],[0.4444444444444444,\"#bd3786\"],[0.5555555555555556,\"#d8576b\"],[0.6666666666666666,\"#ed7953\"],[0.7777777777777778,\"#fb9f3a\"],[0.8888888888888888,\"#fdca26\"],[1.0,\"#f0f921\"]]},\"margin\":{\"t\":60}},                        {\"responsive\": true}                    ).then(function(){\n",
       "                            \n",
       "var gd = document.getElementById('8e457460-3c73-4905-a8c9-0f9a96a799d6');\n",
       "var x = new MutationObserver(function (mutations, observer) {{\n",
       "        var display = window.getComputedStyle(gd).display;\n",
       "        if (!display || display === 'none') {{\n",
       "            console.log([gd, 'removed!']);\n",
       "            Plotly.purge(gd);\n",
       "            observer.disconnect();\n",
       "        }}\n",
       "}});\n",
       "\n",
       "// Listen for the removal of the full notebook cells\n",
       "var notebookContainer = gd.closest('#notebook-container');\n",
       "if (notebookContainer) {{\n",
       "    x.observe(notebookContainer, {childList: true});\n",
       "}}\n",
       "\n",
       "// Listen for the clearing of the current output cell\n",
       "var outputEl = gd.closest('.output');\n",
       "if (outputEl) {{\n",
       "    x.observe(outputEl, {childList: true});\n",
       "}}\n",
       "\n",
       "                        })                };                });            </script>        </div>"
      ]
     },
     "metadata": {},
     "output_type": "display_data"
    }
   ],
   "source": [
    "import plotly.express as px\n",
    "\n",
    "# Sample data (replace this with your own data)\n",
    "data = [\n",
    "    [1, 2, 3],\n",
    "    [4, 5, 6],\n",
    "    [7, 8, 9]\n",
    "]\n",
    "\n",
    "# Create a heatmap using Plotly Express\n",
    "fig = px.imshow(cor_matrix)\n",
    "\n",
    "# Show the heatmap\n",
    "fig.show()\n"
   ]
  },
  {
   "cell_type": "code",
   "execution_count": 46,
   "metadata": {},
   "outputs": [
    {
     "data": {
      "text/html": [
       "<div>\n",
       "<style scoped>\n",
       "    .dataframe tbody tr th:only-of-type {\n",
       "        vertical-align: middle;\n",
       "    }\n",
       "\n",
       "    .dataframe tbody tr th {\n",
       "        vertical-align: top;\n",
       "    }\n",
       "\n",
       "    .dataframe thead th {\n",
       "        text-align: right;\n",
       "    }\n",
       "</style>\n",
       "<table border=\"1\" class=\"dataframe\">\n",
       "  <thead>\n",
       "    <tr style=\"text-align: right;\">\n",
       "      <th></th>\n",
       "      <th>index</th>\n",
       "      <th>variable</th>\n",
       "      <th>value</th>\n",
       "    </tr>\n",
       "  </thead>\n",
       "  <tbody>\n",
       "    <tr>\n",
       "      <th>166</th>\n",
       "      <td>Platelets</td>\n",
       "      <td>0</td>\n",
       "      <td>0.050000</td>\n",
       "    </tr>\n",
       "    <tr>\n",
       "      <th>162</th>\n",
       "      <td>Dendritic cells</td>\n",
       "      <td>0</td>\n",
       "      <td>0.050000</td>\n",
       "    </tr>\n",
       "    <tr>\n",
       "      <th>163</th>\n",
       "      <td>Macrophages</td>\n",
       "      <td>0</td>\n",
       "      <td>0.200000</td>\n",
       "    </tr>\n",
       "    <tr>\n",
       "      <th>164</th>\n",
       "      <td>Monocytes</td>\n",
       "      <td>0</td>\n",
       "      <td>0.050000</td>\n",
       "    </tr>\n",
       "    <tr>\n",
       "      <th>165</th>\n",
       "      <td>Nk-cells</td>\n",
       "      <td>0</td>\n",
       "      <td>0.100000</td>\n",
       "    </tr>\n",
       "    <tr>\n",
       "      <th>...</th>\n",
       "      <td>...</td>\n",
       "      <td>...</td>\n",
       "      <td>...</td>\n",
       "    </tr>\n",
       "    <tr>\n",
       "      <th>54</th>\n",
       "      <td>Platelets</td>\n",
       "      <td>1</td>\n",
       "      <td>0.134818</td>\n",
       "    </tr>\n",
       "    <tr>\n",
       "      <th>53</th>\n",
       "      <td>Nk-cells</td>\n",
       "      <td>1</td>\n",
       "      <td>0.146558</td>\n",
       "    </tr>\n",
       "    <tr>\n",
       "      <th>52</th>\n",
       "      <td>Monocytes</td>\n",
       "      <td>1</td>\n",
       "      <td>0.128626</td>\n",
       "    </tr>\n",
       "    <tr>\n",
       "      <th>49</th>\n",
       "      <td>B-cells</td>\n",
       "      <td>1</td>\n",
       "      <td>0.138650</td>\n",
       "    </tr>\n",
       "    <tr>\n",
       "      <th>51</th>\n",
       "      <td>Macrophages</td>\n",
       "      <td>1</td>\n",
       "      <td>0.144343</td>\n",
       "    </tr>\n",
       "  </tbody>\n",
       "</table>\n",
       "<p>182 rows × 3 columns</p>\n",
       "</div>"
      ],
      "text/plain": [
       "               index variable     value\n",
       "166        Platelets        0  0.050000\n",
       "162  Dendritic cells        0  0.050000\n",
       "163      Macrophages        0  0.200000\n",
       "164        Monocytes        0  0.050000\n",
       "165         Nk-cells        0  0.100000\n",
       "..               ...      ...       ...\n",
       "54         Platelets        1  0.134818\n",
       "53          Nk-cells        1  0.146558\n",
       "52         Monocytes        1  0.128626\n",
       "49           B-cells        1  0.138650\n",
       "51       Macrophages        1  0.144343\n",
       "\n",
       "[182 rows x 3 columns]"
      ]
     },
     "execution_count": 46,
     "metadata": {},
     "output_type": "execute_result"
    }
   ],
   "source": [
    "melted = merged_df.reset_index().melt(id_vars=['index'])\n",
    "melted = melted.sort_values(\"variable\")\n",
    "melted\n"
   ]
  },
  {
   "cell_type": "code",
   "execution_count": 51,
   "metadata": {},
   "outputs": [
    {
     "data": {
      "application/vnd.plotly.v1+json": {
       "config": {
        "plotlyServerURL": "https://plot.ly"
       },
       "data": [
        {
         "hovertemplate": "index=Platelets<br>variable=%{x}<br>value=%{y}<extra></extra>",
         "legendgroup": "Platelets",
         "line": {
          "color": "#636efa",
          "dash": "solid"
         },
         "marker": {
          "symbol": "circle"
         },
         "mode": "lines",
         "name": "Platelets",
         "orientation": "v",
         "showlegend": true,
         "type": "scatter",
         "x": [
          "0",
          "0.005",
          "0.01",
          "0.015",
          "0.02",
          "0.025",
          "0.03",
          "0.035",
          "0.04",
          "0.045",
          "0.05",
          "0.055",
          "0.06",
          "0.065",
          "0.07",
          "0.075",
          "0.08",
          "0.085",
          "0.09",
          "0.095",
          "0.1",
          "0.3",
          "0.5",
          "0.7",
          "0.9",
          "1"
         ],
         "xaxis": "x",
         "y": [
          0.05,
          0.05074,
          0.05003,
          0.04815,
          0.05134,
          0.04925310456536085,
          0.049412187740343796,
          0.05017921146953405,
          0.0572197041390646,
          0.049140294044355846,
          0.047068300250606626,
          0.05604684748847607,
          0.056442824023619394,
          0.05492155471460107,
          0.0583989177339561,
          0.058260937317386734,
          0.06566900544624896,
          0.06622561591668609,
          0.07151835215480702,
          0.06291957735790313,
          0.06812921890067503,
          0.10432235770073608,
          0.11454655866278292,
          0.13664196464582679,
          0.13748139069178653,
          0.13481791650805736
         ],
         "yaxis": "y"
        },
        {
         "hovertemplate": "index=Dendritic cells<br>variable=%{x}<br>value=%{y}<extra></extra>",
         "legendgroup": "Dendritic cells",
         "line": {
          "color": "#EF553B",
          "dash": "solid"
         },
         "marker": {
          "symbol": "circle"
         },
         "mode": "lines",
         "name": "Dendritic cells",
         "orientation": "v",
         "showlegend": true,
         "type": "scatter",
         "x": [
          "0",
          "0.005",
          "0.01",
          "0.015",
          "0.02",
          "0.025",
          "0.03",
          "0.035",
          "0.04",
          "0.045",
          "0.05",
          "0.055",
          "0.06",
          "0.065",
          "0.07",
          "0.075",
          "0.08",
          "0.085",
          "0.09",
          "0.095",
          "0.1",
          "0.3",
          "0.5",
          "0.7",
          "0.9",
          "1"
         ],
         "xaxis": "x",
         "y": [
          0.05,
          0.05059,
          0.04987,
          0.04824,
          0.04944,
          0.050272961785350054,
          0.05116014263311925,
          0.05018919539541338,
          0.05259749962643821,
          0.051064041863942186,
          0.05068817375392816,
          0.05301996161987853,
          0.06274397130798344,
          0.05101900031535793,
          0.053659066446790235,
          0.0525341852039425,
          0.054482115695991366,
          0.056841144011813165,
          0.062135222301254005,
          0.06256932147652312,
          0.06892960462873673,
          0.11051019834803619,
          0.11664625297199378,
          0.13221352649525991,
          0.12314487249722214,
          0.119747147916162
         ],
         "yaxis": "y"
        },
        {
         "hovertemplate": "index=Macrophages<br>variable=%{x}<br>value=%{y}<extra></extra>",
         "legendgroup": "Macrophages",
         "line": {
          "color": "#00cc96",
          "dash": "solid"
         },
         "marker": {
          "symbol": "circle"
         },
         "mode": "lines",
         "name": "Macrophages",
         "orientation": "v",
         "showlegend": true,
         "type": "scatter",
         "x": [
          "0",
          "0.005",
          "0.01",
          "0.015",
          "0.02",
          "0.025",
          "0.03",
          "0.035",
          "0.04",
          "0.045",
          "0.05",
          "0.055",
          "0.06",
          "0.065",
          "0.07",
          "0.075",
          "0.08",
          "0.085",
          "0.09",
          "0.095",
          "0.1",
          "0.3",
          "0.5",
          "0.7",
          "0.9",
          "1"
         ],
         "xaxis": "x",
         "y": [
          0.2,
          0.19968,
          0.19977,
          0.20002,
          0.19972,
          0.1997820305157278,
          0.20433093280861392,
          0.20216451513063968,
          0.19578622304129104,
          0.19597308746573636,
          0.19561239508333664,
          0.19726195422082418,
          0.19569223452949452,
          0.19832071901608325,
          0.1960915976261245,
          0.18692781175737272,
          0.18069770865021342,
          0.1919347944353773,
          0.1834825734914402,
          0.1888754840341694,
          0.17720347155255545,
          0.15218857110749004,
          0.16820198235845074,
          0.15485274526499335,
          0.15191076198346595,
          0.14434312673749294
         ],
         "yaxis": "y"
        },
        {
         "hovertemplate": "index=Monocytes<br>variable=%{x}<br>value=%{y}<extra></extra>",
         "legendgroup": "Monocytes",
         "line": {
          "color": "#ab63fa",
          "dash": "solid"
         },
         "marker": {
          "symbol": "circle"
         },
         "mode": "lines",
         "name": "Monocytes",
         "orientation": "v",
         "showlegend": true,
         "type": "scatter",
         "x": [
          "0",
          "0.005",
          "0.01",
          "0.015",
          "0.02",
          "0.025",
          "0.03",
          "0.035",
          "0.04",
          "0.045",
          "0.05",
          "0.055",
          "0.06",
          "0.065",
          "0.07",
          "0.075",
          "0.08",
          "0.085",
          "0.09",
          "0.095",
          "0.1",
          "0.3",
          "0.5",
          "0.7",
          "0.9",
          "1"
         ],
         "xaxis": "x",
         "y": [
          0.05,
          0.04973,
          0.05043,
          0.05031,
          0.04962,
          0.04782330473733677,
          0.047514408142473305,
          0.049739918730843345,
          0.04466802809184639,
          0.047834537752305006,
          0.05880305501412148,
          0.049003897362850414,
          0.0511126082390473,
          0.056458924629454434,
          0.057599067829246856,
          0.058923214772683,
          0.0519895981551445,
          0.06124193673739022,
          0.0594362327172102,
          0.06031211690762974,
          0.06140790742526519,
          0.10826262853289881,
          0.11826734049013453,
          0.11866747603469419,
          0.13256636675116298,
          0.12862638566863918
         ],
         "yaxis": "y"
        },
        {
         "hovertemplate": "index=Nk-cells<br>variable=%{x}<br>value=%{y}<extra></extra>",
         "legendgroup": "Nk-cells",
         "line": {
          "color": "#FFA15A",
          "dash": "solid"
         },
         "marker": {
          "symbol": "circle"
         },
         "mode": "lines",
         "name": "Nk-cells",
         "orientation": "v",
         "showlegend": true,
         "type": "scatter",
         "x": [
          "0",
          "0.005",
          "0.01",
          "0.015",
          "0.02",
          "0.025",
          "0.03",
          "0.035",
          "0.04",
          "0.045",
          "0.05",
          "0.055",
          "0.06",
          "0.065",
          "0.07",
          "0.075",
          "0.08",
          "0.085",
          "0.09",
          "0.095",
          "0.1",
          "0.3",
          "0.5",
          "0.7",
          "0.9",
          "1"
         ],
         "xaxis": "x",
         "y": [
          0.1,
          0.10004,
          0.10042,
          0.10276,
          0.09962,
          0.10128581998520207,
          0.09763576615360028,
          0.10046824612374078,
          0.10009463565273696,
          0.1034338400199352,
          0.09765702693026772,
          0.09280471640255604,
          0.09469554362256524,
          0.09193669189530117,
          0.0925752204524583,
          0.09534847481397796,
          0.09651145674893283,
          0.08893875806326261,
          0.08885229608987538,
          0.09426747874141386,
          0.09595949855351976,
          0.12258386244872731,
          0.13646983747954342,
          0.12272518017265613,
          0.13373012556833833,
          0.146557889515636
         ],
         "yaxis": "y"
        },
        {
         "hovertemplate": "index=T-cells<br>variable=%{x}<br>value=%{y}<extra></extra>",
         "legendgroup": "T-cells",
         "line": {
          "color": "#19d3f3",
          "dash": "solid"
         },
         "marker": {
          "symbol": "circle"
         },
         "mode": "lines",
         "name": "T-cells",
         "orientation": "v",
         "showlegend": true,
         "type": "scatter",
         "x": [
          "0",
          "0.005",
          "0.01",
          "0.015",
          "0.02",
          "0.025",
          "0.03",
          "0.035",
          "0.04",
          "0.045",
          "0.05",
          "0.055",
          "0.06",
          "0.065",
          "0.07",
          "0.075",
          "0.08",
          "0.085",
          "0.09",
          "0.095",
          "0.1",
          "0.3",
          "0.5",
          "0.7",
          "0.9",
          "1"
         ],
         "xaxis": "x",
         "y": [
          0.5,
          0.49954,
          0.50011,
          0.4998,
          0.50055,
          0.49972003919451274,
          0.5009039423874068,
          0.4988568404868162,
          0.49648851920107584,
          0.5004535260403689,
          0.49635029237439837,
          0.49768532257107245,
          0.4890225295737809,
          0.49377168085777356,
          0.485350897115603,
          0.4897249600685652,
          0.48994651881654483,
          0.46833955078883965,
          0.4728103594430533,
          0.4650619758323442,
          0.46255544840887175,
          0.2981893015676799,
          0.22861451053449572,
          0.18945322844140977,
          0.1883432221881761,
          0.18725703936971544
         ],
         "yaxis": "y"
        },
        {
         "hovertemplate": "index=B-cells<br>variable=%{x}<br>value=%{y}<extra></extra>",
         "legendgroup": "B-cells",
         "line": {
          "color": "#FF6692",
          "dash": "solid"
         },
         "marker": {
          "symbol": "circle"
         },
         "mode": "lines",
         "name": "B-cells",
         "orientation": "v",
         "showlegend": true,
         "type": "scatter",
         "x": [
          "0",
          "0.005",
          "0.01",
          "0.015",
          "0.02",
          "0.025",
          "0.03",
          "0.035",
          "0.04",
          "0.045",
          "0.05",
          "0.055",
          "0.06",
          "0.065",
          "0.07",
          "0.075",
          "0.08",
          "0.085",
          "0.09",
          "0.095",
          "0.1",
          "0.3",
          "0.5",
          "0.7",
          "0.9",
          "1"
         ],
         "xaxis": "x",
         "y": [
          0.05,
          0.04968,
          0.04937,
          0.05072,
          0.04971,
          0.05186273921650969,
          0.0490426201344427,
          0.04840207266301255,
          0.05314539024754694,
          0.05210067281335659,
          0.053820756593341026,
          0.054177300334342295,
          0.050290288703509226,
          0.05357142857142857,
          0.05632523279582103,
          0.05828041606607191,
          0.0607035964869241,
          0.06647820004663092,
          0.061764963802359914,
          0.06599404565001654,
          0.06581485053037608,
          0.10394308029443164,
          0.11725351750259888,
          0.1454458789451599,
          0.13282326031984798,
          0.1386504942842971
         ],
         "yaxis": "y"
        }
       ],
       "layout": {
        "legend": {
         "title": {
          "text": "Cell Types (CTs)"
         },
         "tracegroupgap": 0
        },
        "margin": {
         "t": 60
        },
        "template": {
         "data": {
          "bar": [
           {
            "error_x": {
             "color": "#2a3f5f"
            },
            "error_y": {
             "color": "#2a3f5f"
            },
            "marker": {
             "line": {
              "color": "#E5ECF6",
              "width": 0.5
             },
             "pattern": {
              "fillmode": "overlay",
              "size": 10,
              "solidity": 0.2
             }
            },
            "type": "bar"
           }
          ],
          "barpolar": [
           {
            "marker": {
             "line": {
              "color": "#E5ECF6",
              "width": 0.5
             },
             "pattern": {
              "fillmode": "overlay",
              "size": 10,
              "solidity": 0.2
             }
            },
            "type": "barpolar"
           }
          ],
          "carpet": [
           {
            "aaxis": {
             "endlinecolor": "#2a3f5f",
             "gridcolor": "white",
             "linecolor": "white",
             "minorgridcolor": "white",
             "startlinecolor": "#2a3f5f"
            },
            "baxis": {
             "endlinecolor": "#2a3f5f",
             "gridcolor": "white",
             "linecolor": "white",
             "minorgridcolor": "white",
             "startlinecolor": "#2a3f5f"
            },
            "type": "carpet"
           }
          ],
          "choropleth": [
           {
            "colorbar": {
             "outlinewidth": 0,
             "ticks": ""
            },
            "type": "choropleth"
           }
          ],
          "contour": [
           {
            "colorbar": {
             "outlinewidth": 0,
             "ticks": ""
            },
            "colorscale": [
             [
              0,
              "#0d0887"
             ],
             [
              0.1111111111111111,
              "#46039f"
             ],
             [
              0.2222222222222222,
              "#7201a8"
             ],
             [
              0.3333333333333333,
              "#9c179e"
             ],
             [
              0.4444444444444444,
              "#bd3786"
             ],
             [
              0.5555555555555556,
              "#d8576b"
             ],
             [
              0.6666666666666666,
              "#ed7953"
             ],
             [
              0.7777777777777778,
              "#fb9f3a"
             ],
             [
              0.8888888888888888,
              "#fdca26"
             ],
             [
              1,
              "#f0f921"
             ]
            ],
            "type": "contour"
           }
          ],
          "contourcarpet": [
           {
            "colorbar": {
             "outlinewidth": 0,
             "ticks": ""
            },
            "type": "contourcarpet"
           }
          ],
          "heatmap": [
           {
            "colorbar": {
             "outlinewidth": 0,
             "ticks": ""
            },
            "colorscale": [
             [
              0,
              "#0d0887"
             ],
             [
              0.1111111111111111,
              "#46039f"
             ],
             [
              0.2222222222222222,
              "#7201a8"
             ],
             [
              0.3333333333333333,
              "#9c179e"
             ],
             [
              0.4444444444444444,
              "#bd3786"
             ],
             [
              0.5555555555555556,
              "#d8576b"
             ],
             [
              0.6666666666666666,
              "#ed7953"
             ],
             [
              0.7777777777777778,
              "#fb9f3a"
             ],
             [
              0.8888888888888888,
              "#fdca26"
             ],
             [
              1,
              "#f0f921"
             ]
            ],
            "type": "heatmap"
           }
          ],
          "heatmapgl": [
           {
            "colorbar": {
             "outlinewidth": 0,
             "ticks": ""
            },
            "colorscale": [
             [
              0,
              "#0d0887"
             ],
             [
              0.1111111111111111,
              "#46039f"
             ],
             [
              0.2222222222222222,
              "#7201a8"
             ],
             [
              0.3333333333333333,
              "#9c179e"
             ],
             [
              0.4444444444444444,
              "#bd3786"
             ],
             [
              0.5555555555555556,
              "#d8576b"
             ],
             [
              0.6666666666666666,
              "#ed7953"
             ],
             [
              0.7777777777777778,
              "#fb9f3a"
             ],
             [
              0.8888888888888888,
              "#fdca26"
             ],
             [
              1,
              "#f0f921"
             ]
            ],
            "type": "heatmapgl"
           }
          ],
          "histogram": [
           {
            "marker": {
             "pattern": {
              "fillmode": "overlay",
              "size": 10,
              "solidity": 0.2
             }
            },
            "type": "histogram"
           }
          ],
          "histogram2d": [
           {
            "colorbar": {
             "outlinewidth": 0,
             "ticks": ""
            },
            "colorscale": [
             [
              0,
              "#0d0887"
             ],
             [
              0.1111111111111111,
              "#46039f"
             ],
             [
              0.2222222222222222,
              "#7201a8"
             ],
             [
              0.3333333333333333,
              "#9c179e"
             ],
             [
              0.4444444444444444,
              "#bd3786"
             ],
             [
              0.5555555555555556,
              "#d8576b"
             ],
             [
              0.6666666666666666,
              "#ed7953"
             ],
             [
              0.7777777777777778,
              "#fb9f3a"
             ],
             [
              0.8888888888888888,
              "#fdca26"
             ],
             [
              1,
              "#f0f921"
             ]
            ],
            "type": "histogram2d"
           }
          ],
          "histogram2dcontour": [
           {
            "colorbar": {
             "outlinewidth": 0,
             "ticks": ""
            },
            "colorscale": [
             [
              0,
              "#0d0887"
             ],
             [
              0.1111111111111111,
              "#46039f"
             ],
             [
              0.2222222222222222,
              "#7201a8"
             ],
             [
              0.3333333333333333,
              "#9c179e"
             ],
             [
              0.4444444444444444,
              "#bd3786"
             ],
             [
              0.5555555555555556,
              "#d8576b"
             ],
             [
              0.6666666666666666,
              "#ed7953"
             ],
             [
              0.7777777777777778,
              "#fb9f3a"
             ],
             [
              0.8888888888888888,
              "#fdca26"
             ],
             [
              1,
              "#f0f921"
             ]
            ],
            "type": "histogram2dcontour"
           }
          ],
          "mesh3d": [
           {
            "colorbar": {
             "outlinewidth": 0,
             "ticks": ""
            },
            "type": "mesh3d"
           }
          ],
          "parcoords": [
           {
            "line": {
             "colorbar": {
              "outlinewidth": 0,
              "ticks": ""
             }
            },
            "type": "parcoords"
           }
          ],
          "pie": [
           {
            "automargin": true,
            "type": "pie"
           }
          ],
          "scatter": [
           {
            "fillpattern": {
             "fillmode": "overlay",
             "size": 10,
             "solidity": 0.2
            },
            "type": "scatter"
           }
          ],
          "scatter3d": [
           {
            "line": {
             "colorbar": {
              "outlinewidth": 0,
              "ticks": ""
             }
            },
            "marker": {
             "colorbar": {
              "outlinewidth": 0,
              "ticks": ""
             }
            },
            "type": "scatter3d"
           }
          ],
          "scattercarpet": [
           {
            "marker": {
             "colorbar": {
              "outlinewidth": 0,
              "ticks": ""
             }
            },
            "type": "scattercarpet"
           }
          ],
          "scattergeo": [
           {
            "marker": {
             "colorbar": {
              "outlinewidth": 0,
              "ticks": ""
             }
            },
            "type": "scattergeo"
           }
          ],
          "scattergl": [
           {
            "marker": {
             "colorbar": {
              "outlinewidth": 0,
              "ticks": ""
             }
            },
            "type": "scattergl"
           }
          ],
          "scattermapbox": [
           {
            "marker": {
             "colorbar": {
              "outlinewidth": 0,
              "ticks": ""
             }
            },
            "type": "scattermapbox"
           }
          ],
          "scatterpolar": [
           {
            "marker": {
             "colorbar": {
              "outlinewidth": 0,
              "ticks": ""
             }
            },
            "type": "scatterpolar"
           }
          ],
          "scatterpolargl": [
           {
            "marker": {
             "colorbar": {
              "outlinewidth": 0,
              "ticks": ""
             }
            },
            "type": "scatterpolargl"
           }
          ],
          "scatterternary": [
           {
            "marker": {
             "colorbar": {
              "outlinewidth": 0,
              "ticks": ""
             }
            },
            "type": "scatterternary"
           }
          ],
          "surface": [
           {
            "colorbar": {
             "outlinewidth": 0,
             "ticks": ""
            },
            "colorscale": [
             [
              0,
              "#0d0887"
             ],
             [
              0.1111111111111111,
              "#46039f"
             ],
             [
              0.2222222222222222,
              "#7201a8"
             ],
             [
              0.3333333333333333,
              "#9c179e"
             ],
             [
              0.4444444444444444,
              "#bd3786"
             ],
             [
              0.5555555555555556,
              "#d8576b"
             ],
             [
              0.6666666666666666,
              "#ed7953"
             ],
             [
              0.7777777777777778,
              "#fb9f3a"
             ],
             [
              0.8888888888888888,
              "#fdca26"
             ],
             [
              1,
              "#f0f921"
             ]
            ],
            "type": "surface"
           }
          ],
          "table": [
           {
            "cells": {
             "fill": {
              "color": "#EBF0F8"
             },
             "line": {
              "color": "white"
             }
            },
            "header": {
             "fill": {
              "color": "#C8D4E3"
             },
             "line": {
              "color": "white"
             }
            },
            "type": "table"
           }
          ]
         },
         "layout": {
          "annotationdefaults": {
           "arrowcolor": "#2a3f5f",
           "arrowhead": 0,
           "arrowwidth": 1
          },
          "autotypenumbers": "strict",
          "coloraxis": {
           "colorbar": {
            "outlinewidth": 0,
            "ticks": ""
           }
          },
          "colorscale": {
           "diverging": [
            [
             0,
             "#8e0152"
            ],
            [
             0.1,
             "#c51b7d"
            ],
            [
             0.2,
             "#de77ae"
            ],
            [
             0.3,
             "#f1b6da"
            ],
            [
             0.4,
             "#fde0ef"
            ],
            [
             0.5,
             "#f7f7f7"
            ],
            [
             0.6,
             "#e6f5d0"
            ],
            [
             0.7,
             "#b8e186"
            ],
            [
             0.8,
             "#7fbc41"
            ],
            [
             0.9,
             "#4d9221"
            ],
            [
             1,
             "#276419"
            ]
           ],
           "sequential": [
            [
             0,
             "#0d0887"
            ],
            [
             0.1111111111111111,
             "#46039f"
            ],
            [
             0.2222222222222222,
             "#7201a8"
            ],
            [
             0.3333333333333333,
             "#9c179e"
            ],
            [
             0.4444444444444444,
             "#bd3786"
            ],
            [
             0.5555555555555556,
             "#d8576b"
            ],
            [
             0.6666666666666666,
             "#ed7953"
            ],
            [
             0.7777777777777778,
             "#fb9f3a"
            ],
            [
             0.8888888888888888,
             "#fdca26"
            ],
            [
             1,
             "#f0f921"
            ]
           ],
           "sequentialminus": [
            [
             0,
             "#0d0887"
            ],
            [
             0.1111111111111111,
             "#46039f"
            ],
            [
             0.2222222222222222,
             "#7201a8"
            ],
            [
             0.3333333333333333,
             "#9c179e"
            ],
            [
             0.4444444444444444,
             "#bd3786"
            ],
            [
             0.5555555555555556,
             "#d8576b"
            ],
            [
             0.6666666666666666,
             "#ed7953"
            ],
            [
             0.7777777777777778,
             "#fb9f3a"
            ],
            [
             0.8888888888888888,
             "#fdca26"
            ],
            [
             1,
             "#f0f921"
            ]
           ]
          },
          "colorway": [
           "#636efa",
           "#EF553B",
           "#00cc96",
           "#ab63fa",
           "#FFA15A",
           "#19d3f3",
           "#FF6692",
           "#B6E880",
           "#FF97FF",
           "#FECB52"
          ],
          "font": {
           "color": "#2a3f5f"
          },
          "geo": {
           "bgcolor": "white",
           "lakecolor": "white",
           "landcolor": "#E5ECF6",
           "showlakes": true,
           "showland": true,
           "subunitcolor": "white"
          },
          "hoverlabel": {
           "align": "left"
          },
          "hovermode": "closest",
          "mapbox": {
           "style": "light"
          },
          "paper_bgcolor": "white",
          "plot_bgcolor": "#E5ECF6",
          "polar": {
           "angularaxis": {
            "gridcolor": "white",
            "linecolor": "white",
            "ticks": ""
           },
           "bgcolor": "#E5ECF6",
           "radialaxis": {
            "gridcolor": "white",
            "linecolor": "white",
            "ticks": ""
           }
          },
          "scene": {
           "xaxis": {
            "backgroundcolor": "#E5ECF6",
            "gridcolor": "white",
            "gridwidth": 2,
            "linecolor": "white",
            "showbackground": true,
            "ticks": "",
            "zerolinecolor": "white"
           },
           "yaxis": {
            "backgroundcolor": "#E5ECF6",
            "gridcolor": "white",
            "gridwidth": 2,
            "linecolor": "white",
            "showbackground": true,
            "ticks": "",
            "zerolinecolor": "white"
           },
           "zaxis": {
            "backgroundcolor": "#E5ECF6",
            "gridcolor": "white",
            "gridwidth": 2,
            "linecolor": "white",
            "showbackground": true,
            "ticks": "",
            "zerolinecolor": "white"
           }
          },
          "shapedefaults": {
           "line": {
            "color": "#2a3f5f"
           }
          },
          "ternary": {
           "aaxis": {
            "gridcolor": "white",
            "linecolor": "white",
            "ticks": ""
           },
           "baxis": {
            "gridcolor": "white",
            "linecolor": "white",
            "ticks": ""
           },
           "bgcolor": "#E5ECF6",
           "caxis": {
            "gridcolor": "white",
            "linecolor": "white",
            "ticks": ""
           }
          },
          "title": {
           "x": 0.05
          },
          "xaxis": {
           "automargin": true,
           "gridcolor": "white",
           "linecolor": "white",
           "ticks": "",
           "title": {
            "standoff": 15
           },
           "zerolinecolor": "white",
           "zerolinewidth": 2
          },
          "yaxis": {
           "automargin": true,
           "gridcolor": "white",
           "linecolor": "white",
           "ticks": "",
           "title": {
            "standoff": 15
           },
           "zerolinecolor": "white",
           "zerolinewidth": 2
          }
         }
        },
        "title": {
         "text": "Average Percent Composition of CTs Across Variance Levels"
        },
        "xaxis": {
         "anchor": "y",
         "domain": [
          0,
          1
         ],
         "title": {
          "text": "Variance"
         }
        },
        "yaxis": {
         "anchor": "x",
         "domain": [
          0,
          1
         ],
         "title": {
          "text": "Average Percent Composition"
         }
        }
       }
      },
      "text/html": [
       "<div>                            <div id=\"3727335c-b5f6-4c07-b241-813c831b9fdb\" class=\"plotly-graph-div\" style=\"height:525px; width:100%;\"></div>            <script type=\"text/javascript\">                require([\"plotly\"], function(Plotly) {                    window.PLOTLYENV=window.PLOTLYENV || {};                                    if (document.getElementById(\"3727335c-b5f6-4c07-b241-813c831b9fdb\")) {                    Plotly.newPlot(                        \"3727335c-b5f6-4c07-b241-813c831b9fdb\",                        [{\"hovertemplate\":\"index=Platelets\\u003cbr\\u003evariable=%{x}\\u003cbr\\u003evalue=%{y}\\u003cextra\\u003e\\u003c\\u002fextra\\u003e\",\"legendgroup\":\"Platelets\",\"line\":{\"color\":\"#636efa\",\"dash\":\"solid\"},\"marker\":{\"symbol\":\"circle\"},\"mode\":\"lines\",\"name\":\"Platelets\",\"orientation\":\"v\",\"showlegend\":true,\"x\":[\"0\",\"0.005\",\"0.01\",\"0.015\",\"0.02\",\"0.025\",\"0.03\",\"0.035\",\"0.04\",\"0.045\",\"0.05\",\"0.055\",\"0.06\",\"0.065\",\"0.07\",\"0.075\",\"0.08\",\"0.085\",\"0.09\",\"0.095\",\"0.1\",\"0.3\",\"0.5\",\"0.7\",\"0.9\",\"1\"],\"xaxis\":\"x\",\"y\":[0.05,0.05074,0.05003,0.04815,0.05134,0.04925310456536085,0.049412187740343796,0.05017921146953405,0.0572197041390646,0.049140294044355846,0.047068300250606626,0.05604684748847607,0.056442824023619394,0.05492155471460107,0.0583989177339561,0.058260937317386734,0.06566900544624896,0.06622561591668609,0.07151835215480702,0.06291957735790313,0.06812921890067503,0.10432235770073608,0.11454655866278292,0.13664196464582679,0.13748139069178653,0.13481791650805736],\"yaxis\":\"y\",\"type\":\"scatter\"},{\"hovertemplate\":\"index=Dendritic cells\\u003cbr\\u003evariable=%{x}\\u003cbr\\u003evalue=%{y}\\u003cextra\\u003e\\u003c\\u002fextra\\u003e\",\"legendgroup\":\"Dendritic cells\",\"line\":{\"color\":\"#EF553B\",\"dash\":\"solid\"},\"marker\":{\"symbol\":\"circle\"},\"mode\":\"lines\",\"name\":\"Dendritic cells\",\"orientation\":\"v\",\"showlegend\":true,\"x\":[\"0\",\"0.005\",\"0.01\",\"0.015\",\"0.02\",\"0.025\",\"0.03\",\"0.035\",\"0.04\",\"0.045\",\"0.05\",\"0.055\",\"0.06\",\"0.065\",\"0.07\",\"0.075\",\"0.08\",\"0.085\",\"0.09\",\"0.095\",\"0.1\",\"0.3\",\"0.5\",\"0.7\",\"0.9\",\"1\"],\"xaxis\":\"x\",\"y\":[0.05,0.05059,0.04987,0.04824,0.04944,0.050272961785350054,0.05116014263311925,0.05018919539541338,0.05259749962643821,0.051064041863942186,0.05068817375392816,0.05301996161987853,0.06274397130798344,0.05101900031535793,0.053659066446790235,0.0525341852039425,0.054482115695991366,0.056841144011813165,0.062135222301254005,0.06256932147652312,0.06892960462873673,0.11051019834803619,0.11664625297199378,0.13221352649525991,0.12314487249722214,0.119747147916162],\"yaxis\":\"y\",\"type\":\"scatter\"},{\"hovertemplate\":\"index=Macrophages\\u003cbr\\u003evariable=%{x}\\u003cbr\\u003evalue=%{y}\\u003cextra\\u003e\\u003c\\u002fextra\\u003e\",\"legendgroup\":\"Macrophages\",\"line\":{\"color\":\"#00cc96\",\"dash\":\"solid\"},\"marker\":{\"symbol\":\"circle\"},\"mode\":\"lines\",\"name\":\"Macrophages\",\"orientation\":\"v\",\"showlegend\":true,\"x\":[\"0\",\"0.005\",\"0.01\",\"0.015\",\"0.02\",\"0.025\",\"0.03\",\"0.035\",\"0.04\",\"0.045\",\"0.05\",\"0.055\",\"0.06\",\"0.065\",\"0.07\",\"0.075\",\"0.08\",\"0.085\",\"0.09\",\"0.095\",\"0.1\",\"0.3\",\"0.5\",\"0.7\",\"0.9\",\"1\"],\"xaxis\":\"x\",\"y\":[0.2,0.19968,0.19977,0.20002,0.19972,0.1997820305157278,0.20433093280861392,0.20216451513063968,0.19578622304129104,0.19597308746573636,0.19561239508333664,0.19726195422082418,0.19569223452949452,0.19832071901608325,0.1960915976261245,0.18692781175737272,0.18069770865021342,0.1919347944353773,0.1834825734914402,0.1888754840341694,0.17720347155255545,0.15218857110749004,0.16820198235845074,0.15485274526499335,0.15191076198346595,0.14434312673749294],\"yaxis\":\"y\",\"type\":\"scatter\"},{\"hovertemplate\":\"index=Monocytes\\u003cbr\\u003evariable=%{x}\\u003cbr\\u003evalue=%{y}\\u003cextra\\u003e\\u003c\\u002fextra\\u003e\",\"legendgroup\":\"Monocytes\",\"line\":{\"color\":\"#ab63fa\",\"dash\":\"solid\"},\"marker\":{\"symbol\":\"circle\"},\"mode\":\"lines\",\"name\":\"Monocytes\",\"orientation\":\"v\",\"showlegend\":true,\"x\":[\"0\",\"0.005\",\"0.01\",\"0.015\",\"0.02\",\"0.025\",\"0.03\",\"0.035\",\"0.04\",\"0.045\",\"0.05\",\"0.055\",\"0.06\",\"0.065\",\"0.07\",\"0.075\",\"0.08\",\"0.085\",\"0.09\",\"0.095\",\"0.1\",\"0.3\",\"0.5\",\"0.7\",\"0.9\",\"1\"],\"xaxis\":\"x\",\"y\":[0.05,0.04973,0.05043,0.05031,0.04962,0.04782330473733677,0.047514408142473305,0.049739918730843345,0.04466802809184639,0.047834537752305006,0.05880305501412148,0.049003897362850414,0.0511126082390473,0.056458924629454434,0.057599067829246856,0.058923214772683,0.0519895981551445,0.06124193673739022,0.0594362327172102,0.06031211690762974,0.06140790742526519,0.10826262853289881,0.11826734049013453,0.11866747603469419,0.13256636675116298,0.12862638566863918],\"yaxis\":\"y\",\"type\":\"scatter\"},{\"hovertemplate\":\"index=Nk-cells\\u003cbr\\u003evariable=%{x}\\u003cbr\\u003evalue=%{y}\\u003cextra\\u003e\\u003c\\u002fextra\\u003e\",\"legendgroup\":\"Nk-cells\",\"line\":{\"color\":\"#FFA15A\",\"dash\":\"solid\"},\"marker\":{\"symbol\":\"circle\"},\"mode\":\"lines\",\"name\":\"Nk-cells\",\"orientation\":\"v\",\"showlegend\":true,\"x\":[\"0\",\"0.005\",\"0.01\",\"0.015\",\"0.02\",\"0.025\",\"0.03\",\"0.035\",\"0.04\",\"0.045\",\"0.05\",\"0.055\",\"0.06\",\"0.065\",\"0.07\",\"0.075\",\"0.08\",\"0.085\",\"0.09\",\"0.095\",\"0.1\",\"0.3\",\"0.5\",\"0.7\",\"0.9\",\"1\"],\"xaxis\":\"x\",\"y\":[0.1,0.10004,0.10042,0.10276,0.09962,0.10128581998520207,0.09763576615360028,0.10046824612374078,0.10009463565273696,0.1034338400199352,0.09765702693026772,0.09280471640255604,0.09469554362256524,0.09193669189530117,0.0925752204524583,0.09534847481397796,0.09651145674893283,0.08893875806326261,0.08885229608987538,0.09426747874141386,0.09595949855351976,0.12258386244872731,0.13646983747954342,0.12272518017265613,0.13373012556833833,0.146557889515636],\"yaxis\":\"y\",\"type\":\"scatter\"},{\"hovertemplate\":\"index=T-cells\\u003cbr\\u003evariable=%{x}\\u003cbr\\u003evalue=%{y}\\u003cextra\\u003e\\u003c\\u002fextra\\u003e\",\"legendgroup\":\"T-cells\",\"line\":{\"color\":\"#19d3f3\",\"dash\":\"solid\"},\"marker\":{\"symbol\":\"circle\"},\"mode\":\"lines\",\"name\":\"T-cells\",\"orientation\":\"v\",\"showlegend\":true,\"x\":[\"0\",\"0.005\",\"0.01\",\"0.015\",\"0.02\",\"0.025\",\"0.03\",\"0.035\",\"0.04\",\"0.045\",\"0.05\",\"0.055\",\"0.06\",\"0.065\",\"0.07\",\"0.075\",\"0.08\",\"0.085\",\"0.09\",\"0.095\",\"0.1\",\"0.3\",\"0.5\",\"0.7\",\"0.9\",\"1\"],\"xaxis\":\"x\",\"y\":[0.5,0.49954,0.50011,0.4998,0.50055,0.49972003919451274,0.5009039423874068,0.4988568404868162,0.49648851920107584,0.5004535260403689,0.49635029237439837,0.49768532257107245,0.4890225295737809,0.49377168085777356,0.485350897115603,0.4897249600685652,0.48994651881654483,0.46833955078883965,0.4728103594430533,0.4650619758323442,0.46255544840887175,0.2981893015676799,0.22861451053449572,0.18945322844140977,0.1883432221881761,0.18725703936971544],\"yaxis\":\"y\",\"type\":\"scatter\"},{\"hovertemplate\":\"index=B-cells\\u003cbr\\u003evariable=%{x}\\u003cbr\\u003evalue=%{y}\\u003cextra\\u003e\\u003c\\u002fextra\\u003e\",\"legendgroup\":\"B-cells\",\"line\":{\"color\":\"#FF6692\",\"dash\":\"solid\"},\"marker\":{\"symbol\":\"circle\"},\"mode\":\"lines\",\"name\":\"B-cells\",\"orientation\":\"v\",\"showlegend\":true,\"x\":[\"0\",\"0.005\",\"0.01\",\"0.015\",\"0.02\",\"0.025\",\"0.03\",\"0.035\",\"0.04\",\"0.045\",\"0.05\",\"0.055\",\"0.06\",\"0.065\",\"0.07\",\"0.075\",\"0.08\",\"0.085\",\"0.09\",\"0.095\",\"0.1\",\"0.3\",\"0.5\",\"0.7\",\"0.9\",\"1\"],\"xaxis\":\"x\",\"y\":[0.05,0.04968,0.04937,0.05072,0.04971,0.05186273921650969,0.0490426201344427,0.04840207266301255,0.05314539024754694,0.05210067281335659,0.053820756593341026,0.054177300334342295,0.050290288703509226,0.05357142857142857,0.05632523279582103,0.05828041606607191,0.0607035964869241,0.06647820004663092,0.061764963802359914,0.06599404565001654,0.06581485053037608,0.10394308029443164,0.11725351750259888,0.1454458789451599,0.13282326031984798,0.1386504942842971],\"yaxis\":\"y\",\"type\":\"scatter\"}],                        {\"template\":{\"data\":{\"histogram2dcontour\":[{\"type\":\"histogram2dcontour\",\"colorbar\":{\"outlinewidth\":0,\"ticks\":\"\"},\"colorscale\":[[0.0,\"#0d0887\"],[0.1111111111111111,\"#46039f\"],[0.2222222222222222,\"#7201a8\"],[0.3333333333333333,\"#9c179e\"],[0.4444444444444444,\"#bd3786\"],[0.5555555555555556,\"#d8576b\"],[0.6666666666666666,\"#ed7953\"],[0.7777777777777778,\"#fb9f3a\"],[0.8888888888888888,\"#fdca26\"],[1.0,\"#f0f921\"]]}],\"choropleth\":[{\"type\":\"choropleth\",\"colorbar\":{\"outlinewidth\":0,\"ticks\":\"\"}}],\"histogram2d\":[{\"type\":\"histogram2d\",\"colorbar\":{\"outlinewidth\":0,\"ticks\":\"\"},\"colorscale\":[[0.0,\"#0d0887\"],[0.1111111111111111,\"#46039f\"],[0.2222222222222222,\"#7201a8\"],[0.3333333333333333,\"#9c179e\"],[0.4444444444444444,\"#bd3786\"],[0.5555555555555556,\"#d8576b\"],[0.6666666666666666,\"#ed7953\"],[0.7777777777777778,\"#fb9f3a\"],[0.8888888888888888,\"#fdca26\"],[1.0,\"#f0f921\"]]}],\"heatmap\":[{\"type\":\"heatmap\",\"colorbar\":{\"outlinewidth\":0,\"ticks\":\"\"},\"colorscale\":[[0.0,\"#0d0887\"],[0.1111111111111111,\"#46039f\"],[0.2222222222222222,\"#7201a8\"],[0.3333333333333333,\"#9c179e\"],[0.4444444444444444,\"#bd3786\"],[0.5555555555555556,\"#d8576b\"],[0.6666666666666666,\"#ed7953\"],[0.7777777777777778,\"#fb9f3a\"],[0.8888888888888888,\"#fdca26\"],[1.0,\"#f0f921\"]]}],\"heatmapgl\":[{\"type\":\"heatmapgl\",\"colorbar\":{\"outlinewidth\":0,\"ticks\":\"\"},\"colorscale\":[[0.0,\"#0d0887\"],[0.1111111111111111,\"#46039f\"],[0.2222222222222222,\"#7201a8\"],[0.3333333333333333,\"#9c179e\"],[0.4444444444444444,\"#bd3786\"],[0.5555555555555556,\"#d8576b\"],[0.6666666666666666,\"#ed7953\"],[0.7777777777777778,\"#fb9f3a\"],[0.8888888888888888,\"#fdca26\"],[1.0,\"#f0f921\"]]}],\"contourcarpet\":[{\"type\":\"contourcarpet\",\"colorbar\":{\"outlinewidth\":0,\"ticks\":\"\"}}],\"contour\":[{\"type\":\"contour\",\"colorbar\":{\"outlinewidth\":0,\"ticks\":\"\"},\"colorscale\":[[0.0,\"#0d0887\"],[0.1111111111111111,\"#46039f\"],[0.2222222222222222,\"#7201a8\"],[0.3333333333333333,\"#9c179e\"],[0.4444444444444444,\"#bd3786\"],[0.5555555555555556,\"#d8576b\"],[0.6666666666666666,\"#ed7953\"],[0.7777777777777778,\"#fb9f3a\"],[0.8888888888888888,\"#fdca26\"],[1.0,\"#f0f921\"]]}],\"surface\":[{\"type\":\"surface\",\"colorbar\":{\"outlinewidth\":0,\"ticks\":\"\"},\"colorscale\":[[0.0,\"#0d0887\"],[0.1111111111111111,\"#46039f\"],[0.2222222222222222,\"#7201a8\"],[0.3333333333333333,\"#9c179e\"],[0.4444444444444444,\"#bd3786\"],[0.5555555555555556,\"#d8576b\"],[0.6666666666666666,\"#ed7953\"],[0.7777777777777778,\"#fb9f3a\"],[0.8888888888888888,\"#fdca26\"],[1.0,\"#f0f921\"]]}],\"mesh3d\":[{\"type\":\"mesh3d\",\"colorbar\":{\"outlinewidth\":0,\"ticks\":\"\"}}],\"scatter\":[{\"fillpattern\":{\"fillmode\":\"overlay\",\"size\":10,\"solidity\":0.2},\"type\":\"scatter\"}],\"parcoords\":[{\"type\":\"parcoords\",\"line\":{\"colorbar\":{\"outlinewidth\":0,\"ticks\":\"\"}}}],\"scatterpolargl\":[{\"type\":\"scatterpolargl\",\"marker\":{\"colorbar\":{\"outlinewidth\":0,\"ticks\":\"\"}}}],\"bar\":[{\"error_x\":{\"color\":\"#2a3f5f\"},\"error_y\":{\"color\":\"#2a3f5f\"},\"marker\":{\"line\":{\"color\":\"#E5ECF6\",\"width\":0.5},\"pattern\":{\"fillmode\":\"overlay\",\"size\":10,\"solidity\":0.2}},\"type\":\"bar\"}],\"scattergeo\":[{\"type\":\"scattergeo\",\"marker\":{\"colorbar\":{\"outlinewidth\":0,\"ticks\":\"\"}}}],\"scatterpolar\":[{\"type\":\"scatterpolar\",\"marker\":{\"colorbar\":{\"outlinewidth\":0,\"ticks\":\"\"}}}],\"histogram\":[{\"marker\":{\"pattern\":{\"fillmode\":\"overlay\",\"size\":10,\"solidity\":0.2}},\"type\":\"histogram\"}],\"scattergl\":[{\"type\":\"scattergl\",\"marker\":{\"colorbar\":{\"outlinewidth\":0,\"ticks\":\"\"}}}],\"scatter3d\":[{\"type\":\"scatter3d\",\"line\":{\"colorbar\":{\"outlinewidth\":0,\"ticks\":\"\"}},\"marker\":{\"colorbar\":{\"outlinewidth\":0,\"ticks\":\"\"}}}],\"scattermapbox\":[{\"type\":\"scattermapbox\",\"marker\":{\"colorbar\":{\"outlinewidth\":0,\"ticks\":\"\"}}}],\"scatterternary\":[{\"type\":\"scatterternary\",\"marker\":{\"colorbar\":{\"outlinewidth\":0,\"ticks\":\"\"}}}],\"scattercarpet\":[{\"type\":\"scattercarpet\",\"marker\":{\"colorbar\":{\"outlinewidth\":0,\"ticks\":\"\"}}}],\"carpet\":[{\"aaxis\":{\"endlinecolor\":\"#2a3f5f\",\"gridcolor\":\"white\",\"linecolor\":\"white\",\"minorgridcolor\":\"white\",\"startlinecolor\":\"#2a3f5f\"},\"baxis\":{\"endlinecolor\":\"#2a3f5f\",\"gridcolor\":\"white\",\"linecolor\":\"white\",\"minorgridcolor\":\"white\",\"startlinecolor\":\"#2a3f5f\"},\"type\":\"carpet\"}],\"table\":[{\"cells\":{\"fill\":{\"color\":\"#EBF0F8\"},\"line\":{\"color\":\"white\"}},\"header\":{\"fill\":{\"color\":\"#C8D4E3\"},\"line\":{\"color\":\"white\"}},\"type\":\"table\"}],\"barpolar\":[{\"marker\":{\"line\":{\"color\":\"#E5ECF6\",\"width\":0.5},\"pattern\":{\"fillmode\":\"overlay\",\"size\":10,\"solidity\":0.2}},\"type\":\"barpolar\"}],\"pie\":[{\"automargin\":true,\"type\":\"pie\"}]},\"layout\":{\"autotypenumbers\":\"strict\",\"colorway\":[\"#636efa\",\"#EF553B\",\"#00cc96\",\"#ab63fa\",\"#FFA15A\",\"#19d3f3\",\"#FF6692\",\"#B6E880\",\"#FF97FF\",\"#FECB52\"],\"font\":{\"color\":\"#2a3f5f\"},\"hovermode\":\"closest\",\"hoverlabel\":{\"align\":\"left\"},\"paper_bgcolor\":\"white\",\"plot_bgcolor\":\"#E5ECF6\",\"polar\":{\"bgcolor\":\"#E5ECF6\",\"angularaxis\":{\"gridcolor\":\"white\",\"linecolor\":\"white\",\"ticks\":\"\"},\"radialaxis\":{\"gridcolor\":\"white\",\"linecolor\":\"white\",\"ticks\":\"\"}},\"ternary\":{\"bgcolor\":\"#E5ECF6\",\"aaxis\":{\"gridcolor\":\"white\",\"linecolor\":\"white\",\"ticks\":\"\"},\"baxis\":{\"gridcolor\":\"white\",\"linecolor\":\"white\",\"ticks\":\"\"},\"caxis\":{\"gridcolor\":\"white\",\"linecolor\":\"white\",\"ticks\":\"\"}},\"coloraxis\":{\"colorbar\":{\"outlinewidth\":0,\"ticks\":\"\"}},\"colorscale\":{\"sequential\":[[0.0,\"#0d0887\"],[0.1111111111111111,\"#46039f\"],[0.2222222222222222,\"#7201a8\"],[0.3333333333333333,\"#9c179e\"],[0.4444444444444444,\"#bd3786\"],[0.5555555555555556,\"#d8576b\"],[0.6666666666666666,\"#ed7953\"],[0.7777777777777778,\"#fb9f3a\"],[0.8888888888888888,\"#fdca26\"],[1.0,\"#f0f921\"]],\"sequentialminus\":[[0.0,\"#0d0887\"],[0.1111111111111111,\"#46039f\"],[0.2222222222222222,\"#7201a8\"],[0.3333333333333333,\"#9c179e\"],[0.4444444444444444,\"#bd3786\"],[0.5555555555555556,\"#d8576b\"],[0.6666666666666666,\"#ed7953\"],[0.7777777777777778,\"#fb9f3a\"],[0.8888888888888888,\"#fdca26\"],[1.0,\"#f0f921\"]],\"diverging\":[[0,\"#8e0152\"],[0.1,\"#c51b7d\"],[0.2,\"#de77ae\"],[0.3,\"#f1b6da\"],[0.4,\"#fde0ef\"],[0.5,\"#f7f7f7\"],[0.6,\"#e6f5d0\"],[0.7,\"#b8e186\"],[0.8,\"#7fbc41\"],[0.9,\"#4d9221\"],[1,\"#276419\"]]},\"xaxis\":{\"gridcolor\":\"white\",\"linecolor\":\"white\",\"ticks\":\"\",\"title\":{\"standoff\":15},\"zerolinecolor\":\"white\",\"automargin\":true,\"zerolinewidth\":2},\"yaxis\":{\"gridcolor\":\"white\",\"linecolor\":\"white\",\"ticks\":\"\",\"title\":{\"standoff\":15},\"zerolinecolor\":\"white\",\"automargin\":true,\"zerolinewidth\":2},\"scene\":{\"xaxis\":{\"backgroundcolor\":\"#E5ECF6\",\"gridcolor\":\"white\",\"linecolor\":\"white\",\"showbackground\":true,\"ticks\":\"\",\"zerolinecolor\":\"white\",\"gridwidth\":2},\"yaxis\":{\"backgroundcolor\":\"#E5ECF6\",\"gridcolor\":\"white\",\"linecolor\":\"white\",\"showbackground\":true,\"ticks\":\"\",\"zerolinecolor\":\"white\",\"gridwidth\":2},\"zaxis\":{\"backgroundcolor\":\"#E5ECF6\",\"gridcolor\":\"white\",\"linecolor\":\"white\",\"showbackground\":true,\"ticks\":\"\",\"zerolinecolor\":\"white\",\"gridwidth\":2}},\"shapedefaults\":{\"line\":{\"color\":\"#2a3f5f\"}},\"annotationdefaults\":{\"arrowcolor\":\"#2a3f5f\",\"arrowhead\":0,\"arrowwidth\":1},\"geo\":{\"bgcolor\":\"white\",\"landcolor\":\"#E5ECF6\",\"subunitcolor\":\"white\",\"showland\":true,\"showlakes\":true,\"lakecolor\":\"white\"},\"title\":{\"x\":0.05},\"mapbox\":{\"style\":\"light\"}}},\"xaxis\":{\"anchor\":\"y\",\"domain\":[0.0,1.0],\"title\":{\"text\":\"Variance\"}},\"yaxis\":{\"anchor\":\"x\",\"domain\":[0.0,1.0],\"title\":{\"text\":\"Average Percent Composition\"}},\"legend\":{\"title\":{\"text\":\"Cell Types (CTs)\"},\"tracegroupgap\":0},\"margin\":{\"t\":60},\"title\":{\"text\":\"Average Percent Composition of CTs Across Variance Levels\"}},                        {\"responsive\": true}                    ).then(function(){\n",
       "                            \n",
       "var gd = document.getElementById('3727335c-b5f6-4c07-b241-813c831b9fdb');\n",
       "var x = new MutationObserver(function (mutations, observer) {{\n",
       "        var display = window.getComputedStyle(gd).display;\n",
       "        if (!display || display === 'none') {{\n",
       "            console.log([gd, 'removed!']);\n",
       "            Plotly.purge(gd);\n",
       "            observer.disconnect();\n",
       "        }}\n",
       "}});\n",
       "\n",
       "// Listen for the removal of the full notebook cells\n",
       "var notebookContainer = gd.closest('#notebook-container');\n",
       "if (notebookContainer) {{\n",
       "    x.observe(notebookContainer, {childList: true});\n",
       "}}\n",
       "\n",
       "// Listen for the clearing of the current output cell\n",
       "var outputEl = gd.closest('.output');\n",
       "if (outputEl) {{\n",
       "    x.observe(outputEl, {childList: true});\n",
       "}}\n",
       "\n",
       "                        })                };                });            </script>        </div>"
      ]
     },
     "metadata": {},
     "output_type": "display_data"
    }
   ],
   "source": [
    "fig = px.line(melted, x = 'variable', y = 'value', color = 'index')\n",
    "\n",
    "fig.update_layout(title = \"Average Percent Composition of CTs Across Variance Levels\")\n",
    "\n",
    "# Update x-axis and y-axis labels\n",
    "fig.update_xaxes(title_text='Variance')\n",
    "fig.update_yaxes(title_text='Average Percent Composition')\n",
    "fig.update_layout(legend_title_text='Cell Types (CTs)')"
   ]
  },
  {
   "cell_type": "code",
   "execution_count": 41,
   "metadata": {},
   "outputs": [
    {
     "data": {
      "text/html": [
       "<div>\n",
       "<style scoped>\n",
       "    .dataframe tbody tr th:only-of-type {\n",
       "        vertical-align: middle;\n",
       "    }\n",
       "\n",
       "    .dataframe tbody tr th {\n",
       "        vertical-align: top;\n",
       "    }\n",
       "\n",
       "    .dataframe thead th {\n",
       "        text-align: right;\n",
       "    }\n",
       "</style>\n",
       "<table border=\"1\" class=\"dataframe\">\n",
       "  <thead>\n",
       "    <tr style=\"text-align: right;\">\n",
       "      <th></th>\n",
       "      <th>0.055</th>\n",
       "      <th>0.1</th>\n",
       "      <th>0.025</th>\n",
       "      <th>0.07</th>\n",
       "      <th>0.045</th>\n",
       "      <th>0.09</th>\n",
       "      <th>0.03</th>\n",
       "      <th>1</th>\n",
       "      <th>0.5</th>\n",
       "      <th>0.04</th>\n",
       "      <th>...</th>\n",
       "      <th>0.075</th>\n",
       "      <th>0.05</th>\n",
       "      <th>0.095</th>\n",
       "      <th>0.015</th>\n",
       "      <th>0.3</th>\n",
       "      <th>0.9</th>\n",
       "      <th>0.065</th>\n",
       "      <th>0</th>\n",
       "      <th>0.02</th>\n",
       "      <th>0.08</th>\n",
       "    </tr>\n",
       "  </thead>\n",
       "  <tbody>\n",
       "    <tr>\n",
       "      <th>B-cells</th>\n",
       "      <td>0.054177</td>\n",
       "      <td>0.065815</td>\n",
       "      <td>0.051863</td>\n",
       "      <td>0.056325</td>\n",
       "      <td>0.052101</td>\n",
       "      <td>0.061765</td>\n",
       "      <td>0.049043</td>\n",
       "      <td>0.138650</td>\n",
       "      <td>0.117254</td>\n",
       "      <td>0.053145</td>\n",
       "      <td>...</td>\n",
       "      <td>0.058280</td>\n",
       "      <td>0.053821</td>\n",
       "      <td>0.065994</td>\n",
       "      <td>0.05072</td>\n",
       "      <td>0.103943</td>\n",
       "      <td>0.132823</td>\n",
       "      <td>0.053571</td>\n",
       "      <td>0.05</td>\n",
       "      <td>0.04971</td>\n",
       "      <td>0.060704</td>\n",
       "    </tr>\n",
       "    <tr>\n",
       "      <th>Dendritic cells</th>\n",
       "      <td>0.053020</td>\n",
       "      <td>0.068930</td>\n",
       "      <td>0.050273</td>\n",
       "      <td>0.053659</td>\n",
       "      <td>0.051064</td>\n",
       "      <td>0.062135</td>\n",
       "      <td>0.051160</td>\n",
       "      <td>0.119747</td>\n",
       "      <td>0.116646</td>\n",
       "      <td>0.052597</td>\n",
       "      <td>...</td>\n",
       "      <td>0.052534</td>\n",
       "      <td>0.050688</td>\n",
       "      <td>0.062569</td>\n",
       "      <td>0.04824</td>\n",
       "      <td>0.110510</td>\n",
       "      <td>0.123145</td>\n",
       "      <td>0.051019</td>\n",
       "      <td>0.05</td>\n",
       "      <td>0.04944</td>\n",
       "      <td>0.054482</td>\n",
       "    </tr>\n",
       "    <tr>\n",
       "      <th>Macrophages</th>\n",
       "      <td>0.197262</td>\n",
       "      <td>0.177203</td>\n",
       "      <td>0.199782</td>\n",
       "      <td>0.196092</td>\n",
       "      <td>0.195973</td>\n",
       "      <td>0.183483</td>\n",
       "      <td>0.204331</td>\n",
       "      <td>0.144343</td>\n",
       "      <td>0.168202</td>\n",
       "      <td>0.195786</td>\n",
       "      <td>...</td>\n",
       "      <td>0.186928</td>\n",
       "      <td>0.195612</td>\n",
       "      <td>0.188875</td>\n",
       "      <td>0.20002</td>\n",
       "      <td>0.152189</td>\n",
       "      <td>0.151911</td>\n",
       "      <td>0.198321</td>\n",
       "      <td>0.20</td>\n",
       "      <td>0.19972</td>\n",
       "      <td>0.180698</td>\n",
       "    </tr>\n",
       "    <tr>\n",
       "      <th>Monocytes</th>\n",
       "      <td>0.049004</td>\n",
       "      <td>0.061408</td>\n",
       "      <td>0.047823</td>\n",
       "      <td>0.057599</td>\n",
       "      <td>0.047835</td>\n",
       "      <td>0.059436</td>\n",
       "      <td>0.047514</td>\n",
       "      <td>0.128626</td>\n",
       "      <td>0.118267</td>\n",
       "      <td>0.044668</td>\n",
       "      <td>...</td>\n",
       "      <td>0.058923</td>\n",
       "      <td>0.058803</td>\n",
       "      <td>0.060312</td>\n",
       "      <td>0.05031</td>\n",
       "      <td>0.108263</td>\n",
       "      <td>0.132566</td>\n",
       "      <td>0.056459</td>\n",
       "      <td>0.05</td>\n",
       "      <td>0.04962</td>\n",
       "      <td>0.051990</td>\n",
       "    </tr>\n",
       "    <tr>\n",
       "      <th>Nk-cells</th>\n",
       "      <td>0.092805</td>\n",
       "      <td>0.095959</td>\n",
       "      <td>0.101286</td>\n",
       "      <td>0.092575</td>\n",
       "      <td>0.103434</td>\n",
       "      <td>0.088852</td>\n",
       "      <td>0.097636</td>\n",
       "      <td>0.146558</td>\n",
       "      <td>0.136470</td>\n",
       "      <td>0.100095</td>\n",
       "      <td>...</td>\n",
       "      <td>0.095348</td>\n",
       "      <td>0.097657</td>\n",
       "      <td>0.094267</td>\n",
       "      <td>0.10276</td>\n",
       "      <td>0.122584</td>\n",
       "      <td>0.133730</td>\n",
       "      <td>0.091937</td>\n",
       "      <td>0.10</td>\n",
       "      <td>0.09962</td>\n",
       "      <td>0.096511</td>\n",
       "    </tr>\n",
       "    <tr>\n",
       "      <th>Platelets</th>\n",
       "      <td>0.056047</td>\n",
       "      <td>0.068129</td>\n",
       "      <td>0.049253</td>\n",
       "      <td>0.058399</td>\n",
       "      <td>0.049140</td>\n",
       "      <td>0.071518</td>\n",
       "      <td>0.049412</td>\n",
       "      <td>0.134818</td>\n",
       "      <td>0.114547</td>\n",
       "      <td>0.057220</td>\n",
       "      <td>...</td>\n",
       "      <td>0.058261</td>\n",
       "      <td>0.047068</td>\n",
       "      <td>0.062920</td>\n",
       "      <td>0.04815</td>\n",
       "      <td>0.104322</td>\n",
       "      <td>0.137481</td>\n",
       "      <td>0.054922</td>\n",
       "      <td>0.05</td>\n",
       "      <td>0.05134</td>\n",
       "      <td>0.065669</td>\n",
       "    </tr>\n",
       "    <tr>\n",
       "      <th>T-cells</th>\n",
       "      <td>0.497685</td>\n",
       "      <td>0.462555</td>\n",
       "      <td>0.499720</td>\n",
       "      <td>0.485351</td>\n",
       "      <td>0.500454</td>\n",
       "      <td>0.472810</td>\n",
       "      <td>0.500904</td>\n",
       "      <td>0.187257</td>\n",
       "      <td>0.228615</td>\n",
       "      <td>0.496489</td>\n",
       "      <td>...</td>\n",
       "      <td>0.489725</td>\n",
       "      <td>0.496350</td>\n",
       "      <td>0.465062</td>\n",
       "      <td>0.49980</td>\n",
       "      <td>0.298189</td>\n",
       "      <td>0.188343</td>\n",
       "      <td>0.493772</td>\n",
       "      <td>0.50</td>\n",
       "      <td>0.50055</td>\n",
       "      <td>0.489947</td>\n",
       "    </tr>\n",
       "  </tbody>\n",
       "</table>\n",
       "<p>7 rows × 26 columns</p>\n",
       "</div>"
      ],
      "text/plain": [
       "                    0.055       0.1     0.025      0.07     0.045      0.09  \\\n",
       "B-cells          0.054177  0.065815  0.051863  0.056325  0.052101  0.061765   \n",
       "Dendritic cells  0.053020  0.068930  0.050273  0.053659  0.051064  0.062135   \n",
       "Macrophages      0.197262  0.177203  0.199782  0.196092  0.195973  0.183483   \n",
       "Monocytes        0.049004  0.061408  0.047823  0.057599  0.047835  0.059436   \n",
       "Nk-cells         0.092805  0.095959  0.101286  0.092575  0.103434  0.088852   \n",
       "Platelets        0.056047  0.068129  0.049253  0.058399  0.049140  0.071518   \n",
       "T-cells          0.497685  0.462555  0.499720  0.485351  0.500454  0.472810   \n",
       "\n",
       "                     0.03         1       0.5      0.04  ...     0.075  \\\n",
       "B-cells          0.049043  0.138650  0.117254  0.053145  ...  0.058280   \n",
       "Dendritic cells  0.051160  0.119747  0.116646  0.052597  ...  0.052534   \n",
       "Macrophages      0.204331  0.144343  0.168202  0.195786  ...  0.186928   \n",
       "Monocytes        0.047514  0.128626  0.118267  0.044668  ...  0.058923   \n",
       "Nk-cells         0.097636  0.146558  0.136470  0.100095  ...  0.095348   \n",
       "Platelets        0.049412  0.134818  0.114547  0.057220  ...  0.058261   \n",
       "T-cells          0.500904  0.187257  0.228615  0.496489  ...  0.489725   \n",
       "\n",
       "                     0.05     0.095    0.015       0.3       0.9     0.065  \\\n",
       "B-cells          0.053821  0.065994  0.05072  0.103943  0.132823  0.053571   \n",
       "Dendritic cells  0.050688  0.062569  0.04824  0.110510  0.123145  0.051019   \n",
       "Macrophages      0.195612  0.188875  0.20002  0.152189  0.151911  0.198321   \n",
       "Monocytes        0.058803  0.060312  0.05031  0.108263  0.132566  0.056459   \n",
       "Nk-cells         0.097657  0.094267  0.10276  0.122584  0.133730  0.091937   \n",
       "Platelets        0.047068  0.062920  0.04815  0.104322  0.137481  0.054922   \n",
       "T-cells          0.496350  0.465062  0.49980  0.298189  0.188343  0.493772   \n",
       "\n",
       "                    0     0.02      0.08  \n",
       "B-cells          0.05  0.04971  0.060704  \n",
       "Dendritic cells  0.05  0.04944  0.054482  \n",
       "Macrophages      0.20  0.19972  0.180698  \n",
       "Monocytes        0.05  0.04962  0.051990  \n",
       "Nk-cells         0.10  0.09962  0.096511  \n",
       "Platelets        0.05  0.05134  0.065669  \n",
       "T-cells          0.50  0.50055  0.489947  \n",
       "\n",
       "[7 rows x 26 columns]"
      ]
     },
     "execution_count": 41,
     "metadata": {},
     "output_type": "execute_result"
    }
   ],
   "source": [
    "merged_df"
   ]
  }
 ],
 "metadata": {
  "kernelspec": {
   "display_name": "PseudoPipelineEnv",
   "language": "python",
   "name": "python3"
  },
  "language_info": {
   "codemirror_mode": {
    "name": "ipython",
    "version": 3
   },
   "file_extension": ".py",
   "mimetype": "text/x-python",
   "name": "python",
   "nbconvert_exporter": "python",
   "pygments_lexer": "ipython3",
   "version": "3.9.13"
  },
  "orig_nbformat": 4
 },
 "nbformat": 4,
 "nbformat_minor": 2
}
