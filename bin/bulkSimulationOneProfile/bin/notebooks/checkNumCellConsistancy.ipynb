{
 "cells": [
  {
   "cell_type": "code",
   "execution_count": 1,
   "metadata": {},
   "outputs": [],
   "source": [
    "# This script is for making sure that the average number of cells sampled across a variance level converges to the expected baseline proportion"
   ]
  },
  {
   "cell_type": "code",
   "execution_count": 1,
   "metadata": {},
   "outputs": [],
   "source": [
    "import os\n",
    "import pandas as pd\n",
    "from functools import reduce\n",
    "import re\n",
    "import json\n",
    "import plotly.express as px"
   ]
  },
  {
   "cell_type": "code",
   "execution_count": 14,
   "metadata": {},
   "outputs": [],
   "source": [
    "path = \"/space/grp/aadrian/Pseudobulk_Function_Pipeline_HighRes/bin/bulkSimulationOneProfile/data/testrun/simulations/0/brain_sc_with_metadata_cpm_pc_cell_type_profiles.csv\"\n",
    "proportions_json_path= \"/space/grp/aadrian/Pseudobulk_Function_Pipeline_HighRes/bin/bulkSimulationOneProfile/cell_type_proportions.json\""
   ]
  },
  {
   "cell_type": "code",
   "execution_count": 15,
   "metadata": {},
   "outputs": [
    {
     "name": "stdout",
     "output_type": "stream",
     "text": [
      "{'pbmc_sc_with_metadata_cpm_pc_cell_type_profiles.csv': {'B-cells': 0.05, 'Dendritic cells': 0.05, 'Macrophages': 0.2, 'Monocytes': 0.05, 'Nk-cells': 0.1, 'Platelets': 0.05, 'T-cells': 0.5}, 'brain_sc_with_metadata_cpm_pc_cell_type_profiles.csv': {'Astrocytes': 0.05, 'Excitatory neurons': 0.5, 'Inhibitory neurons': 0.3, 'Microglial cells': 0.05, 'Oligodendrocyte precursor cells': 0.05, 'Oligodendrocytes': 0.05}}\n"
     ]
    }
   ],
   "source": [
    "def getBaselineProportion(CTProfile_name:str, proportions_json_path:json) -> dict:\n",
    "    \"\"\"Get the list of proper cell type baseline proportions depending on if we are using brain or pbmc\n",
    "\n",
    "    Args:\n",
    "        CTProfile_name (str): name of the dataframe of cell type profiles\n",
    "        proportions_json (json): json that contains baseline cell type profiles for brian or pbmc\n",
    "\n",
    "    Returns:\n",
    "        dict: A dict where keys are cell types, and values are their expected baseline proportions\n",
    "    \"\"\"\n",
    "    \n",
    "    # open json file\n",
    "    with open(proportions_json_path, 'r') as json_file:\n",
    "        dict_propostions_json = json.load(json_file)\n",
    "    \n",
    "        print(dict_propostions_json)\n",
    "    \n",
    "    # Get the correct key\n",
    "    for key in dict_propostions_json.keys():\n",
    "        if key == CTProfile_name:\n",
    "            correct_key = key\n",
    "    # If no key was found,raise error\n",
    "    if not correct_key:\n",
    "        raise ValueError(\"Key not found\")\n",
    "    \n",
    "    # Return the proportions of cell types based on our key (which is a tissue type)\n",
    "    return dict_propostions_json[correct_key]\n",
    "baseline_proportion = getBaselineProportion(CTProfile_name=\"brain_sc_with_metadata_cpm_pc_cell_type_profiles.csv\", proportions_json_path=proportions_json_path)\n",
    "\n",
    "    "
   ]
  },
  {
   "cell_type": "code",
   "execution_count": 16,
   "metadata": {},
   "outputs": [
    {
     "ename": "FileNotFoundError",
     "evalue": "[Errno 2] No such file or directory: '/space/grp/aadrian/Pseudobulk_Function_Pipeline_HighRes/bin/bulkSimulationOneProfile/data/testrun/simulations/0/brain_sc_with_metadata_cpm_pc_cell_type_profiles.csv'",
     "output_type": "error",
     "traceback": [
      "\u001b[0;31m---------------------------------------------------------------------------\u001b[0m",
      "\u001b[0;31mFileNotFoundError\u001b[0m                         Traceback (most recent call last)",
      "\u001b[1;32m/space/grp/aadrian/Pseudobulk_Function_Pipeline_HighRes/bin/bulkSimulationOneProfile/bin/notebooks/checkNumCellConsistancy.ipynb Cell 5\u001b[0m line \u001b[0;36m<cell line: 4>\u001b[0;34m()\u001b[0m\n\u001b[1;32m      <a href='vscode-notebook-cell://ssh-remote%2Bbart.msl.ubc.ca/space/grp/aadrian/Pseudobulk_Function_Pipeline_HighRes/bin/bulkSimulationOneProfile/bin/notebooks/checkNumCellConsistancy.ipynb#W4sdnNjb2RlLXJlbW90ZQ%3D%3D?line=0'>1</a>\u001b[0m \u001b[39m#### Get all the simulation files that contain how many cells were subasampled for each simulation\u001b[39;00m\n\u001b[1;32m      <a href='vscode-notebook-cell://ssh-remote%2Bbart.msl.ubc.ca/space/grp/aadrian/Pseudobulk_Function_Pipeline_HighRes/bin/bulkSimulationOneProfile/bin/notebooks/checkNumCellConsistancy.ipynb#W4sdnNjb2RlLXJlbW90ZQ%3D%3D?line=1'>2</a>\u001b[0m \n\u001b[1;32m      <a href='vscode-notebook-cell://ssh-remote%2Bbart.msl.ubc.ca/space/grp/aadrian/Pseudobulk_Function_Pipeline_HighRes/bin/bulkSimulationOneProfile/bin/notebooks/checkNumCellConsistancy.ipynb#W4sdnNjb2RlLXJlbW90ZQ%3D%3D?line=2'>3</a>\u001b[0m \u001b[39m# Get a list of all files in the directory\u001b[39;00m\n\u001b[0;32m----> <a href='vscode-notebook-cell://ssh-remote%2Bbart.msl.ubc.ca/space/grp/aadrian/Pseudobulk_Function_Pipeline_HighRes/bin/bulkSimulationOneProfile/bin/notebooks/checkNumCellConsistancy.ipynb#W4sdnNjb2RlLXJlbW90ZQ%3D%3D?line=3'>4</a>\u001b[0m all_files \u001b[39m=\u001b[39m os\u001b[39m.\u001b[39;49mlistdir(path)\n\u001b[1;32m      <a href='vscode-notebook-cell://ssh-remote%2Bbart.msl.ubc.ca/space/grp/aadrian/Pseudobulk_Function_Pipeline_HighRes/bin/bulkSimulationOneProfile/bin/notebooks/checkNumCellConsistancy.ipynb#W4sdnNjb2RlLXJlbW90ZQ%3D%3D?line=5'>6</a>\u001b[0m pattern \u001b[39m=\u001b[39m \u001b[39m\"\u001b[39m\u001b[39m.*n_sim.*\u001b[39m\u001b[39m\"\u001b[39m\n\u001b[1;32m      <a href='vscode-notebook-cell://ssh-remote%2Bbart.msl.ubc.ca/space/grp/aadrian/Pseudobulk_Function_Pipeline_HighRes/bin/bulkSimulationOneProfile/bin/notebooks/checkNumCellConsistancy.ipynb#W4sdnNjb2RlLXJlbW90ZQ%3D%3D?line=7'>8</a>\u001b[0m \u001b[39m# Initialize a list to store matching file names\u001b[39;00m\n",
      "\u001b[0;31mFileNotFoundError\u001b[0m: [Errno 2] No such file or directory: '/space/grp/aadrian/Pseudobulk_Function_Pipeline_HighRes/bin/bulkSimulationOneProfile/data/testrun/simulations/0/brain_sc_with_metadata_cpm_pc_cell_type_profiles.csv'"
     ]
    }
   ],
   "source": [
    "#### Get all the simulation files that contain how many cells were subasampled for each simulation\n",
    "\n",
    "# Get a list of all files in the directory\n",
    "all_files = os.listdir(path)\n",
    "\n",
    "pattern = \".*n_sim.*\"\n",
    "\n",
    "# Initialize a list to store matching file names\n",
    "matching_files = []\n",
    "\n",
    "# Loop through the files and check if they match the pattern\n",
    "for file_name in all_files:\n",
    "    if re.match(pattern, file_name):\n",
    "        matching_files.append(file_name)\n",
    "        \n",
    "        \n",
    "        \n",
    "matching_files\n",
    "\n",
    "\n"
   ]
  },
  {
   "cell_type": "code",
   "execution_count": 25,
   "metadata": {},
   "outputs": [],
   "source": [
    "def getMatchingFiles(path):\n",
    "    \n",
    "    lofiles = os.listdir(path)\n",
    "\n",
    "\n",
    "    pattern = \".*n_sim.*_profiles.csv\"\n",
    "\n",
    "    # Initialize a list to store matching file names\n",
    "    matching_files = []\n",
    "\n",
    "    # Loop through the files and check if they match the pattern\n",
    "    for file_name in lofiles:\n",
    "        if re.match(pattern, file_name):\n",
    "            matching_files.append(f\"{path}/{file_name}\")\n",
    "        \n",
    "    return matching_files\n",
    "        "
   ]
  },
  {
   "cell_type": "code",
   "execution_count": 18,
   "metadata": {},
   "outputs": [
    {
     "ename": "NameError",
     "evalue": "name 'matching_files' is not defined",
     "output_type": "error",
     "traceback": [
      "\u001b[0;31m---------------------------------------------------------------------------\u001b[0m",
      "\u001b[0;31mNameError\u001b[0m                                 Traceback (most recent call last)",
      "\u001b[1;32m/space/grp/aadrian/Pseudobulk_Function_Pipeline_HighRes/bin/bulkSimulationOneProfile/bin/notebooks/checkNumCellConsistancy.ipynb Cell 7\u001b[0m line \u001b[0;36m<cell line: 1>\u001b[0;34m()\u001b[0m\n\u001b[0;32m----> <a href='vscode-notebook-cell://ssh-remote%2Bbart.msl.ubc.ca/space/grp/aadrian/Pseudobulk_Function_Pipeline_HighRes/bin/bulkSimulationOneProfile/bin/notebooks/checkNumCellConsistancy.ipynb#W6sdnNjb2RlLXJlbW90ZQ%3D%3D?line=0'>1</a>\u001b[0m lopaths \u001b[39m=\u001b[39m [os\u001b[39m.\u001b[39mpath\u001b[39m.\u001b[39mjoin(path, file) \u001b[39mfor\u001b[39;00m file \u001b[39min\u001b[39;00m matching_files]\n\u001b[1;32m      <a href='vscode-notebook-cell://ssh-remote%2Bbart.msl.ubc.ca/space/grp/aadrian/Pseudobulk_Function_Pipeline_HighRes/bin/bulkSimulationOneProfile/bin/notebooks/checkNumCellConsistancy.ipynb#W6sdnNjb2RlLXJlbW90ZQ%3D%3D?line=1'>2</a>\u001b[0m lopaths\n",
      "\u001b[0;31mNameError\u001b[0m: name 'matching_files' is not defined"
     ]
    }
   ],
   "source": [
    "lopaths = [os.path.join(path, file) for file in matching_files]\n",
    "lopaths"
   ]
  },
  {
   "cell_type": "code",
   "execution_count": 19,
   "metadata": {},
   "outputs": [
    {
     "ename": "NameError",
     "evalue": "name 'lopaths' is not defined",
     "output_type": "error",
     "traceback": [
      "\u001b[0;31m---------------------------------------------------------------------------\u001b[0m",
      "\u001b[0;31mNameError\u001b[0m                                 Traceback (most recent call last)",
      "\u001b[1;32m/space/grp/aadrian/Pseudobulk_Function_Pipeline_HighRes/bin/bulkSimulationOneProfile/bin/notebooks/checkNumCellConsistancy.ipynb Cell 8\u001b[0m line \u001b[0;36m<cell line: 1>\u001b[0;34m()\u001b[0m\n\u001b[0;32m----> <a href='vscode-notebook-cell://ssh-remote%2Bbart.msl.ubc.ca/space/grp/aadrian/Pseudobulk_Function_Pipeline_HighRes/bin/bulkSimulationOneProfile/bin/notebooks/checkNumCellConsistancy.ipynb#X10sdnNjb2RlLXJlbW90ZQ%3D%3D?line=0'>1</a>\u001b[0m lodfs \u001b[39m=\u001b[39m [pd\u001b[39m.\u001b[39mread_csv(file_path, index_col\u001b[39m=\u001b[39m\u001b[39m0\u001b[39m) \u001b[39mfor\u001b[39;00m file_path \u001b[39min\u001b[39;00m lopaths]\n\u001b[1;32m      <a href='vscode-notebook-cell://ssh-remote%2Bbart.msl.ubc.ca/space/grp/aadrian/Pseudobulk_Function_Pipeline_HighRes/bin/bulkSimulationOneProfile/bin/notebooks/checkNumCellConsistancy.ipynb#X10sdnNjb2RlLXJlbW90ZQ%3D%3D?line=1'>2</a>\u001b[0m lodfs\n",
      "\u001b[0;31mNameError\u001b[0m: name 'lopaths' is not defined"
     ]
    }
   ],
   "source": [
    "lodfs = [pd.read_csv(file_path, index_col=0) for file_path in lopaths]\n",
    "lodfs"
   ]
  },
  {
   "cell_type": "code",
   "execution_count": 20,
   "metadata": {},
   "outputs": [
    {
     "ename": "NameError",
     "evalue": "name 'lodfs' is not defined",
     "output_type": "error",
     "traceback": [
      "\u001b[0;31m---------------------------------------------------------------------------\u001b[0m",
      "\u001b[0;31mNameError\u001b[0m                                 Traceback (most recent call last)",
      "\u001b[1;32m/space/grp/aadrian/Pseudobulk_Function_Pipeline_HighRes/bin/bulkSimulationOneProfile/bin/notebooks/checkNumCellConsistancy.ipynb Cell 9\u001b[0m line \u001b[0;36m<cell line: 1>\u001b[0;34m()\u001b[0m\n\u001b[0;32m----> <a href='vscode-notebook-cell://ssh-remote%2Bbart.msl.ubc.ca/space/grp/aadrian/Pseudobulk_Function_Pipeline_HighRes/bin/bulkSimulationOneProfile/bin/notebooks/checkNumCellConsistancy.ipynb#X11sdnNjb2RlLXJlbW90ZQ%3D%3D?line=0'>1</a>\u001b[0m merged_df \u001b[39m=\u001b[39m pd\u001b[39m.\u001b[39mconcat(lodfs, axis \u001b[39m=\u001b[39m \u001b[39m1\u001b[39m)\n\u001b[1;32m      <a href='vscode-notebook-cell://ssh-remote%2Bbart.msl.ubc.ca/space/grp/aadrian/Pseudobulk_Function_Pipeline_HighRes/bin/bulkSimulationOneProfile/bin/notebooks/checkNumCellConsistancy.ipynb#X11sdnNjb2RlLXJlbW90ZQ%3D%3D?line=1'>2</a>\u001b[0m merged_df \u001b[39m=\u001b[39m merged_df\u001b[39m.\u001b[39msum(axis \u001b[39m=\u001b[39m \u001b[39m1\u001b[39m)\n\u001b[1;32m      <a href='vscode-notebook-cell://ssh-remote%2Bbart.msl.ubc.ca/space/grp/aadrian/Pseudobulk_Function_Pipeline_HighRes/bin/bulkSimulationOneProfile/bin/notebooks/checkNumCellConsistancy.ipynb#X11sdnNjb2RlLXJlbW90ZQ%3D%3D?line=2'>3</a>\u001b[0m merged_df\n",
      "\u001b[0;31mNameError\u001b[0m: name 'lodfs' is not defined"
     ]
    }
   ],
   "source": [
    "merged_df = pd.concat(lodfs, axis = 1)\n",
    "merged_df = merged_df.sum(axis = 1)\n",
    "merged_df"
   ]
  },
  {
   "cell_type": "code",
   "execution_count": 21,
   "metadata": {},
   "outputs": [],
   "source": [
    "def normalize_series_by_sum(series):\n",
    "    \"\"\"\n",
    "    Normalize a pandas Series by dividing each value by the sum of the Series.\n",
    "\n",
    "    Args:\n",
    "        series (pandas.Series): The Series to normalize.\n",
    "\n",
    "    Returns:\n",
    "        pandas.Series: A new Series with values normalized by the sum.\n",
    "    \"\"\"\n",
    "    # Calculate the sum of the Series\n",
    "    series_sum = series.sum()\n",
    "\n",
    "    # Normalize the Series by dividing each value by the sum\n",
    "    normalized_series = series / series_sum\n",
    "\n",
    "    return normalized_series\n",
    "\n",
    "def getCellAverage(loFiles):\n",
    "    lodfs = [pd.read_csv(file_path, index_col=0) for file_path in loFiles]\n",
    "    \n",
    "    merged_df = pd.concat(lodfs, axis = 1)\n",
    "    merged_df = merged_df.sum(axis = 1)\n",
    "\n",
    "    normalized_series = normalize_series_by_sum(merged_df)\n",
    "    \n",
    "    return normalized_series\n"
   ]
  },
  {
   "cell_type": "code",
   "execution_count": 8,
   "metadata": {},
   "outputs": [
    {
     "ename": "NameError",
     "evalue": "name 'merged_df' is not defined",
     "output_type": "error",
     "traceback": [
      "\u001b[0;31m---------------------------------------------------------------------------\u001b[0m",
      "\u001b[0;31mNameError\u001b[0m                                 Traceback (most recent call last)",
      "\u001b[1;32m/space/grp/aadrian/Pseudobulk_Function_Pipeline_HighRes/bin/bulkSimulationOneProfile/bin/notebooks/checkNumCellConsistancy.ipynb Cell 11\u001b[0m line \u001b[0;36m<cell line: 1>\u001b[0;34m()\u001b[0m\n\u001b[0;32m----> <a href='vscode-notebook-cell://ssh-remote%2Bbart.msl.ubc.ca/space/grp/aadrian/Pseudobulk_Function_Pipeline_HighRes/bin/bulkSimulationOneProfile/bin/notebooks/checkNumCellConsistancy.ipynb#X13sdnNjb2RlLXJlbW90ZQ%3D%3D?line=0'>1</a>\u001b[0m retrieved_proportion \u001b[39m=\u001b[39m normalize_series_by_sum(merged_df)\n\u001b[1;32m      <a href='vscode-notebook-cell://ssh-remote%2Bbart.msl.ubc.ca/space/grp/aadrian/Pseudobulk_Function_Pipeline_HighRes/bin/bulkSimulationOneProfile/bin/notebooks/checkNumCellConsistancy.ipynb#X13sdnNjb2RlLXJlbW90ZQ%3D%3D?line=1'>2</a>\u001b[0m retrieved_proportion\n",
      "\u001b[0;31mNameError\u001b[0m: name 'merged_df' is not defined"
     ]
    }
   ],
   "source": [
    "retrieved_proportion = normalize_series_by_sum(merged_df)\n",
    "retrieved_proportion"
   ]
  },
  {
   "cell_type": "code",
   "execution_count": 9,
   "metadata": {},
   "outputs": [
    {
     "data": {
      "text/plain": [
       "'0'"
      ]
     },
     "execution_count": 9,
     "metadata": {},
     "output_type": "execute_result"
    }
   ],
   "source": [
    "variance_int = path.split(\"/\")[-2]\n",
    "variance_int"
   ]
  },
  {
   "cell_type": "code",
   "execution_count": 10,
   "metadata": {},
   "outputs": [
    {
     "ename": "NameError",
     "evalue": "name 'retrieved_proportion' is not defined",
     "output_type": "error",
     "traceback": [
      "\u001b[0;31m---------------------------------------------------------------------------\u001b[0m",
      "\u001b[0;31mNameError\u001b[0m                                 Traceback (most recent call last)",
      "\u001b[1;32m/space/grp/aadrian/Pseudobulk_Function_Pipeline_HighRes/bin/bulkSimulationOneProfile/bin/notebooks/checkNumCellConsistancy.ipynb Cell 13\u001b[0m line \u001b[0;36m<cell line: 3>\u001b[0;34m()\u001b[0m\n\u001b[1;32m      <a href='vscode-notebook-cell://ssh-remote%2Bbart.msl.ubc.ca/space/grp/aadrian/Pseudobulk_Function_Pipeline_HighRes/bin/bulkSimulationOneProfile/bin/notebooks/checkNumCellConsistancy.ipynb#X15sdnNjb2RlLXJlbW90ZQ%3D%3D?line=0'>1</a>\u001b[0m \u001b[39m#os.mkdir(\"../../data/retrieved_proportions\")\u001b[39;00m\n\u001b[1;32m      <a href='vscode-notebook-cell://ssh-remote%2Bbart.msl.ubc.ca/space/grp/aadrian/Pseudobulk_Function_Pipeline_HighRes/bin/bulkSimulationOneProfile/bin/notebooks/checkNumCellConsistancy.ipynb#X15sdnNjb2RlLXJlbW90ZQ%3D%3D?line=1'>2</a>\u001b[0m \u001b[39m#os.mkdir(\"../../data/retrieved_proportions/brain\")\u001b[39;00m\n\u001b[0;32m----> <a href='vscode-notebook-cell://ssh-remote%2Bbart.msl.ubc.ca/space/grp/aadrian/Pseudobulk_Function_Pipeline_HighRes/bin/bulkSimulationOneProfile/bin/notebooks/checkNumCellConsistancy.ipynb#X15sdnNjb2RlLXJlbW90ZQ%3D%3D?line=2'>3</a>\u001b[0m retrieved_proportion\u001b[39m.\u001b[39mto_csv(\u001b[39mf\u001b[39m\u001b[39m\"\u001b[39m\u001b[39m../../data/retrieved_proportions/brain/var\u001b[39m\u001b[39m{\u001b[39;00mvariance_int\u001b[39m}\u001b[39;00m\u001b[39m.csv\u001b[39m\u001b[39m\"\u001b[39m)\n",
      "\u001b[0;31mNameError\u001b[0m: name 'retrieved_proportion' is not defined"
     ]
    }
   ],
   "source": [
    "#os.mkdir(\"../../data/retrieved_proportions\")\n",
    "#os.mkdir(\"../../data/retrieved_proportions/brain\")\n",
    "retrieved_proportion.to_csv(f\"../../data/retrieved_proportions/brain/var{variance_int}.csv\")"
   ]
  },
  {
   "cell_type": "code",
   "execution_count": 26,
   "metadata": {},
   "outputs": [
    {
     "name": "stdout",
     "output_type": "stream",
     "text": [
      "['/space/grp/aadrian/Pseudobulk_Function_Pipeline_HighRes/bin/bulkSimulationOneProfile/data/please_work/simulations/0/pbmc_sc_with_metadata_cpm_pc_cell_type_profiles.csv', '/space/grp/aadrian/Pseudobulk_Function_Pipeline_HighRes/bin/bulkSimulationOneProfile/data/please_work/simulations/0.2/pbmc_sc_with_metadata_cpm_pc_cell_type_profiles.csv', '/space/grp/aadrian/Pseudobulk_Function_Pipeline_HighRes/bin/bulkSimulationOneProfile/data/please_work/simulations/checkout.ipynb/pbmc_sc_with_metadata_cpm_pc_cell_type_profiles.csv', '/space/grp/aadrian/Pseudobulk_Function_Pipeline_HighRes/bin/bulkSimulationOneProfile/data/please_work/simulations/0.0001/pbmc_sc_with_metadata_cpm_pc_cell_type_profiles.csv']\n"
     ]
    },
    {
     "ename": "NotADirectoryError",
     "evalue": "[Errno 20] Not a directory: '/space/grp/aadrian/Pseudobulk_Function_Pipeline_HighRes/bin/bulkSimulationOneProfile/data/please_work/simulations/checkout.ipynb/pbmc_sc_with_metadata_cpm_pc_cell_type_profiles.csv'",
     "output_type": "error",
     "traceback": [
      "\u001b[0;31m---------------------------------------------------------------------------\u001b[0m",
      "\u001b[0;31mNotADirectoryError\u001b[0m                        Traceback (most recent call last)",
      "\u001b[1;32m/space/grp/aadrian/Pseudobulk_Function_Pipeline_HighRes/bin/bulkSimulationOneProfile/bin/notebooks/checkNumCellConsistancy.ipynb Cell 14\u001b[0m line \u001b[0;36m<cell line: 24>\u001b[0;34m()\u001b[0m\n\u001b[1;32m     <a href='vscode-notebook-cell://ssh-remote%2Bbart.msl.ubc.ca/space/grp/aadrian/Pseudobulk_Function_Pipeline_HighRes/bin/bulkSimulationOneProfile/bin/notebooks/checkNumCellConsistancy.ipynb#X16sdnNjb2RlLXJlbW90ZQ%3D%3D?line=20'>21</a>\u001b[0m     \u001b[39m#print(dict_variance_average)\u001b[39;00m\n\u001b[1;32m     <a href='vscode-notebook-cell://ssh-remote%2Bbart.msl.ubc.ca/space/grp/aadrian/Pseudobulk_Function_Pipeline_HighRes/bin/bulkSimulationOneProfile/bin/notebooks/checkNumCellConsistancy.ipynb#X16sdnNjb2RlLXJlbW90ZQ%3D%3D?line=21'>22</a>\u001b[0m     \u001b[39mreturn\u001b[39;00m dict_variance_average\n\u001b[0;32m---> <a href='vscode-notebook-cell://ssh-remote%2Bbart.msl.ubc.ca/space/grp/aadrian/Pseudobulk_Function_Pipeline_HighRes/bin/bulkSimulationOneProfile/bin/notebooks/checkNumCellConsistancy.ipynb#X16sdnNjb2RlLXJlbW90ZQ%3D%3D?line=23'>24</a>\u001b[0m dict_variance_average \u001b[39m=\u001b[39m main()\n",
      "\u001b[1;32m/space/grp/aadrian/Pseudobulk_Function_Pipeline_HighRes/bin/bulkSimulationOneProfile/bin/notebooks/checkNumCellConsistancy.ipynb Cell 14\u001b[0m line \u001b[0;36mmain\u001b[0;34m()\u001b[0m\n\u001b[1;32m      <a href='vscode-notebook-cell://ssh-remote%2Bbart.msl.ubc.ca/space/grp/aadrian/Pseudobulk_Function_Pipeline_HighRes/bin/bulkSimulationOneProfile/bin/notebooks/checkNumCellConsistancy.ipynb#X16sdnNjb2RlLXJlbW90ZQ%3D%3D?line=5'>6</a>\u001b[0m lopaths \u001b[39m=\u001b[39m [\u001b[39mf\u001b[39m\u001b[39m\"\u001b[39m\u001b[39m{\u001b[39;00mmain_path\u001b[39m}\u001b[39;00m\u001b[39m/\u001b[39m\u001b[39m{\u001b[39;00mvariance\u001b[39m}\u001b[39;00m\u001b[39m/pbmc_sc_with_metadata_cpm_pc_cell_type_profiles.csv\u001b[39m\u001b[39m\"\u001b[39m \u001b[39mfor\u001b[39;00m variance \u001b[39min\u001b[39;00m lovariances]\n\u001b[1;32m      <a href='vscode-notebook-cell://ssh-remote%2Bbart.msl.ubc.ca/space/grp/aadrian/Pseudobulk_Function_Pipeline_HighRes/bin/bulkSimulationOneProfile/bin/notebooks/checkNumCellConsistancy.ipynb#X16sdnNjb2RlLXJlbW90ZQ%3D%3D?line=6'>7</a>\u001b[0m \u001b[39mprint\u001b[39m(lopaths)\n\u001b[0;32m---> <a href='vscode-notebook-cell://ssh-remote%2Bbart.msl.ubc.ca/space/grp/aadrian/Pseudobulk_Function_Pipeline_HighRes/bin/bulkSimulationOneProfile/bin/notebooks/checkNumCellConsistancy.ipynb#X16sdnNjb2RlLXJlbW90ZQ%3D%3D?line=9'>10</a>\u001b[0m lolofiles \u001b[39m=\u001b[39m [getMatchingFiles(path) \u001b[39mfor\u001b[39;00m path \u001b[39min\u001b[39;00m lopaths]\n\u001b[1;32m     <a href='vscode-notebook-cell://ssh-remote%2Bbart.msl.ubc.ca/space/grp/aadrian/Pseudobulk_Function_Pipeline_HighRes/bin/bulkSimulationOneProfile/bin/notebooks/checkNumCellConsistancy.ipynb#X16sdnNjb2RlLXJlbW90ZQ%3D%3D?line=10'>11</a>\u001b[0m \u001b[39mprint\u001b[39m(lolofiles)\n\u001b[1;32m     <a href='vscode-notebook-cell://ssh-remote%2Bbart.msl.ubc.ca/space/grp/aadrian/Pseudobulk_Function_Pipeline_HighRes/bin/bulkSimulationOneProfile/bin/notebooks/checkNumCellConsistancy.ipynb#X16sdnNjb2RlLXJlbW90ZQ%3D%3D?line=12'>13</a>\u001b[0m dict_variance_average \u001b[39m=\u001b[39m {}\n",
      "\u001b[1;32m/space/grp/aadrian/Pseudobulk_Function_Pipeline_HighRes/bin/bulkSimulationOneProfile/bin/notebooks/checkNumCellConsistancy.ipynb Cell 14\u001b[0m line \u001b[0;36m<listcomp>\u001b[0;34m(.0)\u001b[0m\n\u001b[1;32m      <a href='vscode-notebook-cell://ssh-remote%2Bbart.msl.ubc.ca/space/grp/aadrian/Pseudobulk_Function_Pipeline_HighRes/bin/bulkSimulationOneProfile/bin/notebooks/checkNumCellConsistancy.ipynb#X16sdnNjb2RlLXJlbW90ZQ%3D%3D?line=5'>6</a>\u001b[0m lopaths \u001b[39m=\u001b[39m [\u001b[39mf\u001b[39m\u001b[39m\"\u001b[39m\u001b[39m{\u001b[39;00mmain_path\u001b[39m}\u001b[39;00m\u001b[39m/\u001b[39m\u001b[39m{\u001b[39;00mvariance\u001b[39m}\u001b[39;00m\u001b[39m/pbmc_sc_with_metadata_cpm_pc_cell_type_profiles.csv\u001b[39m\u001b[39m\"\u001b[39m \u001b[39mfor\u001b[39;00m variance \u001b[39min\u001b[39;00m lovariances]\n\u001b[1;32m      <a href='vscode-notebook-cell://ssh-remote%2Bbart.msl.ubc.ca/space/grp/aadrian/Pseudobulk_Function_Pipeline_HighRes/bin/bulkSimulationOneProfile/bin/notebooks/checkNumCellConsistancy.ipynb#X16sdnNjb2RlLXJlbW90ZQ%3D%3D?line=6'>7</a>\u001b[0m \u001b[39mprint\u001b[39m(lopaths)\n\u001b[0;32m---> <a href='vscode-notebook-cell://ssh-remote%2Bbart.msl.ubc.ca/space/grp/aadrian/Pseudobulk_Function_Pipeline_HighRes/bin/bulkSimulationOneProfile/bin/notebooks/checkNumCellConsistancy.ipynb#X16sdnNjb2RlLXJlbW90ZQ%3D%3D?line=9'>10</a>\u001b[0m lolofiles \u001b[39m=\u001b[39m [getMatchingFiles(path) \u001b[39mfor\u001b[39;00m path \u001b[39min\u001b[39;00m lopaths]\n\u001b[1;32m     <a href='vscode-notebook-cell://ssh-remote%2Bbart.msl.ubc.ca/space/grp/aadrian/Pseudobulk_Function_Pipeline_HighRes/bin/bulkSimulationOneProfile/bin/notebooks/checkNumCellConsistancy.ipynb#X16sdnNjb2RlLXJlbW90ZQ%3D%3D?line=10'>11</a>\u001b[0m \u001b[39mprint\u001b[39m(lolofiles)\n\u001b[1;32m     <a href='vscode-notebook-cell://ssh-remote%2Bbart.msl.ubc.ca/space/grp/aadrian/Pseudobulk_Function_Pipeline_HighRes/bin/bulkSimulationOneProfile/bin/notebooks/checkNumCellConsistancy.ipynb#X16sdnNjb2RlLXJlbW90ZQ%3D%3D?line=12'>13</a>\u001b[0m dict_variance_average \u001b[39m=\u001b[39m {}\n",
      "\u001b[1;32m/space/grp/aadrian/Pseudobulk_Function_Pipeline_HighRes/bin/bulkSimulationOneProfile/bin/notebooks/checkNumCellConsistancy.ipynb Cell 14\u001b[0m line \u001b[0;36mgetMatchingFiles\u001b[0;34m(path)\u001b[0m\n\u001b[1;32m      <a href='vscode-notebook-cell://ssh-remote%2Bbart.msl.ubc.ca/space/grp/aadrian/Pseudobulk_Function_Pipeline_HighRes/bin/bulkSimulationOneProfile/bin/notebooks/checkNumCellConsistancy.ipynb#X16sdnNjb2RlLXJlbW90ZQ%3D%3D?line=0'>1</a>\u001b[0m \u001b[39mdef\u001b[39;00m \u001b[39mgetMatchingFiles\u001b[39m(path):\n\u001b[0;32m----> <a href='vscode-notebook-cell://ssh-remote%2Bbart.msl.ubc.ca/space/grp/aadrian/Pseudobulk_Function_Pipeline_HighRes/bin/bulkSimulationOneProfile/bin/notebooks/checkNumCellConsistancy.ipynb#X16sdnNjb2RlLXJlbW90ZQ%3D%3D?line=2'>3</a>\u001b[0m     lofiles \u001b[39m=\u001b[39m os\u001b[39m.\u001b[39;49mlistdir(path)\n\u001b[1;32m      <a href='vscode-notebook-cell://ssh-remote%2Bbart.msl.ubc.ca/space/grp/aadrian/Pseudobulk_Function_Pipeline_HighRes/bin/bulkSimulationOneProfile/bin/notebooks/checkNumCellConsistancy.ipynb#X16sdnNjb2RlLXJlbW90ZQ%3D%3D?line=5'>6</a>\u001b[0m     pattern \u001b[39m=\u001b[39m \u001b[39m\"\u001b[39m\u001b[39m.*n_sim.*_profiles.csv\u001b[39m\u001b[39m\"\u001b[39m\n\u001b[1;32m      <a href='vscode-notebook-cell://ssh-remote%2Bbart.msl.ubc.ca/space/grp/aadrian/Pseudobulk_Function_Pipeline_HighRes/bin/bulkSimulationOneProfile/bin/notebooks/checkNumCellConsistancy.ipynb#X16sdnNjb2RlLXJlbW90ZQ%3D%3D?line=7'>8</a>\u001b[0m     \u001b[39m# Initialize a list to store matching file names\u001b[39;00m\n",
      "\u001b[0;31mNotADirectoryError\u001b[0m: [Errno 20] Not a directory: '/space/grp/aadrian/Pseudobulk_Function_Pipeline_HighRes/bin/bulkSimulationOneProfile/data/please_work/simulations/checkout.ipynb/pbmc_sc_with_metadata_cpm_pc_cell_type_profiles.csv'"
     ]
    }
   ],
   "source": [
    "def main():\n",
    "    main_path = \"/space/grp/aadrian/Pseudobulk_Function_Pipeline_HighRes/bin/bulkSimulationOneProfile/data/please_work/simulations\"\n",
    "    \n",
    "    lovariances = os.listdir(main_path)\n",
    "    \n",
    "    lopaths = [f\"{main_path}/{variance}/pbmc_sc_with_metadata_cpm_pc_cell_type_profiles.csv\" for variance in lovariances]\n",
    "    print(lopaths)\n",
    "    \n",
    "    \n",
    "    lolofiles = [getMatchingFiles(path) for path in lopaths]\n",
    "    print(lolofiles)\n",
    "    \n",
    "    dict_variance_average = {}\n",
    "    \n",
    "    \n",
    "    for i, loFiles in enumerate(lolofiles):\n",
    "        cell_averages = getCellAverage(loFiles)\n",
    "\n",
    "        dict_variance_average[lovariances[i]] = cell_averages\n",
    "        \n",
    "    #print(dict_variance_average)\n",
    "    return dict_variance_average\n",
    "    \n",
    "dict_variance_average = main()"
   ]
  },
  {
   "cell_type": "code",
   "execution_count": 12,
   "metadata": {},
   "outputs": [
    {
     "ename": "NameError",
     "evalue": "name 'dict_variance_average' is not defined",
     "output_type": "error",
     "traceback": [
      "\u001b[0;31m---------------------------------------------------------------------------\u001b[0m",
      "\u001b[0;31mNameError\u001b[0m                                 Traceback (most recent call last)",
      "\u001b[1;32m/space/grp/aadrian/Pseudobulk_Function_Pipeline_HighRes/bin/bulkSimulationOneProfile/bin/notebooks/checkNumCellConsistancy.ipynb Cell 15\u001b[0m line \u001b[0;36m<cell line: 1>\u001b[0;34m()\u001b[0m\n\u001b[0;32m----> <a href='vscode-notebook-cell://ssh-remote%2Bbart.msl.ubc.ca/space/grp/aadrian/Pseudobulk_Function_Pipeline_HighRes/bin/bulkSimulationOneProfile/bin/notebooks/checkNumCellConsistancy.ipynb#X20sdnNjb2RlLXJlbW90ZQ%3D%3D?line=0'>1</a>\u001b[0m merged_df \u001b[39m=\u001b[39m pd\u001b[39m.\u001b[39mDataFrame(dict_variance_average)\n\u001b[1;32m      <a href='vscode-notebook-cell://ssh-remote%2Bbart.msl.ubc.ca/space/grp/aadrian/Pseudobulk_Function_Pipeline_HighRes/bin/bulkSimulationOneProfile/bin/notebooks/checkNumCellConsistancy.ipynb#X20sdnNjb2RlLXJlbW90ZQ%3D%3D?line=1'>2</a>\u001b[0m merged_df\n",
      "\u001b[0;31mNameError\u001b[0m: name 'dict_variance_average' is not defined"
     ]
    }
   ],
   "source": [
    "merged_df = pd.DataFrame(dict_variance_average)\n",
    "merged_df"
   ]
  },
  {
   "cell_type": "code",
   "execution_count": 13,
   "metadata": {},
   "outputs": [
    {
     "ename": "NameError",
     "evalue": "name 'merged_df' is not defined",
     "output_type": "error",
     "traceback": [
      "\u001b[0;31m---------------------------------------------------------------------------\u001b[0m",
      "\u001b[0;31mNameError\u001b[0m                                 Traceback (most recent call last)",
      "\u001b[1;32m/space/grp/aadrian/Pseudobulk_Function_Pipeline_HighRes/bin/bulkSimulationOneProfile/bin/notebooks/checkNumCellConsistancy.ipynb Cell 16\u001b[0m line \u001b[0;36m<cell line: 1>\u001b[0;34m()\u001b[0m\n\u001b[0;32m----> <a href='vscode-notebook-cell://ssh-remote%2Bbart.msl.ubc.ca/space/grp/aadrian/Pseudobulk_Function_Pipeline_HighRes/bin/bulkSimulationOneProfile/bin/notebooks/checkNumCellConsistancy.ipynb#X21sdnNjb2RlLXJlbW90ZQ%3D%3D?line=0'>1</a>\u001b[0m melted \u001b[39m=\u001b[39m merged_df\u001b[39m.\u001b[39mreset_index()\u001b[39m.\u001b[39mmelt(id_vars\u001b[39m=\u001b[39m[\u001b[39m'\u001b[39m\u001b[39mindex\u001b[39m\u001b[39m'\u001b[39m])\n\u001b[1;32m      <a href='vscode-notebook-cell://ssh-remote%2Bbart.msl.ubc.ca/space/grp/aadrian/Pseudobulk_Function_Pipeline_HighRes/bin/bulkSimulationOneProfile/bin/notebooks/checkNumCellConsistancy.ipynb#X21sdnNjb2RlLXJlbW90ZQ%3D%3D?line=1'>2</a>\u001b[0m melted \u001b[39m=\u001b[39m melted\u001b[39m.\u001b[39msort_values(\u001b[39m\"\u001b[39m\u001b[39mvariable\u001b[39m\u001b[39m\"\u001b[39m)\n\u001b[1;32m      <a href='vscode-notebook-cell://ssh-remote%2Bbart.msl.ubc.ca/space/grp/aadrian/Pseudobulk_Function_Pipeline_HighRes/bin/bulkSimulationOneProfile/bin/notebooks/checkNumCellConsistancy.ipynb#X21sdnNjb2RlLXJlbW90ZQ%3D%3D?line=2'>3</a>\u001b[0m melted\n",
      "\u001b[0;31mNameError\u001b[0m: name 'merged_df' is not defined"
     ]
    }
   ],
   "source": [
    "melted = merged_df.reset_index().melt(id_vars=['index'])\n",
    "melted = melted.sort_values(\"variable\")\n",
    "melted\n"
   ]
  },
  {
   "cell_type": "code",
   "execution_count": 28,
   "metadata": {},
   "outputs": [
    {
     "data": {
      "application/vnd.plotly.v1+json": {
       "config": {
        "plotlyServerURL": "https://plot.ly"
       },
       "data": [
        {
         "hovertemplate": "index=Excitatory neurons<br>variable=%{x}<br>value=%{y}<extra></extra>",
         "legendgroup": "Excitatory neurons",
         "line": {
          "color": "#636efa",
          "dash": "solid"
         },
         "marker": {
          "symbol": "circle"
         },
         "mode": "lines",
         "name": "Excitatory neurons",
         "orientation": "v",
         "showlegend": true,
         "type": "scatter",
         "x": [
          "0",
          "0.0001",
          "0.0005",
          "0.00075",
          "0.001",
          "0.0015",
          "0.002",
          "0.005",
          "0.01",
          "0.05",
          "0.075",
          "0.1",
          "0.2"
         ],
         "xaxis": "x",
         "y": [
          0.5000133333333333,
          0.5001533333333333,
          0.5001733333333334,
          0.50022,
          0.5001666666666666,
          0.49993333333333334,
          0.5000066666666667,
          0.4998066666666667,
          0.5000533333333333,
          0.49718,
          0.49854,
          0.5091733333333334,
          0.49731333333333333
         ],
         "yaxis": "y"
        },
        {
         "hovertemplate": "index=Oligodendrocyte precursor cells<br>variable=%{x}<br>value=%{y}<extra></extra>",
         "legendgroup": "Oligodendrocyte precursor cells",
         "line": {
          "color": "#EF553B",
          "dash": "solid"
         },
         "marker": {
          "symbol": "circle"
         },
         "mode": "lines",
         "name": "Oligodendrocyte precursor cells",
         "orientation": "v",
         "showlegend": true,
         "type": "scatter",
         "x": [
          "0",
          "0.0001",
          "0.0005",
          "0.00075",
          "0.001",
          "0.0015",
          "0.002",
          "0.005",
          "0.01",
          "0.05",
          "0.075",
          "0.1",
          "0.2"
         ],
         "xaxis": "x",
         "y": [
          0.05004666666666667,
          0.04996,
          0.05006,
          0.04994666666666667,
          0.049806666666666666,
          0.04994666666666667,
          0.049973333333333335,
          0.05002,
          0.050146666666666666,
          0.04938666666666667,
          0.05228,
          0.04854666666666667,
          0.054553333333333336
         ],
         "yaxis": "y"
        },
        {
         "hovertemplate": "index=Microglial cells<br>variable=%{x}<br>value=%{y}<extra></extra>",
         "legendgroup": "Microglial cells",
         "line": {
          "color": "#00cc96",
          "dash": "solid"
         },
         "marker": {
          "symbol": "circle"
         },
         "mode": "lines",
         "name": "Microglial cells",
         "orientation": "v",
         "showlegend": true,
         "type": "scatter",
         "x": [
          "0",
          "0.0001",
          "0.0005",
          "0.00075",
          "0.001",
          "0.0015",
          "0.002",
          "0.005",
          "0.01",
          "0.05",
          "0.075",
          "0.1",
          "0.2"
         ],
         "xaxis": "x",
         "y": [
          0.04986,
          0.05008666666666667,
          0.049806666666666666,
          0.049973333333333335,
          0.050026666666666664,
          0.05016,
          0.04986666666666666,
          0.050146666666666666,
          0.04994666666666667,
          0.051513333333333335,
          0.05088,
          0.04892,
          0.05874
         ],
         "yaxis": "y"
        },
        {
         "hovertemplate": "index=Oligodendrocytes<br>variable=%{x}<br>value=%{y}<extra></extra>",
         "legendgroup": "Oligodendrocytes",
         "line": {
          "color": "#ab63fa",
          "dash": "solid"
         },
         "marker": {
          "symbol": "circle"
         },
         "mode": "lines",
         "name": "Oligodendrocytes",
         "orientation": "v",
         "showlegend": true,
         "type": "scatter",
         "x": [
          "0",
          "0.0001",
          "0.0005",
          "0.00075",
          "0.001",
          "0.0015",
          "0.002",
          "0.005",
          "0.01",
          "0.05",
          "0.075",
          "0.1",
          "0.2"
         ],
         "xaxis": "x",
         "y": [
          0.05004,
          0.04991333333333333,
          0.04985333333333333,
          0.04994666666666667,
          0.050153333333333334,
          0.05014,
          0.05025333333333333,
          0.04998,
          0.049986666666666665,
          0.049433333333333336,
          0.05077333333333333,
          0.048113333333333334,
          0.05196666666666667
         ],
         "yaxis": "y"
        },
        {
         "hovertemplate": "index=Astrocytes<br>variable=%{x}<br>value=%{y}<extra></extra>",
         "legendgroup": "Astrocytes",
         "line": {
          "color": "#FFA15A",
          "dash": "solid"
         },
         "marker": {
          "symbol": "circle"
         },
         "mode": "lines",
         "name": "Astrocytes",
         "orientation": "v",
         "showlegend": true,
         "type": "scatter",
         "x": [
          "0",
          "0.0001",
          "0.0005",
          "0.00075",
          "0.001",
          "0.0015",
          "0.002",
          "0.005",
          "0.01",
          "0.05",
          "0.075",
          "0.1",
          "0.2"
         ],
         "xaxis": "x",
         "y": [
          0.05005333333333333,
          0.049986666666666665,
          0.049846666666666664,
          0.04988,
          0.04982,
          0.049833333333333334,
          0.049966666666666666,
          0.05003333333333333,
          0.049846666666666664,
          0.050453333333333336,
          0.04888,
          0.050026666666666664,
          0.045706666666666666
         ],
         "yaxis": "y"
        },
        {
         "hovertemplate": "index=Inhibitory neurons<br>variable=%{x}<br>value=%{y}<extra></extra>",
         "legendgroup": "Inhibitory neurons",
         "line": {
          "color": "#19d3f3",
          "dash": "solid"
         },
         "marker": {
          "symbol": "circle"
         },
         "mode": "lines",
         "name": "Inhibitory neurons",
         "orientation": "v",
         "showlegend": true,
         "type": "scatter",
         "x": [
          "0",
          "0.0001",
          "0.0005",
          "0.00075",
          "0.001",
          "0.0015",
          "0.002",
          "0.005",
          "0.01",
          "0.05",
          "0.075",
          "0.1",
          "0.2"
         ],
         "xaxis": "x",
         "y": [
          0.2999866666666667,
          0.2999,
          0.30026,
          0.3000333333333333,
          0.30002666666666666,
          0.2999866666666667,
          0.29993333333333333,
          0.30001333333333335,
          0.30002,
          0.3020333333333333,
          0.29864666666666667,
          0.29522,
          0.29172
         ],
         "yaxis": "y"
        }
       ],
       "layout": {
        "legend": {
         "title": {
          "text": "Cell Types (CTs)"
         },
         "tracegroupgap": 0
        },
        "margin": {
         "t": 60
        },
        "template": {
         "data": {
          "bar": [
           {
            "error_x": {
             "color": "#2a3f5f"
            },
            "error_y": {
             "color": "#2a3f5f"
            },
            "marker": {
             "line": {
              "color": "#E5ECF6",
              "width": 0.5
             },
             "pattern": {
              "fillmode": "overlay",
              "size": 10,
              "solidity": 0.2
             }
            },
            "type": "bar"
           }
          ],
          "barpolar": [
           {
            "marker": {
             "line": {
              "color": "#E5ECF6",
              "width": 0.5
             },
             "pattern": {
              "fillmode": "overlay",
              "size": 10,
              "solidity": 0.2
             }
            },
            "type": "barpolar"
           }
          ],
          "carpet": [
           {
            "aaxis": {
             "endlinecolor": "#2a3f5f",
             "gridcolor": "white",
             "linecolor": "white",
             "minorgridcolor": "white",
             "startlinecolor": "#2a3f5f"
            },
            "baxis": {
             "endlinecolor": "#2a3f5f",
             "gridcolor": "white",
             "linecolor": "white",
             "minorgridcolor": "white",
             "startlinecolor": "#2a3f5f"
            },
            "type": "carpet"
           }
          ],
          "choropleth": [
           {
            "colorbar": {
             "outlinewidth": 0,
             "ticks": ""
            },
            "type": "choropleth"
           }
          ],
          "contour": [
           {
            "colorbar": {
             "outlinewidth": 0,
             "ticks": ""
            },
            "colorscale": [
             [
              0,
              "#0d0887"
             ],
             [
              0.1111111111111111,
              "#46039f"
             ],
             [
              0.2222222222222222,
              "#7201a8"
             ],
             [
              0.3333333333333333,
              "#9c179e"
             ],
             [
              0.4444444444444444,
              "#bd3786"
             ],
             [
              0.5555555555555556,
              "#d8576b"
             ],
             [
              0.6666666666666666,
              "#ed7953"
             ],
             [
              0.7777777777777778,
              "#fb9f3a"
             ],
             [
              0.8888888888888888,
              "#fdca26"
             ],
             [
              1,
              "#f0f921"
             ]
            ],
            "type": "contour"
           }
          ],
          "contourcarpet": [
           {
            "colorbar": {
             "outlinewidth": 0,
             "ticks": ""
            },
            "type": "contourcarpet"
           }
          ],
          "heatmap": [
           {
            "colorbar": {
             "outlinewidth": 0,
             "ticks": ""
            },
            "colorscale": [
             [
              0,
              "#0d0887"
             ],
             [
              0.1111111111111111,
              "#46039f"
             ],
             [
              0.2222222222222222,
              "#7201a8"
             ],
             [
              0.3333333333333333,
              "#9c179e"
             ],
             [
              0.4444444444444444,
              "#bd3786"
             ],
             [
              0.5555555555555556,
              "#d8576b"
             ],
             [
              0.6666666666666666,
              "#ed7953"
             ],
             [
              0.7777777777777778,
              "#fb9f3a"
             ],
             [
              0.8888888888888888,
              "#fdca26"
             ],
             [
              1,
              "#f0f921"
             ]
            ],
            "type": "heatmap"
           }
          ],
          "heatmapgl": [
           {
            "colorbar": {
             "outlinewidth": 0,
             "ticks": ""
            },
            "colorscale": [
             [
              0,
              "#0d0887"
             ],
             [
              0.1111111111111111,
              "#46039f"
             ],
             [
              0.2222222222222222,
              "#7201a8"
             ],
             [
              0.3333333333333333,
              "#9c179e"
             ],
             [
              0.4444444444444444,
              "#bd3786"
             ],
             [
              0.5555555555555556,
              "#d8576b"
             ],
             [
              0.6666666666666666,
              "#ed7953"
             ],
             [
              0.7777777777777778,
              "#fb9f3a"
             ],
             [
              0.8888888888888888,
              "#fdca26"
             ],
             [
              1,
              "#f0f921"
             ]
            ],
            "type": "heatmapgl"
           }
          ],
          "histogram": [
           {
            "marker": {
             "pattern": {
              "fillmode": "overlay",
              "size": 10,
              "solidity": 0.2
             }
            },
            "type": "histogram"
           }
          ],
          "histogram2d": [
           {
            "colorbar": {
             "outlinewidth": 0,
             "ticks": ""
            },
            "colorscale": [
             [
              0,
              "#0d0887"
             ],
             [
              0.1111111111111111,
              "#46039f"
             ],
             [
              0.2222222222222222,
              "#7201a8"
             ],
             [
              0.3333333333333333,
              "#9c179e"
             ],
             [
              0.4444444444444444,
              "#bd3786"
             ],
             [
              0.5555555555555556,
              "#d8576b"
             ],
             [
              0.6666666666666666,
              "#ed7953"
             ],
             [
              0.7777777777777778,
              "#fb9f3a"
             ],
             [
              0.8888888888888888,
              "#fdca26"
             ],
             [
              1,
              "#f0f921"
             ]
            ],
            "type": "histogram2d"
           }
          ],
          "histogram2dcontour": [
           {
            "colorbar": {
             "outlinewidth": 0,
             "ticks": ""
            },
            "colorscale": [
             [
              0,
              "#0d0887"
             ],
             [
              0.1111111111111111,
              "#46039f"
             ],
             [
              0.2222222222222222,
              "#7201a8"
             ],
             [
              0.3333333333333333,
              "#9c179e"
             ],
             [
              0.4444444444444444,
              "#bd3786"
             ],
             [
              0.5555555555555556,
              "#d8576b"
             ],
             [
              0.6666666666666666,
              "#ed7953"
             ],
             [
              0.7777777777777778,
              "#fb9f3a"
             ],
             [
              0.8888888888888888,
              "#fdca26"
             ],
             [
              1,
              "#f0f921"
             ]
            ],
            "type": "histogram2dcontour"
           }
          ],
          "mesh3d": [
           {
            "colorbar": {
             "outlinewidth": 0,
             "ticks": ""
            },
            "type": "mesh3d"
           }
          ],
          "parcoords": [
           {
            "line": {
             "colorbar": {
              "outlinewidth": 0,
              "ticks": ""
             }
            },
            "type": "parcoords"
           }
          ],
          "pie": [
           {
            "automargin": true,
            "type": "pie"
           }
          ],
          "scatter": [
           {
            "fillpattern": {
             "fillmode": "overlay",
             "size": 10,
             "solidity": 0.2
            },
            "type": "scatter"
           }
          ],
          "scatter3d": [
           {
            "line": {
             "colorbar": {
              "outlinewidth": 0,
              "ticks": ""
             }
            },
            "marker": {
             "colorbar": {
              "outlinewidth": 0,
              "ticks": ""
             }
            },
            "type": "scatter3d"
           }
          ],
          "scattercarpet": [
           {
            "marker": {
             "colorbar": {
              "outlinewidth": 0,
              "ticks": ""
             }
            },
            "type": "scattercarpet"
           }
          ],
          "scattergeo": [
           {
            "marker": {
             "colorbar": {
              "outlinewidth": 0,
              "ticks": ""
             }
            },
            "type": "scattergeo"
           }
          ],
          "scattergl": [
           {
            "marker": {
             "colorbar": {
              "outlinewidth": 0,
              "ticks": ""
             }
            },
            "type": "scattergl"
           }
          ],
          "scattermapbox": [
           {
            "marker": {
             "colorbar": {
              "outlinewidth": 0,
              "ticks": ""
             }
            },
            "type": "scattermapbox"
           }
          ],
          "scatterpolar": [
           {
            "marker": {
             "colorbar": {
              "outlinewidth": 0,
              "ticks": ""
             }
            },
            "type": "scatterpolar"
           }
          ],
          "scatterpolargl": [
           {
            "marker": {
             "colorbar": {
              "outlinewidth": 0,
              "ticks": ""
             }
            },
            "type": "scatterpolargl"
           }
          ],
          "scatterternary": [
           {
            "marker": {
             "colorbar": {
              "outlinewidth": 0,
              "ticks": ""
             }
            },
            "type": "scatterternary"
           }
          ],
          "surface": [
           {
            "colorbar": {
             "outlinewidth": 0,
             "ticks": ""
            },
            "colorscale": [
             [
              0,
              "#0d0887"
             ],
             [
              0.1111111111111111,
              "#46039f"
             ],
             [
              0.2222222222222222,
              "#7201a8"
             ],
             [
              0.3333333333333333,
              "#9c179e"
             ],
             [
              0.4444444444444444,
              "#bd3786"
             ],
             [
              0.5555555555555556,
              "#d8576b"
             ],
             [
              0.6666666666666666,
              "#ed7953"
             ],
             [
              0.7777777777777778,
              "#fb9f3a"
             ],
             [
              0.8888888888888888,
              "#fdca26"
             ],
             [
              1,
              "#f0f921"
             ]
            ],
            "type": "surface"
           }
          ],
          "table": [
           {
            "cells": {
             "fill": {
              "color": "#EBF0F8"
             },
             "line": {
              "color": "white"
             }
            },
            "header": {
             "fill": {
              "color": "#C8D4E3"
             },
             "line": {
              "color": "white"
             }
            },
            "type": "table"
           }
          ]
         },
         "layout": {
          "annotationdefaults": {
           "arrowcolor": "#2a3f5f",
           "arrowhead": 0,
           "arrowwidth": 1
          },
          "autotypenumbers": "strict",
          "coloraxis": {
           "colorbar": {
            "outlinewidth": 0,
            "ticks": ""
           }
          },
          "colorscale": {
           "diverging": [
            [
             0,
             "#8e0152"
            ],
            [
             0.1,
             "#c51b7d"
            ],
            [
             0.2,
             "#de77ae"
            ],
            [
             0.3,
             "#f1b6da"
            ],
            [
             0.4,
             "#fde0ef"
            ],
            [
             0.5,
             "#f7f7f7"
            ],
            [
             0.6,
             "#e6f5d0"
            ],
            [
             0.7,
             "#b8e186"
            ],
            [
             0.8,
             "#7fbc41"
            ],
            [
             0.9,
             "#4d9221"
            ],
            [
             1,
             "#276419"
            ]
           ],
           "sequential": [
            [
             0,
             "#0d0887"
            ],
            [
             0.1111111111111111,
             "#46039f"
            ],
            [
             0.2222222222222222,
             "#7201a8"
            ],
            [
             0.3333333333333333,
             "#9c179e"
            ],
            [
             0.4444444444444444,
             "#bd3786"
            ],
            [
             0.5555555555555556,
             "#d8576b"
            ],
            [
             0.6666666666666666,
             "#ed7953"
            ],
            [
             0.7777777777777778,
             "#fb9f3a"
            ],
            [
             0.8888888888888888,
             "#fdca26"
            ],
            [
             1,
             "#f0f921"
            ]
           ],
           "sequentialminus": [
            [
             0,
             "#0d0887"
            ],
            [
             0.1111111111111111,
             "#46039f"
            ],
            [
             0.2222222222222222,
             "#7201a8"
            ],
            [
             0.3333333333333333,
             "#9c179e"
            ],
            [
             0.4444444444444444,
             "#bd3786"
            ],
            [
             0.5555555555555556,
             "#d8576b"
            ],
            [
             0.6666666666666666,
             "#ed7953"
            ],
            [
             0.7777777777777778,
             "#fb9f3a"
            ],
            [
             0.8888888888888888,
             "#fdca26"
            ],
            [
             1,
             "#f0f921"
            ]
           ]
          },
          "colorway": [
           "#636efa",
           "#EF553B",
           "#00cc96",
           "#ab63fa",
           "#FFA15A",
           "#19d3f3",
           "#FF6692",
           "#B6E880",
           "#FF97FF",
           "#FECB52"
          ],
          "font": {
           "color": "#2a3f5f"
          },
          "geo": {
           "bgcolor": "white",
           "lakecolor": "white",
           "landcolor": "#E5ECF6",
           "showlakes": true,
           "showland": true,
           "subunitcolor": "white"
          },
          "hoverlabel": {
           "align": "left"
          },
          "hovermode": "closest",
          "mapbox": {
           "style": "light"
          },
          "paper_bgcolor": "white",
          "plot_bgcolor": "#E5ECF6",
          "polar": {
           "angularaxis": {
            "gridcolor": "white",
            "linecolor": "white",
            "ticks": ""
           },
           "bgcolor": "#E5ECF6",
           "radialaxis": {
            "gridcolor": "white",
            "linecolor": "white",
            "ticks": ""
           }
          },
          "scene": {
           "xaxis": {
            "backgroundcolor": "#E5ECF6",
            "gridcolor": "white",
            "gridwidth": 2,
            "linecolor": "white",
            "showbackground": true,
            "ticks": "",
            "zerolinecolor": "white"
           },
           "yaxis": {
            "backgroundcolor": "#E5ECF6",
            "gridcolor": "white",
            "gridwidth": 2,
            "linecolor": "white",
            "showbackground": true,
            "ticks": "",
            "zerolinecolor": "white"
           },
           "zaxis": {
            "backgroundcolor": "#E5ECF6",
            "gridcolor": "white",
            "gridwidth": 2,
            "linecolor": "white",
            "showbackground": true,
            "ticks": "",
            "zerolinecolor": "white"
           }
          },
          "shapedefaults": {
           "line": {
            "color": "#2a3f5f"
           }
          },
          "ternary": {
           "aaxis": {
            "gridcolor": "white",
            "linecolor": "white",
            "ticks": ""
           },
           "baxis": {
            "gridcolor": "white",
            "linecolor": "white",
            "ticks": ""
           },
           "bgcolor": "#E5ECF6",
           "caxis": {
            "gridcolor": "white",
            "linecolor": "white",
            "ticks": ""
           }
          },
          "title": {
           "x": 0.05
          },
          "xaxis": {
           "automargin": true,
           "gridcolor": "white",
           "linecolor": "white",
           "ticks": "",
           "title": {
            "standoff": 15
           },
           "zerolinecolor": "white",
           "zerolinewidth": 2
          },
          "yaxis": {
           "automargin": true,
           "gridcolor": "white",
           "linecolor": "white",
           "ticks": "",
           "title": {
            "standoff": 15
           },
           "zerolinecolor": "white",
           "zerolinewidth": 2
          }
         }
        },
        "title": {
         "text": "Average Percent Composition of CTs Across Variance Levels"
        },
        "xaxis": {
         "anchor": "y",
         "domain": [
          0,
          1
         ],
         "title": {
          "text": "Variance"
         }
        },
        "yaxis": {
         "anchor": "x",
         "domain": [
          0,
          1
         ],
         "title": {
          "text": "Average Percent Composition"
         }
        }
       }
      },
      "text/html": [
       "<div>                            <div id=\"85283bc4-7469-47f1-b15c-8f440b3f45b2\" class=\"plotly-graph-div\" style=\"height:525px; width:100%;\"></div>            <script type=\"text/javascript\">                require([\"plotly\"], function(Plotly) {                    window.PLOTLYENV=window.PLOTLYENV || {};                                    if (document.getElementById(\"85283bc4-7469-47f1-b15c-8f440b3f45b2\")) {                    Plotly.newPlot(                        \"85283bc4-7469-47f1-b15c-8f440b3f45b2\",                        [{\"hovertemplate\":\"index=Excitatory neurons\\u003cbr\\u003evariable=%{x}\\u003cbr\\u003evalue=%{y}\\u003cextra\\u003e\\u003c\\u002fextra\\u003e\",\"legendgroup\":\"Excitatory neurons\",\"line\":{\"color\":\"#636efa\",\"dash\":\"solid\"},\"marker\":{\"symbol\":\"circle\"},\"mode\":\"lines\",\"name\":\"Excitatory neurons\",\"orientation\":\"v\",\"showlegend\":true,\"x\":[\"0\",\"0.0001\",\"0.0005\",\"0.00075\",\"0.001\",\"0.0015\",\"0.002\",\"0.005\",\"0.01\",\"0.05\",\"0.075\",\"0.1\",\"0.2\"],\"xaxis\":\"x\",\"y\":[0.5000133333333333,0.5001533333333333,0.5001733333333334,0.50022,0.5001666666666666,0.49993333333333334,0.5000066666666667,0.4998066666666667,0.5000533333333333,0.49718,0.49854,0.5091733333333334,0.49731333333333333],\"yaxis\":\"y\",\"type\":\"scatter\"},{\"hovertemplate\":\"index=Oligodendrocyte precursor cells\\u003cbr\\u003evariable=%{x}\\u003cbr\\u003evalue=%{y}\\u003cextra\\u003e\\u003c\\u002fextra\\u003e\",\"legendgroup\":\"Oligodendrocyte precursor cells\",\"line\":{\"color\":\"#EF553B\",\"dash\":\"solid\"},\"marker\":{\"symbol\":\"circle\"},\"mode\":\"lines\",\"name\":\"Oligodendrocyte precursor cells\",\"orientation\":\"v\",\"showlegend\":true,\"x\":[\"0\",\"0.0001\",\"0.0005\",\"0.00075\",\"0.001\",\"0.0015\",\"0.002\",\"0.005\",\"0.01\",\"0.05\",\"0.075\",\"0.1\",\"0.2\"],\"xaxis\":\"x\",\"y\":[0.05004666666666667,0.04996,0.05006,0.04994666666666667,0.049806666666666666,0.04994666666666667,0.049973333333333335,0.05002,0.050146666666666666,0.04938666666666667,0.05228,0.04854666666666667,0.054553333333333336],\"yaxis\":\"y\",\"type\":\"scatter\"},{\"hovertemplate\":\"index=Microglial cells\\u003cbr\\u003evariable=%{x}\\u003cbr\\u003evalue=%{y}\\u003cextra\\u003e\\u003c\\u002fextra\\u003e\",\"legendgroup\":\"Microglial cells\",\"line\":{\"color\":\"#00cc96\",\"dash\":\"solid\"},\"marker\":{\"symbol\":\"circle\"},\"mode\":\"lines\",\"name\":\"Microglial cells\",\"orientation\":\"v\",\"showlegend\":true,\"x\":[\"0\",\"0.0001\",\"0.0005\",\"0.00075\",\"0.001\",\"0.0015\",\"0.002\",\"0.005\",\"0.01\",\"0.05\",\"0.075\",\"0.1\",\"0.2\"],\"xaxis\":\"x\",\"y\":[0.04986,0.05008666666666667,0.049806666666666666,0.049973333333333335,0.050026666666666664,0.05016,0.04986666666666666,0.050146666666666666,0.04994666666666667,0.051513333333333335,0.05088,0.04892,0.05874],\"yaxis\":\"y\",\"type\":\"scatter\"},{\"hovertemplate\":\"index=Oligodendrocytes\\u003cbr\\u003evariable=%{x}\\u003cbr\\u003evalue=%{y}\\u003cextra\\u003e\\u003c\\u002fextra\\u003e\",\"legendgroup\":\"Oligodendrocytes\",\"line\":{\"color\":\"#ab63fa\",\"dash\":\"solid\"},\"marker\":{\"symbol\":\"circle\"},\"mode\":\"lines\",\"name\":\"Oligodendrocytes\",\"orientation\":\"v\",\"showlegend\":true,\"x\":[\"0\",\"0.0001\",\"0.0005\",\"0.00075\",\"0.001\",\"0.0015\",\"0.002\",\"0.005\",\"0.01\",\"0.05\",\"0.075\",\"0.1\",\"0.2\"],\"xaxis\":\"x\",\"y\":[0.05004,0.04991333333333333,0.04985333333333333,0.04994666666666667,0.050153333333333334,0.05014,0.05025333333333333,0.04998,0.049986666666666665,0.049433333333333336,0.05077333333333333,0.048113333333333334,0.05196666666666667],\"yaxis\":\"y\",\"type\":\"scatter\"},{\"hovertemplate\":\"index=Astrocytes\\u003cbr\\u003evariable=%{x}\\u003cbr\\u003evalue=%{y}\\u003cextra\\u003e\\u003c\\u002fextra\\u003e\",\"legendgroup\":\"Astrocytes\",\"line\":{\"color\":\"#FFA15A\",\"dash\":\"solid\"},\"marker\":{\"symbol\":\"circle\"},\"mode\":\"lines\",\"name\":\"Astrocytes\",\"orientation\":\"v\",\"showlegend\":true,\"x\":[\"0\",\"0.0001\",\"0.0005\",\"0.00075\",\"0.001\",\"0.0015\",\"0.002\",\"0.005\",\"0.01\",\"0.05\",\"0.075\",\"0.1\",\"0.2\"],\"xaxis\":\"x\",\"y\":[0.05005333333333333,0.049986666666666665,0.049846666666666664,0.04988,0.04982,0.049833333333333334,0.049966666666666666,0.05003333333333333,0.049846666666666664,0.050453333333333336,0.04888,0.050026666666666664,0.045706666666666666],\"yaxis\":\"y\",\"type\":\"scatter\"},{\"hovertemplate\":\"index=Inhibitory neurons\\u003cbr\\u003evariable=%{x}\\u003cbr\\u003evalue=%{y}\\u003cextra\\u003e\\u003c\\u002fextra\\u003e\",\"legendgroup\":\"Inhibitory neurons\",\"line\":{\"color\":\"#19d3f3\",\"dash\":\"solid\"},\"marker\":{\"symbol\":\"circle\"},\"mode\":\"lines\",\"name\":\"Inhibitory neurons\",\"orientation\":\"v\",\"showlegend\":true,\"x\":[\"0\",\"0.0001\",\"0.0005\",\"0.00075\",\"0.001\",\"0.0015\",\"0.002\",\"0.005\",\"0.01\",\"0.05\",\"0.075\",\"0.1\",\"0.2\"],\"xaxis\":\"x\",\"y\":[0.2999866666666667,0.2999,0.30026,0.3000333333333333,0.30002666666666666,0.2999866666666667,0.29993333333333333,0.30001333333333335,0.30002,0.3020333333333333,0.29864666666666667,0.29522,0.29172],\"yaxis\":\"y\",\"type\":\"scatter\"}],                        {\"template\":{\"data\":{\"histogram2dcontour\":[{\"type\":\"histogram2dcontour\",\"colorbar\":{\"outlinewidth\":0,\"ticks\":\"\"},\"colorscale\":[[0.0,\"#0d0887\"],[0.1111111111111111,\"#46039f\"],[0.2222222222222222,\"#7201a8\"],[0.3333333333333333,\"#9c179e\"],[0.4444444444444444,\"#bd3786\"],[0.5555555555555556,\"#d8576b\"],[0.6666666666666666,\"#ed7953\"],[0.7777777777777778,\"#fb9f3a\"],[0.8888888888888888,\"#fdca26\"],[1.0,\"#f0f921\"]]}],\"choropleth\":[{\"type\":\"choropleth\",\"colorbar\":{\"outlinewidth\":0,\"ticks\":\"\"}}],\"histogram2d\":[{\"type\":\"histogram2d\",\"colorbar\":{\"outlinewidth\":0,\"ticks\":\"\"},\"colorscale\":[[0.0,\"#0d0887\"],[0.1111111111111111,\"#46039f\"],[0.2222222222222222,\"#7201a8\"],[0.3333333333333333,\"#9c179e\"],[0.4444444444444444,\"#bd3786\"],[0.5555555555555556,\"#d8576b\"],[0.6666666666666666,\"#ed7953\"],[0.7777777777777778,\"#fb9f3a\"],[0.8888888888888888,\"#fdca26\"],[1.0,\"#f0f921\"]]}],\"heatmap\":[{\"type\":\"heatmap\",\"colorbar\":{\"outlinewidth\":0,\"ticks\":\"\"},\"colorscale\":[[0.0,\"#0d0887\"],[0.1111111111111111,\"#46039f\"],[0.2222222222222222,\"#7201a8\"],[0.3333333333333333,\"#9c179e\"],[0.4444444444444444,\"#bd3786\"],[0.5555555555555556,\"#d8576b\"],[0.6666666666666666,\"#ed7953\"],[0.7777777777777778,\"#fb9f3a\"],[0.8888888888888888,\"#fdca26\"],[1.0,\"#f0f921\"]]}],\"heatmapgl\":[{\"type\":\"heatmapgl\",\"colorbar\":{\"outlinewidth\":0,\"ticks\":\"\"},\"colorscale\":[[0.0,\"#0d0887\"],[0.1111111111111111,\"#46039f\"],[0.2222222222222222,\"#7201a8\"],[0.3333333333333333,\"#9c179e\"],[0.4444444444444444,\"#bd3786\"],[0.5555555555555556,\"#d8576b\"],[0.6666666666666666,\"#ed7953\"],[0.7777777777777778,\"#fb9f3a\"],[0.8888888888888888,\"#fdca26\"],[1.0,\"#f0f921\"]]}],\"contourcarpet\":[{\"type\":\"contourcarpet\",\"colorbar\":{\"outlinewidth\":0,\"ticks\":\"\"}}],\"contour\":[{\"type\":\"contour\",\"colorbar\":{\"outlinewidth\":0,\"ticks\":\"\"},\"colorscale\":[[0.0,\"#0d0887\"],[0.1111111111111111,\"#46039f\"],[0.2222222222222222,\"#7201a8\"],[0.3333333333333333,\"#9c179e\"],[0.4444444444444444,\"#bd3786\"],[0.5555555555555556,\"#d8576b\"],[0.6666666666666666,\"#ed7953\"],[0.7777777777777778,\"#fb9f3a\"],[0.8888888888888888,\"#fdca26\"],[1.0,\"#f0f921\"]]}],\"surface\":[{\"type\":\"surface\",\"colorbar\":{\"outlinewidth\":0,\"ticks\":\"\"},\"colorscale\":[[0.0,\"#0d0887\"],[0.1111111111111111,\"#46039f\"],[0.2222222222222222,\"#7201a8\"],[0.3333333333333333,\"#9c179e\"],[0.4444444444444444,\"#bd3786\"],[0.5555555555555556,\"#d8576b\"],[0.6666666666666666,\"#ed7953\"],[0.7777777777777778,\"#fb9f3a\"],[0.8888888888888888,\"#fdca26\"],[1.0,\"#f0f921\"]]}],\"mesh3d\":[{\"type\":\"mesh3d\",\"colorbar\":{\"outlinewidth\":0,\"ticks\":\"\"}}],\"scatter\":[{\"fillpattern\":{\"fillmode\":\"overlay\",\"size\":10,\"solidity\":0.2},\"type\":\"scatter\"}],\"parcoords\":[{\"type\":\"parcoords\",\"line\":{\"colorbar\":{\"outlinewidth\":0,\"ticks\":\"\"}}}],\"scatterpolargl\":[{\"type\":\"scatterpolargl\",\"marker\":{\"colorbar\":{\"outlinewidth\":0,\"ticks\":\"\"}}}],\"bar\":[{\"error_x\":{\"color\":\"#2a3f5f\"},\"error_y\":{\"color\":\"#2a3f5f\"},\"marker\":{\"line\":{\"color\":\"#E5ECF6\",\"width\":0.5},\"pattern\":{\"fillmode\":\"overlay\",\"size\":10,\"solidity\":0.2}},\"type\":\"bar\"}],\"scattergeo\":[{\"type\":\"scattergeo\",\"marker\":{\"colorbar\":{\"outlinewidth\":0,\"ticks\":\"\"}}}],\"scatterpolar\":[{\"type\":\"scatterpolar\",\"marker\":{\"colorbar\":{\"outlinewidth\":0,\"ticks\":\"\"}}}],\"histogram\":[{\"marker\":{\"pattern\":{\"fillmode\":\"overlay\",\"size\":10,\"solidity\":0.2}},\"type\":\"histogram\"}],\"scattergl\":[{\"type\":\"scattergl\",\"marker\":{\"colorbar\":{\"outlinewidth\":0,\"ticks\":\"\"}}}],\"scatter3d\":[{\"type\":\"scatter3d\",\"line\":{\"colorbar\":{\"outlinewidth\":0,\"ticks\":\"\"}},\"marker\":{\"colorbar\":{\"outlinewidth\":0,\"ticks\":\"\"}}}],\"scattermapbox\":[{\"type\":\"scattermapbox\",\"marker\":{\"colorbar\":{\"outlinewidth\":0,\"ticks\":\"\"}}}],\"scatterternary\":[{\"type\":\"scatterternary\",\"marker\":{\"colorbar\":{\"outlinewidth\":0,\"ticks\":\"\"}}}],\"scattercarpet\":[{\"type\":\"scattercarpet\",\"marker\":{\"colorbar\":{\"outlinewidth\":0,\"ticks\":\"\"}}}],\"carpet\":[{\"aaxis\":{\"endlinecolor\":\"#2a3f5f\",\"gridcolor\":\"white\",\"linecolor\":\"white\",\"minorgridcolor\":\"white\",\"startlinecolor\":\"#2a3f5f\"},\"baxis\":{\"endlinecolor\":\"#2a3f5f\",\"gridcolor\":\"white\",\"linecolor\":\"white\",\"minorgridcolor\":\"white\",\"startlinecolor\":\"#2a3f5f\"},\"type\":\"carpet\"}],\"table\":[{\"cells\":{\"fill\":{\"color\":\"#EBF0F8\"},\"line\":{\"color\":\"white\"}},\"header\":{\"fill\":{\"color\":\"#C8D4E3\"},\"line\":{\"color\":\"white\"}},\"type\":\"table\"}],\"barpolar\":[{\"marker\":{\"line\":{\"color\":\"#E5ECF6\",\"width\":0.5},\"pattern\":{\"fillmode\":\"overlay\",\"size\":10,\"solidity\":0.2}},\"type\":\"barpolar\"}],\"pie\":[{\"automargin\":true,\"type\":\"pie\"}]},\"layout\":{\"autotypenumbers\":\"strict\",\"colorway\":[\"#636efa\",\"#EF553B\",\"#00cc96\",\"#ab63fa\",\"#FFA15A\",\"#19d3f3\",\"#FF6692\",\"#B6E880\",\"#FF97FF\",\"#FECB52\"],\"font\":{\"color\":\"#2a3f5f\"},\"hovermode\":\"closest\",\"hoverlabel\":{\"align\":\"left\"},\"paper_bgcolor\":\"white\",\"plot_bgcolor\":\"#E5ECF6\",\"polar\":{\"bgcolor\":\"#E5ECF6\",\"angularaxis\":{\"gridcolor\":\"white\",\"linecolor\":\"white\",\"ticks\":\"\"},\"radialaxis\":{\"gridcolor\":\"white\",\"linecolor\":\"white\",\"ticks\":\"\"}},\"ternary\":{\"bgcolor\":\"#E5ECF6\",\"aaxis\":{\"gridcolor\":\"white\",\"linecolor\":\"white\",\"ticks\":\"\"},\"baxis\":{\"gridcolor\":\"white\",\"linecolor\":\"white\",\"ticks\":\"\"},\"caxis\":{\"gridcolor\":\"white\",\"linecolor\":\"white\",\"ticks\":\"\"}},\"coloraxis\":{\"colorbar\":{\"outlinewidth\":0,\"ticks\":\"\"}},\"colorscale\":{\"sequential\":[[0.0,\"#0d0887\"],[0.1111111111111111,\"#46039f\"],[0.2222222222222222,\"#7201a8\"],[0.3333333333333333,\"#9c179e\"],[0.4444444444444444,\"#bd3786\"],[0.5555555555555556,\"#d8576b\"],[0.6666666666666666,\"#ed7953\"],[0.7777777777777778,\"#fb9f3a\"],[0.8888888888888888,\"#fdca26\"],[1.0,\"#f0f921\"]],\"sequentialminus\":[[0.0,\"#0d0887\"],[0.1111111111111111,\"#46039f\"],[0.2222222222222222,\"#7201a8\"],[0.3333333333333333,\"#9c179e\"],[0.4444444444444444,\"#bd3786\"],[0.5555555555555556,\"#d8576b\"],[0.6666666666666666,\"#ed7953\"],[0.7777777777777778,\"#fb9f3a\"],[0.8888888888888888,\"#fdca26\"],[1.0,\"#f0f921\"]],\"diverging\":[[0,\"#8e0152\"],[0.1,\"#c51b7d\"],[0.2,\"#de77ae\"],[0.3,\"#f1b6da\"],[0.4,\"#fde0ef\"],[0.5,\"#f7f7f7\"],[0.6,\"#e6f5d0\"],[0.7,\"#b8e186\"],[0.8,\"#7fbc41\"],[0.9,\"#4d9221\"],[1,\"#276419\"]]},\"xaxis\":{\"gridcolor\":\"white\",\"linecolor\":\"white\",\"ticks\":\"\",\"title\":{\"standoff\":15},\"zerolinecolor\":\"white\",\"automargin\":true,\"zerolinewidth\":2},\"yaxis\":{\"gridcolor\":\"white\",\"linecolor\":\"white\",\"ticks\":\"\",\"title\":{\"standoff\":15},\"zerolinecolor\":\"white\",\"automargin\":true,\"zerolinewidth\":2},\"scene\":{\"xaxis\":{\"backgroundcolor\":\"#E5ECF6\",\"gridcolor\":\"white\",\"linecolor\":\"white\",\"showbackground\":true,\"ticks\":\"\",\"zerolinecolor\":\"white\",\"gridwidth\":2},\"yaxis\":{\"backgroundcolor\":\"#E5ECF6\",\"gridcolor\":\"white\",\"linecolor\":\"white\",\"showbackground\":true,\"ticks\":\"\",\"zerolinecolor\":\"white\",\"gridwidth\":2},\"zaxis\":{\"backgroundcolor\":\"#E5ECF6\",\"gridcolor\":\"white\",\"linecolor\":\"white\",\"showbackground\":true,\"ticks\":\"\",\"zerolinecolor\":\"white\",\"gridwidth\":2}},\"shapedefaults\":{\"line\":{\"color\":\"#2a3f5f\"}},\"annotationdefaults\":{\"arrowcolor\":\"#2a3f5f\",\"arrowhead\":0,\"arrowwidth\":1},\"geo\":{\"bgcolor\":\"white\",\"landcolor\":\"#E5ECF6\",\"subunitcolor\":\"white\",\"showland\":true,\"showlakes\":true,\"lakecolor\":\"white\"},\"title\":{\"x\":0.05},\"mapbox\":{\"style\":\"light\"}}},\"xaxis\":{\"anchor\":\"y\",\"domain\":[0.0,1.0],\"title\":{\"text\":\"Variance\"}},\"yaxis\":{\"anchor\":\"x\",\"domain\":[0.0,1.0],\"title\":{\"text\":\"Average Percent Composition\"}},\"legend\":{\"title\":{\"text\":\"Cell Types (CTs)\"},\"tracegroupgap\":0},\"margin\":{\"t\":60},\"title\":{\"text\":\"Average Percent Composition of CTs Across Variance Levels\"}},                        {\"responsive\": true}                    ).then(function(){\n",
       "                            \n",
       "var gd = document.getElementById('85283bc4-7469-47f1-b15c-8f440b3f45b2');\n",
       "var x = new MutationObserver(function (mutations, observer) {{\n",
       "        var display = window.getComputedStyle(gd).display;\n",
       "        if (!display || display === 'none') {{\n",
       "            console.log([gd, 'removed!']);\n",
       "            Plotly.purge(gd);\n",
       "            observer.disconnect();\n",
       "        }}\n",
       "}});\n",
       "\n",
       "// Listen for the removal of the full notebook cells\n",
       "var notebookContainer = gd.closest('#notebook-container');\n",
       "if (notebookContainer) {{\n",
       "    x.observe(notebookContainer, {childList: true});\n",
       "}}\n",
       "\n",
       "// Listen for the clearing of the current output cell\n",
       "var outputEl = gd.closest('.output');\n",
       "if (outputEl) {{\n",
       "    x.observe(outputEl, {childList: true});\n",
       "}}\n",
       "\n",
       "                        })                };                });            </script>        </div>"
      ]
     },
     "metadata": {},
     "output_type": "display_data"
    }
   ],
   "source": [
    "fig = px.line(melted, x = 'variable', y = 'value', color = 'index')\n",
    "\n",
    "fig.update_layout(title = \"Average Percent Composition of CTs Across Variance Levels\")\n",
    "\n",
    "# Update x-axis and y-axis labels\n",
    "fig.update_xaxes(title_text='Variance')\n",
    "fig.update_yaxes(title_text='Average Percent Composition')\n",
    "fig.update_layout(legend_title_text='Cell Types (CTs)')"
   ]
  },
  {
   "cell_type": "code",
   "execution_count": 18,
   "metadata": {},
   "outputs": [
    {
     "data": {
      "text/html": [
       "<div>\n",
       "<style scoped>\n",
       "    .dataframe tbody tr th:only-of-type {\n",
       "        vertical-align: middle;\n",
       "    }\n",
       "\n",
       "    .dataframe tbody tr th {\n",
       "        vertical-align: top;\n",
       "    }\n",
       "\n",
       "    .dataframe thead th {\n",
       "        text-align: right;\n",
       "    }\n",
       "</style>\n",
       "<table border=\"1\" class=\"dataframe\">\n",
       "  <thead>\n",
       "    <tr style=\"text-align: right;\">\n",
       "      <th></th>\n",
       "      <th>0.07</th>\n",
       "      <th>0.35</th>\n",
       "      <th>0.065</th>\n",
       "      <th>10</th>\n",
       "      <th>10000</th>\n",
       "      <th>1000</th>\n",
       "      <th>0.095</th>\n",
       "      <th>0.45</th>\n",
       "      <th>0.015</th>\n",
       "      <th>0.04</th>\n",
       "      <th>...</th>\n",
       "      <th>0.06</th>\n",
       "      <th>0.02</th>\n",
       "      <th>0.75</th>\n",
       "      <th>0.08</th>\n",
       "      <th>0.025</th>\n",
       "      <th>0.2</th>\n",
       "      <th>1</th>\n",
       "      <th>0.5</th>\n",
       "      <th>0.05</th>\n",
       "      <th>0.055</th>\n",
       "    </tr>\n",
       "  </thead>\n",
       "  <tbody>\n",
       "    <tr>\n",
       "      <th>Astrocytes</th>\n",
       "      <td>0.073700</td>\n",
       "      <td>0.152780</td>\n",
       "      <td>0.096840</td>\n",
       "      <td>0.176760</td>\n",
       "      <td>0.166445</td>\n",
       "      <td>0.206030</td>\n",
       "      <td>0.093775</td>\n",
       "      <td>0.189370</td>\n",
       "      <td>0.056335</td>\n",
       "      <td>0.071690</td>\n",
       "      <td>...</td>\n",
       "      <td>0.09429</td>\n",
       "      <td>0.059885</td>\n",
       "      <td>0.153155</td>\n",
       "      <td>0.115065</td>\n",
       "      <td>0.061390</td>\n",
       "      <td>0.165680</td>\n",
       "      <td>0.188800</td>\n",
       "      <td>0.160290</td>\n",
       "      <td>0.08221</td>\n",
       "      <td>0.068580</td>\n",
       "    </tr>\n",
       "    <tr>\n",
       "      <th>Excitatory neurons</th>\n",
       "      <td>0.406930</td>\n",
       "      <td>0.188085</td>\n",
       "      <td>0.379615</td>\n",
       "      <td>0.089845</td>\n",
       "      <td>0.095245</td>\n",
       "      <td>0.116390</td>\n",
       "      <td>0.352960</td>\n",
       "      <td>0.179415</td>\n",
       "      <td>0.490765</td>\n",
       "      <td>0.439055</td>\n",
       "      <td>...</td>\n",
       "      <td>0.39265</td>\n",
       "      <td>0.471145</td>\n",
       "      <td>0.132975</td>\n",
       "      <td>0.369320</td>\n",
       "      <td>0.473685</td>\n",
       "      <td>0.272670</td>\n",
       "      <td>0.149410</td>\n",
       "      <td>0.183240</td>\n",
       "      <td>0.41874</td>\n",
       "      <td>0.410585</td>\n",
       "    </tr>\n",
       "    <tr>\n",
       "      <th>Inhibitory neurons</th>\n",
       "      <td>0.237460</td>\n",
       "      <td>0.161440</td>\n",
       "      <td>0.238065</td>\n",
       "      <td>0.152255</td>\n",
       "      <td>0.099670</td>\n",
       "      <td>0.126440</td>\n",
       "      <td>0.206215</td>\n",
       "      <td>0.151595</td>\n",
       "      <td>0.294075</td>\n",
       "      <td>0.249205</td>\n",
       "      <td>...</td>\n",
       "      <td>0.22733</td>\n",
       "      <td>0.285760</td>\n",
       "      <td>0.135025</td>\n",
       "      <td>0.206255</td>\n",
       "      <td>0.282665</td>\n",
       "      <td>0.145190</td>\n",
       "      <td>0.115665</td>\n",
       "      <td>0.124815</td>\n",
       "      <td>0.24400</td>\n",
       "      <td>0.238510</td>\n",
       "    </tr>\n",
       "    <tr>\n",
       "      <th>Microglial cells</th>\n",
       "      <td>0.080105</td>\n",
       "      <td>0.168760</td>\n",
       "      <td>0.081265</td>\n",
       "      <td>0.263675</td>\n",
       "      <td>0.161920</td>\n",
       "      <td>0.174455</td>\n",
       "      <td>0.117300</td>\n",
       "      <td>0.182995</td>\n",
       "      <td>0.054855</td>\n",
       "      <td>0.076060</td>\n",
       "      <td>...</td>\n",
       "      <td>0.09575</td>\n",
       "      <td>0.057745</td>\n",
       "      <td>0.167070</td>\n",
       "      <td>0.110965</td>\n",
       "      <td>0.065160</td>\n",
       "      <td>0.135215</td>\n",
       "      <td>0.194635</td>\n",
       "      <td>0.204610</td>\n",
       "      <td>0.07255</td>\n",
       "      <td>0.094080</td>\n",
       "    </tr>\n",
       "    <tr>\n",
       "      <th>Oligodendrocyte precursor cells</th>\n",
       "      <td>0.096720</td>\n",
       "      <td>0.162445</td>\n",
       "      <td>0.099210</td>\n",
       "      <td>0.164160</td>\n",
       "      <td>0.251700</td>\n",
       "      <td>0.214305</td>\n",
       "      <td>0.104060</td>\n",
       "      <td>0.133015</td>\n",
       "      <td>0.051885</td>\n",
       "      <td>0.070635</td>\n",
       "      <td>...</td>\n",
       "      <td>0.09285</td>\n",
       "      <td>0.066915</td>\n",
       "      <td>0.217545</td>\n",
       "      <td>0.124660</td>\n",
       "      <td>0.066080</td>\n",
       "      <td>0.166730</td>\n",
       "      <td>0.133495</td>\n",
       "      <td>0.180255</td>\n",
       "      <td>0.08811</td>\n",
       "      <td>0.114170</td>\n",
       "    </tr>\n",
       "    <tr>\n",
       "      <th>Oligodendrocytes</th>\n",
       "      <td>0.105085</td>\n",
       "      <td>0.166490</td>\n",
       "      <td>0.105005</td>\n",
       "      <td>0.153305</td>\n",
       "      <td>0.225020</td>\n",
       "      <td>0.162380</td>\n",
       "      <td>0.125690</td>\n",
       "      <td>0.163610</td>\n",
       "      <td>0.052085</td>\n",
       "      <td>0.093355</td>\n",
       "      <td>...</td>\n",
       "      <td>0.09713</td>\n",
       "      <td>0.058550</td>\n",
       "      <td>0.194230</td>\n",
       "      <td>0.073735</td>\n",
       "      <td>0.051020</td>\n",
       "      <td>0.114515</td>\n",
       "      <td>0.217995</td>\n",
       "      <td>0.146790</td>\n",
       "      <td>0.09439</td>\n",
       "      <td>0.074075</td>\n",
       "    </tr>\n",
       "  </tbody>\n",
       "</table>\n",
       "<p>6 rows × 35 columns</p>\n",
       "</div>"
      ],
      "text/plain": [
       "                                     0.07      0.35     0.065        10  \\\n",
       "Astrocytes                       0.073700  0.152780  0.096840  0.176760   \n",
       "Excitatory neurons               0.406930  0.188085  0.379615  0.089845   \n",
       "Inhibitory neurons               0.237460  0.161440  0.238065  0.152255   \n",
       "Microglial cells                 0.080105  0.168760  0.081265  0.263675   \n",
       "Oligodendrocyte precursor cells  0.096720  0.162445  0.099210  0.164160   \n",
       "Oligodendrocytes                 0.105085  0.166490  0.105005  0.153305   \n",
       "\n",
       "                                    10000      1000     0.095      0.45  \\\n",
       "Astrocytes                       0.166445  0.206030  0.093775  0.189370   \n",
       "Excitatory neurons               0.095245  0.116390  0.352960  0.179415   \n",
       "Inhibitory neurons               0.099670  0.126440  0.206215  0.151595   \n",
       "Microglial cells                 0.161920  0.174455  0.117300  0.182995   \n",
       "Oligodendrocyte precursor cells  0.251700  0.214305  0.104060  0.133015   \n",
       "Oligodendrocytes                 0.225020  0.162380  0.125690  0.163610   \n",
       "\n",
       "                                    0.015      0.04  ...     0.06      0.02  \\\n",
       "Astrocytes                       0.056335  0.071690  ...  0.09429  0.059885   \n",
       "Excitatory neurons               0.490765  0.439055  ...  0.39265  0.471145   \n",
       "Inhibitory neurons               0.294075  0.249205  ...  0.22733  0.285760   \n",
       "Microglial cells                 0.054855  0.076060  ...  0.09575  0.057745   \n",
       "Oligodendrocyte precursor cells  0.051885  0.070635  ...  0.09285  0.066915   \n",
       "Oligodendrocytes                 0.052085  0.093355  ...  0.09713  0.058550   \n",
       "\n",
       "                                     0.75      0.08     0.025       0.2  \\\n",
       "Astrocytes                       0.153155  0.115065  0.061390  0.165680   \n",
       "Excitatory neurons               0.132975  0.369320  0.473685  0.272670   \n",
       "Inhibitory neurons               0.135025  0.206255  0.282665  0.145190   \n",
       "Microglial cells                 0.167070  0.110965  0.065160  0.135215   \n",
       "Oligodendrocyte precursor cells  0.217545  0.124660  0.066080  0.166730   \n",
       "Oligodendrocytes                 0.194230  0.073735  0.051020  0.114515   \n",
       "\n",
       "                                        1       0.5     0.05     0.055  \n",
       "Astrocytes                       0.188800  0.160290  0.08221  0.068580  \n",
       "Excitatory neurons               0.149410  0.183240  0.41874  0.410585  \n",
       "Inhibitory neurons               0.115665  0.124815  0.24400  0.238510  \n",
       "Microglial cells                 0.194635  0.204610  0.07255  0.094080  \n",
       "Oligodendrocyte precursor cells  0.133495  0.180255  0.08811  0.114170  \n",
       "Oligodendrocytes                 0.217995  0.146790  0.09439  0.074075  \n",
       "\n",
       "[6 rows x 35 columns]"
      ]
     },
     "execution_count": 18,
     "metadata": {},
     "output_type": "execute_result"
    }
   ],
   "source": [
    "merged_df"
   ]
  },
  {
   "cell_type": "code",
   "execution_count": null,
   "metadata": {},
   "outputs": [],
   "source": []
  }
 ],
 "metadata": {
  "kernelspec": {
   "display_name": "PseudoPipelineEnv",
   "language": "python",
   "name": "python3"
  },
  "language_info": {
   "codemirror_mode": {
    "name": "ipython",
    "version": 3
   },
   "file_extension": ".py",
   "mimetype": "text/x-python",
   "name": "python",
   "nbconvert_exporter": "python",
   "pygments_lexer": "ipython3",
   "version": "3.9.13"
  },
  "orig_nbformat": 4
 },
 "nbformat": 4,
 "nbformat_minor": 2
}
