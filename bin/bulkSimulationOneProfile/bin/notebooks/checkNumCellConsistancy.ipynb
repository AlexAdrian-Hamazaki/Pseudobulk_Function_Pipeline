{
 "cells": [
  {
   "cell_type": "code",
   "execution_count": 1,
   "metadata": {},
   "outputs": [],
   "source": [
    "# This script is for making sure that the average number of cells sampled across a variance level converges to the expected baseline proportion"
   ]
  },
  {
   "cell_type": "code",
   "execution_count": 54,
   "metadata": {},
   "outputs": [],
   "source": [
    "import os\n",
    "import pandas as pd\n",
    "from functools import reduce\n",
    "import re\n",
    "import json"
   ]
  },
  {
   "cell_type": "code",
   "execution_count": 28,
   "metadata": {},
   "outputs": [],
   "source": [
    "path = \"/space/grp/aadrian/Pseudobulk_Function_Pipeline_HighRes/bin/bulkSimulationOneProfile/data/simulations/0/pbmc_sc_with_metadata_cpm_pc_cell_type_profiles.csv\"\n",
    "proportions_json_path= \"/space/grp/aadrian/Pseudobulk_Function_Pipeline_HighRes/bin/bulkSimulationOneProfile/cell_type_proportions.json\""
   ]
  },
  {
   "cell_type": "code",
   "execution_count": 29,
   "metadata": {},
   "outputs": [
    {
     "name": "stdout",
     "output_type": "stream",
     "text": [
      "{'pbmc_sc_with_metadata_cpm_pc_cell_type_profiles.csv': {'B-cells': 0.05, 'Dendritic cells': 0.05, 'Macrophages': 0.2, 'Monocytes': 0.05, 'Nk-cells': 0.1, 'Platelets': 0.05, 'T-cells': 0.5}, 'brain_sc_with_metadata_cpm_pc_cell_type_profiles.csv': {'Astrocytes': 0.05, 'Excitatory neurons': 0.5, 'Inhibitory neurons': 0.3, 'Microglial cells': 0.05, 'Oligodendrocyte precursor cells': 0.05, 'Oligodendrocytes': 0.05}}\n"
     ]
    }
   ],
   "source": [
    "def getBaselineProportion(CTProfile_name:str, proportions_json_path:json) -> dict:\n",
    "    \"\"\"Get the list of proper cell type baseline proportions depending on if we are using brain or pbmc\n",
    "\n",
    "    Args:\n",
    "        CTProfile_name (str): name of the dataframe of cell type profiles\n",
    "        proportions_json (json): json that contains baseline cell type profiles for brian or pbmc\n",
    "\n",
    "    Returns:\n",
    "        dict: A dict where keys are cell types, and values are their expected baseline proportions\n",
    "    \"\"\"\n",
    "    \n",
    "    # open json file\n",
    "    with open(proportions_json_path, 'r') as json_file:\n",
    "        dict_propostions_json = json.load(json_file)\n",
    "    \n",
    "        print(dict_propostions_json)\n",
    "    \n",
    "    # Get the correct key\n",
    "    for key in dict_propostions_json.keys():\n",
    "        if key == CTProfile_name:\n",
    "            correct_key = key\n",
    "    # If no key was found,raise error\n",
    "    if not correct_key:\n",
    "        raise ValueError(\"Key not found\")\n",
    "    \n",
    "    # Return the proportions of cell types based on our key (which is a tissue type)\n",
    "    return dict_propostions_json[correct_key]\n",
    "baseline_proportion = getBaselineProportion(CTProfile_name=\"brain_sc_with_metadata_cpm_pc_cell_type_profiles.csv\", proportions_json_path=proportions_json_path)\n",
    "\n",
    "    "
   ]
  },
  {
   "cell_type": "code",
   "execution_count": 88,
   "metadata": {},
   "outputs": [
    {
     "data": {
      "text/plain": [
       "['pbmc_sc_with_metadata_cpm_pc_cell_type_profiles_n_sim_81_profiles.csv',\n",
       " 'pbmc_sc_with_metadata_cpm_pc_cell_type_profiles_n_sim_6_profiles.csv',\n",
       " 'pbmc_sc_with_metadata_cpm_pc_cell_type_profiles_n_sim_74_profiles.csv',\n",
       " 'pbmc_sc_with_metadata_cpm_pc_cell_type_profiles_n_sim_27_profiles.csv',\n",
       " 'pbmc_sc_with_metadata_cpm_pc_cell_type_profiles_n_sim_75_profiles.csv',\n",
       " 'pbmc_sc_with_metadata_cpm_pc_cell_type_profiles_n_sim_26_profiles.csv',\n",
       " 'pbmc_sc_with_metadata_cpm_pc_cell_type_profiles_n_sim_7_profiles.csv',\n",
       " 'pbmc_sc_with_metadata_cpm_pc_cell_type_profiles_n_sim_80_profiles.csv',\n",
       " 'pbmc_sc_with_metadata_cpm_pc_cell_type_profiles_n_sim_24_profiles.csv',\n",
       " 'pbmc_sc_with_metadata_cpm_pc_cell_type_profiles_n_sim_77_profiles.csv',\n",
       " 'pbmc_sc_with_metadata_cpm_pc_cell_type_profiles_n_sim_82_profiles.csv',\n",
       " 'pbmc_sc_with_metadata_cpm_pc_cell_type_profiles_n_sim_5_profiles.csv',\n",
       " 'pbmc_sc_with_metadata_cpm_pc_cell_type_profiles_n_sim_4_profiles.csv',\n",
       " 'pbmc_sc_with_metadata_cpm_pc_cell_type_profiles_n_sim_83_profiles.csv',\n",
       " 'pbmc_sc_with_metadata_cpm_pc_cell_type_profiles_n_sim_25_profiles.csv',\n",
       " 'pbmc_sc_with_metadata_cpm_pc_cell_type_profiles_n_sim_76_profiles.csv',\n",
       " 'pbmc_sc_with_metadata_cpm_pc_cell_type_profiles_n_sim_59_profiles.csv',\n",
       " 'pbmc_sc_with_metadata_cpm_pc_cell_type_profiles_n_sim_1_profiles.csv',\n",
       " 'pbmc_sc_with_metadata_cpm_pc_cell_type_profiles_n_sim_86_profiles.csv',\n",
       " 'pbmc_sc_with_metadata_cpm_pc_cell_type_profiles_n_sim_73_profiles.csv',\n",
       " 'pbmc_sc_with_metadata_cpm_pc_cell_type_profiles_n_sim_20_profiles.csv',\n",
       " 'pbmc_sc_with_metadata_cpm_pc_cell_type_profiles_n_sim_72_profiles.csv',\n",
       " 'pbmc_sc_with_metadata_cpm_pc_cell_type_profiles_n_sim_21_profiles.csv',\n",
       " 'pbmc_sc_with_metadata_cpm_pc_cell_type_profiles_n_sim_87_profiles.csv',\n",
       " 'pbmc_sc_with_metadata_cpm_pc_cell_type_profiles_n_sim_0_profiles.csv',\n",
       " 'pbmc_sc_with_metadata_cpm_pc_cell_type_profiles_n_sim_58_profiles.csv',\n",
       " 'pbmc_sc_with_metadata_cpm_pc_cell_type_profiles_n_sim_23_profiles.csv',\n",
       " 'pbmc_sc_with_metadata_cpm_pc_cell_type_profiles_n_sim_70_profiles.csv',\n",
       " 'pbmc_sc_with_metadata_cpm_pc_cell_type_profiles_n_sim_2_profiles.csv',\n",
       " 'pbmc_sc_with_metadata_cpm_pc_cell_type_profiles_n_sim_85_profiles.csv',\n",
       " 'pbmc_sc_with_metadata_cpm_pc_cell_type_profiles_n_sim_84_profiles.csv',\n",
       " 'pbmc_sc_with_metadata_cpm_pc_cell_type_profiles_n_sim_3_profiles.csv',\n",
       " 'pbmc_sc_with_metadata_cpm_pc_cell_type_profiles_n_sim_22_profiles.csv',\n",
       " 'pbmc_sc_with_metadata_cpm_pc_cell_type_profiles_n_sim_71_profiles.csv',\n",
       " 'pbmc_sc_with_metadata_cpm_pc_cell_type_profiles_n_sim_8_profiles.csv',\n",
       " 'pbmc_sc_with_metadata_cpm_pc_cell_type_profiles_n_sim_50_profiles.csv',\n",
       " 'pbmc_sc_with_metadata_cpm_pc_cell_type_profiles_n_sim_29_profiles.csv',\n",
       " 'pbmc_sc_with_metadata_cpm_pc_cell_type_profiles_n_sim_28_profiles.csv',\n",
       " 'pbmc_sc_with_metadata_cpm_pc_cell_type_profiles_n_sim_51_profiles.csv',\n",
       " 'pbmc_sc_with_metadata_cpm_pc_cell_type_profiles_n_sim_9_profiles.csv',\n",
       " 'pbmc_sc_with_metadata_cpm_pc_cell_type_profiles_n_sim_79_profiles.csv',\n",
       " 'pbmc_sc_with_metadata_cpm_pc_cell_type_profiles_n_sim_53_profiles.csv',\n",
       " 'pbmc_sc_with_metadata_cpm_pc_cell_type_profiles_n_sim_52_profiles.csv',\n",
       " 'pbmc_sc_with_metadata_cpm_pc_cell_type_profiles_n_sim_78_profiles.csv',\n",
       " 'pbmc_sc_with_metadata_cpm_pc_cell_type_profiles_n_sim_57_profiles.csv',\n",
       " 'pbmc_sc_with_metadata_cpm_pc_cell_type_profiles_n_sim_88_profiles.csv',\n",
       " 'pbmc_sc_with_metadata_cpm_pc_cell_type_profiles_n_sim_89_profiles.csv',\n",
       " 'pbmc_sc_with_metadata_cpm_pc_cell_type_profiles_n_sim_56_profiles.csv',\n",
       " 'pbmc_sc_with_metadata_cpm_pc_cell_type_profiles_n_sim_54_profiles.csv',\n",
       " 'pbmc_sc_with_metadata_cpm_pc_cell_type_profiles_n_sim_55_profiles.csv',\n",
       " 'pbmc_sc_with_metadata_cpm_pc_cell_type_profiles_n_sim_17_profiles.csv',\n",
       " 'pbmc_sc_with_metadata_cpm_pc_cell_type_profiles_n_sim_44_profiles.csv',\n",
       " 'pbmc_sc_with_metadata_cpm_pc_cell_type_profiles_n_sim_16_profiles.csv',\n",
       " 'pbmc_sc_with_metadata_cpm_pc_cell_type_profiles_n_sim_45_profiles.csv',\n",
       " 'pbmc_sc_with_metadata_cpm_pc_cell_type_profiles_n_sim_47_profiles.csv',\n",
       " 'pbmc_sc_with_metadata_cpm_pc_cell_type_profiles_n_sim_98_profiles.csv',\n",
       " 'pbmc_sc_with_metadata_cpm_pc_cell_type_profiles_n_sim_14_profiles.csv',\n",
       " 'pbmc_sc_with_metadata_cpm_pc_cell_type_profiles_n_sim_99_profiles.csv',\n",
       " 'pbmc_sc_with_metadata_cpm_pc_cell_type_profiles_n_sim_46_profiles.csv',\n",
       " 'pbmc_sc_with_metadata_cpm_pc_cell_type_profiles_n_sim_15_profiles.csv',\n",
       " 'pbmc_sc_with_metadata_cpm_pc_cell_type_profiles_n_sim_69_profiles.csv',\n",
       " 'pbmc_sc_with_metadata_cpm_pc_cell_type_profiles_n_sim_10_profiles.csv',\n",
       " 'pbmc_sc_with_metadata_cpm_pc_cell_type_profiles_n_sim_43_profiles.csv',\n",
       " 'pbmc_sc_with_metadata_cpm_pc_cell_type_profiles_n_sim_11_profiles.csv',\n",
       " 'pbmc_sc_with_metadata_cpm_pc_cell_type_profiles_n_sim_42_profiles.csv',\n",
       " 'pbmc_sc_with_metadata_cpm_pc_cell_type_profiles_n_sim_68_profiles.csv',\n",
       " 'pbmc_sc_with_metadata_cpm_pc_cell_type_profiles_n_sim_40_profiles.csv',\n",
       " 'pbmc_sc_with_metadata_cpm_pc_cell_type_profiles_n_sim_13_profiles.csv',\n",
       " 'pbmc_sc_with_metadata_cpm_pc_cell_type_profiles_n_sim_39_profiles.csv',\n",
       " 'pbmc_sc_with_metadata_cpm_pc_cell_type_profiles_n_sim_38_profiles.csv',\n",
       " 'pbmc_sc_with_metadata_cpm_pc_cell_type_profiles_n_sim_41_profiles.csv',\n",
       " 'pbmc_sc_with_metadata_cpm_pc_cell_type_profiles_n_sim_12_profiles.csv',\n",
       " 'pbmc_sc_with_metadata_cpm_pc_cell_type_profiles_n_sim_33_profiles.csv',\n",
       " 'pbmc_sc_with_metadata_cpm_pc_cell_type_profiles_n_sim_60_profiles.csv',\n",
       " 'pbmc_sc_with_metadata_cpm_pc_cell_type_profiles_n_sim_95_profiles.csv',\n",
       " 'pbmc_sc_with_metadata_cpm_pc_cell_type_profiles_n_sim_19_profiles.csv',\n",
       " 'pbmc_sc_with_metadata_cpm_pc_cell_type_profiles_n_sim_94_profiles.csv',\n",
       " 'pbmc_sc_with_metadata_cpm_pc_cell_type_profiles_n_sim_18_profiles.csv',\n",
       " 'pbmc_sc_with_metadata_cpm_pc_cell_type_profiles_n_sim_32_profiles.csv',\n",
       " 'pbmc_sc_with_metadata_cpm_pc_cell_type_profiles_n_sim_61_profiles.csv',\n",
       " 'pbmc_sc_with_metadata_cpm_pc_cell_type_profiles_n_sim_49_profiles.csv',\n",
       " 'pbmc_sc_with_metadata_cpm_pc_cell_type_profiles_n_sim_96_profiles.csv',\n",
       " 'pbmc_sc_with_metadata_cpm_pc_cell_type_profiles_n_sim_63_profiles.csv',\n",
       " 'pbmc_sc_with_metadata_cpm_pc_cell_type_profiles_n_sim_30_profiles.csv',\n",
       " 'pbmc_sc_with_metadata_cpm_pc_cell_type_profiles_n_sim_62_profiles.csv',\n",
       " 'pbmc_sc_with_metadata_cpm_pc_cell_type_profiles_n_sim_31_profiles.csv',\n",
       " 'pbmc_sc_with_metadata_cpm_pc_cell_type_profiles_n_sim_97_profiles.csv',\n",
       " 'pbmc_sc_with_metadata_cpm_pc_cell_type_profiles_n_sim_48_profiles.csv',\n",
       " 'pbmc_sc_with_metadata_cpm_pc_cell_type_profiles_n_sim_34_profiles.csv',\n",
       " 'pbmc_sc_with_metadata_cpm_pc_cell_type_profiles_n_sim_67_profiles.csv',\n",
       " 'pbmc_sc_with_metadata_cpm_pc_cell_type_profiles_n_sim_92_profiles.csv',\n",
       " 'pbmc_sc_with_metadata_cpm_pc_cell_type_profiles_n_sim_93_profiles.csv',\n",
       " 'pbmc_sc_with_metadata_cpm_pc_cell_type_profiles_n_sim_35_profiles.csv',\n",
       " 'pbmc_sc_with_metadata_cpm_pc_cell_type_profiles_n_sim_66_profiles.csv',\n",
       " 'pbmc_sc_with_metadata_cpm_pc_cell_type_profiles_n_sim_91_profiles.csv',\n",
       " 'pbmc_sc_with_metadata_cpm_pc_cell_type_profiles_n_sim_64_profiles.csv',\n",
       " 'pbmc_sc_with_metadata_cpm_pc_cell_type_profiles_n_sim_37_profiles.csv',\n",
       " 'pbmc_sc_with_metadata_cpm_pc_cell_type_profiles_n_sim_65_profiles.csv',\n",
       " 'pbmc_sc_with_metadata_cpm_pc_cell_type_profiles_n_sim_36_profiles.csv',\n",
       " 'pbmc_sc_with_metadata_cpm_pc_cell_type_profiles_n_sim_90_profiles.csv']"
      ]
     },
     "execution_count": 88,
     "metadata": {},
     "output_type": "execute_result"
    }
   ],
   "source": [
    "#### Get all the simulation files that contain how many cells were subasampled for each simulation\n",
    "\n",
    "# Get a list of all files in the directory\n",
    "all_files = os.listdir(path)\n",
    "\n",
    "pattern = \".*n_sim.*\"\n",
    "\n",
    "# Initialize a list to store matching file names\n",
    "matching_files = []\n",
    "\n",
    "# Loop through the files and check if they match the pattern\n",
    "for file_name in all_files:\n",
    "    if re.match(pattern, file_name):\n",
    "        matching_files.append(file_name)\n",
    "        \n",
    "        \n",
    "        \n",
    "matching_files\n",
    "\n",
    "\n"
   ]
  },
  {
   "cell_type": "code",
   "execution_count": 11,
   "metadata": {},
   "outputs": [],
   "source": [
    "def getMatchingFiles(path):\n",
    "    \n",
    "    lofiles = os.listdir(path)\n",
    "\n",
    "\n",
    "    pattern = \".*n_sim.*\"\n",
    "\n",
    "    # Initialize a list to store matching file names\n",
    "    matching_files = []\n",
    "\n",
    "    # Loop through the files and check if they match the pattern\n",
    "    for file_name in lofiles:\n",
    "        if re.match(pattern, file_name):\n",
    "            matching_files.append(f\"{path}/{file_name}\")\n",
    "        \n",
    "    return matching_files\n",
    "        "
   ]
  },
  {
   "cell_type": "code",
   "execution_count": 23,
   "metadata": {},
   "outputs": [
    {
     "data": {
      "text/plain": [
       "['/space/grp/aadrian/Pseudobulk_Function_Pipeline_HighRes/bin/bulkSimulationOneProfile/data/simulations/0/brain_sc_with_metadata_cpm_pc_cell_type_profiles.csv/brain_sc_with_metadata_cpm_pc_cell_type_profiles_n_sim_42_profiles.csv',\n",
       " '/space/grp/aadrian/Pseudobulk_Function_Pipeline_HighRes/bin/bulkSimulationOneProfile/data/simulations/0/brain_sc_with_metadata_cpm_pc_cell_type_profiles.csv/brain_sc_with_metadata_cpm_pc_cell_type_profiles_n_sim_11_profiles.csv',\n",
       " '/space/grp/aadrian/Pseudobulk_Function_Pipeline_HighRes/bin/bulkSimulationOneProfile/data/simulations/0/brain_sc_with_metadata_cpm_pc_cell_type_profiles.csv/brain_sc_with_metadata_cpm_pc_cell_type_profiles_n_sim_68_profiles.csv',\n",
       " '/space/grp/aadrian/Pseudobulk_Function_Pipeline_HighRes/bin/bulkSimulationOneProfile/data/simulations/0/brain_sc_with_metadata_cpm_pc_cell_type_profiles.csv/brain_sc_with_metadata_cpm_pc_cell_type_profiles_n_sim_69_profiles.csv',\n",
       " '/space/grp/aadrian/Pseudobulk_Function_Pipeline_HighRes/bin/bulkSimulationOneProfile/data/simulations/0/brain_sc_with_metadata_cpm_pc_cell_type_profiles.csv/brain_sc_with_metadata_cpm_pc_cell_type_profiles_n_sim_43_profiles.csv',\n",
       " '/space/grp/aadrian/Pseudobulk_Function_Pipeline_HighRes/bin/bulkSimulationOneProfile/data/simulations/0/brain_sc_with_metadata_cpm_pc_cell_type_profiles.csv/brain_sc_with_metadata_cpm_pc_cell_type_profiles_n_sim_10_profiles.csv',\n",
       " '/space/grp/aadrian/Pseudobulk_Function_Pipeline_HighRes/bin/bulkSimulationOneProfile/data/simulations/0/brain_sc_with_metadata_cpm_pc_cell_type_profiles.csv/brain_sc_with_metadata_cpm_pc_cell_type_profiles_n_sim_38_profiles.csv',\n",
       " '/space/grp/aadrian/Pseudobulk_Function_Pipeline_HighRes/bin/bulkSimulationOneProfile/data/simulations/0/brain_sc_with_metadata_cpm_pc_cell_type_profiles.csv/brain_sc_with_metadata_cpm_pc_cell_type_profiles_n_sim_12_profiles.csv',\n",
       " '/space/grp/aadrian/Pseudobulk_Function_Pipeline_HighRes/bin/bulkSimulationOneProfile/data/simulations/0/brain_sc_with_metadata_cpm_pc_cell_type_profiles.csv/brain_sc_with_metadata_cpm_pc_cell_type_profiles_n_sim_41_profiles.csv',\n",
       " '/space/grp/aadrian/Pseudobulk_Function_Pipeline_HighRes/bin/bulkSimulationOneProfile/data/simulations/0/brain_sc_with_metadata_cpm_pc_cell_type_profiles.csv/brain_sc_with_metadata_cpm_pc_cell_type_profiles_n_sim_13_profiles.csv',\n",
       " '/space/grp/aadrian/Pseudobulk_Function_Pipeline_HighRes/bin/bulkSimulationOneProfile/data/simulations/0/brain_sc_with_metadata_cpm_pc_cell_type_profiles.csv/brain_sc_with_metadata_cpm_pc_cell_type_profiles_n_sim_40_profiles.csv',\n",
       " '/space/grp/aadrian/Pseudobulk_Function_Pipeline_HighRes/bin/bulkSimulationOneProfile/data/simulations/0/brain_sc_with_metadata_cpm_pc_cell_type_profiles.csv/brain_sc_with_metadata_cpm_pc_cell_type_profiles_n_sim_39_profiles.csv',\n",
       " '/space/grp/aadrian/Pseudobulk_Function_Pipeline_HighRes/bin/bulkSimulationOneProfile/data/simulations/0/brain_sc_with_metadata_cpm_pc_cell_type_profiles.csv/brain_sc_with_metadata_cpm_pc_cell_type_profiles_n_sim_45_profiles.csv',\n",
       " '/space/grp/aadrian/Pseudobulk_Function_Pipeline_HighRes/bin/bulkSimulationOneProfile/data/simulations/0/brain_sc_with_metadata_cpm_pc_cell_type_profiles.csv/brain_sc_with_metadata_cpm_pc_cell_type_profiles_n_sim_16_profiles.csv',\n",
       " '/space/grp/aadrian/Pseudobulk_Function_Pipeline_HighRes/bin/bulkSimulationOneProfile/data/simulations/0/brain_sc_with_metadata_cpm_pc_cell_type_profiles.csv/brain_sc_with_metadata_cpm_pc_cell_type_profiles_n_sim_44_profiles.csv',\n",
       " '/space/grp/aadrian/Pseudobulk_Function_Pipeline_HighRes/bin/bulkSimulationOneProfile/data/simulations/0/brain_sc_with_metadata_cpm_pc_cell_type_profiles.csv/brain_sc_with_metadata_cpm_pc_cell_type_profiles_n_sim_17_profiles.csv',\n",
       " '/space/grp/aadrian/Pseudobulk_Function_Pipeline_HighRes/bin/bulkSimulationOneProfile/data/simulations/0/brain_sc_with_metadata_cpm_pc_cell_type_profiles.csv/brain_sc_with_metadata_cpm_pc_cell_type_profiles_n_sim_15_profiles.csv',\n",
       " '/space/grp/aadrian/Pseudobulk_Function_Pipeline_HighRes/bin/bulkSimulationOneProfile/data/simulations/0/brain_sc_with_metadata_cpm_pc_cell_type_profiles.csv/brain_sc_with_metadata_cpm_pc_cell_type_profiles_n_sim_46_profiles.csv',\n",
       " '/space/grp/aadrian/Pseudobulk_Function_Pipeline_HighRes/bin/bulkSimulationOneProfile/data/simulations/0/brain_sc_with_metadata_cpm_pc_cell_type_profiles.csv/brain_sc_with_metadata_cpm_pc_cell_type_profiles_n_sim_14_profiles.csv',\n",
       " '/space/grp/aadrian/Pseudobulk_Function_Pipeline_HighRes/bin/bulkSimulationOneProfile/data/simulations/0/brain_sc_with_metadata_cpm_pc_cell_type_profiles.csv/brain_sc_with_metadata_cpm_pc_cell_type_profiles_n_sim_47_profiles.csv',\n",
       " '/space/grp/aadrian/Pseudobulk_Function_Pipeline_HighRes/bin/bulkSimulationOneProfile/data/simulations/0/brain_sc_with_metadata_cpm_pc_cell_type_profiles.csv/brain_sc_with_metadata_cpm_pc_cell_type_profiles_n_sim_66_profiles.csv',\n",
       " '/space/grp/aadrian/Pseudobulk_Function_Pipeline_HighRes/bin/bulkSimulationOneProfile/data/simulations/0/brain_sc_with_metadata_cpm_pc_cell_type_profiles.csv/brain_sc_with_metadata_cpm_pc_cell_type_profiles_n_sim_35_profiles.csv',\n",
       " '/space/grp/aadrian/Pseudobulk_Function_Pipeline_HighRes/bin/bulkSimulationOneProfile/data/simulations/0/brain_sc_with_metadata_cpm_pc_cell_type_profiles.csv/brain_sc_with_metadata_cpm_pc_cell_type_profiles_n_sim_67_profiles.csv',\n",
       " '/space/grp/aadrian/Pseudobulk_Function_Pipeline_HighRes/bin/bulkSimulationOneProfile/data/simulations/0/brain_sc_with_metadata_cpm_pc_cell_type_profiles.csv/brain_sc_with_metadata_cpm_pc_cell_type_profiles_n_sim_34_profiles.csv',\n",
       " '/space/grp/aadrian/Pseudobulk_Function_Pipeline_HighRes/bin/bulkSimulationOneProfile/data/simulations/0/brain_sc_with_metadata_cpm_pc_cell_type_profiles.csv/brain_sc_with_metadata_cpm_pc_cell_type_profiles_n_sim_36_profiles.csv',\n",
       " '/space/grp/aadrian/Pseudobulk_Function_Pipeline_HighRes/bin/bulkSimulationOneProfile/data/simulations/0/brain_sc_with_metadata_cpm_pc_cell_type_profiles.csv/brain_sc_with_metadata_cpm_pc_cell_type_profiles_n_sim_65_profiles.csv',\n",
       " '/space/grp/aadrian/Pseudobulk_Function_Pipeline_HighRes/bin/bulkSimulationOneProfile/data/simulations/0/brain_sc_with_metadata_cpm_pc_cell_type_profiles.csv/brain_sc_with_metadata_cpm_pc_cell_type_profiles_n_sim_37_profiles.csv',\n",
       " '/space/grp/aadrian/Pseudobulk_Function_Pipeline_HighRes/bin/bulkSimulationOneProfile/data/simulations/0/brain_sc_with_metadata_cpm_pc_cell_type_profiles.csv/brain_sc_with_metadata_cpm_pc_cell_type_profiles_n_sim_64_profiles.csv',\n",
       " '/space/grp/aadrian/Pseudobulk_Function_Pipeline_HighRes/bin/bulkSimulationOneProfile/data/simulations/0/brain_sc_with_metadata_cpm_pc_cell_type_profiles.csv/brain_sc_with_metadata_cpm_pc_cell_type_profiles_n_sim_18_profiles.csv',\n",
       " '/space/grp/aadrian/Pseudobulk_Function_Pipeline_HighRes/bin/bulkSimulationOneProfile/data/simulations/0/brain_sc_with_metadata_cpm_pc_cell_type_profiles.csv/brain_sc_with_metadata_cpm_pc_cell_type_profiles_n_sim_61_profiles.csv',\n",
       " '/space/grp/aadrian/Pseudobulk_Function_Pipeline_HighRes/bin/bulkSimulationOneProfile/data/simulations/0/brain_sc_with_metadata_cpm_pc_cell_type_profiles.csv/brain_sc_with_metadata_cpm_pc_cell_type_profiles_n_sim_32_profiles.csv',\n",
       " '/space/grp/aadrian/Pseudobulk_Function_Pipeline_HighRes/bin/bulkSimulationOneProfile/data/simulations/0/brain_sc_with_metadata_cpm_pc_cell_type_profiles.csv/brain_sc_with_metadata_cpm_pc_cell_type_profiles_n_sim_60_profiles.csv',\n",
       " '/space/grp/aadrian/Pseudobulk_Function_Pipeline_HighRes/bin/bulkSimulationOneProfile/data/simulations/0/brain_sc_with_metadata_cpm_pc_cell_type_profiles.csv/brain_sc_with_metadata_cpm_pc_cell_type_profiles_n_sim_33_profiles.csv',\n",
       " '/space/grp/aadrian/Pseudobulk_Function_Pipeline_HighRes/bin/bulkSimulationOneProfile/data/simulations/0/brain_sc_with_metadata_cpm_pc_cell_type_profiles.csv/brain_sc_with_metadata_cpm_pc_cell_type_profiles_n_sim_19_profiles.csv',\n",
       " '/space/grp/aadrian/Pseudobulk_Function_Pipeline_HighRes/bin/bulkSimulationOneProfile/data/simulations/0/brain_sc_with_metadata_cpm_pc_cell_type_profiles.csv/brain_sc_with_metadata_cpm_pc_cell_type_profiles_n_sim_31_profiles.csv',\n",
       " '/space/grp/aadrian/Pseudobulk_Function_Pipeline_HighRes/bin/bulkSimulationOneProfile/data/simulations/0/brain_sc_with_metadata_cpm_pc_cell_type_profiles.csv/brain_sc_with_metadata_cpm_pc_cell_type_profiles_n_sim_62_profiles.csv',\n",
       " '/space/grp/aadrian/Pseudobulk_Function_Pipeline_HighRes/bin/bulkSimulationOneProfile/data/simulations/0/brain_sc_with_metadata_cpm_pc_cell_type_profiles.csv/brain_sc_with_metadata_cpm_pc_cell_type_profiles_n_sim_48_profiles.csv',\n",
       " '/space/grp/aadrian/Pseudobulk_Function_Pipeline_HighRes/bin/bulkSimulationOneProfile/data/simulations/0/brain_sc_with_metadata_cpm_pc_cell_type_profiles.csv/brain_sc_with_metadata_cpm_pc_cell_type_profiles_n_sim_49_profiles.csv',\n",
       " '/space/grp/aadrian/Pseudobulk_Function_Pipeline_HighRes/bin/bulkSimulationOneProfile/data/simulations/0/brain_sc_with_metadata_cpm_pc_cell_type_profiles.csv/brain_sc_with_metadata_cpm_pc_cell_type_profiles_n_sim_30_profiles.csv',\n",
       " '/space/grp/aadrian/Pseudobulk_Function_Pipeline_HighRes/bin/bulkSimulationOneProfile/data/simulations/0/brain_sc_with_metadata_cpm_pc_cell_type_profiles.csv/brain_sc_with_metadata_cpm_pc_cell_type_profiles_n_sim_63_profiles.csv',\n",
       " '/space/grp/aadrian/Pseudobulk_Function_Pipeline_HighRes/bin/bulkSimulationOneProfile/data/simulations/0/brain_sc_with_metadata_cpm_pc_cell_type_profiles.csv/brain_sc_with_metadata_cpm_pc_cell_type_profiles_n_sim_21_profiles.csv',\n",
       " '/space/grp/aadrian/Pseudobulk_Function_Pipeline_HighRes/bin/bulkSimulationOneProfile/data/simulations/0/brain_sc_with_metadata_cpm_pc_cell_type_profiles.csv/brain_sc_with_metadata_cpm_pc_cell_type_profiles_n_sim_72_profiles.csv',\n",
       " '/space/grp/aadrian/Pseudobulk_Function_Pipeline_HighRes/bin/bulkSimulationOneProfile/data/simulations/0/brain_sc_with_metadata_cpm_pc_cell_type_profiles.csv/brain_sc_with_metadata_cpm_pc_cell_type_profiles_n_sim_1_profiles.csv',\n",
       " '/space/grp/aadrian/Pseudobulk_Function_Pipeline_HighRes/bin/bulkSimulationOneProfile/data/simulations/0/brain_sc_with_metadata_cpm_pc_cell_type_profiles.csv/brain_sc_with_metadata_cpm_pc_cell_type_profiles_n_sim_58_profiles.csv',\n",
       " '/space/grp/aadrian/Pseudobulk_Function_Pipeline_HighRes/bin/bulkSimulationOneProfile/data/simulations/0/brain_sc_with_metadata_cpm_pc_cell_type_profiles.csv/brain_sc_with_metadata_cpm_pc_cell_type_profiles_n_sim_59_profiles.csv',\n",
       " '/space/grp/aadrian/Pseudobulk_Function_Pipeline_HighRes/bin/bulkSimulationOneProfile/data/simulations/0/brain_sc_with_metadata_cpm_pc_cell_type_profiles.csv/brain_sc_with_metadata_cpm_pc_cell_type_profiles_n_sim_0_profiles.csv',\n",
       " '/space/grp/aadrian/Pseudobulk_Function_Pipeline_HighRes/bin/bulkSimulationOneProfile/data/simulations/0/brain_sc_with_metadata_cpm_pc_cell_type_profiles.csv/brain_sc_with_metadata_cpm_pc_cell_type_profiles_n_sim_20_profiles.csv',\n",
       " '/space/grp/aadrian/Pseudobulk_Function_Pipeline_HighRes/bin/bulkSimulationOneProfile/data/simulations/0/brain_sc_with_metadata_cpm_pc_cell_type_profiles.csv/brain_sc_with_metadata_cpm_pc_cell_type_profiles_n_sim_73_profiles.csv',\n",
       " '/space/grp/aadrian/Pseudobulk_Function_Pipeline_HighRes/bin/bulkSimulationOneProfile/data/simulations/0/brain_sc_with_metadata_cpm_pc_cell_type_profiles.csv/brain_sc_with_metadata_cpm_pc_cell_type_profiles_n_sim_84_profiles.csv',\n",
       " '/space/grp/aadrian/Pseudobulk_Function_Pipeline_HighRes/bin/bulkSimulationOneProfile/data/simulations/0/brain_sc_with_metadata_cpm_pc_cell_type_profiles.csv/brain_sc_with_metadata_cpm_pc_cell_type_profiles_n_sim_2_profiles.csv',\n",
       " '/space/grp/aadrian/Pseudobulk_Function_Pipeline_HighRes/bin/bulkSimulationOneProfile/data/simulations/0/brain_sc_with_metadata_cpm_pc_cell_type_profiles.csv/brain_sc_with_metadata_cpm_pc_cell_type_profiles_n_sim_71_profiles.csv',\n",
       " '/space/grp/aadrian/Pseudobulk_Function_Pipeline_HighRes/bin/bulkSimulationOneProfile/data/simulations/0/brain_sc_with_metadata_cpm_pc_cell_type_profiles.csv/brain_sc_with_metadata_cpm_pc_cell_type_profiles_n_sim_22_profiles.csv',\n",
       " '/space/grp/aadrian/Pseudobulk_Function_Pipeline_HighRes/bin/bulkSimulationOneProfile/data/simulations/0/brain_sc_with_metadata_cpm_pc_cell_type_profiles.csv/brain_sc_with_metadata_cpm_pc_cell_type_profiles_n_sim_70_profiles.csv',\n",
       " '/space/grp/aadrian/Pseudobulk_Function_Pipeline_HighRes/bin/bulkSimulationOneProfile/data/simulations/0/brain_sc_with_metadata_cpm_pc_cell_type_profiles.csv/brain_sc_with_metadata_cpm_pc_cell_type_profiles_n_sim_23_profiles.csv',\n",
       " '/space/grp/aadrian/Pseudobulk_Function_Pipeline_HighRes/bin/bulkSimulationOneProfile/data/simulations/0/brain_sc_with_metadata_cpm_pc_cell_type_profiles.csv/brain_sc_with_metadata_cpm_pc_cell_type_profiles_n_sim_3_profiles.csv',\n",
       " '/space/grp/aadrian/Pseudobulk_Function_Pipeline_HighRes/bin/bulkSimulationOneProfile/data/simulations/0/brain_sc_with_metadata_cpm_pc_cell_type_profiles.csv/brain_sc_with_metadata_cpm_pc_cell_type_profiles_n_sim_85_profiles.csv',\n",
       " '/space/grp/aadrian/Pseudobulk_Function_Pipeline_HighRes/bin/bulkSimulationOneProfile/data/simulations/0/brain_sc_with_metadata_cpm_pc_cell_type_profiles.csv/brain_sc_with_metadata_cpm_pc_cell_type_profiles_n_sim_26_profiles.csv',\n",
       " '/space/grp/aadrian/Pseudobulk_Function_Pipeline_HighRes/bin/bulkSimulationOneProfile/data/simulations/0/brain_sc_with_metadata_cpm_pc_cell_type_profiles.csv/brain_sc_with_metadata_cpm_pc_cell_type_profiles_n_sim_75_profiles.csv',\n",
       " '/space/grp/aadrian/Pseudobulk_Function_Pipeline_HighRes/bin/bulkSimulationOneProfile/data/simulations/0/brain_sc_with_metadata_cpm_pc_cell_type_profiles.csv/brain_sc_with_metadata_cpm_pc_cell_type_profiles_n_sim_80_profiles.csv',\n",
       " '/space/grp/aadrian/Pseudobulk_Function_Pipeline_HighRes/bin/bulkSimulationOneProfile/data/simulations/0/brain_sc_with_metadata_cpm_pc_cell_type_profiles.csv/brain_sc_with_metadata_cpm_pc_cell_type_profiles_n_sim_6_profiles.csv',\n",
       " '/space/grp/aadrian/Pseudobulk_Function_Pipeline_HighRes/bin/bulkSimulationOneProfile/data/simulations/0/brain_sc_with_metadata_cpm_pc_cell_type_profiles.csv/brain_sc_with_metadata_cpm_pc_cell_type_profiles_n_sim_7_profiles.csv',\n",
       " '/space/grp/aadrian/Pseudobulk_Function_Pipeline_HighRes/bin/bulkSimulationOneProfile/data/simulations/0/brain_sc_with_metadata_cpm_pc_cell_type_profiles.csv/brain_sc_with_metadata_cpm_pc_cell_type_profiles_n_sim_81_profiles.csv',\n",
       " '/space/grp/aadrian/Pseudobulk_Function_Pipeline_HighRes/bin/bulkSimulationOneProfile/data/simulations/0/brain_sc_with_metadata_cpm_pc_cell_type_profiles.csv/brain_sc_with_metadata_cpm_pc_cell_type_profiles_n_sim_27_profiles.csv',\n",
       " '/space/grp/aadrian/Pseudobulk_Function_Pipeline_HighRes/bin/bulkSimulationOneProfile/data/simulations/0/brain_sc_with_metadata_cpm_pc_cell_type_profiles.csv/brain_sc_with_metadata_cpm_pc_cell_type_profiles_n_sim_74_profiles.csv',\n",
       " '/space/grp/aadrian/Pseudobulk_Function_Pipeline_HighRes/bin/bulkSimulationOneProfile/data/simulations/0/brain_sc_with_metadata_cpm_pc_cell_type_profiles.csv/brain_sc_with_metadata_cpm_pc_cell_type_profiles_n_sim_83_profiles.csv',\n",
       " '/space/grp/aadrian/Pseudobulk_Function_Pipeline_HighRes/bin/bulkSimulationOneProfile/data/simulations/0/brain_sc_with_metadata_cpm_pc_cell_type_profiles.csv/brain_sc_with_metadata_cpm_pc_cell_type_profiles_n_sim_5_profiles.csv',\n",
       " '/space/grp/aadrian/Pseudobulk_Function_Pipeline_HighRes/bin/bulkSimulationOneProfile/data/simulations/0/brain_sc_with_metadata_cpm_pc_cell_type_profiles.csv/brain_sc_with_metadata_cpm_pc_cell_type_profiles_n_sim_76_profiles.csv',\n",
       " '/space/grp/aadrian/Pseudobulk_Function_Pipeline_HighRes/bin/bulkSimulationOneProfile/data/simulations/0/brain_sc_with_metadata_cpm_pc_cell_type_profiles.csv/brain_sc_with_metadata_cpm_pc_cell_type_profiles_n_sim_25_profiles.csv',\n",
       " '/space/grp/aadrian/Pseudobulk_Function_Pipeline_HighRes/bin/bulkSimulationOneProfile/data/simulations/0/brain_sc_with_metadata_cpm_pc_cell_type_profiles.csv/brain_sc_with_metadata_cpm_pc_cell_type_profiles_n_sim_77_profiles.csv',\n",
       " '/space/grp/aadrian/Pseudobulk_Function_Pipeline_HighRes/bin/bulkSimulationOneProfile/data/simulations/0/brain_sc_with_metadata_cpm_pc_cell_type_profiles.csv/brain_sc_with_metadata_cpm_pc_cell_type_profiles_n_sim_24_profiles.csv',\n",
       " '/space/grp/aadrian/Pseudobulk_Function_Pipeline_HighRes/bin/bulkSimulationOneProfile/data/simulations/0/brain_sc_with_metadata_cpm_pc_cell_type_profiles.csv/brain_sc_with_metadata_cpm_pc_cell_type_profiles_n_sim_4_profiles.csv',\n",
       " '/space/grp/aadrian/Pseudobulk_Function_Pipeline_HighRes/bin/bulkSimulationOneProfile/data/simulations/0/brain_sc_with_metadata_cpm_pc_cell_type_profiles.csv/brain_sc_with_metadata_cpm_pc_cell_type_profiles_n_sim_82_profiles.csv',\n",
       " '/space/grp/aadrian/Pseudobulk_Function_Pipeline_HighRes/bin/bulkSimulationOneProfile/data/simulations/0/brain_sc_with_metadata_cpm_pc_cell_type_profiles.csv/brain_sc_with_metadata_cpm_pc_cell_type_profiles_n_sim_56_profiles.csv',\n",
       " '/space/grp/aadrian/Pseudobulk_Function_Pipeline_HighRes/bin/bulkSimulationOneProfile/data/simulations/0/brain_sc_with_metadata_cpm_pc_cell_type_profiles.csv/brain_sc_with_metadata_cpm_pc_cell_type_profiles_n_sim_57_profiles.csv',\n",
       " '/space/grp/aadrian/Pseudobulk_Function_Pipeline_HighRes/bin/bulkSimulationOneProfile/data/simulations/0/brain_sc_with_metadata_cpm_pc_cell_type_profiles.csv/brain_sc_with_metadata_cpm_pc_cell_type_profiles_n_sim_55_profiles.csv',\n",
       " '/space/grp/aadrian/Pseudobulk_Function_Pipeline_HighRes/bin/bulkSimulationOneProfile/data/simulations/0/brain_sc_with_metadata_cpm_pc_cell_type_profiles.csv/brain_sc_with_metadata_cpm_pc_cell_type_profiles_n_sim_54_profiles.csv',\n",
       " '/space/grp/aadrian/Pseudobulk_Function_Pipeline_HighRes/bin/bulkSimulationOneProfile/data/simulations/0/brain_sc_with_metadata_cpm_pc_cell_type_profiles.csv/brain_sc_with_metadata_cpm_pc_cell_type_profiles_n_sim_28_profiles.csv',\n",
       " '/space/grp/aadrian/Pseudobulk_Function_Pipeline_HighRes/bin/bulkSimulationOneProfile/data/simulations/0/brain_sc_with_metadata_cpm_pc_cell_type_profiles.csv/brain_sc_with_metadata_cpm_pc_cell_type_profiles_n_sim_51_profiles.csv',\n",
       " '/space/grp/aadrian/Pseudobulk_Function_Pipeline_HighRes/bin/bulkSimulationOneProfile/data/simulations/0/brain_sc_with_metadata_cpm_pc_cell_type_profiles.csv/brain_sc_with_metadata_cpm_pc_cell_type_profiles_n_sim_50_profiles.csv',\n",
       " '/space/grp/aadrian/Pseudobulk_Function_Pipeline_HighRes/bin/bulkSimulationOneProfile/data/simulations/0/brain_sc_with_metadata_cpm_pc_cell_type_profiles.csv/brain_sc_with_metadata_cpm_pc_cell_type_profiles_n_sim_29_profiles.csv',\n",
       " '/space/grp/aadrian/Pseudobulk_Function_Pipeline_HighRes/bin/bulkSimulationOneProfile/data/simulations/0/brain_sc_with_metadata_cpm_pc_cell_type_profiles.csv/brain_sc_with_metadata_cpm_pc_cell_type_profiles_n_sim_52_profiles.csv',\n",
       " '/space/grp/aadrian/Pseudobulk_Function_Pipeline_HighRes/bin/bulkSimulationOneProfile/data/simulations/0/brain_sc_with_metadata_cpm_pc_cell_type_profiles.csv/brain_sc_with_metadata_cpm_pc_cell_type_profiles_n_sim_78_profiles.csv',\n",
       " '/space/grp/aadrian/Pseudobulk_Function_Pipeline_HighRes/bin/bulkSimulationOneProfile/data/simulations/0/brain_sc_with_metadata_cpm_pc_cell_type_profiles.csv/brain_sc_with_metadata_cpm_pc_cell_type_profiles_n_sim_79_profiles.csv',\n",
       " '/space/grp/aadrian/Pseudobulk_Function_Pipeline_HighRes/bin/bulkSimulationOneProfile/data/simulations/0/brain_sc_with_metadata_cpm_pc_cell_type_profiles.csv/brain_sc_with_metadata_cpm_pc_cell_type_profiles_n_sim_53_profiles.csv']"
      ]
     },
     "execution_count": 23,
     "metadata": {},
     "output_type": "execute_result"
    }
   ],
   "source": [
    "lopaths = [os.path.join(path, file) for file in matching_files]\n",
    "lopaths"
   ]
  },
  {
   "cell_type": "code",
   "execution_count": 26,
   "metadata": {},
   "outputs": [
    {
     "data": {
      "text/plain": [
       "[                                 numbers_to_sample\n",
       " Astrocytes                                      50\n",
       " Excitatory neurons                             500\n",
       " Inhibitory neurons                             300\n",
       " Microglial cells                                50\n",
       " Oligodendrocyte precursor cells                 50\n",
       " Oligodendrocytes                                50,\n",
       "                                  numbers_to_sample\n",
       " Astrocytes                                      50\n",
       " Excitatory neurons                             500\n",
       " Inhibitory neurons                             300\n",
       " Microglial cells                                50\n",
       " Oligodendrocyte precursor cells                 50\n",
       " Oligodendrocytes                                50,\n",
       "                                  numbers_to_sample\n",
       " Astrocytes                                      50\n",
       " Excitatory neurons                             500\n",
       " Inhibitory neurons                             300\n",
       " Microglial cells                                50\n",
       " Oligodendrocyte precursor cells                 50\n",
       " Oligodendrocytes                                50,\n",
       "                                  numbers_to_sample\n",
       " Astrocytes                                      50\n",
       " Excitatory neurons                             500\n",
       " Inhibitory neurons                             300\n",
       " Microglial cells                                50\n",
       " Oligodendrocyte precursor cells                 50\n",
       " Oligodendrocytes                                50,\n",
       "                                  numbers_to_sample\n",
       " Astrocytes                                      50\n",
       " Excitatory neurons                             500\n",
       " Inhibitory neurons                             300\n",
       " Microglial cells                                50\n",
       " Oligodendrocyte precursor cells                 50\n",
       " Oligodendrocytes                                50,\n",
       "                                  numbers_to_sample\n",
       " Astrocytes                                      50\n",
       " Excitatory neurons                             500\n",
       " Inhibitory neurons                             300\n",
       " Microglial cells                                50\n",
       " Oligodendrocyte precursor cells                 50\n",
       " Oligodendrocytes                                50,\n",
       "                                  numbers_to_sample\n",
       " Astrocytes                                      50\n",
       " Excitatory neurons                             500\n",
       " Inhibitory neurons                             300\n",
       " Microglial cells                                50\n",
       " Oligodendrocyte precursor cells                 50\n",
       " Oligodendrocytes                                50,\n",
       "                                  numbers_to_sample\n",
       " Astrocytes                                      50\n",
       " Excitatory neurons                             500\n",
       " Inhibitory neurons                             300\n",
       " Microglial cells                                50\n",
       " Oligodendrocyte precursor cells                 50\n",
       " Oligodendrocytes                                50,\n",
       "                                  numbers_to_sample\n",
       " Astrocytes                                      50\n",
       " Excitatory neurons                             500\n",
       " Inhibitory neurons                             300\n",
       " Microglial cells                                50\n",
       " Oligodendrocyte precursor cells                 50\n",
       " Oligodendrocytes                                50,\n",
       "                                  numbers_to_sample\n",
       " Astrocytes                                      50\n",
       " Excitatory neurons                             500\n",
       " Inhibitory neurons                             300\n",
       " Microglial cells                                50\n",
       " Oligodendrocyte precursor cells                 50\n",
       " Oligodendrocytes                                50,\n",
       "                                  numbers_to_sample\n",
       " Astrocytes                                      50\n",
       " Excitatory neurons                             500\n",
       " Inhibitory neurons                             300\n",
       " Microglial cells                                50\n",
       " Oligodendrocyte precursor cells                 50\n",
       " Oligodendrocytes                                50,\n",
       "                                  numbers_to_sample\n",
       " Astrocytes                                      50\n",
       " Excitatory neurons                             500\n",
       " Inhibitory neurons                             300\n",
       " Microglial cells                                50\n",
       " Oligodendrocyte precursor cells                 50\n",
       " Oligodendrocytes                                50,\n",
       "                                  numbers_to_sample\n",
       " Astrocytes                                      50\n",
       " Excitatory neurons                             500\n",
       " Inhibitory neurons                             300\n",
       " Microglial cells                                50\n",
       " Oligodendrocyte precursor cells                 50\n",
       " Oligodendrocytes                                50,\n",
       "                                  numbers_to_sample\n",
       " Astrocytes                                      50\n",
       " Excitatory neurons                             500\n",
       " Inhibitory neurons                             300\n",
       " Microglial cells                                50\n",
       " Oligodendrocyte precursor cells                 50\n",
       " Oligodendrocytes                                50,\n",
       "                                  numbers_to_sample\n",
       " Astrocytes                                      50\n",
       " Excitatory neurons                             500\n",
       " Inhibitory neurons                             300\n",
       " Microglial cells                                50\n",
       " Oligodendrocyte precursor cells                 50\n",
       " Oligodendrocytes                                50,\n",
       "                                  numbers_to_sample\n",
       " Astrocytes                                      50\n",
       " Excitatory neurons                             500\n",
       " Inhibitory neurons                             300\n",
       " Microglial cells                                50\n",
       " Oligodendrocyte precursor cells                 50\n",
       " Oligodendrocytes                                50,\n",
       "                                  numbers_to_sample\n",
       " Astrocytes                                      50\n",
       " Excitatory neurons                             500\n",
       " Inhibitory neurons                             300\n",
       " Microglial cells                                50\n",
       " Oligodendrocyte precursor cells                 50\n",
       " Oligodendrocytes                                50,\n",
       "                                  numbers_to_sample\n",
       " Astrocytes                                      50\n",
       " Excitatory neurons                             500\n",
       " Inhibitory neurons                             300\n",
       " Microglial cells                                50\n",
       " Oligodendrocyte precursor cells                 50\n",
       " Oligodendrocytes                                50,\n",
       "                                  numbers_to_sample\n",
       " Astrocytes                                      50\n",
       " Excitatory neurons                             500\n",
       " Inhibitory neurons                             300\n",
       " Microglial cells                                50\n",
       " Oligodendrocyte precursor cells                 50\n",
       " Oligodendrocytes                                50,\n",
       "                                  numbers_to_sample\n",
       " Astrocytes                                      50\n",
       " Excitatory neurons                             500\n",
       " Inhibitory neurons                             300\n",
       " Microglial cells                                50\n",
       " Oligodendrocyte precursor cells                 50\n",
       " Oligodendrocytes                                50,\n",
       "                                  numbers_to_sample\n",
       " Astrocytes                                      50\n",
       " Excitatory neurons                             500\n",
       " Inhibitory neurons                             300\n",
       " Microglial cells                                50\n",
       " Oligodendrocyte precursor cells                 50\n",
       " Oligodendrocytes                                50,\n",
       "                                  numbers_to_sample\n",
       " Astrocytes                                      50\n",
       " Excitatory neurons                             500\n",
       " Inhibitory neurons                             300\n",
       " Microglial cells                                50\n",
       " Oligodendrocyte precursor cells                 50\n",
       " Oligodendrocytes                                50,\n",
       "                                  numbers_to_sample\n",
       " Astrocytes                                      50\n",
       " Excitatory neurons                             500\n",
       " Inhibitory neurons                             300\n",
       " Microglial cells                                50\n",
       " Oligodendrocyte precursor cells                 50\n",
       " Oligodendrocytes                                50,\n",
       "                                  numbers_to_sample\n",
       " Astrocytes                                      50\n",
       " Excitatory neurons                             500\n",
       " Inhibitory neurons                             300\n",
       " Microglial cells                                50\n",
       " Oligodendrocyte precursor cells                 50\n",
       " Oligodendrocytes                                50,\n",
       "                                  numbers_to_sample\n",
       " Astrocytes                                      50\n",
       " Excitatory neurons                             500\n",
       " Inhibitory neurons                             300\n",
       " Microglial cells                                50\n",
       " Oligodendrocyte precursor cells                 50\n",
       " Oligodendrocytes                                50,\n",
       "                                  numbers_to_sample\n",
       " Astrocytes                                      50\n",
       " Excitatory neurons                             500\n",
       " Inhibitory neurons                             300\n",
       " Microglial cells                                50\n",
       " Oligodendrocyte precursor cells                 50\n",
       " Oligodendrocytes                                50,\n",
       "                                  numbers_to_sample\n",
       " Astrocytes                                      50\n",
       " Excitatory neurons                             500\n",
       " Inhibitory neurons                             300\n",
       " Microglial cells                                50\n",
       " Oligodendrocyte precursor cells                 50\n",
       " Oligodendrocytes                                50,\n",
       "                                  numbers_to_sample\n",
       " Astrocytes                                      50\n",
       " Excitatory neurons                             500\n",
       " Inhibitory neurons                             300\n",
       " Microglial cells                                50\n",
       " Oligodendrocyte precursor cells                 50\n",
       " Oligodendrocytes                                50,\n",
       "                                  numbers_to_sample\n",
       " Astrocytes                                      50\n",
       " Excitatory neurons                             500\n",
       " Inhibitory neurons                             300\n",
       " Microglial cells                                50\n",
       " Oligodendrocyte precursor cells                 50\n",
       " Oligodendrocytes                                50,\n",
       "                                  numbers_to_sample\n",
       " Astrocytes                                      50\n",
       " Excitatory neurons                             500\n",
       " Inhibitory neurons                             300\n",
       " Microglial cells                                50\n",
       " Oligodendrocyte precursor cells                 50\n",
       " Oligodendrocytes                                50,\n",
       "                                  numbers_to_sample\n",
       " Astrocytes                                      50\n",
       " Excitatory neurons                             500\n",
       " Inhibitory neurons                             300\n",
       " Microglial cells                                50\n",
       " Oligodendrocyte precursor cells                 50\n",
       " Oligodendrocytes                                50,\n",
       "                                  numbers_to_sample\n",
       " Astrocytes                                      50\n",
       " Excitatory neurons                             500\n",
       " Inhibitory neurons                             300\n",
       " Microglial cells                                50\n",
       " Oligodendrocyte precursor cells                 50\n",
       " Oligodendrocytes                                50,\n",
       "                                  numbers_to_sample\n",
       " Astrocytes                                      50\n",
       " Excitatory neurons                             500\n",
       " Inhibitory neurons                             300\n",
       " Microglial cells                                50\n",
       " Oligodendrocyte precursor cells                 50\n",
       " Oligodendrocytes                                50,\n",
       "                                  numbers_to_sample\n",
       " Astrocytes                                      50\n",
       " Excitatory neurons                             500\n",
       " Inhibitory neurons                             300\n",
       " Microglial cells                                50\n",
       " Oligodendrocyte precursor cells                 50\n",
       " Oligodendrocytes                                50,\n",
       "                                  numbers_to_sample\n",
       " Astrocytes                                      50\n",
       " Excitatory neurons                             500\n",
       " Inhibitory neurons                             300\n",
       " Microglial cells                                50\n",
       " Oligodendrocyte precursor cells                 50\n",
       " Oligodendrocytes                                50,\n",
       "                                  numbers_to_sample\n",
       " Astrocytes                                      50\n",
       " Excitatory neurons                             500\n",
       " Inhibitory neurons                             300\n",
       " Microglial cells                                50\n",
       " Oligodendrocyte precursor cells                 50\n",
       " Oligodendrocytes                                50,\n",
       "                                  numbers_to_sample\n",
       " Astrocytes                                      50\n",
       " Excitatory neurons                             500\n",
       " Inhibitory neurons                             300\n",
       " Microglial cells                                50\n",
       " Oligodendrocyte precursor cells                 50\n",
       " Oligodendrocytes                                50,\n",
       "                                  numbers_to_sample\n",
       " Astrocytes                                      50\n",
       " Excitatory neurons                             500\n",
       " Inhibitory neurons                             300\n",
       " Microglial cells                                50\n",
       " Oligodendrocyte precursor cells                 50\n",
       " Oligodendrocytes                                50,\n",
       "                                  numbers_to_sample\n",
       " Astrocytes                                      50\n",
       " Excitatory neurons                             500\n",
       " Inhibitory neurons                             300\n",
       " Microglial cells                                50\n",
       " Oligodendrocyte precursor cells                 50\n",
       " Oligodendrocytes                                50,\n",
       "                                  numbers_to_sample\n",
       " Astrocytes                                      50\n",
       " Excitatory neurons                             500\n",
       " Inhibitory neurons                             300\n",
       " Microglial cells                                50\n",
       " Oligodendrocyte precursor cells                 50\n",
       " Oligodendrocytes                                50,\n",
       "                                  numbers_to_sample\n",
       " Astrocytes                                      50\n",
       " Excitatory neurons                             500\n",
       " Inhibitory neurons                             300\n",
       " Microglial cells                                50\n",
       " Oligodendrocyte precursor cells                 50\n",
       " Oligodendrocytes                                50,\n",
       "                                  numbers_to_sample\n",
       " Astrocytes                                      50\n",
       " Excitatory neurons                             500\n",
       " Inhibitory neurons                             300\n",
       " Microglial cells                                50\n",
       " Oligodendrocyte precursor cells                 50\n",
       " Oligodendrocytes                                50,\n",
       "                                  numbers_to_sample\n",
       " Astrocytes                                      50\n",
       " Excitatory neurons                             500\n",
       " Inhibitory neurons                             300\n",
       " Microglial cells                                50\n",
       " Oligodendrocyte precursor cells                 50\n",
       " Oligodendrocytes                                50,\n",
       "                                  numbers_to_sample\n",
       " Astrocytes                                      50\n",
       " Excitatory neurons                             500\n",
       " Inhibitory neurons                             300\n",
       " Microglial cells                                50\n",
       " Oligodendrocyte precursor cells                 50\n",
       " Oligodendrocytes                                50,\n",
       "                                  numbers_to_sample\n",
       " Astrocytes                                      50\n",
       " Excitatory neurons                             500\n",
       " Inhibitory neurons                             300\n",
       " Microglial cells                                50\n",
       " Oligodendrocyte precursor cells                 50\n",
       " Oligodendrocytes                                50,\n",
       "                                  numbers_to_sample\n",
       " Astrocytes                                      50\n",
       " Excitatory neurons                             500\n",
       " Inhibitory neurons                             300\n",
       " Microglial cells                                50\n",
       " Oligodendrocyte precursor cells                 50\n",
       " Oligodendrocytes                                50,\n",
       "                                  numbers_to_sample\n",
       " Astrocytes                                      50\n",
       " Excitatory neurons                             500\n",
       " Inhibitory neurons                             300\n",
       " Microglial cells                                50\n",
       " Oligodendrocyte precursor cells                 50\n",
       " Oligodendrocytes                                50,\n",
       "                                  numbers_to_sample\n",
       " Astrocytes                                      50\n",
       " Excitatory neurons                             500\n",
       " Inhibitory neurons                             300\n",
       " Microglial cells                                50\n",
       " Oligodendrocyte precursor cells                 50\n",
       " Oligodendrocytes                                50,\n",
       "                                  numbers_to_sample\n",
       " Astrocytes                                      50\n",
       " Excitatory neurons                             500\n",
       " Inhibitory neurons                             300\n",
       " Microglial cells                                50\n",
       " Oligodendrocyte precursor cells                 50\n",
       " Oligodendrocytes                                50,\n",
       "                                  numbers_to_sample\n",
       " Astrocytes                                      50\n",
       " Excitatory neurons                             500\n",
       " Inhibitory neurons                             300\n",
       " Microglial cells                                50\n",
       " Oligodendrocyte precursor cells                 50\n",
       " Oligodendrocytes                                50,\n",
       "                                  numbers_to_sample\n",
       " Astrocytes                                      50\n",
       " Excitatory neurons                             500\n",
       " Inhibitory neurons                             300\n",
       " Microglial cells                                50\n",
       " Oligodendrocyte precursor cells                 50\n",
       " Oligodendrocytes                                50,\n",
       "                                  numbers_to_sample\n",
       " Astrocytes                                      50\n",
       " Excitatory neurons                             500\n",
       " Inhibitory neurons                             300\n",
       " Microglial cells                                50\n",
       " Oligodendrocyte precursor cells                 50\n",
       " Oligodendrocytes                                50,\n",
       "                                  numbers_to_sample\n",
       " Astrocytes                                      50\n",
       " Excitatory neurons                             500\n",
       " Inhibitory neurons                             300\n",
       " Microglial cells                                50\n",
       " Oligodendrocyte precursor cells                 50\n",
       " Oligodendrocytes                                50,\n",
       "                                  numbers_to_sample\n",
       " Astrocytes                                      50\n",
       " Excitatory neurons                             500\n",
       " Inhibitory neurons                             300\n",
       " Microglial cells                                50\n",
       " Oligodendrocyte precursor cells                 50\n",
       " Oligodendrocytes                                50,\n",
       "                                  numbers_to_sample\n",
       " Astrocytes                                      50\n",
       " Excitatory neurons                             500\n",
       " Inhibitory neurons                             300\n",
       " Microglial cells                                50\n",
       " Oligodendrocyte precursor cells                 50\n",
       " Oligodendrocytes                                50,\n",
       "                                  numbers_to_sample\n",
       " Astrocytes                                      50\n",
       " Excitatory neurons                             500\n",
       " Inhibitory neurons                             300\n",
       " Microglial cells                                50\n",
       " Oligodendrocyte precursor cells                 50\n",
       " Oligodendrocytes                                50,\n",
       "                                  numbers_to_sample\n",
       " Astrocytes                                      50\n",
       " Excitatory neurons                             500\n",
       " Inhibitory neurons                             300\n",
       " Microglial cells                                50\n",
       " Oligodendrocyte precursor cells                 50\n",
       " Oligodendrocytes                                50,\n",
       "                                  numbers_to_sample\n",
       " Astrocytes                                      50\n",
       " Excitatory neurons                             500\n",
       " Inhibitory neurons                             300\n",
       " Microglial cells                                50\n",
       " Oligodendrocyte precursor cells                 50\n",
       " Oligodendrocytes                                50,\n",
       "                                  numbers_to_sample\n",
       " Astrocytes                                      50\n",
       " Excitatory neurons                             500\n",
       " Inhibitory neurons                             300\n",
       " Microglial cells                                50\n",
       " Oligodendrocyte precursor cells                 50\n",
       " Oligodendrocytes                                50,\n",
       "                                  numbers_to_sample\n",
       " Astrocytes                                      50\n",
       " Excitatory neurons                             500\n",
       " Inhibitory neurons                             300\n",
       " Microglial cells                                50\n",
       " Oligodendrocyte precursor cells                 50\n",
       " Oligodendrocytes                                50,\n",
       "                                  numbers_to_sample\n",
       " Astrocytes                                      50\n",
       " Excitatory neurons                             500\n",
       " Inhibitory neurons                             300\n",
       " Microglial cells                                50\n",
       " Oligodendrocyte precursor cells                 50\n",
       " Oligodendrocytes                                50,\n",
       "                                  numbers_to_sample\n",
       " Astrocytes                                      50\n",
       " Excitatory neurons                             500\n",
       " Inhibitory neurons                             300\n",
       " Microglial cells                                50\n",
       " Oligodendrocyte precursor cells                 50\n",
       " Oligodendrocytes                                50,\n",
       "                                  numbers_to_sample\n",
       " Astrocytes                                      50\n",
       " Excitatory neurons                             500\n",
       " Inhibitory neurons                             300\n",
       " Microglial cells                                50\n",
       " Oligodendrocyte precursor cells                 50\n",
       " Oligodendrocytes                                50,\n",
       "                                  numbers_to_sample\n",
       " Astrocytes                                      50\n",
       " Excitatory neurons                             500\n",
       " Inhibitory neurons                             300\n",
       " Microglial cells                                50\n",
       " Oligodendrocyte precursor cells                 50\n",
       " Oligodendrocytes                                50,\n",
       "                                  numbers_to_sample\n",
       " Astrocytes                                      50\n",
       " Excitatory neurons                             500\n",
       " Inhibitory neurons                             300\n",
       " Microglial cells                                50\n",
       " Oligodendrocyte precursor cells                 50\n",
       " Oligodendrocytes                                50,\n",
       "                                  numbers_to_sample\n",
       " Astrocytes                                      50\n",
       " Excitatory neurons                             500\n",
       " Inhibitory neurons                             300\n",
       " Microglial cells                                50\n",
       " Oligodendrocyte precursor cells                 50\n",
       " Oligodendrocytes                                50,\n",
       "                                  numbers_to_sample\n",
       " Astrocytes                                      50\n",
       " Excitatory neurons                             500\n",
       " Inhibitory neurons                             300\n",
       " Microglial cells                                50\n",
       " Oligodendrocyte precursor cells                 50\n",
       " Oligodendrocytes                                50,\n",
       "                                  numbers_to_sample\n",
       " Astrocytes                                      50\n",
       " Excitatory neurons                             500\n",
       " Inhibitory neurons                             300\n",
       " Microglial cells                                50\n",
       " Oligodendrocyte precursor cells                 50\n",
       " Oligodendrocytes                                50,\n",
       "                                  numbers_to_sample\n",
       " Astrocytes                                      50\n",
       " Excitatory neurons                             500\n",
       " Inhibitory neurons                             300\n",
       " Microglial cells                                50\n",
       " Oligodendrocyte precursor cells                 50\n",
       " Oligodendrocytes                                50,\n",
       "                                  numbers_to_sample\n",
       " Astrocytes                                      50\n",
       " Excitatory neurons                             500\n",
       " Inhibitory neurons                             300\n",
       " Microglial cells                                50\n",
       " Oligodendrocyte precursor cells                 50\n",
       " Oligodendrocytes                                50,\n",
       "                                  numbers_to_sample\n",
       " Astrocytes                                      50\n",
       " Excitatory neurons                             500\n",
       " Inhibitory neurons                             300\n",
       " Microglial cells                                50\n",
       " Oligodendrocyte precursor cells                 50\n",
       " Oligodendrocytes                                50,\n",
       "                                  numbers_to_sample\n",
       " Astrocytes                                      50\n",
       " Excitatory neurons                             500\n",
       " Inhibitory neurons                             300\n",
       " Microglial cells                                50\n",
       " Oligodendrocyte precursor cells                 50\n",
       " Oligodendrocytes                                50,\n",
       "                                  numbers_to_sample\n",
       " Astrocytes                                      50\n",
       " Excitatory neurons                             500\n",
       " Inhibitory neurons                             300\n",
       " Microglial cells                                50\n",
       " Oligodendrocyte precursor cells                 50\n",
       " Oligodendrocytes                                50,\n",
       "                                  numbers_to_sample\n",
       " Astrocytes                                      50\n",
       " Excitatory neurons                             500\n",
       " Inhibitory neurons                             300\n",
       " Microglial cells                                50\n",
       " Oligodendrocyte precursor cells                 50\n",
       " Oligodendrocytes                                50,\n",
       "                                  numbers_to_sample\n",
       " Astrocytes                                      50\n",
       " Excitatory neurons                             500\n",
       " Inhibitory neurons                             300\n",
       " Microglial cells                                50\n",
       " Oligodendrocyte precursor cells                 50\n",
       " Oligodendrocytes                                50,\n",
       "                                  numbers_to_sample\n",
       " Astrocytes                                      50\n",
       " Excitatory neurons                             500\n",
       " Inhibitory neurons                             300\n",
       " Microglial cells                                50\n",
       " Oligodendrocyte precursor cells                 50\n",
       " Oligodendrocytes                                50,\n",
       "                                  numbers_to_sample\n",
       " Astrocytes                                      50\n",
       " Excitatory neurons                             500\n",
       " Inhibitory neurons                             300\n",
       " Microglial cells                                50\n",
       " Oligodendrocyte precursor cells                 50\n",
       " Oligodendrocytes                                50,\n",
       "                                  numbers_to_sample\n",
       " Astrocytes                                      50\n",
       " Excitatory neurons                             500\n",
       " Inhibitory neurons                             300\n",
       " Microglial cells                                50\n",
       " Oligodendrocyte precursor cells                 50\n",
       " Oligodendrocytes                                50,\n",
       "                                  numbers_to_sample\n",
       " Astrocytes                                      50\n",
       " Excitatory neurons                             500\n",
       " Inhibitory neurons                             300\n",
       " Microglial cells                                50\n",
       " Oligodendrocyte precursor cells                 50\n",
       " Oligodendrocytes                                50,\n",
       "                                  numbers_to_sample\n",
       " Astrocytes                                      50\n",
       " Excitatory neurons                             500\n",
       " Inhibitory neurons                             300\n",
       " Microglial cells                                50\n",
       " Oligodendrocyte precursor cells                 50\n",
       " Oligodendrocytes                                50,\n",
       "                                  numbers_to_sample\n",
       " Astrocytes                                      50\n",
       " Excitatory neurons                             500\n",
       " Inhibitory neurons                             300\n",
       " Microglial cells                                50\n",
       " Oligodendrocyte precursor cells                 50\n",
       " Oligodendrocytes                                50,\n",
       "                                  numbers_to_sample\n",
       " Astrocytes                                      50\n",
       " Excitatory neurons                             500\n",
       " Inhibitory neurons                             300\n",
       " Microglial cells                                50\n",
       " Oligodendrocyte precursor cells                 50\n",
       " Oligodendrocytes                                50,\n",
       "                                  numbers_to_sample\n",
       " Astrocytes                                      50\n",
       " Excitatory neurons                             500\n",
       " Inhibitory neurons                             300\n",
       " Microglial cells                                50\n",
       " Oligodendrocyte precursor cells                 50\n",
       " Oligodendrocytes                                50,\n",
       "                                  numbers_to_sample\n",
       " Astrocytes                                      50\n",
       " Excitatory neurons                             500\n",
       " Inhibitory neurons                             300\n",
       " Microglial cells                                50\n",
       " Oligodendrocyte precursor cells                 50\n",
       " Oligodendrocytes                                50]"
      ]
     },
     "execution_count": 26,
     "metadata": {},
     "output_type": "execute_result"
    }
   ],
   "source": [
    "lodfs = [pd.read_csv(file_path, index_col=0) for file_path in lopaths]\n",
    "lodfs"
   ]
  },
  {
   "cell_type": "code",
   "execution_count": 43,
   "metadata": {},
   "outputs": [
    {
     "data": {
      "text/plain": [
       "Astrocytes                          4200\n",
       "Excitatory neurons                 42000\n",
       "Inhibitory neurons                 25200\n",
       "Microglial cells                    4200\n",
       "Oligodendrocyte precursor cells     4200\n",
       "Oligodendrocytes                    4200\n",
       "dtype: int64"
      ]
     },
     "execution_count": 43,
     "metadata": {},
     "output_type": "execute_result"
    }
   ],
   "source": [
    "merged_df = pd.concat(lodfs, axis = 1)\n",
    "merged_df = merged_df.sum(axis = 1)\n",
    "merged_df"
   ]
  },
  {
   "cell_type": "code",
   "execution_count": 5,
   "metadata": {},
   "outputs": [],
   "source": [
    "def normalize_series_by_sum(series):\n",
    "    \"\"\"\n",
    "    Normalize a pandas Series by dividing each value by the sum of the Series.\n",
    "\n",
    "    Args:\n",
    "        series (pandas.Series): The Series to normalize.\n",
    "\n",
    "    Returns:\n",
    "        pandas.Series: A new Series with values normalized by the sum.\n",
    "    \"\"\"\n",
    "    # Calculate the sum of the Series\n",
    "    series_sum = series.sum()\n",
    "\n",
    "    # Normalize the Series by dividing each value by the sum\n",
    "    normalized_series = series / series_sum\n",
    "\n",
    "    return normalized_series\n"
   ]
  },
  {
   "cell_type": "code",
   "execution_count": 54,
   "metadata": {},
   "outputs": [
    {
     "data": {
      "text/plain": [
       "Astrocytes                         0.05\n",
       "Excitatory neurons                 0.50\n",
       "Inhibitory neurons                 0.30\n",
       "Microglial cells                   0.05\n",
       "Oligodendrocyte precursor cells    0.05\n",
       "Oligodendrocytes                   0.05\n",
       "dtype: float64"
      ]
     },
     "execution_count": 54,
     "metadata": {},
     "output_type": "execute_result"
    }
   ],
   "source": [
    "retrieved_proportion = normalize_series_by_sum(merged_df)\n",
    "retrieved_proportion"
   ]
  },
  {
   "cell_type": "code",
   "execution_count": 60,
   "metadata": {},
   "outputs": [
    {
     "data": {
      "text/plain": [
       "'0'"
      ]
     },
     "execution_count": 60,
     "metadata": {},
     "output_type": "execute_result"
    }
   ],
   "source": [
    "variance_int = path.split(\"/\")[-2]\n",
    "variance_int"
   ]
  },
  {
   "cell_type": "code",
   "execution_count": 68,
   "metadata": {},
   "outputs": [],
   "source": [
    "#os.mkdir(\"../../data/retrieved_proportions\")\n",
    "#os.mkdir(\"../../data/retrieved_proportions/brain\")\n",
    "retrieved_proportion.to_csv(f\"../../data/retrieved_proportions/brain/var{variance_int}.csv\")"
   ]
  },
  {
   "cell_type": "code",
   "execution_count": 78,
   "metadata": {},
   "outputs": [
    {
     "name": "stdout",
     "output_type": "stream",
     "text": [
      "['/space/grp/aadrian/Pseudobulk_Function_Pipeline_HighRes/bin/bulkSimulationOneProfile/data/simulations/0.055/pbmc_sc_with_metadata_cpm_pc_cell_type_profiles.csv', '/space/grp/aadrian/Pseudobulk_Function_Pipeline_HighRes/bin/bulkSimulationOneProfile/data/simulations/0.1/pbmc_sc_with_metadata_cpm_pc_cell_type_profiles.csv', '/space/grp/aadrian/Pseudobulk_Function_Pipeline_HighRes/bin/bulkSimulationOneProfile/data/simulations/0.025/pbmc_sc_with_metadata_cpm_pc_cell_type_profiles.csv', '/space/grp/aadrian/Pseudobulk_Function_Pipeline_HighRes/bin/bulkSimulationOneProfile/data/simulations/0.07/pbmc_sc_with_metadata_cpm_pc_cell_type_profiles.csv', '/space/grp/aadrian/Pseudobulk_Function_Pipeline_HighRes/bin/bulkSimulationOneProfile/data/simulations/0.045/pbmc_sc_with_metadata_cpm_pc_cell_type_profiles.csv', '/space/grp/aadrian/Pseudobulk_Function_Pipeline_HighRes/bin/bulkSimulationOneProfile/data/simulations/0.09/pbmc_sc_with_metadata_cpm_pc_cell_type_profiles.csv', '/space/grp/aadrian/Pseudobulk_Function_Pipeline_HighRes/bin/bulkSimulationOneProfile/data/simulations/0.03/pbmc_sc_with_metadata_cpm_pc_cell_type_profiles.csv', '/space/grp/aadrian/Pseudobulk_Function_Pipeline_HighRes/bin/bulkSimulationOneProfile/data/simulations/1/pbmc_sc_with_metadata_cpm_pc_cell_type_profiles.csv', '/space/grp/aadrian/Pseudobulk_Function_Pipeline_HighRes/bin/bulkSimulationOneProfile/data/simulations/0.5/pbmc_sc_with_metadata_cpm_pc_cell_type_profiles.csv', '/space/grp/aadrian/Pseudobulk_Function_Pipeline_HighRes/bin/bulkSimulationOneProfile/data/simulations/0.04/pbmc_sc_with_metadata_cpm_pc_cell_type_profiles.csv', '/space/grp/aadrian/Pseudobulk_Function_Pipeline_HighRes/bin/bulkSimulationOneProfile/data/simulations/0.035/pbmc_sc_with_metadata_cpm_pc_cell_type_profiles.csv', '/space/grp/aadrian/Pseudobulk_Function_Pipeline_HighRes/bin/bulkSimulationOneProfile/data/simulations/0.06/pbmc_sc_with_metadata_cpm_pc_cell_type_profiles.csv', '/space/grp/aadrian/Pseudobulk_Function_Pipeline_HighRes/bin/bulkSimulationOneProfile/data/simulations/0.005/pbmc_sc_with_metadata_cpm_pc_cell_type_profiles.csv', '/space/grp/aadrian/Pseudobulk_Function_Pipeline_HighRes/bin/bulkSimulationOneProfile/data/simulations/0.085/pbmc_sc_with_metadata_cpm_pc_cell_type_profiles.csv', '/space/grp/aadrian/Pseudobulk_Function_Pipeline_HighRes/bin/bulkSimulationOneProfile/data/simulations/0.7/pbmc_sc_with_metadata_cpm_pc_cell_type_profiles.csv', '/space/grp/aadrian/Pseudobulk_Function_Pipeline_HighRes/bin/bulkSimulationOneProfile/data/simulations/0.01/pbmc_sc_with_metadata_cpm_pc_cell_type_profiles.csv', '/space/grp/aadrian/Pseudobulk_Function_Pipeline_HighRes/bin/bulkSimulationOneProfile/data/simulations/0.075/pbmc_sc_with_metadata_cpm_pc_cell_type_profiles.csv', '/space/grp/aadrian/Pseudobulk_Function_Pipeline_HighRes/bin/bulkSimulationOneProfile/data/simulations/0.05/pbmc_sc_with_metadata_cpm_pc_cell_type_profiles.csv', '/space/grp/aadrian/Pseudobulk_Function_Pipeline_HighRes/bin/bulkSimulationOneProfile/data/simulations/0.095/pbmc_sc_with_metadata_cpm_pc_cell_type_profiles.csv', '/space/grp/aadrian/Pseudobulk_Function_Pipeline_HighRes/bin/bulkSimulationOneProfile/data/simulations/0.015/pbmc_sc_with_metadata_cpm_pc_cell_type_profiles.csv', '/space/grp/aadrian/Pseudobulk_Function_Pipeline_HighRes/bin/bulkSimulationOneProfile/data/simulations/0.3/pbmc_sc_with_metadata_cpm_pc_cell_type_profiles.csv', '/space/grp/aadrian/Pseudobulk_Function_Pipeline_HighRes/bin/bulkSimulationOneProfile/data/simulations/0.9/pbmc_sc_with_metadata_cpm_pc_cell_type_profiles.csv', '/space/grp/aadrian/Pseudobulk_Function_Pipeline_HighRes/bin/bulkSimulationOneProfile/data/simulations/0.065/pbmc_sc_with_metadata_cpm_pc_cell_type_profiles.csv', '/space/grp/aadrian/Pseudobulk_Function_Pipeline_HighRes/bin/bulkSimulationOneProfile/data/simulations/0/pbmc_sc_with_metadata_cpm_pc_cell_type_profiles.csv', '/space/grp/aadrian/Pseudobulk_Function_Pipeline_HighRes/bin/bulkSimulationOneProfile/data/simulations/0.02/pbmc_sc_with_metadata_cpm_pc_cell_type_profiles.csv', '/space/grp/aadrian/Pseudobulk_Function_Pipeline_HighRes/bin/bulkSimulationOneProfile/data/simulations/0.08/pbmc_sc_with_metadata_cpm_pc_cell_type_profiles.csv']\n",
      "[['/space/grp/aadrian/Pseudobulk_Function_Pipeline_HighRes/bin/bulkSimulationOneProfile/data/simulations/0.055/pbmc_sc_with_metadata_cpm_pc_cell_type_profiles.csv/pbmc_sc_with_metadata_cpm_pc_cell_type_profiles_n_sim_24_profiles.csv', '/space/grp/aadrian/Pseudobulk_Function_Pipeline_HighRes/bin/bulkSimulationOneProfile/data/simulations/0.055/pbmc_sc_with_metadata_cpm_pc_cell_type_profiles.csv/pbmc_sc_with_metadata_cpm_pc_cell_type_profiles_n_sim_77_profiles.csv', '/space/grp/aadrian/Pseudobulk_Function_Pipeline_HighRes/bin/bulkSimulationOneProfile/data/simulations/0.055/pbmc_sc_with_metadata_cpm_pc_cell_type_profiles.csv/pbmc_sc_with_metadata_cpm_pc_cell_type_profiles_n_sim_82_profiles.csv', '/space/grp/aadrian/Pseudobulk_Function_Pipeline_HighRes/bin/bulkSimulationOneProfile/data/simulations/0.055/pbmc_sc_with_metadata_cpm_pc_cell_type_profiles.csv/pbmc_sc_with_metadata_cpm_pc_cell_type_profiles_n_sim_83_profiles.csv', '/space/grp/aadrian/Pseudobulk_Function_Pipeline_HighRes/bin/bulkSimulationOneProfile/data/simulations/0.055/pbmc_sc_with_metadata_cpm_pc_cell_type_profiles.csv/pbmc_sc_with_metadata_cpm_pc_cell_type_profiles_n_sim_25_profiles.csv', '/space/grp/aadrian/Pseudobulk_Function_Pipeline_HighRes/bin/bulkSimulationOneProfile/data/simulations/0.055/pbmc_sc_with_metadata_cpm_pc_cell_type_profiles.csv/pbmc_sc_with_metadata_cpm_pc_cell_type_profiles_n_sim_76_profiles.csv', '/space/grp/aadrian/Pseudobulk_Function_Pipeline_HighRes/bin/bulkSimulationOneProfile/data/simulations/0.055/pbmc_sc_with_metadata_cpm_pc_cell_type_profiles.csv/pbmc_sc_with_metadata_cpm_pc_cell_type_profiles_n_sim_81_profiles.csv', '/space/grp/aadrian/Pseudobulk_Function_Pipeline_HighRes/bin/bulkSimulationOneProfile/data/simulations/0.055/pbmc_sc_with_metadata_cpm_pc_cell_type_profiles.csv/pbmc_sc_with_metadata_cpm_pc_cell_type_profiles_n_sim_74_profiles.csv', '/space/grp/aadrian/Pseudobulk_Function_Pipeline_HighRes/bin/bulkSimulationOneProfile/data/simulations/0.055/pbmc_sc_with_metadata_cpm_pc_cell_type_profiles.csv/pbmc_sc_with_metadata_cpm_pc_cell_type_profiles_n_sim_27_profiles.csv', '/space/grp/aadrian/Pseudobulk_Function_Pipeline_HighRes/bin/bulkSimulationOneProfile/data/simulations/0.055/pbmc_sc_with_metadata_cpm_pc_cell_type_profiles.csv/pbmc_sc_with_metadata_cpm_pc_cell_type_profiles_n_sim_75_profiles.csv', '/space/grp/aadrian/Pseudobulk_Function_Pipeline_HighRes/bin/bulkSimulationOneProfile/data/simulations/0.055/pbmc_sc_with_metadata_cpm_pc_cell_type_profiles.csv/pbmc_sc_with_metadata_cpm_pc_cell_type_profiles_n_sim_26_profiles.csv', '/space/grp/aadrian/Pseudobulk_Function_Pipeline_HighRes/bin/bulkSimulationOneProfile/data/simulations/0.055/pbmc_sc_with_metadata_cpm_pc_cell_type_profiles.csv/pbmc_sc_with_metadata_cpm_pc_cell_type_profiles_n_sim_80_profiles.csv', '/space/grp/aadrian/Pseudobulk_Function_Pipeline_HighRes/bin/bulkSimulationOneProfile/data/simulations/0.055/pbmc_sc_with_metadata_cpm_pc_cell_type_profiles.csv/pbmc_sc_with_metadata_cpm_pc_cell_type_profiles_n_sim_23_profiles.csv', '/space/grp/aadrian/Pseudobulk_Function_Pipeline_HighRes/bin/bulkSimulationOneProfile/data/simulations/0.055/pbmc_sc_with_metadata_cpm_pc_cell_type_profiles.csv/pbmc_sc_with_metadata_cpm_pc_cell_type_profiles_n_sim_70_profiles.csv', '/space/grp/aadrian/Pseudobulk_Function_Pipeline_HighRes/bin/bulkSimulationOneProfile/data/simulations/0.055/pbmc_sc_with_metadata_cpm_pc_cell_type_profiles.csv/pbmc_sc_with_metadata_cpm_pc_cell_type_profiles_n_sim_85_profiles.csv', '/space/grp/aadrian/Pseudobulk_Function_Pipeline_HighRes/bin/bulkSimulationOneProfile/data/simulations/0.055/pbmc_sc_with_metadata_cpm_pc_cell_type_profiles.csv/pbmc_sc_with_metadata_cpm_pc_cell_type_profiles_n_sim_84_profiles.csv', '/space/grp/aadrian/Pseudobulk_Function_Pipeline_HighRes/bin/bulkSimulationOneProfile/data/simulations/0.055/pbmc_sc_with_metadata_cpm_pc_cell_type_profiles.csv/pbmc_sc_with_metadata_cpm_pc_cell_type_profiles_n_sim_22_profiles.csv', '/space/grp/aadrian/Pseudobulk_Function_Pipeline_HighRes/bin/bulkSimulationOneProfile/data/simulations/0.055/pbmc_sc_with_metadata_cpm_pc_cell_type_profiles.csv/pbmc_sc_with_metadata_cpm_pc_cell_type_profiles_n_sim_71_profiles.csv', '/space/grp/aadrian/Pseudobulk_Function_Pipeline_HighRes/bin/bulkSimulationOneProfile/data/simulations/0.055/pbmc_sc_with_metadata_cpm_pc_cell_type_profiles.csv/pbmc_sc_with_metadata_cpm_pc_cell_type_profiles_n_sim_86_profiles.csv', '/space/grp/aadrian/Pseudobulk_Function_Pipeline_HighRes/bin/bulkSimulationOneProfile/data/simulations/0.055/pbmc_sc_with_metadata_cpm_pc_cell_type_profiles.csv/pbmc_sc_with_metadata_cpm_pc_cell_type_profiles_n_sim_59_profiles.csv', '/space/grp/aadrian/Pseudobulk_Function_Pipeline_HighRes/bin/bulkSimulationOneProfile/data/simulations/0.055/pbmc_sc_with_metadata_cpm_pc_cell_type_profiles.csv/pbmc_sc_with_metadata_cpm_pc_cell_type_profiles_n_sim_73_profiles.csv', '/space/grp/aadrian/Pseudobulk_Function_Pipeline_HighRes/bin/bulkSimulationOneProfile/data/simulations/0.055/pbmc_sc_with_metadata_cpm_pc_cell_type_profiles.csv/pbmc_sc_with_metadata_cpm_pc_cell_type_profiles_n_sim_20_profiles.csv', '/space/grp/aadrian/Pseudobulk_Function_Pipeline_HighRes/bin/bulkSimulationOneProfile/data/simulations/0.055/pbmc_sc_with_metadata_cpm_pc_cell_type_profiles.csv/pbmc_sc_with_metadata_cpm_pc_cell_type_profiles_n_sim_72_profiles.csv', '/space/grp/aadrian/Pseudobulk_Function_Pipeline_HighRes/bin/bulkSimulationOneProfile/data/simulations/0.055/pbmc_sc_with_metadata_cpm_pc_cell_type_profiles.csv/pbmc_sc_with_metadata_cpm_pc_cell_type_profiles_n_sim_21_profiles.csv', '/space/grp/aadrian/Pseudobulk_Function_Pipeline_HighRes/bin/bulkSimulationOneProfile/data/simulations/0.055/pbmc_sc_with_metadata_cpm_pc_cell_type_profiles.csv/pbmc_sc_with_metadata_cpm_pc_cell_type_profiles_n_sim_58_profiles.csv', '/space/grp/aadrian/Pseudobulk_Function_Pipeline_HighRes/bin/bulkSimulationOneProfile/data/simulations/0.055/pbmc_sc_with_metadata_cpm_pc_cell_type_profiles.csv/pbmc_sc_with_metadata_cpm_pc_cell_type_profiles_n_sim_87_profiles.csv', '/space/grp/aadrian/Pseudobulk_Function_Pipeline_HighRes/bin/bulkSimulationOneProfile/data/simulations/0.055/pbmc_sc_with_metadata_cpm_pc_cell_type_profiles.csv/pbmc_sc_with_metadata_cpm_pc_cell_type_profiles_n_sim_79_profiles.csv', '/space/grp/aadrian/Pseudobulk_Function_Pipeline_HighRes/bin/bulkSimulationOneProfile/data/simulations/0.055/pbmc_sc_with_metadata_cpm_pc_cell_type_profiles.csv/pbmc_sc_with_metadata_cpm_pc_cell_type_profiles_n_sim_53_profiles.csv', '/space/grp/aadrian/Pseudobulk_Function_Pipeline_HighRes/bin/bulkSimulationOneProfile/data/simulations/0.055/pbmc_sc_with_metadata_cpm_pc_cell_type_profiles.csv/pbmc_sc_with_metadata_cpm_pc_cell_type_profiles_n_sim_52_profiles.csv', '/space/grp/aadrian/Pseudobulk_Function_Pipeline_HighRes/bin/bulkSimulationOneProfile/data/simulations/0.055/pbmc_sc_with_metadata_cpm_pc_cell_type_profiles.csv/pbmc_sc_with_metadata_cpm_pc_cell_type_profiles_n_sim_78_profiles.csv', '/space/grp/aadrian/Pseudobulk_Function_Pipeline_HighRes/bin/bulkSimulationOneProfile/data/simulations/0.055/pbmc_sc_with_metadata_cpm_pc_cell_type_profiles.csv/pbmc_sc_with_metadata_cpm_pc_cell_type_profiles_n_sim_50_profiles.csv', '/space/grp/aadrian/Pseudobulk_Function_Pipeline_HighRes/bin/bulkSimulationOneProfile/data/simulations/0.055/pbmc_sc_with_metadata_cpm_pc_cell_type_profiles.csv/pbmc_sc_with_metadata_cpm_pc_cell_type_profiles_n_sim_29_profiles.csv', '/space/grp/aadrian/Pseudobulk_Function_Pipeline_HighRes/bin/bulkSimulationOneProfile/data/simulations/0.055/pbmc_sc_with_metadata_cpm_pc_cell_type_profiles.csv/pbmc_sc_with_metadata_cpm_pc_cell_type_profiles_n_sim_28_profiles.csv', '/space/grp/aadrian/Pseudobulk_Function_Pipeline_HighRes/bin/bulkSimulationOneProfile/data/simulations/0.055/pbmc_sc_with_metadata_cpm_pc_cell_type_profiles.csv/pbmc_sc_with_metadata_cpm_pc_cell_type_profiles_n_sim_51_profiles.csv', '/space/grp/aadrian/Pseudobulk_Function_Pipeline_HighRes/bin/bulkSimulationOneProfile/data/simulations/0.055/pbmc_sc_with_metadata_cpm_pc_cell_type_profiles.csv/pbmc_sc_with_metadata_cpm_pc_cell_type_profiles_n_sim_54_profiles.csv', '/space/grp/aadrian/Pseudobulk_Function_Pipeline_HighRes/bin/bulkSimulationOneProfile/data/simulations/0.055/pbmc_sc_with_metadata_cpm_pc_cell_type_profiles.csv/pbmc_sc_with_metadata_cpm_pc_cell_type_profiles_n_sim_55_profiles.csv', '/space/grp/aadrian/Pseudobulk_Function_Pipeline_HighRes/bin/bulkSimulationOneProfile/data/simulations/0.055/pbmc_sc_with_metadata_cpm_pc_cell_type_profiles.csv/pbmc_sc_with_metadata_cpm_pc_cell_type_profiles_n_sim_88_profiles.csv', '/space/grp/aadrian/Pseudobulk_Function_Pipeline_HighRes/bin/bulkSimulationOneProfile/data/simulations/0.055/pbmc_sc_with_metadata_cpm_pc_cell_type_profiles.csv/pbmc_sc_with_metadata_cpm_pc_cell_type_profiles_n_sim_57_profiles.csv', '/space/grp/aadrian/Pseudobulk_Function_Pipeline_HighRes/bin/bulkSimulationOneProfile/data/simulations/0.055/pbmc_sc_with_metadata_cpm_pc_cell_type_profiles.csv/pbmc_sc_with_metadata_cpm_pc_cell_type_profiles_n_sim_56_profiles.csv', '/space/grp/aadrian/Pseudobulk_Function_Pipeline_HighRes/bin/bulkSimulationOneProfile/data/simulations/0.055/pbmc_sc_with_metadata_cpm_pc_cell_type_profiles.csv/pbmc_sc_with_metadata_cpm_pc_cell_type_profiles_n_sim_89_profiles.csv', '/space/grp/aadrian/Pseudobulk_Function_Pipeline_HighRes/bin/bulkSimulationOneProfile/data/simulations/0.055/pbmc_sc_with_metadata_cpm_pc_cell_type_profiles.csv/pbmc_sc_with_metadata_cpm_pc_cell_type_profiles_n_sim_98_profiles.csv', '/space/grp/aadrian/Pseudobulk_Function_Pipeline_HighRes/bin/bulkSimulationOneProfile/data/simulations/0.055/pbmc_sc_with_metadata_cpm_pc_cell_type_profiles.csv/pbmc_sc_with_metadata_cpm_pc_cell_type_profiles_n_sim_47_profiles.csv', '/space/grp/aadrian/Pseudobulk_Function_Pipeline_HighRes/bin/bulkSimulationOneProfile/data/simulations/0.055/pbmc_sc_with_metadata_cpm_pc_cell_type_profiles.csv/pbmc_sc_with_metadata_cpm_pc_cell_type_profiles_n_sim_6_profiles.csv', '/space/grp/aadrian/Pseudobulk_Function_Pipeline_HighRes/bin/bulkSimulationOneProfile/data/simulations/0.055/pbmc_sc_with_metadata_cpm_pc_cell_type_profiles.csv/pbmc_sc_with_metadata_cpm_pc_cell_type_profiles_n_sim_14_profiles.csv', '/space/grp/aadrian/Pseudobulk_Function_Pipeline_HighRes/bin/bulkSimulationOneProfile/data/simulations/0.055/pbmc_sc_with_metadata_cpm_pc_cell_type_profiles.csv/pbmc_sc_with_metadata_cpm_pc_cell_type_profiles_n_sim_46_profiles.csv', '/space/grp/aadrian/Pseudobulk_Function_Pipeline_HighRes/bin/bulkSimulationOneProfile/data/simulations/0.055/pbmc_sc_with_metadata_cpm_pc_cell_type_profiles.csv/pbmc_sc_with_metadata_cpm_pc_cell_type_profiles_n_sim_99_profiles.csv', '/space/grp/aadrian/Pseudobulk_Function_Pipeline_HighRes/bin/bulkSimulationOneProfile/data/simulations/0.055/pbmc_sc_with_metadata_cpm_pc_cell_type_profiles.csv/pbmc_sc_with_metadata_cpm_pc_cell_type_profiles_n_sim_15_profiles.csv', '/space/grp/aadrian/Pseudobulk_Function_Pipeline_HighRes/bin/bulkSimulationOneProfile/data/simulations/0.055/pbmc_sc_with_metadata_cpm_pc_cell_type_profiles.csv/pbmc_sc_with_metadata_cpm_pc_cell_type_profiles_n_sim_7_profiles.csv', '/space/grp/aadrian/Pseudobulk_Function_Pipeline_HighRes/bin/bulkSimulationOneProfile/data/simulations/0.055/pbmc_sc_with_metadata_cpm_pc_cell_type_profiles.csv/pbmc_sc_with_metadata_cpm_pc_cell_type_profiles_n_sim_5_profiles.csv', '/space/grp/aadrian/Pseudobulk_Function_Pipeline_HighRes/bin/bulkSimulationOneProfile/data/simulations/0.055/pbmc_sc_with_metadata_cpm_pc_cell_type_profiles.csv/pbmc_sc_with_metadata_cpm_pc_cell_type_profiles_n_sim_17_profiles.csv', '/space/grp/aadrian/Pseudobulk_Function_Pipeline_HighRes/bin/bulkSimulationOneProfile/data/simulations/0.055/pbmc_sc_with_metadata_cpm_pc_cell_type_profiles.csv/pbmc_sc_with_metadata_cpm_pc_cell_type_profiles_n_sim_44_profiles.csv', '/space/grp/aadrian/Pseudobulk_Function_Pipeline_HighRes/bin/bulkSimulationOneProfile/data/simulations/0.055/pbmc_sc_with_metadata_cpm_pc_cell_type_profiles.csv/pbmc_sc_with_metadata_cpm_pc_cell_type_profiles_n_sim_16_profiles.csv', '/space/grp/aadrian/Pseudobulk_Function_Pipeline_HighRes/bin/bulkSimulationOneProfile/data/simulations/0.055/pbmc_sc_with_metadata_cpm_pc_cell_type_profiles.csv/pbmc_sc_with_metadata_cpm_pc_cell_type_profiles_n_sim_4_profiles.csv', '/space/grp/aadrian/Pseudobulk_Function_Pipeline_HighRes/bin/bulkSimulationOneProfile/data/simulations/0.055/pbmc_sc_with_metadata_cpm_pc_cell_type_profiles.csv/pbmc_sc_with_metadata_cpm_pc_cell_type_profiles_n_sim_45_profiles.csv', '/space/grp/aadrian/Pseudobulk_Function_Pipeline_HighRes/bin/bulkSimulationOneProfile/data/simulations/0.055/pbmc_sc_with_metadata_cpm_pc_cell_type_profiles.csv/pbmc_sc_with_metadata_cpm_pc_cell_type_profiles_n_sim_40_profiles.csv', '/space/grp/aadrian/Pseudobulk_Function_Pipeline_HighRes/bin/bulkSimulationOneProfile/data/simulations/0.055/pbmc_sc_with_metadata_cpm_pc_cell_type_profiles.csv/pbmc_sc_with_metadata_cpm_pc_cell_type_profiles_n_sim_13_profiles.csv', '/space/grp/aadrian/Pseudobulk_Function_Pipeline_HighRes/bin/bulkSimulationOneProfile/data/simulations/0.055/pbmc_sc_with_metadata_cpm_pc_cell_type_profiles.csv/pbmc_sc_with_metadata_cpm_pc_cell_type_profiles_n_sim_1_profiles.csv', '/space/grp/aadrian/Pseudobulk_Function_Pipeline_HighRes/bin/bulkSimulationOneProfile/data/simulations/0.055/pbmc_sc_with_metadata_cpm_pc_cell_type_profiles.csv/pbmc_sc_with_metadata_cpm_pc_cell_type_profiles_n_sim_39_profiles.csv', '/space/grp/aadrian/Pseudobulk_Function_Pipeline_HighRes/bin/bulkSimulationOneProfile/data/simulations/0.055/pbmc_sc_with_metadata_cpm_pc_cell_type_profiles.csv/pbmc_sc_with_metadata_cpm_pc_cell_type_profiles_n_sim_38_profiles.csv', '/space/grp/aadrian/Pseudobulk_Function_Pipeline_HighRes/bin/bulkSimulationOneProfile/data/simulations/0.055/pbmc_sc_with_metadata_cpm_pc_cell_type_profiles.csv/pbmc_sc_with_metadata_cpm_pc_cell_type_profiles_n_sim_41_profiles.csv', '/space/grp/aadrian/Pseudobulk_Function_Pipeline_HighRes/bin/bulkSimulationOneProfile/data/simulations/0.055/pbmc_sc_with_metadata_cpm_pc_cell_type_profiles.csv/pbmc_sc_with_metadata_cpm_pc_cell_type_profiles_n_sim_0_profiles.csv', '/space/grp/aadrian/Pseudobulk_Function_Pipeline_HighRes/bin/bulkSimulationOneProfile/data/simulations/0.055/pbmc_sc_with_metadata_cpm_pc_cell_type_profiles.csv/pbmc_sc_with_metadata_cpm_pc_cell_type_profiles_n_sim_12_profiles.csv', '/space/grp/aadrian/Pseudobulk_Function_Pipeline_HighRes/bin/bulkSimulationOneProfile/data/simulations/0.055/pbmc_sc_with_metadata_cpm_pc_cell_type_profiles.csv/pbmc_sc_with_metadata_cpm_pc_cell_type_profiles_n_sim_69_profiles.csv', '/space/grp/aadrian/Pseudobulk_Function_Pipeline_HighRes/bin/bulkSimulationOneProfile/data/simulations/0.055/pbmc_sc_with_metadata_cpm_pc_cell_type_profiles.csv/pbmc_sc_with_metadata_cpm_pc_cell_type_profiles_n_sim_10_profiles.csv', '/space/grp/aadrian/Pseudobulk_Function_Pipeline_HighRes/bin/bulkSimulationOneProfile/data/simulations/0.055/pbmc_sc_with_metadata_cpm_pc_cell_type_profiles.csv/pbmc_sc_with_metadata_cpm_pc_cell_type_profiles_n_sim_2_profiles.csv', '/space/grp/aadrian/Pseudobulk_Function_Pipeline_HighRes/bin/bulkSimulationOneProfile/data/simulations/0.055/pbmc_sc_with_metadata_cpm_pc_cell_type_profiles.csv/pbmc_sc_with_metadata_cpm_pc_cell_type_profiles_n_sim_43_profiles.csv', '/space/grp/aadrian/Pseudobulk_Function_Pipeline_HighRes/bin/bulkSimulationOneProfile/data/simulations/0.055/pbmc_sc_with_metadata_cpm_pc_cell_type_profiles.csv/pbmc_sc_with_metadata_cpm_pc_cell_type_profiles_n_sim_3_profiles.csv', '/space/grp/aadrian/Pseudobulk_Function_Pipeline_HighRes/bin/bulkSimulationOneProfile/data/simulations/0.055/pbmc_sc_with_metadata_cpm_pc_cell_type_profiles.csv/pbmc_sc_with_metadata_cpm_pc_cell_type_profiles_n_sim_11_profiles.csv', '/space/grp/aadrian/Pseudobulk_Function_Pipeline_HighRes/bin/bulkSimulationOneProfile/data/simulations/0.055/pbmc_sc_with_metadata_cpm_pc_cell_type_profiles.csv/pbmc_sc_with_metadata_cpm_pc_cell_type_profiles_n_sim_42_profiles.csv', '/space/grp/aadrian/Pseudobulk_Function_Pipeline_HighRes/bin/bulkSimulationOneProfile/data/simulations/0.055/pbmc_sc_with_metadata_cpm_pc_cell_type_profiles.csv/pbmc_sc_with_metadata_cpm_pc_cell_type_profiles_n_sim_68_profiles.csv', '/space/grp/aadrian/Pseudobulk_Function_Pipeline_HighRes/bin/bulkSimulationOneProfile/data/simulations/0.055/pbmc_sc_with_metadata_cpm_pc_cell_type_profiles.csv/pbmc_sc_with_metadata_cpm_pc_cell_type_profiles_n_sim_8_profiles.csv', '/space/grp/aadrian/Pseudobulk_Function_Pipeline_HighRes/bin/bulkSimulationOneProfile/data/simulations/0.055/pbmc_sc_with_metadata_cpm_pc_cell_type_profiles.csv/pbmc_sc_with_metadata_cpm_pc_cell_type_profiles_n_sim_96_profiles.csv', '/space/grp/aadrian/Pseudobulk_Function_Pipeline_HighRes/bin/bulkSimulationOneProfile/data/simulations/0.055/pbmc_sc_with_metadata_cpm_pc_cell_type_profiles.csv/pbmc_sc_with_metadata_cpm_pc_cell_type_profiles_n_sim_49_profiles.csv', '/space/grp/aadrian/Pseudobulk_Function_Pipeline_HighRes/bin/bulkSimulationOneProfile/data/simulations/0.055/pbmc_sc_with_metadata_cpm_pc_cell_type_profiles.csv/pbmc_sc_with_metadata_cpm_pc_cell_type_profiles_n_sim_63_profiles.csv', '/space/grp/aadrian/Pseudobulk_Function_Pipeline_HighRes/bin/bulkSimulationOneProfile/data/simulations/0.055/pbmc_sc_with_metadata_cpm_pc_cell_type_profiles.csv/pbmc_sc_with_metadata_cpm_pc_cell_type_profiles_n_sim_30_profiles.csv', '/space/grp/aadrian/Pseudobulk_Function_Pipeline_HighRes/bin/bulkSimulationOneProfile/data/simulations/0.055/pbmc_sc_with_metadata_cpm_pc_cell_type_profiles.csv/pbmc_sc_with_metadata_cpm_pc_cell_type_profiles_n_sim_62_profiles.csv', '/space/grp/aadrian/Pseudobulk_Function_Pipeline_HighRes/bin/bulkSimulationOneProfile/data/simulations/0.055/pbmc_sc_with_metadata_cpm_pc_cell_type_profiles.csv/pbmc_sc_with_metadata_cpm_pc_cell_type_profiles_n_sim_31_profiles.csv', '/space/grp/aadrian/Pseudobulk_Function_Pipeline_HighRes/bin/bulkSimulationOneProfile/data/simulations/0.055/pbmc_sc_with_metadata_cpm_pc_cell_type_profiles.csv/pbmc_sc_with_metadata_cpm_pc_cell_type_profiles_n_sim_9_profiles.csv', '/space/grp/aadrian/Pseudobulk_Function_Pipeline_HighRes/bin/bulkSimulationOneProfile/data/simulations/0.055/pbmc_sc_with_metadata_cpm_pc_cell_type_profiles.csv/pbmc_sc_with_metadata_cpm_pc_cell_type_profiles_n_sim_48_profiles.csv', '/space/grp/aadrian/Pseudobulk_Function_Pipeline_HighRes/bin/bulkSimulationOneProfile/data/simulations/0.055/pbmc_sc_with_metadata_cpm_pc_cell_type_profiles.csv/pbmc_sc_with_metadata_cpm_pc_cell_type_profiles_n_sim_97_profiles.csv', '/space/grp/aadrian/Pseudobulk_Function_Pipeline_HighRes/bin/bulkSimulationOneProfile/data/simulations/0.055/pbmc_sc_with_metadata_cpm_pc_cell_type_profiles.csv/pbmc_sc_with_metadata_cpm_pc_cell_type_profiles_n_sim_33_profiles.csv', '/space/grp/aadrian/Pseudobulk_Function_Pipeline_HighRes/bin/bulkSimulationOneProfile/data/simulations/0.055/pbmc_sc_with_metadata_cpm_pc_cell_type_profiles.csv/pbmc_sc_with_metadata_cpm_pc_cell_type_profiles_n_sim_60_profiles.csv', '/space/grp/aadrian/Pseudobulk_Function_Pipeline_HighRes/bin/bulkSimulationOneProfile/data/simulations/0.055/pbmc_sc_with_metadata_cpm_pc_cell_type_profiles.csv/pbmc_sc_with_metadata_cpm_pc_cell_type_profiles_n_sim_95_profiles.csv', '/space/grp/aadrian/Pseudobulk_Function_Pipeline_HighRes/bin/bulkSimulationOneProfile/data/simulations/0.055/pbmc_sc_with_metadata_cpm_pc_cell_type_profiles.csv/pbmc_sc_with_metadata_cpm_pc_cell_type_profiles_n_sim_19_profiles.csv', '/space/grp/aadrian/Pseudobulk_Function_Pipeline_HighRes/bin/bulkSimulationOneProfile/data/simulations/0.055/pbmc_sc_with_metadata_cpm_pc_cell_type_profiles.csv/pbmc_sc_with_metadata_cpm_pc_cell_type_profiles_n_sim_94_profiles.csv', '/space/grp/aadrian/Pseudobulk_Function_Pipeline_HighRes/bin/bulkSimulationOneProfile/data/simulations/0.055/pbmc_sc_with_metadata_cpm_pc_cell_type_profiles.csv/pbmc_sc_with_metadata_cpm_pc_cell_type_profiles_n_sim_18_profiles.csv', '/space/grp/aadrian/Pseudobulk_Function_Pipeline_HighRes/bin/bulkSimulationOneProfile/data/simulations/0.055/pbmc_sc_with_metadata_cpm_pc_cell_type_profiles.csv/pbmc_sc_with_metadata_cpm_pc_cell_type_profiles_n_sim_32_profiles.csv', '/space/grp/aadrian/Pseudobulk_Function_Pipeline_HighRes/bin/bulkSimulationOneProfile/data/simulations/0.055/pbmc_sc_with_metadata_cpm_pc_cell_type_profiles.csv/pbmc_sc_with_metadata_cpm_pc_cell_type_profiles_n_sim_61_profiles.csv', '/space/grp/aadrian/Pseudobulk_Function_Pipeline_HighRes/bin/bulkSimulationOneProfile/data/simulations/0.055/pbmc_sc_with_metadata_cpm_pc_cell_type_profiles.csv/pbmc_sc_with_metadata_cpm_pc_cell_type_profiles_n_sim_91_profiles.csv', '/space/grp/aadrian/Pseudobulk_Function_Pipeline_HighRes/bin/bulkSimulationOneProfile/data/simulations/0.055/pbmc_sc_with_metadata_cpm_pc_cell_type_profiles.csv/pbmc_sc_with_metadata_cpm_pc_cell_type_profiles_n_sim_64_profiles.csv', '/space/grp/aadrian/Pseudobulk_Function_Pipeline_HighRes/bin/bulkSimulationOneProfile/data/simulations/0.055/pbmc_sc_with_metadata_cpm_pc_cell_type_profiles.csv/pbmc_sc_with_metadata_cpm_pc_cell_type_profiles_n_sim_37_profiles.csv', '/space/grp/aadrian/Pseudobulk_Function_Pipeline_HighRes/bin/bulkSimulationOneProfile/data/simulations/0.055/pbmc_sc_with_metadata_cpm_pc_cell_type_profiles.csv/pbmc_sc_with_metadata_cpm_pc_cell_type_profiles_n_sim_65_profiles.csv', '/space/grp/aadrian/Pseudobulk_Function_Pipeline_HighRes/bin/bulkSimulationOneProfile/data/simulations/0.055/pbmc_sc_with_metadata_cpm_pc_cell_type_profiles.csv/pbmc_sc_with_metadata_cpm_pc_cell_type_profiles_n_sim_36_profiles.csv', '/space/grp/aadrian/Pseudobulk_Function_Pipeline_HighRes/bin/bulkSimulationOneProfile/data/simulations/0.055/pbmc_sc_with_metadata_cpm_pc_cell_type_profiles.csv/pbmc_sc_with_metadata_cpm_pc_cell_type_profiles_n_sim_90_profiles.csv', '/space/grp/aadrian/Pseudobulk_Function_Pipeline_HighRes/bin/bulkSimulationOneProfile/data/simulations/0.055/pbmc_sc_with_metadata_cpm_pc_cell_type_profiles.csv/pbmc_sc_with_metadata_cpm_pc_cell_type_profiles_n_sim_34_profiles.csv', '/space/grp/aadrian/Pseudobulk_Function_Pipeline_HighRes/bin/bulkSimulationOneProfile/data/simulations/0.055/pbmc_sc_with_metadata_cpm_pc_cell_type_profiles.csv/pbmc_sc_with_metadata_cpm_pc_cell_type_profiles_n_sim_67_profiles.csv', '/space/grp/aadrian/Pseudobulk_Function_Pipeline_HighRes/bin/bulkSimulationOneProfile/data/simulations/0.055/pbmc_sc_with_metadata_cpm_pc_cell_type_profiles.csv/pbmc_sc_with_metadata_cpm_pc_cell_type_profiles_n_sim_92_profiles.csv', '/space/grp/aadrian/Pseudobulk_Function_Pipeline_HighRes/bin/bulkSimulationOneProfile/data/simulations/0.055/pbmc_sc_with_metadata_cpm_pc_cell_type_profiles.csv/pbmc_sc_with_metadata_cpm_pc_cell_type_profiles_n_sim_93_profiles.csv', '/space/grp/aadrian/Pseudobulk_Function_Pipeline_HighRes/bin/bulkSimulationOneProfile/data/simulations/0.055/pbmc_sc_with_metadata_cpm_pc_cell_type_profiles.csv/pbmc_sc_with_metadata_cpm_pc_cell_type_profiles_n_sim_35_profiles.csv', '/space/grp/aadrian/Pseudobulk_Function_Pipeline_HighRes/bin/bulkSimulationOneProfile/data/simulations/0.055/pbmc_sc_with_metadata_cpm_pc_cell_type_profiles.csv/pbmc_sc_with_metadata_cpm_pc_cell_type_profiles_n_sim_66_profiles.csv'], ['/space/grp/aadrian/Pseudobulk_Function_Pipeline_HighRes/bin/bulkSimulationOneProfile/data/simulations/0.1/pbmc_sc_with_metadata_cpm_pc_cell_type_profiles.csv/pbmc_sc_with_metadata_cpm_pc_cell_type_profiles_n_sim_44_profiles.csv', '/space/grp/aadrian/Pseudobulk_Function_Pipeline_HighRes/bin/bulkSimulationOneProfile/data/simulations/0.1/pbmc_sc_with_metadata_cpm_pc_cell_type_profiles.csv/pbmc_sc_with_metadata_cpm_pc_cell_type_profiles_n_sim_17_profiles.csv', '/space/grp/aadrian/Pseudobulk_Function_Pipeline_HighRes/bin/bulkSimulationOneProfile/data/simulations/0.1/pbmc_sc_with_metadata_cpm_pc_cell_type_profiles.csv/pbmc_sc_with_metadata_cpm_pc_cell_type_profiles_n_sim_3_profiles.csv', '/space/grp/aadrian/Pseudobulk_Function_Pipeline_HighRes/bin/bulkSimulationOneProfile/data/simulations/0.1/pbmc_sc_with_metadata_cpm_pc_cell_type_profiles.csv/pbmc_sc_with_metadata_cpm_pc_cell_type_profiles_n_sim_45_profiles.csv', '/space/grp/aadrian/Pseudobulk_Function_Pipeline_HighRes/bin/bulkSimulationOneProfile/data/simulations/0.1/pbmc_sc_with_metadata_cpm_pc_cell_type_profiles.csv/pbmc_sc_with_metadata_cpm_pc_cell_type_profiles_n_sim_16_profiles.csv', '/space/grp/aadrian/Pseudobulk_Function_Pipeline_HighRes/bin/bulkSimulationOneProfile/data/simulations/0.1/pbmc_sc_with_metadata_cpm_pc_cell_type_profiles.csv/pbmc_sc_with_metadata_cpm_pc_cell_type_profiles_n_sim_2_profiles.csv', '/space/grp/aadrian/Pseudobulk_Function_Pipeline_HighRes/bin/bulkSimulationOneProfile/data/simulations/0.1/pbmc_sc_with_metadata_cpm_pc_cell_type_profiles.csv/pbmc_sc_with_metadata_cpm_pc_cell_type_profiles_n_sim_0_profiles.csv', '/space/grp/aadrian/Pseudobulk_Function_Pipeline_HighRes/bin/bulkSimulationOneProfile/data/simulations/0.1/pbmc_sc_with_metadata_cpm_pc_cell_type_profiles.csv/pbmc_sc_with_metadata_cpm_pc_cell_type_profiles_n_sim_14_profiles.csv', '/space/grp/aadrian/Pseudobulk_Function_Pipeline_HighRes/bin/bulkSimulationOneProfile/data/simulations/0.1/pbmc_sc_with_metadata_cpm_pc_cell_type_profiles.csv/pbmc_sc_with_metadata_cpm_pc_cell_type_profiles_n_sim_47_profiles.csv', '/space/grp/aadrian/Pseudobulk_Function_Pipeline_HighRes/bin/bulkSimulationOneProfile/data/simulations/0.1/pbmc_sc_with_metadata_cpm_pc_cell_type_profiles.csv/pbmc_sc_with_metadata_cpm_pc_cell_type_profiles_n_sim_98_profiles.csv', '/space/grp/aadrian/Pseudobulk_Function_Pipeline_HighRes/bin/bulkSimulationOneProfile/data/simulations/0.1/pbmc_sc_with_metadata_cpm_pc_cell_type_profiles.csv/pbmc_sc_with_metadata_cpm_pc_cell_type_profiles_n_sim_1_profiles.csv', '/space/grp/aadrian/Pseudobulk_Function_Pipeline_HighRes/bin/bulkSimulationOneProfile/data/simulations/0.1/pbmc_sc_with_metadata_cpm_pc_cell_type_profiles.csv/pbmc_sc_with_metadata_cpm_pc_cell_type_profiles_n_sim_15_profiles.csv', '/space/grp/aadrian/Pseudobulk_Function_Pipeline_HighRes/bin/bulkSimulationOneProfile/data/simulations/0.1/pbmc_sc_with_metadata_cpm_pc_cell_type_profiles.csv/pbmc_sc_with_metadata_cpm_pc_cell_type_profiles_n_sim_99_profiles.csv', '/space/grp/aadrian/Pseudobulk_Function_Pipeline_HighRes/bin/bulkSimulationOneProfile/data/simulations/0.1/pbmc_sc_with_metadata_cpm_pc_cell_type_profiles.csv/pbmc_sc_with_metadata_cpm_pc_cell_type_profiles_n_sim_46_profiles.csv', '/space/grp/aadrian/Pseudobulk_Function_Pipeline_HighRes/bin/bulkSimulationOneProfile/data/simulations/0.1/pbmc_sc_with_metadata_cpm_pc_cell_type_profiles.csv/pbmc_sc_with_metadata_cpm_pc_cell_type_profiles_n_sim_43_profiles.csv', '/space/grp/aadrian/Pseudobulk_Function_Pipeline_HighRes/bin/bulkSimulationOneProfile/data/simulations/0.1/pbmc_sc_with_metadata_cpm_pc_cell_type_profiles.csv/pbmc_sc_with_metadata_cpm_pc_cell_type_profiles_n_sim_10_profiles.csv', '/space/grp/aadrian/Pseudobulk_Function_Pipeline_HighRes/bin/bulkSimulationOneProfile/data/simulations/0.1/pbmc_sc_with_metadata_cpm_pc_cell_type_profiles.csv/pbmc_sc_with_metadata_cpm_pc_cell_type_profiles_n_sim_4_profiles.csv', '/space/grp/aadrian/Pseudobulk_Function_Pipeline_HighRes/bin/bulkSimulationOneProfile/data/simulations/0.1/pbmc_sc_with_metadata_cpm_pc_cell_type_profiles.csv/pbmc_sc_with_metadata_cpm_pc_cell_type_profiles_n_sim_69_profiles.csv', '/space/grp/aadrian/Pseudobulk_Function_Pipeline_HighRes/bin/bulkSimulationOneProfile/data/simulations/0.1/pbmc_sc_with_metadata_cpm_pc_cell_type_profiles.csv/pbmc_sc_with_metadata_cpm_pc_cell_type_profiles_n_sim_68_profiles.csv', '/space/grp/aadrian/Pseudobulk_Function_Pipeline_HighRes/bin/bulkSimulationOneProfile/data/simulations/0.1/pbmc_sc_with_metadata_cpm_pc_cell_type_profiles.csv/pbmc_sc_with_metadata_cpm_pc_cell_type_profiles_n_sim_42_profiles.csv', '/space/grp/aadrian/Pseudobulk_Function_Pipeline_HighRes/bin/bulkSimulationOneProfile/data/simulations/0.1/pbmc_sc_with_metadata_cpm_pc_cell_type_profiles.csv/pbmc_sc_with_metadata_cpm_pc_cell_type_profiles_n_sim_11_profiles.csv', '/space/grp/aadrian/Pseudobulk_Function_Pipeline_HighRes/bin/bulkSimulationOneProfile/data/simulations/0.1/pbmc_sc_with_metadata_cpm_pc_cell_type_profiles.csv/pbmc_sc_with_metadata_cpm_pc_cell_type_profiles_n_sim_5_profiles.csv', '/space/grp/aadrian/Pseudobulk_Function_Pipeline_HighRes/bin/bulkSimulationOneProfile/data/simulations/0.1/pbmc_sc_with_metadata_cpm_pc_cell_type_profiles.csv/pbmc_sc_with_metadata_cpm_pc_cell_type_profiles_n_sim_39_profiles.csv', '/space/grp/aadrian/Pseudobulk_Function_Pipeline_HighRes/bin/bulkSimulationOneProfile/data/simulations/0.1/pbmc_sc_with_metadata_cpm_pc_cell_type_profiles.csv/pbmc_sc_with_metadata_cpm_pc_cell_type_profiles_n_sim_7_profiles.csv', '/space/grp/aadrian/Pseudobulk_Function_Pipeline_HighRes/bin/bulkSimulationOneProfile/data/simulations/0.1/pbmc_sc_with_metadata_cpm_pc_cell_type_profiles.csv/pbmc_sc_with_metadata_cpm_pc_cell_type_profiles_n_sim_13_profiles.csv', '/space/grp/aadrian/Pseudobulk_Function_Pipeline_HighRes/bin/bulkSimulationOneProfile/data/simulations/0.1/pbmc_sc_with_metadata_cpm_pc_cell_type_profiles.csv/pbmc_sc_with_metadata_cpm_pc_cell_type_profiles_n_sim_40_profiles.csv', '/space/grp/aadrian/Pseudobulk_Function_Pipeline_HighRes/bin/bulkSimulationOneProfile/data/simulations/0.1/pbmc_sc_with_metadata_cpm_pc_cell_type_profiles.csv/pbmc_sc_with_metadata_cpm_pc_cell_type_profiles_n_sim_6_profiles.csv', '/space/grp/aadrian/Pseudobulk_Function_Pipeline_HighRes/bin/bulkSimulationOneProfile/data/simulations/0.1/pbmc_sc_with_metadata_cpm_pc_cell_type_profiles.csv/pbmc_sc_with_metadata_cpm_pc_cell_type_profiles_n_sim_12_profiles.csv', '/space/grp/aadrian/Pseudobulk_Function_Pipeline_HighRes/bin/bulkSimulationOneProfile/data/simulations/0.1/pbmc_sc_with_metadata_cpm_pc_cell_type_profiles.csv/pbmc_sc_with_metadata_cpm_pc_cell_type_profiles_n_sim_41_profiles.csv', '/space/grp/aadrian/Pseudobulk_Function_Pipeline_HighRes/bin/bulkSimulationOneProfile/data/simulations/0.1/pbmc_sc_with_metadata_cpm_pc_cell_type_profiles.csv/pbmc_sc_with_metadata_cpm_pc_cell_type_profiles_n_sim_38_profiles.csv', '/space/grp/aadrian/Pseudobulk_Function_Pipeline_HighRes/bin/bulkSimulationOneProfile/data/simulations/0.1/pbmc_sc_with_metadata_cpm_pc_cell_type_profiles.csv/pbmc_sc_with_metadata_cpm_pc_cell_type_profiles_n_sim_19_profiles.csv', '/space/grp/aadrian/Pseudobulk_Function_Pipeline_HighRes/bin/bulkSimulationOneProfile/data/simulations/0.1/pbmc_sc_with_metadata_cpm_pc_cell_type_profiles.csv/pbmc_sc_with_metadata_cpm_pc_cell_type_profiles_n_sim_95_profiles.csv', '/space/grp/aadrian/Pseudobulk_Function_Pipeline_HighRes/bin/bulkSimulationOneProfile/data/simulations/0.1/pbmc_sc_with_metadata_cpm_pc_cell_type_profiles.csv/pbmc_sc_with_metadata_cpm_pc_cell_type_profiles_n_sim_60_profiles.csv', '/space/grp/aadrian/Pseudobulk_Function_Pipeline_HighRes/bin/bulkSimulationOneProfile/data/simulations/0.1/pbmc_sc_with_metadata_cpm_pc_cell_type_profiles.csv/pbmc_sc_with_metadata_cpm_pc_cell_type_profiles_n_sim_33_profiles.csv', '/space/grp/aadrian/Pseudobulk_Function_Pipeline_HighRes/bin/bulkSimulationOneProfile/data/simulations/0.1/pbmc_sc_with_metadata_cpm_pc_cell_type_profiles.csv/pbmc_sc_with_metadata_cpm_pc_cell_type_profiles_n_sim_61_profiles.csv', '/space/grp/aadrian/Pseudobulk_Function_Pipeline_HighRes/bin/bulkSimulationOneProfile/data/simulations/0.1/pbmc_sc_with_metadata_cpm_pc_cell_type_profiles.csv/pbmc_sc_with_metadata_cpm_pc_cell_type_profiles_n_sim_32_profiles.csv', '/space/grp/aadrian/Pseudobulk_Function_Pipeline_HighRes/bin/bulkSimulationOneProfile/data/simulations/0.1/pbmc_sc_with_metadata_cpm_pc_cell_type_profiles.csv/pbmc_sc_with_metadata_cpm_pc_cell_type_profiles_n_sim_18_profiles.csv', '/space/grp/aadrian/Pseudobulk_Function_Pipeline_HighRes/bin/bulkSimulationOneProfile/data/simulations/0.1/pbmc_sc_with_metadata_cpm_pc_cell_type_profiles.csv/pbmc_sc_with_metadata_cpm_pc_cell_type_profiles_n_sim_94_profiles.csv', '/space/grp/aadrian/Pseudobulk_Function_Pipeline_HighRes/bin/bulkSimulationOneProfile/data/simulations/0.1/pbmc_sc_with_metadata_cpm_pc_cell_type_profiles.csv/pbmc_sc_with_metadata_cpm_pc_cell_type_profiles_n_sim_30_profiles.csv', '/space/grp/aadrian/Pseudobulk_Function_Pipeline_HighRes/bin/bulkSimulationOneProfile/data/simulations/0.1/pbmc_sc_with_metadata_cpm_pc_cell_type_profiles.csv/pbmc_sc_with_metadata_cpm_pc_cell_type_profiles_n_sim_63_profiles.csv', '/space/grp/aadrian/Pseudobulk_Function_Pipeline_HighRes/bin/bulkSimulationOneProfile/data/simulations/0.1/pbmc_sc_with_metadata_cpm_pc_cell_type_profiles.csv/pbmc_sc_with_metadata_cpm_pc_cell_type_profiles_n_sim_49_profiles.csv', '/space/grp/aadrian/Pseudobulk_Function_Pipeline_HighRes/bin/bulkSimulationOneProfile/data/simulations/0.1/pbmc_sc_with_metadata_cpm_pc_cell_type_profiles.csv/pbmc_sc_with_metadata_cpm_pc_cell_type_profiles_n_sim_96_profiles.csv', '/space/grp/aadrian/Pseudobulk_Function_Pipeline_HighRes/bin/bulkSimulationOneProfile/data/simulations/0.1/pbmc_sc_with_metadata_cpm_pc_cell_type_profiles.csv/pbmc_sc_with_metadata_cpm_pc_cell_type_profiles_n_sim_97_profiles.csv', '/space/grp/aadrian/Pseudobulk_Function_Pipeline_HighRes/bin/bulkSimulationOneProfile/data/simulations/0.1/pbmc_sc_with_metadata_cpm_pc_cell_type_profiles.csv/pbmc_sc_with_metadata_cpm_pc_cell_type_profiles_n_sim_48_profiles.csv', '/space/grp/aadrian/Pseudobulk_Function_Pipeline_HighRes/bin/bulkSimulationOneProfile/data/simulations/0.1/pbmc_sc_with_metadata_cpm_pc_cell_type_profiles.csv/pbmc_sc_with_metadata_cpm_pc_cell_type_profiles_n_sim_31_profiles.csv', '/space/grp/aadrian/Pseudobulk_Function_Pipeline_HighRes/bin/bulkSimulationOneProfile/data/simulations/0.1/pbmc_sc_with_metadata_cpm_pc_cell_type_profiles.csv/pbmc_sc_with_metadata_cpm_pc_cell_type_profiles_n_sim_62_profiles.csv', '/space/grp/aadrian/Pseudobulk_Function_Pipeline_HighRes/bin/bulkSimulationOneProfile/data/simulations/0.1/pbmc_sc_with_metadata_cpm_pc_cell_type_profiles.csv/pbmc_sc_with_metadata_cpm_pc_cell_type_profiles_n_sim_92_profiles.csv', '/space/grp/aadrian/Pseudobulk_Function_Pipeline_HighRes/bin/bulkSimulationOneProfile/data/simulations/0.1/pbmc_sc_with_metadata_cpm_pc_cell_type_profiles.csv/pbmc_sc_with_metadata_cpm_pc_cell_type_profiles_n_sim_67_profiles.csv', '/space/grp/aadrian/Pseudobulk_Function_Pipeline_HighRes/bin/bulkSimulationOneProfile/data/simulations/0.1/pbmc_sc_with_metadata_cpm_pc_cell_type_profiles.csv/pbmc_sc_with_metadata_cpm_pc_cell_type_profiles_n_sim_34_profiles.csv', '/space/grp/aadrian/Pseudobulk_Function_Pipeline_HighRes/bin/bulkSimulationOneProfile/data/simulations/0.1/pbmc_sc_with_metadata_cpm_pc_cell_type_profiles.csv/pbmc_sc_with_metadata_cpm_pc_cell_type_profiles_n_sim_66_profiles.csv', '/space/grp/aadrian/Pseudobulk_Function_Pipeline_HighRes/bin/bulkSimulationOneProfile/data/simulations/0.1/pbmc_sc_with_metadata_cpm_pc_cell_type_profiles.csv/pbmc_sc_with_metadata_cpm_pc_cell_type_profiles_n_sim_35_profiles.csv', '/space/grp/aadrian/Pseudobulk_Function_Pipeline_HighRes/bin/bulkSimulationOneProfile/data/simulations/0.1/pbmc_sc_with_metadata_cpm_pc_cell_type_profiles.csv/pbmc_sc_with_metadata_cpm_pc_cell_type_profiles_n_sim_93_profiles.csv', '/space/grp/aadrian/Pseudobulk_Function_Pipeline_HighRes/bin/bulkSimulationOneProfile/data/simulations/0.1/pbmc_sc_with_metadata_cpm_pc_cell_type_profiles.csv/pbmc_sc_with_metadata_cpm_pc_cell_type_profiles_n_sim_37_profiles.csv', '/space/grp/aadrian/Pseudobulk_Function_Pipeline_HighRes/bin/bulkSimulationOneProfile/data/simulations/0.1/pbmc_sc_with_metadata_cpm_pc_cell_type_profiles.csv/pbmc_sc_with_metadata_cpm_pc_cell_type_profiles_n_sim_64_profiles.csv', '/space/grp/aadrian/Pseudobulk_Function_Pipeline_HighRes/bin/bulkSimulationOneProfile/data/simulations/0.1/pbmc_sc_with_metadata_cpm_pc_cell_type_profiles.csv/pbmc_sc_with_metadata_cpm_pc_cell_type_profiles_n_sim_91_profiles.csv', '/space/grp/aadrian/Pseudobulk_Function_Pipeline_HighRes/bin/bulkSimulationOneProfile/data/simulations/0.1/pbmc_sc_with_metadata_cpm_pc_cell_type_profiles.csv/pbmc_sc_with_metadata_cpm_pc_cell_type_profiles_n_sim_9_profiles.csv', '/space/grp/aadrian/Pseudobulk_Function_Pipeline_HighRes/bin/bulkSimulationOneProfile/data/simulations/0.1/pbmc_sc_with_metadata_cpm_pc_cell_type_profiles.csv/pbmc_sc_with_metadata_cpm_pc_cell_type_profiles_n_sim_90_profiles.csv', '/space/grp/aadrian/Pseudobulk_Function_Pipeline_HighRes/bin/bulkSimulationOneProfile/data/simulations/0.1/pbmc_sc_with_metadata_cpm_pc_cell_type_profiles.csv/pbmc_sc_with_metadata_cpm_pc_cell_type_profiles_n_sim_8_profiles.csv', '/space/grp/aadrian/Pseudobulk_Function_Pipeline_HighRes/bin/bulkSimulationOneProfile/data/simulations/0.1/pbmc_sc_with_metadata_cpm_pc_cell_type_profiles.csv/pbmc_sc_with_metadata_cpm_pc_cell_type_profiles_n_sim_36_profiles.csv', '/space/grp/aadrian/Pseudobulk_Function_Pipeline_HighRes/bin/bulkSimulationOneProfile/data/simulations/0.1/pbmc_sc_with_metadata_cpm_pc_cell_type_profiles.csv/pbmc_sc_with_metadata_cpm_pc_cell_type_profiles_n_sim_65_profiles.csv', '/space/grp/aadrian/Pseudobulk_Function_Pipeline_HighRes/bin/bulkSimulationOneProfile/data/simulations/0.1/pbmc_sc_with_metadata_cpm_pc_cell_type_profiles.csv/pbmc_sc_with_metadata_cpm_pc_cell_type_profiles_n_sim_27_profiles.csv', '/space/grp/aadrian/Pseudobulk_Function_Pipeline_HighRes/bin/bulkSimulationOneProfile/data/simulations/0.1/pbmc_sc_with_metadata_cpm_pc_cell_type_profiles.csv/pbmc_sc_with_metadata_cpm_pc_cell_type_profiles_n_sim_74_profiles.csv', '/space/grp/aadrian/Pseudobulk_Function_Pipeline_HighRes/bin/bulkSimulationOneProfile/data/simulations/0.1/pbmc_sc_with_metadata_cpm_pc_cell_type_profiles.csv/pbmc_sc_with_metadata_cpm_pc_cell_type_profiles_n_sim_81_profiles.csv', '/space/grp/aadrian/Pseudobulk_Function_Pipeline_HighRes/bin/bulkSimulationOneProfile/data/simulations/0.1/pbmc_sc_with_metadata_cpm_pc_cell_type_profiles.csv/pbmc_sc_with_metadata_cpm_pc_cell_type_profiles_n_sim_80_profiles.csv', '/space/grp/aadrian/Pseudobulk_Function_Pipeline_HighRes/bin/bulkSimulationOneProfile/data/simulations/0.1/pbmc_sc_with_metadata_cpm_pc_cell_type_profiles.csv/pbmc_sc_with_metadata_cpm_pc_cell_type_profiles_n_sim_26_profiles.csv', '/space/grp/aadrian/Pseudobulk_Function_Pipeline_HighRes/bin/bulkSimulationOneProfile/data/simulations/0.1/pbmc_sc_with_metadata_cpm_pc_cell_type_profiles.csv/pbmc_sc_with_metadata_cpm_pc_cell_type_profiles_n_sim_75_profiles.csv', '/space/grp/aadrian/Pseudobulk_Function_Pipeline_HighRes/bin/bulkSimulationOneProfile/data/simulations/0.1/pbmc_sc_with_metadata_cpm_pc_cell_type_profiles.csv/pbmc_sc_with_metadata_cpm_pc_cell_type_profiles_n_sim_82_profiles.csv', '/space/grp/aadrian/Pseudobulk_Function_Pipeline_HighRes/bin/bulkSimulationOneProfile/data/simulations/0.1/pbmc_sc_with_metadata_cpm_pc_cell_type_profiles.csv/pbmc_sc_with_metadata_cpm_pc_cell_type_profiles_n_sim_77_profiles.csv', '/space/grp/aadrian/Pseudobulk_Function_Pipeline_HighRes/bin/bulkSimulationOneProfile/data/simulations/0.1/pbmc_sc_with_metadata_cpm_pc_cell_type_profiles.csv/pbmc_sc_with_metadata_cpm_pc_cell_type_profiles_n_sim_24_profiles.csv', '/space/grp/aadrian/Pseudobulk_Function_Pipeline_HighRes/bin/bulkSimulationOneProfile/data/simulations/0.1/pbmc_sc_with_metadata_cpm_pc_cell_type_profiles.csv/pbmc_sc_with_metadata_cpm_pc_cell_type_profiles_n_sim_76_profiles.csv', '/space/grp/aadrian/Pseudobulk_Function_Pipeline_HighRes/bin/bulkSimulationOneProfile/data/simulations/0.1/pbmc_sc_with_metadata_cpm_pc_cell_type_profiles.csv/pbmc_sc_with_metadata_cpm_pc_cell_type_profiles_n_sim_25_profiles.csv', '/space/grp/aadrian/Pseudobulk_Function_Pipeline_HighRes/bin/bulkSimulationOneProfile/data/simulations/0.1/pbmc_sc_with_metadata_cpm_pc_cell_type_profiles.csv/pbmc_sc_with_metadata_cpm_pc_cell_type_profiles_n_sim_83_profiles.csv', '/space/grp/aadrian/Pseudobulk_Function_Pipeline_HighRes/bin/bulkSimulationOneProfile/data/simulations/0.1/pbmc_sc_with_metadata_cpm_pc_cell_type_profiles.csv/pbmc_sc_with_metadata_cpm_pc_cell_type_profiles_n_sim_20_profiles.csv', '/space/grp/aadrian/Pseudobulk_Function_Pipeline_HighRes/bin/bulkSimulationOneProfile/data/simulations/0.1/pbmc_sc_with_metadata_cpm_pc_cell_type_profiles.csv/pbmc_sc_with_metadata_cpm_pc_cell_type_profiles_n_sim_73_profiles.csv', '/space/grp/aadrian/Pseudobulk_Function_Pipeline_HighRes/bin/bulkSimulationOneProfile/data/simulations/0.1/pbmc_sc_with_metadata_cpm_pc_cell_type_profiles.csv/pbmc_sc_with_metadata_cpm_pc_cell_type_profiles_n_sim_59_profiles.csv', '/space/grp/aadrian/Pseudobulk_Function_Pipeline_HighRes/bin/bulkSimulationOneProfile/data/simulations/0.1/pbmc_sc_with_metadata_cpm_pc_cell_type_profiles.csv/pbmc_sc_with_metadata_cpm_pc_cell_type_profiles_n_sim_86_profiles.csv', '/space/grp/aadrian/Pseudobulk_Function_Pipeline_HighRes/bin/bulkSimulationOneProfile/data/simulations/0.1/pbmc_sc_with_metadata_cpm_pc_cell_type_profiles.csv/pbmc_sc_with_metadata_cpm_pc_cell_type_profiles_n_sim_87_profiles.csv', '/space/grp/aadrian/Pseudobulk_Function_Pipeline_HighRes/bin/bulkSimulationOneProfile/data/simulations/0.1/pbmc_sc_with_metadata_cpm_pc_cell_type_profiles.csv/pbmc_sc_with_metadata_cpm_pc_cell_type_profiles_n_sim_58_profiles.csv', '/space/grp/aadrian/Pseudobulk_Function_Pipeline_HighRes/bin/bulkSimulationOneProfile/data/simulations/0.1/pbmc_sc_with_metadata_cpm_pc_cell_type_profiles.csv/pbmc_sc_with_metadata_cpm_pc_cell_type_profiles_n_sim_21_profiles.csv', '/space/grp/aadrian/Pseudobulk_Function_Pipeline_HighRes/bin/bulkSimulationOneProfile/data/simulations/0.1/pbmc_sc_with_metadata_cpm_pc_cell_type_profiles.csv/pbmc_sc_with_metadata_cpm_pc_cell_type_profiles_n_sim_72_profiles.csv', '/space/grp/aadrian/Pseudobulk_Function_Pipeline_HighRes/bin/bulkSimulationOneProfile/data/simulations/0.1/pbmc_sc_with_metadata_cpm_pc_cell_type_profiles.csv/pbmc_sc_with_metadata_cpm_pc_cell_type_profiles_n_sim_85_profiles.csv', '/space/grp/aadrian/Pseudobulk_Function_Pipeline_HighRes/bin/bulkSimulationOneProfile/data/simulations/0.1/pbmc_sc_with_metadata_cpm_pc_cell_type_profiles.csv/pbmc_sc_with_metadata_cpm_pc_cell_type_profiles_n_sim_70_profiles.csv', '/space/grp/aadrian/Pseudobulk_Function_Pipeline_HighRes/bin/bulkSimulationOneProfile/data/simulations/0.1/pbmc_sc_with_metadata_cpm_pc_cell_type_profiles.csv/pbmc_sc_with_metadata_cpm_pc_cell_type_profiles_n_sim_23_profiles.csv', '/space/grp/aadrian/Pseudobulk_Function_Pipeline_HighRes/bin/bulkSimulationOneProfile/data/simulations/0.1/pbmc_sc_with_metadata_cpm_pc_cell_type_profiles.csv/pbmc_sc_with_metadata_cpm_pc_cell_type_profiles_n_sim_71_profiles.csv', '/space/grp/aadrian/Pseudobulk_Function_Pipeline_HighRes/bin/bulkSimulationOneProfile/data/simulations/0.1/pbmc_sc_with_metadata_cpm_pc_cell_type_profiles.csv/pbmc_sc_with_metadata_cpm_pc_cell_type_profiles_n_sim_22_profiles.csv', '/space/grp/aadrian/Pseudobulk_Function_Pipeline_HighRes/bin/bulkSimulationOneProfile/data/simulations/0.1/pbmc_sc_with_metadata_cpm_pc_cell_type_profiles.csv/pbmc_sc_with_metadata_cpm_pc_cell_type_profiles_n_sim_84_profiles.csv', '/space/grp/aadrian/Pseudobulk_Function_Pipeline_HighRes/bin/bulkSimulationOneProfile/data/simulations/0.1/pbmc_sc_with_metadata_cpm_pc_cell_type_profiles.csv/pbmc_sc_with_metadata_cpm_pc_cell_type_profiles_n_sim_29_profiles.csv', '/space/grp/aadrian/Pseudobulk_Function_Pipeline_HighRes/bin/bulkSimulationOneProfile/data/simulations/0.1/pbmc_sc_with_metadata_cpm_pc_cell_type_profiles.csv/pbmc_sc_with_metadata_cpm_pc_cell_type_profiles_n_sim_50_profiles.csv', '/space/grp/aadrian/Pseudobulk_Function_Pipeline_HighRes/bin/bulkSimulationOneProfile/data/simulations/0.1/pbmc_sc_with_metadata_cpm_pc_cell_type_profiles.csv/pbmc_sc_with_metadata_cpm_pc_cell_type_profiles_n_sim_51_profiles.csv', '/space/grp/aadrian/Pseudobulk_Function_Pipeline_HighRes/bin/bulkSimulationOneProfile/data/simulations/0.1/pbmc_sc_with_metadata_cpm_pc_cell_type_profiles.csv/pbmc_sc_with_metadata_cpm_pc_cell_type_profiles_n_sim_28_profiles.csv', '/space/grp/aadrian/Pseudobulk_Function_Pipeline_HighRes/bin/bulkSimulationOneProfile/data/simulations/0.1/pbmc_sc_with_metadata_cpm_pc_cell_type_profiles.csv/pbmc_sc_with_metadata_cpm_pc_cell_type_profiles_n_sim_53_profiles.csv', '/space/grp/aadrian/Pseudobulk_Function_Pipeline_HighRes/bin/bulkSimulationOneProfile/data/simulations/0.1/pbmc_sc_with_metadata_cpm_pc_cell_type_profiles.csv/pbmc_sc_with_metadata_cpm_pc_cell_type_profiles_n_sim_79_profiles.csv', '/space/grp/aadrian/Pseudobulk_Function_Pipeline_HighRes/bin/bulkSimulationOneProfile/data/simulations/0.1/pbmc_sc_with_metadata_cpm_pc_cell_type_profiles.csv/pbmc_sc_with_metadata_cpm_pc_cell_type_profiles_n_sim_78_profiles.csv', '/space/grp/aadrian/Pseudobulk_Function_Pipeline_HighRes/bin/bulkSimulationOneProfile/data/simulations/0.1/pbmc_sc_with_metadata_cpm_pc_cell_type_profiles.csv/pbmc_sc_with_metadata_cpm_pc_cell_type_profiles_n_sim_52_profiles.csv', '/space/grp/aadrian/Pseudobulk_Function_Pipeline_HighRes/bin/bulkSimulationOneProfile/data/simulations/0.1/pbmc_sc_with_metadata_cpm_pc_cell_type_profiles.csv/pbmc_sc_with_metadata_cpm_pc_cell_type_profiles_n_sim_57_profiles.csv', '/space/grp/aadrian/Pseudobulk_Function_Pipeline_HighRes/bin/bulkSimulationOneProfile/data/simulations/0.1/pbmc_sc_with_metadata_cpm_pc_cell_type_profiles.csv/pbmc_sc_with_metadata_cpm_pc_cell_type_profiles_n_sim_88_profiles.csv', '/space/grp/aadrian/Pseudobulk_Function_Pipeline_HighRes/bin/bulkSimulationOneProfile/data/simulations/0.1/pbmc_sc_with_metadata_cpm_pc_cell_type_profiles.csv/pbmc_sc_with_metadata_cpm_pc_cell_type_profiles_n_sim_89_profiles.csv', '/space/grp/aadrian/Pseudobulk_Function_Pipeline_HighRes/bin/bulkSimulationOneProfile/data/simulations/0.1/pbmc_sc_with_metadata_cpm_pc_cell_type_profiles.csv/pbmc_sc_with_metadata_cpm_pc_cell_type_profiles_n_sim_56_profiles.csv', '/space/grp/aadrian/Pseudobulk_Function_Pipeline_HighRes/bin/bulkSimulationOneProfile/data/simulations/0.1/pbmc_sc_with_metadata_cpm_pc_cell_type_profiles.csv/pbmc_sc_with_metadata_cpm_pc_cell_type_profiles_n_sim_54_profiles.csv', '/space/grp/aadrian/Pseudobulk_Function_Pipeline_HighRes/bin/bulkSimulationOneProfile/data/simulations/0.1/pbmc_sc_with_metadata_cpm_pc_cell_type_profiles.csv/pbmc_sc_with_metadata_cpm_pc_cell_type_profiles_n_sim_55_profiles.csv'], ['/space/grp/aadrian/Pseudobulk_Function_Pipeline_HighRes/bin/bulkSimulationOneProfile/data/simulations/0.025/pbmc_sc_with_metadata_cpm_pc_cell_type_profiles.csv/pbmc_sc_with_metadata_cpm_pc_cell_type_profiles_n_sim_59_profiles.csv', '/space/grp/aadrian/Pseudobulk_Function_Pipeline_HighRes/bin/bulkSimulationOneProfile/data/simulations/0.025/pbmc_sc_with_metadata_cpm_pc_cell_type_profiles.csv/pbmc_sc_with_metadata_cpm_pc_cell_type_profiles_n_sim_86_profiles.csv', '/space/grp/aadrian/Pseudobulk_Function_Pipeline_HighRes/bin/bulkSimulationOneProfile/data/simulations/0.025/pbmc_sc_with_metadata_cpm_pc_cell_type_profiles.csv/pbmc_sc_with_metadata_cpm_pc_cell_type_profiles_n_sim_0_profiles.csv', '/space/grp/aadrian/Pseudobulk_Function_Pipeline_HighRes/bin/bulkSimulationOneProfile/data/simulations/0.025/pbmc_sc_with_metadata_cpm_pc_cell_type_profiles.csv/pbmc_sc_with_metadata_cpm_pc_cell_type_profiles_n_sim_73_profiles.csv', '/space/grp/aadrian/Pseudobulk_Function_Pipeline_HighRes/bin/bulkSimulationOneProfile/data/simulations/0.025/pbmc_sc_with_metadata_cpm_pc_cell_type_profiles.csv/pbmc_sc_with_metadata_cpm_pc_cell_type_profiles_n_sim_20_profiles.csv', '/space/grp/aadrian/Pseudobulk_Function_Pipeline_HighRes/bin/bulkSimulationOneProfile/data/simulations/0.025/pbmc_sc_with_metadata_cpm_pc_cell_type_profiles.csv/pbmc_sc_with_metadata_cpm_pc_cell_type_profiles_n_sim_72_profiles.csv', '/space/grp/aadrian/Pseudobulk_Function_Pipeline_HighRes/bin/bulkSimulationOneProfile/data/simulations/0.025/pbmc_sc_with_metadata_cpm_pc_cell_type_profiles.csv/pbmc_sc_with_metadata_cpm_pc_cell_type_profiles_n_sim_1_profiles.csv', '/space/grp/aadrian/Pseudobulk_Function_Pipeline_HighRes/bin/bulkSimulationOneProfile/data/simulations/0.025/pbmc_sc_with_metadata_cpm_pc_cell_type_profiles.csv/pbmc_sc_with_metadata_cpm_pc_cell_type_profiles_n_sim_21_profiles.csv', '/space/grp/aadrian/Pseudobulk_Function_Pipeline_HighRes/bin/bulkSimulationOneProfile/data/simulations/0.025/pbmc_sc_with_metadata_cpm_pc_cell_type_profiles.csv/pbmc_sc_with_metadata_cpm_pc_cell_type_profiles_n_sim_87_profiles.csv', '/space/grp/aadrian/Pseudobulk_Function_Pipeline_HighRes/bin/bulkSimulationOneProfile/data/simulations/0.025/pbmc_sc_with_metadata_cpm_pc_cell_type_profiles.csv/pbmc_sc_with_metadata_cpm_pc_cell_type_profiles_n_sim_58_profiles.csv', '/space/grp/aadrian/Pseudobulk_Function_Pipeline_HighRes/bin/bulkSimulationOneProfile/data/simulations/0.025/pbmc_sc_with_metadata_cpm_pc_cell_type_profiles.csv/pbmc_sc_with_metadata_cpm_pc_cell_type_profiles_n_sim_23_profiles.csv', '/space/grp/aadrian/Pseudobulk_Function_Pipeline_HighRes/bin/bulkSimulationOneProfile/data/simulations/0.025/pbmc_sc_with_metadata_cpm_pc_cell_type_profiles.csv/pbmc_sc_with_metadata_cpm_pc_cell_type_profiles_n_sim_3_profiles.csv', '/space/grp/aadrian/Pseudobulk_Function_Pipeline_HighRes/bin/bulkSimulationOneProfile/data/simulations/0.025/pbmc_sc_with_metadata_cpm_pc_cell_type_profiles.csv/pbmc_sc_with_metadata_cpm_pc_cell_type_profiles_n_sim_70_profiles.csv', '/space/grp/aadrian/Pseudobulk_Function_Pipeline_HighRes/bin/bulkSimulationOneProfile/data/simulations/0.025/pbmc_sc_with_metadata_cpm_pc_cell_type_profiles.csv/pbmc_sc_with_metadata_cpm_pc_cell_type_profiles_n_sim_85_profiles.csv', '/space/grp/aadrian/Pseudobulk_Function_Pipeline_HighRes/bin/bulkSimulationOneProfile/data/simulations/0.025/pbmc_sc_with_metadata_cpm_pc_cell_type_profiles.csv/pbmc_sc_with_metadata_cpm_pc_cell_type_profiles_n_sim_84_profiles.csv', '/space/grp/aadrian/Pseudobulk_Function_Pipeline_HighRes/bin/bulkSimulationOneProfile/data/simulations/0.025/pbmc_sc_with_metadata_cpm_pc_cell_type_profiles.csv/pbmc_sc_with_metadata_cpm_pc_cell_type_profiles_n_sim_22_profiles.csv', '/space/grp/aadrian/Pseudobulk_Function_Pipeline_HighRes/bin/bulkSimulationOneProfile/data/simulations/0.025/pbmc_sc_with_metadata_cpm_pc_cell_type_profiles.csv/pbmc_sc_with_metadata_cpm_pc_cell_type_profiles_n_sim_71_profiles.csv', '/space/grp/aadrian/Pseudobulk_Function_Pipeline_HighRes/bin/bulkSimulationOneProfile/data/simulations/0.025/pbmc_sc_with_metadata_cpm_pc_cell_type_profiles.csv/pbmc_sc_with_metadata_cpm_pc_cell_type_profiles_n_sim_2_profiles.csv', '/space/grp/aadrian/Pseudobulk_Function_Pipeline_HighRes/bin/bulkSimulationOneProfile/data/simulations/0.025/pbmc_sc_with_metadata_cpm_pc_cell_type_profiles.csv/pbmc_sc_with_metadata_cpm_pc_cell_type_profiles_n_sim_81_profiles.csv', '/space/grp/aadrian/Pseudobulk_Function_Pipeline_HighRes/bin/bulkSimulationOneProfile/data/simulations/0.025/pbmc_sc_with_metadata_cpm_pc_cell_type_profiles.csv/pbmc_sc_with_metadata_cpm_pc_cell_type_profiles_n_sim_74_profiles.csv', '/space/grp/aadrian/Pseudobulk_Function_Pipeline_HighRes/bin/bulkSimulationOneProfile/data/simulations/0.025/pbmc_sc_with_metadata_cpm_pc_cell_type_profiles.csv/pbmc_sc_with_metadata_cpm_pc_cell_type_profiles_n_sim_7_profiles.csv', '/space/grp/aadrian/Pseudobulk_Function_Pipeline_HighRes/bin/bulkSimulationOneProfile/data/simulations/0.025/pbmc_sc_with_metadata_cpm_pc_cell_type_profiles.csv/pbmc_sc_with_metadata_cpm_pc_cell_type_profiles_n_sim_27_profiles.csv', '/space/grp/aadrian/Pseudobulk_Function_Pipeline_HighRes/bin/bulkSimulationOneProfile/data/simulations/0.025/pbmc_sc_with_metadata_cpm_pc_cell_type_profiles.csv/pbmc_sc_with_metadata_cpm_pc_cell_type_profiles_n_sim_6_profiles.csv', '/space/grp/aadrian/Pseudobulk_Function_Pipeline_HighRes/bin/bulkSimulationOneProfile/data/simulations/0.025/pbmc_sc_with_metadata_cpm_pc_cell_type_profiles.csv/pbmc_sc_with_metadata_cpm_pc_cell_type_profiles_n_sim_75_profiles.csv', '/space/grp/aadrian/Pseudobulk_Function_Pipeline_HighRes/bin/bulkSimulationOneProfile/data/simulations/0.025/pbmc_sc_with_metadata_cpm_pc_cell_type_profiles.csv/pbmc_sc_with_metadata_cpm_pc_cell_type_profiles_n_sim_26_profiles.csv', '/space/grp/aadrian/Pseudobulk_Function_Pipeline_HighRes/bin/bulkSimulationOneProfile/data/simulations/0.025/pbmc_sc_with_metadata_cpm_pc_cell_type_profiles.csv/pbmc_sc_with_metadata_cpm_pc_cell_type_profiles_n_sim_80_profiles.csv', '/space/grp/aadrian/Pseudobulk_Function_Pipeline_HighRes/bin/bulkSimulationOneProfile/data/simulations/0.025/pbmc_sc_with_metadata_cpm_pc_cell_type_profiles.csv/pbmc_sc_with_metadata_cpm_pc_cell_type_profiles_n_sim_24_profiles.csv', '/space/grp/aadrian/Pseudobulk_Function_Pipeline_HighRes/bin/bulkSimulationOneProfile/data/simulations/0.025/pbmc_sc_with_metadata_cpm_pc_cell_type_profiles.csv/pbmc_sc_with_metadata_cpm_pc_cell_type_profiles_n_sim_77_profiles.csv', '/space/grp/aadrian/Pseudobulk_Function_Pipeline_HighRes/bin/bulkSimulationOneProfile/data/simulations/0.025/pbmc_sc_with_metadata_cpm_pc_cell_type_profiles.csv/pbmc_sc_with_metadata_cpm_pc_cell_type_profiles_n_sim_4_profiles.csv', '/space/grp/aadrian/Pseudobulk_Function_Pipeline_HighRes/bin/bulkSimulationOneProfile/data/simulations/0.025/pbmc_sc_with_metadata_cpm_pc_cell_type_profiles.csv/pbmc_sc_with_metadata_cpm_pc_cell_type_profiles_n_sim_82_profiles.csv', '/space/grp/aadrian/Pseudobulk_Function_Pipeline_HighRes/bin/bulkSimulationOneProfile/data/simulations/0.025/pbmc_sc_with_metadata_cpm_pc_cell_type_profiles.csv/pbmc_sc_with_metadata_cpm_pc_cell_type_profiles_n_sim_83_profiles.csv', '/space/grp/aadrian/Pseudobulk_Function_Pipeline_HighRes/bin/bulkSimulationOneProfile/data/simulations/0.025/pbmc_sc_with_metadata_cpm_pc_cell_type_profiles.csv/pbmc_sc_with_metadata_cpm_pc_cell_type_profiles_n_sim_25_profiles.csv', '/space/grp/aadrian/Pseudobulk_Function_Pipeline_HighRes/bin/bulkSimulationOneProfile/data/simulations/0.025/pbmc_sc_with_metadata_cpm_pc_cell_type_profiles.csv/pbmc_sc_with_metadata_cpm_pc_cell_type_profiles_n_sim_5_profiles.csv', '/space/grp/aadrian/Pseudobulk_Function_Pipeline_HighRes/bin/bulkSimulationOneProfile/data/simulations/0.025/pbmc_sc_with_metadata_cpm_pc_cell_type_profiles.csv/pbmc_sc_with_metadata_cpm_pc_cell_type_profiles_n_sim_76_profiles.csv', '/space/grp/aadrian/Pseudobulk_Function_Pipeline_HighRes/bin/bulkSimulationOneProfile/data/simulations/0.025/pbmc_sc_with_metadata_cpm_pc_cell_type_profiles.csv/pbmc_sc_with_metadata_cpm_pc_cell_type_profiles_n_sim_57_profiles.csv', '/space/grp/aadrian/Pseudobulk_Function_Pipeline_HighRes/bin/bulkSimulationOneProfile/data/simulations/0.025/pbmc_sc_with_metadata_cpm_pc_cell_type_profiles.csv/pbmc_sc_with_metadata_cpm_pc_cell_type_profiles_n_sim_88_profiles.csv', '/space/grp/aadrian/Pseudobulk_Function_Pipeline_HighRes/bin/bulkSimulationOneProfile/data/simulations/0.025/pbmc_sc_with_metadata_cpm_pc_cell_type_profiles.csv/pbmc_sc_with_metadata_cpm_pc_cell_type_profiles_n_sim_89_profiles.csv', '/space/grp/aadrian/Pseudobulk_Function_Pipeline_HighRes/bin/bulkSimulationOneProfile/data/simulations/0.025/pbmc_sc_with_metadata_cpm_pc_cell_type_profiles.csv/pbmc_sc_with_metadata_cpm_pc_cell_type_profiles_n_sim_56_profiles.csv', '/space/grp/aadrian/Pseudobulk_Function_Pipeline_HighRes/bin/bulkSimulationOneProfile/data/simulations/0.025/pbmc_sc_with_metadata_cpm_pc_cell_type_profiles.csv/pbmc_sc_with_metadata_cpm_pc_cell_type_profiles_n_sim_54_profiles.csv', '/space/grp/aadrian/Pseudobulk_Function_Pipeline_HighRes/bin/bulkSimulationOneProfile/data/simulations/0.025/pbmc_sc_with_metadata_cpm_pc_cell_type_profiles.csv/pbmc_sc_with_metadata_cpm_pc_cell_type_profiles_n_sim_55_profiles.csv', '/space/grp/aadrian/Pseudobulk_Function_Pipeline_HighRes/bin/bulkSimulationOneProfile/data/simulations/0.025/pbmc_sc_with_metadata_cpm_pc_cell_type_profiles.csv/pbmc_sc_with_metadata_cpm_pc_cell_type_profiles_n_sim_50_profiles.csv', '/space/grp/aadrian/Pseudobulk_Function_Pipeline_HighRes/bin/bulkSimulationOneProfile/data/simulations/0.025/pbmc_sc_with_metadata_cpm_pc_cell_type_profiles.csv/pbmc_sc_with_metadata_cpm_pc_cell_type_profiles_n_sim_29_profiles.csv', '/space/grp/aadrian/Pseudobulk_Function_Pipeline_HighRes/bin/bulkSimulationOneProfile/data/simulations/0.025/pbmc_sc_with_metadata_cpm_pc_cell_type_profiles.csv/pbmc_sc_with_metadata_cpm_pc_cell_type_profiles_n_sim_9_profiles.csv', '/space/grp/aadrian/Pseudobulk_Function_Pipeline_HighRes/bin/bulkSimulationOneProfile/data/simulations/0.025/pbmc_sc_with_metadata_cpm_pc_cell_type_profiles.csv/pbmc_sc_with_metadata_cpm_pc_cell_type_profiles_n_sim_28_profiles.csv', '/space/grp/aadrian/Pseudobulk_Function_Pipeline_HighRes/bin/bulkSimulationOneProfile/data/simulations/0.025/pbmc_sc_with_metadata_cpm_pc_cell_type_profiles.csv/pbmc_sc_with_metadata_cpm_pc_cell_type_profiles_n_sim_8_profiles.csv', '/space/grp/aadrian/Pseudobulk_Function_Pipeline_HighRes/bin/bulkSimulationOneProfile/data/simulations/0.025/pbmc_sc_with_metadata_cpm_pc_cell_type_profiles.csv/pbmc_sc_with_metadata_cpm_pc_cell_type_profiles_n_sim_51_profiles.csv', '/space/grp/aadrian/Pseudobulk_Function_Pipeline_HighRes/bin/bulkSimulationOneProfile/data/simulations/0.025/pbmc_sc_with_metadata_cpm_pc_cell_type_profiles.csv/pbmc_sc_with_metadata_cpm_pc_cell_type_profiles_n_sim_79_profiles.csv', '/space/grp/aadrian/Pseudobulk_Function_Pipeline_HighRes/bin/bulkSimulationOneProfile/data/simulations/0.025/pbmc_sc_with_metadata_cpm_pc_cell_type_profiles.csv/pbmc_sc_with_metadata_cpm_pc_cell_type_profiles_n_sim_53_profiles.csv', '/space/grp/aadrian/Pseudobulk_Function_Pipeline_HighRes/bin/bulkSimulationOneProfile/data/simulations/0.025/pbmc_sc_with_metadata_cpm_pc_cell_type_profiles.csv/pbmc_sc_with_metadata_cpm_pc_cell_type_profiles_n_sim_52_profiles.csv', '/space/grp/aadrian/Pseudobulk_Function_Pipeline_HighRes/bin/bulkSimulationOneProfile/data/simulations/0.025/pbmc_sc_with_metadata_cpm_pc_cell_type_profiles.csv/pbmc_sc_with_metadata_cpm_pc_cell_type_profiles_n_sim_78_profiles.csv', '/space/grp/aadrian/Pseudobulk_Function_Pipeline_HighRes/bin/bulkSimulationOneProfile/data/simulations/0.025/pbmc_sc_with_metadata_cpm_pc_cell_type_profiles.csv/pbmc_sc_with_metadata_cpm_pc_cell_type_profiles_n_sim_69_profiles.csv', '/space/grp/aadrian/Pseudobulk_Function_Pipeline_HighRes/bin/bulkSimulationOneProfile/data/simulations/0.025/pbmc_sc_with_metadata_cpm_pc_cell_type_profiles.csv/pbmc_sc_with_metadata_cpm_pc_cell_type_profiles_n_sim_10_profiles.csv', '/space/grp/aadrian/Pseudobulk_Function_Pipeline_HighRes/bin/bulkSimulationOneProfile/data/simulations/0.025/pbmc_sc_with_metadata_cpm_pc_cell_type_profiles.csv/pbmc_sc_with_metadata_cpm_pc_cell_type_profiles_n_sim_43_profiles.csv', '/space/grp/aadrian/Pseudobulk_Function_Pipeline_HighRes/bin/bulkSimulationOneProfile/data/simulations/0.025/pbmc_sc_with_metadata_cpm_pc_cell_type_profiles.csv/pbmc_sc_with_metadata_cpm_pc_cell_type_profiles_n_sim_11_profiles.csv', '/space/grp/aadrian/Pseudobulk_Function_Pipeline_HighRes/bin/bulkSimulationOneProfile/data/simulations/0.025/pbmc_sc_with_metadata_cpm_pc_cell_type_profiles.csv/pbmc_sc_with_metadata_cpm_pc_cell_type_profiles_n_sim_42_profiles.csv', '/space/grp/aadrian/Pseudobulk_Function_Pipeline_HighRes/bin/bulkSimulationOneProfile/data/simulations/0.025/pbmc_sc_with_metadata_cpm_pc_cell_type_profiles.csv/pbmc_sc_with_metadata_cpm_pc_cell_type_profiles_n_sim_68_profiles.csv', '/space/grp/aadrian/Pseudobulk_Function_Pipeline_HighRes/bin/bulkSimulationOneProfile/data/simulations/0.025/pbmc_sc_with_metadata_cpm_pc_cell_type_profiles.csv/pbmc_sc_with_metadata_cpm_pc_cell_type_profiles_n_sim_40_profiles.csv', '/space/grp/aadrian/Pseudobulk_Function_Pipeline_HighRes/bin/bulkSimulationOneProfile/data/simulations/0.025/pbmc_sc_with_metadata_cpm_pc_cell_type_profiles.csv/pbmc_sc_with_metadata_cpm_pc_cell_type_profiles_n_sim_13_profiles.csv', '/space/grp/aadrian/Pseudobulk_Function_Pipeline_HighRes/bin/bulkSimulationOneProfile/data/simulations/0.025/pbmc_sc_with_metadata_cpm_pc_cell_type_profiles.csv/pbmc_sc_with_metadata_cpm_pc_cell_type_profiles_n_sim_39_profiles.csv', '/space/grp/aadrian/Pseudobulk_Function_Pipeline_HighRes/bin/bulkSimulationOneProfile/data/simulations/0.025/pbmc_sc_with_metadata_cpm_pc_cell_type_profiles.csv/pbmc_sc_with_metadata_cpm_pc_cell_type_profiles_n_sim_38_profiles.csv', '/space/grp/aadrian/Pseudobulk_Function_Pipeline_HighRes/bin/bulkSimulationOneProfile/data/simulations/0.025/pbmc_sc_with_metadata_cpm_pc_cell_type_profiles.csv/pbmc_sc_with_metadata_cpm_pc_cell_type_profiles_n_sim_41_profiles.csv', '/space/grp/aadrian/Pseudobulk_Function_Pipeline_HighRes/bin/bulkSimulationOneProfile/data/simulations/0.025/pbmc_sc_with_metadata_cpm_pc_cell_type_profiles.csv/pbmc_sc_with_metadata_cpm_pc_cell_type_profiles_n_sim_12_profiles.csv', '/space/grp/aadrian/Pseudobulk_Function_Pipeline_HighRes/bin/bulkSimulationOneProfile/data/simulations/0.025/pbmc_sc_with_metadata_cpm_pc_cell_type_profiles.csv/pbmc_sc_with_metadata_cpm_pc_cell_type_profiles_n_sim_17_profiles.csv', '/space/grp/aadrian/Pseudobulk_Function_Pipeline_HighRes/bin/bulkSimulationOneProfile/data/simulations/0.025/pbmc_sc_with_metadata_cpm_pc_cell_type_profiles.csv/pbmc_sc_with_metadata_cpm_pc_cell_type_profiles_n_sim_44_profiles.csv', '/space/grp/aadrian/Pseudobulk_Function_Pipeline_HighRes/bin/bulkSimulationOneProfile/data/simulations/0.025/pbmc_sc_with_metadata_cpm_pc_cell_type_profiles.csv/pbmc_sc_with_metadata_cpm_pc_cell_type_profiles_n_sim_16_profiles.csv', '/space/grp/aadrian/Pseudobulk_Function_Pipeline_HighRes/bin/bulkSimulationOneProfile/data/simulations/0.025/pbmc_sc_with_metadata_cpm_pc_cell_type_profiles.csv/pbmc_sc_with_metadata_cpm_pc_cell_type_profiles_n_sim_45_profiles.csv', '/space/grp/aadrian/Pseudobulk_Function_Pipeline_HighRes/bin/bulkSimulationOneProfile/data/simulations/0.025/pbmc_sc_with_metadata_cpm_pc_cell_type_profiles.csv/pbmc_sc_with_metadata_cpm_pc_cell_type_profiles_n_sim_47_profiles.csv', '/space/grp/aadrian/Pseudobulk_Function_Pipeline_HighRes/bin/bulkSimulationOneProfile/data/simulations/0.025/pbmc_sc_with_metadata_cpm_pc_cell_type_profiles.csv/pbmc_sc_with_metadata_cpm_pc_cell_type_profiles_n_sim_98_profiles.csv', '/space/grp/aadrian/Pseudobulk_Function_Pipeline_HighRes/bin/bulkSimulationOneProfile/data/simulations/0.025/pbmc_sc_with_metadata_cpm_pc_cell_type_profiles.csv/pbmc_sc_with_metadata_cpm_pc_cell_type_profiles_n_sim_14_profiles.csv', '/space/grp/aadrian/Pseudobulk_Function_Pipeline_HighRes/bin/bulkSimulationOneProfile/data/simulations/0.025/pbmc_sc_with_metadata_cpm_pc_cell_type_profiles.csv/pbmc_sc_with_metadata_cpm_pc_cell_type_profiles_n_sim_99_profiles.csv', '/space/grp/aadrian/Pseudobulk_Function_Pipeline_HighRes/bin/bulkSimulationOneProfile/data/simulations/0.025/pbmc_sc_with_metadata_cpm_pc_cell_type_profiles.csv/pbmc_sc_with_metadata_cpm_pc_cell_type_profiles_n_sim_46_profiles.csv', '/space/grp/aadrian/Pseudobulk_Function_Pipeline_HighRes/bin/bulkSimulationOneProfile/data/simulations/0.025/pbmc_sc_with_metadata_cpm_pc_cell_type_profiles.csv/pbmc_sc_with_metadata_cpm_pc_cell_type_profiles_n_sim_15_profiles.csv', '/space/grp/aadrian/Pseudobulk_Function_Pipeline_HighRes/bin/bulkSimulationOneProfile/data/simulations/0.025/pbmc_sc_with_metadata_cpm_pc_cell_type_profiles.csv/pbmc_sc_with_metadata_cpm_pc_cell_type_profiles_n_sim_34_profiles.csv', '/space/grp/aadrian/Pseudobulk_Function_Pipeline_HighRes/bin/bulkSimulationOneProfile/data/simulations/0.025/pbmc_sc_with_metadata_cpm_pc_cell_type_profiles.csv/pbmc_sc_with_metadata_cpm_pc_cell_type_profiles_n_sim_67_profiles.csv', '/space/grp/aadrian/Pseudobulk_Function_Pipeline_HighRes/bin/bulkSimulationOneProfile/data/simulations/0.025/pbmc_sc_with_metadata_cpm_pc_cell_type_profiles.csv/pbmc_sc_with_metadata_cpm_pc_cell_type_profiles_n_sim_92_profiles.csv', '/space/grp/aadrian/Pseudobulk_Function_Pipeline_HighRes/bin/bulkSimulationOneProfile/data/simulations/0.025/pbmc_sc_with_metadata_cpm_pc_cell_type_profiles.csv/pbmc_sc_with_metadata_cpm_pc_cell_type_profiles_n_sim_93_profiles.csv', '/space/grp/aadrian/Pseudobulk_Function_Pipeline_HighRes/bin/bulkSimulationOneProfile/data/simulations/0.025/pbmc_sc_with_metadata_cpm_pc_cell_type_profiles.csv/pbmc_sc_with_metadata_cpm_pc_cell_type_profiles_n_sim_35_profiles.csv', '/space/grp/aadrian/Pseudobulk_Function_Pipeline_HighRes/bin/bulkSimulationOneProfile/data/simulations/0.025/pbmc_sc_with_metadata_cpm_pc_cell_type_profiles.csv/pbmc_sc_with_metadata_cpm_pc_cell_type_profiles_n_sim_66_profiles.csv', '/space/grp/aadrian/Pseudobulk_Function_Pipeline_HighRes/bin/bulkSimulationOneProfile/data/simulations/0.025/pbmc_sc_with_metadata_cpm_pc_cell_type_profiles.csv/pbmc_sc_with_metadata_cpm_pc_cell_type_profiles_n_sim_91_profiles.csv', '/space/grp/aadrian/Pseudobulk_Function_Pipeline_HighRes/bin/bulkSimulationOneProfile/data/simulations/0.025/pbmc_sc_with_metadata_cpm_pc_cell_type_profiles.csv/pbmc_sc_with_metadata_cpm_pc_cell_type_profiles_n_sim_64_profiles.csv', '/space/grp/aadrian/Pseudobulk_Function_Pipeline_HighRes/bin/bulkSimulationOneProfile/data/simulations/0.025/pbmc_sc_with_metadata_cpm_pc_cell_type_profiles.csv/pbmc_sc_with_metadata_cpm_pc_cell_type_profiles_n_sim_37_profiles.csv', '/space/grp/aadrian/Pseudobulk_Function_Pipeline_HighRes/bin/bulkSimulationOneProfile/data/simulations/0.025/pbmc_sc_with_metadata_cpm_pc_cell_type_profiles.csv/pbmc_sc_with_metadata_cpm_pc_cell_type_profiles_n_sim_65_profiles.csv', '/space/grp/aadrian/Pseudobulk_Function_Pipeline_HighRes/bin/bulkSimulationOneProfile/data/simulations/0.025/pbmc_sc_with_metadata_cpm_pc_cell_type_profiles.csv/pbmc_sc_with_metadata_cpm_pc_cell_type_profiles_n_sim_36_profiles.csv', '/space/grp/aadrian/Pseudobulk_Function_Pipeline_HighRes/bin/bulkSimulationOneProfile/data/simulations/0.025/pbmc_sc_with_metadata_cpm_pc_cell_type_profiles.csv/pbmc_sc_with_metadata_cpm_pc_cell_type_profiles_n_sim_90_profiles.csv', '/space/grp/aadrian/Pseudobulk_Function_Pipeline_HighRes/bin/bulkSimulationOneProfile/data/simulations/0.025/pbmc_sc_with_metadata_cpm_pc_cell_type_profiles.csv/pbmc_sc_with_metadata_cpm_pc_cell_type_profiles_n_sim_33_profiles.csv', '/space/grp/aadrian/Pseudobulk_Function_Pipeline_HighRes/bin/bulkSimulationOneProfile/data/simulations/0.025/pbmc_sc_with_metadata_cpm_pc_cell_type_profiles.csv/pbmc_sc_with_metadata_cpm_pc_cell_type_profiles_n_sim_60_profiles.csv', '/space/grp/aadrian/Pseudobulk_Function_Pipeline_HighRes/bin/bulkSimulationOneProfile/data/simulations/0.025/pbmc_sc_with_metadata_cpm_pc_cell_type_profiles.csv/pbmc_sc_with_metadata_cpm_pc_cell_type_profiles_n_sim_95_profiles.csv', '/space/grp/aadrian/Pseudobulk_Function_Pipeline_HighRes/bin/bulkSimulationOneProfile/data/simulations/0.025/pbmc_sc_with_metadata_cpm_pc_cell_type_profiles.csv/pbmc_sc_with_metadata_cpm_pc_cell_type_profiles_n_sim_19_profiles.csv', '/space/grp/aadrian/Pseudobulk_Function_Pipeline_HighRes/bin/bulkSimulationOneProfile/data/simulations/0.025/pbmc_sc_with_metadata_cpm_pc_cell_type_profiles.csv/pbmc_sc_with_metadata_cpm_pc_cell_type_profiles_n_sim_94_profiles.csv', '/space/grp/aadrian/Pseudobulk_Function_Pipeline_HighRes/bin/bulkSimulationOneProfile/data/simulations/0.025/pbmc_sc_with_metadata_cpm_pc_cell_type_profiles.csv/pbmc_sc_with_metadata_cpm_pc_cell_type_profiles_n_sim_18_profiles.csv', '/space/grp/aadrian/Pseudobulk_Function_Pipeline_HighRes/bin/bulkSimulationOneProfile/data/simulations/0.025/pbmc_sc_with_metadata_cpm_pc_cell_type_profiles.csv/pbmc_sc_with_metadata_cpm_pc_cell_type_profiles_n_sim_32_profiles.csv', '/space/grp/aadrian/Pseudobulk_Function_Pipeline_HighRes/bin/bulkSimulationOneProfile/data/simulations/0.025/pbmc_sc_with_metadata_cpm_pc_cell_type_profiles.csv/pbmc_sc_with_metadata_cpm_pc_cell_type_profiles_n_sim_61_profiles.csv', '/space/grp/aadrian/Pseudobulk_Function_Pipeline_HighRes/bin/bulkSimulationOneProfile/data/simulations/0.025/pbmc_sc_with_metadata_cpm_pc_cell_type_profiles.csv/pbmc_sc_with_metadata_cpm_pc_cell_type_profiles_n_sim_49_profiles.csv', '/space/grp/aadrian/Pseudobulk_Function_Pipeline_HighRes/bin/bulkSimulationOneProfile/data/simulations/0.025/pbmc_sc_with_metadata_cpm_pc_cell_type_profiles.csv/pbmc_sc_with_metadata_cpm_pc_cell_type_profiles_n_sim_96_profiles.csv', '/space/grp/aadrian/Pseudobulk_Function_Pipeline_HighRes/bin/bulkSimulationOneProfile/data/simulations/0.025/pbmc_sc_with_metadata_cpm_pc_cell_type_profiles.csv/pbmc_sc_with_metadata_cpm_pc_cell_type_profiles_n_sim_63_profiles.csv', '/space/grp/aadrian/Pseudobulk_Function_Pipeline_HighRes/bin/bulkSimulationOneProfile/data/simulations/0.025/pbmc_sc_with_metadata_cpm_pc_cell_type_profiles.csv/pbmc_sc_with_metadata_cpm_pc_cell_type_profiles_n_sim_30_profiles.csv', '/space/grp/aadrian/Pseudobulk_Function_Pipeline_HighRes/bin/bulkSimulationOneProfile/data/simulations/0.025/pbmc_sc_with_metadata_cpm_pc_cell_type_profiles.csv/pbmc_sc_with_metadata_cpm_pc_cell_type_profiles_n_sim_62_profiles.csv', '/space/grp/aadrian/Pseudobulk_Function_Pipeline_HighRes/bin/bulkSimulationOneProfile/data/simulations/0.025/pbmc_sc_with_metadata_cpm_pc_cell_type_profiles.csv/pbmc_sc_with_metadata_cpm_pc_cell_type_profiles_n_sim_31_profiles.csv', '/space/grp/aadrian/Pseudobulk_Function_Pipeline_HighRes/bin/bulkSimulationOneProfile/data/simulations/0.025/pbmc_sc_with_metadata_cpm_pc_cell_type_profiles.csv/pbmc_sc_with_metadata_cpm_pc_cell_type_profiles_n_sim_97_profiles.csv', '/space/grp/aadrian/Pseudobulk_Function_Pipeline_HighRes/bin/bulkSimulationOneProfile/data/simulations/0.025/pbmc_sc_with_metadata_cpm_pc_cell_type_profiles.csv/pbmc_sc_with_metadata_cpm_pc_cell_type_profiles_n_sim_48_profiles.csv'], ['/space/grp/aadrian/Pseudobulk_Function_Pipeline_HighRes/bin/bulkSimulationOneProfile/data/simulations/0.07/pbmc_sc_with_metadata_cpm_pc_cell_type_profiles.csv/pbmc_sc_with_metadata_cpm_pc_cell_type_profiles_n_sim_55_profiles.csv', '/space/grp/aadrian/Pseudobulk_Function_Pipeline_HighRes/bin/bulkSimulationOneProfile/data/simulations/0.07/pbmc_sc_with_metadata_cpm_pc_cell_type_profiles.csv/pbmc_sc_with_metadata_cpm_pc_cell_type_profiles_n_sim_54_profiles.csv', '/space/grp/aadrian/Pseudobulk_Function_Pipeline_HighRes/bin/bulkSimulationOneProfile/data/simulations/0.07/pbmc_sc_with_metadata_cpm_pc_cell_type_profiles.csv/pbmc_sc_with_metadata_cpm_pc_cell_type_profiles_n_sim_56_profiles.csv', '/space/grp/aadrian/Pseudobulk_Function_Pipeline_HighRes/bin/bulkSimulationOneProfile/data/simulations/0.07/pbmc_sc_with_metadata_cpm_pc_cell_type_profiles.csv/pbmc_sc_with_metadata_cpm_pc_cell_type_profiles_n_sim_89_profiles.csv', '/space/grp/aadrian/Pseudobulk_Function_Pipeline_HighRes/bin/bulkSimulationOneProfile/data/simulations/0.07/pbmc_sc_with_metadata_cpm_pc_cell_type_profiles.csv/pbmc_sc_with_metadata_cpm_pc_cell_type_profiles_n_sim_88_profiles.csv', '/space/grp/aadrian/Pseudobulk_Function_Pipeline_HighRes/bin/bulkSimulationOneProfile/data/simulations/0.07/pbmc_sc_with_metadata_cpm_pc_cell_type_profiles.csv/pbmc_sc_with_metadata_cpm_pc_cell_type_profiles_n_sim_57_profiles.csv', '/space/grp/aadrian/Pseudobulk_Function_Pipeline_HighRes/bin/bulkSimulationOneProfile/data/simulations/0.07/pbmc_sc_with_metadata_cpm_pc_cell_type_profiles.csv/pbmc_sc_with_metadata_cpm_pc_cell_type_profiles_n_sim_52_profiles.csv', '/space/grp/aadrian/Pseudobulk_Function_Pipeline_HighRes/bin/bulkSimulationOneProfile/data/simulations/0.07/pbmc_sc_with_metadata_cpm_pc_cell_type_profiles.csv/pbmc_sc_with_metadata_cpm_pc_cell_type_profiles_n_sim_78_profiles.csv', '/space/grp/aadrian/Pseudobulk_Function_Pipeline_HighRes/bin/bulkSimulationOneProfile/data/simulations/0.07/pbmc_sc_with_metadata_cpm_pc_cell_type_profiles.csv/pbmc_sc_with_metadata_cpm_pc_cell_type_profiles_n_sim_79_profiles.csv', '/space/grp/aadrian/Pseudobulk_Function_Pipeline_HighRes/bin/bulkSimulationOneProfile/data/simulations/0.07/pbmc_sc_with_metadata_cpm_pc_cell_type_profiles.csv/pbmc_sc_with_metadata_cpm_pc_cell_type_profiles_n_sim_53_profiles.csv', '/space/grp/aadrian/Pseudobulk_Function_Pipeline_HighRes/bin/bulkSimulationOneProfile/data/simulations/0.07/pbmc_sc_with_metadata_cpm_pc_cell_type_profiles.csv/pbmc_sc_with_metadata_cpm_pc_cell_type_profiles_n_sim_28_profiles.csv', '/space/grp/aadrian/Pseudobulk_Function_Pipeline_HighRes/bin/bulkSimulationOneProfile/data/simulations/0.07/pbmc_sc_with_metadata_cpm_pc_cell_type_profiles.csv/pbmc_sc_with_metadata_cpm_pc_cell_type_profiles_n_sim_51_profiles.csv', '/space/grp/aadrian/Pseudobulk_Function_Pipeline_HighRes/bin/bulkSimulationOneProfile/data/simulations/0.07/pbmc_sc_with_metadata_cpm_pc_cell_type_profiles.csv/pbmc_sc_with_metadata_cpm_pc_cell_type_profiles_n_sim_50_profiles.csv', '/space/grp/aadrian/Pseudobulk_Function_Pipeline_HighRes/bin/bulkSimulationOneProfile/data/simulations/0.07/pbmc_sc_with_metadata_cpm_pc_cell_type_profiles.csv/pbmc_sc_with_metadata_cpm_pc_cell_type_profiles_n_sim_29_profiles.csv', '/space/grp/aadrian/Pseudobulk_Function_Pipeline_HighRes/bin/bulkSimulationOneProfile/data/simulations/0.07/pbmc_sc_with_metadata_cpm_pc_cell_type_profiles.csv/pbmc_sc_with_metadata_cpm_pc_cell_type_profiles_n_sim_84_profiles.csv', '/space/grp/aadrian/Pseudobulk_Function_Pipeline_HighRes/bin/bulkSimulationOneProfile/data/simulations/0.07/pbmc_sc_with_metadata_cpm_pc_cell_type_profiles.csv/pbmc_sc_with_metadata_cpm_pc_cell_type_profiles_n_sim_22_profiles.csv', '/space/grp/aadrian/Pseudobulk_Function_Pipeline_HighRes/bin/bulkSimulationOneProfile/data/simulations/0.07/pbmc_sc_with_metadata_cpm_pc_cell_type_profiles.csv/pbmc_sc_with_metadata_cpm_pc_cell_type_profiles_n_sim_71_profiles.csv', '/space/grp/aadrian/Pseudobulk_Function_Pipeline_HighRes/bin/bulkSimulationOneProfile/data/simulations/0.07/pbmc_sc_with_metadata_cpm_pc_cell_type_profiles.csv/pbmc_sc_with_metadata_cpm_pc_cell_type_profiles_n_sim_23_profiles.csv', '/space/grp/aadrian/Pseudobulk_Function_Pipeline_HighRes/bin/bulkSimulationOneProfile/data/simulations/0.07/pbmc_sc_with_metadata_cpm_pc_cell_type_profiles.csv/pbmc_sc_with_metadata_cpm_pc_cell_type_profiles_n_sim_70_profiles.csv', '/space/grp/aadrian/Pseudobulk_Function_Pipeline_HighRes/bin/bulkSimulationOneProfile/data/simulations/0.07/pbmc_sc_with_metadata_cpm_pc_cell_type_profiles.csv/pbmc_sc_with_metadata_cpm_pc_cell_type_profiles_n_sim_85_profiles.csv', '/space/grp/aadrian/Pseudobulk_Function_Pipeline_HighRes/bin/bulkSimulationOneProfile/data/simulations/0.07/pbmc_sc_with_metadata_cpm_pc_cell_type_profiles.csv/pbmc_sc_with_metadata_cpm_pc_cell_type_profiles_n_sim_72_profiles.csv', '/space/grp/aadrian/Pseudobulk_Function_Pipeline_HighRes/bin/bulkSimulationOneProfile/data/simulations/0.07/pbmc_sc_with_metadata_cpm_pc_cell_type_profiles.csv/pbmc_sc_with_metadata_cpm_pc_cell_type_profiles_n_sim_21_profiles.csv', '/space/grp/aadrian/Pseudobulk_Function_Pipeline_HighRes/bin/bulkSimulationOneProfile/data/simulations/0.07/pbmc_sc_with_metadata_cpm_pc_cell_type_profiles.csv/pbmc_sc_with_metadata_cpm_pc_cell_type_profiles_n_sim_58_profiles.csv', '/space/grp/aadrian/Pseudobulk_Function_Pipeline_HighRes/bin/bulkSimulationOneProfile/data/simulations/0.07/pbmc_sc_with_metadata_cpm_pc_cell_type_profiles.csv/pbmc_sc_with_metadata_cpm_pc_cell_type_profiles_n_sim_87_profiles.csv', '/space/grp/aadrian/Pseudobulk_Function_Pipeline_HighRes/bin/bulkSimulationOneProfile/data/simulations/0.07/pbmc_sc_with_metadata_cpm_pc_cell_type_profiles.csv/pbmc_sc_with_metadata_cpm_pc_cell_type_profiles_n_sim_86_profiles.csv', '/space/grp/aadrian/Pseudobulk_Function_Pipeline_HighRes/bin/bulkSimulationOneProfile/data/simulations/0.07/pbmc_sc_with_metadata_cpm_pc_cell_type_profiles.csv/pbmc_sc_with_metadata_cpm_pc_cell_type_profiles_n_sim_59_profiles.csv', '/space/grp/aadrian/Pseudobulk_Function_Pipeline_HighRes/bin/bulkSimulationOneProfile/data/simulations/0.07/pbmc_sc_with_metadata_cpm_pc_cell_type_profiles.csv/pbmc_sc_with_metadata_cpm_pc_cell_type_profiles_n_sim_73_profiles.csv', '/space/grp/aadrian/Pseudobulk_Function_Pipeline_HighRes/bin/bulkSimulationOneProfile/data/simulations/0.07/pbmc_sc_with_metadata_cpm_pc_cell_type_profiles.csv/pbmc_sc_with_metadata_cpm_pc_cell_type_profiles_n_sim_20_profiles.csv', '/space/grp/aadrian/Pseudobulk_Function_Pipeline_HighRes/bin/bulkSimulationOneProfile/data/simulations/0.07/pbmc_sc_with_metadata_cpm_pc_cell_type_profiles.csv/pbmc_sc_with_metadata_cpm_pc_cell_type_profiles_n_sim_83_profiles.csv', '/space/grp/aadrian/Pseudobulk_Function_Pipeline_HighRes/bin/bulkSimulationOneProfile/data/simulations/0.07/pbmc_sc_with_metadata_cpm_pc_cell_type_profiles.csv/pbmc_sc_with_metadata_cpm_pc_cell_type_profiles_n_sim_25_profiles.csv', '/space/grp/aadrian/Pseudobulk_Function_Pipeline_HighRes/bin/bulkSimulationOneProfile/data/simulations/0.07/pbmc_sc_with_metadata_cpm_pc_cell_type_profiles.csv/pbmc_sc_with_metadata_cpm_pc_cell_type_profiles_n_sim_76_profiles.csv', '/space/grp/aadrian/Pseudobulk_Function_Pipeline_HighRes/bin/bulkSimulationOneProfile/data/simulations/0.07/pbmc_sc_with_metadata_cpm_pc_cell_type_profiles.csv/pbmc_sc_with_metadata_cpm_pc_cell_type_profiles_n_sim_24_profiles.csv', '/space/grp/aadrian/Pseudobulk_Function_Pipeline_HighRes/bin/bulkSimulationOneProfile/data/simulations/0.07/pbmc_sc_with_metadata_cpm_pc_cell_type_profiles.csv/pbmc_sc_with_metadata_cpm_pc_cell_type_profiles_n_sim_77_profiles.csv', '/space/grp/aadrian/Pseudobulk_Function_Pipeline_HighRes/bin/bulkSimulationOneProfile/data/simulations/0.07/pbmc_sc_with_metadata_cpm_pc_cell_type_profiles.csv/pbmc_sc_with_metadata_cpm_pc_cell_type_profiles_n_sim_82_profiles.csv', '/space/grp/aadrian/Pseudobulk_Function_Pipeline_HighRes/bin/bulkSimulationOneProfile/data/simulations/0.07/pbmc_sc_with_metadata_cpm_pc_cell_type_profiles.csv/pbmc_sc_with_metadata_cpm_pc_cell_type_profiles_n_sim_75_profiles.csv', '/space/grp/aadrian/Pseudobulk_Function_Pipeline_HighRes/bin/bulkSimulationOneProfile/data/simulations/0.07/pbmc_sc_with_metadata_cpm_pc_cell_type_profiles.csv/pbmc_sc_with_metadata_cpm_pc_cell_type_profiles_n_sim_26_profiles.csv', '/space/grp/aadrian/Pseudobulk_Function_Pipeline_HighRes/bin/bulkSimulationOneProfile/data/simulations/0.07/pbmc_sc_with_metadata_cpm_pc_cell_type_profiles.csv/pbmc_sc_with_metadata_cpm_pc_cell_type_profiles_n_sim_80_profiles.csv', '/space/grp/aadrian/Pseudobulk_Function_Pipeline_HighRes/bin/bulkSimulationOneProfile/data/simulations/0.07/pbmc_sc_with_metadata_cpm_pc_cell_type_profiles.csv/pbmc_sc_with_metadata_cpm_pc_cell_type_profiles_n_sim_81_profiles.csv', '/space/grp/aadrian/Pseudobulk_Function_Pipeline_HighRes/bin/bulkSimulationOneProfile/data/simulations/0.07/pbmc_sc_with_metadata_cpm_pc_cell_type_profiles.csv/pbmc_sc_with_metadata_cpm_pc_cell_type_profiles_n_sim_74_profiles.csv', '/space/grp/aadrian/Pseudobulk_Function_Pipeline_HighRes/bin/bulkSimulationOneProfile/data/simulations/0.07/pbmc_sc_with_metadata_cpm_pc_cell_type_profiles.csv/pbmc_sc_with_metadata_cpm_pc_cell_type_profiles_n_sim_27_profiles.csv', '/space/grp/aadrian/Pseudobulk_Function_Pipeline_HighRes/bin/bulkSimulationOneProfile/data/simulations/0.07/pbmc_sc_with_metadata_cpm_pc_cell_type_profiles.csv/pbmc_sc_with_metadata_cpm_pc_cell_type_profiles_n_sim_65_profiles.csv', '/space/grp/aadrian/Pseudobulk_Function_Pipeline_HighRes/bin/bulkSimulationOneProfile/data/simulations/0.07/pbmc_sc_with_metadata_cpm_pc_cell_type_profiles.csv/pbmc_sc_with_metadata_cpm_pc_cell_type_profiles_n_sim_36_profiles.csv', '/space/grp/aadrian/Pseudobulk_Function_Pipeline_HighRes/bin/bulkSimulationOneProfile/data/simulations/0.07/pbmc_sc_with_metadata_cpm_pc_cell_type_profiles.csv/pbmc_sc_with_metadata_cpm_pc_cell_type_profiles_n_sim_90_profiles.csv', '/space/grp/aadrian/Pseudobulk_Function_Pipeline_HighRes/bin/bulkSimulationOneProfile/data/simulations/0.07/pbmc_sc_with_metadata_cpm_pc_cell_type_profiles.csv/pbmc_sc_with_metadata_cpm_pc_cell_type_profiles_n_sim_1_profiles.csv', '/space/grp/aadrian/Pseudobulk_Function_Pipeline_HighRes/bin/bulkSimulationOneProfile/data/simulations/0.07/pbmc_sc_with_metadata_cpm_pc_cell_type_profiles.csv/pbmc_sc_with_metadata_cpm_pc_cell_type_profiles_n_sim_0_profiles.csv', '/space/grp/aadrian/Pseudobulk_Function_Pipeline_HighRes/bin/bulkSimulationOneProfile/data/simulations/0.07/pbmc_sc_with_metadata_cpm_pc_cell_type_profiles.csv/pbmc_sc_with_metadata_cpm_pc_cell_type_profiles_n_sim_91_profiles.csv', '/space/grp/aadrian/Pseudobulk_Function_Pipeline_HighRes/bin/bulkSimulationOneProfile/data/simulations/0.07/pbmc_sc_with_metadata_cpm_pc_cell_type_profiles.csv/pbmc_sc_with_metadata_cpm_pc_cell_type_profiles_n_sim_64_profiles.csv', '/space/grp/aadrian/Pseudobulk_Function_Pipeline_HighRes/bin/bulkSimulationOneProfile/data/simulations/0.07/pbmc_sc_with_metadata_cpm_pc_cell_type_profiles.csv/pbmc_sc_with_metadata_cpm_pc_cell_type_profiles_n_sim_37_profiles.csv', '/space/grp/aadrian/Pseudobulk_Function_Pipeline_HighRes/bin/bulkSimulationOneProfile/data/simulations/0.07/pbmc_sc_with_metadata_cpm_pc_cell_type_profiles.csv/pbmc_sc_with_metadata_cpm_pc_cell_type_profiles_n_sim_2_profiles.csv', '/space/grp/aadrian/Pseudobulk_Function_Pipeline_HighRes/bin/bulkSimulationOneProfile/data/simulations/0.07/pbmc_sc_with_metadata_cpm_pc_cell_type_profiles.csv/pbmc_sc_with_metadata_cpm_pc_cell_type_profiles_n_sim_93_profiles.csv', '/space/grp/aadrian/Pseudobulk_Function_Pipeline_HighRes/bin/bulkSimulationOneProfile/data/simulations/0.07/pbmc_sc_with_metadata_cpm_pc_cell_type_profiles.csv/pbmc_sc_with_metadata_cpm_pc_cell_type_profiles_n_sim_35_profiles.csv', '/space/grp/aadrian/Pseudobulk_Function_Pipeline_HighRes/bin/bulkSimulationOneProfile/data/simulations/0.07/pbmc_sc_with_metadata_cpm_pc_cell_type_profiles.csv/pbmc_sc_with_metadata_cpm_pc_cell_type_profiles_n_sim_66_profiles.csv', '/space/grp/aadrian/Pseudobulk_Function_Pipeline_HighRes/bin/bulkSimulationOneProfile/data/simulations/0.07/pbmc_sc_with_metadata_cpm_pc_cell_type_profiles.csv/pbmc_sc_with_metadata_cpm_pc_cell_type_profiles_n_sim_34_profiles.csv', '/space/grp/aadrian/Pseudobulk_Function_Pipeline_HighRes/bin/bulkSimulationOneProfile/data/simulations/0.07/pbmc_sc_with_metadata_cpm_pc_cell_type_profiles.csv/pbmc_sc_with_metadata_cpm_pc_cell_type_profiles_n_sim_67_profiles.csv', '/space/grp/aadrian/Pseudobulk_Function_Pipeline_HighRes/bin/bulkSimulationOneProfile/data/simulations/0.07/pbmc_sc_with_metadata_cpm_pc_cell_type_profiles.csv/pbmc_sc_with_metadata_cpm_pc_cell_type_profiles_n_sim_92_profiles.csv', '/space/grp/aadrian/Pseudobulk_Function_Pipeline_HighRes/bin/bulkSimulationOneProfile/data/simulations/0.07/pbmc_sc_with_metadata_cpm_pc_cell_type_profiles.csv/pbmc_sc_with_metadata_cpm_pc_cell_type_profiles_n_sim_3_profiles.csv', '/space/grp/aadrian/Pseudobulk_Function_Pipeline_HighRes/bin/bulkSimulationOneProfile/data/simulations/0.07/pbmc_sc_with_metadata_cpm_pc_cell_type_profiles.csv/pbmc_sc_with_metadata_cpm_pc_cell_type_profiles_n_sim_62_profiles.csv', '/space/grp/aadrian/Pseudobulk_Function_Pipeline_HighRes/bin/bulkSimulationOneProfile/data/simulations/0.07/pbmc_sc_with_metadata_cpm_pc_cell_type_profiles.csv/pbmc_sc_with_metadata_cpm_pc_cell_type_profiles_n_sim_31_profiles.csv', '/space/grp/aadrian/Pseudobulk_Function_Pipeline_HighRes/bin/bulkSimulationOneProfile/data/simulations/0.07/pbmc_sc_with_metadata_cpm_pc_cell_type_profiles.csv/pbmc_sc_with_metadata_cpm_pc_cell_type_profiles_n_sim_48_profiles.csv', '/space/grp/aadrian/Pseudobulk_Function_Pipeline_HighRes/bin/bulkSimulationOneProfile/data/simulations/0.07/pbmc_sc_with_metadata_cpm_pc_cell_type_profiles.csv/pbmc_sc_with_metadata_cpm_pc_cell_type_profiles_n_sim_97_profiles.csv', '/space/grp/aadrian/Pseudobulk_Function_Pipeline_HighRes/bin/bulkSimulationOneProfile/data/simulations/0.07/pbmc_sc_with_metadata_cpm_pc_cell_type_profiles.csv/pbmc_sc_with_metadata_cpm_pc_cell_type_profiles_n_sim_6_profiles.csv', '/space/grp/aadrian/Pseudobulk_Function_Pipeline_HighRes/bin/bulkSimulationOneProfile/data/simulations/0.07/pbmc_sc_with_metadata_cpm_pc_cell_type_profiles.csv/pbmc_sc_with_metadata_cpm_pc_cell_type_profiles_n_sim_7_profiles.csv', '/space/grp/aadrian/Pseudobulk_Function_Pipeline_HighRes/bin/bulkSimulationOneProfile/data/simulations/0.07/pbmc_sc_with_metadata_cpm_pc_cell_type_profiles.csv/pbmc_sc_with_metadata_cpm_pc_cell_type_profiles_n_sim_96_profiles.csv', '/space/grp/aadrian/Pseudobulk_Function_Pipeline_HighRes/bin/bulkSimulationOneProfile/data/simulations/0.07/pbmc_sc_with_metadata_cpm_pc_cell_type_profiles.csv/pbmc_sc_with_metadata_cpm_pc_cell_type_profiles_n_sim_49_profiles.csv', '/space/grp/aadrian/Pseudobulk_Function_Pipeline_HighRes/bin/bulkSimulationOneProfile/data/simulations/0.07/pbmc_sc_with_metadata_cpm_pc_cell_type_profiles.csv/pbmc_sc_with_metadata_cpm_pc_cell_type_profiles_n_sim_63_profiles.csv', '/space/grp/aadrian/Pseudobulk_Function_Pipeline_HighRes/bin/bulkSimulationOneProfile/data/simulations/0.07/pbmc_sc_with_metadata_cpm_pc_cell_type_profiles.csv/pbmc_sc_with_metadata_cpm_pc_cell_type_profiles_n_sim_30_profiles.csv', '/space/grp/aadrian/Pseudobulk_Function_Pipeline_HighRes/bin/bulkSimulationOneProfile/data/simulations/0.07/pbmc_sc_with_metadata_cpm_pc_cell_type_profiles.csv/pbmc_sc_with_metadata_cpm_pc_cell_type_profiles_n_sim_5_profiles.csv', '/space/grp/aadrian/Pseudobulk_Function_Pipeline_HighRes/bin/bulkSimulationOneProfile/data/simulations/0.07/pbmc_sc_with_metadata_cpm_pc_cell_type_profiles.csv/pbmc_sc_with_metadata_cpm_pc_cell_type_profiles_n_sim_94_profiles.csv', '/space/grp/aadrian/Pseudobulk_Function_Pipeline_HighRes/bin/bulkSimulationOneProfile/data/simulations/0.07/pbmc_sc_with_metadata_cpm_pc_cell_type_profiles.csv/pbmc_sc_with_metadata_cpm_pc_cell_type_profiles_n_sim_18_profiles.csv', '/space/grp/aadrian/Pseudobulk_Function_Pipeline_HighRes/bin/bulkSimulationOneProfile/data/simulations/0.07/pbmc_sc_with_metadata_cpm_pc_cell_type_profiles.csv/pbmc_sc_with_metadata_cpm_pc_cell_type_profiles_n_sim_32_profiles.csv', '/space/grp/aadrian/Pseudobulk_Function_Pipeline_HighRes/bin/bulkSimulationOneProfile/data/simulations/0.07/pbmc_sc_with_metadata_cpm_pc_cell_type_profiles.csv/pbmc_sc_with_metadata_cpm_pc_cell_type_profiles_n_sim_61_profiles.csv', '/space/grp/aadrian/Pseudobulk_Function_Pipeline_HighRes/bin/bulkSimulationOneProfile/data/simulations/0.07/pbmc_sc_with_metadata_cpm_pc_cell_type_profiles.csv/pbmc_sc_with_metadata_cpm_pc_cell_type_profiles_n_sim_33_profiles.csv', '/space/grp/aadrian/Pseudobulk_Function_Pipeline_HighRes/bin/bulkSimulationOneProfile/data/simulations/0.07/pbmc_sc_with_metadata_cpm_pc_cell_type_profiles.csv/pbmc_sc_with_metadata_cpm_pc_cell_type_profiles_n_sim_60_profiles.csv', '/space/grp/aadrian/Pseudobulk_Function_Pipeline_HighRes/bin/bulkSimulationOneProfile/data/simulations/0.07/pbmc_sc_with_metadata_cpm_pc_cell_type_profiles.csv/pbmc_sc_with_metadata_cpm_pc_cell_type_profiles_n_sim_95_profiles.csv', '/space/grp/aadrian/Pseudobulk_Function_Pipeline_HighRes/bin/bulkSimulationOneProfile/data/simulations/0.07/pbmc_sc_with_metadata_cpm_pc_cell_type_profiles.csv/pbmc_sc_with_metadata_cpm_pc_cell_type_profiles_n_sim_4_profiles.csv', '/space/grp/aadrian/Pseudobulk_Function_Pipeline_HighRes/bin/bulkSimulationOneProfile/data/simulations/0.07/pbmc_sc_with_metadata_cpm_pc_cell_type_profiles.csv/pbmc_sc_with_metadata_cpm_pc_cell_type_profiles_n_sim_19_profiles.csv', '/space/grp/aadrian/Pseudobulk_Function_Pipeline_HighRes/bin/bulkSimulationOneProfile/data/simulations/0.07/pbmc_sc_with_metadata_cpm_pc_cell_type_profiles.csv/pbmc_sc_with_metadata_cpm_pc_cell_type_profiles_n_sim_38_profiles.csv', '/space/grp/aadrian/Pseudobulk_Function_Pipeline_HighRes/bin/bulkSimulationOneProfile/data/simulations/0.07/pbmc_sc_with_metadata_cpm_pc_cell_type_profiles.csv/pbmc_sc_with_metadata_cpm_pc_cell_type_profiles_n_sim_41_profiles.csv', '/space/grp/aadrian/Pseudobulk_Function_Pipeline_HighRes/bin/bulkSimulationOneProfile/data/simulations/0.07/pbmc_sc_with_metadata_cpm_pc_cell_type_profiles.csv/pbmc_sc_with_metadata_cpm_pc_cell_type_profiles_n_sim_12_profiles.csv', '/space/grp/aadrian/Pseudobulk_Function_Pipeline_HighRes/bin/bulkSimulationOneProfile/data/simulations/0.07/pbmc_sc_with_metadata_cpm_pc_cell_type_profiles.csv/pbmc_sc_with_metadata_cpm_pc_cell_type_profiles_n_sim_40_profiles.csv', '/space/grp/aadrian/Pseudobulk_Function_Pipeline_HighRes/bin/bulkSimulationOneProfile/data/simulations/0.07/pbmc_sc_with_metadata_cpm_pc_cell_type_profiles.csv/pbmc_sc_with_metadata_cpm_pc_cell_type_profiles_n_sim_13_profiles.csv', '/space/grp/aadrian/Pseudobulk_Function_Pipeline_HighRes/bin/bulkSimulationOneProfile/data/simulations/0.07/pbmc_sc_with_metadata_cpm_pc_cell_type_profiles.csv/pbmc_sc_with_metadata_cpm_pc_cell_type_profiles_n_sim_39_profiles.csv', '/space/grp/aadrian/Pseudobulk_Function_Pipeline_HighRes/bin/bulkSimulationOneProfile/data/simulations/0.07/pbmc_sc_with_metadata_cpm_pc_cell_type_profiles.csv/pbmc_sc_with_metadata_cpm_pc_cell_type_profiles_n_sim_11_profiles.csv', '/space/grp/aadrian/Pseudobulk_Function_Pipeline_HighRes/bin/bulkSimulationOneProfile/data/simulations/0.07/pbmc_sc_with_metadata_cpm_pc_cell_type_profiles.csv/pbmc_sc_with_metadata_cpm_pc_cell_type_profiles_n_sim_42_profiles.csv', '/space/grp/aadrian/Pseudobulk_Function_Pipeline_HighRes/bin/bulkSimulationOneProfile/data/simulations/0.07/pbmc_sc_with_metadata_cpm_pc_cell_type_profiles.csv/pbmc_sc_with_metadata_cpm_pc_cell_type_profiles_n_sim_68_profiles.csv', '/space/grp/aadrian/Pseudobulk_Function_Pipeline_HighRes/bin/bulkSimulationOneProfile/data/simulations/0.07/pbmc_sc_with_metadata_cpm_pc_cell_type_profiles.csv/pbmc_sc_with_metadata_cpm_pc_cell_type_profiles_n_sim_69_profiles.csv', '/space/grp/aadrian/Pseudobulk_Function_Pipeline_HighRes/bin/bulkSimulationOneProfile/data/simulations/0.07/pbmc_sc_with_metadata_cpm_pc_cell_type_profiles.csv/pbmc_sc_with_metadata_cpm_pc_cell_type_profiles_n_sim_10_profiles.csv', '/space/grp/aadrian/Pseudobulk_Function_Pipeline_HighRes/bin/bulkSimulationOneProfile/data/simulations/0.07/pbmc_sc_with_metadata_cpm_pc_cell_type_profiles.csv/pbmc_sc_with_metadata_cpm_pc_cell_type_profiles_n_sim_43_profiles.csv', '/space/grp/aadrian/Pseudobulk_Function_Pipeline_HighRes/bin/bulkSimulationOneProfile/data/simulations/0.07/pbmc_sc_with_metadata_cpm_pc_cell_type_profiles.csv/pbmc_sc_with_metadata_cpm_pc_cell_type_profiles_n_sim_46_profiles.csv', '/space/grp/aadrian/Pseudobulk_Function_Pipeline_HighRes/bin/bulkSimulationOneProfile/data/simulations/0.07/pbmc_sc_with_metadata_cpm_pc_cell_type_profiles.csv/pbmc_sc_with_metadata_cpm_pc_cell_type_profiles_n_sim_99_profiles.csv', '/space/grp/aadrian/Pseudobulk_Function_Pipeline_HighRes/bin/bulkSimulationOneProfile/data/simulations/0.07/pbmc_sc_with_metadata_cpm_pc_cell_type_profiles.csv/pbmc_sc_with_metadata_cpm_pc_cell_type_profiles_n_sim_8_profiles.csv', '/space/grp/aadrian/Pseudobulk_Function_Pipeline_HighRes/bin/bulkSimulationOneProfile/data/simulations/0.07/pbmc_sc_with_metadata_cpm_pc_cell_type_profiles.csv/pbmc_sc_with_metadata_cpm_pc_cell_type_profiles_n_sim_15_profiles.csv', '/space/grp/aadrian/Pseudobulk_Function_Pipeline_HighRes/bin/bulkSimulationOneProfile/data/simulations/0.07/pbmc_sc_with_metadata_cpm_pc_cell_type_profiles.csv/pbmc_sc_with_metadata_cpm_pc_cell_type_profiles_n_sim_9_profiles.csv', '/space/grp/aadrian/Pseudobulk_Function_Pipeline_HighRes/bin/bulkSimulationOneProfile/data/simulations/0.07/pbmc_sc_with_metadata_cpm_pc_cell_type_profiles.csv/pbmc_sc_with_metadata_cpm_pc_cell_type_profiles_n_sim_98_profiles.csv', '/space/grp/aadrian/Pseudobulk_Function_Pipeline_HighRes/bin/bulkSimulationOneProfile/data/simulations/0.07/pbmc_sc_with_metadata_cpm_pc_cell_type_profiles.csv/pbmc_sc_with_metadata_cpm_pc_cell_type_profiles_n_sim_47_profiles.csv', '/space/grp/aadrian/Pseudobulk_Function_Pipeline_HighRes/bin/bulkSimulationOneProfile/data/simulations/0.07/pbmc_sc_with_metadata_cpm_pc_cell_type_profiles.csv/pbmc_sc_with_metadata_cpm_pc_cell_type_profiles_n_sim_14_profiles.csv', '/space/grp/aadrian/Pseudobulk_Function_Pipeline_HighRes/bin/bulkSimulationOneProfile/data/simulations/0.07/pbmc_sc_with_metadata_cpm_pc_cell_type_profiles.csv/pbmc_sc_with_metadata_cpm_pc_cell_type_profiles_n_sim_16_profiles.csv', '/space/grp/aadrian/Pseudobulk_Function_Pipeline_HighRes/bin/bulkSimulationOneProfile/data/simulations/0.07/pbmc_sc_with_metadata_cpm_pc_cell_type_profiles.csv/pbmc_sc_with_metadata_cpm_pc_cell_type_profiles_n_sim_45_profiles.csv', '/space/grp/aadrian/Pseudobulk_Function_Pipeline_HighRes/bin/bulkSimulationOneProfile/data/simulations/0.07/pbmc_sc_with_metadata_cpm_pc_cell_type_profiles.csv/pbmc_sc_with_metadata_cpm_pc_cell_type_profiles_n_sim_17_profiles.csv', '/space/grp/aadrian/Pseudobulk_Function_Pipeline_HighRes/bin/bulkSimulationOneProfile/data/simulations/0.07/pbmc_sc_with_metadata_cpm_pc_cell_type_profiles.csv/pbmc_sc_with_metadata_cpm_pc_cell_type_profiles_n_sim_44_profiles.csv'], ['/space/grp/aadrian/Pseudobulk_Function_Pipeline_HighRes/bin/bulkSimulationOneProfile/data/simulations/0.045/pbmc_sc_with_metadata_cpm_pc_cell_type_profiles.csv/pbmc_sc_with_metadata_cpm_pc_cell_type_profiles_n_sim_72_profiles.csv', '/space/grp/aadrian/Pseudobulk_Function_Pipeline_HighRes/bin/bulkSimulationOneProfile/data/simulations/0.045/pbmc_sc_with_metadata_cpm_pc_cell_type_profiles.csv/pbmc_sc_with_metadata_cpm_pc_cell_type_profiles_n_sim_21_profiles.csv', '/space/grp/aadrian/Pseudobulk_Function_Pipeline_HighRes/bin/bulkSimulationOneProfile/data/simulations/0.045/pbmc_sc_with_metadata_cpm_pc_cell_type_profiles.csv/pbmc_sc_with_metadata_cpm_pc_cell_type_profiles_n_sim_58_profiles.csv', '/space/grp/aadrian/Pseudobulk_Function_Pipeline_HighRes/bin/bulkSimulationOneProfile/data/simulations/0.045/pbmc_sc_with_metadata_cpm_pc_cell_type_profiles.csv/pbmc_sc_with_metadata_cpm_pc_cell_type_profiles_n_sim_87_profiles.csv', '/space/grp/aadrian/Pseudobulk_Function_Pipeline_HighRes/bin/bulkSimulationOneProfile/data/simulations/0.045/pbmc_sc_with_metadata_cpm_pc_cell_type_profiles.csv/pbmc_sc_with_metadata_cpm_pc_cell_type_profiles_n_sim_86_profiles.csv', '/space/grp/aadrian/Pseudobulk_Function_Pipeline_HighRes/bin/bulkSimulationOneProfile/data/simulations/0.045/pbmc_sc_with_metadata_cpm_pc_cell_type_profiles.csv/pbmc_sc_with_metadata_cpm_pc_cell_type_profiles_n_sim_59_profiles.csv', '/space/grp/aadrian/Pseudobulk_Function_Pipeline_HighRes/bin/bulkSimulationOneProfile/data/simulations/0.045/pbmc_sc_with_metadata_cpm_pc_cell_type_profiles.csv/pbmc_sc_with_metadata_cpm_pc_cell_type_profiles_n_sim_73_profiles.csv', '/space/grp/aadrian/Pseudobulk_Function_Pipeline_HighRes/bin/bulkSimulationOneProfile/data/simulations/0.045/pbmc_sc_with_metadata_cpm_pc_cell_type_profiles.csv/pbmc_sc_with_metadata_cpm_pc_cell_type_profiles_n_sim_20_profiles.csv', '/space/grp/aadrian/Pseudobulk_Function_Pipeline_HighRes/bin/bulkSimulationOneProfile/data/simulations/0.045/pbmc_sc_with_metadata_cpm_pc_cell_type_profiles.csv/pbmc_sc_with_metadata_cpm_pc_cell_type_profiles_n_sim_84_profiles.csv', '/space/grp/aadrian/Pseudobulk_Function_Pipeline_HighRes/bin/bulkSimulationOneProfile/data/simulations/0.045/pbmc_sc_with_metadata_cpm_pc_cell_type_profiles.csv/pbmc_sc_with_metadata_cpm_pc_cell_type_profiles_n_sim_22_profiles.csv', '/space/grp/aadrian/Pseudobulk_Function_Pipeline_HighRes/bin/bulkSimulationOneProfile/data/simulations/0.045/pbmc_sc_with_metadata_cpm_pc_cell_type_profiles.csv/pbmc_sc_with_metadata_cpm_pc_cell_type_profiles_n_sim_71_profiles.csv', '/space/grp/aadrian/Pseudobulk_Function_Pipeline_HighRes/bin/bulkSimulationOneProfile/data/simulations/0.045/pbmc_sc_with_metadata_cpm_pc_cell_type_profiles.csv/pbmc_sc_with_metadata_cpm_pc_cell_type_profiles_n_sim_23_profiles.csv', '/space/grp/aadrian/Pseudobulk_Function_Pipeline_HighRes/bin/bulkSimulationOneProfile/data/simulations/0.045/pbmc_sc_with_metadata_cpm_pc_cell_type_profiles.csv/pbmc_sc_with_metadata_cpm_pc_cell_type_profiles_n_sim_70_profiles.csv', '/space/grp/aadrian/Pseudobulk_Function_Pipeline_HighRes/bin/bulkSimulationOneProfile/data/simulations/0.045/pbmc_sc_with_metadata_cpm_pc_cell_type_profiles.csv/pbmc_sc_with_metadata_cpm_pc_cell_type_profiles_n_sim_85_profiles.csv', '/space/grp/aadrian/Pseudobulk_Function_Pipeline_HighRes/bin/bulkSimulationOneProfile/data/simulations/0.045/pbmc_sc_with_metadata_cpm_pc_cell_type_profiles.csv/pbmc_sc_with_metadata_cpm_pc_cell_type_profiles_n_sim_75_profiles.csv', '/space/grp/aadrian/Pseudobulk_Function_Pipeline_HighRes/bin/bulkSimulationOneProfile/data/simulations/0.045/pbmc_sc_with_metadata_cpm_pc_cell_type_profiles.csv/pbmc_sc_with_metadata_cpm_pc_cell_type_profiles_n_sim_26_profiles.csv', '/space/grp/aadrian/Pseudobulk_Function_Pipeline_HighRes/bin/bulkSimulationOneProfile/data/simulations/0.045/pbmc_sc_with_metadata_cpm_pc_cell_type_profiles.csv/pbmc_sc_with_metadata_cpm_pc_cell_type_profiles_n_sim_80_profiles.csv', '/space/grp/aadrian/Pseudobulk_Function_Pipeline_HighRes/bin/bulkSimulationOneProfile/data/simulations/0.045/pbmc_sc_with_metadata_cpm_pc_cell_type_profiles.csv/pbmc_sc_with_metadata_cpm_pc_cell_type_profiles_n_sim_81_profiles.csv', '/space/grp/aadrian/Pseudobulk_Function_Pipeline_HighRes/bin/bulkSimulationOneProfile/data/simulations/0.045/pbmc_sc_with_metadata_cpm_pc_cell_type_profiles.csv/pbmc_sc_with_metadata_cpm_pc_cell_type_profiles_n_sim_74_profiles.csv', '/space/grp/aadrian/Pseudobulk_Function_Pipeline_HighRes/bin/bulkSimulationOneProfile/data/simulations/0.045/pbmc_sc_with_metadata_cpm_pc_cell_type_profiles.csv/pbmc_sc_with_metadata_cpm_pc_cell_type_profiles_n_sim_27_profiles.csv', '/space/grp/aadrian/Pseudobulk_Function_Pipeline_HighRes/bin/bulkSimulationOneProfile/data/simulations/0.045/pbmc_sc_with_metadata_cpm_pc_cell_type_profiles.csv/pbmc_sc_with_metadata_cpm_pc_cell_type_profiles_n_sim_83_profiles.csv', '/space/grp/aadrian/Pseudobulk_Function_Pipeline_HighRes/bin/bulkSimulationOneProfile/data/simulations/0.045/pbmc_sc_with_metadata_cpm_pc_cell_type_profiles.csv/pbmc_sc_with_metadata_cpm_pc_cell_type_profiles_n_sim_25_profiles.csv', '/space/grp/aadrian/Pseudobulk_Function_Pipeline_HighRes/bin/bulkSimulationOneProfile/data/simulations/0.045/pbmc_sc_with_metadata_cpm_pc_cell_type_profiles.csv/pbmc_sc_with_metadata_cpm_pc_cell_type_profiles_n_sim_76_profiles.csv', '/space/grp/aadrian/Pseudobulk_Function_Pipeline_HighRes/bin/bulkSimulationOneProfile/data/simulations/0.045/pbmc_sc_with_metadata_cpm_pc_cell_type_profiles.csv/pbmc_sc_with_metadata_cpm_pc_cell_type_profiles_n_sim_24_profiles.csv', '/space/grp/aadrian/Pseudobulk_Function_Pipeline_HighRes/bin/bulkSimulationOneProfile/data/simulations/0.045/pbmc_sc_with_metadata_cpm_pc_cell_type_profiles.csv/pbmc_sc_with_metadata_cpm_pc_cell_type_profiles_n_sim_77_profiles.csv', '/space/grp/aadrian/Pseudobulk_Function_Pipeline_HighRes/bin/bulkSimulationOneProfile/data/simulations/0.045/pbmc_sc_with_metadata_cpm_pc_cell_type_profiles.csv/pbmc_sc_with_metadata_cpm_pc_cell_type_profiles_n_sim_82_profiles.csv', '/space/grp/aadrian/Pseudobulk_Function_Pipeline_HighRes/bin/bulkSimulationOneProfile/data/simulations/0.045/pbmc_sc_with_metadata_cpm_pc_cell_type_profiles.csv/pbmc_sc_with_metadata_cpm_pc_cell_type_profiles_n_sim_56_profiles.csv', '/space/grp/aadrian/Pseudobulk_Function_Pipeline_HighRes/bin/bulkSimulationOneProfile/data/simulations/0.045/pbmc_sc_with_metadata_cpm_pc_cell_type_profiles.csv/pbmc_sc_with_metadata_cpm_pc_cell_type_profiles_n_sim_89_profiles.csv', '/space/grp/aadrian/Pseudobulk_Function_Pipeline_HighRes/bin/bulkSimulationOneProfile/data/simulations/0.045/pbmc_sc_with_metadata_cpm_pc_cell_type_profiles.csv/pbmc_sc_with_metadata_cpm_pc_cell_type_profiles_n_sim_88_profiles.csv', '/space/grp/aadrian/Pseudobulk_Function_Pipeline_HighRes/bin/bulkSimulationOneProfile/data/simulations/0.045/pbmc_sc_with_metadata_cpm_pc_cell_type_profiles.csv/pbmc_sc_with_metadata_cpm_pc_cell_type_profiles_n_sim_57_profiles.csv', '/space/grp/aadrian/Pseudobulk_Function_Pipeline_HighRes/bin/bulkSimulationOneProfile/data/simulations/0.045/pbmc_sc_with_metadata_cpm_pc_cell_type_profiles.csv/pbmc_sc_with_metadata_cpm_pc_cell_type_profiles_n_sim_55_profiles.csv', '/space/grp/aadrian/Pseudobulk_Function_Pipeline_HighRes/bin/bulkSimulationOneProfile/data/simulations/0.045/pbmc_sc_with_metadata_cpm_pc_cell_type_profiles.csv/pbmc_sc_with_metadata_cpm_pc_cell_type_profiles_n_sim_54_profiles.csv', '/space/grp/aadrian/Pseudobulk_Function_Pipeline_HighRes/bin/bulkSimulationOneProfile/data/simulations/0.045/pbmc_sc_with_metadata_cpm_pc_cell_type_profiles.csv/pbmc_sc_with_metadata_cpm_pc_cell_type_profiles_n_sim_28_profiles.csv', '/space/grp/aadrian/Pseudobulk_Function_Pipeline_HighRes/bin/bulkSimulationOneProfile/data/simulations/0.045/pbmc_sc_with_metadata_cpm_pc_cell_type_profiles.csv/pbmc_sc_with_metadata_cpm_pc_cell_type_profiles_n_sim_51_profiles.csv', '/space/grp/aadrian/Pseudobulk_Function_Pipeline_HighRes/bin/bulkSimulationOneProfile/data/simulations/0.045/pbmc_sc_with_metadata_cpm_pc_cell_type_profiles.csv/pbmc_sc_with_metadata_cpm_pc_cell_type_profiles_n_sim_50_profiles.csv', '/space/grp/aadrian/Pseudobulk_Function_Pipeline_HighRes/bin/bulkSimulationOneProfile/data/simulations/0.045/pbmc_sc_with_metadata_cpm_pc_cell_type_profiles.csv/pbmc_sc_with_metadata_cpm_pc_cell_type_profiles_n_sim_29_profiles.csv', '/space/grp/aadrian/Pseudobulk_Function_Pipeline_HighRes/bin/bulkSimulationOneProfile/data/simulations/0.045/pbmc_sc_with_metadata_cpm_pc_cell_type_profiles.csv/pbmc_sc_with_metadata_cpm_pc_cell_type_profiles_n_sim_52_profiles.csv', '/space/grp/aadrian/Pseudobulk_Function_Pipeline_HighRes/bin/bulkSimulationOneProfile/data/simulations/0.045/pbmc_sc_with_metadata_cpm_pc_cell_type_profiles.csv/pbmc_sc_with_metadata_cpm_pc_cell_type_profiles_n_sim_78_profiles.csv', '/space/grp/aadrian/Pseudobulk_Function_Pipeline_HighRes/bin/bulkSimulationOneProfile/data/simulations/0.045/pbmc_sc_with_metadata_cpm_pc_cell_type_profiles.csv/pbmc_sc_with_metadata_cpm_pc_cell_type_profiles_n_sim_79_profiles.csv', '/space/grp/aadrian/Pseudobulk_Function_Pipeline_HighRes/bin/bulkSimulationOneProfile/data/simulations/0.045/pbmc_sc_with_metadata_cpm_pc_cell_type_profiles.csv/pbmc_sc_with_metadata_cpm_pc_cell_type_profiles_n_sim_53_profiles.csv', '/space/grp/aadrian/Pseudobulk_Function_Pipeline_HighRes/bin/bulkSimulationOneProfile/data/simulations/0.045/pbmc_sc_with_metadata_cpm_pc_cell_type_profiles.csv/pbmc_sc_with_metadata_cpm_pc_cell_type_profiles_n_sim_11_profiles.csv', '/space/grp/aadrian/Pseudobulk_Function_Pipeline_HighRes/bin/bulkSimulationOneProfile/data/simulations/0.045/pbmc_sc_with_metadata_cpm_pc_cell_type_profiles.csv/pbmc_sc_with_metadata_cpm_pc_cell_type_profiles_n_sim_42_profiles.csv', '/space/grp/aadrian/Pseudobulk_Function_Pipeline_HighRes/bin/bulkSimulationOneProfile/data/simulations/0.045/pbmc_sc_with_metadata_cpm_pc_cell_type_profiles.csv/pbmc_sc_with_metadata_cpm_pc_cell_type_profiles_n_sim_68_profiles.csv', '/space/grp/aadrian/Pseudobulk_Function_Pipeline_HighRes/bin/bulkSimulationOneProfile/data/simulations/0.045/pbmc_sc_with_metadata_cpm_pc_cell_type_profiles.csv/pbmc_sc_with_metadata_cpm_pc_cell_type_profiles_n_sim_69_profiles.csv', '/space/grp/aadrian/Pseudobulk_Function_Pipeline_HighRes/bin/bulkSimulationOneProfile/data/simulations/0.045/pbmc_sc_with_metadata_cpm_pc_cell_type_profiles.csv/pbmc_sc_with_metadata_cpm_pc_cell_type_profiles_n_sim_10_profiles.csv', '/space/grp/aadrian/Pseudobulk_Function_Pipeline_HighRes/bin/bulkSimulationOneProfile/data/simulations/0.045/pbmc_sc_with_metadata_cpm_pc_cell_type_profiles.csv/pbmc_sc_with_metadata_cpm_pc_cell_type_profiles_n_sim_43_profiles.csv', '/space/grp/aadrian/Pseudobulk_Function_Pipeline_HighRes/bin/bulkSimulationOneProfile/data/simulations/0.045/pbmc_sc_with_metadata_cpm_pc_cell_type_profiles.csv/pbmc_sc_with_metadata_cpm_pc_cell_type_profiles_n_sim_38_profiles.csv', '/space/grp/aadrian/Pseudobulk_Function_Pipeline_HighRes/bin/bulkSimulationOneProfile/data/simulations/0.045/pbmc_sc_with_metadata_cpm_pc_cell_type_profiles.csv/pbmc_sc_with_metadata_cpm_pc_cell_type_profiles_n_sim_8_profiles.csv', '/space/grp/aadrian/Pseudobulk_Function_Pipeline_HighRes/bin/bulkSimulationOneProfile/data/simulations/0.045/pbmc_sc_with_metadata_cpm_pc_cell_type_profiles.csv/pbmc_sc_with_metadata_cpm_pc_cell_type_profiles_n_sim_41_profiles.csv', '/space/grp/aadrian/Pseudobulk_Function_Pipeline_HighRes/bin/bulkSimulationOneProfile/data/simulations/0.045/pbmc_sc_with_metadata_cpm_pc_cell_type_profiles.csv/pbmc_sc_with_metadata_cpm_pc_cell_type_profiles_n_sim_12_profiles.csv', '/space/grp/aadrian/Pseudobulk_Function_Pipeline_HighRes/bin/bulkSimulationOneProfile/data/simulations/0.045/pbmc_sc_with_metadata_cpm_pc_cell_type_profiles.csv/pbmc_sc_with_metadata_cpm_pc_cell_type_profiles_n_sim_40_profiles.csv', '/space/grp/aadrian/Pseudobulk_Function_Pipeline_HighRes/bin/bulkSimulationOneProfile/data/simulations/0.045/pbmc_sc_with_metadata_cpm_pc_cell_type_profiles.csv/pbmc_sc_with_metadata_cpm_pc_cell_type_profiles_n_sim_13_profiles.csv', '/space/grp/aadrian/Pseudobulk_Function_Pipeline_HighRes/bin/bulkSimulationOneProfile/data/simulations/0.045/pbmc_sc_with_metadata_cpm_pc_cell_type_profiles.csv/pbmc_sc_with_metadata_cpm_pc_cell_type_profiles_n_sim_39_profiles.csv', '/space/grp/aadrian/Pseudobulk_Function_Pipeline_HighRes/bin/bulkSimulationOneProfile/data/simulations/0.045/pbmc_sc_with_metadata_cpm_pc_cell_type_profiles.csv/pbmc_sc_with_metadata_cpm_pc_cell_type_profiles_n_sim_9_profiles.csv', '/space/grp/aadrian/Pseudobulk_Function_Pipeline_HighRes/bin/bulkSimulationOneProfile/data/simulations/0.045/pbmc_sc_with_metadata_cpm_pc_cell_type_profiles.csv/pbmc_sc_with_metadata_cpm_pc_cell_type_profiles_n_sim_16_profiles.csv', '/space/grp/aadrian/Pseudobulk_Function_Pipeline_HighRes/bin/bulkSimulationOneProfile/data/simulations/0.045/pbmc_sc_with_metadata_cpm_pc_cell_type_profiles.csv/pbmc_sc_with_metadata_cpm_pc_cell_type_profiles_n_sim_45_profiles.csv', '/space/grp/aadrian/Pseudobulk_Function_Pipeline_HighRes/bin/bulkSimulationOneProfile/data/simulations/0.045/pbmc_sc_with_metadata_cpm_pc_cell_type_profiles.csv/pbmc_sc_with_metadata_cpm_pc_cell_type_profiles_n_sim_17_profiles.csv', '/space/grp/aadrian/Pseudobulk_Function_Pipeline_HighRes/bin/bulkSimulationOneProfile/data/simulations/0.045/pbmc_sc_with_metadata_cpm_pc_cell_type_profiles.csv/pbmc_sc_with_metadata_cpm_pc_cell_type_profiles_n_sim_44_profiles.csv', '/space/grp/aadrian/Pseudobulk_Function_Pipeline_HighRes/bin/bulkSimulationOneProfile/data/simulations/0.045/pbmc_sc_with_metadata_cpm_pc_cell_type_profiles.csv/pbmc_sc_with_metadata_cpm_pc_cell_type_profiles_n_sim_46_profiles.csv', '/space/grp/aadrian/Pseudobulk_Function_Pipeline_HighRes/bin/bulkSimulationOneProfile/data/simulations/0.045/pbmc_sc_with_metadata_cpm_pc_cell_type_profiles.csv/pbmc_sc_with_metadata_cpm_pc_cell_type_profiles_n_sim_99_profiles.csv', '/space/grp/aadrian/Pseudobulk_Function_Pipeline_HighRes/bin/bulkSimulationOneProfile/data/simulations/0.045/pbmc_sc_with_metadata_cpm_pc_cell_type_profiles.csv/pbmc_sc_with_metadata_cpm_pc_cell_type_profiles_n_sim_15_profiles.csv', '/space/grp/aadrian/Pseudobulk_Function_Pipeline_HighRes/bin/bulkSimulationOneProfile/data/simulations/0.045/pbmc_sc_with_metadata_cpm_pc_cell_type_profiles.csv/pbmc_sc_with_metadata_cpm_pc_cell_type_profiles_n_sim_98_profiles.csv', '/space/grp/aadrian/Pseudobulk_Function_Pipeline_HighRes/bin/bulkSimulationOneProfile/data/simulations/0.045/pbmc_sc_with_metadata_cpm_pc_cell_type_profiles.csv/pbmc_sc_with_metadata_cpm_pc_cell_type_profiles_n_sim_47_profiles.csv', '/space/grp/aadrian/Pseudobulk_Function_Pipeline_HighRes/bin/bulkSimulationOneProfile/data/simulations/0.045/pbmc_sc_with_metadata_cpm_pc_cell_type_profiles.csv/pbmc_sc_with_metadata_cpm_pc_cell_type_profiles_n_sim_14_profiles.csv', '/space/grp/aadrian/Pseudobulk_Function_Pipeline_HighRes/bin/bulkSimulationOneProfile/data/simulations/0.045/pbmc_sc_with_metadata_cpm_pc_cell_type_profiles.csv/pbmc_sc_with_metadata_cpm_pc_cell_type_profiles_n_sim_93_profiles.csv', '/space/grp/aadrian/Pseudobulk_Function_Pipeline_HighRes/bin/bulkSimulationOneProfile/data/simulations/0.045/pbmc_sc_with_metadata_cpm_pc_cell_type_profiles.csv/pbmc_sc_with_metadata_cpm_pc_cell_type_profiles_n_sim_35_profiles.csv', '/space/grp/aadrian/Pseudobulk_Function_Pipeline_HighRes/bin/bulkSimulationOneProfile/data/simulations/0.045/pbmc_sc_with_metadata_cpm_pc_cell_type_profiles.csv/pbmc_sc_with_metadata_cpm_pc_cell_type_profiles_n_sim_66_profiles.csv', '/space/grp/aadrian/Pseudobulk_Function_Pipeline_HighRes/bin/bulkSimulationOneProfile/data/simulations/0.045/pbmc_sc_with_metadata_cpm_pc_cell_type_profiles.csv/pbmc_sc_with_metadata_cpm_pc_cell_type_profiles_n_sim_5_profiles.csv', '/space/grp/aadrian/Pseudobulk_Function_Pipeline_HighRes/bin/bulkSimulationOneProfile/data/simulations/0.045/pbmc_sc_with_metadata_cpm_pc_cell_type_profiles.csv/pbmc_sc_with_metadata_cpm_pc_cell_type_profiles_n_sim_34_profiles.csv', '/space/grp/aadrian/Pseudobulk_Function_Pipeline_HighRes/bin/bulkSimulationOneProfile/data/simulations/0.045/pbmc_sc_with_metadata_cpm_pc_cell_type_profiles.csv/pbmc_sc_with_metadata_cpm_pc_cell_type_profiles_n_sim_4_profiles.csv', '/space/grp/aadrian/Pseudobulk_Function_Pipeline_HighRes/bin/bulkSimulationOneProfile/data/simulations/0.045/pbmc_sc_with_metadata_cpm_pc_cell_type_profiles.csv/pbmc_sc_with_metadata_cpm_pc_cell_type_profiles_n_sim_67_profiles.csv', '/space/grp/aadrian/Pseudobulk_Function_Pipeline_HighRes/bin/bulkSimulationOneProfile/data/simulations/0.045/pbmc_sc_with_metadata_cpm_pc_cell_type_profiles.csv/pbmc_sc_with_metadata_cpm_pc_cell_type_profiles_n_sim_92_profiles.csv', '/space/grp/aadrian/Pseudobulk_Function_Pipeline_HighRes/bin/bulkSimulationOneProfile/data/simulations/0.045/pbmc_sc_with_metadata_cpm_pc_cell_type_profiles.csv/pbmc_sc_with_metadata_cpm_pc_cell_type_profiles_n_sim_65_profiles.csv', '/space/grp/aadrian/Pseudobulk_Function_Pipeline_HighRes/bin/bulkSimulationOneProfile/data/simulations/0.045/pbmc_sc_with_metadata_cpm_pc_cell_type_profiles.csv/pbmc_sc_with_metadata_cpm_pc_cell_type_profiles_n_sim_6_profiles.csv', '/space/grp/aadrian/Pseudobulk_Function_Pipeline_HighRes/bin/bulkSimulationOneProfile/data/simulations/0.045/pbmc_sc_with_metadata_cpm_pc_cell_type_profiles.csv/pbmc_sc_with_metadata_cpm_pc_cell_type_profiles_n_sim_36_profiles.csv', '/space/grp/aadrian/Pseudobulk_Function_Pipeline_HighRes/bin/bulkSimulationOneProfile/data/simulations/0.045/pbmc_sc_with_metadata_cpm_pc_cell_type_profiles.csv/pbmc_sc_with_metadata_cpm_pc_cell_type_profiles_n_sim_90_profiles.csv', '/space/grp/aadrian/Pseudobulk_Function_Pipeline_HighRes/bin/bulkSimulationOneProfile/data/simulations/0.045/pbmc_sc_with_metadata_cpm_pc_cell_type_profiles.csv/pbmc_sc_with_metadata_cpm_pc_cell_type_profiles_n_sim_91_profiles.csv', '/space/grp/aadrian/Pseudobulk_Function_Pipeline_HighRes/bin/bulkSimulationOneProfile/data/simulations/0.045/pbmc_sc_with_metadata_cpm_pc_cell_type_profiles.csv/pbmc_sc_with_metadata_cpm_pc_cell_type_profiles_n_sim_7_profiles.csv', '/space/grp/aadrian/Pseudobulk_Function_Pipeline_HighRes/bin/bulkSimulationOneProfile/data/simulations/0.045/pbmc_sc_with_metadata_cpm_pc_cell_type_profiles.csv/pbmc_sc_with_metadata_cpm_pc_cell_type_profiles_n_sim_64_profiles.csv', '/space/grp/aadrian/Pseudobulk_Function_Pipeline_HighRes/bin/bulkSimulationOneProfile/data/simulations/0.045/pbmc_sc_with_metadata_cpm_pc_cell_type_profiles.csv/pbmc_sc_with_metadata_cpm_pc_cell_type_profiles_n_sim_37_profiles.csv', '/space/grp/aadrian/Pseudobulk_Function_Pipeline_HighRes/bin/bulkSimulationOneProfile/data/simulations/0.045/pbmc_sc_with_metadata_cpm_pc_cell_type_profiles.csv/pbmc_sc_with_metadata_cpm_pc_cell_type_profiles_n_sim_94_profiles.csv', '/space/grp/aadrian/Pseudobulk_Function_Pipeline_HighRes/bin/bulkSimulationOneProfile/data/simulations/0.045/pbmc_sc_with_metadata_cpm_pc_cell_type_profiles.csv/pbmc_sc_with_metadata_cpm_pc_cell_type_profiles_n_sim_18_profiles.csv', '/space/grp/aadrian/Pseudobulk_Function_Pipeline_HighRes/bin/bulkSimulationOneProfile/data/simulations/0.045/pbmc_sc_with_metadata_cpm_pc_cell_type_profiles.csv/pbmc_sc_with_metadata_cpm_pc_cell_type_profiles_n_sim_32_profiles.csv', '/space/grp/aadrian/Pseudobulk_Function_Pipeline_HighRes/bin/bulkSimulationOneProfile/data/simulations/0.045/pbmc_sc_with_metadata_cpm_pc_cell_type_profiles.csv/pbmc_sc_with_metadata_cpm_pc_cell_type_profiles_n_sim_2_profiles.csv', '/space/grp/aadrian/Pseudobulk_Function_Pipeline_HighRes/bin/bulkSimulationOneProfile/data/simulations/0.045/pbmc_sc_with_metadata_cpm_pc_cell_type_profiles.csv/pbmc_sc_with_metadata_cpm_pc_cell_type_profiles_n_sim_61_profiles.csv', '/space/grp/aadrian/Pseudobulk_Function_Pipeline_HighRes/bin/bulkSimulationOneProfile/data/simulations/0.045/pbmc_sc_with_metadata_cpm_pc_cell_type_profiles.csv/pbmc_sc_with_metadata_cpm_pc_cell_type_profiles_n_sim_33_profiles.csv', '/space/grp/aadrian/Pseudobulk_Function_Pipeline_HighRes/bin/bulkSimulationOneProfile/data/simulations/0.045/pbmc_sc_with_metadata_cpm_pc_cell_type_profiles.csv/pbmc_sc_with_metadata_cpm_pc_cell_type_profiles_n_sim_60_profiles.csv', '/space/grp/aadrian/Pseudobulk_Function_Pipeline_HighRes/bin/bulkSimulationOneProfile/data/simulations/0.045/pbmc_sc_with_metadata_cpm_pc_cell_type_profiles.csv/pbmc_sc_with_metadata_cpm_pc_cell_type_profiles_n_sim_3_profiles.csv', '/space/grp/aadrian/Pseudobulk_Function_Pipeline_HighRes/bin/bulkSimulationOneProfile/data/simulations/0.045/pbmc_sc_with_metadata_cpm_pc_cell_type_profiles.csv/pbmc_sc_with_metadata_cpm_pc_cell_type_profiles_n_sim_95_profiles.csv', '/space/grp/aadrian/Pseudobulk_Function_Pipeline_HighRes/bin/bulkSimulationOneProfile/data/simulations/0.045/pbmc_sc_with_metadata_cpm_pc_cell_type_profiles.csv/pbmc_sc_with_metadata_cpm_pc_cell_type_profiles_n_sim_19_profiles.csv', '/space/grp/aadrian/Pseudobulk_Function_Pipeline_HighRes/bin/bulkSimulationOneProfile/data/simulations/0.045/pbmc_sc_with_metadata_cpm_pc_cell_type_profiles.csv/pbmc_sc_with_metadata_cpm_pc_cell_type_profiles_n_sim_1_profiles.csv', '/space/grp/aadrian/Pseudobulk_Function_Pipeline_HighRes/bin/bulkSimulationOneProfile/data/simulations/0.045/pbmc_sc_with_metadata_cpm_pc_cell_type_profiles.csv/pbmc_sc_with_metadata_cpm_pc_cell_type_profiles_n_sim_62_profiles.csv', '/space/grp/aadrian/Pseudobulk_Function_Pipeline_HighRes/bin/bulkSimulationOneProfile/data/simulations/0.045/pbmc_sc_with_metadata_cpm_pc_cell_type_profiles.csv/pbmc_sc_with_metadata_cpm_pc_cell_type_profiles_n_sim_31_profiles.csv', '/space/grp/aadrian/Pseudobulk_Function_Pipeline_HighRes/bin/bulkSimulationOneProfile/data/simulations/0.045/pbmc_sc_with_metadata_cpm_pc_cell_type_profiles.csv/pbmc_sc_with_metadata_cpm_pc_cell_type_profiles_n_sim_48_profiles.csv', '/space/grp/aadrian/Pseudobulk_Function_Pipeline_HighRes/bin/bulkSimulationOneProfile/data/simulations/0.045/pbmc_sc_with_metadata_cpm_pc_cell_type_profiles.csv/pbmc_sc_with_metadata_cpm_pc_cell_type_profiles_n_sim_97_profiles.csv', '/space/grp/aadrian/Pseudobulk_Function_Pipeline_HighRes/bin/bulkSimulationOneProfile/data/simulations/0.045/pbmc_sc_with_metadata_cpm_pc_cell_type_profiles.csv/pbmc_sc_with_metadata_cpm_pc_cell_type_profiles_n_sim_96_profiles.csv', '/space/grp/aadrian/Pseudobulk_Function_Pipeline_HighRes/bin/bulkSimulationOneProfile/data/simulations/0.045/pbmc_sc_with_metadata_cpm_pc_cell_type_profiles.csv/pbmc_sc_with_metadata_cpm_pc_cell_type_profiles_n_sim_49_profiles.csv', '/space/grp/aadrian/Pseudobulk_Function_Pipeline_HighRes/bin/bulkSimulationOneProfile/data/simulations/0.045/pbmc_sc_with_metadata_cpm_pc_cell_type_profiles.csv/pbmc_sc_with_metadata_cpm_pc_cell_type_profiles_n_sim_63_profiles.csv', '/space/grp/aadrian/Pseudobulk_Function_Pipeline_HighRes/bin/bulkSimulationOneProfile/data/simulations/0.045/pbmc_sc_with_metadata_cpm_pc_cell_type_profiles.csv/pbmc_sc_with_metadata_cpm_pc_cell_type_profiles_n_sim_0_profiles.csv', '/space/grp/aadrian/Pseudobulk_Function_Pipeline_HighRes/bin/bulkSimulationOneProfile/data/simulations/0.045/pbmc_sc_with_metadata_cpm_pc_cell_type_profiles.csv/pbmc_sc_with_metadata_cpm_pc_cell_type_profiles_n_sim_30_profiles.csv'], ['/space/grp/aadrian/Pseudobulk_Function_Pipeline_HighRes/bin/bulkSimulationOneProfile/data/simulations/0.09/pbmc_sc_with_metadata_cpm_pc_cell_type_profiles.csv/pbmc_sc_with_metadata_cpm_pc_cell_type_profiles_n_sim_90_profiles.csv', '/space/grp/aadrian/Pseudobulk_Function_Pipeline_HighRes/bin/bulkSimulationOneProfile/data/simulations/0.09/pbmc_sc_with_metadata_cpm_pc_cell_type_profiles.csv/pbmc_sc_with_metadata_cpm_pc_cell_type_profiles_n_sim_36_profiles.csv', '/space/grp/aadrian/Pseudobulk_Function_Pipeline_HighRes/bin/bulkSimulationOneProfile/data/simulations/0.09/pbmc_sc_with_metadata_cpm_pc_cell_type_profiles.csv/pbmc_sc_with_metadata_cpm_pc_cell_type_profiles_n_sim_65_profiles.csv', '/space/grp/aadrian/Pseudobulk_Function_Pipeline_HighRes/bin/bulkSimulationOneProfile/data/simulations/0.09/pbmc_sc_with_metadata_cpm_pc_cell_type_profiles.csv/pbmc_sc_with_metadata_cpm_pc_cell_type_profiles_n_sim_37_profiles.csv', '/space/grp/aadrian/Pseudobulk_Function_Pipeline_HighRes/bin/bulkSimulationOneProfile/data/simulations/0.09/pbmc_sc_with_metadata_cpm_pc_cell_type_profiles.csv/pbmc_sc_with_metadata_cpm_pc_cell_type_profiles_n_sim_64_profiles.csv', '/space/grp/aadrian/Pseudobulk_Function_Pipeline_HighRes/bin/bulkSimulationOneProfile/data/simulations/0.09/pbmc_sc_with_metadata_cpm_pc_cell_type_profiles.csv/pbmc_sc_with_metadata_cpm_pc_cell_type_profiles_n_sim_91_profiles.csv', '/space/grp/aadrian/Pseudobulk_Function_Pipeline_HighRes/bin/bulkSimulationOneProfile/data/simulations/0.09/pbmc_sc_with_metadata_cpm_pc_cell_type_profiles.csv/pbmc_sc_with_metadata_cpm_pc_cell_type_profiles_n_sim_66_profiles.csv', '/space/grp/aadrian/Pseudobulk_Function_Pipeline_HighRes/bin/bulkSimulationOneProfile/data/simulations/0.09/pbmc_sc_with_metadata_cpm_pc_cell_type_profiles.csv/pbmc_sc_with_metadata_cpm_pc_cell_type_profiles_n_sim_35_profiles.csv', '/space/grp/aadrian/Pseudobulk_Function_Pipeline_HighRes/bin/bulkSimulationOneProfile/data/simulations/0.09/pbmc_sc_with_metadata_cpm_pc_cell_type_profiles.csv/pbmc_sc_with_metadata_cpm_pc_cell_type_profiles_n_sim_93_profiles.csv', '/space/grp/aadrian/Pseudobulk_Function_Pipeline_HighRes/bin/bulkSimulationOneProfile/data/simulations/0.09/pbmc_sc_with_metadata_cpm_pc_cell_type_profiles.csv/pbmc_sc_with_metadata_cpm_pc_cell_type_profiles_n_sim_92_profiles.csv', '/space/grp/aadrian/Pseudobulk_Function_Pipeline_HighRes/bin/bulkSimulationOneProfile/data/simulations/0.09/pbmc_sc_with_metadata_cpm_pc_cell_type_profiles.csv/pbmc_sc_with_metadata_cpm_pc_cell_type_profiles_n_sim_67_profiles.csv', '/space/grp/aadrian/Pseudobulk_Function_Pipeline_HighRes/bin/bulkSimulationOneProfile/data/simulations/0.09/pbmc_sc_with_metadata_cpm_pc_cell_type_profiles.csv/pbmc_sc_with_metadata_cpm_pc_cell_type_profiles_n_sim_34_profiles.csv', '/space/grp/aadrian/Pseudobulk_Function_Pipeline_HighRes/bin/bulkSimulationOneProfile/data/simulations/0.09/pbmc_sc_with_metadata_cpm_pc_cell_type_profiles.csv/pbmc_sc_with_metadata_cpm_pc_cell_type_profiles_n_sim_48_profiles.csv', '/space/grp/aadrian/Pseudobulk_Function_Pipeline_HighRes/bin/bulkSimulationOneProfile/data/simulations/0.09/pbmc_sc_with_metadata_cpm_pc_cell_type_profiles.csv/pbmc_sc_with_metadata_cpm_pc_cell_type_profiles_n_sim_97_profiles.csv', '/space/grp/aadrian/Pseudobulk_Function_Pipeline_HighRes/bin/bulkSimulationOneProfile/data/simulations/0.09/pbmc_sc_with_metadata_cpm_pc_cell_type_profiles.csv/pbmc_sc_with_metadata_cpm_pc_cell_type_profiles_n_sim_31_profiles.csv', '/space/grp/aadrian/Pseudobulk_Function_Pipeline_HighRes/bin/bulkSimulationOneProfile/data/simulations/0.09/pbmc_sc_with_metadata_cpm_pc_cell_type_profiles.csv/pbmc_sc_with_metadata_cpm_pc_cell_type_profiles_n_sim_62_profiles.csv', '/space/grp/aadrian/Pseudobulk_Function_Pipeline_HighRes/bin/bulkSimulationOneProfile/data/simulations/0.09/pbmc_sc_with_metadata_cpm_pc_cell_type_profiles.csv/pbmc_sc_with_metadata_cpm_pc_cell_type_profiles_n_sim_30_profiles.csv', '/space/grp/aadrian/Pseudobulk_Function_Pipeline_HighRes/bin/bulkSimulationOneProfile/data/simulations/0.09/pbmc_sc_with_metadata_cpm_pc_cell_type_profiles.csv/pbmc_sc_with_metadata_cpm_pc_cell_type_profiles_n_sim_63_profiles.csv', '/space/grp/aadrian/Pseudobulk_Function_Pipeline_HighRes/bin/bulkSimulationOneProfile/data/simulations/0.09/pbmc_sc_with_metadata_cpm_pc_cell_type_profiles.csv/pbmc_sc_with_metadata_cpm_pc_cell_type_profiles_n_sim_96_profiles.csv', '/space/grp/aadrian/Pseudobulk_Function_Pipeline_HighRes/bin/bulkSimulationOneProfile/data/simulations/0.09/pbmc_sc_with_metadata_cpm_pc_cell_type_profiles.csv/pbmc_sc_with_metadata_cpm_pc_cell_type_profiles_n_sim_49_profiles.csv', '/space/grp/aadrian/Pseudobulk_Function_Pipeline_HighRes/bin/bulkSimulationOneProfile/data/simulations/0.09/pbmc_sc_with_metadata_cpm_pc_cell_type_profiles.csv/pbmc_sc_with_metadata_cpm_pc_cell_type_profiles_n_sim_61_profiles.csv', '/space/grp/aadrian/Pseudobulk_Function_Pipeline_HighRes/bin/bulkSimulationOneProfile/data/simulations/0.09/pbmc_sc_with_metadata_cpm_pc_cell_type_profiles.csv/pbmc_sc_with_metadata_cpm_pc_cell_type_profiles_n_sim_32_profiles.csv', '/space/grp/aadrian/Pseudobulk_Function_Pipeline_HighRes/bin/bulkSimulationOneProfile/data/simulations/0.09/pbmc_sc_with_metadata_cpm_pc_cell_type_profiles.csv/pbmc_sc_with_metadata_cpm_pc_cell_type_profiles_n_sim_18_profiles.csv', '/space/grp/aadrian/Pseudobulk_Function_Pipeline_HighRes/bin/bulkSimulationOneProfile/data/simulations/0.09/pbmc_sc_with_metadata_cpm_pc_cell_type_profiles.csv/pbmc_sc_with_metadata_cpm_pc_cell_type_profiles_n_sim_94_profiles.csv', '/space/grp/aadrian/Pseudobulk_Function_Pipeline_HighRes/bin/bulkSimulationOneProfile/data/simulations/0.09/pbmc_sc_with_metadata_cpm_pc_cell_type_profiles.csv/pbmc_sc_with_metadata_cpm_pc_cell_type_profiles_n_sim_19_profiles.csv', '/space/grp/aadrian/Pseudobulk_Function_Pipeline_HighRes/bin/bulkSimulationOneProfile/data/simulations/0.09/pbmc_sc_with_metadata_cpm_pc_cell_type_profiles.csv/pbmc_sc_with_metadata_cpm_pc_cell_type_profiles_n_sim_95_profiles.csv', '/space/grp/aadrian/Pseudobulk_Function_Pipeline_HighRes/bin/bulkSimulationOneProfile/data/simulations/0.09/pbmc_sc_with_metadata_cpm_pc_cell_type_profiles.csv/pbmc_sc_with_metadata_cpm_pc_cell_type_profiles_n_sim_60_profiles.csv', '/space/grp/aadrian/Pseudobulk_Function_Pipeline_HighRes/bin/bulkSimulationOneProfile/data/simulations/0.09/pbmc_sc_with_metadata_cpm_pc_cell_type_profiles.csv/pbmc_sc_with_metadata_cpm_pc_cell_type_profiles_n_sim_33_profiles.csv', '/space/grp/aadrian/Pseudobulk_Function_Pipeline_HighRes/bin/bulkSimulationOneProfile/data/simulations/0.09/pbmc_sc_with_metadata_cpm_pc_cell_type_profiles.csv/pbmc_sc_with_metadata_cpm_pc_cell_type_profiles_n_sim_12_profiles.csv', '/space/grp/aadrian/Pseudobulk_Function_Pipeline_HighRes/bin/bulkSimulationOneProfile/data/simulations/0.09/pbmc_sc_with_metadata_cpm_pc_cell_type_profiles.csv/pbmc_sc_with_metadata_cpm_pc_cell_type_profiles_n_sim_41_profiles.csv', '/space/grp/aadrian/Pseudobulk_Function_Pipeline_HighRes/bin/bulkSimulationOneProfile/data/simulations/0.09/pbmc_sc_with_metadata_cpm_pc_cell_type_profiles.csv/pbmc_sc_with_metadata_cpm_pc_cell_type_profiles_n_sim_38_profiles.csv', '/space/grp/aadrian/Pseudobulk_Function_Pipeline_HighRes/bin/bulkSimulationOneProfile/data/simulations/0.09/pbmc_sc_with_metadata_cpm_pc_cell_type_profiles.csv/pbmc_sc_with_metadata_cpm_pc_cell_type_profiles_n_sim_39_profiles.csv', '/space/grp/aadrian/Pseudobulk_Function_Pipeline_HighRes/bin/bulkSimulationOneProfile/data/simulations/0.09/pbmc_sc_with_metadata_cpm_pc_cell_type_profiles.csv/pbmc_sc_with_metadata_cpm_pc_cell_type_profiles_n_sim_13_profiles.csv', '/space/grp/aadrian/Pseudobulk_Function_Pipeline_HighRes/bin/bulkSimulationOneProfile/data/simulations/0.09/pbmc_sc_with_metadata_cpm_pc_cell_type_profiles.csv/pbmc_sc_with_metadata_cpm_pc_cell_type_profiles_n_sim_40_profiles.csv', '/space/grp/aadrian/Pseudobulk_Function_Pipeline_HighRes/bin/bulkSimulationOneProfile/data/simulations/0.09/pbmc_sc_with_metadata_cpm_pc_cell_type_profiles.csv/pbmc_sc_with_metadata_cpm_pc_cell_type_profiles_n_sim_68_profiles.csv', '/space/grp/aadrian/Pseudobulk_Function_Pipeline_HighRes/bin/bulkSimulationOneProfile/data/simulations/0.09/pbmc_sc_with_metadata_cpm_pc_cell_type_profiles.csv/pbmc_sc_with_metadata_cpm_pc_cell_type_profiles_n_sim_42_profiles.csv', '/space/grp/aadrian/Pseudobulk_Function_Pipeline_HighRes/bin/bulkSimulationOneProfile/data/simulations/0.09/pbmc_sc_with_metadata_cpm_pc_cell_type_profiles.csv/pbmc_sc_with_metadata_cpm_pc_cell_type_profiles_n_sim_11_profiles.csv', '/space/grp/aadrian/Pseudobulk_Function_Pipeline_HighRes/bin/bulkSimulationOneProfile/data/simulations/0.09/pbmc_sc_with_metadata_cpm_pc_cell_type_profiles.csv/pbmc_sc_with_metadata_cpm_pc_cell_type_profiles_n_sim_43_profiles.csv', '/space/grp/aadrian/Pseudobulk_Function_Pipeline_HighRes/bin/bulkSimulationOneProfile/data/simulations/0.09/pbmc_sc_with_metadata_cpm_pc_cell_type_profiles.csv/pbmc_sc_with_metadata_cpm_pc_cell_type_profiles_n_sim_10_profiles.csv', '/space/grp/aadrian/Pseudobulk_Function_Pipeline_HighRes/bin/bulkSimulationOneProfile/data/simulations/0.09/pbmc_sc_with_metadata_cpm_pc_cell_type_profiles.csv/pbmc_sc_with_metadata_cpm_pc_cell_type_profiles_n_sim_69_profiles.csv', '/space/grp/aadrian/Pseudobulk_Function_Pipeline_HighRes/bin/bulkSimulationOneProfile/data/simulations/0.09/pbmc_sc_with_metadata_cpm_pc_cell_type_profiles.csv/pbmc_sc_with_metadata_cpm_pc_cell_type_profiles_n_sim_15_profiles.csv', '/space/grp/aadrian/Pseudobulk_Function_Pipeline_HighRes/bin/bulkSimulationOneProfile/data/simulations/0.09/pbmc_sc_with_metadata_cpm_pc_cell_type_profiles.csv/pbmc_sc_with_metadata_cpm_pc_cell_type_profiles_n_sim_46_profiles.csv', '/space/grp/aadrian/Pseudobulk_Function_Pipeline_HighRes/bin/bulkSimulationOneProfile/data/simulations/0.09/pbmc_sc_with_metadata_cpm_pc_cell_type_profiles.csv/pbmc_sc_with_metadata_cpm_pc_cell_type_profiles_n_sim_99_profiles.csv', '/space/grp/aadrian/Pseudobulk_Function_Pipeline_HighRes/bin/bulkSimulationOneProfile/data/simulations/0.09/pbmc_sc_with_metadata_cpm_pc_cell_type_profiles.csv/pbmc_sc_with_metadata_cpm_pc_cell_type_profiles_n_sim_14_profiles.csv', '/space/grp/aadrian/Pseudobulk_Function_Pipeline_HighRes/bin/bulkSimulationOneProfile/data/simulations/0.09/pbmc_sc_with_metadata_cpm_pc_cell_type_profiles.csv/pbmc_sc_with_metadata_cpm_pc_cell_type_profiles_n_sim_98_profiles.csv', '/space/grp/aadrian/Pseudobulk_Function_Pipeline_HighRes/bin/bulkSimulationOneProfile/data/simulations/0.09/pbmc_sc_with_metadata_cpm_pc_cell_type_profiles.csv/pbmc_sc_with_metadata_cpm_pc_cell_type_profiles_n_sim_47_profiles.csv', '/space/grp/aadrian/Pseudobulk_Function_Pipeline_HighRes/bin/bulkSimulationOneProfile/data/simulations/0.09/pbmc_sc_with_metadata_cpm_pc_cell_type_profiles.csv/pbmc_sc_with_metadata_cpm_pc_cell_type_profiles_n_sim_45_profiles.csv', '/space/grp/aadrian/Pseudobulk_Function_Pipeline_HighRes/bin/bulkSimulationOneProfile/data/simulations/0.09/pbmc_sc_with_metadata_cpm_pc_cell_type_profiles.csv/pbmc_sc_with_metadata_cpm_pc_cell_type_profiles_n_sim_16_profiles.csv', '/space/grp/aadrian/Pseudobulk_Function_Pipeline_HighRes/bin/bulkSimulationOneProfile/data/simulations/0.09/pbmc_sc_with_metadata_cpm_pc_cell_type_profiles.csv/pbmc_sc_with_metadata_cpm_pc_cell_type_profiles_n_sim_44_profiles.csv', '/space/grp/aadrian/Pseudobulk_Function_Pipeline_HighRes/bin/bulkSimulationOneProfile/data/simulations/0.09/pbmc_sc_with_metadata_cpm_pc_cell_type_profiles.csv/pbmc_sc_with_metadata_cpm_pc_cell_type_profiles_n_sim_17_profiles.csv', '/space/grp/aadrian/Pseudobulk_Function_Pipeline_HighRes/bin/bulkSimulationOneProfile/data/simulations/0.09/pbmc_sc_with_metadata_cpm_pc_cell_type_profiles.csv/pbmc_sc_with_metadata_cpm_pc_cell_type_profiles_n_sim_5_profiles.csv', '/space/grp/aadrian/Pseudobulk_Function_Pipeline_HighRes/bin/bulkSimulationOneProfile/data/simulations/0.09/pbmc_sc_with_metadata_cpm_pc_cell_type_profiles.csv/pbmc_sc_with_metadata_cpm_pc_cell_type_profiles_n_sim_55_profiles.csv', '/space/grp/aadrian/Pseudobulk_Function_Pipeline_HighRes/bin/bulkSimulationOneProfile/data/simulations/0.09/pbmc_sc_with_metadata_cpm_pc_cell_type_profiles.csv/pbmc_sc_with_metadata_cpm_pc_cell_type_profiles_n_sim_54_profiles.csv', '/space/grp/aadrian/Pseudobulk_Function_Pipeline_HighRes/bin/bulkSimulationOneProfile/data/simulations/0.09/pbmc_sc_with_metadata_cpm_pc_cell_type_profiles.csv/pbmc_sc_with_metadata_cpm_pc_cell_type_profiles_n_sim_4_profiles.csv', '/space/grp/aadrian/Pseudobulk_Function_Pipeline_HighRes/bin/bulkSimulationOneProfile/data/simulations/0.09/pbmc_sc_with_metadata_cpm_pc_cell_type_profiles.csv/pbmc_sc_with_metadata_cpm_pc_cell_type_profiles_n_sim_56_profiles.csv', '/space/grp/aadrian/Pseudobulk_Function_Pipeline_HighRes/bin/bulkSimulationOneProfile/data/simulations/0.09/pbmc_sc_with_metadata_cpm_pc_cell_type_profiles.csv/pbmc_sc_with_metadata_cpm_pc_cell_type_profiles_n_sim_89_profiles.csv', '/space/grp/aadrian/Pseudobulk_Function_Pipeline_HighRes/bin/bulkSimulationOneProfile/data/simulations/0.09/pbmc_sc_with_metadata_cpm_pc_cell_type_profiles.csv/pbmc_sc_with_metadata_cpm_pc_cell_type_profiles_n_sim_6_profiles.csv', '/space/grp/aadrian/Pseudobulk_Function_Pipeline_HighRes/bin/bulkSimulationOneProfile/data/simulations/0.09/pbmc_sc_with_metadata_cpm_pc_cell_type_profiles.csv/pbmc_sc_with_metadata_cpm_pc_cell_type_profiles_n_sim_7_profiles.csv', '/space/grp/aadrian/Pseudobulk_Function_Pipeline_HighRes/bin/bulkSimulationOneProfile/data/simulations/0.09/pbmc_sc_with_metadata_cpm_pc_cell_type_profiles.csv/pbmc_sc_with_metadata_cpm_pc_cell_type_profiles_n_sim_88_profiles.csv', '/space/grp/aadrian/Pseudobulk_Function_Pipeline_HighRes/bin/bulkSimulationOneProfile/data/simulations/0.09/pbmc_sc_with_metadata_cpm_pc_cell_type_profiles.csv/pbmc_sc_with_metadata_cpm_pc_cell_type_profiles_n_sim_57_profiles.csv', '/space/grp/aadrian/Pseudobulk_Function_Pipeline_HighRes/bin/bulkSimulationOneProfile/data/simulations/0.09/pbmc_sc_with_metadata_cpm_pc_cell_type_profiles.csv/pbmc_sc_with_metadata_cpm_pc_cell_type_profiles_n_sim_2_profiles.csv', '/space/grp/aadrian/Pseudobulk_Function_Pipeline_HighRes/bin/bulkSimulationOneProfile/data/simulations/0.09/pbmc_sc_with_metadata_cpm_pc_cell_type_profiles.csv/pbmc_sc_with_metadata_cpm_pc_cell_type_profiles_n_sim_78_profiles.csv', '/space/grp/aadrian/Pseudobulk_Function_Pipeline_HighRes/bin/bulkSimulationOneProfile/data/simulations/0.09/pbmc_sc_with_metadata_cpm_pc_cell_type_profiles.csv/pbmc_sc_with_metadata_cpm_pc_cell_type_profiles_n_sim_52_profiles.csv', '/space/grp/aadrian/Pseudobulk_Function_Pipeline_HighRes/bin/bulkSimulationOneProfile/data/simulations/0.09/pbmc_sc_with_metadata_cpm_pc_cell_type_profiles.csv/pbmc_sc_with_metadata_cpm_pc_cell_type_profiles_n_sim_53_profiles.csv', '/space/grp/aadrian/Pseudobulk_Function_Pipeline_HighRes/bin/bulkSimulationOneProfile/data/simulations/0.09/pbmc_sc_with_metadata_cpm_pc_cell_type_profiles.csv/pbmc_sc_with_metadata_cpm_pc_cell_type_profiles_n_sim_3_profiles.csv', '/space/grp/aadrian/Pseudobulk_Function_Pipeline_HighRes/bin/bulkSimulationOneProfile/data/simulations/0.09/pbmc_sc_with_metadata_cpm_pc_cell_type_profiles.csv/pbmc_sc_with_metadata_cpm_pc_cell_type_profiles_n_sim_79_profiles.csv', '/space/grp/aadrian/Pseudobulk_Function_Pipeline_HighRes/bin/bulkSimulationOneProfile/data/simulations/0.09/pbmc_sc_with_metadata_cpm_pc_cell_type_profiles.csv/pbmc_sc_with_metadata_cpm_pc_cell_type_profiles_n_sim_51_profiles.csv', '/space/grp/aadrian/Pseudobulk_Function_Pipeline_HighRes/bin/bulkSimulationOneProfile/data/simulations/0.09/pbmc_sc_with_metadata_cpm_pc_cell_type_profiles.csv/pbmc_sc_with_metadata_cpm_pc_cell_type_profiles_n_sim_28_profiles.csv', '/space/grp/aadrian/Pseudobulk_Function_Pipeline_HighRes/bin/bulkSimulationOneProfile/data/simulations/0.09/pbmc_sc_with_metadata_cpm_pc_cell_type_profiles.csv/pbmc_sc_with_metadata_cpm_pc_cell_type_profiles_n_sim_1_profiles.csv', '/space/grp/aadrian/Pseudobulk_Function_Pipeline_HighRes/bin/bulkSimulationOneProfile/data/simulations/0.09/pbmc_sc_with_metadata_cpm_pc_cell_type_profiles.csv/pbmc_sc_with_metadata_cpm_pc_cell_type_profiles_n_sim_0_profiles.csv', '/space/grp/aadrian/Pseudobulk_Function_Pipeline_HighRes/bin/bulkSimulationOneProfile/data/simulations/0.09/pbmc_sc_with_metadata_cpm_pc_cell_type_profiles.csv/pbmc_sc_with_metadata_cpm_pc_cell_type_profiles_n_sim_29_profiles.csv', '/space/grp/aadrian/Pseudobulk_Function_Pipeline_HighRes/bin/bulkSimulationOneProfile/data/simulations/0.09/pbmc_sc_with_metadata_cpm_pc_cell_type_profiles.csv/pbmc_sc_with_metadata_cpm_pc_cell_type_profiles_n_sim_50_profiles.csv', '/space/grp/aadrian/Pseudobulk_Function_Pipeline_HighRes/bin/bulkSimulationOneProfile/data/simulations/0.09/pbmc_sc_with_metadata_cpm_pc_cell_type_profiles.csv/pbmc_sc_with_metadata_cpm_pc_cell_type_profiles_n_sim_71_profiles.csv', '/space/grp/aadrian/Pseudobulk_Function_Pipeline_HighRes/bin/bulkSimulationOneProfile/data/simulations/0.09/pbmc_sc_with_metadata_cpm_pc_cell_type_profiles.csv/pbmc_sc_with_metadata_cpm_pc_cell_type_profiles_n_sim_22_profiles.csv', '/space/grp/aadrian/Pseudobulk_Function_Pipeline_HighRes/bin/bulkSimulationOneProfile/data/simulations/0.09/pbmc_sc_with_metadata_cpm_pc_cell_type_profiles.csv/pbmc_sc_with_metadata_cpm_pc_cell_type_profiles_n_sim_84_profiles.csv', '/space/grp/aadrian/Pseudobulk_Function_Pipeline_HighRes/bin/bulkSimulationOneProfile/data/simulations/0.09/pbmc_sc_with_metadata_cpm_pc_cell_type_profiles.csv/pbmc_sc_with_metadata_cpm_pc_cell_type_profiles_n_sim_85_profiles.csv', '/space/grp/aadrian/Pseudobulk_Function_Pipeline_HighRes/bin/bulkSimulationOneProfile/data/simulations/0.09/pbmc_sc_with_metadata_cpm_pc_cell_type_profiles.csv/pbmc_sc_with_metadata_cpm_pc_cell_type_profiles_n_sim_70_profiles.csv', '/space/grp/aadrian/Pseudobulk_Function_Pipeline_HighRes/bin/bulkSimulationOneProfile/data/simulations/0.09/pbmc_sc_with_metadata_cpm_pc_cell_type_profiles.csv/pbmc_sc_with_metadata_cpm_pc_cell_type_profiles_n_sim_23_profiles.csv', '/space/grp/aadrian/Pseudobulk_Function_Pipeline_HighRes/bin/bulkSimulationOneProfile/data/simulations/0.09/pbmc_sc_with_metadata_cpm_pc_cell_type_profiles.csv/pbmc_sc_with_metadata_cpm_pc_cell_type_profiles_n_sim_58_profiles.csv', '/space/grp/aadrian/Pseudobulk_Function_Pipeline_HighRes/bin/bulkSimulationOneProfile/data/simulations/0.09/pbmc_sc_with_metadata_cpm_pc_cell_type_profiles.csv/pbmc_sc_with_metadata_cpm_pc_cell_type_profiles_n_sim_87_profiles.csv', '/space/grp/aadrian/Pseudobulk_Function_Pipeline_HighRes/bin/bulkSimulationOneProfile/data/simulations/0.09/pbmc_sc_with_metadata_cpm_pc_cell_type_profiles.csv/pbmc_sc_with_metadata_cpm_pc_cell_type_profiles_n_sim_21_profiles.csv', '/space/grp/aadrian/Pseudobulk_Function_Pipeline_HighRes/bin/bulkSimulationOneProfile/data/simulations/0.09/pbmc_sc_with_metadata_cpm_pc_cell_type_profiles.csv/pbmc_sc_with_metadata_cpm_pc_cell_type_profiles_n_sim_8_profiles.csv', '/space/grp/aadrian/Pseudobulk_Function_Pipeline_HighRes/bin/bulkSimulationOneProfile/data/simulations/0.09/pbmc_sc_with_metadata_cpm_pc_cell_type_profiles.csv/pbmc_sc_with_metadata_cpm_pc_cell_type_profiles_n_sim_72_profiles.csv', '/space/grp/aadrian/Pseudobulk_Function_Pipeline_HighRes/bin/bulkSimulationOneProfile/data/simulations/0.09/pbmc_sc_with_metadata_cpm_pc_cell_type_profiles.csv/pbmc_sc_with_metadata_cpm_pc_cell_type_profiles_n_sim_9_profiles.csv', '/space/grp/aadrian/Pseudobulk_Function_Pipeline_HighRes/bin/bulkSimulationOneProfile/data/simulations/0.09/pbmc_sc_with_metadata_cpm_pc_cell_type_profiles.csv/pbmc_sc_with_metadata_cpm_pc_cell_type_profiles_n_sim_20_profiles.csv', '/space/grp/aadrian/Pseudobulk_Function_Pipeline_HighRes/bin/bulkSimulationOneProfile/data/simulations/0.09/pbmc_sc_with_metadata_cpm_pc_cell_type_profiles.csv/pbmc_sc_with_metadata_cpm_pc_cell_type_profiles_n_sim_73_profiles.csv', '/space/grp/aadrian/Pseudobulk_Function_Pipeline_HighRes/bin/bulkSimulationOneProfile/data/simulations/0.09/pbmc_sc_with_metadata_cpm_pc_cell_type_profiles.csv/pbmc_sc_with_metadata_cpm_pc_cell_type_profiles_n_sim_86_profiles.csv', '/space/grp/aadrian/Pseudobulk_Function_Pipeline_HighRes/bin/bulkSimulationOneProfile/data/simulations/0.09/pbmc_sc_with_metadata_cpm_pc_cell_type_profiles.csv/pbmc_sc_with_metadata_cpm_pc_cell_type_profiles_n_sim_59_profiles.csv', '/space/grp/aadrian/Pseudobulk_Function_Pipeline_HighRes/bin/bulkSimulationOneProfile/data/simulations/0.09/pbmc_sc_with_metadata_cpm_pc_cell_type_profiles.csv/pbmc_sc_with_metadata_cpm_pc_cell_type_profiles_n_sim_76_profiles.csv', '/space/grp/aadrian/Pseudobulk_Function_Pipeline_HighRes/bin/bulkSimulationOneProfile/data/simulations/0.09/pbmc_sc_with_metadata_cpm_pc_cell_type_profiles.csv/pbmc_sc_with_metadata_cpm_pc_cell_type_profiles_n_sim_25_profiles.csv', '/space/grp/aadrian/Pseudobulk_Function_Pipeline_HighRes/bin/bulkSimulationOneProfile/data/simulations/0.09/pbmc_sc_with_metadata_cpm_pc_cell_type_profiles.csv/pbmc_sc_with_metadata_cpm_pc_cell_type_profiles_n_sim_83_profiles.csv', '/space/grp/aadrian/Pseudobulk_Function_Pipeline_HighRes/bin/bulkSimulationOneProfile/data/simulations/0.09/pbmc_sc_with_metadata_cpm_pc_cell_type_profiles.csv/pbmc_sc_with_metadata_cpm_pc_cell_type_profiles_n_sim_82_profiles.csv', '/space/grp/aadrian/Pseudobulk_Function_Pipeline_HighRes/bin/bulkSimulationOneProfile/data/simulations/0.09/pbmc_sc_with_metadata_cpm_pc_cell_type_profiles.csv/pbmc_sc_with_metadata_cpm_pc_cell_type_profiles_n_sim_77_profiles.csv', '/space/grp/aadrian/Pseudobulk_Function_Pipeline_HighRes/bin/bulkSimulationOneProfile/data/simulations/0.09/pbmc_sc_with_metadata_cpm_pc_cell_type_profiles.csv/pbmc_sc_with_metadata_cpm_pc_cell_type_profiles_n_sim_24_profiles.csv', '/space/grp/aadrian/Pseudobulk_Function_Pipeline_HighRes/bin/bulkSimulationOneProfile/data/simulations/0.09/pbmc_sc_with_metadata_cpm_pc_cell_type_profiles.csv/pbmc_sc_with_metadata_cpm_pc_cell_type_profiles_n_sim_80_profiles.csv', '/space/grp/aadrian/Pseudobulk_Function_Pipeline_HighRes/bin/bulkSimulationOneProfile/data/simulations/0.09/pbmc_sc_with_metadata_cpm_pc_cell_type_profiles.csv/pbmc_sc_with_metadata_cpm_pc_cell_type_profiles_n_sim_26_profiles.csv', '/space/grp/aadrian/Pseudobulk_Function_Pipeline_HighRes/bin/bulkSimulationOneProfile/data/simulations/0.09/pbmc_sc_with_metadata_cpm_pc_cell_type_profiles.csv/pbmc_sc_with_metadata_cpm_pc_cell_type_profiles_n_sim_75_profiles.csv', '/space/grp/aadrian/Pseudobulk_Function_Pipeline_HighRes/bin/bulkSimulationOneProfile/data/simulations/0.09/pbmc_sc_with_metadata_cpm_pc_cell_type_profiles.csv/pbmc_sc_with_metadata_cpm_pc_cell_type_profiles_n_sim_27_profiles.csv', '/space/grp/aadrian/Pseudobulk_Function_Pipeline_HighRes/bin/bulkSimulationOneProfile/data/simulations/0.09/pbmc_sc_with_metadata_cpm_pc_cell_type_profiles.csv/pbmc_sc_with_metadata_cpm_pc_cell_type_profiles_n_sim_74_profiles.csv', '/space/grp/aadrian/Pseudobulk_Function_Pipeline_HighRes/bin/bulkSimulationOneProfile/data/simulations/0.09/pbmc_sc_with_metadata_cpm_pc_cell_type_profiles.csv/pbmc_sc_with_metadata_cpm_pc_cell_type_profiles_n_sim_81_profiles.csv'], ['/space/grp/aadrian/Pseudobulk_Function_Pipeline_HighRes/bin/bulkSimulationOneProfile/data/simulations/0.03/pbmc_sc_with_metadata_cpm_pc_cell_type_profiles.csv/pbmc_sc_with_metadata_cpm_pc_cell_type_profiles_n_sim_86_profiles.csv', '/space/grp/aadrian/Pseudobulk_Function_Pipeline_HighRes/bin/bulkSimulationOneProfile/data/simulations/0.03/pbmc_sc_with_metadata_cpm_pc_cell_type_profiles.csv/pbmc_sc_with_metadata_cpm_pc_cell_type_profiles_n_sim_59_profiles.csv', '/space/grp/aadrian/Pseudobulk_Function_Pipeline_HighRes/bin/bulkSimulationOneProfile/data/simulations/0.03/pbmc_sc_with_metadata_cpm_pc_cell_type_profiles.csv/pbmc_sc_with_metadata_cpm_pc_cell_type_profiles_n_sim_20_profiles.csv', '/space/grp/aadrian/Pseudobulk_Function_Pipeline_HighRes/bin/bulkSimulationOneProfile/data/simulations/0.03/pbmc_sc_with_metadata_cpm_pc_cell_type_profiles.csv/pbmc_sc_with_metadata_cpm_pc_cell_type_profiles_n_sim_73_profiles.csv', '/space/grp/aadrian/Pseudobulk_Function_Pipeline_HighRes/bin/bulkSimulationOneProfile/data/simulations/0.03/pbmc_sc_with_metadata_cpm_pc_cell_type_profiles.csv/pbmc_sc_with_metadata_cpm_pc_cell_type_profiles_n_sim_21_profiles.csv', '/space/grp/aadrian/Pseudobulk_Function_Pipeline_HighRes/bin/bulkSimulationOneProfile/data/simulations/0.03/pbmc_sc_with_metadata_cpm_pc_cell_type_profiles.csv/pbmc_sc_with_metadata_cpm_pc_cell_type_profiles_n_sim_72_profiles.csv', '/space/grp/aadrian/Pseudobulk_Function_Pipeline_HighRes/bin/bulkSimulationOneProfile/data/simulations/0.03/pbmc_sc_with_metadata_cpm_pc_cell_type_profiles.csv/pbmc_sc_with_metadata_cpm_pc_cell_type_profiles_n_sim_58_profiles.csv', '/space/grp/aadrian/Pseudobulk_Function_Pipeline_HighRes/bin/bulkSimulationOneProfile/data/simulations/0.03/pbmc_sc_with_metadata_cpm_pc_cell_type_profiles.csv/pbmc_sc_with_metadata_cpm_pc_cell_type_profiles_n_sim_87_profiles.csv', '/space/grp/aadrian/Pseudobulk_Function_Pipeline_HighRes/bin/bulkSimulationOneProfile/data/simulations/0.03/pbmc_sc_with_metadata_cpm_pc_cell_type_profiles.csv/pbmc_sc_with_metadata_cpm_pc_cell_type_profiles_n_sim_70_profiles.csv', '/space/grp/aadrian/Pseudobulk_Function_Pipeline_HighRes/bin/bulkSimulationOneProfile/data/simulations/0.03/pbmc_sc_with_metadata_cpm_pc_cell_type_profiles.csv/pbmc_sc_with_metadata_cpm_pc_cell_type_profiles_n_sim_23_profiles.csv', '/space/grp/aadrian/Pseudobulk_Function_Pipeline_HighRes/bin/bulkSimulationOneProfile/data/simulations/0.03/pbmc_sc_with_metadata_cpm_pc_cell_type_profiles.csv/pbmc_sc_with_metadata_cpm_pc_cell_type_profiles_n_sim_85_profiles.csv', '/space/grp/aadrian/Pseudobulk_Function_Pipeline_HighRes/bin/bulkSimulationOneProfile/data/simulations/0.03/pbmc_sc_with_metadata_cpm_pc_cell_type_profiles.csv/pbmc_sc_with_metadata_cpm_pc_cell_type_profiles_n_sim_84_profiles.csv', '/space/grp/aadrian/Pseudobulk_Function_Pipeline_HighRes/bin/bulkSimulationOneProfile/data/simulations/0.03/pbmc_sc_with_metadata_cpm_pc_cell_type_profiles.csv/pbmc_sc_with_metadata_cpm_pc_cell_type_profiles_n_sim_71_profiles.csv', '/space/grp/aadrian/Pseudobulk_Function_Pipeline_HighRes/bin/bulkSimulationOneProfile/data/simulations/0.03/pbmc_sc_with_metadata_cpm_pc_cell_type_profiles.csv/pbmc_sc_with_metadata_cpm_pc_cell_type_profiles_n_sim_22_profiles.csv', '/space/grp/aadrian/Pseudobulk_Function_Pipeline_HighRes/bin/bulkSimulationOneProfile/data/simulations/0.03/pbmc_sc_with_metadata_cpm_pc_cell_type_profiles.csv/pbmc_sc_with_metadata_cpm_pc_cell_type_profiles_n_sim_81_profiles.csv', '/space/grp/aadrian/Pseudobulk_Function_Pipeline_HighRes/bin/bulkSimulationOneProfile/data/simulations/0.03/pbmc_sc_with_metadata_cpm_pc_cell_type_profiles.csv/pbmc_sc_with_metadata_cpm_pc_cell_type_profiles_n_sim_27_profiles.csv', '/space/grp/aadrian/Pseudobulk_Function_Pipeline_HighRes/bin/bulkSimulationOneProfile/data/simulations/0.03/pbmc_sc_with_metadata_cpm_pc_cell_type_profiles.csv/pbmc_sc_with_metadata_cpm_pc_cell_type_profiles_n_sim_74_profiles.csv', '/space/grp/aadrian/Pseudobulk_Function_Pipeline_HighRes/bin/bulkSimulationOneProfile/data/simulations/0.03/pbmc_sc_with_metadata_cpm_pc_cell_type_profiles.csv/pbmc_sc_with_metadata_cpm_pc_cell_type_profiles_n_sim_26_profiles.csv', '/space/grp/aadrian/Pseudobulk_Function_Pipeline_HighRes/bin/bulkSimulationOneProfile/data/simulations/0.03/pbmc_sc_with_metadata_cpm_pc_cell_type_profiles.csv/pbmc_sc_with_metadata_cpm_pc_cell_type_profiles_n_sim_75_profiles.csv', '/space/grp/aadrian/Pseudobulk_Function_Pipeline_HighRes/bin/bulkSimulationOneProfile/data/simulations/0.03/pbmc_sc_with_metadata_cpm_pc_cell_type_profiles.csv/pbmc_sc_with_metadata_cpm_pc_cell_type_profiles_n_sim_80_profiles.csv', '/space/grp/aadrian/Pseudobulk_Function_Pipeline_HighRes/bin/bulkSimulationOneProfile/data/simulations/0.03/pbmc_sc_with_metadata_cpm_pc_cell_type_profiles.csv/pbmc_sc_with_metadata_cpm_pc_cell_type_profiles_n_sim_77_profiles.csv', '/space/grp/aadrian/Pseudobulk_Function_Pipeline_HighRes/bin/bulkSimulationOneProfile/data/simulations/0.03/pbmc_sc_with_metadata_cpm_pc_cell_type_profiles.csv/pbmc_sc_with_metadata_cpm_pc_cell_type_profiles_n_sim_24_profiles.csv', '/space/grp/aadrian/Pseudobulk_Function_Pipeline_HighRes/bin/bulkSimulationOneProfile/data/simulations/0.03/pbmc_sc_with_metadata_cpm_pc_cell_type_profiles.csv/pbmc_sc_with_metadata_cpm_pc_cell_type_profiles_n_sim_82_profiles.csv', '/space/grp/aadrian/Pseudobulk_Function_Pipeline_HighRes/bin/bulkSimulationOneProfile/data/simulations/0.03/pbmc_sc_with_metadata_cpm_pc_cell_type_profiles.csv/pbmc_sc_with_metadata_cpm_pc_cell_type_profiles_n_sim_83_profiles.csv', '/space/grp/aadrian/Pseudobulk_Function_Pipeline_HighRes/bin/bulkSimulationOneProfile/data/simulations/0.03/pbmc_sc_with_metadata_cpm_pc_cell_type_profiles.csv/pbmc_sc_with_metadata_cpm_pc_cell_type_profiles_n_sim_76_profiles.csv', '/space/grp/aadrian/Pseudobulk_Function_Pipeline_HighRes/bin/bulkSimulationOneProfile/data/simulations/0.03/pbmc_sc_with_metadata_cpm_pc_cell_type_profiles.csv/pbmc_sc_with_metadata_cpm_pc_cell_type_profiles_n_sim_25_profiles.csv', '/space/grp/aadrian/Pseudobulk_Function_Pipeline_HighRes/bin/bulkSimulationOneProfile/data/simulations/0.03/pbmc_sc_with_metadata_cpm_pc_cell_type_profiles.csv/pbmc_sc_with_metadata_cpm_pc_cell_type_profiles_n_sim_88_profiles.csv', '/space/grp/aadrian/Pseudobulk_Function_Pipeline_HighRes/bin/bulkSimulationOneProfile/data/simulations/0.03/pbmc_sc_with_metadata_cpm_pc_cell_type_profiles.csv/pbmc_sc_with_metadata_cpm_pc_cell_type_profiles_n_sim_57_profiles.csv', '/space/grp/aadrian/Pseudobulk_Function_Pipeline_HighRes/bin/bulkSimulationOneProfile/data/simulations/0.03/pbmc_sc_with_metadata_cpm_pc_cell_type_profiles.csv/pbmc_sc_with_metadata_cpm_pc_cell_type_profiles_n_sim_56_profiles.csv', '/space/grp/aadrian/Pseudobulk_Function_Pipeline_HighRes/bin/bulkSimulationOneProfile/data/simulations/0.03/pbmc_sc_with_metadata_cpm_pc_cell_type_profiles.csv/pbmc_sc_with_metadata_cpm_pc_cell_type_profiles_n_sim_89_profiles.csv', '/space/grp/aadrian/Pseudobulk_Function_Pipeline_HighRes/bin/bulkSimulationOneProfile/data/simulations/0.03/pbmc_sc_with_metadata_cpm_pc_cell_type_profiles.csv/pbmc_sc_with_metadata_cpm_pc_cell_type_profiles_n_sim_54_profiles.csv', '/space/grp/aadrian/Pseudobulk_Function_Pipeline_HighRes/bin/bulkSimulationOneProfile/data/simulations/0.03/pbmc_sc_with_metadata_cpm_pc_cell_type_profiles.csv/pbmc_sc_with_metadata_cpm_pc_cell_type_profiles_n_sim_55_profiles.csv', '/space/grp/aadrian/Pseudobulk_Function_Pipeline_HighRes/bin/bulkSimulationOneProfile/data/simulations/0.03/pbmc_sc_with_metadata_cpm_pc_cell_type_profiles.csv/pbmc_sc_with_metadata_cpm_pc_cell_type_profiles_n_sim_50_profiles.csv', '/space/grp/aadrian/Pseudobulk_Function_Pipeline_HighRes/bin/bulkSimulationOneProfile/data/simulations/0.03/pbmc_sc_with_metadata_cpm_pc_cell_type_profiles.csv/pbmc_sc_with_metadata_cpm_pc_cell_type_profiles_n_sim_29_profiles.csv', '/space/grp/aadrian/Pseudobulk_Function_Pipeline_HighRes/bin/bulkSimulationOneProfile/data/simulations/0.03/pbmc_sc_with_metadata_cpm_pc_cell_type_profiles.csv/pbmc_sc_with_metadata_cpm_pc_cell_type_profiles_n_sim_28_profiles.csv', '/space/grp/aadrian/Pseudobulk_Function_Pipeline_HighRes/bin/bulkSimulationOneProfile/data/simulations/0.03/pbmc_sc_with_metadata_cpm_pc_cell_type_profiles.csv/pbmc_sc_with_metadata_cpm_pc_cell_type_profiles_n_sim_51_profiles.csv', '/space/grp/aadrian/Pseudobulk_Function_Pipeline_HighRes/bin/bulkSimulationOneProfile/data/simulations/0.03/pbmc_sc_with_metadata_cpm_pc_cell_type_profiles.csv/pbmc_sc_with_metadata_cpm_pc_cell_type_profiles_n_sim_79_profiles.csv', '/space/grp/aadrian/Pseudobulk_Function_Pipeline_HighRes/bin/bulkSimulationOneProfile/data/simulations/0.03/pbmc_sc_with_metadata_cpm_pc_cell_type_profiles.csv/pbmc_sc_with_metadata_cpm_pc_cell_type_profiles_n_sim_53_profiles.csv', '/space/grp/aadrian/Pseudobulk_Function_Pipeline_HighRes/bin/bulkSimulationOneProfile/data/simulations/0.03/pbmc_sc_with_metadata_cpm_pc_cell_type_profiles.csv/pbmc_sc_with_metadata_cpm_pc_cell_type_profiles_n_sim_52_profiles.csv', '/space/grp/aadrian/Pseudobulk_Function_Pipeline_HighRes/bin/bulkSimulationOneProfile/data/simulations/0.03/pbmc_sc_with_metadata_cpm_pc_cell_type_profiles.csv/pbmc_sc_with_metadata_cpm_pc_cell_type_profiles_n_sim_78_profiles.csv', '/space/grp/aadrian/Pseudobulk_Function_Pipeline_HighRes/bin/bulkSimulationOneProfile/data/simulations/0.03/pbmc_sc_with_metadata_cpm_pc_cell_type_profiles.csv/pbmc_sc_with_metadata_cpm_pc_cell_type_profiles_n_sim_4_profiles.csv', '/space/grp/aadrian/Pseudobulk_Function_Pipeline_HighRes/bin/bulkSimulationOneProfile/data/simulations/0.03/pbmc_sc_with_metadata_cpm_pc_cell_type_profiles.csv/pbmc_sc_with_metadata_cpm_pc_cell_type_profiles_n_sim_69_profiles.csv', '/space/grp/aadrian/Pseudobulk_Function_Pipeline_HighRes/bin/bulkSimulationOneProfile/data/simulations/0.03/pbmc_sc_with_metadata_cpm_pc_cell_type_profiles.csv/pbmc_sc_with_metadata_cpm_pc_cell_type_profiles_n_sim_43_profiles.csv', '/space/grp/aadrian/Pseudobulk_Function_Pipeline_HighRes/bin/bulkSimulationOneProfile/data/simulations/0.03/pbmc_sc_with_metadata_cpm_pc_cell_type_profiles.csv/pbmc_sc_with_metadata_cpm_pc_cell_type_profiles_n_sim_10_profiles.csv', '/space/grp/aadrian/Pseudobulk_Function_Pipeline_HighRes/bin/bulkSimulationOneProfile/data/simulations/0.03/pbmc_sc_with_metadata_cpm_pc_cell_type_profiles.csv/pbmc_sc_with_metadata_cpm_pc_cell_type_profiles_n_sim_42_profiles.csv', '/space/grp/aadrian/Pseudobulk_Function_Pipeline_HighRes/bin/bulkSimulationOneProfile/data/simulations/0.03/pbmc_sc_with_metadata_cpm_pc_cell_type_profiles.csv/pbmc_sc_with_metadata_cpm_pc_cell_type_profiles_n_sim_11_profiles.csv', '/space/grp/aadrian/Pseudobulk_Function_Pipeline_HighRes/bin/bulkSimulationOneProfile/data/simulations/0.03/pbmc_sc_with_metadata_cpm_pc_cell_type_profiles.csv/pbmc_sc_with_metadata_cpm_pc_cell_type_profiles_n_sim_5_profiles.csv', '/space/grp/aadrian/Pseudobulk_Function_Pipeline_HighRes/bin/bulkSimulationOneProfile/data/simulations/0.03/pbmc_sc_with_metadata_cpm_pc_cell_type_profiles.csv/pbmc_sc_with_metadata_cpm_pc_cell_type_profiles_n_sim_68_profiles.csv', '/space/grp/aadrian/Pseudobulk_Function_Pipeline_HighRes/bin/bulkSimulationOneProfile/data/simulations/0.03/pbmc_sc_with_metadata_cpm_pc_cell_type_profiles.csv/pbmc_sc_with_metadata_cpm_pc_cell_type_profiles_n_sim_13_profiles.csv', '/space/grp/aadrian/Pseudobulk_Function_Pipeline_HighRes/bin/bulkSimulationOneProfile/data/simulations/0.03/pbmc_sc_with_metadata_cpm_pc_cell_type_profiles.csv/pbmc_sc_with_metadata_cpm_pc_cell_type_profiles_n_sim_40_profiles.csv', '/space/grp/aadrian/Pseudobulk_Function_Pipeline_HighRes/bin/bulkSimulationOneProfile/data/simulations/0.03/pbmc_sc_with_metadata_cpm_pc_cell_type_profiles.csv/pbmc_sc_with_metadata_cpm_pc_cell_type_profiles_n_sim_7_profiles.csv', '/space/grp/aadrian/Pseudobulk_Function_Pipeline_HighRes/bin/bulkSimulationOneProfile/data/simulations/0.03/pbmc_sc_with_metadata_cpm_pc_cell_type_profiles.csv/pbmc_sc_with_metadata_cpm_pc_cell_type_profiles_n_sim_39_profiles.csv', '/space/grp/aadrian/Pseudobulk_Function_Pipeline_HighRes/bin/bulkSimulationOneProfile/data/simulations/0.03/pbmc_sc_with_metadata_cpm_pc_cell_type_profiles.csv/pbmc_sc_with_metadata_cpm_pc_cell_type_profiles_n_sim_38_profiles.csv', '/space/grp/aadrian/Pseudobulk_Function_Pipeline_HighRes/bin/bulkSimulationOneProfile/data/simulations/0.03/pbmc_sc_with_metadata_cpm_pc_cell_type_profiles.csv/pbmc_sc_with_metadata_cpm_pc_cell_type_profiles_n_sim_6_profiles.csv', '/space/grp/aadrian/Pseudobulk_Function_Pipeline_HighRes/bin/bulkSimulationOneProfile/data/simulations/0.03/pbmc_sc_with_metadata_cpm_pc_cell_type_profiles.csv/pbmc_sc_with_metadata_cpm_pc_cell_type_profiles_n_sim_12_profiles.csv', '/space/grp/aadrian/Pseudobulk_Function_Pipeline_HighRes/bin/bulkSimulationOneProfile/data/simulations/0.03/pbmc_sc_with_metadata_cpm_pc_cell_type_profiles.csv/pbmc_sc_with_metadata_cpm_pc_cell_type_profiles_n_sim_41_profiles.csv', '/space/grp/aadrian/Pseudobulk_Function_Pipeline_HighRes/bin/bulkSimulationOneProfile/data/simulations/0.03/pbmc_sc_with_metadata_cpm_pc_cell_type_profiles.csv/pbmc_sc_with_metadata_cpm_pc_cell_type_profiles_n_sim_3_profiles.csv', '/space/grp/aadrian/Pseudobulk_Function_Pipeline_HighRes/bin/bulkSimulationOneProfile/data/simulations/0.03/pbmc_sc_with_metadata_cpm_pc_cell_type_profiles.csv/pbmc_sc_with_metadata_cpm_pc_cell_type_profiles_n_sim_44_profiles.csv', '/space/grp/aadrian/Pseudobulk_Function_Pipeline_HighRes/bin/bulkSimulationOneProfile/data/simulations/0.03/pbmc_sc_with_metadata_cpm_pc_cell_type_profiles.csv/pbmc_sc_with_metadata_cpm_pc_cell_type_profiles_n_sim_17_profiles.csv', '/space/grp/aadrian/Pseudobulk_Function_Pipeline_HighRes/bin/bulkSimulationOneProfile/data/simulations/0.03/pbmc_sc_with_metadata_cpm_pc_cell_type_profiles.csv/pbmc_sc_with_metadata_cpm_pc_cell_type_profiles_n_sim_45_profiles.csv', '/space/grp/aadrian/Pseudobulk_Function_Pipeline_HighRes/bin/bulkSimulationOneProfile/data/simulations/0.03/pbmc_sc_with_metadata_cpm_pc_cell_type_profiles.csv/pbmc_sc_with_metadata_cpm_pc_cell_type_profiles_n_sim_16_profiles.csv', '/space/grp/aadrian/Pseudobulk_Function_Pipeline_HighRes/bin/bulkSimulationOneProfile/data/simulations/0.03/pbmc_sc_with_metadata_cpm_pc_cell_type_profiles.csv/pbmc_sc_with_metadata_cpm_pc_cell_type_profiles_n_sim_2_profiles.csv', '/space/grp/aadrian/Pseudobulk_Function_Pipeline_HighRes/bin/bulkSimulationOneProfile/data/simulations/0.03/pbmc_sc_with_metadata_cpm_pc_cell_type_profiles.csv/pbmc_sc_with_metadata_cpm_pc_cell_type_profiles_n_sim_14_profiles.csv', '/space/grp/aadrian/Pseudobulk_Function_Pipeline_HighRes/bin/bulkSimulationOneProfile/data/simulations/0.03/pbmc_sc_with_metadata_cpm_pc_cell_type_profiles.csv/pbmc_sc_with_metadata_cpm_pc_cell_type_profiles_n_sim_98_profiles.csv', '/space/grp/aadrian/Pseudobulk_Function_Pipeline_HighRes/bin/bulkSimulationOneProfile/data/simulations/0.03/pbmc_sc_with_metadata_cpm_pc_cell_type_profiles.csv/pbmc_sc_with_metadata_cpm_pc_cell_type_profiles_n_sim_47_profiles.csv', '/space/grp/aadrian/Pseudobulk_Function_Pipeline_HighRes/bin/bulkSimulationOneProfile/data/simulations/0.03/pbmc_sc_with_metadata_cpm_pc_cell_type_profiles.csv/pbmc_sc_with_metadata_cpm_pc_cell_type_profiles_n_sim_0_profiles.csv', '/space/grp/aadrian/Pseudobulk_Function_Pipeline_HighRes/bin/bulkSimulationOneProfile/data/simulations/0.03/pbmc_sc_with_metadata_cpm_pc_cell_type_profiles.csv/pbmc_sc_with_metadata_cpm_pc_cell_type_profiles_n_sim_1_profiles.csv', '/space/grp/aadrian/Pseudobulk_Function_Pipeline_HighRes/bin/bulkSimulationOneProfile/data/simulations/0.03/pbmc_sc_with_metadata_cpm_pc_cell_type_profiles.csv/pbmc_sc_with_metadata_cpm_pc_cell_type_profiles_n_sim_15_profiles.csv', '/space/grp/aadrian/Pseudobulk_Function_Pipeline_HighRes/bin/bulkSimulationOneProfile/data/simulations/0.03/pbmc_sc_with_metadata_cpm_pc_cell_type_profiles.csv/pbmc_sc_with_metadata_cpm_pc_cell_type_profiles_n_sim_46_profiles.csv', '/space/grp/aadrian/Pseudobulk_Function_Pipeline_HighRes/bin/bulkSimulationOneProfile/data/simulations/0.03/pbmc_sc_with_metadata_cpm_pc_cell_type_profiles.csv/pbmc_sc_with_metadata_cpm_pc_cell_type_profiles_n_sim_99_profiles.csv', '/space/grp/aadrian/Pseudobulk_Function_Pipeline_HighRes/bin/bulkSimulationOneProfile/data/simulations/0.03/pbmc_sc_with_metadata_cpm_pc_cell_type_profiles.csv/pbmc_sc_with_metadata_cpm_pc_cell_type_profiles_n_sim_67_profiles.csv', '/space/grp/aadrian/Pseudobulk_Function_Pipeline_HighRes/bin/bulkSimulationOneProfile/data/simulations/0.03/pbmc_sc_with_metadata_cpm_pc_cell_type_profiles.csv/pbmc_sc_with_metadata_cpm_pc_cell_type_profiles_n_sim_34_profiles.csv', '/space/grp/aadrian/Pseudobulk_Function_Pipeline_HighRes/bin/bulkSimulationOneProfile/data/simulations/0.03/pbmc_sc_with_metadata_cpm_pc_cell_type_profiles.csv/pbmc_sc_with_metadata_cpm_pc_cell_type_profiles_n_sim_92_profiles.csv', '/space/grp/aadrian/Pseudobulk_Function_Pipeline_HighRes/bin/bulkSimulationOneProfile/data/simulations/0.03/pbmc_sc_with_metadata_cpm_pc_cell_type_profiles.csv/pbmc_sc_with_metadata_cpm_pc_cell_type_profiles_n_sim_93_profiles.csv', '/space/grp/aadrian/Pseudobulk_Function_Pipeline_HighRes/bin/bulkSimulationOneProfile/data/simulations/0.03/pbmc_sc_with_metadata_cpm_pc_cell_type_profiles.csv/pbmc_sc_with_metadata_cpm_pc_cell_type_profiles_n_sim_66_profiles.csv', '/space/grp/aadrian/Pseudobulk_Function_Pipeline_HighRes/bin/bulkSimulationOneProfile/data/simulations/0.03/pbmc_sc_with_metadata_cpm_pc_cell_type_profiles.csv/pbmc_sc_with_metadata_cpm_pc_cell_type_profiles_n_sim_35_profiles.csv', '/space/grp/aadrian/Pseudobulk_Function_Pipeline_HighRes/bin/bulkSimulationOneProfile/data/simulations/0.03/pbmc_sc_with_metadata_cpm_pc_cell_type_profiles.csv/pbmc_sc_with_metadata_cpm_pc_cell_type_profiles_n_sim_91_profiles.csv', '/space/grp/aadrian/Pseudobulk_Function_Pipeline_HighRes/bin/bulkSimulationOneProfile/data/simulations/0.03/pbmc_sc_with_metadata_cpm_pc_cell_type_profiles.csv/pbmc_sc_with_metadata_cpm_pc_cell_type_profiles_n_sim_9_profiles.csv', '/space/grp/aadrian/Pseudobulk_Function_Pipeline_HighRes/bin/bulkSimulationOneProfile/data/simulations/0.03/pbmc_sc_with_metadata_cpm_pc_cell_type_profiles.csv/pbmc_sc_with_metadata_cpm_pc_cell_type_profiles_n_sim_37_profiles.csv', '/space/grp/aadrian/Pseudobulk_Function_Pipeline_HighRes/bin/bulkSimulationOneProfile/data/simulations/0.03/pbmc_sc_with_metadata_cpm_pc_cell_type_profiles.csv/pbmc_sc_with_metadata_cpm_pc_cell_type_profiles_n_sim_64_profiles.csv', '/space/grp/aadrian/Pseudobulk_Function_Pipeline_HighRes/bin/bulkSimulationOneProfile/data/simulations/0.03/pbmc_sc_with_metadata_cpm_pc_cell_type_profiles.csv/pbmc_sc_with_metadata_cpm_pc_cell_type_profiles_n_sim_36_profiles.csv', '/space/grp/aadrian/Pseudobulk_Function_Pipeline_HighRes/bin/bulkSimulationOneProfile/data/simulations/0.03/pbmc_sc_with_metadata_cpm_pc_cell_type_profiles.csv/pbmc_sc_with_metadata_cpm_pc_cell_type_profiles_n_sim_8_profiles.csv', '/space/grp/aadrian/Pseudobulk_Function_Pipeline_HighRes/bin/bulkSimulationOneProfile/data/simulations/0.03/pbmc_sc_with_metadata_cpm_pc_cell_type_profiles.csv/pbmc_sc_with_metadata_cpm_pc_cell_type_profiles_n_sim_65_profiles.csv', '/space/grp/aadrian/Pseudobulk_Function_Pipeline_HighRes/bin/bulkSimulationOneProfile/data/simulations/0.03/pbmc_sc_with_metadata_cpm_pc_cell_type_profiles.csv/pbmc_sc_with_metadata_cpm_pc_cell_type_profiles_n_sim_90_profiles.csv', '/space/grp/aadrian/Pseudobulk_Function_Pipeline_HighRes/bin/bulkSimulationOneProfile/data/simulations/0.03/pbmc_sc_with_metadata_cpm_pc_cell_type_profiles.csv/pbmc_sc_with_metadata_cpm_pc_cell_type_profiles_n_sim_60_profiles.csv', '/space/grp/aadrian/Pseudobulk_Function_Pipeline_HighRes/bin/bulkSimulationOneProfile/data/simulations/0.03/pbmc_sc_with_metadata_cpm_pc_cell_type_profiles.csv/pbmc_sc_with_metadata_cpm_pc_cell_type_profiles_n_sim_33_profiles.csv', '/space/grp/aadrian/Pseudobulk_Function_Pipeline_HighRes/bin/bulkSimulationOneProfile/data/simulations/0.03/pbmc_sc_with_metadata_cpm_pc_cell_type_profiles.csv/pbmc_sc_with_metadata_cpm_pc_cell_type_profiles_n_sim_19_profiles.csv', '/space/grp/aadrian/Pseudobulk_Function_Pipeline_HighRes/bin/bulkSimulationOneProfile/data/simulations/0.03/pbmc_sc_with_metadata_cpm_pc_cell_type_profiles.csv/pbmc_sc_with_metadata_cpm_pc_cell_type_profiles_n_sim_95_profiles.csv', '/space/grp/aadrian/Pseudobulk_Function_Pipeline_HighRes/bin/bulkSimulationOneProfile/data/simulations/0.03/pbmc_sc_with_metadata_cpm_pc_cell_type_profiles.csv/pbmc_sc_with_metadata_cpm_pc_cell_type_profiles_n_sim_18_profiles.csv', '/space/grp/aadrian/Pseudobulk_Function_Pipeline_HighRes/bin/bulkSimulationOneProfile/data/simulations/0.03/pbmc_sc_with_metadata_cpm_pc_cell_type_profiles.csv/pbmc_sc_with_metadata_cpm_pc_cell_type_profiles_n_sim_94_profiles.csv', '/space/grp/aadrian/Pseudobulk_Function_Pipeline_HighRes/bin/bulkSimulationOneProfile/data/simulations/0.03/pbmc_sc_with_metadata_cpm_pc_cell_type_profiles.csv/pbmc_sc_with_metadata_cpm_pc_cell_type_profiles_n_sim_61_profiles.csv', '/space/grp/aadrian/Pseudobulk_Function_Pipeline_HighRes/bin/bulkSimulationOneProfile/data/simulations/0.03/pbmc_sc_with_metadata_cpm_pc_cell_type_profiles.csv/pbmc_sc_with_metadata_cpm_pc_cell_type_profiles_n_sim_32_profiles.csv', '/space/grp/aadrian/Pseudobulk_Function_Pipeline_HighRes/bin/bulkSimulationOneProfile/data/simulations/0.03/pbmc_sc_with_metadata_cpm_pc_cell_type_profiles.csv/pbmc_sc_with_metadata_cpm_pc_cell_type_profiles_n_sim_96_profiles.csv', '/space/grp/aadrian/Pseudobulk_Function_Pipeline_HighRes/bin/bulkSimulationOneProfile/data/simulations/0.03/pbmc_sc_with_metadata_cpm_pc_cell_type_profiles.csv/pbmc_sc_with_metadata_cpm_pc_cell_type_profiles_n_sim_49_profiles.csv', '/space/grp/aadrian/Pseudobulk_Function_Pipeline_HighRes/bin/bulkSimulationOneProfile/data/simulations/0.03/pbmc_sc_with_metadata_cpm_pc_cell_type_profiles.csv/pbmc_sc_with_metadata_cpm_pc_cell_type_profiles_n_sim_30_profiles.csv', '/space/grp/aadrian/Pseudobulk_Function_Pipeline_HighRes/bin/bulkSimulationOneProfile/data/simulations/0.03/pbmc_sc_with_metadata_cpm_pc_cell_type_profiles.csv/pbmc_sc_with_metadata_cpm_pc_cell_type_profiles_n_sim_63_profiles.csv', '/space/grp/aadrian/Pseudobulk_Function_Pipeline_HighRes/bin/bulkSimulationOneProfile/data/simulations/0.03/pbmc_sc_with_metadata_cpm_pc_cell_type_profiles.csv/pbmc_sc_with_metadata_cpm_pc_cell_type_profiles_n_sim_31_profiles.csv', '/space/grp/aadrian/Pseudobulk_Function_Pipeline_HighRes/bin/bulkSimulationOneProfile/data/simulations/0.03/pbmc_sc_with_metadata_cpm_pc_cell_type_profiles.csv/pbmc_sc_with_metadata_cpm_pc_cell_type_profiles_n_sim_62_profiles.csv', '/space/grp/aadrian/Pseudobulk_Function_Pipeline_HighRes/bin/bulkSimulationOneProfile/data/simulations/0.03/pbmc_sc_with_metadata_cpm_pc_cell_type_profiles.csv/pbmc_sc_with_metadata_cpm_pc_cell_type_profiles_n_sim_48_profiles.csv', '/space/grp/aadrian/Pseudobulk_Function_Pipeline_HighRes/bin/bulkSimulationOneProfile/data/simulations/0.03/pbmc_sc_with_metadata_cpm_pc_cell_type_profiles.csv/pbmc_sc_with_metadata_cpm_pc_cell_type_profiles_n_sim_97_profiles.csv'], ['/space/grp/aadrian/Pseudobulk_Function_Pipeline_HighRes/bin/bulkSimulationOneProfile/data/simulations/1/pbmc_sc_with_metadata_cpm_pc_cell_type_profiles.csv/pbmc_sc_with_metadata_cpm_pc_cell_type_profiles_n_sim_71_profiles.csv', '/space/grp/aadrian/Pseudobulk_Function_Pipeline_HighRes/bin/bulkSimulationOneProfile/data/simulations/1/pbmc_sc_with_metadata_cpm_pc_cell_type_profiles.csv/pbmc_sc_with_metadata_cpm_pc_cell_type_profiles_n_sim_22_profiles.csv', '/space/grp/aadrian/Pseudobulk_Function_Pipeline_HighRes/bin/bulkSimulationOneProfile/data/simulations/1/pbmc_sc_with_metadata_cpm_pc_cell_type_profiles.csv/pbmc_sc_with_metadata_cpm_pc_cell_type_profiles_n_sim_84_profiles.csv', '/space/grp/aadrian/Pseudobulk_Function_Pipeline_HighRes/bin/bulkSimulationOneProfile/data/simulations/1/pbmc_sc_with_metadata_cpm_pc_cell_type_profiles.csv/pbmc_sc_with_metadata_cpm_pc_cell_type_profiles_n_sim_85_profiles.csv', '/space/grp/aadrian/Pseudobulk_Function_Pipeline_HighRes/bin/bulkSimulationOneProfile/data/simulations/1/pbmc_sc_with_metadata_cpm_pc_cell_type_profiles.csv/pbmc_sc_with_metadata_cpm_pc_cell_type_profiles_n_sim_70_profiles.csv', '/space/grp/aadrian/Pseudobulk_Function_Pipeline_HighRes/bin/bulkSimulationOneProfile/data/simulations/1/pbmc_sc_with_metadata_cpm_pc_cell_type_profiles.csv/pbmc_sc_with_metadata_cpm_pc_cell_type_profiles_n_sim_23_profiles.csv', '/space/grp/aadrian/Pseudobulk_Function_Pipeline_HighRes/bin/bulkSimulationOneProfile/data/simulations/1/pbmc_sc_with_metadata_cpm_pc_cell_type_profiles.csv/pbmc_sc_with_metadata_cpm_pc_cell_type_profiles_n_sim_58_profiles.csv', '/space/grp/aadrian/Pseudobulk_Function_Pipeline_HighRes/bin/bulkSimulationOneProfile/data/simulations/1/pbmc_sc_with_metadata_cpm_pc_cell_type_profiles.csv/pbmc_sc_with_metadata_cpm_pc_cell_type_profiles_n_sim_87_profiles.csv', '/space/grp/aadrian/Pseudobulk_Function_Pipeline_HighRes/bin/bulkSimulationOneProfile/data/simulations/1/pbmc_sc_with_metadata_cpm_pc_cell_type_profiles.csv/pbmc_sc_with_metadata_cpm_pc_cell_type_profiles_n_sim_21_profiles.csv', '/space/grp/aadrian/Pseudobulk_Function_Pipeline_HighRes/bin/bulkSimulationOneProfile/data/simulations/1/pbmc_sc_with_metadata_cpm_pc_cell_type_profiles.csv/pbmc_sc_with_metadata_cpm_pc_cell_type_profiles_n_sim_72_profiles.csv', '/space/grp/aadrian/Pseudobulk_Function_Pipeline_HighRes/bin/bulkSimulationOneProfile/data/simulations/1/pbmc_sc_with_metadata_cpm_pc_cell_type_profiles.csv/pbmc_sc_with_metadata_cpm_pc_cell_type_profiles_n_sim_20_profiles.csv', '/space/grp/aadrian/Pseudobulk_Function_Pipeline_HighRes/bin/bulkSimulationOneProfile/data/simulations/1/pbmc_sc_with_metadata_cpm_pc_cell_type_profiles.csv/pbmc_sc_with_metadata_cpm_pc_cell_type_profiles_n_sim_73_profiles.csv', '/space/grp/aadrian/Pseudobulk_Function_Pipeline_HighRes/bin/bulkSimulationOneProfile/data/simulations/1/pbmc_sc_with_metadata_cpm_pc_cell_type_profiles.csv/pbmc_sc_with_metadata_cpm_pc_cell_type_profiles_n_sim_86_profiles.csv', '/space/grp/aadrian/Pseudobulk_Function_Pipeline_HighRes/bin/bulkSimulationOneProfile/data/simulations/1/pbmc_sc_with_metadata_cpm_pc_cell_type_profiles.csv/pbmc_sc_with_metadata_cpm_pc_cell_type_profiles_n_sim_59_profiles.csv', '/space/grp/aadrian/Pseudobulk_Function_Pipeline_HighRes/bin/bulkSimulationOneProfile/data/simulations/1/pbmc_sc_with_metadata_cpm_pc_cell_type_profiles.csv/pbmc_sc_with_metadata_cpm_pc_cell_type_profiles_n_sim_76_profiles.csv', '/space/grp/aadrian/Pseudobulk_Function_Pipeline_HighRes/bin/bulkSimulationOneProfile/data/simulations/1/pbmc_sc_with_metadata_cpm_pc_cell_type_profiles.csv/pbmc_sc_with_metadata_cpm_pc_cell_type_profiles_n_sim_25_profiles.csv', '/space/grp/aadrian/Pseudobulk_Function_Pipeline_HighRes/bin/bulkSimulationOneProfile/data/simulations/1/pbmc_sc_with_metadata_cpm_pc_cell_type_profiles.csv/pbmc_sc_with_metadata_cpm_pc_cell_type_profiles_n_sim_83_profiles.csv', '/space/grp/aadrian/Pseudobulk_Function_Pipeline_HighRes/bin/bulkSimulationOneProfile/data/simulations/1/pbmc_sc_with_metadata_cpm_pc_cell_type_profiles.csv/pbmc_sc_with_metadata_cpm_pc_cell_type_profiles_n_sim_82_profiles.csv', '/space/grp/aadrian/Pseudobulk_Function_Pipeline_HighRes/bin/bulkSimulationOneProfile/data/simulations/1/pbmc_sc_with_metadata_cpm_pc_cell_type_profiles.csv/pbmc_sc_with_metadata_cpm_pc_cell_type_profiles_n_sim_77_profiles.csv', '/space/grp/aadrian/Pseudobulk_Function_Pipeline_HighRes/bin/bulkSimulationOneProfile/data/simulations/1/pbmc_sc_with_metadata_cpm_pc_cell_type_profiles.csv/pbmc_sc_with_metadata_cpm_pc_cell_type_profiles_n_sim_24_profiles.csv', '/space/grp/aadrian/Pseudobulk_Function_Pipeline_HighRes/bin/bulkSimulationOneProfile/data/simulations/1/pbmc_sc_with_metadata_cpm_pc_cell_type_profiles.csv/pbmc_sc_with_metadata_cpm_pc_cell_type_profiles_n_sim_80_profiles.csv', '/space/grp/aadrian/Pseudobulk_Function_Pipeline_HighRes/bin/bulkSimulationOneProfile/data/simulations/1/pbmc_sc_with_metadata_cpm_pc_cell_type_profiles.csv/pbmc_sc_with_metadata_cpm_pc_cell_type_profiles_n_sim_26_profiles.csv', '/space/grp/aadrian/Pseudobulk_Function_Pipeline_HighRes/bin/bulkSimulationOneProfile/data/simulations/1/pbmc_sc_with_metadata_cpm_pc_cell_type_profiles.csv/pbmc_sc_with_metadata_cpm_pc_cell_type_profiles_n_sim_75_profiles.csv', '/space/grp/aadrian/Pseudobulk_Function_Pipeline_HighRes/bin/bulkSimulationOneProfile/data/simulations/1/pbmc_sc_with_metadata_cpm_pc_cell_type_profiles.csv/pbmc_sc_with_metadata_cpm_pc_cell_type_profiles_n_sim_27_profiles.csv', '/space/grp/aadrian/Pseudobulk_Function_Pipeline_HighRes/bin/bulkSimulationOneProfile/data/simulations/1/pbmc_sc_with_metadata_cpm_pc_cell_type_profiles.csv/pbmc_sc_with_metadata_cpm_pc_cell_type_profiles_n_sim_74_profiles.csv', '/space/grp/aadrian/Pseudobulk_Function_Pipeline_HighRes/bin/bulkSimulationOneProfile/data/simulations/1/pbmc_sc_with_metadata_cpm_pc_cell_type_profiles.csv/pbmc_sc_with_metadata_cpm_pc_cell_type_profiles_n_sim_81_profiles.csv', '/space/grp/aadrian/Pseudobulk_Function_Pipeline_HighRes/bin/bulkSimulationOneProfile/data/simulations/1/pbmc_sc_with_metadata_cpm_pc_cell_type_profiles.csv/pbmc_sc_with_metadata_cpm_pc_cell_type_profiles_n_sim_55_profiles.csv', '/space/grp/aadrian/Pseudobulk_Function_Pipeline_HighRes/bin/bulkSimulationOneProfile/data/simulations/1/pbmc_sc_with_metadata_cpm_pc_cell_type_profiles.csv/pbmc_sc_with_metadata_cpm_pc_cell_type_profiles_n_sim_54_profiles.csv', '/space/grp/aadrian/Pseudobulk_Function_Pipeline_HighRes/bin/bulkSimulationOneProfile/data/simulations/1/pbmc_sc_with_metadata_cpm_pc_cell_type_profiles.csv/pbmc_sc_with_metadata_cpm_pc_cell_type_profiles_n_sim_56_profiles.csv', '/space/grp/aadrian/Pseudobulk_Function_Pipeline_HighRes/bin/bulkSimulationOneProfile/data/simulations/1/pbmc_sc_with_metadata_cpm_pc_cell_type_profiles.csv/pbmc_sc_with_metadata_cpm_pc_cell_type_profiles_n_sim_89_profiles.csv', '/space/grp/aadrian/Pseudobulk_Function_Pipeline_HighRes/bin/bulkSimulationOneProfile/data/simulations/1/pbmc_sc_with_metadata_cpm_pc_cell_type_profiles.csv/pbmc_sc_with_metadata_cpm_pc_cell_type_profiles_n_sim_88_profiles.csv', '/space/grp/aadrian/Pseudobulk_Function_Pipeline_HighRes/bin/bulkSimulationOneProfile/data/simulations/1/pbmc_sc_with_metadata_cpm_pc_cell_type_profiles.csv/pbmc_sc_with_metadata_cpm_pc_cell_type_profiles_n_sim_57_profiles.csv', '/space/grp/aadrian/Pseudobulk_Function_Pipeline_HighRes/bin/bulkSimulationOneProfile/data/simulations/1/pbmc_sc_with_metadata_cpm_pc_cell_type_profiles.csv/pbmc_sc_with_metadata_cpm_pc_cell_type_profiles_n_sim_78_profiles.csv', '/space/grp/aadrian/Pseudobulk_Function_Pipeline_HighRes/bin/bulkSimulationOneProfile/data/simulations/1/pbmc_sc_with_metadata_cpm_pc_cell_type_profiles.csv/pbmc_sc_with_metadata_cpm_pc_cell_type_profiles_n_sim_52_profiles.csv', '/space/grp/aadrian/Pseudobulk_Function_Pipeline_HighRes/bin/bulkSimulationOneProfile/data/simulations/1/pbmc_sc_with_metadata_cpm_pc_cell_type_profiles.csv/pbmc_sc_with_metadata_cpm_pc_cell_type_profiles_n_sim_53_profiles.csv', '/space/grp/aadrian/Pseudobulk_Function_Pipeline_HighRes/bin/bulkSimulationOneProfile/data/simulations/1/pbmc_sc_with_metadata_cpm_pc_cell_type_profiles.csv/pbmc_sc_with_metadata_cpm_pc_cell_type_profiles_n_sim_79_profiles.csv', '/space/grp/aadrian/Pseudobulk_Function_Pipeline_HighRes/bin/bulkSimulationOneProfile/data/simulations/1/pbmc_sc_with_metadata_cpm_pc_cell_type_profiles.csv/pbmc_sc_with_metadata_cpm_pc_cell_type_profiles_n_sim_51_profiles.csv', '/space/grp/aadrian/Pseudobulk_Function_Pipeline_HighRes/bin/bulkSimulationOneProfile/data/simulations/1/pbmc_sc_with_metadata_cpm_pc_cell_type_profiles.csv/pbmc_sc_with_metadata_cpm_pc_cell_type_profiles_n_sim_28_profiles.csv', '/space/grp/aadrian/Pseudobulk_Function_Pipeline_HighRes/bin/bulkSimulationOneProfile/data/simulations/1/pbmc_sc_with_metadata_cpm_pc_cell_type_profiles.csv/pbmc_sc_with_metadata_cpm_pc_cell_type_profiles_n_sim_29_profiles.csv', '/space/grp/aadrian/Pseudobulk_Function_Pipeline_HighRes/bin/bulkSimulationOneProfile/data/simulations/1/pbmc_sc_with_metadata_cpm_pc_cell_type_profiles.csv/pbmc_sc_with_metadata_cpm_pc_cell_type_profiles_n_sim_50_profiles.csv', '/space/grp/aadrian/Pseudobulk_Function_Pipeline_HighRes/bin/bulkSimulationOneProfile/data/simulations/1/pbmc_sc_with_metadata_cpm_pc_cell_type_profiles.csv/pbmc_sc_with_metadata_cpm_pc_cell_type_profiles_n_sim_12_profiles.csv', '/space/grp/aadrian/Pseudobulk_Function_Pipeline_HighRes/bin/bulkSimulationOneProfile/data/simulations/1/pbmc_sc_with_metadata_cpm_pc_cell_type_profiles.csv/pbmc_sc_with_metadata_cpm_pc_cell_type_profiles_n_sim_41_profiles.csv', '/space/grp/aadrian/Pseudobulk_Function_Pipeline_HighRes/bin/bulkSimulationOneProfile/data/simulations/1/pbmc_sc_with_metadata_cpm_pc_cell_type_profiles.csv/pbmc_sc_with_metadata_cpm_pc_cell_type_profiles_n_sim_38_profiles.csv', '/space/grp/aadrian/Pseudobulk_Function_Pipeline_HighRes/bin/bulkSimulationOneProfile/data/simulations/1/pbmc_sc_with_metadata_cpm_pc_cell_type_profiles.csv/pbmc_sc_with_metadata_cpm_pc_cell_type_profiles_n_sim_39_profiles.csv', '/space/grp/aadrian/Pseudobulk_Function_Pipeline_HighRes/bin/bulkSimulationOneProfile/data/simulations/1/pbmc_sc_with_metadata_cpm_pc_cell_type_profiles.csv/pbmc_sc_with_metadata_cpm_pc_cell_type_profiles_n_sim_13_profiles.csv', '/space/grp/aadrian/Pseudobulk_Function_Pipeline_HighRes/bin/bulkSimulationOneProfile/data/simulations/1/pbmc_sc_with_metadata_cpm_pc_cell_type_profiles.csv/pbmc_sc_with_metadata_cpm_pc_cell_type_profiles_n_sim_40_profiles.csv', '/space/grp/aadrian/Pseudobulk_Function_Pipeline_HighRes/bin/bulkSimulationOneProfile/data/simulations/1/pbmc_sc_with_metadata_cpm_pc_cell_type_profiles.csv/pbmc_sc_with_metadata_cpm_pc_cell_type_profiles_n_sim_68_profiles.csv', '/space/grp/aadrian/Pseudobulk_Function_Pipeline_HighRes/bin/bulkSimulationOneProfile/data/simulations/1/pbmc_sc_with_metadata_cpm_pc_cell_type_profiles.csv/pbmc_sc_with_metadata_cpm_pc_cell_type_profiles_n_sim_8_profiles.csv', '/space/grp/aadrian/Pseudobulk_Function_Pipeline_HighRes/bin/bulkSimulationOneProfile/data/simulations/1/pbmc_sc_with_metadata_cpm_pc_cell_type_profiles.csv/pbmc_sc_with_metadata_cpm_pc_cell_type_profiles_n_sim_42_profiles.csv', '/space/grp/aadrian/Pseudobulk_Function_Pipeline_HighRes/bin/bulkSimulationOneProfile/data/simulations/1/pbmc_sc_with_metadata_cpm_pc_cell_type_profiles.csv/pbmc_sc_with_metadata_cpm_pc_cell_type_profiles_n_sim_11_profiles.csv', '/space/grp/aadrian/Pseudobulk_Function_Pipeline_HighRes/bin/bulkSimulationOneProfile/data/simulations/1/pbmc_sc_with_metadata_cpm_pc_cell_type_profiles.csv/pbmc_sc_with_metadata_cpm_pc_cell_type_profiles_n_sim_43_profiles.csv', '/space/grp/aadrian/Pseudobulk_Function_Pipeline_HighRes/bin/bulkSimulationOneProfile/data/simulations/1/pbmc_sc_with_metadata_cpm_pc_cell_type_profiles.csv/pbmc_sc_with_metadata_cpm_pc_cell_type_profiles_n_sim_9_profiles.csv', '/space/grp/aadrian/Pseudobulk_Function_Pipeline_HighRes/bin/bulkSimulationOneProfile/data/simulations/1/pbmc_sc_with_metadata_cpm_pc_cell_type_profiles.csv/pbmc_sc_with_metadata_cpm_pc_cell_type_profiles_n_sim_10_profiles.csv', '/space/grp/aadrian/Pseudobulk_Function_Pipeline_HighRes/bin/bulkSimulationOneProfile/data/simulations/1/pbmc_sc_with_metadata_cpm_pc_cell_type_profiles.csv/pbmc_sc_with_metadata_cpm_pc_cell_type_profiles_n_sim_69_profiles.csv', '/space/grp/aadrian/Pseudobulk_Function_Pipeline_HighRes/bin/bulkSimulationOneProfile/data/simulations/1/pbmc_sc_with_metadata_cpm_pc_cell_type_profiles.csv/pbmc_sc_with_metadata_cpm_pc_cell_type_profiles_n_sim_15_profiles.csv', '/space/grp/aadrian/Pseudobulk_Function_Pipeline_HighRes/bin/bulkSimulationOneProfile/data/simulations/1/pbmc_sc_with_metadata_cpm_pc_cell_type_profiles.csv/pbmc_sc_with_metadata_cpm_pc_cell_type_profiles_n_sim_46_profiles.csv', '/space/grp/aadrian/Pseudobulk_Function_Pipeline_HighRes/bin/bulkSimulationOneProfile/data/simulations/1/pbmc_sc_with_metadata_cpm_pc_cell_type_profiles.csv/pbmc_sc_with_metadata_cpm_pc_cell_type_profiles_n_sim_99_profiles.csv', '/space/grp/aadrian/Pseudobulk_Function_Pipeline_HighRes/bin/bulkSimulationOneProfile/data/simulations/1/pbmc_sc_with_metadata_cpm_pc_cell_type_profiles.csv/pbmc_sc_with_metadata_cpm_pc_cell_type_profiles_n_sim_14_profiles.csv', '/space/grp/aadrian/Pseudobulk_Function_Pipeline_HighRes/bin/bulkSimulationOneProfile/data/simulations/1/pbmc_sc_with_metadata_cpm_pc_cell_type_profiles.csv/pbmc_sc_with_metadata_cpm_pc_cell_type_profiles_n_sim_98_profiles.csv', '/space/grp/aadrian/Pseudobulk_Function_Pipeline_HighRes/bin/bulkSimulationOneProfile/data/simulations/1/pbmc_sc_with_metadata_cpm_pc_cell_type_profiles.csv/pbmc_sc_with_metadata_cpm_pc_cell_type_profiles_n_sim_47_profiles.csv', '/space/grp/aadrian/Pseudobulk_Function_Pipeline_HighRes/bin/bulkSimulationOneProfile/data/simulations/1/pbmc_sc_with_metadata_cpm_pc_cell_type_profiles.csv/pbmc_sc_with_metadata_cpm_pc_cell_type_profiles_n_sim_45_profiles.csv', '/space/grp/aadrian/Pseudobulk_Function_Pipeline_HighRes/bin/bulkSimulationOneProfile/data/simulations/1/pbmc_sc_with_metadata_cpm_pc_cell_type_profiles.csv/pbmc_sc_with_metadata_cpm_pc_cell_type_profiles_n_sim_16_profiles.csv', '/space/grp/aadrian/Pseudobulk_Function_Pipeline_HighRes/bin/bulkSimulationOneProfile/data/simulations/1/pbmc_sc_with_metadata_cpm_pc_cell_type_profiles.csv/pbmc_sc_with_metadata_cpm_pc_cell_type_profiles_n_sim_44_profiles.csv', '/space/grp/aadrian/Pseudobulk_Function_Pipeline_HighRes/bin/bulkSimulationOneProfile/data/simulations/1/pbmc_sc_with_metadata_cpm_pc_cell_type_profiles.csv/pbmc_sc_with_metadata_cpm_pc_cell_type_profiles_n_sim_17_profiles.csv', '/space/grp/aadrian/Pseudobulk_Function_Pipeline_HighRes/bin/bulkSimulationOneProfile/data/simulations/1/pbmc_sc_with_metadata_cpm_pc_cell_type_profiles.csv/pbmc_sc_with_metadata_cpm_pc_cell_type_profiles_n_sim_5_profiles.csv', '/space/grp/aadrian/Pseudobulk_Function_Pipeline_HighRes/bin/bulkSimulationOneProfile/data/simulations/1/pbmc_sc_with_metadata_cpm_pc_cell_type_profiles.csv/pbmc_sc_with_metadata_cpm_pc_cell_type_profiles_n_sim_90_profiles.csv', '/space/grp/aadrian/Pseudobulk_Function_Pipeline_HighRes/bin/bulkSimulationOneProfile/data/simulations/1/pbmc_sc_with_metadata_cpm_pc_cell_type_profiles.csv/pbmc_sc_with_metadata_cpm_pc_cell_type_profiles_n_sim_36_profiles.csv', '/space/grp/aadrian/Pseudobulk_Function_Pipeline_HighRes/bin/bulkSimulationOneProfile/data/simulations/1/pbmc_sc_with_metadata_cpm_pc_cell_type_profiles.csv/pbmc_sc_with_metadata_cpm_pc_cell_type_profiles_n_sim_65_profiles.csv', '/space/grp/aadrian/Pseudobulk_Function_Pipeline_HighRes/bin/bulkSimulationOneProfile/data/simulations/1/pbmc_sc_with_metadata_cpm_pc_cell_type_profiles.csv/pbmc_sc_with_metadata_cpm_pc_cell_type_profiles_n_sim_37_profiles.csv', '/space/grp/aadrian/Pseudobulk_Function_Pipeline_HighRes/bin/bulkSimulationOneProfile/data/simulations/1/pbmc_sc_with_metadata_cpm_pc_cell_type_profiles.csv/pbmc_sc_with_metadata_cpm_pc_cell_type_profiles_n_sim_64_profiles.csv', '/space/grp/aadrian/Pseudobulk_Function_Pipeline_HighRes/bin/bulkSimulationOneProfile/data/simulations/1/pbmc_sc_with_metadata_cpm_pc_cell_type_profiles.csv/pbmc_sc_with_metadata_cpm_pc_cell_type_profiles_n_sim_91_profiles.csv', '/space/grp/aadrian/Pseudobulk_Function_Pipeline_HighRes/bin/bulkSimulationOneProfile/data/simulations/1/pbmc_sc_with_metadata_cpm_pc_cell_type_profiles.csv/pbmc_sc_with_metadata_cpm_pc_cell_type_profiles_n_sim_4_profiles.csv', '/space/grp/aadrian/Pseudobulk_Function_Pipeline_HighRes/bin/bulkSimulationOneProfile/data/simulations/1/pbmc_sc_with_metadata_cpm_pc_cell_type_profiles.csv/pbmc_sc_with_metadata_cpm_pc_cell_type_profiles_n_sim_66_profiles.csv', '/space/grp/aadrian/Pseudobulk_Function_Pipeline_HighRes/bin/bulkSimulationOneProfile/data/simulations/1/pbmc_sc_with_metadata_cpm_pc_cell_type_profiles.csv/pbmc_sc_with_metadata_cpm_pc_cell_type_profiles_n_sim_35_profiles.csv', '/space/grp/aadrian/Pseudobulk_Function_Pipeline_HighRes/bin/bulkSimulationOneProfile/data/simulations/1/pbmc_sc_with_metadata_cpm_pc_cell_type_profiles.csv/pbmc_sc_with_metadata_cpm_pc_cell_type_profiles_n_sim_93_profiles.csv', '/space/grp/aadrian/Pseudobulk_Function_Pipeline_HighRes/bin/bulkSimulationOneProfile/data/simulations/1/pbmc_sc_with_metadata_cpm_pc_cell_type_profiles.csv/pbmc_sc_with_metadata_cpm_pc_cell_type_profiles_n_sim_6_profiles.csv', '/space/grp/aadrian/Pseudobulk_Function_Pipeline_HighRes/bin/bulkSimulationOneProfile/data/simulations/1/pbmc_sc_with_metadata_cpm_pc_cell_type_profiles.csv/pbmc_sc_with_metadata_cpm_pc_cell_type_profiles_n_sim_7_profiles.csv', '/space/grp/aadrian/Pseudobulk_Function_Pipeline_HighRes/bin/bulkSimulationOneProfile/data/simulations/1/pbmc_sc_with_metadata_cpm_pc_cell_type_profiles.csv/pbmc_sc_with_metadata_cpm_pc_cell_type_profiles_n_sim_92_profiles.csv', '/space/grp/aadrian/Pseudobulk_Function_Pipeline_HighRes/bin/bulkSimulationOneProfile/data/simulations/1/pbmc_sc_with_metadata_cpm_pc_cell_type_profiles.csv/pbmc_sc_with_metadata_cpm_pc_cell_type_profiles_n_sim_67_profiles.csv', '/space/grp/aadrian/Pseudobulk_Function_Pipeline_HighRes/bin/bulkSimulationOneProfile/data/simulations/1/pbmc_sc_with_metadata_cpm_pc_cell_type_profiles.csv/pbmc_sc_with_metadata_cpm_pc_cell_type_profiles_n_sim_34_profiles.csv', '/space/grp/aadrian/Pseudobulk_Function_Pipeline_HighRes/bin/bulkSimulationOneProfile/data/simulations/1/pbmc_sc_with_metadata_cpm_pc_cell_type_profiles.csv/pbmc_sc_with_metadata_cpm_pc_cell_type_profiles_n_sim_48_profiles.csv', '/space/grp/aadrian/Pseudobulk_Function_Pipeline_HighRes/bin/bulkSimulationOneProfile/data/simulations/1/pbmc_sc_with_metadata_cpm_pc_cell_type_profiles.csv/pbmc_sc_with_metadata_cpm_pc_cell_type_profiles_n_sim_2_profiles.csv', '/space/grp/aadrian/Pseudobulk_Function_Pipeline_HighRes/bin/bulkSimulationOneProfile/data/simulations/1/pbmc_sc_with_metadata_cpm_pc_cell_type_profiles.csv/pbmc_sc_with_metadata_cpm_pc_cell_type_profiles_n_sim_97_profiles.csv', '/space/grp/aadrian/Pseudobulk_Function_Pipeline_HighRes/bin/bulkSimulationOneProfile/data/simulations/1/pbmc_sc_with_metadata_cpm_pc_cell_type_profiles.csv/pbmc_sc_with_metadata_cpm_pc_cell_type_profiles_n_sim_31_profiles.csv', '/space/grp/aadrian/Pseudobulk_Function_Pipeline_HighRes/bin/bulkSimulationOneProfile/data/simulations/1/pbmc_sc_with_metadata_cpm_pc_cell_type_profiles.csv/pbmc_sc_with_metadata_cpm_pc_cell_type_profiles_n_sim_62_profiles.csv', '/space/grp/aadrian/Pseudobulk_Function_Pipeline_HighRes/bin/bulkSimulationOneProfile/data/simulations/1/pbmc_sc_with_metadata_cpm_pc_cell_type_profiles.csv/pbmc_sc_with_metadata_cpm_pc_cell_type_profiles_n_sim_30_profiles.csv', '/space/grp/aadrian/Pseudobulk_Function_Pipeline_HighRes/bin/bulkSimulationOneProfile/data/simulations/1/pbmc_sc_with_metadata_cpm_pc_cell_type_profiles.csv/pbmc_sc_with_metadata_cpm_pc_cell_type_profiles_n_sim_63_profiles.csv', '/space/grp/aadrian/Pseudobulk_Function_Pipeline_HighRes/bin/bulkSimulationOneProfile/data/simulations/1/pbmc_sc_with_metadata_cpm_pc_cell_type_profiles.csv/pbmc_sc_with_metadata_cpm_pc_cell_type_profiles_n_sim_96_profiles.csv', '/space/grp/aadrian/Pseudobulk_Function_Pipeline_HighRes/bin/bulkSimulationOneProfile/data/simulations/1/pbmc_sc_with_metadata_cpm_pc_cell_type_profiles.csv/pbmc_sc_with_metadata_cpm_pc_cell_type_profiles_n_sim_3_profiles.csv', '/space/grp/aadrian/Pseudobulk_Function_Pipeline_HighRes/bin/bulkSimulationOneProfile/data/simulations/1/pbmc_sc_with_metadata_cpm_pc_cell_type_profiles.csv/pbmc_sc_with_metadata_cpm_pc_cell_type_profiles_n_sim_49_profiles.csv', '/space/grp/aadrian/Pseudobulk_Function_Pipeline_HighRes/bin/bulkSimulationOneProfile/data/simulations/1/pbmc_sc_with_metadata_cpm_pc_cell_type_profiles.csv/pbmc_sc_with_metadata_cpm_pc_cell_type_profiles_n_sim_61_profiles.csv', '/space/grp/aadrian/Pseudobulk_Function_Pipeline_HighRes/bin/bulkSimulationOneProfile/data/simulations/1/pbmc_sc_with_metadata_cpm_pc_cell_type_profiles.csv/pbmc_sc_with_metadata_cpm_pc_cell_type_profiles_n_sim_32_profiles.csv', '/space/grp/aadrian/Pseudobulk_Function_Pipeline_HighRes/bin/bulkSimulationOneProfile/data/simulations/1/pbmc_sc_with_metadata_cpm_pc_cell_type_profiles.csv/pbmc_sc_with_metadata_cpm_pc_cell_type_profiles_n_sim_18_profiles.csv', '/space/grp/aadrian/Pseudobulk_Function_Pipeline_HighRes/bin/bulkSimulationOneProfile/data/simulations/1/pbmc_sc_with_metadata_cpm_pc_cell_type_profiles.csv/pbmc_sc_with_metadata_cpm_pc_cell_type_profiles_n_sim_94_profiles.csv', '/space/grp/aadrian/Pseudobulk_Function_Pipeline_HighRes/bin/bulkSimulationOneProfile/data/simulations/1/pbmc_sc_with_metadata_cpm_pc_cell_type_profiles.csv/pbmc_sc_with_metadata_cpm_pc_cell_type_profiles_n_sim_1_profiles.csv', '/space/grp/aadrian/Pseudobulk_Function_Pipeline_HighRes/bin/bulkSimulationOneProfile/data/simulations/1/pbmc_sc_with_metadata_cpm_pc_cell_type_profiles.csv/pbmc_sc_with_metadata_cpm_pc_cell_type_profiles_n_sim_19_profiles.csv', '/space/grp/aadrian/Pseudobulk_Function_Pipeline_HighRes/bin/bulkSimulationOneProfile/data/simulations/1/pbmc_sc_with_metadata_cpm_pc_cell_type_profiles.csv/pbmc_sc_with_metadata_cpm_pc_cell_type_profiles_n_sim_0_profiles.csv', '/space/grp/aadrian/Pseudobulk_Function_Pipeline_HighRes/bin/bulkSimulationOneProfile/data/simulations/1/pbmc_sc_with_metadata_cpm_pc_cell_type_profiles.csv/pbmc_sc_with_metadata_cpm_pc_cell_type_profiles_n_sim_95_profiles.csv', '/space/grp/aadrian/Pseudobulk_Function_Pipeline_HighRes/bin/bulkSimulationOneProfile/data/simulations/1/pbmc_sc_with_metadata_cpm_pc_cell_type_profiles.csv/pbmc_sc_with_metadata_cpm_pc_cell_type_profiles_n_sim_60_profiles.csv', '/space/grp/aadrian/Pseudobulk_Function_Pipeline_HighRes/bin/bulkSimulationOneProfile/data/simulations/1/pbmc_sc_with_metadata_cpm_pc_cell_type_profiles.csv/pbmc_sc_with_metadata_cpm_pc_cell_type_profiles_n_sim_33_profiles.csv'], ['/space/grp/aadrian/Pseudobulk_Function_Pipeline_HighRes/bin/bulkSimulationOneProfile/data/simulations/0.5/pbmc_sc_with_metadata_cpm_pc_cell_type_profiles.csv/pbmc_sc_with_metadata_cpm_pc_cell_type_profiles_n_sim_79_profiles.csv', '/space/grp/aadrian/Pseudobulk_Function_Pipeline_HighRes/bin/bulkSimulationOneProfile/data/simulations/0.5/pbmc_sc_with_metadata_cpm_pc_cell_type_profiles.csv/pbmc_sc_with_metadata_cpm_pc_cell_type_profiles_n_sim_53_profiles.csv', '/space/grp/aadrian/Pseudobulk_Function_Pipeline_HighRes/bin/bulkSimulationOneProfile/data/simulations/0.5/pbmc_sc_with_metadata_cpm_pc_cell_type_profiles.csv/pbmc_sc_with_metadata_cpm_pc_cell_type_profiles_n_sim_0_profiles.csv', '/space/grp/aadrian/Pseudobulk_Function_Pipeline_HighRes/bin/bulkSimulationOneProfile/data/simulations/0.5/pbmc_sc_with_metadata_cpm_pc_cell_type_profiles.csv/pbmc_sc_with_metadata_cpm_pc_cell_type_profiles_n_sim_52_profiles.csv', '/space/grp/aadrian/Pseudobulk_Function_Pipeline_HighRes/bin/bulkSimulationOneProfile/data/simulations/0.5/pbmc_sc_with_metadata_cpm_pc_cell_type_profiles.csv/pbmc_sc_with_metadata_cpm_pc_cell_type_profiles_n_sim_1_profiles.csv', '/space/grp/aadrian/Pseudobulk_Function_Pipeline_HighRes/bin/bulkSimulationOneProfile/data/simulations/0.5/pbmc_sc_with_metadata_cpm_pc_cell_type_profiles.csv/pbmc_sc_with_metadata_cpm_pc_cell_type_profiles_n_sim_78_profiles.csv', '/space/grp/aadrian/Pseudobulk_Function_Pipeline_HighRes/bin/bulkSimulationOneProfile/data/simulations/0.5/pbmc_sc_with_metadata_cpm_pc_cell_type_profiles.csv/pbmc_sc_with_metadata_cpm_pc_cell_type_profiles_n_sim_3_profiles.csv', '/space/grp/aadrian/Pseudobulk_Function_Pipeline_HighRes/bin/bulkSimulationOneProfile/data/simulations/0.5/pbmc_sc_with_metadata_cpm_pc_cell_type_profiles.csv/pbmc_sc_with_metadata_cpm_pc_cell_type_profiles_n_sim_50_profiles.csv', '/space/grp/aadrian/Pseudobulk_Function_Pipeline_HighRes/bin/bulkSimulationOneProfile/data/simulations/0.5/pbmc_sc_with_metadata_cpm_pc_cell_type_profiles.csv/pbmc_sc_with_metadata_cpm_pc_cell_type_profiles_n_sim_29_profiles.csv', '/space/grp/aadrian/Pseudobulk_Function_Pipeline_HighRes/bin/bulkSimulationOneProfile/data/simulations/0.5/pbmc_sc_with_metadata_cpm_pc_cell_type_profiles.csv/pbmc_sc_with_metadata_cpm_pc_cell_type_profiles_n_sim_28_profiles.csv', '/space/grp/aadrian/Pseudobulk_Function_Pipeline_HighRes/bin/bulkSimulationOneProfile/data/simulations/0.5/pbmc_sc_with_metadata_cpm_pc_cell_type_profiles.csv/pbmc_sc_with_metadata_cpm_pc_cell_type_profiles_n_sim_2_profiles.csv', '/space/grp/aadrian/Pseudobulk_Function_Pipeline_HighRes/bin/bulkSimulationOneProfile/data/simulations/0.5/pbmc_sc_with_metadata_cpm_pc_cell_type_profiles.csv/pbmc_sc_with_metadata_cpm_pc_cell_type_profiles_n_sim_51_profiles.csv', '/space/grp/aadrian/Pseudobulk_Function_Pipeline_HighRes/bin/bulkSimulationOneProfile/data/simulations/0.5/pbmc_sc_with_metadata_cpm_pc_cell_type_profiles.csv/pbmc_sc_with_metadata_cpm_pc_cell_type_profiles_n_sim_54_profiles.csv', '/space/grp/aadrian/Pseudobulk_Function_Pipeline_HighRes/bin/bulkSimulationOneProfile/data/simulations/0.5/pbmc_sc_with_metadata_cpm_pc_cell_type_profiles.csv/pbmc_sc_with_metadata_cpm_pc_cell_type_profiles_n_sim_7_profiles.csv', '/space/grp/aadrian/Pseudobulk_Function_Pipeline_HighRes/bin/bulkSimulationOneProfile/data/simulations/0.5/pbmc_sc_with_metadata_cpm_pc_cell_type_profiles.csv/pbmc_sc_with_metadata_cpm_pc_cell_type_profiles_n_sim_55_profiles.csv', '/space/grp/aadrian/Pseudobulk_Function_Pipeline_HighRes/bin/bulkSimulationOneProfile/data/simulations/0.5/pbmc_sc_with_metadata_cpm_pc_cell_type_profiles.csv/pbmc_sc_with_metadata_cpm_pc_cell_type_profiles_n_sim_6_profiles.csv', '/space/grp/aadrian/Pseudobulk_Function_Pipeline_HighRes/bin/bulkSimulationOneProfile/data/simulations/0.5/pbmc_sc_with_metadata_cpm_pc_cell_type_profiles.csv/pbmc_sc_with_metadata_cpm_pc_cell_type_profiles_n_sim_4_profiles.csv', '/space/grp/aadrian/Pseudobulk_Function_Pipeline_HighRes/bin/bulkSimulationOneProfile/data/simulations/0.5/pbmc_sc_with_metadata_cpm_pc_cell_type_profiles.csv/pbmc_sc_with_metadata_cpm_pc_cell_type_profiles_n_sim_57_profiles.csv', '/space/grp/aadrian/Pseudobulk_Function_Pipeline_HighRes/bin/bulkSimulationOneProfile/data/simulations/0.5/pbmc_sc_with_metadata_cpm_pc_cell_type_profiles.csv/pbmc_sc_with_metadata_cpm_pc_cell_type_profiles_n_sim_88_profiles.csv', '/space/grp/aadrian/Pseudobulk_Function_Pipeline_HighRes/bin/bulkSimulationOneProfile/data/simulations/0.5/pbmc_sc_with_metadata_cpm_pc_cell_type_profiles.csv/pbmc_sc_with_metadata_cpm_pc_cell_type_profiles_n_sim_5_profiles.csv', '/space/grp/aadrian/Pseudobulk_Function_Pipeline_HighRes/bin/bulkSimulationOneProfile/data/simulations/0.5/pbmc_sc_with_metadata_cpm_pc_cell_type_profiles.csv/pbmc_sc_with_metadata_cpm_pc_cell_type_profiles_n_sim_89_profiles.csv', '/space/grp/aadrian/Pseudobulk_Function_Pipeline_HighRes/bin/bulkSimulationOneProfile/data/simulations/0.5/pbmc_sc_with_metadata_cpm_pc_cell_type_profiles.csv/pbmc_sc_with_metadata_cpm_pc_cell_type_profiles_n_sim_56_profiles.csv', '/space/grp/aadrian/Pseudobulk_Function_Pipeline_HighRes/bin/bulkSimulationOneProfile/data/simulations/0.5/pbmc_sc_with_metadata_cpm_pc_cell_type_profiles.csv/pbmc_sc_with_metadata_cpm_pc_cell_type_profiles_n_sim_77_profiles.csv', '/space/grp/aadrian/Pseudobulk_Function_Pipeline_HighRes/bin/bulkSimulationOneProfile/data/simulations/0.5/pbmc_sc_with_metadata_cpm_pc_cell_type_profiles.csv/pbmc_sc_with_metadata_cpm_pc_cell_type_profiles_n_sim_24_profiles.csv', '/space/grp/aadrian/Pseudobulk_Function_Pipeline_HighRes/bin/bulkSimulationOneProfile/data/simulations/0.5/pbmc_sc_with_metadata_cpm_pc_cell_type_profiles.csv/pbmc_sc_with_metadata_cpm_pc_cell_type_profiles_n_sim_82_profiles.csv', '/space/grp/aadrian/Pseudobulk_Function_Pipeline_HighRes/bin/bulkSimulationOneProfile/data/simulations/0.5/pbmc_sc_with_metadata_cpm_pc_cell_type_profiles.csv/pbmc_sc_with_metadata_cpm_pc_cell_type_profiles_n_sim_83_profiles.csv', '/space/grp/aadrian/Pseudobulk_Function_Pipeline_HighRes/bin/bulkSimulationOneProfile/data/simulations/0.5/pbmc_sc_with_metadata_cpm_pc_cell_type_profiles.csv/pbmc_sc_with_metadata_cpm_pc_cell_type_profiles_n_sim_76_profiles.csv', '/space/grp/aadrian/Pseudobulk_Function_Pipeline_HighRes/bin/bulkSimulationOneProfile/data/simulations/0.5/pbmc_sc_with_metadata_cpm_pc_cell_type_profiles.csv/pbmc_sc_with_metadata_cpm_pc_cell_type_profiles_n_sim_25_profiles.csv', '/space/grp/aadrian/Pseudobulk_Function_Pipeline_HighRes/bin/bulkSimulationOneProfile/data/simulations/0.5/pbmc_sc_with_metadata_cpm_pc_cell_type_profiles.csv/pbmc_sc_with_metadata_cpm_pc_cell_type_profiles_n_sim_81_profiles.csv', '/space/grp/aadrian/Pseudobulk_Function_Pipeline_HighRes/bin/bulkSimulationOneProfile/data/simulations/0.5/pbmc_sc_with_metadata_cpm_pc_cell_type_profiles.csv/pbmc_sc_with_metadata_cpm_pc_cell_type_profiles_n_sim_27_profiles.csv', '/space/grp/aadrian/Pseudobulk_Function_Pipeline_HighRes/bin/bulkSimulationOneProfile/data/simulations/0.5/pbmc_sc_with_metadata_cpm_pc_cell_type_profiles.csv/pbmc_sc_with_metadata_cpm_pc_cell_type_profiles_n_sim_74_profiles.csv', '/space/grp/aadrian/Pseudobulk_Function_Pipeline_HighRes/bin/bulkSimulationOneProfile/data/simulations/0.5/pbmc_sc_with_metadata_cpm_pc_cell_type_profiles.csv/pbmc_sc_with_metadata_cpm_pc_cell_type_profiles_n_sim_26_profiles.csv', '/space/grp/aadrian/Pseudobulk_Function_Pipeline_HighRes/bin/bulkSimulationOneProfile/data/simulations/0.5/pbmc_sc_with_metadata_cpm_pc_cell_type_profiles.csv/pbmc_sc_with_metadata_cpm_pc_cell_type_profiles_n_sim_75_profiles.csv', '/space/grp/aadrian/Pseudobulk_Function_Pipeline_HighRes/bin/bulkSimulationOneProfile/data/simulations/0.5/pbmc_sc_with_metadata_cpm_pc_cell_type_profiles.csv/pbmc_sc_with_metadata_cpm_pc_cell_type_profiles_n_sim_80_profiles.csv', '/space/grp/aadrian/Pseudobulk_Function_Pipeline_HighRes/bin/bulkSimulationOneProfile/data/simulations/0.5/pbmc_sc_with_metadata_cpm_pc_cell_type_profiles.csv/pbmc_sc_with_metadata_cpm_pc_cell_type_profiles_n_sim_70_profiles.csv', '/space/grp/aadrian/Pseudobulk_Function_Pipeline_HighRes/bin/bulkSimulationOneProfile/data/simulations/0.5/pbmc_sc_with_metadata_cpm_pc_cell_type_profiles.csv/pbmc_sc_with_metadata_cpm_pc_cell_type_profiles_n_sim_23_profiles.csv', '/space/grp/aadrian/Pseudobulk_Function_Pipeline_HighRes/bin/bulkSimulationOneProfile/data/simulations/0.5/pbmc_sc_with_metadata_cpm_pc_cell_type_profiles.csv/pbmc_sc_with_metadata_cpm_pc_cell_type_profiles_n_sim_9_profiles.csv', '/space/grp/aadrian/Pseudobulk_Function_Pipeline_HighRes/bin/bulkSimulationOneProfile/data/simulations/0.5/pbmc_sc_with_metadata_cpm_pc_cell_type_profiles.csv/pbmc_sc_with_metadata_cpm_pc_cell_type_profiles_n_sim_85_profiles.csv', '/space/grp/aadrian/Pseudobulk_Function_Pipeline_HighRes/bin/bulkSimulationOneProfile/data/simulations/0.5/pbmc_sc_with_metadata_cpm_pc_cell_type_profiles.csv/pbmc_sc_with_metadata_cpm_pc_cell_type_profiles_n_sim_8_profiles.csv', '/space/grp/aadrian/Pseudobulk_Function_Pipeline_HighRes/bin/bulkSimulationOneProfile/data/simulations/0.5/pbmc_sc_with_metadata_cpm_pc_cell_type_profiles.csv/pbmc_sc_with_metadata_cpm_pc_cell_type_profiles_n_sim_84_profiles.csv', '/space/grp/aadrian/Pseudobulk_Function_Pipeline_HighRes/bin/bulkSimulationOneProfile/data/simulations/0.5/pbmc_sc_with_metadata_cpm_pc_cell_type_profiles.csv/pbmc_sc_with_metadata_cpm_pc_cell_type_profiles_n_sim_71_profiles.csv', '/space/grp/aadrian/Pseudobulk_Function_Pipeline_HighRes/bin/bulkSimulationOneProfile/data/simulations/0.5/pbmc_sc_with_metadata_cpm_pc_cell_type_profiles.csv/pbmc_sc_with_metadata_cpm_pc_cell_type_profiles_n_sim_22_profiles.csv', '/space/grp/aadrian/Pseudobulk_Function_Pipeline_HighRes/bin/bulkSimulationOneProfile/data/simulations/0.5/pbmc_sc_with_metadata_cpm_pc_cell_type_profiles.csv/pbmc_sc_with_metadata_cpm_pc_cell_type_profiles_n_sim_59_profiles.csv', '/space/grp/aadrian/Pseudobulk_Function_Pipeline_HighRes/bin/bulkSimulationOneProfile/data/simulations/0.5/pbmc_sc_with_metadata_cpm_pc_cell_type_profiles.csv/pbmc_sc_with_metadata_cpm_pc_cell_type_profiles_n_sim_86_profiles.csv', '/space/grp/aadrian/Pseudobulk_Function_Pipeline_HighRes/bin/bulkSimulationOneProfile/data/simulations/0.5/pbmc_sc_with_metadata_cpm_pc_cell_type_profiles.csv/pbmc_sc_with_metadata_cpm_pc_cell_type_profiles_n_sim_20_profiles.csv', '/space/grp/aadrian/Pseudobulk_Function_Pipeline_HighRes/bin/bulkSimulationOneProfile/data/simulations/0.5/pbmc_sc_with_metadata_cpm_pc_cell_type_profiles.csv/pbmc_sc_with_metadata_cpm_pc_cell_type_profiles_n_sim_73_profiles.csv', '/space/grp/aadrian/Pseudobulk_Function_Pipeline_HighRes/bin/bulkSimulationOneProfile/data/simulations/0.5/pbmc_sc_with_metadata_cpm_pc_cell_type_profiles.csv/pbmc_sc_with_metadata_cpm_pc_cell_type_profiles_n_sim_21_profiles.csv', '/space/grp/aadrian/Pseudobulk_Function_Pipeline_HighRes/bin/bulkSimulationOneProfile/data/simulations/0.5/pbmc_sc_with_metadata_cpm_pc_cell_type_profiles.csv/pbmc_sc_with_metadata_cpm_pc_cell_type_profiles_n_sim_72_profiles.csv', '/space/grp/aadrian/Pseudobulk_Function_Pipeline_HighRes/bin/bulkSimulationOneProfile/data/simulations/0.5/pbmc_sc_with_metadata_cpm_pc_cell_type_profiles.csv/pbmc_sc_with_metadata_cpm_pc_cell_type_profiles_n_sim_87_profiles.csv', '/space/grp/aadrian/Pseudobulk_Function_Pipeline_HighRes/bin/bulkSimulationOneProfile/data/simulations/0.5/pbmc_sc_with_metadata_cpm_pc_cell_type_profiles.csv/pbmc_sc_with_metadata_cpm_pc_cell_type_profiles_n_sim_58_profiles.csv', '/space/grp/aadrian/Pseudobulk_Function_Pipeline_HighRes/bin/bulkSimulationOneProfile/data/simulations/0.5/pbmc_sc_with_metadata_cpm_pc_cell_type_profiles.csv/pbmc_sc_with_metadata_cpm_pc_cell_type_profiles_n_sim_49_profiles.csv', '/space/grp/aadrian/Pseudobulk_Function_Pipeline_HighRes/bin/bulkSimulationOneProfile/data/simulations/0.5/pbmc_sc_with_metadata_cpm_pc_cell_type_profiles.csv/pbmc_sc_with_metadata_cpm_pc_cell_type_profiles_n_sim_96_profiles.csv', '/space/grp/aadrian/Pseudobulk_Function_Pipeline_HighRes/bin/bulkSimulationOneProfile/data/simulations/0.5/pbmc_sc_with_metadata_cpm_pc_cell_type_profiles.csv/pbmc_sc_with_metadata_cpm_pc_cell_type_profiles_n_sim_30_profiles.csv', '/space/grp/aadrian/Pseudobulk_Function_Pipeline_HighRes/bin/bulkSimulationOneProfile/data/simulations/0.5/pbmc_sc_with_metadata_cpm_pc_cell_type_profiles.csv/pbmc_sc_with_metadata_cpm_pc_cell_type_profiles_n_sim_63_profiles.csv', '/space/grp/aadrian/Pseudobulk_Function_Pipeline_HighRes/bin/bulkSimulationOneProfile/data/simulations/0.5/pbmc_sc_with_metadata_cpm_pc_cell_type_profiles.csv/pbmc_sc_with_metadata_cpm_pc_cell_type_profiles_n_sim_31_profiles.csv', '/space/grp/aadrian/Pseudobulk_Function_Pipeline_HighRes/bin/bulkSimulationOneProfile/data/simulations/0.5/pbmc_sc_with_metadata_cpm_pc_cell_type_profiles.csv/pbmc_sc_with_metadata_cpm_pc_cell_type_profiles_n_sim_62_profiles.csv', '/space/grp/aadrian/Pseudobulk_Function_Pipeline_HighRes/bin/bulkSimulationOneProfile/data/simulations/0.5/pbmc_sc_with_metadata_cpm_pc_cell_type_profiles.csv/pbmc_sc_with_metadata_cpm_pc_cell_type_profiles_n_sim_97_profiles.csv', '/space/grp/aadrian/Pseudobulk_Function_Pipeline_HighRes/bin/bulkSimulationOneProfile/data/simulations/0.5/pbmc_sc_with_metadata_cpm_pc_cell_type_profiles.csv/pbmc_sc_with_metadata_cpm_pc_cell_type_profiles_n_sim_48_profiles.csv', '/space/grp/aadrian/Pseudobulk_Function_Pipeline_HighRes/bin/bulkSimulationOneProfile/data/simulations/0.5/pbmc_sc_with_metadata_cpm_pc_cell_type_profiles.csv/pbmc_sc_with_metadata_cpm_pc_cell_type_profiles_n_sim_60_profiles.csv', '/space/grp/aadrian/Pseudobulk_Function_Pipeline_HighRes/bin/bulkSimulationOneProfile/data/simulations/0.5/pbmc_sc_with_metadata_cpm_pc_cell_type_profiles.csv/pbmc_sc_with_metadata_cpm_pc_cell_type_profiles_n_sim_33_profiles.csv', '/space/grp/aadrian/Pseudobulk_Function_Pipeline_HighRes/bin/bulkSimulationOneProfile/data/simulations/0.5/pbmc_sc_with_metadata_cpm_pc_cell_type_profiles.csv/pbmc_sc_with_metadata_cpm_pc_cell_type_profiles_n_sim_19_profiles.csv', '/space/grp/aadrian/Pseudobulk_Function_Pipeline_HighRes/bin/bulkSimulationOneProfile/data/simulations/0.5/pbmc_sc_with_metadata_cpm_pc_cell_type_profiles.csv/pbmc_sc_with_metadata_cpm_pc_cell_type_profiles_n_sim_95_profiles.csv', '/space/grp/aadrian/Pseudobulk_Function_Pipeline_HighRes/bin/bulkSimulationOneProfile/data/simulations/0.5/pbmc_sc_with_metadata_cpm_pc_cell_type_profiles.csv/pbmc_sc_with_metadata_cpm_pc_cell_type_profiles_n_sim_18_profiles.csv', '/space/grp/aadrian/Pseudobulk_Function_Pipeline_HighRes/bin/bulkSimulationOneProfile/data/simulations/0.5/pbmc_sc_with_metadata_cpm_pc_cell_type_profiles.csv/pbmc_sc_with_metadata_cpm_pc_cell_type_profiles_n_sim_94_profiles.csv', '/space/grp/aadrian/Pseudobulk_Function_Pipeline_HighRes/bin/bulkSimulationOneProfile/data/simulations/0.5/pbmc_sc_with_metadata_cpm_pc_cell_type_profiles.csv/pbmc_sc_with_metadata_cpm_pc_cell_type_profiles_n_sim_61_profiles.csv', '/space/grp/aadrian/Pseudobulk_Function_Pipeline_HighRes/bin/bulkSimulationOneProfile/data/simulations/0.5/pbmc_sc_with_metadata_cpm_pc_cell_type_profiles.csv/pbmc_sc_with_metadata_cpm_pc_cell_type_profiles_n_sim_32_profiles.csv', '/space/grp/aadrian/Pseudobulk_Function_Pipeline_HighRes/bin/bulkSimulationOneProfile/data/simulations/0.5/pbmc_sc_with_metadata_cpm_pc_cell_type_profiles.csv/pbmc_sc_with_metadata_cpm_pc_cell_type_profiles_n_sim_91_profiles.csv', '/space/grp/aadrian/Pseudobulk_Function_Pipeline_HighRes/bin/bulkSimulationOneProfile/data/simulations/0.5/pbmc_sc_with_metadata_cpm_pc_cell_type_profiles.csv/pbmc_sc_with_metadata_cpm_pc_cell_type_profiles_n_sim_37_profiles.csv', '/space/grp/aadrian/Pseudobulk_Function_Pipeline_HighRes/bin/bulkSimulationOneProfile/data/simulations/0.5/pbmc_sc_with_metadata_cpm_pc_cell_type_profiles.csv/pbmc_sc_with_metadata_cpm_pc_cell_type_profiles_n_sim_64_profiles.csv', '/space/grp/aadrian/Pseudobulk_Function_Pipeline_HighRes/bin/bulkSimulationOneProfile/data/simulations/0.5/pbmc_sc_with_metadata_cpm_pc_cell_type_profiles.csv/pbmc_sc_with_metadata_cpm_pc_cell_type_profiles_n_sim_36_profiles.csv', '/space/grp/aadrian/Pseudobulk_Function_Pipeline_HighRes/bin/bulkSimulationOneProfile/data/simulations/0.5/pbmc_sc_with_metadata_cpm_pc_cell_type_profiles.csv/pbmc_sc_with_metadata_cpm_pc_cell_type_profiles_n_sim_65_profiles.csv', '/space/grp/aadrian/Pseudobulk_Function_Pipeline_HighRes/bin/bulkSimulationOneProfile/data/simulations/0.5/pbmc_sc_with_metadata_cpm_pc_cell_type_profiles.csv/pbmc_sc_with_metadata_cpm_pc_cell_type_profiles_n_sim_90_profiles.csv', '/space/grp/aadrian/Pseudobulk_Function_Pipeline_HighRes/bin/bulkSimulationOneProfile/data/simulations/0.5/pbmc_sc_with_metadata_cpm_pc_cell_type_profiles.csv/pbmc_sc_with_metadata_cpm_pc_cell_type_profiles_n_sim_67_profiles.csv', '/space/grp/aadrian/Pseudobulk_Function_Pipeline_HighRes/bin/bulkSimulationOneProfile/data/simulations/0.5/pbmc_sc_with_metadata_cpm_pc_cell_type_profiles.csv/pbmc_sc_with_metadata_cpm_pc_cell_type_profiles_n_sim_34_profiles.csv', '/space/grp/aadrian/Pseudobulk_Function_Pipeline_HighRes/bin/bulkSimulationOneProfile/data/simulations/0.5/pbmc_sc_with_metadata_cpm_pc_cell_type_profiles.csv/pbmc_sc_with_metadata_cpm_pc_cell_type_profiles_n_sim_92_profiles.csv', '/space/grp/aadrian/Pseudobulk_Function_Pipeline_HighRes/bin/bulkSimulationOneProfile/data/simulations/0.5/pbmc_sc_with_metadata_cpm_pc_cell_type_profiles.csv/pbmc_sc_with_metadata_cpm_pc_cell_type_profiles_n_sim_93_profiles.csv', '/space/grp/aadrian/Pseudobulk_Function_Pipeline_HighRes/bin/bulkSimulationOneProfile/data/simulations/0.5/pbmc_sc_with_metadata_cpm_pc_cell_type_profiles.csv/pbmc_sc_with_metadata_cpm_pc_cell_type_profiles_n_sim_66_profiles.csv', '/space/grp/aadrian/Pseudobulk_Function_Pipeline_HighRes/bin/bulkSimulationOneProfile/data/simulations/0.5/pbmc_sc_with_metadata_cpm_pc_cell_type_profiles.csv/pbmc_sc_with_metadata_cpm_pc_cell_type_profiles_n_sim_35_profiles.csv', '/space/grp/aadrian/Pseudobulk_Function_Pipeline_HighRes/bin/bulkSimulationOneProfile/data/simulations/0.5/pbmc_sc_with_metadata_cpm_pc_cell_type_profiles.csv/pbmc_sc_with_metadata_cpm_pc_cell_type_profiles_n_sim_14_profiles.csv', '/space/grp/aadrian/Pseudobulk_Function_Pipeline_HighRes/bin/bulkSimulationOneProfile/data/simulations/0.5/pbmc_sc_with_metadata_cpm_pc_cell_type_profiles.csv/pbmc_sc_with_metadata_cpm_pc_cell_type_profiles_n_sim_47_profiles.csv', '/space/grp/aadrian/Pseudobulk_Function_Pipeline_HighRes/bin/bulkSimulationOneProfile/data/simulations/0.5/pbmc_sc_with_metadata_cpm_pc_cell_type_profiles.csv/pbmc_sc_with_metadata_cpm_pc_cell_type_profiles_n_sim_98_profiles.csv', '/space/grp/aadrian/Pseudobulk_Function_Pipeline_HighRes/bin/bulkSimulationOneProfile/data/simulations/0.5/pbmc_sc_with_metadata_cpm_pc_cell_type_profiles.csv/pbmc_sc_with_metadata_cpm_pc_cell_type_profiles_n_sim_15_profiles.csv', '/space/grp/aadrian/Pseudobulk_Function_Pipeline_HighRes/bin/bulkSimulationOneProfile/data/simulations/0.5/pbmc_sc_with_metadata_cpm_pc_cell_type_profiles.csv/pbmc_sc_with_metadata_cpm_pc_cell_type_profiles_n_sim_99_profiles.csv', '/space/grp/aadrian/Pseudobulk_Function_Pipeline_HighRes/bin/bulkSimulationOneProfile/data/simulations/0.5/pbmc_sc_with_metadata_cpm_pc_cell_type_profiles.csv/pbmc_sc_with_metadata_cpm_pc_cell_type_profiles_n_sim_46_profiles.csv', '/space/grp/aadrian/Pseudobulk_Function_Pipeline_HighRes/bin/bulkSimulationOneProfile/data/simulations/0.5/pbmc_sc_with_metadata_cpm_pc_cell_type_profiles.csv/pbmc_sc_with_metadata_cpm_pc_cell_type_profiles_n_sim_44_profiles.csv', '/space/grp/aadrian/Pseudobulk_Function_Pipeline_HighRes/bin/bulkSimulationOneProfile/data/simulations/0.5/pbmc_sc_with_metadata_cpm_pc_cell_type_profiles.csv/pbmc_sc_with_metadata_cpm_pc_cell_type_profiles_n_sim_17_profiles.csv', '/space/grp/aadrian/Pseudobulk_Function_Pipeline_HighRes/bin/bulkSimulationOneProfile/data/simulations/0.5/pbmc_sc_with_metadata_cpm_pc_cell_type_profiles.csv/pbmc_sc_with_metadata_cpm_pc_cell_type_profiles_n_sim_45_profiles.csv', '/space/grp/aadrian/Pseudobulk_Function_Pipeline_HighRes/bin/bulkSimulationOneProfile/data/simulations/0.5/pbmc_sc_with_metadata_cpm_pc_cell_type_profiles.csv/pbmc_sc_with_metadata_cpm_pc_cell_type_profiles_n_sim_16_profiles.csv', '/space/grp/aadrian/Pseudobulk_Function_Pipeline_HighRes/bin/bulkSimulationOneProfile/data/simulations/0.5/pbmc_sc_with_metadata_cpm_pc_cell_type_profiles.csv/pbmc_sc_with_metadata_cpm_pc_cell_type_profiles_n_sim_13_profiles.csv', '/space/grp/aadrian/Pseudobulk_Function_Pipeline_HighRes/bin/bulkSimulationOneProfile/data/simulations/0.5/pbmc_sc_with_metadata_cpm_pc_cell_type_profiles.csv/pbmc_sc_with_metadata_cpm_pc_cell_type_profiles_n_sim_40_profiles.csv', '/space/grp/aadrian/Pseudobulk_Function_Pipeline_HighRes/bin/bulkSimulationOneProfile/data/simulations/0.5/pbmc_sc_with_metadata_cpm_pc_cell_type_profiles.csv/pbmc_sc_with_metadata_cpm_pc_cell_type_profiles_n_sim_39_profiles.csv', '/space/grp/aadrian/Pseudobulk_Function_Pipeline_HighRes/bin/bulkSimulationOneProfile/data/simulations/0.5/pbmc_sc_with_metadata_cpm_pc_cell_type_profiles.csv/pbmc_sc_with_metadata_cpm_pc_cell_type_profiles_n_sim_38_profiles.csv', '/space/grp/aadrian/Pseudobulk_Function_Pipeline_HighRes/bin/bulkSimulationOneProfile/data/simulations/0.5/pbmc_sc_with_metadata_cpm_pc_cell_type_profiles.csv/pbmc_sc_with_metadata_cpm_pc_cell_type_profiles_n_sim_12_profiles.csv', '/space/grp/aadrian/Pseudobulk_Function_Pipeline_HighRes/bin/bulkSimulationOneProfile/data/simulations/0.5/pbmc_sc_with_metadata_cpm_pc_cell_type_profiles.csv/pbmc_sc_with_metadata_cpm_pc_cell_type_profiles_n_sim_41_profiles.csv', '/space/grp/aadrian/Pseudobulk_Function_Pipeline_HighRes/bin/bulkSimulationOneProfile/data/simulations/0.5/pbmc_sc_with_metadata_cpm_pc_cell_type_profiles.csv/pbmc_sc_with_metadata_cpm_pc_cell_type_profiles_n_sim_69_profiles.csv', '/space/grp/aadrian/Pseudobulk_Function_Pipeline_HighRes/bin/bulkSimulationOneProfile/data/simulations/0.5/pbmc_sc_with_metadata_cpm_pc_cell_type_profiles.csv/pbmc_sc_with_metadata_cpm_pc_cell_type_profiles_n_sim_43_profiles.csv', '/space/grp/aadrian/Pseudobulk_Function_Pipeline_HighRes/bin/bulkSimulationOneProfile/data/simulations/0.5/pbmc_sc_with_metadata_cpm_pc_cell_type_profiles.csv/pbmc_sc_with_metadata_cpm_pc_cell_type_profiles_n_sim_10_profiles.csv', '/space/grp/aadrian/Pseudobulk_Function_Pipeline_HighRes/bin/bulkSimulationOneProfile/data/simulations/0.5/pbmc_sc_with_metadata_cpm_pc_cell_type_profiles.csv/pbmc_sc_with_metadata_cpm_pc_cell_type_profiles_n_sim_42_profiles.csv', '/space/grp/aadrian/Pseudobulk_Function_Pipeline_HighRes/bin/bulkSimulationOneProfile/data/simulations/0.5/pbmc_sc_with_metadata_cpm_pc_cell_type_profiles.csv/pbmc_sc_with_metadata_cpm_pc_cell_type_profiles_n_sim_11_profiles.csv', '/space/grp/aadrian/Pseudobulk_Function_Pipeline_HighRes/bin/bulkSimulationOneProfile/data/simulations/0.5/pbmc_sc_with_metadata_cpm_pc_cell_type_profiles.csv/pbmc_sc_with_metadata_cpm_pc_cell_type_profiles_n_sim_68_profiles.csv'], ['/space/grp/aadrian/Pseudobulk_Function_Pipeline_HighRes/bin/bulkSimulationOneProfile/data/simulations/0.04/pbmc_sc_with_metadata_cpm_pc_cell_type_profiles.csv/pbmc_sc_with_metadata_cpm_pc_cell_type_profiles_n_sim_96_profiles.csv', '/space/grp/aadrian/Pseudobulk_Function_Pipeline_HighRes/bin/bulkSimulationOneProfile/data/simulations/0.04/pbmc_sc_with_metadata_cpm_pc_cell_type_profiles.csv/pbmc_sc_with_metadata_cpm_pc_cell_type_profiles_n_sim_49_profiles.csv', '/space/grp/aadrian/Pseudobulk_Function_Pipeline_HighRes/bin/bulkSimulationOneProfile/data/simulations/0.04/pbmc_sc_with_metadata_cpm_pc_cell_type_profiles.csv/pbmc_sc_with_metadata_cpm_pc_cell_type_profiles_n_sim_6_profiles.csv', '/space/grp/aadrian/Pseudobulk_Function_Pipeline_HighRes/bin/bulkSimulationOneProfile/data/simulations/0.04/pbmc_sc_with_metadata_cpm_pc_cell_type_profiles.csv/pbmc_sc_with_metadata_cpm_pc_cell_type_profiles_n_sim_63_profiles.csv', '/space/grp/aadrian/Pseudobulk_Function_Pipeline_HighRes/bin/bulkSimulationOneProfile/data/simulations/0.04/pbmc_sc_with_metadata_cpm_pc_cell_type_profiles.csv/pbmc_sc_with_metadata_cpm_pc_cell_type_profiles_n_sim_30_profiles.csv', '/space/grp/aadrian/Pseudobulk_Function_Pipeline_HighRes/bin/bulkSimulationOneProfile/data/simulations/0.04/pbmc_sc_with_metadata_cpm_pc_cell_type_profiles.csv/pbmc_sc_with_metadata_cpm_pc_cell_type_profiles_n_sim_62_profiles.csv', '/space/grp/aadrian/Pseudobulk_Function_Pipeline_HighRes/bin/bulkSimulationOneProfile/data/simulations/0.04/pbmc_sc_with_metadata_cpm_pc_cell_type_profiles.csv/pbmc_sc_with_metadata_cpm_pc_cell_type_profiles_n_sim_31_profiles.csv', '/space/grp/aadrian/Pseudobulk_Function_Pipeline_HighRes/bin/bulkSimulationOneProfile/data/simulations/0.04/pbmc_sc_with_metadata_cpm_pc_cell_type_profiles.csv/pbmc_sc_with_metadata_cpm_pc_cell_type_profiles_n_sim_7_profiles.csv', '/space/grp/aadrian/Pseudobulk_Function_Pipeline_HighRes/bin/bulkSimulationOneProfile/data/simulations/0.04/pbmc_sc_with_metadata_cpm_pc_cell_type_profiles.csv/pbmc_sc_with_metadata_cpm_pc_cell_type_profiles_n_sim_48_profiles.csv', '/space/grp/aadrian/Pseudobulk_Function_Pipeline_HighRes/bin/bulkSimulationOneProfile/data/simulations/0.04/pbmc_sc_with_metadata_cpm_pc_cell_type_profiles.csv/pbmc_sc_with_metadata_cpm_pc_cell_type_profiles_n_sim_97_profiles.csv', '/space/grp/aadrian/Pseudobulk_Function_Pipeline_HighRes/bin/bulkSimulationOneProfile/data/simulations/0.04/pbmc_sc_with_metadata_cpm_pc_cell_type_profiles.csv/pbmc_sc_with_metadata_cpm_pc_cell_type_profiles_n_sim_33_profiles.csv', '/space/grp/aadrian/Pseudobulk_Function_Pipeline_HighRes/bin/bulkSimulationOneProfile/data/simulations/0.04/pbmc_sc_with_metadata_cpm_pc_cell_type_profiles.csv/pbmc_sc_with_metadata_cpm_pc_cell_type_profiles_n_sim_60_profiles.csv', '/space/grp/aadrian/Pseudobulk_Function_Pipeline_HighRes/bin/bulkSimulationOneProfile/data/simulations/0.04/pbmc_sc_with_metadata_cpm_pc_cell_type_profiles.csv/pbmc_sc_with_metadata_cpm_pc_cell_type_profiles_n_sim_95_profiles.csv', '/space/grp/aadrian/Pseudobulk_Function_Pipeline_HighRes/bin/bulkSimulationOneProfile/data/simulations/0.04/pbmc_sc_with_metadata_cpm_pc_cell_type_profiles.csv/pbmc_sc_with_metadata_cpm_pc_cell_type_profiles_n_sim_5_profiles.csv', '/space/grp/aadrian/Pseudobulk_Function_Pipeline_HighRes/bin/bulkSimulationOneProfile/data/simulations/0.04/pbmc_sc_with_metadata_cpm_pc_cell_type_profiles.csv/pbmc_sc_with_metadata_cpm_pc_cell_type_profiles_n_sim_19_profiles.csv', '/space/grp/aadrian/Pseudobulk_Function_Pipeline_HighRes/bin/bulkSimulationOneProfile/data/simulations/0.04/pbmc_sc_with_metadata_cpm_pc_cell_type_profiles.csv/pbmc_sc_with_metadata_cpm_pc_cell_type_profiles_n_sim_4_profiles.csv', '/space/grp/aadrian/Pseudobulk_Function_Pipeline_HighRes/bin/bulkSimulationOneProfile/data/simulations/0.04/pbmc_sc_with_metadata_cpm_pc_cell_type_profiles.csv/pbmc_sc_with_metadata_cpm_pc_cell_type_profiles_n_sim_94_profiles.csv', '/space/grp/aadrian/Pseudobulk_Function_Pipeline_HighRes/bin/bulkSimulationOneProfile/data/simulations/0.04/pbmc_sc_with_metadata_cpm_pc_cell_type_profiles.csv/pbmc_sc_with_metadata_cpm_pc_cell_type_profiles_n_sim_18_profiles.csv', '/space/grp/aadrian/Pseudobulk_Function_Pipeline_HighRes/bin/bulkSimulationOneProfile/data/simulations/0.04/pbmc_sc_with_metadata_cpm_pc_cell_type_profiles.csv/pbmc_sc_with_metadata_cpm_pc_cell_type_profiles_n_sim_32_profiles.csv', '/space/grp/aadrian/Pseudobulk_Function_Pipeline_HighRes/bin/bulkSimulationOneProfile/data/simulations/0.04/pbmc_sc_with_metadata_cpm_pc_cell_type_profiles.csv/pbmc_sc_with_metadata_cpm_pc_cell_type_profiles_n_sim_61_profiles.csv', '/space/grp/aadrian/Pseudobulk_Function_Pipeline_HighRes/bin/bulkSimulationOneProfile/data/simulations/0.04/pbmc_sc_with_metadata_cpm_pc_cell_type_profiles.csv/pbmc_sc_with_metadata_cpm_pc_cell_type_profiles_n_sim_1_profiles.csv', '/space/grp/aadrian/Pseudobulk_Function_Pipeline_HighRes/bin/bulkSimulationOneProfile/data/simulations/0.04/pbmc_sc_with_metadata_cpm_pc_cell_type_profiles.csv/pbmc_sc_with_metadata_cpm_pc_cell_type_profiles_n_sim_91_profiles.csv', '/space/grp/aadrian/Pseudobulk_Function_Pipeline_HighRes/bin/bulkSimulationOneProfile/data/simulations/0.04/pbmc_sc_with_metadata_cpm_pc_cell_type_profiles.csv/pbmc_sc_with_metadata_cpm_pc_cell_type_profiles_n_sim_64_profiles.csv', '/space/grp/aadrian/Pseudobulk_Function_Pipeline_HighRes/bin/bulkSimulationOneProfile/data/simulations/0.04/pbmc_sc_with_metadata_cpm_pc_cell_type_profiles.csv/pbmc_sc_with_metadata_cpm_pc_cell_type_profiles_n_sim_37_profiles.csv', '/space/grp/aadrian/Pseudobulk_Function_Pipeline_HighRes/bin/bulkSimulationOneProfile/data/simulations/0.04/pbmc_sc_with_metadata_cpm_pc_cell_type_profiles.csv/pbmc_sc_with_metadata_cpm_pc_cell_type_profiles_n_sim_65_profiles.csv', '/space/grp/aadrian/Pseudobulk_Function_Pipeline_HighRes/bin/bulkSimulationOneProfile/data/simulations/0.04/pbmc_sc_with_metadata_cpm_pc_cell_type_profiles.csv/pbmc_sc_with_metadata_cpm_pc_cell_type_profiles_n_sim_36_profiles.csv', '/space/grp/aadrian/Pseudobulk_Function_Pipeline_HighRes/bin/bulkSimulationOneProfile/data/simulations/0.04/pbmc_sc_with_metadata_cpm_pc_cell_type_profiles.csv/pbmc_sc_with_metadata_cpm_pc_cell_type_profiles_n_sim_90_profiles.csv', '/space/grp/aadrian/Pseudobulk_Function_Pipeline_HighRes/bin/bulkSimulationOneProfile/data/simulations/0.04/pbmc_sc_with_metadata_cpm_pc_cell_type_profiles.csv/pbmc_sc_with_metadata_cpm_pc_cell_type_profiles_n_sim_0_profiles.csv', '/space/grp/aadrian/Pseudobulk_Function_Pipeline_HighRes/bin/bulkSimulationOneProfile/data/simulations/0.04/pbmc_sc_with_metadata_cpm_pc_cell_type_profiles.csv/pbmc_sc_with_metadata_cpm_pc_cell_type_profiles_n_sim_34_profiles.csv', '/space/grp/aadrian/Pseudobulk_Function_Pipeline_HighRes/bin/bulkSimulationOneProfile/data/simulations/0.04/pbmc_sc_with_metadata_cpm_pc_cell_type_profiles.csv/pbmc_sc_with_metadata_cpm_pc_cell_type_profiles_n_sim_67_profiles.csv', '/space/grp/aadrian/Pseudobulk_Function_Pipeline_HighRes/bin/bulkSimulationOneProfile/data/simulations/0.04/pbmc_sc_with_metadata_cpm_pc_cell_type_profiles.csv/pbmc_sc_with_metadata_cpm_pc_cell_type_profiles_n_sim_2_profiles.csv', '/space/grp/aadrian/Pseudobulk_Function_Pipeline_HighRes/bin/bulkSimulationOneProfile/data/simulations/0.04/pbmc_sc_with_metadata_cpm_pc_cell_type_profiles.csv/pbmc_sc_with_metadata_cpm_pc_cell_type_profiles_n_sim_92_profiles.csv', '/space/grp/aadrian/Pseudobulk_Function_Pipeline_HighRes/bin/bulkSimulationOneProfile/data/simulations/0.04/pbmc_sc_with_metadata_cpm_pc_cell_type_profiles.csv/pbmc_sc_with_metadata_cpm_pc_cell_type_profiles_n_sim_93_profiles.csv', '/space/grp/aadrian/Pseudobulk_Function_Pipeline_HighRes/bin/bulkSimulationOneProfile/data/simulations/0.04/pbmc_sc_with_metadata_cpm_pc_cell_type_profiles.csv/pbmc_sc_with_metadata_cpm_pc_cell_type_profiles_n_sim_3_profiles.csv', '/space/grp/aadrian/Pseudobulk_Function_Pipeline_HighRes/bin/bulkSimulationOneProfile/data/simulations/0.04/pbmc_sc_with_metadata_cpm_pc_cell_type_profiles.csv/pbmc_sc_with_metadata_cpm_pc_cell_type_profiles_n_sim_35_profiles.csv', '/space/grp/aadrian/Pseudobulk_Function_Pipeline_HighRes/bin/bulkSimulationOneProfile/data/simulations/0.04/pbmc_sc_with_metadata_cpm_pc_cell_type_profiles.csv/pbmc_sc_with_metadata_cpm_pc_cell_type_profiles_n_sim_66_profiles.csv', '/space/grp/aadrian/Pseudobulk_Function_Pipeline_HighRes/bin/bulkSimulationOneProfile/data/simulations/0.04/pbmc_sc_with_metadata_cpm_pc_cell_type_profiles.csv/pbmc_sc_with_metadata_cpm_pc_cell_type_profiles_n_sim_98_profiles.csv', '/space/grp/aadrian/Pseudobulk_Function_Pipeline_HighRes/bin/bulkSimulationOneProfile/data/simulations/0.04/pbmc_sc_with_metadata_cpm_pc_cell_type_profiles.csv/pbmc_sc_with_metadata_cpm_pc_cell_type_profiles_n_sim_47_profiles.csv', '/space/grp/aadrian/Pseudobulk_Function_Pipeline_HighRes/bin/bulkSimulationOneProfile/data/simulations/0.04/pbmc_sc_with_metadata_cpm_pc_cell_type_profiles.csv/pbmc_sc_with_metadata_cpm_pc_cell_type_profiles_n_sim_8_profiles.csv', '/space/grp/aadrian/Pseudobulk_Function_Pipeline_HighRes/bin/bulkSimulationOneProfile/data/simulations/0.04/pbmc_sc_with_metadata_cpm_pc_cell_type_profiles.csv/pbmc_sc_with_metadata_cpm_pc_cell_type_profiles_n_sim_14_profiles.csv', '/space/grp/aadrian/Pseudobulk_Function_Pipeline_HighRes/bin/bulkSimulationOneProfile/data/simulations/0.04/pbmc_sc_with_metadata_cpm_pc_cell_type_profiles.csv/pbmc_sc_with_metadata_cpm_pc_cell_type_profiles_n_sim_9_profiles.csv', '/space/grp/aadrian/Pseudobulk_Function_Pipeline_HighRes/bin/bulkSimulationOneProfile/data/simulations/0.04/pbmc_sc_with_metadata_cpm_pc_cell_type_profiles.csv/pbmc_sc_with_metadata_cpm_pc_cell_type_profiles_n_sim_46_profiles.csv', '/space/grp/aadrian/Pseudobulk_Function_Pipeline_HighRes/bin/bulkSimulationOneProfile/data/simulations/0.04/pbmc_sc_with_metadata_cpm_pc_cell_type_profiles.csv/pbmc_sc_with_metadata_cpm_pc_cell_type_profiles_n_sim_99_profiles.csv', '/space/grp/aadrian/Pseudobulk_Function_Pipeline_HighRes/bin/bulkSimulationOneProfile/data/simulations/0.04/pbmc_sc_with_metadata_cpm_pc_cell_type_profiles.csv/pbmc_sc_with_metadata_cpm_pc_cell_type_profiles_n_sim_15_profiles.csv', '/space/grp/aadrian/Pseudobulk_Function_Pipeline_HighRes/bin/bulkSimulationOneProfile/data/simulations/0.04/pbmc_sc_with_metadata_cpm_pc_cell_type_profiles.csv/pbmc_sc_with_metadata_cpm_pc_cell_type_profiles_n_sim_17_profiles.csv', '/space/grp/aadrian/Pseudobulk_Function_Pipeline_HighRes/bin/bulkSimulationOneProfile/data/simulations/0.04/pbmc_sc_with_metadata_cpm_pc_cell_type_profiles.csv/pbmc_sc_with_metadata_cpm_pc_cell_type_profiles_n_sim_44_profiles.csv', '/space/grp/aadrian/Pseudobulk_Function_Pipeline_HighRes/bin/bulkSimulationOneProfile/data/simulations/0.04/pbmc_sc_with_metadata_cpm_pc_cell_type_profiles.csv/pbmc_sc_with_metadata_cpm_pc_cell_type_profiles_n_sim_16_profiles.csv', '/space/grp/aadrian/Pseudobulk_Function_Pipeline_HighRes/bin/bulkSimulationOneProfile/data/simulations/0.04/pbmc_sc_with_metadata_cpm_pc_cell_type_profiles.csv/pbmc_sc_with_metadata_cpm_pc_cell_type_profiles_n_sim_45_profiles.csv', '/space/grp/aadrian/Pseudobulk_Function_Pipeline_HighRes/bin/bulkSimulationOneProfile/data/simulations/0.04/pbmc_sc_with_metadata_cpm_pc_cell_type_profiles.csv/pbmc_sc_with_metadata_cpm_pc_cell_type_profiles_n_sim_40_profiles.csv', '/space/grp/aadrian/Pseudobulk_Function_Pipeline_HighRes/bin/bulkSimulationOneProfile/data/simulations/0.04/pbmc_sc_with_metadata_cpm_pc_cell_type_profiles.csv/pbmc_sc_with_metadata_cpm_pc_cell_type_profiles_n_sim_13_profiles.csv', '/space/grp/aadrian/Pseudobulk_Function_Pipeline_HighRes/bin/bulkSimulationOneProfile/data/simulations/0.04/pbmc_sc_with_metadata_cpm_pc_cell_type_profiles.csv/pbmc_sc_with_metadata_cpm_pc_cell_type_profiles_n_sim_39_profiles.csv', '/space/grp/aadrian/Pseudobulk_Function_Pipeline_HighRes/bin/bulkSimulationOneProfile/data/simulations/0.04/pbmc_sc_with_metadata_cpm_pc_cell_type_profiles.csv/pbmc_sc_with_metadata_cpm_pc_cell_type_profiles_n_sim_38_profiles.csv', '/space/grp/aadrian/Pseudobulk_Function_Pipeline_HighRes/bin/bulkSimulationOneProfile/data/simulations/0.04/pbmc_sc_with_metadata_cpm_pc_cell_type_profiles.csv/pbmc_sc_with_metadata_cpm_pc_cell_type_profiles_n_sim_41_profiles.csv', '/space/grp/aadrian/Pseudobulk_Function_Pipeline_HighRes/bin/bulkSimulationOneProfile/data/simulations/0.04/pbmc_sc_with_metadata_cpm_pc_cell_type_profiles.csv/pbmc_sc_with_metadata_cpm_pc_cell_type_profiles_n_sim_12_profiles.csv', '/space/grp/aadrian/Pseudobulk_Function_Pipeline_HighRes/bin/bulkSimulationOneProfile/data/simulations/0.04/pbmc_sc_with_metadata_cpm_pc_cell_type_profiles.csv/pbmc_sc_with_metadata_cpm_pc_cell_type_profiles_n_sim_69_profiles.csv', '/space/grp/aadrian/Pseudobulk_Function_Pipeline_HighRes/bin/bulkSimulationOneProfile/data/simulations/0.04/pbmc_sc_with_metadata_cpm_pc_cell_type_profiles.csv/pbmc_sc_with_metadata_cpm_pc_cell_type_profiles_n_sim_10_profiles.csv', '/space/grp/aadrian/Pseudobulk_Function_Pipeline_HighRes/bin/bulkSimulationOneProfile/data/simulations/0.04/pbmc_sc_with_metadata_cpm_pc_cell_type_profiles.csv/pbmc_sc_with_metadata_cpm_pc_cell_type_profiles_n_sim_43_profiles.csv', '/space/grp/aadrian/Pseudobulk_Function_Pipeline_HighRes/bin/bulkSimulationOneProfile/data/simulations/0.04/pbmc_sc_with_metadata_cpm_pc_cell_type_profiles.csv/pbmc_sc_with_metadata_cpm_pc_cell_type_profiles_n_sim_11_profiles.csv', '/space/grp/aadrian/Pseudobulk_Function_Pipeline_HighRes/bin/bulkSimulationOneProfile/data/simulations/0.04/pbmc_sc_with_metadata_cpm_pc_cell_type_profiles.csv/pbmc_sc_with_metadata_cpm_pc_cell_type_profiles_n_sim_42_profiles.csv', '/space/grp/aadrian/Pseudobulk_Function_Pipeline_HighRes/bin/bulkSimulationOneProfile/data/simulations/0.04/pbmc_sc_with_metadata_cpm_pc_cell_type_profiles.csv/pbmc_sc_with_metadata_cpm_pc_cell_type_profiles_n_sim_68_profiles.csv', '/space/grp/aadrian/Pseudobulk_Function_Pipeline_HighRes/bin/bulkSimulationOneProfile/data/simulations/0.04/pbmc_sc_with_metadata_cpm_pc_cell_type_profiles.csv/pbmc_sc_with_metadata_cpm_pc_cell_type_profiles_n_sim_79_profiles.csv', '/space/grp/aadrian/Pseudobulk_Function_Pipeline_HighRes/bin/bulkSimulationOneProfile/data/simulations/0.04/pbmc_sc_with_metadata_cpm_pc_cell_type_profiles.csv/pbmc_sc_with_metadata_cpm_pc_cell_type_profiles_n_sim_53_profiles.csv', '/space/grp/aadrian/Pseudobulk_Function_Pipeline_HighRes/bin/bulkSimulationOneProfile/data/simulations/0.04/pbmc_sc_with_metadata_cpm_pc_cell_type_profiles.csv/pbmc_sc_with_metadata_cpm_pc_cell_type_profiles_n_sim_52_profiles.csv', '/space/grp/aadrian/Pseudobulk_Function_Pipeline_HighRes/bin/bulkSimulationOneProfile/data/simulations/0.04/pbmc_sc_with_metadata_cpm_pc_cell_type_profiles.csv/pbmc_sc_with_metadata_cpm_pc_cell_type_profiles_n_sim_78_profiles.csv', '/space/grp/aadrian/Pseudobulk_Function_Pipeline_HighRes/bin/bulkSimulationOneProfile/data/simulations/0.04/pbmc_sc_with_metadata_cpm_pc_cell_type_profiles.csv/pbmc_sc_with_metadata_cpm_pc_cell_type_profiles_n_sim_50_profiles.csv', '/space/grp/aadrian/Pseudobulk_Function_Pipeline_HighRes/bin/bulkSimulationOneProfile/data/simulations/0.04/pbmc_sc_with_metadata_cpm_pc_cell_type_profiles.csv/pbmc_sc_with_metadata_cpm_pc_cell_type_profiles_n_sim_29_profiles.csv', '/space/grp/aadrian/Pseudobulk_Function_Pipeline_HighRes/bin/bulkSimulationOneProfile/data/simulations/0.04/pbmc_sc_with_metadata_cpm_pc_cell_type_profiles.csv/pbmc_sc_with_metadata_cpm_pc_cell_type_profiles_n_sim_28_profiles.csv', '/space/grp/aadrian/Pseudobulk_Function_Pipeline_HighRes/bin/bulkSimulationOneProfile/data/simulations/0.04/pbmc_sc_with_metadata_cpm_pc_cell_type_profiles.csv/pbmc_sc_with_metadata_cpm_pc_cell_type_profiles_n_sim_51_profiles.csv', '/space/grp/aadrian/Pseudobulk_Function_Pipeline_HighRes/bin/bulkSimulationOneProfile/data/simulations/0.04/pbmc_sc_with_metadata_cpm_pc_cell_type_profiles.csv/pbmc_sc_with_metadata_cpm_pc_cell_type_profiles_n_sim_54_profiles.csv', '/space/grp/aadrian/Pseudobulk_Function_Pipeline_HighRes/bin/bulkSimulationOneProfile/data/simulations/0.04/pbmc_sc_with_metadata_cpm_pc_cell_type_profiles.csv/pbmc_sc_with_metadata_cpm_pc_cell_type_profiles_n_sim_55_profiles.csv', '/space/grp/aadrian/Pseudobulk_Function_Pipeline_HighRes/bin/bulkSimulationOneProfile/data/simulations/0.04/pbmc_sc_with_metadata_cpm_pc_cell_type_profiles.csv/pbmc_sc_with_metadata_cpm_pc_cell_type_profiles_n_sim_88_profiles.csv', '/space/grp/aadrian/Pseudobulk_Function_Pipeline_HighRes/bin/bulkSimulationOneProfile/data/simulations/0.04/pbmc_sc_with_metadata_cpm_pc_cell_type_profiles.csv/pbmc_sc_with_metadata_cpm_pc_cell_type_profiles_n_sim_57_profiles.csv', '/space/grp/aadrian/Pseudobulk_Function_Pipeline_HighRes/bin/bulkSimulationOneProfile/data/simulations/0.04/pbmc_sc_with_metadata_cpm_pc_cell_type_profiles.csv/pbmc_sc_with_metadata_cpm_pc_cell_type_profiles_n_sim_56_profiles.csv', '/space/grp/aadrian/Pseudobulk_Function_Pipeline_HighRes/bin/bulkSimulationOneProfile/data/simulations/0.04/pbmc_sc_with_metadata_cpm_pc_cell_type_profiles.csv/pbmc_sc_with_metadata_cpm_pc_cell_type_profiles_n_sim_89_profiles.csv', '/space/grp/aadrian/Pseudobulk_Function_Pipeline_HighRes/bin/bulkSimulationOneProfile/data/simulations/0.04/pbmc_sc_with_metadata_cpm_pc_cell_type_profiles.csv/pbmc_sc_with_metadata_cpm_pc_cell_type_profiles_n_sim_24_profiles.csv', '/space/grp/aadrian/Pseudobulk_Function_Pipeline_HighRes/bin/bulkSimulationOneProfile/data/simulations/0.04/pbmc_sc_with_metadata_cpm_pc_cell_type_profiles.csv/pbmc_sc_with_metadata_cpm_pc_cell_type_profiles_n_sim_77_profiles.csv', '/space/grp/aadrian/Pseudobulk_Function_Pipeline_HighRes/bin/bulkSimulationOneProfile/data/simulations/0.04/pbmc_sc_with_metadata_cpm_pc_cell_type_profiles.csv/pbmc_sc_with_metadata_cpm_pc_cell_type_profiles_n_sim_82_profiles.csv', '/space/grp/aadrian/Pseudobulk_Function_Pipeline_HighRes/bin/bulkSimulationOneProfile/data/simulations/0.04/pbmc_sc_with_metadata_cpm_pc_cell_type_profiles.csv/pbmc_sc_with_metadata_cpm_pc_cell_type_profiles_n_sim_83_profiles.csv', '/space/grp/aadrian/Pseudobulk_Function_Pipeline_HighRes/bin/bulkSimulationOneProfile/data/simulations/0.04/pbmc_sc_with_metadata_cpm_pc_cell_type_profiles.csv/pbmc_sc_with_metadata_cpm_pc_cell_type_profiles_n_sim_25_profiles.csv', '/space/grp/aadrian/Pseudobulk_Function_Pipeline_HighRes/bin/bulkSimulationOneProfile/data/simulations/0.04/pbmc_sc_with_metadata_cpm_pc_cell_type_profiles.csv/pbmc_sc_with_metadata_cpm_pc_cell_type_profiles_n_sim_76_profiles.csv', '/space/grp/aadrian/Pseudobulk_Function_Pipeline_HighRes/bin/bulkSimulationOneProfile/data/simulations/0.04/pbmc_sc_with_metadata_cpm_pc_cell_type_profiles.csv/pbmc_sc_with_metadata_cpm_pc_cell_type_profiles_n_sim_81_profiles.csv', '/space/grp/aadrian/Pseudobulk_Function_Pipeline_HighRes/bin/bulkSimulationOneProfile/data/simulations/0.04/pbmc_sc_with_metadata_cpm_pc_cell_type_profiles.csv/pbmc_sc_with_metadata_cpm_pc_cell_type_profiles_n_sim_74_profiles.csv', '/space/grp/aadrian/Pseudobulk_Function_Pipeline_HighRes/bin/bulkSimulationOneProfile/data/simulations/0.04/pbmc_sc_with_metadata_cpm_pc_cell_type_profiles.csv/pbmc_sc_with_metadata_cpm_pc_cell_type_profiles_n_sim_27_profiles.csv', '/space/grp/aadrian/Pseudobulk_Function_Pipeline_HighRes/bin/bulkSimulationOneProfile/data/simulations/0.04/pbmc_sc_with_metadata_cpm_pc_cell_type_profiles.csv/pbmc_sc_with_metadata_cpm_pc_cell_type_profiles_n_sim_75_profiles.csv', '/space/grp/aadrian/Pseudobulk_Function_Pipeline_HighRes/bin/bulkSimulationOneProfile/data/simulations/0.04/pbmc_sc_with_metadata_cpm_pc_cell_type_profiles.csv/pbmc_sc_with_metadata_cpm_pc_cell_type_profiles_n_sim_26_profiles.csv', '/space/grp/aadrian/Pseudobulk_Function_Pipeline_HighRes/bin/bulkSimulationOneProfile/data/simulations/0.04/pbmc_sc_with_metadata_cpm_pc_cell_type_profiles.csv/pbmc_sc_with_metadata_cpm_pc_cell_type_profiles_n_sim_80_profiles.csv', '/space/grp/aadrian/Pseudobulk_Function_Pipeline_HighRes/bin/bulkSimulationOneProfile/data/simulations/0.04/pbmc_sc_with_metadata_cpm_pc_cell_type_profiles.csv/pbmc_sc_with_metadata_cpm_pc_cell_type_profiles_n_sim_23_profiles.csv', '/space/grp/aadrian/Pseudobulk_Function_Pipeline_HighRes/bin/bulkSimulationOneProfile/data/simulations/0.04/pbmc_sc_with_metadata_cpm_pc_cell_type_profiles.csv/pbmc_sc_with_metadata_cpm_pc_cell_type_profiles_n_sim_70_profiles.csv', '/space/grp/aadrian/Pseudobulk_Function_Pipeline_HighRes/bin/bulkSimulationOneProfile/data/simulations/0.04/pbmc_sc_with_metadata_cpm_pc_cell_type_profiles.csv/pbmc_sc_with_metadata_cpm_pc_cell_type_profiles_n_sim_85_profiles.csv', '/space/grp/aadrian/Pseudobulk_Function_Pipeline_HighRes/bin/bulkSimulationOneProfile/data/simulations/0.04/pbmc_sc_with_metadata_cpm_pc_cell_type_profiles.csv/pbmc_sc_with_metadata_cpm_pc_cell_type_profiles_n_sim_84_profiles.csv', '/space/grp/aadrian/Pseudobulk_Function_Pipeline_HighRes/bin/bulkSimulationOneProfile/data/simulations/0.04/pbmc_sc_with_metadata_cpm_pc_cell_type_profiles.csv/pbmc_sc_with_metadata_cpm_pc_cell_type_profiles_n_sim_22_profiles.csv', '/space/grp/aadrian/Pseudobulk_Function_Pipeline_HighRes/bin/bulkSimulationOneProfile/data/simulations/0.04/pbmc_sc_with_metadata_cpm_pc_cell_type_profiles.csv/pbmc_sc_with_metadata_cpm_pc_cell_type_profiles_n_sim_71_profiles.csv', '/space/grp/aadrian/Pseudobulk_Function_Pipeline_HighRes/bin/bulkSimulationOneProfile/data/simulations/0.04/pbmc_sc_with_metadata_cpm_pc_cell_type_profiles.csv/pbmc_sc_with_metadata_cpm_pc_cell_type_profiles_n_sim_86_profiles.csv', '/space/grp/aadrian/Pseudobulk_Function_Pipeline_HighRes/bin/bulkSimulationOneProfile/data/simulations/0.04/pbmc_sc_with_metadata_cpm_pc_cell_type_profiles.csv/pbmc_sc_with_metadata_cpm_pc_cell_type_profiles_n_sim_59_profiles.csv', '/space/grp/aadrian/Pseudobulk_Function_Pipeline_HighRes/bin/bulkSimulationOneProfile/data/simulations/0.04/pbmc_sc_with_metadata_cpm_pc_cell_type_profiles.csv/pbmc_sc_with_metadata_cpm_pc_cell_type_profiles_n_sim_73_profiles.csv', '/space/grp/aadrian/Pseudobulk_Function_Pipeline_HighRes/bin/bulkSimulationOneProfile/data/simulations/0.04/pbmc_sc_with_metadata_cpm_pc_cell_type_profiles.csv/pbmc_sc_with_metadata_cpm_pc_cell_type_profiles_n_sim_20_profiles.csv', '/space/grp/aadrian/Pseudobulk_Function_Pipeline_HighRes/bin/bulkSimulationOneProfile/data/simulations/0.04/pbmc_sc_with_metadata_cpm_pc_cell_type_profiles.csv/pbmc_sc_with_metadata_cpm_pc_cell_type_profiles_n_sim_72_profiles.csv', '/space/grp/aadrian/Pseudobulk_Function_Pipeline_HighRes/bin/bulkSimulationOneProfile/data/simulations/0.04/pbmc_sc_with_metadata_cpm_pc_cell_type_profiles.csv/pbmc_sc_with_metadata_cpm_pc_cell_type_profiles_n_sim_21_profiles.csv', '/space/grp/aadrian/Pseudobulk_Function_Pipeline_HighRes/bin/bulkSimulationOneProfile/data/simulations/0.04/pbmc_sc_with_metadata_cpm_pc_cell_type_profiles.csv/pbmc_sc_with_metadata_cpm_pc_cell_type_profiles_n_sim_58_profiles.csv', '/space/grp/aadrian/Pseudobulk_Function_Pipeline_HighRes/bin/bulkSimulationOneProfile/data/simulations/0.04/pbmc_sc_with_metadata_cpm_pc_cell_type_profiles.csv/pbmc_sc_with_metadata_cpm_pc_cell_type_profiles_n_sim_87_profiles.csv'], ['/space/grp/aadrian/Pseudobulk_Function_Pipeline_HighRes/bin/bulkSimulationOneProfile/data/simulations/0.035/pbmc_sc_with_metadata_cpm_pc_cell_type_profiles.csv/pbmc_sc_with_metadata_cpm_pc_cell_type_profiles_n_sim_29_profiles.csv', '/space/grp/aadrian/Pseudobulk_Function_Pipeline_HighRes/bin/bulkSimulationOneProfile/data/simulations/0.035/pbmc_sc_with_metadata_cpm_pc_cell_type_profiles.csv/pbmc_sc_with_metadata_cpm_pc_cell_type_profiles_n_sim_50_profiles.csv', '/space/grp/aadrian/Pseudobulk_Function_Pipeline_HighRes/bin/bulkSimulationOneProfile/data/simulations/0.035/pbmc_sc_with_metadata_cpm_pc_cell_type_profiles.csv/pbmc_sc_with_metadata_cpm_pc_cell_type_profiles_n_sim_51_profiles.csv', '/space/grp/aadrian/Pseudobulk_Function_Pipeline_HighRes/bin/bulkSimulationOneProfile/data/simulations/0.035/pbmc_sc_with_metadata_cpm_pc_cell_type_profiles.csv/pbmc_sc_with_metadata_cpm_pc_cell_type_profiles_n_sim_28_profiles.csv', '/space/grp/aadrian/Pseudobulk_Function_Pipeline_HighRes/bin/bulkSimulationOneProfile/data/simulations/0.035/pbmc_sc_with_metadata_cpm_pc_cell_type_profiles.csv/pbmc_sc_with_metadata_cpm_pc_cell_type_profiles_n_sim_53_profiles.csv', '/space/grp/aadrian/Pseudobulk_Function_Pipeline_HighRes/bin/bulkSimulationOneProfile/data/simulations/0.035/pbmc_sc_with_metadata_cpm_pc_cell_type_profiles.csv/pbmc_sc_with_metadata_cpm_pc_cell_type_profiles_n_sim_79_profiles.csv', '/space/grp/aadrian/Pseudobulk_Function_Pipeline_HighRes/bin/bulkSimulationOneProfile/data/simulations/0.035/pbmc_sc_with_metadata_cpm_pc_cell_type_profiles.csv/pbmc_sc_with_metadata_cpm_pc_cell_type_profiles_n_sim_78_profiles.csv', '/space/grp/aadrian/Pseudobulk_Function_Pipeline_HighRes/bin/bulkSimulationOneProfile/data/simulations/0.035/pbmc_sc_with_metadata_cpm_pc_cell_type_profiles.csv/pbmc_sc_with_metadata_cpm_pc_cell_type_profiles_n_sim_52_profiles.csv', '/space/grp/aadrian/Pseudobulk_Function_Pipeline_HighRes/bin/bulkSimulationOneProfile/data/simulations/0.035/pbmc_sc_with_metadata_cpm_pc_cell_type_profiles.csv/pbmc_sc_with_metadata_cpm_pc_cell_type_profiles_n_sim_57_profiles.csv', '/space/grp/aadrian/Pseudobulk_Function_Pipeline_HighRes/bin/bulkSimulationOneProfile/data/simulations/0.035/pbmc_sc_with_metadata_cpm_pc_cell_type_profiles.csv/pbmc_sc_with_metadata_cpm_pc_cell_type_profiles_n_sim_88_profiles.csv', '/space/grp/aadrian/Pseudobulk_Function_Pipeline_HighRes/bin/bulkSimulationOneProfile/data/simulations/0.035/pbmc_sc_with_metadata_cpm_pc_cell_type_profiles.csv/pbmc_sc_with_metadata_cpm_pc_cell_type_profiles_n_sim_89_profiles.csv', '/space/grp/aadrian/Pseudobulk_Function_Pipeline_HighRes/bin/bulkSimulationOneProfile/data/simulations/0.035/pbmc_sc_with_metadata_cpm_pc_cell_type_profiles.csv/pbmc_sc_with_metadata_cpm_pc_cell_type_profiles_n_sim_56_profiles.csv', '/space/grp/aadrian/Pseudobulk_Function_Pipeline_HighRes/bin/bulkSimulationOneProfile/data/simulations/0.035/pbmc_sc_with_metadata_cpm_pc_cell_type_profiles.csv/pbmc_sc_with_metadata_cpm_pc_cell_type_profiles_n_sim_54_profiles.csv', '/space/grp/aadrian/Pseudobulk_Function_Pipeline_HighRes/bin/bulkSimulationOneProfile/data/simulations/0.035/pbmc_sc_with_metadata_cpm_pc_cell_type_profiles.csv/pbmc_sc_with_metadata_cpm_pc_cell_type_profiles_n_sim_55_profiles.csv', '/space/grp/aadrian/Pseudobulk_Function_Pipeline_HighRes/bin/bulkSimulationOneProfile/data/simulations/0.035/pbmc_sc_with_metadata_cpm_pc_cell_type_profiles.csv/pbmc_sc_with_metadata_cpm_pc_cell_type_profiles_n_sim_74_profiles.csv', '/space/grp/aadrian/Pseudobulk_Function_Pipeline_HighRes/bin/bulkSimulationOneProfile/data/simulations/0.035/pbmc_sc_with_metadata_cpm_pc_cell_type_profiles.csv/pbmc_sc_with_metadata_cpm_pc_cell_type_profiles_n_sim_27_profiles.csv', '/space/grp/aadrian/Pseudobulk_Function_Pipeline_HighRes/bin/bulkSimulationOneProfile/data/simulations/0.035/pbmc_sc_with_metadata_cpm_pc_cell_type_profiles.csv/pbmc_sc_with_metadata_cpm_pc_cell_type_profiles_n_sim_81_profiles.csv', '/space/grp/aadrian/Pseudobulk_Function_Pipeline_HighRes/bin/bulkSimulationOneProfile/data/simulations/0.035/pbmc_sc_with_metadata_cpm_pc_cell_type_profiles.csv/pbmc_sc_with_metadata_cpm_pc_cell_type_profiles_n_sim_80_profiles.csv', '/space/grp/aadrian/Pseudobulk_Function_Pipeline_HighRes/bin/bulkSimulationOneProfile/data/simulations/0.035/pbmc_sc_with_metadata_cpm_pc_cell_type_profiles.csv/pbmc_sc_with_metadata_cpm_pc_cell_type_profiles_n_sim_75_profiles.csv', '/space/grp/aadrian/Pseudobulk_Function_Pipeline_HighRes/bin/bulkSimulationOneProfile/data/simulations/0.035/pbmc_sc_with_metadata_cpm_pc_cell_type_profiles.csv/pbmc_sc_with_metadata_cpm_pc_cell_type_profiles_n_sim_26_profiles.csv', '/space/grp/aadrian/Pseudobulk_Function_Pipeline_HighRes/bin/bulkSimulationOneProfile/data/simulations/0.035/pbmc_sc_with_metadata_cpm_pc_cell_type_profiles.csv/pbmc_sc_with_metadata_cpm_pc_cell_type_profiles_n_sim_82_profiles.csv', '/space/grp/aadrian/Pseudobulk_Function_Pipeline_HighRes/bin/bulkSimulationOneProfile/data/simulations/0.035/pbmc_sc_with_metadata_cpm_pc_cell_type_profiles.csv/pbmc_sc_with_metadata_cpm_pc_cell_type_profiles_n_sim_24_profiles.csv', '/space/grp/aadrian/Pseudobulk_Function_Pipeline_HighRes/bin/bulkSimulationOneProfile/data/simulations/0.035/pbmc_sc_with_metadata_cpm_pc_cell_type_profiles.csv/pbmc_sc_with_metadata_cpm_pc_cell_type_profiles_n_sim_77_profiles.csv', '/space/grp/aadrian/Pseudobulk_Function_Pipeline_HighRes/bin/bulkSimulationOneProfile/data/simulations/0.035/pbmc_sc_with_metadata_cpm_pc_cell_type_profiles.csv/pbmc_sc_with_metadata_cpm_pc_cell_type_profiles_n_sim_25_profiles.csv', '/space/grp/aadrian/Pseudobulk_Function_Pipeline_HighRes/bin/bulkSimulationOneProfile/data/simulations/0.035/pbmc_sc_with_metadata_cpm_pc_cell_type_profiles.csv/pbmc_sc_with_metadata_cpm_pc_cell_type_profiles_n_sim_76_profiles.csv', '/space/grp/aadrian/Pseudobulk_Function_Pipeline_HighRes/bin/bulkSimulationOneProfile/data/simulations/0.035/pbmc_sc_with_metadata_cpm_pc_cell_type_profiles.csv/pbmc_sc_with_metadata_cpm_pc_cell_type_profiles_n_sim_83_profiles.csv', '/space/grp/aadrian/Pseudobulk_Function_Pipeline_HighRes/bin/bulkSimulationOneProfile/data/simulations/0.035/pbmc_sc_with_metadata_cpm_pc_cell_type_profiles.csv/pbmc_sc_with_metadata_cpm_pc_cell_type_profiles_n_sim_73_profiles.csv', '/space/grp/aadrian/Pseudobulk_Function_Pipeline_HighRes/bin/bulkSimulationOneProfile/data/simulations/0.035/pbmc_sc_with_metadata_cpm_pc_cell_type_profiles.csv/pbmc_sc_with_metadata_cpm_pc_cell_type_profiles_n_sim_20_profiles.csv', '/space/grp/aadrian/Pseudobulk_Function_Pipeline_HighRes/bin/bulkSimulationOneProfile/data/simulations/0.035/pbmc_sc_with_metadata_cpm_pc_cell_type_profiles.csv/pbmc_sc_with_metadata_cpm_pc_cell_type_profiles_n_sim_59_profiles.csv', '/space/grp/aadrian/Pseudobulk_Function_Pipeline_HighRes/bin/bulkSimulationOneProfile/data/simulations/0.035/pbmc_sc_with_metadata_cpm_pc_cell_type_profiles.csv/pbmc_sc_with_metadata_cpm_pc_cell_type_profiles_n_sim_86_profiles.csv', '/space/grp/aadrian/Pseudobulk_Function_Pipeline_HighRes/bin/bulkSimulationOneProfile/data/simulations/0.035/pbmc_sc_with_metadata_cpm_pc_cell_type_profiles.csv/pbmc_sc_with_metadata_cpm_pc_cell_type_profiles_n_sim_87_profiles.csv', '/space/grp/aadrian/Pseudobulk_Function_Pipeline_HighRes/bin/bulkSimulationOneProfile/data/simulations/0.035/pbmc_sc_with_metadata_cpm_pc_cell_type_profiles.csv/pbmc_sc_with_metadata_cpm_pc_cell_type_profiles_n_sim_58_profiles.csv', '/space/grp/aadrian/Pseudobulk_Function_Pipeline_HighRes/bin/bulkSimulationOneProfile/data/simulations/0.035/pbmc_sc_with_metadata_cpm_pc_cell_type_profiles.csv/pbmc_sc_with_metadata_cpm_pc_cell_type_profiles_n_sim_72_profiles.csv', '/space/grp/aadrian/Pseudobulk_Function_Pipeline_HighRes/bin/bulkSimulationOneProfile/data/simulations/0.035/pbmc_sc_with_metadata_cpm_pc_cell_type_profiles.csv/pbmc_sc_with_metadata_cpm_pc_cell_type_profiles_n_sim_21_profiles.csv', '/space/grp/aadrian/Pseudobulk_Function_Pipeline_HighRes/bin/bulkSimulationOneProfile/data/simulations/0.035/pbmc_sc_with_metadata_cpm_pc_cell_type_profiles.csv/pbmc_sc_with_metadata_cpm_pc_cell_type_profiles_n_sim_85_profiles.csv', '/space/grp/aadrian/Pseudobulk_Function_Pipeline_HighRes/bin/bulkSimulationOneProfile/data/simulations/0.035/pbmc_sc_with_metadata_cpm_pc_cell_type_profiles.csv/pbmc_sc_with_metadata_cpm_pc_cell_type_profiles_n_sim_23_profiles.csv', '/space/grp/aadrian/Pseudobulk_Function_Pipeline_HighRes/bin/bulkSimulationOneProfile/data/simulations/0.035/pbmc_sc_with_metadata_cpm_pc_cell_type_profiles.csv/pbmc_sc_with_metadata_cpm_pc_cell_type_profiles_n_sim_70_profiles.csv', '/space/grp/aadrian/Pseudobulk_Function_Pipeline_HighRes/bin/bulkSimulationOneProfile/data/simulations/0.035/pbmc_sc_with_metadata_cpm_pc_cell_type_profiles.csv/pbmc_sc_with_metadata_cpm_pc_cell_type_profiles_n_sim_22_profiles.csv', '/space/grp/aadrian/Pseudobulk_Function_Pipeline_HighRes/bin/bulkSimulationOneProfile/data/simulations/0.035/pbmc_sc_with_metadata_cpm_pc_cell_type_profiles.csv/pbmc_sc_with_metadata_cpm_pc_cell_type_profiles_n_sim_71_profiles.csv', '/space/grp/aadrian/Pseudobulk_Function_Pipeline_HighRes/bin/bulkSimulationOneProfile/data/simulations/0.035/pbmc_sc_with_metadata_cpm_pc_cell_type_profiles.csv/pbmc_sc_with_metadata_cpm_pc_cell_type_profiles_n_sim_84_profiles.csv', '/space/grp/aadrian/Pseudobulk_Function_Pipeline_HighRes/bin/bulkSimulationOneProfile/data/simulations/0.035/pbmc_sc_with_metadata_cpm_pc_cell_type_profiles.csv/pbmc_sc_with_metadata_cpm_pc_cell_type_profiles_n_sim_95_profiles.csv', '/space/grp/aadrian/Pseudobulk_Function_Pipeline_HighRes/bin/bulkSimulationOneProfile/data/simulations/0.035/pbmc_sc_with_metadata_cpm_pc_cell_type_profiles.csv/pbmc_sc_with_metadata_cpm_pc_cell_type_profiles_n_sim_19_profiles.csv', '/space/grp/aadrian/Pseudobulk_Function_Pipeline_HighRes/bin/bulkSimulationOneProfile/data/simulations/0.035/pbmc_sc_with_metadata_cpm_pc_cell_type_profiles.csv/pbmc_sc_with_metadata_cpm_pc_cell_type_profiles_n_sim_33_profiles.csv', '/space/grp/aadrian/Pseudobulk_Function_Pipeline_HighRes/bin/bulkSimulationOneProfile/data/simulations/0.035/pbmc_sc_with_metadata_cpm_pc_cell_type_profiles.csv/pbmc_sc_with_metadata_cpm_pc_cell_type_profiles_n_sim_60_profiles.csv', '/space/grp/aadrian/Pseudobulk_Function_Pipeline_HighRes/bin/bulkSimulationOneProfile/data/simulations/0.035/pbmc_sc_with_metadata_cpm_pc_cell_type_profiles.csv/pbmc_sc_with_metadata_cpm_pc_cell_type_profiles_n_sim_32_profiles.csv', '/space/grp/aadrian/Pseudobulk_Function_Pipeline_HighRes/bin/bulkSimulationOneProfile/data/simulations/0.035/pbmc_sc_with_metadata_cpm_pc_cell_type_profiles.csv/pbmc_sc_with_metadata_cpm_pc_cell_type_profiles_n_sim_61_profiles.csv', '/space/grp/aadrian/Pseudobulk_Function_Pipeline_HighRes/bin/bulkSimulationOneProfile/data/simulations/0.035/pbmc_sc_with_metadata_cpm_pc_cell_type_profiles.csv/pbmc_sc_with_metadata_cpm_pc_cell_type_profiles_n_sim_94_profiles.csv', '/space/grp/aadrian/Pseudobulk_Function_Pipeline_HighRes/bin/bulkSimulationOneProfile/data/simulations/0.035/pbmc_sc_with_metadata_cpm_pc_cell_type_profiles.csv/pbmc_sc_with_metadata_cpm_pc_cell_type_profiles_n_sim_18_profiles.csv', '/space/grp/aadrian/Pseudobulk_Function_Pipeline_HighRes/bin/bulkSimulationOneProfile/data/simulations/0.035/pbmc_sc_with_metadata_cpm_pc_cell_type_profiles.csv/pbmc_sc_with_metadata_cpm_pc_cell_type_profiles_n_sim_63_profiles.csv', '/space/grp/aadrian/Pseudobulk_Function_Pipeline_HighRes/bin/bulkSimulationOneProfile/data/simulations/0.035/pbmc_sc_with_metadata_cpm_pc_cell_type_profiles.csv/pbmc_sc_with_metadata_cpm_pc_cell_type_profiles_n_sim_30_profiles.csv', '/space/grp/aadrian/Pseudobulk_Function_Pipeline_HighRes/bin/bulkSimulationOneProfile/data/simulations/0.035/pbmc_sc_with_metadata_cpm_pc_cell_type_profiles.csv/pbmc_sc_with_metadata_cpm_pc_cell_type_profiles_n_sim_49_profiles.csv', '/space/grp/aadrian/Pseudobulk_Function_Pipeline_HighRes/bin/bulkSimulationOneProfile/data/simulations/0.035/pbmc_sc_with_metadata_cpm_pc_cell_type_profiles.csv/pbmc_sc_with_metadata_cpm_pc_cell_type_profiles_n_sim_96_profiles.csv', '/space/grp/aadrian/Pseudobulk_Function_Pipeline_HighRes/bin/bulkSimulationOneProfile/data/simulations/0.035/pbmc_sc_with_metadata_cpm_pc_cell_type_profiles.csv/pbmc_sc_with_metadata_cpm_pc_cell_type_profiles_n_sim_97_profiles.csv', '/space/grp/aadrian/Pseudobulk_Function_Pipeline_HighRes/bin/bulkSimulationOneProfile/data/simulations/0.035/pbmc_sc_with_metadata_cpm_pc_cell_type_profiles.csv/pbmc_sc_with_metadata_cpm_pc_cell_type_profiles_n_sim_48_profiles.csv', '/space/grp/aadrian/Pseudobulk_Function_Pipeline_HighRes/bin/bulkSimulationOneProfile/data/simulations/0.035/pbmc_sc_with_metadata_cpm_pc_cell_type_profiles.csv/pbmc_sc_with_metadata_cpm_pc_cell_type_profiles_n_sim_62_profiles.csv', '/space/grp/aadrian/Pseudobulk_Function_Pipeline_HighRes/bin/bulkSimulationOneProfile/data/simulations/0.035/pbmc_sc_with_metadata_cpm_pc_cell_type_profiles.csv/pbmc_sc_with_metadata_cpm_pc_cell_type_profiles_n_sim_31_profiles.csv', '/space/grp/aadrian/Pseudobulk_Function_Pipeline_HighRes/bin/bulkSimulationOneProfile/data/simulations/0.035/pbmc_sc_with_metadata_cpm_pc_cell_type_profiles.csv/pbmc_sc_with_metadata_cpm_pc_cell_type_profiles_n_sim_92_profiles.csv', '/space/grp/aadrian/Pseudobulk_Function_Pipeline_HighRes/bin/bulkSimulationOneProfile/data/simulations/0.035/pbmc_sc_with_metadata_cpm_pc_cell_type_profiles.csv/pbmc_sc_with_metadata_cpm_pc_cell_type_profiles_n_sim_8_profiles.csv', '/space/grp/aadrian/Pseudobulk_Function_Pipeline_HighRes/bin/bulkSimulationOneProfile/data/simulations/0.035/pbmc_sc_with_metadata_cpm_pc_cell_type_profiles.csv/pbmc_sc_with_metadata_cpm_pc_cell_type_profiles_n_sim_34_profiles.csv', '/space/grp/aadrian/Pseudobulk_Function_Pipeline_HighRes/bin/bulkSimulationOneProfile/data/simulations/0.035/pbmc_sc_with_metadata_cpm_pc_cell_type_profiles.csv/pbmc_sc_with_metadata_cpm_pc_cell_type_profiles_n_sim_67_profiles.csv', '/space/grp/aadrian/Pseudobulk_Function_Pipeline_HighRes/bin/bulkSimulationOneProfile/data/simulations/0.035/pbmc_sc_with_metadata_cpm_pc_cell_type_profiles.csv/pbmc_sc_with_metadata_cpm_pc_cell_type_profiles_n_sim_35_profiles.csv', '/space/grp/aadrian/Pseudobulk_Function_Pipeline_HighRes/bin/bulkSimulationOneProfile/data/simulations/0.035/pbmc_sc_with_metadata_cpm_pc_cell_type_profiles.csv/pbmc_sc_with_metadata_cpm_pc_cell_type_profiles_n_sim_66_profiles.csv', '/space/grp/aadrian/Pseudobulk_Function_Pipeline_HighRes/bin/bulkSimulationOneProfile/data/simulations/0.035/pbmc_sc_with_metadata_cpm_pc_cell_type_profiles.csv/pbmc_sc_with_metadata_cpm_pc_cell_type_profiles_n_sim_9_profiles.csv', '/space/grp/aadrian/Pseudobulk_Function_Pipeline_HighRes/bin/bulkSimulationOneProfile/data/simulations/0.035/pbmc_sc_with_metadata_cpm_pc_cell_type_profiles.csv/pbmc_sc_with_metadata_cpm_pc_cell_type_profiles_n_sim_93_profiles.csv', '/space/grp/aadrian/Pseudobulk_Function_Pipeline_HighRes/bin/bulkSimulationOneProfile/data/simulations/0.035/pbmc_sc_with_metadata_cpm_pc_cell_type_profiles.csv/pbmc_sc_with_metadata_cpm_pc_cell_type_profiles_n_sim_64_profiles.csv', '/space/grp/aadrian/Pseudobulk_Function_Pipeline_HighRes/bin/bulkSimulationOneProfile/data/simulations/0.035/pbmc_sc_with_metadata_cpm_pc_cell_type_profiles.csv/pbmc_sc_with_metadata_cpm_pc_cell_type_profiles_n_sim_37_profiles.csv', '/space/grp/aadrian/Pseudobulk_Function_Pipeline_HighRes/bin/bulkSimulationOneProfile/data/simulations/0.035/pbmc_sc_with_metadata_cpm_pc_cell_type_profiles.csv/pbmc_sc_with_metadata_cpm_pc_cell_type_profiles_n_sim_91_profiles.csv', '/space/grp/aadrian/Pseudobulk_Function_Pipeline_HighRes/bin/bulkSimulationOneProfile/data/simulations/0.035/pbmc_sc_with_metadata_cpm_pc_cell_type_profiles.csv/pbmc_sc_with_metadata_cpm_pc_cell_type_profiles_n_sim_90_profiles.csv', '/space/grp/aadrian/Pseudobulk_Function_Pipeline_HighRes/bin/bulkSimulationOneProfile/data/simulations/0.035/pbmc_sc_with_metadata_cpm_pc_cell_type_profiles.csv/pbmc_sc_with_metadata_cpm_pc_cell_type_profiles_n_sim_65_profiles.csv', '/space/grp/aadrian/Pseudobulk_Function_Pipeline_HighRes/bin/bulkSimulationOneProfile/data/simulations/0.035/pbmc_sc_with_metadata_cpm_pc_cell_type_profiles.csv/pbmc_sc_with_metadata_cpm_pc_cell_type_profiles_n_sim_36_profiles.csv', '/space/grp/aadrian/Pseudobulk_Function_Pipeline_HighRes/bin/bulkSimulationOneProfile/data/simulations/0.035/pbmc_sc_with_metadata_cpm_pc_cell_type_profiles.csv/pbmc_sc_with_metadata_cpm_pc_cell_type_profiles_n_sim_17_profiles.csv', '/space/grp/aadrian/Pseudobulk_Function_Pipeline_HighRes/bin/bulkSimulationOneProfile/data/simulations/0.035/pbmc_sc_with_metadata_cpm_pc_cell_type_profiles.csv/pbmc_sc_with_metadata_cpm_pc_cell_type_profiles_n_sim_44_profiles.csv', '/space/grp/aadrian/Pseudobulk_Function_Pipeline_HighRes/bin/bulkSimulationOneProfile/data/simulations/0.035/pbmc_sc_with_metadata_cpm_pc_cell_type_profiles.csv/pbmc_sc_with_metadata_cpm_pc_cell_type_profiles_n_sim_1_profiles.csv', '/space/grp/aadrian/Pseudobulk_Function_Pipeline_HighRes/bin/bulkSimulationOneProfile/data/simulations/0.035/pbmc_sc_with_metadata_cpm_pc_cell_type_profiles.csv/pbmc_sc_with_metadata_cpm_pc_cell_type_profiles_n_sim_16_profiles.csv', '/space/grp/aadrian/Pseudobulk_Function_Pipeline_HighRes/bin/bulkSimulationOneProfile/data/simulations/0.035/pbmc_sc_with_metadata_cpm_pc_cell_type_profiles.csv/pbmc_sc_with_metadata_cpm_pc_cell_type_profiles_n_sim_45_profiles.csv', '/space/grp/aadrian/Pseudobulk_Function_Pipeline_HighRes/bin/bulkSimulationOneProfile/data/simulations/0.035/pbmc_sc_with_metadata_cpm_pc_cell_type_profiles.csv/pbmc_sc_with_metadata_cpm_pc_cell_type_profiles_n_sim_0_profiles.csv', '/space/grp/aadrian/Pseudobulk_Function_Pipeline_HighRes/bin/bulkSimulationOneProfile/data/simulations/0.035/pbmc_sc_with_metadata_cpm_pc_cell_type_profiles.csv/pbmc_sc_with_metadata_cpm_pc_cell_type_profiles_n_sim_2_profiles.csv', '/space/grp/aadrian/Pseudobulk_Function_Pipeline_HighRes/bin/bulkSimulationOneProfile/data/simulations/0.035/pbmc_sc_with_metadata_cpm_pc_cell_type_profiles.csv/pbmc_sc_with_metadata_cpm_pc_cell_type_profiles_n_sim_47_profiles.csv', '/space/grp/aadrian/Pseudobulk_Function_Pipeline_HighRes/bin/bulkSimulationOneProfile/data/simulations/0.035/pbmc_sc_with_metadata_cpm_pc_cell_type_profiles.csv/pbmc_sc_with_metadata_cpm_pc_cell_type_profiles_n_sim_98_profiles.csv', '/space/grp/aadrian/Pseudobulk_Function_Pipeline_HighRes/bin/bulkSimulationOneProfile/data/simulations/0.035/pbmc_sc_with_metadata_cpm_pc_cell_type_profiles.csv/pbmc_sc_with_metadata_cpm_pc_cell_type_profiles_n_sim_14_profiles.csv', '/space/grp/aadrian/Pseudobulk_Function_Pipeline_HighRes/bin/bulkSimulationOneProfile/data/simulations/0.035/pbmc_sc_with_metadata_cpm_pc_cell_type_profiles.csv/pbmc_sc_with_metadata_cpm_pc_cell_type_profiles_n_sim_99_profiles.csv', '/space/grp/aadrian/Pseudobulk_Function_Pipeline_HighRes/bin/bulkSimulationOneProfile/data/simulations/0.035/pbmc_sc_with_metadata_cpm_pc_cell_type_profiles.csv/pbmc_sc_with_metadata_cpm_pc_cell_type_profiles_n_sim_3_profiles.csv', '/space/grp/aadrian/Pseudobulk_Function_Pipeline_HighRes/bin/bulkSimulationOneProfile/data/simulations/0.035/pbmc_sc_with_metadata_cpm_pc_cell_type_profiles.csv/pbmc_sc_with_metadata_cpm_pc_cell_type_profiles_n_sim_46_profiles.csv', '/space/grp/aadrian/Pseudobulk_Function_Pipeline_HighRes/bin/bulkSimulationOneProfile/data/simulations/0.035/pbmc_sc_with_metadata_cpm_pc_cell_type_profiles.csv/pbmc_sc_with_metadata_cpm_pc_cell_type_profiles_n_sim_15_profiles.csv', '/space/grp/aadrian/Pseudobulk_Function_Pipeline_HighRes/bin/bulkSimulationOneProfile/data/simulations/0.035/pbmc_sc_with_metadata_cpm_pc_cell_type_profiles.csv/pbmc_sc_with_metadata_cpm_pc_cell_type_profiles_n_sim_10_profiles.csv', '/space/grp/aadrian/Pseudobulk_Function_Pipeline_HighRes/bin/bulkSimulationOneProfile/data/simulations/0.035/pbmc_sc_with_metadata_cpm_pc_cell_type_profiles.csv/pbmc_sc_with_metadata_cpm_pc_cell_type_profiles_n_sim_43_profiles.csv', '/space/grp/aadrian/Pseudobulk_Function_Pipeline_HighRes/bin/bulkSimulationOneProfile/data/simulations/0.035/pbmc_sc_with_metadata_cpm_pc_cell_type_profiles.csv/pbmc_sc_with_metadata_cpm_pc_cell_type_profiles_n_sim_6_profiles.csv', '/space/grp/aadrian/Pseudobulk_Function_Pipeline_HighRes/bin/bulkSimulationOneProfile/data/simulations/0.035/pbmc_sc_with_metadata_cpm_pc_cell_type_profiles.csv/pbmc_sc_with_metadata_cpm_pc_cell_type_profiles_n_sim_69_profiles.csv', '/space/grp/aadrian/Pseudobulk_Function_Pipeline_HighRes/bin/bulkSimulationOneProfile/data/simulations/0.035/pbmc_sc_with_metadata_cpm_pc_cell_type_profiles.csv/pbmc_sc_with_metadata_cpm_pc_cell_type_profiles_n_sim_68_profiles.csv', '/space/grp/aadrian/Pseudobulk_Function_Pipeline_HighRes/bin/bulkSimulationOneProfile/data/simulations/0.035/pbmc_sc_with_metadata_cpm_pc_cell_type_profiles.csv/pbmc_sc_with_metadata_cpm_pc_cell_type_profiles_n_sim_11_profiles.csv', '/space/grp/aadrian/Pseudobulk_Function_Pipeline_HighRes/bin/bulkSimulationOneProfile/data/simulations/0.035/pbmc_sc_with_metadata_cpm_pc_cell_type_profiles.csv/pbmc_sc_with_metadata_cpm_pc_cell_type_profiles_n_sim_42_profiles.csv', '/space/grp/aadrian/Pseudobulk_Function_Pipeline_HighRes/bin/bulkSimulationOneProfile/data/simulations/0.035/pbmc_sc_with_metadata_cpm_pc_cell_type_profiles.csv/pbmc_sc_with_metadata_cpm_pc_cell_type_profiles_n_sim_7_profiles.csv', '/space/grp/aadrian/Pseudobulk_Function_Pipeline_HighRes/bin/bulkSimulationOneProfile/data/simulations/0.035/pbmc_sc_with_metadata_cpm_pc_cell_type_profiles.csv/pbmc_sc_with_metadata_cpm_pc_cell_type_profiles_n_sim_39_profiles.csv', '/space/grp/aadrian/Pseudobulk_Function_Pipeline_HighRes/bin/bulkSimulationOneProfile/data/simulations/0.035/pbmc_sc_with_metadata_cpm_pc_cell_type_profiles.csv/pbmc_sc_with_metadata_cpm_pc_cell_type_profiles_n_sim_5_profiles.csv', '/space/grp/aadrian/Pseudobulk_Function_Pipeline_HighRes/bin/bulkSimulationOneProfile/data/simulations/0.035/pbmc_sc_with_metadata_cpm_pc_cell_type_profiles.csv/pbmc_sc_with_metadata_cpm_pc_cell_type_profiles_n_sim_40_profiles.csv', '/space/grp/aadrian/Pseudobulk_Function_Pipeline_HighRes/bin/bulkSimulationOneProfile/data/simulations/0.035/pbmc_sc_with_metadata_cpm_pc_cell_type_profiles.csv/pbmc_sc_with_metadata_cpm_pc_cell_type_profiles_n_sim_13_profiles.csv', '/space/grp/aadrian/Pseudobulk_Function_Pipeline_HighRes/bin/bulkSimulationOneProfile/data/simulations/0.035/pbmc_sc_with_metadata_cpm_pc_cell_type_profiles.csv/pbmc_sc_with_metadata_cpm_pc_cell_type_profiles_n_sim_4_profiles.csv', '/space/grp/aadrian/Pseudobulk_Function_Pipeline_HighRes/bin/bulkSimulationOneProfile/data/simulations/0.035/pbmc_sc_with_metadata_cpm_pc_cell_type_profiles.csv/pbmc_sc_with_metadata_cpm_pc_cell_type_profiles_n_sim_41_profiles.csv', '/space/grp/aadrian/Pseudobulk_Function_Pipeline_HighRes/bin/bulkSimulationOneProfile/data/simulations/0.035/pbmc_sc_with_metadata_cpm_pc_cell_type_profiles.csv/pbmc_sc_with_metadata_cpm_pc_cell_type_profiles_n_sim_12_profiles.csv', '/space/grp/aadrian/Pseudobulk_Function_Pipeline_HighRes/bin/bulkSimulationOneProfile/data/simulations/0.035/pbmc_sc_with_metadata_cpm_pc_cell_type_profiles.csv/pbmc_sc_with_metadata_cpm_pc_cell_type_profiles_n_sim_38_profiles.csv'], ['/space/grp/aadrian/Pseudobulk_Function_Pipeline_HighRes/bin/bulkSimulationOneProfile/data/simulations/0.06/pbmc_sc_with_metadata_cpm_pc_cell_type_profiles.csv/pbmc_sc_with_metadata_cpm_pc_cell_type_profiles_n_sim_82_profiles.csv', '/space/grp/aadrian/Pseudobulk_Function_Pipeline_HighRes/bin/bulkSimulationOneProfile/data/simulations/0.06/pbmc_sc_with_metadata_cpm_pc_cell_type_profiles.csv/pbmc_sc_with_metadata_cpm_pc_cell_type_profiles_n_sim_24_profiles.csv', '/space/grp/aadrian/Pseudobulk_Function_Pipeline_HighRes/bin/bulkSimulationOneProfile/data/simulations/0.06/pbmc_sc_with_metadata_cpm_pc_cell_type_profiles.csv/pbmc_sc_with_metadata_cpm_pc_cell_type_profiles_n_sim_7_profiles.csv', '/space/grp/aadrian/Pseudobulk_Function_Pipeline_HighRes/bin/bulkSimulationOneProfile/data/simulations/0.06/pbmc_sc_with_metadata_cpm_pc_cell_type_profiles.csv/pbmc_sc_with_metadata_cpm_pc_cell_type_profiles_n_sim_77_profiles.csv', '/space/grp/aadrian/Pseudobulk_Function_Pipeline_HighRes/bin/bulkSimulationOneProfile/data/simulations/0.06/pbmc_sc_with_metadata_cpm_pc_cell_type_profiles.csv/pbmc_sc_with_metadata_cpm_pc_cell_type_profiles_n_sim_6_profiles.csv', '/space/grp/aadrian/Pseudobulk_Function_Pipeline_HighRes/bin/bulkSimulationOneProfile/data/simulations/0.06/pbmc_sc_with_metadata_cpm_pc_cell_type_profiles.csv/pbmc_sc_with_metadata_cpm_pc_cell_type_profiles_n_sim_25_profiles.csv', '/space/grp/aadrian/Pseudobulk_Function_Pipeline_HighRes/bin/bulkSimulationOneProfile/data/simulations/0.06/pbmc_sc_with_metadata_cpm_pc_cell_type_profiles.csv/pbmc_sc_with_metadata_cpm_pc_cell_type_profiles_n_sim_76_profiles.csv', '/space/grp/aadrian/Pseudobulk_Function_Pipeline_HighRes/bin/bulkSimulationOneProfile/data/simulations/0.06/pbmc_sc_with_metadata_cpm_pc_cell_type_profiles.csv/pbmc_sc_with_metadata_cpm_pc_cell_type_profiles_n_sim_83_profiles.csv', '/space/grp/aadrian/Pseudobulk_Function_Pipeline_HighRes/bin/bulkSimulationOneProfile/data/simulations/0.06/pbmc_sc_with_metadata_cpm_pc_cell_type_profiles.csv/pbmc_sc_with_metadata_cpm_pc_cell_type_profiles_n_sim_74_profiles.csv', '/space/grp/aadrian/Pseudobulk_Function_Pipeline_HighRes/bin/bulkSimulationOneProfile/data/simulations/0.06/pbmc_sc_with_metadata_cpm_pc_cell_type_profiles.csv/pbmc_sc_with_metadata_cpm_pc_cell_type_profiles_n_sim_27_profiles.csv', '/space/grp/aadrian/Pseudobulk_Function_Pipeline_HighRes/bin/bulkSimulationOneProfile/data/simulations/0.06/pbmc_sc_with_metadata_cpm_pc_cell_type_profiles.csv/pbmc_sc_with_metadata_cpm_pc_cell_type_profiles_n_sim_4_profiles.csv', '/space/grp/aadrian/Pseudobulk_Function_Pipeline_HighRes/bin/bulkSimulationOneProfile/data/simulations/0.06/pbmc_sc_with_metadata_cpm_pc_cell_type_profiles.csv/pbmc_sc_with_metadata_cpm_pc_cell_type_profiles_n_sim_81_profiles.csv', '/space/grp/aadrian/Pseudobulk_Function_Pipeline_HighRes/bin/bulkSimulationOneProfile/data/simulations/0.06/pbmc_sc_with_metadata_cpm_pc_cell_type_profiles.csv/pbmc_sc_with_metadata_cpm_pc_cell_type_profiles_n_sim_80_profiles.csv', '/space/grp/aadrian/Pseudobulk_Function_Pipeline_HighRes/bin/bulkSimulationOneProfile/data/simulations/0.06/pbmc_sc_with_metadata_cpm_pc_cell_type_profiles.csv/pbmc_sc_with_metadata_cpm_pc_cell_type_profiles_n_sim_75_profiles.csv', '/space/grp/aadrian/Pseudobulk_Function_Pipeline_HighRes/bin/bulkSimulationOneProfile/data/simulations/0.06/pbmc_sc_with_metadata_cpm_pc_cell_type_profiles.csv/pbmc_sc_with_metadata_cpm_pc_cell_type_profiles_n_sim_5_profiles.csv', '/space/grp/aadrian/Pseudobulk_Function_Pipeline_HighRes/bin/bulkSimulationOneProfile/data/simulations/0.06/pbmc_sc_with_metadata_cpm_pc_cell_type_profiles.csv/pbmc_sc_with_metadata_cpm_pc_cell_type_profiles_n_sim_26_profiles.csv', '/space/grp/aadrian/Pseudobulk_Function_Pipeline_HighRes/bin/bulkSimulationOneProfile/data/simulations/0.06/pbmc_sc_with_metadata_cpm_pc_cell_type_profiles.csv/pbmc_sc_with_metadata_cpm_pc_cell_type_profiles_n_sim_85_profiles.csv', '/space/grp/aadrian/Pseudobulk_Function_Pipeline_HighRes/bin/bulkSimulationOneProfile/data/simulations/0.06/pbmc_sc_with_metadata_cpm_pc_cell_type_profiles.csv/pbmc_sc_with_metadata_cpm_pc_cell_type_profiles_n_sim_0_profiles.csv', '/space/grp/aadrian/Pseudobulk_Function_Pipeline_HighRes/bin/bulkSimulationOneProfile/data/simulations/0.06/pbmc_sc_with_metadata_cpm_pc_cell_type_profiles.csv/pbmc_sc_with_metadata_cpm_pc_cell_type_profiles_n_sim_23_profiles.csv', '/space/grp/aadrian/Pseudobulk_Function_Pipeline_HighRes/bin/bulkSimulationOneProfile/data/simulations/0.06/pbmc_sc_with_metadata_cpm_pc_cell_type_profiles.csv/pbmc_sc_with_metadata_cpm_pc_cell_type_profiles_n_sim_70_profiles.csv', '/space/grp/aadrian/Pseudobulk_Function_Pipeline_HighRes/bin/bulkSimulationOneProfile/data/simulations/0.06/pbmc_sc_with_metadata_cpm_pc_cell_type_profiles.csv/pbmc_sc_with_metadata_cpm_pc_cell_type_profiles_n_sim_22_profiles.csv', '/space/grp/aadrian/Pseudobulk_Function_Pipeline_HighRes/bin/bulkSimulationOneProfile/data/simulations/0.06/pbmc_sc_with_metadata_cpm_pc_cell_type_profiles.csv/pbmc_sc_with_metadata_cpm_pc_cell_type_profiles_n_sim_1_profiles.csv', '/space/grp/aadrian/Pseudobulk_Function_Pipeline_HighRes/bin/bulkSimulationOneProfile/data/simulations/0.06/pbmc_sc_with_metadata_cpm_pc_cell_type_profiles.csv/pbmc_sc_with_metadata_cpm_pc_cell_type_profiles_n_sim_71_profiles.csv', '/space/grp/aadrian/Pseudobulk_Function_Pipeline_HighRes/bin/bulkSimulationOneProfile/data/simulations/0.06/pbmc_sc_with_metadata_cpm_pc_cell_type_profiles.csv/pbmc_sc_with_metadata_cpm_pc_cell_type_profiles_n_sim_84_profiles.csv', '/space/grp/aadrian/Pseudobulk_Function_Pipeline_HighRes/bin/bulkSimulationOneProfile/data/simulations/0.06/pbmc_sc_with_metadata_cpm_pc_cell_type_profiles.csv/pbmc_sc_with_metadata_cpm_pc_cell_type_profiles_n_sim_73_profiles.csv', '/space/grp/aadrian/Pseudobulk_Function_Pipeline_HighRes/bin/bulkSimulationOneProfile/data/simulations/0.06/pbmc_sc_with_metadata_cpm_pc_cell_type_profiles.csv/pbmc_sc_with_metadata_cpm_pc_cell_type_profiles_n_sim_3_profiles.csv', '/space/grp/aadrian/Pseudobulk_Function_Pipeline_HighRes/bin/bulkSimulationOneProfile/data/simulations/0.06/pbmc_sc_with_metadata_cpm_pc_cell_type_profiles.csv/pbmc_sc_with_metadata_cpm_pc_cell_type_profiles_n_sim_20_profiles.csv', '/space/grp/aadrian/Pseudobulk_Function_Pipeline_HighRes/bin/bulkSimulationOneProfile/data/simulations/0.06/pbmc_sc_with_metadata_cpm_pc_cell_type_profiles.csv/pbmc_sc_with_metadata_cpm_pc_cell_type_profiles_n_sim_59_profiles.csv', '/space/grp/aadrian/Pseudobulk_Function_Pipeline_HighRes/bin/bulkSimulationOneProfile/data/simulations/0.06/pbmc_sc_with_metadata_cpm_pc_cell_type_profiles.csv/pbmc_sc_with_metadata_cpm_pc_cell_type_profiles_n_sim_86_profiles.csv', '/space/grp/aadrian/Pseudobulk_Function_Pipeline_HighRes/bin/bulkSimulationOneProfile/data/simulations/0.06/pbmc_sc_with_metadata_cpm_pc_cell_type_profiles.csv/pbmc_sc_with_metadata_cpm_pc_cell_type_profiles_n_sim_87_profiles.csv', '/space/grp/aadrian/Pseudobulk_Function_Pipeline_HighRes/bin/bulkSimulationOneProfile/data/simulations/0.06/pbmc_sc_with_metadata_cpm_pc_cell_type_profiles.csv/pbmc_sc_with_metadata_cpm_pc_cell_type_profiles_n_sim_58_profiles.csv', '/space/grp/aadrian/Pseudobulk_Function_Pipeline_HighRes/bin/bulkSimulationOneProfile/data/simulations/0.06/pbmc_sc_with_metadata_cpm_pc_cell_type_profiles.csv/pbmc_sc_with_metadata_cpm_pc_cell_type_profiles_n_sim_72_profiles.csv', '/space/grp/aadrian/Pseudobulk_Function_Pipeline_HighRes/bin/bulkSimulationOneProfile/data/simulations/0.06/pbmc_sc_with_metadata_cpm_pc_cell_type_profiles.csv/pbmc_sc_with_metadata_cpm_pc_cell_type_profiles_n_sim_21_profiles.csv', '/space/grp/aadrian/Pseudobulk_Function_Pipeline_HighRes/bin/bulkSimulationOneProfile/data/simulations/0.06/pbmc_sc_with_metadata_cpm_pc_cell_type_profiles.csv/pbmc_sc_with_metadata_cpm_pc_cell_type_profiles_n_sim_2_profiles.csv', '/space/grp/aadrian/Pseudobulk_Function_Pipeline_HighRes/bin/bulkSimulationOneProfile/data/simulations/0.06/pbmc_sc_with_metadata_cpm_pc_cell_type_profiles.csv/pbmc_sc_with_metadata_cpm_pc_cell_type_profiles_n_sim_53_profiles.csv', '/space/grp/aadrian/Pseudobulk_Function_Pipeline_HighRes/bin/bulkSimulationOneProfile/data/simulations/0.06/pbmc_sc_with_metadata_cpm_pc_cell_type_profiles.csv/pbmc_sc_with_metadata_cpm_pc_cell_type_profiles_n_sim_79_profiles.csv', '/space/grp/aadrian/Pseudobulk_Function_Pipeline_HighRes/bin/bulkSimulationOneProfile/data/simulations/0.06/pbmc_sc_with_metadata_cpm_pc_cell_type_profiles.csv/pbmc_sc_with_metadata_cpm_pc_cell_type_profiles_n_sim_9_profiles.csv', '/space/grp/aadrian/Pseudobulk_Function_Pipeline_HighRes/bin/bulkSimulationOneProfile/data/simulations/0.06/pbmc_sc_with_metadata_cpm_pc_cell_type_profiles.csv/pbmc_sc_with_metadata_cpm_pc_cell_type_profiles_n_sim_78_profiles.csv', '/space/grp/aadrian/Pseudobulk_Function_Pipeline_HighRes/bin/bulkSimulationOneProfile/data/simulations/0.06/pbmc_sc_with_metadata_cpm_pc_cell_type_profiles.csv/pbmc_sc_with_metadata_cpm_pc_cell_type_profiles_n_sim_8_profiles.csv', '/space/grp/aadrian/Pseudobulk_Function_Pipeline_HighRes/bin/bulkSimulationOneProfile/data/simulations/0.06/pbmc_sc_with_metadata_cpm_pc_cell_type_profiles.csv/pbmc_sc_with_metadata_cpm_pc_cell_type_profiles_n_sim_52_profiles.csv', '/space/grp/aadrian/Pseudobulk_Function_Pipeline_HighRes/bin/bulkSimulationOneProfile/data/simulations/0.06/pbmc_sc_with_metadata_cpm_pc_cell_type_profiles.csv/pbmc_sc_with_metadata_cpm_pc_cell_type_profiles_n_sim_29_profiles.csv', '/space/grp/aadrian/Pseudobulk_Function_Pipeline_HighRes/bin/bulkSimulationOneProfile/data/simulations/0.06/pbmc_sc_with_metadata_cpm_pc_cell_type_profiles.csv/pbmc_sc_with_metadata_cpm_pc_cell_type_profiles_n_sim_50_profiles.csv', '/space/grp/aadrian/Pseudobulk_Function_Pipeline_HighRes/bin/bulkSimulationOneProfile/data/simulations/0.06/pbmc_sc_with_metadata_cpm_pc_cell_type_profiles.csv/pbmc_sc_with_metadata_cpm_pc_cell_type_profiles_n_sim_51_profiles.csv', '/space/grp/aadrian/Pseudobulk_Function_Pipeline_HighRes/bin/bulkSimulationOneProfile/data/simulations/0.06/pbmc_sc_with_metadata_cpm_pc_cell_type_profiles.csv/pbmc_sc_with_metadata_cpm_pc_cell_type_profiles_n_sim_28_profiles.csv', '/space/grp/aadrian/Pseudobulk_Function_Pipeline_HighRes/bin/bulkSimulationOneProfile/data/simulations/0.06/pbmc_sc_with_metadata_cpm_pc_cell_type_profiles.csv/pbmc_sc_with_metadata_cpm_pc_cell_type_profiles_n_sim_54_profiles.csv', '/space/grp/aadrian/Pseudobulk_Function_Pipeline_HighRes/bin/bulkSimulationOneProfile/data/simulations/0.06/pbmc_sc_with_metadata_cpm_pc_cell_type_profiles.csv/pbmc_sc_with_metadata_cpm_pc_cell_type_profiles_n_sim_55_profiles.csv', '/space/grp/aadrian/Pseudobulk_Function_Pipeline_HighRes/bin/bulkSimulationOneProfile/data/simulations/0.06/pbmc_sc_with_metadata_cpm_pc_cell_type_profiles.csv/pbmc_sc_with_metadata_cpm_pc_cell_type_profiles_n_sim_57_profiles.csv', '/space/grp/aadrian/Pseudobulk_Function_Pipeline_HighRes/bin/bulkSimulationOneProfile/data/simulations/0.06/pbmc_sc_with_metadata_cpm_pc_cell_type_profiles.csv/pbmc_sc_with_metadata_cpm_pc_cell_type_profiles_n_sim_88_profiles.csv', '/space/grp/aadrian/Pseudobulk_Function_Pipeline_HighRes/bin/bulkSimulationOneProfile/data/simulations/0.06/pbmc_sc_with_metadata_cpm_pc_cell_type_profiles.csv/pbmc_sc_with_metadata_cpm_pc_cell_type_profiles_n_sim_89_profiles.csv', '/space/grp/aadrian/Pseudobulk_Function_Pipeline_HighRes/bin/bulkSimulationOneProfile/data/simulations/0.06/pbmc_sc_with_metadata_cpm_pc_cell_type_profiles.csv/pbmc_sc_with_metadata_cpm_pc_cell_type_profiles_n_sim_56_profiles.csv', '/space/grp/aadrian/Pseudobulk_Function_Pipeline_HighRes/bin/bulkSimulationOneProfile/data/simulations/0.06/pbmc_sc_with_metadata_cpm_pc_cell_type_profiles.csv/pbmc_sc_with_metadata_cpm_pc_cell_type_profiles_n_sim_47_profiles.csv', '/space/grp/aadrian/Pseudobulk_Function_Pipeline_HighRes/bin/bulkSimulationOneProfile/data/simulations/0.06/pbmc_sc_with_metadata_cpm_pc_cell_type_profiles.csv/pbmc_sc_with_metadata_cpm_pc_cell_type_profiles_n_sim_98_profiles.csv', '/space/grp/aadrian/Pseudobulk_Function_Pipeline_HighRes/bin/bulkSimulationOneProfile/data/simulations/0.06/pbmc_sc_with_metadata_cpm_pc_cell_type_profiles.csv/pbmc_sc_with_metadata_cpm_pc_cell_type_profiles_n_sim_14_profiles.csv', '/space/grp/aadrian/Pseudobulk_Function_Pipeline_HighRes/bin/bulkSimulationOneProfile/data/simulations/0.06/pbmc_sc_with_metadata_cpm_pc_cell_type_profiles.csv/pbmc_sc_with_metadata_cpm_pc_cell_type_profiles_n_sim_99_profiles.csv', '/space/grp/aadrian/Pseudobulk_Function_Pipeline_HighRes/bin/bulkSimulationOneProfile/data/simulations/0.06/pbmc_sc_with_metadata_cpm_pc_cell_type_profiles.csv/pbmc_sc_with_metadata_cpm_pc_cell_type_profiles_n_sim_46_profiles.csv', '/space/grp/aadrian/Pseudobulk_Function_Pipeline_HighRes/bin/bulkSimulationOneProfile/data/simulations/0.06/pbmc_sc_with_metadata_cpm_pc_cell_type_profiles.csv/pbmc_sc_with_metadata_cpm_pc_cell_type_profiles_n_sim_15_profiles.csv', '/space/grp/aadrian/Pseudobulk_Function_Pipeline_HighRes/bin/bulkSimulationOneProfile/data/simulations/0.06/pbmc_sc_with_metadata_cpm_pc_cell_type_profiles.csv/pbmc_sc_with_metadata_cpm_pc_cell_type_profiles_n_sim_17_profiles.csv', '/space/grp/aadrian/Pseudobulk_Function_Pipeline_HighRes/bin/bulkSimulationOneProfile/data/simulations/0.06/pbmc_sc_with_metadata_cpm_pc_cell_type_profiles.csv/pbmc_sc_with_metadata_cpm_pc_cell_type_profiles_n_sim_44_profiles.csv', '/space/grp/aadrian/Pseudobulk_Function_Pipeline_HighRes/bin/bulkSimulationOneProfile/data/simulations/0.06/pbmc_sc_with_metadata_cpm_pc_cell_type_profiles.csv/pbmc_sc_with_metadata_cpm_pc_cell_type_profiles_n_sim_16_profiles.csv', '/space/grp/aadrian/Pseudobulk_Function_Pipeline_HighRes/bin/bulkSimulationOneProfile/data/simulations/0.06/pbmc_sc_with_metadata_cpm_pc_cell_type_profiles.csv/pbmc_sc_with_metadata_cpm_pc_cell_type_profiles_n_sim_45_profiles.csv', '/space/grp/aadrian/Pseudobulk_Function_Pipeline_HighRes/bin/bulkSimulationOneProfile/data/simulations/0.06/pbmc_sc_with_metadata_cpm_pc_cell_type_profiles.csv/pbmc_sc_with_metadata_cpm_pc_cell_type_profiles_n_sim_39_profiles.csv', '/space/grp/aadrian/Pseudobulk_Function_Pipeline_HighRes/bin/bulkSimulationOneProfile/data/simulations/0.06/pbmc_sc_with_metadata_cpm_pc_cell_type_profiles.csv/pbmc_sc_with_metadata_cpm_pc_cell_type_profiles_n_sim_40_profiles.csv', '/space/grp/aadrian/Pseudobulk_Function_Pipeline_HighRes/bin/bulkSimulationOneProfile/data/simulations/0.06/pbmc_sc_with_metadata_cpm_pc_cell_type_profiles.csv/pbmc_sc_with_metadata_cpm_pc_cell_type_profiles_n_sim_13_profiles.csv', '/space/grp/aadrian/Pseudobulk_Function_Pipeline_HighRes/bin/bulkSimulationOneProfile/data/simulations/0.06/pbmc_sc_with_metadata_cpm_pc_cell_type_profiles.csv/pbmc_sc_with_metadata_cpm_pc_cell_type_profiles_n_sim_41_profiles.csv', '/space/grp/aadrian/Pseudobulk_Function_Pipeline_HighRes/bin/bulkSimulationOneProfile/data/simulations/0.06/pbmc_sc_with_metadata_cpm_pc_cell_type_profiles.csv/pbmc_sc_with_metadata_cpm_pc_cell_type_profiles_n_sim_12_profiles.csv', '/space/grp/aadrian/Pseudobulk_Function_Pipeline_HighRes/bin/bulkSimulationOneProfile/data/simulations/0.06/pbmc_sc_with_metadata_cpm_pc_cell_type_profiles.csv/pbmc_sc_with_metadata_cpm_pc_cell_type_profiles_n_sim_38_profiles.csv', '/space/grp/aadrian/Pseudobulk_Function_Pipeline_HighRes/bin/bulkSimulationOneProfile/data/simulations/0.06/pbmc_sc_with_metadata_cpm_pc_cell_type_profiles.csv/pbmc_sc_with_metadata_cpm_pc_cell_type_profiles_n_sim_10_profiles.csv', '/space/grp/aadrian/Pseudobulk_Function_Pipeline_HighRes/bin/bulkSimulationOneProfile/data/simulations/0.06/pbmc_sc_with_metadata_cpm_pc_cell_type_profiles.csv/pbmc_sc_with_metadata_cpm_pc_cell_type_profiles_n_sim_43_profiles.csv', '/space/grp/aadrian/Pseudobulk_Function_Pipeline_HighRes/bin/bulkSimulationOneProfile/data/simulations/0.06/pbmc_sc_with_metadata_cpm_pc_cell_type_profiles.csv/pbmc_sc_with_metadata_cpm_pc_cell_type_profiles_n_sim_69_profiles.csv', '/space/grp/aadrian/Pseudobulk_Function_Pipeline_HighRes/bin/bulkSimulationOneProfile/data/simulations/0.06/pbmc_sc_with_metadata_cpm_pc_cell_type_profiles.csv/pbmc_sc_with_metadata_cpm_pc_cell_type_profiles_n_sim_68_profiles.csv', '/space/grp/aadrian/Pseudobulk_Function_Pipeline_HighRes/bin/bulkSimulationOneProfile/data/simulations/0.06/pbmc_sc_with_metadata_cpm_pc_cell_type_profiles.csv/pbmc_sc_with_metadata_cpm_pc_cell_type_profiles_n_sim_11_profiles.csv', '/space/grp/aadrian/Pseudobulk_Function_Pipeline_HighRes/bin/bulkSimulationOneProfile/data/simulations/0.06/pbmc_sc_with_metadata_cpm_pc_cell_type_profiles.csv/pbmc_sc_with_metadata_cpm_pc_cell_type_profiles_n_sim_42_profiles.csv', '/space/grp/aadrian/Pseudobulk_Function_Pipeline_HighRes/bin/bulkSimulationOneProfile/data/simulations/0.06/pbmc_sc_with_metadata_cpm_pc_cell_type_profiles.csv/pbmc_sc_with_metadata_cpm_pc_cell_type_profiles_n_sim_63_profiles.csv', '/space/grp/aadrian/Pseudobulk_Function_Pipeline_HighRes/bin/bulkSimulationOneProfile/data/simulations/0.06/pbmc_sc_with_metadata_cpm_pc_cell_type_profiles.csv/pbmc_sc_with_metadata_cpm_pc_cell_type_profiles_n_sim_30_profiles.csv', '/space/grp/aadrian/Pseudobulk_Function_Pipeline_HighRes/bin/bulkSimulationOneProfile/data/simulations/0.06/pbmc_sc_with_metadata_cpm_pc_cell_type_profiles.csv/pbmc_sc_with_metadata_cpm_pc_cell_type_profiles_n_sim_49_profiles.csv', '/space/grp/aadrian/Pseudobulk_Function_Pipeline_HighRes/bin/bulkSimulationOneProfile/data/simulations/0.06/pbmc_sc_with_metadata_cpm_pc_cell_type_profiles.csv/pbmc_sc_with_metadata_cpm_pc_cell_type_profiles_n_sim_96_profiles.csv', '/space/grp/aadrian/Pseudobulk_Function_Pipeline_HighRes/bin/bulkSimulationOneProfile/data/simulations/0.06/pbmc_sc_with_metadata_cpm_pc_cell_type_profiles.csv/pbmc_sc_with_metadata_cpm_pc_cell_type_profiles_n_sim_97_profiles.csv', '/space/grp/aadrian/Pseudobulk_Function_Pipeline_HighRes/bin/bulkSimulationOneProfile/data/simulations/0.06/pbmc_sc_with_metadata_cpm_pc_cell_type_profiles.csv/pbmc_sc_with_metadata_cpm_pc_cell_type_profiles_n_sim_48_profiles.csv', '/space/grp/aadrian/Pseudobulk_Function_Pipeline_HighRes/bin/bulkSimulationOneProfile/data/simulations/0.06/pbmc_sc_with_metadata_cpm_pc_cell_type_profiles.csv/pbmc_sc_with_metadata_cpm_pc_cell_type_profiles_n_sim_62_profiles.csv', '/space/grp/aadrian/Pseudobulk_Function_Pipeline_HighRes/bin/bulkSimulationOneProfile/data/simulations/0.06/pbmc_sc_with_metadata_cpm_pc_cell_type_profiles.csv/pbmc_sc_with_metadata_cpm_pc_cell_type_profiles_n_sim_31_profiles.csv', '/space/grp/aadrian/Pseudobulk_Function_Pipeline_HighRes/bin/bulkSimulationOneProfile/data/simulations/0.06/pbmc_sc_with_metadata_cpm_pc_cell_type_profiles.csv/pbmc_sc_with_metadata_cpm_pc_cell_type_profiles_n_sim_95_profiles.csv', '/space/grp/aadrian/Pseudobulk_Function_Pipeline_HighRes/bin/bulkSimulationOneProfile/data/simulations/0.06/pbmc_sc_with_metadata_cpm_pc_cell_type_profiles.csv/pbmc_sc_with_metadata_cpm_pc_cell_type_profiles_n_sim_19_profiles.csv', '/space/grp/aadrian/Pseudobulk_Function_Pipeline_HighRes/bin/bulkSimulationOneProfile/data/simulations/0.06/pbmc_sc_with_metadata_cpm_pc_cell_type_profiles.csv/pbmc_sc_with_metadata_cpm_pc_cell_type_profiles_n_sim_33_profiles.csv', '/space/grp/aadrian/Pseudobulk_Function_Pipeline_HighRes/bin/bulkSimulationOneProfile/data/simulations/0.06/pbmc_sc_with_metadata_cpm_pc_cell_type_profiles.csv/pbmc_sc_with_metadata_cpm_pc_cell_type_profiles_n_sim_60_profiles.csv', '/space/grp/aadrian/Pseudobulk_Function_Pipeline_HighRes/bin/bulkSimulationOneProfile/data/simulations/0.06/pbmc_sc_with_metadata_cpm_pc_cell_type_profiles.csv/pbmc_sc_with_metadata_cpm_pc_cell_type_profiles_n_sim_32_profiles.csv', '/space/grp/aadrian/Pseudobulk_Function_Pipeline_HighRes/bin/bulkSimulationOneProfile/data/simulations/0.06/pbmc_sc_with_metadata_cpm_pc_cell_type_profiles.csv/pbmc_sc_with_metadata_cpm_pc_cell_type_profiles_n_sim_61_profiles.csv', '/space/grp/aadrian/Pseudobulk_Function_Pipeline_HighRes/bin/bulkSimulationOneProfile/data/simulations/0.06/pbmc_sc_with_metadata_cpm_pc_cell_type_profiles.csv/pbmc_sc_with_metadata_cpm_pc_cell_type_profiles_n_sim_94_profiles.csv', '/space/grp/aadrian/Pseudobulk_Function_Pipeline_HighRes/bin/bulkSimulationOneProfile/data/simulations/0.06/pbmc_sc_with_metadata_cpm_pc_cell_type_profiles.csv/pbmc_sc_with_metadata_cpm_pc_cell_type_profiles_n_sim_18_profiles.csv', '/space/grp/aadrian/Pseudobulk_Function_Pipeline_HighRes/bin/bulkSimulationOneProfile/data/simulations/0.06/pbmc_sc_with_metadata_cpm_pc_cell_type_profiles.csv/pbmc_sc_with_metadata_cpm_pc_cell_type_profiles_n_sim_64_profiles.csv', '/space/grp/aadrian/Pseudobulk_Function_Pipeline_HighRes/bin/bulkSimulationOneProfile/data/simulations/0.06/pbmc_sc_with_metadata_cpm_pc_cell_type_profiles.csv/pbmc_sc_with_metadata_cpm_pc_cell_type_profiles_n_sim_37_profiles.csv', '/space/grp/aadrian/Pseudobulk_Function_Pipeline_HighRes/bin/bulkSimulationOneProfile/data/simulations/0.06/pbmc_sc_with_metadata_cpm_pc_cell_type_profiles.csv/pbmc_sc_with_metadata_cpm_pc_cell_type_profiles_n_sim_91_profiles.csv', '/space/grp/aadrian/Pseudobulk_Function_Pipeline_HighRes/bin/bulkSimulationOneProfile/data/simulations/0.06/pbmc_sc_with_metadata_cpm_pc_cell_type_profiles.csv/pbmc_sc_with_metadata_cpm_pc_cell_type_profiles_n_sim_90_profiles.csv', '/space/grp/aadrian/Pseudobulk_Function_Pipeline_HighRes/bin/bulkSimulationOneProfile/data/simulations/0.06/pbmc_sc_with_metadata_cpm_pc_cell_type_profiles.csv/pbmc_sc_with_metadata_cpm_pc_cell_type_profiles_n_sim_65_profiles.csv', '/space/grp/aadrian/Pseudobulk_Function_Pipeline_HighRes/bin/bulkSimulationOneProfile/data/simulations/0.06/pbmc_sc_with_metadata_cpm_pc_cell_type_profiles.csv/pbmc_sc_with_metadata_cpm_pc_cell_type_profiles_n_sim_36_profiles.csv', '/space/grp/aadrian/Pseudobulk_Function_Pipeline_HighRes/bin/bulkSimulationOneProfile/data/simulations/0.06/pbmc_sc_with_metadata_cpm_pc_cell_type_profiles.csv/pbmc_sc_with_metadata_cpm_pc_cell_type_profiles_n_sim_92_profiles.csv', '/space/grp/aadrian/Pseudobulk_Function_Pipeline_HighRes/bin/bulkSimulationOneProfile/data/simulations/0.06/pbmc_sc_with_metadata_cpm_pc_cell_type_profiles.csv/pbmc_sc_with_metadata_cpm_pc_cell_type_profiles_n_sim_34_profiles.csv', '/space/grp/aadrian/Pseudobulk_Function_Pipeline_HighRes/bin/bulkSimulationOneProfile/data/simulations/0.06/pbmc_sc_with_metadata_cpm_pc_cell_type_profiles.csv/pbmc_sc_with_metadata_cpm_pc_cell_type_profiles_n_sim_67_profiles.csv', '/space/grp/aadrian/Pseudobulk_Function_Pipeline_HighRes/bin/bulkSimulationOneProfile/data/simulations/0.06/pbmc_sc_with_metadata_cpm_pc_cell_type_profiles.csv/pbmc_sc_with_metadata_cpm_pc_cell_type_profiles_n_sim_35_profiles.csv', '/space/grp/aadrian/Pseudobulk_Function_Pipeline_HighRes/bin/bulkSimulationOneProfile/data/simulations/0.06/pbmc_sc_with_metadata_cpm_pc_cell_type_profiles.csv/pbmc_sc_with_metadata_cpm_pc_cell_type_profiles_n_sim_66_profiles.csv', '/space/grp/aadrian/Pseudobulk_Function_Pipeline_HighRes/bin/bulkSimulationOneProfile/data/simulations/0.06/pbmc_sc_with_metadata_cpm_pc_cell_type_profiles.csv/pbmc_sc_with_metadata_cpm_pc_cell_type_profiles_n_sim_93_profiles.csv'], ['/space/grp/aadrian/Pseudobulk_Function_Pipeline_HighRes/bin/bulkSimulationOneProfile/data/simulations/0.005/pbmc_sc_with_metadata_cpm_pc_cell_type_profiles.csv/pbmc_sc_with_metadata_cpm_pc_cell_type_profiles_n_sim_95_profiles.csv', '/space/grp/aadrian/Pseudobulk_Function_Pipeline_HighRes/bin/bulkSimulationOneProfile/data/simulations/0.005/pbmc_sc_with_metadata_cpm_pc_cell_type_profiles.csv/pbmc_sc_with_metadata_cpm_pc_cell_type_profiles_n_sim_19_profiles.csv', '/space/grp/aadrian/Pseudobulk_Function_Pipeline_HighRes/bin/bulkSimulationOneProfile/data/simulations/0.005/pbmc_sc_with_metadata_cpm_pc_cell_type_profiles.csv/pbmc_sc_with_metadata_cpm_pc_cell_type_profiles_n_sim_33_profiles.csv', '/space/grp/aadrian/Pseudobulk_Function_Pipeline_HighRes/bin/bulkSimulationOneProfile/data/simulations/0.005/pbmc_sc_with_metadata_cpm_pc_cell_type_profiles.csv/pbmc_sc_with_metadata_cpm_pc_cell_type_profiles_n_sim_60_profiles.csv', '/space/grp/aadrian/Pseudobulk_Function_Pipeline_HighRes/bin/bulkSimulationOneProfile/data/simulations/0.005/pbmc_sc_with_metadata_cpm_pc_cell_type_profiles.csv/pbmc_sc_with_metadata_cpm_pc_cell_type_profiles_n_sim_32_profiles.csv', '/space/grp/aadrian/Pseudobulk_Function_Pipeline_HighRes/bin/bulkSimulationOneProfile/data/simulations/0.005/pbmc_sc_with_metadata_cpm_pc_cell_type_profiles.csv/pbmc_sc_with_metadata_cpm_pc_cell_type_profiles_n_sim_61_profiles.csv', '/space/grp/aadrian/Pseudobulk_Function_Pipeline_HighRes/bin/bulkSimulationOneProfile/data/simulations/0.005/pbmc_sc_with_metadata_cpm_pc_cell_type_profiles.csv/pbmc_sc_with_metadata_cpm_pc_cell_type_profiles_n_sim_94_profiles.csv', '/space/grp/aadrian/Pseudobulk_Function_Pipeline_HighRes/bin/bulkSimulationOneProfile/data/simulations/0.005/pbmc_sc_with_metadata_cpm_pc_cell_type_profiles.csv/pbmc_sc_with_metadata_cpm_pc_cell_type_profiles_n_sim_18_profiles.csv', '/space/grp/aadrian/Pseudobulk_Function_Pipeline_HighRes/bin/bulkSimulationOneProfile/data/simulations/0.005/pbmc_sc_with_metadata_cpm_pc_cell_type_profiles.csv/pbmc_sc_with_metadata_cpm_pc_cell_type_profiles_n_sim_63_profiles.csv', '/space/grp/aadrian/Pseudobulk_Function_Pipeline_HighRes/bin/bulkSimulationOneProfile/data/simulations/0.005/pbmc_sc_with_metadata_cpm_pc_cell_type_profiles.csv/pbmc_sc_with_metadata_cpm_pc_cell_type_profiles_n_sim_30_profiles.csv', '/space/grp/aadrian/Pseudobulk_Function_Pipeline_HighRes/bin/bulkSimulationOneProfile/data/simulations/0.005/pbmc_sc_with_metadata_cpm_pc_cell_type_profiles.csv/pbmc_sc_with_metadata_cpm_pc_cell_type_profiles_n_sim_49_profiles.csv', '/space/grp/aadrian/Pseudobulk_Function_Pipeline_HighRes/bin/bulkSimulationOneProfile/data/simulations/0.005/pbmc_sc_with_metadata_cpm_pc_cell_type_profiles.csv/pbmc_sc_with_metadata_cpm_pc_cell_type_profiles_n_sim_96_profiles.csv', '/space/grp/aadrian/Pseudobulk_Function_Pipeline_HighRes/bin/bulkSimulationOneProfile/data/simulations/0.005/pbmc_sc_with_metadata_cpm_pc_cell_type_profiles.csv/pbmc_sc_with_metadata_cpm_pc_cell_type_profiles_n_sim_8_profiles.csv', '/space/grp/aadrian/Pseudobulk_Function_Pipeline_HighRes/bin/bulkSimulationOneProfile/data/simulations/0.005/pbmc_sc_with_metadata_cpm_pc_cell_type_profiles.csv/pbmc_sc_with_metadata_cpm_pc_cell_type_profiles_n_sim_9_profiles.csv', '/space/grp/aadrian/Pseudobulk_Function_Pipeline_HighRes/bin/bulkSimulationOneProfile/data/simulations/0.005/pbmc_sc_with_metadata_cpm_pc_cell_type_profiles.csv/pbmc_sc_with_metadata_cpm_pc_cell_type_profiles_n_sim_97_profiles.csv', '/space/grp/aadrian/Pseudobulk_Function_Pipeline_HighRes/bin/bulkSimulationOneProfile/data/simulations/0.005/pbmc_sc_with_metadata_cpm_pc_cell_type_profiles.csv/pbmc_sc_with_metadata_cpm_pc_cell_type_profiles_n_sim_48_profiles.csv', '/space/grp/aadrian/Pseudobulk_Function_Pipeline_HighRes/bin/bulkSimulationOneProfile/data/simulations/0.005/pbmc_sc_with_metadata_cpm_pc_cell_type_profiles.csv/pbmc_sc_with_metadata_cpm_pc_cell_type_profiles_n_sim_62_profiles.csv', '/space/grp/aadrian/Pseudobulk_Function_Pipeline_HighRes/bin/bulkSimulationOneProfile/data/simulations/0.005/pbmc_sc_with_metadata_cpm_pc_cell_type_profiles.csv/pbmc_sc_with_metadata_cpm_pc_cell_type_profiles_n_sim_31_profiles.csv', '/space/grp/aadrian/Pseudobulk_Function_Pipeline_HighRes/bin/bulkSimulationOneProfile/data/simulations/0.005/pbmc_sc_with_metadata_cpm_pc_cell_type_profiles.csv/pbmc_sc_with_metadata_cpm_pc_cell_type_profiles_n_sim_92_profiles.csv', '/space/grp/aadrian/Pseudobulk_Function_Pipeline_HighRes/bin/bulkSimulationOneProfile/data/simulations/0.005/pbmc_sc_with_metadata_cpm_pc_cell_type_profiles.csv/pbmc_sc_with_metadata_cpm_pc_cell_type_profiles_n_sim_34_profiles.csv', '/space/grp/aadrian/Pseudobulk_Function_Pipeline_HighRes/bin/bulkSimulationOneProfile/data/simulations/0.005/pbmc_sc_with_metadata_cpm_pc_cell_type_profiles.csv/pbmc_sc_with_metadata_cpm_pc_cell_type_profiles_n_sim_67_profiles.csv', '/space/grp/aadrian/Pseudobulk_Function_Pipeline_HighRes/bin/bulkSimulationOneProfile/data/simulations/0.005/pbmc_sc_with_metadata_cpm_pc_cell_type_profiles.csv/pbmc_sc_with_metadata_cpm_pc_cell_type_profiles_n_sim_35_profiles.csv', '/space/grp/aadrian/Pseudobulk_Function_Pipeline_HighRes/bin/bulkSimulationOneProfile/data/simulations/0.005/pbmc_sc_with_metadata_cpm_pc_cell_type_profiles.csv/pbmc_sc_with_metadata_cpm_pc_cell_type_profiles_n_sim_66_profiles.csv', '/space/grp/aadrian/Pseudobulk_Function_Pipeline_HighRes/bin/bulkSimulationOneProfile/data/simulations/0.005/pbmc_sc_with_metadata_cpm_pc_cell_type_profiles.csv/pbmc_sc_with_metadata_cpm_pc_cell_type_profiles_n_sim_93_profiles.csv', '/space/grp/aadrian/Pseudobulk_Function_Pipeline_HighRes/bin/bulkSimulationOneProfile/data/simulations/0.005/pbmc_sc_with_metadata_cpm_pc_cell_type_profiles.csv/pbmc_sc_with_metadata_cpm_pc_cell_type_profiles_n_sim_64_profiles.csv', '/space/grp/aadrian/Pseudobulk_Function_Pipeline_HighRes/bin/bulkSimulationOneProfile/data/simulations/0.005/pbmc_sc_with_metadata_cpm_pc_cell_type_profiles.csv/pbmc_sc_with_metadata_cpm_pc_cell_type_profiles_n_sim_37_profiles.csv', '/space/grp/aadrian/Pseudobulk_Function_Pipeline_HighRes/bin/bulkSimulationOneProfile/data/simulations/0.005/pbmc_sc_with_metadata_cpm_pc_cell_type_profiles.csv/pbmc_sc_with_metadata_cpm_pc_cell_type_profiles_n_sim_91_profiles.csv', '/space/grp/aadrian/Pseudobulk_Function_Pipeline_HighRes/bin/bulkSimulationOneProfile/data/simulations/0.005/pbmc_sc_with_metadata_cpm_pc_cell_type_profiles.csv/pbmc_sc_with_metadata_cpm_pc_cell_type_profiles_n_sim_90_profiles.csv', '/space/grp/aadrian/Pseudobulk_Function_Pipeline_HighRes/bin/bulkSimulationOneProfile/data/simulations/0.005/pbmc_sc_with_metadata_cpm_pc_cell_type_profiles.csv/pbmc_sc_with_metadata_cpm_pc_cell_type_profiles_n_sim_65_profiles.csv', '/space/grp/aadrian/Pseudobulk_Function_Pipeline_HighRes/bin/bulkSimulationOneProfile/data/simulations/0.005/pbmc_sc_with_metadata_cpm_pc_cell_type_profiles.csv/pbmc_sc_with_metadata_cpm_pc_cell_type_profiles_n_sim_36_profiles.csv', '/space/grp/aadrian/Pseudobulk_Function_Pipeline_HighRes/bin/bulkSimulationOneProfile/data/simulations/0.005/pbmc_sc_with_metadata_cpm_pc_cell_type_profiles.csv/pbmc_sc_with_metadata_cpm_pc_cell_type_profiles_n_sim_17_profiles.csv', '/space/grp/aadrian/Pseudobulk_Function_Pipeline_HighRes/bin/bulkSimulationOneProfile/data/simulations/0.005/pbmc_sc_with_metadata_cpm_pc_cell_type_profiles.csv/pbmc_sc_with_metadata_cpm_pc_cell_type_profiles_n_sim_44_profiles.csv', '/space/grp/aadrian/Pseudobulk_Function_Pipeline_HighRes/bin/bulkSimulationOneProfile/data/simulations/0.005/pbmc_sc_with_metadata_cpm_pc_cell_type_profiles.csv/pbmc_sc_with_metadata_cpm_pc_cell_type_profiles_n_sim_5_profiles.csv', '/space/grp/aadrian/Pseudobulk_Function_Pipeline_HighRes/bin/bulkSimulationOneProfile/data/simulations/0.005/pbmc_sc_with_metadata_cpm_pc_cell_type_profiles.csv/pbmc_sc_with_metadata_cpm_pc_cell_type_profiles_n_sim_16_profiles.csv', '/space/grp/aadrian/Pseudobulk_Function_Pipeline_HighRes/bin/bulkSimulationOneProfile/data/simulations/0.005/pbmc_sc_with_metadata_cpm_pc_cell_type_profiles.csv/pbmc_sc_with_metadata_cpm_pc_cell_type_profiles_n_sim_4_profiles.csv', '/space/grp/aadrian/Pseudobulk_Function_Pipeline_HighRes/bin/bulkSimulationOneProfile/data/simulations/0.005/pbmc_sc_with_metadata_cpm_pc_cell_type_profiles.csv/pbmc_sc_with_metadata_cpm_pc_cell_type_profiles_n_sim_45_profiles.csv', '/space/grp/aadrian/Pseudobulk_Function_Pipeline_HighRes/bin/bulkSimulationOneProfile/data/simulations/0.005/pbmc_sc_with_metadata_cpm_pc_cell_type_profiles.csv/pbmc_sc_with_metadata_cpm_pc_cell_type_profiles_n_sim_47_profiles.csv', '/space/grp/aadrian/Pseudobulk_Function_Pipeline_HighRes/bin/bulkSimulationOneProfile/data/simulations/0.005/pbmc_sc_with_metadata_cpm_pc_cell_type_profiles.csv/pbmc_sc_with_metadata_cpm_pc_cell_type_profiles_n_sim_98_profiles.csv', '/space/grp/aadrian/Pseudobulk_Function_Pipeline_HighRes/bin/bulkSimulationOneProfile/data/simulations/0.005/pbmc_sc_with_metadata_cpm_pc_cell_type_profiles.csv/pbmc_sc_with_metadata_cpm_pc_cell_type_profiles_n_sim_6_profiles.csv', '/space/grp/aadrian/Pseudobulk_Function_Pipeline_HighRes/bin/bulkSimulationOneProfile/data/simulations/0.005/pbmc_sc_with_metadata_cpm_pc_cell_type_profiles.csv/pbmc_sc_with_metadata_cpm_pc_cell_type_profiles_n_sim_14_profiles.csv', '/space/grp/aadrian/Pseudobulk_Function_Pipeline_HighRes/bin/bulkSimulationOneProfile/data/simulations/0.005/pbmc_sc_with_metadata_cpm_pc_cell_type_profiles.csv/pbmc_sc_with_metadata_cpm_pc_cell_type_profiles_n_sim_7_profiles.csv', '/space/grp/aadrian/Pseudobulk_Function_Pipeline_HighRes/bin/bulkSimulationOneProfile/data/simulations/0.005/pbmc_sc_with_metadata_cpm_pc_cell_type_profiles.csv/pbmc_sc_with_metadata_cpm_pc_cell_type_profiles_n_sim_99_profiles.csv', '/space/grp/aadrian/Pseudobulk_Function_Pipeline_HighRes/bin/bulkSimulationOneProfile/data/simulations/0.005/pbmc_sc_with_metadata_cpm_pc_cell_type_profiles.csv/pbmc_sc_with_metadata_cpm_pc_cell_type_profiles_n_sim_46_profiles.csv', '/space/grp/aadrian/Pseudobulk_Function_Pipeline_HighRes/bin/bulkSimulationOneProfile/data/simulations/0.005/pbmc_sc_with_metadata_cpm_pc_cell_type_profiles.csv/pbmc_sc_with_metadata_cpm_pc_cell_type_profiles_n_sim_15_profiles.csv', '/space/grp/aadrian/Pseudobulk_Function_Pipeline_HighRes/bin/bulkSimulationOneProfile/data/simulations/0.005/pbmc_sc_with_metadata_cpm_pc_cell_type_profiles.csv/pbmc_sc_with_metadata_cpm_pc_cell_type_profiles_n_sim_10_profiles.csv', '/space/grp/aadrian/Pseudobulk_Function_Pipeline_HighRes/bin/bulkSimulationOneProfile/data/simulations/0.005/pbmc_sc_with_metadata_cpm_pc_cell_type_profiles.csv/pbmc_sc_with_metadata_cpm_pc_cell_type_profiles_n_sim_2_profiles.csv', '/space/grp/aadrian/Pseudobulk_Function_Pipeline_HighRes/bin/bulkSimulationOneProfile/data/simulations/0.005/pbmc_sc_with_metadata_cpm_pc_cell_type_profiles.csv/pbmc_sc_with_metadata_cpm_pc_cell_type_profiles_n_sim_43_profiles.csv', '/space/grp/aadrian/Pseudobulk_Function_Pipeline_HighRes/bin/bulkSimulationOneProfile/data/simulations/0.005/pbmc_sc_with_metadata_cpm_pc_cell_type_profiles.csv/pbmc_sc_with_metadata_cpm_pc_cell_type_profiles_n_sim_69_profiles.csv', '/space/grp/aadrian/Pseudobulk_Function_Pipeline_HighRes/bin/bulkSimulationOneProfile/data/simulations/0.005/pbmc_sc_with_metadata_cpm_pc_cell_type_profiles.csv/pbmc_sc_with_metadata_cpm_pc_cell_type_profiles_n_sim_68_profiles.csv', '/space/grp/aadrian/Pseudobulk_Function_Pipeline_HighRes/bin/bulkSimulationOneProfile/data/simulations/0.005/pbmc_sc_with_metadata_cpm_pc_cell_type_profiles.csv/pbmc_sc_with_metadata_cpm_pc_cell_type_profiles_n_sim_11_profiles.csv', '/space/grp/aadrian/Pseudobulk_Function_Pipeline_HighRes/bin/bulkSimulationOneProfile/data/simulations/0.005/pbmc_sc_with_metadata_cpm_pc_cell_type_profiles.csv/pbmc_sc_with_metadata_cpm_pc_cell_type_profiles_n_sim_42_profiles.csv', '/space/grp/aadrian/Pseudobulk_Function_Pipeline_HighRes/bin/bulkSimulationOneProfile/data/simulations/0.005/pbmc_sc_with_metadata_cpm_pc_cell_type_profiles.csv/pbmc_sc_with_metadata_cpm_pc_cell_type_profiles_n_sim_3_profiles.csv', '/space/grp/aadrian/Pseudobulk_Function_Pipeline_HighRes/bin/bulkSimulationOneProfile/data/simulations/0.005/pbmc_sc_with_metadata_cpm_pc_cell_type_profiles.csv/pbmc_sc_with_metadata_cpm_pc_cell_type_profiles_n_sim_39_profiles.csv', '/space/grp/aadrian/Pseudobulk_Function_Pipeline_HighRes/bin/bulkSimulationOneProfile/data/simulations/0.005/pbmc_sc_with_metadata_cpm_pc_cell_type_profiles.csv/pbmc_sc_with_metadata_cpm_pc_cell_type_profiles_n_sim_1_profiles.csv', '/space/grp/aadrian/Pseudobulk_Function_Pipeline_HighRes/bin/bulkSimulationOneProfile/data/simulations/0.005/pbmc_sc_with_metadata_cpm_pc_cell_type_profiles.csv/pbmc_sc_with_metadata_cpm_pc_cell_type_profiles_n_sim_40_profiles.csv', '/space/grp/aadrian/Pseudobulk_Function_Pipeline_HighRes/bin/bulkSimulationOneProfile/data/simulations/0.005/pbmc_sc_with_metadata_cpm_pc_cell_type_profiles.csv/pbmc_sc_with_metadata_cpm_pc_cell_type_profiles_n_sim_13_profiles.csv', '/space/grp/aadrian/Pseudobulk_Function_Pipeline_HighRes/bin/bulkSimulationOneProfile/data/simulations/0.005/pbmc_sc_with_metadata_cpm_pc_cell_type_profiles.csv/pbmc_sc_with_metadata_cpm_pc_cell_type_profiles_n_sim_41_profiles.csv', '/space/grp/aadrian/Pseudobulk_Function_Pipeline_HighRes/bin/bulkSimulationOneProfile/data/simulations/0.005/pbmc_sc_with_metadata_cpm_pc_cell_type_profiles.csv/pbmc_sc_with_metadata_cpm_pc_cell_type_profiles_n_sim_0_profiles.csv', '/space/grp/aadrian/Pseudobulk_Function_Pipeline_HighRes/bin/bulkSimulationOneProfile/data/simulations/0.005/pbmc_sc_with_metadata_cpm_pc_cell_type_profiles.csv/pbmc_sc_with_metadata_cpm_pc_cell_type_profiles_n_sim_12_profiles.csv', '/space/grp/aadrian/Pseudobulk_Function_Pipeline_HighRes/bin/bulkSimulationOneProfile/data/simulations/0.005/pbmc_sc_with_metadata_cpm_pc_cell_type_profiles.csv/pbmc_sc_with_metadata_cpm_pc_cell_type_profiles_n_sim_38_profiles.csv', '/space/grp/aadrian/Pseudobulk_Function_Pipeline_HighRes/bin/bulkSimulationOneProfile/data/simulations/0.005/pbmc_sc_with_metadata_cpm_pc_cell_type_profiles.csv/pbmc_sc_with_metadata_cpm_pc_cell_type_profiles_n_sim_29_profiles.csv', '/space/grp/aadrian/Pseudobulk_Function_Pipeline_HighRes/bin/bulkSimulationOneProfile/data/simulations/0.005/pbmc_sc_with_metadata_cpm_pc_cell_type_profiles.csv/pbmc_sc_with_metadata_cpm_pc_cell_type_profiles_n_sim_50_profiles.csv', '/space/grp/aadrian/Pseudobulk_Function_Pipeline_HighRes/bin/bulkSimulationOneProfile/data/simulations/0.005/pbmc_sc_with_metadata_cpm_pc_cell_type_profiles.csv/pbmc_sc_with_metadata_cpm_pc_cell_type_profiles_n_sim_51_profiles.csv', '/space/grp/aadrian/Pseudobulk_Function_Pipeline_HighRes/bin/bulkSimulationOneProfile/data/simulations/0.005/pbmc_sc_with_metadata_cpm_pc_cell_type_profiles.csv/pbmc_sc_with_metadata_cpm_pc_cell_type_profiles_n_sim_28_profiles.csv', '/space/grp/aadrian/Pseudobulk_Function_Pipeline_HighRes/bin/bulkSimulationOneProfile/data/simulations/0.005/pbmc_sc_with_metadata_cpm_pc_cell_type_profiles.csv/pbmc_sc_with_metadata_cpm_pc_cell_type_profiles_n_sim_53_profiles.csv', '/space/grp/aadrian/Pseudobulk_Function_Pipeline_HighRes/bin/bulkSimulationOneProfile/data/simulations/0.005/pbmc_sc_with_metadata_cpm_pc_cell_type_profiles.csv/pbmc_sc_with_metadata_cpm_pc_cell_type_profiles_n_sim_79_profiles.csv', '/space/grp/aadrian/Pseudobulk_Function_Pipeline_HighRes/bin/bulkSimulationOneProfile/data/simulations/0.005/pbmc_sc_with_metadata_cpm_pc_cell_type_profiles.csv/pbmc_sc_with_metadata_cpm_pc_cell_type_profiles_n_sim_78_profiles.csv', '/space/grp/aadrian/Pseudobulk_Function_Pipeline_HighRes/bin/bulkSimulationOneProfile/data/simulations/0.005/pbmc_sc_with_metadata_cpm_pc_cell_type_profiles.csv/pbmc_sc_with_metadata_cpm_pc_cell_type_profiles_n_sim_52_profiles.csv', '/space/grp/aadrian/Pseudobulk_Function_Pipeline_HighRes/bin/bulkSimulationOneProfile/data/simulations/0.005/pbmc_sc_with_metadata_cpm_pc_cell_type_profiles.csv/pbmc_sc_with_metadata_cpm_pc_cell_type_profiles_n_sim_57_profiles.csv', '/space/grp/aadrian/Pseudobulk_Function_Pipeline_HighRes/bin/bulkSimulationOneProfile/data/simulations/0.005/pbmc_sc_with_metadata_cpm_pc_cell_type_profiles.csv/pbmc_sc_with_metadata_cpm_pc_cell_type_profiles_n_sim_88_profiles.csv', '/space/grp/aadrian/Pseudobulk_Function_Pipeline_HighRes/bin/bulkSimulationOneProfile/data/simulations/0.005/pbmc_sc_with_metadata_cpm_pc_cell_type_profiles.csv/pbmc_sc_with_metadata_cpm_pc_cell_type_profiles_n_sim_89_profiles.csv', '/space/grp/aadrian/Pseudobulk_Function_Pipeline_HighRes/bin/bulkSimulationOneProfile/data/simulations/0.005/pbmc_sc_with_metadata_cpm_pc_cell_type_profiles.csv/pbmc_sc_with_metadata_cpm_pc_cell_type_profiles_n_sim_56_profiles.csv', '/space/grp/aadrian/Pseudobulk_Function_Pipeline_HighRes/bin/bulkSimulationOneProfile/data/simulations/0.005/pbmc_sc_with_metadata_cpm_pc_cell_type_profiles.csv/pbmc_sc_with_metadata_cpm_pc_cell_type_profiles_n_sim_54_profiles.csv', '/space/grp/aadrian/Pseudobulk_Function_Pipeline_HighRes/bin/bulkSimulationOneProfile/data/simulations/0.005/pbmc_sc_with_metadata_cpm_pc_cell_type_profiles.csv/pbmc_sc_with_metadata_cpm_pc_cell_type_profiles_n_sim_55_profiles.csv', '/space/grp/aadrian/Pseudobulk_Function_Pipeline_HighRes/bin/bulkSimulationOneProfile/data/simulations/0.005/pbmc_sc_with_metadata_cpm_pc_cell_type_profiles.csv/pbmc_sc_with_metadata_cpm_pc_cell_type_profiles_n_sim_74_profiles.csv', '/space/grp/aadrian/Pseudobulk_Function_Pipeline_HighRes/bin/bulkSimulationOneProfile/data/simulations/0.005/pbmc_sc_with_metadata_cpm_pc_cell_type_profiles.csv/pbmc_sc_with_metadata_cpm_pc_cell_type_profiles_n_sim_27_profiles.csv', '/space/grp/aadrian/Pseudobulk_Function_Pipeline_HighRes/bin/bulkSimulationOneProfile/data/simulations/0.005/pbmc_sc_with_metadata_cpm_pc_cell_type_profiles.csv/pbmc_sc_with_metadata_cpm_pc_cell_type_profiles_n_sim_81_profiles.csv', '/space/grp/aadrian/Pseudobulk_Function_Pipeline_HighRes/bin/bulkSimulationOneProfile/data/simulations/0.005/pbmc_sc_with_metadata_cpm_pc_cell_type_profiles.csv/pbmc_sc_with_metadata_cpm_pc_cell_type_profiles_n_sim_80_profiles.csv', '/space/grp/aadrian/Pseudobulk_Function_Pipeline_HighRes/bin/bulkSimulationOneProfile/data/simulations/0.005/pbmc_sc_with_metadata_cpm_pc_cell_type_profiles.csv/pbmc_sc_with_metadata_cpm_pc_cell_type_profiles_n_sim_75_profiles.csv', '/space/grp/aadrian/Pseudobulk_Function_Pipeline_HighRes/bin/bulkSimulationOneProfile/data/simulations/0.005/pbmc_sc_with_metadata_cpm_pc_cell_type_profiles.csv/pbmc_sc_with_metadata_cpm_pc_cell_type_profiles_n_sim_26_profiles.csv', '/space/grp/aadrian/Pseudobulk_Function_Pipeline_HighRes/bin/bulkSimulationOneProfile/data/simulations/0.005/pbmc_sc_with_metadata_cpm_pc_cell_type_profiles.csv/pbmc_sc_with_metadata_cpm_pc_cell_type_profiles_n_sim_82_profiles.csv', '/space/grp/aadrian/Pseudobulk_Function_Pipeline_HighRes/bin/bulkSimulationOneProfile/data/simulations/0.005/pbmc_sc_with_metadata_cpm_pc_cell_type_profiles.csv/pbmc_sc_with_metadata_cpm_pc_cell_type_profiles_n_sim_24_profiles.csv', '/space/grp/aadrian/Pseudobulk_Function_Pipeline_HighRes/bin/bulkSimulationOneProfile/data/simulations/0.005/pbmc_sc_with_metadata_cpm_pc_cell_type_profiles.csv/pbmc_sc_with_metadata_cpm_pc_cell_type_profiles_n_sim_77_profiles.csv', '/space/grp/aadrian/Pseudobulk_Function_Pipeline_HighRes/bin/bulkSimulationOneProfile/data/simulations/0.005/pbmc_sc_with_metadata_cpm_pc_cell_type_profiles.csv/pbmc_sc_with_metadata_cpm_pc_cell_type_profiles_n_sim_25_profiles.csv', '/space/grp/aadrian/Pseudobulk_Function_Pipeline_HighRes/bin/bulkSimulationOneProfile/data/simulations/0.005/pbmc_sc_with_metadata_cpm_pc_cell_type_profiles.csv/pbmc_sc_with_metadata_cpm_pc_cell_type_profiles_n_sim_76_profiles.csv', '/space/grp/aadrian/Pseudobulk_Function_Pipeline_HighRes/bin/bulkSimulationOneProfile/data/simulations/0.005/pbmc_sc_with_metadata_cpm_pc_cell_type_profiles.csv/pbmc_sc_with_metadata_cpm_pc_cell_type_profiles_n_sim_83_profiles.csv', '/space/grp/aadrian/Pseudobulk_Function_Pipeline_HighRes/bin/bulkSimulationOneProfile/data/simulations/0.005/pbmc_sc_with_metadata_cpm_pc_cell_type_profiles.csv/pbmc_sc_with_metadata_cpm_pc_cell_type_profiles_n_sim_73_profiles.csv', '/space/grp/aadrian/Pseudobulk_Function_Pipeline_HighRes/bin/bulkSimulationOneProfile/data/simulations/0.005/pbmc_sc_with_metadata_cpm_pc_cell_type_profiles.csv/pbmc_sc_with_metadata_cpm_pc_cell_type_profiles_n_sim_20_profiles.csv', '/space/grp/aadrian/Pseudobulk_Function_Pipeline_HighRes/bin/bulkSimulationOneProfile/data/simulations/0.005/pbmc_sc_with_metadata_cpm_pc_cell_type_profiles.csv/pbmc_sc_with_metadata_cpm_pc_cell_type_profiles_n_sim_59_profiles.csv', '/space/grp/aadrian/Pseudobulk_Function_Pipeline_HighRes/bin/bulkSimulationOneProfile/data/simulations/0.005/pbmc_sc_with_metadata_cpm_pc_cell_type_profiles.csv/pbmc_sc_with_metadata_cpm_pc_cell_type_profiles_n_sim_86_profiles.csv', '/space/grp/aadrian/Pseudobulk_Function_Pipeline_HighRes/bin/bulkSimulationOneProfile/data/simulations/0.005/pbmc_sc_with_metadata_cpm_pc_cell_type_profiles.csv/pbmc_sc_with_metadata_cpm_pc_cell_type_profiles_n_sim_87_profiles.csv', '/space/grp/aadrian/Pseudobulk_Function_Pipeline_HighRes/bin/bulkSimulationOneProfile/data/simulations/0.005/pbmc_sc_with_metadata_cpm_pc_cell_type_profiles.csv/pbmc_sc_with_metadata_cpm_pc_cell_type_profiles_n_sim_58_profiles.csv', '/space/grp/aadrian/Pseudobulk_Function_Pipeline_HighRes/bin/bulkSimulationOneProfile/data/simulations/0.005/pbmc_sc_with_metadata_cpm_pc_cell_type_profiles.csv/pbmc_sc_with_metadata_cpm_pc_cell_type_profiles_n_sim_72_profiles.csv', '/space/grp/aadrian/Pseudobulk_Function_Pipeline_HighRes/bin/bulkSimulationOneProfile/data/simulations/0.005/pbmc_sc_with_metadata_cpm_pc_cell_type_profiles.csv/pbmc_sc_with_metadata_cpm_pc_cell_type_profiles_n_sim_21_profiles.csv', '/space/grp/aadrian/Pseudobulk_Function_Pipeline_HighRes/bin/bulkSimulationOneProfile/data/simulations/0.005/pbmc_sc_with_metadata_cpm_pc_cell_type_profiles.csv/pbmc_sc_with_metadata_cpm_pc_cell_type_profiles_n_sim_85_profiles.csv', '/space/grp/aadrian/Pseudobulk_Function_Pipeline_HighRes/bin/bulkSimulationOneProfile/data/simulations/0.005/pbmc_sc_with_metadata_cpm_pc_cell_type_profiles.csv/pbmc_sc_with_metadata_cpm_pc_cell_type_profiles_n_sim_23_profiles.csv', '/space/grp/aadrian/Pseudobulk_Function_Pipeline_HighRes/bin/bulkSimulationOneProfile/data/simulations/0.005/pbmc_sc_with_metadata_cpm_pc_cell_type_profiles.csv/pbmc_sc_with_metadata_cpm_pc_cell_type_profiles_n_sim_70_profiles.csv', '/space/grp/aadrian/Pseudobulk_Function_Pipeline_HighRes/bin/bulkSimulationOneProfile/data/simulations/0.005/pbmc_sc_with_metadata_cpm_pc_cell_type_profiles.csv/pbmc_sc_with_metadata_cpm_pc_cell_type_profiles_n_sim_22_profiles.csv', '/space/grp/aadrian/Pseudobulk_Function_Pipeline_HighRes/bin/bulkSimulationOneProfile/data/simulations/0.005/pbmc_sc_with_metadata_cpm_pc_cell_type_profiles.csv/pbmc_sc_with_metadata_cpm_pc_cell_type_profiles_n_sim_71_profiles.csv', '/space/grp/aadrian/Pseudobulk_Function_Pipeline_HighRes/bin/bulkSimulationOneProfile/data/simulations/0.005/pbmc_sc_with_metadata_cpm_pc_cell_type_profiles.csv/pbmc_sc_with_metadata_cpm_pc_cell_type_profiles_n_sim_84_profiles.csv'], ['/space/grp/aadrian/Pseudobulk_Function_Pipeline_HighRes/bin/bulkSimulationOneProfile/data/simulations/0.085/pbmc_sc_with_metadata_cpm_pc_cell_type_profiles.csv/pbmc_sc_with_metadata_cpm_pc_cell_type_profiles_n_sim_76_profiles.csv', '/space/grp/aadrian/Pseudobulk_Function_Pipeline_HighRes/bin/bulkSimulationOneProfile/data/simulations/0.085/pbmc_sc_with_metadata_cpm_pc_cell_type_profiles.csv/pbmc_sc_with_metadata_cpm_pc_cell_type_profiles_n_sim_25_profiles.csv', '/space/grp/aadrian/Pseudobulk_Function_Pipeline_HighRes/bin/bulkSimulationOneProfile/data/simulations/0.085/pbmc_sc_with_metadata_cpm_pc_cell_type_profiles.csv/pbmc_sc_with_metadata_cpm_pc_cell_type_profiles_n_sim_83_profiles.csv', '/space/grp/aadrian/Pseudobulk_Function_Pipeline_HighRes/bin/bulkSimulationOneProfile/data/simulations/0.085/pbmc_sc_with_metadata_cpm_pc_cell_type_profiles.csv/pbmc_sc_with_metadata_cpm_pc_cell_type_profiles_n_sim_82_profiles.csv', '/space/grp/aadrian/Pseudobulk_Function_Pipeline_HighRes/bin/bulkSimulationOneProfile/data/simulations/0.085/pbmc_sc_with_metadata_cpm_pc_cell_type_profiles.csv/pbmc_sc_with_metadata_cpm_pc_cell_type_profiles_n_sim_77_profiles.csv', '/space/grp/aadrian/Pseudobulk_Function_Pipeline_HighRes/bin/bulkSimulationOneProfile/data/simulations/0.085/pbmc_sc_with_metadata_cpm_pc_cell_type_profiles.csv/pbmc_sc_with_metadata_cpm_pc_cell_type_profiles_n_sim_24_profiles.csv', '/space/grp/aadrian/Pseudobulk_Function_Pipeline_HighRes/bin/bulkSimulationOneProfile/data/simulations/0.085/pbmc_sc_with_metadata_cpm_pc_cell_type_profiles.csv/pbmc_sc_with_metadata_cpm_pc_cell_type_profiles_n_sim_80_profiles.csv', '/space/grp/aadrian/Pseudobulk_Function_Pipeline_HighRes/bin/bulkSimulationOneProfile/data/simulations/0.085/pbmc_sc_with_metadata_cpm_pc_cell_type_profiles.csv/pbmc_sc_with_metadata_cpm_pc_cell_type_profiles_n_sim_26_profiles.csv', '/space/grp/aadrian/Pseudobulk_Function_Pipeline_HighRes/bin/bulkSimulationOneProfile/data/simulations/0.085/pbmc_sc_with_metadata_cpm_pc_cell_type_profiles.csv/pbmc_sc_with_metadata_cpm_pc_cell_type_profiles_n_sim_75_profiles.csv', '/space/grp/aadrian/Pseudobulk_Function_Pipeline_HighRes/bin/bulkSimulationOneProfile/data/simulations/0.085/pbmc_sc_with_metadata_cpm_pc_cell_type_profiles.csv/pbmc_sc_with_metadata_cpm_pc_cell_type_profiles_n_sim_27_profiles.csv', '/space/grp/aadrian/Pseudobulk_Function_Pipeline_HighRes/bin/bulkSimulationOneProfile/data/simulations/0.085/pbmc_sc_with_metadata_cpm_pc_cell_type_profiles.csv/pbmc_sc_with_metadata_cpm_pc_cell_type_profiles_n_sim_74_profiles.csv', '/space/grp/aadrian/Pseudobulk_Function_Pipeline_HighRes/bin/bulkSimulationOneProfile/data/simulations/0.085/pbmc_sc_with_metadata_cpm_pc_cell_type_profiles.csv/pbmc_sc_with_metadata_cpm_pc_cell_type_profiles_n_sim_81_profiles.csv', '/space/grp/aadrian/Pseudobulk_Function_Pipeline_HighRes/bin/bulkSimulationOneProfile/data/simulations/0.085/pbmc_sc_with_metadata_cpm_pc_cell_type_profiles.csv/pbmc_sc_with_metadata_cpm_pc_cell_type_profiles_n_sim_71_profiles.csv', '/space/grp/aadrian/Pseudobulk_Function_Pipeline_HighRes/bin/bulkSimulationOneProfile/data/simulations/0.085/pbmc_sc_with_metadata_cpm_pc_cell_type_profiles.csv/pbmc_sc_with_metadata_cpm_pc_cell_type_profiles_n_sim_22_profiles.csv', '/space/grp/aadrian/Pseudobulk_Function_Pipeline_HighRes/bin/bulkSimulationOneProfile/data/simulations/0.085/pbmc_sc_with_metadata_cpm_pc_cell_type_profiles.csv/pbmc_sc_with_metadata_cpm_pc_cell_type_profiles_n_sim_84_profiles.csv', '/space/grp/aadrian/Pseudobulk_Function_Pipeline_HighRes/bin/bulkSimulationOneProfile/data/simulations/0.085/pbmc_sc_with_metadata_cpm_pc_cell_type_profiles.csv/pbmc_sc_with_metadata_cpm_pc_cell_type_profiles_n_sim_85_profiles.csv', '/space/grp/aadrian/Pseudobulk_Function_Pipeline_HighRes/bin/bulkSimulationOneProfile/data/simulations/0.085/pbmc_sc_with_metadata_cpm_pc_cell_type_profiles.csv/pbmc_sc_with_metadata_cpm_pc_cell_type_profiles_n_sim_70_profiles.csv', '/space/grp/aadrian/Pseudobulk_Function_Pipeline_HighRes/bin/bulkSimulationOneProfile/data/simulations/0.085/pbmc_sc_with_metadata_cpm_pc_cell_type_profiles.csv/pbmc_sc_with_metadata_cpm_pc_cell_type_profiles_n_sim_23_profiles.csv', '/space/grp/aadrian/Pseudobulk_Function_Pipeline_HighRes/bin/bulkSimulationOneProfile/data/simulations/0.085/pbmc_sc_with_metadata_cpm_pc_cell_type_profiles.csv/pbmc_sc_with_metadata_cpm_pc_cell_type_profiles_n_sim_58_profiles.csv', '/space/grp/aadrian/Pseudobulk_Function_Pipeline_HighRes/bin/bulkSimulationOneProfile/data/simulations/0.085/pbmc_sc_with_metadata_cpm_pc_cell_type_profiles.csv/pbmc_sc_with_metadata_cpm_pc_cell_type_profiles_n_sim_87_profiles.csv', '/space/grp/aadrian/Pseudobulk_Function_Pipeline_HighRes/bin/bulkSimulationOneProfile/data/simulations/0.085/pbmc_sc_with_metadata_cpm_pc_cell_type_profiles.csv/pbmc_sc_with_metadata_cpm_pc_cell_type_profiles_n_sim_21_profiles.csv', '/space/grp/aadrian/Pseudobulk_Function_Pipeline_HighRes/bin/bulkSimulationOneProfile/data/simulations/0.085/pbmc_sc_with_metadata_cpm_pc_cell_type_profiles.csv/pbmc_sc_with_metadata_cpm_pc_cell_type_profiles_n_sim_72_profiles.csv', '/space/grp/aadrian/Pseudobulk_Function_Pipeline_HighRes/bin/bulkSimulationOneProfile/data/simulations/0.085/pbmc_sc_with_metadata_cpm_pc_cell_type_profiles.csv/pbmc_sc_with_metadata_cpm_pc_cell_type_profiles_n_sim_20_profiles.csv', '/space/grp/aadrian/Pseudobulk_Function_Pipeline_HighRes/bin/bulkSimulationOneProfile/data/simulations/0.085/pbmc_sc_with_metadata_cpm_pc_cell_type_profiles.csv/pbmc_sc_with_metadata_cpm_pc_cell_type_profiles_n_sim_73_profiles.csv', '/space/grp/aadrian/Pseudobulk_Function_Pipeline_HighRes/bin/bulkSimulationOneProfile/data/simulations/0.085/pbmc_sc_with_metadata_cpm_pc_cell_type_profiles.csv/pbmc_sc_with_metadata_cpm_pc_cell_type_profiles_n_sim_86_profiles.csv', '/space/grp/aadrian/Pseudobulk_Function_Pipeline_HighRes/bin/bulkSimulationOneProfile/data/simulations/0.085/pbmc_sc_with_metadata_cpm_pc_cell_type_profiles.csv/pbmc_sc_with_metadata_cpm_pc_cell_type_profiles_n_sim_59_profiles.csv', '/space/grp/aadrian/Pseudobulk_Function_Pipeline_HighRes/bin/bulkSimulationOneProfile/data/simulations/0.085/pbmc_sc_with_metadata_cpm_pc_cell_type_profiles.csv/pbmc_sc_with_metadata_cpm_pc_cell_type_profiles_n_sim_78_profiles.csv', '/space/grp/aadrian/Pseudobulk_Function_Pipeline_HighRes/bin/bulkSimulationOneProfile/data/simulations/0.085/pbmc_sc_with_metadata_cpm_pc_cell_type_profiles.csv/pbmc_sc_with_metadata_cpm_pc_cell_type_profiles_n_sim_52_profiles.csv', '/space/grp/aadrian/Pseudobulk_Function_Pipeline_HighRes/bin/bulkSimulationOneProfile/data/simulations/0.085/pbmc_sc_with_metadata_cpm_pc_cell_type_profiles.csv/pbmc_sc_with_metadata_cpm_pc_cell_type_profiles_n_sim_53_profiles.csv', '/space/grp/aadrian/Pseudobulk_Function_Pipeline_HighRes/bin/bulkSimulationOneProfile/data/simulations/0.085/pbmc_sc_with_metadata_cpm_pc_cell_type_profiles.csv/pbmc_sc_with_metadata_cpm_pc_cell_type_profiles_n_sim_79_profiles.csv', '/space/grp/aadrian/Pseudobulk_Function_Pipeline_HighRes/bin/bulkSimulationOneProfile/data/simulations/0.085/pbmc_sc_with_metadata_cpm_pc_cell_type_profiles.csv/pbmc_sc_with_metadata_cpm_pc_cell_type_profiles_n_sim_51_profiles.csv', '/space/grp/aadrian/Pseudobulk_Function_Pipeline_HighRes/bin/bulkSimulationOneProfile/data/simulations/0.085/pbmc_sc_with_metadata_cpm_pc_cell_type_profiles.csv/pbmc_sc_with_metadata_cpm_pc_cell_type_profiles_n_sim_28_profiles.csv', '/space/grp/aadrian/Pseudobulk_Function_Pipeline_HighRes/bin/bulkSimulationOneProfile/data/simulations/0.085/pbmc_sc_with_metadata_cpm_pc_cell_type_profiles.csv/pbmc_sc_with_metadata_cpm_pc_cell_type_profiles_n_sim_29_profiles.csv', '/space/grp/aadrian/Pseudobulk_Function_Pipeline_HighRes/bin/bulkSimulationOneProfile/data/simulations/0.085/pbmc_sc_with_metadata_cpm_pc_cell_type_profiles.csv/pbmc_sc_with_metadata_cpm_pc_cell_type_profiles_n_sim_50_profiles.csv', '/space/grp/aadrian/Pseudobulk_Function_Pipeline_HighRes/bin/bulkSimulationOneProfile/data/simulations/0.085/pbmc_sc_with_metadata_cpm_pc_cell_type_profiles.csv/pbmc_sc_with_metadata_cpm_pc_cell_type_profiles_n_sim_55_profiles.csv', '/space/grp/aadrian/Pseudobulk_Function_Pipeline_HighRes/bin/bulkSimulationOneProfile/data/simulations/0.085/pbmc_sc_with_metadata_cpm_pc_cell_type_profiles.csv/pbmc_sc_with_metadata_cpm_pc_cell_type_profiles_n_sim_54_profiles.csv', '/space/grp/aadrian/Pseudobulk_Function_Pipeline_HighRes/bin/bulkSimulationOneProfile/data/simulations/0.085/pbmc_sc_with_metadata_cpm_pc_cell_type_profiles.csv/pbmc_sc_with_metadata_cpm_pc_cell_type_profiles_n_sim_56_profiles.csv', '/space/grp/aadrian/Pseudobulk_Function_Pipeline_HighRes/bin/bulkSimulationOneProfile/data/simulations/0.085/pbmc_sc_with_metadata_cpm_pc_cell_type_profiles.csv/pbmc_sc_with_metadata_cpm_pc_cell_type_profiles_n_sim_89_profiles.csv', '/space/grp/aadrian/Pseudobulk_Function_Pipeline_HighRes/bin/bulkSimulationOneProfile/data/simulations/0.085/pbmc_sc_with_metadata_cpm_pc_cell_type_profiles.csv/pbmc_sc_with_metadata_cpm_pc_cell_type_profiles_n_sim_88_profiles.csv', '/space/grp/aadrian/Pseudobulk_Function_Pipeline_HighRes/bin/bulkSimulationOneProfile/data/simulations/0.085/pbmc_sc_with_metadata_cpm_pc_cell_type_profiles.csv/pbmc_sc_with_metadata_cpm_pc_cell_type_profiles_n_sim_57_profiles.csv', '/space/grp/aadrian/Pseudobulk_Function_Pipeline_HighRes/bin/bulkSimulationOneProfile/data/simulations/0.085/pbmc_sc_with_metadata_cpm_pc_cell_type_profiles.csv/pbmc_sc_with_metadata_cpm_pc_cell_type_profiles_n_sim_15_profiles.csv', '/space/grp/aadrian/Pseudobulk_Function_Pipeline_HighRes/bin/bulkSimulationOneProfile/data/simulations/0.085/pbmc_sc_with_metadata_cpm_pc_cell_type_profiles.csv/pbmc_sc_with_metadata_cpm_pc_cell_type_profiles_n_sim_46_profiles.csv', '/space/grp/aadrian/Pseudobulk_Function_Pipeline_HighRes/bin/bulkSimulationOneProfile/data/simulations/0.085/pbmc_sc_with_metadata_cpm_pc_cell_type_profiles.csv/pbmc_sc_with_metadata_cpm_pc_cell_type_profiles_n_sim_99_profiles.csv', '/space/grp/aadrian/Pseudobulk_Function_Pipeline_HighRes/bin/bulkSimulationOneProfile/data/simulations/0.085/pbmc_sc_with_metadata_cpm_pc_cell_type_profiles.csv/pbmc_sc_with_metadata_cpm_pc_cell_type_profiles_n_sim_14_profiles.csv', '/space/grp/aadrian/Pseudobulk_Function_Pipeline_HighRes/bin/bulkSimulationOneProfile/data/simulations/0.085/pbmc_sc_with_metadata_cpm_pc_cell_type_profiles.csv/pbmc_sc_with_metadata_cpm_pc_cell_type_profiles_n_sim_98_profiles.csv', '/space/grp/aadrian/Pseudobulk_Function_Pipeline_HighRes/bin/bulkSimulationOneProfile/data/simulations/0.085/pbmc_sc_with_metadata_cpm_pc_cell_type_profiles.csv/pbmc_sc_with_metadata_cpm_pc_cell_type_profiles_n_sim_47_profiles.csv', '/space/grp/aadrian/Pseudobulk_Function_Pipeline_HighRes/bin/bulkSimulationOneProfile/data/simulations/0.085/pbmc_sc_with_metadata_cpm_pc_cell_type_profiles.csv/pbmc_sc_with_metadata_cpm_pc_cell_type_profiles_n_sim_45_profiles.csv', '/space/grp/aadrian/Pseudobulk_Function_Pipeline_HighRes/bin/bulkSimulationOneProfile/data/simulations/0.085/pbmc_sc_with_metadata_cpm_pc_cell_type_profiles.csv/pbmc_sc_with_metadata_cpm_pc_cell_type_profiles_n_sim_16_profiles.csv', '/space/grp/aadrian/Pseudobulk_Function_Pipeline_HighRes/bin/bulkSimulationOneProfile/data/simulations/0.085/pbmc_sc_with_metadata_cpm_pc_cell_type_profiles.csv/pbmc_sc_with_metadata_cpm_pc_cell_type_profiles_n_sim_44_profiles.csv', '/space/grp/aadrian/Pseudobulk_Function_Pipeline_HighRes/bin/bulkSimulationOneProfile/data/simulations/0.085/pbmc_sc_with_metadata_cpm_pc_cell_type_profiles.csv/pbmc_sc_with_metadata_cpm_pc_cell_type_profiles_n_sim_17_profiles.csv', '/space/grp/aadrian/Pseudobulk_Function_Pipeline_HighRes/bin/bulkSimulationOneProfile/data/simulations/0.085/pbmc_sc_with_metadata_cpm_pc_cell_type_profiles.csv/pbmc_sc_with_metadata_cpm_pc_cell_type_profiles_n_sim_12_profiles.csv', '/space/grp/aadrian/Pseudobulk_Function_Pipeline_HighRes/bin/bulkSimulationOneProfile/data/simulations/0.085/pbmc_sc_with_metadata_cpm_pc_cell_type_profiles.csv/pbmc_sc_with_metadata_cpm_pc_cell_type_profiles_n_sim_41_profiles.csv', '/space/grp/aadrian/Pseudobulk_Function_Pipeline_HighRes/bin/bulkSimulationOneProfile/data/simulations/0.085/pbmc_sc_with_metadata_cpm_pc_cell_type_profiles.csv/pbmc_sc_with_metadata_cpm_pc_cell_type_profiles_n_sim_38_profiles.csv', '/space/grp/aadrian/Pseudobulk_Function_Pipeline_HighRes/bin/bulkSimulationOneProfile/data/simulations/0.085/pbmc_sc_with_metadata_cpm_pc_cell_type_profiles.csv/pbmc_sc_with_metadata_cpm_pc_cell_type_profiles_n_sim_39_profiles.csv', '/space/grp/aadrian/Pseudobulk_Function_Pipeline_HighRes/bin/bulkSimulationOneProfile/data/simulations/0.085/pbmc_sc_with_metadata_cpm_pc_cell_type_profiles.csv/pbmc_sc_with_metadata_cpm_pc_cell_type_profiles_n_sim_13_profiles.csv', '/space/grp/aadrian/Pseudobulk_Function_Pipeline_HighRes/bin/bulkSimulationOneProfile/data/simulations/0.085/pbmc_sc_with_metadata_cpm_pc_cell_type_profiles.csv/pbmc_sc_with_metadata_cpm_pc_cell_type_profiles_n_sim_40_profiles.csv', '/space/grp/aadrian/Pseudobulk_Function_Pipeline_HighRes/bin/bulkSimulationOneProfile/data/simulations/0.085/pbmc_sc_with_metadata_cpm_pc_cell_type_profiles.csv/pbmc_sc_with_metadata_cpm_pc_cell_type_profiles_n_sim_68_profiles.csv', '/space/grp/aadrian/Pseudobulk_Function_Pipeline_HighRes/bin/bulkSimulationOneProfile/data/simulations/0.085/pbmc_sc_with_metadata_cpm_pc_cell_type_profiles.csv/pbmc_sc_with_metadata_cpm_pc_cell_type_profiles_n_sim_9_profiles.csv', '/space/grp/aadrian/Pseudobulk_Function_Pipeline_HighRes/bin/bulkSimulationOneProfile/data/simulations/0.085/pbmc_sc_with_metadata_cpm_pc_cell_type_profiles.csv/pbmc_sc_with_metadata_cpm_pc_cell_type_profiles_n_sim_42_profiles.csv', '/space/grp/aadrian/Pseudobulk_Function_Pipeline_HighRes/bin/bulkSimulationOneProfile/data/simulations/0.085/pbmc_sc_with_metadata_cpm_pc_cell_type_profiles.csv/pbmc_sc_with_metadata_cpm_pc_cell_type_profiles_n_sim_11_profiles.csv', '/space/grp/aadrian/Pseudobulk_Function_Pipeline_HighRes/bin/bulkSimulationOneProfile/data/simulations/0.085/pbmc_sc_with_metadata_cpm_pc_cell_type_profiles.csv/pbmc_sc_with_metadata_cpm_pc_cell_type_profiles_n_sim_43_profiles.csv', '/space/grp/aadrian/Pseudobulk_Function_Pipeline_HighRes/bin/bulkSimulationOneProfile/data/simulations/0.085/pbmc_sc_with_metadata_cpm_pc_cell_type_profiles.csv/pbmc_sc_with_metadata_cpm_pc_cell_type_profiles_n_sim_8_profiles.csv', '/space/grp/aadrian/Pseudobulk_Function_Pipeline_HighRes/bin/bulkSimulationOneProfile/data/simulations/0.085/pbmc_sc_with_metadata_cpm_pc_cell_type_profiles.csv/pbmc_sc_with_metadata_cpm_pc_cell_type_profiles_n_sim_10_profiles.csv', '/space/grp/aadrian/Pseudobulk_Function_Pipeline_HighRes/bin/bulkSimulationOneProfile/data/simulations/0.085/pbmc_sc_with_metadata_cpm_pc_cell_type_profiles.csv/pbmc_sc_with_metadata_cpm_pc_cell_type_profiles_n_sim_69_profiles.csv', '/space/grp/aadrian/Pseudobulk_Function_Pipeline_HighRes/bin/bulkSimulationOneProfile/data/simulations/0.085/pbmc_sc_with_metadata_cpm_pc_cell_type_profiles.csv/pbmc_sc_with_metadata_cpm_pc_cell_type_profiles_n_sim_48_profiles.csv', '/space/grp/aadrian/Pseudobulk_Function_Pipeline_HighRes/bin/bulkSimulationOneProfile/data/simulations/0.085/pbmc_sc_with_metadata_cpm_pc_cell_type_profiles.csv/pbmc_sc_with_metadata_cpm_pc_cell_type_profiles_n_sim_3_profiles.csv', '/space/grp/aadrian/Pseudobulk_Function_Pipeline_HighRes/bin/bulkSimulationOneProfile/data/simulations/0.085/pbmc_sc_with_metadata_cpm_pc_cell_type_profiles.csv/pbmc_sc_with_metadata_cpm_pc_cell_type_profiles_n_sim_97_profiles.csv', '/space/grp/aadrian/Pseudobulk_Function_Pipeline_HighRes/bin/bulkSimulationOneProfile/data/simulations/0.085/pbmc_sc_with_metadata_cpm_pc_cell_type_profiles.csv/pbmc_sc_with_metadata_cpm_pc_cell_type_profiles_n_sim_31_profiles.csv', '/space/grp/aadrian/Pseudobulk_Function_Pipeline_HighRes/bin/bulkSimulationOneProfile/data/simulations/0.085/pbmc_sc_with_metadata_cpm_pc_cell_type_profiles.csv/pbmc_sc_with_metadata_cpm_pc_cell_type_profiles_n_sim_62_profiles.csv', '/space/grp/aadrian/Pseudobulk_Function_Pipeline_HighRes/bin/bulkSimulationOneProfile/data/simulations/0.085/pbmc_sc_with_metadata_cpm_pc_cell_type_profiles.csv/pbmc_sc_with_metadata_cpm_pc_cell_type_profiles_n_sim_30_profiles.csv', '/space/grp/aadrian/Pseudobulk_Function_Pipeline_HighRes/bin/bulkSimulationOneProfile/data/simulations/0.085/pbmc_sc_with_metadata_cpm_pc_cell_type_profiles.csv/pbmc_sc_with_metadata_cpm_pc_cell_type_profiles_n_sim_63_profiles.csv', '/space/grp/aadrian/Pseudobulk_Function_Pipeline_HighRes/bin/bulkSimulationOneProfile/data/simulations/0.085/pbmc_sc_with_metadata_cpm_pc_cell_type_profiles.csv/pbmc_sc_with_metadata_cpm_pc_cell_type_profiles_n_sim_96_profiles.csv', '/space/grp/aadrian/Pseudobulk_Function_Pipeline_HighRes/bin/bulkSimulationOneProfile/data/simulations/0.085/pbmc_sc_with_metadata_cpm_pc_cell_type_profiles.csv/pbmc_sc_with_metadata_cpm_pc_cell_type_profiles_n_sim_2_profiles.csv', '/space/grp/aadrian/Pseudobulk_Function_Pipeline_HighRes/bin/bulkSimulationOneProfile/data/simulations/0.085/pbmc_sc_with_metadata_cpm_pc_cell_type_profiles.csv/pbmc_sc_with_metadata_cpm_pc_cell_type_profiles_n_sim_49_profiles.csv', '/space/grp/aadrian/Pseudobulk_Function_Pipeline_HighRes/bin/bulkSimulationOneProfile/data/simulations/0.085/pbmc_sc_with_metadata_cpm_pc_cell_type_profiles.csv/pbmc_sc_with_metadata_cpm_pc_cell_type_profiles_n_sim_61_profiles.csv', '/space/grp/aadrian/Pseudobulk_Function_Pipeline_HighRes/bin/bulkSimulationOneProfile/data/simulations/0.085/pbmc_sc_with_metadata_cpm_pc_cell_type_profiles.csv/pbmc_sc_with_metadata_cpm_pc_cell_type_profiles_n_sim_32_profiles.csv', '/space/grp/aadrian/Pseudobulk_Function_Pipeline_HighRes/bin/bulkSimulationOneProfile/data/simulations/0.085/pbmc_sc_with_metadata_cpm_pc_cell_type_profiles.csv/pbmc_sc_with_metadata_cpm_pc_cell_type_profiles_n_sim_18_profiles.csv', '/space/grp/aadrian/Pseudobulk_Function_Pipeline_HighRes/bin/bulkSimulationOneProfile/data/simulations/0.085/pbmc_sc_with_metadata_cpm_pc_cell_type_profiles.csv/pbmc_sc_with_metadata_cpm_pc_cell_type_profiles_n_sim_0_profiles.csv', '/space/grp/aadrian/Pseudobulk_Function_Pipeline_HighRes/bin/bulkSimulationOneProfile/data/simulations/0.085/pbmc_sc_with_metadata_cpm_pc_cell_type_profiles.csv/pbmc_sc_with_metadata_cpm_pc_cell_type_profiles_n_sim_94_profiles.csv', '/space/grp/aadrian/Pseudobulk_Function_Pipeline_HighRes/bin/bulkSimulationOneProfile/data/simulations/0.085/pbmc_sc_with_metadata_cpm_pc_cell_type_profiles.csv/pbmc_sc_with_metadata_cpm_pc_cell_type_profiles_n_sim_19_profiles.csv', '/space/grp/aadrian/Pseudobulk_Function_Pipeline_HighRes/bin/bulkSimulationOneProfile/data/simulations/0.085/pbmc_sc_with_metadata_cpm_pc_cell_type_profiles.csv/pbmc_sc_with_metadata_cpm_pc_cell_type_profiles_n_sim_95_profiles.csv', '/space/grp/aadrian/Pseudobulk_Function_Pipeline_HighRes/bin/bulkSimulationOneProfile/data/simulations/0.085/pbmc_sc_with_metadata_cpm_pc_cell_type_profiles.csv/pbmc_sc_with_metadata_cpm_pc_cell_type_profiles_n_sim_1_profiles.csv', '/space/grp/aadrian/Pseudobulk_Function_Pipeline_HighRes/bin/bulkSimulationOneProfile/data/simulations/0.085/pbmc_sc_with_metadata_cpm_pc_cell_type_profiles.csv/pbmc_sc_with_metadata_cpm_pc_cell_type_profiles_n_sim_60_profiles.csv', '/space/grp/aadrian/Pseudobulk_Function_Pipeline_HighRes/bin/bulkSimulationOneProfile/data/simulations/0.085/pbmc_sc_with_metadata_cpm_pc_cell_type_profiles.csv/pbmc_sc_with_metadata_cpm_pc_cell_type_profiles_n_sim_33_profiles.csv', '/space/grp/aadrian/Pseudobulk_Function_Pipeline_HighRes/bin/bulkSimulationOneProfile/data/simulations/0.085/pbmc_sc_with_metadata_cpm_pc_cell_type_profiles.csv/pbmc_sc_with_metadata_cpm_pc_cell_type_profiles_n_sim_90_profiles.csv', '/space/grp/aadrian/Pseudobulk_Function_Pipeline_HighRes/bin/bulkSimulationOneProfile/data/simulations/0.085/pbmc_sc_with_metadata_cpm_pc_cell_type_profiles.csv/pbmc_sc_with_metadata_cpm_pc_cell_type_profiles_n_sim_4_profiles.csv', '/space/grp/aadrian/Pseudobulk_Function_Pipeline_HighRes/bin/bulkSimulationOneProfile/data/simulations/0.085/pbmc_sc_with_metadata_cpm_pc_cell_type_profiles.csv/pbmc_sc_with_metadata_cpm_pc_cell_type_profiles_n_sim_36_profiles.csv', '/space/grp/aadrian/Pseudobulk_Function_Pipeline_HighRes/bin/bulkSimulationOneProfile/data/simulations/0.085/pbmc_sc_with_metadata_cpm_pc_cell_type_profiles.csv/pbmc_sc_with_metadata_cpm_pc_cell_type_profiles_n_sim_65_profiles.csv', '/space/grp/aadrian/Pseudobulk_Function_Pipeline_HighRes/bin/bulkSimulationOneProfile/data/simulations/0.085/pbmc_sc_with_metadata_cpm_pc_cell_type_profiles.csv/pbmc_sc_with_metadata_cpm_pc_cell_type_profiles_n_sim_37_profiles.csv', '/space/grp/aadrian/Pseudobulk_Function_Pipeline_HighRes/bin/bulkSimulationOneProfile/data/simulations/0.085/pbmc_sc_with_metadata_cpm_pc_cell_type_profiles.csv/pbmc_sc_with_metadata_cpm_pc_cell_type_profiles_n_sim_64_profiles.csv', '/space/grp/aadrian/Pseudobulk_Function_Pipeline_HighRes/bin/bulkSimulationOneProfile/data/simulations/0.085/pbmc_sc_with_metadata_cpm_pc_cell_type_profiles.csv/pbmc_sc_with_metadata_cpm_pc_cell_type_profiles_n_sim_5_profiles.csv', '/space/grp/aadrian/Pseudobulk_Function_Pipeline_HighRes/bin/bulkSimulationOneProfile/data/simulations/0.085/pbmc_sc_with_metadata_cpm_pc_cell_type_profiles.csv/pbmc_sc_with_metadata_cpm_pc_cell_type_profiles_n_sim_91_profiles.csv', '/space/grp/aadrian/Pseudobulk_Function_Pipeline_HighRes/bin/bulkSimulationOneProfile/data/simulations/0.085/pbmc_sc_with_metadata_cpm_pc_cell_type_profiles.csv/pbmc_sc_with_metadata_cpm_pc_cell_type_profiles_n_sim_66_profiles.csv', '/space/grp/aadrian/Pseudobulk_Function_Pipeline_HighRes/bin/bulkSimulationOneProfile/data/simulations/0.085/pbmc_sc_with_metadata_cpm_pc_cell_type_profiles.csv/pbmc_sc_with_metadata_cpm_pc_cell_type_profiles_n_sim_35_profiles.csv', '/space/grp/aadrian/Pseudobulk_Function_Pipeline_HighRes/bin/bulkSimulationOneProfile/data/simulations/0.085/pbmc_sc_with_metadata_cpm_pc_cell_type_profiles.csv/pbmc_sc_with_metadata_cpm_pc_cell_type_profiles_n_sim_93_profiles.csv', '/space/grp/aadrian/Pseudobulk_Function_Pipeline_HighRes/bin/bulkSimulationOneProfile/data/simulations/0.085/pbmc_sc_with_metadata_cpm_pc_cell_type_profiles.csv/pbmc_sc_with_metadata_cpm_pc_cell_type_profiles_n_sim_7_profiles.csv', '/space/grp/aadrian/Pseudobulk_Function_Pipeline_HighRes/bin/bulkSimulationOneProfile/data/simulations/0.085/pbmc_sc_with_metadata_cpm_pc_cell_type_profiles.csv/pbmc_sc_with_metadata_cpm_pc_cell_type_profiles_n_sim_6_profiles.csv', '/space/grp/aadrian/Pseudobulk_Function_Pipeline_HighRes/bin/bulkSimulationOneProfile/data/simulations/0.085/pbmc_sc_with_metadata_cpm_pc_cell_type_profiles.csv/pbmc_sc_with_metadata_cpm_pc_cell_type_profiles_n_sim_92_profiles.csv', '/space/grp/aadrian/Pseudobulk_Function_Pipeline_HighRes/bin/bulkSimulationOneProfile/data/simulations/0.085/pbmc_sc_with_metadata_cpm_pc_cell_type_profiles.csv/pbmc_sc_with_metadata_cpm_pc_cell_type_profiles_n_sim_67_profiles.csv', '/space/grp/aadrian/Pseudobulk_Function_Pipeline_HighRes/bin/bulkSimulationOneProfile/data/simulations/0.085/pbmc_sc_with_metadata_cpm_pc_cell_type_profiles.csv/pbmc_sc_with_metadata_cpm_pc_cell_type_profiles_n_sim_34_profiles.csv'], ['/space/grp/aadrian/Pseudobulk_Function_Pipeline_HighRes/bin/bulkSimulationOneProfile/data/simulations/0.7/pbmc_sc_with_metadata_cpm_pc_cell_type_profiles.csv/pbmc_sc_with_metadata_cpm_pc_cell_type_profiles_n_sim_47_profiles.csv', '/space/grp/aadrian/Pseudobulk_Function_Pipeline_HighRes/bin/bulkSimulationOneProfile/data/simulations/0.7/pbmc_sc_with_metadata_cpm_pc_cell_type_profiles.csv/pbmc_sc_with_metadata_cpm_pc_cell_type_profiles_n_sim_98_profiles.csv', '/space/grp/aadrian/Pseudobulk_Function_Pipeline_HighRes/bin/bulkSimulationOneProfile/data/simulations/0.7/pbmc_sc_with_metadata_cpm_pc_cell_type_profiles.csv/pbmc_sc_with_metadata_cpm_pc_cell_type_profiles_n_sim_14_profiles.csv', '/space/grp/aadrian/Pseudobulk_Function_Pipeline_HighRes/bin/bulkSimulationOneProfile/data/simulations/0.7/pbmc_sc_with_metadata_cpm_pc_cell_type_profiles.csv/pbmc_sc_with_metadata_cpm_pc_cell_type_profiles_n_sim_99_profiles.csv', '/space/grp/aadrian/Pseudobulk_Function_Pipeline_HighRes/bin/bulkSimulationOneProfile/data/simulations/0.7/pbmc_sc_with_metadata_cpm_pc_cell_type_profiles.csv/pbmc_sc_with_metadata_cpm_pc_cell_type_profiles_n_sim_46_profiles.csv', '/space/grp/aadrian/Pseudobulk_Function_Pipeline_HighRes/bin/bulkSimulationOneProfile/data/simulations/0.7/pbmc_sc_with_metadata_cpm_pc_cell_type_profiles.csv/pbmc_sc_with_metadata_cpm_pc_cell_type_profiles_n_sim_15_profiles.csv', '/space/grp/aadrian/Pseudobulk_Function_Pipeline_HighRes/bin/bulkSimulationOneProfile/data/simulations/0.7/pbmc_sc_with_metadata_cpm_pc_cell_type_profiles.csv/pbmc_sc_with_metadata_cpm_pc_cell_type_profiles_n_sim_17_profiles.csv', '/space/grp/aadrian/Pseudobulk_Function_Pipeline_HighRes/bin/bulkSimulationOneProfile/data/simulations/0.7/pbmc_sc_with_metadata_cpm_pc_cell_type_profiles.csv/pbmc_sc_with_metadata_cpm_pc_cell_type_profiles_n_sim_44_profiles.csv', '/space/grp/aadrian/Pseudobulk_Function_Pipeline_HighRes/bin/bulkSimulationOneProfile/data/simulations/0.7/pbmc_sc_with_metadata_cpm_pc_cell_type_profiles.csv/pbmc_sc_with_metadata_cpm_pc_cell_type_profiles_n_sim_16_profiles.csv', '/space/grp/aadrian/Pseudobulk_Function_Pipeline_HighRes/bin/bulkSimulationOneProfile/data/simulations/0.7/pbmc_sc_with_metadata_cpm_pc_cell_type_profiles.csv/pbmc_sc_with_metadata_cpm_pc_cell_type_profiles_n_sim_45_profiles.csv', '/space/grp/aadrian/Pseudobulk_Function_Pipeline_HighRes/bin/bulkSimulationOneProfile/data/simulations/0.7/pbmc_sc_with_metadata_cpm_pc_cell_type_profiles.csv/pbmc_sc_with_metadata_cpm_pc_cell_type_profiles_n_sim_39_profiles.csv', '/space/grp/aadrian/Pseudobulk_Function_Pipeline_HighRes/bin/bulkSimulationOneProfile/data/simulations/0.7/pbmc_sc_with_metadata_cpm_pc_cell_type_profiles.csv/pbmc_sc_with_metadata_cpm_pc_cell_type_profiles_n_sim_40_profiles.csv', '/space/grp/aadrian/Pseudobulk_Function_Pipeline_HighRes/bin/bulkSimulationOneProfile/data/simulations/0.7/pbmc_sc_with_metadata_cpm_pc_cell_type_profiles.csv/pbmc_sc_with_metadata_cpm_pc_cell_type_profiles_n_sim_13_profiles.csv', '/space/grp/aadrian/Pseudobulk_Function_Pipeline_HighRes/bin/bulkSimulationOneProfile/data/simulations/0.7/pbmc_sc_with_metadata_cpm_pc_cell_type_profiles.csv/pbmc_sc_with_metadata_cpm_pc_cell_type_profiles_n_sim_41_profiles.csv', '/space/grp/aadrian/Pseudobulk_Function_Pipeline_HighRes/bin/bulkSimulationOneProfile/data/simulations/0.7/pbmc_sc_with_metadata_cpm_pc_cell_type_profiles.csv/pbmc_sc_with_metadata_cpm_pc_cell_type_profiles_n_sim_12_profiles.csv', '/space/grp/aadrian/Pseudobulk_Function_Pipeline_HighRes/bin/bulkSimulationOneProfile/data/simulations/0.7/pbmc_sc_with_metadata_cpm_pc_cell_type_profiles.csv/pbmc_sc_with_metadata_cpm_pc_cell_type_profiles_n_sim_38_profiles.csv', '/space/grp/aadrian/Pseudobulk_Function_Pipeline_HighRes/bin/bulkSimulationOneProfile/data/simulations/0.7/pbmc_sc_with_metadata_cpm_pc_cell_type_profiles.csv/pbmc_sc_with_metadata_cpm_pc_cell_type_profiles_n_sim_10_profiles.csv', '/space/grp/aadrian/Pseudobulk_Function_Pipeline_HighRes/bin/bulkSimulationOneProfile/data/simulations/0.7/pbmc_sc_with_metadata_cpm_pc_cell_type_profiles.csv/pbmc_sc_with_metadata_cpm_pc_cell_type_profiles_n_sim_43_profiles.csv', '/space/grp/aadrian/Pseudobulk_Function_Pipeline_HighRes/bin/bulkSimulationOneProfile/data/simulations/0.7/pbmc_sc_with_metadata_cpm_pc_cell_type_profiles.csv/pbmc_sc_with_metadata_cpm_pc_cell_type_profiles_n_sim_69_profiles.csv', '/space/grp/aadrian/Pseudobulk_Function_Pipeline_HighRes/bin/bulkSimulationOneProfile/data/simulations/0.7/pbmc_sc_with_metadata_cpm_pc_cell_type_profiles.csv/pbmc_sc_with_metadata_cpm_pc_cell_type_profiles_n_sim_68_profiles.csv', '/space/grp/aadrian/Pseudobulk_Function_Pipeline_HighRes/bin/bulkSimulationOneProfile/data/simulations/0.7/pbmc_sc_with_metadata_cpm_pc_cell_type_profiles.csv/pbmc_sc_with_metadata_cpm_pc_cell_type_profiles_n_sim_11_profiles.csv', '/space/grp/aadrian/Pseudobulk_Function_Pipeline_HighRes/bin/bulkSimulationOneProfile/data/simulations/0.7/pbmc_sc_with_metadata_cpm_pc_cell_type_profiles.csv/pbmc_sc_with_metadata_cpm_pc_cell_type_profiles_n_sim_42_profiles.csv', '/space/grp/aadrian/Pseudobulk_Function_Pipeline_HighRes/bin/bulkSimulationOneProfile/data/simulations/0.7/pbmc_sc_with_metadata_cpm_pc_cell_type_profiles.csv/pbmc_sc_with_metadata_cpm_pc_cell_type_profiles_n_sim_63_profiles.csv', '/space/grp/aadrian/Pseudobulk_Function_Pipeline_HighRes/bin/bulkSimulationOneProfile/data/simulations/0.7/pbmc_sc_with_metadata_cpm_pc_cell_type_profiles.csv/pbmc_sc_with_metadata_cpm_pc_cell_type_profiles_n_sim_30_profiles.csv', '/space/grp/aadrian/Pseudobulk_Function_Pipeline_HighRes/bin/bulkSimulationOneProfile/data/simulations/0.7/pbmc_sc_with_metadata_cpm_pc_cell_type_profiles.csv/pbmc_sc_with_metadata_cpm_pc_cell_type_profiles_n_sim_49_profiles.csv', '/space/grp/aadrian/Pseudobulk_Function_Pipeline_HighRes/bin/bulkSimulationOneProfile/data/simulations/0.7/pbmc_sc_with_metadata_cpm_pc_cell_type_profiles.csv/pbmc_sc_with_metadata_cpm_pc_cell_type_profiles_n_sim_96_profiles.csv', '/space/grp/aadrian/Pseudobulk_Function_Pipeline_HighRes/bin/bulkSimulationOneProfile/data/simulations/0.7/pbmc_sc_with_metadata_cpm_pc_cell_type_profiles.csv/pbmc_sc_with_metadata_cpm_pc_cell_type_profiles_n_sim_97_profiles.csv', '/space/grp/aadrian/Pseudobulk_Function_Pipeline_HighRes/bin/bulkSimulationOneProfile/data/simulations/0.7/pbmc_sc_with_metadata_cpm_pc_cell_type_profiles.csv/pbmc_sc_with_metadata_cpm_pc_cell_type_profiles_n_sim_48_profiles.csv', '/space/grp/aadrian/Pseudobulk_Function_Pipeline_HighRes/bin/bulkSimulationOneProfile/data/simulations/0.7/pbmc_sc_with_metadata_cpm_pc_cell_type_profiles.csv/pbmc_sc_with_metadata_cpm_pc_cell_type_profiles_n_sim_62_profiles.csv', '/space/grp/aadrian/Pseudobulk_Function_Pipeline_HighRes/bin/bulkSimulationOneProfile/data/simulations/0.7/pbmc_sc_with_metadata_cpm_pc_cell_type_profiles.csv/pbmc_sc_with_metadata_cpm_pc_cell_type_profiles_n_sim_31_profiles.csv', '/space/grp/aadrian/Pseudobulk_Function_Pipeline_HighRes/bin/bulkSimulationOneProfile/data/simulations/0.7/pbmc_sc_with_metadata_cpm_pc_cell_type_profiles.csv/pbmc_sc_with_metadata_cpm_pc_cell_type_profiles_n_sim_95_profiles.csv', '/space/grp/aadrian/Pseudobulk_Function_Pipeline_HighRes/bin/bulkSimulationOneProfile/data/simulations/0.7/pbmc_sc_with_metadata_cpm_pc_cell_type_profiles.csv/pbmc_sc_with_metadata_cpm_pc_cell_type_profiles_n_sim_19_profiles.csv', '/space/grp/aadrian/Pseudobulk_Function_Pipeline_HighRes/bin/bulkSimulationOneProfile/data/simulations/0.7/pbmc_sc_with_metadata_cpm_pc_cell_type_profiles.csv/pbmc_sc_with_metadata_cpm_pc_cell_type_profiles_n_sim_33_profiles.csv', '/space/grp/aadrian/Pseudobulk_Function_Pipeline_HighRes/bin/bulkSimulationOneProfile/data/simulations/0.7/pbmc_sc_with_metadata_cpm_pc_cell_type_profiles.csv/pbmc_sc_with_metadata_cpm_pc_cell_type_profiles_n_sim_60_profiles.csv', '/space/grp/aadrian/Pseudobulk_Function_Pipeline_HighRes/bin/bulkSimulationOneProfile/data/simulations/0.7/pbmc_sc_with_metadata_cpm_pc_cell_type_profiles.csv/pbmc_sc_with_metadata_cpm_pc_cell_type_profiles_n_sim_32_profiles.csv', '/space/grp/aadrian/Pseudobulk_Function_Pipeline_HighRes/bin/bulkSimulationOneProfile/data/simulations/0.7/pbmc_sc_with_metadata_cpm_pc_cell_type_profiles.csv/pbmc_sc_with_metadata_cpm_pc_cell_type_profiles_n_sim_61_profiles.csv', '/space/grp/aadrian/Pseudobulk_Function_Pipeline_HighRes/bin/bulkSimulationOneProfile/data/simulations/0.7/pbmc_sc_with_metadata_cpm_pc_cell_type_profiles.csv/pbmc_sc_with_metadata_cpm_pc_cell_type_profiles_n_sim_94_profiles.csv', '/space/grp/aadrian/Pseudobulk_Function_Pipeline_HighRes/bin/bulkSimulationOneProfile/data/simulations/0.7/pbmc_sc_with_metadata_cpm_pc_cell_type_profiles.csv/pbmc_sc_with_metadata_cpm_pc_cell_type_profiles_n_sim_18_profiles.csv', '/space/grp/aadrian/Pseudobulk_Function_Pipeline_HighRes/bin/bulkSimulationOneProfile/data/simulations/0.7/pbmc_sc_with_metadata_cpm_pc_cell_type_profiles.csv/pbmc_sc_with_metadata_cpm_pc_cell_type_profiles_n_sim_64_profiles.csv', '/space/grp/aadrian/Pseudobulk_Function_Pipeline_HighRes/bin/bulkSimulationOneProfile/data/simulations/0.7/pbmc_sc_with_metadata_cpm_pc_cell_type_profiles.csv/pbmc_sc_with_metadata_cpm_pc_cell_type_profiles_n_sim_37_profiles.csv', '/space/grp/aadrian/Pseudobulk_Function_Pipeline_HighRes/bin/bulkSimulationOneProfile/data/simulations/0.7/pbmc_sc_with_metadata_cpm_pc_cell_type_profiles.csv/pbmc_sc_with_metadata_cpm_pc_cell_type_profiles_n_sim_91_profiles.csv', '/space/grp/aadrian/Pseudobulk_Function_Pipeline_HighRes/bin/bulkSimulationOneProfile/data/simulations/0.7/pbmc_sc_with_metadata_cpm_pc_cell_type_profiles.csv/pbmc_sc_with_metadata_cpm_pc_cell_type_profiles_n_sim_90_profiles.csv', '/space/grp/aadrian/Pseudobulk_Function_Pipeline_HighRes/bin/bulkSimulationOneProfile/data/simulations/0.7/pbmc_sc_with_metadata_cpm_pc_cell_type_profiles.csv/pbmc_sc_with_metadata_cpm_pc_cell_type_profiles_n_sim_65_profiles.csv', '/space/grp/aadrian/Pseudobulk_Function_Pipeline_HighRes/bin/bulkSimulationOneProfile/data/simulations/0.7/pbmc_sc_with_metadata_cpm_pc_cell_type_profiles.csv/pbmc_sc_with_metadata_cpm_pc_cell_type_profiles_n_sim_36_profiles.csv', '/space/grp/aadrian/Pseudobulk_Function_Pipeline_HighRes/bin/bulkSimulationOneProfile/data/simulations/0.7/pbmc_sc_with_metadata_cpm_pc_cell_type_profiles.csv/pbmc_sc_with_metadata_cpm_pc_cell_type_profiles_n_sim_92_profiles.csv', '/space/grp/aadrian/Pseudobulk_Function_Pipeline_HighRes/bin/bulkSimulationOneProfile/data/simulations/0.7/pbmc_sc_with_metadata_cpm_pc_cell_type_profiles.csv/pbmc_sc_with_metadata_cpm_pc_cell_type_profiles_n_sim_34_profiles.csv', '/space/grp/aadrian/Pseudobulk_Function_Pipeline_HighRes/bin/bulkSimulationOneProfile/data/simulations/0.7/pbmc_sc_with_metadata_cpm_pc_cell_type_profiles.csv/pbmc_sc_with_metadata_cpm_pc_cell_type_profiles_n_sim_67_profiles.csv', '/space/grp/aadrian/Pseudobulk_Function_Pipeline_HighRes/bin/bulkSimulationOneProfile/data/simulations/0.7/pbmc_sc_with_metadata_cpm_pc_cell_type_profiles.csv/pbmc_sc_with_metadata_cpm_pc_cell_type_profiles_n_sim_35_profiles.csv', '/space/grp/aadrian/Pseudobulk_Function_Pipeline_HighRes/bin/bulkSimulationOneProfile/data/simulations/0.7/pbmc_sc_with_metadata_cpm_pc_cell_type_profiles.csv/pbmc_sc_with_metadata_cpm_pc_cell_type_profiles_n_sim_66_profiles.csv', '/space/grp/aadrian/Pseudobulk_Function_Pipeline_HighRes/bin/bulkSimulationOneProfile/data/simulations/0.7/pbmc_sc_with_metadata_cpm_pc_cell_type_profiles.csv/pbmc_sc_with_metadata_cpm_pc_cell_type_profiles_n_sim_93_profiles.csv', '/space/grp/aadrian/Pseudobulk_Function_Pipeline_HighRes/bin/bulkSimulationOneProfile/data/simulations/0.7/pbmc_sc_with_metadata_cpm_pc_cell_type_profiles.csv/pbmc_sc_with_metadata_cpm_pc_cell_type_profiles_n_sim_82_profiles.csv', '/space/grp/aadrian/Pseudobulk_Function_Pipeline_HighRes/bin/bulkSimulationOneProfile/data/simulations/0.7/pbmc_sc_with_metadata_cpm_pc_cell_type_profiles.csv/pbmc_sc_with_metadata_cpm_pc_cell_type_profiles_n_sim_2_profiles.csv', '/space/grp/aadrian/Pseudobulk_Function_Pipeline_HighRes/bin/bulkSimulationOneProfile/data/simulations/0.7/pbmc_sc_with_metadata_cpm_pc_cell_type_profiles.csv/pbmc_sc_with_metadata_cpm_pc_cell_type_profiles_n_sim_24_profiles.csv', '/space/grp/aadrian/Pseudobulk_Function_Pipeline_HighRes/bin/bulkSimulationOneProfile/data/simulations/0.7/pbmc_sc_with_metadata_cpm_pc_cell_type_profiles.csv/pbmc_sc_with_metadata_cpm_pc_cell_type_profiles_n_sim_77_profiles.csv', '/space/grp/aadrian/Pseudobulk_Function_Pipeline_HighRes/bin/bulkSimulationOneProfile/data/simulations/0.7/pbmc_sc_with_metadata_cpm_pc_cell_type_profiles.csv/pbmc_sc_with_metadata_cpm_pc_cell_type_profiles_n_sim_25_profiles.csv', '/space/grp/aadrian/Pseudobulk_Function_Pipeline_HighRes/bin/bulkSimulationOneProfile/data/simulations/0.7/pbmc_sc_with_metadata_cpm_pc_cell_type_profiles.csv/pbmc_sc_with_metadata_cpm_pc_cell_type_profiles_n_sim_76_profiles.csv', '/space/grp/aadrian/Pseudobulk_Function_Pipeline_HighRes/bin/bulkSimulationOneProfile/data/simulations/0.7/pbmc_sc_with_metadata_cpm_pc_cell_type_profiles.csv/pbmc_sc_with_metadata_cpm_pc_cell_type_profiles_n_sim_83_profiles.csv', '/space/grp/aadrian/Pseudobulk_Function_Pipeline_HighRes/bin/bulkSimulationOneProfile/data/simulations/0.7/pbmc_sc_with_metadata_cpm_pc_cell_type_profiles.csv/pbmc_sc_with_metadata_cpm_pc_cell_type_profiles_n_sim_3_profiles.csv', '/space/grp/aadrian/Pseudobulk_Function_Pipeline_HighRes/bin/bulkSimulationOneProfile/data/simulations/0.7/pbmc_sc_with_metadata_cpm_pc_cell_type_profiles.csv/pbmc_sc_with_metadata_cpm_pc_cell_type_profiles_n_sim_74_profiles.csv', '/space/grp/aadrian/Pseudobulk_Function_Pipeline_HighRes/bin/bulkSimulationOneProfile/data/simulations/0.7/pbmc_sc_with_metadata_cpm_pc_cell_type_profiles.csv/pbmc_sc_with_metadata_cpm_pc_cell_type_profiles_n_sim_27_profiles.csv', '/space/grp/aadrian/Pseudobulk_Function_Pipeline_HighRes/bin/bulkSimulationOneProfile/data/simulations/0.7/pbmc_sc_with_metadata_cpm_pc_cell_type_profiles.csv/pbmc_sc_with_metadata_cpm_pc_cell_type_profiles_n_sim_1_profiles.csv', '/space/grp/aadrian/Pseudobulk_Function_Pipeline_HighRes/bin/bulkSimulationOneProfile/data/simulations/0.7/pbmc_sc_with_metadata_cpm_pc_cell_type_profiles.csv/pbmc_sc_with_metadata_cpm_pc_cell_type_profiles_n_sim_81_profiles.csv', '/space/grp/aadrian/Pseudobulk_Function_Pipeline_HighRes/bin/bulkSimulationOneProfile/data/simulations/0.7/pbmc_sc_with_metadata_cpm_pc_cell_type_profiles.csv/pbmc_sc_with_metadata_cpm_pc_cell_type_profiles_n_sim_0_profiles.csv', '/space/grp/aadrian/Pseudobulk_Function_Pipeline_HighRes/bin/bulkSimulationOneProfile/data/simulations/0.7/pbmc_sc_with_metadata_cpm_pc_cell_type_profiles.csv/pbmc_sc_with_metadata_cpm_pc_cell_type_profiles_n_sim_80_profiles.csv', '/space/grp/aadrian/Pseudobulk_Function_Pipeline_HighRes/bin/bulkSimulationOneProfile/data/simulations/0.7/pbmc_sc_with_metadata_cpm_pc_cell_type_profiles.csv/pbmc_sc_with_metadata_cpm_pc_cell_type_profiles_n_sim_75_profiles.csv', '/space/grp/aadrian/Pseudobulk_Function_Pipeline_HighRes/bin/bulkSimulationOneProfile/data/simulations/0.7/pbmc_sc_with_metadata_cpm_pc_cell_type_profiles.csv/pbmc_sc_with_metadata_cpm_pc_cell_type_profiles_n_sim_26_profiles.csv', '/space/grp/aadrian/Pseudobulk_Function_Pipeline_HighRes/bin/bulkSimulationOneProfile/data/simulations/0.7/pbmc_sc_with_metadata_cpm_pc_cell_type_profiles.csv/pbmc_sc_with_metadata_cpm_pc_cell_type_profiles_n_sim_85_profiles.csv', '/space/grp/aadrian/Pseudobulk_Function_Pipeline_HighRes/bin/bulkSimulationOneProfile/data/simulations/0.7/pbmc_sc_with_metadata_cpm_pc_cell_type_profiles.csv/pbmc_sc_with_metadata_cpm_pc_cell_type_profiles_n_sim_5_profiles.csv', '/space/grp/aadrian/Pseudobulk_Function_Pipeline_HighRes/bin/bulkSimulationOneProfile/data/simulations/0.7/pbmc_sc_with_metadata_cpm_pc_cell_type_profiles.csv/pbmc_sc_with_metadata_cpm_pc_cell_type_profiles_n_sim_23_profiles.csv', '/space/grp/aadrian/Pseudobulk_Function_Pipeline_HighRes/bin/bulkSimulationOneProfile/data/simulations/0.7/pbmc_sc_with_metadata_cpm_pc_cell_type_profiles.csv/pbmc_sc_with_metadata_cpm_pc_cell_type_profiles_n_sim_70_profiles.csv', '/space/grp/aadrian/Pseudobulk_Function_Pipeline_HighRes/bin/bulkSimulationOneProfile/data/simulations/0.7/pbmc_sc_with_metadata_cpm_pc_cell_type_profiles.csv/pbmc_sc_with_metadata_cpm_pc_cell_type_profiles_n_sim_22_profiles.csv', '/space/grp/aadrian/Pseudobulk_Function_Pipeline_HighRes/bin/bulkSimulationOneProfile/data/simulations/0.7/pbmc_sc_with_metadata_cpm_pc_cell_type_profiles.csv/pbmc_sc_with_metadata_cpm_pc_cell_type_profiles_n_sim_71_profiles.csv', '/space/grp/aadrian/Pseudobulk_Function_Pipeline_HighRes/bin/bulkSimulationOneProfile/data/simulations/0.7/pbmc_sc_with_metadata_cpm_pc_cell_type_profiles.csv/pbmc_sc_with_metadata_cpm_pc_cell_type_profiles_n_sim_84_profiles.csv', '/space/grp/aadrian/Pseudobulk_Function_Pipeline_HighRes/bin/bulkSimulationOneProfile/data/simulations/0.7/pbmc_sc_with_metadata_cpm_pc_cell_type_profiles.csv/pbmc_sc_with_metadata_cpm_pc_cell_type_profiles_n_sim_4_profiles.csv', '/space/grp/aadrian/Pseudobulk_Function_Pipeline_HighRes/bin/bulkSimulationOneProfile/data/simulations/0.7/pbmc_sc_with_metadata_cpm_pc_cell_type_profiles.csv/pbmc_sc_with_metadata_cpm_pc_cell_type_profiles_n_sim_73_profiles.csv', '/space/grp/aadrian/Pseudobulk_Function_Pipeline_HighRes/bin/bulkSimulationOneProfile/data/simulations/0.7/pbmc_sc_with_metadata_cpm_pc_cell_type_profiles.csv/pbmc_sc_with_metadata_cpm_pc_cell_type_profiles_n_sim_20_profiles.csv', '/space/grp/aadrian/Pseudobulk_Function_Pipeline_HighRes/bin/bulkSimulationOneProfile/data/simulations/0.7/pbmc_sc_with_metadata_cpm_pc_cell_type_profiles.csv/pbmc_sc_with_metadata_cpm_pc_cell_type_profiles_n_sim_6_profiles.csv', '/space/grp/aadrian/Pseudobulk_Function_Pipeline_HighRes/bin/bulkSimulationOneProfile/data/simulations/0.7/pbmc_sc_with_metadata_cpm_pc_cell_type_profiles.csv/pbmc_sc_with_metadata_cpm_pc_cell_type_profiles_n_sim_59_profiles.csv', '/space/grp/aadrian/Pseudobulk_Function_Pipeline_HighRes/bin/bulkSimulationOneProfile/data/simulations/0.7/pbmc_sc_with_metadata_cpm_pc_cell_type_profiles.csv/pbmc_sc_with_metadata_cpm_pc_cell_type_profiles_n_sim_86_profiles.csv', '/space/grp/aadrian/Pseudobulk_Function_Pipeline_HighRes/bin/bulkSimulationOneProfile/data/simulations/0.7/pbmc_sc_with_metadata_cpm_pc_cell_type_profiles.csv/pbmc_sc_with_metadata_cpm_pc_cell_type_profiles_n_sim_7_profiles.csv', '/space/grp/aadrian/Pseudobulk_Function_Pipeline_HighRes/bin/bulkSimulationOneProfile/data/simulations/0.7/pbmc_sc_with_metadata_cpm_pc_cell_type_profiles.csv/pbmc_sc_with_metadata_cpm_pc_cell_type_profiles_n_sim_87_profiles.csv', '/space/grp/aadrian/Pseudobulk_Function_Pipeline_HighRes/bin/bulkSimulationOneProfile/data/simulations/0.7/pbmc_sc_with_metadata_cpm_pc_cell_type_profiles.csv/pbmc_sc_with_metadata_cpm_pc_cell_type_profiles_n_sim_58_profiles.csv', '/space/grp/aadrian/Pseudobulk_Function_Pipeline_HighRes/bin/bulkSimulationOneProfile/data/simulations/0.7/pbmc_sc_with_metadata_cpm_pc_cell_type_profiles.csv/pbmc_sc_with_metadata_cpm_pc_cell_type_profiles_n_sim_72_profiles.csv', '/space/grp/aadrian/Pseudobulk_Function_Pipeline_HighRes/bin/bulkSimulationOneProfile/data/simulations/0.7/pbmc_sc_with_metadata_cpm_pc_cell_type_profiles.csv/pbmc_sc_with_metadata_cpm_pc_cell_type_profiles_n_sim_21_profiles.csv', '/space/grp/aadrian/Pseudobulk_Function_Pipeline_HighRes/bin/bulkSimulationOneProfile/data/simulations/0.7/pbmc_sc_with_metadata_cpm_pc_cell_type_profiles.csv/pbmc_sc_with_metadata_cpm_pc_cell_type_profiles_n_sim_53_profiles.csv', '/space/grp/aadrian/Pseudobulk_Function_Pipeline_HighRes/bin/bulkSimulationOneProfile/data/simulations/0.7/pbmc_sc_with_metadata_cpm_pc_cell_type_profiles.csv/pbmc_sc_with_metadata_cpm_pc_cell_type_profiles_n_sim_79_profiles.csv', '/space/grp/aadrian/Pseudobulk_Function_Pipeline_HighRes/bin/bulkSimulationOneProfile/data/simulations/0.7/pbmc_sc_with_metadata_cpm_pc_cell_type_profiles.csv/pbmc_sc_with_metadata_cpm_pc_cell_type_profiles_n_sim_78_profiles.csv', '/space/grp/aadrian/Pseudobulk_Function_Pipeline_HighRes/bin/bulkSimulationOneProfile/data/simulations/0.7/pbmc_sc_with_metadata_cpm_pc_cell_type_profiles.csv/pbmc_sc_with_metadata_cpm_pc_cell_type_profiles_n_sim_52_profiles.csv', '/space/grp/aadrian/Pseudobulk_Function_Pipeline_HighRes/bin/bulkSimulationOneProfile/data/simulations/0.7/pbmc_sc_with_metadata_cpm_pc_cell_type_profiles.csv/pbmc_sc_with_metadata_cpm_pc_cell_type_profiles_n_sim_29_profiles.csv', '/space/grp/aadrian/Pseudobulk_Function_Pipeline_HighRes/bin/bulkSimulationOneProfile/data/simulations/0.7/pbmc_sc_with_metadata_cpm_pc_cell_type_profiles.csv/pbmc_sc_with_metadata_cpm_pc_cell_type_profiles_n_sim_50_profiles.csv', '/space/grp/aadrian/Pseudobulk_Function_Pipeline_HighRes/bin/bulkSimulationOneProfile/data/simulations/0.7/pbmc_sc_with_metadata_cpm_pc_cell_type_profiles.csv/pbmc_sc_with_metadata_cpm_pc_cell_type_profiles_n_sim_51_profiles.csv', '/space/grp/aadrian/Pseudobulk_Function_Pipeline_HighRes/bin/bulkSimulationOneProfile/data/simulations/0.7/pbmc_sc_with_metadata_cpm_pc_cell_type_profiles.csv/pbmc_sc_with_metadata_cpm_pc_cell_type_profiles_n_sim_28_profiles.csv', '/space/grp/aadrian/Pseudobulk_Function_Pipeline_HighRes/bin/bulkSimulationOneProfile/data/simulations/0.7/pbmc_sc_with_metadata_cpm_pc_cell_type_profiles.csv/pbmc_sc_with_metadata_cpm_pc_cell_type_profiles_n_sim_54_profiles.csv', '/space/grp/aadrian/Pseudobulk_Function_Pipeline_HighRes/bin/bulkSimulationOneProfile/data/simulations/0.7/pbmc_sc_with_metadata_cpm_pc_cell_type_profiles.csv/pbmc_sc_with_metadata_cpm_pc_cell_type_profiles_n_sim_55_profiles.csv', '/space/grp/aadrian/Pseudobulk_Function_Pipeline_HighRes/bin/bulkSimulationOneProfile/data/simulations/0.7/pbmc_sc_with_metadata_cpm_pc_cell_type_profiles.csv/pbmc_sc_with_metadata_cpm_pc_cell_type_profiles_n_sim_57_profiles.csv', '/space/grp/aadrian/Pseudobulk_Function_Pipeline_HighRes/bin/bulkSimulationOneProfile/data/simulations/0.7/pbmc_sc_with_metadata_cpm_pc_cell_type_profiles.csv/pbmc_sc_with_metadata_cpm_pc_cell_type_profiles_n_sim_88_profiles.csv', '/space/grp/aadrian/Pseudobulk_Function_Pipeline_HighRes/bin/bulkSimulationOneProfile/data/simulations/0.7/pbmc_sc_with_metadata_cpm_pc_cell_type_profiles.csv/pbmc_sc_with_metadata_cpm_pc_cell_type_profiles_n_sim_8_profiles.csv', '/space/grp/aadrian/Pseudobulk_Function_Pipeline_HighRes/bin/bulkSimulationOneProfile/data/simulations/0.7/pbmc_sc_with_metadata_cpm_pc_cell_type_profiles.csv/pbmc_sc_with_metadata_cpm_pc_cell_type_profiles_n_sim_89_profiles.csv', '/space/grp/aadrian/Pseudobulk_Function_Pipeline_HighRes/bin/bulkSimulationOneProfile/data/simulations/0.7/pbmc_sc_with_metadata_cpm_pc_cell_type_profiles.csv/pbmc_sc_with_metadata_cpm_pc_cell_type_profiles_n_sim_56_profiles.csv', '/space/grp/aadrian/Pseudobulk_Function_Pipeline_HighRes/bin/bulkSimulationOneProfile/data/simulations/0.7/pbmc_sc_with_metadata_cpm_pc_cell_type_profiles.csv/pbmc_sc_with_metadata_cpm_pc_cell_type_profiles_n_sim_9_profiles.csv'], ['/space/grp/aadrian/Pseudobulk_Function_Pipeline_HighRes/bin/bulkSimulationOneProfile/data/simulations/0.01/pbmc_sc_with_metadata_cpm_pc_cell_type_profiles.csv/pbmc_sc_with_metadata_cpm_pc_cell_type_profiles_n_sim_17_profiles.csv', '/space/grp/aadrian/Pseudobulk_Function_Pipeline_HighRes/bin/bulkSimulationOneProfile/data/simulations/0.01/pbmc_sc_with_metadata_cpm_pc_cell_type_profiles.csv/pbmc_sc_with_metadata_cpm_pc_cell_type_profiles_n_sim_44_profiles.csv', '/space/grp/aadrian/Pseudobulk_Function_Pipeline_HighRes/bin/bulkSimulationOneProfile/data/simulations/0.01/pbmc_sc_with_metadata_cpm_pc_cell_type_profiles.csv/pbmc_sc_with_metadata_cpm_pc_cell_type_profiles_n_sim_16_profiles.csv', '/space/grp/aadrian/Pseudobulk_Function_Pipeline_HighRes/bin/bulkSimulationOneProfile/data/simulations/0.01/pbmc_sc_with_metadata_cpm_pc_cell_type_profiles.csv/pbmc_sc_with_metadata_cpm_pc_cell_type_profiles_n_sim_45_profiles.csv', '/space/grp/aadrian/Pseudobulk_Function_Pipeline_HighRes/bin/bulkSimulationOneProfile/data/simulations/0.01/pbmc_sc_with_metadata_cpm_pc_cell_type_profiles.csv/pbmc_sc_with_metadata_cpm_pc_cell_type_profiles_n_sim_98_profiles.csv', '/space/grp/aadrian/Pseudobulk_Function_Pipeline_HighRes/bin/bulkSimulationOneProfile/data/simulations/0.01/pbmc_sc_with_metadata_cpm_pc_cell_type_profiles.csv/pbmc_sc_with_metadata_cpm_pc_cell_type_profiles_n_sim_47_profiles.csv', '/space/grp/aadrian/Pseudobulk_Function_Pipeline_HighRes/bin/bulkSimulationOneProfile/data/simulations/0.01/pbmc_sc_with_metadata_cpm_pc_cell_type_profiles.csv/pbmc_sc_with_metadata_cpm_pc_cell_type_profiles_n_sim_14_profiles.csv', '/space/grp/aadrian/Pseudobulk_Function_Pipeline_HighRes/bin/bulkSimulationOneProfile/data/simulations/0.01/pbmc_sc_with_metadata_cpm_pc_cell_type_profiles.csv/pbmc_sc_with_metadata_cpm_pc_cell_type_profiles_n_sim_46_profiles.csv', '/space/grp/aadrian/Pseudobulk_Function_Pipeline_HighRes/bin/bulkSimulationOneProfile/data/simulations/0.01/pbmc_sc_with_metadata_cpm_pc_cell_type_profiles.csv/pbmc_sc_with_metadata_cpm_pc_cell_type_profiles_n_sim_99_profiles.csv', '/space/grp/aadrian/Pseudobulk_Function_Pipeline_HighRes/bin/bulkSimulationOneProfile/data/simulations/0.01/pbmc_sc_with_metadata_cpm_pc_cell_type_profiles.csv/pbmc_sc_with_metadata_cpm_pc_cell_type_profiles_n_sim_15_profiles.csv', '/space/grp/aadrian/Pseudobulk_Function_Pipeline_HighRes/bin/bulkSimulationOneProfile/data/simulations/0.01/pbmc_sc_with_metadata_cpm_pc_cell_type_profiles.csv/pbmc_sc_with_metadata_cpm_pc_cell_type_profiles_n_sim_10_profiles.csv', '/space/grp/aadrian/Pseudobulk_Function_Pipeline_HighRes/bin/bulkSimulationOneProfile/data/simulations/0.01/pbmc_sc_with_metadata_cpm_pc_cell_type_profiles.csv/pbmc_sc_with_metadata_cpm_pc_cell_type_profiles_n_sim_43_profiles.csv', '/space/grp/aadrian/Pseudobulk_Function_Pipeline_HighRes/bin/bulkSimulationOneProfile/data/simulations/0.01/pbmc_sc_with_metadata_cpm_pc_cell_type_profiles.csv/pbmc_sc_with_metadata_cpm_pc_cell_type_profiles_n_sim_69_profiles.csv', '/space/grp/aadrian/Pseudobulk_Function_Pipeline_HighRes/bin/bulkSimulationOneProfile/data/simulations/0.01/pbmc_sc_with_metadata_cpm_pc_cell_type_profiles.csv/pbmc_sc_with_metadata_cpm_pc_cell_type_profiles_n_sim_68_profiles.csv', '/space/grp/aadrian/Pseudobulk_Function_Pipeline_HighRes/bin/bulkSimulationOneProfile/data/simulations/0.01/pbmc_sc_with_metadata_cpm_pc_cell_type_profiles.csv/pbmc_sc_with_metadata_cpm_pc_cell_type_profiles_n_sim_11_profiles.csv', '/space/grp/aadrian/Pseudobulk_Function_Pipeline_HighRes/bin/bulkSimulationOneProfile/data/simulations/0.01/pbmc_sc_with_metadata_cpm_pc_cell_type_profiles.csv/pbmc_sc_with_metadata_cpm_pc_cell_type_profiles_n_sim_42_profiles.csv', '/space/grp/aadrian/Pseudobulk_Function_Pipeline_HighRes/bin/bulkSimulationOneProfile/data/simulations/0.01/pbmc_sc_with_metadata_cpm_pc_cell_type_profiles.csv/pbmc_sc_with_metadata_cpm_pc_cell_type_profiles_n_sim_39_profiles.csv', '/space/grp/aadrian/Pseudobulk_Function_Pipeline_HighRes/bin/bulkSimulationOneProfile/data/simulations/0.01/pbmc_sc_with_metadata_cpm_pc_cell_type_profiles.csv/pbmc_sc_with_metadata_cpm_pc_cell_type_profiles_n_sim_40_profiles.csv', '/space/grp/aadrian/Pseudobulk_Function_Pipeline_HighRes/bin/bulkSimulationOneProfile/data/simulations/0.01/pbmc_sc_with_metadata_cpm_pc_cell_type_profiles.csv/pbmc_sc_with_metadata_cpm_pc_cell_type_profiles_n_sim_13_profiles.csv', '/space/grp/aadrian/Pseudobulk_Function_Pipeline_HighRes/bin/bulkSimulationOneProfile/data/simulations/0.01/pbmc_sc_with_metadata_cpm_pc_cell_type_profiles.csv/pbmc_sc_with_metadata_cpm_pc_cell_type_profiles_n_sim_41_profiles.csv', '/space/grp/aadrian/Pseudobulk_Function_Pipeline_HighRes/bin/bulkSimulationOneProfile/data/simulations/0.01/pbmc_sc_with_metadata_cpm_pc_cell_type_profiles.csv/pbmc_sc_with_metadata_cpm_pc_cell_type_profiles_n_sim_12_profiles.csv', '/space/grp/aadrian/Pseudobulk_Function_Pipeline_HighRes/bin/bulkSimulationOneProfile/data/simulations/0.01/pbmc_sc_with_metadata_cpm_pc_cell_type_profiles.csv/pbmc_sc_with_metadata_cpm_pc_cell_type_profiles_n_sim_38_profiles.csv', '/space/grp/aadrian/Pseudobulk_Function_Pipeline_HighRes/bin/bulkSimulationOneProfile/data/simulations/0.01/pbmc_sc_with_metadata_cpm_pc_cell_type_profiles.csv/pbmc_sc_with_metadata_cpm_pc_cell_type_profiles_n_sim_95_profiles.csv', '/space/grp/aadrian/Pseudobulk_Function_Pipeline_HighRes/bin/bulkSimulationOneProfile/data/simulations/0.01/pbmc_sc_with_metadata_cpm_pc_cell_type_profiles.csv/pbmc_sc_with_metadata_cpm_pc_cell_type_profiles_n_sim_19_profiles.csv', '/space/grp/aadrian/Pseudobulk_Function_Pipeline_HighRes/bin/bulkSimulationOneProfile/data/simulations/0.01/pbmc_sc_with_metadata_cpm_pc_cell_type_profiles.csv/pbmc_sc_with_metadata_cpm_pc_cell_type_profiles_n_sim_33_profiles.csv', '/space/grp/aadrian/Pseudobulk_Function_Pipeline_HighRes/bin/bulkSimulationOneProfile/data/simulations/0.01/pbmc_sc_with_metadata_cpm_pc_cell_type_profiles.csv/pbmc_sc_with_metadata_cpm_pc_cell_type_profiles_n_sim_60_profiles.csv', '/space/grp/aadrian/Pseudobulk_Function_Pipeline_HighRes/bin/bulkSimulationOneProfile/data/simulations/0.01/pbmc_sc_with_metadata_cpm_pc_cell_type_profiles.csv/pbmc_sc_with_metadata_cpm_pc_cell_type_profiles_n_sim_32_profiles.csv', '/space/grp/aadrian/Pseudobulk_Function_Pipeline_HighRes/bin/bulkSimulationOneProfile/data/simulations/0.01/pbmc_sc_with_metadata_cpm_pc_cell_type_profiles.csv/pbmc_sc_with_metadata_cpm_pc_cell_type_profiles_n_sim_61_profiles.csv', '/space/grp/aadrian/Pseudobulk_Function_Pipeline_HighRes/bin/bulkSimulationOneProfile/data/simulations/0.01/pbmc_sc_with_metadata_cpm_pc_cell_type_profiles.csv/pbmc_sc_with_metadata_cpm_pc_cell_type_profiles_n_sim_94_profiles.csv', '/space/grp/aadrian/Pseudobulk_Function_Pipeline_HighRes/bin/bulkSimulationOneProfile/data/simulations/0.01/pbmc_sc_with_metadata_cpm_pc_cell_type_profiles.csv/pbmc_sc_with_metadata_cpm_pc_cell_type_profiles_n_sim_18_profiles.csv', '/space/grp/aadrian/Pseudobulk_Function_Pipeline_HighRes/bin/bulkSimulationOneProfile/data/simulations/0.01/pbmc_sc_with_metadata_cpm_pc_cell_type_profiles.csv/pbmc_sc_with_metadata_cpm_pc_cell_type_profiles_n_sim_63_profiles.csv', '/space/grp/aadrian/Pseudobulk_Function_Pipeline_HighRes/bin/bulkSimulationOneProfile/data/simulations/0.01/pbmc_sc_with_metadata_cpm_pc_cell_type_profiles.csv/pbmc_sc_with_metadata_cpm_pc_cell_type_profiles_n_sim_30_profiles.csv', '/space/grp/aadrian/Pseudobulk_Function_Pipeline_HighRes/bin/bulkSimulationOneProfile/data/simulations/0.01/pbmc_sc_with_metadata_cpm_pc_cell_type_profiles.csv/pbmc_sc_with_metadata_cpm_pc_cell_type_profiles_n_sim_96_profiles.csv', '/space/grp/aadrian/Pseudobulk_Function_Pipeline_HighRes/bin/bulkSimulationOneProfile/data/simulations/0.01/pbmc_sc_with_metadata_cpm_pc_cell_type_profiles.csv/pbmc_sc_with_metadata_cpm_pc_cell_type_profiles_n_sim_49_profiles.csv', '/space/grp/aadrian/Pseudobulk_Function_Pipeline_HighRes/bin/bulkSimulationOneProfile/data/simulations/0.01/pbmc_sc_with_metadata_cpm_pc_cell_type_profiles.csv/pbmc_sc_with_metadata_cpm_pc_cell_type_profiles_n_sim_48_profiles.csv', '/space/grp/aadrian/Pseudobulk_Function_Pipeline_HighRes/bin/bulkSimulationOneProfile/data/simulations/0.01/pbmc_sc_with_metadata_cpm_pc_cell_type_profiles.csv/pbmc_sc_with_metadata_cpm_pc_cell_type_profiles_n_sim_97_profiles.csv', '/space/grp/aadrian/Pseudobulk_Function_Pipeline_HighRes/bin/bulkSimulationOneProfile/data/simulations/0.01/pbmc_sc_with_metadata_cpm_pc_cell_type_profiles.csv/pbmc_sc_with_metadata_cpm_pc_cell_type_profiles_n_sim_62_profiles.csv', '/space/grp/aadrian/Pseudobulk_Function_Pipeline_HighRes/bin/bulkSimulationOneProfile/data/simulations/0.01/pbmc_sc_with_metadata_cpm_pc_cell_type_profiles.csv/pbmc_sc_with_metadata_cpm_pc_cell_type_profiles_n_sim_31_profiles.csv', '/space/grp/aadrian/Pseudobulk_Function_Pipeline_HighRes/bin/bulkSimulationOneProfile/data/simulations/0.01/pbmc_sc_with_metadata_cpm_pc_cell_type_profiles.csv/pbmc_sc_with_metadata_cpm_pc_cell_type_profiles_n_sim_92_profiles.csv', '/space/grp/aadrian/Pseudobulk_Function_Pipeline_HighRes/bin/bulkSimulationOneProfile/data/simulations/0.01/pbmc_sc_with_metadata_cpm_pc_cell_type_profiles.csv/pbmc_sc_with_metadata_cpm_pc_cell_type_profiles_n_sim_34_profiles.csv', '/space/grp/aadrian/Pseudobulk_Function_Pipeline_HighRes/bin/bulkSimulationOneProfile/data/simulations/0.01/pbmc_sc_with_metadata_cpm_pc_cell_type_profiles.csv/pbmc_sc_with_metadata_cpm_pc_cell_type_profiles_n_sim_67_profiles.csv', '/space/grp/aadrian/Pseudobulk_Function_Pipeline_HighRes/bin/bulkSimulationOneProfile/data/simulations/0.01/pbmc_sc_with_metadata_cpm_pc_cell_type_profiles.csv/pbmc_sc_with_metadata_cpm_pc_cell_type_profiles_n_sim_35_profiles.csv', '/space/grp/aadrian/Pseudobulk_Function_Pipeline_HighRes/bin/bulkSimulationOneProfile/data/simulations/0.01/pbmc_sc_with_metadata_cpm_pc_cell_type_profiles.csv/pbmc_sc_with_metadata_cpm_pc_cell_type_profiles_n_sim_66_profiles.csv', '/space/grp/aadrian/Pseudobulk_Function_Pipeline_HighRes/bin/bulkSimulationOneProfile/data/simulations/0.01/pbmc_sc_with_metadata_cpm_pc_cell_type_profiles.csv/pbmc_sc_with_metadata_cpm_pc_cell_type_profiles_n_sim_93_profiles.csv', '/space/grp/aadrian/Pseudobulk_Function_Pipeline_HighRes/bin/bulkSimulationOneProfile/data/simulations/0.01/pbmc_sc_with_metadata_cpm_pc_cell_type_profiles.csv/pbmc_sc_with_metadata_cpm_pc_cell_type_profiles_n_sim_64_profiles.csv', '/space/grp/aadrian/Pseudobulk_Function_Pipeline_HighRes/bin/bulkSimulationOneProfile/data/simulations/0.01/pbmc_sc_with_metadata_cpm_pc_cell_type_profiles.csv/pbmc_sc_with_metadata_cpm_pc_cell_type_profiles_n_sim_37_profiles.csv', '/space/grp/aadrian/Pseudobulk_Function_Pipeline_HighRes/bin/bulkSimulationOneProfile/data/simulations/0.01/pbmc_sc_with_metadata_cpm_pc_cell_type_profiles.csv/pbmc_sc_with_metadata_cpm_pc_cell_type_profiles_n_sim_91_profiles.csv', '/space/grp/aadrian/Pseudobulk_Function_Pipeline_HighRes/bin/bulkSimulationOneProfile/data/simulations/0.01/pbmc_sc_with_metadata_cpm_pc_cell_type_profiles.csv/pbmc_sc_with_metadata_cpm_pc_cell_type_profiles_n_sim_90_profiles.csv', '/space/grp/aadrian/Pseudobulk_Function_Pipeline_HighRes/bin/bulkSimulationOneProfile/data/simulations/0.01/pbmc_sc_with_metadata_cpm_pc_cell_type_profiles.csv/pbmc_sc_with_metadata_cpm_pc_cell_type_profiles_n_sim_65_profiles.csv', '/space/grp/aadrian/Pseudobulk_Function_Pipeline_HighRes/bin/bulkSimulationOneProfile/data/simulations/0.01/pbmc_sc_with_metadata_cpm_pc_cell_type_profiles.csv/pbmc_sc_with_metadata_cpm_pc_cell_type_profiles_n_sim_36_profiles.csv', '/space/grp/aadrian/Pseudobulk_Function_Pipeline_HighRes/bin/bulkSimulationOneProfile/data/simulations/0.01/pbmc_sc_with_metadata_cpm_pc_cell_type_profiles.csv/pbmc_sc_with_metadata_cpm_pc_cell_type_profiles_n_sim_9_profiles.csv', '/space/grp/aadrian/Pseudobulk_Function_Pipeline_HighRes/bin/bulkSimulationOneProfile/data/simulations/0.01/pbmc_sc_with_metadata_cpm_pc_cell_type_profiles.csv/pbmc_sc_with_metadata_cpm_pc_cell_type_profiles_n_sim_74_profiles.csv', '/space/grp/aadrian/Pseudobulk_Function_Pipeline_HighRes/bin/bulkSimulationOneProfile/data/simulations/0.01/pbmc_sc_with_metadata_cpm_pc_cell_type_profiles.csv/pbmc_sc_with_metadata_cpm_pc_cell_type_profiles_n_sim_27_profiles.csv', '/space/grp/aadrian/Pseudobulk_Function_Pipeline_HighRes/bin/bulkSimulationOneProfile/data/simulations/0.01/pbmc_sc_with_metadata_cpm_pc_cell_type_profiles.csv/pbmc_sc_with_metadata_cpm_pc_cell_type_profiles_n_sim_81_profiles.csv', '/space/grp/aadrian/Pseudobulk_Function_Pipeline_HighRes/bin/bulkSimulationOneProfile/data/simulations/0.01/pbmc_sc_with_metadata_cpm_pc_cell_type_profiles.csv/pbmc_sc_with_metadata_cpm_pc_cell_type_profiles_n_sim_80_profiles.csv', '/space/grp/aadrian/Pseudobulk_Function_Pipeline_HighRes/bin/bulkSimulationOneProfile/data/simulations/0.01/pbmc_sc_with_metadata_cpm_pc_cell_type_profiles.csv/pbmc_sc_with_metadata_cpm_pc_cell_type_profiles_n_sim_75_profiles.csv', '/space/grp/aadrian/Pseudobulk_Function_Pipeline_HighRes/bin/bulkSimulationOneProfile/data/simulations/0.01/pbmc_sc_with_metadata_cpm_pc_cell_type_profiles.csv/pbmc_sc_with_metadata_cpm_pc_cell_type_profiles_n_sim_8_profiles.csv', '/space/grp/aadrian/Pseudobulk_Function_Pipeline_HighRes/bin/bulkSimulationOneProfile/data/simulations/0.01/pbmc_sc_with_metadata_cpm_pc_cell_type_profiles.csv/pbmc_sc_with_metadata_cpm_pc_cell_type_profiles_n_sim_26_profiles.csv', '/space/grp/aadrian/Pseudobulk_Function_Pipeline_HighRes/bin/bulkSimulationOneProfile/data/simulations/0.01/pbmc_sc_with_metadata_cpm_pc_cell_type_profiles.csv/pbmc_sc_with_metadata_cpm_pc_cell_type_profiles_n_sim_82_profiles.csv', '/space/grp/aadrian/Pseudobulk_Function_Pipeline_HighRes/bin/bulkSimulationOneProfile/data/simulations/0.01/pbmc_sc_with_metadata_cpm_pc_cell_type_profiles.csv/pbmc_sc_with_metadata_cpm_pc_cell_type_profiles_n_sim_24_profiles.csv', '/space/grp/aadrian/Pseudobulk_Function_Pipeline_HighRes/bin/bulkSimulationOneProfile/data/simulations/0.01/pbmc_sc_with_metadata_cpm_pc_cell_type_profiles.csv/pbmc_sc_with_metadata_cpm_pc_cell_type_profiles_n_sim_77_profiles.csv', '/space/grp/aadrian/Pseudobulk_Function_Pipeline_HighRes/bin/bulkSimulationOneProfile/data/simulations/0.01/pbmc_sc_with_metadata_cpm_pc_cell_type_profiles.csv/pbmc_sc_with_metadata_cpm_pc_cell_type_profiles_n_sim_25_profiles.csv', '/space/grp/aadrian/Pseudobulk_Function_Pipeline_HighRes/bin/bulkSimulationOneProfile/data/simulations/0.01/pbmc_sc_with_metadata_cpm_pc_cell_type_profiles.csv/pbmc_sc_with_metadata_cpm_pc_cell_type_profiles_n_sim_76_profiles.csv', '/space/grp/aadrian/Pseudobulk_Function_Pipeline_HighRes/bin/bulkSimulationOneProfile/data/simulations/0.01/pbmc_sc_with_metadata_cpm_pc_cell_type_profiles.csv/pbmc_sc_with_metadata_cpm_pc_cell_type_profiles_n_sim_83_profiles.csv', '/space/grp/aadrian/Pseudobulk_Function_Pipeline_HighRes/bin/bulkSimulationOneProfile/data/simulations/0.01/pbmc_sc_with_metadata_cpm_pc_cell_type_profiles.csv/pbmc_sc_with_metadata_cpm_pc_cell_type_profiles_n_sim_73_profiles.csv', '/space/grp/aadrian/Pseudobulk_Function_Pipeline_HighRes/bin/bulkSimulationOneProfile/data/simulations/0.01/pbmc_sc_with_metadata_cpm_pc_cell_type_profiles.csv/pbmc_sc_with_metadata_cpm_pc_cell_type_profiles_n_sim_20_profiles.csv', '/space/grp/aadrian/Pseudobulk_Function_Pipeline_HighRes/bin/bulkSimulationOneProfile/data/simulations/0.01/pbmc_sc_with_metadata_cpm_pc_cell_type_profiles.csv/pbmc_sc_with_metadata_cpm_pc_cell_type_profiles_n_sim_86_profiles.csv', '/space/grp/aadrian/Pseudobulk_Function_Pipeline_HighRes/bin/bulkSimulationOneProfile/data/simulations/0.01/pbmc_sc_with_metadata_cpm_pc_cell_type_profiles.csv/pbmc_sc_with_metadata_cpm_pc_cell_type_profiles_n_sim_59_profiles.csv', '/space/grp/aadrian/Pseudobulk_Function_Pipeline_HighRes/bin/bulkSimulationOneProfile/data/simulations/0.01/pbmc_sc_with_metadata_cpm_pc_cell_type_profiles.csv/pbmc_sc_with_metadata_cpm_pc_cell_type_profiles_n_sim_58_profiles.csv', '/space/grp/aadrian/Pseudobulk_Function_Pipeline_HighRes/bin/bulkSimulationOneProfile/data/simulations/0.01/pbmc_sc_with_metadata_cpm_pc_cell_type_profiles.csv/pbmc_sc_with_metadata_cpm_pc_cell_type_profiles_n_sim_87_profiles.csv', '/space/grp/aadrian/Pseudobulk_Function_Pipeline_HighRes/bin/bulkSimulationOneProfile/data/simulations/0.01/pbmc_sc_with_metadata_cpm_pc_cell_type_profiles.csv/pbmc_sc_with_metadata_cpm_pc_cell_type_profiles_n_sim_72_profiles.csv', '/space/grp/aadrian/Pseudobulk_Function_Pipeline_HighRes/bin/bulkSimulationOneProfile/data/simulations/0.01/pbmc_sc_with_metadata_cpm_pc_cell_type_profiles.csv/pbmc_sc_with_metadata_cpm_pc_cell_type_profiles_n_sim_21_profiles.csv', '/space/grp/aadrian/Pseudobulk_Function_Pipeline_HighRes/bin/bulkSimulationOneProfile/data/simulations/0.01/pbmc_sc_with_metadata_cpm_pc_cell_type_profiles.csv/pbmc_sc_with_metadata_cpm_pc_cell_type_profiles_n_sim_85_profiles.csv', '/space/grp/aadrian/Pseudobulk_Function_Pipeline_HighRes/bin/bulkSimulationOneProfile/data/simulations/0.01/pbmc_sc_with_metadata_cpm_pc_cell_type_profiles.csv/pbmc_sc_with_metadata_cpm_pc_cell_type_profiles_n_sim_23_profiles.csv', '/space/grp/aadrian/Pseudobulk_Function_Pipeline_HighRes/bin/bulkSimulationOneProfile/data/simulations/0.01/pbmc_sc_with_metadata_cpm_pc_cell_type_profiles.csv/pbmc_sc_with_metadata_cpm_pc_cell_type_profiles_n_sim_70_profiles.csv', '/space/grp/aadrian/Pseudobulk_Function_Pipeline_HighRes/bin/bulkSimulationOneProfile/data/simulations/0.01/pbmc_sc_with_metadata_cpm_pc_cell_type_profiles.csv/pbmc_sc_with_metadata_cpm_pc_cell_type_profiles_n_sim_22_profiles.csv', '/space/grp/aadrian/Pseudobulk_Function_Pipeline_HighRes/bin/bulkSimulationOneProfile/data/simulations/0.01/pbmc_sc_with_metadata_cpm_pc_cell_type_profiles.csv/pbmc_sc_with_metadata_cpm_pc_cell_type_profiles_n_sim_71_profiles.csv', '/space/grp/aadrian/Pseudobulk_Function_Pipeline_HighRes/bin/bulkSimulationOneProfile/data/simulations/0.01/pbmc_sc_with_metadata_cpm_pc_cell_type_profiles.csv/pbmc_sc_with_metadata_cpm_pc_cell_type_profiles_n_sim_84_profiles.csv', '/space/grp/aadrian/Pseudobulk_Function_Pipeline_HighRes/bin/bulkSimulationOneProfile/data/simulations/0.01/pbmc_sc_with_metadata_cpm_pc_cell_type_profiles.csv/pbmc_sc_with_metadata_cpm_pc_cell_type_profiles_n_sim_29_profiles.csv', '/space/grp/aadrian/Pseudobulk_Function_Pipeline_HighRes/bin/bulkSimulationOneProfile/data/simulations/0.01/pbmc_sc_with_metadata_cpm_pc_cell_type_profiles.csv/pbmc_sc_with_metadata_cpm_pc_cell_type_profiles_n_sim_7_profiles.csv', '/space/grp/aadrian/Pseudobulk_Function_Pipeline_HighRes/bin/bulkSimulationOneProfile/data/simulations/0.01/pbmc_sc_with_metadata_cpm_pc_cell_type_profiles.csv/pbmc_sc_with_metadata_cpm_pc_cell_type_profiles_n_sim_50_profiles.csv', '/space/grp/aadrian/Pseudobulk_Function_Pipeline_HighRes/bin/bulkSimulationOneProfile/data/simulations/0.01/pbmc_sc_with_metadata_cpm_pc_cell_type_profiles.csv/pbmc_sc_with_metadata_cpm_pc_cell_type_profiles_n_sim_51_profiles.csv', '/space/grp/aadrian/Pseudobulk_Function_Pipeline_HighRes/bin/bulkSimulationOneProfile/data/simulations/0.01/pbmc_sc_with_metadata_cpm_pc_cell_type_profiles.csv/pbmc_sc_with_metadata_cpm_pc_cell_type_profiles_n_sim_28_profiles.csv', '/space/grp/aadrian/Pseudobulk_Function_Pipeline_HighRes/bin/bulkSimulationOneProfile/data/simulations/0.01/pbmc_sc_with_metadata_cpm_pc_cell_type_profiles.csv/pbmc_sc_with_metadata_cpm_pc_cell_type_profiles_n_sim_6_profiles.csv', '/space/grp/aadrian/Pseudobulk_Function_Pipeline_HighRes/bin/bulkSimulationOneProfile/data/simulations/0.01/pbmc_sc_with_metadata_cpm_pc_cell_type_profiles.csv/pbmc_sc_with_metadata_cpm_pc_cell_type_profiles_n_sim_53_profiles.csv', '/space/grp/aadrian/Pseudobulk_Function_Pipeline_HighRes/bin/bulkSimulationOneProfile/data/simulations/0.01/pbmc_sc_with_metadata_cpm_pc_cell_type_profiles.csv/pbmc_sc_with_metadata_cpm_pc_cell_type_profiles_n_sim_4_profiles.csv', '/space/grp/aadrian/Pseudobulk_Function_Pipeline_HighRes/bin/bulkSimulationOneProfile/data/simulations/0.01/pbmc_sc_with_metadata_cpm_pc_cell_type_profiles.csv/pbmc_sc_with_metadata_cpm_pc_cell_type_profiles_n_sim_79_profiles.csv', '/space/grp/aadrian/Pseudobulk_Function_Pipeline_HighRes/bin/bulkSimulationOneProfile/data/simulations/0.01/pbmc_sc_with_metadata_cpm_pc_cell_type_profiles.csv/pbmc_sc_with_metadata_cpm_pc_cell_type_profiles_n_sim_78_profiles.csv', '/space/grp/aadrian/Pseudobulk_Function_Pipeline_HighRes/bin/bulkSimulationOneProfile/data/simulations/0.01/pbmc_sc_with_metadata_cpm_pc_cell_type_profiles.csv/pbmc_sc_with_metadata_cpm_pc_cell_type_profiles_n_sim_5_profiles.csv', '/space/grp/aadrian/Pseudobulk_Function_Pipeline_HighRes/bin/bulkSimulationOneProfile/data/simulations/0.01/pbmc_sc_with_metadata_cpm_pc_cell_type_profiles.csv/pbmc_sc_with_metadata_cpm_pc_cell_type_profiles_n_sim_52_profiles.csv', '/space/grp/aadrian/Pseudobulk_Function_Pipeline_HighRes/bin/bulkSimulationOneProfile/data/simulations/0.01/pbmc_sc_with_metadata_cpm_pc_cell_type_profiles.csv/pbmc_sc_with_metadata_cpm_pc_cell_type_profiles_n_sim_0_profiles.csv', '/space/grp/aadrian/Pseudobulk_Function_Pipeline_HighRes/bin/bulkSimulationOneProfile/data/simulations/0.01/pbmc_sc_with_metadata_cpm_pc_cell_type_profiles.csv/pbmc_sc_with_metadata_cpm_pc_cell_type_profiles_n_sim_88_profiles.csv', '/space/grp/aadrian/Pseudobulk_Function_Pipeline_HighRes/bin/bulkSimulationOneProfile/data/simulations/0.01/pbmc_sc_with_metadata_cpm_pc_cell_type_profiles.csv/pbmc_sc_with_metadata_cpm_pc_cell_type_profiles_n_sim_57_profiles.csv', '/space/grp/aadrian/Pseudobulk_Function_Pipeline_HighRes/bin/bulkSimulationOneProfile/data/simulations/0.01/pbmc_sc_with_metadata_cpm_pc_cell_type_profiles.csv/pbmc_sc_with_metadata_cpm_pc_cell_type_profiles_n_sim_56_profiles.csv', '/space/grp/aadrian/Pseudobulk_Function_Pipeline_HighRes/bin/bulkSimulationOneProfile/data/simulations/0.01/pbmc_sc_with_metadata_cpm_pc_cell_type_profiles.csv/pbmc_sc_with_metadata_cpm_pc_cell_type_profiles_n_sim_89_profiles.csv', '/space/grp/aadrian/Pseudobulk_Function_Pipeline_HighRes/bin/bulkSimulationOneProfile/data/simulations/0.01/pbmc_sc_with_metadata_cpm_pc_cell_type_profiles.csv/pbmc_sc_with_metadata_cpm_pc_cell_type_profiles_n_sim_1_profiles.csv', '/space/grp/aadrian/Pseudobulk_Function_Pipeline_HighRes/bin/bulkSimulationOneProfile/data/simulations/0.01/pbmc_sc_with_metadata_cpm_pc_cell_type_profiles.csv/pbmc_sc_with_metadata_cpm_pc_cell_type_profiles_n_sim_54_profiles.csv', '/space/grp/aadrian/Pseudobulk_Function_Pipeline_HighRes/bin/bulkSimulationOneProfile/data/simulations/0.01/pbmc_sc_with_metadata_cpm_pc_cell_type_profiles.csv/pbmc_sc_with_metadata_cpm_pc_cell_type_profiles_n_sim_3_profiles.csv', '/space/grp/aadrian/Pseudobulk_Function_Pipeline_HighRes/bin/bulkSimulationOneProfile/data/simulations/0.01/pbmc_sc_with_metadata_cpm_pc_cell_type_profiles.csv/pbmc_sc_with_metadata_cpm_pc_cell_type_profiles_n_sim_2_profiles.csv', '/space/grp/aadrian/Pseudobulk_Function_Pipeline_HighRes/bin/bulkSimulationOneProfile/data/simulations/0.01/pbmc_sc_with_metadata_cpm_pc_cell_type_profiles.csv/pbmc_sc_with_metadata_cpm_pc_cell_type_profiles_n_sim_55_profiles.csv'], ['/space/grp/aadrian/Pseudobulk_Function_Pipeline_HighRes/bin/bulkSimulationOneProfile/data/simulations/0.075/pbmc_sc_with_metadata_cpm_pc_cell_type_profiles.csv/pbmc_sc_with_metadata_cpm_pc_cell_type_profiles_n_sim_74_profiles.csv', '/space/grp/aadrian/Pseudobulk_Function_Pipeline_HighRes/bin/bulkSimulationOneProfile/data/simulations/0.075/pbmc_sc_with_metadata_cpm_pc_cell_type_profiles.csv/pbmc_sc_with_metadata_cpm_pc_cell_type_profiles_n_sim_27_profiles.csv', '/space/grp/aadrian/Pseudobulk_Function_Pipeline_HighRes/bin/bulkSimulationOneProfile/data/simulations/0.075/pbmc_sc_with_metadata_cpm_pc_cell_type_profiles.csv/pbmc_sc_with_metadata_cpm_pc_cell_type_profiles_n_sim_81_profiles.csv', '/space/grp/aadrian/Pseudobulk_Function_Pipeline_HighRes/bin/bulkSimulationOneProfile/data/simulations/0.075/pbmc_sc_with_metadata_cpm_pc_cell_type_profiles.csv/pbmc_sc_with_metadata_cpm_pc_cell_type_profiles_n_sim_80_profiles.csv', '/space/grp/aadrian/Pseudobulk_Function_Pipeline_HighRes/bin/bulkSimulationOneProfile/data/simulations/0.075/pbmc_sc_with_metadata_cpm_pc_cell_type_profiles.csv/pbmc_sc_with_metadata_cpm_pc_cell_type_profiles_n_sim_75_profiles.csv', '/space/grp/aadrian/Pseudobulk_Function_Pipeline_HighRes/bin/bulkSimulationOneProfile/data/simulations/0.075/pbmc_sc_with_metadata_cpm_pc_cell_type_profiles.csv/pbmc_sc_with_metadata_cpm_pc_cell_type_profiles_n_sim_26_profiles.csv', '/space/grp/aadrian/Pseudobulk_Function_Pipeline_HighRes/bin/bulkSimulationOneProfile/data/simulations/0.075/pbmc_sc_with_metadata_cpm_pc_cell_type_profiles.csv/pbmc_sc_with_metadata_cpm_pc_cell_type_profiles_n_sim_82_profiles.csv', '/space/grp/aadrian/Pseudobulk_Function_Pipeline_HighRes/bin/bulkSimulationOneProfile/data/simulations/0.075/pbmc_sc_with_metadata_cpm_pc_cell_type_profiles.csv/pbmc_sc_with_metadata_cpm_pc_cell_type_profiles_n_sim_24_profiles.csv', '/space/grp/aadrian/Pseudobulk_Function_Pipeline_HighRes/bin/bulkSimulationOneProfile/data/simulations/0.075/pbmc_sc_with_metadata_cpm_pc_cell_type_profiles.csv/pbmc_sc_with_metadata_cpm_pc_cell_type_profiles_n_sim_77_profiles.csv', '/space/grp/aadrian/Pseudobulk_Function_Pipeline_HighRes/bin/bulkSimulationOneProfile/data/simulations/0.075/pbmc_sc_with_metadata_cpm_pc_cell_type_profiles.csv/pbmc_sc_with_metadata_cpm_pc_cell_type_profiles_n_sim_25_profiles.csv', '/space/grp/aadrian/Pseudobulk_Function_Pipeline_HighRes/bin/bulkSimulationOneProfile/data/simulations/0.075/pbmc_sc_with_metadata_cpm_pc_cell_type_profiles.csv/pbmc_sc_with_metadata_cpm_pc_cell_type_profiles_n_sim_76_profiles.csv', '/space/grp/aadrian/Pseudobulk_Function_Pipeline_HighRes/bin/bulkSimulationOneProfile/data/simulations/0.075/pbmc_sc_with_metadata_cpm_pc_cell_type_profiles.csv/pbmc_sc_with_metadata_cpm_pc_cell_type_profiles_n_sim_83_profiles.csv', '/space/grp/aadrian/Pseudobulk_Function_Pipeline_HighRes/bin/bulkSimulationOneProfile/data/simulations/0.075/pbmc_sc_with_metadata_cpm_pc_cell_type_profiles.csv/pbmc_sc_with_metadata_cpm_pc_cell_type_profiles_n_sim_73_profiles.csv', '/space/grp/aadrian/Pseudobulk_Function_Pipeline_HighRes/bin/bulkSimulationOneProfile/data/simulations/0.075/pbmc_sc_with_metadata_cpm_pc_cell_type_profiles.csv/pbmc_sc_with_metadata_cpm_pc_cell_type_profiles_n_sim_20_profiles.csv', '/space/grp/aadrian/Pseudobulk_Function_Pipeline_HighRes/bin/bulkSimulationOneProfile/data/simulations/0.075/pbmc_sc_with_metadata_cpm_pc_cell_type_profiles.csv/pbmc_sc_with_metadata_cpm_pc_cell_type_profiles_n_sim_59_profiles.csv', '/space/grp/aadrian/Pseudobulk_Function_Pipeline_HighRes/bin/bulkSimulationOneProfile/data/simulations/0.075/pbmc_sc_with_metadata_cpm_pc_cell_type_profiles.csv/pbmc_sc_with_metadata_cpm_pc_cell_type_profiles_n_sim_86_profiles.csv', '/space/grp/aadrian/Pseudobulk_Function_Pipeline_HighRes/bin/bulkSimulationOneProfile/data/simulations/0.075/pbmc_sc_with_metadata_cpm_pc_cell_type_profiles.csv/pbmc_sc_with_metadata_cpm_pc_cell_type_profiles_n_sim_87_profiles.csv', '/space/grp/aadrian/Pseudobulk_Function_Pipeline_HighRes/bin/bulkSimulationOneProfile/data/simulations/0.075/pbmc_sc_with_metadata_cpm_pc_cell_type_profiles.csv/pbmc_sc_with_metadata_cpm_pc_cell_type_profiles_n_sim_58_profiles.csv', '/space/grp/aadrian/Pseudobulk_Function_Pipeline_HighRes/bin/bulkSimulationOneProfile/data/simulations/0.075/pbmc_sc_with_metadata_cpm_pc_cell_type_profiles.csv/pbmc_sc_with_metadata_cpm_pc_cell_type_profiles_n_sim_72_profiles.csv', '/space/grp/aadrian/Pseudobulk_Function_Pipeline_HighRes/bin/bulkSimulationOneProfile/data/simulations/0.075/pbmc_sc_with_metadata_cpm_pc_cell_type_profiles.csv/pbmc_sc_with_metadata_cpm_pc_cell_type_profiles_n_sim_21_profiles.csv', '/space/grp/aadrian/Pseudobulk_Function_Pipeline_HighRes/bin/bulkSimulationOneProfile/data/simulations/0.075/pbmc_sc_with_metadata_cpm_pc_cell_type_profiles.csv/pbmc_sc_with_metadata_cpm_pc_cell_type_profiles_n_sim_85_profiles.csv', '/space/grp/aadrian/Pseudobulk_Function_Pipeline_HighRes/bin/bulkSimulationOneProfile/data/simulations/0.075/pbmc_sc_with_metadata_cpm_pc_cell_type_profiles.csv/pbmc_sc_with_metadata_cpm_pc_cell_type_profiles_n_sim_23_profiles.csv', '/space/grp/aadrian/Pseudobulk_Function_Pipeline_HighRes/bin/bulkSimulationOneProfile/data/simulations/0.075/pbmc_sc_with_metadata_cpm_pc_cell_type_profiles.csv/pbmc_sc_with_metadata_cpm_pc_cell_type_profiles_n_sim_70_profiles.csv', '/space/grp/aadrian/Pseudobulk_Function_Pipeline_HighRes/bin/bulkSimulationOneProfile/data/simulations/0.075/pbmc_sc_with_metadata_cpm_pc_cell_type_profiles.csv/pbmc_sc_with_metadata_cpm_pc_cell_type_profiles_n_sim_22_profiles.csv', '/space/grp/aadrian/Pseudobulk_Function_Pipeline_HighRes/bin/bulkSimulationOneProfile/data/simulations/0.075/pbmc_sc_with_metadata_cpm_pc_cell_type_profiles.csv/pbmc_sc_with_metadata_cpm_pc_cell_type_profiles_n_sim_71_profiles.csv', '/space/grp/aadrian/Pseudobulk_Function_Pipeline_HighRes/bin/bulkSimulationOneProfile/data/simulations/0.075/pbmc_sc_with_metadata_cpm_pc_cell_type_profiles.csv/pbmc_sc_with_metadata_cpm_pc_cell_type_profiles_n_sim_84_profiles.csv', '/space/grp/aadrian/Pseudobulk_Function_Pipeline_HighRes/bin/bulkSimulationOneProfile/data/simulations/0.075/pbmc_sc_with_metadata_cpm_pc_cell_type_profiles.csv/pbmc_sc_with_metadata_cpm_pc_cell_type_profiles_n_sim_29_profiles.csv', '/space/grp/aadrian/Pseudobulk_Function_Pipeline_HighRes/bin/bulkSimulationOneProfile/data/simulations/0.075/pbmc_sc_with_metadata_cpm_pc_cell_type_profiles.csv/pbmc_sc_with_metadata_cpm_pc_cell_type_profiles_n_sim_50_profiles.csv', '/space/grp/aadrian/Pseudobulk_Function_Pipeline_HighRes/bin/bulkSimulationOneProfile/data/simulations/0.075/pbmc_sc_with_metadata_cpm_pc_cell_type_profiles.csv/pbmc_sc_with_metadata_cpm_pc_cell_type_profiles_n_sim_51_profiles.csv', '/space/grp/aadrian/Pseudobulk_Function_Pipeline_HighRes/bin/bulkSimulationOneProfile/data/simulations/0.075/pbmc_sc_with_metadata_cpm_pc_cell_type_profiles.csv/pbmc_sc_with_metadata_cpm_pc_cell_type_profiles_n_sim_28_profiles.csv', '/space/grp/aadrian/Pseudobulk_Function_Pipeline_HighRes/bin/bulkSimulationOneProfile/data/simulations/0.075/pbmc_sc_with_metadata_cpm_pc_cell_type_profiles.csv/pbmc_sc_with_metadata_cpm_pc_cell_type_profiles_n_sim_53_profiles.csv', '/space/grp/aadrian/Pseudobulk_Function_Pipeline_HighRes/bin/bulkSimulationOneProfile/data/simulations/0.075/pbmc_sc_with_metadata_cpm_pc_cell_type_profiles.csv/pbmc_sc_with_metadata_cpm_pc_cell_type_profiles_n_sim_79_profiles.csv', '/space/grp/aadrian/Pseudobulk_Function_Pipeline_HighRes/bin/bulkSimulationOneProfile/data/simulations/0.075/pbmc_sc_with_metadata_cpm_pc_cell_type_profiles.csv/pbmc_sc_with_metadata_cpm_pc_cell_type_profiles_n_sim_78_profiles.csv', '/space/grp/aadrian/Pseudobulk_Function_Pipeline_HighRes/bin/bulkSimulationOneProfile/data/simulations/0.075/pbmc_sc_with_metadata_cpm_pc_cell_type_profiles.csv/pbmc_sc_with_metadata_cpm_pc_cell_type_profiles_n_sim_52_profiles.csv', '/space/grp/aadrian/Pseudobulk_Function_Pipeline_HighRes/bin/bulkSimulationOneProfile/data/simulations/0.075/pbmc_sc_with_metadata_cpm_pc_cell_type_profiles.csv/pbmc_sc_with_metadata_cpm_pc_cell_type_profiles_n_sim_57_profiles.csv', '/space/grp/aadrian/Pseudobulk_Function_Pipeline_HighRes/bin/bulkSimulationOneProfile/data/simulations/0.075/pbmc_sc_with_metadata_cpm_pc_cell_type_profiles.csv/pbmc_sc_with_metadata_cpm_pc_cell_type_profiles_n_sim_88_profiles.csv', '/space/grp/aadrian/Pseudobulk_Function_Pipeline_HighRes/bin/bulkSimulationOneProfile/data/simulations/0.075/pbmc_sc_with_metadata_cpm_pc_cell_type_profiles.csv/pbmc_sc_with_metadata_cpm_pc_cell_type_profiles_n_sim_89_profiles.csv', '/space/grp/aadrian/Pseudobulk_Function_Pipeline_HighRes/bin/bulkSimulationOneProfile/data/simulations/0.075/pbmc_sc_with_metadata_cpm_pc_cell_type_profiles.csv/pbmc_sc_with_metadata_cpm_pc_cell_type_profiles_n_sim_56_profiles.csv', '/space/grp/aadrian/Pseudobulk_Function_Pipeline_HighRes/bin/bulkSimulationOneProfile/data/simulations/0.075/pbmc_sc_with_metadata_cpm_pc_cell_type_profiles.csv/pbmc_sc_with_metadata_cpm_pc_cell_type_profiles_n_sim_54_profiles.csv', '/space/grp/aadrian/Pseudobulk_Function_Pipeline_HighRes/bin/bulkSimulationOneProfile/data/simulations/0.075/pbmc_sc_with_metadata_cpm_pc_cell_type_profiles.csv/pbmc_sc_with_metadata_cpm_pc_cell_type_profiles_n_sim_55_profiles.csv', '/space/grp/aadrian/Pseudobulk_Function_Pipeline_HighRes/bin/bulkSimulationOneProfile/data/simulations/0.075/pbmc_sc_with_metadata_cpm_pc_cell_type_profiles.csv/pbmc_sc_with_metadata_cpm_pc_cell_type_profiles_n_sim_17_profiles.csv', '/space/grp/aadrian/Pseudobulk_Function_Pipeline_HighRes/bin/bulkSimulationOneProfile/data/simulations/0.075/pbmc_sc_with_metadata_cpm_pc_cell_type_profiles.csv/pbmc_sc_with_metadata_cpm_pc_cell_type_profiles_n_sim_44_profiles.csv', '/space/grp/aadrian/Pseudobulk_Function_Pipeline_HighRes/bin/bulkSimulationOneProfile/data/simulations/0.075/pbmc_sc_with_metadata_cpm_pc_cell_type_profiles.csv/pbmc_sc_with_metadata_cpm_pc_cell_type_profiles_n_sim_16_profiles.csv', '/space/grp/aadrian/Pseudobulk_Function_Pipeline_HighRes/bin/bulkSimulationOneProfile/data/simulations/0.075/pbmc_sc_with_metadata_cpm_pc_cell_type_profiles.csv/pbmc_sc_with_metadata_cpm_pc_cell_type_profiles_n_sim_45_profiles.csv', '/space/grp/aadrian/Pseudobulk_Function_Pipeline_HighRes/bin/bulkSimulationOneProfile/data/simulations/0.075/pbmc_sc_with_metadata_cpm_pc_cell_type_profiles.csv/pbmc_sc_with_metadata_cpm_pc_cell_type_profiles_n_sim_47_profiles.csv', '/space/grp/aadrian/Pseudobulk_Function_Pipeline_HighRes/bin/bulkSimulationOneProfile/data/simulations/0.075/pbmc_sc_with_metadata_cpm_pc_cell_type_profiles.csv/pbmc_sc_with_metadata_cpm_pc_cell_type_profiles_n_sim_98_profiles.csv', '/space/grp/aadrian/Pseudobulk_Function_Pipeline_HighRes/bin/bulkSimulationOneProfile/data/simulations/0.075/pbmc_sc_with_metadata_cpm_pc_cell_type_profiles.csv/pbmc_sc_with_metadata_cpm_pc_cell_type_profiles_n_sim_14_profiles.csv', '/space/grp/aadrian/Pseudobulk_Function_Pipeline_HighRes/bin/bulkSimulationOneProfile/data/simulations/0.075/pbmc_sc_with_metadata_cpm_pc_cell_type_profiles.csv/pbmc_sc_with_metadata_cpm_pc_cell_type_profiles_n_sim_99_profiles.csv', '/space/grp/aadrian/Pseudobulk_Function_Pipeline_HighRes/bin/bulkSimulationOneProfile/data/simulations/0.075/pbmc_sc_with_metadata_cpm_pc_cell_type_profiles.csv/pbmc_sc_with_metadata_cpm_pc_cell_type_profiles_n_sim_46_profiles.csv', '/space/grp/aadrian/Pseudobulk_Function_Pipeline_HighRes/bin/bulkSimulationOneProfile/data/simulations/0.075/pbmc_sc_with_metadata_cpm_pc_cell_type_profiles.csv/pbmc_sc_with_metadata_cpm_pc_cell_type_profiles_n_sim_15_profiles.csv', '/space/grp/aadrian/Pseudobulk_Function_Pipeline_HighRes/bin/bulkSimulationOneProfile/data/simulations/0.075/pbmc_sc_with_metadata_cpm_pc_cell_type_profiles.csv/pbmc_sc_with_metadata_cpm_pc_cell_type_profiles_n_sim_10_profiles.csv', '/space/grp/aadrian/Pseudobulk_Function_Pipeline_HighRes/bin/bulkSimulationOneProfile/data/simulations/0.075/pbmc_sc_with_metadata_cpm_pc_cell_type_profiles.csv/pbmc_sc_with_metadata_cpm_pc_cell_type_profiles_n_sim_43_profiles.csv', '/space/grp/aadrian/Pseudobulk_Function_Pipeline_HighRes/bin/bulkSimulationOneProfile/data/simulations/0.075/pbmc_sc_with_metadata_cpm_pc_cell_type_profiles.csv/pbmc_sc_with_metadata_cpm_pc_cell_type_profiles_n_sim_69_profiles.csv', '/space/grp/aadrian/Pseudobulk_Function_Pipeline_HighRes/bin/bulkSimulationOneProfile/data/simulations/0.075/pbmc_sc_with_metadata_cpm_pc_cell_type_profiles.csv/pbmc_sc_with_metadata_cpm_pc_cell_type_profiles_n_sim_68_profiles.csv', '/space/grp/aadrian/Pseudobulk_Function_Pipeline_HighRes/bin/bulkSimulationOneProfile/data/simulations/0.075/pbmc_sc_with_metadata_cpm_pc_cell_type_profiles.csv/pbmc_sc_with_metadata_cpm_pc_cell_type_profiles_n_sim_11_profiles.csv', '/space/grp/aadrian/Pseudobulk_Function_Pipeline_HighRes/bin/bulkSimulationOneProfile/data/simulations/0.075/pbmc_sc_with_metadata_cpm_pc_cell_type_profiles.csv/pbmc_sc_with_metadata_cpm_pc_cell_type_profiles_n_sim_42_profiles.csv', '/space/grp/aadrian/Pseudobulk_Function_Pipeline_HighRes/bin/bulkSimulationOneProfile/data/simulations/0.075/pbmc_sc_with_metadata_cpm_pc_cell_type_profiles.csv/pbmc_sc_with_metadata_cpm_pc_cell_type_profiles_n_sim_39_profiles.csv', '/space/grp/aadrian/Pseudobulk_Function_Pipeline_HighRes/bin/bulkSimulationOneProfile/data/simulations/0.075/pbmc_sc_with_metadata_cpm_pc_cell_type_profiles.csv/pbmc_sc_with_metadata_cpm_pc_cell_type_profiles_n_sim_9_profiles.csv', '/space/grp/aadrian/Pseudobulk_Function_Pipeline_HighRes/bin/bulkSimulationOneProfile/data/simulations/0.075/pbmc_sc_with_metadata_cpm_pc_cell_type_profiles.csv/pbmc_sc_with_metadata_cpm_pc_cell_type_profiles_n_sim_40_profiles.csv', '/space/grp/aadrian/Pseudobulk_Function_Pipeline_HighRes/bin/bulkSimulationOneProfile/data/simulations/0.075/pbmc_sc_with_metadata_cpm_pc_cell_type_profiles.csv/pbmc_sc_with_metadata_cpm_pc_cell_type_profiles_n_sim_13_profiles.csv', '/space/grp/aadrian/Pseudobulk_Function_Pipeline_HighRes/bin/bulkSimulationOneProfile/data/simulations/0.075/pbmc_sc_with_metadata_cpm_pc_cell_type_profiles.csv/pbmc_sc_with_metadata_cpm_pc_cell_type_profiles_n_sim_41_profiles.csv', '/space/grp/aadrian/Pseudobulk_Function_Pipeline_HighRes/bin/bulkSimulationOneProfile/data/simulations/0.075/pbmc_sc_with_metadata_cpm_pc_cell_type_profiles.csv/pbmc_sc_with_metadata_cpm_pc_cell_type_profiles_n_sim_8_profiles.csv', '/space/grp/aadrian/Pseudobulk_Function_Pipeline_HighRes/bin/bulkSimulationOneProfile/data/simulations/0.075/pbmc_sc_with_metadata_cpm_pc_cell_type_profiles.csv/pbmc_sc_with_metadata_cpm_pc_cell_type_profiles_n_sim_12_profiles.csv', '/space/grp/aadrian/Pseudobulk_Function_Pipeline_HighRes/bin/bulkSimulationOneProfile/data/simulations/0.075/pbmc_sc_with_metadata_cpm_pc_cell_type_profiles.csv/pbmc_sc_with_metadata_cpm_pc_cell_type_profiles_n_sim_38_profiles.csv', '/space/grp/aadrian/Pseudobulk_Function_Pipeline_HighRes/bin/bulkSimulationOneProfile/data/simulations/0.075/pbmc_sc_with_metadata_cpm_pc_cell_type_profiles.csv/pbmc_sc_with_metadata_cpm_pc_cell_type_profiles_n_sim_3_profiles.csv', '/space/grp/aadrian/Pseudobulk_Function_Pipeline_HighRes/bin/bulkSimulationOneProfile/data/simulations/0.075/pbmc_sc_with_metadata_cpm_pc_cell_type_profiles.csv/pbmc_sc_with_metadata_cpm_pc_cell_type_profiles_n_sim_95_profiles.csv', '/space/grp/aadrian/Pseudobulk_Function_Pipeline_HighRes/bin/bulkSimulationOneProfile/data/simulations/0.075/pbmc_sc_with_metadata_cpm_pc_cell_type_profiles.csv/pbmc_sc_with_metadata_cpm_pc_cell_type_profiles_n_sim_19_profiles.csv', '/space/grp/aadrian/Pseudobulk_Function_Pipeline_HighRes/bin/bulkSimulationOneProfile/data/simulations/0.075/pbmc_sc_with_metadata_cpm_pc_cell_type_profiles.csv/pbmc_sc_with_metadata_cpm_pc_cell_type_profiles_n_sim_33_profiles.csv', '/space/grp/aadrian/Pseudobulk_Function_Pipeline_HighRes/bin/bulkSimulationOneProfile/data/simulations/0.075/pbmc_sc_with_metadata_cpm_pc_cell_type_profiles.csv/pbmc_sc_with_metadata_cpm_pc_cell_type_profiles_n_sim_60_profiles.csv', '/space/grp/aadrian/Pseudobulk_Function_Pipeline_HighRes/bin/bulkSimulationOneProfile/data/simulations/0.075/pbmc_sc_with_metadata_cpm_pc_cell_type_profiles.csv/pbmc_sc_with_metadata_cpm_pc_cell_type_profiles_n_sim_32_profiles.csv', '/space/grp/aadrian/Pseudobulk_Function_Pipeline_HighRes/bin/bulkSimulationOneProfile/data/simulations/0.075/pbmc_sc_with_metadata_cpm_pc_cell_type_profiles.csv/pbmc_sc_with_metadata_cpm_pc_cell_type_profiles_n_sim_61_profiles.csv', '/space/grp/aadrian/Pseudobulk_Function_Pipeline_HighRes/bin/bulkSimulationOneProfile/data/simulations/0.075/pbmc_sc_with_metadata_cpm_pc_cell_type_profiles.csv/pbmc_sc_with_metadata_cpm_pc_cell_type_profiles_n_sim_2_profiles.csv', '/space/grp/aadrian/Pseudobulk_Function_Pipeline_HighRes/bin/bulkSimulationOneProfile/data/simulations/0.075/pbmc_sc_with_metadata_cpm_pc_cell_type_profiles.csv/pbmc_sc_with_metadata_cpm_pc_cell_type_profiles_n_sim_94_profiles.csv', '/space/grp/aadrian/Pseudobulk_Function_Pipeline_HighRes/bin/bulkSimulationOneProfile/data/simulations/0.075/pbmc_sc_with_metadata_cpm_pc_cell_type_profiles.csv/pbmc_sc_with_metadata_cpm_pc_cell_type_profiles_n_sim_18_profiles.csv', '/space/grp/aadrian/Pseudobulk_Function_Pipeline_HighRes/bin/bulkSimulationOneProfile/data/simulations/0.075/pbmc_sc_with_metadata_cpm_pc_cell_type_profiles.csv/pbmc_sc_with_metadata_cpm_pc_cell_type_profiles_n_sim_63_profiles.csv', '/space/grp/aadrian/Pseudobulk_Function_Pipeline_HighRes/bin/bulkSimulationOneProfile/data/simulations/0.075/pbmc_sc_with_metadata_cpm_pc_cell_type_profiles.csv/pbmc_sc_with_metadata_cpm_pc_cell_type_profiles_n_sim_30_profiles.csv', '/space/grp/aadrian/Pseudobulk_Function_Pipeline_HighRes/bin/bulkSimulationOneProfile/data/simulations/0.075/pbmc_sc_with_metadata_cpm_pc_cell_type_profiles.csv/pbmc_sc_with_metadata_cpm_pc_cell_type_profiles_n_sim_49_profiles.csv', '/space/grp/aadrian/Pseudobulk_Function_Pipeline_HighRes/bin/bulkSimulationOneProfile/data/simulations/0.075/pbmc_sc_with_metadata_cpm_pc_cell_type_profiles.csv/pbmc_sc_with_metadata_cpm_pc_cell_type_profiles_n_sim_96_profiles.csv', '/space/grp/aadrian/Pseudobulk_Function_Pipeline_HighRes/bin/bulkSimulationOneProfile/data/simulations/0.075/pbmc_sc_with_metadata_cpm_pc_cell_type_profiles.csv/pbmc_sc_with_metadata_cpm_pc_cell_type_profiles_n_sim_0_profiles.csv', '/space/grp/aadrian/Pseudobulk_Function_Pipeline_HighRes/bin/bulkSimulationOneProfile/data/simulations/0.075/pbmc_sc_with_metadata_cpm_pc_cell_type_profiles.csv/pbmc_sc_with_metadata_cpm_pc_cell_type_profiles_n_sim_97_profiles.csv', '/space/grp/aadrian/Pseudobulk_Function_Pipeline_HighRes/bin/bulkSimulationOneProfile/data/simulations/0.075/pbmc_sc_with_metadata_cpm_pc_cell_type_profiles.csv/pbmc_sc_with_metadata_cpm_pc_cell_type_profiles_n_sim_1_profiles.csv', '/space/grp/aadrian/Pseudobulk_Function_Pipeline_HighRes/bin/bulkSimulationOneProfile/data/simulations/0.075/pbmc_sc_with_metadata_cpm_pc_cell_type_profiles.csv/pbmc_sc_with_metadata_cpm_pc_cell_type_profiles_n_sim_48_profiles.csv', '/space/grp/aadrian/Pseudobulk_Function_Pipeline_HighRes/bin/bulkSimulationOneProfile/data/simulations/0.075/pbmc_sc_with_metadata_cpm_pc_cell_type_profiles.csv/pbmc_sc_with_metadata_cpm_pc_cell_type_profiles_n_sim_62_profiles.csv', '/space/grp/aadrian/Pseudobulk_Function_Pipeline_HighRes/bin/bulkSimulationOneProfile/data/simulations/0.075/pbmc_sc_with_metadata_cpm_pc_cell_type_profiles.csv/pbmc_sc_with_metadata_cpm_pc_cell_type_profiles_n_sim_31_profiles.csv', '/space/grp/aadrian/Pseudobulk_Function_Pipeline_HighRes/bin/bulkSimulationOneProfile/data/simulations/0.075/pbmc_sc_with_metadata_cpm_pc_cell_type_profiles.csv/pbmc_sc_with_metadata_cpm_pc_cell_type_profiles_n_sim_4_profiles.csv', '/space/grp/aadrian/Pseudobulk_Function_Pipeline_HighRes/bin/bulkSimulationOneProfile/data/simulations/0.075/pbmc_sc_with_metadata_cpm_pc_cell_type_profiles.csv/pbmc_sc_with_metadata_cpm_pc_cell_type_profiles_n_sim_92_profiles.csv', '/space/grp/aadrian/Pseudobulk_Function_Pipeline_HighRes/bin/bulkSimulationOneProfile/data/simulations/0.075/pbmc_sc_with_metadata_cpm_pc_cell_type_profiles.csv/pbmc_sc_with_metadata_cpm_pc_cell_type_profiles_n_sim_34_profiles.csv', '/space/grp/aadrian/Pseudobulk_Function_Pipeline_HighRes/bin/bulkSimulationOneProfile/data/simulations/0.075/pbmc_sc_with_metadata_cpm_pc_cell_type_profiles.csv/pbmc_sc_with_metadata_cpm_pc_cell_type_profiles_n_sim_67_profiles.csv', '/space/grp/aadrian/Pseudobulk_Function_Pipeline_HighRes/bin/bulkSimulationOneProfile/data/simulations/0.075/pbmc_sc_with_metadata_cpm_pc_cell_type_profiles.csv/pbmc_sc_with_metadata_cpm_pc_cell_type_profiles_n_sim_35_profiles.csv', '/space/grp/aadrian/Pseudobulk_Function_Pipeline_HighRes/bin/bulkSimulationOneProfile/data/simulations/0.075/pbmc_sc_with_metadata_cpm_pc_cell_type_profiles.csv/pbmc_sc_with_metadata_cpm_pc_cell_type_profiles_n_sim_66_profiles.csv', '/space/grp/aadrian/Pseudobulk_Function_Pipeline_HighRes/bin/bulkSimulationOneProfile/data/simulations/0.075/pbmc_sc_with_metadata_cpm_pc_cell_type_profiles.csv/pbmc_sc_with_metadata_cpm_pc_cell_type_profiles_n_sim_5_profiles.csv', '/space/grp/aadrian/Pseudobulk_Function_Pipeline_HighRes/bin/bulkSimulationOneProfile/data/simulations/0.075/pbmc_sc_with_metadata_cpm_pc_cell_type_profiles.csv/pbmc_sc_with_metadata_cpm_pc_cell_type_profiles_n_sim_93_profiles.csv', '/space/grp/aadrian/Pseudobulk_Function_Pipeline_HighRes/bin/bulkSimulationOneProfile/data/simulations/0.075/pbmc_sc_with_metadata_cpm_pc_cell_type_profiles.csv/pbmc_sc_with_metadata_cpm_pc_cell_type_profiles_n_sim_64_profiles.csv', '/space/grp/aadrian/Pseudobulk_Function_Pipeline_HighRes/bin/bulkSimulationOneProfile/data/simulations/0.075/pbmc_sc_with_metadata_cpm_pc_cell_type_profiles.csv/pbmc_sc_with_metadata_cpm_pc_cell_type_profiles_n_sim_37_profiles.csv', '/space/grp/aadrian/Pseudobulk_Function_Pipeline_HighRes/bin/bulkSimulationOneProfile/data/simulations/0.075/pbmc_sc_with_metadata_cpm_pc_cell_type_profiles.csv/pbmc_sc_with_metadata_cpm_pc_cell_type_profiles_n_sim_91_profiles.csv', '/space/grp/aadrian/Pseudobulk_Function_Pipeline_HighRes/bin/bulkSimulationOneProfile/data/simulations/0.075/pbmc_sc_with_metadata_cpm_pc_cell_type_profiles.csv/pbmc_sc_with_metadata_cpm_pc_cell_type_profiles_n_sim_7_profiles.csv', '/space/grp/aadrian/Pseudobulk_Function_Pipeline_HighRes/bin/bulkSimulationOneProfile/data/simulations/0.075/pbmc_sc_with_metadata_cpm_pc_cell_type_profiles.csv/pbmc_sc_with_metadata_cpm_pc_cell_type_profiles_n_sim_90_profiles.csv', '/space/grp/aadrian/Pseudobulk_Function_Pipeline_HighRes/bin/bulkSimulationOneProfile/data/simulations/0.075/pbmc_sc_with_metadata_cpm_pc_cell_type_profiles.csv/pbmc_sc_with_metadata_cpm_pc_cell_type_profiles_n_sim_6_profiles.csv', '/space/grp/aadrian/Pseudobulk_Function_Pipeline_HighRes/bin/bulkSimulationOneProfile/data/simulations/0.075/pbmc_sc_with_metadata_cpm_pc_cell_type_profiles.csv/pbmc_sc_with_metadata_cpm_pc_cell_type_profiles_n_sim_65_profiles.csv', '/space/grp/aadrian/Pseudobulk_Function_Pipeline_HighRes/bin/bulkSimulationOneProfile/data/simulations/0.075/pbmc_sc_with_metadata_cpm_pc_cell_type_profiles.csv/pbmc_sc_with_metadata_cpm_pc_cell_type_profiles_n_sim_36_profiles.csv'], ['/space/grp/aadrian/Pseudobulk_Function_Pipeline_HighRes/bin/bulkSimulationOneProfile/data/simulations/0.05/pbmc_sc_with_metadata_cpm_pc_cell_type_profiles.csv/pbmc_sc_with_metadata_cpm_pc_cell_type_profiles_n_sim_96_profiles.csv', '/space/grp/aadrian/Pseudobulk_Function_Pipeline_HighRes/bin/bulkSimulationOneProfile/data/simulations/0.05/pbmc_sc_with_metadata_cpm_pc_cell_type_profiles.csv/pbmc_sc_with_metadata_cpm_pc_cell_type_profiles_n_sim_49_profiles.csv', '/space/grp/aadrian/Pseudobulk_Function_Pipeline_HighRes/bin/bulkSimulationOneProfile/data/simulations/0.05/pbmc_sc_with_metadata_cpm_pc_cell_type_profiles.csv/pbmc_sc_with_metadata_cpm_pc_cell_type_profiles_n_sim_63_profiles.csv', '/space/grp/aadrian/Pseudobulk_Function_Pipeline_HighRes/bin/bulkSimulationOneProfile/data/simulations/0.05/pbmc_sc_with_metadata_cpm_pc_cell_type_profiles.csv/pbmc_sc_with_metadata_cpm_pc_cell_type_profiles_n_sim_30_profiles.csv', '/space/grp/aadrian/Pseudobulk_Function_Pipeline_HighRes/bin/bulkSimulationOneProfile/data/simulations/0.05/pbmc_sc_with_metadata_cpm_pc_cell_type_profiles.csv/pbmc_sc_with_metadata_cpm_pc_cell_type_profiles_n_sim_62_profiles.csv', '/space/grp/aadrian/Pseudobulk_Function_Pipeline_HighRes/bin/bulkSimulationOneProfile/data/simulations/0.05/pbmc_sc_with_metadata_cpm_pc_cell_type_profiles.csv/pbmc_sc_with_metadata_cpm_pc_cell_type_profiles_n_sim_31_profiles.csv', '/space/grp/aadrian/Pseudobulk_Function_Pipeline_HighRes/bin/bulkSimulationOneProfile/data/simulations/0.05/pbmc_sc_with_metadata_cpm_pc_cell_type_profiles.csv/pbmc_sc_with_metadata_cpm_pc_cell_type_profiles_n_sim_48_profiles.csv', '/space/grp/aadrian/Pseudobulk_Function_Pipeline_HighRes/bin/bulkSimulationOneProfile/data/simulations/0.05/pbmc_sc_with_metadata_cpm_pc_cell_type_profiles.csv/pbmc_sc_with_metadata_cpm_pc_cell_type_profiles_n_sim_97_profiles.csv', '/space/grp/aadrian/Pseudobulk_Function_Pipeline_HighRes/bin/bulkSimulationOneProfile/data/simulations/0.05/pbmc_sc_with_metadata_cpm_pc_cell_type_profiles.csv/pbmc_sc_with_metadata_cpm_pc_cell_type_profiles_n_sim_33_profiles.csv', '/space/grp/aadrian/Pseudobulk_Function_Pipeline_HighRes/bin/bulkSimulationOneProfile/data/simulations/0.05/pbmc_sc_with_metadata_cpm_pc_cell_type_profiles.csv/pbmc_sc_with_metadata_cpm_pc_cell_type_profiles_n_sim_8_profiles.csv', '/space/grp/aadrian/Pseudobulk_Function_Pipeline_HighRes/bin/bulkSimulationOneProfile/data/simulations/0.05/pbmc_sc_with_metadata_cpm_pc_cell_type_profiles.csv/pbmc_sc_with_metadata_cpm_pc_cell_type_profiles_n_sim_60_profiles.csv', '/space/grp/aadrian/Pseudobulk_Function_Pipeline_HighRes/bin/bulkSimulationOneProfile/data/simulations/0.05/pbmc_sc_with_metadata_cpm_pc_cell_type_profiles.csv/pbmc_sc_with_metadata_cpm_pc_cell_type_profiles_n_sim_95_profiles.csv', '/space/grp/aadrian/Pseudobulk_Function_Pipeline_HighRes/bin/bulkSimulationOneProfile/data/simulations/0.05/pbmc_sc_with_metadata_cpm_pc_cell_type_profiles.csv/pbmc_sc_with_metadata_cpm_pc_cell_type_profiles_n_sim_19_profiles.csv', '/space/grp/aadrian/Pseudobulk_Function_Pipeline_HighRes/bin/bulkSimulationOneProfile/data/simulations/0.05/pbmc_sc_with_metadata_cpm_pc_cell_type_profiles.csv/pbmc_sc_with_metadata_cpm_pc_cell_type_profiles_n_sim_94_profiles.csv', '/space/grp/aadrian/Pseudobulk_Function_Pipeline_HighRes/bin/bulkSimulationOneProfile/data/simulations/0.05/pbmc_sc_with_metadata_cpm_pc_cell_type_profiles.csv/pbmc_sc_with_metadata_cpm_pc_cell_type_profiles_n_sim_18_profiles.csv', '/space/grp/aadrian/Pseudobulk_Function_Pipeline_HighRes/bin/bulkSimulationOneProfile/data/simulations/0.05/pbmc_sc_with_metadata_cpm_pc_cell_type_profiles.csv/pbmc_sc_with_metadata_cpm_pc_cell_type_profiles_n_sim_32_profiles.csv', '/space/grp/aadrian/Pseudobulk_Function_Pipeline_HighRes/bin/bulkSimulationOneProfile/data/simulations/0.05/pbmc_sc_with_metadata_cpm_pc_cell_type_profiles.csv/pbmc_sc_with_metadata_cpm_pc_cell_type_profiles_n_sim_9_profiles.csv', '/space/grp/aadrian/Pseudobulk_Function_Pipeline_HighRes/bin/bulkSimulationOneProfile/data/simulations/0.05/pbmc_sc_with_metadata_cpm_pc_cell_type_profiles.csv/pbmc_sc_with_metadata_cpm_pc_cell_type_profiles_n_sim_61_profiles.csv', '/space/grp/aadrian/Pseudobulk_Function_Pipeline_HighRes/bin/bulkSimulationOneProfile/data/simulations/0.05/pbmc_sc_with_metadata_cpm_pc_cell_type_profiles.csv/pbmc_sc_with_metadata_cpm_pc_cell_type_profiles_n_sim_91_profiles.csv', '/space/grp/aadrian/Pseudobulk_Function_Pipeline_HighRes/bin/bulkSimulationOneProfile/data/simulations/0.05/pbmc_sc_with_metadata_cpm_pc_cell_type_profiles.csv/pbmc_sc_with_metadata_cpm_pc_cell_type_profiles_n_sim_64_profiles.csv', '/space/grp/aadrian/Pseudobulk_Function_Pipeline_HighRes/bin/bulkSimulationOneProfile/data/simulations/0.05/pbmc_sc_with_metadata_cpm_pc_cell_type_profiles.csv/pbmc_sc_with_metadata_cpm_pc_cell_type_profiles_n_sim_37_profiles.csv', '/space/grp/aadrian/Pseudobulk_Function_Pipeline_HighRes/bin/bulkSimulationOneProfile/data/simulations/0.05/pbmc_sc_with_metadata_cpm_pc_cell_type_profiles.csv/pbmc_sc_with_metadata_cpm_pc_cell_type_profiles_n_sim_65_profiles.csv', '/space/grp/aadrian/Pseudobulk_Function_Pipeline_HighRes/bin/bulkSimulationOneProfile/data/simulations/0.05/pbmc_sc_with_metadata_cpm_pc_cell_type_profiles.csv/pbmc_sc_with_metadata_cpm_pc_cell_type_profiles_n_sim_36_profiles.csv', '/space/grp/aadrian/Pseudobulk_Function_Pipeline_HighRes/bin/bulkSimulationOneProfile/data/simulations/0.05/pbmc_sc_with_metadata_cpm_pc_cell_type_profiles.csv/pbmc_sc_with_metadata_cpm_pc_cell_type_profiles_n_sim_90_profiles.csv', '/space/grp/aadrian/Pseudobulk_Function_Pipeline_HighRes/bin/bulkSimulationOneProfile/data/simulations/0.05/pbmc_sc_with_metadata_cpm_pc_cell_type_profiles.csv/pbmc_sc_with_metadata_cpm_pc_cell_type_profiles_n_sim_34_profiles.csv', '/space/grp/aadrian/Pseudobulk_Function_Pipeline_HighRes/bin/bulkSimulationOneProfile/data/simulations/0.05/pbmc_sc_with_metadata_cpm_pc_cell_type_profiles.csv/pbmc_sc_with_metadata_cpm_pc_cell_type_profiles_n_sim_67_profiles.csv', '/space/grp/aadrian/Pseudobulk_Function_Pipeline_HighRes/bin/bulkSimulationOneProfile/data/simulations/0.05/pbmc_sc_with_metadata_cpm_pc_cell_type_profiles.csv/pbmc_sc_with_metadata_cpm_pc_cell_type_profiles_n_sim_92_profiles.csv', '/space/grp/aadrian/Pseudobulk_Function_Pipeline_HighRes/bin/bulkSimulationOneProfile/data/simulations/0.05/pbmc_sc_with_metadata_cpm_pc_cell_type_profiles.csv/pbmc_sc_with_metadata_cpm_pc_cell_type_profiles_n_sim_93_profiles.csv', '/space/grp/aadrian/Pseudobulk_Function_Pipeline_HighRes/bin/bulkSimulationOneProfile/data/simulations/0.05/pbmc_sc_with_metadata_cpm_pc_cell_type_profiles.csv/pbmc_sc_with_metadata_cpm_pc_cell_type_profiles_n_sim_35_profiles.csv', '/space/grp/aadrian/Pseudobulk_Function_Pipeline_HighRes/bin/bulkSimulationOneProfile/data/simulations/0.05/pbmc_sc_with_metadata_cpm_pc_cell_type_profiles.csv/pbmc_sc_with_metadata_cpm_pc_cell_type_profiles_n_sim_66_profiles.csv', '/space/grp/aadrian/Pseudobulk_Function_Pipeline_HighRes/bin/bulkSimulationOneProfile/data/simulations/0.05/pbmc_sc_with_metadata_cpm_pc_cell_type_profiles.csv/pbmc_sc_with_metadata_cpm_pc_cell_type_profiles_n_sim_98_profiles.csv', '/space/grp/aadrian/Pseudobulk_Function_Pipeline_HighRes/bin/bulkSimulationOneProfile/data/simulations/0.05/pbmc_sc_with_metadata_cpm_pc_cell_type_profiles.csv/pbmc_sc_with_metadata_cpm_pc_cell_type_profiles_n_sim_47_profiles.csv', '/space/grp/aadrian/Pseudobulk_Function_Pipeline_HighRes/bin/bulkSimulationOneProfile/data/simulations/0.05/pbmc_sc_with_metadata_cpm_pc_cell_type_profiles.csv/pbmc_sc_with_metadata_cpm_pc_cell_type_profiles_n_sim_14_profiles.csv', '/space/grp/aadrian/Pseudobulk_Function_Pipeline_HighRes/bin/bulkSimulationOneProfile/data/simulations/0.05/pbmc_sc_with_metadata_cpm_pc_cell_type_profiles.csv/pbmc_sc_with_metadata_cpm_pc_cell_type_profiles_n_sim_5_profiles.csv', '/space/grp/aadrian/Pseudobulk_Function_Pipeline_HighRes/bin/bulkSimulationOneProfile/data/simulations/0.05/pbmc_sc_with_metadata_cpm_pc_cell_type_profiles.csv/pbmc_sc_with_metadata_cpm_pc_cell_type_profiles_n_sim_4_profiles.csv', '/space/grp/aadrian/Pseudobulk_Function_Pipeline_HighRes/bin/bulkSimulationOneProfile/data/simulations/0.05/pbmc_sc_with_metadata_cpm_pc_cell_type_profiles.csv/pbmc_sc_with_metadata_cpm_pc_cell_type_profiles_n_sim_46_profiles.csv', '/space/grp/aadrian/Pseudobulk_Function_Pipeline_HighRes/bin/bulkSimulationOneProfile/data/simulations/0.05/pbmc_sc_with_metadata_cpm_pc_cell_type_profiles.csv/pbmc_sc_with_metadata_cpm_pc_cell_type_profiles_n_sim_99_profiles.csv', '/space/grp/aadrian/Pseudobulk_Function_Pipeline_HighRes/bin/bulkSimulationOneProfile/data/simulations/0.05/pbmc_sc_with_metadata_cpm_pc_cell_type_profiles.csv/pbmc_sc_with_metadata_cpm_pc_cell_type_profiles_n_sim_15_profiles.csv', '/space/grp/aadrian/Pseudobulk_Function_Pipeline_HighRes/bin/bulkSimulationOneProfile/data/simulations/0.05/pbmc_sc_with_metadata_cpm_pc_cell_type_profiles.csv/pbmc_sc_with_metadata_cpm_pc_cell_type_profiles_n_sim_6_profiles.csv', '/space/grp/aadrian/Pseudobulk_Function_Pipeline_HighRes/bin/bulkSimulationOneProfile/data/simulations/0.05/pbmc_sc_with_metadata_cpm_pc_cell_type_profiles.csv/pbmc_sc_with_metadata_cpm_pc_cell_type_profiles_n_sim_17_profiles.csv', '/space/grp/aadrian/Pseudobulk_Function_Pipeline_HighRes/bin/bulkSimulationOneProfile/data/simulations/0.05/pbmc_sc_with_metadata_cpm_pc_cell_type_profiles.csv/pbmc_sc_with_metadata_cpm_pc_cell_type_profiles_n_sim_44_profiles.csv', '/space/grp/aadrian/Pseudobulk_Function_Pipeline_HighRes/bin/bulkSimulationOneProfile/data/simulations/0.05/pbmc_sc_with_metadata_cpm_pc_cell_type_profiles.csv/pbmc_sc_with_metadata_cpm_pc_cell_type_profiles_n_sim_16_profiles.csv', '/space/grp/aadrian/Pseudobulk_Function_Pipeline_HighRes/bin/bulkSimulationOneProfile/data/simulations/0.05/pbmc_sc_with_metadata_cpm_pc_cell_type_profiles.csv/pbmc_sc_with_metadata_cpm_pc_cell_type_profiles_n_sim_45_profiles.csv', '/space/grp/aadrian/Pseudobulk_Function_Pipeline_HighRes/bin/bulkSimulationOneProfile/data/simulations/0.05/pbmc_sc_with_metadata_cpm_pc_cell_type_profiles.csv/pbmc_sc_with_metadata_cpm_pc_cell_type_profiles_n_sim_7_profiles.csv', '/space/grp/aadrian/Pseudobulk_Function_Pipeline_HighRes/bin/bulkSimulationOneProfile/data/simulations/0.05/pbmc_sc_with_metadata_cpm_pc_cell_type_profiles.csv/pbmc_sc_with_metadata_cpm_pc_cell_type_profiles_n_sim_40_profiles.csv', '/space/grp/aadrian/Pseudobulk_Function_Pipeline_HighRes/bin/bulkSimulationOneProfile/data/simulations/0.05/pbmc_sc_with_metadata_cpm_pc_cell_type_profiles.csv/pbmc_sc_with_metadata_cpm_pc_cell_type_profiles_n_sim_13_profiles.csv', '/space/grp/aadrian/Pseudobulk_Function_Pipeline_HighRes/bin/bulkSimulationOneProfile/data/simulations/0.05/pbmc_sc_with_metadata_cpm_pc_cell_type_profiles.csv/pbmc_sc_with_metadata_cpm_pc_cell_type_profiles_n_sim_2_profiles.csv', '/space/grp/aadrian/Pseudobulk_Function_Pipeline_HighRes/bin/bulkSimulationOneProfile/data/simulations/0.05/pbmc_sc_with_metadata_cpm_pc_cell_type_profiles.csv/pbmc_sc_with_metadata_cpm_pc_cell_type_profiles_n_sim_39_profiles.csv', '/space/grp/aadrian/Pseudobulk_Function_Pipeline_HighRes/bin/bulkSimulationOneProfile/data/simulations/0.05/pbmc_sc_with_metadata_cpm_pc_cell_type_profiles.csv/pbmc_sc_with_metadata_cpm_pc_cell_type_profiles_n_sim_3_profiles.csv', '/space/grp/aadrian/Pseudobulk_Function_Pipeline_HighRes/bin/bulkSimulationOneProfile/data/simulations/0.05/pbmc_sc_with_metadata_cpm_pc_cell_type_profiles.csv/pbmc_sc_with_metadata_cpm_pc_cell_type_profiles_n_sim_38_profiles.csv', '/space/grp/aadrian/Pseudobulk_Function_Pipeline_HighRes/bin/bulkSimulationOneProfile/data/simulations/0.05/pbmc_sc_with_metadata_cpm_pc_cell_type_profiles.csv/pbmc_sc_with_metadata_cpm_pc_cell_type_profiles_n_sim_41_profiles.csv', '/space/grp/aadrian/Pseudobulk_Function_Pipeline_HighRes/bin/bulkSimulationOneProfile/data/simulations/0.05/pbmc_sc_with_metadata_cpm_pc_cell_type_profiles.csv/pbmc_sc_with_metadata_cpm_pc_cell_type_profiles_n_sim_12_profiles.csv', '/space/grp/aadrian/Pseudobulk_Function_Pipeline_HighRes/bin/bulkSimulationOneProfile/data/simulations/0.05/pbmc_sc_with_metadata_cpm_pc_cell_type_profiles.csv/pbmc_sc_with_metadata_cpm_pc_cell_type_profiles_n_sim_69_profiles.csv', '/space/grp/aadrian/Pseudobulk_Function_Pipeline_HighRes/bin/bulkSimulationOneProfile/data/simulations/0.05/pbmc_sc_with_metadata_cpm_pc_cell_type_profiles.csv/pbmc_sc_with_metadata_cpm_pc_cell_type_profiles_n_sim_1_profiles.csv', '/space/grp/aadrian/Pseudobulk_Function_Pipeline_HighRes/bin/bulkSimulationOneProfile/data/simulations/0.05/pbmc_sc_with_metadata_cpm_pc_cell_type_profiles.csv/pbmc_sc_with_metadata_cpm_pc_cell_type_profiles_n_sim_10_profiles.csv', '/space/grp/aadrian/Pseudobulk_Function_Pipeline_HighRes/bin/bulkSimulationOneProfile/data/simulations/0.05/pbmc_sc_with_metadata_cpm_pc_cell_type_profiles.csv/pbmc_sc_with_metadata_cpm_pc_cell_type_profiles_n_sim_43_profiles.csv', '/space/grp/aadrian/Pseudobulk_Function_Pipeline_HighRes/bin/bulkSimulationOneProfile/data/simulations/0.05/pbmc_sc_with_metadata_cpm_pc_cell_type_profiles.csv/pbmc_sc_with_metadata_cpm_pc_cell_type_profiles_n_sim_11_profiles.csv', '/space/grp/aadrian/Pseudobulk_Function_Pipeline_HighRes/bin/bulkSimulationOneProfile/data/simulations/0.05/pbmc_sc_with_metadata_cpm_pc_cell_type_profiles.csv/pbmc_sc_with_metadata_cpm_pc_cell_type_profiles_n_sim_42_profiles.csv', '/space/grp/aadrian/Pseudobulk_Function_Pipeline_HighRes/bin/bulkSimulationOneProfile/data/simulations/0.05/pbmc_sc_with_metadata_cpm_pc_cell_type_profiles.csv/pbmc_sc_with_metadata_cpm_pc_cell_type_profiles_n_sim_68_profiles.csv', '/space/grp/aadrian/Pseudobulk_Function_Pipeline_HighRes/bin/bulkSimulationOneProfile/data/simulations/0.05/pbmc_sc_with_metadata_cpm_pc_cell_type_profiles.csv/pbmc_sc_with_metadata_cpm_pc_cell_type_profiles_n_sim_0_profiles.csv', '/space/grp/aadrian/Pseudobulk_Function_Pipeline_HighRes/bin/bulkSimulationOneProfile/data/simulations/0.05/pbmc_sc_with_metadata_cpm_pc_cell_type_profiles.csv/pbmc_sc_with_metadata_cpm_pc_cell_type_profiles_n_sim_79_profiles.csv', '/space/grp/aadrian/Pseudobulk_Function_Pipeline_HighRes/bin/bulkSimulationOneProfile/data/simulations/0.05/pbmc_sc_with_metadata_cpm_pc_cell_type_profiles.csv/pbmc_sc_with_metadata_cpm_pc_cell_type_profiles_n_sim_53_profiles.csv', '/space/grp/aadrian/Pseudobulk_Function_Pipeline_HighRes/bin/bulkSimulationOneProfile/data/simulations/0.05/pbmc_sc_with_metadata_cpm_pc_cell_type_profiles.csv/pbmc_sc_with_metadata_cpm_pc_cell_type_profiles_n_sim_52_profiles.csv', '/space/grp/aadrian/Pseudobulk_Function_Pipeline_HighRes/bin/bulkSimulationOneProfile/data/simulations/0.05/pbmc_sc_with_metadata_cpm_pc_cell_type_profiles.csv/pbmc_sc_with_metadata_cpm_pc_cell_type_profiles_n_sim_78_profiles.csv', '/space/grp/aadrian/Pseudobulk_Function_Pipeline_HighRes/bin/bulkSimulationOneProfile/data/simulations/0.05/pbmc_sc_with_metadata_cpm_pc_cell_type_profiles.csv/pbmc_sc_with_metadata_cpm_pc_cell_type_profiles_n_sim_50_profiles.csv', '/space/grp/aadrian/Pseudobulk_Function_Pipeline_HighRes/bin/bulkSimulationOneProfile/data/simulations/0.05/pbmc_sc_with_metadata_cpm_pc_cell_type_profiles.csv/pbmc_sc_with_metadata_cpm_pc_cell_type_profiles_n_sim_29_profiles.csv', '/space/grp/aadrian/Pseudobulk_Function_Pipeline_HighRes/bin/bulkSimulationOneProfile/data/simulations/0.05/pbmc_sc_with_metadata_cpm_pc_cell_type_profiles.csv/pbmc_sc_with_metadata_cpm_pc_cell_type_profiles_n_sim_28_profiles.csv', '/space/grp/aadrian/Pseudobulk_Function_Pipeline_HighRes/bin/bulkSimulationOneProfile/data/simulations/0.05/pbmc_sc_with_metadata_cpm_pc_cell_type_profiles.csv/pbmc_sc_with_metadata_cpm_pc_cell_type_profiles_n_sim_51_profiles.csv', '/space/grp/aadrian/Pseudobulk_Function_Pipeline_HighRes/bin/bulkSimulationOneProfile/data/simulations/0.05/pbmc_sc_with_metadata_cpm_pc_cell_type_profiles.csv/pbmc_sc_with_metadata_cpm_pc_cell_type_profiles_n_sim_54_profiles.csv', '/space/grp/aadrian/Pseudobulk_Function_Pipeline_HighRes/bin/bulkSimulationOneProfile/data/simulations/0.05/pbmc_sc_with_metadata_cpm_pc_cell_type_profiles.csv/pbmc_sc_with_metadata_cpm_pc_cell_type_profiles_n_sim_55_profiles.csv', '/space/grp/aadrian/Pseudobulk_Function_Pipeline_HighRes/bin/bulkSimulationOneProfile/data/simulations/0.05/pbmc_sc_with_metadata_cpm_pc_cell_type_profiles.csv/pbmc_sc_with_metadata_cpm_pc_cell_type_profiles_n_sim_88_profiles.csv', '/space/grp/aadrian/Pseudobulk_Function_Pipeline_HighRes/bin/bulkSimulationOneProfile/data/simulations/0.05/pbmc_sc_with_metadata_cpm_pc_cell_type_profiles.csv/pbmc_sc_with_metadata_cpm_pc_cell_type_profiles_n_sim_57_profiles.csv', '/space/grp/aadrian/Pseudobulk_Function_Pipeline_HighRes/bin/bulkSimulationOneProfile/data/simulations/0.05/pbmc_sc_with_metadata_cpm_pc_cell_type_profiles.csv/pbmc_sc_with_metadata_cpm_pc_cell_type_profiles_n_sim_56_profiles.csv', '/space/grp/aadrian/Pseudobulk_Function_Pipeline_HighRes/bin/bulkSimulationOneProfile/data/simulations/0.05/pbmc_sc_with_metadata_cpm_pc_cell_type_profiles.csv/pbmc_sc_with_metadata_cpm_pc_cell_type_profiles_n_sim_89_profiles.csv', '/space/grp/aadrian/Pseudobulk_Function_Pipeline_HighRes/bin/bulkSimulationOneProfile/data/simulations/0.05/pbmc_sc_with_metadata_cpm_pc_cell_type_profiles.csv/pbmc_sc_with_metadata_cpm_pc_cell_type_profiles_n_sim_24_profiles.csv', '/space/grp/aadrian/Pseudobulk_Function_Pipeline_HighRes/bin/bulkSimulationOneProfile/data/simulations/0.05/pbmc_sc_with_metadata_cpm_pc_cell_type_profiles.csv/pbmc_sc_with_metadata_cpm_pc_cell_type_profiles_n_sim_77_profiles.csv', '/space/grp/aadrian/Pseudobulk_Function_Pipeline_HighRes/bin/bulkSimulationOneProfile/data/simulations/0.05/pbmc_sc_with_metadata_cpm_pc_cell_type_profiles.csv/pbmc_sc_with_metadata_cpm_pc_cell_type_profiles_n_sim_82_profiles.csv', '/space/grp/aadrian/Pseudobulk_Function_Pipeline_HighRes/bin/bulkSimulationOneProfile/data/simulations/0.05/pbmc_sc_with_metadata_cpm_pc_cell_type_profiles.csv/pbmc_sc_with_metadata_cpm_pc_cell_type_profiles_n_sim_83_profiles.csv', '/space/grp/aadrian/Pseudobulk_Function_Pipeline_HighRes/bin/bulkSimulationOneProfile/data/simulations/0.05/pbmc_sc_with_metadata_cpm_pc_cell_type_profiles.csv/pbmc_sc_with_metadata_cpm_pc_cell_type_profiles_n_sim_25_profiles.csv', '/space/grp/aadrian/Pseudobulk_Function_Pipeline_HighRes/bin/bulkSimulationOneProfile/data/simulations/0.05/pbmc_sc_with_metadata_cpm_pc_cell_type_profiles.csv/pbmc_sc_with_metadata_cpm_pc_cell_type_profiles_n_sim_76_profiles.csv', '/space/grp/aadrian/Pseudobulk_Function_Pipeline_HighRes/bin/bulkSimulationOneProfile/data/simulations/0.05/pbmc_sc_with_metadata_cpm_pc_cell_type_profiles.csv/pbmc_sc_with_metadata_cpm_pc_cell_type_profiles_n_sim_81_profiles.csv', '/space/grp/aadrian/Pseudobulk_Function_Pipeline_HighRes/bin/bulkSimulationOneProfile/data/simulations/0.05/pbmc_sc_with_metadata_cpm_pc_cell_type_profiles.csv/pbmc_sc_with_metadata_cpm_pc_cell_type_profiles_n_sim_74_profiles.csv', '/space/grp/aadrian/Pseudobulk_Function_Pipeline_HighRes/bin/bulkSimulationOneProfile/data/simulations/0.05/pbmc_sc_with_metadata_cpm_pc_cell_type_profiles.csv/pbmc_sc_with_metadata_cpm_pc_cell_type_profiles_n_sim_27_profiles.csv', '/space/grp/aadrian/Pseudobulk_Function_Pipeline_HighRes/bin/bulkSimulationOneProfile/data/simulations/0.05/pbmc_sc_with_metadata_cpm_pc_cell_type_profiles.csv/pbmc_sc_with_metadata_cpm_pc_cell_type_profiles_n_sim_75_profiles.csv', '/space/grp/aadrian/Pseudobulk_Function_Pipeline_HighRes/bin/bulkSimulationOneProfile/data/simulations/0.05/pbmc_sc_with_metadata_cpm_pc_cell_type_profiles.csv/pbmc_sc_with_metadata_cpm_pc_cell_type_profiles_n_sim_26_profiles.csv', '/space/grp/aadrian/Pseudobulk_Function_Pipeline_HighRes/bin/bulkSimulationOneProfile/data/simulations/0.05/pbmc_sc_with_metadata_cpm_pc_cell_type_profiles.csv/pbmc_sc_with_metadata_cpm_pc_cell_type_profiles_n_sim_80_profiles.csv', '/space/grp/aadrian/Pseudobulk_Function_Pipeline_HighRes/bin/bulkSimulationOneProfile/data/simulations/0.05/pbmc_sc_with_metadata_cpm_pc_cell_type_profiles.csv/pbmc_sc_with_metadata_cpm_pc_cell_type_profiles_n_sim_23_profiles.csv', '/space/grp/aadrian/Pseudobulk_Function_Pipeline_HighRes/bin/bulkSimulationOneProfile/data/simulations/0.05/pbmc_sc_with_metadata_cpm_pc_cell_type_profiles.csv/pbmc_sc_with_metadata_cpm_pc_cell_type_profiles_n_sim_70_profiles.csv', '/space/grp/aadrian/Pseudobulk_Function_Pipeline_HighRes/bin/bulkSimulationOneProfile/data/simulations/0.05/pbmc_sc_with_metadata_cpm_pc_cell_type_profiles.csv/pbmc_sc_with_metadata_cpm_pc_cell_type_profiles_n_sim_85_profiles.csv', '/space/grp/aadrian/Pseudobulk_Function_Pipeline_HighRes/bin/bulkSimulationOneProfile/data/simulations/0.05/pbmc_sc_with_metadata_cpm_pc_cell_type_profiles.csv/pbmc_sc_with_metadata_cpm_pc_cell_type_profiles_n_sim_84_profiles.csv', '/space/grp/aadrian/Pseudobulk_Function_Pipeline_HighRes/bin/bulkSimulationOneProfile/data/simulations/0.05/pbmc_sc_with_metadata_cpm_pc_cell_type_profiles.csv/pbmc_sc_with_metadata_cpm_pc_cell_type_profiles_n_sim_22_profiles.csv', '/space/grp/aadrian/Pseudobulk_Function_Pipeline_HighRes/bin/bulkSimulationOneProfile/data/simulations/0.05/pbmc_sc_with_metadata_cpm_pc_cell_type_profiles.csv/pbmc_sc_with_metadata_cpm_pc_cell_type_profiles_n_sim_71_profiles.csv', '/space/grp/aadrian/Pseudobulk_Function_Pipeline_HighRes/bin/bulkSimulationOneProfile/data/simulations/0.05/pbmc_sc_with_metadata_cpm_pc_cell_type_profiles.csv/pbmc_sc_with_metadata_cpm_pc_cell_type_profiles_n_sim_86_profiles.csv', '/space/grp/aadrian/Pseudobulk_Function_Pipeline_HighRes/bin/bulkSimulationOneProfile/data/simulations/0.05/pbmc_sc_with_metadata_cpm_pc_cell_type_profiles.csv/pbmc_sc_with_metadata_cpm_pc_cell_type_profiles_n_sim_59_profiles.csv', '/space/grp/aadrian/Pseudobulk_Function_Pipeline_HighRes/bin/bulkSimulationOneProfile/data/simulations/0.05/pbmc_sc_with_metadata_cpm_pc_cell_type_profiles.csv/pbmc_sc_with_metadata_cpm_pc_cell_type_profiles_n_sim_73_profiles.csv', '/space/grp/aadrian/Pseudobulk_Function_Pipeline_HighRes/bin/bulkSimulationOneProfile/data/simulations/0.05/pbmc_sc_with_metadata_cpm_pc_cell_type_profiles.csv/pbmc_sc_with_metadata_cpm_pc_cell_type_profiles_n_sim_20_profiles.csv', '/space/grp/aadrian/Pseudobulk_Function_Pipeline_HighRes/bin/bulkSimulationOneProfile/data/simulations/0.05/pbmc_sc_with_metadata_cpm_pc_cell_type_profiles.csv/pbmc_sc_with_metadata_cpm_pc_cell_type_profiles_n_sim_72_profiles.csv', '/space/grp/aadrian/Pseudobulk_Function_Pipeline_HighRes/bin/bulkSimulationOneProfile/data/simulations/0.05/pbmc_sc_with_metadata_cpm_pc_cell_type_profiles.csv/pbmc_sc_with_metadata_cpm_pc_cell_type_profiles_n_sim_21_profiles.csv', '/space/grp/aadrian/Pseudobulk_Function_Pipeline_HighRes/bin/bulkSimulationOneProfile/data/simulations/0.05/pbmc_sc_with_metadata_cpm_pc_cell_type_profiles.csv/pbmc_sc_with_metadata_cpm_pc_cell_type_profiles_n_sim_58_profiles.csv', '/space/grp/aadrian/Pseudobulk_Function_Pipeline_HighRes/bin/bulkSimulationOneProfile/data/simulations/0.05/pbmc_sc_with_metadata_cpm_pc_cell_type_profiles.csv/pbmc_sc_with_metadata_cpm_pc_cell_type_profiles_n_sim_87_profiles.csv'], ['/space/grp/aadrian/Pseudobulk_Function_Pipeline_HighRes/bin/bulkSimulationOneProfile/data/simulations/0.095/pbmc_sc_with_metadata_cpm_pc_cell_type_profiles.csv/pbmc_sc_with_metadata_cpm_pc_cell_type_profiles_n_sim_85_profiles.csv', '/space/grp/aadrian/Pseudobulk_Function_Pipeline_HighRes/bin/bulkSimulationOneProfile/data/simulations/0.095/pbmc_sc_with_metadata_cpm_pc_cell_type_profiles.csv/pbmc_sc_with_metadata_cpm_pc_cell_type_profiles_n_sim_70_profiles.csv', '/space/grp/aadrian/Pseudobulk_Function_Pipeline_HighRes/bin/bulkSimulationOneProfile/data/simulations/0.095/pbmc_sc_with_metadata_cpm_pc_cell_type_profiles.csv/pbmc_sc_with_metadata_cpm_pc_cell_type_profiles_n_sim_23_profiles.csv', '/space/grp/aadrian/Pseudobulk_Function_Pipeline_HighRes/bin/bulkSimulationOneProfile/data/simulations/0.095/pbmc_sc_with_metadata_cpm_pc_cell_type_profiles.csv/pbmc_sc_with_metadata_cpm_pc_cell_type_profiles_n_sim_9_profiles.csv', '/space/grp/aadrian/Pseudobulk_Function_Pipeline_HighRes/bin/bulkSimulationOneProfile/data/simulations/0.095/pbmc_sc_with_metadata_cpm_pc_cell_type_profiles.csv/pbmc_sc_with_metadata_cpm_pc_cell_type_profiles_n_sim_71_profiles.csv', '/space/grp/aadrian/Pseudobulk_Function_Pipeline_HighRes/bin/bulkSimulationOneProfile/data/simulations/0.095/pbmc_sc_with_metadata_cpm_pc_cell_type_profiles.csv/pbmc_sc_with_metadata_cpm_pc_cell_type_profiles_n_sim_8_profiles.csv', '/space/grp/aadrian/Pseudobulk_Function_Pipeline_HighRes/bin/bulkSimulationOneProfile/data/simulations/0.095/pbmc_sc_with_metadata_cpm_pc_cell_type_profiles.csv/pbmc_sc_with_metadata_cpm_pc_cell_type_profiles_n_sim_22_profiles.csv', '/space/grp/aadrian/Pseudobulk_Function_Pipeline_HighRes/bin/bulkSimulationOneProfile/data/simulations/0.095/pbmc_sc_with_metadata_cpm_pc_cell_type_profiles.csv/pbmc_sc_with_metadata_cpm_pc_cell_type_profiles_n_sim_84_profiles.csv', '/space/grp/aadrian/Pseudobulk_Function_Pipeline_HighRes/bin/bulkSimulationOneProfile/data/simulations/0.095/pbmc_sc_with_metadata_cpm_pc_cell_type_profiles.csv/pbmc_sc_with_metadata_cpm_pc_cell_type_profiles_n_sim_20_profiles.csv', '/space/grp/aadrian/Pseudobulk_Function_Pipeline_HighRes/bin/bulkSimulationOneProfile/data/simulations/0.095/pbmc_sc_with_metadata_cpm_pc_cell_type_profiles.csv/pbmc_sc_with_metadata_cpm_pc_cell_type_profiles_n_sim_73_profiles.csv', '/space/grp/aadrian/Pseudobulk_Function_Pipeline_HighRes/bin/bulkSimulationOneProfile/data/simulations/0.095/pbmc_sc_with_metadata_cpm_pc_cell_type_profiles.csv/pbmc_sc_with_metadata_cpm_pc_cell_type_profiles_n_sim_86_profiles.csv', '/space/grp/aadrian/Pseudobulk_Function_Pipeline_HighRes/bin/bulkSimulationOneProfile/data/simulations/0.095/pbmc_sc_with_metadata_cpm_pc_cell_type_profiles.csv/pbmc_sc_with_metadata_cpm_pc_cell_type_profiles_n_sim_59_profiles.csv', '/space/grp/aadrian/Pseudobulk_Function_Pipeline_HighRes/bin/bulkSimulationOneProfile/data/simulations/0.095/pbmc_sc_with_metadata_cpm_pc_cell_type_profiles.csv/pbmc_sc_with_metadata_cpm_pc_cell_type_profiles_n_sim_58_profiles.csv', '/space/grp/aadrian/Pseudobulk_Function_Pipeline_HighRes/bin/bulkSimulationOneProfile/data/simulations/0.095/pbmc_sc_with_metadata_cpm_pc_cell_type_profiles.csv/pbmc_sc_with_metadata_cpm_pc_cell_type_profiles_n_sim_87_profiles.csv', '/space/grp/aadrian/Pseudobulk_Function_Pipeline_HighRes/bin/bulkSimulationOneProfile/data/simulations/0.095/pbmc_sc_with_metadata_cpm_pc_cell_type_profiles.csv/pbmc_sc_with_metadata_cpm_pc_cell_type_profiles_n_sim_21_profiles.csv', '/space/grp/aadrian/Pseudobulk_Function_Pipeline_HighRes/bin/bulkSimulationOneProfile/data/simulations/0.095/pbmc_sc_with_metadata_cpm_pc_cell_type_profiles.csv/pbmc_sc_with_metadata_cpm_pc_cell_type_profiles_n_sim_72_profiles.csv', '/space/grp/aadrian/Pseudobulk_Function_Pipeline_HighRes/bin/bulkSimulationOneProfile/data/simulations/0.095/pbmc_sc_with_metadata_cpm_pc_cell_type_profiles.csv/pbmc_sc_with_metadata_cpm_pc_cell_type_profiles_n_sim_82_profiles.csv', '/space/grp/aadrian/Pseudobulk_Function_Pipeline_HighRes/bin/bulkSimulationOneProfile/data/simulations/0.095/pbmc_sc_with_metadata_cpm_pc_cell_type_profiles.csv/pbmc_sc_with_metadata_cpm_pc_cell_type_profiles_n_sim_77_profiles.csv', '/space/grp/aadrian/Pseudobulk_Function_Pipeline_HighRes/bin/bulkSimulationOneProfile/data/simulations/0.095/pbmc_sc_with_metadata_cpm_pc_cell_type_profiles.csv/pbmc_sc_with_metadata_cpm_pc_cell_type_profiles_n_sim_24_profiles.csv', '/space/grp/aadrian/Pseudobulk_Function_Pipeline_HighRes/bin/bulkSimulationOneProfile/data/simulations/0.095/pbmc_sc_with_metadata_cpm_pc_cell_type_profiles.csv/pbmc_sc_with_metadata_cpm_pc_cell_type_profiles_n_sim_76_profiles.csv', '/space/grp/aadrian/Pseudobulk_Function_Pipeline_HighRes/bin/bulkSimulationOneProfile/data/simulations/0.095/pbmc_sc_with_metadata_cpm_pc_cell_type_profiles.csv/pbmc_sc_with_metadata_cpm_pc_cell_type_profiles_n_sim_25_profiles.csv', '/space/grp/aadrian/Pseudobulk_Function_Pipeline_HighRes/bin/bulkSimulationOneProfile/data/simulations/0.095/pbmc_sc_with_metadata_cpm_pc_cell_type_profiles.csv/pbmc_sc_with_metadata_cpm_pc_cell_type_profiles_n_sim_83_profiles.csv', '/space/grp/aadrian/Pseudobulk_Function_Pipeline_HighRes/bin/bulkSimulationOneProfile/data/simulations/0.095/pbmc_sc_with_metadata_cpm_pc_cell_type_profiles.csv/pbmc_sc_with_metadata_cpm_pc_cell_type_profiles_n_sim_27_profiles.csv', '/space/grp/aadrian/Pseudobulk_Function_Pipeline_HighRes/bin/bulkSimulationOneProfile/data/simulations/0.095/pbmc_sc_with_metadata_cpm_pc_cell_type_profiles.csv/pbmc_sc_with_metadata_cpm_pc_cell_type_profiles_n_sim_74_profiles.csv', '/space/grp/aadrian/Pseudobulk_Function_Pipeline_HighRes/bin/bulkSimulationOneProfile/data/simulations/0.095/pbmc_sc_with_metadata_cpm_pc_cell_type_profiles.csv/pbmc_sc_with_metadata_cpm_pc_cell_type_profiles_n_sim_81_profiles.csv', '/space/grp/aadrian/Pseudobulk_Function_Pipeline_HighRes/bin/bulkSimulationOneProfile/data/simulations/0.095/pbmc_sc_with_metadata_cpm_pc_cell_type_profiles.csv/pbmc_sc_with_metadata_cpm_pc_cell_type_profiles_n_sim_80_profiles.csv', '/space/grp/aadrian/Pseudobulk_Function_Pipeline_HighRes/bin/bulkSimulationOneProfile/data/simulations/0.095/pbmc_sc_with_metadata_cpm_pc_cell_type_profiles.csv/pbmc_sc_with_metadata_cpm_pc_cell_type_profiles_n_sim_26_profiles.csv', '/space/grp/aadrian/Pseudobulk_Function_Pipeline_HighRes/bin/bulkSimulationOneProfile/data/simulations/0.095/pbmc_sc_with_metadata_cpm_pc_cell_type_profiles.csv/pbmc_sc_with_metadata_cpm_pc_cell_type_profiles_n_sim_75_profiles.csv', '/space/grp/aadrian/Pseudobulk_Function_Pipeline_HighRes/bin/bulkSimulationOneProfile/data/simulations/0.095/pbmc_sc_with_metadata_cpm_pc_cell_type_profiles.csv/pbmc_sc_with_metadata_cpm_pc_cell_type_profiles_n_sim_54_profiles.csv', '/space/grp/aadrian/Pseudobulk_Function_Pipeline_HighRes/bin/bulkSimulationOneProfile/data/simulations/0.095/pbmc_sc_with_metadata_cpm_pc_cell_type_profiles.csv/pbmc_sc_with_metadata_cpm_pc_cell_type_profiles_n_sim_7_profiles.csv', '/space/grp/aadrian/Pseudobulk_Function_Pipeline_HighRes/bin/bulkSimulationOneProfile/data/simulations/0.095/pbmc_sc_with_metadata_cpm_pc_cell_type_profiles.csv/pbmc_sc_with_metadata_cpm_pc_cell_type_profiles_n_sim_6_profiles.csv', '/space/grp/aadrian/Pseudobulk_Function_Pipeline_HighRes/bin/bulkSimulationOneProfile/data/simulations/0.095/pbmc_sc_with_metadata_cpm_pc_cell_type_profiles.csv/pbmc_sc_with_metadata_cpm_pc_cell_type_profiles_n_sim_55_profiles.csv', '/space/grp/aadrian/Pseudobulk_Function_Pipeline_HighRes/bin/bulkSimulationOneProfile/data/simulations/0.095/pbmc_sc_with_metadata_cpm_pc_cell_type_profiles.csv/pbmc_sc_with_metadata_cpm_pc_cell_type_profiles_n_sim_4_profiles.csv', '/space/grp/aadrian/Pseudobulk_Function_Pipeline_HighRes/bin/bulkSimulationOneProfile/data/simulations/0.095/pbmc_sc_with_metadata_cpm_pc_cell_type_profiles.csv/pbmc_sc_with_metadata_cpm_pc_cell_type_profiles_n_sim_88_profiles.csv', '/space/grp/aadrian/Pseudobulk_Function_Pipeline_HighRes/bin/bulkSimulationOneProfile/data/simulations/0.095/pbmc_sc_with_metadata_cpm_pc_cell_type_profiles.csv/pbmc_sc_with_metadata_cpm_pc_cell_type_profiles_n_sim_57_profiles.csv', '/space/grp/aadrian/Pseudobulk_Function_Pipeline_HighRes/bin/bulkSimulationOneProfile/data/simulations/0.095/pbmc_sc_with_metadata_cpm_pc_cell_type_profiles.csv/pbmc_sc_with_metadata_cpm_pc_cell_type_profiles_n_sim_56_profiles.csv', '/space/grp/aadrian/Pseudobulk_Function_Pipeline_HighRes/bin/bulkSimulationOneProfile/data/simulations/0.095/pbmc_sc_with_metadata_cpm_pc_cell_type_profiles.csv/pbmc_sc_with_metadata_cpm_pc_cell_type_profiles_n_sim_89_profiles.csv', '/space/grp/aadrian/Pseudobulk_Function_Pipeline_HighRes/bin/bulkSimulationOneProfile/data/simulations/0.095/pbmc_sc_with_metadata_cpm_pc_cell_type_profiles.csv/pbmc_sc_with_metadata_cpm_pc_cell_type_profiles_n_sim_5_profiles.csv', '/space/grp/aadrian/Pseudobulk_Function_Pipeline_HighRes/bin/bulkSimulationOneProfile/data/simulations/0.095/pbmc_sc_with_metadata_cpm_pc_cell_type_profiles.csv/pbmc_sc_with_metadata_cpm_pc_cell_type_profiles_n_sim_53_profiles.csv', '/space/grp/aadrian/Pseudobulk_Function_Pipeline_HighRes/bin/bulkSimulationOneProfile/data/simulations/0.095/pbmc_sc_with_metadata_cpm_pc_cell_type_profiles.csv/pbmc_sc_with_metadata_cpm_pc_cell_type_profiles_n_sim_0_profiles.csv', '/space/grp/aadrian/Pseudobulk_Function_Pipeline_HighRes/bin/bulkSimulationOneProfile/data/simulations/0.095/pbmc_sc_with_metadata_cpm_pc_cell_type_profiles.csv/pbmc_sc_with_metadata_cpm_pc_cell_type_profiles_n_sim_79_profiles.csv', '/space/grp/aadrian/Pseudobulk_Function_Pipeline_HighRes/bin/bulkSimulationOneProfile/data/simulations/0.095/pbmc_sc_with_metadata_cpm_pc_cell_type_profiles.csv/pbmc_sc_with_metadata_cpm_pc_cell_type_profiles_n_sim_1_profiles.csv', '/space/grp/aadrian/Pseudobulk_Function_Pipeline_HighRes/bin/bulkSimulationOneProfile/data/simulations/0.095/pbmc_sc_with_metadata_cpm_pc_cell_type_profiles.csv/pbmc_sc_with_metadata_cpm_pc_cell_type_profiles_n_sim_78_profiles.csv', '/space/grp/aadrian/Pseudobulk_Function_Pipeline_HighRes/bin/bulkSimulationOneProfile/data/simulations/0.095/pbmc_sc_with_metadata_cpm_pc_cell_type_profiles.csv/pbmc_sc_with_metadata_cpm_pc_cell_type_profiles_n_sim_52_profiles.csv', '/space/grp/aadrian/Pseudobulk_Function_Pipeline_HighRes/bin/bulkSimulationOneProfile/data/simulations/0.095/pbmc_sc_with_metadata_cpm_pc_cell_type_profiles.csv/pbmc_sc_with_metadata_cpm_pc_cell_type_profiles_n_sim_3_profiles.csv', '/space/grp/aadrian/Pseudobulk_Function_Pipeline_HighRes/bin/bulkSimulationOneProfile/data/simulations/0.095/pbmc_sc_with_metadata_cpm_pc_cell_type_profiles.csv/pbmc_sc_with_metadata_cpm_pc_cell_type_profiles_n_sim_29_profiles.csv', '/space/grp/aadrian/Pseudobulk_Function_Pipeline_HighRes/bin/bulkSimulationOneProfile/data/simulations/0.095/pbmc_sc_with_metadata_cpm_pc_cell_type_profiles.csv/pbmc_sc_with_metadata_cpm_pc_cell_type_profiles_n_sim_50_profiles.csv', '/space/grp/aadrian/Pseudobulk_Function_Pipeline_HighRes/bin/bulkSimulationOneProfile/data/simulations/0.095/pbmc_sc_with_metadata_cpm_pc_cell_type_profiles.csv/pbmc_sc_with_metadata_cpm_pc_cell_type_profiles_n_sim_51_profiles.csv', '/space/grp/aadrian/Pseudobulk_Function_Pipeline_HighRes/bin/bulkSimulationOneProfile/data/simulations/0.095/pbmc_sc_with_metadata_cpm_pc_cell_type_profiles.csv/pbmc_sc_with_metadata_cpm_pc_cell_type_profiles_n_sim_28_profiles.csv', '/space/grp/aadrian/Pseudobulk_Function_Pipeline_HighRes/bin/bulkSimulationOneProfile/data/simulations/0.095/pbmc_sc_with_metadata_cpm_pc_cell_type_profiles.csv/pbmc_sc_with_metadata_cpm_pc_cell_type_profiles_n_sim_2_profiles.csv', '/space/grp/aadrian/Pseudobulk_Function_Pipeline_HighRes/bin/bulkSimulationOneProfile/data/simulations/0.095/pbmc_sc_with_metadata_cpm_pc_cell_type_profiles.csv/pbmc_sc_with_metadata_cpm_pc_cell_type_profiles_n_sim_39_profiles.csv', '/space/grp/aadrian/Pseudobulk_Function_Pipeline_HighRes/bin/bulkSimulationOneProfile/data/simulations/0.095/pbmc_sc_with_metadata_cpm_pc_cell_type_profiles.csv/pbmc_sc_with_metadata_cpm_pc_cell_type_profiles_n_sim_13_profiles.csv', '/space/grp/aadrian/Pseudobulk_Function_Pipeline_HighRes/bin/bulkSimulationOneProfile/data/simulations/0.095/pbmc_sc_with_metadata_cpm_pc_cell_type_profiles.csv/pbmc_sc_with_metadata_cpm_pc_cell_type_profiles_n_sim_40_profiles.csv', '/space/grp/aadrian/Pseudobulk_Function_Pipeline_HighRes/bin/bulkSimulationOneProfile/data/simulations/0.095/pbmc_sc_with_metadata_cpm_pc_cell_type_profiles.csv/pbmc_sc_with_metadata_cpm_pc_cell_type_profiles_n_sim_12_profiles.csv', '/space/grp/aadrian/Pseudobulk_Function_Pipeline_HighRes/bin/bulkSimulationOneProfile/data/simulations/0.095/pbmc_sc_with_metadata_cpm_pc_cell_type_profiles.csv/pbmc_sc_with_metadata_cpm_pc_cell_type_profiles_n_sim_41_profiles.csv', '/space/grp/aadrian/Pseudobulk_Function_Pipeline_HighRes/bin/bulkSimulationOneProfile/data/simulations/0.095/pbmc_sc_with_metadata_cpm_pc_cell_type_profiles.csv/pbmc_sc_with_metadata_cpm_pc_cell_type_profiles_n_sim_38_profiles.csv', '/space/grp/aadrian/Pseudobulk_Function_Pipeline_HighRes/bin/bulkSimulationOneProfile/data/simulations/0.095/pbmc_sc_with_metadata_cpm_pc_cell_type_profiles.csv/pbmc_sc_with_metadata_cpm_pc_cell_type_profiles_n_sim_43_profiles.csv', '/space/grp/aadrian/Pseudobulk_Function_Pipeline_HighRes/bin/bulkSimulationOneProfile/data/simulations/0.095/pbmc_sc_with_metadata_cpm_pc_cell_type_profiles.csv/pbmc_sc_with_metadata_cpm_pc_cell_type_profiles_n_sim_10_profiles.csv', '/space/grp/aadrian/Pseudobulk_Function_Pipeline_HighRes/bin/bulkSimulationOneProfile/data/simulations/0.095/pbmc_sc_with_metadata_cpm_pc_cell_type_profiles.csv/pbmc_sc_with_metadata_cpm_pc_cell_type_profiles_n_sim_69_profiles.csv', '/space/grp/aadrian/Pseudobulk_Function_Pipeline_HighRes/bin/bulkSimulationOneProfile/data/simulations/0.095/pbmc_sc_with_metadata_cpm_pc_cell_type_profiles.csv/pbmc_sc_with_metadata_cpm_pc_cell_type_profiles_n_sim_68_profiles.csv', '/space/grp/aadrian/Pseudobulk_Function_Pipeline_HighRes/bin/bulkSimulationOneProfile/data/simulations/0.095/pbmc_sc_with_metadata_cpm_pc_cell_type_profiles.csv/pbmc_sc_with_metadata_cpm_pc_cell_type_profiles_n_sim_42_profiles.csv', '/space/grp/aadrian/Pseudobulk_Function_Pipeline_HighRes/bin/bulkSimulationOneProfile/data/simulations/0.095/pbmc_sc_with_metadata_cpm_pc_cell_type_profiles.csv/pbmc_sc_with_metadata_cpm_pc_cell_type_profiles_n_sim_11_profiles.csv', '/space/grp/aadrian/Pseudobulk_Function_Pipeline_HighRes/bin/bulkSimulationOneProfile/data/simulations/0.095/pbmc_sc_with_metadata_cpm_pc_cell_type_profiles.csv/pbmc_sc_with_metadata_cpm_pc_cell_type_profiles_n_sim_14_profiles.csv', '/space/grp/aadrian/Pseudobulk_Function_Pipeline_HighRes/bin/bulkSimulationOneProfile/data/simulations/0.095/pbmc_sc_with_metadata_cpm_pc_cell_type_profiles.csv/pbmc_sc_with_metadata_cpm_pc_cell_type_profiles_n_sim_98_profiles.csv', '/space/grp/aadrian/Pseudobulk_Function_Pipeline_HighRes/bin/bulkSimulationOneProfile/data/simulations/0.095/pbmc_sc_with_metadata_cpm_pc_cell_type_profiles.csv/pbmc_sc_with_metadata_cpm_pc_cell_type_profiles_n_sim_47_profiles.csv', '/space/grp/aadrian/Pseudobulk_Function_Pipeline_HighRes/bin/bulkSimulationOneProfile/data/simulations/0.095/pbmc_sc_with_metadata_cpm_pc_cell_type_profiles.csv/pbmc_sc_with_metadata_cpm_pc_cell_type_profiles_n_sim_15_profiles.csv', '/space/grp/aadrian/Pseudobulk_Function_Pipeline_HighRes/bin/bulkSimulationOneProfile/data/simulations/0.095/pbmc_sc_with_metadata_cpm_pc_cell_type_profiles.csv/pbmc_sc_with_metadata_cpm_pc_cell_type_profiles_n_sim_46_profiles.csv', '/space/grp/aadrian/Pseudobulk_Function_Pipeline_HighRes/bin/bulkSimulationOneProfile/data/simulations/0.095/pbmc_sc_with_metadata_cpm_pc_cell_type_profiles.csv/pbmc_sc_with_metadata_cpm_pc_cell_type_profiles_n_sim_99_profiles.csv', '/space/grp/aadrian/Pseudobulk_Function_Pipeline_HighRes/bin/bulkSimulationOneProfile/data/simulations/0.095/pbmc_sc_with_metadata_cpm_pc_cell_type_profiles.csv/pbmc_sc_with_metadata_cpm_pc_cell_type_profiles_n_sim_44_profiles.csv', '/space/grp/aadrian/Pseudobulk_Function_Pipeline_HighRes/bin/bulkSimulationOneProfile/data/simulations/0.095/pbmc_sc_with_metadata_cpm_pc_cell_type_profiles.csv/pbmc_sc_with_metadata_cpm_pc_cell_type_profiles_n_sim_17_profiles.csv', '/space/grp/aadrian/Pseudobulk_Function_Pipeline_HighRes/bin/bulkSimulationOneProfile/data/simulations/0.095/pbmc_sc_with_metadata_cpm_pc_cell_type_profiles.csv/pbmc_sc_with_metadata_cpm_pc_cell_type_profiles_n_sim_45_profiles.csv', '/space/grp/aadrian/Pseudobulk_Function_Pipeline_HighRes/bin/bulkSimulationOneProfile/data/simulations/0.095/pbmc_sc_with_metadata_cpm_pc_cell_type_profiles.csv/pbmc_sc_with_metadata_cpm_pc_cell_type_profiles_n_sim_16_profiles.csv', '/space/grp/aadrian/Pseudobulk_Function_Pipeline_HighRes/bin/bulkSimulationOneProfile/data/simulations/0.095/pbmc_sc_with_metadata_cpm_pc_cell_type_profiles.csv/pbmc_sc_with_metadata_cpm_pc_cell_type_profiles_n_sim_37_profiles.csv', '/space/grp/aadrian/Pseudobulk_Function_Pipeline_HighRes/bin/bulkSimulationOneProfile/data/simulations/0.095/pbmc_sc_with_metadata_cpm_pc_cell_type_profiles.csv/pbmc_sc_with_metadata_cpm_pc_cell_type_profiles_n_sim_64_profiles.csv', '/space/grp/aadrian/Pseudobulk_Function_Pipeline_HighRes/bin/bulkSimulationOneProfile/data/simulations/0.095/pbmc_sc_with_metadata_cpm_pc_cell_type_profiles.csv/pbmc_sc_with_metadata_cpm_pc_cell_type_profiles_n_sim_91_profiles.csv', '/space/grp/aadrian/Pseudobulk_Function_Pipeline_HighRes/bin/bulkSimulationOneProfile/data/simulations/0.095/pbmc_sc_with_metadata_cpm_pc_cell_type_profiles.csv/pbmc_sc_with_metadata_cpm_pc_cell_type_profiles_n_sim_90_profiles.csv', '/space/grp/aadrian/Pseudobulk_Function_Pipeline_HighRes/bin/bulkSimulationOneProfile/data/simulations/0.095/pbmc_sc_with_metadata_cpm_pc_cell_type_profiles.csv/pbmc_sc_with_metadata_cpm_pc_cell_type_profiles_n_sim_36_profiles.csv', '/space/grp/aadrian/Pseudobulk_Function_Pipeline_HighRes/bin/bulkSimulationOneProfile/data/simulations/0.095/pbmc_sc_with_metadata_cpm_pc_cell_type_profiles.csv/pbmc_sc_with_metadata_cpm_pc_cell_type_profiles_n_sim_65_profiles.csv', '/space/grp/aadrian/Pseudobulk_Function_Pipeline_HighRes/bin/bulkSimulationOneProfile/data/simulations/0.095/pbmc_sc_with_metadata_cpm_pc_cell_type_profiles.csv/pbmc_sc_with_metadata_cpm_pc_cell_type_profiles_n_sim_92_profiles.csv', '/space/grp/aadrian/Pseudobulk_Function_Pipeline_HighRes/bin/bulkSimulationOneProfile/data/simulations/0.095/pbmc_sc_with_metadata_cpm_pc_cell_type_profiles.csv/pbmc_sc_with_metadata_cpm_pc_cell_type_profiles_n_sim_67_profiles.csv', '/space/grp/aadrian/Pseudobulk_Function_Pipeline_HighRes/bin/bulkSimulationOneProfile/data/simulations/0.095/pbmc_sc_with_metadata_cpm_pc_cell_type_profiles.csv/pbmc_sc_with_metadata_cpm_pc_cell_type_profiles_n_sim_34_profiles.csv', '/space/grp/aadrian/Pseudobulk_Function_Pipeline_HighRes/bin/bulkSimulationOneProfile/data/simulations/0.095/pbmc_sc_with_metadata_cpm_pc_cell_type_profiles.csv/pbmc_sc_with_metadata_cpm_pc_cell_type_profiles_n_sim_66_profiles.csv', '/space/grp/aadrian/Pseudobulk_Function_Pipeline_HighRes/bin/bulkSimulationOneProfile/data/simulations/0.095/pbmc_sc_with_metadata_cpm_pc_cell_type_profiles.csv/pbmc_sc_with_metadata_cpm_pc_cell_type_profiles_n_sim_35_profiles.csv', '/space/grp/aadrian/Pseudobulk_Function_Pipeline_HighRes/bin/bulkSimulationOneProfile/data/simulations/0.095/pbmc_sc_with_metadata_cpm_pc_cell_type_profiles.csv/pbmc_sc_with_metadata_cpm_pc_cell_type_profiles_n_sim_93_profiles.csv', '/space/grp/aadrian/Pseudobulk_Function_Pipeline_HighRes/bin/bulkSimulationOneProfile/data/simulations/0.095/pbmc_sc_with_metadata_cpm_pc_cell_type_profiles.csv/pbmc_sc_with_metadata_cpm_pc_cell_type_profiles_n_sim_30_profiles.csv', '/space/grp/aadrian/Pseudobulk_Function_Pipeline_HighRes/bin/bulkSimulationOneProfile/data/simulations/0.095/pbmc_sc_with_metadata_cpm_pc_cell_type_profiles.csv/pbmc_sc_with_metadata_cpm_pc_cell_type_profiles_n_sim_63_profiles.csv', '/space/grp/aadrian/Pseudobulk_Function_Pipeline_HighRes/bin/bulkSimulationOneProfile/data/simulations/0.095/pbmc_sc_with_metadata_cpm_pc_cell_type_profiles.csv/pbmc_sc_with_metadata_cpm_pc_cell_type_profiles_n_sim_96_profiles.csv', '/space/grp/aadrian/Pseudobulk_Function_Pipeline_HighRes/bin/bulkSimulationOneProfile/data/simulations/0.095/pbmc_sc_with_metadata_cpm_pc_cell_type_profiles.csv/pbmc_sc_with_metadata_cpm_pc_cell_type_profiles_n_sim_49_profiles.csv', '/space/grp/aadrian/Pseudobulk_Function_Pipeline_HighRes/bin/bulkSimulationOneProfile/data/simulations/0.095/pbmc_sc_with_metadata_cpm_pc_cell_type_profiles.csv/pbmc_sc_with_metadata_cpm_pc_cell_type_profiles_n_sim_48_profiles.csv', '/space/grp/aadrian/Pseudobulk_Function_Pipeline_HighRes/bin/bulkSimulationOneProfile/data/simulations/0.095/pbmc_sc_with_metadata_cpm_pc_cell_type_profiles.csv/pbmc_sc_with_metadata_cpm_pc_cell_type_profiles_n_sim_97_profiles.csv', '/space/grp/aadrian/Pseudobulk_Function_Pipeline_HighRes/bin/bulkSimulationOneProfile/data/simulations/0.095/pbmc_sc_with_metadata_cpm_pc_cell_type_profiles.csv/pbmc_sc_with_metadata_cpm_pc_cell_type_profiles_n_sim_31_profiles.csv', '/space/grp/aadrian/Pseudobulk_Function_Pipeline_HighRes/bin/bulkSimulationOneProfile/data/simulations/0.095/pbmc_sc_with_metadata_cpm_pc_cell_type_profiles.csv/pbmc_sc_with_metadata_cpm_pc_cell_type_profiles_n_sim_62_profiles.csv', '/space/grp/aadrian/Pseudobulk_Function_Pipeline_HighRes/bin/bulkSimulationOneProfile/data/simulations/0.095/pbmc_sc_with_metadata_cpm_pc_cell_type_profiles.csv/pbmc_sc_with_metadata_cpm_pc_cell_type_profiles_n_sim_19_profiles.csv', '/space/grp/aadrian/Pseudobulk_Function_Pipeline_HighRes/bin/bulkSimulationOneProfile/data/simulations/0.095/pbmc_sc_with_metadata_cpm_pc_cell_type_profiles.csv/pbmc_sc_with_metadata_cpm_pc_cell_type_profiles_n_sim_95_profiles.csv', '/space/grp/aadrian/Pseudobulk_Function_Pipeline_HighRes/bin/bulkSimulationOneProfile/data/simulations/0.095/pbmc_sc_with_metadata_cpm_pc_cell_type_profiles.csv/pbmc_sc_with_metadata_cpm_pc_cell_type_profiles_n_sim_60_profiles.csv', '/space/grp/aadrian/Pseudobulk_Function_Pipeline_HighRes/bin/bulkSimulationOneProfile/data/simulations/0.095/pbmc_sc_with_metadata_cpm_pc_cell_type_profiles.csv/pbmc_sc_with_metadata_cpm_pc_cell_type_profiles_n_sim_33_profiles.csv', '/space/grp/aadrian/Pseudobulk_Function_Pipeline_HighRes/bin/bulkSimulationOneProfile/data/simulations/0.095/pbmc_sc_with_metadata_cpm_pc_cell_type_profiles.csv/pbmc_sc_with_metadata_cpm_pc_cell_type_profiles_n_sim_61_profiles.csv', '/space/grp/aadrian/Pseudobulk_Function_Pipeline_HighRes/bin/bulkSimulationOneProfile/data/simulations/0.095/pbmc_sc_with_metadata_cpm_pc_cell_type_profiles.csv/pbmc_sc_with_metadata_cpm_pc_cell_type_profiles_n_sim_32_profiles.csv', '/space/grp/aadrian/Pseudobulk_Function_Pipeline_HighRes/bin/bulkSimulationOneProfile/data/simulations/0.095/pbmc_sc_with_metadata_cpm_pc_cell_type_profiles.csv/pbmc_sc_with_metadata_cpm_pc_cell_type_profiles_n_sim_18_profiles.csv', '/space/grp/aadrian/Pseudobulk_Function_Pipeline_HighRes/bin/bulkSimulationOneProfile/data/simulations/0.095/pbmc_sc_with_metadata_cpm_pc_cell_type_profiles.csv/pbmc_sc_with_metadata_cpm_pc_cell_type_profiles_n_sim_94_profiles.csv'], ['/space/grp/aadrian/Pseudobulk_Function_Pipeline_HighRes/bin/bulkSimulationOneProfile/data/simulations/0.015/pbmc_sc_with_metadata_cpm_pc_cell_type_profiles.csv/pbmc_sc_with_metadata_cpm_pc_cell_type_profiles_n_sim_94_profiles.csv', '/space/grp/aadrian/Pseudobulk_Function_Pipeline_HighRes/bin/bulkSimulationOneProfile/data/simulations/0.015/pbmc_sc_with_metadata_cpm_pc_cell_type_profiles.csv/pbmc_sc_with_metadata_cpm_pc_cell_type_profiles_n_sim_18_profiles.csv', '/space/grp/aadrian/Pseudobulk_Function_Pipeline_HighRes/bin/bulkSimulationOneProfile/data/simulations/0.015/pbmc_sc_with_metadata_cpm_pc_cell_type_profiles.csv/pbmc_sc_with_metadata_cpm_pc_cell_type_profiles_n_sim_32_profiles.csv', '/space/grp/aadrian/Pseudobulk_Function_Pipeline_HighRes/bin/bulkSimulationOneProfile/data/simulations/0.015/pbmc_sc_with_metadata_cpm_pc_cell_type_profiles.csv/pbmc_sc_with_metadata_cpm_pc_cell_type_profiles_n_sim_61_profiles.csv', '/space/grp/aadrian/Pseudobulk_Function_Pipeline_HighRes/bin/bulkSimulationOneProfile/data/simulations/0.015/pbmc_sc_with_metadata_cpm_pc_cell_type_profiles.csv/pbmc_sc_with_metadata_cpm_pc_cell_type_profiles_n_sim_33_profiles.csv', '/space/grp/aadrian/Pseudobulk_Function_Pipeline_HighRes/bin/bulkSimulationOneProfile/data/simulations/0.015/pbmc_sc_with_metadata_cpm_pc_cell_type_profiles.csv/pbmc_sc_with_metadata_cpm_pc_cell_type_profiles_n_sim_60_profiles.csv', '/space/grp/aadrian/Pseudobulk_Function_Pipeline_HighRes/bin/bulkSimulationOneProfile/data/simulations/0.015/pbmc_sc_with_metadata_cpm_pc_cell_type_profiles.csv/pbmc_sc_with_metadata_cpm_pc_cell_type_profiles_n_sim_95_profiles.csv', '/space/grp/aadrian/Pseudobulk_Function_Pipeline_HighRes/bin/bulkSimulationOneProfile/data/simulations/0.015/pbmc_sc_with_metadata_cpm_pc_cell_type_profiles.csv/pbmc_sc_with_metadata_cpm_pc_cell_type_profiles_n_sim_19_profiles.csv', '/space/grp/aadrian/Pseudobulk_Function_Pipeline_HighRes/bin/bulkSimulationOneProfile/data/simulations/0.015/pbmc_sc_with_metadata_cpm_pc_cell_type_profiles.csv/pbmc_sc_with_metadata_cpm_pc_cell_type_profiles_n_sim_62_profiles.csv', '/space/grp/aadrian/Pseudobulk_Function_Pipeline_HighRes/bin/bulkSimulationOneProfile/data/simulations/0.015/pbmc_sc_with_metadata_cpm_pc_cell_type_profiles.csv/pbmc_sc_with_metadata_cpm_pc_cell_type_profiles_n_sim_31_profiles.csv', '/space/grp/aadrian/Pseudobulk_Function_Pipeline_HighRes/bin/bulkSimulationOneProfile/data/simulations/0.015/pbmc_sc_with_metadata_cpm_pc_cell_type_profiles.csv/pbmc_sc_with_metadata_cpm_pc_cell_type_profiles_n_sim_97_profiles.csv', '/space/grp/aadrian/Pseudobulk_Function_Pipeline_HighRes/bin/bulkSimulationOneProfile/data/simulations/0.015/pbmc_sc_with_metadata_cpm_pc_cell_type_profiles.csv/pbmc_sc_with_metadata_cpm_pc_cell_type_profiles_n_sim_48_profiles.csv', '/space/grp/aadrian/Pseudobulk_Function_Pipeline_HighRes/bin/bulkSimulationOneProfile/data/simulations/0.015/pbmc_sc_with_metadata_cpm_pc_cell_type_profiles.csv/pbmc_sc_with_metadata_cpm_pc_cell_type_profiles_n_sim_49_profiles.csv', '/space/grp/aadrian/Pseudobulk_Function_Pipeline_HighRes/bin/bulkSimulationOneProfile/data/simulations/0.015/pbmc_sc_with_metadata_cpm_pc_cell_type_profiles.csv/pbmc_sc_with_metadata_cpm_pc_cell_type_profiles_n_sim_96_profiles.csv', '/space/grp/aadrian/Pseudobulk_Function_Pipeline_HighRes/bin/bulkSimulationOneProfile/data/simulations/0.015/pbmc_sc_with_metadata_cpm_pc_cell_type_profiles.csv/pbmc_sc_with_metadata_cpm_pc_cell_type_profiles_n_sim_63_profiles.csv', '/space/grp/aadrian/Pseudobulk_Function_Pipeline_HighRes/bin/bulkSimulationOneProfile/data/simulations/0.015/pbmc_sc_with_metadata_cpm_pc_cell_type_profiles.csv/pbmc_sc_with_metadata_cpm_pc_cell_type_profiles_n_sim_30_profiles.csv', '/space/grp/aadrian/Pseudobulk_Function_Pipeline_HighRes/bin/bulkSimulationOneProfile/data/simulations/0.015/pbmc_sc_with_metadata_cpm_pc_cell_type_profiles.csv/pbmc_sc_with_metadata_cpm_pc_cell_type_profiles_n_sim_93_profiles.csv', '/space/grp/aadrian/Pseudobulk_Function_Pipeline_HighRes/bin/bulkSimulationOneProfile/data/simulations/0.015/pbmc_sc_with_metadata_cpm_pc_cell_type_profiles.csv/pbmc_sc_with_metadata_cpm_pc_cell_type_profiles_n_sim_35_profiles.csv', '/space/grp/aadrian/Pseudobulk_Function_Pipeline_HighRes/bin/bulkSimulationOneProfile/data/simulations/0.015/pbmc_sc_with_metadata_cpm_pc_cell_type_profiles.csv/pbmc_sc_with_metadata_cpm_pc_cell_type_profiles_n_sim_66_profiles.csv', '/space/grp/aadrian/Pseudobulk_Function_Pipeline_HighRes/bin/bulkSimulationOneProfile/data/simulations/0.015/pbmc_sc_with_metadata_cpm_pc_cell_type_profiles.csv/pbmc_sc_with_metadata_cpm_pc_cell_type_profiles_n_sim_34_profiles.csv', '/space/grp/aadrian/Pseudobulk_Function_Pipeline_HighRes/bin/bulkSimulationOneProfile/data/simulations/0.015/pbmc_sc_with_metadata_cpm_pc_cell_type_profiles.csv/pbmc_sc_with_metadata_cpm_pc_cell_type_profiles_n_sim_67_profiles.csv', '/space/grp/aadrian/Pseudobulk_Function_Pipeline_HighRes/bin/bulkSimulationOneProfile/data/simulations/0.015/pbmc_sc_with_metadata_cpm_pc_cell_type_profiles.csv/pbmc_sc_with_metadata_cpm_pc_cell_type_profiles_n_sim_92_profiles.csv', '/space/grp/aadrian/Pseudobulk_Function_Pipeline_HighRes/bin/bulkSimulationOneProfile/data/simulations/0.015/pbmc_sc_with_metadata_cpm_pc_cell_type_profiles.csv/pbmc_sc_with_metadata_cpm_pc_cell_type_profiles_n_sim_65_profiles.csv', '/space/grp/aadrian/Pseudobulk_Function_Pipeline_HighRes/bin/bulkSimulationOneProfile/data/simulations/0.015/pbmc_sc_with_metadata_cpm_pc_cell_type_profiles.csv/pbmc_sc_with_metadata_cpm_pc_cell_type_profiles_n_sim_36_profiles.csv', '/space/grp/aadrian/Pseudobulk_Function_Pipeline_HighRes/bin/bulkSimulationOneProfile/data/simulations/0.015/pbmc_sc_with_metadata_cpm_pc_cell_type_profiles.csv/pbmc_sc_with_metadata_cpm_pc_cell_type_profiles_n_sim_90_profiles.csv', '/space/grp/aadrian/Pseudobulk_Function_Pipeline_HighRes/bin/bulkSimulationOneProfile/data/simulations/0.015/pbmc_sc_with_metadata_cpm_pc_cell_type_profiles.csv/pbmc_sc_with_metadata_cpm_pc_cell_type_profiles_n_sim_91_profiles.csv', '/space/grp/aadrian/Pseudobulk_Function_Pipeline_HighRes/bin/bulkSimulationOneProfile/data/simulations/0.015/pbmc_sc_with_metadata_cpm_pc_cell_type_profiles.csv/pbmc_sc_with_metadata_cpm_pc_cell_type_profiles_n_sim_64_profiles.csv', '/space/grp/aadrian/Pseudobulk_Function_Pipeline_HighRes/bin/bulkSimulationOneProfile/data/simulations/0.015/pbmc_sc_with_metadata_cpm_pc_cell_type_profiles.csv/pbmc_sc_with_metadata_cpm_pc_cell_type_profiles_n_sim_37_profiles.csv', '/space/grp/aadrian/Pseudobulk_Function_Pipeline_HighRes/bin/bulkSimulationOneProfile/data/simulations/0.015/pbmc_sc_with_metadata_cpm_pc_cell_type_profiles.csv/pbmc_sc_with_metadata_cpm_pc_cell_type_profiles_n_sim_16_profiles.csv', '/space/grp/aadrian/Pseudobulk_Function_Pipeline_HighRes/bin/bulkSimulationOneProfile/data/simulations/0.015/pbmc_sc_with_metadata_cpm_pc_cell_type_profiles.csv/pbmc_sc_with_metadata_cpm_pc_cell_type_profiles_n_sim_45_profiles.csv', '/space/grp/aadrian/Pseudobulk_Function_Pipeline_HighRes/bin/bulkSimulationOneProfile/data/simulations/0.015/pbmc_sc_with_metadata_cpm_pc_cell_type_profiles.csv/pbmc_sc_with_metadata_cpm_pc_cell_type_profiles_n_sim_17_profiles.csv', '/space/grp/aadrian/Pseudobulk_Function_Pipeline_HighRes/bin/bulkSimulationOneProfile/data/simulations/0.015/pbmc_sc_with_metadata_cpm_pc_cell_type_profiles.csv/pbmc_sc_with_metadata_cpm_pc_cell_type_profiles_n_sim_44_profiles.csv', '/space/grp/aadrian/Pseudobulk_Function_Pipeline_HighRes/bin/bulkSimulationOneProfile/data/simulations/0.015/pbmc_sc_with_metadata_cpm_pc_cell_type_profiles.csv/pbmc_sc_with_metadata_cpm_pc_cell_type_profiles_n_sim_99_profiles.csv', '/space/grp/aadrian/Pseudobulk_Function_Pipeline_HighRes/bin/bulkSimulationOneProfile/data/simulations/0.015/pbmc_sc_with_metadata_cpm_pc_cell_type_profiles.csv/pbmc_sc_with_metadata_cpm_pc_cell_type_profiles_n_sim_46_profiles.csv', '/space/grp/aadrian/Pseudobulk_Function_Pipeline_HighRes/bin/bulkSimulationOneProfile/data/simulations/0.015/pbmc_sc_with_metadata_cpm_pc_cell_type_profiles.csv/pbmc_sc_with_metadata_cpm_pc_cell_type_profiles_n_sim_15_profiles.csv', '/space/grp/aadrian/Pseudobulk_Function_Pipeline_HighRes/bin/bulkSimulationOneProfile/data/simulations/0.015/pbmc_sc_with_metadata_cpm_pc_cell_type_profiles.csv/pbmc_sc_with_metadata_cpm_pc_cell_type_profiles_n_sim_47_profiles.csv', '/space/grp/aadrian/Pseudobulk_Function_Pipeline_HighRes/bin/bulkSimulationOneProfile/data/simulations/0.015/pbmc_sc_with_metadata_cpm_pc_cell_type_profiles.csv/pbmc_sc_with_metadata_cpm_pc_cell_type_profiles_n_sim_98_profiles.csv', '/space/grp/aadrian/Pseudobulk_Function_Pipeline_HighRes/bin/bulkSimulationOneProfile/data/simulations/0.015/pbmc_sc_with_metadata_cpm_pc_cell_type_profiles.csv/pbmc_sc_with_metadata_cpm_pc_cell_type_profiles_n_sim_14_profiles.csv', '/space/grp/aadrian/Pseudobulk_Function_Pipeline_HighRes/bin/bulkSimulationOneProfile/data/simulations/0.015/pbmc_sc_with_metadata_cpm_pc_cell_type_profiles.csv/pbmc_sc_with_metadata_cpm_pc_cell_type_profiles_n_sim_11_profiles.csv', '/space/grp/aadrian/Pseudobulk_Function_Pipeline_HighRes/bin/bulkSimulationOneProfile/data/simulations/0.015/pbmc_sc_with_metadata_cpm_pc_cell_type_profiles.csv/pbmc_sc_with_metadata_cpm_pc_cell_type_profiles_n_sim_42_profiles.csv', '/space/grp/aadrian/Pseudobulk_Function_Pipeline_HighRes/bin/bulkSimulationOneProfile/data/simulations/0.015/pbmc_sc_with_metadata_cpm_pc_cell_type_profiles.csv/pbmc_sc_with_metadata_cpm_pc_cell_type_profiles_n_sim_68_profiles.csv', '/space/grp/aadrian/Pseudobulk_Function_Pipeline_HighRes/bin/bulkSimulationOneProfile/data/simulations/0.015/pbmc_sc_with_metadata_cpm_pc_cell_type_profiles.csv/pbmc_sc_with_metadata_cpm_pc_cell_type_profiles_n_sim_69_profiles.csv', '/space/grp/aadrian/Pseudobulk_Function_Pipeline_HighRes/bin/bulkSimulationOneProfile/data/simulations/0.015/pbmc_sc_with_metadata_cpm_pc_cell_type_profiles.csv/pbmc_sc_with_metadata_cpm_pc_cell_type_profiles_n_sim_10_profiles.csv', '/space/grp/aadrian/Pseudobulk_Function_Pipeline_HighRes/bin/bulkSimulationOneProfile/data/simulations/0.015/pbmc_sc_with_metadata_cpm_pc_cell_type_profiles.csv/pbmc_sc_with_metadata_cpm_pc_cell_type_profiles_n_sim_43_profiles.csv', '/space/grp/aadrian/Pseudobulk_Function_Pipeline_HighRes/bin/bulkSimulationOneProfile/data/simulations/0.015/pbmc_sc_with_metadata_cpm_pc_cell_type_profiles.csv/pbmc_sc_with_metadata_cpm_pc_cell_type_profiles_n_sim_38_profiles.csv', '/space/grp/aadrian/Pseudobulk_Function_Pipeline_HighRes/bin/bulkSimulationOneProfile/data/simulations/0.015/pbmc_sc_with_metadata_cpm_pc_cell_type_profiles.csv/pbmc_sc_with_metadata_cpm_pc_cell_type_profiles_n_sim_41_profiles.csv', '/space/grp/aadrian/Pseudobulk_Function_Pipeline_HighRes/bin/bulkSimulationOneProfile/data/simulations/0.015/pbmc_sc_with_metadata_cpm_pc_cell_type_profiles.csv/pbmc_sc_with_metadata_cpm_pc_cell_type_profiles_n_sim_12_profiles.csv', '/space/grp/aadrian/Pseudobulk_Function_Pipeline_HighRes/bin/bulkSimulationOneProfile/data/simulations/0.015/pbmc_sc_with_metadata_cpm_pc_cell_type_profiles.csv/pbmc_sc_with_metadata_cpm_pc_cell_type_profiles_n_sim_40_profiles.csv', '/space/grp/aadrian/Pseudobulk_Function_Pipeline_HighRes/bin/bulkSimulationOneProfile/data/simulations/0.015/pbmc_sc_with_metadata_cpm_pc_cell_type_profiles.csv/pbmc_sc_with_metadata_cpm_pc_cell_type_profiles_n_sim_13_profiles.csv', '/space/grp/aadrian/Pseudobulk_Function_Pipeline_HighRes/bin/bulkSimulationOneProfile/data/simulations/0.015/pbmc_sc_with_metadata_cpm_pc_cell_type_profiles.csv/pbmc_sc_with_metadata_cpm_pc_cell_type_profiles_n_sim_39_profiles.csv', '/space/grp/aadrian/Pseudobulk_Function_Pipeline_HighRes/bin/bulkSimulationOneProfile/data/simulations/0.015/pbmc_sc_with_metadata_cpm_pc_cell_type_profiles.csv/pbmc_sc_with_metadata_cpm_pc_cell_type_profiles_n_sim_28_profiles.csv', '/space/grp/aadrian/Pseudobulk_Function_Pipeline_HighRes/bin/bulkSimulationOneProfile/data/simulations/0.015/pbmc_sc_with_metadata_cpm_pc_cell_type_profiles.csv/pbmc_sc_with_metadata_cpm_pc_cell_type_profiles_n_sim_51_profiles.csv', '/space/grp/aadrian/Pseudobulk_Function_Pipeline_HighRes/bin/bulkSimulationOneProfile/data/simulations/0.015/pbmc_sc_with_metadata_cpm_pc_cell_type_profiles.csv/pbmc_sc_with_metadata_cpm_pc_cell_type_profiles_n_sim_5_profiles.csv', '/space/grp/aadrian/Pseudobulk_Function_Pipeline_HighRes/bin/bulkSimulationOneProfile/data/simulations/0.015/pbmc_sc_with_metadata_cpm_pc_cell_type_profiles.csv/pbmc_sc_with_metadata_cpm_pc_cell_type_profiles_n_sim_4_profiles.csv', '/space/grp/aadrian/Pseudobulk_Function_Pipeline_HighRes/bin/bulkSimulationOneProfile/data/simulations/0.015/pbmc_sc_with_metadata_cpm_pc_cell_type_profiles.csv/pbmc_sc_with_metadata_cpm_pc_cell_type_profiles_n_sim_50_profiles.csv', '/space/grp/aadrian/Pseudobulk_Function_Pipeline_HighRes/bin/bulkSimulationOneProfile/data/simulations/0.015/pbmc_sc_with_metadata_cpm_pc_cell_type_profiles.csv/pbmc_sc_with_metadata_cpm_pc_cell_type_profiles_n_sim_29_profiles.csv', '/space/grp/aadrian/Pseudobulk_Function_Pipeline_HighRes/bin/bulkSimulationOneProfile/data/simulations/0.015/pbmc_sc_with_metadata_cpm_pc_cell_type_profiles.csv/pbmc_sc_with_metadata_cpm_pc_cell_type_profiles_n_sim_52_profiles.csv', '/space/grp/aadrian/Pseudobulk_Function_Pipeline_HighRes/bin/bulkSimulationOneProfile/data/simulations/0.015/pbmc_sc_with_metadata_cpm_pc_cell_type_profiles.csv/pbmc_sc_with_metadata_cpm_pc_cell_type_profiles_n_sim_6_profiles.csv', '/space/grp/aadrian/Pseudobulk_Function_Pipeline_HighRes/bin/bulkSimulationOneProfile/data/simulations/0.015/pbmc_sc_with_metadata_cpm_pc_cell_type_profiles.csv/pbmc_sc_with_metadata_cpm_pc_cell_type_profiles_n_sim_78_profiles.csv', '/space/grp/aadrian/Pseudobulk_Function_Pipeline_HighRes/bin/bulkSimulationOneProfile/data/simulations/0.015/pbmc_sc_with_metadata_cpm_pc_cell_type_profiles.csv/pbmc_sc_with_metadata_cpm_pc_cell_type_profiles_n_sim_79_profiles.csv', '/space/grp/aadrian/Pseudobulk_Function_Pipeline_HighRes/bin/bulkSimulationOneProfile/data/simulations/0.015/pbmc_sc_with_metadata_cpm_pc_cell_type_profiles.csv/pbmc_sc_with_metadata_cpm_pc_cell_type_profiles_n_sim_7_profiles.csv', '/space/grp/aadrian/Pseudobulk_Function_Pipeline_HighRes/bin/bulkSimulationOneProfile/data/simulations/0.015/pbmc_sc_with_metadata_cpm_pc_cell_type_profiles.csv/pbmc_sc_with_metadata_cpm_pc_cell_type_profiles_n_sim_53_profiles.csv', '/space/grp/aadrian/Pseudobulk_Function_Pipeline_HighRes/bin/bulkSimulationOneProfile/data/simulations/0.015/pbmc_sc_with_metadata_cpm_pc_cell_type_profiles.csv/pbmc_sc_with_metadata_cpm_pc_cell_type_profiles_n_sim_2_profiles.csv', '/space/grp/aadrian/Pseudobulk_Function_Pipeline_HighRes/bin/bulkSimulationOneProfile/data/simulations/0.015/pbmc_sc_with_metadata_cpm_pc_cell_type_profiles.csv/pbmc_sc_with_metadata_cpm_pc_cell_type_profiles_n_sim_89_profiles.csv', '/space/grp/aadrian/Pseudobulk_Function_Pipeline_HighRes/bin/bulkSimulationOneProfile/data/simulations/0.015/pbmc_sc_with_metadata_cpm_pc_cell_type_profiles.csv/pbmc_sc_with_metadata_cpm_pc_cell_type_profiles_n_sim_56_profiles.csv', '/space/grp/aadrian/Pseudobulk_Function_Pipeline_HighRes/bin/bulkSimulationOneProfile/data/simulations/0.015/pbmc_sc_with_metadata_cpm_pc_cell_type_profiles.csv/pbmc_sc_with_metadata_cpm_pc_cell_type_profiles_n_sim_57_profiles.csv', '/space/grp/aadrian/Pseudobulk_Function_Pipeline_HighRes/bin/bulkSimulationOneProfile/data/simulations/0.015/pbmc_sc_with_metadata_cpm_pc_cell_type_profiles.csv/pbmc_sc_with_metadata_cpm_pc_cell_type_profiles_n_sim_88_profiles.csv', '/space/grp/aadrian/Pseudobulk_Function_Pipeline_HighRes/bin/bulkSimulationOneProfile/data/simulations/0.015/pbmc_sc_with_metadata_cpm_pc_cell_type_profiles.csv/pbmc_sc_with_metadata_cpm_pc_cell_type_profiles_n_sim_3_profiles.csv', '/space/grp/aadrian/Pseudobulk_Function_Pipeline_HighRes/bin/bulkSimulationOneProfile/data/simulations/0.015/pbmc_sc_with_metadata_cpm_pc_cell_type_profiles.csv/pbmc_sc_with_metadata_cpm_pc_cell_type_profiles_n_sim_1_profiles.csv', '/space/grp/aadrian/Pseudobulk_Function_Pipeline_HighRes/bin/bulkSimulationOneProfile/data/simulations/0.015/pbmc_sc_with_metadata_cpm_pc_cell_type_profiles.csv/pbmc_sc_with_metadata_cpm_pc_cell_type_profiles_n_sim_55_profiles.csv', '/space/grp/aadrian/Pseudobulk_Function_Pipeline_HighRes/bin/bulkSimulationOneProfile/data/simulations/0.015/pbmc_sc_with_metadata_cpm_pc_cell_type_profiles.csv/pbmc_sc_with_metadata_cpm_pc_cell_type_profiles_n_sim_54_profiles.csv', '/space/grp/aadrian/Pseudobulk_Function_Pipeline_HighRes/bin/bulkSimulationOneProfile/data/simulations/0.015/pbmc_sc_with_metadata_cpm_pc_cell_type_profiles.csv/pbmc_sc_with_metadata_cpm_pc_cell_type_profiles_n_sim_0_profiles.csv', '/space/grp/aadrian/Pseudobulk_Function_Pipeline_HighRes/bin/bulkSimulationOneProfile/data/simulations/0.015/pbmc_sc_with_metadata_cpm_pc_cell_type_profiles.csv/pbmc_sc_with_metadata_cpm_pc_cell_type_profiles_n_sim_75_profiles.csv', '/space/grp/aadrian/Pseudobulk_Function_Pipeline_HighRes/bin/bulkSimulationOneProfile/data/simulations/0.015/pbmc_sc_with_metadata_cpm_pc_cell_type_profiles.csv/pbmc_sc_with_metadata_cpm_pc_cell_type_profiles_n_sim_26_profiles.csv', '/space/grp/aadrian/Pseudobulk_Function_Pipeline_HighRes/bin/bulkSimulationOneProfile/data/simulations/0.015/pbmc_sc_with_metadata_cpm_pc_cell_type_profiles.csv/pbmc_sc_with_metadata_cpm_pc_cell_type_profiles_n_sim_80_profiles.csv', '/space/grp/aadrian/Pseudobulk_Function_Pipeline_HighRes/bin/bulkSimulationOneProfile/data/simulations/0.015/pbmc_sc_with_metadata_cpm_pc_cell_type_profiles.csv/pbmc_sc_with_metadata_cpm_pc_cell_type_profiles_n_sim_81_profiles.csv', '/space/grp/aadrian/Pseudobulk_Function_Pipeline_HighRes/bin/bulkSimulationOneProfile/data/simulations/0.015/pbmc_sc_with_metadata_cpm_pc_cell_type_profiles.csv/pbmc_sc_with_metadata_cpm_pc_cell_type_profiles_n_sim_74_profiles.csv', '/space/grp/aadrian/Pseudobulk_Function_Pipeline_HighRes/bin/bulkSimulationOneProfile/data/simulations/0.015/pbmc_sc_with_metadata_cpm_pc_cell_type_profiles.csv/pbmc_sc_with_metadata_cpm_pc_cell_type_profiles_n_sim_27_profiles.csv', '/space/grp/aadrian/Pseudobulk_Function_Pipeline_HighRes/bin/bulkSimulationOneProfile/data/simulations/0.015/pbmc_sc_with_metadata_cpm_pc_cell_type_profiles.csv/pbmc_sc_with_metadata_cpm_pc_cell_type_profiles_n_sim_8_profiles.csv', '/space/grp/aadrian/Pseudobulk_Function_Pipeline_HighRes/bin/bulkSimulationOneProfile/data/simulations/0.015/pbmc_sc_with_metadata_cpm_pc_cell_type_profiles.csv/pbmc_sc_with_metadata_cpm_pc_cell_type_profiles_n_sim_83_profiles.csv', '/space/grp/aadrian/Pseudobulk_Function_Pipeline_HighRes/bin/bulkSimulationOneProfile/data/simulations/0.015/pbmc_sc_with_metadata_cpm_pc_cell_type_profiles.csv/pbmc_sc_with_metadata_cpm_pc_cell_type_profiles_n_sim_25_profiles.csv', '/space/grp/aadrian/Pseudobulk_Function_Pipeline_HighRes/bin/bulkSimulationOneProfile/data/simulations/0.015/pbmc_sc_with_metadata_cpm_pc_cell_type_profiles.csv/pbmc_sc_with_metadata_cpm_pc_cell_type_profiles_n_sim_76_profiles.csv', '/space/grp/aadrian/Pseudobulk_Function_Pipeline_HighRes/bin/bulkSimulationOneProfile/data/simulations/0.015/pbmc_sc_with_metadata_cpm_pc_cell_type_profiles.csv/pbmc_sc_with_metadata_cpm_pc_cell_type_profiles_n_sim_24_profiles.csv', '/space/grp/aadrian/Pseudobulk_Function_Pipeline_HighRes/bin/bulkSimulationOneProfile/data/simulations/0.015/pbmc_sc_with_metadata_cpm_pc_cell_type_profiles.csv/pbmc_sc_with_metadata_cpm_pc_cell_type_profiles_n_sim_77_profiles.csv', '/space/grp/aadrian/Pseudobulk_Function_Pipeline_HighRes/bin/bulkSimulationOneProfile/data/simulations/0.015/pbmc_sc_with_metadata_cpm_pc_cell_type_profiles.csv/pbmc_sc_with_metadata_cpm_pc_cell_type_profiles_n_sim_82_profiles.csv', '/space/grp/aadrian/Pseudobulk_Function_Pipeline_HighRes/bin/bulkSimulationOneProfile/data/simulations/0.015/pbmc_sc_with_metadata_cpm_pc_cell_type_profiles.csv/pbmc_sc_with_metadata_cpm_pc_cell_type_profiles_n_sim_9_profiles.csv', '/space/grp/aadrian/Pseudobulk_Function_Pipeline_HighRes/bin/bulkSimulationOneProfile/data/simulations/0.015/pbmc_sc_with_metadata_cpm_pc_cell_type_profiles.csv/pbmc_sc_with_metadata_cpm_pc_cell_type_profiles_n_sim_72_profiles.csv', '/space/grp/aadrian/Pseudobulk_Function_Pipeline_HighRes/bin/bulkSimulationOneProfile/data/simulations/0.015/pbmc_sc_with_metadata_cpm_pc_cell_type_profiles.csv/pbmc_sc_with_metadata_cpm_pc_cell_type_profiles_n_sim_21_profiles.csv', '/space/grp/aadrian/Pseudobulk_Function_Pipeline_HighRes/bin/bulkSimulationOneProfile/data/simulations/0.015/pbmc_sc_with_metadata_cpm_pc_cell_type_profiles.csv/pbmc_sc_with_metadata_cpm_pc_cell_type_profiles_n_sim_87_profiles.csv', '/space/grp/aadrian/Pseudobulk_Function_Pipeline_HighRes/bin/bulkSimulationOneProfile/data/simulations/0.015/pbmc_sc_with_metadata_cpm_pc_cell_type_profiles.csv/pbmc_sc_with_metadata_cpm_pc_cell_type_profiles_n_sim_58_profiles.csv', '/space/grp/aadrian/Pseudobulk_Function_Pipeline_HighRes/bin/bulkSimulationOneProfile/data/simulations/0.015/pbmc_sc_with_metadata_cpm_pc_cell_type_profiles.csv/pbmc_sc_with_metadata_cpm_pc_cell_type_profiles_n_sim_59_profiles.csv', '/space/grp/aadrian/Pseudobulk_Function_Pipeline_HighRes/bin/bulkSimulationOneProfile/data/simulations/0.015/pbmc_sc_with_metadata_cpm_pc_cell_type_profiles.csv/pbmc_sc_with_metadata_cpm_pc_cell_type_profiles_n_sim_86_profiles.csv', '/space/grp/aadrian/Pseudobulk_Function_Pipeline_HighRes/bin/bulkSimulationOneProfile/data/simulations/0.015/pbmc_sc_with_metadata_cpm_pc_cell_type_profiles.csv/pbmc_sc_with_metadata_cpm_pc_cell_type_profiles_n_sim_73_profiles.csv', '/space/grp/aadrian/Pseudobulk_Function_Pipeline_HighRes/bin/bulkSimulationOneProfile/data/simulations/0.015/pbmc_sc_with_metadata_cpm_pc_cell_type_profiles.csv/pbmc_sc_with_metadata_cpm_pc_cell_type_profiles_n_sim_20_profiles.csv', '/space/grp/aadrian/Pseudobulk_Function_Pipeline_HighRes/bin/bulkSimulationOneProfile/data/simulations/0.015/pbmc_sc_with_metadata_cpm_pc_cell_type_profiles.csv/pbmc_sc_with_metadata_cpm_pc_cell_type_profiles_n_sim_84_profiles.csv', '/space/grp/aadrian/Pseudobulk_Function_Pipeline_HighRes/bin/bulkSimulationOneProfile/data/simulations/0.015/pbmc_sc_with_metadata_cpm_pc_cell_type_profiles.csv/pbmc_sc_with_metadata_cpm_pc_cell_type_profiles_n_sim_22_profiles.csv', '/space/grp/aadrian/Pseudobulk_Function_Pipeline_HighRes/bin/bulkSimulationOneProfile/data/simulations/0.015/pbmc_sc_with_metadata_cpm_pc_cell_type_profiles.csv/pbmc_sc_with_metadata_cpm_pc_cell_type_profiles_n_sim_71_profiles.csv', '/space/grp/aadrian/Pseudobulk_Function_Pipeline_HighRes/bin/bulkSimulationOneProfile/data/simulations/0.015/pbmc_sc_with_metadata_cpm_pc_cell_type_profiles.csv/pbmc_sc_with_metadata_cpm_pc_cell_type_profiles_n_sim_23_profiles.csv', '/space/grp/aadrian/Pseudobulk_Function_Pipeline_HighRes/bin/bulkSimulationOneProfile/data/simulations/0.015/pbmc_sc_with_metadata_cpm_pc_cell_type_profiles.csv/pbmc_sc_with_metadata_cpm_pc_cell_type_profiles_n_sim_70_profiles.csv', '/space/grp/aadrian/Pseudobulk_Function_Pipeline_HighRes/bin/bulkSimulationOneProfile/data/simulations/0.015/pbmc_sc_with_metadata_cpm_pc_cell_type_profiles.csv/pbmc_sc_with_metadata_cpm_pc_cell_type_profiles_n_sim_85_profiles.csv'], ['/space/grp/aadrian/Pseudobulk_Function_Pipeline_HighRes/bin/bulkSimulationOneProfile/data/simulations/0.3/pbmc_sc_with_metadata_cpm_pc_cell_type_profiles.csv/pbmc_sc_with_metadata_cpm_pc_cell_type_profiles_n_sim_45_profiles.csv', '/space/grp/aadrian/Pseudobulk_Function_Pipeline_HighRes/bin/bulkSimulationOneProfile/data/simulations/0.3/pbmc_sc_with_metadata_cpm_pc_cell_type_profiles.csv/pbmc_sc_with_metadata_cpm_pc_cell_type_profiles_n_sim_16_profiles.csv', '/space/grp/aadrian/Pseudobulk_Function_Pipeline_HighRes/bin/bulkSimulationOneProfile/data/simulations/0.3/pbmc_sc_with_metadata_cpm_pc_cell_type_profiles.csv/pbmc_sc_with_metadata_cpm_pc_cell_type_profiles_n_sim_44_profiles.csv', '/space/grp/aadrian/Pseudobulk_Function_Pipeline_HighRes/bin/bulkSimulationOneProfile/data/simulations/0.3/pbmc_sc_with_metadata_cpm_pc_cell_type_profiles.csv/pbmc_sc_with_metadata_cpm_pc_cell_type_profiles_n_sim_17_profiles.csv', '/space/grp/aadrian/Pseudobulk_Function_Pipeline_HighRes/bin/bulkSimulationOneProfile/data/simulations/0.3/pbmc_sc_with_metadata_cpm_pc_cell_type_profiles.csv/pbmc_sc_with_metadata_cpm_pc_cell_type_profiles_n_sim_15_profiles.csv', '/space/grp/aadrian/Pseudobulk_Function_Pipeline_HighRes/bin/bulkSimulationOneProfile/data/simulations/0.3/pbmc_sc_with_metadata_cpm_pc_cell_type_profiles.csv/pbmc_sc_with_metadata_cpm_pc_cell_type_profiles_n_sim_99_profiles.csv', '/space/grp/aadrian/Pseudobulk_Function_Pipeline_HighRes/bin/bulkSimulationOneProfile/data/simulations/0.3/pbmc_sc_with_metadata_cpm_pc_cell_type_profiles.csv/pbmc_sc_with_metadata_cpm_pc_cell_type_profiles_n_sim_46_profiles.csv', '/space/grp/aadrian/Pseudobulk_Function_Pipeline_HighRes/bin/bulkSimulationOneProfile/data/simulations/0.3/pbmc_sc_with_metadata_cpm_pc_cell_type_profiles.csv/pbmc_sc_with_metadata_cpm_pc_cell_type_profiles_n_sim_14_profiles.csv', '/space/grp/aadrian/Pseudobulk_Function_Pipeline_HighRes/bin/bulkSimulationOneProfile/data/simulations/0.3/pbmc_sc_with_metadata_cpm_pc_cell_type_profiles.csv/pbmc_sc_with_metadata_cpm_pc_cell_type_profiles_n_sim_47_profiles.csv', '/space/grp/aadrian/Pseudobulk_Function_Pipeline_HighRes/bin/bulkSimulationOneProfile/data/simulations/0.3/pbmc_sc_with_metadata_cpm_pc_cell_type_profiles.csv/pbmc_sc_with_metadata_cpm_pc_cell_type_profiles_n_sim_98_profiles.csv', '/space/grp/aadrian/Pseudobulk_Function_Pipeline_HighRes/bin/bulkSimulationOneProfile/data/simulations/0.3/pbmc_sc_with_metadata_cpm_pc_cell_type_profiles.csv/pbmc_sc_with_metadata_cpm_pc_cell_type_profiles_n_sim_42_profiles.csv', '/space/grp/aadrian/Pseudobulk_Function_Pipeline_HighRes/bin/bulkSimulationOneProfile/data/simulations/0.3/pbmc_sc_with_metadata_cpm_pc_cell_type_profiles.csv/pbmc_sc_with_metadata_cpm_pc_cell_type_profiles_n_sim_11_profiles.csv', '/space/grp/aadrian/Pseudobulk_Function_Pipeline_HighRes/bin/bulkSimulationOneProfile/data/simulations/0.3/pbmc_sc_with_metadata_cpm_pc_cell_type_profiles.csv/pbmc_sc_with_metadata_cpm_pc_cell_type_profiles_n_sim_68_profiles.csv', '/space/grp/aadrian/Pseudobulk_Function_Pipeline_HighRes/bin/bulkSimulationOneProfile/data/simulations/0.3/pbmc_sc_with_metadata_cpm_pc_cell_type_profiles.csv/pbmc_sc_with_metadata_cpm_pc_cell_type_profiles_n_sim_69_profiles.csv', '/space/grp/aadrian/Pseudobulk_Function_Pipeline_HighRes/bin/bulkSimulationOneProfile/data/simulations/0.3/pbmc_sc_with_metadata_cpm_pc_cell_type_profiles.csv/pbmc_sc_with_metadata_cpm_pc_cell_type_profiles_n_sim_43_profiles.csv', '/space/grp/aadrian/Pseudobulk_Function_Pipeline_HighRes/bin/bulkSimulationOneProfile/data/simulations/0.3/pbmc_sc_with_metadata_cpm_pc_cell_type_profiles.csv/pbmc_sc_with_metadata_cpm_pc_cell_type_profiles_n_sim_10_profiles.csv', '/space/grp/aadrian/Pseudobulk_Function_Pipeline_HighRes/bin/bulkSimulationOneProfile/data/simulations/0.3/pbmc_sc_with_metadata_cpm_pc_cell_type_profiles.csv/pbmc_sc_with_metadata_cpm_pc_cell_type_profiles_n_sim_38_profiles.csv', '/space/grp/aadrian/Pseudobulk_Function_Pipeline_HighRes/bin/bulkSimulationOneProfile/data/simulations/0.3/pbmc_sc_with_metadata_cpm_pc_cell_type_profiles.csv/pbmc_sc_with_metadata_cpm_pc_cell_type_profiles_n_sim_12_profiles.csv', '/space/grp/aadrian/Pseudobulk_Function_Pipeline_HighRes/bin/bulkSimulationOneProfile/data/simulations/0.3/pbmc_sc_with_metadata_cpm_pc_cell_type_profiles.csv/pbmc_sc_with_metadata_cpm_pc_cell_type_profiles_n_sim_41_profiles.csv', '/space/grp/aadrian/Pseudobulk_Function_Pipeline_HighRes/bin/bulkSimulationOneProfile/data/simulations/0.3/pbmc_sc_with_metadata_cpm_pc_cell_type_profiles.csv/pbmc_sc_with_metadata_cpm_pc_cell_type_profiles_n_sim_13_profiles.csv', '/space/grp/aadrian/Pseudobulk_Function_Pipeline_HighRes/bin/bulkSimulationOneProfile/data/simulations/0.3/pbmc_sc_with_metadata_cpm_pc_cell_type_profiles.csv/pbmc_sc_with_metadata_cpm_pc_cell_type_profiles_n_sim_40_profiles.csv', '/space/grp/aadrian/Pseudobulk_Function_Pipeline_HighRes/bin/bulkSimulationOneProfile/data/simulations/0.3/pbmc_sc_with_metadata_cpm_pc_cell_type_profiles.csv/pbmc_sc_with_metadata_cpm_pc_cell_type_profiles_n_sim_39_profiles.csv', '/space/grp/aadrian/Pseudobulk_Function_Pipeline_HighRes/bin/bulkSimulationOneProfile/data/simulations/0.3/pbmc_sc_with_metadata_cpm_pc_cell_type_profiles.csv/pbmc_sc_with_metadata_cpm_pc_cell_type_profiles_n_sim_18_profiles.csv', '/space/grp/aadrian/Pseudobulk_Function_Pipeline_HighRes/bin/bulkSimulationOneProfile/data/simulations/0.3/pbmc_sc_with_metadata_cpm_pc_cell_type_profiles.csv/pbmc_sc_with_metadata_cpm_pc_cell_type_profiles_n_sim_94_profiles.csv', '/space/grp/aadrian/Pseudobulk_Function_Pipeline_HighRes/bin/bulkSimulationOneProfile/data/simulations/0.3/pbmc_sc_with_metadata_cpm_pc_cell_type_profiles.csv/pbmc_sc_with_metadata_cpm_pc_cell_type_profiles_n_sim_61_profiles.csv', '/space/grp/aadrian/Pseudobulk_Function_Pipeline_HighRes/bin/bulkSimulationOneProfile/data/simulations/0.3/pbmc_sc_with_metadata_cpm_pc_cell_type_profiles.csv/pbmc_sc_with_metadata_cpm_pc_cell_type_profiles_n_sim_32_profiles.csv', '/space/grp/aadrian/Pseudobulk_Function_Pipeline_HighRes/bin/bulkSimulationOneProfile/data/simulations/0.3/pbmc_sc_with_metadata_cpm_pc_cell_type_profiles.csv/pbmc_sc_with_metadata_cpm_pc_cell_type_profiles_n_sim_60_profiles.csv', '/space/grp/aadrian/Pseudobulk_Function_Pipeline_HighRes/bin/bulkSimulationOneProfile/data/simulations/0.3/pbmc_sc_with_metadata_cpm_pc_cell_type_profiles.csv/pbmc_sc_with_metadata_cpm_pc_cell_type_profiles_n_sim_33_profiles.csv', '/space/grp/aadrian/Pseudobulk_Function_Pipeline_HighRes/bin/bulkSimulationOneProfile/data/simulations/0.3/pbmc_sc_with_metadata_cpm_pc_cell_type_profiles.csv/pbmc_sc_with_metadata_cpm_pc_cell_type_profiles_n_sim_19_profiles.csv', '/space/grp/aadrian/Pseudobulk_Function_Pipeline_HighRes/bin/bulkSimulationOneProfile/data/simulations/0.3/pbmc_sc_with_metadata_cpm_pc_cell_type_profiles.csv/pbmc_sc_with_metadata_cpm_pc_cell_type_profiles_n_sim_95_profiles.csv', '/space/grp/aadrian/Pseudobulk_Function_Pipeline_HighRes/bin/bulkSimulationOneProfile/data/simulations/0.3/pbmc_sc_with_metadata_cpm_pc_cell_type_profiles.csv/pbmc_sc_with_metadata_cpm_pc_cell_type_profiles_n_sim_31_profiles.csv', '/space/grp/aadrian/Pseudobulk_Function_Pipeline_HighRes/bin/bulkSimulationOneProfile/data/simulations/0.3/pbmc_sc_with_metadata_cpm_pc_cell_type_profiles.csv/pbmc_sc_with_metadata_cpm_pc_cell_type_profiles_n_sim_62_profiles.csv', '/space/grp/aadrian/Pseudobulk_Function_Pipeline_HighRes/bin/bulkSimulationOneProfile/data/simulations/0.3/pbmc_sc_with_metadata_cpm_pc_cell_type_profiles.csv/pbmc_sc_with_metadata_cpm_pc_cell_type_profiles_n_sim_97_profiles.csv', '/space/grp/aadrian/Pseudobulk_Function_Pipeline_HighRes/bin/bulkSimulationOneProfile/data/simulations/0.3/pbmc_sc_with_metadata_cpm_pc_cell_type_profiles.csv/pbmc_sc_with_metadata_cpm_pc_cell_type_profiles_n_sim_48_profiles.csv', '/space/grp/aadrian/Pseudobulk_Function_Pipeline_HighRes/bin/bulkSimulationOneProfile/data/simulations/0.3/pbmc_sc_with_metadata_cpm_pc_cell_type_profiles.csv/pbmc_sc_with_metadata_cpm_pc_cell_type_profiles_n_sim_49_profiles.csv', '/space/grp/aadrian/Pseudobulk_Function_Pipeline_HighRes/bin/bulkSimulationOneProfile/data/simulations/0.3/pbmc_sc_with_metadata_cpm_pc_cell_type_profiles.csv/pbmc_sc_with_metadata_cpm_pc_cell_type_profiles_n_sim_96_profiles.csv', '/space/grp/aadrian/Pseudobulk_Function_Pipeline_HighRes/bin/bulkSimulationOneProfile/data/simulations/0.3/pbmc_sc_with_metadata_cpm_pc_cell_type_profiles.csv/pbmc_sc_with_metadata_cpm_pc_cell_type_profiles_n_sim_30_profiles.csv', '/space/grp/aadrian/Pseudobulk_Function_Pipeline_HighRes/bin/bulkSimulationOneProfile/data/simulations/0.3/pbmc_sc_with_metadata_cpm_pc_cell_type_profiles.csv/pbmc_sc_with_metadata_cpm_pc_cell_type_profiles_n_sim_63_profiles.csv', '/space/grp/aadrian/Pseudobulk_Function_Pipeline_HighRes/bin/bulkSimulationOneProfile/data/simulations/0.3/pbmc_sc_with_metadata_cpm_pc_cell_type_profiles.csv/pbmc_sc_with_metadata_cpm_pc_cell_type_profiles_n_sim_93_profiles.csv', '/space/grp/aadrian/Pseudobulk_Function_Pipeline_HighRes/bin/bulkSimulationOneProfile/data/simulations/0.3/pbmc_sc_with_metadata_cpm_pc_cell_type_profiles.csv/pbmc_sc_with_metadata_cpm_pc_cell_type_profiles_n_sim_66_profiles.csv', '/space/grp/aadrian/Pseudobulk_Function_Pipeline_HighRes/bin/bulkSimulationOneProfile/data/simulations/0.3/pbmc_sc_with_metadata_cpm_pc_cell_type_profiles.csv/pbmc_sc_with_metadata_cpm_pc_cell_type_profiles_n_sim_35_profiles.csv', '/space/grp/aadrian/Pseudobulk_Function_Pipeline_HighRes/bin/bulkSimulationOneProfile/data/simulations/0.3/pbmc_sc_with_metadata_cpm_pc_cell_type_profiles.csv/pbmc_sc_with_metadata_cpm_pc_cell_type_profiles_n_sim_67_profiles.csv', '/space/grp/aadrian/Pseudobulk_Function_Pipeline_HighRes/bin/bulkSimulationOneProfile/data/simulations/0.3/pbmc_sc_with_metadata_cpm_pc_cell_type_profiles.csv/pbmc_sc_with_metadata_cpm_pc_cell_type_profiles_n_sim_34_profiles.csv', '/space/grp/aadrian/Pseudobulk_Function_Pipeline_HighRes/bin/bulkSimulationOneProfile/data/simulations/0.3/pbmc_sc_with_metadata_cpm_pc_cell_type_profiles.csv/pbmc_sc_with_metadata_cpm_pc_cell_type_profiles_n_sim_92_profiles.csv', '/space/grp/aadrian/Pseudobulk_Function_Pipeline_HighRes/bin/bulkSimulationOneProfile/data/simulations/0.3/pbmc_sc_with_metadata_cpm_pc_cell_type_profiles.csv/pbmc_sc_with_metadata_cpm_pc_cell_type_profiles_n_sim_36_profiles.csv', '/space/grp/aadrian/Pseudobulk_Function_Pipeline_HighRes/bin/bulkSimulationOneProfile/data/simulations/0.3/pbmc_sc_with_metadata_cpm_pc_cell_type_profiles.csv/pbmc_sc_with_metadata_cpm_pc_cell_type_profiles_n_sim_65_profiles.csv', '/space/grp/aadrian/Pseudobulk_Function_Pipeline_HighRes/bin/bulkSimulationOneProfile/data/simulations/0.3/pbmc_sc_with_metadata_cpm_pc_cell_type_profiles.csv/pbmc_sc_with_metadata_cpm_pc_cell_type_profiles_n_sim_90_profiles.csv', '/space/grp/aadrian/Pseudobulk_Function_Pipeline_HighRes/bin/bulkSimulationOneProfile/data/simulations/0.3/pbmc_sc_with_metadata_cpm_pc_cell_type_profiles.csv/pbmc_sc_with_metadata_cpm_pc_cell_type_profiles_n_sim_91_profiles.csv', '/space/grp/aadrian/Pseudobulk_Function_Pipeline_HighRes/bin/bulkSimulationOneProfile/data/simulations/0.3/pbmc_sc_with_metadata_cpm_pc_cell_type_profiles.csv/pbmc_sc_with_metadata_cpm_pc_cell_type_profiles_n_sim_37_profiles.csv', '/space/grp/aadrian/Pseudobulk_Function_Pipeline_HighRes/bin/bulkSimulationOneProfile/data/simulations/0.3/pbmc_sc_with_metadata_cpm_pc_cell_type_profiles.csv/pbmc_sc_with_metadata_cpm_pc_cell_type_profiles_n_sim_64_profiles.csv', '/space/grp/aadrian/Pseudobulk_Function_Pipeline_HighRes/bin/bulkSimulationOneProfile/data/simulations/0.3/pbmc_sc_with_metadata_cpm_pc_cell_type_profiles.csv/pbmc_sc_with_metadata_cpm_pc_cell_type_profiles_n_sim_26_profiles.csv', '/space/grp/aadrian/Pseudobulk_Function_Pipeline_HighRes/bin/bulkSimulationOneProfile/data/simulations/0.3/pbmc_sc_with_metadata_cpm_pc_cell_type_profiles.csv/pbmc_sc_with_metadata_cpm_pc_cell_type_profiles_n_sim_75_profiles.csv', '/space/grp/aadrian/Pseudobulk_Function_Pipeline_HighRes/bin/bulkSimulationOneProfile/data/simulations/0.3/pbmc_sc_with_metadata_cpm_pc_cell_type_profiles.csv/pbmc_sc_with_metadata_cpm_pc_cell_type_profiles_n_sim_80_profiles.csv', '/space/grp/aadrian/Pseudobulk_Function_Pipeline_HighRes/bin/bulkSimulationOneProfile/data/simulations/0.3/pbmc_sc_with_metadata_cpm_pc_cell_type_profiles.csv/pbmc_sc_with_metadata_cpm_pc_cell_type_profiles_n_sim_81_profiles.csv', '/space/grp/aadrian/Pseudobulk_Function_Pipeline_HighRes/bin/bulkSimulationOneProfile/data/simulations/0.3/pbmc_sc_with_metadata_cpm_pc_cell_type_profiles.csv/pbmc_sc_with_metadata_cpm_pc_cell_type_profiles_n_sim_27_profiles.csv', '/space/grp/aadrian/Pseudobulk_Function_Pipeline_HighRes/bin/bulkSimulationOneProfile/data/simulations/0.3/pbmc_sc_with_metadata_cpm_pc_cell_type_profiles.csv/pbmc_sc_with_metadata_cpm_pc_cell_type_profiles_n_sim_74_profiles.csv', '/space/grp/aadrian/Pseudobulk_Function_Pipeline_HighRes/bin/bulkSimulationOneProfile/data/simulations/0.3/pbmc_sc_with_metadata_cpm_pc_cell_type_profiles.csv/pbmc_sc_with_metadata_cpm_pc_cell_type_profiles_n_sim_83_profiles.csv', '/space/grp/aadrian/Pseudobulk_Function_Pipeline_HighRes/bin/bulkSimulationOneProfile/data/simulations/0.3/pbmc_sc_with_metadata_cpm_pc_cell_type_profiles.csv/pbmc_sc_with_metadata_cpm_pc_cell_type_profiles_n_sim_76_profiles.csv', '/space/grp/aadrian/Pseudobulk_Function_Pipeline_HighRes/bin/bulkSimulationOneProfile/data/simulations/0.3/pbmc_sc_with_metadata_cpm_pc_cell_type_profiles.csv/pbmc_sc_with_metadata_cpm_pc_cell_type_profiles_n_sim_25_profiles.csv', '/space/grp/aadrian/Pseudobulk_Function_Pipeline_HighRes/bin/bulkSimulationOneProfile/data/simulations/0.3/pbmc_sc_with_metadata_cpm_pc_cell_type_profiles.csv/pbmc_sc_with_metadata_cpm_pc_cell_type_profiles_n_sim_77_profiles.csv', '/space/grp/aadrian/Pseudobulk_Function_Pipeline_HighRes/bin/bulkSimulationOneProfile/data/simulations/0.3/pbmc_sc_with_metadata_cpm_pc_cell_type_profiles.csv/pbmc_sc_with_metadata_cpm_pc_cell_type_profiles_n_sim_24_profiles.csv', '/space/grp/aadrian/Pseudobulk_Function_Pipeline_HighRes/bin/bulkSimulationOneProfile/data/simulations/0.3/pbmc_sc_with_metadata_cpm_pc_cell_type_profiles.csv/pbmc_sc_with_metadata_cpm_pc_cell_type_profiles_n_sim_82_profiles.csv', '/space/grp/aadrian/Pseudobulk_Function_Pipeline_HighRes/bin/bulkSimulationOneProfile/data/simulations/0.3/pbmc_sc_with_metadata_cpm_pc_cell_type_profiles.csv/pbmc_sc_with_metadata_cpm_pc_cell_type_profiles_n_sim_21_profiles.csv', '/space/grp/aadrian/Pseudobulk_Function_Pipeline_HighRes/bin/bulkSimulationOneProfile/data/simulations/0.3/pbmc_sc_with_metadata_cpm_pc_cell_type_profiles.csv/pbmc_sc_with_metadata_cpm_pc_cell_type_profiles_n_sim_72_profiles.csv', '/space/grp/aadrian/Pseudobulk_Function_Pipeline_HighRes/bin/bulkSimulationOneProfile/data/simulations/0.3/pbmc_sc_with_metadata_cpm_pc_cell_type_profiles.csv/pbmc_sc_with_metadata_cpm_pc_cell_type_profiles_n_sim_87_profiles.csv', '/space/grp/aadrian/Pseudobulk_Function_Pipeline_HighRes/bin/bulkSimulationOneProfile/data/simulations/0.3/pbmc_sc_with_metadata_cpm_pc_cell_type_profiles.csv/pbmc_sc_with_metadata_cpm_pc_cell_type_profiles_n_sim_58_profiles.csv', '/space/grp/aadrian/Pseudobulk_Function_Pipeline_HighRes/bin/bulkSimulationOneProfile/data/simulations/0.3/pbmc_sc_with_metadata_cpm_pc_cell_type_profiles.csv/pbmc_sc_with_metadata_cpm_pc_cell_type_profiles_n_sim_59_profiles.csv', '/space/grp/aadrian/Pseudobulk_Function_Pipeline_HighRes/bin/bulkSimulationOneProfile/data/simulations/0.3/pbmc_sc_with_metadata_cpm_pc_cell_type_profiles.csv/pbmc_sc_with_metadata_cpm_pc_cell_type_profiles_n_sim_86_profiles.csv', '/space/grp/aadrian/Pseudobulk_Function_Pipeline_HighRes/bin/bulkSimulationOneProfile/data/simulations/0.3/pbmc_sc_with_metadata_cpm_pc_cell_type_profiles.csv/pbmc_sc_with_metadata_cpm_pc_cell_type_profiles_n_sim_20_profiles.csv', '/space/grp/aadrian/Pseudobulk_Function_Pipeline_HighRes/bin/bulkSimulationOneProfile/data/simulations/0.3/pbmc_sc_with_metadata_cpm_pc_cell_type_profiles.csv/pbmc_sc_with_metadata_cpm_pc_cell_type_profiles_n_sim_73_profiles.csv', '/space/grp/aadrian/Pseudobulk_Function_Pipeline_HighRes/bin/bulkSimulationOneProfile/data/simulations/0.3/pbmc_sc_with_metadata_cpm_pc_cell_type_profiles.csv/pbmc_sc_with_metadata_cpm_pc_cell_type_profiles_n_sim_8_profiles.csv', '/space/grp/aadrian/Pseudobulk_Function_Pipeline_HighRes/bin/bulkSimulationOneProfile/data/simulations/0.3/pbmc_sc_with_metadata_cpm_pc_cell_type_profiles.csv/pbmc_sc_with_metadata_cpm_pc_cell_type_profiles_n_sim_84_profiles.csv', '/space/grp/aadrian/Pseudobulk_Function_Pipeline_HighRes/bin/bulkSimulationOneProfile/data/simulations/0.3/pbmc_sc_with_metadata_cpm_pc_cell_type_profiles.csv/pbmc_sc_with_metadata_cpm_pc_cell_type_profiles_n_sim_71_profiles.csv', '/space/grp/aadrian/Pseudobulk_Function_Pipeline_HighRes/bin/bulkSimulationOneProfile/data/simulations/0.3/pbmc_sc_with_metadata_cpm_pc_cell_type_profiles.csv/pbmc_sc_with_metadata_cpm_pc_cell_type_profiles_n_sim_22_profiles.csv', '/space/grp/aadrian/Pseudobulk_Function_Pipeline_HighRes/bin/bulkSimulationOneProfile/data/simulations/0.3/pbmc_sc_with_metadata_cpm_pc_cell_type_profiles.csv/pbmc_sc_with_metadata_cpm_pc_cell_type_profiles_n_sim_70_profiles.csv', '/space/grp/aadrian/Pseudobulk_Function_Pipeline_HighRes/bin/bulkSimulationOneProfile/data/simulations/0.3/pbmc_sc_with_metadata_cpm_pc_cell_type_profiles.csv/pbmc_sc_with_metadata_cpm_pc_cell_type_profiles_n_sim_23_profiles.csv', '/space/grp/aadrian/Pseudobulk_Function_Pipeline_HighRes/bin/bulkSimulationOneProfile/data/simulations/0.3/pbmc_sc_with_metadata_cpm_pc_cell_type_profiles.csv/pbmc_sc_with_metadata_cpm_pc_cell_type_profiles_n_sim_9_profiles.csv', '/space/grp/aadrian/Pseudobulk_Function_Pipeline_HighRes/bin/bulkSimulationOneProfile/data/simulations/0.3/pbmc_sc_with_metadata_cpm_pc_cell_type_profiles.csv/pbmc_sc_with_metadata_cpm_pc_cell_type_profiles_n_sim_85_profiles.csv', '/space/grp/aadrian/Pseudobulk_Function_Pipeline_HighRes/bin/bulkSimulationOneProfile/data/simulations/0.3/pbmc_sc_with_metadata_cpm_pc_cell_type_profiles.csv/pbmc_sc_with_metadata_cpm_pc_cell_type_profiles_n_sim_28_profiles.csv', '/space/grp/aadrian/Pseudobulk_Function_Pipeline_HighRes/bin/bulkSimulationOneProfile/data/simulations/0.3/pbmc_sc_with_metadata_cpm_pc_cell_type_profiles.csv/pbmc_sc_with_metadata_cpm_pc_cell_type_profiles_n_sim_2_profiles.csv', '/space/grp/aadrian/Pseudobulk_Function_Pipeline_HighRes/bin/bulkSimulationOneProfile/data/simulations/0.3/pbmc_sc_with_metadata_cpm_pc_cell_type_profiles.csv/pbmc_sc_with_metadata_cpm_pc_cell_type_profiles_n_sim_51_profiles.csv', '/space/grp/aadrian/Pseudobulk_Function_Pipeline_HighRes/bin/bulkSimulationOneProfile/data/simulations/0.3/pbmc_sc_with_metadata_cpm_pc_cell_type_profiles.csv/pbmc_sc_with_metadata_cpm_pc_cell_type_profiles_n_sim_3_profiles.csv', '/space/grp/aadrian/Pseudobulk_Function_Pipeline_HighRes/bin/bulkSimulationOneProfile/data/simulations/0.3/pbmc_sc_with_metadata_cpm_pc_cell_type_profiles.csv/pbmc_sc_with_metadata_cpm_pc_cell_type_profiles_n_sim_50_profiles.csv', '/space/grp/aadrian/Pseudobulk_Function_Pipeline_HighRes/bin/bulkSimulationOneProfile/data/simulations/0.3/pbmc_sc_with_metadata_cpm_pc_cell_type_profiles.csv/pbmc_sc_with_metadata_cpm_pc_cell_type_profiles_n_sim_29_profiles.csv', '/space/grp/aadrian/Pseudobulk_Function_Pipeline_HighRes/bin/bulkSimulationOneProfile/data/simulations/0.3/pbmc_sc_with_metadata_cpm_pc_cell_type_profiles.csv/pbmc_sc_with_metadata_cpm_pc_cell_type_profiles_n_sim_52_profiles.csv', '/space/grp/aadrian/Pseudobulk_Function_Pipeline_HighRes/bin/bulkSimulationOneProfile/data/simulations/0.3/pbmc_sc_with_metadata_cpm_pc_cell_type_profiles.csv/pbmc_sc_with_metadata_cpm_pc_cell_type_profiles_n_sim_1_profiles.csv', '/space/grp/aadrian/Pseudobulk_Function_Pipeline_HighRes/bin/bulkSimulationOneProfile/data/simulations/0.3/pbmc_sc_with_metadata_cpm_pc_cell_type_profiles.csv/pbmc_sc_with_metadata_cpm_pc_cell_type_profiles_n_sim_78_profiles.csv', '/space/grp/aadrian/Pseudobulk_Function_Pipeline_HighRes/bin/bulkSimulationOneProfile/data/simulations/0.3/pbmc_sc_with_metadata_cpm_pc_cell_type_profiles.csv/pbmc_sc_with_metadata_cpm_pc_cell_type_profiles_n_sim_79_profiles.csv', '/space/grp/aadrian/Pseudobulk_Function_Pipeline_HighRes/bin/bulkSimulationOneProfile/data/simulations/0.3/pbmc_sc_with_metadata_cpm_pc_cell_type_profiles.csv/pbmc_sc_with_metadata_cpm_pc_cell_type_profiles_n_sim_53_profiles.csv', '/space/grp/aadrian/Pseudobulk_Function_Pipeline_HighRes/bin/bulkSimulationOneProfile/data/simulations/0.3/pbmc_sc_with_metadata_cpm_pc_cell_type_profiles.csv/pbmc_sc_with_metadata_cpm_pc_cell_type_profiles_n_sim_0_profiles.csv', '/space/grp/aadrian/Pseudobulk_Function_Pipeline_HighRes/bin/bulkSimulationOneProfile/data/simulations/0.3/pbmc_sc_with_metadata_cpm_pc_cell_type_profiles.csv/pbmc_sc_with_metadata_cpm_pc_cell_type_profiles_n_sim_5_profiles.csv', '/space/grp/aadrian/Pseudobulk_Function_Pipeline_HighRes/bin/bulkSimulationOneProfile/data/simulations/0.3/pbmc_sc_with_metadata_cpm_pc_cell_type_profiles.csv/pbmc_sc_with_metadata_cpm_pc_cell_type_profiles_n_sim_89_profiles.csv', '/space/grp/aadrian/Pseudobulk_Function_Pipeline_HighRes/bin/bulkSimulationOneProfile/data/simulations/0.3/pbmc_sc_with_metadata_cpm_pc_cell_type_profiles.csv/pbmc_sc_with_metadata_cpm_pc_cell_type_profiles_n_sim_56_profiles.csv', '/space/grp/aadrian/Pseudobulk_Function_Pipeline_HighRes/bin/bulkSimulationOneProfile/data/simulations/0.3/pbmc_sc_with_metadata_cpm_pc_cell_type_profiles.csv/pbmc_sc_with_metadata_cpm_pc_cell_type_profiles_n_sim_4_profiles.csv', '/space/grp/aadrian/Pseudobulk_Function_Pipeline_HighRes/bin/bulkSimulationOneProfile/data/simulations/0.3/pbmc_sc_with_metadata_cpm_pc_cell_type_profiles.csv/pbmc_sc_with_metadata_cpm_pc_cell_type_profiles_n_sim_57_profiles.csv', '/space/grp/aadrian/Pseudobulk_Function_Pipeline_HighRes/bin/bulkSimulationOneProfile/data/simulations/0.3/pbmc_sc_with_metadata_cpm_pc_cell_type_profiles.csv/pbmc_sc_with_metadata_cpm_pc_cell_type_profiles_n_sim_88_profiles.csv', '/space/grp/aadrian/Pseudobulk_Function_Pipeline_HighRes/bin/bulkSimulationOneProfile/data/simulations/0.3/pbmc_sc_with_metadata_cpm_pc_cell_type_profiles.csv/pbmc_sc_with_metadata_cpm_pc_cell_type_profiles_n_sim_55_profiles.csv', '/space/grp/aadrian/Pseudobulk_Function_Pipeline_HighRes/bin/bulkSimulationOneProfile/data/simulations/0.3/pbmc_sc_with_metadata_cpm_pc_cell_type_profiles.csv/pbmc_sc_with_metadata_cpm_pc_cell_type_profiles_n_sim_6_profiles.csv', '/space/grp/aadrian/Pseudobulk_Function_Pipeline_HighRes/bin/bulkSimulationOneProfile/data/simulations/0.3/pbmc_sc_with_metadata_cpm_pc_cell_type_profiles.csv/pbmc_sc_with_metadata_cpm_pc_cell_type_profiles_n_sim_54_profiles.csv', '/space/grp/aadrian/Pseudobulk_Function_Pipeline_HighRes/bin/bulkSimulationOneProfile/data/simulations/0.3/pbmc_sc_with_metadata_cpm_pc_cell_type_profiles.csv/pbmc_sc_with_metadata_cpm_pc_cell_type_profiles_n_sim_7_profiles.csv'], ['/space/grp/aadrian/Pseudobulk_Function_Pipeline_HighRes/bin/bulkSimulationOneProfile/data/simulations/0.9/pbmc_sc_with_metadata_cpm_pc_cell_type_profiles.csv/pbmc_sc_with_metadata_cpm_pc_cell_type_profiles_n_sim_26_profiles.csv', '/space/grp/aadrian/Pseudobulk_Function_Pipeline_HighRes/bin/bulkSimulationOneProfile/data/simulations/0.9/pbmc_sc_with_metadata_cpm_pc_cell_type_profiles.csv/pbmc_sc_with_metadata_cpm_pc_cell_type_profiles_n_sim_75_profiles.csv', '/space/grp/aadrian/Pseudobulk_Function_Pipeline_HighRes/bin/bulkSimulationOneProfile/data/simulations/0.9/pbmc_sc_with_metadata_cpm_pc_cell_type_profiles.csv/pbmc_sc_with_metadata_cpm_pc_cell_type_profiles_n_sim_80_profiles.csv', '/space/grp/aadrian/Pseudobulk_Function_Pipeline_HighRes/bin/bulkSimulationOneProfile/data/simulations/0.9/pbmc_sc_with_metadata_cpm_pc_cell_type_profiles.csv/pbmc_sc_with_metadata_cpm_pc_cell_type_profiles_n_sim_81_profiles.csv', '/space/grp/aadrian/Pseudobulk_Function_Pipeline_HighRes/bin/bulkSimulationOneProfile/data/simulations/0.9/pbmc_sc_with_metadata_cpm_pc_cell_type_profiles.csv/pbmc_sc_with_metadata_cpm_pc_cell_type_profiles_n_sim_27_profiles.csv', '/space/grp/aadrian/Pseudobulk_Function_Pipeline_HighRes/bin/bulkSimulationOneProfile/data/simulations/0.9/pbmc_sc_with_metadata_cpm_pc_cell_type_profiles.csv/pbmc_sc_with_metadata_cpm_pc_cell_type_profiles_n_sim_74_profiles.csv', '/space/grp/aadrian/Pseudobulk_Function_Pipeline_HighRes/bin/bulkSimulationOneProfile/data/simulations/0.9/pbmc_sc_with_metadata_cpm_pc_cell_type_profiles.csv/pbmc_sc_with_metadata_cpm_pc_cell_type_profiles_n_sim_83_profiles.csv', '/space/grp/aadrian/Pseudobulk_Function_Pipeline_HighRes/bin/bulkSimulationOneProfile/data/simulations/0.9/pbmc_sc_with_metadata_cpm_pc_cell_type_profiles.csv/pbmc_sc_with_metadata_cpm_pc_cell_type_profiles_n_sim_76_profiles.csv', '/space/grp/aadrian/Pseudobulk_Function_Pipeline_HighRes/bin/bulkSimulationOneProfile/data/simulations/0.9/pbmc_sc_with_metadata_cpm_pc_cell_type_profiles.csv/pbmc_sc_with_metadata_cpm_pc_cell_type_profiles_n_sim_25_profiles.csv', '/space/grp/aadrian/Pseudobulk_Function_Pipeline_HighRes/bin/bulkSimulationOneProfile/data/simulations/0.9/pbmc_sc_with_metadata_cpm_pc_cell_type_profiles.csv/pbmc_sc_with_metadata_cpm_pc_cell_type_profiles_n_sim_77_profiles.csv', '/space/grp/aadrian/Pseudobulk_Function_Pipeline_HighRes/bin/bulkSimulationOneProfile/data/simulations/0.9/pbmc_sc_with_metadata_cpm_pc_cell_type_profiles.csv/pbmc_sc_with_metadata_cpm_pc_cell_type_profiles_n_sim_24_profiles.csv', '/space/grp/aadrian/Pseudobulk_Function_Pipeline_HighRes/bin/bulkSimulationOneProfile/data/simulations/0.9/pbmc_sc_with_metadata_cpm_pc_cell_type_profiles.csv/pbmc_sc_with_metadata_cpm_pc_cell_type_profiles_n_sim_82_profiles.csv', '/space/grp/aadrian/Pseudobulk_Function_Pipeline_HighRes/bin/bulkSimulationOneProfile/data/simulations/0.9/pbmc_sc_with_metadata_cpm_pc_cell_type_profiles.csv/pbmc_sc_with_metadata_cpm_pc_cell_type_profiles_n_sim_21_profiles.csv', '/space/grp/aadrian/Pseudobulk_Function_Pipeline_HighRes/bin/bulkSimulationOneProfile/data/simulations/0.9/pbmc_sc_with_metadata_cpm_pc_cell_type_profiles.csv/pbmc_sc_with_metadata_cpm_pc_cell_type_profiles_n_sim_72_profiles.csv', '/space/grp/aadrian/Pseudobulk_Function_Pipeline_HighRes/bin/bulkSimulationOneProfile/data/simulations/0.9/pbmc_sc_with_metadata_cpm_pc_cell_type_profiles.csv/pbmc_sc_with_metadata_cpm_pc_cell_type_profiles_n_sim_58_profiles.csv', '/space/grp/aadrian/Pseudobulk_Function_Pipeline_HighRes/bin/bulkSimulationOneProfile/data/simulations/0.9/pbmc_sc_with_metadata_cpm_pc_cell_type_profiles.csv/pbmc_sc_with_metadata_cpm_pc_cell_type_profiles_n_sim_87_profiles.csv', '/space/grp/aadrian/Pseudobulk_Function_Pipeline_HighRes/bin/bulkSimulationOneProfile/data/simulations/0.9/pbmc_sc_with_metadata_cpm_pc_cell_type_profiles.csv/pbmc_sc_with_metadata_cpm_pc_cell_type_profiles_n_sim_86_profiles.csv', '/space/grp/aadrian/Pseudobulk_Function_Pipeline_HighRes/bin/bulkSimulationOneProfile/data/simulations/0.9/pbmc_sc_with_metadata_cpm_pc_cell_type_profiles.csv/pbmc_sc_with_metadata_cpm_pc_cell_type_profiles_n_sim_59_profiles.csv', '/space/grp/aadrian/Pseudobulk_Function_Pipeline_HighRes/bin/bulkSimulationOneProfile/data/simulations/0.9/pbmc_sc_with_metadata_cpm_pc_cell_type_profiles.csv/pbmc_sc_with_metadata_cpm_pc_cell_type_profiles_n_sim_20_profiles.csv', '/space/grp/aadrian/Pseudobulk_Function_Pipeline_HighRes/bin/bulkSimulationOneProfile/data/simulations/0.9/pbmc_sc_with_metadata_cpm_pc_cell_type_profiles.csv/pbmc_sc_with_metadata_cpm_pc_cell_type_profiles_n_sim_73_profiles.csv', '/space/grp/aadrian/Pseudobulk_Function_Pipeline_HighRes/bin/bulkSimulationOneProfile/data/simulations/0.9/pbmc_sc_with_metadata_cpm_pc_cell_type_profiles.csv/pbmc_sc_with_metadata_cpm_pc_cell_type_profiles_n_sim_8_profiles.csv', '/space/grp/aadrian/Pseudobulk_Function_Pipeline_HighRes/bin/bulkSimulationOneProfile/data/simulations/0.9/pbmc_sc_with_metadata_cpm_pc_cell_type_profiles.csv/pbmc_sc_with_metadata_cpm_pc_cell_type_profiles_n_sim_84_profiles.csv', '/space/grp/aadrian/Pseudobulk_Function_Pipeline_HighRes/bin/bulkSimulationOneProfile/data/simulations/0.9/pbmc_sc_with_metadata_cpm_pc_cell_type_profiles.csv/pbmc_sc_with_metadata_cpm_pc_cell_type_profiles_n_sim_71_profiles.csv', '/space/grp/aadrian/Pseudobulk_Function_Pipeline_HighRes/bin/bulkSimulationOneProfile/data/simulations/0.9/pbmc_sc_with_metadata_cpm_pc_cell_type_profiles.csv/pbmc_sc_with_metadata_cpm_pc_cell_type_profiles_n_sim_22_profiles.csv', '/space/grp/aadrian/Pseudobulk_Function_Pipeline_HighRes/bin/bulkSimulationOneProfile/data/simulations/0.9/pbmc_sc_with_metadata_cpm_pc_cell_type_profiles.csv/pbmc_sc_with_metadata_cpm_pc_cell_type_profiles_n_sim_70_profiles.csv', '/space/grp/aadrian/Pseudobulk_Function_Pipeline_HighRes/bin/bulkSimulationOneProfile/data/simulations/0.9/pbmc_sc_with_metadata_cpm_pc_cell_type_profiles.csv/pbmc_sc_with_metadata_cpm_pc_cell_type_profiles_n_sim_23_profiles.csv', '/space/grp/aadrian/Pseudobulk_Function_Pipeline_HighRes/bin/bulkSimulationOneProfile/data/simulations/0.9/pbmc_sc_with_metadata_cpm_pc_cell_type_profiles.csv/pbmc_sc_with_metadata_cpm_pc_cell_type_profiles_n_sim_85_profiles.csv', '/space/grp/aadrian/Pseudobulk_Function_Pipeline_HighRes/bin/bulkSimulationOneProfile/data/simulations/0.9/pbmc_sc_with_metadata_cpm_pc_cell_type_profiles.csv/pbmc_sc_with_metadata_cpm_pc_cell_type_profiles_n_sim_9_profiles.csv', '/space/grp/aadrian/Pseudobulk_Function_Pipeline_HighRes/bin/bulkSimulationOneProfile/data/simulations/0.9/pbmc_sc_with_metadata_cpm_pc_cell_type_profiles.csv/pbmc_sc_with_metadata_cpm_pc_cell_type_profiles_n_sim_28_profiles.csv', '/space/grp/aadrian/Pseudobulk_Function_Pipeline_HighRes/bin/bulkSimulationOneProfile/data/simulations/0.9/pbmc_sc_with_metadata_cpm_pc_cell_type_profiles.csv/pbmc_sc_with_metadata_cpm_pc_cell_type_profiles_n_sim_51_profiles.csv', '/space/grp/aadrian/Pseudobulk_Function_Pipeline_HighRes/bin/bulkSimulationOneProfile/data/simulations/0.9/pbmc_sc_with_metadata_cpm_pc_cell_type_profiles.csv/pbmc_sc_with_metadata_cpm_pc_cell_type_profiles_n_sim_2_profiles.csv', '/space/grp/aadrian/Pseudobulk_Function_Pipeline_HighRes/bin/bulkSimulationOneProfile/data/simulations/0.9/pbmc_sc_with_metadata_cpm_pc_cell_type_profiles.csv/pbmc_sc_with_metadata_cpm_pc_cell_type_profiles_n_sim_3_profiles.csv', '/space/grp/aadrian/Pseudobulk_Function_Pipeline_HighRes/bin/bulkSimulationOneProfile/data/simulations/0.9/pbmc_sc_with_metadata_cpm_pc_cell_type_profiles.csv/pbmc_sc_with_metadata_cpm_pc_cell_type_profiles_n_sim_50_profiles.csv', '/space/grp/aadrian/Pseudobulk_Function_Pipeline_HighRes/bin/bulkSimulationOneProfile/data/simulations/0.9/pbmc_sc_with_metadata_cpm_pc_cell_type_profiles.csv/pbmc_sc_with_metadata_cpm_pc_cell_type_profiles_n_sim_29_profiles.csv', '/space/grp/aadrian/Pseudobulk_Function_Pipeline_HighRes/bin/bulkSimulationOneProfile/data/simulations/0.9/pbmc_sc_with_metadata_cpm_pc_cell_type_profiles.csv/pbmc_sc_with_metadata_cpm_pc_cell_type_profiles_n_sim_52_profiles.csv', '/space/grp/aadrian/Pseudobulk_Function_Pipeline_HighRes/bin/bulkSimulationOneProfile/data/simulations/0.9/pbmc_sc_with_metadata_cpm_pc_cell_type_profiles.csv/pbmc_sc_with_metadata_cpm_pc_cell_type_profiles_n_sim_1_profiles.csv', '/space/grp/aadrian/Pseudobulk_Function_Pipeline_HighRes/bin/bulkSimulationOneProfile/data/simulations/0.9/pbmc_sc_with_metadata_cpm_pc_cell_type_profiles.csv/pbmc_sc_with_metadata_cpm_pc_cell_type_profiles_n_sim_78_profiles.csv', '/space/grp/aadrian/Pseudobulk_Function_Pipeline_HighRes/bin/bulkSimulationOneProfile/data/simulations/0.9/pbmc_sc_with_metadata_cpm_pc_cell_type_profiles.csv/pbmc_sc_with_metadata_cpm_pc_cell_type_profiles_n_sim_79_profiles.csv', '/space/grp/aadrian/Pseudobulk_Function_Pipeline_HighRes/bin/bulkSimulationOneProfile/data/simulations/0.9/pbmc_sc_with_metadata_cpm_pc_cell_type_profiles.csv/pbmc_sc_with_metadata_cpm_pc_cell_type_profiles_n_sim_0_profiles.csv', '/space/grp/aadrian/Pseudobulk_Function_Pipeline_HighRes/bin/bulkSimulationOneProfile/data/simulations/0.9/pbmc_sc_with_metadata_cpm_pc_cell_type_profiles.csv/pbmc_sc_with_metadata_cpm_pc_cell_type_profiles_n_sim_53_profiles.csv', '/space/grp/aadrian/Pseudobulk_Function_Pipeline_HighRes/bin/bulkSimulationOneProfile/data/simulations/0.9/pbmc_sc_with_metadata_cpm_pc_cell_type_profiles.csv/pbmc_sc_with_metadata_cpm_pc_cell_type_profiles_n_sim_56_profiles.csv', '/space/grp/aadrian/Pseudobulk_Function_Pipeline_HighRes/bin/bulkSimulationOneProfile/data/simulations/0.9/pbmc_sc_with_metadata_cpm_pc_cell_type_profiles.csv/pbmc_sc_with_metadata_cpm_pc_cell_type_profiles_n_sim_5_profiles.csv', '/space/grp/aadrian/Pseudobulk_Function_Pipeline_HighRes/bin/bulkSimulationOneProfile/data/simulations/0.9/pbmc_sc_with_metadata_cpm_pc_cell_type_profiles.csv/pbmc_sc_with_metadata_cpm_pc_cell_type_profiles_n_sim_89_profiles.csv', '/space/grp/aadrian/Pseudobulk_Function_Pipeline_HighRes/bin/bulkSimulationOneProfile/data/simulations/0.9/pbmc_sc_with_metadata_cpm_pc_cell_type_profiles.csv/pbmc_sc_with_metadata_cpm_pc_cell_type_profiles_n_sim_88_profiles.csv', '/space/grp/aadrian/Pseudobulk_Function_Pipeline_HighRes/bin/bulkSimulationOneProfile/data/simulations/0.9/pbmc_sc_with_metadata_cpm_pc_cell_type_profiles.csv/pbmc_sc_with_metadata_cpm_pc_cell_type_profiles_n_sim_4_profiles.csv', '/space/grp/aadrian/Pseudobulk_Function_Pipeline_HighRes/bin/bulkSimulationOneProfile/data/simulations/0.9/pbmc_sc_with_metadata_cpm_pc_cell_type_profiles.csv/pbmc_sc_with_metadata_cpm_pc_cell_type_profiles_n_sim_57_profiles.csv', '/space/grp/aadrian/Pseudobulk_Function_Pipeline_HighRes/bin/bulkSimulationOneProfile/data/simulations/0.9/pbmc_sc_with_metadata_cpm_pc_cell_type_profiles.csv/pbmc_sc_with_metadata_cpm_pc_cell_type_profiles_n_sim_55_profiles.csv', '/space/grp/aadrian/Pseudobulk_Function_Pipeline_HighRes/bin/bulkSimulationOneProfile/data/simulations/0.9/pbmc_sc_with_metadata_cpm_pc_cell_type_profiles.csv/pbmc_sc_with_metadata_cpm_pc_cell_type_profiles_n_sim_6_profiles.csv', '/space/grp/aadrian/Pseudobulk_Function_Pipeline_HighRes/bin/bulkSimulationOneProfile/data/simulations/0.9/pbmc_sc_with_metadata_cpm_pc_cell_type_profiles.csv/pbmc_sc_with_metadata_cpm_pc_cell_type_profiles_n_sim_7_profiles.csv', '/space/grp/aadrian/Pseudobulk_Function_Pipeline_HighRes/bin/bulkSimulationOneProfile/data/simulations/0.9/pbmc_sc_with_metadata_cpm_pc_cell_type_profiles.csv/pbmc_sc_with_metadata_cpm_pc_cell_type_profiles_n_sim_54_profiles.csv', '/space/grp/aadrian/Pseudobulk_Function_Pipeline_HighRes/bin/bulkSimulationOneProfile/data/simulations/0.9/pbmc_sc_with_metadata_cpm_pc_cell_type_profiles.csv/pbmc_sc_with_metadata_cpm_pc_cell_type_profiles_n_sim_45_profiles.csv', '/space/grp/aadrian/Pseudobulk_Function_Pipeline_HighRes/bin/bulkSimulationOneProfile/data/simulations/0.9/pbmc_sc_with_metadata_cpm_pc_cell_type_profiles.csv/pbmc_sc_with_metadata_cpm_pc_cell_type_profiles_n_sim_16_profiles.csv', '/space/grp/aadrian/Pseudobulk_Function_Pipeline_HighRes/bin/bulkSimulationOneProfile/data/simulations/0.9/pbmc_sc_with_metadata_cpm_pc_cell_type_profiles.csv/pbmc_sc_with_metadata_cpm_pc_cell_type_profiles_n_sim_44_profiles.csv', '/space/grp/aadrian/Pseudobulk_Function_Pipeline_HighRes/bin/bulkSimulationOneProfile/data/simulations/0.9/pbmc_sc_with_metadata_cpm_pc_cell_type_profiles.csv/pbmc_sc_with_metadata_cpm_pc_cell_type_profiles_n_sim_17_profiles.csv', '/space/grp/aadrian/Pseudobulk_Function_Pipeline_HighRes/bin/bulkSimulationOneProfile/data/simulations/0.9/pbmc_sc_with_metadata_cpm_pc_cell_type_profiles.csv/pbmc_sc_with_metadata_cpm_pc_cell_type_profiles_n_sim_15_profiles.csv', '/space/grp/aadrian/Pseudobulk_Function_Pipeline_HighRes/bin/bulkSimulationOneProfile/data/simulations/0.9/pbmc_sc_with_metadata_cpm_pc_cell_type_profiles.csv/pbmc_sc_with_metadata_cpm_pc_cell_type_profiles_n_sim_46_profiles.csv', '/space/grp/aadrian/Pseudobulk_Function_Pipeline_HighRes/bin/bulkSimulationOneProfile/data/simulations/0.9/pbmc_sc_with_metadata_cpm_pc_cell_type_profiles.csv/pbmc_sc_with_metadata_cpm_pc_cell_type_profiles_n_sim_99_profiles.csv', '/space/grp/aadrian/Pseudobulk_Function_Pipeline_HighRes/bin/bulkSimulationOneProfile/data/simulations/0.9/pbmc_sc_with_metadata_cpm_pc_cell_type_profiles.csv/pbmc_sc_with_metadata_cpm_pc_cell_type_profiles_n_sim_14_profiles.csv', '/space/grp/aadrian/Pseudobulk_Function_Pipeline_HighRes/bin/bulkSimulationOneProfile/data/simulations/0.9/pbmc_sc_with_metadata_cpm_pc_cell_type_profiles.csv/pbmc_sc_with_metadata_cpm_pc_cell_type_profiles_n_sim_98_profiles.csv', '/space/grp/aadrian/Pseudobulk_Function_Pipeline_HighRes/bin/bulkSimulationOneProfile/data/simulations/0.9/pbmc_sc_with_metadata_cpm_pc_cell_type_profiles.csv/pbmc_sc_with_metadata_cpm_pc_cell_type_profiles_n_sim_47_profiles.csv', '/space/grp/aadrian/Pseudobulk_Function_Pipeline_HighRes/bin/bulkSimulationOneProfile/data/simulations/0.9/pbmc_sc_with_metadata_cpm_pc_cell_type_profiles.csv/pbmc_sc_with_metadata_cpm_pc_cell_type_profiles_n_sim_42_profiles.csv', '/space/grp/aadrian/Pseudobulk_Function_Pipeline_HighRes/bin/bulkSimulationOneProfile/data/simulations/0.9/pbmc_sc_with_metadata_cpm_pc_cell_type_profiles.csv/pbmc_sc_with_metadata_cpm_pc_cell_type_profiles_n_sim_11_profiles.csv', '/space/grp/aadrian/Pseudobulk_Function_Pipeline_HighRes/bin/bulkSimulationOneProfile/data/simulations/0.9/pbmc_sc_with_metadata_cpm_pc_cell_type_profiles.csv/pbmc_sc_with_metadata_cpm_pc_cell_type_profiles_n_sim_68_profiles.csv', '/space/grp/aadrian/Pseudobulk_Function_Pipeline_HighRes/bin/bulkSimulationOneProfile/data/simulations/0.9/pbmc_sc_with_metadata_cpm_pc_cell_type_profiles.csv/pbmc_sc_with_metadata_cpm_pc_cell_type_profiles_n_sim_69_profiles.csv', '/space/grp/aadrian/Pseudobulk_Function_Pipeline_HighRes/bin/bulkSimulationOneProfile/data/simulations/0.9/pbmc_sc_with_metadata_cpm_pc_cell_type_profiles.csv/pbmc_sc_with_metadata_cpm_pc_cell_type_profiles_n_sim_43_profiles.csv', '/space/grp/aadrian/Pseudobulk_Function_Pipeline_HighRes/bin/bulkSimulationOneProfile/data/simulations/0.9/pbmc_sc_with_metadata_cpm_pc_cell_type_profiles.csv/pbmc_sc_with_metadata_cpm_pc_cell_type_profiles_n_sim_10_profiles.csv', '/space/grp/aadrian/Pseudobulk_Function_Pipeline_HighRes/bin/bulkSimulationOneProfile/data/simulations/0.9/pbmc_sc_with_metadata_cpm_pc_cell_type_profiles.csv/pbmc_sc_with_metadata_cpm_pc_cell_type_profiles_n_sim_38_profiles.csv', '/space/grp/aadrian/Pseudobulk_Function_Pipeline_HighRes/bin/bulkSimulationOneProfile/data/simulations/0.9/pbmc_sc_with_metadata_cpm_pc_cell_type_profiles.csv/pbmc_sc_with_metadata_cpm_pc_cell_type_profiles_n_sim_12_profiles.csv', '/space/grp/aadrian/Pseudobulk_Function_Pipeline_HighRes/bin/bulkSimulationOneProfile/data/simulations/0.9/pbmc_sc_with_metadata_cpm_pc_cell_type_profiles.csv/pbmc_sc_with_metadata_cpm_pc_cell_type_profiles_n_sim_41_profiles.csv', '/space/grp/aadrian/Pseudobulk_Function_Pipeline_HighRes/bin/bulkSimulationOneProfile/data/simulations/0.9/pbmc_sc_with_metadata_cpm_pc_cell_type_profiles.csv/pbmc_sc_with_metadata_cpm_pc_cell_type_profiles_n_sim_13_profiles.csv', '/space/grp/aadrian/Pseudobulk_Function_Pipeline_HighRes/bin/bulkSimulationOneProfile/data/simulations/0.9/pbmc_sc_with_metadata_cpm_pc_cell_type_profiles.csv/pbmc_sc_with_metadata_cpm_pc_cell_type_profiles_n_sim_40_profiles.csv', '/space/grp/aadrian/Pseudobulk_Function_Pipeline_HighRes/bin/bulkSimulationOneProfile/data/simulations/0.9/pbmc_sc_with_metadata_cpm_pc_cell_type_profiles.csv/pbmc_sc_with_metadata_cpm_pc_cell_type_profiles_n_sim_39_profiles.csv', '/space/grp/aadrian/Pseudobulk_Function_Pipeline_HighRes/bin/bulkSimulationOneProfile/data/simulations/0.9/pbmc_sc_with_metadata_cpm_pc_cell_type_profiles.csv/pbmc_sc_with_metadata_cpm_pc_cell_type_profiles_n_sim_18_profiles.csv', '/space/grp/aadrian/Pseudobulk_Function_Pipeline_HighRes/bin/bulkSimulationOneProfile/data/simulations/0.9/pbmc_sc_with_metadata_cpm_pc_cell_type_profiles.csv/pbmc_sc_with_metadata_cpm_pc_cell_type_profiles_n_sim_94_profiles.csv', '/space/grp/aadrian/Pseudobulk_Function_Pipeline_HighRes/bin/bulkSimulationOneProfile/data/simulations/0.9/pbmc_sc_with_metadata_cpm_pc_cell_type_profiles.csv/pbmc_sc_with_metadata_cpm_pc_cell_type_profiles_n_sim_61_profiles.csv', '/space/grp/aadrian/Pseudobulk_Function_Pipeline_HighRes/bin/bulkSimulationOneProfile/data/simulations/0.9/pbmc_sc_with_metadata_cpm_pc_cell_type_profiles.csv/pbmc_sc_with_metadata_cpm_pc_cell_type_profiles_n_sim_32_profiles.csv', '/space/grp/aadrian/Pseudobulk_Function_Pipeline_HighRes/bin/bulkSimulationOneProfile/data/simulations/0.9/pbmc_sc_with_metadata_cpm_pc_cell_type_profiles.csv/pbmc_sc_with_metadata_cpm_pc_cell_type_profiles_n_sim_60_profiles.csv', '/space/grp/aadrian/Pseudobulk_Function_Pipeline_HighRes/bin/bulkSimulationOneProfile/data/simulations/0.9/pbmc_sc_with_metadata_cpm_pc_cell_type_profiles.csv/pbmc_sc_with_metadata_cpm_pc_cell_type_profiles_n_sim_33_profiles.csv', '/space/grp/aadrian/Pseudobulk_Function_Pipeline_HighRes/bin/bulkSimulationOneProfile/data/simulations/0.9/pbmc_sc_with_metadata_cpm_pc_cell_type_profiles.csv/pbmc_sc_with_metadata_cpm_pc_cell_type_profiles_n_sim_19_profiles.csv', '/space/grp/aadrian/Pseudobulk_Function_Pipeline_HighRes/bin/bulkSimulationOneProfile/data/simulations/0.9/pbmc_sc_with_metadata_cpm_pc_cell_type_profiles.csv/pbmc_sc_with_metadata_cpm_pc_cell_type_profiles_n_sim_95_profiles.csv', '/space/grp/aadrian/Pseudobulk_Function_Pipeline_HighRes/bin/bulkSimulationOneProfile/data/simulations/0.9/pbmc_sc_with_metadata_cpm_pc_cell_type_profiles.csv/pbmc_sc_with_metadata_cpm_pc_cell_type_profiles_n_sim_31_profiles.csv', '/space/grp/aadrian/Pseudobulk_Function_Pipeline_HighRes/bin/bulkSimulationOneProfile/data/simulations/0.9/pbmc_sc_with_metadata_cpm_pc_cell_type_profiles.csv/pbmc_sc_with_metadata_cpm_pc_cell_type_profiles_n_sim_62_profiles.csv', '/space/grp/aadrian/Pseudobulk_Function_Pipeline_HighRes/bin/bulkSimulationOneProfile/data/simulations/0.9/pbmc_sc_with_metadata_cpm_pc_cell_type_profiles.csv/pbmc_sc_with_metadata_cpm_pc_cell_type_profiles_n_sim_48_profiles.csv', '/space/grp/aadrian/Pseudobulk_Function_Pipeline_HighRes/bin/bulkSimulationOneProfile/data/simulations/0.9/pbmc_sc_with_metadata_cpm_pc_cell_type_profiles.csv/pbmc_sc_with_metadata_cpm_pc_cell_type_profiles_n_sim_97_profiles.csv', '/space/grp/aadrian/Pseudobulk_Function_Pipeline_HighRes/bin/bulkSimulationOneProfile/data/simulations/0.9/pbmc_sc_with_metadata_cpm_pc_cell_type_profiles.csv/pbmc_sc_with_metadata_cpm_pc_cell_type_profiles_n_sim_96_profiles.csv', '/space/grp/aadrian/Pseudobulk_Function_Pipeline_HighRes/bin/bulkSimulationOneProfile/data/simulations/0.9/pbmc_sc_with_metadata_cpm_pc_cell_type_profiles.csv/pbmc_sc_with_metadata_cpm_pc_cell_type_profiles_n_sim_49_profiles.csv', '/space/grp/aadrian/Pseudobulk_Function_Pipeline_HighRes/bin/bulkSimulationOneProfile/data/simulations/0.9/pbmc_sc_with_metadata_cpm_pc_cell_type_profiles.csv/pbmc_sc_with_metadata_cpm_pc_cell_type_profiles_n_sim_30_profiles.csv', '/space/grp/aadrian/Pseudobulk_Function_Pipeline_HighRes/bin/bulkSimulationOneProfile/data/simulations/0.9/pbmc_sc_with_metadata_cpm_pc_cell_type_profiles.csv/pbmc_sc_with_metadata_cpm_pc_cell_type_profiles_n_sim_63_profiles.csv', '/space/grp/aadrian/Pseudobulk_Function_Pipeline_HighRes/bin/bulkSimulationOneProfile/data/simulations/0.9/pbmc_sc_with_metadata_cpm_pc_cell_type_profiles.csv/pbmc_sc_with_metadata_cpm_pc_cell_type_profiles_n_sim_93_profiles.csv', '/space/grp/aadrian/Pseudobulk_Function_Pipeline_HighRes/bin/bulkSimulationOneProfile/data/simulations/0.9/pbmc_sc_with_metadata_cpm_pc_cell_type_profiles.csv/pbmc_sc_with_metadata_cpm_pc_cell_type_profiles_n_sim_66_profiles.csv', '/space/grp/aadrian/Pseudobulk_Function_Pipeline_HighRes/bin/bulkSimulationOneProfile/data/simulations/0.9/pbmc_sc_with_metadata_cpm_pc_cell_type_profiles.csv/pbmc_sc_with_metadata_cpm_pc_cell_type_profiles_n_sim_35_profiles.csv', '/space/grp/aadrian/Pseudobulk_Function_Pipeline_HighRes/bin/bulkSimulationOneProfile/data/simulations/0.9/pbmc_sc_with_metadata_cpm_pc_cell_type_profiles.csv/pbmc_sc_with_metadata_cpm_pc_cell_type_profiles_n_sim_67_profiles.csv', '/space/grp/aadrian/Pseudobulk_Function_Pipeline_HighRes/bin/bulkSimulationOneProfile/data/simulations/0.9/pbmc_sc_with_metadata_cpm_pc_cell_type_profiles.csv/pbmc_sc_with_metadata_cpm_pc_cell_type_profiles_n_sim_34_profiles.csv', '/space/grp/aadrian/Pseudobulk_Function_Pipeline_HighRes/bin/bulkSimulationOneProfile/data/simulations/0.9/pbmc_sc_with_metadata_cpm_pc_cell_type_profiles.csv/pbmc_sc_with_metadata_cpm_pc_cell_type_profiles_n_sim_92_profiles.csv', '/space/grp/aadrian/Pseudobulk_Function_Pipeline_HighRes/bin/bulkSimulationOneProfile/data/simulations/0.9/pbmc_sc_with_metadata_cpm_pc_cell_type_profiles.csv/pbmc_sc_with_metadata_cpm_pc_cell_type_profiles_n_sim_36_profiles.csv', '/space/grp/aadrian/Pseudobulk_Function_Pipeline_HighRes/bin/bulkSimulationOneProfile/data/simulations/0.9/pbmc_sc_with_metadata_cpm_pc_cell_type_profiles.csv/pbmc_sc_with_metadata_cpm_pc_cell_type_profiles_n_sim_65_profiles.csv', '/space/grp/aadrian/Pseudobulk_Function_Pipeline_HighRes/bin/bulkSimulationOneProfile/data/simulations/0.9/pbmc_sc_with_metadata_cpm_pc_cell_type_profiles.csv/pbmc_sc_with_metadata_cpm_pc_cell_type_profiles_n_sim_90_profiles.csv', '/space/grp/aadrian/Pseudobulk_Function_Pipeline_HighRes/bin/bulkSimulationOneProfile/data/simulations/0.9/pbmc_sc_with_metadata_cpm_pc_cell_type_profiles.csv/pbmc_sc_with_metadata_cpm_pc_cell_type_profiles_n_sim_91_profiles.csv', '/space/grp/aadrian/Pseudobulk_Function_Pipeline_HighRes/bin/bulkSimulationOneProfile/data/simulations/0.9/pbmc_sc_with_metadata_cpm_pc_cell_type_profiles.csv/pbmc_sc_with_metadata_cpm_pc_cell_type_profiles_n_sim_37_profiles.csv', '/space/grp/aadrian/Pseudobulk_Function_Pipeline_HighRes/bin/bulkSimulationOneProfile/data/simulations/0.9/pbmc_sc_with_metadata_cpm_pc_cell_type_profiles.csv/pbmc_sc_with_metadata_cpm_pc_cell_type_profiles_n_sim_64_profiles.csv'], ['/space/grp/aadrian/Pseudobulk_Function_Pipeline_HighRes/bin/bulkSimulationOneProfile/data/simulations/0.065/pbmc_sc_with_metadata_cpm_pc_cell_type_profiles.csv/pbmc_sc_with_metadata_cpm_pc_cell_type_profiles_n_sim_85_profiles.csv', '/space/grp/aadrian/Pseudobulk_Function_Pipeline_HighRes/bin/bulkSimulationOneProfile/data/simulations/0.065/pbmc_sc_with_metadata_cpm_pc_cell_type_profiles.csv/pbmc_sc_with_metadata_cpm_pc_cell_type_profiles_n_sim_7_profiles.csv', '/space/grp/aadrian/Pseudobulk_Function_Pipeline_HighRes/bin/bulkSimulationOneProfile/data/simulations/0.065/pbmc_sc_with_metadata_cpm_pc_cell_type_profiles.csv/pbmc_sc_with_metadata_cpm_pc_cell_type_profiles_n_sim_23_profiles.csv', '/space/grp/aadrian/Pseudobulk_Function_Pipeline_HighRes/bin/bulkSimulationOneProfile/data/simulations/0.065/pbmc_sc_with_metadata_cpm_pc_cell_type_profiles.csv/pbmc_sc_with_metadata_cpm_pc_cell_type_profiles_n_sim_70_profiles.csv', '/space/grp/aadrian/Pseudobulk_Function_Pipeline_HighRes/bin/bulkSimulationOneProfile/data/simulations/0.065/pbmc_sc_with_metadata_cpm_pc_cell_type_profiles.csv/pbmc_sc_with_metadata_cpm_pc_cell_type_profiles_n_sim_22_profiles.csv', '/space/grp/aadrian/Pseudobulk_Function_Pipeline_HighRes/bin/bulkSimulationOneProfile/data/simulations/0.065/pbmc_sc_with_metadata_cpm_pc_cell_type_profiles.csv/pbmc_sc_with_metadata_cpm_pc_cell_type_profiles_n_sim_6_profiles.csv', '/space/grp/aadrian/Pseudobulk_Function_Pipeline_HighRes/bin/bulkSimulationOneProfile/data/simulations/0.065/pbmc_sc_with_metadata_cpm_pc_cell_type_profiles.csv/pbmc_sc_with_metadata_cpm_pc_cell_type_profiles_n_sim_71_profiles.csv', '/space/grp/aadrian/Pseudobulk_Function_Pipeline_HighRes/bin/bulkSimulationOneProfile/data/simulations/0.065/pbmc_sc_with_metadata_cpm_pc_cell_type_profiles.csv/pbmc_sc_with_metadata_cpm_pc_cell_type_profiles_n_sim_84_profiles.csv', '/space/grp/aadrian/Pseudobulk_Function_Pipeline_HighRes/bin/bulkSimulationOneProfile/data/simulations/0.065/pbmc_sc_with_metadata_cpm_pc_cell_type_profiles.csv/pbmc_sc_with_metadata_cpm_pc_cell_type_profiles_n_sim_73_profiles.csv', '/space/grp/aadrian/Pseudobulk_Function_Pipeline_HighRes/bin/bulkSimulationOneProfile/data/simulations/0.065/pbmc_sc_with_metadata_cpm_pc_cell_type_profiles.csv/pbmc_sc_with_metadata_cpm_pc_cell_type_profiles_n_sim_20_profiles.csv', '/space/grp/aadrian/Pseudobulk_Function_Pipeline_HighRes/bin/bulkSimulationOneProfile/data/simulations/0.065/pbmc_sc_with_metadata_cpm_pc_cell_type_profiles.csv/pbmc_sc_with_metadata_cpm_pc_cell_type_profiles_n_sim_4_profiles.csv', '/space/grp/aadrian/Pseudobulk_Function_Pipeline_HighRes/bin/bulkSimulationOneProfile/data/simulations/0.065/pbmc_sc_with_metadata_cpm_pc_cell_type_profiles.csv/pbmc_sc_with_metadata_cpm_pc_cell_type_profiles_n_sim_86_profiles.csv', '/space/grp/aadrian/Pseudobulk_Function_Pipeline_HighRes/bin/bulkSimulationOneProfile/data/simulations/0.065/pbmc_sc_with_metadata_cpm_pc_cell_type_profiles.csv/pbmc_sc_with_metadata_cpm_pc_cell_type_profiles_n_sim_59_profiles.csv', '/space/grp/aadrian/Pseudobulk_Function_Pipeline_HighRes/bin/bulkSimulationOneProfile/data/simulations/0.065/pbmc_sc_with_metadata_cpm_pc_cell_type_profiles.csv/pbmc_sc_with_metadata_cpm_pc_cell_type_profiles_n_sim_58_profiles.csv', '/space/grp/aadrian/Pseudobulk_Function_Pipeline_HighRes/bin/bulkSimulationOneProfile/data/simulations/0.065/pbmc_sc_with_metadata_cpm_pc_cell_type_profiles.csv/pbmc_sc_with_metadata_cpm_pc_cell_type_profiles_n_sim_87_profiles.csv', '/space/grp/aadrian/Pseudobulk_Function_Pipeline_HighRes/bin/bulkSimulationOneProfile/data/simulations/0.065/pbmc_sc_with_metadata_cpm_pc_cell_type_profiles.csv/pbmc_sc_with_metadata_cpm_pc_cell_type_profiles_n_sim_72_profiles.csv', '/space/grp/aadrian/Pseudobulk_Function_Pipeline_HighRes/bin/bulkSimulationOneProfile/data/simulations/0.065/pbmc_sc_with_metadata_cpm_pc_cell_type_profiles.csv/pbmc_sc_with_metadata_cpm_pc_cell_type_profiles_n_sim_5_profiles.csv', '/space/grp/aadrian/Pseudobulk_Function_Pipeline_HighRes/bin/bulkSimulationOneProfile/data/simulations/0.065/pbmc_sc_with_metadata_cpm_pc_cell_type_profiles.csv/pbmc_sc_with_metadata_cpm_pc_cell_type_profiles_n_sim_21_profiles.csv', '/space/grp/aadrian/Pseudobulk_Function_Pipeline_HighRes/bin/bulkSimulationOneProfile/data/simulations/0.065/pbmc_sc_with_metadata_cpm_pc_cell_type_profiles.csv/pbmc_sc_with_metadata_cpm_pc_cell_type_profiles_n_sim_82_profiles.csv', '/space/grp/aadrian/Pseudobulk_Function_Pipeline_HighRes/bin/bulkSimulationOneProfile/data/simulations/0.065/pbmc_sc_with_metadata_cpm_pc_cell_type_profiles.csv/pbmc_sc_with_metadata_cpm_pc_cell_type_profiles_n_sim_0_profiles.csv', '/space/grp/aadrian/Pseudobulk_Function_Pipeline_HighRes/bin/bulkSimulationOneProfile/data/simulations/0.065/pbmc_sc_with_metadata_cpm_pc_cell_type_profiles.csv/pbmc_sc_with_metadata_cpm_pc_cell_type_profiles_n_sim_24_profiles.csv', '/space/grp/aadrian/Pseudobulk_Function_Pipeline_HighRes/bin/bulkSimulationOneProfile/data/simulations/0.065/pbmc_sc_with_metadata_cpm_pc_cell_type_profiles.csv/pbmc_sc_with_metadata_cpm_pc_cell_type_profiles_n_sim_77_profiles.csv', '/space/grp/aadrian/Pseudobulk_Function_Pipeline_HighRes/bin/bulkSimulationOneProfile/data/simulations/0.065/pbmc_sc_with_metadata_cpm_pc_cell_type_profiles.csv/pbmc_sc_with_metadata_cpm_pc_cell_type_profiles_n_sim_25_profiles.csv', '/space/grp/aadrian/Pseudobulk_Function_Pipeline_HighRes/bin/bulkSimulationOneProfile/data/simulations/0.065/pbmc_sc_with_metadata_cpm_pc_cell_type_profiles.csv/pbmc_sc_with_metadata_cpm_pc_cell_type_profiles_n_sim_1_profiles.csv', '/space/grp/aadrian/Pseudobulk_Function_Pipeline_HighRes/bin/bulkSimulationOneProfile/data/simulations/0.065/pbmc_sc_with_metadata_cpm_pc_cell_type_profiles.csv/pbmc_sc_with_metadata_cpm_pc_cell_type_profiles_n_sim_76_profiles.csv', '/space/grp/aadrian/Pseudobulk_Function_Pipeline_HighRes/bin/bulkSimulationOneProfile/data/simulations/0.065/pbmc_sc_with_metadata_cpm_pc_cell_type_profiles.csv/pbmc_sc_with_metadata_cpm_pc_cell_type_profiles_n_sim_83_profiles.csv', '/space/grp/aadrian/Pseudobulk_Function_Pipeline_HighRes/bin/bulkSimulationOneProfile/data/simulations/0.065/pbmc_sc_with_metadata_cpm_pc_cell_type_profiles.csv/pbmc_sc_with_metadata_cpm_pc_cell_type_profiles_n_sim_74_profiles.csv', '/space/grp/aadrian/Pseudobulk_Function_Pipeline_HighRes/bin/bulkSimulationOneProfile/data/simulations/0.065/pbmc_sc_with_metadata_cpm_pc_cell_type_profiles.csv/pbmc_sc_with_metadata_cpm_pc_cell_type_profiles_n_sim_27_profiles.csv', '/space/grp/aadrian/Pseudobulk_Function_Pipeline_HighRes/bin/bulkSimulationOneProfile/data/simulations/0.065/pbmc_sc_with_metadata_cpm_pc_cell_type_profiles.csv/pbmc_sc_with_metadata_cpm_pc_cell_type_profiles_n_sim_3_profiles.csv', '/space/grp/aadrian/Pseudobulk_Function_Pipeline_HighRes/bin/bulkSimulationOneProfile/data/simulations/0.065/pbmc_sc_with_metadata_cpm_pc_cell_type_profiles.csv/pbmc_sc_with_metadata_cpm_pc_cell_type_profiles_n_sim_81_profiles.csv', '/space/grp/aadrian/Pseudobulk_Function_Pipeline_HighRes/bin/bulkSimulationOneProfile/data/simulations/0.065/pbmc_sc_with_metadata_cpm_pc_cell_type_profiles.csv/pbmc_sc_with_metadata_cpm_pc_cell_type_profiles_n_sim_80_profiles.csv', '/space/grp/aadrian/Pseudobulk_Function_Pipeline_HighRes/bin/bulkSimulationOneProfile/data/simulations/0.065/pbmc_sc_with_metadata_cpm_pc_cell_type_profiles.csv/pbmc_sc_with_metadata_cpm_pc_cell_type_profiles_n_sim_75_profiles.csv', '/space/grp/aadrian/Pseudobulk_Function_Pipeline_HighRes/bin/bulkSimulationOneProfile/data/simulations/0.065/pbmc_sc_with_metadata_cpm_pc_cell_type_profiles.csv/pbmc_sc_with_metadata_cpm_pc_cell_type_profiles_n_sim_2_profiles.csv', '/space/grp/aadrian/Pseudobulk_Function_Pipeline_HighRes/bin/bulkSimulationOneProfile/data/simulations/0.065/pbmc_sc_with_metadata_cpm_pc_cell_type_profiles.csv/pbmc_sc_with_metadata_cpm_pc_cell_type_profiles_n_sim_26_profiles.csv', '/space/grp/aadrian/Pseudobulk_Function_Pipeline_HighRes/bin/bulkSimulationOneProfile/data/simulations/0.065/pbmc_sc_with_metadata_cpm_pc_cell_type_profiles.csv/pbmc_sc_with_metadata_cpm_pc_cell_type_profiles_n_sim_54_profiles.csv', '/space/grp/aadrian/Pseudobulk_Function_Pipeline_HighRes/bin/bulkSimulationOneProfile/data/simulations/0.065/pbmc_sc_with_metadata_cpm_pc_cell_type_profiles.csv/pbmc_sc_with_metadata_cpm_pc_cell_type_profiles_n_sim_9_profiles.csv', '/space/grp/aadrian/Pseudobulk_Function_Pipeline_HighRes/bin/bulkSimulationOneProfile/data/simulations/0.065/pbmc_sc_with_metadata_cpm_pc_cell_type_profiles.csv/pbmc_sc_with_metadata_cpm_pc_cell_type_profiles_n_sim_8_profiles.csv', '/space/grp/aadrian/Pseudobulk_Function_Pipeline_HighRes/bin/bulkSimulationOneProfile/data/simulations/0.065/pbmc_sc_with_metadata_cpm_pc_cell_type_profiles.csv/pbmc_sc_with_metadata_cpm_pc_cell_type_profiles_n_sim_55_profiles.csv', '/space/grp/aadrian/Pseudobulk_Function_Pipeline_HighRes/bin/bulkSimulationOneProfile/data/simulations/0.065/pbmc_sc_with_metadata_cpm_pc_cell_type_profiles.csv/pbmc_sc_with_metadata_cpm_pc_cell_type_profiles_n_sim_88_profiles.csv', '/space/grp/aadrian/Pseudobulk_Function_Pipeline_HighRes/bin/bulkSimulationOneProfile/data/simulations/0.065/pbmc_sc_with_metadata_cpm_pc_cell_type_profiles.csv/pbmc_sc_with_metadata_cpm_pc_cell_type_profiles_n_sim_57_profiles.csv', '/space/grp/aadrian/Pseudobulk_Function_Pipeline_HighRes/bin/bulkSimulationOneProfile/data/simulations/0.065/pbmc_sc_with_metadata_cpm_pc_cell_type_profiles.csv/pbmc_sc_with_metadata_cpm_pc_cell_type_profiles_n_sim_56_profiles.csv', '/space/grp/aadrian/Pseudobulk_Function_Pipeline_HighRes/bin/bulkSimulationOneProfile/data/simulations/0.065/pbmc_sc_with_metadata_cpm_pc_cell_type_profiles.csv/pbmc_sc_with_metadata_cpm_pc_cell_type_profiles_n_sim_89_profiles.csv', '/space/grp/aadrian/Pseudobulk_Function_Pipeline_HighRes/bin/bulkSimulationOneProfile/data/simulations/0.065/pbmc_sc_with_metadata_cpm_pc_cell_type_profiles.csv/pbmc_sc_with_metadata_cpm_pc_cell_type_profiles_n_sim_53_profiles.csv', '/space/grp/aadrian/Pseudobulk_Function_Pipeline_HighRes/bin/bulkSimulationOneProfile/data/simulations/0.065/pbmc_sc_with_metadata_cpm_pc_cell_type_profiles.csv/pbmc_sc_with_metadata_cpm_pc_cell_type_profiles_n_sim_79_profiles.csv', '/space/grp/aadrian/Pseudobulk_Function_Pipeline_HighRes/bin/bulkSimulationOneProfile/data/simulations/0.065/pbmc_sc_with_metadata_cpm_pc_cell_type_profiles.csv/pbmc_sc_with_metadata_cpm_pc_cell_type_profiles_n_sim_78_profiles.csv', '/space/grp/aadrian/Pseudobulk_Function_Pipeline_HighRes/bin/bulkSimulationOneProfile/data/simulations/0.065/pbmc_sc_with_metadata_cpm_pc_cell_type_profiles.csv/pbmc_sc_with_metadata_cpm_pc_cell_type_profiles_n_sim_52_profiles.csv', '/space/grp/aadrian/Pseudobulk_Function_Pipeline_HighRes/bin/bulkSimulationOneProfile/data/simulations/0.065/pbmc_sc_with_metadata_cpm_pc_cell_type_profiles.csv/pbmc_sc_with_metadata_cpm_pc_cell_type_profiles_n_sim_29_profiles.csv', '/space/grp/aadrian/Pseudobulk_Function_Pipeline_HighRes/bin/bulkSimulationOneProfile/data/simulations/0.065/pbmc_sc_with_metadata_cpm_pc_cell_type_profiles.csv/pbmc_sc_with_metadata_cpm_pc_cell_type_profiles_n_sim_50_profiles.csv', '/space/grp/aadrian/Pseudobulk_Function_Pipeline_HighRes/bin/bulkSimulationOneProfile/data/simulations/0.065/pbmc_sc_with_metadata_cpm_pc_cell_type_profiles.csv/pbmc_sc_with_metadata_cpm_pc_cell_type_profiles_n_sim_51_profiles.csv', '/space/grp/aadrian/Pseudobulk_Function_Pipeline_HighRes/bin/bulkSimulationOneProfile/data/simulations/0.065/pbmc_sc_with_metadata_cpm_pc_cell_type_profiles.csv/pbmc_sc_with_metadata_cpm_pc_cell_type_profiles_n_sim_28_profiles.csv', '/space/grp/aadrian/Pseudobulk_Function_Pipeline_HighRes/bin/bulkSimulationOneProfile/data/simulations/0.065/pbmc_sc_with_metadata_cpm_pc_cell_type_profiles.csv/pbmc_sc_with_metadata_cpm_pc_cell_type_profiles_n_sim_39_profiles.csv', '/space/grp/aadrian/Pseudobulk_Function_Pipeline_HighRes/bin/bulkSimulationOneProfile/data/simulations/0.065/pbmc_sc_with_metadata_cpm_pc_cell_type_profiles.csv/pbmc_sc_with_metadata_cpm_pc_cell_type_profiles_n_sim_40_profiles.csv', '/space/grp/aadrian/Pseudobulk_Function_Pipeline_HighRes/bin/bulkSimulationOneProfile/data/simulations/0.065/pbmc_sc_with_metadata_cpm_pc_cell_type_profiles.csv/pbmc_sc_with_metadata_cpm_pc_cell_type_profiles_n_sim_13_profiles.csv', '/space/grp/aadrian/Pseudobulk_Function_Pipeline_HighRes/bin/bulkSimulationOneProfile/data/simulations/0.065/pbmc_sc_with_metadata_cpm_pc_cell_type_profiles.csv/pbmc_sc_with_metadata_cpm_pc_cell_type_profiles_n_sim_41_profiles.csv', '/space/grp/aadrian/Pseudobulk_Function_Pipeline_HighRes/bin/bulkSimulationOneProfile/data/simulations/0.065/pbmc_sc_with_metadata_cpm_pc_cell_type_profiles.csv/pbmc_sc_with_metadata_cpm_pc_cell_type_profiles_n_sim_12_profiles.csv', '/space/grp/aadrian/Pseudobulk_Function_Pipeline_HighRes/bin/bulkSimulationOneProfile/data/simulations/0.065/pbmc_sc_with_metadata_cpm_pc_cell_type_profiles.csv/pbmc_sc_with_metadata_cpm_pc_cell_type_profiles_n_sim_38_profiles.csv', '/space/grp/aadrian/Pseudobulk_Function_Pipeline_HighRes/bin/bulkSimulationOneProfile/data/simulations/0.065/pbmc_sc_with_metadata_cpm_pc_cell_type_profiles.csv/pbmc_sc_with_metadata_cpm_pc_cell_type_profiles_n_sim_10_profiles.csv', '/space/grp/aadrian/Pseudobulk_Function_Pipeline_HighRes/bin/bulkSimulationOneProfile/data/simulations/0.065/pbmc_sc_with_metadata_cpm_pc_cell_type_profiles.csv/pbmc_sc_with_metadata_cpm_pc_cell_type_profiles_n_sim_43_profiles.csv', '/space/grp/aadrian/Pseudobulk_Function_Pipeline_HighRes/bin/bulkSimulationOneProfile/data/simulations/0.065/pbmc_sc_with_metadata_cpm_pc_cell_type_profiles.csv/pbmc_sc_with_metadata_cpm_pc_cell_type_profiles_n_sim_69_profiles.csv', '/space/grp/aadrian/Pseudobulk_Function_Pipeline_HighRes/bin/bulkSimulationOneProfile/data/simulations/0.065/pbmc_sc_with_metadata_cpm_pc_cell_type_profiles.csv/pbmc_sc_with_metadata_cpm_pc_cell_type_profiles_n_sim_68_profiles.csv', '/space/grp/aadrian/Pseudobulk_Function_Pipeline_HighRes/bin/bulkSimulationOneProfile/data/simulations/0.065/pbmc_sc_with_metadata_cpm_pc_cell_type_profiles.csv/pbmc_sc_with_metadata_cpm_pc_cell_type_profiles_n_sim_11_profiles.csv', '/space/grp/aadrian/Pseudobulk_Function_Pipeline_HighRes/bin/bulkSimulationOneProfile/data/simulations/0.065/pbmc_sc_with_metadata_cpm_pc_cell_type_profiles.csv/pbmc_sc_with_metadata_cpm_pc_cell_type_profiles_n_sim_42_profiles.csv', '/space/grp/aadrian/Pseudobulk_Function_Pipeline_HighRes/bin/bulkSimulationOneProfile/data/simulations/0.065/pbmc_sc_with_metadata_cpm_pc_cell_type_profiles.csv/pbmc_sc_with_metadata_cpm_pc_cell_type_profiles_n_sim_98_profiles.csv', '/space/grp/aadrian/Pseudobulk_Function_Pipeline_HighRes/bin/bulkSimulationOneProfile/data/simulations/0.065/pbmc_sc_with_metadata_cpm_pc_cell_type_profiles.csv/pbmc_sc_with_metadata_cpm_pc_cell_type_profiles_n_sim_47_profiles.csv', '/space/grp/aadrian/Pseudobulk_Function_Pipeline_HighRes/bin/bulkSimulationOneProfile/data/simulations/0.065/pbmc_sc_with_metadata_cpm_pc_cell_type_profiles.csv/pbmc_sc_with_metadata_cpm_pc_cell_type_profiles_n_sim_14_profiles.csv', '/space/grp/aadrian/Pseudobulk_Function_Pipeline_HighRes/bin/bulkSimulationOneProfile/data/simulations/0.065/pbmc_sc_with_metadata_cpm_pc_cell_type_profiles.csv/pbmc_sc_with_metadata_cpm_pc_cell_type_profiles_n_sim_46_profiles.csv', '/space/grp/aadrian/Pseudobulk_Function_Pipeline_HighRes/bin/bulkSimulationOneProfile/data/simulations/0.065/pbmc_sc_with_metadata_cpm_pc_cell_type_profiles.csv/pbmc_sc_with_metadata_cpm_pc_cell_type_profiles_n_sim_99_profiles.csv', '/space/grp/aadrian/Pseudobulk_Function_Pipeline_HighRes/bin/bulkSimulationOneProfile/data/simulations/0.065/pbmc_sc_with_metadata_cpm_pc_cell_type_profiles.csv/pbmc_sc_with_metadata_cpm_pc_cell_type_profiles_n_sim_15_profiles.csv', '/space/grp/aadrian/Pseudobulk_Function_Pipeline_HighRes/bin/bulkSimulationOneProfile/data/simulations/0.065/pbmc_sc_with_metadata_cpm_pc_cell_type_profiles.csv/pbmc_sc_with_metadata_cpm_pc_cell_type_profiles_n_sim_17_profiles.csv', '/space/grp/aadrian/Pseudobulk_Function_Pipeline_HighRes/bin/bulkSimulationOneProfile/data/simulations/0.065/pbmc_sc_with_metadata_cpm_pc_cell_type_profiles.csv/pbmc_sc_with_metadata_cpm_pc_cell_type_profiles_n_sim_44_profiles.csv', '/space/grp/aadrian/Pseudobulk_Function_Pipeline_HighRes/bin/bulkSimulationOneProfile/data/simulations/0.065/pbmc_sc_with_metadata_cpm_pc_cell_type_profiles.csv/pbmc_sc_with_metadata_cpm_pc_cell_type_profiles_n_sim_16_profiles.csv', '/space/grp/aadrian/Pseudobulk_Function_Pipeline_HighRes/bin/bulkSimulationOneProfile/data/simulations/0.065/pbmc_sc_with_metadata_cpm_pc_cell_type_profiles.csv/pbmc_sc_with_metadata_cpm_pc_cell_type_profiles_n_sim_45_profiles.csv', '/space/grp/aadrian/Pseudobulk_Function_Pipeline_HighRes/bin/bulkSimulationOneProfile/data/simulations/0.065/pbmc_sc_with_metadata_cpm_pc_cell_type_profiles.csv/pbmc_sc_with_metadata_cpm_pc_cell_type_profiles_n_sim_64_profiles.csv', '/space/grp/aadrian/Pseudobulk_Function_Pipeline_HighRes/bin/bulkSimulationOneProfile/data/simulations/0.065/pbmc_sc_with_metadata_cpm_pc_cell_type_profiles.csv/pbmc_sc_with_metadata_cpm_pc_cell_type_profiles_n_sim_37_profiles.csv', '/space/grp/aadrian/Pseudobulk_Function_Pipeline_HighRes/bin/bulkSimulationOneProfile/data/simulations/0.065/pbmc_sc_with_metadata_cpm_pc_cell_type_profiles.csv/pbmc_sc_with_metadata_cpm_pc_cell_type_profiles_n_sim_91_profiles.csv', '/space/grp/aadrian/Pseudobulk_Function_Pipeline_HighRes/bin/bulkSimulationOneProfile/data/simulations/0.065/pbmc_sc_with_metadata_cpm_pc_cell_type_profiles.csv/pbmc_sc_with_metadata_cpm_pc_cell_type_profiles_n_sim_90_profiles.csv', '/space/grp/aadrian/Pseudobulk_Function_Pipeline_HighRes/bin/bulkSimulationOneProfile/data/simulations/0.065/pbmc_sc_with_metadata_cpm_pc_cell_type_profiles.csv/pbmc_sc_with_metadata_cpm_pc_cell_type_profiles_n_sim_65_profiles.csv', '/space/grp/aadrian/Pseudobulk_Function_Pipeline_HighRes/bin/bulkSimulationOneProfile/data/simulations/0.065/pbmc_sc_with_metadata_cpm_pc_cell_type_profiles.csv/pbmc_sc_with_metadata_cpm_pc_cell_type_profiles_n_sim_36_profiles.csv', '/space/grp/aadrian/Pseudobulk_Function_Pipeline_HighRes/bin/bulkSimulationOneProfile/data/simulations/0.065/pbmc_sc_with_metadata_cpm_pc_cell_type_profiles.csv/pbmc_sc_with_metadata_cpm_pc_cell_type_profiles_n_sim_92_profiles.csv', '/space/grp/aadrian/Pseudobulk_Function_Pipeline_HighRes/bin/bulkSimulationOneProfile/data/simulations/0.065/pbmc_sc_with_metadata_cpm_pc_cell_type_profiles.csv/pbmc_sc_with_metadata_cpm_pc_cell_type_profiles_n_sim_34_profiles.csv', '/space/grp/aadrian/Pseudobulk_Function_Pipeline_HighRes/bin/bulkSimulationOneProfile/data/simulations/0.065/pbmc_sc_with_metadata_cpm_pc_cell_type_profiles.csv/pbmc_sc_with_metadata_cpm_pc_cell_type_profiles_n_sim_67_profiles.csv', '/space/grp/aadrian/Pseudobulk_Function_Pipeline_HighRes/bin/bulkSimulationOneProfile/data/simulations/0.065/pbmc_sc_with_metadata_cpm_pc_cell_type_profiles.csv/pbmc_sc_with_metadata_cpm_pc_cell_type_profiles_n_sim_35_profiles.csv', '/space/grp/aadrian/Pseudobulk_Function_Pipeline_HighRes/bin/bulkSimulationOneProfile/data/simulations/0.065/pbmc_sc_with_metadata_cpm_pc_cell_type_profiles.csv/pbmc_sc_with_metadata_cpm_pc_cell_type_profiles_n_sim_66_profiles.csv', '/space/grp/aadrian/Pseudobulk_Function_Pipeline_HighRes/bin/bulkSimulationOneProfile/data/simulations/0.065/pbmc_sc_with_metadata_cpm_pc_cell_type_profiles.csv/pbmc_sc_with_metadata_cpm_pc_cell_type_profiles_n_sim_93_profiles.csv', '/space/grp/aadrian/Pseudobulk_Function_Pipeline_HighRes/bin/bulkSimulationOneProfile/data/simulations/0.065/pbmc_sc_with_metadata_cpm_pc_cell_type_profiles.csv/pbmc_sc_with_metadata_cpm_pc_cell_type_profiles_n_sim_63_profiles.csv', '/space/grp/aadrian/Pseudobulk_Function_Pipeline_HighRes/bin/bulkSimulationOneProfile/data/simulations/0.065/pbmc_sc_with_metadata_cpm_pc_cell_type_profiles.csv/pbmc_sc_with_metadata_cpm_pc_cell_type_profiles_n_sim_30_profiles.csv', '/space/grp/aadrian/Pseudobulk_Function_Pipeline_HighRes/bin/bulkSimulationOneProfile/data/simulations/0.065/pbmc_sc_with_metadata_cpm_pc_cell_type_profiles.csv/pbmc_sc_with_metadata_cpm_pc_cell_type_profiles_n_sim_96_profiles.csv', '/space/grp/aadrian/Pseudobulk_Function_Pipeline_HighRes/bin/bulkSimulationOneProfile/data/simulations/0.065/pbmc_sc_with_metadata_cpm_pc_cell_type_profiles.csv/pbmc_sc_with_metadata_cpm_pc_cell_type_profiles_n_sim_49_profiles.csv', '/space/grp/aadrian/Pseudobulk_Function_Pipeline_HighRes/bin/bulkSimulationOneProfile/data/simulations/0.065/pbmc_sc_with_metadata_cpm_pc_cell_type_profiles.csv/pbmc_sc_with_metadata_cpm_pc_cell_type_profiles_n_sim_48_profiles.csv', '/space/grp/aadrian/Pseudobulk_Function_Pipeline_HighRes/bin/bulkSimulationOneProfile/data/simulations/0.065/pbmc_sc_with_metadata_cpm_pc_cell_type_profiles.csv/pbmc_sc_with_metadata_cpm_pc_cell_type_profiles_n_sim_97_profiles.csv', '/space/grp/aadrian/Pseudobulk_Function_Pipeline_HighRes/bin/bulkSimulationOneProfile/data/simulations/0.065/pbmc_sc_with_metadata_cpm_pc_cell_type_profiles.csv/pbmc_sc_with_metadata_cpm_pc_cell_type_profiles_n_sim_62_profiles.csv', '/space/grp/aadrian/Pseudobulk_Function_Pipeline_HighRes/bin/bulkSimulationOneProfile/data/simulations/0.065/pbmc_sc_with_metadata_cpm_pc_cell_type_profiles.csv/pbmc_sc_with_metadata_cpm_pc_cell_type_profiles_n_sim_31_profiles.csv', '/space/grp/aadrian/Pseudobulk_Function_Pipeline_HighRes/bin/bulkSimulationOneProfile/data/simulations/0.065/pbmc_sc_with_metadata_cpm_pc_cell_type_profiles.csv/pbmc_sc_with_metadata_cpm_pc_cell_type_profiles_n_sim_95_profiles.csv', '/space/grp/aadrian/Pseudobulk_Function_Pipeline_HighRes/bin/bulkSimulationOneProfile/data/simulations/0.065/pbmc_sc_with_metadata_cpm_pc_cell_type_profiles.csv/pbmc_sc_with_metadata_cpm_pc_cell_type_profiles_n_sim_19_profiles.csv', '/space/grp/aadrian/Pseudobulk_Function_Pipeline_HighRes/bin/bulkSimulationOneProfile/data/simulations/0.065/pbmc_sc_with_metadata_cpm_pc_cell_type_profiles.csv/pbmc_sc_with_metadata_cpm_pc_cell_type_profiles_n_sim_33_profiles.csv', '/space/grp/aadrian/Pseudobulk_Function_Pipeline_HighRes/bin/bulkSimulationOneProfile/data/simulations/0.065/pbmc_sc_with_metadata_cpm_pc_cell_type_profiles.csv/pbmc_sc_with_metadata_cpm_pc_cell_type_profiles_n_sim_60_profiles.csv', '/space/grp/aadrian/Pseudobulk_Function_Pipeline_HighRes/bin/bulkSimulationOneProfile/data/simulations/0.065/pbmc_sc_with_metadata_cpm_pc_cell_type_profiles.csv/pbmc_sc_with_metadata_cpm_pc_cell_type_profiles_n_sim_32_profiles.csv', '/space/grp/aadrian/Pseudobulk_Function_Pipeline_HighRes/bin/bulkSimulationOneProfile/data/simulations/0.065/pbmc_sc_with_metadata_cpm_pc_cell_type_profiles.csv/pbmc_sc_with_metadata_cpm_pc_cell_type_profiles_n_sim_61_profiles.csv', '/space/grp/aadrian/Pseudobulk_Function_Pipeline_HighRes/bin/bulkSimulationOneProfile/data/simulations/0.065/pbmc_sc_with_metadata_cpm_pc_cell_type_profiles.csv/pbmc_sc_with_metadata_cpm_pc_cell_type_profiles_n_sim_94_profiles.csv', '/space/grp/aadrian/Pseudobulk_Function_Pipeline_HighRes/bin/bulkSimulationOneProfile/data/simulations/0.065/pbmc_sc_with_metadata_cpm_pc_cell_type_profiles.csv/pbmc_sc_with_metadata_cpm_pc_cell_type_profiles_n_sim_18_profiles.csv'], ['/space/grp/aadrian/Pseudobulk_Function_Pipeline_HighRes/bin/bulkSimulationOneProfile/data/simulations/0/pbmc_sc_with_metadata_cpm_pc_cell_type_profiles.csv/pbmc_sc_with_metadata_cpm_pc_cell_type_profiles_n_sim_67_profiles.csv', '/space/grp/aadrian/Pseudobulk_Function_Pipeline_HighRes/bin/bulkSimulationOneProfile/data/simulations/0/pbmc_sc_with_metadata_cpm_pc_cell_type_profiles.csv/pbmc_sc_with_metadata_cpm_pc_cell_type_profiles_n_sim_34_profiles.csv', '/space/grp/aadrian/Pseudobulk_Function_Pipeline_HighRes/bin/bulkSimulationOneProfile/data/simulations/0/pbmc_sc_with_metadata_cpm_pc_cell_type_profiles.csv/pbmc_sc_with_metadata_cpm_pc_cell_type_profiles_n_sim_92_profiles.csv', '/space/grp/aadrian/Pseudobulk_Function_Pipeline_HighRes/bin/bulkSimulationOneProfile/data/simulations/0/pbmc_sc_with_metadata_cpm_pc_cell_type_profiles.csv/pbmc_sc_with_metadata_cpm_pc_cell_type_profiles_n_sim_93_profiles.csv', '/space/grp/aadrian/Pseudobulk_Function_Pipeline_HighRes/bin/bulkSimulationOneProfile/data/simulations/0/pbmc_sc_with_metadata_cpm_pc_cell_type_profiles.csv/pbmc_sc_with_metadata_cpm_pc_cell_type_profiles_n_sim_66_profiles.csv', '/space/grp/aadrian/Pseudobulk_Function_Pipeline_HighRes/bin/bulkSimulationOneProfile/data/simulations/0/pbmc_sc_with_metadata_cpm_pc_cell_type_profiles.csv/pbmc_sc_with_metadata_cpm_pc_cell_type_profiles_n_sim_35_profiles.csv', '/space/grp/aadrian/Pseudobulk_Function_Pipeline_HighRes/bin/bulkSimulationOneProfile/data/simulations/0/pbmc_sc_with_metadata_cpm_pc_cell_type_profiles.csv/pbmc_sc_with_metadata_cpm_pc_cell_type_profiles_n_sim_91_profiles.csv', '/space/grp/aadrian/Pseudobulk_Function_Pipeline_HighRes/bin/bulkSimulationOneProfile/data/simulations/0/pbmc_sc_with_metadata_cpm_pc_cell_type_profiles.csv/pbmc_sc_with_metadata_cpm_pc_cell_type_profiles_n_sim_37_profiles.csv', '/space/grp/aadrian/Pseudobulk_Function_Pipeline_HighRes/bin/bulkSimulationOneProfile/data/simulations/0/pbmc_sc_with_metadata_cpm_pc_cell_type_profiles.csv/pbmc_sc_with_metadata_cpm_pc_cell_type_profiles_n_sim_64_profiles.csv', '/space/grp/aadrian/Pseudobulk_Function_Pipeline_HighRes/bin/bulkSimulationOneProfile/data/simulations/0/pbmc_sc_with_metadata_cpm_pc_cell_type_profiles.csv/pbmc_sc_with_metadata_cpm_pc_cell_type_profiles_n_sim_36_profiles.csv', '/space/grp/aadrian/Pseudobulk_Function_Pipeline_HighRes/bin/bulkSimulationOneProfile/data/simulations/0/pbmc_sc_with_metadata_cpm_pc_cell_type_profiles.csv/pbmc_sc_with_metadata_cpm_pc_cell_type_profiles_n_sim_65_profiles.csv', '/space/grp/aadrian/Pseudobulk_Function_Pipeline_HighRes/bin/bulkSimulationOneProfile/data/simulations/0/pbmc_sc_with_metadata_cpm_pc_cell_type_profiles.csv/pbmc_sc_with_metadata_cpm_pc_cell_type_profiles_n_sim_90_profiles.csv', '/space/grp/aadrian/Pseudobulk_Function_Pipeline_HighRes/bin/bulkSimulationOneProfile/data/simulations/0/pbmc_sc_with_metadata_cpm_pc_cell_type_profiles.csv/pbmc_sc_with_metadata_cpm_pc_cell_type_profiles_n_sim_60_profiles.csv', '/space/grp/aadrian/Pseudobulk_Function_Pipeline_HighRes/bin/bulkSimulationOneProfile/data/simulations/0/pbmc_sc_with_metadata_cpm_pc_cell_type_profiles.csv/pbmc_sc_with_metadata_cpm_pc_cell_type_profiles_n_sim_33_profiles.csv', '/space/grp/aadrian/Pseudobulk_Function_Pipeline_HighRes/bin/bulkSimulationOneProfile/data/simulations/0/pbmc_sc_with_metadata_cpm_pc_cell_type_profiles.csv/pbmc_sc_with_metadata_cpm_pc_cell_type_profiles_n_sim_19_profiles.csv', '/space/grp/aadrian/Pseudobulk_Function_Pipeline_HighRes/bin/bulkSimulationOneProfile/data/simulations/0/pbmc_sc_with_metadata_cpm_pc_cell_type_profiles.csv/pbmc_sc_with_metadata_cpm_pc_cell_type_profiles_n_sim_95_profiles.csv', '/space/grp/aadrian/Pseudobulk_Function_Pipeline_HighRes/bin/bulkSimulationOneProfile/data/simulations/0/pbmc_sc_with_metadata_cpm_pc_cell_type_profiles.csv/pbmc_sc_with_metadata_cpm_pc_cell_type_profiles_n_sim_18_profiles.csv', '/space/grp/aadrian/Pseudobulk_Function_Pipeline_HighRes/bin/bulkSimulationOneProfile/data/simulations/0/pbmc_sc_with_metadata_cpm_pc_cell_type_profiles.csv/pbmc_sc_with_metadata_cpm_pc_cell_type_profiles_n_sim_94_profiles.csv', '/space/grp/aadrian/Pseudobulk_Function_Pipeline_HighRes/bin/bulkSimulationOneProfile/data/simulations/0/pbmc_sc_with_metadata_cpm_pc_cell_type_profiles.csv/pbmc_sc_with_metadata_cpm_pc_cell_type_profiles_n_sim_61_profiles.csv', '/space/grp/aadrian/Pseudobulk_Function_Pipeline_HighRes/bin/bulkSimulationOneProfile/data/simulations/0/pbmc_sc_with_metadata_cpm_pc_cell_type_profiles.csv/pbmc_sc_with_metadata_cpm_pc_cell_type_profiles_n_sim_32_profiles.csv', '/space/grp/aadrian/Pseudobulk_Function_Pipeline_HighRes/bin/bulkSimulationOneProfile/data/simulations/0/pbmc_sc_with_metadata_cpm_pc_cell_type_profiles.csv/pbmc_sc_with_metadata_cpm_pc_cell_type_profiles_n_sim_49_profiles.csv', '/space/grp/aadrian/Pseudobulk_Function_Pipeline_HighRes/bin/bulkSimulationOneProfile/data/simulations/0/pbmc_sc_with_metadata_cpm_pc_cell_type_profiles.csv/pbmc_sc_with_metadata_cpm_pc_cell_type_profiles_n_sim_96_profiles.csv', '/space/grp/aadrian/Pseudobulk_Function_Pipeline_HighRes/bin/bulkSimulationOneProfile/data/simulations/0/pbmc_sc_with_metadata_cpm_pc_cell_type_profiles.csv/pbmc_sc_with_metadata_cpm_pc_cell_type_profiles_n_sim_30_profiles.csv', '/space/grp/aadrian/Pseudobulk_Function_Pipeline_HighRes/bin/bulkSimulationOneProfile/data/simulations/0/pbmc_sc_with_metadata_cpm_pc_cell_type_profiles.csv/pbmc_sc_with_metadata_cpm_pc_cell_type_profiles_n_sim_63_profiles.csv', '/space/grp/aadrian/Pseudobulk_Function_Pipeline_HighRes/bin/bulkSimulationOneProfile/data/simulations/0/pbmc_sc_with_metadata_cpm_pc_cell_type_profiles.csv/pbmc_sc_with_metadata_cpm_pc_cell_type_profiles_n_sim_31_profiles.csv', '/space/grp/aadrian/Pseudobulk_Function_Pipeline_HighRes/bin/bulkSimulationOneProfile/data/simulations/0/pbmc_sc_with_metadata_cpm_pc_cell_type_profiles.csv/pbmc_sc_with_metadata_cpm_pc_cell_type_profiles_n_sim_62_profiles.csv', '/space/grp/aadrian/Pseudobulk_Function_Pipeline_HighRes/bin/bulkSimulationOneProfile/data/simulations/0/pbmc_sc_with_metadata_cpm_pc_cell_type_profiles.csv/pbmc_sc_with_metadata_cpm_pc_cell_type_profiles_n_sim_97_profiles.csv', '/space/grp/aadrian/Pseudobulk_Function_Pipeline_HighRes/bin/bulkSimulationOneProfile/data/simulations/0/pbmc_sc_with_metadata_cpm_pc_cell_type_profiles.csv/pbmc_sc_with_metadata_cpm_pc_cell_type_profiles_n_sim_48_profiles.csv', '/space/grp/aadrian/Pseudobulk_Function_Pipeline_HighRes/bin/bulkSimulationOneProfile/data/simulations/0/pbmc_sc_with_metadata_cpm_pc_cell_type_profiles.csv/pbmc_sc_with_metadata_cpm_pc_cell_type_profiles_n_sim_69_profiles.csv', '/space/grp/aadrian/Pseudobulk_Function_Pipeline_HighRes/bin/bulkSimulationOneProfile/data/simulations/0/pbmc_sc_with_metadata_cpm_pc_cell_type_profiles.csv/pbmc_sc_with_metadata_cpm_pc_cell_type_profiles_n_sim_43_profiles.csv', '/space/grp/aadrian/Pseudobulk_Function_Pipeline_HighRes/bin/bulkSimulationOneProfile/data/simulations/0/pbmc_sc_with_metadata_cpm_pc_cell_type_profiles.csv/pbmc_sc_with_metadata_cpm_pc_cell_type_profiles_n_sim_10_profiles.csv', '/space/grp/aadrian/Pseudobulk_Function_Pipeline_HighRes/bin/bulkSimulationOneProfile/data/simulations/0/pbmc_sc_with_metadata_cpm_pc_cell_type_profiles.csv/pbmc_sc_with_metadata_cpm_pc_cell_type_profiles_n_sim_42_profiles.csv', '/space/grp/aadrian/Pseudobulk_Function_Pipeline_HighRes/bin/bulkSimulationOneProfile/data/simulations/0/pbmc_sc_with_metadata_cpm_pc_cell_type_profiles.csv/pbmc_sc_with_metadata_cpm_pc_cell_type_profiles_n_sim_11_profiles.csv', '/space/grp/aadrian/Pseudobulk_Function_Pipeline_HighRes/bin/bulkSimulationOneProfile/data/simulations/0/pbmc_sc_with_metadata_cpm_pc_cell_type_profiles.csv/pbmc_sc_with_metadata_cpm_pc_cell_type_profiles_n_sim_68_profiles.csv', '/space/grp/aadrian/Pseudobulk_Function_Pipeline_HighRes/bin/bulkSimulationOneProfile/data/simulations/0/pbmc_sc_with_metadata_cpm_pc_cell_type_profiles.csv/pbmc_sc_with_metadata_cpm_pc_cell_type_profiles_n_sim_13_profiles.csv', '/space/grp/aadrian/Pseudobulk_Function_Pipeline_HighRes/bin/bulkSimulationOneProfile/data/simulations/0/pbmc_sc_with_metadata_cpm_pc_cell_type_profiles.csv/pbmc_sc_with_metadata_cpm_pc_cell_type_profiles_n_sim_40_profiles.csv', '/space/grp/aadrian/Pseudobulk_Function_Pipeline_HighRes/bin/bulkSimulationOneProfile/data/simulations/0/pbmc_sc_with_metadata_cpm_pc_cell_type_profiles.csv/pbmc_sc_with_metadata_cpm_pc_cell_type_profiles_n_sim_39_profiles.csv', '/space/grp/aadrian/Pseudobulk_Function_Pipeline_HighRes/bin/bulkSimulationOneProfile/data/simulations/0/pbmc_sc_with_metadata_cpm_pc_cell_type_profiles.csv/pbmc_sc_with_metadata_cpm_pc_cell_type_profiles_n_sim_38_profiles.csv', '/space/grp/aadrian/Pseudobulk_Function_Pipeline_HighRes/bin/bulkSimulationOneProfile/data/simulations/0/pbmc_sc_with_metadata_cpm_pc_cell_type_profiles.csv/pbmc_sc_with_metadata_cpm_pc_cell_type_profiles_n_sim_12_profiles.csv', '/space/grp/aadrian/Pseudobulk_Function_Pipeline_HighRes/bin/bulkSimulationOneProfile/data/simulations/0/pbmc_sc_with_metadata_cpm_pc_cell_type_profiles.csv/pbmc_sc_with_metadata_cpm_pc_cell_type_profiles_n_sim_41_profiles.csv', '/space/grp/aadrian/Pseudobulk_Function_Pipeline_HighRes/bin/bulkSimulationOneProfile/data/simulations/0/pbmc_sc_with_metadata_cpm_pc_cell_type_profiles.csv/pbmc_sc_with_metadata_cpm_pc_cell_type_profiles_n_sim_44_profiles.csv', '/space/grp/aadrian/Pseudobulk_Function_Pipeline_HighRes/bin/bulkSimulationOneProfile/data/simulations/0/pbmc_sc_with_metadata_cpm_pc_cell_type_profiles.csv/pbmc_sc_with_metadata_cpm_pc_cell_type_profiles_n_sim_17_profiles.csv', '/space/grp/aadrian/Pseudobulk_Function_Pipeline_HighRes/bin/bulkSimulationOneProfile/data/simulations/0/pbmc_sc_with_metadata_cpm_pc_cell_type_profiles.csv/pbmc_sc_with_metadata_cpm_pc_cell_type_profiles_n_sim_45_profiles.csv', '/space/grp/aadrian/Pseudobulk_Function_Pipeline_HighRes/bin/bulkSimulationOneProfile/data/simulations/0/pbmc_sc_with_metadata_cpm_pc_cell_type_profiles.csv/pbmc_sc_with_metadata_cpm_pc_cell_type_profiles_n_sim_16_profiles.csv', '/space/grp/aadrian/Pseudobulk_Function_Pipeline_HighRes/bin/bulkSimulationOneProfile/data/simulations/0/pbmc_sc_with_metadata_cpm_pc_cell_type_profiles.csv/pbmc_sc_with_metadata_cpm_pc_cell_type_profiles_n_sim_14_profiles.csv', '/space/grp/aadrian/Pseudobulk_Function_Pipeline_HighRes/bin/bulkSimulationOneProfile/data/simulations/0/pbmc_sc_with_metadata_cpm_pc_cell_type_profiles.csv/pbmc_sc_with_metadata_cpm_pc_cell_type_profiles_n_sim_47_profiles.csv', '/space/grp/aadrian/Pseudobulk_Function_Pipeline_HighRes/bin/bulkSimulationOneProfile/data/simulations/0/pbmc_sc_with_metadata_cpm_pc_cell_type_profiles.csv/pbmc_sc_with_metadata_cpm_pc_cell_type_profiles_n_sim_98_profiles.csv', '/space/grp/aadrian/Pseudobulk_Function_Pipeline_HighRes/bin/bulkSimulationOneProfile/data/simulations/0/pbmc_sc_with_metadata_cpm_pc_cell_type_profiles.csv/pbmc_sc_with_metadata_cpm_pc_cell_type_profiles_n_sim_15_profiles.csv', '/space/grp/aadrian/Pseudobulk_Function_Pipeline_HighRes/bin/bulkSimulationOneProfile/data/simulations/0/pbmc_sc_with_metadata_cpm_pc_cell_type_profiles.csv/pbmc_sc_with_metadata_cpm_pc_cell_type_profiles_n_sim_99_profiles.csv', '/space/grp/aadrian/Pseudobulk_Function_Pipeline_HighRes/bin/bulkSimulationOneProfile/data/simulations/0/pbmc_sc_with_metadata_cpm_pc_cell_type_profiles.csv/pbmc_sc_with_metadata_cpm_pc_cell_type_profiles_n_sim_46_profiles.csv', '/space/grp/aadrian/Pseudobulk_Function_Pipeline_HighRes/bin/bulkSimulationOneProfile/data/simulations/0/pbmc_sc_with_metadata_cpm_pc_cell_type_profiles.csv/pbmc_sc_with_metadata_cpm_pc_cell_type_profiles_n_sim_57_profiles.csv', '/space/grp/aadrian/Pseudobulk_Function_Pipeline_HighRes/bin/bulkSimulationOneProfile/data/simulations/0/pbmc_sc_with_metadata_cpm_pc_cell_type_profiles.csv/pbmc_sc_with_metadata_cpm_pc_cell_type_profiles_n_sim_0_profiles.csv', '/space/grp/aadrian/Pseudobulk_Function_Pipeline_HighRes/bin/bulkSimulationOneProfile/data/simulations/0/pbmc_sc_with_metadata_cpm_pc_cell_type_profiles.csv/pbmc_sc_with_metadata_cpm_pc_cell_type_profiles_n_sim_88_profiles.csv', '/space/grp/aadrian/Pseudobulk_Function_Pipeline_HighRes/bin/bulkSimulationOneProfile/data/simulations/0/pbmc_sc_with_metadata_cpm_pc_cell_type_profiles.csv/pbmc_sc_with_metadata_cpm_pc_cell_type_profiles_n_sim_89_profiles.csv', '/space/grp/aadrian/Pseudobulk_Function_Pipeline_HighRes/bin/bulkSimulationOneProfile/data/simulations/0/pbmc_sc_with_metadata_cpm_pc_cell_type_profiles.csv/pbmc_sc_with_metadata_cpm_pc_cell_type_profiles_n_sim_1_profiles.csv', '/space/grp/aadrian/Pseudobulk_Function_Pipeline_HighRes/bin/bulkSimulationOneProfile/data/simulations/0/pbmc_sc_with_metadata_cpm_pc_cell_type_profiles.csv/pbmc_sc_with_metadata_cpm_pc_cell_type_profiles_n_sim_56_profiles.csv', '/space/grp/aadrian/Pseudobulk_Function_Pipeline_HighRes/bin/bulkSimulationOneProfile/data/simulations/0/pbmc_sc_with_metadata_cpm_pc_cell_type_profiles.csv/pbmc_sc_with_metadata_cpm_pc_cell_type_profiles_n_sim_54_profiles.csv', '/space/grp/aadrian/Pseudobulk_Function_Pipeline_HighRes/bin/bulkSimulationOneProfile/data/simulations/0/pbmc_sc_with_metadata_cpm_pc_cell_type_profiles.csv/pbmc_sc_with_metadata_cpm_pc_cell_type_profiles_n_sim_3_profiles.csv', '/space/grp/aadrian/Pseudobulk_Function_Pipeline_HighRes/bin/bulkSimulationOneProfile/data/simulations/0/pbmc_sc_with_metadata_cpm_pc_cell_type_profiles.csv/pbmc_sc_with_metadata_cpm_pc_cell_type_profiles_n_sim_2_profiles.csv', '/space/grp/aadrian/Pseudobulk_Function_Pipeline_HighRes/bin/bulkSimulationOneProfile/data/simulations/0/pbmc_sc_with_metadata_cpm_pc_cell_type_profiles.csv/pbmc_sc_with_metadata_cpm_pc_cell_type_profiles_n_sim_55_profiles.csv', '/space/grp/aadrian/Pseudobulk_Function_Pipeline_HighRes/bin/bulkSimulationOneProfile/data/simulations/0/pbmc_sc_with_metadata_cpm_pc_cell_type_profiles.csv/pbmc_sc_with_metadata_cpm_pc_cell_type_profiles_n_sim_7_profiles.csv', '/space/grp/aadrian/Pseudobulk_Function_Pipeline_HighRes/bin/bulkSimulationOneProfile/data/simulations/0/pbmc_sc_with_metadata_cpm_pc_cell_type_profiles.csv/pbmc_sc_with_metadata_cpm_pc_cell_type_profiles_n_sim_50_profiles.csv', '/space/grp/aadrian/Pseudobulk_Function_Pipeline_HighRes/bin/bulkSimulationOneProfile/data/simulations/0/pbmc_sc_with_metadata_cpm_pc_cell_type_profiles.csv/pbmc_sc_with_metadata_cpm_pc_cell_type_profiles_n_sim_29_profiles.csv', '/space/grp/aadrian/Pseudobulk_Function_Pipeline_HighRes/bin/bulkSimulationOneProfile/data/simulations/0/pbmc_sc_with_metadata_cpm_pc_cell_type_profiles.csv/pbmc_sc_with_metadata_cpm_pc_cell_type_profiles_n_sim_28_profiles.csv', '/space/grp/aadrian/Pseudobulk_Function_Pipeline_HighRes/bin/bulkSimulationOneProfile/data/simulations/0/pbmc_sc_with_metadata_cpm_pc_cell_type_profiles.csv/pbmc_sc_with_metadata_cpm_pc_cell_type_profiles_n_sim_51_profiles.csv', '/space/grp/aadrian/Pseudobulk_Function_Pipeline_HighRes/bin/bulkSimulationOneProfile/data/simulations/0/pbmc_sc_with_metadata_cpm_pc_cell_type_profiles.csv/pbmc_sc_with_metadata_cpm_pc_cell_type_profiles_n_sim_6_profiles.csv', '/space/grp/aadrian/Pseudobulk_Function_Pipeline_HighRes/bin/bulkSimulationOneProfile/data/simulations/0/pbmc_sc_with_metadata_cpm_pc_cell_type_profiles.csv/pbmc_sc_with_metadata_cpm_pc_cell_type_profiles_n_sim_79_profiles.csv', '/space/grp/aadrian/Pseudobulk_Function_Pipeline_HighRes/bin/bulkSimulationOneProfile/data/simulations/0/pbmc_sc_with_metadata_cpm_pc_cell_type_profiles.csv/pbmc_sc_with_metadata_cpm_pc_cell_type_profiles_n_sim_4_profiles.csv', '/space/grp/aadrian/Pseudobulk_Function_Pipeline_HighRes/bin/bulkSimulationOneProfile/data/simulations/0/pbmc_sc_with_metadata_cpm_pc_cell_type_profiles.csv/pbmc_sc_with_metadata_cpm_pc_cell_type_profiles_n_sim_53_profiles.csv', '/space/grp/aadrian/Pseudobulk_Function_Pipeline_HighRes/bin/bulkSimulationOneProfile/data/simulations/0/pbmc_sc_with_metadata_cpm_pc_cell_type_profiles.csv/pbmc_sc_with_metadata_cpm_pc_cell_type_profiles_n_sim_52_profiles.csv', '/space/grp/aadrian/Pseudobulk_Function_Pipeline_HighRes/bin/bulkSimulationOneProfile/data/simulations/0/pbmc_sc_with_metadata_cpm_pc_cell_type_profiles.csv/pbmc_sc_with_metadata_cpm_pc_cell_type_profiles_n_sim_5_profiles.csv', '/space/grp/aadrian/Pseudobulk_Function_Pipeline_HighRes/bin/bulkSimulationOneProfile/data/simulations/0/pbmc_sc_with_metadata_cpm_pc_cell_type_profiles.csv/pbmc_sc_with_metadata_cpm_pc_cell_type_profiles_n_sim_78_profiles.csv', '/space/grp/aadrian/Pseudobulk_Function_Pipeline_HighRes/bin/bulkSimulationOneProfile/data/simulations/0/pbmc_sc_with_metadata_cpm_pc_cell_type_profiles.csv/pbmc_sc_with_metadata_cpm_pc_cell_type_profiles_n_sim_59_profiles.csv', '/space/grp/aadrian/Pseudobulk_Function_Pipeline_HighRes/bin/bulkSimulationOneProfile/data/simulations/0/pbmc_sc_with_metadata_cpm_pc_cell_type_profiles.csv/pbmc_sc_with_metadata_cpm_pc_cell_type_profiles_n_sim_86_profiles.csv', '/space/grp/aadrian/Pseudobulk_Function_Pipeline_HighRes/bin/bulkSimulationOneProfile/data/simulations/0/pbmc_sc_with_metadata_cpm_pc_cell_type_profiles.csv/pbmc_sc_with_metadata_cpm_pc_cell_type_profiles_n_sim_20_profiles.csv', '/space/grp/aadrian/Pseudobulk_Function_Pipeline_HighRes/bin/bulkSimulationOneProfile/data/simulations/0/pbmc_sc_with_metadata_cpm_pc_cell_type_profiles.csv/pbmc_sc_with_metadata_cpm_pc_cell_type_profiles_n_sim_73_profiles.csv', '/space/grp/aadrian/Pseudobulk_Function_Pipeline_HighRes/bin/bulkSimulationOneProfile/data/simulations/0/pbmc_sc_with_metadata_cpm_pc_cell_type_profiles.csv/pbmc_sc_with_metadata_cpm_pc_cell_type_profiles_n_sim_21_profiles.csv', '/space/grp/aadrian/Pseudobulk_Function_Pipeline_HighRes/bin/bulkSimulationOneProfile/data/simulations/0/pbmc_sc_with_metadata_cpm_pc_cell_type_profiles.csv/pbmc_sc_with_metadata_cpm_pc_cell_type_profiles_n_sim_72_profiles.csv', '/space/grp/aadrian/Pseudobulk_Function_Pipeline_HighRes/bin/bulkSimulationOneProfile/data/simulations/0/pbmc_sc_with_metadata_cpm_pc_cell_type_profiles.csv/pbmc_sc_with_metadata_cpm_pc_cell_type_profiles_n_sim_87_profiles.csv', '/space/grp/aadrian/Pseudobulk_Function_Pipeline_HighRes/bin/bulkSimulationOneProfile/data/simulations/0/pbmc_sc_with_metadata_cpm_pc_cell_type_profiles.csv/pbmc_sc_with_metadata_cpm_pc_cell_type_profiles_n_sim_58_profiles.csv', '/space/grp/aadrian/Pseudobulk_Function_Pipeline_HighRes/bin/bulkSimulationOneProfile/data/simulations/0/pbmc_sc_with_metadata_cpm_pc_cell_type_profiles.csv/pbmc_sc_with_metadata_cpm_pc_cell_type_profiles_n_sim_70_profiles.csv', '/space/grp/aadrian/Pseudobulk_Function_Pipeline_HighRes/bin/bulkSimulationOneProfile/data/simulations/0/pbmc_sc_with_metadata_cpm_pc_cell_type_profiles.csv/pbmc_sc_with_metadata_cpm_pc_cell_type_profiles_n_sim_23_profiles.csv', '/space/grp/aadrian/Pseudobulk_Function_Pipeline_HighRes/bin/bulkSimulationOneProfile/data/simulations/0/pbmc_sc_with_metadata_cpm_pc_cell_type_profiles.csv/pbmc_sc_with_metadata_cpm_pc_cell_type_profiles_n_sim_85_profiles.csv', '/space/grp/aadrian/Pseudobulk_Function_Pipeline_HighRes/bin/bulkSimulationOneProfile/data/simulations/0/pbmc_sc_with_metadata_cpm_pc_cell_type_profiles.csv/pbmc_sc_with_metadata_cpm_pc_cell_type_profiles_n_sim_84_profiles.csv', '/space/grp/aadrian/Pseudobulk_Function_Pipeline_HighRes/bin/bulkSimulationOneProfile/data/simulations/0/pbmc_sc_with_metadata_cpm_pc_cell_type_profiles.csv/pbmc_sc_with_metadata_cpm_pc_cell_type_profiles_n_sim_71_profiles.csv', '/space/grp/aadrian/Pseudobulk_Function_Pipeline_HighRes/bin/bulkSimulationOneProfile/data/simulations/0/pbmc_sc_with_metadata_cpm_pc_cell_type_profiles.csv/pbmc_sc_with_metadata_cpm_pc_cell_type_profiles_n_sim_22_profiles.csv', '/space/grp/aadrian/Pseudobulk_Function_Pipeline_HighRes/bin/bulkSimulationOneProfile/data/simulations/0/pbmc_sc_with_metadata_cpm_pc_cell_type_profiles.csv/pbmc_sc_with_metadata_cpm_pc_cell_type_profiles_n_sim_9_profiles.csv', '/space/grp/aadrian/Pseudobulk_Function_Pipeline_HighRes/bin/bulkSimulationOneProfile/data/simulations/0/pbmc_sc_with_metadata_cpm_pc_cell_type_profiles.csv/pbmc_sc_with_metadata_cpm_pc_cell_type_profiles_n_sim_81_profiles.csv', '/space/grp/aadrian/Pseudobulk_Function_Pipeline_HighRes/bin/bulkSimulationOneProfile/data/simulations/0/pbmc_sc_with_metadata_cpm_pc_cell_type_profiles.csv/pbmc_sc_with_metadata_cpm_pc_cell_type_profiles_n_sim_27_profiles.csv', '/space/grp/aadrian/Pseudobulk_Function_Pipeline_HighRes/bin/bulkSimulationOneProfile/data/simulations/0/pbmc_sc_with_metadata_cpm_pc_cell_type_profiles.csv/pbmc_sc_with_metadata_cpm_pc_cell_type_profiles_n_sim_74_profiles.csv', '/space/grp/aadrian/Pseudobulk_Function_Pipeline_HighRes/bin/bulkSimulationOneProfile/data/simulations/0/pbmc_sc_with_metadata_cpm_pc_cell_type_profiles.csv/pbmc_sc_with_metadata_cpm_pc_cell_type_profiles_n_sim_26_profiles.csv', '/space/grp/aadrian/Pseudobulk_Function_Pipeline_HighRes/bin/bulkSimulationOneProfile/data/simulations/0/pbmc_sc_with_metadata_cpm_pc_cell_type_profiles.csv/pbmc_sc_with_metadata_cpm_pc_cell_type_profiles_n_sim_75_profiles.csv', '/space/grp/aadrian/Pseudobulk_Function_Pipeline_HighRes/bin/bulkSimulationOneProfile/data/simulations/0/pbmc_sc_with_metadata_cpm_pc_cell_type_profiles.csv/pbmc_sc_with_metadata_cpm_pc_cell_type_profiles_n_sim_80_profiles.csv', '/space/grp/aadrian/Pseudobulk_Function_Pipeline_HighRes/bin/bulkSimulationOneProfile/data/simulations/0/pbmc_sc_with_metadata_cpm_pc_cell_type_profiles.csv/pbmc_sc_with_metadata_cpm_pc_cell_type_profiles_n_sim_8_profiles.csv', '/space/grp/aadrian/Pseudobulk_Function_Pipeline_HighRes/bin/bulkSimulationOneProfile/data/simulations/0/pbmc_sc_with_metadata_cpm_pc_cell_type_profiles.csv/pbmc_sc_with_metadata_cpm_pc_cell_type_profiles_n_sim_77_profiles.csv', '/space/grp/aadrian/Pseudobulk_Function_Pipeline_HighRes/bin/bulkSimulationOneProfile/data/simulations/0/pbmc_sc_with_metadata_cpm_pc_cell_type_profiles.csv/pbmc_sc_with_metadata_cpm_pc_cell_type_profiles_n_sim_24_profiles.csv', '/space/grp/aadrian/Pseudobulk_Function_Pipeline_HighRes/bin/bulkSimulationOneProfile/data/simulations/0/pbmc_sc_with_metadata_cpm_pc_cell_type_profiles.csv/pbmc_sc_with_metadata_cpm_pc_cell_type_profiles_n_sim_82_profiles.csv', '/space/grp/aadrian/Pseudobulk_Function_Pipeline_HighRes/bin/bulkSimulationOneProfile/data/simulations/0/pbmc_sc_with_metadata_cpm_pc_cell_type_profiles.csv/pbmc_sc_with_metadata_cpm_pc_cell_type_profiles_n_sim_83_profiles.csv', '/space/grp/aadrian/Pseudobulk_Function_Pipeline_HighRes/bin/bulkSimulationOneProfile/data/simulations/0/pbmc_sc_with_metadata_cpm_pc_cell_type_profiles.csv/pbmc_sc_with_metadata_cpm_pc_cell_type_profiles_n_sim_76_profiles.csv', '/space/grp/aadrian/Pseudobulk_Function_Pipeline_HighRes/bin/bulkSimulationOneProfile/data/simulations/0/pbmc_sc_with_metadata_cpm_pc_cell_type_profiles.csv/pbmc_sc_with_metadata_cpm_pc_cell_type_profiles_n_sim_25_profiles.csv'], ['/space/grp/aadrian/Pseudobulk_Function_Pipeline_HighRes/bin/bulkSimulationOneProfile/data/simulations/0.02/pbmc_sc_with_metadata_cpm_pc_cell_type_profiles.csv/pbmc_sc_with_metadata_cpm_pc_cell_type_profiles_n_sim_79_profiles.csv', '/space/grp/aadrian/Pseudobulk_Function_Pipeline_HighRes/bin/bulkSimulationOneProfile/data/simulations/0.02/pbmc_sc_with_metadata_cpm_pc_cell_type_profiles.csv/pbmc_sc_with_metadata_cpm_pc_cell_type_profiles_n_sim_53_profiles.csv', '/space/grp/aadrian/Pseudobulk_Function_Pipeline_HighRes/bin/bulkSimulationOneProfile/data/simulations/0.02/pbmc_sc_with_metadata_cpm_pc_cell_type_profiles.csv/pbmc_sc_with_metadata_cpm_pc_cell_type_profiles_n_sim_52_profiles.csv', '/space/grp/aadrian/Pseudobulk_Function_Pipeline_HighRes/bin/bulkSimulationOneProfile/data/simulations/0.02/pbmc_sc_with_metadata_cpm_pc_cell_type_profiles.csv/pbmc_sc_with_metadata_cpm_pc_cell_type_profiles_n_sim_78_profiles.csv', '/space/grp/aadrian/Pseudobulk_Function_Pipeline_HighRes/bin/bulkSimulationOneProfile/data/simulations/0.02/pbmc_sc_with_metadata_cpm_pc_cell_type_profiles.csv/pbmc_sc_with_metadata_cpm_pc_cell_type_profiles_n_sim_50_profiles.csv', '/space/grp/aadrian/Pseudobulk_Function_Pipeline_HighRes/bin/bulkSimulationOneProfile/data/simulations/0.02/pbmc_sc_with_metadata_cpm_pc_cell_type_profiles.csv/pbmc_sc_with_metadata_cpm_pc_cell_type_profiles_n_sim_29_profiles.csv', '/space/grp/aadrian/Pseudobulk_Function_Pipeline_HighRes/bin/bulkSimulationOneProfile/data/simulations/0.02/pbmc_sc_with_metadata_cpm_pc_cell_type_profiles.csv/pbmc_sc_with_metadata_cpm_pc_cell_type_profiles_n_sim_28_profiles.csv', '/space/grp/aadrian/Pseudobulk_Function_Pipeline_HighRes/bin/bulkSimulationOneProfile/data/simulations/0.02/pbmc_sc_with_metadata_cpm_pc_cell_type_profiles.csv/pbmc_sc_with_metadata_cpm_pc_cell_type_profiles_n_sim_51_profiles.csv', '/space/grp/aadrian/Pseudobulk_Function_Pipeline_HighRes/bin/bulkSimulationOneProfile/data/simulations/0.02/pbmc_sc_with_metadata_cpm_pc_cell_type_profiles.csv/pbmc_sc_with_metadata_cpm_pc_cell_type_profiles_n_sim_54_profiles.csv', '/space/grp/aadrian/Pseudobulk_Function_Pipeline_HighRes/bin/bulkSimulationOneProfile/data/simulations/0.02/pbmc_sc_with_metadata_cpm_pc_cell_type_profiles.csv/pbmc_sc_with_metadata_cpm_pc_cell_type_profiles_n_sim_55_profiles.csv', '/space/grp/aadrian/Pseudobulk_Function_Pipeline_HighRes/bin/bulkSimulationOneProfile/data/simulations/0.02/pbmc_sc_with_metadata_cpm_pc_cell_type_profiles.csv/pbmc_sc_with_metadata_cpm_pc_cell_type_profiles_n_sim_57_profiles.csv', '/space/grp/aadrian/Pseudobulk_Function_Pipeline_HighRes/bin/bulkSimulationOneProfile/data/simulations/0.02/pbmc_sc_with_metadata_cpm_pc_cell_type_profiles.csv/pbmc_sc_with_metadata_cpm_pc_cell_type_profiles_n_sim_88_profiles.csv', '/space/grp/aadrian/Pseudobulk_Function_Pipeline_HighRes/bin/bulkSimulationOneProfile/data/simulations/0.02/pbmc_sc_with_metadata_cpm_pc_cell_type_profiles.csv/pbmc_sc_with_metadata_cpm_pc_cell_type_profiles_n_sim_89_profiles.csv', '/space/grp/aadrian/Pseudobulk_Function_Pipeline_HighRes/bin/bulkSimulationOneProfile/data/simulations/0.02/pbmc_sc_with_metadata_cpm_pc_cell_type_profiles.csv/pbmc_sc_with_metadata_cpm_pc_cell_type_profiles_n_sim_56_profiles.csv', '/space/grp/aadrian/Pseudobulk_Function_Pipeline_HighRes/bin/bulkSimulationOneProfile/data/simulations/0.02/pbmc_sc_with_metadata_cpm_pc_cell_type_profiles.csv/pbmc_sc_with_metadata_cpm_pc_cell_type_profiles_n_sim_24_profiles.csv', '/space/grp/aadrian/Pseudobulk_Function_Pipeline_HighRes/bin/bulkSimulationOneProfile/data/simulations/0.02/pbmc_sc_with_metadata_cpm_pc_cell_type_profiles.csv/pbmc_sc_with_metadata_cpm_pc_cell_type_profiles_n_sim_77_profiles.csv', '/space/grp/aadrian/Pseudobulk_Function_Pipeline_HighRes/bin/bulkSimulationOneProfile/data/simulations/0.02/pbmc_sc_with_metadata_cpm_pc_cell_type_profiles.csv/pbmc_sc_with_metadata_cpm_pc_cell_type_profiles_n_sim_82_profiles.csv', '/space/grp/aadrian/Pseudobulk_Function_Pipeline_HighRes/bin/bulkSimulationOneProfile/data/simulations/0.02/pbmc_sc_with_metadata_cpm_pc_cell_type_profiles.csv/pbmc_sc_with_metadata_cpm_pc_cell_type_profiles_n_sim_83_profiles.csv', '/space/grp/aadrian/Pseudobulk_Function_Pipeline_HighRes/bin/bulkSimulationOneProfile/data/simulations/0.02/pbmc_sc_with_metadata_cpm_pc_cell_type_profiles.csv/pbmc_sc_with_metadata_cpm_pc_cell_type_profiles_n_sim_25_profiles.csv', '/space/grp/aadrian/Pseudobulk_Function_Pipeline_HighRes/bin/bulkSimulationOneProfile/data/simulations/0.02/pbmc_sc_with_metadata_cpm_pc_cell_type_profiles.csv/pbmc_sc_with_metadata_cpm_pc_cell_type_profiles_n_sim_76_profiles.csv', '/space/grp/aadrian/Pseudobulk_Function_Pipeline_HighRes/bin/bulkSimulationOneProfile/data/simulations/0.02/pbmc_sc_with_metadata_cpm_pc_cell_type_profiles.csv/pbmc_sc_with_metadata_cpm_pc_cell_type_profiles_n_sim_81_profiles.csv', '/space/grp/aadrian/Pseudobulk_Function_Pipeline_HighRes/bin/bulkSimulationOneProfile/data/simulations/0.02/pbmc_sc_with_metadata_cpm_pc_cell_type_profiles.csv/pbmc_sc_with_metadata_cpm_pc_cell_type_profiles_n_sim_74_profiles.csv', '/space/grp/aadrian/Pseudobulk_Function_Pipeline_HighRes/bin/bulkSimulationOneProfile/data/simulations/0.02/pbmc_sc_with_metadata_cpm_pc_cell_type_profiles.csv/pbmc_sc_with_metadata_cpm_pc_cell_type_profiles_n_sim_27_profiles.csv', '/space/grp/aadrian/Pseudobulk_Function_Pipeline_HighRes/bin/bulkSimulationOneProfile/data/simulations/0.02/pbmc_sc_with_metadata_cpm_pc_cell_type_profiles.csv/pbmc_sc_with_metadata_cpm_pc_cell_type_profiles_n_sim_75_profiles.csv', '/space/grp/aadrian/Pseudobulk_Function_Pipeline_HighRes/bin/bulkSimulationOneProfile/data/simulations/0.02/pbmc_sc_with_metadata_cpm_pc_cell_type_profiles.csv/pbmc_sc_with_metadata_cpm_pc_cell_type_profiles_n_sim_26_profiles.csv', '/space/grp/aadrian/Pseudobulk_Function_Pipeline_HighRes/bin/bulkSimulationOneProfile/data/simulations/0.02/pbmc_sc_with_metadata_cpm_pc_cell_type_profiles.csv/pbmc_sc_with_metadata_cpm_pc_cell_type_profiles_n_sim_80_profiles.csv', '/space/grp/aadrian/Pseudobulk_Function_Pipeline_HighRes/bin/bulkSimulationOneProfile/data/simulations/0.02/pbmc_sc_with_metadata_cpm_pc_cell_type_profiles.csv/pbmc_sc_with_metadata_cpm_pc_cell_type_profiles_n_sim_23_profiles.csv', '/space/grp/aadrian/Pseudobulk_Function_Pipeline_HighRes/bin/bulkSimulationOneProfile/data/simulations/0.02/pbmc_sc_with_metadata_cpm_pc_cell_type_profiles.csv/pbmc_sc_with_metadata_cpm_pc_cell_type_profiles_n_sim_70_profiles.csv', '/space/grp/aadrian/Pseudobulk_Function_Pipeline_HighRes/bin/bulkSimulationOneProfile/data/simulations/0.02/pbmc_sc_with_metadata_cpm_pc_cell_type_profiles.csv/pbmc_sc_with_metadata_cpm_pc_cell_type_profiles_n_sim_85_profiles.csv', '/space/grp/aadrian/Pseudobulk_Function_Pipeline_HighRes/bin/bulkSimulationOneProfile/data/simulations/0.02/pbmc_sc_with_metadata_cpm_pc_cell_type_profiles.csv/pbmc_sc_with_metadata_cpm_pc_cell_type_profiles_n_sim_84_profiles.csv', '/space/grp/aadrian/Pseudobulk_Function_Pipeline_HighRes/bin/bulkSimulationOneProfile/data/simulations/0.02/pbmc_sc_with_metadata_cpm_pc_cell_type_profiles.csv/pbmc_sc_with_metadata_cpm_pc_cell_type_profiles_n_sim_22_profiles.csv', '/space/grp/aadrian/Pseudobulk_Function_Pipeline_HighRes/bin/bulkSimulationOneProfile/data/simulations/0.02/pbmc_sc_with_metadata_cpm_pc_cell_type_profiles.csv/pbmc_sc_with_metadata_cpm_pc_cell_type_profiles_n_sim_71_profiles.csv', '/space/grp/aadrian/Pseudobulk_Function_Pipeline_HighRes/bin/bulkSimulationOneProfile/data/simulations/0.02/pbmc_sc_with_metadata_cpm_pc_cell_type_profiles.csv/pbmc_sc_with_metadata_cpm_pc_cell_type_profiles_n_sim_59_profiles.csv', '/space/grp/aadrian/Pseudobulk_Function_Pipeline_HighRes/bin/bulkSimulationOneProfile/data/simulations/0.02/pbmc_sc_with_metadata_cpm_pc_cell_type_profiles.csv/pbmc_sc_with_metadata_cpm_pc_cell_type_profiles_n_sim_86_profiles.csv', '/space/grp/aadrian/Pseudobulk_Function_Pipeline_HighRes/bin/bulkSimulationOneProfile/data/simulations/0.02/pbmc_sc_with_metadata_cpm_pc_cell_type_profiles.csv/pbmc_sc_with_metadata_cpm_pc_cell_type_profiles_n_sim_73_profiles.csv', '/space/grp/aadrian/Pseudobulk_Function_Pipeline_HighRes/bin/bulkSimulationOneProfile/data/simulations/0.02/pbmc_sc_with_metadata_cpm_pc_cell_type_profiles.csv/pbmc_sc_with_metadata_cpm_pc_cell_type_profiles_n_sim_20_profiles.csv', '/space/grp/aadrian/Pseudobulk_Function_Pipeline_HighRes/bin/bulkSimulationOneProfile/data/simulations/0.02/pbmc_sc_with_metadata_cpm_pc_cell_type_profiles.csv/pbmc_sc_with_metadata_cpm_pc_cell_type_profiles_n_sim_72_profiles.csv', '/space/grp/aadrian/Pseudobulk_Function_Pipeline_HighRes/bin/bulkSimulationOneProfile/data/simulations/0.02/pbmc_sc_with_metadata_cpm_pc_cell_type_profiles.csv/pbmc_sc_with_metadata_cpm_pc_cell_type_profiles_n_sim_21_profiles.csv', '/space/grp/aadrian/Pseudobulk_Function_Pipeline_HighRes/bin/bulkSimulationOneProfile/data/simulations/0.02/pbmc_sc_with_metadata_cpm_pc_cell_type_profiles.csv/pbmc_sc_with_metadata_cpm_pc_cell_type_profiles_n_sim_87_profiles.csv', '/space/grp/aadrian/Pseudobulk_Function_Pipeline_HighRes/bin/bulkSimulationOneProfile/data/simulations/0.02/pbmc_sc_with_metadata_cpm_pc_cell_type_profiles.csv/pbmc_sc_with_metadata_cpm_pc_cell_type_profiles_n_sim_58_profiles.csv', '/space/grp/aadrian/Pseudobulk_Function_Pipeline_HighRes/bin/bulkSimulationOneProfile/data/simulations/0.02/pbmc_sc_with_metadata_cpm_pc_cell_type_profiles.csv/pbmc_sc_with_metadata_cpm_pc_cell_type_profiles_n_sim_49_profiles.csv', '/space/grp/aadrian/Pseudobulk_Function_Pipeline_HighRes/bin/bulkSimulationOneProfile/data/simulations/0.02/pbmc_sc_with_metadata_cpm_pc_cell_type_profiles.csv/pbmc_sc_with_metadata_cpm_pc_cell_type_profiles_n_sim_96_profiles.csv', '/space/grp/aadrian/Pseudobulk_Function_Pipeline_HighRes/bin/bulkSimulationOneProfile/data/simulations/0.02/pbmc_sc_with_metadata_cpm_pc_cell_type_profiles.csv/pbmc_sc_with_metadata_cpm_pc_cell_type_profiles_n_sim_63_profiles.csv', '/space/grp/aadrian/Pseudobulk_Function_Pipeline_HighRes/bin/bulkSimulationOneProfile/data/simulations/0.02/pbmc_sc_with_metadata_cpm_pc_cell_type_profiles.csv/pbmc_sc_with_metadata_cpm_pc_cell_type_profiles_n_sim_4_profiles.csv', '/space/grp/aadrian/Pseudobulk_Function_Pipeline_HighRes/bin/bulkSimulationOneProfile/data/simulations/0.02/pbmc_sc_with_metadata_cpm_pc_cell_type_profiles.csv/pbmc_sc_with_metadata_cpm_pc_cell_type_profiles_n_sim_30_profiles.csv', '/space/grp/aadrian/Pseudobulk_Function_Pipeline_HighRes/bin/bulkSimulationOneProfile/data/simulations/0.02/pbmc_sc_with_metadata_cpm_pc_cell_type_profiles.csv/pbmc_sc_with_metadata_cpm_pc_cell_type_profiles_n_sim_62_profiles.csv', '/space/grp/aadrian/Pseudobulk_Function_Pipeline_HighRes/bin/bulkSimulationOneProfile/data/simulations/0.02/pbmc_sc_with_metadata_cpm_pc_cell_type_profiles.csv/pbmc_sc_with_metadata_cpm_pc_cell_type_profiles_n_sim_31_profiles.csv', '/space/grp/aadrian/Pseudobulk_Function_Pipeline_HighRes/bin/bulkSimulationOneProfile/data/simulations/0.02/pbmc_sc_with_metadata_cpm_pc_cell_type_profiles.csv/pbmc_sc_with_metadata_cpm_pc_cell_type_profiles_n_sim_5_profiles.csv', '/space/grp/aadrian/Pseudobulk_Function_Pipeline_HighRes/bin/bulkSimulationOneProfile/data/simulations/0.02/pbmc_sc_with_metadata_cpm_pc_cell_type_profiles.csv/pbmc_sc_with_metadata_cpm_pc_cell_type_profiles_n_sim_97_profiles.csv', '/space/grp/aadrian/Pseudobulk_Function_Pipeline_HighRes/bin/bulkSimulationOneProfile/data/simulations/0.02/pbmc_sc_with_metadata_cpm_pc_cell_type_profiles.csv/pbmc_sc_with_metadata_cpm_pc_cell_type_profiles_n_sim_48_profiles.csv', '/space/grp/aadrian/Pseudobulk_Function_Pipeline_HighRes/bin/bulkSimulationOneProfile/data/simulations/0.02/pbmc_sc_with_metadata_cpm_pc_cell_type_profiles.csv/pbmc_sc_with_metadata_cpm_pc_cell_type_profiles_n_sim_7_profiles.csv', '/space/grp/aadrian/Pseudobulk_Function_Pipeline_HighRes/bin/bulkSimulationOneProfile/data/simulations/0.02/pbmc_sc_with_metadata_cpm_pc_cell_type_profiles.csv/pbmc_sc_with_metadata_cpm_pc_cell_type_profiles_n_sim_33_profiles.csv', '/space/grp/aadrian/Pseudobulk_Function_Pipeline_HighRes/bin/bulkSimulationOneProfile/data/simulations/0.02/pbmc_sc_with_metadata_cpm_pc_cell_type_profiles.csv/pbmc_sc_with_metadata_cpm_pc_cell_type_profiles_n_sim_60_profiles.csv', '/space/grp/aadrian/Pseudobulk_Function_Pipeline_HighRes/bin/bulkSimulationOneProfile/data/simulations/0.02/pbmc_sc_with_metadata_cpm_pc_cell_type_profiles.csv/pbmc_sc_with_metadata_cpm_pc_cell_type_profiles_n_sim_95_profiles.csv', '/space/grp/aadrian/Pseudobulk_Function_Pipeline_HighRes/bin/bulkSimulationOneProfile/data/simulations/0.02/pbmc_sc_with_metadata_cpm_pc_cell_type_profiles.csv/pbmc_sc_with_metadata_cpm_pc_cell_type_profiles_n_sim_19_profiles.csv', '/space/grp/aadrian/Pseudobulk_Function_Pipeline_HighRes/bin/bulkSimulationOneProfile/data/simulations/0.02/pbmc_sc_with_metadata_cpm_pc_cell_type_profiles.csv/pbmc_sc_with_metadata_cpm_pc_cell_type_profiles_n_sim_94_profiles.csv', '/space/grp/aadrian/Pseudobulk_Function_Pipeline_HighRes/bin/bulkSimulationOneProfile/data/simulations/0.02/pbmc_sc_with_metadata_cpm_pc_cell_type_profiles.csv/pbmc_sc_with_metadata_cpm_pc_cell_type_profiles_n_sim_18_profiles.csv', '/space/grp/aadrian/Pseudobulk_Function_Pipeline_HighRes/bin/bulkSimulationOneProfile/data/simulations/0.02/pbmc_sc_with_metadata_cpm_pc_cell_type_profiles.csv/pbmc_sc_with_metadata_cpm_pc_cell_type_profiles_n_sim_32_profiles.csv', '/space/grp/aadrian/Pseudobulk_Function_Pipeline_HighRes/bin/bulkSimulationOneProfile/data/simulations/0.02/pbmc_sc_with_metadata_cpm_pc_cell_type_profiles.csv/pbmc_sc_with_metadata_cpm_pc_cell_type_profiles_n_sim_6_profiles.csv', '/space/grp/aadrian/Pseudobulk_Function_Pipeline_HighRes/bin/bulkSimulationOneProfile/data/simulations/0.02/pbmc_sc_with_metadata_cpm_pc_cell_type_profiles.csv/pbmc_sc_with_metadata_cpm_pc_cell_type_profiles_n_sim_61_profiles.csv', '/space/grp/aadrian/Pseudobulk_Function_Pipeline_HighRes/bin/bulkSimulationOneProfile/data/simulations/0.02/pbmc_sc_with_metadata_cpm_pc_cell_type_profiles.csv/pbmc_sc_with_metadata_cpm_pc_cell_type_profiles_n_sim_91_profiles.csv', '/space/grp/aadrian/Pseudobulk_Function_Pipeline_HighRes/bin/bulkSimulationOneProfile/data/simulations/0.02/pbmc_sc_with_metadata_cpm_pc_cell_type_profiles.csv/pbmc_sc_with_metadata_cpm_pc_cell_type_profiles_n_sim_64_profiles.csv', '/space/grp/aadrian/Pseudobulk_Function_Pipeline_HighRes/bin/bulkSimulationOneProfile/data/simulations/0.02/pbmc_sc_with_metadata_cpm_pc_cell_type_profiles.csv/pbmc_sc_with_metadata_cpm_pc_cell_type_profiles_n_sim_37_profiles.csv', '/space/grp/aadrian/Pseudobulk_Function_Pipeline_HighRes/bin/bulkSimulationOneProfile/data/simulations/0.02/pbmc_sc_with_metadata_cpm_pc_cell_type_profiles.csv/pbmc_sc_with_metadata_cpm_pc_cell_type_profiles_n_sim_3_profiles.csv', '/space/grp/aadrian/Pseudobulk_Function_Pipeline_HighRes/bin/bulkSimulationOneProfile/data/simulations/0.02/pbmc_sc_with_metadata_cpm_pc_cell_type_profiles.csv/pbmc_sc_with_metadata_cpm_pc_cell_type_profiles_n_sim_65_profiles.csv', '/space/grp/aadrian/Pseudobulk_Function_Pipeline_HighRes/bin/bulkSimulationOneProfile/data/simulations/0.02/pbmc_sc_with_metadata_cpm_pc_cell_type_profiles.csv/pbmc_sc_with_metadata_cpm_pc_cell_type_profiles_n_sim_2_profiles.csv', '/space/grp/aadrian/Pseudobulk_Function_Pipeline_HighRes/bin/bulkSimulationOneProfile/data/simulations/0.02/pbmc_sc_with_metadata_cpm_pc_cell_type_profiles.csv/pbmc_sc_with_metadata_cpm_pc_cell_type_profiles_n_sim_36_profiles.csv', '/space/grp/aadrian/Pseudobulk_Function_Pipeline_HighRes/bin/bulkSimulationOneProfile/data/simulations/0.02/pbmc_sc_with_metadata_cpm_pc_cell_type_profiles.csv/pbmc_sc_with_metadata_cpm_pc_cell_type_profiles_n_sim_90_profiles.csv', '/space/grp/aadrian/Pseudobulk_Function_Pipeline_HighRes/bin/bulkSimulationOneProfile/data/simulations/0.02/pbmc_sc_with_metadata_cpm_pc_cell_type_profiles.csv/pbmc_sc_with_metadata_cpm_pc_cell_type_profiles_n_sim_34_profiles.csv', '/space/grp/aadrian/Pseudobulk_Function_Pipeline_HighRes/bin/bulkSimulationOneProfile/data/simulations/0.02/pbmc_sc_with_metadata_cpm_pc_cell_type_profiles.csv/pbmc_sc_with_metadata_cpm_pc_cell_type_profiles_n_sim_0_profiles.csv', '/space/grp/aadrian/Pseudobulk_Function_Pipeline_HighRes/bin/bulkSimulationOneProfile/data/simulations/0.02/pbmc_sc_with_metadata_cpm_pc_cell_type_profiles.csv/pbmc_sc_with_metadata_cpm_pc_cell_type_profiles_n_sim_67_profiles.csv', '/space/grp/aadrian/Pseudobulk_Function_Pipeline_HighRes/bin/bulkSimulationOneProfile/data/simulations/0.02/pbmc_sc_with_metadata_cpm_pc_cell_type_profiles.csv/pbmc_sc_with_metadata_cpm_pc_cell_type_profiles_n_sim_92_profiles.csv', '/space/grp/aadrian/Pseudobulk_Function_Pipeline_HighRes/bin/bulkSimulationOneProfile/data/simulations/0.02/pbmc_sc_with_metadata_cpm_pc_cell_type_profiles.csv/pbmc_sc_with_metadata_cpm_pc_cell_type_profiles_n_sim_93_profiles.csv', '/space/grp/aadrian/Pseudobulk_Function_Pipeline_HighRes/bin/bulkSimulationOneProfile/data/simulations/0.02/pbmc_sc_with_metadata_cpm_pc_cell_type_profiles.csv/pbmc_sc_with_metadata_cpm_pc_cell_type_profiles_n_sim_1_profiles.csv', '/space/grp/aadrian/Pseudobulk_Function_Pipeline_HighRes/bin/bulkSimulationOneProfile/data/simulations/0.02/pbmc_sc_with_metadata_cpm_pc_cell_type_profiles.csv/pbmc_sc_with_metadata_cpm_pc_cell_type_profiles_n_sim_35_profiles.csv', '/space/grp/aadrian/Pseudobulk_Function_Pipeline_HighRes/bin/bulkSimulationOneProfile/data/simulations/0.02/pbmc_sc_with_metadata_cpm_pc_cell_type_profiles.csv/pbmc_sc_with_metadata_cpm_pc_cell_type_profiles_n_sim_66_profiles.csv', '/space/grp/aadrian/Pseudobulk_Function_Pipeline_HighRes/bin/bulkSimulationOneProfile/data/simulations/0.02/pbmc_sc_with_metadata_cpm_pc_cell_type_profiles.csv/pbmc_sc_with_metadata_cpm_pc_cell_type_profiles_n_sim_47_profiles.csv', '/space/grp/aadrian/Pseudobulk_Function_Pipeline_HighRes/bin/bulkSimulationOneProfile/data/simulations/0.02/pbmc_sc_with_metadata_cpm_pc_cell_type_profiles.csv/pbmc_sc_with_metadata_cpm_pc_cell_type_profiles_n_sim_98_profiles.csv', '/space/grp/aadrian/Pseudobulk_Function_Pipeline_HighRes/bin/bulkSimulationOneProfile/data/simulations/0.02/pbmc_sc_with_metadata_cpm_pc_cell_type_profiles.csv/pbmc_sc_with_metadata_cpm_pc_cell_type_profiles_n_sim_14_profiles.csv', '/space/grp/aadrian/Pseudobulk_Function_Pipeline_HighRes/bin/bulkSimulationOneProfile/data/simulations/0.02/pbmc_sc_with_metadata_cpm_pc_cell_type_profiles.csv/pbmc_sc_with_metadata_cpm_pc_cell_type_profiles_n_sim_99_profiles.csv', '/space/grp/aadrian/Pseudobulk_Function_Pipeline_HighRes/bin/bulkSimulationOneProfile/data/simulations/0.02/pbmc_sc_with_metadata_cpm_pc_cell_type_profiles.csv/pbmc_sc_with_metadata_cpm_pc_cell_type_profiles_n_sim_46_profiles.csv', '/space/grp/aadrian/Pseudobulk_Function_Pipeline_HighRes/bin/bulkSimulationOneProfile/data/simulations/0.02/pbmc_sc_with_metadata_cpm_pc_cell_type_profiles.csv/pbmc_sc_with_metadata_cpm_pc_cell_type_profiles_n_sim_15_profiles.csv', '/space/grp/aadrian/Pseudobulk_Function_Pipeline_HighRes/bin/bulkSimulationOneProfile/data/simulations/0.02/pbmc_sc_with_metadata_cpm_pc_cell_type_profiles.csv/pbmc_sc_with_metadata_cpm_pc_cell_type_profiles_n_sim_9_profiles.csv', '/space/grp/aadrian/Pseudobulk_Function_Pipeline_HighRes/bin/bulkSimulationOneProfile/data/simulations/0.02/pbmc_sc_with_metadata_cpm_pc_cell_type_profiles.csv/pbmc_sc_with_metadata_cpm_pc_cell_type_profiles_n_sim_17_profiles.csv', '/space/grp/aadrian/Pseudobulk_Function_Pipeline_HighRes/bin/bulkSimulationOneProfile/data/simulations/0.02/pbmc_sc_with_metadata_cpm_pc_cell_type_profiles.csv/pbmc_sc_with_metadata_cpm_pc_cell_type_profiles_n_sim_44_profiles.csv', '/space/grp/aadrian/Pseudobulk_Function_Pipeline_HighRes/bin/bulkSimulationOneProfile/data/simulations/0.02/pbmc_sc_with_metadata_cpm_pc_cell_type_profiles.csv/pbmc_sc_with_metadata_cpm_pc_cell_type_profiles_n_sim_16_profiles.csv', '/space/grp/aadrian/Pseudobulk_Function_Pipeline_HighRes/bin/bulkSimulationOneProfile/data/simulations/0.02/pbmc_sc_with_metadata_cpm_pc_cell_type_profiles.csv/pbmc_sc_with_metadata_cpm_pc_cell_type_profiles_n_sim_45_profiles.csv', '/space/grp/aadrian/Pseudobulk_Function_Pipeline_HighRes/bin/bulkSimulationOneProfile/data/simulations/0.02/pbmc_sc_with_metadata_cpm_pc_cell_type_profiles.csv/pbmc_sc_with_metadata_cpm_pc_cell_type_profiles_n_sim_8_profiles.csv', '/space/grp/aadrian/Pseudobulk_Function_Pipeline_HighRes/bin/bulkSimulationOneProfile/data/simulations/0.02/pbmc_sc_with_metadata_cpm_pc_cell_type_profiles.csv/pbmc_sc_with_metadata_cpm_pc_cell_type_profiles_n_sim_40_profiles.csv', '/space/grp/aadrian/Pseudobulk_Function_Pipeline_HighRes/bin/bulkSimulationOneProfile/data/simulations/0.02/pbmc_sc_with_metadata_cpm_pc_cell_type_profiles.csv/pbmc_sc_with_metadata_cpm_pc_cell_type_profiles_n_sim_13_profiles.csv', '/space/grp/aadrian/Pseudobulk_Function_Pipeline_HighRes/bin/bulkSimulationOneProfile/data/simulations/0.02/pbmc_sc_with_metadata_cpm_pc_cell_type_profiles.csv/pbmc_sc_with_metadata_cpm_pc_cell_type_profiles_n_sim_39_profiles.csv', '/space/grp/aadrian/Pseudobulk_Function_Pipeline_HighRes/bin/bulkSimulationOneProfile/data/simulations/0.02/pbmc_sc_with_metadata_cpm_pc_cell_type_profiles.csv/pbmc_sc_with_metadata_cpm_pc_cell_type_profiles_n_sim_38_profiles.csv', '/space/grp/aadrian/Pseudobulk_Function_Pipeline_HighRes/bin/bulkSimulationOneProfile/data/simulations/0.02/pbmc_sc_with_metadata_cpm_pc_cell_type_profiles.csv/pbmc_sc_with_metadata_cpm_pc_cell_type_profiles_n_sim_41_profiles.csv', '/space/grp/aadrian/Pseudobulk_Function_Pipeline_HighRes/bin/bulkSimulationOneProfile/data/simulations/0.02/pbmc_sc_with_metadata_cpm_pc_cell_type_profiles.csv/pbmc_sc_with_metadata_cpm_pc_cell_type_profiles_n_sim_12_profiles.csv', '/space/grp/aadrian/Pseudobulk_Function_Pipeline_HighRes/bin/bulkSimulationOneProfile/data/simulations/0.02/pbmc_sc_with_metadata_cpm_pc_cell_type_profiles.csv/pbmc_sc_with_metadata_cpm_pc_cell_type_profiles_n_sim_69_profiles.csv', '/space/grp/aadrian/Pseudobulk_Function_Pipeline_HighRes/bin/bulkSimulationOneProfile/data/simulations/0.02/pbmc_sc_with_metadata_cpm_pc_cell_type_profiles.csv/pbmc_sc_with_metadata_cpm_pc_cell_type_profiles_n_sim_10_profiles.csv', '/space/grp/aadrian/Pseudobulk_Function_Pipeline_HighRes/bin/bulkSimulationOneProfile/data/simulations/0.02/pbmc_sc_with_metadata_cpm_pc_cell_type_profiles.csv/pbmc_sc_with_metadata_cpm_pc_cell_type_profiles_n_sim_43_profiles.csv', '/space/grp/aadrian/Pseudobulk_Function_Pipeline_HighRes/bin/bulkSimulationOneProfile/data/simulations/0.02/pbmc_sc_with_metadata_cpm_pc_cell_type_profiles.csv/pbmc_sc_with_metadata_cpm_pc_cell_type_profiles_n_sim_11_profiles.csv', '/space/grp/aadrian/Pseudobulk_Function_Pipeline_HighRes/bin/bulkSimulationOneProfile/data/simulations/0.02/pbmc_sc_with_metadata_cpm_pc_cell_type_profiles.csv/pbmc_sc_with_metadata_cpm_pc_cell_type_profiles_n_sim_42_profiles.csv', '/space/grp/aadrian/Pseudobulk_Function_Pipeline_HighRes/bin/bulkSimulationOneProfile/data/simulations/0.02/pbmc_sc_with_metadata_cpm_pc_cell_type_profiles.csv/pbmc_sc_with_metadata_cpm_pc_cell_type_profiles_n_sim_68_profiles.csv'], ['/space/grp/aadrian/Pseudobulk_Function_Pipeline_HighRes/bin/bulkSimulationOneProfile/data/simulations/0.08/pbmc_sc_with_metadata_cpm_pc_cell_type_profiles.csv/pbmc_sc_with_metadata_cpm_pc_cell_type_profiles_n_sim_9_profiles.csv', '/space/grp/aadrian/Pseudobulk_Function_Pipeline_HighRes/bin/bulkSimulationOneProfile/data/simulations/0.08/pbmc_sc_with_metadata_cpm_pc_cell_type_profiles.csv/pbmc_sc_with_metadata_cpm_pc_cell_type_profiles_n_sim_94_profiles.csv', '/space/grp/aadrian/Pseudobulk_Function_Pipeline_HighRes/bin/bulkSimulationOneProfile/data/simulations/0.08/pbmc_sc_with_metadata_cpm_pc_cell_type_profiles.csv/pbmc_sc_with_metadata_cpm_pc_cell_type_profiles_n_sim_18_profiles.csv', '/space/grp/aadrian/Pseudobulk_Function_Pipeline_HighRes/bin/bulkSimulationOneProfile/data/simulations/0.08/pbmc_sc_with_metadata_cpm_pc_cell_type_profiles.csv/pbmc_sc_with_metadata_cpm_pc_cell_type_profiles_n_sim_32_profiles.csv', '/space/grp/aadrian/Pseudobulk_Function_Pipeline_HighRes/bin/bulkSimulationOneProfile/data/simulations/0.08/pbmc_sc_with_metadata_cpm_pc_cell_type_profiles.csv/pbmc_sc_with_metadata_cpm_pc_cell_type_profiles_n_sim_61_profiles.csv', '/space/grp/aadrian/Pseudobulk_Function_Pipeline_HighRes/bin/bulkSimulationOneProfile/data/simulations/0.08/pbmc_sc_with_metadata_cpm_pc_cell_type_profiles.csv/pbmc_sc_with_metadata_cpm_pc_cell_type_profiles_n_sim_33_profiles.csv', '/space/grp/aadrian/Pseudobulk_Function_Pipeline_HighRes/bin/bulkSimulationOneProfile/data/simulations/0.08/pbmc_sc_with_metadata_cpm_pc_cell_type_profiles.csv/pbmc_sc_with_metadata_cpm_pc_cell_type_profiles_n_sim_60_profiles.csv', '/space/grp/aadrian/Pseudobulk_Function_Pipeline_HighRes/bin/bulkSimulationOneProfile/data/simulations/0.08/pbmc_sc_with_metadata_cpm_pc_cell_type_profiles.csv/pbmc_sc_with_metadata_cpm_pc_cell_type_profiles_n_sim_95_profiles.csv', '/space/grp/aadrian/Pseudobulk_Function_Pipeline_HighRes/bin/bulkSimulationOneProfile/data/simulations/0.08/pbmc_sc_with_metadata_cpm_pc_cell_type_profiles.csv/pbmc_sc_with_metadata_cpm_pc_cell_type_profiles_n_sim_8_profiles.csv', '/space/grp/aadrian/Pseudobulk_Function_Pipeline_HighRes/bin/bulkSimulationOneProfile/data/simulations/0.08/pbmc_sc_with_metadata_cpm_pc_cell_type_profiles.csv/pbmc_sc_with_metadata_cpm_pc_cell_type_profiles_n_sim_19_profiles.csv', '/space/grp/aadrian/Pseudobulk_Function_Pipeline_HighRes/bin/bulkSimulationOneProfile/data/simulations/0.08/pbmc_sc_with_metadata_cpm_pc_cell_type_profiles.csv/pbmc_sc_with_metadata_cpm_pc_cell_type_profiles_n_sim_62_profiles.csv', '/space/grp/aadrian/Pseudobulk_Function_Pipeline_HighRes/bin/bulkSimulationOneProfile/data/simulations/0.08/pbmc_sc_with_metadata_cpm_pc_cell_type_profiles.csv/pbmc_sc_with_metadata_cpm_pc_cell_type_profiles_n_sim_31_profiles.csv', '/space/grp/aadrian/Pseudobulk_Function_Pipeline_HighRes/bin/bulkSimulationOneProfile/data/simulations/0.08/pbmc_sc_with_metadata_cpm_pc_cell_type_profiles.csv/pbmc_sc_with_metadata_cpm_pc_cell_type_profiles_n_sim_48_profiles.csv', '/space/grp/aadrian/Pseudobulk_Function_Pipeline_HighRes/bin/bulkSimulationOneProfile/data/simulations/0.08/pbmc_sc_with_metadata_cpm_pc_cell_type_profiles.csv/pbmc_sc_with_metadata_cpm_pc_cell_type_profiles_n_sim_97_profiles.csv', '/space/grp/aadrian/Pseudobulk_Function_Pipeline_HighRes/bin/bulkSimulationOneProfile/data/simulations/0.08/pbmc_sc_with_metadata_cpm_pc_cell_type_profiles.csv/pbmc_sc_with_metadata_cpm_pc_cell_type_profiles_n_sim_96_profiles.csv', '/space/grp/aadrian/Pseudobulk_Function_Pipeline_HighRes/bin/bulkSimulationOneProfile/data/simulations/0.08/pbmc_sc_with_metadata_cpm_pc_cell_type_profiles.csv/pbmc_sc_with_metadata_cpm_pc_cell_type_profiles_n_sim_49_profiles.csv', '/space/grp/aadrian/Pseudobulk_Function_Pipeline_HighRes/bin/bulkSimulationOneProfile/data/simulations/0.08/pbmc_sc_with_metadata_cpm_pc_cell_type_profiles.csv/pbmc_sc_with_metadata_cpm_pc_cell_type_profiles_n_sim_63_profiles.csv', '/space/grp/aadrian/Pseudobulk_Function_Pipeline_HighRes/bin/bulkSimulationOneProfile/data/simulations/0.08/pbmc_sc_with_metadata_cpm_pc_cell_type_profiles.csv/pbmc_sc_with_metadata_cpm_pc_cell_type_profiles_n_sim_30_profiles.csv', '/space/grp/aadrian/Pseudobulk_Function_Pipeline_HighRes/bin/bulkSimulationOneProfile/data/simulations/0.08/pbmc_sc_with_metadata_cpm_pc_cell_type_profiles.csv/pbmc_sc_with_metadata_cpm_pc_cell_type_profiles_n_sim_93_profiles.csv', '/space/grp/aadrian/Pseudobulk_Function_Pipeline_HighRes/bin/bulkSimulationOneProfile/data/simulations/0.08/pbmc_sc_with_metadata_cpm_pc_cell_type_profiles.csv/pbmc_sc_with_metadata_cpm_pc_cell_type_profiles_n_sim_35_profiles.csv', '/space/grp/aadrian/Pseudobulk_Function_Pipeline_HighRes/bin/bulkSimulationOneProfile/data/simulations/0.08/pbmc_sc_with_metadata_cpm_pc_cell_type_profiles.csv/pbmc_sc_with_metadata_cpm_pc_cell_type_profiles_n_sim_66_profiles.csv', '/space/grp/aadrian/Pseudobulk_Function_Pipeline_HighRes/bin/bulkSimulationOneProfile/data/simulations/0.08/pbmc_sc_with_metadata_cpm_pc_cell_type_profiles.csv/pbmc_sc_with_metadata_cpm_pc_cell_type_profiles_n_sim_34_profiles.csv', '/space/grp/aadrian/Pseudobulk_Function_Pipeline_HighRes/bin/bulkSimulationOneProfile/data/simulations/0.08/pbmc_sc_with_metadata_cpm_pc_cell_type_profiles.csv/pbmc_sc_with_metadata_cpm_pc_cell_type_profiles_n_sim_67_profiles.csv', '/space/grp/aadrian/Pseudobulk_Function_Pipeline_HighRes/bin/bulkSimulationOneProfile/data/simulations/0.08/pbmc_sc_with_metadata_cpm_pc_cell_type_profiles.csv/pbmc_sc_with_metadata_cpm_pc_cell_type_profiles_n_sim_92_profiles.csv', '/space/grp/aadrian/Pseudobulk_Function_Pipeline_HighRes/bin/bulkSimulationOneProfile/data/simulations/0.08/pbmc_sc_with_metadata_cpm_pc_cell_type_profiles.csv/pbmc_sc_with_metadata_cpm_pc_cell_type_profiles_n_sim_65_profiles.csv', '/space/grp/aadrian/Pseudobulk_Function_Pipeline_HighRes/bin/bulkSimulationOneProfile/data/simulations/0.08/pbmc_sc_with_metadata_cpm_pc_cell_type_profiles.csv/pbmc_sc_with_metadata_cpm_pc_cell_type_profiles_n_sim_36_profiles.csv', '/space/grp/aadrian/Pseudobulk_Function_Pipeline_HighRes/bin/bulkSimulationOneProfile/data/simulations/0.08/pbmc_sc_with_metadata_cpm_pc_cell_type_profiles.csv/pbmc_sc_with_metadata_cpm_pc_cell_type_profiles_n_sim_90_profiles.csv', '/space/grp/aadrian/Pseudobulk_Function_Pipeline_HighRes/bin/bulkSimulationOneProfile/data/simulations/0.08/pbmc_sc_with_metadata_cpm_pc_cell_type_profiles.csv/pbmc_sc_with_metadata_cpm_pc_cell_type_profiles_n_sim_91_profiles.csv', '/space/grp/aadrian/Pseudobulk_Function_Pipeline_HighRes/bin/bulkSimulationOneProfile/data/simulations/0.08/pbmc_sc_with_metadata_cpm_pc_cell_type_profiles.csv/pbmc_sc_with_metadata_cpm_pc_cell_type_profiles_n_sim_64_profiles.csv', '/space/grp/aadrian/Pseudobulk_Function_Pipeline_HighRes/bin/bulkSimulationOneProfile/data/simulations/0.08/pbmc_sc_with_metadata_cpm_pc_cell_type_profiles.csv/pbmc_sc_with_metadata_cpm_pc_cell_type_profiles_n_sim_37_profiles.csv', '/space/grp/aadrian/Pseudobulk_Function_Pipeline_HighRes/bin/bulkSimulationOneProfile/data/simulations/0.08/pbmc_sc_with_metadata_cpm_pc_cell_type_profiles.csv/pbmc_sc_with_metadata_cpm_pc_cell_type_profiles_n_sim_16_profiles.csv', '/space/grp/aadrian/Pseudobulk_Function_Pipeline_HighRes/bin/bulkSimulationOneProfile/data/simulations/0.08/pbmc_sc_with_metadata_cpm_pc_cell_type_profiles.csv/pbmc_sc_with_metadata_cpm_pc_cell_type_profiles_n_sim_45_profiles.csv', '/space/grp/aadrian/Pseudobulk_Function_Pipeline_HighRes/bin/bulkSimulationOneProfile/data/simulations/0.08/pbmc_sc_with_metadata_cpm_pc_cell_type_profiles.csv/pbmc_sc_with_metadata_cpm_pc_cell_type_profiles_n_sim_7_profiles.csv', '/space/grp/aadrian/Pseudobulk_Function_Pipeline_HighRes/bin/bulkSimulationOneProfile/data/simulations/0.08/pbmc_sc_with_metadata_cpm_pc_cell_type_profiles.csv/pbmc_sc_with_metadata_cpm_pc_cell_type_profiles_n_sim_17_profiles.csv', '/space/grp/aadrian/Pseudobulk_Function_Pipeline_HighRes/bin/bulkSimulationOneProfile/data/simulations/0.08/pbmc_sc_with_metadata_cpm_pc_cell_type_profiles.csv/pbmc_sc_with_metadata_cpm_pc_cell_type_profiles_n_sim_44_profiles.csv', '/space/grp/aadrian/Pseudobulk_Function_Pipeline_HighRes/bin/bulkSimulationOneProfile/data/simulations/0.08/pbmc_sc_with_metadata_cpm_pc_cell_type_profiles.csv/pbmc_sc_with_metadata_cpm_pc_cell_type_profiles_n_sim_6_profiles.csv', '/space/grp/aadrian/Pseudobulk_Function_Pipeline_HighRes/bin/bulkSimulationOneProfile/data/simulations/0.08/pbmc_sc_with_metadata_cpm_pc_cell_type_profiles.csv/pbmc_sc_with_metadata_cpm_pc_cell_type_profiles_n_sim_4_profiles.csv', '/space/grp/aadrian/Pseudobulk_Function_Pipeline_HighRes/bin/bulkSimulationOneProfile/data/simulations/0.08/pbmc_sc_with_metadata_cpm_pc_cell_type_profiles.csv/pbmc_sc_with_metadata_cpm_pc_cell_type_profiles_n_sim_46_profiles.csv', '/space/grp/aadrian/Pseudobulk_Function_Pipeline_HighRes/bin/bulkSimulationOneProfile/data/simulations/0.08/pbmc_sc_with_metadata_cpm_pc_cell_type_profiles.csv/pbmc_sc_with_metadata_cpm_pc_cell_type_profiles_n_sim_99_profiles.csv', '/space/grp/aadrian/Pseudobulk_Function_Pipeline_HighRes/bin/bulkSimulationOneProfile/data/simulations/0.08/pbmc_sc_with_metadata_cpm_pc_cell_type_profiles.csv/pbmc_sc_with_metadata_cpm_pc_cell_type_profiles_n_sim_15_profiles.csv', '/space/grp/aadrian/Pseudobulk_Function_Pipeline_HighRes/bin/bulkSimulationOneProfile/data/simulations/0.08/pbmc_sc_with_metadata_cpm_pc_cell_type_profiles.csv/pbmc_sc_with_metadata_cpm_pc_cell_type_profiles_n_sim_98_profiles.csv', '/space/grp/aadrian/Pseudobulk_Function_Pipeline_HighRes/bin/bulkSimulationOneProfile/data/simulations/0.08/pbmc_sc_with_metadata_cpm_pc_cell_type_profiles.csv/pbmc_sc_with_metadata_cpm_pc_cell_type_profiles_n_sim_5_profiles.csv', '/space/grp/aadrian/Pseudobulk_Function_Pipeline_HighRes/bin/bulkSimulationOneProfile/data/simulations/0.08/pbmc_sc_with_metadata_cpm_pc_cell_type_profiles.csv/pbmc_sc_with_metadata_cpm_pc_cell_type_profiles_n_sim_47_profiles.csv', '/space/grp/aadrian/Pseudobulk_Function_Pipeline_HighRes/bin/bulkSimulationOneProfile/data/simulations/0.08/pbmc_sc_with_metadata_cpm_pc_cell_type_profiles.csv/pbmc_sc_with_metadata_cpm_pc_cell_type_profiles_n_sim_14_profiles.csv', '/space/grp/aadrian/Pseudobulk_Function_Pipeline_HighRes/bin/bulkSimulationOneProfile/data/simulations/0.08/pbmc_sc_with_metadata_cpm_pc_cell_type_profiles.csv/pbmc_sc_with_metadata_cpm_pc_cell_type_profiles_n_sim_11_profiles.csv', '/space/grp/aadrian/Pseudobulk_Function_Pipeline_HighRes/bin/bulkSimulationOneProfile/data/simulations/0.08/pbmc_sc_with_metadata_cpm_pc_cell_type_profiles.csv/pbmc_sc_with_metadata_cpm_pc_cell_type_profiles_n_sim_42_profiles.csv', '/space/grp/aadrian/Pseudobulk_Function_Pipeline_HighRes/bin/bulkSimulationOneProfile/data/simulations/0.08/pbmc_sc_with_metadata_cpm_pc_cell_type_profiles.csv/pbmc_sc_with_metadata_cpm_pc_cell_type_profiles_n_sim_0_profiles.csv', '/space/grp/aadrian/Pseudobulk_Function_Pipeline_HighRes/bin/bulkSimulationOneProfile/data/simulations/0.08/pbmc_sc_with_metadata_cpm_pc_cell_type_profiles.csv/pbmc_sc_with_metadata_cpm_pc_cell_type_profiles_n_sim_68_profiles.csv', '/space/grp/aadrian/Pseudobulk_Function_Pipeline_HighRes/bin/bulkSimulationOneProfile/data/simulations/0.08/pbmc_sc_with_metadata_cpm_pc_cell_type_profiles.csv/pbmc_sc_with_metadata_cpm_pc_cell_type_profiles_n_sim_69_profiles.csv', '/space/grp/aadrian/Pseudobulk_Function_Pipeline_HighRes/bin/bulkSimulationOneProfile/data/simulations/0.08/pbmc_sc_with_metadata_cpm_pc_cell_type_profiles.csv/pbmc_sc_with_metadata_cpm_pc_cell_type_profiles_n_sim_10_profiles.csv', '/space/grp/aadrian/Pseudobulk_Function_Pipeline_HighRes/bin/bulkSimulationOneProfile/data/simulations/0.08/pbmc_sc_with_metadata_cpm_pc_cell_type_profiles.csv/pbmc_sc_with_metadata_cpm_pc_cell_type_profiles_n_sim_43_profiles.csv', '/space/grp/aadrian/Pseudobulk_Function_Pipeline_HighRes/bin/bulkSimulationOneProfile/data/simulations/0.08/pbmc_sc_with_metadata_cpm_pc_cell_type_profiles.csv/pbmc_sc_with_metadata_cpm_pc_cell_type_profiles_n_sim_1_profiles.csv', '/space/grp/aadrian/Pseudobulk_Function_Pipeline_HighRes/bin/bulkSimulationOneProfile/data/simulations/0.08/pbmc_sc_with_metadata_cpm_pc_cell_type_profiles.csv/pbmc_sc_with_metadata_cpm_pc_cell_type_profiles_n_sim_38_profiles.csv', '/space/grp/aadrian/Pseudobulk_Function_Pipeline_HighRes/bin/bulkSimulationOneProfile/data/simulations/0.08/pbmc_sc_with_metadata_cpm_pc_cell_type_profiles.csv/pbmc_sc_with_metadata_cpm_pc_cell_type_profiles_n_sim_3_profiles.csv', '/space/grp/aadrian/Pseudobulk_Function_Pipeline_HighRes/bin/bulkSimulationOneProfile/data/simulations/0.08/pbmc_sc_with_metadata_cpm_pc_cell_type_profiles.csv/pbmc_sc_with_metadata_cpm_pc_cell_type_profiles_n_sim_41_profiles.csv', '/space/grp/aadrian/Pseudobulk_Function_Pipeline_HighRes/bin/bulkSimulationOneProfile/data/simulations/0.08/pbmc_sc_with_metadata_cpm_pc_cell_type_profiles.csv/pbmc_sc_with_metadata_cpm_pc_cell_type_profiles_n_sim_12_profiles.csv', '/space/grp/aadrian/Pseudobulk_Function_Pipeline_HighRes/bin/bulkSimulationOneProfile/data/simulations/0.08/pbmc_sc_with_metadata_cpm_pc_cell_type_profiles.csv/pbmc_sc_with_metadata_cpm_pc_cell_type_profiles_n_sim_2_profiles.csv', '/space/grp/aadrian/Pseudobulk_Function_Pipeline_HighRes/bin/bulkSimulationOneProfile/data/simulations/0.08/pbmc_sc_with_metadata_cpm_pc_cell_type_profiles.csv/pbmc_sc_with_metadata_cpm_pc_cell_type_profiles_n_sim_40_profiles.csv', '/space/grp/aadrian/Pseudobulk_Function_Pipeline_HighRes/bin/bulkSimulationOneProfile/data/simulations/0.08/pbmc_sc_with_metadata_cpm_pc_cell_type_profiles.csv/pbmc_sc_with_metadata_cpm_pc_cell_type_profiles_n_sim_13_profiles.csv', '/space/grp/aadrian/Pseudobulk_Function_Pipeline_HighRes/bin/bulkSimulationOneProfile/data/simulations/0.08/pbmc_sc_with_metadata_cpm_pc_cell_type_profiles.csv/pbmc_sc_with_metadata_cpm_pc_cell_type_profiles_n_sim_39_profiles.csv', '/space/grp/aadrian/Pseudobulk_Function_Pipeline_HighRes/bin/bulkSimulationOneProfile/data/simulations/0.08/pbmc_sc_with_metadata_cpm_pc_cell_type_profiles.csv/pbmc_sc_with_metadata_cpm_pc_cell_type_profiles_n_sim_28_profiles.csv', '/space/grp/aadrian/Pseudobulk_Function_Pipeline_HighRes/bin/bulkSimulationOneProfile/data/simulations/0.08/pbmc_sc_with_metadata_cpm_pc_cell_type_profiles.csv/pbmc_sc_with_metadata_cpm_pc_cell_type_profiles_n_sim_51_profiles.csv', '/space/grp/aadrian/Pseudobulk_Function_Pipeline_HighRes/bin/bulkSimulationOneProfile/data/simulations/0.08/pbmc_sc_with_metadata_cpm_pc_cell_type_profiles.csv/pbmc_sc_with_metadata_cpm_pc_cell_type_profiles_n_sim_50_profiles.csv', '/space/grp/aadrian/Pseudobulk_Function_Pipeline_HighRes/bin/bulkSimulationOneProfile/data/simulations/0.08/pbmc_sc_with_metadata_cpm_pc_cell_type_profiles.csv/pbmc_sc_with_metadata_cpm_pc_cell_type_profiles_n_sim_29_profiles.csv', '/space/grp/aadrian/Pseudobulk_Function_Pipeline_HighRes/bin/bulkSimulationOneProfile/data/simulations/0.08/pbmc_sc_with_metadata_cpm_pc_cell_type_profiles.csv/pbmc_sc_with_metadata_cpm_pc_cell_type_profiles_n_sim_52_profiles.csv', '/space/grp/aadrian/Pseudobulk_Function_Pipeline_HighRes/bin/bulkSimulationOneProfile/data/simulations/0.08/pbmc_sc_with_metadata_cpm_pc_cell_type_profiles.csv/pbmc_sc_with_metadata_cpm_pc_cell_type_profiles_n_sim_78_profiles.csv', '/space/grp/aadrian/Pseudobulk_Function_Pipeline_HighRes/bin/bulkSimulationOneProfile/data/simulations/0.08/pbmc_sc_with_metadata_cpm_pc_cell_type_profiles.csv/pbmc_sc_with_metadata_cpm_pc_cell_type_profiles_n_sim_79_profiles.csv', '/space/grp/aadrian/Pseudobulk_Function_Pipeline_HighRes/bin/bulkSimulationOneProfile/data/simulations/0.08/pbmc_sc_with_metadata_cpm_pc_cell_type_profiles.csv/pbmc_sc_with_metadata_cpm_pc_cell_type_profiles_n_sim_53_profiles.csv', '/space/grp/aadrian/Pseudobulk_Function_Pipeline_HighRes/bin/bulkSimulationOneProfile/data/simulations/0.08/pbmc_sc_with_metadata_cpm_pc_cell_type_profiles.csv/pbmc_sc_with_metadata_cpm_pc_cell_type_profiles_n_sim_56_profiles.csv', '/space/grp/aadrian/Pseudobulk_Function_Pipeline_HighRes/bin/bulkSimulationOneProfile/data/simulations/0.08/pbmc_sc_with_metadata_cpm_pc_cell_type_profiles.csv/pbmc_sc_with_metadata_cpm_pc_cell_type_profiles_n_sim_89_profiles.csv', '/space/grp/aadrian/Pseudobulk_Function_Pipeline_HighRes/bin/bulkSimulationOneProfile/data/simulations/0.08/pbmc_sc_with_metadata_cpm_pc_cell_type_profiles.csv/pbmc_sc_with_metadata_cpm_pc_cell_type_profiles_n_sim_88_profiles.csv', '/space/grp/aadrian/Pseudobulk_Function_Pipeline_HighRes/bin/bulkSimulationOneProfile/data/simulations/0.08/pbmc_sc_with_metadata_cpm_pc_cell_type_profiles.csv/pbmc_sc_with_metadata_cpm_pc_cell_type_profiles_n_sim_57_profiles.csv', '/space/grp/aadrian/Pseudobulk_Function_Pipeline_HighRes/bin/bulkSimulationOneProfile/data/simulations/0.08/pbmc_sc_with_metadata_cpm_pc_cell_type_profiles.csv/pbmc_sc_with_metadata_cpm_pc_cell_type_profiles_n_sim_55_profiles.csv', '/space/grp/aadrian/Pseudobulk_Function_Pipeline_HighRes/bin/bulkSimulationOneProfile/data/simulations/0.08/pbmc_sc_with_metadata_cpm_pc_cell_type_profiles.csv/pbmc_sc_with_metadata_cpm_pc_cell_type_profiles_n_sim_54_profiles.csv', '/space/grp/aadrian/Pseudobulk_Function_Pipeline_HighRes/bin/bulkSimulationOneProfile/data/simulations/0.08/pbmc_sc_with_metadata_cpm_pc_cell_type_profiles.csv/pbmc_sc_with_metadata_cpm_pc_cell_type_profiles_n_sim_75_profiles.csv', '/space/grp/aadrian/Pseudobulk_Function_Pipeline_HighRes/bin/bulkSimulationOneProfile/data/simulations/0.08/pbmc_sc_with_metadata_cpm_pc_cell_type_profiles.csv/pbmc_sc_with_metadata_cpm_pc_cell_type_profiles_n_sim_26_profiles.csv', '/space/grp/aadrian/Pseudobulk_Function_Pipeline_HighRes/bin/bulkSimulationOneProfile/data/simulations/0.08/pbmc_sc_with_metadata_cpm_pc_cell_type_profiles.csv/pbmc_sc_with_metadata_cpm_pc_cell_type_profiles_n_sim_80_profiles.csv', '/space/grp/aadrian/Pseudobulk_Function_Pipeline_HighRes/bin/bulkSimulationOneProfile/data/simulations/0.08/pbmc_sc_with_metadata_cpm_pc_cell_type_profiles.csv/pbmc_sc_with_metadata_cpm_pc_cell_type_profiles_n_sim_81_profiles.csv', '/space/grp/aadrian/Pseudobulk_Function_Pipeline_HighRes/bin/bulkSimulationOneProfile/data/simulations/0.08/pbmc_sc_with_metadata_cpm_pc_cell_type_profiles.csv/pbmc_sc_with_metadata_cpm_pc_cell_type_profiles_n_sim_74_profiles.csv', '/space/grp/aadrian/Pseudobulk_Function_Pipeline_HighRes/bin/bulkSimulationOneProfile/data/simulations/0.08/pbmc_sc_with_metadata_cpm_pc_cell_type_profiles.csv/pbmc_sc_with_metadata_cpm_pc_cell_type_profiles_n_sim_27_profiles.csv', '/space/grp/aadrian/Pseudobulk_Function_Pipeline_HighRes/bin/bulkSimulationOneProfile/data/simulations/0.08/pbmc_sc_with_metadata_cpm_pc_cell_type_profiles.csv/pbmc_sc_with_metadata_cpm_pc_cell_type_profiles_n_sim_83_profiles.csv', '/space/grp/aadrian/Pseudobulk_Function_Pipeline_HighRes/bin/bulkSimulationOneProfile/data/simulations/0.08/pbmc_sc_with_metadata_cpm_pc_cell_type_profiles.csv/pbmc_sc_with_metadata_cpm_pc_cell_type_profiles_n_sim_25_profiles.csv', '/space/grp/aadrian/Pseudobulk_Function_Pipeline_HighRes/bin/bulkSimulationOneProfile/data/simulations/0.08/pbmc_sc_with_metadata_cpm_pc_cell_type_profiles.csv/pbmc_sc_with_metadata_cpm_pc_cell_type_profiles_n_sim_76_profiles.csv', '/space/grp/aadrian/Pseudobulk_Function_Pipeline_HighRes/bin/bulkSimulationOneProfile/data/simulations/0.08/pbmc_sc_with_metadata_cpm_pc_cell_type_profiles.csv/pbmc_sc_with_metadata_cpm_pc_cell_type_profiles_n_sim_24_profiles.csv', '/space/grp/aadrian/Pseudobulk_Function_Pipeline_HighRes/bin/bulkSimulationOneProfile/data/simulations/0.08/pbmc_sc_with_metadata_cpm_pc_cell_type_profiles.csv/pbmc_sc_with_metadata_cpm_pc_cell_type_profiles_n_sim_77_profiles.csv', '/space/grp/aadrian/Pseudobulk_Function_Pipeline_HighRes/bin/bulkSimulationOneProfile/data/simulations/0.08/pbmc_sc_with_metadata_cpm_pc_cell_type_profiles.csv/pbmc_sc_with_metadata_cpm_pc_cell_type_profiles_n_sim_82_profiles.csv', '/space/grp/aadrian/Pseudobulk_Function_Pipeline_HighRes/bin/bulkSimulationOneProfile/data/simulations/0.08/pbmc_sc_with_metadata_cpm_pc_cell_type_profiles.csv/pbmc_sc_with_metadata_cpm_pc_cell_type_profiles_n_sim_72_profiles.csv', '/space/grp/aadrian/Pseudobulk_Function_Pipeline_HighRes/bin/bulkSimulationOneProfile/data/simulations/0.08/pbmc_sc_with_metadata_cpm_pc_cell_type_profiles.csv/pbmc_sc_with_metadata_cpm_pc_cell_type_profiles_n_sim_21_profiles.csv', '/space/grp/aadrian/Pseudobulk_Function_Pipeline_HighRes/bin/bulkSimulationOneProfile/data/simulations/0.08/pbmc_sc_with_metadata_cpm_pc_cell_type_profiles.csv/pbmc_sc_with_metadata_cpm_pc_cell_type_profiles_n_sim_58_profiles.csv', '/space/grp/aadrian/Pseudobulk_Function_Pipeline_HighRes/bin/bulkSimulationOneProfile/data/simulations/0.08/pbmc_sc_with_metadata_cpm_pc_cell_type_profiles.csv/pbmc_sc_with_metadata_cpm_pc_cell_type_profiles_n_sim_87_profiles.csv', '/space/grp/aadrian/Pseudobulk_Function_Pipeline_HighRes/bin/bulkSimulationOneProfile/data/simulations/0.08/pbmc_sc_with_metadata_cpm_pc_cell_type_profiles.csv/pbmc_sc_with_metadata_cpm_pc_cell_type_profiles_n_sim_86_profiles.csv', '/space/grp/aadrian/Pseudobulk_Function_Pipeline_HighRes/bin/bulkSimulationOneProfile/data/simulations/0.08/pbmc_sc_with_metadata_cpm_pc_cell_type_profiles.csv/pbmc_sc_with_metadata_cpm_pc_cell_type_profiles_n_sim_59_profiles.csv', '/space/grp/aadrian/Pseudobulk_Function_Pipeline_HighRes/bin/bulkSimulationOneProfile/data/simulations/0.08/pbmc_sc_with_metadata_cpm_pc_cell_type_profiles.csv/pbmc_sc_with_metadata_cpm_pc_cell_type_profiles_n_sim_73_profiles.csv', '/space/grp/aadrian/Pseudobulk_Function_Pipeline_HighRes/bin/bulkSimulationOneProfile/data/simulations/0.08/pbmc_sc_with_metadata_cpm_pc_cell_type_profiles.csv/pbmc_sc_with_metadata_cpm_pc_cell_type_profiles_n_sim_20_profiles.csv', '/space/grp/aadrian/Pseudobulk_Function_Pipeline_HighRes/bin/bulkSimulationOneProfile/data/simulations/0.08/pbmc_sc_with_metadata_cpm_pc_cell_type_profiles.csv/pbmc_sc_with_metadata_cpm_pc_cell_type_profiles_n_sim_84_profiles.csv', '/space/grp/aadrian/Pseudobulk_Function_Pipeline_HighRes/bin/bulkSimulationOneProfile/data/simulations/0.08/pbmc_sc_with_metadata_cpm_pc_cell_type_profiles.csv/pbmc_sc_with_metadata_cpm_pc_cell_type_profiles_n_sim_22_profiles.csv', '/space/grp/aadrian/Pseudobulk_Function_Pipeline_HighRes/bin/bulkSimulationOneProfile/data/simulations/0.08/pbmc_sc_with_metadata_cpm_pc_cell_type_profiles.csv/pbmc_sc_with_metadata_cpm_pc_cell_type_profiles_n_sim_71_profiles.csv', '/space/grp/aadrian/Pseudobulk_Function_Pipeline_HighRes/bin/bulkSimulationOneProfile/data/simulations/0.08/pbmc_sc_with_metadata_cpm_pc_cell_type_profiles.csv/pbmc_sc_with_metadata_cpm_pc_cell_type_profiles_n_sim_23_profiles.csv', '/space/grp/aadrian/Pseudobulk_Function_Pipeline_HighRes/bin/bulkSimulationOneProfile/data/simulations/0.08/pbmc_sc_with_metadata_cpm_pc_cell_type_profiles.csv/pbmc_sc_with_metadata_cpm_pc_cell_type_profiles_n_sim_70_profiles.csv', '/space/grp/aadrian/Pseudobulk_Function_Pipeline_HighRes/bin/bulkSimulationOneProfile/data/simulations/0.08/pbmc_sc_with_metadata_cpm_pc_cell_type_profiles.csv/pbmc_sc_with_metadata_cpm_pc_cell_type_profiles_n_sim_85_profiles.csv']]\n"
     ]
    }
   ],
   "source": [
    "def main():\n",
    "    main_path = \"/space/grp/aadrian/Pseudobulk_Function_Pipeline_HighRes/bin/bulkSimulationOneProfile/data/simulations\"\n",
    "    \n",
    "    lovariances = os.listdir(main_path)\n",
    "    \n",
    "    lopaths = [f\"{main_path}/{variance}/pbmc_sc_with_metadata_cpm_pc_cell_type_profiles.csv\" for variance in lovariances]\n",
    "    print(lopaths)\n",
    "    \n",
    "    \n",
    "    lolofiles = [getMatchingFiles(path) for path in lopaths]\n",
    "    print(lolofiles)\n",
    "    \n",
    "    dict_variance_average = {}\n",
    "    \n",
    "    \n",
    "    for i, loFiles in enumerate(lolofiles):\n",
    "        cell_averages = getCellAverage(loFiles)\n",
    "\n",
    "        dict_variance_average[lovariances[i]] = cell_averages\n",
    "        \n",
    "    #print(dict_variance_average)\n",
    "    return dict_variance_average\n",
    "    \n",
    "dict_variance_average = main()"
   ]
  },
  {
   "cell_type": "code",
   "execution_count": 62,
   "metadata": {},
   "outputs": [
    {
     "data": {
      "text/html": [
       "<div>\n",
       "<style scoped>\n",
       "    .dataframe tbody tr th:only-of-type {\n",
       "        vertical-align: middle;\n",
       "    }\n",
       "\n",
       "    .dataframe tbody tr th {\n",
       "        vertical-align: top;\n",
       "    }\n",
       "\n",
       "    .dataframe thead th {\n",
       "        text-align: right;\n",
       "    }\n",
       "</style>\n",
       "<table border=\"1\" class=\"dataframe\">\n",
       "  <thead>\n",
       "    <tr style=\"text-align: right;\">\n",
       "      <th></th>\n",
       "      <th>0.055</th>\n",
       "      <th>0.1</th>\n",
       "      <th>0.025</th>\n",
       "      <th>0.07</th>\n",
       "      <th>0.045</th>\n",
       "      <th>0.09</th>\n",
       "      <th>0.03</th>\n",
       "      <th>1</th>\n",
       "      <th>0.5</th>\n",
       "      <th>0.04</th>\n",
       "      <th>...</th>\n",
       "      <th>0.075</th>\n",
       "      <th>0.05</th>\n",
       "      <th>0.095</th>\n",
       "      <th>0.015</th>\n",
       "      <th>0.3</th>\n",
       "      <th>0.9</th>\n",
       "      <th>0.065</th>\n",
       "      <th>0</th>\n",
       "      <th>0.02</th>\n",
       "      <th>0.08</th>\n",
       "    </tr>\n",
       "  </thead>\n",
       "  <tbody>\n",
       "    <tr>\n",
       "      <th>B-cells</th>\n",
       "      <td>0.054177</td>\n",
       "      <td>0.065815</td>\n",
       "      <td>0.051863</td>\n",
       "      <td>0.056325</td>\n",
       "      <td>0.052101</td>\n",
       "      <td>0.061765</td>\n",
       "      <td>0.049043</td>\n",
       "      <td>0.138650</td>\n",
       "      <td>0.117254</td>\n",
       "      <td>0.053145</td>\n",
       "      <td>...</td>\n",
       "      <td>0.058280</td>\n",
       "      <td>0.053821</td>\n",
       "      <td>0.065994</td>\n",
       "      <td>0.05072</td>\n",
       "      <td>0.103943</td>\n",
       "      <td>0.132823</td>\n",
       "      <td>0.053571</td>\n",
       "      <td>0.05</td>\n",
       "      <td>0.04971</td>\n",
       "      <td>0.060704</td>\n",
       "    </tr>\n",
       "    <tr>\n",
       "      <th>Dendritic cells</th>\n",
       "      <td>0.053020</td>\n",
       "      <td>0.068930</td>\n",
       "      <td>0.050273</td>\n",
       "      <td>0.053659</td>\n",
       "      <td>0.051064</td>\n",
       "      <td>0.062135</td>\n",
       "      <td>0.051160</td>\n",
       "      <td>0.119747</td>\n",
       "      <td>0.116646</td>\n",
       "      <td>0.052597</td>\n",
       "      <td>...</td>\n",
       "      <td>0.052534</td>\n",
       "      <td>0.050688</td>\n",
       "      <td>0.062569</td>\n",
       "      <td>0.04824</td>\n",
       "      <td>0.110510</td>\n",
       "      <td>0.123145</td>\n",
       "      <td>0.051019</td>\n",
       "      <td>0.05</td>\n",
       "      <td>0.04944</td>\n",
       "      <td>0.054482</td>\n",
       "    </tr>\n",
       "    <tr>\n",
       "      <th>Macrophages</th>\n",
       "      <td>0.197262</td>\n",
       "      <td>0.177203</td>\n",
       "      <td>0.199782</td>\n",
       "      <td>0.196092</td>\n",
       "      <td>0.195973</td>\n",
       "      <td>0.183483</td>\n",
       "      <td>0.204331</td>\n",
       "      <td>0.144343</td>\n",
       "      <td>0.168202</td>\n",
       "      <td>0.195786</td>\n",
       "      <td>...</td>\n",
       "      <td>0.186928</td>\n",
       "      <td>0.195612</td>\n",
       "      <td>0.188875</td>\n",
       "      <td>0.20002</td>\n",
       "      <td>0.152189</td>\n",
       "      <td>0.151911</td>\n",
       "      <td>0.198321</td>\n",
       "      <td>0.20</td>\n",
       "      <td>0.19972</td>\n",
       "      <td>0.180698</td>\n",
       "    </tr>\n",
       "    <tr>\n",
       "      <th>Monocytes</th>\n",
       "      <td>0.049004</td>\n",
       "      <td>0.061408</td>\n",
       "      <td>0.047823</td>\n",
       "      <td>0.057599</td>\n",
       "      <td>0.047835</td>\n",
       "      <td>0.059436</td>\n",
       "      <td>0.047514</td>\n",
       "      <td>0.128626</td>\n",
       "      <td>0.118267</td>\n",
       "      <td>0.044668</td>\n",
       "      <td>...</td>\n",
       "      <td>0.058923</td>\n",
       "      <td>0.058803</td>\n",
       "      <td>0.060312</td>\n",
       "      <td>0.05031</td>\n",
       "      <td>0.108263</td>\n",
       "      <td>0.132566</td>\n",
       "      <td>0.056459</td>\n",
       "      <td>0.05</td>\n",
       "      <td>0.04962</td>\n",
       "      <td>0.051990</td>\n",
       "    </tr>\n",
       "    <tr>\n",
       "      <th>Nk-cells</th>\n",
       "      <td>0.092805</td>\n",
       "      <td>0.095959</td>\n",
       "      <td>0.101286</td>\n",
       "      <td>0.092575</td>\n",
       "      <td>0.103434</td>\n",
       "      <td>0.088852</td>\n",
       "      <td>0.097636</td>\n",
       "      <td>0.146558</td>\n",
       "      <td>0.136470</td>\n",
       "      <td>0.100095</td>\n",
       "      <td>...</td>\n",
       "      <td>0.095348</td>\n",
       "      <td>0.097657</td>\n",
       "      <td>0.094267</td>\n",
       "      <td>0.10276</td>\n",
       "      <td>0.122584</td>\n",
       "      <td>0.133730</td>\n",
       "      <td>0.091937</td>\n",
       "      <td>0.10</td>\n",
       "      <td>0.09962</td>\n",
       "      <td>0.096511</td>\n",
       "    </tr>\n",
       "    <tr>\n",
       "      <th>Platelets</th>\n",
       "      <td>0.056047</td>\n",
       "      <td>0.068129</td>\n",
       "      <td>0.049253</td>\n",
       "      <td>0.058399</td>\n",
       "      <td>0.049140</td>\n",
       "      <td>0.071518</td>\n",
       "      <td>0.049412</td>\n",
       "      <td>0.134818</td>\n",
       "      <td>0.114547</td>\n",
       "      <td>0.057220</td>\n",
       "      <td>...</td>\n",
       "      <td>0.058261</td>\n",
       "      <td>0.047068</td>\n",
       "      <td>0.062920</td>\n",
       "      <td>0.04815</td>\n",
       "      <td>0.104322</td>\n",
       "      <td>0.137481</td>\n",
       "      <td>0.054922</td>\n",
       "      <td>0.05</td>\n",
       "      <td>0.05134</td>\n",
       "      <td>0.065669</td>\n",
       "    </tr>\n",
       "    <tr>\n",
       "      <th>T-cells</th>\n",
       "      <td>0.497685</td>\n",
       "      <td>0.462555</td>\n",
       "      <td>0.499720</td>\n",
       "      <td>0.485351</td>\n",
       "      <td>0.500454</td>\n",
       "      <td>0.472810</td>\n",
       "      <td>0.500904</td>\n",
       "      <td>0.187257</td>\n",
       "      <td>0.228615</td>\n",
       "      <td>0.496489</td>\n",
       "      <td>...</td>\n",
       "      <td>0.489725</td>\n",
       "      <td>0.496350</td>\n",
       "      <td>0.465062</td>\n",
       "      <td>0.49980</td>\n",
       "      <td>0.298189</td>\n",
       "      <td>0.188343</td>\n",
       "      <td>0.493772</td>\n",
       "      <td>0.50</td>\n",
       "      <td>0.50055</td>\n",
       "      <td>0.489947</td>\n",
       "    </tr>\n",
       "  </tbody>\n",
       "</table>\n",
       "<p>7 rows × 26 columns</p>\n",
       "</div>"
      ],
      "text/plain": [
       "                    0.055       0.1     0.025      0.07     0.045      0.09  \\\n",
       "B-cells          0.054177  0.065815  0.051863  0.056325  0.052101  0.061765   \n",
       "Dendritic cells  0.053020  0.068930  0.050273  0.053659  0.051064  0.062135   \n",
       "Macrophages      0.197262  0.177203  0.199782  0.196092  0.195973  0.183483   \n",
       "Monocytes        0.049004  0.061408  0.047823  0.057599  0.047835  0.059436   \n",
       "Nk-cells         0.092805  0.095959  0.101286  0.092575  0.103434  0.088852   \n",
       "Platelets        0.056047  0.068129  0.049253  0.058399  0.049140  0.071518   \n",
       "T-cells          0.497685  0.462555  0.499720  0.485351  0.500454  0.472810   \n",
       "\n",
       "                     0.03         1       0.5      0.04  ...     0.075  \\\n",
       "B-cells          0.049043  0.138650  0.117254  0.053145  ...  0.058280   \n",
       "Dendritic cells  0.051160  0.119747  0.116646  0.052597  ...  0.052534   \n",
       "Macrophages      0.204331  0.144343  0.168202  0.195786  ...  0.186928   \n",
       "Monocytes        0.047514  0.128626  0.118267  0.044668  ...  0.058923   \n",
       "Nk-cells         0.097636  0.146558  0.136470  0.100095  ...  0.095348   \n",
       "Platelets        0.049412  0.134818  0.114547  0.057220  ...  0.058261   \n",
       "T-cells          0.500904  0.187257  0.228615  0.496489  ...  0.489725   \n",
       "\n",
       "                     0.05     0.095    0.015       0.3       0.9     0.065  \\\n",
       "B-cells          0.053821  0.065994  0.05072  0.103943  0.132823  0.053571   \n",
       "Dendritic cells  0.050688  0.062569  0.04824  0.110510  0.123145  0.051019   \n",
       "Macrophages      0.195612  0.188875  0.20002  0.152189  0.151911  0.198321   \n",
       "Monocytes        0.058803  0.060312  0.05031  0.108263  0.132566  0.056459   \n",
       "Nk-cells         0.097657  0.094267  0.10276  0.122584  0.133730  0.091937   \n",
       "Platelets        0.047068  0.062920  0.04815  0.104322  0.137481  0.054922   \n",
       "T-cells          0.496350  0.465062  0.49980  0.298189  0.188343  0.493772   \n",
       "\n",
       "                    0     0.02      0.08  \n",
       "B-cells          0.05  0.04971  0.060704  \n",
       "Dendritic cells  0.05  0.04944  0.054482  \n",
       "Macrophages      0.20  0.19972  0.180698  \n",
       "Monocytes        0.05  0.04962  0.051990  \n",
       "Nk-cells         0.10  0.09962  0.096511  \n",
       "Platelets        0.05  0.05134  0.065669  \n",
       "T-cells          0.50  0.50055  0.489947  \n",
       "\n",
       "[7 rows x 26 columns]"
      ]
     },
     "execution_count": 62,
     "metadata": {},
     "output_type": "execute_result"
    }
   ],
   "source": [
    "merged_df = pd.DataFrame(dict_variance_average)\n",
    "merged_df"
   ]
  },
  {
   "cell_type": "code",
   "execution_count": 77,
   "metadata": {},
   "outputs": [],
   "source": [
    "def getCellAverage(loFiles):\n",
    "    lodfs = [pd.read_csv(file_path, index_col=0) for file_path in loFiles]\n",
    "    \n",
    "    merged_df = pd.concat(lodfs, axis = 1)\n",
    "    merged_df = merged_df.sum(axis = 1)\n",
    "\n",
    "    normalized_series = normalize_series_by_sum(merged_df)\n",
    "    \n",
    "    return normalized_series"
   ]
  },
  {
   "cell_type": "code",
   "execution_count": 37,
   "metadata": {},
   "outputs": [],
   "source": [
    "cor_matrix = merged_df.corr(method = \"pearson\")\n",
    "cor_matrix = cor_matrix.sort_index(axis = 0).sort_index(axis = 1)"
   ]
  },
  {
   "cell_type": "code",
   "execution_count": 38,
   "metadata": {},
   "outputs": [
    {
     "data": {
      "application/vnd.plotly.v1+json": {
       "config": {
        "plotlyServerURL": "https://plot.ly"
       },
       "data": [
        {
         "coloraxis": "coloraxis",
         "hovertemplate": "x: %{x}<br>y: %{y}<br>color: %{z}<extra></extra>",
         "name": "0",
         "type": "heatmap",
         "x": [
          "0",
          "0.005",
          "0.01",
          "0.015",
          "0.02",
          "0.025",
          "0.03",
          "0.035",
          "0.04",
          "0.045",
          "0.05",
          "0.055",
          "0.06",
          "0.065",
          "0.07",
          "0.075",
          "0.08",
          "0.085",
          "0.09",
          "0.095",
          "0.1",
          "0.3",
          "0.5",
          "0.7",
          "0.9",
          "1"
         ],
         "xaxis": "x",
         "y": [
          "0",
          "0.005",
          "0.01",
          "0.015",
          "0.02",
          "0.025",
          "0.03",
          "0.035",
          "0.04",
          "0.045",
          "0.05",
          "0.055",
          "0.06",
          "0.065",
          "0.07",
          "0.075",
          "0.08",
          "0.085",
          "0.09",
          "0.095",
          "0.1",
          "0.3",
          "0.5",
          "0.7",
          "0.9",
          "1"
         ],
         "yaxis": "y",
         "z": [
          [
           1,
           0.9999969885613903,
           0.9999975084660078,
           0.9999558250753281,
           0.9999920757764111,
           0.9999683578371849,
           0.9999151604057245,
           0.9999738198180765,
           0.9996986597282279,
           0.9998834106359444,
           0.9996790714707272,
           0.9996665822591668,
           0.9994620225584929,
           0.999642024281989,
           0.999587877153287,
           0.9992112006137952,
           0.9982810663091228,
           0.9986700482302433,
           0.99790863934883,
           0.9992723270128002,
           0.9980709429667384,
           0.9947529917599071,
           0.9908944188715478,
           0.9043503316605696,
           0.9777211592220625,
           0.9413945242441216
          ],
          [
           0.9999969885613903,
           1,
           0.9999952476175926,
           0.9999381487667532,
           0.999994811982482,
           0.9999635903338945,
           0.9999166226524682,
           0.9999733633036811,
           0.9997377423389371,
           0.9998850545038105,
           0.9996393910796211,
           0.9996883930305714,
           0.9995164329722105,
           0.9996341347309008,
           0.9995883977685008,
           0.9992141452064648,
           0.9983372417919992,
           0.9986683848788066,
           0.9979780433774986,
           0.9992808223617815,
           0.9981348186575597,
           0.9948255778063094,
           0.9907567286725382,
           0.9044177331740019,
           0.9776514595444692,
           0.9411934738861086
          ],
          [
           0.9999975084660078,
           0.9999952476175926,
           1,
           0.9999591613777128,
           0.9999899274046038,
           0.9999563644132795,
           0.9998964565689445,
           0.9999742295040275,
           0.9996761877750263,
           0.9998812114476918,
           0.9996847425579484,
           0.9996306751773132,
           0.9994449596748008,
           0.999624890777147,
           0.9995656875900956,
           0.9992082731701514,
           0.9982629634307627,
           0.9986095892048056,
           0.9978741523629941,
           0.9992245638183274,
           0.998047104799354,
           0.9948067789817019,
           0.9908913420842766,
           0.9034501538040102,
           0.9776630361945359,
           0.9414383139748872
          ],
          [
           0.9999558250753281,
           0.9999381487667532,
           0.9999591613777128,
           1,
           0.9999297321228154,
           0.9999552834118449,
           0.9998155640211603,
           0.9999279660622636,
           0.9995589864933568,
           0.9998987330178869,
           0.9996628514635325,
           0.9994247667319764,
           0.9991419688201258,
           0.999437229876829,
           0.9993533485062847,
           0.9990425851161272,
           0.998022809545605,
           0.9983208752044399,
           0.997399700238903,
           0.9989944454666384,
           0.9976880621203479,
           0.9944430277883631,
           0.9914471680649175,
           0.9023708054885056,
           0.977385115765348,
           0.9433492160910318
          ],
          [
           0.9999920757764111,
           0.999994811982482,
           0.9999899274046038,
           0.9999297321228154,
           1,
           0.9999524036237829,
           0.9999008243421649,
           0.9999627210642122,
           0.9997573934356104,
           0.9998682627782414,
           0.9996350334806339,
           0.9997180211753266,
           0.9994832121858704,
           0.9996737610766913,
           0.9996348003161848,
           0.9992732657947545,
           0.9984250310308128,
           0.998766244921637,
           0.9980712914068022,
           0.9993146182308917,
           0.9981645673964836,
           0.9947876191935136,
           0.9906292596101911,
           0.9048293291057186,
           0.978296581870331,
           0.9417858008279534
          ],
          [
           0.9999683578371849,
           0.9999635903338945,
           0.9999563644132795,
           0.9999552834118449,
           0.9999524036237829,
           1,
           0.9998875415454578,
           0.9999293784570285,
           0.9997492505979778,
           0.9999392562317142,
           0.9995741701051261,
           0.9996181754758509,
           0.9993725696975119,
           0.9994819835447638,
           0.9994378698232764,
           0.9990948902212367,
           0.9982706102875852,
           0.9985282407159164,
           0.9977250077280614,
           0.9992138192612788,
           0.9980049791665142,
           0.9945922155793996,
           0.9910005646927952,
           0.9055672690652262,
           0.9771394695070359,
           0.9425822605658223
          ],
          [
           0.9999151604057245,
           0.9999166226524682,
           0.9998964565689445,
           0.9998155640211603,
           0.9999008243421649,
           0.9998875415454578,
           1,
           0.9999512578359313,
           0.9996123691477161,
           0.9996868595954921,
           0.9994361068950143,
           0.9996518613581356,
           0.9995297854197194,
           0.9995838470454531,
           0.9995287709831429,
           0.9988248638539898,
           0.9978167733236919,
           0.9986322989368945,
           0.9977107444384127,
           0.9991813122148148,
           0.997713542334244,
           0.9938607941651249,
           0.9917023291029622,
           0.9071031180393273,
           0.9775210969323007,
           0.9385917788453285
          ],
          [
           0.9999738198180765,
           0.9999733633036811,
           0.9999742295040275,
           0.9999279660622636,
           0.9999627210642122,
           0.9999293784570285,
           0.9999512578359313,
           1,
           0.999617197629841,
           0.9997936718836551,
           0.9995458773039159,
           0.9995604360981426,
           0.9994217803123067,
           0.9995544575656169,
           0.9994827800373824,
           0.9989410969289935,
           0.9979202207021461,
           0.9984624807226926,
           0.997618196188177,
           0.9990590455148997,
           0.9977028111184852,
           0.9941777575328706,
           0.9916459356131422,
           0.9036591528965052,
           0.9776318574100288,
           0.9404035401573231
          ],
          [
           0.9996986597282279,
           0.9997377423389371,
           0.9996761877750263,
           0.9995589864933568,
           0.9997573934356104,
           0.9997492505979778,
           0.9996123691477161,
           0.999617197629841,
           1,
           0.9997483700655463,
           0.9990387796998206,
           0.9997635222681709,
           0.9994968028984389,
           0.9993252582134801,
           0.9993946346242145,
           0.9991966119904119,
           0.9990187839492725,
           0.9987671993417161,
           0.9985126407794044,
           0.999355886154346,
           0.998637177704608,
           0.9950471337107658,
           0.9888119860124827,
           0.909800831492911,
           0.9782053696058761,
           0.9435444758708834
          ],
          [
           0.9998834106359444,
           0.9998850545038105,
           0.9998812114476918,
           0.9998987330178869,
           0.9998682627782414,
           0.9999392562317142,
           0.9996868595954921,
           0.9997936718836551,
           0.9997483700655463,
           1,
           0.9995435754007578,
           0.9995000316484794,
           0.9992982478416498,
           0.9992924827486589,
           0.9992630950645289,
           0.9991968186135938,
           0.9985424041521002,
           0.9983013645109826,
           0.9977511305850144,
           0.9991468624426769,
           0.9982684051928025,
           0.9953613912049256,
           0.9900306286819631,
           0.9036312685820331,
           0.9760894451771762,
           0.9440126269314313
          ],
          [
           0.9996790714707272,
           0.9996393910796211,
           0.9996847425579484,
           0.9996628514635325,
           0.9996350334806339,
           0.9995741701051261,
           0.9994361068950143,
           0.9995458773039159,
           0.9990387796998206,
           0.9995435754007578,
           1,
           0.9993620208374909,
           0.9990629648192155,
           0.9996665832305346,
           0.9995705408825657,
           0.999490222912042,
           0.9981845543704281,
           0.9987807809274372,
           0.9979231638890713,
           0.9993362747014347,
           0.9982390797351643,
           0.9957801669249309,
           0.9893822910463478,
           0.9018294065526464,
           0.977316059446991,
           0.9403422615316083
          ],
          [
           0.9996665822591668,
           0.9996883930305714,
           0.9996306751773132,
           0.9994247667319764,
           0.9997180211753266,
           0.9996181754758509,
           0.9996518613581356,
           0.9995604360981426,
           0.9997635222681709,
           0.9995000316484794,
           0.9993620208374909,
           1,
           0.9996891755347749,
           0.9998078357797309,
           0.999867798574399,
           0.9995232961486257,
           0.999022610949572,
           0.999524391706809,
           0.9990987915996797,
           0.9998414981022641,
           0.998960311222653,
           0.9953364650940086,
           0.9882169867454091,
           0.9126697221902028,
           0.9794103320339542,
           0.9394831456898479
          ],
          [
           0.9994620225584929,
           0.9995164329722105,
           0.9994449596748008,
           0.9991419688201258,
           0.9994832121858704,
           0.9993725696975119,
           0.9995297854197194,
           0.9994217803123067,
           0.9994968028984389,
           0.9992982478416498,
           0.9990629648192155,
           0.9996891755347749,
           1,
           0.9994220550993214,
           0.9994638243260511,
           0.9990156258527083,
           0.9984540611420579,
           0.9987453914806668,
           0.9987423082016266,
           0.9994448926336158,
           0.9988685124666165,
           0.9958657208347789,
           0.9880429367923687,
           0.9083212094374892,
           0.9752052502687744,
           0.9330897470115097
          ],
          [
           0.999642024281989,
           0.9996341347309008,
           0.999624890777147,
           0.999437229876829,
           0.9996737610766913,
           0.9994819835447638,
           0.9995838470454531,
           0.9995544575656169,
           0.9993252582134801,
           0.9992924827486589,
           0.9996665832305346,
           0.9998078357797309,
           0.9994220550993214,
           1,
           0.9999858944592411,
           0.9995715559484916,
           0.9985548563534654,
           0.9995738921675786,
           0.9988411715993905,
           0.9997125495775654,
           0.998541953224027,
           0.9951098793837074,
           0.9888306194279638,
           0.9088510429219748,
           0.9805630257126181,
           0.9383640054335589
          ],
          [
           0.999587877153287,
           0.9995883977685008,
           0.9995656875900956,
           0.9993533485062847,
           0.9996348003161848,
           0.9994378698232764,
           0.9995287709831429,
           0.9994827800373824,
           0.9993946346242145,
           0.9992630950645289,
           0.9995705408825657,
           0.999867798574399,
           0.9994638243260511,
           0.9999858944592411,
           1,
           0.9996284459619807,
           0.9987633561418697,
           0.9996784074312619,
           0.9990598624695429,
           0.9997943193061671,
           0.9987368001542587,
           0.9952651062360492,
           0.9882667205385918,
           0.9102565134398429,
           0.9807846800111738,
           0.9386068700003992
          ],
          [
           0.9992112006137952,
           0.9992141452064648,
           0.9992082731701514,
           0.9990425851161272,
           0.9992732657947545,
           0.9990948902212367,
           0.9988248638539898,
           0.9989410969289935,
           0.9991966119904119,
           0.9991968186135938,
           0.999490222912042,
           0.9995232961486257,
           0.9990156258527083,
           0.9995715559484916,
           0.9996284459619807,
           1,
           0.9995096232395027,
           0.9993783181738615,
           0.9992738611235501,
           0.9996897254349033,
           0.9993893973651918,
           0.9970902073172744,
           0.9852436243559068,
           0.9067921919635024,
           0.9797657544341302,
           0.9431486732473849
          ],
          [
           0.9982810663091228,
           0.9983372417919992,
           0.9982629634307627,
           0.998022809545605,
           0.9984250310308128,
           0.9982706102875852,
           0.9978167733236919,
           0.9979202207021461,
           0.9990187839492725,
           0.9985424041521002,
           0.9981845543704281,
           0.999022610949572,
           0.9984540611420579,
           0.9985548563534654,
           0.9987633561418697,
           0.9995096232395027,
           1,
           0.9988110789602569,
           0.9994473335058836,
           0.999185963727126,
           0.9996385998117815,
           0.9973078916813461,
           0.9817620381886957,
           0.9112011183817973,
           0.9794021874005697,
           0.9463161989017089
          ],
          [
           0.9986700482302433,
           0.9986683848788066,
           0.9986095892048056,
           0.9983208752044399,
           0.998766244921637,
           0.9985282407159164,
           0.9986322989368945,
           0.9984624807226926,
           0.9987671993417161,
           0.9983013645109826,
           0.9987807809274372,
           0.999524391706809,
           0.9987453914806668,
           0.9995738921675786,
           0.9996784074312619,
           0.9993783181738615,
           0.9988110789602569,
           1,
           0.999388372978003,
           0.9997238010759715,
           0.9987402266861536,
           0.9947872825370142,
           0.9855229208626066,
           0.9183933465841905,
           0.9830766879566688,
           0.9389393077544824
          ],
          [
           0.99790863934883,
           0.9979780433774986,
           0.9978741523629941,
           0.997399700238903,
           0.9980712914068022,
           0.9977250077280614,
           0.9977107444384127,
           0.997618196188177,
           0.9985126407794044,
           0.9977511305850144,
           0.9979231638890713,
           0.9990987915996797,
           0.9987423082016266,
           0.9988411715993905,
           0.9990598624695429,
           0.9992738611235501,
           0.9994473335058836,
           0.999388372978003,
           1,
           0.9993749177456541,
           0.9995926460491843,
           0.9967728548341293,
           0.9811704159597879,
           0.9155469460686138,
           0.9805920357171687,
           0.9370133950890643
          ],
          [
           0.9992723270128002,
           0.9992808223617815,
           0.9992245638183274,
           0.9989944454666384,
           0.9993146182308917,
           0.9992138192612788,
           0.9991813122148148,
           0.9990590455148997,
           0.999355886154346,
           0.9991468624426769,
           0.9993362747014347,
           0.9998414981022641,
           0.9994448926336158,
           0.9997125495775654,
           0.9997943193061671,
           0.9996897254349033,
           0.999185963727126,
           0.9997238010759715,
           0.9993749177456541,
           1,
           0.9993416582525868,
           0.996170564748276,
           0.9862240172262114,
           0.9145291986807885,
           0.9789918796530862,
           0.9385893003297577
          ],
          [
           0.9980709429667384,
           0.9981348186575597,
           0.998047104799354,
           0.9976880621203479,
           0.9981645673964836,
           0.9980049791665142,
           0.997713542334244,
           0.9977028111184852,
           0.998637177704608,
           0.9982684051928025,
           0.9982390797351643,
           0.998960311222653,
           0.9988685124666165,
           0.998541953224027,
           0.9987368001542587,
           0.9993893973651918,
           0.9996385998117815,
           0.9987402266861536,
           0.9995926460491843,
           0.9993416582525868,
           1,
           0.9983132962698142,
           0.9808165335974719,
           0.9110769748586387,
           0.975732732575985,
           0.938194938470322
          ],
          [
           0.9947529917599071,
           0.9948255778063094,
           0.9948067789817019,
           0.9944430277883631,
           0.9947876191935136,
           0.9945922155793996,
           0.9938607941651249,
           0.9941777575328706,
           0.9950471337107658,
           0.9953613912049256,
           0.9957801669249309,
           0.9953364650940086,
           0.9958657208347789,
           0.9951098793837074,
           0.9952651062360492,
           0.9970902073172744,
           0.9973078916813461,
           0.9947872825370142,
           0.9967728548341293,
           0.996170564748276,
           0.9983132962698142,
           1,
           0.9734610147268843,
           0.8924366514242463,
           0.9660652533277758,
           0.9337852981508851
          ],
          [
           0.9908944188715478,
           0.9907567286725382,
           0.9908913420842766,
           0.9914471680649175,
           0.9906292596101911,
           0.9910005646927952,
           0.9917023291029622,
           0.9916459356131422,
           0.9888119860124827,
           0.9900306286819631,
           0.9893822910463478,
           0.9882169867454091,
           0.9880429367923687,
           0.9888306194279638,
           0.9882667205385918,
           0.9852436243559068,
           0.9817620381886957,
           0.9855229208626066,
           0.9811704159597879,
           0.9862240172262114,
           0.9808165335974719,
           0.9734610147268843,
           1,
           0.8853797185049529,
           0.9666543222853244,
           0.9292912247505983
          ],
          [
           0.9043503316605696,
           0.9044177331740019,
           0.9034501538040102,
           0.9023708054885056,
           0.9048293291057186,
           0.9055672690652262,
           0.9071031180393273,
           0.9036591528965052,
           0.909800831492911,
           0.9036312685820331,
           0.9018294065526464,
           0.9126697221902028,
           0.9083212094374892,
           0.9088510429219748,
           0.9102565134398429,
           0.9067921919635024,
           0.9112011183817973,
           0.9183933465841905,
           0.9155469460686138,
           0.9145291986807885,
           0.9110769748586387,
           0.8924366514242463,
           0.8853797185049529,
           1,
           0.9146150909202292,
           0.8472101348060105
          ],
          [
           0.9777211592220625,
           0.9776514595444692,
           0.9776630361945359,
           0.977385115765348,
           0.978296581870331,
           0.9771394695070359,
           0.9775210969323007,
           0.9776318574100288,
           0.9782053696058761,
           0.9760894451771762,
           0.977316059446991,
           0.9794103320339542,
           0.9752052502687744,
           0.9805630257126181,
           0.9807846800111738,
           0.9797657544341302,
           0.9794021874005697,
           0.9830766879566688,
           0.9805920357171687,
           0.9789918796530862,
           0.975732732575985,
           0.9660652533277758,
           0.9666543222853244,
           0.9146150909202292,
           1,
           0.9486463043293071
          ],
          [
           0.9413945242441216,
           0.9411934738861086,
           0.9414383139748872,
           0.9433492160910318,
           0.9417858008279534,
           0.9425822605658223,
           0.9385917788453285,
           0.9404035401573231,
           0.9435444758708834,
           0.9440126269314313,
           0.9403422615316083,
           0.9394831456898479,
           0.9330897470115097,
           0.9383640054335589,
           0.9386068700003992,
           0.9431486732473849,
           0.9463161989017089,
           0.9389393077544824,
           0.9370133950890643,
           0.9385893003297577,
           0.938194938470322,
           0.9337852981508851,
           0.9292912247505983,
           0.8472101348060105,
           0.9486463043293071,
           1
          ]
         ]
        }
       ],
       "layout": {
        "coloraxis": {
         "colorscale": [
          [
           0,
           "#0d0887"
          ],
          [
           0.1111111111111111,
           "#46039f"
          ],
          [
           0.2222222222222222,
           "#7201a8"
          ],
          [
           0.3333333333333333,
           "#9c179e"
          ],
          [
           0.4444444444444444,
           "#bd3786"
          ],
          [
           0.5555555555555556,
           "#d8576b"
          ],
          [
           0.6666666666666666,
           "#ed7953"
          ],
          [
           0.7777777777777778,
           "#fb9f3a"
          ],
          [
           0.8888888888888888,
           "#fdca26"
          ],
          [
           1,
           "#f0f921"
          ]
         ]
        },
        "margin": {
         "t": 60
        },
        "template": {
         "data": {
          "bar": [
           {
            "error_x": {
             "color": "#2a3f5f"
            },
            "error_y": {
             "color": "#2a3f5f"
            },
            "marker": {
             "line": {
              "color": "#E5ECF6",
              "width": 0.5
             },
             "pattern": {
              "fillmode": "overlay",
              "size": 10,
              "solidity": 0.2
             }
            },
            "type": "bar"
           }
          ],
          "barpolar": [
           {
            "marker": {
             "line": {
              "color": "#E5ECF6",
              "width": 0.5
             },
             "pattern": {
              "fillmode": "overlay",
              "size": 10,
              "solidity": 0.2
             }
            },
            "type": "barpolar"
           }
          ],
          "carpet": [
           {
            "aaxis": {
             "endlinecolor": "#2a3f5f",
             "gridcolor": "white",
             "linecolor": "white",
             "minorgridcolor": "white",
             "startlinecolor": "#2a3f5f"
            },
            "baxis": {
             "endlinecolor": "#2a3f5f",
             "gridcolor": "white",
             "linecolor": "white",
             "minorgridcolor": "white",
             "startlinecolor": "#2a3f5f"
            },
            "type": "carpet"
           }
          ],
          "choropleth": [
           {
            "colorbar": {
             "outlinewidth": 0,
             "ticks": ""
            },
            "type": "choropleth"
           }
          ],
          "contour": [
           {
            "colorbar": {
             "outlinewidth": 0,
             "ticks": ""
            },
            "colorscale": [
             [
              0,
              "#0d0887"
             ],
             [
              0.1111111111111111,
              "#46039f"
             ],
             [
              0.2222222222222222,
              "#7201a8"
             ],
             [
              0.3333333333333333,
              "#9c179e"
             ],
             [
              0.4444444444444444,
              "#bd3786"
             ],
             [
              0.5555555555555556,
              "#d8576b"
             ],
             [
              0.6666666666666666,
              "#ed7953"
             ],
             [
              0.7777777777777778,
              "#fb9f3a"
             ],
             [
              0.8888888888888888,
              "#fdca26"
             ],
             [
              1,
              "#f0f921"
             ]
            ],
            "type": "contour"
           }
          ],
          "contourcarpet": [
           {
            "colorbar": {
             "outlinewidth": 0,
             "ticks": ""
            },
            "type": "contourcarpet"
           }
          ],
          "heatmap": [
           {
            "colorbar": {
             "outlinewidth": 0,
             "ticks": ""
            },
            "colorscale": [
             [
              0,
              "#0d0887"
             ],
             [
              0.1111111111111111,
              "#46039f"
             ],
             [
              0.2222222222222222,
              "#7201a8"
             ],
             [
              0.3333333333333333,
              "#9c179e"
             ],
             [
              0.4444444444444444,
              "#bd3786"
             ],
             [
              0.5555555555555556,
              "#d8576b"
             ],
             [
              0.6666666666666666,
              "#ed7953"
             ],
             [
              0.7777777777777778,
              "#fb9f3a"
             ],
             [
              0.8888888888888888,
              "#fdca26"
             ],
             [
              1,
              "#f0f921"
             ]
            ],
            "type": "heatmap"
           }
          ],
          "heatmapgl": [
           {
            "colorbar": {
             "outlinewidth": 0,
             "ticks": ""
            },
            "colorscale": [
             [
              0,
              "#0d0887"
             ],
             [
              0.1111111111111111,
              "#46039f"
             ],
             [
              0.2222222222222222,
              "#7201a8"
             ],
             [
              0.3333333333333333,
              "#9c179e"
             ],
             [
              0.4444444444444444,
              "#bd3786"
             ],
             [
              0.5555555555555556,
              "#d8576b"
             ],
             [
              0.6666666666666666,
              "#ed7953"
             ],
             [
              0.7777777777777778,
              "#fb9f3a"
             ],
             [
              0.8888888888888888,
              "#fdca26"
             ],
             [
              1,
              "#f0f921"
             ]
            ],
            "type": "heatmapgl"
           }
          ],
          "histogram": [
           {
            "marker": {
             "pattern": {
              "fillmode": "overlay",
              "size": 10,
              "solidity": 0.2
             }
            },
            "type": "histogram"
           }
          ],
          "histogram2d": [
           {
            "colorbar": {
             "outlinewidth": 0,
             "ticks": ""
            },
            "colorscale": [
             [
              0,
              "#0d0887"
             ],
             [
              0.1111111111111111,
              "#46039f"
             ],
             [
              0.2222222222222222,
              "#7201a8"
             ],
             [
              0.3333333333333333,
              "#9c179e"
             ],
             [
              0.4444444444444444,
              "#bd3786"
             ],
             [
              0.5555555555555556,
              "#d8576b"
             ],
             [
              0.6666666666666666,
              "#ed7953"
             ],
             [
              0.7777777777777778,
              "#fb9f3a"
             ],
             [
              0.8888888888888888,
              "#fdca26"
             ],
             [
              1,
              "#f0f921"
             ]
            ],
            "type": "histogram2d"
           }
          ],
          "histogram2dcontour": [
           {
            "colorbar": {
             "outlinewidth": 0,
             "ticks": ""
            },
            "colorscale": [
             [
              0,
              "#0d0887"
             ],
             [
              0.1111111111111111,
              "#46039f"
             ],
             [
              0.2222222222222222,
              "#7201a8"
             ],
             [
              0.3333333333333333,
              "#9c179e"
             ],
             [
              0.4444444444444444,
              "#bd3786"
             ],
             [
              0.5555555555555556,
              "#d8576b"
             ],
             [
              0.6666666666666666,
              "#ed7953"
             ],
             [
              0.7777777777777778,
              "#fb9f3a"
             ],
             [
              0.8888888888888888,
              "#fdca26"
             ],
             [
              1,
              "#f0f921"
             ]
            ],
            "type": "histogram2dcontour"
           }
          ],
          "mesh3d": [
           {
            "colorbar": {
             "outlinewidth": 0,
             "ticks": ""
            },
            "type": "mesh3d"
           }
          ],
          "parcoords": [
           {
            "line": {
             "colorbar": {
              "outlinewidth": 0,
              "ticks": ""
             }
            },
            "type": "parcoords"
           }
          ],
          "pie": [
           {
            "automargin": true,
            "type": "pie"
           }
          ],
          "scatter": [
           {
            "fillpattern": {
             "fillmode": "overlay",
             "size": 10,
             "solidity": 0.2
            },
            "type": "scatter"
           }
          ],
          "scatter3d": [
           {
            "line": {
             "colorbar": {
              "outlinewidth": 0,
              "ticks": ""
             }
            },
            "marker": {
             "colorbar": {
              "outlinewidth": 0,
              "ticks": ""
             }
            },
            "type": "scatter3d"
           }
          ],
          "scattercarpet": [
           {
            "marker": {
             "colorbar": {
              "outlinewidth": 0,
              "ticks": ""
             }
            },
            "type": "scattercarpet"
           }
          ],
          "scattergeo": [
           {
            "marker": {
             "colorbar": {
              "outlinewidth": 0,
              "ticks": ""
             }
            },
            "type": "scattergeo"
           }
          ],
          "scattergl": [
           {
            "marker": {
             "colorbar": {
              "outlinewidth": 0,
              "ticks": ""
             }
            },
            "type": "scattergl"
           }
          ],
          "scattermapbox": [
           {
            "marker": {
             "colorbar": {
              "outlinewidth": 0,
              "ticks": ""
             }
            },
            "type": "scattermapbox"
           }
          ],
          "scatterpolar": [
           {
            "marker": {
             "colorbar": {
              "outlinewidth": 0,
              "ticks": ""
             }
            },
            "type": "scatterpolar"
           }
          ],
          "scatterpolargl": [
           {
            "marker": {
             "colorbar": {
              "outlinewidth": 0,
              "ticks": ""
             }
            },
            "type": "scatterpolargl"
           }
          ],
          "scatterternary": [
           {
            "marker": {
             "colorbar": {
              "outlinewidth": 0,
              "ticks": ""
             }
            },
            "type": "scatterternary"
           }
          ],
          "surface": [
           {
            "colorbar": {
             "outlinewidth": 0,
             "ticks": ""
            },
            "colorscale": [
             [
              0,
              "#0d0887"
             ],
             [
              0.1111111111111111,
              "#46039f"
             ],
             [
              0.2222222222222222,
              "#7201a8"
             ],
             [
              0.3333333333333333,
              "#9c179e"
             ],
             [
              0.4444444444444444,
              "#bd3786"
             ],
             [
              0.5555555555555556,
              "#d8576b"
             ],
             [
              0.6666666666666666,
              "#ed7953"
             ],
             [
              0.7777777777777778,
              "#fb9f3a"
             ],
             [
              0.8888888888888888,
              "#fdca26"
             ],
             [
              1,
              "#f0f921"
             ]
            ],
            "type": "surface"
           }
          ],
          "table": [
           {
            "cells": {
             "fill": {
              "color": "#EBF0F8"
             },
             "line": {
              "color": "white"
             }
            },
            "header": {
             "fill": {
              "color": "#C8D4E3"
             },
             "line": {
              "color": "white"
             }
            },
            "type": "table"
           }
          ]
         },
         "layout": {
          "annotationdefaults": {
           "arrowcolor": "#2a3f5f",
           "arrowhead": 0,
           "arrowwidth": 1
          },
          "autotypenumbers": "strict",
          "coloraxis": {
           "colorbar": {
            "outlinewidth": 0,
            "ticks": ""
           }
          },
          "colorscale": {
           "diverging": [
            [
             0,
             "#8e0152"
            ],
            [
             0.1,
             "#c51b7d"
            ],
            [
             0.2,
             "#de77ae"
            ],
            [
             0.3,
             "#f1b6da"
            ],
            [
             0.4,
             "#fde0ef"
            ],
            [
             0.5,
             "#f7f7f7"
            ],
            [
             0.6,
             "#e6f5d0"
            ],
            [
             0.7,
             "#b8e186"
            ],
            [
             0.8,
             "#7fbc41"
            ],
            [
             0.9,
             "#4d9221"
            ],
            [
             1,
             "#276419"
            ]
           ],
           "sequential": [
            [
             0,
             "#0d0887"
            ],
            [
             0.1111111111111111,
             "#46039f"
            ],
            [
             0.2222222222222222,
             "#7201a8"
            ],
            [
             0.3333333333333333,
             "#9c179e"
            ],
            [
             0.4444444444444444,
             "#bd3786"
            ],
            [
             0.5555555555555556,
             "#d8576b"
            ],
            [
             0.6666666666666666,
             "#ed7953"
            ],
            [
             0.7777777777777778,
             "#fb9f3a"
            ],
            [
             0.8888888888888888,
             "#fdca26"
            ],
            [
             1,
             "#f0f921"
            ]
           ],
           "sequentialminus": [
            [
             0,
             "#0d0887"
            ],
            [
             0.1111111111111111,
             "#46039f"
            ],
            [
             0.2222222222222222,
             "#7201a8"
            ],
            [
             0.3333333333333333,
             "#9c179e"
            ],
            [
             0.4444444444444444,
             "#bd3786"
            ],
            [
             0.5555555555555556,
             "#d8576b"
            ],
            [
             0.6666666666666666,
             "#ed7953"
            ],
            [
             0.7777777777777778,
             "#fb9f3a"
            ],
            [
             0.8888888888888888,
             "#fdca26"
            ],
            [
             1,
             "#f0f921"
            ]
           ]
          },
          "colorway": [
           "#636efa",
           "#EF553B",
           "#00cc96",
           "#ab63fa",
           "#FFA15A",
           "#19d3f3",
           "#FF6692",
           "#B6E880",
           "#FF97FF",
           "#FECB52"
          ],
          "font": {
           "color": "#2a3f5f"
          },
          "geo": {
           "bgcolor": "white",
           "lakecolor": "white",
           "landcolor": "#E5ECF6",
           "showlakes": true,
           "showland": true,
           "subunitcolor": "white"
          },
          "hoverlabel": {
           "align": "left"
          },
          "hovermode": "closest",
          "mapbox": {
           "style": "light"
          },
          "paper_bgcolor": "white",
          "plot_bgcolor": "#E5ECF6",
          "polar": {
           "angularaxis": {
            "gridcolor": "white",
            "linecolor": "white",
            "ticks": ""
           },
           "bgcolor": "#E5ECF6",
           "radialaxis": {
            "gridcolor": "white",
            "linecolor": "white",
            "ticks": ""
           }
          },
          "scene": {
           "xaxis": {
            "backgroundcolor": "#E5ECF6",
            "gridcolor": "white",
            "gridwidth": 2,
            "linecolor": "white",
            "showbackground": true,
            "ticks": "",
            "zerolinecolor": "white"
           },
           "yaxis": {
            "backgroundcolor": "#E5ECF6",
            "gridcolor": "white",
            "gridwidth": 2,
            "linecolor": "white",
            "showbackground": true,
            "ticks": "",
            "zerolinecolor": "white"
           },
           "zaxis": {
            "backgroundcolor": "#E5ECF6",
            "gridcolor": "white",
            "gridwidth": 2,
            "linecolor": "white",
            "showbackground": true,
            "ticks": "",
            "zerolinecolor": "white"
           }
          },
          "shapedefaults": {
           "line": {
            "color": "#2a3f5f"
           }
          },
          "ternary": {
           "aaxis": {
            "gridcolor": "white",
            "linecolor": "white",
            "ticks": ""
           },
           "baxis": {
            "gridcolor": "white",
            "linecolor": "white",
            "ticks": ""
           },
           "bgcolor": "#E5ECF6",
           "caxis": {
            "gridcolor": "white",
            "linecolor": "white",
            "ticks": ""
           }
          },
          "title": {
           "x": 0.05
          },
          "xaxis": {
           "automargin": true,
           "gridcolor": "white",
           "linecolor": "white",
           "ticks": "",
           "title": {
            "standoff": 15
           },
           "zerolinecolor": "white",
           "zerolinewidth": 2
          },
          "yaxis": {
           "automargin": true,
           "gridcolor": "white",
           "linecolor": "white",
           "ticks": "",
           "title": {
            "standoff": 15
           },
           "zerolinecolor": "white",
           "zerolinewidth": 2
          }
         }
        },
        "xaxis": {
         "anchor": "y",
         "constrain": "domain",
         "domain": [
          0,
          1
         ],
         "scaleanchor": "y"
        },
        "yaxis": {
         "anchor": "x",
         "autorange": "reversed",
         "constrain": "domain",
         "domain": [
          0,
          1
         ]
        }
       }
      },
      "text/html": [
       "<div>                            <div id=\"8e457460-3c73-4905-a8c9-0f9a96a799d6\" class=\"plotly-graph-div\" style=\"height:525px; width:100%;\"></div>            <script type=\"text/javascript\">                require([\"plotly\"], function(Plotly) {                    window.PLOTLYENV=window.PLOTLYENV || {};                                    if (document.getElementById(\"8e457460-3c73-4905-a8c9-0f9a96a799d6\")) {                    Plotly.newPlot(                        \"8e457460-3c73-4905-a8c9-0f9a96a799d6\",                        [{\"coloraxis\":\"coloraxis\",\"name\":\"0\",\"x\":[\"0\",\"0.005\",\"0.01\",\"0.015\",\"0.02\",\"0.025\",\"0.03\",\"0.035\",\"0.04\",\"0.045\",\"0.05\",\"0.055\",\"0.06\",\"0.065\",\"0.07\",\"0.075\",\"0.08\",\"0.085\",\"0.09\",\"0.095\",\"0.1\",\"0.3\",\"0.5\",\"0.7\",\"0.9\",\"1\"],\"y\":[\"0\",\"0.005\",\"0.01\",\"0.015\",\"0.02\",\"0.025\",\"0.03\",\"0.035\",\"0.04\",\"0.045\",\"0.05\",\"0.055\",\"0.06\",\"0.065\",\"0.07\",\"0.075\",\"0.08\",\"0.085\",\"0.09\",\"0.095\",\"0.1\",\"0.3\",\"0.5\",\"0.7\",\"0.9\",\"1\"],\"z\":[[1.0,0.9999969885613903,0.9999975084660078,0.9999558250753281,0.9999920757764111,0.9999683578371849,0.9999151604057245,0.9999738198180765,0.9996986597282279,0.9998834106359444,0.9996790714707272,0.9996665822591668,0.9994620225584929,0.999642024281989,0.999587877153287,0.9992112006137952,0.9982810663091228,0.9986700482302433,0.99790863934883,0.9992723270128002,0.9980709429667384,0.9947529917599071,0.9908944188715478,0.9043503316605696,0.9777211592220625,0.9413945242441216],[0.9999969885613903,1.0,0.9999952476175926,0.9999381487667532,0.999994811982482,0.9999635903338945,0.9999166226524682,0.9999733633036811,0.9997377423389371,0.9998850545038105,0.9996393910796211,0.9996883930305714,0.9995164329722105,0.9996341347309008,0.9995883977685008,0.9992141452064648,0.9983372417919992,0.9986683848788066,0.9979780433774986,0.9992808223617815,0.9981348186575597,0.9948255778063094,0.9907567286725382,0.9044177331740019,0.9776514595444692,0.9411934738861086],[0.9999975084660078,0.9999952476175926,1.0,0.9999591613777128,0.9999899274046038,0.9999563644132795,0.9998964565689445,0.9999742295040275,0.9996761877750263,0.9998812114476918,0.9996847425579484,0.9996306751773132,0.9994449596748008,0.999624890777147,0.9995656875900956,0.9992082731701514,0.9982629634307627,0.9986095892048056,0.9978741523629941,0.9992245638183274,0.998047104799354,0.9948067789817019,0.9908913420842766,0.9034501538040102,0.9776630361945359,0.9414383139748872],[0.9999558250753281,0.9999381487667532,0.9999591613777128,1.0,0.9999297321228154,0.9999552834118449,0.9998155640211603,0.9999279660622636,0.9995589864933568,0.9998987330178869,0.9996628514635325,0.9994247667319764,0.9991419688201258,0.999437229876829,0.9993533485062847,0.9990425851161272,0.998022809545605,0.9983208752044399,0.997399700238903,0.9989944454666384,0.9976880621203479,0.9944430277883631,0.9914471680649175,0.9023708054885056,0.977385115765348,0.9433492160910318],[0.9999920757764111,0.999994811982482,0.9999899274046038,0.9999297321228154,1.0,0.9999524036237829,0.9999008243421649,0.9999627210642122,0.9997573934356104,0.9998682627782414,0.9996350334806339,0.9997180211753266,0.9994832121858704,0.9996737610766913,0.9996348003161848,0.9992732657947545,0.9984250310308128,0.998766244921637,0.9980712914068022,0.9993146182308917,0.9981645673964836,0.9947876191935136,0.9906292596101911,0.9048293291057186,0.978296581870331,0.9417858008279534],[0.9999683578371849,0.9999635903338945,0.9999563644132795,0.9999552834118449,0.9999524036237829,1.0,0.9998875415454578,0.9999293784570285,0.9997492505979778,0.9999392562317142,0.9995741701051261,0.9996181754758509,0.9993725696975119,0.9994819835447638,0.9994378698232764,0.9990948902212367,0.9982706102875852,0.9985282407159164,0.9977250077280614,0.9992138192612788,0.9980049791665142,0.9945922155793996,0.9910005646927952,0.9055672690652262,0.9771394695070359,0.9425822605658223],[0.9999151604057245,0.9999166226524682,0.9998964565689445,0.9998155640211603,0.9999008243421649,0.9998875415454578,1.0,0.9999512578359313,0.9996123691477161,0.9996868595954921,0.9994361068950143,0.9996518613581356,0.9995297854197194,0.9995838470454531,0.9995287709831429,0.9988248638539898,0.9978167733236919,0.9986322989368945,0.9977107444384127,0.9991813122148148,0.997713542334244,0.9938607941651249,0.9917023291029622,0.9071031180393273,0.9775210969323007,0.9385917788453285],[0.9999738198180765,0.9999733633036811,0.9999742295040275,0.9999279660622636,0.9999627210642122,0.9999293784570285,0.9999512578359313,1.0,0.999617197629841,0.9997936718836551,0.9995458773039159,0.9995604360981426,0.9994217803123067,0.9995544575656169,0.9994827800373824,0.9989410969289935,0.9979202207021461,0.9984624807226926,0.997618196188177,0.9990590455148997,0.9977028111184852,0.9941777575328706,0.9916459356131422,0.9036591528965052,0.9776318574100288,0.9404035401573231],[0.9996986597282279,0.9997377423389371,0.9996761877750263,0.9995589864933568,0.9997573934356104,0.9997492505979778,0.9996123691477161,0.999617197629841,1.0,0.9997483700655463,0.9990387796998206,0.9997635222681709,0.9994968028984389,0.9993252582134801,0.9993946346242145,0.9991966119904119,0.9990187839492725,0.9987671993417161,0.9985126407794044,0.999355886154346,0.998637177704608,0.9950471337107658,0.9888119860124827,0.909800831492911,0.9782053696058761,0.9435444758708834],[0.9998834106359444,0.9998850545038105,0.9998812114476918,0.9998987330178869,0.9998682627782414,0.9999392562317142,0.9996868595954921,0.9997936718836551,0.9997483700655463,1.0,0.9995435754007578,0.9995000316484794,0.9992982478416498,0.9992924827486589,0.9992630950645289,0.9991968186135938,0.9985424041521002,0.9983013645109826,0.9977511305850144,0.9991468624426769,0.9982684051928025,0.9953613912049256,0.9900306286819631,0.9036312685820331,0.9760894451771762,0.9440126269314313],[0.9996790714707272,0.9996393910796211,0.9996847425579484,0.9996628514635325,0.9996350334806339,0.9995741701051261,0.9994361068950143,0.9995458773039159,0.9990387796998206,0.9995435754007578,1.0,0.9993620208374909,0.9990629648192155,0.9996665832305346,0.9995705408825657,0.999490222912042,0.9981845543704281,0.9987807809274372,0.9979231638890713,0.9993362747014347,0.9982390797351643,0.9957801669249309,0.9893822910463478,0.9018294065526464,0.977316059446991,0.9403422615316083],[0.9996665822591668,0.9996883930305714,0.9996306751773132,0.9994247667319764,0.9997180211753266,0.9996181754758509,0.9996518613581356,0.9995604360981426,0.9997635222681709,0.9995000316484794,0.9993620208374909,1.0,0.9996891755347749,0.9998078357797309,0.999867798574399,0.9995232961486257,0.999022610949572,0.999524391706809,0.9990987915996797,0.9998414981022641,0.998960311222653,0.9953364650940086,0.9882169867454091,0.9126697221902028,0.9794103320339542,0.9394831456898479],[0.9994620225584929,0.9995164329722105,0.9994449596748008,0.9991419688201258,0.9994832121858704,0.9993725696975119,0.9995297854197194,0.9994217803123067,0.9994968028984389,0.9992982478416498,0.9990629648192155,0.9996891755347749,1.0,0.9994220550993214,0.9994638243260511,0.9990156258527083,0.9984540611420579,0.9987453914806668,0.9987423082016266,0.9994448926336158,0.9988685124666165,0.9958657208347789,0.9880429367923687,0.9083212094374892,0.9752052502687744,0.9330897470115097],[0.999642024281989,0.9996341347309008,0.999624890777147,0.999437229876829,0.9996737610766913,0.9994819835447638,0.9995838470454531,0.9995544575656169,0.9993252582134801,0.9992924827486589,0.9996665832305346,0.9998078357797309,0.9994220550993214,1.0,0.9999858944592411,0.9995715559484916,0.9985548563534654,0.9995738921675786,0.9988411715993905,0.9997125495775654,0.998541953224027,0.9951098793837074,0.9888306194279638,0.9088510429219748,0.9805630257126181,0.9383640054335589],[0.999587877153287,0.9995883977685008,0.9995656875900956,0.9993533485062847,0.9996348003161848,0.9994378698232764,0.9995287709831429,0.9994827800373824,0.9993946346242145,0.9992630950645289,0.9995705408825657,0.999867798574399,0.9994638243260511,0.9999858944592411,1.0,0.9996284459619807,0.9987633561418697,0.9996784074312619,0.9990598624695429,0.9997943193061671,0.9987368001542587,0.9952651062360492,0.9882667205385918,0.9102565134398429,0.9807846800111738,0.9386068700003992],[0.9992112006137952,0.9992141452064648,0.9992082731701514,0.9990425851161272,0.9992732657947545,0.9990948902212367,0.9988248638539898,0.9989410969289935,0.9991966119904119,0.9991968186135938,0.999490222912042,0.9995232961486257,0.9990156258527083,0.9995715559484916,0.9996284459619807,1.0,0.9995096232395027,0.9993783181738615,0.9992738611235501,0.9996897254349033,0.9993893973651918,0.9970902073172744,0.9852436243559068,0.9067921919635024,0.9797657544341302,0.9431486732473849],[0.9982810663091228,0.9983372417919992,0.9982629634307627,0.998022809545605,0.9984250310308128,0.9982706102875852,0.9978167733236919,0.9979202207021461,0.9990187839492725,0.9985424041521002,0.9981845543704281,0.999022610949572,0.9984540611420579,0.9985548563534654,0.9987633561418697,0.9995096232395027,1.0,0.9988110789602569,0.9994473335058836,0.999185963727126,0.9996385998117815,0.9973078916813461,0.9817620381886957,0.9112011183817973,0.9794021874005697,0.9463161989017089],[0.9986700482302433,0.9986683848788066,0.9986095892048056,0.9983208752044399,0.998766244921637,0.9985282407159164,0.9986322989368945,0.9984624807226926,0.9987671993417161,0.9983013645109826,0.9987807809274372,0.999524391706809,0.9987453914806668,0.9995738921675786,0.9996784074312619,0.9993783181738615,0.9988110789602569,1.0,0.999388372978003,0.9997238010759715,0.9987402266861536,0.9947872825370142,0.9855229208626066,0.9183933465841905,0.9830766879566688,0.9389393077544824],[0.99790863934883,0.9979780433774986,0.9978741523629941,0.997399700238903,0.9980712914068022,0.9977250077280614,0.9977107444384127,0.997618196188177,0.9985126407794044,0.9977511305850144,0.9979231638890713,0.9990987915996797,0.9987423082016266,0.9988411715993905,0.9990598624695429,0.9992738611235501,0.9994473335058836,0.999388372978003,1.0,0.9993749177456541,0.9995926460491843,0.9967728548341293,0.9811704159597879,0.9155469460686138,0.9805920357171687,0.9370133950890643],[0.9992723270128002,0.9992808223617815,0.9992245638183274,0.9989944454666384,0.9993146182308917,0.9992138192612788,0.9991813122148148,0.9990590455148997,0.999355886154346,0.9991468624426769,0.9993362747014347,0.9998414981022641,0.9994448926336158,0.9997125495775654,0.9997943193061671,0.9996897254349033,0.999185963727126,0.9997238010759715,0.9993749177456541,1.0,0.9993416582525868,0.996170564748276,0.9862240172262114,0.9145291986807885,0.9789918796530862,0.9385893003297577],[0.9980709429667384,0.9981348186575597,0.998047104799354,0.9976880621203479,0.9981645673964836,0.9980049791665142,0.997713542334244,0.9977028111184852,0.998637177704608,0.9982684051928025,0.9982390797351643,0.998960311222653,0.9988685124666165,0.998541953224027,0.9987368001542587,0.9993893973651918,0.9996385998117815,0.9987402266861536,0.9995926460491843,0.9993416582525868,1.0,0.9983132962698142,0.9808165335974719,0.9110769748586387,0.975732732575985,0.938194938470322],[0.9947529917599071,0.9948255778063094,0.9948067789817019,0.9944430277883631,0.9947876191935136,0.9945922155793996,0.9938607941651249,0.9941777575328706,0.9950471337107658,0.9953613912049256,0.9957801669249309,0.9953364650940086,0.9958657208347789,0.9951098793837074,0.9952651062360492,0.9970902073172744,0.9973078916813461,0.9947872825370142,0.9967728548341293,0.996170564748276,0.9983132962698142,1.0,0.9734610147268843,0.8924366514242463,0.9660652533277758,0.9337852981508851],[0.9908944188715478,0.9907567286725382,0.9908913420842766,0.9914471680649175,0.9906292596101911,0.9910005646927952,0.9917023291029622,0.9916459356131422,0.9888119860124827,0.9900306286819631,0.9893822910463478,0.9882169867454091,0.9880429367923687,0.9888306194279638,0.9882667205385918,0.9852436243559068,0.9817620381886957,0.9855229208626066,0.9811704159597879,0.9862240172262114,0.9808165335974719,0.9734610147268843,1.0,0.8853797185049529,0.9666543222853244,0.9292912247505983],[0.9043503316605696,0.9044177331740019,0.9034501538040102,0.9023708054885056,0.9048293291057186,0.9055672690652262,0.9071031180393273,0.9036591528965052,0.909800831492911,0.9036312685820331,0.9018294065526464,0.9126697221902028,0.9083212094374892,0.9088510429219748,0.9102565134398429,0.9067921919635024,0.9112011183817973,0.9183933465841905,0.9155469460686138,0.9145291986807885,0.9110769748586387,0.8924366514242463,0.8853797185049529,1.0,0.9146150909202292,0.8472101348060105],[0.9777211592220625,0.9776514595444692,0.9776630361945359,0.977385115765348,0.978296581870331,0.9771394695070359,0.9775210969323007,0.9776318574100288,0.9782053696058761,0.9760894451771762,0.977316059446991,0.9794103320339542,0.9752052502687744,0.9805630257126181,0.9807846800111738,0.9797657544341302,0.9794021874005697,0.9830766879566688,0.9805920357171687,0.9789918796530862,0.975732732575985,0.9660652533277758,0.9666543222853244,0.9146150909202292,1.0,0.9486463043293071],[0.9413945242441216,0.9411934738861086,0.9414383139748872,0.9433492160910318,0.9417858008279534,0.9425822605658223,0.9385917788453285,0.9404035401573231,0.9435444758708834,0.9440126269314313,0.9403422615316083,0.9394831456898479,0.9330897470115097,0.9383640054335589,0.9386068700003992,0.9431486732473849,0.9463161989017089,0.9389393077544824,0.9370133950890643,0.9385893003297577,0.938194938470322,0.9337852981508851,0.9292912247505983,0.8472101348060105,0.9486463043293071,1.0]],\"type\":\"heatmap\",\"xaxis\":\"x\",\"yaxis\":\"y\",\"hovertemplate\":\"x: %{x}\\u003cbr\\u003ey: %{y}\\u003cbr\\u003ecolor: %{z}\\u003cextra\\u003e\\u003c\\u002fextra\\u003e\"}],                        {\"template\":{\"data\":{\"histogram2dcontour\":[{\"type\":\"histogram2dcontour\",\"colorbar\":{\"outlinewidth\":0,\"ticks\":\"\"},\"colorscale\":[[0.0,\"#0d0887\"],[0.1111111111111111,\"#46039f\"],[0.2222222222222222,\"#7201a8\"],[0.3333333333333333,\"#9c179e\"],[0.4444444444444444,\"#bd3786\"],[0.5555555555555556,\"#d8576b\"],[0.6666666666666666,\"#ed7953\"],[0.7777777777777778,\"#fb9f3a\"],[0.8888888888888888,\"#fdca26\"],[1.0,\"#f0f921\"]]}],\"choropleth\":[{\"type\":\"choropleth\",\"colorbar\":{\"outlinewidth\":0,\"ticks\":\"\"}}],\"histogram2d\":[{\"type\":\"histogram2d\",\"colorbar\":{\"outlinewidth\":0,\"ticks\":\"\"},\"colorscale\":[[0.0,\"#0d0887\"],[0.1111111111111111,\"#46039f\"],[0.2222222222222222,\"#7201a8\"],[0.3333333333333333,\"#9c179e\"],[0.4444444444444444,\"#bd3786\"],[0.5555555555555556,\"#d8576b\"],[0.6666666666666666,\"#ed7953\"],[0.7777777777777778,\"#fb9f3a\"],[0.8888888888888888,\"#fdca26\"],[1.0,\"#f0f921\"]]}],\"heatmap\":[{\"type\":\"heatmap\",\"colorbar\":{\"outlinewidth\":0,\"ticks\":\"\"},\"colorscale\":[[0.0,\"#0d0887\"],[0.1111111111111111,\"#46039f\"],[0.2222222222222222,\"#7201a8\"],[0.3333333333333333,\"#9c179e\"],[0.4444444444444444,\"#bd3786\"],[0.5555555555555556,\"#d8576b\"],[0.6666666666666666,\"#ed7953\"],[0.7777777777777778,\"#fb9f3a\"],[0.8888888888888888,\"#fdca26\"],[1.0,\"#f0f921\"]]}],\"heatmapgl\":[{\"type\":\"heatmapgl\",\"colorbar\":{\"outlinewidth\":0,\"ticks\":\"\"},\"colorscale\":[[0.0,\"#0d0887\"],[0.1111111111111111,\"#46039f\"],[0.2222222222222222,\"#7201a8\"],[0.3333333333333333,\"#9c179e\"],[0.4444444444444444,\"#bd3786\"],[0.5555555555555556,\"#d8576b\"],[0.6666666666666666,\"#ed7953\"],[0.7777777777777778,\"#fb9f3a\"],[0.8888888888888888,\"#fdca26\"],[1.0,\"#f0f921\"]]}],\"contourcarpet\":[{\"type\":\"contourcarpet\",\"colorbar\":{\"outlinewidth\":0,\"ticks\":\"\"}}],\"contour\":[{\"type\":\"contour\",\"colorbar\":{\"outlinewidth\":0,\"ticks\":\"\"},\"colorscale\":[[0.0,\"#0d0887\"],[0.1111111111111111,\"#46039f\"],[0.2222222222222222,\"#7201a8\"],[0.3333333333333333,\"#9c179e\"],[0.4444444444444444,\"#bd3786\"],[0.5555555555555556,\"#d8576b\"],[0.6666666666666666,\"#ed7953\"],[0.7777777777777778,\"#fb9f3a\"],[0.8888888888888888,\"#fdca26\"],[1.0,\"#f0f921\"]]}],\"surface\":[{\"type\":\"surface\",\"colorbar\":{\"outlinewidth\":0,\"ticks\":\"\"},\"colorscale\":[[0.0,\"#0d0887\"],[0.1111111111111111,\"#46039f\"],[0.2222222222222222,\"#7201a8\"],[0.3333333333333333,\"#9c179e\"],[0.4444444444444444,\"#bd3786\"],[0.5555555555555556,\"#d8576b\"],[0.6666666666666666,\"#ed7953\"],[0.7777777777777778,\"#fb9f3a\"],[0.8888888888888888,\"#fdca26\"],[1.0,\"#f0f921\"]]}],\"mesh3d\":[{\"type\":\"mesh3d\",\"colorbar\":{\"outlinewidth\":0,\"ticks\":\"\"}}],\"scatter\":[{\"fillpattern\":{\"fillmode\":\"overlay\",\"size\":10,\"solidity\":0.2},\"type\":\"scatter\"}],\"parcoords\":[{\"type\":\"parcoords\",\"line\":{\"colorbar\":{\"outlinewidth\":0,\"ticks\":\"\"}}}],\"scatterpolargl\":[{\"type\":\"scatterpolargl\",\"marker\":{\"colorbar\":{\"outlinewidth\":0,\"ticks\":\"\"}}}],\"bar\":[{\"error_x\":{\"color\":\"#2a3f5f\"},\"error_y\":{\"color\":\"#2a3f5f\"},\"marker\":{\"line\":{\"color\":\"#E5ECF6\",\"width\":0.5},\"pattern\":{\"fillmode\":\"overlay\",\"size\":10,\"solidity\":0.2}},\"type\":\"bar\"}],\"scattergeo\":[{\"type\":\"scattergeo\",\"marker\":{\"colorbar\":{\"outlinewidth\":0,\"ticks\":\"\"}}}],\"scatterpolar\":[{\"type\":\"scatterpolar\",\"marker\":{\"colorbar\":{\"outlinewidth\":0,\"ticks\":\"\"}}}],\"histogram\":[{\"marker\":{\"pattern\":{\"fillmode\":\"overlay\",\"size\":10,\"solidity\":0.2}},\"type\":\"histogram\"}],\"scattergl\":[{\"type\":\"scattergl\",\"marker\":{\"colorbar\":{\"outlinewidth\":0,\"ticks\":\"\"}}}],\"scatter3d\":[{\"type\":\"scatter3d\",\"line\":{\"colorbar\":{\"outlinewidth\":0,\"ticks\":\"\"}},\"marker\":{\"colorbar\":{\"outlinewidth\":0,\"ticks\":\"\"}}}],\"scattermapbox\":[{\"type\":\"scattermapbox\",\"marker\":{\"colorbar\":{\"outlinewidth\":0,\"ticks\":\"\"}}}],\"scatterternary\":[{\"type\":\"scatterternary\",\"marker\":{\"colorbar\":{\"outlinewidth\":0,\"ticks\":\"\"}}}],\"scattercarpet\":[{\"type\":\"scattercarpet\",\"marker\":{\"colorbar\":{\"outlinewidth\":0,\"ticks\":\"\"}}}],\"carpet\":[{\"aaxis\":{\"endlinecolor\":\"#2a3f5f\",\"gridcolor\":\"white\",\"linecolor\":\"white\",\"minorgridcolor\":\"white\",\"startlinecolor\":\"#2a3f5f\"},\"baxis\":{\"endlinecolor\":\"#2a3f5f\",\"gridcolor\":\"white\",\"linecolor\":\"white\",\"minorgridcolor\":\"white\",\"startlinecolor\":\"#2a3f5f\"},\"type\":\"carpet\"}],\"table\":[{\"cells\":{\"fill\":{\"color\":\"#EBF0F8\"},\"line\":{\"color\":\"white\"}},\"header\":{\"fill\":{\"color\":\"#C8D4E3\"},\"line\":{\"color\":\"white\"}},\"type\":\"table\"}],\"barpolar\":[{\"marker\":{\"line\":{\"color\":\"#E5ECF6\",\"width\":0.5},\"pattern\":{\"fillmode\":\"overlay\",\"size\":10,\"solidity\":0.2}},\"type\":\"barpolar\"}],\"pie\":[{\"automargin\":true,\"type\":\"pie\"}]},\"layout\":{\"autotypenumbers\":\"strict\",\"colorway\":[\"#636efa\",\"#EF553B\",\"#00cc96\",\"#ab63fa\",\"#FFA15A\",\"#19d3f3\",\"#FF6692\",\"#B6E880\",\"#FF97FF\",\"#FECB52\"],\"font\":{\"color\":\"#2a3f5f\"},\"hovermode\":\"closest\",\"hoverlabel\":{\"align\":\"left\"},\"paper_bgcolor\":\"white\",\"plot_bgcolor\":\"#E5ECF6\",\"polar\":{\"bgcolor\":\"#E5ECF6\",\"angularaxis\":{\"gridcolor\":\"white\",\"linecolor\":\"white\",\"ticks\":\"\"},\"radialaxis\":{\"gridcolor\":\"white\",\"linecolor\":\"white\",\"ticks\":\"\"}},\"ternary\":{\"bgcolor\":\"#E5ECF6\",\"aaxis\":{\"gridcolor\":\"white\",\"linecolor\":\"white\",\"ticks\":\"\"},\"baxis\":{\"gridcolor\":\"white\",\"linecolor\":\"white\",\"ticks\":\"\"},\"caxis\":{\"gridcolor\":\"white\",\"linecolor\":\"white\",\"ticks\":\"\"}},\"coloraxis\":{\"colorbar\":{\"outlinewidth\":0,\"ticks\":\"\"}},\"colorscale\":{\"sequential\":[[0.0,\"#0d0887\"],[0.1111111111111111,\"#46039f\"],[0.2222222222222222,\"#7201a8\"],[0.3333333333333333,\"#9c179e\"],[0.4444444444444444,\"#bd3786\"],[0.5555555555555556,\"#d8576b\"],[0.6666666666666666,\"#ed7953\"],[0.7777777777777778,\"#fb9f3a\"],[0.8888888888888888,\"#fdca26\"],[1.0,\"#f0f921\"]],\"sequentialminus\":[[0.0,\"#0d0887\"],[0.1111111111111111,\"#46039f\"],[0.2222222222222222,\"#7201a8\"],[0.3333333333333333,\"#9c179e\"],[0.4444444444444444,\"#bd3786\"],[0.5555555555555556,\"#d8576b\"],[0.6666666666666666,\"#ed7953\"],[0.7777777777777778,\"#fb9f3a\"],[0.8888888888888888,\"#fdca26\"],[1.0,\"#f0f921\"]],\"diverging\":[[0,\"#8e0152\"],[0.1,\"#c51b7d\"],[0.2,\"#de77ae\"],[0.3,\"#f1b6da\"],[0.4,\"#fde0ef\"],[0.5,\"#f7f7f7\"],[0.6,\"#e6f5d0\"],[0.7,\"#b8e186\"],[0.8,\"#7fbc41\"],[0.9,\"#4d9221\"],[1,\"#276419\"]]},\"xaxis\":{\"gridcolor\":\"white\",\"linecolor\":\"white\",\"ticks\":\"\",\"title\":{\"standoff\":15},\"zerolinecolor\":\"white\",\"automargin\":true,\"zerolinewidth\":2},\"yaxis\":{\"gridcolor\":\"white\",\"linecolor\":\"white\",\"ticks\":\"\",\"title\":{\"standoff\":15},\"zerolinecolor\":\"white\",\"automargin\":true,\"zerolinewidth\":2},\"scene\":{\"xaxis\":{\"backgroundcolor\":\"#E5ECF6\",\"gridcolor\":\"white\",\"linecolor\":\"white\",\"showbackground\":true,\"ticks\":\"\",\"zerolinecolor\":\"white\",\"gridwidth\":2},\"yaxis\":{\"backgroundcolor\":\"#E5ECF6\",\"gridcolor\":\"white\",\"linecolor\":\"white\",\"showbackground\":true,\"ticks\":\"\",\"zerolinecolor\":\"white\",\"gridwidth\":2},\"zaxis\":{\"backgroundcolor\":\"#E5ECF6\",\"gridcolor\":\"white\",\"linecolor\":\"white\",\"showbackground\":true,\"ticks\":\"\",\"zerolinecolor\":\"white\",\"gridwidth\":2}},\"shapedefaults\":{\"line\":{\"color\":\"#2a3f5f\"}},\"annotationdefaults\":{\"arrowcolor\":\"#2a3f5f\",\"arrowhead\":0,\"arrowwidth\":1},\"geo\":{\"bgcolor\":\"white\",\"landcolor\":\"#E5ECF6\",\"subunitcolor\":\"white\",\"showland\":true,\"showlakes\":true,\"lakecolor\":\"white\"},\"title\":{\"x\":0.05},\"mapbox\":{\"style\":\"light\"}}},\"xaxis\":{\"anchor\":\"y\",\"domain\":[0.0,1.0],\"scaleanchor\":\"y\",\"constrain\":\"domain\"},\"yaxis\":{\"anchor\":\"x\",\"domain\":[0.0,1.0],\"autorange\":\"reversed\",\"constrain\":\"domain\"},\"coloraxis\":{\"colorscale\":[[0.0,\"#0d0887\"],[0.1111111111111111,\"#46039f\"],[0.2222222222222222,\"#7201a8\"],[0.3333333333333333,\"#9c179e\"],[0.4444444444444444,\"#bd3786\"],[0.5555555555555556,\"#d8576b\"],[0.6666666666666666,\"#ed7953\"],[0.7777777777777778,\"#fb9f3a\"],[0.8888888888888888,\"#fdca26\"],[1.0,\"#f0f921\"]]},\"margin\":{\"t\":60}},                        {\"responsive\": true}                    ).then(function(){\n",
       "                            \n",
       "var gd = document.getElementById('8e457460-3c73-4905-a8c9-0f9a96a799d6');\n",
       "var x = new MutationObserver(function (mutations, observer) {{\n",
       "        var display = window.getComputedStyle(gd).display;\n",
       "        if (!display || display === 'none') {{\n",
       "            console.log([gd, 'removed!']);\n",
       "            Plotly.purge(gd);\n",
       "            observer.disconnect();\n",
       "        }}\n",
       "}});\n",
       "\n",
       "// Listen for the removal of the full notebook cells\n",
       "var notebookContainer = gd.closest('#notebook-container');\n",
       "if (notebookContainer) {{\n",
       "    x.observe(notebookContainer, {childList: true});\n",
       "}}\n",
       "\n",
       "// Listen for the clearing of the current output cell\n",
       "var outputEl = gd.closest('.output');\n",
       "if (outputEl) {{\n",
       "    x.observe(outputEl, {childList: true});\n",
       "}}\n",
       "\n",
       "                        })                };                });            </script>        </div>"
      ]
     },
     "metadata": {},
     "output_type": "display_data"
    }
   ],
   "source": [
    "import plotly.express as px\n",
    "\n",
    "# Sample data (replace this with your own data)\n",
    "data = [\n",
    "    [1, 2, 3],\n",
    "    [4, 5, 6],\n",
    "    [7, 8, 9]\n",
    "]\n",
    "\n",
    "# Create a heatmap using Plotly Express\n",
    "fig = px.imshow(cor_matrix)\n",
    "\n",
    "# Show the heatmap\n",
    "fig.show()\n"
   ]
  },
  {
   "cell_type": "code",
   "execution_count": 46,
   "metadata": {},
   "outputs": [
    {
     "data": {
      "text/html": [
       "<div>\n",
       "<style scoped>\n",
       "    .dataframe tbody tr th:only-of-type {\n",
       "        vertical-align: middle;\n",
       "    }\n",
       "\n",
       "    .dataframe tbody tr th {\n",
       "        vertical-align: top;\n",
       "    }\n",
       "\n",
       "    .dataframe thead th {\n",
       "        text-align: right;\n",
       "    }\n",
       "</style>\n",
       "<table border=\"1\" class=\"dataframe\">\n",
       "  <thead>\n",
       "    <tr style=\"text-align: right;\">\n",
       "      <th></th>\n",
       "      <th>index</th>\n",
       "      <th>variable</th>\n",
       "      <th>value</th>\n",
       "    </tr>\n",
       "  </thead>\n",
       "  <tbody>\n",
       "    <tr>\n",
       "      <th>166</th>\n",
       "      <td>Platelets</td>\n",
       "      <td>0</td>\n",
       "      <td>0.050000</td>\n",
       "    </tr>\n",
       "    <tr>\n",
       "      <th>162</th>\n",
       "      <td>Dendritic cells</td>\n",
       "      <td>0</td>\n",
       "      <td>0.050000</td>\n",
       "    </tr>\n",
       "    <tr>\n",
       "      <th>163</th>\n",
       "      <td>Macrophages</td>\n",
       "      <td>0</td>\n",
       "      <td>0.200000</td>\n",
       "    </tr>\n",
       "    <tr>\n",
       "      <th>164</th>\n",
       "      <td>Monocytes</td>\n",
       "      <td>0</td>\n",
       "      <td>0.050000</td>\n",
       "    </tr>\n",
       "    <tr>\n",
       "      <th>165</th>\n",
       "      <td>Nk-cells</td>\n",
       "      <td>0</td>\n",
       "      <td>0.100000</td>\n",
       "    </tr>\n",
       "    <tr>\n",
       "      <th>...</th>\n",
       "      <td>...</td>\n",
       "      <td>...</td>\n",
       "      <td>...</td>\n",
       "    </tr>\n",
       "    <tr>\n",
       "      <th>54</th>\n",
       "      <td>Platelets</td>\n",
       "      <td>1</td>\n",
       "      <td>0.134818</td>\n",
       "    </tr>\n",
       "    <tr>\n",
       "      <th>53</th>\n",
       "      <td>Nk-cells</td>\n",
       "      <td>1</td>\n",
       "      <td>0.146558</td>\n",
       "    </tr>\n",
       "    <tr>\n",
       "      <th>52</th>\n",
       "      <td>Monocytes</td>\n",
       "      <td>1</td>\n",
       "      <td>0.128626</td>\n",
       "    </tr>\n",
       "    <tr>\n",
       "      <th>49</th>\n",
       "      <td>B-cells</td>\n",
       "      <td>1</td>\n",
       "      <td>0.138650</td>\n",
       "    </tr>\n",
       "    <tr>\n",
       "      <th>51</th>\n",
       "      <td>Macrophages</td>\n",
       "      <td>1</td>\n",
       "      <td>0.144343</td>\n",
       "    </tr>\n",
       "  </tbody>\n",
       "</table>\n",
       "<p>182 rows × 3 columns</p>\n",
       "</div>"
      ],
      "text/plain": [
       "               index variable     value\n",
       "166        Platelets        0  0.050000\n",
       "162  Dendritic cells        0  0.050000\n",
       "163      Macrophages        0  0.200000\n",
       "164        Monocytes        0  0.050000\n",
       "165         Nk-cells        0  0.100000\n",
       "..               ...      ...       ...\n",
       "54         Platelets        1  0.134818\n",
       "53          Nk-cells        1  0.146558\n",
       "52         Monocytes        1  0.128626\n",
       "49           B-cells        1  0.138650\n",
       "51       Macrophages        1  0.144343\n",
       "\n",
       "[182 rows x 3 columns]"
      ]
     },
     "execution_count": 46,
     "metadata": {},
     "output_type": "execute_result"
    }
   ],
   "source": [
    "melted = merged_df.reset_index().melt(id_vars=['index'])\n",
    "melted = melted.sort_values(\"variable\")\n",
    "melted\n"
   ]
  },
  {
   "cell_type": "code",
   "execution_count": 51,
   "metadata": {},
   "outputs": [
    {
     "data": {
      "application/vnd.plotly.v1+json": {
       "config": {
        "plotlyServerURL": "https://plot.ly"
       },
       "data": [
        {
         "hovertemplate": "index=Platelets<br>variable=%{x}<br>value=%{y}<extra></extra>",
         "legendgroup": "Platelets",
         "line": {
          "color": "#636efa",
          "dash": "solid"
         },
         "marker": {
          "symbol": "circle"
         },
         "mode": "lines",
         "name": "Platelets",
         "orientation": "v",
         "showlegend": true,
         "type": "scatter",
         "x": [
          "0",
          "0.005",
          "0.01",
          "0.015",
          "0.02",
          "0.025",
          "0.03",
          "0.035",
          "0.04",
          "0.045",
          "0.05",
          "0.055",
          "0.06",
          "0.065",
          "0.07",
          "0.075",
          "0.08",
          "0.085",
          "0.09",
          "0.095",
          "0.1",
          "0.3",
          "0.5",
          "0.7",
          "0.9",
          "1"
         ],
         "xaxis": "x",
         "y": [
          0.05,
          0.05074,
          0.05003,
          0.04815,
          0.05134,
          0.04925310456536085,
          0.049412187740343796,
          0.05017921146953405,
          0.0572197041390646,
          0.049140294044355846,
          0.047068300250606626,
          0.05604684748847607,
          0.056442824023619394,
          0.05492155471460107,
          0.0583989177339561,
          0.058260937317386734,
          0.06566900544624896,
          0.06622561591668609,
          0.07151835215480702,
          0.06291957735790313,
          0.06812921890067503,
          0.10432235770073608,
          0.11454655866278292,
          0.13664196464582679,
          0.13748139069178653,
          0.13481791650805736
         ],
         "yaxis": "y"
        },
        {
         "hovertemplate": "index=Dendritic cells<br>variable=%{x}<br>value=%{y}<extra></extra>",
         "legendgroup": "Dendritic cells",
         "line": {
          "color": "#EF553B",
          "dash": "solid"
         },
         "marker": {
          "symbol": "circle"
         },
         "mode": "lines",
         "name": "Dendritic cells",
         "orientation": "v",
         "showlegend": true,
         "type": "scatter",
         "x": [
          "0",
          "0.005",
          "0.01",
          "0.015",
          "0.02",
          "0.025",
          "0.03",
          "0.035",
          "0.04",
          "0.045",
          "0.05",
          "0.055",
          "0.06",
          "0.065",
          "0.07",
          "0.075",
          "0.08",
          "0.085",
          "0.09",
          "0.095",
          "0.1",
          "0.3",
          "0.5",
          "0.7",
          "0.9",
          "1"
         ],
         "xaxis": "x",
         "y": [
          0.05,
          0.05059,
          0.04987,
          0.04824,
          0.04944,
          0.050272961785350054,
          0.05116014263311925,
          0.05018919539541338,
          0.05259749962643821,
          0.051064041863942186,
          0.05068817375392816,
          0.05301996161987853,
          0.06274397130798344,
          0.05101900031535793,
          0.053659066446790235,
          0.0525341852039425,
          0.054482115695991366,
          0.056841144011813165,
          0.062135222301254005,
          0.06256932147652312,
          0.06892960462873673,
          0.11051019834803619,
          0.11664625297199378,
          0.13221352649525991,
          0.12314487249722214,
          0.119747147916162
         ],
         "yaxis": "y"
        },
        {
         "hovertemplate": "index=Macrophages<br>variable=%{x}<br>value=%{y}<extra></extra>",
         "legendgroup": "Macrophages",
         "line": {
          "color": "#00cc96",
          "dash": "solid"
         },
         "marker": {
          "symbol": "circle"
         },
         "mode": "lines",
         "name": "Macrophages",
         "orientation": "v",
         "showlegend": true,
         "type": "scatter",
         "x": [
          "0",
          "0.005",
          "0.01",
          "0.015",
          "0.02",
          "0.025",
          "0.03",
          "0.035",
          "0.04",
          "0.045",
          "0.05",
          "0.055",
          "0.06",
          "0.065",
          "0.07",
          "0.075",
          "0.08",
          "0.085",
          "0.09",
          "0.095",
          "0.1",
          "0.3",
          "0.5",
          "0.7",
          "0.9",
          "1"
         ],
         "xaxis": "x",
         "y": [
          0.2,
          0.19968,
          0.19977,
          0.20002,
          0.19972,
          0.1997820305157278,
          0.20433093280861392,
          0.20216451513063968,
          0.19578622304129104,
          0.19597308746573636,
          0.19561239508333664,
          0.19726195422082418,
          0.19569223452949452,
          0.19832071901608325,
          0.1960915976261245,
          0.18692781175737272,
          0.18069770865021342,
          0.1919347944353773,
          0.1834825734914402,
          0.1888754840341694,
          0.17720347155255545,
          0.15218857110749004,
          0.16820198235845074,
          0.15485274526499335,
          0.15191076198346595,
          0.14434312673749294
         ],
         "yaxis": "y"
        },
        {
         "hovertemplate": "index=Monocytes<br>variable=%{x}<br>value=%{y}<extra></extra>",
         "legendgroup": "Monocytes",
         "line": {
          "color": "#ab63fa",
          "dash": "solid"
         },
         "marker": {
          "symbol": "circle"
         },
         "mode": "lines",
         "name": "Monocytes",
         "orientation": "v",
         "showlegend": true,
         "type": "scatter",
         "x": [
          "0",
          "0.005",
          "0.01",
          "0.015",
          "0.02",
          "0.025",
          "0.03",
          "0.035",
          "0.04",
          "0.045",
          "0.05",
          "0.055",
          "0.06",
          "0.065",
          "0.07",
          "0.075",
          "0.08",
          "0.085",
          "0.09",
          "0.095",
          "0.1",
          "0.3",
          "0.5",
          "0.7",
          "0.9",
          "1"
         ],
         "xaxis": "x",
         "y": [
          0.05,
          0.04973,
          0.05043,
          0.05031,
          0.04962,
          0.04782330473733677,
          0.047514408142473305,
          0.049739918730843345,
          0.04466802809184639,
          0.047834537752305006,
          0.05880305501412148,
          0.049003897362850414,
          0.0511126082390473,
          0.056458924629454434,
          0.057599067829246856,
          0.058923214772683,
          0.0519895981551445,
          0.06124193673739022,
          0.0594362327172102,
          0.06031211690762974,
          0.06140790742526519,
          0.10826262853289881,
          0.11826734049013453,
          0.11866747603469419,
          0.13256636675116298,
          0.12862638566863918
         ],
         "yaxis": "y"
        },
        {
         "hovertemplate": "index=Nk-cells<br>variable=%{x}<br>value=%{y}<extra></extra>",
         "legendgroup": "Nk-cells",
         "line": {
          "color": "#FFA15A",
          "dash": "solid"
         },
         "marker": {
          "symbol": "circle"
         },
         "mode": "lines",
         "name": "Nk-cells",
         "orientation": "v",
         "showlegend": true,
         "type": "scatter",
         "x": [
          "0",
          "0.005",
          "0.01",
          "0.015",
          "0.02",
          "0.025",
          "0.03",
          "0.035",
          "0.04",
          "0.045",
          "0.05",
          "0.055",
          "0.06",
          "0.065",
          "0.07",
          "0.075",
          "0.08",
          "0.085",
          "0.09",
          "0.095",
          "0.1",
          "0.3",
          "0.5",
          "0.7",
          "0.9",
          "1"
         ],
         "xaxis": "x",
         "y": [
          0.1,
          0.10004,
          0.10042,
          0.10276,
          0.09962,
          0.10128581998520207,
          0.09763576615360028,
          0.10046824612374078,
          0.10009463565273696,
          0.1034338400199352,
          0.09765702693026772,
          0.09280471640255604,
          0.09469554362256524,
          0.09193669189530117,
          0.0925752204524583,
          0.09534847481397796,
          0.09651145674893283,
          0.08893875806326261,
          0.08885229608987538,
          0.09426747874141386,
          0.09595949855351976,
          0.12258386244872731,
          0.13646983747954342,
          0.12272518017265613,
          0.13373012556833833,
          0.146557889515636
         ],
         "yaxis": "y"
        },
        {
         "hovertemplate": "index=T-cells<br>variable=%{x}<br>value=%{y}<extra></extra>",
         "legendgroup": "T-cells",
         "line": {
          "color": "#19d3f3",
          "dash": "solid"
         },
         "marker": {
          "symbol": "circle"
         },
         "mode": "lines",
         "name": "T-cells",
         "orientation": "v",
         "showlegend": true,
         "type": "scatter",
         "x": [
          "0",
          "0.005",
          "0.01",
          "0.015",
          "0.02",
          "0.025",
          "0.03",
          "0.035",
          "0.04",
          "0.045",
          "0.05",
          "0.055",
          "0.06",
          "0.065",
          "0.07",
          "0.075",
          "0.08",
          "0.085",
          "0.09",
          "0.095",
          "0.1",
          "0.3",
          "0.5",
          "0.7",
          "0.9",
          "1"
         ],
         "xaxis": "x",
         "y": [
          0.5,
          0.49954,
          0.50011,
          0.4998,
          0.50055,
          0.49972003919451274,
          0.5009039423874068,
          0.4988568404868162,
          0.49648851920107584,
          0.5004535260403689,
          0.49635029237439837,
          0.49768532257107245,
          0.4890225295737809,
          0.49377168085777356,
          0.485350897115603,
          0.4897249600685652,
          0.48994651881654483,
          0.46833955078883965,
          0.4728103594430533,
          0.4650619758323442,
          0.46255544840887175,
          0.2981893015676799,
          0.22861451053449572,
          0.18945322844140977,
          0.1883432221881761,
          0.18725703936971544
         ],
         "yaxis": "y"
        },
        {
         "hovertemplate": "index=B-cells<br>variable=%{x}<br>value=%{y}<extra></extra>",
         "legendgroup": "B-cells",
         "line": {
          "color": "#FF6692",
          "dash": "solid"
         },
         "marker": {
          "symbol": "circle"
         },
         "mode": "lines",
         "name": "B-cells",
         "orientation": "v",
         "showlegend": true,
         "type": "scatter",
         "x": [
          "0",
          "0.005",
          "0.01",
          "0.015",
          "0.02",
          "0.025",
          "0.03",
          "0.035",
          "0.04",
          "0.045",
          "0.05",
          "0.055",
          "0.06",
          "0.065",
          "0.07",
          "0.075",
          "0.08",
          "0.085",
          "0.09",
          "0.095",
          "0.1",
          "0.3",
          "0.5",
          "0.7",
          "0.9",
          "1"
         ],
         "xaxis": "x",
         "y": [
          0.05,
          0.04968,
          0.04937,
          0.05072,
          0.04971,
          0.05186273921650969,
          0.0490426201344427,
          0.04840207266301255,
          0.05314539024754694,
          0.05210067281335659,
          0.053820756593341026,
          0.054177300334342295,
          0.050290288703509226,
          0.05357142857142857,
          0.05632523279582103,
          0.05828041606607191,
          0.0607035964869241,
          0.06647820004663092,
          0.061764963802359914,
          0.06599404565001654,
          0.06581485053037608,
          0.10394308029443164,
          0.11725351750259888,
          0.1454458789451599,
          0.13282326031984798,
          0.1386504942842971
         ],
         "yaxis": "y"
        }
       ],
       "layout": {
        "legend": {
         "title": {
          "text": "Cell Types (CTs)"
         },
         "tracegroupgap": 0
        },
        "margin": {
         "t": 60
        },
        "template": {
         "data": {
          "bar": [
           {
            "error_x": {
             "color": "#2a3f5f"
            },
            "error_y": {
             "color": "#2a3f5f"
            },
            "marker": {
             "line": {
              "color": "#E5ECF6",
              "width": 0.5
             },
             "pattern": {
              "fillmode": "overlay",
              "size": 10,
              "solidity": 0.2
             }
            },
            "type": "bar"
           }
          ],
          "barpolar": [
           {
            "marker": {
             "line": {
              "color": "#E5ECF6",
              "width": 0.5
             },
             "pattern": {
              "fillmode": "overlay",
              "size": 10,
              "solidity": 0.2
             }
            },
            "type": "barpolar"
           }
          ],
          "carpet": [
           {
            "aaxis": {
             "endlinecolor": "#2a3f5f",
             "gridcolor": "white",
             "linecolor": "white",
             "minorgridcolor": "white",
             "startlinecolor": "#2a3f5f"
            },
            "baxis": {
             "endlinecolor": "#2a3f5f",
             "gridcolor": "white",
             "linecolor": "white",
             "minorgridcolor": "white",
             "startlinecolor": "#2a3f5f"
            },
            "type": "carpet"
           }
          ],
          "choropleth": [
           {
            "colorbar": {
             "outlinewidth": 0,
             "ticks": ""
            },
            "type": "choropleth"
           }
          ],
          "contour": [
           {
            "colorbar": {
             "outlinewidth": 0,
             "ticks": ""
            },
            "colorscale": [
             [
              0,
              "#0d0887"
             ],
             [
              0.1111111111111111,
              "#46039f"
             ],
             [
              0.2222222222222222,
              "#7201a8"
             ],
             [
              0.3333333333333333,
              "#9c179e"
             ],
             [
              0.4444444444444444,
              "#bd3786"
             ],
             [
              0.5555555555555556,
              "#d8576b"
             ],
             [
              0.6666666666666666,
              "#ed7953"
             ],
             [
              0.7777777777777778,
              "#fb9f3a"
             ],
             [
              0.8888888888888888,
              "#fdca26"
             ],
             [
              1,
              "#f0f921"
             ]
            ],
            "type": "contour"
           }
          ],
          "contourcarpet": [
           {
            "colorbar": {
             "outlinewidth": 0,
             "ticks": ""
            },
            "type": "contourcarpet"
           }
          ],
          "heatmap": [
           {
            "colorbar": {
             "outlinewidth": 0,
             "ticks": ""
            },
            "colorscale": [
             [
              0,
              "#0d0887"
             ],
             [
              0.1111111111111111,
              "#46039f"
             ],
             [
              0.2222222222222222,
              "#7201a8"
             ],
             [
              0.3333333333333333,
              "#9c179e"
             ],
             [
              0.4444444444444444,
              "#bd3786"
             ],
             [
              0.5555555555555556,
              "#d8576b"
             ],
             [
              0.6666666666666666,
              "#ed7953"
             ],
             [
              0.7777777777777778,
              "#fb9f3a"
             ],
             [
              0.8888888888888888,
              "#fdca26"
             ],
             [
              1,
              "#f0f921"
             ]
            ],
            "type": "heatmap"
           }
          ],
          "heatmapgl": [
           {
            "colorbar": {
             "outlinewidth": 0,
             "ticks": ""
            },
            "colorscale": [
             [
              0,
              "#0d0887"
             ],
             [
              0.1111111111111111,
              "#46039f"
             ],
             [
              0.2222222222222222,
              "#7201a8"
             ],
             [
              0.3333333333333333,
              "#9c179e"
             ],
             [
              0.4444444444444444,
              "#bd3786"
             ],
             [
              0.5555555555555556,
              "#d8576b"
             ],
             [
              0.6666666666666666,
              "#ed7953"
             ],
             [
              0.7777777777777778,
              "#fb9f3a"
             ],
             [
              0.8888888888888888,
              "#fdca26"
             ],
             [
              1,
              "#f0f921"
             ]
            ],
            "type": "heatmapgl"
           }
          ],
          "histogram": [
           {
            "marker": {
             "pattern": {
              "fillmode": "overlay",
              "size": 10,
              "solidity": 0.2
             }
            },
            "type": "histogram"
           }
          ],
          "histogram2d": [
           {
            "colorbar": {
             "outlinewidth": 0,
             "ticks": ""
            },
            "colorscale": [
             [
              0,
              "#0d0887"
             ],
             [
              0.1111111111111111,
              "#46039f"
             ],
             [
              0.2222222222222222,
              "#7201a8"
             ],
             [
              0.3333333333333333,
              "#9c179e"
             ],
             [
              0.4444444444444444,
              "#bd3786"
             ],
             [
              0.5555555555555556,
              "#d8576b"
             ],
             [
              0.6666666666666666,
              "#ed7953"
             ],
             [
              0.7777777777777778,
              "#fb9f3a"
             ],
             [
              0.8888888888888888,
              "#fdca26"
             ],
             [
              1,
              "#f0f921"
             ]
            ],
            "type": "histogram2d"
           }
          ],
          "histogram2dcontour": [
           {
            "colorbar": {
             "outlinewidth": 0,
             "ticks": ""
            },
            "colorscale": [
             [
              0,
              "#0d0887"
             ],
             [
              0.1111111111111111,
              "#46039f"
             ],
             [
              0.2222222222222222,
              "#7201a8"
             ],
             [
              0.3333333333333333,
              "#9c179e"
             ],
             [
              0.4444444444444444,
              "#bd3786"
             ],
             [
              0.5555555555555556,
              "#d8576b"
             ],
             [
              0.6666666666666666,
              "#ed7953"
             ],
             [
              0.7777777777777778,
              "#fb9f3a"
             ],
             [
              0.8888888888888888,
              "#fdca26"
             ],
             [
              1,
              "#f0f921"
             ]
            ],
            "type": "histogram2dcontour"
           }
          ],
          "mesh3d": [
           {
            "colorbar": {
             "outlinewidth": 0,
             "ticks": ""
            },
            "type": "mesh3d"
           }
          ],
          "parcoords": [
           {
            "line": {
             "colorbar": {
              "outlinewidth": 0,
              "ticks": ""
             }
            },
            "type": "parcoords"
           }
          ],
          "pie": [
           {
            "automargin": true,
            "type": "pie"
           }
          ],
          "scatter": [
           {
            "fillpattern": {
             "fillmode": "overlay",
             "size": 10,
             "solidity": 0.2
            },
            "type": "scatter"
           }
          ],
          "scatter3d": [
           {
            "line": {
             "colorbar": {
              "outlinewidth": 0,
              "ticks": ""
             }
            },
            "marker": {
             "colorbar": {
              "outlinewidth": 0,
              "ticks": ""
             }
            },
            "type": "scatter3d"
           }
          ],
          "scattercarpet": [
           {
            "marker": {
             "colorbar": {
              "outlinewidth": 0,
              "ticks": ""
             }
            },
            "type": "scattercarpet"
           }
          ],
          "scattergeo": [
           {
            "marker": {
             "colorbar": {
              "outlinewidth": 0,
              "ticks": ""
             }
            },
            "type": "scattergeo"
           }
          ],
          "scattergl": [
           {
            "marker": {
             "colorbar": {
              "outlinewidth": 0,
              "ticks": ""
             }
            },
            "type": "scattergl"
           }
          ],
          "scattermapbox": [
           {
            "marker": {
             "colorbar": {
              "outlinewidth": 0,
              "ticks": ""
             }
            },
            "type": "scattermapbox"
           }
          ],
          "scatterpolar": [
           {
            "marker": {
             "colorbar": {
              "outlinewidth": 0,
              "ticks": ""
             }
            },
            "type": "scatterpolar"
           }
          ],
          "scatterpolargl": [
           {
            "marker": {
             "colorbar": {
              "outlinewidth": 0,
              "ticks": ""
             }
            },
            "type": "scatterpolargl"
           }
          ],
          "scatterternary": [
           {
            "marker": {
             "colorbar": {
              "outlinewidth": 0,
              "ticks": ""
             }
            },
            "type": "scatterternary"
           }
          ],
          "surface": [
           {
            "colorbar": {
             "outlinewidth": 0,
             "ticks": ""
            },
            "colorscale": [
             [
              0,
              "#0d0887"
             ],
             [
              0.1111111111111111,
              "#46039f"
             ],
             [
              0.2222222222222222,
              "#7201a8"
             ],
             [
              0.3333333333333333,
              "#9c179e"
             ],
             [
              0.4444444444444444,
              "#bd3786"
             ],
             [
              0.5555555555555556,
              "#d8576b"
             ],
             [
              0.6666666666666666,
              "#ed7953"
             ],
             [
              0.7777777777777778,
              "#fb9f3a"
             ],
             [
              0.8888888888888888,
              "#fdca26"
             ],
             [
              1,
              "#f0f921"
             ]
            ],
            "type": "surface"
           }
          ],
          "table": [
           {
            "cells": {
             "fill": {
              "color": "#EBF0F8"
             },
             "line": {
              "color": "white"
             }
            },
            "header": {
             "fill": {
              "color": "#C8D4E3"
             },
             "line": {
              "color": "white"
             }
            },
            "type": "table"
           }
          ]
         },
         "layout": {
          "annotationdefaults": {
           "arrowcolor": "#2a3f5f",
           "arrowhead": 0,
           "arrowwidth": 1
          },
          "autotypenumbers": "strict",
          "coloraxis": {
           "colorbar": {
            "outlinewidth": 0,
            "ticks": ""
           }
          },
          "colorscale": {
           "diverging": [
            [
             0,
             "#8e0152"
            ],
            [
             0.1,
             "#c51b7d"
            ],
            [
             0.2,
             "#de77ae"
            ],
            [
             0.3,
             "#f1b6da"
            ],
            [
             0.4,
             "#fde0ef"
            ],
            [
             0.5,
             "#f7f7f7"
            ],
            [
             0.6,
             "#e6f5d0"
            ],
            [
             0.7,
             "#b8e186"
            ],
            [
             0.8,
             "#7fbc41"
            ],
            [
             0.9,
             "#4d9221"
            ],
            [
             1,
             "#276419"
            ]
           ],
           "sequential": [
            [
             0,
             "#0d0887"
            ],
            [
             0.1111111111111111,
             "#46039f"
            ],
            [
             0.2222222222222222,
             "#7201a8"
            ],
            [
             0.3333333333333333,
             "#9c179e"
            ],
            [
             0.4444444444444444,
             "#bd3786"
            ],
            [
             0.5555555555555556,
             "#d8576b"
            ],
            [
             0.6666666666666666,
             "#ed7953"
            ],
            [
             0.7777777777777778,
             "#fb9f3a"
            ],
            [
             0.8888888888888888,
             "#fdca26"
            ],
            [
             1,
             "#f0f921"
            ]
           ],
           "sequentialminus": [
            [
             0,
             "#0d0887"
            ],
            [
             0.1111111111111111,
             "#46039f"
            ],
            [
             0.2222222222222222,
             "#7201a8"
            ],
            [
             0.3333333333333333,
             "#9c179e"
            ],
            [
             0.4444444444444444,
             "#bd3786"
            ],
            [
             0.5555555555555556,
             "#d8576b"
            ],
            [
             0.6666666666666666,
             "#ed7953"
            ],
            [
             0.7777777777777778,
             "#fb9f3a"
            ],
            [
             0.8888888888888888,
             "#fdca26"
            ],
            [
             1,
             "#f0f921"
            ]
           ]
          },
          "colorway": [
           "#636efa",
           "#EF553B",
           "#00cc96",
           "#ab63fa",
           "#FFA15A",
           "#19d3f3",
           "#FF6692",
           "#B6E880",
           "#FF97FF",
           "#FECB52"
          ],
          "font": {
           "color": "#2a3f5f"
          },
          "geo": {
           "bgcolor": "white",
           "lakecolor": "white",
           "landcolor": "#E5ECF6",
           "showlakes": true,
           "showland": true,
           "subunitcolor": "white"
          },
          "hoverlabel": {
           "align": "left"
          },
          "hovermode": "closest",
          "mapbox": {
           "style": "light"
          },
          "paper_bgcolor": "white",
          "plot_bgcolor": "#E5ECF6",
          "polar": {
           "angularaxis": {
            "gridcolor": "white",
            "linecolor": "white",
            "ticks": ""
           },
           "bgcolor": "#E5ECF6",
           "radialaxis": {
            "gridcolor": "white",
            "linecolor": "white",
            "ticks": ""
           }
          },
          "scene": {
           "xaxis": {
            "backgroundcolor": "#E5ECF6",
            "gridcolor": "white",
            "gridwidth": 2,
            "linecolor": "white",
            "showbackground": true,
            "ticks": "",
            "zerolinecolor": "white"
           },
           "yaxis": {
            "backgroundcolor": "#E5ECF6",
            "gridcolor": "white",
            "gridwidth": 2,
            "linecolor": "white",
            "showbackground": true,
            "ticks": "",
            "zerolinecolor": "white"
           },
           "zaxis": {
            "backgroundcolor": "#E5ECF6",
            "gridcolor": "white",
            "gridwidth": 2,
            "linecolor": "white",
            "showbackground": true,
            "ticks": "",
            "zerolinecolor": "white"
           }
          },
          "shapedefaults": {
           "line": {
            "color": "#2a3f5f"
           }
          },
          "ternary": {
           "aaxis": {
            "gridcolor": "white",
            "linecolor": "white",
            "ticks": ""
           },
           "baxis": {
            "gridcolor": "white",
            "linecolor": "white",
            "ticks": ""
           },
           "bgcolor": "#E5ECF6",
           "caxis": {
            "gridcolor": "white",
            "linecolor": "white",
            "ticks": ""
           }
          },
          "title": {
           "x": 0.05
          },
          "xaxis": {
           "automargin": true,
           "gridcolor": "white",
           "linecolor": "white",
           "ticks": "",
           "title": {
            "standoff": 15
           },
           "zerolinecolor": "white",
           "zerolinewidth": 2
          },
          "yaxis": {
           "automargin": true,
           "gridcolor": "white",
           "linecolor": "white",
           "ticks": "",
           "title": {
            "standoff": 15
           },
           "zerolinecolor": "white",
           "zerolinewidth": 2
          }
         }
        },
        "title": {
         "text": "Average Percent Composition of CTs Across Variance Levels"
        },
        "xaxis": {
         "anchor": "y",
         "domain": [
          0,
          1
         ],
         "title": {
          "text": "Variance"
         }
        },
        "yaxis": {
         "anchor": "x",
         "domain": [
          0,
          1
         ],
         "title": {
          "text": "Average Percent Composition"
         }
        }
       }
      },
      "text/html": [
       "<div>                            <div id=\"3727335c-b5f6-4c07-b241-813c831b9fdb\" class=\"plotly-graph-div\" style=\"height:525px; width:100%;\"></div>            <script type=\"text/javascript\">                require([\"plotly\"], function(Plotly) {                    window.PLOTLYENV=window.PLOTLYENV || {};                                    if (document.getElementById(\"3727335c-b5f6-4c07-b241-813c831b9fdb\")) {                    Plotly.newPlot(                        \"3727335c-b5f6-4c07-b241-813c831b9fdb\",                        [{\"hovertemplate\":\"index=Platelets\\u003cbr\\u003evariable=%{x}\\u003cbr\\u003evalue=%{y}\\u003cextra\\u003e\\u003c\\u002fextra\\u003e\",\"legendgroup\":\"Platelets\",\"line\":{\"color\":\"#636efa\",\"dash\":\"solid\"},\"marker\":{\"symbol\":\"circle\"},\"mode\":\"lines\",\"name\":\"Platelets\",\"orientation\":\"v\",\"showlegend\":true,\"x\":[\"0\",\"0.005\",\"0.01\",\"0.015\",\"0.02\",\"0.025\",\"0.03\",\"0.035\",\"0.04\",\"0.045\",\"0.05\",\"0.055\",\"0.06\",\"0.065\",\"0.07\",\"0.075\",\"0.08\",\"0.085\",\"0.09\",\"0.095\",\"0.1\",\"0.3\",\"0.5\",\"0.7\",\"0.9\",\"1\"],\"xaxis\":\"x\",\"y\":[0.05,0.05074,0.05003,0.04815,0.05134,0.04925310456536085,0.049412187740343796,0.05017921146953405,0.0572197041390646,0.049140294044355846,0.047068300250606626,0.05604684748847607,0.056442824023619394,0.05492155471460107,0.0583989177339561,0.058260937317386734,0.06566900544624896,0.06622561591668609,0.07151835215480702,0.06291957735790313,0.06812921890067503,0.10432235770073608,0.11454655866278292,0.13664196464582679,0.13748139069178653,0.13481791650805736],\"yaxis\":\"y\",\"type\":\"scatter\"},{\"hovertemplate\":\"index=Dendritic cells\\u003cbr\\u003evariable=%{x}\\u003cbr\\u003evalue=%{y}\\u003cextra\\u003e\\u003c\\u002fextra\\u003e\",\"legendgroup\":\"Dendritic cells\",\"line\":{\"color\":\"#EF553B\",\"dash\":\"solid\"},\"marker\":{\"symbol\":\"circle\"},\"mode\":\"lines\",\"name\":\"Dendritic cells\",\"orientation\":\"v\",\"showlegend\":true,\"x\":[\"0\",\"0.005\",\"0.01\",\"0.015\",\"0.02\",\"0.025\",\"0.03\",\"0.035\",\"0.04\",\"0.045\",\"0.05\",\"0.055\",\"0.06\",\"0.065\",\"0.07\",\"0.075\",\"0.08\",\"0.085\",\"0.09\",\"0.095\",\"0.1\",\"0.3\",\"0.5\",\"0.7\",\"0.9\",\"1\"],\"xaxis\":\"x\",\"y\":[0.05,0.05059,0.04987,0.04824,0.04944,0.050272961785350054,0.05116014263311925,0.05018919539541338,0.05259749962643821,0.051064041863942186,0.05068817375392816,0.05301996161987853,0.06274397130798344,0.05101900031535793,0.053659066446790235,0.0525341852039425,0.054482115695991366,0.056841144011813165,0.062135222301254005,0.06256932147652312,0.06892960462873673,0.11051019834803619,0.11664625297199378,0.13221352649525991,0.12314487249722214,0.119747147916162],\"yaxis\":\"y\",\"type\":\"scatter\"},{\"hovertemplate\":\"index=Macrophages\\u003cbr\\u003evariable=%{x}\\u003cbr\\u003evalue=%{y}\\u003cextra\\u003e\\u003c\\u002fextra\\u003e\",\"legendgroup\":\"Macrophages\",\"line\":{\"color\":\"#00cc96\",\"dash\":\"solid\"},\"marker\":{\"symbol\":\"circle\"},\"mode\":\"lines\",\"name\":\"Macrophages\",\"orientation\":\"v\",\"showlegend\":true,\"x\":[\"0\",\"0.005\",\"0.01\",\"0.015\",\"0.02\",\"0.025\",\"0.03\",\"0.035\",\"0.04\",\"0.045\",\"0.05\",\"0.055\",\"0.06\",\"0.065\",\"0.07\",\"0.075\",\"0.08\",\"0.085\",\"0.09\",\"0.095\",\"0.1\",\"0.3\",\"0.5\",\"0.7\",\"0.9\",\"1\"],\"xaxis\":\"x\",\"y\":[0.2,0.19968,0.19977,0.20002,0.19972,0.1997820305157278,0.20433093280861392,0.20216451513063968,0.19578622304129104,0.19597308746573636,0.19561239508333664,0.19726195422082418,0.19569223452949452,0.19832071901608325,0.1960915976261245,0.18692781175737272,0.18069770865021342,0.1919347944353773,0.1834825734914402,0.1888754840341694,0.17720347155255545,0.15218857110749004,0.16820198235845074,0.15485274526499335,0.15191076198346595,0.14434312673749294],\"yaxis\":\"y\",\"type\":\"scatter\"},{\"hovertemplate\":\"index=Monocytes\\u003cbr\\u003evariable=%{x}\\u003cbr\\u003evalue=%{y}\\u003cextra\\u003e\\u003c\\u002fextra\\u003e\",\"legendgroup\":\"Monocytes\",\"line\":{\"color\":\"#ab63fa\",\"dash\":\"solid\"},\"marker\":{\"symbol\":\"circle\"},\"mode\":\"lines\",\"name\":\"Monocytes\",\"orientation\":\"v\",\"showlegend\":true,\"x\":[\"0\",\"0.005\",\"0.01\",\"0.015\",\"0.02\",\"0.025\",\"0.03\",\"0.035\",\"0.04\",\"0.045\",\"0.05\",\"0.055\",\"0.06\",\"0.065\",\"0.07\",\"0.075\",\"0.08\",\"0.085\",\"0.09\",\"0.095\",\"0.1\",\"0.3\",\"0.5\",\"0.7\",\"0.9\",\"1\"],\"xaxis\":\"x\",\"y\":[0.05,0.04973,0.05043,0.05031,0.04962,0.04782330473733677,0.047514408142473305,0.049739918730843345,0.04466802809184639,0.047834537752305006,0.05880305501412148,0.049003897362850414,0.0511126082390473,0.056458924629454434,0.057599067829246856,0.058923214772683,0.0519895981551445,0.06124193673739022,0.0594362327172102,0.06031211690762974,0.06140790742526519,0.10826262853289881,0.11826734049013453,0.11866747603469419,0.13256636675116298,0.12862638566863918],\"yaxis\":\"y\",\"type\":\"scatter\"},{\"hovertemplate\":\"index=Nk-cells\\u003cbr\\u003evariable=%{x}\\u003cbr\\u003evalue=%{y}\\u003cextra\\u003e\\u003c\\u002fextra\\u003e\",\"legendgroup\":\"Nk-cells\",\"line\":{\"color\":\"#FFA15A\",\"dash\":\"solid\"},\"marker\":{\"symbol\":\"circle\"},\"mode\":\"lines\",\"name\":\"Nk-cells\",\"orientation\":\"v\",\"showlegend\":true,\"x\":[\"0\",\"0.005\",\"0.01\",\"0.015\",\"0.02\",\"0.025\",\"0.03\",\"0.035\",\"0.04\",\"0.045\",\"0.05\",\"0.055\",\"0.06\",\"0.065\",\"0.07\",\"0.075\",\"0.08\",\"0.085\",\"0.09\",\"0.095\",\"0.1\",\"0.3\",\"0.5\",\"0.7\",\"0.9\",\"1\"],\"xaxis\":\"x\",\"y\":[0.1,0.10004,0.10042,0.10276,0.09962,0.10128581998520207,0.09763576615360028,0.10046824612374078,0.10009463565273696,0.1034338400199352,0.09765702693026772,0.09280471640255604,0.09469554362256524,0.09193669189530117,0.0925752204524583,0.09534847481397796,0.09651145674893283,0.08893875806326261,0.08885229608987538,0.09426747874141386,0.09595949855351976,0.12258386244872731,0.13646983747954342,0.12272518017265613,0.13373012556833833,0.146557889515636],\"yaxis\":\"y\",\"type\":\"scatter\"},{\"hovertemplate\":\"index=T-cells\\u003cbr\\u003evariable=%{x}\\u003cbr\\u003evalue=%{y}\\u003cextra\\u003e\\u003c\\u002fextra\\u003e\",\"legendgroup\":\"T-cells\",\"line\":{\"color\":\"#19d3f3\",\"dash\":\"solid\"},\"marker\":{\"symbol\":\"circle\"},\"mode\":\"lines\",\"name\":\"T-cells\",\"orientation\":\"v\",\"showlegend\":true,\"x\":[\"0\",\"0.005\",\"0.01\",\"0.015\",\"0.02\",\"0.025\",\"0.03\",\"0.035\",\"0.04\",\"0.045\",\"0.05\",\"0.055\",\"0.06\",\"0.065\",\"0.07\",\"0.075\",\"0.08\",\"0.085\",\"0.09\",\"0.095\",\"0.1\",\"0.3\",\"0.5\",\"0.7\",\"0.9\",\"1\"],\"xaxis\":\"x\",\"y\":[0.5,0.49954,0.50011,0.4998,0.50055,0.49972003919451274,0.5009039423874068,0.4988568404868162,0.49648851920107584,0.5004535260403689,0.49635029237439837,0.49768532257107245,0.4890225295737809,0.49377168085777356,0.485350897115603,0.4897249600685652,0.48994651881654483,0.46833955078883965,0.4728103594430533,0.4650619758323442,0.46255544840887175,0.2981893015676799,0.22861451053449572,0.18945322844140977,0.1883432221881761,0.18725703936971544],\"yaxis\":\"y\",\"type\":\"scatter\"},{\"hovertemplate\":\"index=B-cells\\u003cbr\\u003evariable=%{x}\\u003cbr\\u003evalue=%{y}\\u003cextra\\u003e\\u003c\\u002fextra\\u003e\",\"legendgroup\":\"B-cells\",\"line\":{\"color\":\"#FF6692\",\"dash\":\"solid\"},\"marker\":{\"symbol\":\"circle\"},\"mode\":\"lines\",\"name\":\"B-cells\",\"orientation\":\"v\",\"showlegend\":true,\"x\":[\"0\",\"0.005\",\"0.01\",\"0.015\",\"0.02\",\"0.025\",\"0.03\",\"0.035\",\"0.04\",\"0.045\",\"0.05\",\"0.055\",\"0.06\",\"0.065\",\"0.07\",\"0.075\",\"0.08\",\"0.085\",\"0.09\",\"0.095\",\"0.1\",\"0.3\",\"0.5\",\"0.7\",\"0.9\",\"1\"],\"xaxis\":\"x\",\"y\":[0.05,0.04968,0.04937,0.05072,0.04971,0.05186273921650969,0.0490426201344427,0.04840207266301255,0.05314539024754694,0.05210067281335659,0.053820756593341026,0.054177300334342295,0.050290288703509226,0.05357142857142857,0.05632523279582103,0.05828041606607191,0.0607035964869241,0.06647820004663092,0.061764963802359914,0.06599404565001654,0.06581485053037608,0.10394308029443164,0.11725351750259888,0.1454458789451599,0.13282326031984798,0.1386504942842971],\"yaxis\":\"y\",\"type\":\"scatter\"}],                        {\"template\":{\"data\":{\"histogram2dcontour\":[{\"type\":\"histogram2dcontour\",\"colorbar\":{\"outlinewidth\":0,\"ticks\":\"\"},\"colorscale\":[[0.0,\"#0d0887\"],[0.1111111111111111,\"#46039f\"],[0.2222222222222222,\"#7201a8\"],[0.3333333333333333,\"#9c179e\"],[0.4444444444444444,\"#bd3786\"],[0.5555555555555556,\"#d8576b\"],[0.6666666666666666,\"#ed7953\"],[0.7777777777777778,\"#fb9f3a\"],[0.8888888888888888,\"#fdca26\"],[1.0,\"#f0f921\"]]}],\"choropleth\":[{\"type\":\"choropleth\",\"colorbar\":{\"outlinewidth\":0,\"ticks\":\"\"}}],\"histogram2d\":[{\"type\":\"histogram2d\",\"colorbar\":{\"outlinewidth\":0,\"ticks\":\"\"},\"colorscale\":[[0.0,\"#0d0887\"],[0.1111111111111111,\"#46039f\"],[0.2222222222222222,\"#7201a8\"],[0.3333333333333333,\"#9c179e\"],[0.4444444444444444,\"#bd3786\"],[0.5555555555555556,\"#d8576b\"],[0.6666666666666666,\"#ed7953\"],[0.7777777777777778,\"#fb9f3a\"],[0.8888888888888888,\"#fdca26\"],[1.0,\"#f0f921\"]]}],\"heatmap\":[{\"type\":\"heatmap\",\"colorbar\":{\"outlinewidth\":0,\"ticks\":\"\"},\"colorscale\":[[0.0,\"#0d0887\"],[0.1111111111111111,\"#46039f\"],[0.2222222222222222,\"#7201a8\"],[0.3333333333333333,\"#9c179e\"],[0.4444444444444444,\"#bd3786\"],[0.5555555555555556,\"#d8576b\"],[0.6666666666666666,\"#ed7953\"],[0.7777777777777778,\"#fb9f3a\"],[0.8888888888888888,\"#fdca26\"],[1.0,\"#f0f921\"]]}],\"heatmapgl\":[{\"type\":\"heatmapgl\",\"colorbar\":{\"outlinewidth\":0,\"ticks\":\"\"},\"colorscale\":[[0.0,\"#0d0887\"],[0.1111111111111111,\"#46039f\"],[0.2222222222222222,\"#7201a8\"],[0.3333333333333333,\"#9c179e\"],[0.4444444444444444,\"#bd3786\"],[0.5555555555555556,\"#d8576b\"],[0.6666666666666666,\"#ed7953\"],[0.7777777777777778,\"#fb9f3a\"],[0.8888888888888888,\"#fdca26\"],[1.0,\"#f0f921\"]]}],\"contourcarpet\":[{\"type\":\"contourcarpet\",\"colorbar\":{\"outlinewidth\":0,\"ticks\":\"\"}}],\"contour\":[{\"type\":\"contour\",\"colorbar\":{\"outlinewidth\":0,\"ticks\":\"\"},\"colorscale\":[[0.0,\"#0d0887\"],[0.1111111111111111,\"#46039f\"],[0.2222222222222222,\"#7201a8\"],[0.3333333333333333,\"#9c179e\"],[0.4444444444444444,\"#bd3786\"],[0.5555555555555556,\"#d8576b\"],[0.6666666666666666,\"#ed7953\"],[0.7777777777777778,\"#fb9f3a\"],[0.8888888888888888,\"#fdca26\"],[1.0,\"#f0f921\"]]}],\"surface\":[{\"type\":\"surface\",\"colorbar\":{\"outlinewidth\":0,\"ticks\":\"\"},\"colorscale\":[[0.0,\"#0d0887\"],[0.1111111111111111,\"#46039f\"],[0.2222222222222222,\"#7201a8\"],[0.3333333333333333,\"#9c179e\"],[0.4444444444444444,\"#bd3786\"],[0.5555555555555556,\"#d8576b\"],[0.6666666666666666,\"#ed7953\"],[0.7777777777777778,\"#fb9f3a\"],[0.8888888888888888,\"#fdca26\"],[1.0,\"#f0f921\"]]}],\"mesh3d\":[{\"type\":\"mesh3d\",\"colorbar\":{\"outlinewidth\":0,\"ticks\":\"\"}}],\"scatter\":[{\"fillpattern\":{\"fillmode\":\"overlay\",\"size\":10,\"solidity\":0.2},\"type\":\"scatter\"}],\"parcoords\":[{\"type\":\"parcoords\",\"line\":{\"colorbar\":{\"outlinewidth\":0,\"ticks\":\"\"}}}],\"scatterpolargl\":[{\"type\":\"scatterpolargl\",\"marker\":{\"colorbar\":{\"outlinewidth\":0,\"ticks\":\"\"}}}],\"bar\":[{\"error_x\":{\"color\":\"#2a3f5f\"},\"error_y\":{\"color\":\"#2a3f5f\"},\"marker\":{\"line\":{\"color\":\"#E5ECF6\",\"width\":0.5},\"pattern\":{\"fillmode\":\"overlay\",\"size\":10,\"solidity\":0.2}},\"type\":\"bar\"}],\"scattergeo\":[{\"type\":\"scattergeo\",\"marker\":{\"colorbar\":{\"outlinewidth\":0,\"ticks\":\"\"}}}],\"scatterpolar\":[{\"type\":\"scatterpolar\",\"marker\":{\"colorbar\":{\"outlinewidth\":0,\"ticks\":\"\"}}}],\"histogram\":[{\"marker\":{\"pattern\":{\"fillmode\":\"overlay\",\"size\":10,\"solidity\":0.2}},\"type\":\"histogram\"}],\"scattergl\":[{\"type\":\"scattergl\",\"marker\":{\"colorbar\":{\"outlinewidth\":0,\"ticks\":\"\"}}}],\"scatter3d\":[{\"type\":\"scatter3d\",\"line\":{\"colorbar\":{\"outlinewidth\":0,\"ticks\":\"\"}},\"marker\":{\"colorbar\":{\"outlinewidth\":0,\"ticks\":\"\"}}}],\"scattermapbox\":[{\"type\":\"scattermapbox\",\"marker\":{\"colorbar\":{\"outlinewidth\":0,\"ticks\":\"\"}}}],\"scatterternary\":[{\"type\":\"scatterternary\",\"marker\":{\"colorbar\":{\"outlinewidth\":0,\"ticks\":\"\"}}}],\"scattercarpet\":[{\"type\":\"scattercarpet\",\"marker\":{\"colorbar\":{\"outlinewidth\":0,\"ticks\":\"\"}}}],\"carpet\":[{\"aaxis\":{\"endlinecolor\":\"#2a3f5f\",\"gridcolor\":\"white\",\"linecolor\":\"white\",\"minorgridcolor\":\"white\",\"startlinecolor\":\"#2a3f5f\"},\"baxis\":{\"endlinecolor\":\"#2a3f5f\",\"gridcolor\":\"white\",\"linecolor\":\"white\",\"minorgridcolor\":\"white\",\"startlinecolor\":\"#2a3f5f\"},\"type\":\"carpet\"}],\"table\":[{\"cells\":{\"fill\":{\"color\":\"#EBF0F8\"},\"line\":{\"color\":\"white\"}},\"header\":{\"fill\":{\"color\":\"#C8D4E3\"},\"line\":{\"color\":\"white\"}},\"type\":\"table\"}],\"barpolar\":[{\"marker\":{\"line\":{\"color\":\"#E5ECF6\",\"width\":0.5},\"pattern\":{\"fillmode\":\"overlay\",\"size\":10,\"solidity\":0.2}},\"type\":\"barpolar\"}],\"pie\":[{\"automargin\":true,\"type\":\"pie\"}]},\"layout\":{\"autotypenumbers\":\"strict\",\"colorway\":[\"#636efa\",\"#EF553B\",\"#00cc96\",\"#ab63fa\",\"#FFA15A\",\"#19d3f3\",\"#FF6692\",\"#B6E880\",\"#FF97FF\",\"#FECB52\"],\"font\":{\"color\":\"#2a3f5f\"},\"hovermode\":\"closest\",\"hoverlabel\":{\"align\":\"left\"},\"paper_bgcolor\":\"white\",\"plot_bgcolor\":\"#E5ECF6\",\"polar\":{\"bgcolor\":\"#E5ECF6\",\"angularaxis\":{\"gridcolor\":\"white\",\"linecolor\":\"white\",\"ticks\":\"\"},\"radialaxis\":{\"gridcolor\":\"white\",\"linecolor\":\"white\",\"ticks\":\"\"}},\"ternary\":{\"bgcolor\":\"#E5ECF6\",\"aaxis\":{\"gridcolor\":\"white\",\"linecolor\":\"white\",\"ticks\":\"\"},\"baxis\":{\"gridcolor\":\"white\",\"linecolor\":\"white\",\"ticks\":\"\"},\"caxis\":{\"gridcolor\":\"white\",\"linecolor\":\"white\",\"ticks\":\"\"}},\"coloraxis\":{\"colorbar\":{\"outlinewidth\":0,\"ticks\":\"\"}},\"colorscale\":{\"sequential\":[[0.0,\"#0d0887\"],[0.1111111111111111,\"#46039f\"],[0.2222222222222222,\"#7201a8\"],[0.3333333333333333,\"#9c179e\"],[0.4444444444444444,\"#bd3786\"],[0.5555555555555556,\"#d8576b\"],[0.6666666666666666,\"#ed7953\"],[0.7777777777777778,\"#fb9f3a\"],[0.8888888888888888,\"#fdca26\"],[1.0,\"#f0f921\"]],\"sequentialminus\":[[0.0,\"#0d0887\"],[0.1111111111111111,\"#46039f\"],[0.2222222222222222,\"#7201a8\"],[0.3333333333333333,\"#9c179e\"],[0.4444444444444444,\"#bd3786\"],[0.5555555555555556,\"#d8576b\"],[0.6666666666666666,\"#ed7953\"],[0.7777777777777778,\"#fb9f3a\"],[0.8888888888888888,\"#fdca26\"],[1.0,\"#f0f921\"]],\"diverging\":[[0,\"#8e0152\"],[0.1,\"#c51b7d\"],[0.2,\"#de77ae\"],[0.3,\"#f1b6da\"],[0.4,\"#fde0ef\"],[0.5,\"#f7f7f7\"],[0.6,\"#e6f5d0\"],[0.7,\"#b8e186\"],[0.8,\"#7fbc41\"],[0.9,\"#4d9221\"],[1,\"#276419\"]]},\"xaxis\":{\"gridcolor\":\"white\",\"linecolor\":\"white\",\"ticks\":\"\",\"title\":{\"standoff\":15},\"zerolinecolor\":\"white\",\"automargin\":true,\"zerolinewidth\":2},\"yaxis\":{\"gridcolor\":\"white\",\"linecolor\":\"white\",\"ticks\":\"\",\"title\":{\"standoff\":15},\"zerolinecolor\":\"white\",\"automargin\":true,\"zerolinewidth\":2},\"scene\":{\"xaxis\":{\"backgroundcolor\":\"#E5ECF6\",\"gridcolor\":\"white\",\"linecolor\":\"white\",\"showbackground\":true,\"ticks\":\"\",\"zerolinecolor\":\"white\",\"gridwidth\":2},\"yaxis\":{\"backgroundcolor\":\"#E5ECF6\",\"gridcolor\":\"white\",\"linecolor\":\"white\",\"showbackground\":true,\"ticks\":\"\",\"zerolinecolor\":\"white\",\"gridwidth\":2},\"zaxis\":{\"backgroundcolor\":\"#E5ECF6\",\"gridcolor\":\"white\",\"linecolor\":\"white\",\"showbackground\":true,\"ticks\":\"\",\"zerolinecolor\":\"white\",\"gridwidth\":2}},\"shapedefaults\":{\"line\":{\"color\":\"#2a3f5f\"}},\"annotationdefaults\":{\"arrowcolor\":\"#2a3f5f\",\"arrowhead\":0,\"arrowwidth\":1},\"geo\":{\"bgcolor\":\"white\",\"landcolor\":\"#E5ECF6\",\"subunitcolor\":\"white\",\"showland\":true,\"showlakes\":true,\"lakecolor\":\"white\"},\"title\":{\"x\":0.05},\"mapbox\":{\"style\":\"light\"}}},\"xaxis\":{\"anchor\":\"y\",\"domain\":[0.0,1.0],\"title\":{\"text\":\"Variance\"}},\"yaxis\":{\"anchor\":\"x\",\"domain\":[0.0,1.0],\"title\":{\"text\":\"Average Percent Composition\"}},\"legend\":{\"title\":{\"text\":\"Cell Types (CTs)\"},\"tracegroupgap\":0},\"margin\":{\"t\":60},\"title\":{\"text\":\"Average Percent Composition of CTs Across Variance Levels\"}},                        {\"responsive\": true}                    ).then(function(){\n",
       "                            \n",
       "var gd = document.getElementById('3727335c-b5f6-4c07-b241-813c831b9fdb');\n",
       "var x = new MutationObserver(function (mutations, observer) {{\n",
       "        var display = window.getComputedStyle(gd).display;\n",
       "        if (!display || display === 'none') {{\n",
       "            console.log([gd, 'removed!']);\n",
       "            Plotly.purge(gd);\n",
       "            observer.disconnect();\n",
       "        }}\n",
       "}});\n",
       "\n",
       "// Listen for the removal of the full notebook cells\n",
       "var notebookContainer = gd.closest('#notebook-container');\n",
       "if (notebookContainer) {{\n",
       "    x.observe(notebookContainer, {childList: true});\n",
       "}}\n",
       "\n",
       "// Listen for the clearing of the current output cell\n",
       "var outputEl = gd.closest('.output');\n",
       "if (outputEl) {{\n",
       "    x.observe(outputEl, {childList: true});\n",
       "}}\n",
       "\n",
       "                        })                };                });            </script>        </div>"
      ]
     },
     "metadata": {},
     "output_type": "display_data"
    }
   ],
   "source": [
    "fig = px.line(melted, x = 'variable', y = 'value', color = 'index')\n",
    "\n",
    "fig.update_layout(title = \"Average Percent Composition of CTs Across Variance Levels\")\n",
    "\n",
    "# Update x-axis and y-axis labels\n",
    "fig.update_xaxes(title_text='Variance')\n",
    "fig.update_yaxes(title_text='Average Percent Composition')\n",
    "fig.update_layout(legend_title_text='Cell Types (CTs)')"
   ]
  },
  {
   "cell_type": "code",
   "execution_count": 41,
   "metadata": {},
   "outputs": [
    {
     "data": {
      "text/html": [
       "<div>\n",
       "<style scoped>\n",
       "    .dataframe tbody tr th:only-of-type {\n",
       "        vertical-align: middle;\n",
       "    }\n",
       "\n",
       "    .dataframe tbody tr th {\n",
       "        vertical-align: top;\n",
       "    }\n",
       "\n",
       "    .dataframe thead th {\n",
       "        text-align: right;\n",
       "    }\n",
       "</style>\n",
       "<table border=\"1\" class=\"dataframe\">\n",
       "  <thead>\n",
       "    <tr style=\"text-align: right;\">\n",
       "      <th></th>\n",
       "      <th>0.055</th>\n",
       "      <th>0.1</th>\n",
       "      <th>0.025</th>\n",
       "      <th>0.07</th>\n",
       "      <th>0.045</th>\n",
       "      <th>0.09</th>\n",
       "      <th>0.03</th>\n",
       "      <th>1</th>\n",
       "      <th>0.5</th>\n",
       "      <th>0.04</th>\n",
       "      <th>...</th>\n",
       "      <th>0.075</th>\n",
       "      <th>0.05</th>\n",
       "      <th>0.095</th>\n",
       "      <th>0.015</th>\n",
       "      <th>0.3</th>\n",
       "      <th>0.9</th>\n",
       "      <th>0.065</th>\n",
       "      <th>0</th>\n",
       "      <th>0.02</th>\n",
       "      <th>0.08</th>\n",
       "    </tr>\n",
       "  </thead>\n",
       "  <tbody>\n",
       "    <tr>\n",
       "      <th>B-cells</th>\n",
       "      <td>0.054177</td>\n",
       "      <td>0.065815</td>\n",
       "      <td>0.051863</td>\n",
       "      <td>0.056325</td>\n",
       "      <td>0.052101</td>\n",
       "      <td>0.061765</td>\n",
       "      <td>0.049043</td>\n",
       "      <td>0.138650</td>\n",
       "      <td>0.117254</td>\n",
       "      <td>0.053145</td>\n",
       "      <td>...</td>\n",
       "      <td>0.058280</td>\n",
       "      <td>0.053821</td>\n",
       "      <td>0.065994</td>\n",
       "      <td>0.05072</td>\n",
       "      <td>0.103943</td>\n",
       "      <td>0.132823</td>\n",
       "      <td>0.053571</td>\n",
       "      <td>0.05</td>\n",
       "      <td>0.04971</td>\n",
       "      <td>0.060704</td>\n",
       "    </tr>\n",
       "    <tr>\n",
       "      <th>Dendritic cells</th>\n",
       "      <td>0.053020</td>\n",
       "      <td>0.068930</td>\n",
       "      <td>0.050273</td>\n",
       "      <td>0.053659</td>\n",
       "      <td>0.051064</td>\n",
       "      <td>0.062135</td>\n",
       "      <td>0.051160</td>\n",
       "      <td>0.119747</td>\n",
       "      <td>0.116646</td>\n",
       "      <td>0.052597</td>\n",
       "      <td>...</td>\n",
       "      <td>0.052534</td>\n",
       "      <td>0.050688</td>\n",
       "      <td>0.062569</td>\n",
       "      <td>0.04824</td>\n",
       "      <td>0.110510</td>\n",
       "      <td>0.123145</td>\n",
       "      <td>0.051019</td>\n",
       "      <td>0.05</td>\n",
       "      <td>0.04944</td>\n",
       "      <td>0.054482</td>\n",
       "    </tr>\n",
       "    <tr>\n",
       "      <th>Macrophages</th>\n",
       "      <td>0.197262</td>\n",
       "      <td>0.177203</td>\n",
       "      <td>0.199782</td>\n",
       "      <td>0.196092</td>\n",
       "      <td>0.195973</td>\n",
       "      <td>0.183483</td>\n",
       "      <td>0.204331</td>\n",
       "      <td>0.144343</td>\n",
       "      <td>0.168202</td>\n",
       "      <td>0.195786</td>\n",
       "      <td>...</td>\n",
       "      <td>0.186928</td>\n",
       "      <td>0.195612</td>\n",
       "      <td>0.188875</td>\n",
       "      <td>0.20002</td>\n",
       "      <td>0.152189</td>\n",
       "      <td>0.151911</td>\n",
       "      <td>0.198321</td>\n",
       "      <td>0.20</td>\n",
       "      <td>0.19972</td>\n",
       "      <td>0.180698</td>\n",
       "    </tr>\n",
       "    <tr>\n",
       "      <th>Monocytes</th>\n",
       "      <td>0.049004</td>\n",
       "      <td>0.061408</td>\n",
       "      <td>0.047823</td>\n",
       "      <td>0.057599</td>\n",
       "      <td>0.047835</td>\n",
       "      <td>0.059436</td>\n",
       "      <td>0.047514</td>\n",
       "      <td>0.128626</td>\n",
       "      <td>0.118267</td>\n",
       "      <td>0.044668</td>\n",
       "      <td>...</td>\n",
       "      <td>0.058923</td>\n",
       "      <td>0.058803</td>\n",
       "      <td>0.060312</td>\n",
       "      <td>0.05031</td>\n",
       "      <td>0.108263</td>\n",
       "      <td>0.132566</td>\n",
       "      <td>0.056459</td>\n",
       "      <td>0.05</td>\n",
       "      <td>0.04962</td>\n",
       "      <td>0.051990</td>\n",
       "    </tr>\n",
       "    <tr>\n",
       "      <th>Nk-cells</th>\n",
       "      <td>0.092805</td>\n",
       "      <td>0.095959</td>\n",
       "      <td>0.101286</td>\n",
       "      <td>0.092575</td>\n",
       "      <td>0.103434</td>\n",
       "      <td>0.088852</td>\n",
       "      <td>0.097636</td>\n",
       "      <td>0.146558</td>\n",
       "      <td>0.136470</td>\n",
       "      <td>0.100095</td>\n",
       "      <td>...</td>\n",
       "      <td>0.095348</td>\n",
       "      <td>0.097657</td>\n",
       "      <td>0.094267</td>\n",
       "      <td>0.10276</td>\n",
       "      <td>0.122584</td>\n",
       "      <td>0.133730</td>\n",
       "      <td>0.091937</td>\n",
       "      <td>0.10</td>\n",
       "      <td>0.09962</td>\n",
       "      <td>0.096511</td>\n",
       "    </tr>\n",
       "    <tr>\n",
       "      <th>Platelets</th>\n",
       "      <td>0.056047</td>\n",
       "      <td>0.068129</td>\n",
       "      <td>0.049253</td>\n",
       "      <td>0.058399</td>\n",
       "      <td>0.049140</td>\n",
       "      <td>0.071518</td>\n",
       "      <td>0.049412</td>\n",
       "      <td>0.134818</td>\n",
       "      <td>0.114547</td>\n",
       "      <td>0.057220</td>\n",
       "      <td>...</td>\n",
       "      <td>0.058261</td>\n",
       "      <td>0.047068</td>\n",
       "      <td>0.062920</td>\n",
       "      <td>0.04815</td>\n",
       "      <td>0.104322</td>\n",
       "      <td>0.137481</td>\n",
       "      <td>0.054922</td>\n",
       "      <td>0.05</td>\n",
       "      <td>0.05134</td>\n",
       "      <td>0.065669</td>\n",
       "    </tr>\n",
       "    <tr>\n",
       "      <th>T-cells</th>\n",
       "      <td>0.497685</td>\n",
       "      <td>0.462555</td>\n",
       "      <td>0.499720</td>\n",
       "      <td>0.485351</td>\n",
       "      <td>0.500454</td>\n",
       "      <td>0.472810</td>\n",
       "      <td>0.500904</td>\n",
       "      <td>0.187257</td>\n",
       "      <td>0.228615</td>\n",
       "      <td>0.496489</td>\n",
       "      <td>...</td>\n",
       "      <td>0.489725</td>\n",
       "      <td>0.496350</td>\n",
       "      <td>0.465062</td>\n",
       "      <td>0.49980</td>\n",
       "      <td>0.298189</td>\n",
       "      <td>0.188343</td>\n",
       "      <td>0.493772</td>\n",
       "      <td>0.50</td>\n",
       "      <td>0.50055</td>\n",
       "      <td>0.489947</td>\n",
       "    </tr>\n",
       "  </tbody>\n",
       "</table>\n",
       "<p>7 rows × 26 columns</p>\n",
       "</div>"
      ],
      "text/plain": [
       "                    0.055       0.1     0.025      0.07     0.045      0.09  \\\n",
       "B-cells          0.054177  0.065815  0.051863  0.056325  0.052101  0.061765   \n",
       "Dendritic cells  0.053020  0.068930  0.050273  0.053659  0.051064  0.062135   \n",
       "Macrophages      0.197262  0.177203  0.199782  0.196092  0.195973  0.183483   \n",
       "Monocytes        0.049004  0.061408  0.047823  0.057599  0.047835  0.059436   \n",
       "Nk-cells         0.092805  0.095959  0.101286  0.092575  0.103434  0.088852   \n",
       "Platelets        0.056047  0.068129  0.049253  0.058399  0.049140  0.071518   \n",
       "T-cells          0.497685  0.462555  0.499720  0.485351  0.500454  0.472810   \n",
       "\n",
       "                     0.03         1       0.5      0.04  ...     0.075  \\\n",
       "B-cells          0.049043  0.138650  0.117254  0.053145  ...  0.058280   \n",
       "Dendritic cells  0.051160  0.119747  0.116646  0.052597  ...  0.052534   \n",
       "Macrophages      0.204331  0.144343  0.168202  0.195786  ...  0.186928   \n",
       "Monocytes        0.047514  0.128626  0.118267  0.044668  ...  0.058923   \n",
       "Nk-cells         0.097636  0.146558  0.136470  0.100095  ...  0.095348   \n",
       "Platelets        0.049412  0.134818  0.114547  0.057220  ...  0.058261   \n",
       "T-cells          0.500904  0.187257  0.228615  0.496489  ...  0.489725   \n",
       "\n",
       "                     0.05     0.095    0.015       0.3       0.9     0.065  \\\n",
       "B-cells          0.053821  0.065994  0.05072  0.103943  0.132823  0.053571   \n",
       "Dendritic cells  0.050688  0.062569  0.04824  0.110510  0.123145  0.051019   \n",
       "Macrophages      0.195612  0.188875  0.20002  0.152189  0.151911  0.198321   \n",
       "Monocytes        0.058803  0.060312  0.05031  0.108263  0.132566  0.056459   \n",
       "Nk-cells         0.097657  0.094267  0.10276  0.122584  0.133730  0.091937   \n",
       "Platelets        0.047068  0.062920  0.04815  0.104322  0.137481  0.054922   \n",
       "T-cells          0.496350  0.465062  0.49980  0.298189  0.188343  0.493772   \n",
       "\n",
       "                    0     0.02      0.08  \n",
       "B-cells          0.05  0.04971  0.060704  \n",
       "Dendritic cells  0.05  0.04944  0.054482  \n",
       "Macrophages      0.20  0.19972  0.180698  \n",
       "Monocytes        0.05  0.04962  0.051990  \n",
       "Nk-cells         0.10  0.09962  0.096511  \n",
       "Platelets        0.05  0.05134  0.065669  \n",
       "T-cells          0.50  0.50055  0.489947  \n",
       "\n",
       "[7 rows x 26 columns]"
      ]
     },
     "execution_count": 41,
     "metadata": {},
     "output_type": "execute_result"
    }
   ],
   "source": [
    "merged_df"
   ]
  }
 ],
 "metadata": {
  "kernelspec": {
   "display_name": "PseudoPipelineEnv",
   "language": "python",
   "name": "python3"
  },
  "language_info": {
   "codemirror_mode": {
    "name": "ipython",
    "version": 3
   },
   "file_extension": ".py",
   "mimetype": "text/x-python",
   "name": "python",
   "nbconvert_exporter": "python",
   "pygments_lexer": "ipython3",
   "version": "3.9.13"
  },
  "orig_nbformat": 4
 },
 "nbformat": 4,
 "nbformat_minor": 2
}
