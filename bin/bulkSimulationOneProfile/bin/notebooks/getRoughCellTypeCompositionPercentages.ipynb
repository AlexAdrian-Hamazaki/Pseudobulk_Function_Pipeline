{
 "cells": [
  {
   "cell_type": "code",
   "execution_count": 1,
   "metadata": {},
   "outputs": [],
   "source": [
    "import anndata as ad"
   ]
  },
  {
   "cell_type": "code",
   "execution_count": 9,
   "metadata": {},
   "outputs": [],
   "source": [
    "adata = ad.read_h5ad(\"/space/grp/aadrian/Pseudobulk_Function_Pipeline_HighRes/bin/preprocessing/preprocessSC_pipe/data/h5ad_datasets/processed/pc/brain_sc_with_metadata_cpm_pc.h5ad\")"
   ]
  },
  {
   "cell_type": "code",
   "execution_count": 10,
   "metadata": {},
   "outputs": [
    {
     "data": {
      "text/plain": [
       "<pandas.core.groupby.generic.DataFrameGroupBy object at 0x7f4933d73340>"
      ]
     },
     "execution_count": 10,
     "metadata": {},
     "output_type": "execute_result"
    }
   ],
   "source": [
    "adata_grouped = adata.obs.groupby([\"Cell type\"])\n",
    "adata_grouped"
   ]
  },
  {
   "cell_type": "code",
   "execution_count": 11,
   "metadata": {},
   "outputs": [],
   "source": [
    "dictCellTypeProfile = {}\n",
    "\n",
    "for group, lo_cell_ids in adata_grouped.indices.items():\n",
    "    \n",
    "    # Retrive all the cells in a cell type\n",
    "    grouped_cells = adata[lo_cell_ids,:]\n",
    "    \n",
    "    # Summarize the counts for that cell type\n",
    "    cell_type_profile = grouped_cells.shape[0] / adata.shape[0]\n",
    "    \n",
    "    # Add to the dict. key will be the cell type(group) and the value would be a list of summarized genes\n",
    "    dictCellTypeProfile[group] = cell_type_profile\n",
    "    \n",
    "    \n",
    "    "
   ]
  },
  {
   "cell_type": "code",
   "execution_count": 12,
   "metadata": {},
   "outputs": [
    {
     "data": {
      "text/plain": [
       "{'Astrocytes': 0.007429771593594119,\n",
       " 'Excitatory neurons': 0.6351273300078761,\n",
       " 'Inhibitory neurons': 0.3136912575479128,\n",
       " 'Microglial cells': 0.00263848779207141,\n",
       " 'Oligodendrocyte precursor cells': 0.0037542662116040954,\n",
       " 'Oligodendrocytes': 0.037358886846941455}"
      ]
     },
     "execution_count": 12,
     "metadata": {},
     "output_type": "execute_result"
    }
   ],
   "source": [
    "dictCellTypeProfile"
   ]
  },
  {
   "cell_type": "code",
   "execution_count": 6,
   "metadata": {},
   "outputs": [
    {
     "data": {
      "text/plain": [
       "(5139, 13439)"
      ]
     },
     "execution_count": 6,
     "metadata": {},
     "output_type": "execute_result"
    }
   ],
   "source": [
    "adata.shape"
   ]
  }
 ],
 "metadata": {
  "kernelspec": {
   "display_name": "PseudoPipelineEnv",
   "language": "python",
   "name": "python3"
  },
  "language_info": {
   "codemirror_mode": {
    "name": "ipython",
    "version": 3
   },
   "file_extension": ".py",
   "mimetype": "text/x-python",
   "name": "python",
   "nbconvert_exporter": "python",
   "pygments_lexer": "ipython3",
   "version": "3.9.13"
  },
  "orig_nbformat": 4
 },
 "nbformat": 4,
 "nbformat_minor": 2
}
