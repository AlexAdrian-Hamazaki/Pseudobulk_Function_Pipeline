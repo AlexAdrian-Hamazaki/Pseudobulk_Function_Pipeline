{
 "cells": [
  {
   "cell_type": "code",
   "execution_count": 1,
   "metadata": {},
   "outputs": [],
   "source": [
    "import pandas as pd\n",
    "import os\n",
    "import functools\n"
   ]
  },
  {
   "cell_type": "code",
   "execution_count": 26,
   "metadata": {},
   "outputs": [],
   "source": [
    "path_to_results = \"/space/grp/aadrian/Pseudobulk_Function_Pipeline_HighRes/bin/bulkSimulationOneProfile/data/1005_smaller_comps/EGAD\"\n",
    "\n",
    "\n",
    "# organism_part_dir_name = \"pbmc_sc_with_metadata_cpm_pc_cell_type_profiles.csv\"\n",
    "# file = \"pbmc_sc_with_metadata_cpm_pc_cell_type_profiles.csv_bp_annotations_withGeneData_EGAD.csv\"\n",
    "\n",
    "# egad_path = \"/space/grp/aadrian/Pseudobulk_Function_Pipeline_HighRes/bin/bulkEGADPipeline/data/splitOPs1/EGAD/Blood_split.csv_bp_annotations_withGeneData_EGAD.csv\"\n",
    "# organism_part_dir_name = \"pbmc_sc_with_metadata_cpm_pc_cell_type_profiles.csv\"\n",
    "# file = \"pbmc_sc_with_metadata_cpm_pc_cell_type_profiles.csv_bp_annotations_withGeneData_EGAD.csv\"\n",
    "# organism_part='pbmc'\n",
    "\n",
    "egad_path = \"/space/grp/aadrian/Pseudobulk_Function_Pipeline_HighRes/bin/bulkEGADPipeline/data/splitOPs1/EGAD/Brain_split.csv_bp_annotations_withGeneData_EGAD.csv\"\n",
    "organism_part_dir_name = \"brain_sc_with_metadata_cpm_pc_cell_type_profiles.csv\"\n",
    "file = \"brain_sc_with_metadata_cpm_pc_cell_type_profiles.csv_bp_annotations_withGeneData_EGAD.csv\"\n",
    "organism_part = 'brain'\n",
    "\n",
    "lovariances = os.listdir(path_to_results)"
   ]
  },
  {
   "cell_type": "code",
   "execution_count": 27,
   "metadata": {},
   "outputs": [
    {
     "data": {
      "text/plain": [
       "['/space/grp/aadrian/Pseudobulk_Function_Pipeline_HighRes/bin/bulkSimulationOneProfile/data/1005_smaller_comps/EGAD/0.001/brain_sc_with_metadata_cpm_pc_cell_type_profiles.csv/brain_sc_with_metadata_cpm_pc_cell_type_profiles.csv_bp_annotations_withGeneData_EGAD.csv',\n",
       " '/space/grp/aadrian/Pseudobulk_Function_Pipeline_HighRes/bin/bulkSimulationOneProfile/data/1005_smaller_comps/EGAD/0.0005/brain_sc_with_metadata_cpm_pc_cell_type_profiles.csv/brain_sc_with_metadata_cpm_pc_cell_type_profiles.csv_bp_annotations_withGeneData_EGAD.csv',\n",
       " '/space/grp/aadrian/Pseudobulk_Function_Pipeline_HighRes/bin/bulkSimulationOneProfile/data/1005_smaller_comps/EGAD/0.002/brain_sc_with_metadata_cpm_pc_cell_type_profiles.csv/brain_sc_with_metadata_cpm_pc_cell_type_profiles.csv_bp_annotations_withGeneData_EGAD.csv',\n",
       " '/space/grp/aadrian/Pseudobulk_Function_Pipeline_HighRes/bin/bulkSimulationOneProfile/data/1005_smaller_comps/EGAD/0.0001/brain_sc_with_metadata_cpm_pc_cell_type_profiles.csv/brain_sc_with_metadata_cpm_pc_cell_type_profiles.csv_bp_annotations_withGeneData_EGAD.csv',\n",
       " '/space/grp/aadrian/Pseudobulk_Function_Pipeline_HighRes/bin/bulkSimulationOneProfile/data/1005_smaller_comps/EGAD/0.005/brain_sc_with_metadata_cpm_pc_cell_type_profiles.csv/brain_sc_with_metadata_cpm_pc_cell_type_profiles.csv_bp_annotations_withGeneData_EGAD.csv',\n",
       " '/space/grp/aadrian/Pseudobulk_Function_Pipeline_HighRes/bin/bulkSimulationOneProfile/data/1005_smaller_comps/EGAD/0/brain_sc_with_metadata_cpm_pc_cell_type_profiles.csv/brain_sc_with_metadata_cpm_pc_cell_type_profiles.csv_bp_annotations_withGeneData_EGAD.csv',\n",
       " '/space/grp/aadrian/Pseudobulk_Function_Pipeline_HighRes/bin/bulkSimulationOneProfile/data/1005_smaller_comps/EGAD/0.00075/brain_sc_with_metadata_cpm_pc_cell_type_profiles.csv/brain_sc_with_metadata_cpm_pc_cell_type_profiles.csv_bp_annotations_withGeneData_EGAD.csv']"
      ]
     },
     "execution_count": 27,
     "metadata": {},
     "output_type": "execute_result"
    }
   ],
   "source": [
    "loPaths = [f\"{path_to_results}/{variance}/{organism_part_dir_name}/{file}\" for variance in lovariances]\n",
    "loPaths"
   ]
  },
  {
   "cell_type": "code",
   "execution_count": 28,
   "metadata": {},
   "outputs": [
    {
     "data": {
      "text/plain": [
       "[True, True, True, False, True, True, True]"
      ]
     },
     "execution_count": 28,
     "metadata": {},
     "output_type": "execute_result"
    }
   ],
   "source": [
    "loPaths_mask = [os.path.exists(path) for path in loPaths]\n",
    "loPaths_mask"
   ]
  },
  {
   "cell_type": "code",
   "execution_count": 29,
   "metadata": {},
   "outputs": [
    {
     "name": "stdout",
     "output_type": "stream",
     "text": [
      "['/space/grp/aadrian/Pseudobulk_Function_Pipeline_HighRes/bin/bulkSimulationOneProfile/data/1005_smaller_comps/EGAD/0.001/brain_sc_with_metadata_cpm_pc_cell_type_profiles.csv/brain_sc_with_metadata_cpm_pc_cell_type_profiles.csv_bp_annotations_withGeneData_EGAD.csv', '/space/grp/aadrian/Pseudobulk_Function_Pipeline_HighRes/bin/bulkSimulationOneProfile/data/1005_smaller_comps/EGAD/0.0005/brain_sc_with_metadata_cpm_pc_cell_type_profiles.csv/brain_sc_with_metadata_cpm_pc_cell_type_profiles.csv_bp_annotations_withGeneData_EGAD.csv', '/space/grp/aadrian/Pseudobulk_Function_Pipeline_HighRes/bin/bulkSimulationOneProfile/data/1005_smaller_comps/EGAD/0.002/brain_sc_with_metadata_cpm_pc_cell_type_profiles.csv/brain_sc_with_metadata_cpm_pc_cell_type_profiles.csv_bp_annotations_withGeneData_EGAD.csv', '/space/grp/aadrian/Pseudobulk_Function_Pipeline_HighRes/bin/bulkSimulationOneProfile/data/1005_smaller_comps/EGAD/0.005/brain_sc_with_metadata_cpm_pc_cell_type_profiles.csv/brain_sc_with_metadata_cpm_pc_cell_type_profiles.csv_bp_annotations_withGeneData_EGAD.csv', '/space/grp/aadrian/Pseudobulk_Function_Pipeline_HighRes/bin/bulkSimulationOneProfile/data/1005_smaller_comps/EGAD/0/brain_sc_with_metadata_cpm_pc_cell_type_profiles.csv/brain_sc_with_metadata_cpm_pc_cell_type_profiles.csv_bp_annotations_withGeneData_EGAD.csv', '/space/grp/aadrian/Pseudobulk_Function_Pipeline_HighRes/bin/bulkSimulationOneProfile/data/1005_smaller_comps/EGAD/0.00075/brain_sc_with_metadata_cpm_pc_cell_type_profiles.csv/brain_sc_with_metadata_cpm_pc_cell_type_profiles.csv_bp_annotations_withGeneData_EGAD.csv']\n",
      "['0.001', '0.0005', '0.002', '0.005', '0', '0.00075']\n"
     ]
    }
   ],
   "source": [
    "# Use list comprehension to create a new list containing elements where mask is True\n",
    "loPaths = [item for item, use in zip(loPaths, loPaths_mask) if use]\n",
    "loPaths\n",
    "print(loPaths)\n",
    "\n",
    "lovariances = [item for item, use in zip(lovariances, loPaths_mask) if use]\n",
    "print(lovariances)"
   ]
  },
  {
   "cell_type": "code",
   "execution_count": 30,
   "metadata": {},
   "outputs": [
    {
     "data": {
      "text/plain": [
       "auc                  0.500597\n",
       "avg_node_degree    600.601594\n",
       "degree_null_auc      0.516521\n",
       "dtype: float64"
      ]
     },
     "execution_count": 30,
     "metadata": {},
     "output_type": "execute_result"
    }
   ],
   "source": [
    "lodfs = [pd.read_csv(path) for path in loPaths]\n",
    "lodfs[0].mean(axis=0)\n",
    "\n"
   ]
  },
  {
   "cell_type": "code",
   "execution_count": 31,
   "metadata": {},
   "outputs": [
    {
     "data": {
      "text/plain": [
       "[GO:0015793    0.630842\n",
       " GO:0006833    0.540832\n",
       " GO:0007015    0.499338\n",
       " GO:0030335    0.474627\n",
       " GO:0042989    0.395225\n",
       "                 ...   \n",
       " GO:0015746    0.595884\n",
       " GO:1990108    0.507635\n",
       " GO:0097039    0.526494\n",
       " GO:0032218    0.451396\n",
       " GO:0002377    0.470625\n",
       " Name: auc, Length: 2906, dtype: float64,\n",
       " GO:0015793    0.486858\n",
       " GO:0006833    0.568975\n",
       " GO:0007015    0.469436\n",
       " GO:0030335    0.495473\n",
       " GO:0042989    0.342357\n",
       "                 ...   \n",
       " GO:0015746    0.526038\n",
       " GO:1990108    0.348038\n",
       " GO:0097039    0.543657\n",
       " GO:0032218    0.474925\n",
       " GO:0002377    0.441439\n",
       " Name: auc, Length: 2906, dtype: float64,\n",
       " GO:0015793    0.503634\n",
       " GO:0006833    0.578297\n",
       " GO:0007015    0.500283\n",
       " GO:0030335    0.507110\n",
       " GO:0042989    0.305086\n",
       "                 ...   \n",
       " GO:0015746    0.494366\n",
       " GO:1990108    0.359632\n",
       " GO:0097039    0.498912\n",
       " GO:0032218    0.327263\n",
       " GO:0002377    0.364526\n",
       " Name: auc, Length: 2906, dtype: float64,\n",
       " GO:0015793    0.553644\n",
       " GO:0006833    0.566623\n",
       " GO:0007015    0.502797\n",
       " GO:0030335    0.499952\n",
       " GO:0042989    0.365201\n",
       "                 ...   \n",
       " GO:0015746    0.666166\n",
       " GO:1990108    0.507548\n",
       " GO:0097039    0.494671\n",
       " GO:0032218    0.230065\n",
       " GO:0002377    0.413201\n",
       " Name: auc, Length: 2906, dtype: float64,\n",
       " GO:0015793    0.5\n",
       " GO:0006833    0.5\n",
       " GO:0007015    0.5\n",
       " GO:0030335    0.5\n",
       " GO:0042989    0.5\n",
       "              ... \n",
       " GO:0015746    0.5\n",
       " GO:1990108    0.5\n",
       " GO:0097039    0.5\n",
       " GO:0032218    0.5\n",
       " GO:0002377    0.5\n",
       " Name: auc, Length: 2906, dtype: float64,\n",
       " GO:0015793    0.341427\n",
       " GO:0006833    0.510973\n",
       " GO:0007015    0.424108\n",
       " GO:0030335    0.497558\n",
       " GO:0042989    0.502020\n",
       "                 ...   \n",
       " GO:0015746    0.620051\n",
       " GO:1990108    0.413426\n",
       " GO:0097039    0.567389\n",
       " GO:0032218    0.434654\n",
       " GO:0002377    0.524889\n",
       " Name: auc, Length: 2906, dtype: float64]"
      ]
     },
     "execution_count": 31,
     "metadata": {},
     "output_type": "execute_result"
    }
   ],
   "source": [
    "# Get the first column (auc) for each df\n",
    "lodfs = [df.iloc[:,0] for df in lodfs]\n",
    "lodfs\n",
    "\n"
   ]
  },
  {
   "cell_type": "code",
   "execution_count": 32,
   "metadata": {},
   "outputs": [
    {
     "name": "stdout",
     "output_type": "stream",
     "text": [
      "0.001\n",
      "0.0005\n",
      "0.002\n",
      "0.005\n",
      "0\n",
      "0.00075\n",
      "0.5054125126634942\n"
     ]
    }
   ],
   "source": [
    "# Add a name to each series\n",
    "lonamed_dfs = []\n",
    "for i, df in enumerate(lodfs):\n",
    "    df.name = lovariances[i]\n",
    "    lonamed_dfs.append(df)\n",
    "    print(lovariances[i])\n",
    "    \n",
    "len(lonamed_dfs)\n",
    "print(lonamed_dfs[3].mean(axis = 0))"
   ]
  },
  {
   "cell_type": "code",
   "execution_count": 33,
   "metadata": {},
   "outputs": [
    {
     "name": "stdout",
     "output_type": "stream",
     "text": [
      "(2906, 6)\n"
     ]
    },
    {
     "data": {
      "text/plain": [
       "0.001      0.500597\n",
       "0.0005     0.501450\n",
       "0.002      0.502419\n",
       "0.005      0.505413\n",
       "0          0.500000\n",
       "0.00075    0.509341\n",
       "dtype: float64"
      ]
     },
     "execution_count": 33,
     "metadata": {},
     "output_type": "execute_result"
    }
   ],
   "source": [
    "auc_merged = pd.concat(lonamed_dfs, axis = 1)\n",
    "print(auc_merged.shape)\n",
    "auc_merged.mean(axis= 0)\n"
   ]
  },
  {
   "cell_type": "code",
   "execution_count": 34,
   "metadata": {},
   "outputs": [
    {
     "data": {
      "text/plain": [
       "array(['0.001', '0.0005', '0.002', '0.005', '0', '0.00075'], dtype=object)"
      ]
     },
     "execution_count": 34,
     "metadata": {},
     "output_type": "execute_result"
    }
   ],
   "source": [
    "auc_long = pd.melt(auc_merged.reset_index(), id_vars = [\"index\"])\n",
    "auc_long.variable.unique()"
   ]
  },
  {
   "cell_type": "code",
   "execution_count": 35,
   "metadata": {},
   "outputs": [
    {
     "data": {
      "text/html": [
       "<div>\n",
       "<style scoped>\n",
       "    .dataframe tbody tr th:only-of-type {\n",
       "        vertical-align: middle;\n",
       "    }\n",
       "\n",
       "    .dataframe tbody tr th {\n",
       "        vertical-align: top;\n",
       "    }\n",
       "\n",
       "    .dataframe thead th {\n",
       "        text-align: right;\n",
       "    }\n",
       "</style>\n",
       "<table border=\"1\" class=\"dataframe\">\n",
       "  <thead>\n",
       "    <tr style=\"text-align: right;\">\n",
       "      <th></th>\n",
       "      <th>index</th>\n",
       "      <th>variable</th>\n",
       "      <th>value</th>\n",
       "    </tr>\n",
       "  </thead>\n",
       "  <tbody>\n",
       "    <tr>\n",
       "      <th>0</th>\n",
       "      <td>GO:0015793</td>\n",
       "      <td>0.001</td>\n",
       "      <td>0.630842</td>\n",
       "    </tr>\n",
       "    <tr>\n",
       "      <th>1</th>\n",
       "      <td>GO:0006833</td>\n",
       "      <td>0.001</td>\n",
       "      <td>0.540832</td>\n",
       "    </tr>\n",
       "    <tr>\n",
       "      <th>2</th>\n",
       "      <td>GO:0007015</td>\n",
       "      <td>0.001</td>\n",
       "      <td>0.499338</td>\n",
       "    </tr>\n",
       "    <tr>\n",
       "      <th>3</th>\n",
       "      <td>GO:0030335</td>\n",
       "      <td>0.001</td>\n",
       "      <td>0.474627</td>\n",
       "    </tr>\n",
       "    <tr>\n",
       "      <th>4</th>\n",
       "      <td>GO:0042989</td>\n",
       "      <td>0.001</td>\n",
       "      <td>0.395225</td>\n",
       "    </tr>\n",
       "    <tr>\n",
       "      <th>...</th>\n",
       "      <td>...</td>\n",
       "      <td>...</td>\n",
       "      <td>...</td>\n",
       "    </tr>\n",
       "    <tr>\n",
       "      <th>17431</th>\n",
       "      <td>GO:0015746</td>\n",
       "      <td>0.00075</td>\n",
       "      <td>0.620051</td>\n",
       "    </tr>\n",
       "    <tr>\n",
       "      <th>17432</th>\n",
       "      <td>GO:1990108</td>\n",
       "      <td>0.00075</td>\n",
       "      <td>0.413426</td>\n",
       "    </tr>\n",
       "    <tr>\n",
       "      <th>17433</th>\n",
       "      <td>GO:0097039</td>\n",
       "      <td>0.00075</td>\n",
       "      <td>0.567389</td>\n",
       "    </tr>\n",
       "    <tr>\n",
       "      <th>17434</th>\n",
       "      <td>GO:0032218</td>\n",
       "      <td>0.00075</td>\n",
       "      <td>0.434654</td>\n",
       "    </tr>\n",
       "    <tr>\n",
       "      <th>17435</th>\n",
       "      <td>GO:0002377</td>\n",
       "      <td>0.00075</td>\n",
       "      <td>0.524889</td>\n",
       "    </tr>\n",
       "  </tbody>\n",
       "</table>\n",
       "<p>17436 rows × 3 columns</p>\n",
       "</div>"
      ],
      "text/plain": [
       "            index variable     value\n",
       "0      GO:0015793    0.001  0.630842\n",
       "1      GO:0006833    0.001  0.540832\n",
       "2      GO:0007015    0.001  0.499338\n",
       "3      GO:0030335    0.001  0.474627\n",
       "4      GO:0042989    0.001  0.395225\n",
       "...           ...      ...       ...\n",
       "17431  GO:0015746  0.00075  0.620051\n",
       "17432  GO:1990108  0.00075  0.413426\n",
       "17433  GO:0097039  0.00075  0.567389\n",
       "17434  GO:0032218  0.00075  0.434654\n",
       "17435  GO:0002377  0.00075  0.524889\n",
       "\n",
       "[17436 rows x 3 columns]"
      ]
     },
     "execution_count": 35,
     "metadata": {},
     "output_type": "execute_result"
    }
   ],
   "source": [
    "auc_long"
   ]
  },
  {
   "cell_type": "code",
   "execution_count": 36,
   "metadata": {},
   "outputs": [
    {
     "data": {
      "text/html": [
       "<div>\n",
       "<style scoped>\n",
       "    .dataframe tbody tr th:only-of-type {\n",
       "        vertical-align: middle;\n",
       "    }\n",
       "\n",
       "    .dataframe tbody tr th {\n",
       "        vertical-align: top;\n",
       "    }\n",
       "\n",
       "    .dataframe thead th {\n",
       "        text-align: right;\n",
       "    }\n",
       "</style>\n",
       "<table border=\"1\" class=\"dataframe\">\n",
       "  <thead>\n",
       "    <tr style=\"text-align: right;\">\n",
       "      <th></th>\n",
       "      <th>variable</th>\n",
       "      <th>value</th>\n",
       "    </tr>\n",
       "  </thead>\n",
       "  <tbody>\n",
       "    <tr>\n",
       "      <th>0</th>\n",
       "      <td>0</td>\n",
       "      <td>0.500000</td>\n",
       "    </tr>\n",
       "    <tr>\n",
       "      <th>1</th>\n",
       "      <td>0.0005</td>\n",
       "      <td>0.501450</td>\n",
       "    </tr>\n",
       "    <tr>\n",
       "      <th>2</th>\n",
       "      <td>0.00075</td>\n",
       "      <td>0.509341</td>\n",
       "    </tr>\n",
       "    <tr>\n",
       "      <th>3</th>\n",
       "      <td>0.001</td>\n",
       "      <td>0.500597</td>\n",
       "    </tr>\n",
       "    <tr>\n",
       "      <th>4</th>\n",
       "      <td>0.002</td>\n",
       "      <td>0.502419</td>\n",
       "    </tr>\n",
       "    <tr>\n",
       "      <th>5</th>\n",
       "      <td>0.005</td>\n",
       "      <td>0.505413</td>\n",
       "    </tr>\n",
       "  </tbody>\n",
       "</table>\n",
       "</div>"
      ],
      "text/plain": [
       "  variable     value\n",
       "0        0  0.500000\n",
       "1   0.0005  0.501450\n",
       "2  0.00075  0.509341\n",
       "3    0.001  0.500597\n",
       "4    0.002  0.502419\n",
       "5    0.005  0.505413"
      ]
     },
     "execution_count": 36,
     "metadata": {},
     "output_type": "execute_result"
    }
   ],
   "source": [
    "grouped_avg = auc_long.groupby('variable')['value'].mean().reset_index().sort_values('variable')\n",
    "grouped_avg"
   ]
  },
  {
   "cell_type": "code",
   "execution_count": 37,
   "metadata": {},
   "outputs": [
    {
     "data": {
      "application/vnd.plotly.v1+json": {
       "config": {
        "plotlyServerURL": "https://plot.ly"
       },
       "data": [
        {
         "hovertemplate": "variable=%{x}<br>value=%{y}<extra></extra>",
         "legendgroup": "",
         "line": {
          "color": "#636efa",
          "dash": "solid"
         },
         "marker": {
          "symbol": "circle"
         },
         "mode": "lines",
         "name": "",
         "orientation": "v",
         "showlegend": false,
         "type": "scatter",
         "x": [
          "0",
          "0.0005",
          "0.00075",
          "0.001",
          "0.002",
          "0.005"
         ],
         "xaxis": "x",
         "y": [
          0.5,
          0.5014496558449678,
          0.5093414604491041,
          0.5005966125986772,
          0.5024189468248484,
          0.5054125126634942
         ],
         "yaxis": "y"
        }
       ],
       "layout": {
        "legend": {
         "tracegroupgap": 0
        },
        "margin": {
         "t": 60
        },
        "template": {
         "data": {
          "bar": [
           {
            "error_x": {
             "color": "#2a3f5f"
            },
            "error_y": {
             "color": "#2a3f5f"
            },
            "marker": {
             "line": {
              "color": "#E5ECF6",
              "width": 0.5
             },
             "pattern": {
              "fillmode": "overlay",
              "size": 10,
              "solidity": 0.2
             }
            },
            "type": "bar"
           }
          ],
          "barpolar": [
           {
            "marker": {
             "line": {
              "color": "#E5ECF6",
              "width": 0.5
             },
             "pattern": {
              "fillmode": "overlay",
              "size": 10,
              "solidity": 0.2
             }
            },
            "type": "barpolar"
           }
          ],
          "carpet": [
           {
            "aaxis": {
             "endlinecolor": "#2a3f5f",
             "gridcolor": "white",
             "linecolor": "white",
             "minorgridcolor": "white",
             "startlinecolor": "#2a3f5f"
            },
            "baxis": {
             "endlinecolor": "#2a3f5f",
             "gridcolor": "white",
             "linecolor": "white",
             "minorgridcolor": "white",
             "startlinecolor": "#2a3f5f"
            },
            "type": "carpet"
           }
          ],
          "choropleth": [
           {
            "colorbar": {
             "outlinewidth": 0,
             "ticks": ""
            },
            "type": "choropleth"
           }
          ],
          "contour": [
           {
            "colorbar": {
             "outlinewidth": 0,
             "ticks": ""
            },
            "colorscale": [
             [
              0,
              "#0d0887"
             ],
             [
              0.1111111111111111,
              "#46039f"
             ],
             [
              0.2222222222222222,
              "#7201a8"
             ],
             [
              0.3333333333333333,
              "#9c179e"
             ],
             [
              0.4444444444444444,
              "#bd3786"
             ],
             [
              0.5555555555555556,
              "#d8576b"
             ],
             [
              0.6666666666666666,
              "#ed7953"
             ],
             [
              0.7777777777777778,
              "#fb9f3a"
             ],
             [
              0.8888888888888888,
              "#fdca26"
             ],
             [
              1,
              "#f0f921"
             ]
            ],
            "type": "contour"
           }
          ],
          "contourcarpet": [
           {
            "colorbar": {
             "outlinewidth": 0,
             "ticks": ""
            },
            "type": "contourcarpet"
           }
          ],
          "heatmap": [
           {
            "colorbar": {
             "outlinewidth": 0,
             "ticks": ""
            },
            "colorscale": [
             [
              0,
              "#0d0887"
             ],
             [
              0.1111111111111111,
              "#46039f"
             ],
             [
              0.2222222222222222,
              "#7201a8"
             ],
             [
              0.3333333333333333,
              "#9c179e"
             ],
             [
              0.4444444444444444,
              "#bd3786"
             ],
             [
              0.5555555555555556,
              "#d8576b"
             ],
             [
              0.6666666666666666,
              "#ed7953"
             ],
             [
              0.7777777777777778,
              "#fb9f3a"
             ],
             [
              0.8888888888888888,
              "#fdca26"
             ],
             [
              1,
              "#f0f921"
             ]
            ],
            "type": "heatmap"
           }
          ],
          "heatmapgl": [
           {
            "colorbar": {
             "outlinewidth": 0,
             "ticks": ""
            },
            "colorscale": [
             [
              0,
              "#0d0887"
             ],
             [
              0.1111111111111111,
              "#46039f"
             ],
             [
              0.2222222222222222,
              "#7201a8"
             ],
             [
              0.3333333333333333,
              "#9c179e"
             ],
             [
              0.4444444444444444,
              "#bd3786"
             ],
             [
              0.5555555555555556,
              "#d8576b"
             ],
             [
              0.6666666666666666,
              "#ed7953"
             ],
             [
              0.7777777777777778,
              "#fb9f3a"
             ],
             [
              0.8888888888888888,
              "#fdca26"
             ],
             [
              1,
              "#f0f921"
             ]
            ],
            "type": "heatmapgl"
           }
          ],
          "histogram": [
           {
            "marker": {
             "pattern": {
              "fillmode": "overlay",
              "size": 10,
              "solidity": 0.2
             }
            },
            "type": "histogram"
           }
          ],
          "histogram2d": [
           {
            "colorbar": {
             "outlinewidth": 0,
             "ticks": ""
            },
            "colorscale": [
             [
              0,
              "#0d0887"
             ],
             [
              0.1111111111111111,
              "#46039f"
             ],
             [
              0.2222222222222222,
              "#7201a8"
             ],
             [
              0.3333333333333333,
              "#9c179e"
             ],
             [
              0.4444444444444444,
              "#bd3786"
             ],
             [
              0.5555555555555556,
              "#d8576b"
             ],
             [
              0.6666666666666666,
              "#ed7953"
             ],
             [
              0.7777777777777778,
              "#fb9f3a"
             ],
             [
              0.8888888888888888,
              "#fdca26"
             ],
             [
              1,
              "#f0f921"
             ]
            ],
            "type": "histogram2d"
           }
          ],
          "histogram2dcontour": [
           {
            "colorbar": {
             "outlinewidth": 0,
             "ticks": ""
            },
            "colorscale": [
             [
              0,
              "#0d0887"
             ],
             [
              0.1111111111111111,
              "#46039f"
             ],
             [
              0.2222222222222222,
              "#7201a8"
             ],
             [
              0.3333333333333333,
              "#9c179e"
             ],
             [
              0.4444444444444444,
              "#bd3786"
             ],
             [
              0.5555555555555556,
              "#d8576b"
             ],
             [
              0.6666666666666666,
              "#ed7953"
             ],
             [
              0.7777777777777778,
              "#fb9f3a"
             ],
             [
              0.8888888888888888,
              "#fdca26"
             ],
             [
              1,
              "#f0f921"
             ]
            ],
            "type": "histogram2dcontour"
           }
          ],
          "mesh3d": [
           {
            "colorbar": {
             "outlinewidth": 0,
             "ticks": ""
            },
            "type": "mesh3d"
           }
          ],
          "parcoords": [
           {
            "line": {
             "colorbar": {
              "outlinewidth": 0,
              "ticks": ""
             }
            },
            "type": "parcoords"
           }
          ],
          "pie": [
           {
            "automargin": true,
            "type": "pie"
           }
          ],
          "scatter": [
           {
            "fillpattern": {
             "fillmode": "overlay",
             "size": 10,
             "solidity": 0.2
            },
            "type": "scatter"
           }
          ],
          "scatter3d": [
           {
            "line": {
             "colorbar": {
              "outlinewidth": 0,
              "ticks": ""
             }
            },
            "marker": {
             "colorbar": {
              "outlinewidth": 0,
              "ticks": ""
             }
            },
            "type": "scatter3d"
           }
          ],
          "scattercarpet": [
           {
            "marker": {
             "colorbar": {
              "outlinewidth": 0,
              "ticks": ""
             }
            },
            "type": "scattercarpet"
           }
          ],
          "scattergeo": [
           {
            "marker": {
             "colorbar": {
              "outlinewidth": 0,
              "ticks": ""
             }
            },
            "type": "scattergeo"
           }
          ],
          "scattergl": [
           {
            "marker": {
             "colorbar": {
              "outlinewidth": 0,
              "ticks": ""
             }
            },
            "type": "scattergl"
           }
          ],
          "scattermapbox": [
           {
            "marker": {
             "colorbar": {
              "outlinewidth": 0,
              "ticks": ""
             }
            },
            "type": "scattermapbox"
           }
          ],
          "scatterpolar": [
           {
            "marker": {
             "colorbar": {
              "outlinewidth": 0,
              "ticks": ""
             }
            },
            "type": "scatterpolar"
           }
          ],
          "scatterpolargl": [
           {
            "marker": {
             "colorbar": {
              "outlinewidth": 0,
              "ticks": ""
             }
            },
            "type": "scatterpolargl"
           }
          ],
          "scatterternary": [
           {
            "marker": {
             "colorbar": {
              "outlinewidth": 0,
              "ticks": ""
             }
            },
            "type": "scatterternary"
           }
          ],
          "surface": [
           {
            "colorbar": {
             "outlinewidth": 0,
             "ticks": ""
            },
            "colorscale": [
             [
              0,
              "#0d0887"
             ],
             [
              0.1111111111111111,
              "#46039f"
             ],
             [
              0.2222222222222222,
              "#7201a8"
             ],
             [
              0.3333333333333333,
              "#9c179e"
             ],
             [
              0.4444444444444444,
              "#bd3786"
             ],
             [
              0.5555555555555556,
              "#d8576b"
             ],
             [
              0.6666666666666666,
              "#ed7953"
             ],
             [
              0.7777777777777778,
              "#fb9f3a"
             ],
             [
              0.8888888888888888,
              "#fdca26"
             ],
             [
              1,
              "#f0f921"
             ]
            ],
            "type": "surface"
           }
          ],
          "table": [
           {
            "cells": {
             "fill": {
              "color": "#EBF0F8"
             },
             "line": {
              "color": "white"
             }
            },
            "header": {
             "fill": {
              "color": "#C8D4E3"
             },
             "line": {
              "color": "white"
             }
            },
            "type": "table"
           }
          ]
         },
         "layout": {
          "annotationdefaults": {
           "arrowcolor": "#2a3f5f",
           "arrowhead": 0,
           "arrowwidth": 1
          },
          "autotypenumbers": "strict",
          "coloraxis": {
           "colorbar": {
            "outlinewidth": 0,
            "ticks": ""
           }
          },
          "colorscale": {
           "diverging": [
            [
             0,
             "#8e0152"
            ],
            [
             0.1,
             "#c51b7d"
            ],
            [
             0.2,
             "#de77ae"
            ],
            [
             0.3,
             "#f1b6da"
            ],
            [
             0.4,
             "#fde0ef"
            ],
            [
             0.5,
             "#f7f7f7"
            ],
            [
             0.6,
             "#e6f5d0"
            ],
            [
             0.7,
             "#b8e186"
            ],
            [
             0.8,
             "#7fbc41"
            ],
            [
             0.9,
             "#4d9221"
            ],
            [
             1,
             "#276419"
            ]
           ],
           "sequential": [
            [
             0,
             "#0d0887"
            ],
            [
             0.1111111111111111,
             "#46039f"
            ],
            [
             0.2222222222222222,
             "#7201a8"
            ],
            [
             0.3333333333333333,
             "#9c179e"
            ],
            [
             0.4444444444444444,
             "#bd3786"
            ],
            [
             0.5555555555555556,
             "#d8576b"
            ],
            [
             0.6666666666666666,
             "#ed7953"
            ],
            [
             0.7777777777777778,
             "#fb9f3a"
            ],
            [
             0.8888888888888888,
             "#fdca26"
            ],
            [
             1,
             "#f0f921"
            ]
           ],
           "sequentialminus": [
            [
             0,
             "#0d0887"
            ],
            [
             0.1111111111111111,
             "#46039f"
            ],
            [
             0.2222222222222222,
             "#7201a8"
            ],
            [
             0.3333333333333333,
             "#9c179e"
            ],
            [
             0.4444444444444444,
             "#bd3786"
            ],
            [
             0.5555555555555556,
             "#d8576b"
            ],
            [
             0.6666666666666666,
             "#ed7953"
            ],
            [
             0.7777777777777778,
             "#fb9f3a"
            ],
            [
             0.8888888888888888,
             "#fdca26"
            ],
            [
             1,
             "#f0f921"
            ]
           ]
          },
          "colorway": [
           "#636efa",
           "#EF553B",
           "#00cc96",
           "#ab63fa",
           "#FFA15A",
           "#19d3f3",
           "#FF6692",
           "#B6E880",
           "#FF97FF",
           "#FECB52"
          ],
          "font": {
           "color": "#2a3f5f"
          },
          "geo": {
           "bgcolor": "white",
           "lakecolor": "white",
           "landcolor": "#E5ECF6",
           "showlakes": true,
           "showland": true,
           "subunitcolor": "white"
          },
          "hoverlabel": {
           "align": "left"
          },
          "hovermode": "closest",
          "mapbox": {
           "style": "light"
          },
          "paper_bgcolor": "white",
          "plot_bgcolor": "#E5ECF6",
          "polar": {
           "angularaxis": {
            "gridcolor": "white",
            "linecolor": "white",
            "ticks": ""
           },
           "bgcolor": "#E5ECF6",
           "radialaxis": {
            "gridcolor": "white",
            "linecolor": "white",
            "ticks": ""
           }
          },
          "scene": {
           "xaxis": {
            "backgroundcolor": "#E5ECF6",
            "gridcolor": "white",
            "gridwidth": 2,
            "linecolor": "white",
            "showbackground": true,
            "ticks": "",
            "zerolinecolor": "white"
           },
           "yaxis": {
            "backgroundcolor": "#E5ECF6",
            "gridcolor": "white",
            "gridwidth": 2,
            "linecolor": "white",
            "showbackground": true,
            "ticks": "",
            "zerolinecolor": "white"
           },
           "zaxis": {
            "backgroundcolor": "#E5ECF6",
            "gridcolor": "white",
            "gridwidth": 2,
            "linecolor": "white",
            "showbackground": true,
            "ticks": "",
            "zerolinecolor": "white"
           }
          },
          "shapedefaults": {
           "line": {
            "color": "#2a3f5f"
           }
          },
          "ternary": {
           "aaxis": {
            "gridcolor": "white",
            "linecolor": "white",
            "ticks": ""
           },
           "baxis": {
            "gridcolor": "white",
            "linecolor": "white",
            "ticks": ""
           },
           "bgcolor": "#E5ECF6",
           "caxis": {
            "gridcolor": "white",
            "linecolor": "white",
            "ticks": ""
           }
          },
          "title": {
           "x": 0.05
          },
          "xaxis": {
           "automargin": true,
           "gridcolor": "white",
           "linecolor": "white",
           "ticks": "",
           "title": {
            "standoff": 15
           },
           "zerolinecolor": "white",
           "zerolinewidth": 2
          },
          "yaxis": {
           "automargin": true,
           "gridcolor": "white",
           "linecolor": "white",
           "ticks": "",
           "title": {
            "standoff": 15
           },
           "zerolinecolor": "white",
           "zerolinewidth": 2
          }
         }
        },
        "title": {
         "text": "EGAD Results for brain"
        },
        "xaxis": {
         "anchor": "y",
         "domain": [
          0,
          1
         ],
         "title": {
          "text": "Variance"
         }
        },
        "yaxis": {
         "anchor": "x",
         "domain": [
          0,
          1
         ],
         "title": {
          "text": "Average AUC"
         }
        }
       }
      },
      "text/html": [
       "<div>                            <div id=\"c38ce205-d96b-4bd0-ae21-a62fdde2a6c7\" class=\"plotly-graph-div\" style=\"height:525px; width:100%;\"></div>            <script type=\"text/javascript\">                require([\"plotly\"], function(Plotly) {                    window.PLOTLYENV=window.PLOTLYENV || {};                                    if (document.getElementById(\"c38ce205-d96b-4bd0-ae21-a62fdde2a6c7\")) {                    Plotly.newPlot(                        \"c38ce205-d96b-4bd0-ae21-a62fdde2a6c7\",                        [{\"hovertemplate\":\"variable=%{x}\\u003cbr\\u003evalue=%{y}\\u003cextra\\u003e\\u003c\\u002fextra\\u003e\",\"legendgroup\":\"\",\"line\":{\"color\":\"#636efa\",\"dash\":\"solid\"},\"marker\":{\"symbol\":\"circle\"},\"mode\":\"lines\",\"name\":\"\",\"orientation\":\"v\",\"showlegend\":false,\"x\":[\"0\",\"0.0005\",\"0.00075\",\"0.001\",\"0.002\",\"0.005\"],\"xaxis\":\"x\",\"y\":[0.5,0.5014496558449678,0.5093414604491041,0.5005966125986772,0.5024189468248484,0.5054125126634942],\"yaxis\":\"y\",\"type\":\"scatter\"}],                        {\"template\":{\"data\":{\"histogram2dcontour\":[{\"type\":\"histogram2dcontour\",\"colorbar\":{\"outlinewidth\":0,\"ticks\":\"\"},\"colorscale\":[[0.0,\"#0d0887\"],[0.1111111111111111,\"#46039f\"],[0.2222222222222222,\"#7201a8\"],[0.3333333333333333,\"#9c179e\"],[0.4444444444444444,\"#bd3786\"],[0.5555555555555556,\"#d8576b\"],[0.6666666666666666,\"#ed7953\"],[0.7777777777777778,\"#fb9f3a\"],[0.8888888888888888,\"#fdca26\"],[1.0,\"#f0f921\"]]}],\"choropleth\":[{\"type\":\"choropleth\",\"colorbar\":{\"outlinewidth\":0,\"ticks\":\"\"}}],\"histogram2d\":[{\"type\":\"histogram2d\",\"colorbar\":{\"outlinewidth\":0,\"ticks\":\"\"},\"colorscale\":[[0.0,\"#0d0887\"],[0.1111111111111111,\"#46039f\"],[0.2222222222222222,\"#7201a8\"],[0.3333333333333333,\"#9c179e\"],[0.4444444444444444,\"#bd3786\"],[0.5555555555555556,\"#d8576b\"],[0.6666666666666666,\"#ed7953\"],[0.7777777777777778,\"#fb9f3a\"],[0.8888888888888888,\"#fdca26\"],[1.0,\"#f0f921\"]]}],\"heatmap\":[{\"type\":\"heatmap\",\"colorbar\":{\"outlinewidth\":0,\"ticks\":\"\"},\"colorscale\":[[0.0,\"#0d0887\"],[0.1111111111111111,\"#46039f\"],[0.2222222222222222,\"#7201a8\"],[0.3333333333333333,\"#9c179e\"],[0.4444444444444444,\"#bd3786\"],[0.5555555555555556,\"#d8576b\"],[0.6666666666666666,\"#ed7953\"],[0.7777777777777778,\"#fb9f3a\"],[0.8888888888888888,\"#fdca26\"],[1.0,\"#f0f921\"]]}],\"heatmapgl\":[{\"type\":\"heatmapgl\",\"colorbar\":{\"outlinewidth\":0,\"ticks\":\"\"},\"colorscale\":[[0.0,\"#0d0887\"],[0.1111111111111111,\"#46039f\"],[0.2222222222222222,\"#7201a8\"],[0.3333333333333333,\"#9c179e\"],[0.4444444444444444,\"#bd3786\"],[0.5555555555555556,\"#d8576b\"],[0.6666666666666666,\"#ed7953\"],[0.7777777777777778,\"#fb9f3a\"],[0.8888888888888888,\"#fdca26\"],[1.0,\"#f0f921\"]]}],\"contourcarpet\":[{\"type\":\"contourcarpet\",\"colorbar\":{\"outlinewidth\":0,\"ticks\":\"\"}}],\"contour\":[{\"type\":\"contour\",\"colorbar\":{\"outlinewidth\":0,\"ticks\":\"\"},\"colorscale\":[[0.0,\"#0d0887\"],[0.1111111111111111,\"#46039f\"],[0.2222222222222222,\"#7201a8\"],[0.3333333333333333,\"#9c179e\"],[0.4444444444444444,\"#bd3786\"],[0.5555555555555556,\"#d8576b\"],[0.6666666666666666,\"#ed7953\"],[0.7777777777777778,\"#fb9f3a\"],[0.8888888888888888,\"#fdca26\"],[1.0,\"#f0f921\"]]}],\"surface\":[{\"type\":\"surface\",\"colorbar\":{\"outlinewidth\":0,\"ticks\":\"\"},\"colorscale\":[[0.0,\"#0d0887\"],[0.1111111111111111,\"#46039f\"],[0.2222222222222222,\"#7201a8\"],[0.3333333333333333,\"#9c179e\"],[0.4444444444444444,\"#bd3786\"],[0.5555555555555556,\"#d8576b\"],[0.6666666666666666,\"#ed7953\"],[0.7777777777777778,\"#fb9f3a\"],[0.8888888888888888,\"#fdca26\"],[1.0,\"#f0f921\"]]}],\"mesh3d\":[{\"type\":\"mesh3d\",\"colorbar\":{\"outlinewidth\":0,\"ticks\":\"\"}}],\"scatter\":[{\"fillpattern\":{\"fillmode\":\"overlay\",\"size\":10,\"solidity\":0.2},\"type\":\"scatter\"}],\"parcoords\":[{\"type\":\"parcoords\",\"line\":{\"colorbar\":{\"outlinewidth\":0,\"ticks\":\"\"}}}],\"scatterpolargl\":[{\"type\":\"scatterpolargl\",\"marker\":{\"colorbar\":{\"outlinewidth\":0,\"ticks\":\"\"}}}],\"bar\":[{\"error_x\":{\"color\":\"#2a3f5f\"},\"error_y\":{\"color\":\"#2a3f5f\"},\"marker\":{\"line\":{\"color\":\"#E5ECF6\",\"width\":0.5},\"pattern\":{\"fillmode\":\"overlay\",\"size\":10,\"solidity\":0.2}},\"type\":\"bar\"}],\"scattergeo\":[{\"type\":\"scattergeo\",\"marker\":{\"colorbar\":{\"outlinewidth\":0,\"ticks\":\"\"}}}],\"scatterpolar\":[{\"type\":\"scatterpolar\",\"marker\":{\"colorbar\":{\"outlinewidth\":0,\"ticks\":\"\"}}}],\"histogram\":[{\"marker\":{\"pattern\":{\"fillmode\":\"overlay\",\"size\":10,\"solidity\":0.2}},\"type\":\"histogram\"}],\"scattergl\":[{\"type\":\"scattergl\",\"marker\":{\"colorbar\":{\"outlinewidth\":0,\"ticks\":\"\"}}}],\"scatter3d\":[{\"type\":\"scatter3d\",\"line\":{\"colorbar\":{\"outlinewidth\":0,\"ticks\":\"\"}},\"marker\":{\"colorbar\":{\"outlinewidth\":0,\"ticks\":\"\"}}}],\"scattermapbox\":[{\"type\":\"scattermapbox\",\"marker\":{\"colorbar\":{\"outlinewidth\":0,\"ticks\":\"\"}}}],\"scatterternary\":[{\"type\":\"scatterternary\",\"marker\":{\"colorbar\":{\"outlinewidth\":0,\"ticks\":\"\"}}}],\"scattercarpet\":[{\"type\":\"scattercarpet\",\"marker\":{\"colorbar\":{\"outlinewidth\":0,\"ticks\":\"\"}}}],\"carpet\":[{\"aaxis\":{\"endlinecolor\":\"#2a3f5f\",\"gridcolor\":\"white\",\"linecolor\":\"white\",\"minorgridcolor\":\"white\",\"startlinecolor\":\"#2a3f5f\"},\"baxis\":{\"endlinecolor\":\"#2a3f5f\",\"gridcolor\":\"white\",\"linecolor\":\"white\",\"minorgridcolor\":\"white\",\"startlinecolor\":\"#2a3f5f\"},\"type\":\"carpet\"}],\"table\":[{\"cells\":{\"fill\":{\"color\":\"#EBF0F8\"},\"line\":{\"color\":\"white\"}},\"header\":{\"fill\":{\"color\":\"#C8D4E3\"},\"line\":{\"color\":\"white\"}},\"type\":\"table\"}],\"barpolar\":[{\"marker\":{\"line\":{\"color\":\"#E5ECF6\",\"width\":0.5},\"pattern\":{\"fillmode\":\"overlay\",\"size\":10,\"solidity\":0.2}},\"type\":\"barpolar\"}],\"pie\":[{\"automargin\":true,\"type\":\"pie\"}]},\"layout\":{\"autotypenumbers\":\"strict\",\"colorway\":[\"#636efa\",\"#EF553B\",\"#00cc96\",\"#ab63fa\",\"#FFA15A\",\"#19d3f3\",\"#FF6692\",\"#B6E880\",\"#FF97FF\",\"#FECB52\"],\"font\":{\"color\":\"#2a3f5f\"},\"hovermode\":\"closest\",\"hoverlabel\":{\"align\":\"left\"},\"paper_bgcolor\":\"white\",\"plot_bgcolor\":\"#E5ECF6\",\"polar\":{\"bgcolor\":\"#E5ECF6\",\"angularaxis\":{\"gridcolor\":\"white\",\"linecolor\":\"white\",\"ticks\":\"\"},\"radialaxis\":{\"gridcolor\":\"white\",\"linecolor\":\"white\",\"ticks\":\"\"}},\"ternary\":{\"bgcolor\":\"#E5ECF6\",\"aaxis\":{\"gridcolor\":\"white\",\"linecolor\":\"white\",\"ticks\":\"\"},\"baxis\":{\"gridcolor\":\"white\",\"linecolor\":\"white\",\"ticks\":\"\"},\"caxis\":{\"gridcolor\":\"white\",\"linecolor\":\"white\",\"ticks\":\"\"}},\"coloraxis\":{\"colorbar\":{\"outlinewidth\":0,\"ticks\":\"\"}},\"colorscale\":{\"sequential\":[[0.0,\"#0d0887\"],[0.1111111111111111,\"#46039f\"],[0.2222222222222222,\"#7201a8\"],[0.3333333333333333,\"#9c179e\"],[0.4444444444444444,\"#bd3786\"],[0.5555555555555556,\"#d8576b\"],[0.6666666666666666,\"#ed7953\"],[0.7777777777777778,\"#fb9f3a\"],[0.8888888888888888,\"#fdca26\"],[1.0,\"#f0f921\"]],\"sequentialminus\":[[0.0,\"#0d0887\"],[0.1111111111111111,\"#46039f\"],[0.2222222222222222,\"#7201a8\"],[0.3333333333333333,\"#9c179e\"],[0.4444444444444444,\"#bd3786\"],[0.5555555555555556,\"#d8576b\"],[0.6666666666666666,\"#ed7953\"],[0.7777777777777778,\"#fb9f3a\"],[0.8888888888888888,\"#fdca26\"],[1.0,\"#f0f921\"]],\"diverging\":[[0,\"#8e0152\"],[0.1,\"#c51b7d\"],[0.2,\"#de77ae\"],[0.3,\"#f1b6da\"],[0.4,\"#fde0ef\"],[0.5,\"#f7f7f7\"],[0.6,\"#e6f5d0\"],[0.7,\"#b8e186\"],[0.8,\"#7fbc41\"],[0.9,\"#4d9221\"],[1,\"#276419\"]]},\"xaxis\":{\"gridcolor\":\"white\",\"linecolor\":\"white\",\"ticks\":\"\",\"title\":{\"standoff\":15},\"zerolinecolor\":\"white\",\"automargin\":true,\"zerolinewidth\":2},\"yaxis\":{\"gridcolor\":\"white\",\"linecolor\":\"white\",\"ticks\":\"\",\"title\":{\"standoff\":15},\"zerolinecolor\":\"white\",\"automargin\":true,\"zerolinewidth\":2},\"scene\":{\"xaxis\":{\"backgroundcolor\":\"#E5ECF6\",\"gridcolor\":\"white\",\"linecolor\":\"white\",\"showbackground\":true,\"ticks\":\"\",\"zerolinecolor\":\"white\",\"gridwidth\":2},\"yaxis\":{\"backgroundcolor\":\"#E5ECF6\",\"gridcolor\":\"white\",\"linecolor\":\"white\",\"showbackground\":true,\"ticks\":\"\",\"zerolinecolor\":\"white\",\"gridwidth\":2},\"zaxis\":{\"backgroundcolor\":\"#E5ECF6\",\"gridcolor\":\"white\",\"linecolor\":\"white\",\"showbackground\":true,\"ticks\":\"\",\"zerolinecolor\":\"white\",\"gridwidth\":2}},\"shapedefaults\":{\"line\":{\"color\":\"#2a3f5f\"}},\"annotationdefaults\":{\"arrowcolor\":\"#2a3f5f\",\"arrowhead\":0,\"arrowwidth\":1},\"geo\":{\"bgcolor\":\"white\",\"landcolor\":\"#E5ECF6\",\"subunitcolor\":\"white\",\"showland\":true,\"showlakes\":true,\"lakecolor\":\"white\"},\"title\":{\"x\":0.05},\"mapbox\":{\"style\":\"light\"}}},\"xaxis\":{\"anchor\":\"y\",\"domain\":[0.0,1.0],\"title\":{\"text\":\"Variance\"}},\"yaxis\":{\"anchor\":\"x\",\"domain\":[0.0,1.0],\"title\":{\"text\":\"Average AUC\"}},\"legend\":{\"tracegroupgap\":0},\"margin\":{\"t\":60},\"title\":{\"text\":\"EGAD Results for brain\"}},                        {\"responsive\": true}                    ).then(function(){\n",
       "                            \n",
       "var gd = document.getElementById('c38ce205-d96b-4bd0-ae21-a62fdde2a6c7');\n",
       "var x = new MutationObserver(function (mutations, observer) {{\n",
       "        var display = window.getComputedStyle(gd).display;\n",
       "        if (!display || display === 'none') {{\n",
       "            console.log([gd, 'removed!']);\n",
       "            Plotly.purge(gd);\n",
       "            observer.disconnect();\n",
       "        }}\n",
       "}});\n",
       "\n",
       "// Listen for the removal of the full notebook cells\n",
       "var notebookContainer = gd.closest('#notebook-container');\n",
       "if (notebookContainer) {{\n",
       "    x.observe(notebookContainer, {childList: true});\n",
       "}}\n",
       "\n",
       "// Listen for the clearing of the current output cell\n",
       "var outputEl = gd.closest('.output');\n",
       "if (outputEl) {{\n",
       "    x.observe(outputEl, {childList: true});\n",
       "}}\n",
       "\n",
       "                        })                };                });            </script>        </div>"
      ]
     },
     "metadata": {},
     "output_type": "display_data"
    }
   ],
   "source": [
    "import plotly.express as px\n",
    "fig = px.line(data_frame= grouped_avg, x = \"variable\", y = 'value')\n",
    "fig.update_layout(title = f\"EGAD Results for {organism_part}\", xaxis_title = \"Variance\", yaxis_title = \"Average AUC\")\n",
    "\n",
    "fig.show()"
   ]
  },
  {
   "cell_type": "code",
   "execution_count": 127,
   "metadata": {},
   "outputs": [],
   "source": [
    "# GEt the top performing GOs\n",
    "top_performing = auc_merged.sort_values('0', ascending=True).head(10)\n",
    "\n",
    "\n",
    "top_performing_melted = top_performing.reset_index().melt(id_vars=['index']).sort_values(\"variable\")"
   ]
  },
  {
   "cell_type": "code",
   "execution_count": 128,
   "metadata": {},
   "outputs": [
    {
     "data": {
      "text/html": [
       "<div>\n",
       "<style scoped>\n",
       "    .dataframe tbody tr th:only-of-type {\n",
       "        vertical-align: middle;\n",
       "    }\n",
       "\n",
       "    .dataframe tbody tr th {\n",
       "        vertical-align: top;\n",
       "    }\n",
       "\n",
       "    .dataframe thead th {\n",
       "        text-align: right;\n",
       "    }\n",
       "</style>\n",
       "<table border=\"1\" class=\"dataframe\">\n",
       "  <thead>\n",
       "    <tr style=\"text-align: right;\">\n",
       "      <th></th>\n",
       "      <th>10</th>\n",
       "      <th>0.075</th>\n",
       "      <th>0.01</th>\n",
       "      <th>0.005</th>\n",
       "      <th>0.06</th>\n",
       "      <th>0.085</th>\n",
       "      <th>0.15</th>\n",
       "      <th>0.065</th>\n",
       "      <th>0.4</th>\n",
       "      <th>0</th>\n",
       "      <th>...</th>\n",
       "      <th>0.055</th>\n",
       "      <th>0.2</th>\n",
       "      <th>0.25</th>\n",
       "      <th>0.035</th>\n",
       "      <th>0.04</th>\n",
       "      <th>1</th>\n",
       "      <th>0.03</th>\n",
       "      <th>0.09</th>\n",
       "      <th>0.045</th>\n",
       "      <th>0.5</th>\n",
       "    </tr>\n",
       "  </thead>\n",
       "  <tbody>\n",
       "    <tr>\n",
       "      <th>GO:0015793</th>\n",
       "      <td>0.482811</td>\n",
       "      <td>0.567809</td>\n",
       "      <td>0.472661</td>\n",
       "      <td>0.553644</td>\n",
       "      <td>0.500653</td>\n",
       "      <td>0.517374</td>\n",
       "      <td>0.498042</td>\n",
       "      <td>0.418429</td>\n",
       "      <td>0.490220</td>\n",
       "      <td>0.5</td>\n",
       "      <td>...</td>\n",
       "      <td>0.505396</td>\n",
       "      <td>0.599434</td>\n",
       "      <td>0.620681</td>\n",
       "      <td>0.565513</td>\n",
       "      <td>0.472215</td>\n",
       "      <td>0.610063</td>\n",
       "      <td>0.551752</td>\n",
       "      <td>0.419386</td>\n",
       "      <td>0.355994</td>\n",
       "      <td>0.391297</td>\n",
       "    </tr>\n",
       "    <tr>\n",
       "      <th>GO:0015867</th>\n",
       "      <td>0.599475</td>\n",
       "      <td>0.457597</td>\n",
       "      <td>0.595717</td>\n",
       "      <td>0.527343</td>\n",
       "      <td>0.477808</td>\n",
       "      <td>0.440367</td>\n",
       "      <td>0.540684</td>\n",
       "      <td>0.553974</td>\n",
       "      <td>0.429551</td>\n",
       "      <td>0.5</td>\n",
       "      <td>...</td>\n",
       "      <td>0.468414</td>\n",
       "      <td>0.486456</td>\n",
       "      <td>0.438002</td>\n",
       "      <td>0.515169</td>\n",
       "      <td>0.475153</td>\n",
       "      <td>0.446621</td>\n",
       "      <td>0.509046</td>\n",
       "      <td>0.552131</td>\n",
       "      <td>0.447869</td>\n",
       "      <td>0.570115</td>\n",
       "    </tr>\n",
       "    <tr>\n",
       "      <th>GO:0006810</th>\n",
       "      <td>0.634304</td>\n",
       "      <td>0.517274</td>\n",
       "      <td>0.572680</td>\n",
       "      <td>0.613037</td>\n",
       "      <td>0.571548</td>\n",
       "      <td>0.531744</td>\n",
       "      <td>0.604585</td>\n",
       "      <td>0.561541</td>\n",
       "      <td>0.544607</td>\n",
       "      <td>0.5</td>\n",
       "      <td>...</td>\n",
       "      <td>0.567198</td>\n",
       "      <td>0.613551</td>\n",
       "      <td>0.532214</td>\n",
       "      <td>0.579538</td>\n",
       "      <td>0.553377</td>\n",
       "      <td>0.654749</td>\n",
       "      <td>0.556438</td>\n",
       "      <td>0.560562</td>\n",
       "      <td>0.609532</td>\n",
       "      <td>0.617339</td>\n",
       "    </tr>\n",
       "    <tr>\n",
       "      <th>GO:0006378</th>\n",
       "      <td>0.390063</td>\n",
       "      <td>0.411548</td>\n",
       "      <td>0.436005</td>\n",
       "      <td>0.409854</td>\n",
       "      <td>0.486747</td>\n",
       "      <td>0.333810</td>\n",
       "      <td>0.396100</td>\n",
       "      <td>0.380754</td>\n",
       "      <td>0.377734</td>\n",
       "      <td>0.5</td>\n",
       "      <td>...</td>\n",
       "      <td>0.359863</td>\n",
       "      <td>0.477176</td>\n",
       "      <td>0.415123</td>\n",
       "      <td>0.427550</td>\n",
       "      <td>0.432315</td>\n",
       "      <td>0.476972</td>\n",
       "      <td>0.369930</td>\n",
       "      <td>0.446774</td>\n",
       "      <td>0.382709</td>\n",
       "      <td>0.422706</td>\n",
       "    </tr>\n",
       "    <tr>\n",
       "      <th>GO:0051290</th>\n",
       "      <td>0.489028</td>\n",
       "      <td>0.570883</td>\n",
       "      <td>0.571843</td>\n",
       "      <td>0.499007</td>\n",
       "      <td>0.478139</td>\n",
       "      <td>0.547357</td>\n",
       "      <td>0.487387</td>\n",
       "      <td>0.519717</td>\n",
       "      <td>0.488634</td>\n",
       "      <td>0.5</td>\n",
       "      <td>...</td>\n",
       "      <td>0.512587</td>\n",
       "      <td>0.511331</td>\n",
       "      <td>0.469338</td>\n",
       "      <td>0.462698</td>\n",
       "      <td>0.626637</td>\n",
       "      <td>0.594026</td>\n",
       "      <td>0.622914</td>\n",
       "      <td>0.589877</td>\n",
       "      <td>0.560238</td>\n",
       "      <td>0.528509</td>\n",
       "    </tr>\n",
       "    <tr>\n",
       "      <th>GO:0098789</th>\n",
       "      <td>0.404663</td>\n",
       "      <td>0.428452</td>\n",
       "      <td>0.426499</td>\n",
       "      <td>0.489498</td>\n",
       "      <td>0.379786</td>\n",
       "      <td>0.392567</td>\n",
       "      <td>0.509947</td>\n",
       "      <td>0.508570</td>\n",
       "      <td>0.416340</td>\n",
       "      <td>0.5</td>\n",
       "      <td>...</td>\n",
       "      <td>0.385232</td>\n",
       "      <td>0.440733</td>\n",
       "      <td>0.378376</td>\n",
       "      <td>0.567603</td>\n",
       "      <td>0.497981</td>\n",
       "      <td>0.443694</td>\n",
       "      <td>0.459321</td>\n",
       "      <td>0.457444</td>\n",
       "      <td>0.509207</td>\n",
       "      <td>0.395250</td>\n",
       "    </tr>\n",
       "    <tr>\n",
       "      <th>GO:0110104</th>\n",
       "      <td>0.489492</td>\n",
       "      <td>0.131532</td>\n",
       "      <td>0.335661</td>\n",
       "      <td>0.355567</td>\n",
       "      <td>0.359809</td>\n",
       "      <td>0.425293</td>\n",
       "      <td>0.643932</td>\n",
       "      <td>0.105295</td>\n",
       "      <td>0.271875</td>\n",
       "      <td>0.5</td>\n",
       "      <td>...</td>\n",
       "      <td>0.336423</td>\n",
       "      <td>0.341687</td>\n",
       "      <td>0.373929</td>\n",
       "      <td>0.367293</td>\n",
       "      <td>0.490080</td>\n",
       "      <td>0.596658</td>\n",
       "      <td>0.309229</td>\n",
       "      <td>0.327829</td>\n",
       "      <td>0.404016</td>\n",
       "      <td>0.484728</td>\n",
       "    </tr>\n",
       "    <tr>\n",
       "      <th>GO:0022904</th>\n",
       "      <td>0.464899</td>\n",
       "      <td>0.459277</td>\n",
       "      <td>0.421933</td>\n",
       "      <td>0.412718</td>\n",
       "      <td>0.457009</td>\n",
       "      <td>0.452697</td>\n",
       "      <td>0.424009</td>\n",
       "      <td>0.431354</td>\n",
       "      <td>0.464931</td>\n",
       "      <td>0.5</td>\n",
       "      <td>...</td>\n",
       "      <td>0.386813</td>\n",
       "      <td>0.497950</td>\n",
       "      <td>0.411103</td>\n",
       "      <td>0.322003</td>\n",
       "      <td>0.557646</td>\n",
       "      <td>0.462061</td>\n",
       "      <td>0.408922</td>\n",
       "      <td>0.437571</td>\n",
       "      <td>0.473238</td>\n",
       "      <td>0.472240</td>\n",
       "    </tr>\n",
       "    <tr>\n",
       "      <th>GO:0030214</th>\n",
       "      <td>0.507713</td>\n",
       "      <td>0.456861</td>\n",
       "      <td>0.457371</td>\n",
       "      <td>0.431899</td>\n",
       "      <td>0.415941</td>\n",
       "      <td>0.428167</td>\n",
       "      <td>0.416568</td>\n",
       "      <td>0.486178</td>\n",
       "      <td>0.481401</td>\n",
       "      <td>0.5</td>\n",
       "      <td>...</td>\n",
       "      <td>0.476951</td>\n",
       "      <td>0.407537</td>\n",
       "      <td>0.402669</td>\n",
       "      <td>0.462818</td>\n",
       "      <td>0.519609</td>\n",
       "      <td>0.473825</td>\n",
       "      <td>0.440637</td>\n",
       "      <td>0.430096</td>\n",
       "      <td>0.439231</td>\n",
       "      <td>0.502972</td>\n",
       "    </tr>\n",
       "    <tr>\n",
       "      <th>GO:0007020</th>\n",
       "      <td>0.433401</td>\n",
       "      <td>0.556471</td>\n",
       "      <td>0.529675</td>\n",
       "      <td>0.425594</td>\n",
       "      <td>0.501767</td>\n",
       "      <td>0.464052</td>\n",
       "      <td>0.481381</td>\n",
       "      <td>0.493301</td>\n",
       "      <td>0.506419</td>\n",
       "      <td>0.5</td>\n",
       "      <td>...</td>\n",
       "      <td>0.495663</td>\n",
       "      <td>0.464678</td>\n",
       "      <td>0.553310</td>\n",
       "      <td>0.445716</td>\n",
       "      <td>0.437343</td>\n",
       "      <td>0.479710</td>\n",
       "      <td>0.469681</td>\n",
       "      <td>0.547376</td>\n",
       "      <td>0.541321</td>\n",
       "      <td>0.406865</td>\n",
       "    </tr>\n",
       "  </tbody>\n",
       "</table>\n",
       "<p>10 rows × 35 columns</p>\n",
       "</div>"
      ],
      "text/plain": [
       "                  10     0.075      0.01     0.005      0.06     0.085  \\\n",
       "GO:0015793  0.482811  0.567809  0.472661  0.553644  0.500653  0.517374   \n",
       "GO:0015867  0.599475  0.457597  0.595717  0.527343  0.477808  0.440367   \n",
       "GO:0006810  0.634304  0.517274  0.572680  0.613037  0.571548  0.531744   \n",
       "GO:0006378  0.390063  0.411548  0.436005  0.409854  0.486747  0.333810   \n",
       "GO:0051290  0.489028  0.570883  0.571843  0.499007  0.478139  0.547357   \n",
       "GO:0098789  0.404663  0.428452  0.426499  0.489498  0.379786  0.392567   \n",
       "GO:0110104  0.489492  0.131532  0.335661  0.355567  0.359809  0.425293   \n",
       "GO:0022904  0.464899  0.459277  0.421933  0.412718  0.457009  0.452697   \n",
       "GO:0030214  0.507713  0.456861  0.457371  0.431899  0.415941  0.428167   \n",
       "GO:0007020  0.433401  0.556471  0.529675  0.425594  0.501767  0.464052   \n",
       "\n",
       "                0.15     0.065       0.4    0  ...     0.055       0.2  \\\n",
       "GO:0015793  0.498042  0.418429  0.490220  0.5  ...  0.505396  0.599434   \n",
       "GO:0015867  0.540684  0.553974  0.429551  0.5  ...  0.468414  0.486456   \n",
       "GO:0006810  0.604585  0.561541  0.544607  0.5  ...  0.567198  0.613551   \n",
       "GO:0006378  0.396100  0.380754  0.377734  0.5  ...  0.359863  0.477176   \n",
       "GO:0051290  0.487387  0.519717  0.488634  0.5  ...  0.512587  0.511331   \n",
       "GO:0098789  0.509947  0.508570  0.416340  0.5  ...  0.385232  0.440733   \n",
       "GO:0110104  0.643932  0.105295  0.271875  0.5  ...  0.336423  0.341687   \n",
       "GO:0022904  0.424009  0.431354  0.464931  0.5  ...  0.386813  0.497950   \n",
       "GO:0030214  0.416568  0.486178  0.481401  0.5  ...  0.476951  0.407537   \n",
       "GO:0007020  0.481381  0.493301  0.506419  0.5  ...  0.495663  0.464678   \n",
       "\n",
       "                0.25     0.035      0.04         1      0.03      0.09  \\\n",
       "GO:0015793  0.620681  0.565513  0.472215  0.610063  0.551752  0.419386   \n",
       "GO:0015867  0.438002  0.515169  0.475153  0.446621  0.509046  0.552131   \n",
       "GO:0006810  0.532214  0.579538  0.553377  0.654749  0.556438  0.560562   \n",
       "GO:0006378  0.415123  0.427550  0.432315  0.476972  0.369930  0.446774   \n",
       "GO:0051290  0.469338  0.462698  0.626637  0.594026  0.622914  0.589877   \n",
       "GO:0098789  0.378376  0.567603  0.497981  0.443694  0.459321  0.457444   \n",
       "GO:0110104  0.373929  0.367293  0.490080  0.596658  0.309229  0.327829   \n",
       "GO:0022904  0.411103  0.322003  0.557646  0.462061  0.408922  0.437571   \n",
       "GO:0030214  0.402669  0.462818  0.519609  0.473825  0.440637  0.430096   \n",
       "GO:0007020  0.553310  0.445716  0.437343  0.479710  0.469681  0.547376   \n",
       "\n",
       "               0.045       0.5  \n",
       "GO:0015793  0.355994  0.391297  \n",
       "GO:0015867  0.447869  0.570115  \n",
       "GO:0006810  0.609532  0.617339  \n",
       "GO:0006378  0.382709  0.422706  \n",
       "GO:0051290  0.560238  0.528509  \n",
       "GO:0098789  0.509207  0.395250  \n",
       "GO:0110104  0.404016  0.484728  \n",
       "GO:0022904  0.473238  0.472240  \n",
       "GO:0030214  0.439231  0.502972  \n",
       "GO:0007020  0.541321  0.406865  \n",
       "\n",
       "[10 rows x 35 columns]"
      ]
     },
     "execution_count": 128,
     "metadata": {},
     "output_type": "execute_result"
    }
   ],
   "source": [
    "top_performing"
   ]
  },
  {
   "cell_type": "code",
   "execution_count": 129,
   "metadata": {},
   "outputs": [
    {
     "data": {
      "image/png": "[encoded data removed]",
      "text/plain": [
       "<Figure size 576x432 with 1 Axes>"
      ]
     },
     "metadata": {},
     "output_type": "display_data"
    }
   ],
   "source": [
    "import seaborn as sns\n",
    "import matplotlib.pyplot as plt\n",
    "\n",
    "# Create line plots for each group using seaborn\n",
    "sns.set(style=\"whitegrid\")\n",
    "plt.figure(figsize=(8, 6))\n",
    "sns.lineplot(data=top_performing_melted, x='variable', y='value', hue='index')\n",
    "plt.xlabel('Variance')\n",
    "plt.ylabel('Value')\n",
    "plt.title('Line Plots for Each Group')\n",
    "plt.legend(title='Index')\n",
    "plt.show()"
   ]
  },
  {
   "cell_type": "code",
   "execution_count": 130,
   "metadata": {},
   "outputs": [
    {
     "data": {
      "text/html": [
       "<div>\n",
       "<style scoped>\n",
       "    .dataframe tbody tr th:only-of-type {\n",
       "        vertical-align: middle;\n",
       "    }\n",
       "\n",
       "    .dataframe tbody tr th {\n",
       "        vertical-align: top;\n",
       "    }\n",
       "\n",
       "    .dataframe thead th {\n",
       "        text-align: right;\n",
       "    }\n",
       "</style>\n",
       "<table border=\"1\" class=\"dataframe\">\n",
       "  <thead>\n",
       "    <tr style=\"text-align: right;\">\n",
       "      <th></th>\n",
       "      <th>ID</th>\n",
       "      <th>Name</th>\n",
       "      <th>Description</th>\n",
       "      <th>CTAffiliation</th>\n",
       "    </tr>\n",
       "  </thead>\n",
       "  <tbody>\n",
       "    <tr>\n",
       "      <th>0</th>\n",
       "      <td>GO:0000003</td>\n",
       "      <td>reproduction</td>\n",
       "      <td>\"The production of new individuals that contai...</td>\n",
       "      <td>False</td>\n",
       "    </tr>\n",
       "    <tr>\n",
       "      <th>1</th>\n",
       "      <td>GO:0002376</td>\n",
       "      <td>immune system process</td>\n",
       "      <td>\"Any process involved in the development or fu...</td>\n",
       "      <td>True</td>\n",
       "    </tr>\n",
       "    <tr>\n",
       "      <th>2</th>\n",
       "      <td>GO:0008152</td>\n",
       "      <td>metabolic process</td>\n",
       "      <td>\"The chemical reactions and pathways, includin...</td>\n",
       "      <td>False</td>\n",
       "    </tr>\n",
       "    <tr>\n",
       "      <th>3</th>\n",
       "      <td>GO:0009987</td>\n",
       "      <td>cellular process</td>\n",
       "      <td>\"Any process that is carried out at the cellul...</td>\n",
       "      <td>NaN</td>\n",
       "    </tr>\n",
       "    <tr>\n",
       "      <th>4</th>\n",
       "      <td>GO:0016032</td>\n",
       "      <td>viral process</td>\n",
       "      <td>\"A multi-organism process in which a virus is ...</td>\n",
       "      <td>True</td>\n",
       "    </tr>\n",
       "    <tr>\n",
       "      <th>...</th>\n",
       "      <td>...</td>\n",
       "      <td>...</td>\n",
       "      <td>...</td>\n",
       "      <td>...</td>\n",
       "    </tr>\n",
       "    <tr>\n",
       "      <th>29967</th>\n",
       "      <td>GO:0140952</td>\n",
       "      <td>histone H3K27 dimethyltransferase activity</td>\n",
       "      <td>\"Catalysis of the reaction: L-lysyl27-[histone...</td>\n",
       "      <td>False</td>\n",
       "    </tr>\n",
       "    <tr>\n",
       "      <th>29968</th>\n",
       "      <td>GO:0140953</td>\n",
       "      <td>histone H3K27 monomethyltransferase activity</td>\n",
       "      <td>\"Catalysis of the reaction: L-lysyl27-[histone...</td>\n",
       "      <td>False</td>\n",
       "    </tr>\n",
       "    <tr>\n",
       "      <th>29969</th>\n",
       "      <td>GO:0140941</td>\n",
       "      <td>histone H4K20me methyltransferase activity</td>\n",
       "      <td>\"Catalysis of the reaction: N(6)-methyl-L-lysy...</td>\n",
       "      <td>False</td>\n",
       "    </tr>\n",
       "    <tr>\n",
       "      <th>29970</th>\n",
       "      <td>GO:0140943</td>\n",
       "      <td>histone H4K20 trimethyltransferase activity</td>\n",
       "      <td>\"Catalysis of the reaction: L-lysyl(20)-[histo...</td>\n",
       "      <td>False</td>\n",
       "    </tr>\n",
       "    <tr>\n",
       "      <th>29971</th>\n",
       "      <td>GO:0140944</td>\n",
       "      <td>histone H4K20 monomethyltransferase activity</td>\n",
       "      <td>\"Catalysis of the reaction: L-lysyl20-[histone...</td>\n",
       "      <td>False</td>\n",
       "    </tr>\n",
       "  </tbody>\n",
       "</table>\n",
       "<p>29972 rows × 4 columns</p>\n",
       "</div>"
      ],
      "text/plain": [
       "               ID                                          Name  \\\n",
       "0      GO:0000003                                  reproduction   \n",
       "1      GO:0002376                         immune system process   \n",
       "2      GO:0008152                             metabolic process   \n",
       "3      GO:0009987                              cellular process   \n",
       "4      GO:0016032                                 viral process   \n",
       "...           ...                                           ...   \n",
       "29967  GO:0140952    histone H3K27 dimethyltransferase activity   \n",
       "29968  GO:0140953  histone H3K27 monomethyltransferase activity   \n",
       "29969  GO:0140941    histone H4K20me methyltransferase activity   \n",
       "29970  GO:0140943   histone H4K20 trimethyltransferase activity   \n",
       "29971  GO:0140944  histone H4K20 monomethyltransferase activity   \n",
       "\n",
       "                                             Description CTAffiliation  \n",
       "0      \"The production of new individuals that contai...         False  \n",
       "1      \"Any process involved in the development or fu...          True  \n",
       "2      \"The chemical reactions and pathways, includin...         False  \n",
       "3      \"Any process that is carried out at the cellul...           NaN  \n",
       "4      \"A multi-organism process in which a virus is ...          True  \n",
       "...                                                  ...           ...  \n",
       "29967  \"Catalysis of the reaction: L-lysyl27-[histone...         False  \n",
       "29968  \"Catalysis of the reaction: L-lysyl27-[histone...         False  \n",
       "29969  \"Catalysis of the reaction: N(6)-methyl-L-lysy...         False  \n",
       "29970  \"Catalysis of the reaction: L-lysyl(20)-[histo...         False  \n",
       "29971  \"Catalysis of the reaction: L-lysyl20-[histone...         False  \n",
       "\n",
       "[29972 rows x 4 columns]"
      ]
     },
     "execution_count": 130,
     "metadata": {},
     "output_type": "execute_result"
    }
   ],
   "source": [
    "# load cell type  affiliation for go terms\n",
    "\n",
    "ct_affiliation = pd.read_csv(\"/space/grp/aadrian/Pseudobulk_Function_Pipeline_HighRes/bin/preprocessing/preprocessGO_pipe/ontologyPropagation/BPcuratedAllRegex.csv\")\n",
    "ct_affiliation"
   ]
  },
  {
   "cell_type": "code",
   "execution_count": 131,
   "metadata": {},
   "outputs": [
    {
     "data": {
      "text/html": [
       "<div>\n",
       "<style scoped>\n",
       "    .dataframe tbody tr th:only-of-type {\n",
       "        vertical-align: middle;\n",
       "    }\n",
       "\n",
       "    .dataframe tbody tr th {\n",
       "        vertical-align: top;\n",
       "    }\n",
       "\n",
       "    .dataframe thead th {\n",
       "        text-align: right;\n",
       "    }\n",
       "</style>\n",
       "<table border=\"1\" class=\"dataframe\">\n",
       "  <thead>\n",
       "    <tr style=\"text-align: right;\">\n",
       "      <th></th>\n",
       "      <th>ID</th>\n",
       "      <th>CTAffiliation</th>\n",
       "    </tr>\n",
       "  </thead>\n",
       "  <tbody>\n",
       "    <tr>\n",
       "      <th>0</th>\n",
       "      <td>GO:0000003</td>\n",
       "      <td>False</td>\n",
       "    </tr>\n",
       "    <tr>\n",
       "      <th>1</th>\n",
       "      <td>GO:0002376</td>\n",
       "      <td>True</td>\n",
       "    </tr>\n",
       "    <tr>\n",
       "      <th>2</th>\n",
       "      <td>GO:0008152</td>\n",
       "      <td>False</td>\n",
       "    </tr>\n",
       "    <tr>\n",
       "      <th>3</th>\n",
       "      <td>GO:0009987</td>\n",
       "      <td>NaN</td>\n",
       "    </tr>\n",
       "    <tr>\n",
       "      <th>4</th>\n",
       "      <td>GO:0016032</td>\n",
       "      <td>True</td>\n",
       "    </tr>\n",
       "    <tr>\n",
       "      <th>...</th>\n",
       "      <td>...</td>\n",
       "      <td>...</td>\n",
       "    </tr>\n",
       "    <tr>\n",
       "      <th>29967</th>\n",
       "      <td>GO:0140952</td>\n",
       "      <td>False</td>\n",
       "    </tr>\n",
       "    <tr>\n",
       "      <th>29968</th>\n",
       "      <td>GO:0140953</td>\n",
       "      <td>False</td>\n",
       "    </tr>\n",
       "    <tr>\n",
       "      <th>29969</th>\n",
       "      <td>GO:0140941</td>\n",
       "      <td>False</td>\n",
       "    </tr>\n",
       "    <tr>\n",
       "      <th>29970</th>\n",
       "      <td>GO:0140943</td>\n",
       "      <td>False</td>\n",
       "    </tr>\n",
       "    <tr>\n",
       "      <th>29971</th>\n",
       "      <td>GO:0140944</td>\n",
       "      <td>False</td>\n",
       "    </tr>\n",
       "  </tbody>\n",
       "</table>\n",
       "<p>29972 rows × 2 columns</p>\n",
       "</div>"
      ],
      "text/plain": [
       "               ID CTAffiliation\n",
       "0      GO:0000003         False\n",
       "1      GO:0002376          True\n",
       "2      GO:0008152         False\n",
       "3      GO:0009987           NaN\n",
       "4      GO:0016032          True\n",
       "...           ...           ...\n",
       "29967  GO:0140952         False\n",
       "29968  GO:0140953         False\n",
       "29969  GO:0140941         False\n",
       "29970  GO:0140943         False\n",
       "29971  GO:0140944         False\n",
       "\n",
       "[29972 rows x 2 columns]"
      ]
     },
     "execution_count": 131,
     "metadata": {},
     "output_type": "execute_result"
    }
   ],
   "source": [
    "ct_affiliation_to_merge = ct_affiliation.loc[:,[\"ID\", \"CTAffiliation\"]]\n",
    "ct_affiliation_to_merge"
   ]
  },
  {
   "cell_type": "code",
   "execution_count": 44,
   "metadata": {},
   "outputs": [],
   "source": [
    "# Merge Ct affiliations\n",
    "\n",
    "auc_merged_CT = auc_merged.merge(right = ct_affiliation_to_merge, left_index=True, right_on='ID')\n",
    "auc_to_graph = auc_merged_CT.groupby(\"CTAffiliation\").mean(numeric_only = True).reset_index()"
   ]
  },
  {
   "cell_type": "code",
   "execution_count": 45,
   "metadata": {},
   "outputs": [
    {
     "data": {
      "text/html": [
       "<div>\n",
       "<style scoped>\n",
       "    .dataframe tbody tr th:only-of-type {\n",
       "        vertical-align: middle;\n",
       "    }\n",
       "\n",
       "    .dataframe tbody tr th {\n",
       "        vertical-align: top;\n",
       "    }\n",
       "\n",
       "    .dataframe thead th {\n",
       "        text-align: right;\n",
       "    }\n",
       "</style>\n",
       "<table border=\"1\" class=\"dataframe\">\n",
       "  <thead>\n",
       "    <tr style=\"text-align: right;\">\n",
       "      <th></th>\n",
       "      <th>CTAffiliation</th>\n",
       "      <th>variable</th>\n",
       "      <th>value</th>\n",
       "    </tr>\n",
       "  </thead>\n",
       "  <tbody>\n",
       "    <tr>\n",
       "      <th>19</th>\n",
       "      <td>True</td>\n",
       "      <td>0</td>\n",
       "      <td>0.500000</td>\n",
       "    </tr>\n",
       "    <tr>\n",
       "      <th>18</th>\n",
       "      <td>False</td>\n",
       "      <td>0</td>\n",
       "      <td>0.500000</td>\n",
       "    </tr>\n",
       "    <tr>\n",
       "      <th>6</th>\n",
       "      <td>False</td>\n",
       "      <td>0.005</td>\n",
       "      <td>0.502718</td>\n",
       "    </tr>\n",
       "    <tr>\n",
       "      <th>7</th>\n",
       "      <td>True</td>\n",
       "      <td>0.005</td>\n",
       "      <td>0.508783</td>\n",
       "    </tr>\n",
       "    <tr>\n",
       "      <th>4</th>\n",
       "      <td>False</td>\n",
       "      <td>0.01</td>\n",
       "      <td>0.501485</td>\n",
       "    </tr>\n",
       "    <tr>\n",
       "      <th>...</th>\n",
       "      <td>...</td>\n",
       "      <td>...</td>\n",
       "      <td>...</td>\n",
       "    </tr>\n",
       "    <tr>\n",
       "      <th>20</th>\n",
       "      <td>False</td>\n",
       "      <td>100</td>\n",
       "      <td>0.494553</td>\n",
       "    </tr>\n",
       "    <tr>\n",
       "      <th>38</th>\n",
       "      <td>False</td>\n",
       "      <td>1000</td>\n",
       "      <td>0.496851</td>\n",
       "    </tr>\n",
       "    <tr>\n",
       "      <th>39</th>\n",
       "      <td>True</td>\n",
       "      <td>1000</td>\n",
       "      <td>0.513874</td>\n",
       "    </tr>\n",
       "    <tr>\n",
       "      <th>29</th>\n",
       "      <td>True</td>\n",
       "      <td>10000</td>\n",
       "      <td>0.512441</td>\n",
       "    </tr>\n",
       "    <tr>\n",
       "      <th>28</th>\n",
       "      <td>False</td>\n",
       "      <td>10000</td>\n",
       "      <td>0.496149</td>\n",
       "    </tr>\n",
       "  </tbody>\n",
       "</table>\n",
       "<p>70 rows × 3 columns</p>\n",
       "</div>"
      ],
      "text/plain": [
       "    CTAffiliation variable     value\n",
       "19           True        0  0.500000\n",
       "18          False        0  0.500000\n",
       "6           False    0.005  0.502718\n",
       "7            True    0.005  0.508783\n",
       "4           False     0.01  0.501485\n",
       "..            ...      ...       ...\n",
       "20          False      100  0.494553\n",
       "38          False     1000  0.496851\n",
       "39           True     1000  0.513874\n",
       "29           True    10000  0.512441\n",
       "28          False    10000  0.496149\n",
       "\n",
       "[70 rows x 3 columns]"
      ]
     },
     "execution_count": 45,
     "metadata": {},
     "output_type": "execute_result"
    }
   ],
   "source": [
    "auc_to_graph_melt = auc_to_graph.melt(id_vars=['CTAffiliation']).sort_values('variable')\n",
    "auc_to_graph_melt = auc_to_graph_melt.sort_values('variable', ascending=True)\n",
    "auc_to_graph_melt"
   ]
  },
  {
   "cell_type": "code",
   "execution_count": 46,
   "metadata": {},
   "outputs": [
    {
     "data": {
      "application/vnd.plotly.v1+json": {
       "config": {
        "plotlyServerURL": "https://plot.ly"
       },
       "data": [
        {
         "hovertemplate": "CTAffiliation=True<br>variable=%{x}<br>value=%{y}<extra></extra>",
         "legendgroup": "True",
         "line": {
          "color": "#636efa",
          "dash": "solid"
         },
         "marker": {
          "symbol": "circle"
         },
         "mode": "lines",
         "name": "True",
         "orientation": "v",
         "showlegend": true,
         "type": "scatter",
         "x": [
          "0",
          "0.005",
          "0.01",
          "0.015",
          "0.02",
          "0.025",
          "0.03",
          "0.035",
          "0.04",
          "0.045",
          "0.05",
          "0.055",
          "0.06",
          "0.065",
          "0.07",
          "0.075",
          "0.08",
          "0.085",
          "0.09",
          "0.095",
          "0.1",
          "0.15",
          "0.2",
          "0.25",
          "0.3",
          "0.35",
          "0.4",
          "0.45",
          "0.5",
          "0.75",
          "1",
          "10",
          "100",
          "1000",
          "10000"
         ],
         "xaxis": "x",
         "y": [
          0.5,
          0.5087828285490406,
          0.5079983887620176,
          0.5098740931288273,
          0.507398122218408,
          0.5118141352292502,
          0.5058289267523836,
          0.5066721453711859,
          0.5095622748042865,
          0.5079679835899735,
          0.5095586628995058,
          0.5054019674973617,
          0.5106057828218644,
          0.5065914693542394,
          0.5060941671673871,
          0.5103526001227894,
          0.5084195837188166,
          0.5096537346603374,
          0.5106509344762838,
          0.5098894486770855,
          0.5071654322678957,
          0.5087321306484288,
          0.5106272154830731,
          0.5073651848906078,
          0.5102194467427618,
          0.5066714079685067,
          0.5093203453354901,
          0.5105416994352546,
          0.514901003422828,
          0.5085839772382942,
          0.5057664114038602,
          0.5102186329991595,
          0.5100584731428354,
          0.5138740217329748,
          0.5124410780474783
         ],
         "yaxis": "y"
        },
        {
         "hovertemplate": "CTAffiliation=False<br>variable=%{x}<br>value=%{y}<extra></extra>",
         "legendgroup": "False",
         "line": {
          "color": "#EF553B",
          "dash": "solid"
         },
         "marker": {
          "symbol": "circle"
         },
         "mode": "lines",
         "name": "False",
         "orientation": "v",
         "showlegend": true,
         "type": "scatter",
         "x": [
          "0",
          "0.005",
          "0.01",
          "0.015",
          "0.02",
          "0.025",
          "0.03",
          "0.035",
          "0.04",
          "0.045",
          "0.05",
          "0.055",
          "0.06",
          "0.065",
          "0.07",
          "0.075",
          "0.08",
          "0.085",
          "0.09",
          "0.095",
          "0.1",
          "0.15",
          "0.2",
          "0.25",
          "0.3",
          "0.35",
          "0.4",
          "0.45",
          "0.5",
          "0.75",
          "1",
          "10",
          "100",
          "1000",
          "10000"
         ],
         "xaxis": "x",
         "y": [
          0.5,
          0.5027178113322852,
          0.5014849789476541,
          0.49938072981794956,
          0.49700337661702937,
          0.5000832647826778,
          0.49750314960475917,
          0.49984850560254296,
          0.5017427813525059,
          0.5003369480807742,
          0.4999828423202954,
          0.4962971678855329,
          0.5023451334972154,
          0.497950192676173,
          0.4955013809357961,
          0.5012189914389517,
          0.49514416252164817,
          0.49883918927544435,
          0.5030554356871643,
          0.4993020431173556,
          0.4969412829339975,
          0.5022670069885883,
          0.5017568583279317,
          0.5001318091073595,
          0.5046653144068826,
          0.5018568880692791,
          0.4973553249817381,
          0.49956811786525845,
          0.4959031773108219,
          0.49598704876692856,
          0.5020971913395499,
          0.49407863367955135,
          0.49455301094504356,
          0.49685132208834076,
          0.4961487253917802
         ],
         "yaxis": "y"
        }
       ],
       "layout": {
        "legend": {
         "title": {
          "text": "CTAffiliation"
         },
         "tracegroupgap": 0
        },
        "margin": {
         "t": 60
        },
        "template": {
         "data": {
          "bar": [
           {
            "error_x": {
             "color": "#2a3f5f"
            },
            "error_y": {
             "color": "#2a3f5f"
            },
            "marker": {
             "line": {
              "color": "#E5ECF6",
              "width": 0.5
             },
             "pattern": {
              "fillmode": "overlay",
              "size": 10,
              "solidity": 0.2
             }
            },
            "type": "bar"
           }
          ],
          "barpolar": [
           {
            "marker": {
             "line": {
              "color": "#E5ECF6",
              "width": 0.5
             },
             "pattern": {
              "fillmode": "overlay",
              "size": 10,
              "solidity": 0.2
             }
            },
            "type": "barpolar"
           }
          ],
          "carpet": [
           {
            "aaxis": {
             "endlinecolor": "#2a3f5f",
             "gridcolor": "white",
             "linecolor": "white",
             "minorgridcolor": "white",
             "startlinecolor": "#2a3f5f"
            },
            "baxis": {
             "endlinecolor": "#2a3f5f",
             "gridcolor": "white",
             "linecolor": "white",
             "minorgridcolor": "white",
             "startlinecolor": "#2a3f5f"
            },
            "type": "carpet"
           }
          ],
          "choropleth": [
           {
            "colorbar": {
             "outlinewidth": 0,
             "ticks": ""
            },
            "type": "choropleth"
           }
          ],
          "contour": [
           {
            "colorbar": {
             "outlinewidth": 0,
             "ticks": ""
            },
            "colorscale": [
             [
              0,
              "#0d0887"
             ],
             [
              0.1111111111111111,
              "#46039f"
             ],
             [
              0.2222222222222222,
              "#7201a8"
             ],
             [
              0.3333333333333333,
              "#9c179e"
             ],
             [
              0.4444444444444444,
              "#bd3786"
             ],
             [
              0.5555555555555556,
              "#d8576b"
             ],
             [
              0.6666666666666666,
              "#ed7953"
             ],
             [
              0.7777777777777778,
              "#fb9f3a"
             ],
             [
              0.8888888888888888,
              "#fdca26"
             ],
             [
              1,
              "#f0f921"
             ]
            ],
            "type": "contour"
           }
          ],
          "contourcarpet": [
           {
            "colorbar": {
             "outlinewidth": 0,
             "ticks": ""
            },
            "type": "contourcarpet"
           }
          ],
          "heatmap": [
           {
            "colorbar": {
             "outlinewidth": 0,
             "ticks": ""
            },
            "colorscale": [
             [
              0,
              "#0d0887"
             ],
             [
              0.1111111111111111,
              "#46039f"
             ],
             [
              0.2222222222222222,
              "#7201a8"
             ],
             [
              0.3333333333333333,
              "#9c179e"
             ],
             [
              0.4444444444444444,
              "#bd3786"
             ],
             [
              0.5555555555555556,
              "#d8576b"
             ],
             [
              0.6666666666666666,
              "#ed7953"
             ],
             [
              0.7777777777777778,
              "#fb9f3a"
             ],
             [
              0.8888888888888888,
              "#fdca26"
             ],
             [
              1,
              "#f0f921"
             ]
            ],
            "type": "heatmap"
           }
          ],
          "heatmapgl": [
           {
            "colorbar": {
             "outlinewidth": 0,
             "ticks": ""
            },
            "colorscale": [
             [
              0,
              "#0d0887"
             ],
             [
              0.1111111111111111,
              "#46039f"
             ],
             [
              0.2222222222222222,
              "#7201a8"
             ],
             [
              0.3333333333333333,
              "#9c179e"
             ],
             [
              0.4444444444444444,
              "#bd3786"
             ],
             [
              0.5555555555555556,
              "#d8576b"
             ],
             [
              0.6666666666666666,
              "#ed7953"
             ],
             [
              0.7777777777777778,
              "#fb9f3a"
             ],
             [
              0.8888888888888888,
              "#fdca26"
             ],
             [
              1,
              "#f0f921"
             ]
            ],
            "type": "heatmapgl"
           }
          ],
          "histogram": [
           {
            "marker": {
             "pattern": {
              "fillmode": "overlay",
              "size": 10,
              "solidity": 0.2
             }
            },
            "type": "histogram"
           }
          ],
          "histogram2d": [
           {
            "colorbar": {
             "outlinewidth": 0,
             "ticks": ""
            },
            "colorscale": [
             [
              0,
              "#0d0887"
             ],
             [
              0.1111111111111111,
              "#46039f"
             ],
             [
              0.2222222222222222,
              "#7201a8"
             ],
             [
              0.3333333333333333,
              "#9c179e"
             ],
             [
              0.4444444444444444,
              "#bd3786"
             ],
             [
              0.5555555555555556,
              "#d8576b"
             ],
             [
              0.6666666666666666,
              "#ed7953"
             ],
             [
              0.7777777777777778,
              "#fb9f3a"
             ],
             [
              0.8888888888888888,
              "#fdca26"
             ],
             [
              1,
              "#f0f921"
             ]
            ],
            "type": "histogram2d"
           }
          ],
          "histogram2dcontour": [
           {
            "colorbar": {
             "outlinewidth": 0,
             "ticks": ""
            },
            "colorscale": [
             [
              0,
              "#0d0887"
             ],
             [
              0.1111111111111111,
              "#46039f"
             ],
             [
              0.2222222222222222,
              "#7201a8"
             ],
             [
              0.3333333333333333,
              "#9c179e"
             ],
             [
              0.4444444444444444,
              "#bd3786"
             ],
             [
              0.5555555555555556,
              "#d8576b"
             ],
             [
              0.6666666666666666,
              "#ed7953"
             ],
             [
              0.7777777777777778,
              "#fb9f3a"
             ],
             [
              0.8888888888888888,
              "#fdca26"
             ],
             [
              1,
              "#f0f921"
             ]
            ],
            "type": "histogram2dcontour"
           }
          ],
          "mesh3d": [
           {
            "colorbar": {
             "outlinewidth": 0,
             "ticks": ""
            },
            "type": "mesh3d"
           }
          ],
          "parcoords": [
           {
            "line": {
             "colorbar": {
              "outlinewidth": 0,
              "ticks": ""
             }
            },
            "type": "parcoords"
           }
          ],
          "pie": [
           {
            "automargin": true,
            "type": "pie"
           }
          ],
          "scatter": [
           {
            "fillpattern": {
             "fillmode": "overlay",
             "size": 10,
             "solidity": 0.2
            },
            "type": "scatter"
           }
          ],
          "scatter3d": [
           {
            "line": {
             "colorbar": {
              "outlinewidth": 0,
              "ticks": ""
             }
            },
            "marker": {
             "colorbar": {
              "outlinewidth": 0,
              "ticks": ""
             }
            },
            "type": "scatter3d"
           }
          ],
          "scattercarpet": [
           {
            "marker": {
             "colorbar": {
              "outlinewidth": 0,
              "ticks": ""
             }
            },
            "type": "scattercarpet"
           }
          ],
          "scattergeo": [
           {
            "marker": {
             "colorbar": {
              "outlinewidth": 0,
              "ticks": ""
             }
            },
            "type": "scattergeo"
           }
          ],
          "scattergl": [
           {
            "marker": {
             "colorbar": {
              "outlinewidth": 0,
              "ticks": ""
             }
            },
            "type": "scattergl"
           }
          ],
          "scattermapbox": [
           {
            "marker": {
             "colorbar": {
              "outlinewidth": 0,
              "ticks": ""
             }
            },
            "type": "scattermapbox"
           }
          ],
          "scatterpolar": [
           {
            "marker": {
             "colorbar": {
              "outlinewidth": 0,
              "ticks": ""
             }
            },
            "type": "scatterpolar"
           }
          ],
          "scatterpolargl": [
           {
            "marker": {
             "colorbar": {
              "outlinewidth": 0,
              "ticks": ""
             }
            },
            "type": "scatterpolargl"
           }
          ],
          "scatterternary": [
           {
            "marker": {
             "colorbar": {
              "outlinewidth": 0,
              "ticks": ""
             }
            },
            "type": "scatterternary"
           }
          ],
          "surface": [
           {
            "colorbar": {
             "outlinewidth": 0,
             "ticks": ""
            },
            "colorscale": [
             [
              0,
              "#0d0887"
             ],
             [
              0.1111111111111111,
              "#46039f"
             ],
             [
              0.2222222222222222,
              "#7201a8"
             ],
             [
              0.3333333333333333,
              "#9c179e"
             ],
             [
              0.4444444444444444,
              "#bd3786"
             ],
             [
              0.5555555555555556,
              "#d8576b"
             ],
             [
              0.6666666666666666,
              "#ed7953"
             ],
             [
              0.7777777777777778,
              "#fb9f3a"
             ],
             [
              0.8888888888888888,
              "#fdca26"
             ],
             [
              1,
              "#f0f921"
             ]
            ],
            "type": "surface"
           }
          ],
          "table": [
           {
            "cells": {
             "fill": {
              "color": "#EBF0F8"
             },
             "line": {
              "color": "white"
             }
            },
            "header": {
             "fill": {
              "color": "#C8D4E3"
             },
             "line": {
              "color": "white"
             }
            },
            "type": "table"
           }
          ]
         },
         "layout": {
          "annotationdefaults": {
           "arrowcolor": "#2a3f5f",
           "arrowhead": 0,
           "arrowwidth": 1
          },
          "autotypenumbers": "strict",
          "coloraxis": {
           "colorbar": {
            "outlinewidth": 0,
            "ticks": ""
           }
          },
          "colorscale": {
           "diverging": [
            [
             0,
             "#8e0152"
            ],
            [
             0.1,
             "#c51b7d"
            ],
            [
             0.2,
             "#de77ae"
            ],
            [
             0.3,
             "#f1b6da"
            ],
            [
             0.4,
             "#fde0ef"
            ],
            [
             0.5,
             "#f7f7f7"
            ],
            [
             0.6,
             "#e6f5d0"
            ],
            [
             0.7,
             "#b8e186"
            ],
            [
             0.8,
             "#7fbc41"
            ],
            [
             0.9,
             "#4d9221"
            ],
            [
             1,
             "#276419"
            ]
           ],
           "sequential": [
            [
             0,
             "#0d0887"
            ],
            [
             0.1111111111111111,
             "#46039f"
            ],
            [
             0.2222222222222222,
             "#7201a8"
            ],
            [
             0.3333333333333333,
             "#9c179e"
            ],
            [
             0.4444444444444444,
             "#bd3786"
            ],
            [
             0.5555555555555556,
             "#d8576b"
            ],
            [
             0.6666666666666666,
             "#ed7953"
            ],
            [
             0.7777777777777778,
             "#fb9f3a"
            ],
            [
             0.8888888888888888,
             "#fdca26"
            ],
            [
             1,
             "#f0f921"
            ]
           ],
           "sequentialminus": [
            [
             0,
             "#0d0887"
            ],
            [
             0.1111111111111111,
             "#46039f"
            ],
            [
             0.2222222222222222,
             "#7201a8"
            ],
            [
             0.3333333333333333,
             "#9c179e"
            ],
            [
             0.4444444444444444,
             "#bd3786"
            ],
            [
             0.5555555555555556,
             "#d8576b"
            ],
            [
             0.6666666666666666,
             "#ed7953"
            ],
            [
             0.7777777777777778,
             "#fb9f3a"
            ],
            [
             0.8888888888888888,
             "#fdca26"
            ],
            [
             1,
             "#f0f921"
            ]
           ]
          },
          "colorway": [
           "#636efa",
           "#EF553B",
           "#00cc96",
           "#ab63fa",
           "#FFA15A",
           "#19d3f3",
           "#FF6692",
           "#B6E880",
           "#FF97FF",
           "#FECB52"
          ],
          "font": {
           "color": "#2a3f5f"
          },
          "geo": {
           "bgcolor": "white",
           "lakecolor": "white",
           "landcolor": "#E5ECF6",
           "showlakes": true,
           "showland": true,
           "subunitcolor": "white"
          },
          "hoverlabel": {
           "align": "left"
          },
          "hovermode": "closest",
          "mapbox": {
           "style": "light"
          },
          "paper_bgcolor": "white",
          "plot_bgcolor": "#E5ECF6",
          "polar": {
           "angularaxis": {
            "gridcolor": "white",
            "linecolor": "white",
            "ticks": ""
           },
           "bgcolor": "#E5ECF6",
           "radialaxis": {
            "gridcolor": "white",
            "linecolor": "white",
            "ticks": ""
           }
          },
          "scene": {
           "xaxis": {
            "backgroundcolor": "#E5ECF6",
            "gridcolor": "white",
            "gridwidth": 2,
            "linecolor": "white",
            "showbackground": true,
            "ticks": "",
            "zerolinecolor": "white"
           },
           "yaxis": {
            "backgroundcolor": "#E5ECF6",
            "gridcolor": "white",
            "gridwidth": 2,
            "linecolor": "white",
            "showbackground": true,
            "ticks": "",
            "zerolinecolor": "white"
           },
           "zaxis": {
            "backgroundcolor": "#E5ECF6",
            "gridcolor": "white",
            "gridwidth": 2,
            "linecolor": "white",
            "showbackground": true,
            "ticks": "",
            "zerolinecolor": "white"
           }
          },
          "shapedefaults": {
           "line": {
            "color": "#2a3f5f"
           }
          },
          "ternary": {
           "aaxis": {
            "gridcolor": "white",
            "linecolor": "white",
            "ticks": ""
           },
           "baxis": {
            "gridcolor": "white",
            "linecolor": "white",
            "ticks": ""
           },
           "bgcolor": "#E5ECF6",
           "caxis": {
            "gridcolor": "white",
            "linecolor": "white",
            "ticks": ""
           }
          },
          "title": {
           "x": 0.05
          },
          "xaxis": {
           "automargin": true,
           "gridcolor": "white",
           "linecolor": "white",
           "ticks": "",
           "title": {
            "standoff": 15
           },
           "zerolinecolor": "white",
           "zerolinewidth": 2
          },
          "yaxis": {
           "automargin": true,
           "gridcolor": "white",
           "linecolor": "white",
           "ticks": "",
           "title": {
            "standoff": 15
           },
           "zerolinecolor": "white",
           "zerolinewidth": 2
          }
         }
        },
        "title": {
         "text": "EGAD Results split by Cell Type Affiliation (PBMC)"
        },
        "xaxis": {
         "anchor": "y",
         "domain": [
          0,
          1
         ],
         "title": {
          "text": "variable"
         }
        },
        "yaxis": {
         "anchor": "x",
         "domain": [
          0,
          1
         ],
         "title": {
          "text": "value"
         }
        }
       }
      },
      "text/html": [
       "<div>                            <div id=\"4a768b57-909a-4119-a58c-f4b7fd724242\" class=\"plotly-graph-div\" style=\"height:525px; width:100%;\"></div>            <script type=\"text/javascript\">                require([\"plotly\"], function(Plotly) {                    window.PLOTLYENV=window.PLOTLYENV || {};                                    if (document.getElementById(\"4a768b57-909a-4119-a58c-f4b7fd724242\")) {                    Plotly.newPlot(                        \"4a768b57-909a-4119-a58c-f4b7fd724242\",                        [{\"hovertemplate\":\"CTAffiliation=True\\u003cbr\\u003evariable=%{x}\\u003cbr\\u003evalue=%{y}\\u003cextra\\u003e\\u003c\\u002fextra\\u003e\",\"legendgroup\":\"True\",\"line\":{\"color\":\"#636efa\",\"dash\":\"solid\"},\"marker\":{\"symbol\":\"circle\"},\"mode\":\"lines\",\"name\":\"True\",\"orientation\":\"v\",\"showlegend\":true,\"x\":[\"0\",\"0.005\",\"0.01\",\"0.015\",\"0.02\",\"0.025\",\"0.03\",\"0.035\",\"0.04\",\"0.045\",\"0.05\",\"0.055\",\"0.06\",\"0.065\",\"0.07\",\"0.075\",\"0.08\",\"0.085\",\"0.09\",\"0.095\",\"0.1\",\"0.15\",\"0.2\",\"0.25\",\"0.3\",\"0.35\",\"0.4\",\"0.45\",\"0.5\",\"0.75\",\"1\",\"10\",\"100\",\"1000\",\"10000\"],\"xaxis\":\"x\",\"y\":[0.5,0.5087828285490406,0.5079983887620176,0.5098740931288273,0.507398122218408,0.5118141352292502,0.5058289267523836,0.5066721453711859,0.5095622748042865,0.5079679835899735,0.5095586628995058,0.5054019674973617,0.5106057828218644,0.5065914693542394,0.5060941671673871,0.5103526001227894,0.5084195837188166,0.5096537346603374,0.5106509344762838,0.5098894486770855,0.5071654322678957,0.5087321306484288,0.5106272154830731,0.5073651848906078,0.5102194467427618,0.5066714079685067,0.5093203453354901,0.5105416994352546,0.514901003422828,0.5085839772382942,0.5057664114038602,0.5102186329991595,0.5100584731428354,0.5138740217329748,0.5124410780474783],\"yaxis\":\"y\",\"type\":\"scatter\"},{\"hovertemplate\":\"CTAffiliation=False\\u003cbr\\u003evariable=%{x}\\u003cbr\\u003evalue=%{y}\\u003cextra\\u003e\\u003c\\u002fextra\\u003e\",\"legendgroup\":\"False\",\"line\":{\"color\":\"#EF553B\",\"dash\":\"solid\"},\"marker\":{\"symbol\":\"circle\"},\"mode\":\"lines\",\"name\":\"False\",\"orientation\":\"v\",\"showlegend\":true,\"x\":[\"0\",\"0.005\",\"0.01\",\"0.015\",\"0.02\",\"0.025\",\"0.03\",\"0.035\",\"0.04\",\"0.045\",\"0.05\",\"0.055\",\"0.06\",\"0.065\",\"0.07\",\"0.075\",\"0.08\",\"0.085\",\"0.09\",\"0.095\",\"0.1\",\"0.15\",\"0.2\",\"0.25\",\"0.3\",\"0.35\",\"0.4\",\"0.45\",\"0.5\",\"0.75\",\"1\",\"10\",\"100\",\"1000\",\"10000\"],\"xaxis\":\"x\",\"y\":[0.5,0.5027178113322852,0.5014849789476541,0.49938072981794956,0.49700337661702937,0.5000832647826778,0.49750314960475917,0.49984850560254296,0.5017427813525059,0.5003369480807742,0.4999828423202954,0.4962971678855329,0.5023451334972154,0.497950192676173,0.4955013809357961,0.5012189914389517,0.49514416252164817,0.49883918927544435,0.5030554356871643,0.4993020431173556,0.4969412829339975,0.5022670069885883,0.5017568583279317,0.5001318091073595,0.5046653144068826,0.5018568880692791,0.4973553249817381,0.49956811786525845,0.4959031773108219,0.49598704876692856,0.5020971913395499,0.49407863367955135,0.49455301094504356,0.49685132208834076,0.4961487253917802],\"yaxis\":\"y\",\"type\":\"scatter\"}],                        {\"template\":{\"data\":{\"histogram2dcontour\":[{\"type\":\"histogram2dcontour\",\"colorbar\":{\"outlinewidth\":0,\"ticks\":\"\"},\"colorscale\":[[0.0,\"#0d0887\"],[0.1111111111111111,\"#46039f\"],[0.2222222222222222,\"#7201a8\"],[0.3333333333333333,\"#9c179e\"],[0.4444444444444444,\"#bd3786\"],[0.5555555555555556,\"#d8576b\"],[0.6666666666666666,\"#ed7953\"],[0.7777777777777778,\"#fb9f3a\"],[0.8888888888888888,\"#fdca26\"],[1.0,\"#f0f921\"]]}],\"choropleth\":[{\"type\":\"choropleth\",\"colorbar\":{\"outlinewidth\":0,\"ticks\":\"\"}}],\"histogram2d\":[{\"type\":\"histogram2d\",\"colorbar\":{\"outlinewidth\":0,\"ticks\":\"\"},\"colorscale\":[[0.0,\"#0d0887\"],[0.1111111111111111,\"#46039f\"],[0.2222222222222222,\"#7201a8\"],[0.3333333333333333,\"#9c179e\"],[0.4444444444444444,\"#bd3786\"],[0.5555555555555556,\"#d8576b\"],[0.6666666666666666,\"#ed7953\"],[0.7777777777777778,\"#fb9f3a\"],[0.8888888888888888,\"#fdca26\"],[1.0,\"#f0f921\"]]}],\"heatmap\":[{\"type\":\"heatmap\",\"colorbar\":{\"outlinewidth\":0,\"ticks\":\"\"},\"colorscale\":[[0.0,\"#0d0887\"],[0.1111111111111111,\"#46039f\"],[0.2222222222222222,\"#7201a8\"],[0.3333333333333333,\"#9c179e\"],[0.4444444444444444,\"#bd3786\"],[0.5555555555555556,\"#d8576b\"],[0.6666666666666666,\"#ed7953\"],[0.7777777777777778,\"#fb9f3a\"],[0.8888888888888888,\"#fdca26\"],[1.0,\"#f0f921\"]]}],\"heatmapgl\":[{\"type\":\"heatmapgl\",\"colorbar\":{\"outlinewidth\":0,\"ticks\":\"\"},\"colorscale\":[[0.0,\"#0d0887\"],[0.1111111111111111,\"#46039f\"],[0.2222222222222222,\"#7201a8\"],[0.3333333333333333,\"#9c179e\"],[0.4444444444444444,\"#bd3786\"],[0.5555555555555556,\"#d8576b\"],[0.6666666666666666,\"#ed7953\"],[0.7777777777777778,\"#fb9f3a\"],[0.8888888888888888,\"#fdca26\"],[1.0,\"#f0f921\"]]}],\"contourcarpet\":[{\"type\":\"contourcarpet\",\"colorbar\":{\"outlinewidth\":0,\"ticks\":\"\"}}],\"contour\":[{\"type\":\"contour\",\"colorbar\":{\"outlinewidth\":0,\"ticks\":\"\"},\"colorscale\":[[0.0,\"#0d0887\"],[0.1111111111111111,\"#46039f\"],[0.2222222222222222,\"#7201a8\"],[0.3333333333333333,\"#9c179e\"],[0.4444444444444444,\"#bd3786\"],[0.5555555555555556,\"#d8576b\"],[0.6666666666666666,\"#ed7953\"],[0.7777777777777778,\"#fb9f3a\"],[0.8888888888888888,\"#fdca26\"],[1.0,\"#f0f921\"]]}],\"surface\":[{\"type\":\"surface\",\"colorbar\":{\"outlinewidth\":0,\"ticks\":\"\"},\"colorscale\":[[0.0,\"#0d0887\"],[0.1111111111111111,\"#46039f\"],[0.2222222222222222,\"#7201a8\"],[0.3333333333333333,\"#9c179e\"],[0.4444444444444444,\"#bd3786\"],[0.5555555555555556,\"#d8576b\"],[0.6666666666666666,\"#ed7953\"],[0.7777777777777778,\"#fb9f3a\"],[0.8888888888888888,\"#fdca26\"],[1.0,\"#f0f921\"]]}],\"mesh3d\":[{\"type\":\"mesh3d\",\"colorbar\":{\"outlinewidth\":0,\"ticks\":\"\"}}],\"scatter\":[{\"fillpattern\":{\"fillmode\":\"overlay\",\"size\":10,\"solidity\":0.2},\"type\":\"scatter\"}],\"parcoords\":[{\"type\":\"parcoords\",\"line\":{\"colorbar\":{\"outlinewidth\":0,\"ticks\":\"\"}}}],\"scatterpolargl\":[{\"type\":\"scatterpolargl\",\"marker\":{\"colorbar\":{\"outlinewidth\":0,\"ticks\":\"\"}}}],\"bar\":[{\"error_x\":{\"color\":\"#2a3f5f\"},\"error_y\":{\"color\":\"#2a3f5f\"},\"marker\":{\"line\":{\"color\":\"#E5ECF6\",\"width\":0.5},\"pattern\":{\"fillmode\":\"overlay\",\"size\":10,\"solidity\":0.2}},\"type\":\"bar\"}],\"scattergeo\":[{\"type\":\"scattergeo\",\"marker\":{\"colorbar\":{\"outlinewidth\":0,\"ticks\":\"\"}}}],\"scatterpolar\":[{\"type\":\"scatterpolar\",\"marker\":{\"colorbar\":{\"outlinewidth\":0,\"ticks\":\"\"}}}],\"histogram\":[{\"marker\":{\"pattern\":{\"fillmode\":\"overlay\",\"size\":10,\"solidity\":0.2}},\"type\":\"histogram\"}],\"scattergl\":[{\"type\":\"scattergl\",\"marker\":{\"colorbar\":{\"outlinewidth\":0,\"ticks\":\"\"}}}],\"scatter3d\":[{\"type\":\"scatter3d\",\"line\":{\"colorbar\":{\"outlinewidth\":0,\"ticks\":\"\"}},\"marker\":{\"colorbar\":{\"outlinewidth\":0,\"ticks\":\"\"}}}],\"scattermapbox\":[{\"type\":\"scattermapbox\",\"marker\":{\"colorbar\":{\"outlinewidth\":0,\"ticks\":\"\"}}}],\"scatterternary\":[{\"type\":\"scatterternary\",\"marker\":{\"colorbar\":{\"outlinewidth\":0,\"ticks\":\"\"}}}],\"scattercarpet\":[{\"type\":\"scattercarpet\",\"marker\":{\"colorbar\":{\"outlinewidth\":0,\"ticks\":\"\"}}}],\"carpet\":[{\"aaxis\":{\"endlinecolor\":\"#2a3f5f\",\"gridcolor\":\"white\",\"linecolor\":\"white\",\"minorgridcolor\":\"white\",\"startlinecolor\":\"#2a3f5f\"},\"baxis\":{\"endlinecolor\":\"#2a3f5f\",\"gridcolor\":\"white\",\"linecolor\":\"white\",\"minorgridcolor\":\"white\",\"startlinecolor\":\"#2a3f5f\"},\"type\":\"carpet\"}],\"table\":[{\"cells\":{\"fill\":{\"color\":\"#EBF0F8\"},\"line\":{\"color\":\"white\"}},\"header\":{\"fill\":{\"color\":\"#C8D4E3\"},\"line\":{\"color\":\"white\"}},\"type\":\"table\"}],\"barpolar\":[{\"marker\":{\"line\":{\"color\":\"#E5ECF6\",\"width\":0.5},\"pattern\":{\"fillmode\":\"overlay\",\"size\":10,\"solidity\":0.2}},\"type\":\"barpolar\"}],\"pie\":[{\"automargin\":true,\"type\":\"pie\"}]},\"layout\":{\"autotypenumbers\":\"strict\",\"colorway\":[\"#636efa\",\"#EF553B\",\"#00cc96\",\"#ab63fa\",\"#FFA15A\",\"#19d3f3\",\"#FF6692\",\"#B6E880\",\"#FF97FF\",\"#FECB52\"],\"font\":{\"color\":\"#2a3f5f\"},\"hovermode\":\"closest\",\"hoverlabel\":{\"align\":\"left\"},\"paper_bgcolor\":\"white\",\"plot_bgcolor\":\"#E5ECF6\",\"polar\":{\"bgcolor\":\"#E5ECF6\",\"angularaxis\":{\"gridcolor\":\"white\",\"linecolor\":\"white\",\"ticks\":\"\"},\"radialaxis\":{\"gridcolor\":\"white\",\"linecolor\":\"white\",\"ticks\":\"\"}},\"ternary\":{\"bgcolor\":\"#E5ECF6\",\"aaxis\":{\"gridcolor\":\"white\",\"linecolor\":\"white\",\"ticks\":\"\"},\"baxis\":{\"gridcolor\":\"white\",\"linecolor\":\"white\",\"ticks\":\"\"},\"caxis\":{\"gridcolor\":\"white\",\"linecolor\":\"white\",\"ticks\":\"\"}},\"coloraxis\":{\"colorbar\":{\"outlinewidth\":0,\"ticks\":\"\"}},\"colorscale\":{\"sequential\":[[0.0,\"#0d0887\"],[0.1111111111111111,\"#46039f\"],[0.2222222222222222,\"#7201a8\"],[0.3333333333333333,\"#9c179e\"],[0.4444444444444444,\"#bd3786\"],[0.5555555555555556,\"#d8576b\"],[0.6666666666666666,\"#ed7953\"],[0.7777777777777778,\"#fb9f3a\"],[0.8888888888888888,\"#fdca26\"],[1.0,\"#f0f921\"]],\"sequentialminus\":[[0.0,\"#0d0887\"],[0.1111111111111111,\"#46039f\"],[0.2222222222222222,\"#7201a8\"],[0.3333333333333333,\"#9c179e\"],[0.4444444444444444,\"#bd3786\"],[0.5555555555555556,\"#d8576b\"],[0.6666666666666666,\"#ed7953\"],[0.7777777777777778,\"#fb9f3a\"],[0.8888888888888888,\"#fdca26\"],[1.0,\"#f0f921\"]],\"diverging\":[[0,\"#8e0152\"],[0.1,\"#c51b7d\"],[0.2,\"#de77ae\"],[0.3,\"#f1b6da\"],[0.4,\"#fde0ef\"],[0.5,\"#f7f7f7\"],[0.6,\"#e6f5d0\"],[0.7,\"#b8e186\"],[0.8,\"#7fbc41\"],[0.9,\"#4d9221\"],[1,\"#276419\"]]},\"xaxis\":{\"gridcolor\":\"white\",\"linecolor\":\"white\",\"ticks\":\"\",\"title\":{\"standoff\":15},\"zerolinecolor\":\"white\",\"automargin\":true,\"zerolinewidth\":2},\"yaxis\":{\"gridcolor\":\"white\",\"linecolor\":\"white\",\"ticks\":\"\",\"title\":{\"standoff\":15},\"zerolinecolor\":\"white\",\"automargin\":true,\"zerolinewidth\":2},\"scene\":{\"xaxis\":{\"backgroundcolor\":\"#E5ECF6\",\"gridcolor\":\"white\",\"linecolor\":\"white\",\"showbackground\":true,\"ticks\":\"\",\"zerolinecolor\":\"white\",\"gridwidth\":2},\"yaxis\":{\"backgroundcolor\":\"#E5ECF6\",\"gridcolor\":\"white\",\"linecolor\":\"white\",\"showbackground\":true,\"ticks\":\"\",\"zerolinecolor\":\"white\",\"gridwidth\":2},\"zaxis\":{\"backgroundcolor\":\"#E5ECF6\",\"gridcolor\":\"white\",\"linecolor\":\"white\",\"showbackground\":true,\"ticks\":\"\",\"zerolinecolor\":\"white\",\"gridwidth\":2}},\"shapedefaults\":{\"line\":{\"color\":\"#2a3f5f\"}},\"annotationdefaults\":{\"arrowcolor\":\"#2a3f5f\",\"arrowhead\":0,\"arrowwidth\":1},\"geo\":{\"bgcolor\":\"white\",\"landcolor\":\"#E5ECF6\",\"subunitcolor\":\"white\",\"showland\":true,\"showlakes\":true,\"lakecolor\":\"white\"},\"title\":{\"x\":0.05},\"mapbox\":{\"style\":\"light\"}}},\"xaxis\":{\"anchor\":\"y\",\"domain\":[0.0,1.0],\"title\":{\"text\":\"variable\"}},\"yaxis\":{\"anchor\":\"x\",\"domain\":[0.0,1.0],\"title\":{\"text\":\"value\"}},\"legend\":{\"title\":{\"text\":\"CTAffiliation\"},\"tracegroupgap\":0},\"margin\":{\"t\":60},\"title\":{\"text\":\"EGAD Results split by Cell Type Affiliation (PBMC)\"}},                        {\"responsive\": true}                    ).then(function(){\n",
       "                            \n",
       "var gd = document.getElementById('4a768b57-909a-4119-a58c-f4b7fd724242');\n",
       "var x = new MutationObserver(function (mutations, observer) {{\n",
       "        var display = window.getComputedStyle(gd).display;\n",
       "        if (!display || display === 'none') {{\n",
       "            console.log([gd, 'removed!']);\n",
       "            Plotly.purge(gd);\n",
       "            observer.disconnect();\n",
       "        }}\n",
       "}});\n",
       "\n",
       "// Listen for the removal of the full notebook cells\n",
       "var notebookContainer = gd.closest('#notebook-container');\n",
       "if (notebookContainer) {{\n",
       "    x.observe(notebookContainer, {childList: true});\n",
       "}}\n",
       "\n",
       "// Listen for the clearing of the current output cell\n",
       "var outputEl = gd.closest('.output');\n",
       "if (outputEl) {{\n",
       "    x.observe(outputEl, {childList: true});\n",
       "}}\n",
       "\n",
       "                        })                };                });            </script>        </div>"
      ]
     },
     "metadata": {},
     "output_type": "display_data"
    }
   ],
   "source": [
    "import plotly.express as px\n",
    "fig = px.line(data_frame= auc_to_graph_melt, x = \"variable\", y = 'value', color =\"CTAffiliation\")\n",
    "fig.update_layout(title='EGAD Results split by Cell Type Affiliation (PBMC)')\n",
    "fig.show()"
   ]
  },
  {
   "cell_type": "code",
   "execution_count": null,
   "metadata": {},
   "outputs": [],
   "source": []
  },
  {
   "cell_type": "code",
   "execution_count": 120,
   "metadata": {},
   "outputs": [
    {
     "data": {
      "text/html": [
       "<div>\n",
       "<style scoped>\n",
       "    .dataframe tbody tr th:only-of-type {\n",
       "        vertical-align: middle;\n",
       "    }\n",
       "\n",
       "    .dataframe tbody tr th {\n",
       "        vertical-align: top;\n",
       "    }\n",
       "\n",
       "    .dataframe thead th {\n",
       "        text-align: right;\n",
       "    }\n",
       "</style>\n",
       "<table border=\"1\" class=\"dataframe\">\n",
       "  <thead>\n",
       "    <tr style=\"text-align: right;\">\n",
       "      <th></th>\n",
       "      <th>ID</th>\n",
       "      <th>CTAffiliation</th>\n",
       "      <th>variable</th>\n",
       "      <th>value</th>\n",
       "    </tr>\n",
       "  </thead>\n",
       "  <tbody>\n",
       "    <tr>\n",
       "      <th>99</th>\n",
       "      <td>GO:0072488</td>\n",
       "      <td>False</td>\n",
       "      <td>0</td>\n",
       "      <td>0.189647</td>\n",
       "    </tr>\n",
       "    <tr>\n",
       "      <th>90</th>\n",
       "      <td>GO:0046940</td>\n",
       "      <td>False</td>\n",
       "      <td>0</td>\n",
       "      <td>0.270504</td>\n",
       "    </tr>\n",
       "    <tr>\n",
       "      <th>91</th>\n",
       "      <td>GO:0033344</td>\n",
       "      <td>False</td>\n",
       "      <td>0</td>\n",
       "      <td>0.269491</td>\n",
       "    </tr>\n",
       "    <tr>\n",
       "      <th>92</th>\n",
       "      <td>GO:0061045</td>\n",
       "      <td>True</td>\n",
       "      <td>0</td>\n",
       "      <td>0.266083</td>\n",
       "    </tr>\n",
       "    <tr>\n",
       "      <th>93</th>\n",
       "      <td>GO:0018216</td>\n",
       "      <td>False</td>\n",
       "      <td>0</td>\n",
       "      <td>0.258301</td>\n",
       "    </tr>\n",
       "    <tr>\n",
       "      <th>...</th>\n",
       "      <td>...</td>\n",
       "      <td>...</td>\n",
       "      <td>...</td>\n",
       "      <td>...</td>\n",
       "    </tr>\n",
       "    <tr>\n",
       "      <th>233</th>\n",
       "      <td>GO:0018216</td>\n",
       "      <td>False</td>\n",
       "      <td>1</td>\n",
       "      <td>0.392187</td>\n",
       "    </tr>\n",
       "    <tr>\n",
       "      <th>232</th>\n",
       "      <td>GO:0061045</td>\n",
       "      <td>True</td>\n",
       "      <td>1</td>\n",
       "      <td>0.331181</td>\n",
       "    </tr>\n",
       "    <tr>\n",
       "      <th>231</th>\n",
       "      <td>GO:0033344</td>\n",
       "      <td>False</td>\n",
       "      <td>1</td>\n",
       "      <td>0.525273</td>\n",
       "    </tr>\n",
       "    <tr>\n",
       "      <th>239</th>\n",
       "      <td>GO:0072488</td>\n",
       "      <td>False</td>\n",
       "      <td>1</td>\n",
       "      <td>0.918917</td>\n",
       "    </tr>\n",
       "    <tr>\n",
       "      <th>230</th>\n",
       "      <td>GO:0046940</td>\n",
       "      <td>False</td>\n",
       "      <td>1</td>\n",
       "      <td>0.392659</td>\n",
       "    </tr>\n",
       "  </tbody>\n",
       "</table>\n",
       "<p>260 rows × 4 columns</p>\n",
       "</div>"
      ],
      "text/plain": [
       "             ID CTAffiliation variable     value\n",
       "99   GO:0072488         False        0  0.189647\n",
       "90   GO:0046940         False        0  0.270504\n",
       "91   GO:0033344         False        0  0.269491\n",
       "92   GO:0061045          True        0  0.266083\n",
       "93   GO:0018216         False        0  0.258301\n",
       "..          ...           ...      ...       ...\n",
       "233  GO:0018216         False        1  0.392187\n",
       "232  GO:0061045          True        1  0.331181\n",
       "231  GO:0033344         False        1  0.525273\n",
       "239  GO:0072488         False        1  0.918917\n",
       "230  GO:0046940         False        1  0.392659\n",
       "\n",
       "[260 rows x 4 columns]"
      ]
     },
     "execution_count": 120,
     "metadata": {},
     "output_type": "execute_result"
    }
   ],
   "source": [
    "top_performers_with_ct =  auc_merged_CT.sort_values('0', ascending=False).tail(10)\n",
    "\n",
    "auc_merged_CT_melted = top_performers_with_ct.melt(id_vars=['ID', 'CTAffiliation']).sort_values('variable')\n",
    "auc_merged_CT_melted"
   ]
  },
  {
   "cell_type": "code",
   "execution_count": 121,
   "metadata": {},
   "outputs": [
    {
     "data": {
      "application/vnd.plotly.v1+json": {
       "config": {
        "plotlyServerURL": "https://plot.ly"
       },
       "data": [
        {
         "hovertemplate": "ID=GO:0072488<br>CTAffiliation=False<br>variable=%{x}<br>value=%{y}<extra></extra>",
         "legendgroup": "GO:0072488",
         "line": {
          "color": "#636efa",
          "dash": "solid"
         },
         "marker": {
          "symbol": "circle"
         },
         "mode": "lines",
         "name": "GO:0072488",
         "orientation": "v",
         "showlegend": true,
         "type": "scatter",
         "x": [
          "0",
          "0.005",
          "0.01",
          "0.015",
          "0.02",
          "0.025",
          "0.03",
          "0.035",
          "0.04",
          "0.045",
          "0.05",
          "0.055",
          "0.06",
          "0.065",
          "0.07",
          "0.075",
          "0.08",
          "0.085",
          "0.09",
          "0.095",
          "0.1",
          "0.3",
          "0.5",
          "0.7",
          "0.9",
          "1"
         ],
         "xaxis": "x",
         "y": [
          0.189647365144054,
          0.824078790966208,
          0.863842191656761,
          0.619771325069338,
          0.664487462500708,
          0.746617988339843,
          0.666893077489104,
          0.529348502858437,
          0.724599535857814,
          0.808088526631573,
          0.755532914473312,
          0.730939038886059,
          0.868172298635875,
          0.692647308541348,
          0.80206033848418,
          0.682543725590083,
          0.888747382124866,
          0.733684270108111,
          0.842616177053263,
          0.796824588215317,
          0.805909322465614,
          0.885407822493915,
          0.925935359710194,
          0.896445350087734,
          0.613601630157922,
          0.918916624214637
         ],
         "yaxis": "y"
        },
        {
         "hovertemplate": "ID=GO:0046940<br>CTAffiliation=False<br>variable=%{x}<br>value=%{y}<extra></extra>",
         "legendgroup": "GO:0046940",
         "line": {
          "color": "#EF553B",
          "dash": "solid"
         },
         "marker": {
          "symbol": "circle"
         },
         "mode": "lines",
         "name": "GO:0046940",
         "orientation": "v",
         "showlegend": true,
         "type": "scatter",
         "x": [
          "0",
          "0.005",
          "0.01",
          "0.015",
          "0.02",
          "0.025",
          "0.03",
          "0.035",
          "0.04",
          "0.045",
          "0.05",
          "0.055",
          "0.06",
          "0.065",
          "0.07",
          "0.075",
          "0.08",
          "0.085",
          "0.09",
          "0.095",
          "0.1",
          "0.3",
          "0.5",
          "0.7",
          "0.9",
          "1"
         ],
         "xaxis": "x",
         "y": [
          0.270504218334183,
          0.304371213408074,
          0.47119359039692,
          0.261366853519053,
          0.450823849159164,
          0.396799445105034,
          0.436342789196535,
          0.505117207406149,
          0.470599060075873,
          0.475404846837665,
          0.399071400260461,
          0.550266123096087,
          0.33491874752279,
          0.459069418492724,
          0.379168789989242,
          0.484740388426476,
          0.506263801596739,
          0.589363569446804,
          0.591444425570466,
          0.605479587792311,
          0.406389785402865,
          0.342470698148463,
          0.694885623690618,
          0.391349583828775,
          0.503729969990374,
          0.392658966083461
         ],
         "yaxis": "y"
        },
        {
         "hovertemplate": "ID=GO:0033344<br>CTAffiliation=False<br>variable=%{x}<br>value=%{y}<extra></extra>",
         "legendgroup": "GO:0033344",
         "line": {
          "color": "#00cc96",
          "dash": "solid"
         },
         "marker": {
          "symbol": "circle"
         },
         "mode": "lines",
         "name": "GO:0033344",
         "orientation": "v",
         "showlegend": true,
         "type": "scatter",
         "x": [
          "0",
          "0.005",
          "0.01",
          "0.015",
          "0.02",
          "0.025",
          "0.03",
          "0.035",
          "0.04",
          "0.045",
          "0.05",
          "0.055",
          "0.06",
          "0.065",
          "0.07",
          "0.075",
          "0.08",
          "0.085",
          "0.09",
          "0.095",
          "0.1",
          "0.3",
          "0.5",
          "0.7",
          "0.9",
          "1"
         ],
         "xaxis": "x",
         "y": [
          0.269491417403127,
          0.514615907545887,
          0.563243541808294,
          0.489717878993882,
          0.504524983004759,
          0.435765069113981,
          0.524770564242012,
          0.53226263312939,
          0.656823589394969,
          0.607020450940403,
          0.382931112621799,
          0.383044414230682,
          0.498909472014503,
          0.463106163607523,
          0.3793762746431,
          0.421276625878087,
          0.387781837752096,
          0.402376501246318,
          0.362090697937911,
          0.457023283480625,
          0.292417289825516,
          0.525032574212554,
          0.530124065261727,
          0.296000453206436,
          0.532772490369363,
          0.52527334013143
         ],
         "yaxis": "y"
        },
        {
         "hovertemplate": "ID=GO:0061045<br>CTAffiliation=True<br>variable=%{x}<br>value=%{y}<extra></extra>",
         "legendgroup": "GO:0061045",
         "line": {
          "color": "#ab63fa",
          "dash": "solid"
         },
         "marker": {
          "symbol": "circle"
         },
         "mode": "lines",
         "name": "GO:0061045",
         "orientation": "v",
         "showlegend": true,
         "type": "scatter",
         "x": [
          "0",
          "0.005",
          "0.01",
          "0.015",
          "0.02",
          "0.025",
          "0.03",
          "0.035",
          "0.04",
          "0.045",
          "0.05",
          "0.055",
          "0.06",
          "0.065",
          "0.07",
          "0.075",
          "0.08",
          "0.085",
          "0.09",
          "0.095",
          "0.1",
          "0.3",
          "0.5",
          "0.7",
          "0.9",
          "1"
         ],
         "xaxis": "x2",
         "y": [
          0.266083361649111,
          0.746488843583645,
          0.473760712802507,
          0.511316872427984,
          0.641305168573262,
          0.537716615698267,
          0.559085589156945,
          0.634197908407898,
          0.575499301544154,
          0.622192018726168,
          0.500471929625854,
          0.579708913806773,
          0.625108543813946,
          0.585145543096613,
          0.505804734398007,
          0.536517914448597,
          0.616123003737683,
          0.487172952769283,
          0.577792879525805,
          0.417997508211575,
          0.429880696190584,
          0.631857137463661,
          0.539878053384679,
          0.46235889304187,
          0.617114055951976,
          0.331181334239438
         ],
         "yaxis": "y2"
        },
        {
         "hovertemplate": "ID=GO:0018216<br>CTAffiliation=False<br>variable=%{x}<br>value=%{y}<extra></extra>",
         "legendgroup": "GO:0018216",
         "line": {
          "color": "#FFA15A",
          "dash": "solid"
         },
         "marker": {
          "symbol": "circle"
         },
         "mode": "lines",
         "name": "GO:0018216",
         "orientation": "v",
         "showlegend": true,
         "type": "scatter",
         "x": [
          "0",
          "0.005",
          "0.01",
          "0.015",
          "0.02",
          "0.025",
          "0.03",
          "0.035",
          "0.04",
          "0.045",
          "0.05",
          "0.055",
          "0.06",
          "0.065",
          "0.07",
          "0.075",
          "0.08",
          "0.085",
          "0.09",
          "0.095",
          "0.1",
          "0.3",
          "0.5",
          "0.7",
          "0.9",
          "1"
         ],
         "xaxis": "x",
         "y": [
          0.258301486199575,
          0.448747346072187,
          0.444529370134466,
          0.390460014154282,
          0.264274593064402,
          0.54484076433121,
          0.289723991507431,
          0.41791932059448,
          0.316503892427459,
          0.310474168435952,
          0.294975230007077,
          0.308605803255485,
          0.474734607218684,
          0.331167728237792,
          0.398867657466384,
          0.431224345364473,
          0.427813163481953,
          0.455909412597311,
          0.383878273177636,
          0.35651804670913,
          0.383906581740977,
          0.613347487615004,
          0.603411181882519,
          0.375527246992215,
          0.579518754423213,
          0.392186836518047
         ],
         "yaxis": "y"
        },
        {
         "hovertemplate": "ID=GO:0018344<br>CTAffiliation=False<br>variable=%{x}<br>value=%{y}<extra></extra>",
         "legendgroup": "GO:0018344",
         "line": {
          "color": "#19d3f3",
          "dash": "solid"
         },
         "marker": {
          "symbol": "circle"
         },
         "mode": "lines",
         "name": "GO:0018344",
         "orientation": "v",
         "showlegend": true,
         "type": "scatter",
         "x": [
          "0",
          "0.005",
          "0.01",
          "0.015",
          "0.02",
          "0.025",
          "0.03",
          "0.035",
          "0.04",
          "0.045",
          "0.05",
          "0.055",
          "0.06",
          "0.065",
          "0.07",
          "0.075",
          "0.08",
          "0.085",
          "0.09",
          "0.095",
          "0.1",
          "0.3",
          "0.5",
          "0.7",
          "0.9",
          "1"
         ],
         "xaxis": "x",
         "y": [
          0.255604619565217,
          0.704228940217391,
          0.717999886775362,
          0.69047214673913,
          0.686905570652174,
          0.678810009057971,
          0.746914628623188,
          0.691137341485507,
          0.688858695652174,
          0.680777287137681,
          0.74217334692029,
          0.715084352355073,
          0.683522984601449,
          0.669525588768116,
          0.715282495471015,
          0.699105525362319,
          0.727411684782609,
          0.731813292572464,
          0.740602355072464,
          0.744480298913043,
          0.741352468297101,
          0.794681272644927,
          0.783344655797101,
          0.794525588768116,
          0.811268682065217,
          0.810079823369565
         ],
         "yaxis": "y"
        },
        {
         "hovertemplate": "ID=GO:0060389<br>CTAffiliation=False<br>variable=%{x}<br>value=%{y}<extra></extra>",
         "legendgroup": "GO:0060389",
         "line": {
          "color": "#FF6692",
          "dash": "solid"
         },
         "marker": {
          "symbol": "circle"
         },
         "mode": "lines",
         "name": "GO:0060389",
         "orientation": "v",
         "showlegend": true,
         "type": "scatter",
         "x": [
          "0",
          "0.005",
          "0.01",
          "0.015",
          "0.02",
          "0.025",
          "0.03",
          "0.035",
          "0.04",
          "0.045",
          "0.05",
          "0.055",
          "0.06",
          "0.065",
          "0.07",
          "0.075",
          "0.08",
          "0.085",
          "0.09",
          "0.095",
          "0.1",
          "0.3",
          "0.5",
          "0.7",
          "0.9",
          "1"
         ],
         "xaxis": "x",
         "y": [
          0.253864447086801,
          0.473776966196705,
          0.320494309495499,
          0.379678387407282,
          0.66820961440462,
          0.425605854708114,
          0.495625955495159,
          0.452918860766661,
          0.480366343921635,
          0.494167940660212,
          0.405221957986524,
          0.385361814166808,
          0.52748287186456,
          0.541914387633769,
          0.578336447539777,
          0.269831832852047,
          0.457745880754204,
          0.325901704320254,
          0.431147726629296,
          0.686951475001416,
          0.400317082837891,
          0.663524149255422,
          0.618438933242738,
          0.488972878092973,
          0.405420134760206,
          0.547251005039352
         ],
         "yaxis": "y"
        },
        {
         "hovertemplate": "ID=GO:0036499<br>CTAffiliation=False<br>variable=%{x}<br>value=%{y}<extra></extra>",
         "legendgroup": "GO:0036499",
         "line": {
          "color": "#B6E880",
          "dash": "solid"
         },
         "marker": {
          "symbol": "circle"
         },
         "mode": "lines",
         "name": "GO:0036499",
         "orientation": "v",
         "showlegend": true,
         "type": "scatter",
         "x": [
          "0",
          "0.005",
          "0.01",
          "0.015",
          "0.02",
          "0.025",
          "0.03",
          "0.035",
          "0.04",
          "0.045",
          "0.05",
          "0.055",
          "0.06",
          "0.065",
          "0.07",
          "0.075",
          "0.08",
          "0.085",
          "0.09",
          "0.095",
          "0.1",
          "0.3",
          "0.5",
          "0.7",
          "0.9",
          "1"
         ],
         "xaxis": "x",
         "y": [
          0.246482661004954,
          0.383765038924275,
          0.43657466383581,
          0.313205944798301,
          0.509794762915782,
          0.280212314225053,
          0.297466383581033,
          0.294225053078556,
          0.411762208067941,
          0.393149327671621,
          0.432158527954706,
          0.504048124557679,
          0.308690728945506,
          0.439235668789809,
          0.572866242038217,
          0.40137296532201,
          0.542972399150743,
          0.444416135881104,
          0.437975937721161,
          0.519377211606511,
          0.363835810332626,
          0.551139419674451,
          0.473021939136589,
          0.549285208775655,
          0.351762208067941,
          0.468634111818825
         ],
         "yaxis": "y"
        },
        {
         "hovertemplate": "ID=GO:1904778<br>CTAffiliation=False<br>variable=%{x}<br>value=%{y}<extra></extra>",
         "legendgroup": "GO:1904778",
         "line": {
          "color": "#FF97FF",
          "dash": "solid"
         },
         "marker": {
          "symbol": "circle"
         },
         "mode": "lines",
         "name": "GO:1904778",
         "orientation": "v",
         "showlegend": true,
         "type": "scatter",
         "x": [
          "0",
          "0.005",
          "0.01",
          "0.015",
          "0.02",
          "0.025",
          "0.03",
          "0.035",
          "0.04",
          "0.045",
          "0.05",
          "0.055",
          "0.06",
          "0.065",
          "0.07",
          "0.075",
          "0.08",
          "0.085",
          "0.09",
          "0.095",
          "0.1",
          "0.3",
          "0.5",
          "0.7",
          "0.9",
          "1"
         ],
         "xaxis": "x",
         "y": [
          0.226797996094082,
          0.725510175200249,
          0.715943505703207,
          0.560159633183323,
          0.622710933740907,
          0.573292575924825,
          0.637004330474654,
          0.572952930853924,
          0.513882992273075,
          0.765220344739747,
          0.714330191616428,
          0.812147972035889,
          0.532931419999434,
          0.45436019359769,
          0.705329597237553,
          0.456341456511279,
          0.651552461011576,
          0.495938411027143,
          0.743539667713906,
          0.685205626786675,
          0.68421499532988,
          0.410178030624664,
          0.180266621380657,
          0.360420027737681,
          0.271319804138009,
          0.419206928759446
         ],
         "yaxis": "y"
        },
        {
         "hovertemplate": "ID=GO:0043304<br>CTAffiliation=True<br>variable=%{x}<br>value=%{y}<extra></extra>",
         "legendgroup": "GO:0043304",
         "line": {
          "color": "#FECB52",
          "dash": "solid"
         },
         "marker": {
          "symbol": "circle"
         },
         "mode": "lines",
         "name": "GO:0043304",
         "orientation": "v",
         "showlegend": true,
         "type": "scatter",
         "x": [
          "0",
          "0.005",
          "0.01",
          "0.015",
          "0.02",
          "0.025",
          "0.03",
          "0.035",
          "0.04",
          "0.045",
          "0.05",
          "0.055",
          "0.06",
          "0.065",
          "0.07",
          "0.075",
          "0.08",
          "0.085",
          "0.09",
          "0.095",
          "0.1",
          "0.3",
          "0.5",
          "0.7",
          "0.9",
          "1"
         ],
         "xaxis": "x2",
         "y": [
          0.226549449304907,
          0.426814651226441,
          0.500825806695169,
          0.579555857564861,
          0.492350670555037,
          0.600470001981936,
          0.585303472163236,
          0.547231424068254,
          0.530167898298366,
          0.50914993818247,
          0.687609124456147,
          0.628679558688902,
          0.5890408373208,
          0.617420274262201,
          0.683503685457308,
          0.600064176977453,
          0.730220749926857,
          0.668422095755825,
          0.651481261266363,
          0.734864143001406,
          0.667553819002048,
          0.697009164094869,
          0.716630331172079,
          0.712949592759327,
          0.729361910963882,
          0.702870032182867
         ],
         "yaxis": "y2"
        }
       ],
       "layout": {
        "annotations": [
         {
          "font": {},
          "showarrow": false,
          "text": "CTAffiliation=False",
          "x": 0.245,
          "xanchor": "center",
          "xref": "paper",
          "y": 1,
          "yanchor": "bottom",
          "yref": "paper"
         },
         {
          "font": {},
          "showarrow": false,
          "text": "CTAffiliation=True",
          "x": 0.755,
          "xanchor": "center",
          "xref": "paper",
          "y": 1,
          "yanchor": "bottom",
          "yref": "paper"
         }
        ],
        "legend": {
         "title": {
          "text": "ID"
         },
         "tracegroupgap": 0
        },
        "margin": {
         "t": 60
        },
        "template": {
         "data": {
          "bar": [
           {
            "error_x": {
             "color": "#2a3f5f"
            },
            "error_y": {
             "color": "#2a3f5f"
            },
            "marker": {
             "line": {
              "color": "#E5ECF6",
              "width": 0.5
             },
             "pattern": {
              "fillmode": "overlay",
              "size": 10,
              "solidity": 0.2
             }
            },
            "type": "bar"
           }
          ],
          "barpolar": [
           {
            "marker": {
             "line": {
              "color": "#E5ECF6",
              "width": 0.5
             },
             "pattern": {
              "fillmode": "overlay",
              "size": 10,
              "solidity": 0.2
             }
            },
            "type": "barpolar"
           }
          ],
          "carpet": [
           {
            "aaxis": {
             "endlinecolor": "#2a3f5f",
             "gridcolor": "white",
             "linecolor": "white",
             "minorgridcolor": "white",
             "startlinecolor": "#2a3f5f"
            },
            "baxis": {
             "endlinecolor": "#2a3f5f",
             "gridcolor": "white",
             "linecolor": "white",
             "minorgridcolor": "white",
             "startlinecolor": "#2a3f5f"
            },
            "type": "carpet"
           }
          ],
          "choropleth": [
           {
            "colorbar": {
             "outlinewidth": 0,
             "ticks": ""
            },
            "type": "choropleth"
           }
          ],
          "contour": [
           {
            "colorbar": {
             "outlinewidth": 0,
             "ticks": ""
            },
            "colorscale": [
             [
              0,
              "#0d0887"
             ],
             [
              0.1111111111111111,
              "#46039f"
             ],
             [
              0.2222222222222222,
              "#7201a8"
             ],
             [
              0.3333333333333333,
              "#9c179e"
             ],
             [
              0.4444444444444444,
              "#bd3786"
             ],
             [
              0.5555555555555556,
              "#d8576b"
             ],
             [
              0.6666666666666666,
              "#ed7953"
             ],
             [
              0.7777777777777778,
              "#fb9f3a"
             ],
             [
              0.8888888888888888,
              "#fdca26"
             ],
             [
              1,
              "#f0f921"
             ]
            ],
            "type": "contour"
           }
          ],
          "contourcarpet": [
           {
            "colorbar": {
             "outlinewidth": 0,
             "ticks": ""
            },
            "type": "contourcarpet"
           }
          ],
          "heatmap": [
           {
            "colorbar": {
             "outlinewidth": 0,
             "ticks": ""
            },
            "colorscale": [
             [
              0,
              "#0d0887"
             ],
             [
              0.1111111111111111,
              "#46039f"
             ],
             [
              0.2222222222222222,
              "#7201a8"
             ],
             [
              0.3333333333333333,
              "#9c179e"
             ],
             [
              0.4444444444444444,
              "#bd3786"
             ],
             [
              0.5555555555555556,
              "#d8576b"
             ],
             [
              0.6666666666666666,
              "#ed7953"
             ],
             [
              0.7777777777777778,
              "#fb9f3a"
             ],
             [
              0.8888888888888888,
              "#fdca26"
             ],
             [
              1,
              "#f0f921"
             ]
            ],
            "type": "heatmap"
           }
          ],
          "heatmapgl": [
           {
            "colorbar": {
             "outlinewidth": 0,
             "ticks": ""
            },
            "colorscale": [
             [
              0,
              "#0d0887"
             ],
             [
              0.1111111111111111,
              "#46039f"
             ],
             [
              0.2222222222222222,
              "#7201a8"
             ],
             [
              0.3333333333333333,
              "#9c179e"
             ],
             [
              0.4444444444444444,
              "#bd3786"
             ],
             [
              0.5555555555555556,
              "#d8576b"
             ],
             [
              0.6666666666666666,
              "#ed7953"
             ],
             [
              0.7777777777777778,
              "#fb9f3a"
             ],
             [
              0.8888888888888888,
              "#fdca26"
             ],
             [
              1,
              "#f0f921"
             ]
            ],
            "type": "heatmapgl"
           }
          ],
          "histogram": [
           {
            "marker": {
             "pattern": {
              "fillmode": "overlay",
              "size": 10,
              "solidity": 0.2
             }
            },
            "type": "histogram"
           }
          ],
          "histogram2d": [
           {
            "colorbar": {
             "outlinewidth": 0,
             "ticks": ""
            },
            "colorscale": [
             [
              0,
              "#0d0887"
             ],
             [
              0.1111111111111111,
              "#46039f"
             ],
             [
              0.2222222222222222,
              "#7201a8"
             ],
             [
              0.3333333333333333,
              "#9c179e"
             ],
             [
              0.4444444444444444,
              "#bd3786"
             ],
             [
              0.5555555555555556,
              "#d8576b"
             ],
             [
              0.6666666666666666,
              "#ed7953"
             ],
             [
              0.7777777777777778,
              "#fb9f3a"
             ],
             [
              0.8888888888888888,
              "#fdca26"
             ],
             [
              1,
              "#f0f921"
             ]
            ],
            "type": "histogram2d"
           }
          ],
          "histogram2dcontour": [
           {
            "colorbar": {
             "outlinewidth": 0,
             "ticks": ""
            },
            "colorscale": [
             [
              0,
              "#0d0887"
             ],
             [
              0.1111111111111111,
              "#46039f"
             ],
             [
              0.2222222222222222,
              "#7201a8"
             ],
             [
              0.3333333333333333,
              "#9c179e"
             ],
             [
              0.4444444444444444,
              "#bd3786"
             ],
             [
              0.5555555555555556,
              "#d8576b"
             ],
             [
              0.6666666666666666,
              "#ed7953"
             ],
             [
              0.7777777777777778,
              "#fb9f3a"
             ],
             [
              0.8888888888888888,
              "#fdca26"
             ],
             [
              1,
              "#f0f921"
             ]
            ],
            "type": "histogram2dcontour"
           }
          ],
          "mesh3d": [
           {
            "colorbar": {
             "outlinewidth": 0,
             "ticks": ""
            },
            "type": "mesh3d"
           }
          ],
          "parcoords": [
           {
            "line": {
             "colorbar": {
              "outlinewidth": 0,
              "ticks": ""
             }
            },
            "type": "parcoords"
           }
          ],
          "pie": [
           {
            "automargin": true,
            "type": "pie"
           }
          ],
          "scatter": [
           {
            "fillpattern": {
             "fillmode": "overlay",
             "size": 10,
             "solidity": 0.2
            },
            "type": "scatter"
           }
          ],
          "scatter3d": [
           {
            "line": {
             "colorbar": {
              "outlinewidth": 0,
              "ticks": ""
             }
            },
            "marker": {
             "colorbar": {
              "outlinewidth": 0,
              "ticks": ""
             }
            },
            "type": "scatter3d"
           }
          ],
          "scattercarpet": [
           {
            "marker": {
             "colorbar": {
              "outlinewidth": 0,
              "ticks": ""
             }
            },
            "type": "scattercarpet"
           }
          ],
          "scattergeo": [
           {
            "marker": {
             "colorbar": {
              "outlinewidth": 0,
              "ticks": ""
             }
            },
            "type": "scattergeo"
           }
          ],
          "scattergl": [
           {
            "marker": {
             "colorbar": {
              "outlinewidth": 0,
              "ticks": ""
             }
            },
            "type": "scattergl"
           }
          ],
          "scattermapbox": [
           {
            "marker": {
             "colorbar": {
              "outlinewidth": 0,
              "ticks": ""
             }
            },
            "type": "scattermapbox"
           }
          ],
          "scatterpolar": [
           {
            "marker": {
             "colorbar": {
              "outlinewidth": 0,
              "ticks": ""
             }
            },
            "type": "scatterpolar"
           }
          ],
          "scatterpolargl": [
           {
            "marker": {
             "colorbar": {
              "outlinewidth": 0,
              "ticks": ""
             }
            },
            "type": "scatterpolargl"
           }
          ],
          "scatterternary": [
           {
            "marker": {
             "colorbar": {
              "outlinewidth": 0,
              "ticks": ""
             }
            },
            "type": "scatterternary"
           }
          ],
          "surface": [
           {
            "colorbar": {
             "outlinewidth": 0,
             "ticks": ""
            },
            "colorscale": [
             [
              0,
              "#0d0887"
             ],
             [
              0.1111111111111111,
              "#46039f"
             ],
             [
              0.2222222222222222,
              "#7201a8"
             ],
             [
              0.3333333333333333,
              "#9c179e"
             ],
             [
              0.4444444444444444,
              "#bd3786"
             ],
             [
              0.5555555555555556,
              "#d8576b"
             ],
             [
              0.6666666666666666,
              "#ed7953"
             ],
             [
              0.7777777777777778,
              "#fb9f3a"
             ],
             [
              0.8888888888888888,
              "#fdca26"
             ],
             [
              1,
              "#f0f921"
             ]
            ],
            "type": "surface"
           }
          ],
          "table": [
           {
            "cells": {
             "fill": {
              "color": "#EBF0F8"
             },
             "line": {
              "color": "white"
             }
            },
            "header": {
             "fill": {
              "color": "#C8D4E3"
             },
             "line": {
              "color": "white"
             }
            },
            "type": "table"
           }
          ]
         },
         "layout": {
          "annotationdefaults": {
           "arrowcolor": "#2a3f5f",
           "arrowhead": 0,
           "arrowwidth": 1
          },
          "autotypenumbers": "strict",
          "coloraxis": {
           "colorbar": {
            "outlinewidth": 0,
            "ticks": ""
           }
          },
          "colorscale": {
           "diverging": [
            [
             0,
             "#8e0152"
            ],
            [
             0.1,
             "#c51b7d"
            ],
            [
             0.2,
             "#de77ae"
            ],
            [
             0.3,
             "#f1b6da"
            ],
            [
             0.4,
             "#fde0ef"
            ],
            [
             0.5,
             "#f7f7f7"
            ],
            [
             0.6,
             "#e6f5d0"
            ],
            [
             0.7,
             "#b8e186"
            ],
            [
             0.8,
             "#7fbc41"
            ],
            [
             0.9,
             "#4d9221"
            ],
            [
             1,
             "#276419"
            ]
           ],
           "sequential": [
            [
             0,
             "#0d0887"
            ],
            [
             0.1111111111111111,
             "#46039f"
            ],
            [
             0.2222222222222222,
             "#7201a8"
            ],
            [
             0.3333333333333333,
             "#9c179e"
            ],
            [
             0.4444444444444444,
             "#bd3786"
            ],
            [
             0.5555555555555556,
             "#d8576b"
            ],
            [
             0.6666666666666666,
             "#ed7953"
            ],
            [
             0.7777777777777778,
             "#fb9f3a"
            ],
            [
             0.8888888888888888,
             "#fdca26"
            ],
            [
             1,
             "#f0f921"
            ]
           ],
           "sequentialminus": [
            [
             0,
             "#0d0887"
            ],
            [
             0.1111111111111111,
             "#46039f"
            ],
            [
             0.2222222222222222,
             "#7201a8"
            ],
            [
             0.3333333333333333,
             "#9c179e"
            ],
            [
             0.4444444444444444,
             "#bd3786"
            ],
            [
             0.5555555555555556,
             "#d8576b"
            ],
            [
             0.6666666666666666,
             "#ed7953"
            ],
            [
             0.7777777777777778,
             "#fb9f3a"
            ],
            [
             0.8888888888888888,
             "#fdca26"
            ],
            [
             1,
             "#f0f921"
            ]
           ]
          },
          "colorway": [
           "#636efa",
           "#EF553B",
           "#00cc96",
           "#ab63fa",
           "#FFA15A",
           "#19d3f3",
           "#FF6692",
           "#B6E880",
           "#FF97FF",
           "#FECB52"
          ],
          "font": {
           "color": "#2a3f5f"
          },
          "geo": {
           "bgcolor": "white",
           "lakecolor": "white",
           "landcolor": "#E5ECF6",
           "showlakes": true,
           "showland": true,
           "subunitcolor": "white"
          },
          "hoverlabel": {
           "align": "left"
          },
          "hovermode": "closest",
          "mapbox": {
           "style": "light"
          },
          "paper_bgcolor": "white",
          "plot_bgcolor": "#E5ECF6",
          "polar": {
           "angularaxis": {
            "gridcolor": "white",
            "linecolor": "white",
            "ticks": ""
           },
           "bgcolor": "#E5ECF6",
           "radialaxis": {
            "gridcolor": "white",
            "linecolor": "white",
            "ticks": ""
           }
          },
          "scene": {
           "xaxis": {
            "backgroundcolor": "#E5ECF6",
            "gridcolor": "white",
            "gridwidth": 2,
            "linecolor": "white",
            "showbackground": true,
            "ticks": "",
            "zerolinecolor": "white"
           },
           "yaxis": {
            "backgroundcolor": "#E5ECF6",
            "gridcolor": "white",
            "gridwidth": 2,
            "linecolor": "white",
            "showbackground": true,
            "ticks": "",
            "zerolinecolor": "white"
           },
           "zaxis": {
            "backgroundcolor": "#E5ECF6",
            "gridcolor": "white",
            "gridwidth": 2,
            "linecolor": "white",
            "showbackground": true,
            "ticks": "",
            "zerolinecolor": "white"
           }
          },
          "shapedefaults": {
           "line": {
            "color": "#2a3f5f"
           }
          },
          "ternary": {
           "aaxis": {
            "gridcolor": "white",
            "linecolor": "white",
            "ticks": ""
           },
           "baxis": {
            "gridcolor": "white",
            "linecolor": "white",
            "ticks": ""
           },
           "bgcolor": "#E5ECF6",
           "caxis": {
            "gridcolor": "white",
            "linecolor": "white",
            "ticks": ""
           }
          },
          "title": {
           "x": 0.05
          },
          "xaxis": {
           "automargin": true,
           "gridcolor": "white",
           "linecolor": "white",
           "ticks": "",
           "title": {
            "standoff": 15
           },
           "zerolinecolor": "white",
           "zerolinewidth": 2
          },
          "yaxis": {
           "automargin": true,
           "gridcolor": "white",
           "linecolor": "white",
           "ticks": "",
           "title": {
            "standoff": 15
           },
           "zerolinecolor": "white",
           "zerolinewidth": 2
          }
         }
        },
        "xaxis": {
         "anchor": "y",
         "domain": [
          0,
          0.49
         ],
         "title": {
          "text": "variable"
         }
        },
        "xaxis2": {
         "anchor": "y2",
         "domain": [
          0.51,
          1
         ],
         "matches": "x",
         "title": {
          "text": "variable"
         }
        },
        "yaxis": {
         "anchor": "x",
         "domain": [
          0,
          1
         ],
         "title": {
          "text": "value"
         }
        },
        "yaxis2": {
         "anchor": "x2",
         "domain": [
          0,
          1
         ],
         "matches": "y",
         "showticklabels": false
        }
       }
      },
      "text/html": [
       "<div>                            <div id=\"a051e978-80d0-4e35-a30a-f35ce795cec6\" class=\"plotly-graph-div\" style=\"height:525px; width:100%;\"></div>            <script type=\"text/javascript\">                require([\"plotly\"], function(Plotly) {                    window.PLOTLYENV=window.PLOTLYENV || {};                                    if (document.getElementById(\"a051e978-80d0-4e35-a30a-f35ce795cec6\")) {                    Plotly.newPlot(                        \"a051e978-80d0-4e35-a30a-f35ce795cec6\",                        [{\"hovertemplate\":\"ID=GO:0072488\\u003cbr\\u003eCTAffiliation=False\\u003cbr\\u003evariable=%{x}\\u003cbr\\u003evalue=%{y}\\u003cextra\\u003e\\u003c\\u002fextra\\u003e\",\"legendgroup\":\"GO:0072488\",\"line\":{\"color\":\"#636efa\",\"dash\":\"solid\"},\"marker\":{\"symbol\":\"circle\"},\"mode\":\"lines\",\"name\":\"GO:0072488\",\"orientation\":\"v\",\"showlegend\":true,\"x\":[\"0\",\"0.005\",\"0.01\",\"0.015\",\"0.02\",\"0.025\",\"0.03\",\"0.035\",\"0.04\",\"0.045\",\"0.05\",\"0.055\",\"0.06\",\"0.065\",\"0.07\",\"0.075\",\"0.08\",\"0.085\",\"0.09\",\"0.095\",\"0.1\",\"0.3\",\"0.5\",\"0.7\",\"0.9\",\"1\"],\"xaxis\":\"x\",\"y\":[0.189647365144054,0.824078790966208,0.863842191656761,0.619771325069338,0.664487462500708,0.746617988339843,0.666893077489104,0.529348502858437,0.724599535857814,0.808088526631573,0.755532914473312,0.730939038886059,0.868172298635875,0.692647308541348,0.80206033848418,0.682543725590083,0.888747382124866,0.733684270108111,0.842616177053263,0.796824588215317,0.805909322465614,0.885407822493915,0.925935359710194,0.896445350087734,0.613601630157922,0.918916624214637],\"yaxis\":\"y\",\"type\":\"scatter\"},{\"hovertemplate\":\"ID=GO:0046940\\u003cbr\\u003eCTAffiliation=False\\u003cbr\\u003evariable=%{x}\\u003cbr\\u003evalue=%{y}\\u003cextra\\u003e\\u003c\\u002fextra\\u003e\",\"legendgroup\":\"GO:0046940\",\"line\":{\"color\":\"#EF553B\",\"dash\":\"solid\"},\"marker\":{\"symbol\":\"circle\"},\"mode\":\"lines\",\"name\":\"GO:0046940\",\"orientation\":\"v\",\"showlegend\":true,\"x\":[\"0\",\"0.005\",\"0.01\",\"0.015\",\"0.02\",\"0.025\",\"0.03\",\"0.035\",\"0.04\",\"0.045\",\"0.05\",\"0.055\",\"0.06\",\"0.065\",\"0.07\",\"0.075\",\"0.08\",\"0.085\",\"0.09\",\"0.095\",\"0.1\",\"0.3\",\"0.5\",\"0.7\",\"0.9\",\"1\"],\"xaxis\":\"x\",\"y\":[0.270504218334183,0.304371213408074,0.47119359039692,0.261366853519053,0.450823849159164,0.396799445105034,0.436342789196535,0.505117207406149,0.470599060075873,0.475404846837665,0.399071400260461,0.550266123096087,0.33491874752279,0.459069418492724,0.379168789989242,0.484740388426476,0.506263801596739,0.589363569446804,0.591444425570466,0.605479587792311,0.406389785402865,0.342470698148463,0.694885623690618,0.391349583828775,0.503729969990374,0.392658966083461],\"yaxis\":\"y\",\"type\":\"scatter\"},{\"hovertemplate\":\"ID=GO:0033344\\u003cbr\\u003eCTAffiliation=False\\u003cbr\\u003evariable=%{x}\\u003cbr\\u003evalue=%{y}\\u003cextra\\u003e\\u003c\\u002fextra\\u003e\",\"legendgroup\":\"GO:0033344\",\"line\":{\"color\":\"#00cc96\",\"dash\":\"solid\"},\"marker\":{\"symbol\":\"circle\"},\"mode\":\"lines\",\"name\":\"GO:0033344\",\"orientation\":\"v\",\"showlegend\":true,\"x\":[\"0\",\"0.005\",\"0.01\",\"0.015\",\"0.02\",\"0.025\",\"0.03\",\"0.035\",\"0.04\",\"0.045\",\"0.05\",\"0.055\",\"0.06\",\"0.065\",\"0.07\",\"0.075\",\"0.08\",\"0.085\",\"0.09\",\"0.095\",\"0.1\",\"0.3\",\"0.5\",\"0.7\",\"0.9\",\"1\"],\"xaxis\":\"x\",\"y\":[0.269491417403127,0.514615907545887,0.563243541808294,0.489717878993882,0.504524983004759,0.435765069113981,0.524770564242012,0.53226263312939,0.656823589394969,0.607020450940403,0.382931112621799,0.383044414230682,0.498909472014503,0.463106163607523,0.3793762746431,0.421276625878087,0.387781837752096,0.402376501246318,0.362090697937911,0.457023283480625,0.292417289825516,0.525032574212554,0.530124065261727,0.296000453206436,0.532772490369363,0.52527334013143],\"yaxis\":\"y\",\"type\":\"scatter\"},{\"hovertemplate\":\"ID=GO:0061045\\u003cbr\\u003eCTAffiliation=True\\u003cbr\\u003evariable=%{x}\\u003cbr\\u003evalue=%{y}\\u003cextra\\u003e\\u003c\\u002fextra\\u003e\",\"legendgroup\":\"GO:0061045\",\"line\":{\"color\":\"#ab63fa\",\"dash\":\"solid\"},\"marker\":{\"symbol\":\"circle\"},\"mode\":\"lines\",\"name\":\"GO:0061045\",\"orientation\":\"v\",\"showlegend\":true,\"x\":[\"0\",\"0.005\",\"0.01\",\"0.015\",\"0.02\",\"0.025\",\"0.03\",\"0.035\",\"0.04\",\"0.045\",\"0.05\",\"0.055\",\"0.06\",\"0.065\",\"0.07\",\"0.075\",\"0.08\",\"0.085\",\"0.09\",\"0.095\",\"0.1\",\"0.3\",\"0.5\",\"0.7\",\"0.9\",\"1\"],\"xaxis\":\"x2\",\"y\":[0.266083361649111,0.746488843583645,0.473760712802507,0.511316872427984,0.641305168573262,0.537716615698267,0.559085589156945,0.634197908407898,0.575499301544154,0.622192018726168,0.500471929625854,0.579708913806773,0.625108543813946,0.585145543096613,0.505804734398007,0.536517914448597,0.616123003737683,0.487172952769283,0.577792879525805,0.417997508211575,0.429880696190584,0.631857137463661,0.539878053384679,0.46235889304187,0.617114055951976,0.331181334239438],\"yaxis\":\"y2\",\"type\":\"scatter\"},{\"hovertemplate\":\"ID=GO:0018216\\u003cbr\\u003eCTAffiliation=False\\u003cbr\\u003evariable=%{x}\\u003cbr\\u003evalue=%{y}\\u003cextra\\u003e\\u003c\\u002fextra\\u003e\",\"legendgroup\":\"GO:0018216\",\"line\":{\"color\":\"#FFA15A\",\"dash\":\"solid\"},\"marker\":{\"symbol\":\"circle\"},\"mode\":\"lines\",\"name\":\"GO:0018216\",\"orientation\":\"v\",\"showlegend\":true,\"x\":[\"0\",\"0.005\",\"0.01\",\"0.015\",\"0.02\",\"0.025\",\"0.03\",\"0.035\",\"0.04\",\"0.045\",\"0.05\",\"0.055\",\"0.06\",\"0.065\",\"0.07\",\"0.075\",\"0.08\",\"0.085\",\"0.09\",\"0.095\",\"0.1\",\"0.3\",\"0.5\",\"0.7\",\"0.9\",\"1\"],\"xaxis\":\"x\",\"y\":[0.258301486199575,0.448747346072187,0.444529370134466,0.390460014154282,0.264274593064402,0.54484076433121,0.289723991507431,0.41791932059448,0.316503892427459,0.310474168435952,0.294975230007077,0.308605803255485,0.474734607218684,0.331167728237792,0.398867657466384,0.431224345364473,0.427813163481953,0.455909412597311,0.383878273177636,0.35651804670913,0.383906581740977,0.613347487615004,0.603411181882519,0.375527246992215,0.579518754423213,0.392186836518047],\"yaxis\":\"y\",\"type\":\"scatter\"},{\"hovertemplate\":\"ID=GO:0018344\\u003cbr\\u003eCTAffiliation=False\\u003cbr\\u003evariable=%{x}\\u003cbr\\u003evalue=%{y}\\u003cextra\\u003e\\u003c\\u002fextra\\u003e\",\"legendgroup\":\"GO:0018344\",\"line\":{\"color\":\"#19d3f3\",\"dash\":\"solid\"},\"marker\":{\"symbol\":\"circle\"},\"mode\":\"lines\",\"name\":\"GO:0018344\",\"orientation\":\"v\",\"showlegend\":true,\"x\":[\"0\",\"0.005\",\"0.01\",\"0.015\",\"0.02\",\"0.025\",\"0.03\",\"0.035\",\"0.04\",\"0.045\",\"0.05\",\"0.055\",\"0.06\",\"0.065\",\"0.07\",\"0.075\",\"0.08\",\"0.085\",\"0.09\",\"0.095\",\"0.1\",\"0.3\",\"0.5\",\"0.7\",\"0.9\",\"1\"],\"xaxis\":\"x\",\"y\":[0.255604619565217,0.704228940217391,0.717999886775362,0.69047214673913,0.686905570652174,0.678810009057971,0.746914628623188,0.691137341485507,0.688858695652174,0.680777287137681,0.74217334692029,0.715084352355073,0.683522984601449,0.669525588768116,0.715282495471015,0.699105525362319,0.727411684782609,0.731813292572464,0.740602355072464,0.744480298913043,0.741352468297101,0.794681272644927,0.783344655797101,0.794525588768116,0.811268682065217,0.810079823369565],\"yaxis\":\"y\",\"type\":\"scatter\"},{\"hovertemplate\":\"ID=GO:0060389\\u003cbr\\u003eCTAffiliation=False\\u003cbr\\u003evariable=%{x}\\u003cbr\\u003evalue=%{y}\\u003cextra\\u003e\\u003c\\u002fextra\\u003e\",\"legendgroup\":\"GO:0060389\",\"line\":{\"color\":\"#FF6692\",\"dash\":\"solid\"},\"marker\":{\"symbol\":\"circle\"},\"mode\":\"lines\",\"name\":\"GO:0060389\",\"orientation\":\"v\",\"showlegend\":true,\"x\":[\"0\",\"0.005\",\"0.01\",\"0.015\",\"0.02\",\"0.025\",\"0.03\",\"0.035\",\"0.04\",\"0.045\",\"0.05\",\"0.055\",\"0.06\",\"0.065\",\"0.07\",\"0.075\",\"0.08\",\"0.085\",\"0.09\",\"0.095\",\"0.1\",\"0.3\",\"0.5\",\"0.7\",\"0.9\",\"1\"],\"xaxis\":\"x\",\"y\":[0.253864447086801,0.473776966196705,0.320494309495499,0.379678387407282,0.66820961440462,0.425605854708114,0.495625955495159,0.452918860766661,0.480366343921635,0.494167940660212,0.405221957986524,0.385361814166808,0.52748287186456,0.541914387633769,0.578336447539777,0.269831832852047,0.457745880754204,0.325901704320254,0.431147726629296,0.686951475001416,0.400317082837891,0.663524149255422,0.618438933242738,0.488972878092973,0.405420134760206,0.547251005039352],\"yaxis\":\"y\",\"type\":\"scatter\"},{\"hovertemplate\":\"ID=GO:0036499\\u003cbr\\u003eCTAffiliation=False\\u003cbr\\u003evariable=%{x}\\u003cbr\\u003evalue=%{y}\\u003cextra\\u003e\\u003c\\u002fextra\\u003e\",\"legendgroup\":\"GO:0036499\",\"line\":{\"color\":\"#B6E880\",\"dash\":\"solid\"},\"marker\":{\"symbol\":\"circle\"},\"mode\":\"lines\",\"name\":\"GO:0036499\",\"orientation\":\"v\",\"showlegend\":true,\"x\":[\"0\",\"0.005\",\"0.01\",\"0.015\",\"0.02\",\"0.025\",\"0.03\",\"0.035\",\"0.04\",\"0.045\",\"0.05\",\"0.055\",\"0.06\",\"0.065\",\"0.07\",\"0.075\",\"0.08\",\"0.085\",\"0.09\",\"0.095\",\"0.1\",\"0.3\",\"0.5\",\"0.7\",\"0.9\",\"1\"],\"xaxis\":\"x\",\"y\":[0.246482661004954,0.383765038924275,0.43657466383581,0.313205944798301,0.509794762915782,0.280212314225053,0.297466383581033,0.294225053078556,0.411762208067941,0.393149327671621,0.432158527954706,0.504048124557679,0.308690728945506,0.439235668789809,0.572866242038217,0.40137296532201,0.542972399150743,0.444416135881104,0.437975937721161,0.519377211606511,0.363835810332626,0.551139419674451,0.473021939136589,0.549285208775655,0.351762208067941,0.468634111818825],\"yaxis\":\"y\",\"type\":\"scatter\"},{\"hovertemplate\":\"ID=GO:1904778\\u003cbr\\u003eCTAffiliation=False\\u003cbr\\u003evariable=%{x}\\u003cbr\\u003evalue=%{y}\\u003cextra\\u003e\\u003c\\u002fextra\\u003e\",\"legendgroup\":\"GO:1904778\",\"line\":{\"color\":\"#FF97FF\",\"dash\":\"solid\"},\"marker\":{\"symbol\":\"circle\"},\"mode\":\"lines\",\"name\":\"GO:1904778\",\"orientation\":\"v\",\"showlegend\":true,\"x\":[\"0\",\"0.005\",\"0.01\",\"0.015\",\"0.02\",\"0.025\",\"0.03\",\"0.035\",\"0.04\",\"0.045\",\"0.05\",\"0.055\",\"0.06\",\"0.065\",\"0.07\",\"0.075\",\"0.08\",\"0.085\",\"0.09\",\"0.095\",\"0.1\",\"0.3\",\"0.5\",\"0.7\",\"0.9\",\"1\"],\"xaxis\":\"x\",\"y\":[0.226797996094082,0.725510175200249,0.715943505703207,0.560159633183323,0.622710933740907,0.573292575924825,0.637004330474654,0.572952930853924,0.513882992273075,0.765220344739747,0.714330191616428,0.812147972035889,0.532931419999434,0.45436019359769,0.705329597237553,0.456341456511279,0.651552461011576,0.495938411027143,0.743539667713906,0.685205626786675,0.68421499532988,0.410178030624664,0.180266621380657,0.360420027737681,0.271319804138009,0.419206928759446],\"yaxis\":\"y\",\"type\":\"scatter\"},{\"hovertemplate\":\"ID=GO:0043304\\u003cbr\\u003eCTAffiliation=True\\u003cbr\\u003evariable=%{x}\\u003cbr\\u003evalue=%{y}\\u003cextra\\u003e\\u003c\\u002fextra\\u003e\",\"legendgroup\":\"GO:0043304\",\"line\":{\"color\":\"#FECB52\",\"dash\":\"solid\"},\"marker\":{\"symbol\":\"circle\"},\"mode\":\"lines\",\"name\":\"GO:0043304\",\"orientation\":\"v\",\"showlegend\":true,\"x\":[\"0\",\"0.005\",\"0.01\",\"0.015\",\"0.02\",\"0.025\",\"0.03\",\"0.035\",\"0.04\",\"0.045\",\"0.05\",\"0.055\",\"0.06\",\"0.065\",\"0.07\",\"0.075\",\"0.08\",\"0.085\",\"0.09\",\"0.095\",\"0.1\",\"0.3\",\"0.5\",\"0.7\",\"0.9\",\"1\"],\"xaxis\":\"x2\",\"y\":[0.226549449304907,0.426814651226441,0.500825806695169,0.579555857564861,0.492350670555037,0.600470001981936,0.585303472163236,0.547231424068254,0.530167898298366,0.50914993818247,0.687609124456147,0.628679558688902,0.5890408373208,0.617420274262201,0.683503685457308,0.600064176977453,0.730220749926857,0.668422095755825,0.651481261266363,0.734864143001406,0.667553819002048,0.697009164094869,0.716630331172079,0.712949592759327,0.729361910963882,0.702870032182867],\"yaxis\":\"y2\",\"type\":\"scatter\"}],                        {\"template\":{\"data\":{\"histogram2dcontour\":[{\"type\":\"histogram2dcontour\",\"colorbar\":{\"outlinewidth\":0,\"ticks\":\"\"},\"colorscale\":[[0.0,\"#0d0887\"],[0.1111111111111111,\"#46039f\"],[0.2222222222222222,\"#7201a8\"],[0.3333333333333333,\"#9c179e\"],[0.4444444444444444,\"#bd3786\"],[0.5555555555555556,\"#d8576b\"],[0.6666666666666666,\"#ed7953\"],[0.7777777777777778,\"#fb9f3a\"],[0.8888888888888888,\"#fdca26\"],[1.0,\"#f0f921\"]]}],\"choropleth\":[{\"type\":\"choropleth\",\"colorbar\":{\"outlinewidth\":0,\"ticks\":\"\"}}],\"histogram2d\":[{\"type\":\"histogram2d\",\"colorbar\":{\"outlinewidth\":0,\"ticks\":\"\"},\"colorscale\":[[0.0,\"#0d0887\"],[0.1111111111111111,\"#46039f\"],[0.2222222222222222,\"#7201a8\"],[0.3333333333333333,\"#9c179e\"],[0.4444444444444444,\"#bd3786\"],[0.5555555555555556,\"#d8576b\"],[0.6666666666666666,\"#ed7953\"],[0.7777777777777778,\"#fb9f3a\"],[0.8888888888888888,\"#fdca26\"],[1.0,\"#f0f921\"]]}],\"heatmap\":[{\"type\":\"heatmap\",\"colorbar\":{\"outlinewidth\":0,\"ticks\":\"\"},\"colorscale\":[[0.0,\"#0d0887\"],[0.1111111111111111,\"#46039f\"],[0.2222222222222222,\"#7201a8\"],[0.3333333333333333,\"#9c179e\"],[0.4444444444444444,\"#bd3786\"],[0.5555555555555556,\"#d8576b\"],[0.6666666666666666,\"#ed7953\"],[0.7777777777777778,\"#fb9f3a\"],[0.8888888888888888,\"#fdca26\"],[1.0,\"#f0f921\"]]}],\"heatmapgl\":[{\"type\":\"heatmapgl\",\"colorbar\":{\"outlinewidth\":0,\"ticks\":\"\"},\"colorscale\":[[0.0,\"#0d0887\"],[0.1111111111111111,\"#46039f\"],[0.2222222222222222,\"#7201a8\"],[0.3333333333333333,\"#9c179e\"],[0.4444444444444444,\"#bd3786\"],[0.5555555555555556,\"#d8576b\"],[0.6666666666666666,\"#ed7953\"],[0.7777777777777778,\"#fb9f3a\"],[0.8888888888888888,\"#fdca26\"],[1.0,\"#f0f921\"]]}],\"contourcarpet\":[{\"type\":\"contourcarpet\",\"colorbar\":{\"outlinewidth\":0,\"ticks\":\"\"}}],\"contour\":[{\"type\":\"contour\",\"colorbar\":{\"outlinewidth\":0,\"ticks\":\"\"},\"colorscale\":[[0.0,\"#0d0887\"],[0.1111111111111111,\"#46039f\"],[0.2222222222222222,\"#7201a8\"],[0.3333333333333333,\"#9c179e\"],[0.4444444444444444,\"#bd3786\"],[0.5555555555555556,\"#d8576b\"],[0.6666666666666666,\"#ed7953\"],[0.7777777777777778,\"#fb9f3a\"],[0.8888888888888888,\"#fdca26\"],[1.0,\"#f0f921\"]]}],\"surface\":[{\"type\":\"surface\",\"colorbar\":{\"outlinewidth\":0,\"ticks\":\"\"},\"colorscale\":[[0.0,\"#0d0887\"],[0.1111111111111111,\"#46039f\"],[0.2222222222222222,\"#7201a8\"],[0.3333333333333333,\"#9c179e\"],[0.4444444444444444,\"#bd3786\"],[0.5555555555555556,\"#d8576b\"],[0.6666666666666666,\"#ed7953\"],[0.7777777777777778,\"#fb9f3a\"],[0.8888888888888888,\"#fdca26\"],[1.0,\"#f0f921\"]]}],\"mesh3d\":[{\"type\":\"mesh3d\",\"colorbar\":{\"outlinewidth\":0,\"ticks\":\"\"}}],\"scatter\":[{\"fillpattern\":{\"fillmode\":\"overlay\",\"size\":10,\"solidity\":0.2},\"type\":\"scatter\"}],\"parcoords\":[{\"type\":\"parcoords\",\"line\":{\"colorbar\":{\"outlinewidth\":0,\"ticks\":\"\"}}}],\"scatterpolargl\":[{\"type\":\"scatterpolargl\",\"marker\":{\"colorbar\":{\"outlinewidth\":0,\"ticks\":\"\"}}}],\"bar\":[{\"error_x\":{\"color\":\"#2a3f5f\"},\"error_y\":{\"color\":\"#2a3f5f\"},\"marker\":{\"line\":{\"color\":\"#E5ECF6\",\"width\":0.5},\"pattern\":{\"fillmode\":\"overlay\",\"size\":10,\"solidity\":0.2}},\"type\":\"bar\"}],\"scattergeo\":[{\"type\":\"scattergeo\",\"marker\":{\"colorbar\":{\"outlinewidth\":0,\"ticks\":\"\"}}}],\"scatterpolar\":[{\"type\":\"scatterpolar\",\"marker\":{\"colorbar\":{\"outlinewidth\":0,\"ticks\":\"\"}}}],\"histogram\":[{\"marker\":{\"pattern\":{\"fillmode\":\"overlay\",\"size\":10,\"solidity\":0.2}},\"type\":\"histogram\"}],\"scattergl\":[{\"type\":\"scattergl\",\"marker\":{\"colorbar\":{\"outlinewidth\":0,\"ticks\":\"\"}}}],\"scatter3d\":[{\"type\":\"scatter3d\",\"line\":{\"colorbar\":{\"outlinewidth\":0,\"ticks\":\"\"}},\"marker\":{\"colorbar\":{\"outlinewidth\":0,\"ticks\":\"\"}}}],\"scattermapbox\":[{\"type\":\"scattermapbox\",\"marker\":{\"colorbar\":{\"outlinewidth\":0,\"ticks\":\"\"}}}],\"scatterternary\":[{\"type\":\"scatterternary\",\"marker\":{\"colorbar\":{\"outlinewidth\":0,\"ticks\":\"\"}}}],\"scattercarpet\":[{\"type\":\"scattercarpet\",\"marker\":{\"colorbar\":{\"outlinewidth\":0,\"ticks\":\"\"}}}],\"carpet\":[{\"aaxis\":{\"endlinecolor\":\"#2a3f5f\",\"gridcolor\":\"white\",\"linecolor\":\"white\",\"minorgridcolor\":\"white\",\"startlinecolor\":\"#2a3f5f\"},\"baxis\":{\"endlinecolor\":\"#2a3f5f\",\"gridcolor\":\"white\",\"linecolor\":\"white\",\"minorgridcolor\":\"white\",\"startlinecolor\":\"#2a3f5f\"},\"type\":\"carpet\"}],\"table\":[{\"cells\":{\"fill\":{\"color\":\"#EBF0F8\"},\"line\":{\"color\":\"white\"}},\"header\":{\"fill\":{\"color\":\"#C8D4E3\"},\"line\":{\"color\":\"white\"}},\"type\":\"table\"}],\"barpolar\":[{\"marker\":{\"line\":{\"color\":\"#E5ECF6\",\"width\":0.5},\"pattern\":{\"fillmode\":\"overlay\",\"size\":10,\"solidity\":0.2}},\"type\":\"barpolar\"}],\"pie\":[{\"automargin\":true,\"type\":\"pie\"}]},\"layout\":{\"autotypenumbers\":\"strict\",\"colorway\":[\"#636efa\",\"#EF553B\",\"#00cc96\",\"#ab63fa\",\"#FFA15A\",\"#19d3f3\",\"#FF6692\",\"#B6E880\",\"#FF97FF\",\"#FECB52\"],\"font\":{\"color\":\"#2a3f5f\"},\"hovermode\":\"closest\",\"hoverlabel\":{\"align\":\"left\"},\"paper_bgcolor\":\"white\",\"plot_bgcolor\":\"#E5ECF6\",\"polar\":{\"bgcolor\":\"#E5ECF6\",\"angularaxis\":{\"gridcolor\":\"white\",\"linecolor\":\"white\",\"ticks\":\"\"},\"radialaxis\":{\"gridcolor\":\"white\",\"linecolor\":\"white\",\"ticks\":\"\"}},\"ternary\":{\"bgcolor\":\"#E5ECF6\",\"aaxis\":{\"gridcolor\":\"white\",\"linecolor\":\"white\",\"ticks\":\"\"},\"baxis\":{\"gridcolor\":\"white\",\"linecolor\":\"white\",\"ticks\":\"\"},\"caxis\":{\"gridcolor\":\"white\",\"linecolor\":\"white\",\"ticks\":\"\"}},\"coloraxis\":{\"colorbar\":{\"outlinewidth\":0,\"ticks\":\"\"}},\"colorscale\":{\"sequential\":[[0.0,\"#0d0887\"],[0.1111111111111111,\"#46039f\"],[0.2222222222222222,\"#7201a8\"],[0.3333333333333333,\"#9c179e\"],[0.4444444444444444,\"#bd3786\"],[0.5555555555555556,\"#d8576b\"],[0.6666666666666666,\"#ed7953\"],[0.7777777777777778,\"#fb9f3a\"],[0.8888888888888888,\"#fdca26\"],[1.0,\"#f0f921\"]],\"sequentialminus\":[[0.0,\"#0d0887\"],[0.1111111111111111,\"#46039f\"],[0.2222222222222222,\"#7201a8\"],[0.3333333333333333,\"#9c179e\"],[0.4444444444444444,\"#bd3786\"],[0.5555555555555556,\"#d8576b\"],[0.6666666666666666,\"#ed7953\"],[0.7777777777777778,\"#fb9f3a\"],[0.8888888888888888,\"#fdca26\"],[1.0,\"#f0f921\"]],\"diverging\":[[0,\"#8e0152\"],[0.1,\"#c51b7d\"],[0.2,\"#de77ae\"],[0.3,\"#f1b6da\"],[0.4,\"#fde0ef\"],[0.5,\"#f7f7f7\"],[0.6,\"#e6f5d0\"],[0.7,\"#b8e186\"],[0.8,\"#7fbc41\"],[0.9,\"#4d9221\"],[1,\"#276419\"]]},\"xaxis\":{\"gridcolor\":\"white\",\"linecolor\":\"white\",\"ticks\":\"\",\"title\":{\"standoff\":15},\"zerolinecolor\":\"white\",\"automargin\":true,\"zerolinewidth\":2},\"yaxis\":{\"gridcolor\":\"white\",\"linecolor\":\"white\",\"ticks\":\"\",\"title\":{\"standoff\":15},\"zerolinecolor\":\"white\",\"automargin\":true,\"zerolinewidth\":2},\"scene\":{\"xaxis\":{\"backgroundcolor\":\"#E5ECF6\",\"gridcolor\":\"white\",\"linecolor\":\"white\",\"showbackground\":true,\"ticks\":\"\",\"zerolinecolor\":\"white\",\"gridwidth\":2},\"yaxis\":{\"backgroundcolor\":\"#E5ECF6\",\"gridcolor\":\"white\",\"linecolor\":\"white\",\"showbackground\":true,\"ticks\":\"\",\"zerolinecolor\":\"white\",\"gridwidth\":2},\"zaxis\":{\"backgroundcolor\":\"#E5ECF6\",\"gridcolor\":\"white\",\"linecolor\":\"white\",\"showbackground\":true,\"ticks\":\"\",\"zerolinecolor\":\"white\",\"gridwidth\":2}},\"shapedefaults\":{\"line\":{\"color\":\"#2a3f5f\"}},\"annotationdefaults\":{\"arrowcolor\":\"#2a3f5f\",\"arrowhead\":0,\"arrowwidth\":1},\"geo\":{\"bgcolor\":\"white\",\"landcolor\":\"#E5ECF6\",\"subunitcolor\":\"white\",\"showland\":true,\"showlakes\":true,\"lakecolor\":\"white\"},\"title\":{\"x\":0.05},\"mapbox\":{\"style\":\"light\"}}},\"xaxis\":{\"anchor\":\"y\",\"domain\":[0.0,0.49],\"title\":{\"text\":\"variable\"}},\"yaxis\":{\"anchor\":\"x\",\"domain\":[0.0,1.0],\"title\":{\"text\":\"value\"}},\"xaxis2\":{\"anchor\":\"y2\",\"domain\":[0.51,1.0],\"matches\":\"x\",\"title\":{\"text\":\"variable\"}},\"yaxis2\":{\"anchor\":\"x2\",\"domain\":[0.0,1.0],\"matches\":\"y\",\"showticklabels\":false},\"annotations\":[{\"font\":{},\"showarrow\":false,\"text\":\"CTAffiliation=False\",\"x\":0.245,\"xanchor\":\"center\",\"xref\":\"paper\",\"y\":1.0,\"yanchor\":\"bottom\",\"yref\":\"paper\"},{\"font\":{},\"showarrow\":false,\"text\":\"CTAffiliation=True\",\"x\":0.755,\"xanchor\":\"center\",\"xref\":\"paper\",\"y\":1.0,\"yanchor\":\"bottom\",\"yref\":\"paper\"}],\"legend\":{\"title\":{\"text\":\"ID\"},\"tracegroupgap\":0},\"margin\":{\"t\":60}},                        {\"responsive\": true}                    ).then(function(){\n",
       "                            \n",
       "var gd = document.getElementById('a051e978-80d0-4e35-a30a-f35ce795cec6');\n",
       "var x = new MutationObserver(function (mutations, observer) {{\n",
       "        var display = window.getComputedStyle(gd).display;\n",
       "        if (!display || display === 'none') {{\n",
       "            console.log([gd, 'removed!']);\n",
       "            Plotly.purge(gd);\n",
       "            observer.disconnect();\n",
       "        }}\n",
       "}});\n",
       "\n",
       "// Listen for the removal of the full notebook cells\n",
       "var notebookContainer = gd.closest('#notebook-container');\n",
       "if (notebookContainer) {{\n",
       "    x.observe(notebookContainer, {childList: true});\n",
       "}}\n",
       "\n",
       "// Listen for the clearing of the current output cell\n",
       "var outputEl = gd.closest('.output');\n",
       "if (outputEl) {{\n",
       "    x.observe(outputEl, {childList: true});\n",
       "}}\n",
       "\n",
       "                        })                };                });            </script>        </div>"
      ]
     },
     "metadata": {},
     "output_type": "display_data"
    }
   ],
   "source": [
    "fig = px.line(data_frame=auc_merged_CT_melted, \n",
    "              x = \"variable\", \n",
    "              y = \"value\", \n",
    "              facet_col = \"CTAffiliation\",\n",
    "              color = 'ID')\n",
    "fig.show()"
   ]
  },
  {
   "cell_type": "code",
   "execution_count": null,
   "metadata": {},
   "outputs": [],
   "source": []
  }
 ],
 "metadata": {
  "kernelspec": {
   "display_name": "normal",
   "language": "python",
   "name": "python3"
  },
  "language_info": {
   "codemirror_mode": {
    "name": "ipython",
    "version": 3
   },
   "file_extension": ".py",
   "mimetype": "text/x-python",
   "name": "python",
   "nbconvert_exporter": "python",
   "pygments_lexer": "ipython3",
   "version": "3.9.13"
  },
  "orig_nbformat": 4
 },
 "nbformat": 4,
 "nbformat_minor": 2
}
