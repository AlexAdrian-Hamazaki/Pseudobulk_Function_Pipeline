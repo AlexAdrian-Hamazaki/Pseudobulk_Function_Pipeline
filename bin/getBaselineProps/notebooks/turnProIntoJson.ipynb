{
 "cells": [
  {
   "cell_type": "code",
   "execution_count": 3,
   "metadata": {},
   "outputs": [],
   "source": [
    "import pandas as pd\n",
    "import json"
   ]
  },
  {
   "cell_type": "markdown",
   "metadata": {},
   "source": [
    "Write the processed composition dataframes as a json file to put into the pipeline"
   ]
  },
  {
   "cell_type": "code",
   "execution_count": 2,
   "metadata": {},
   "outputs": [],
   "source": [
    "brain_pro = \"/space/grp/aadrian/Pseudobulk_Function_Pipeline_HighRes/bin/getBaselineProps/data/brain/pro/metadata.csv\"\n",
    "pbmc_pro = \"/space/grp/aadrian/Pseudobulk_Function_Pipeline_HighRes/bin/getBaselineProps/data/pbmc/pro/composition_range.csv\""
   ]
  },
  {
   "cell_type": "code",
   "execution_count": 6,
   "metadata": {},
   "outputs": [],
   "source": [
    "brain_df = pd.read_csv(brain_pro)\n",
    "pbmc_df = pd.read_csv(pbmc_pro)"
   ]
  },
  {
   "cell_type": "code",
   "execution_count": 11,
   "metadata": {},
   "outputs": [
    {
     "data": {
      "text/html": [
       "<div>\n",
       "<style scoped>\n",
       "    .dataframe tbody tr th:only-of-type {\n",
       "        vertical-align: middle;\n",
       "    }\n",
       "\n",
       "    .dataframe tbody tr th {\n",
       "        vertical-align: top;\n",
       "    }\n",
       "\n",
       "    .dataframe thead th {\n",
       "        text-align: right;\n",
       "    }\n",
       "</style>\n",
       "<table border=\"1\" class=\"dataframe\">\n",
       "  <thead>\n",
       "    <tr style=\"text-align: right;\">\n",
       "      <th></th>\n",
       "      <th>cell_type</th>\n",
       "      <th>mean</th>\n",
       "      <th>stdev</th>\n",
       "    </tr>\n",
       "  </thead>\n",
       "  <tbody>\n",
       "    <tr>\n",
       "      <th>0</th>\n",
       "      <td>astrocyte</td>\n",
       "      <td>0.154</td>\n",
       "      <td>0.033</td>\n",
       "    </tr>\n",
       "    <tr>\n",
       "      <th>1</th>\n",
       "      <td>endocyte</td>\n",
       "      <td>0.170</td>\n",
       "      <td>0.030</td>\n",
       "    </tr>\n",
       "    <tr>\n",
       "      <th>2</th>\n",
       "      <td>microglia</td>\n",
       "      <td>0.090</td>\n",
       "      <td>0.028</td>\n",
       "    </tr>\n",
       "    <tr>\n",
       "      <th>3</th>\n",
       "      <td>neuron</td>\n",
       "      <td>0.463</td>\n",
       "      <td>0.047</td>\n",
       "    </tr>\n",
       "    <tr>\n",
       "      <th>4</th>\n",
       "      <td>oligodendrocyte</td>\n",
       "      <td>0.123</td>\n",
       "      <td>0.035</td>\n",
       "    </tr>\n",
       "  </tbody>\n",
       "</table>\n",
       "</div>"
      ],
      "text/plain": [
       "         cell_type   mean  stdev\n",
       "0        astrocyte  0.154  0.033\n",
       "1         endocyte  0.170  0.030\n",
       "2        microglia  0.090  0.028\n",
       "3           neuron  0.463  0.047\n",
       "4  oligodendrocyte  0.123  0.035"
      ]
     },
     "execution_count": 11,
     "metadata": {},
     "output_type": "execute_result"
    }
   ],
   "source": [
    "brain_df.round(3)"
   ]
  },
  {
   "cell_type": "code",
   "execution_count": 10,
   "metadata": {},
   "outputs": [
    {
     "data": {
      "text/html": [
       "<div>\n",
       "<style scoped>\n",
       "    .dataframe tbody tr th:only-of-type {\n",
       "        vertical-align: middle;\n",
       "    }\n",
       "\n",
       "    .dataframe tbody tr th {\n",
       "        vertical-align: top;\n",
       "    }\n",
       "\n",
       "    .dataframe thead th {\n",
       "        text-align: right;\n",
       "    }\n",
       "</style>\n",
       "<table border=\"1\" class=\"dataframe\">\n",
       "  <thead>\n",
       "    <tr style=\"text-align: right;\">\n",
       "      <th></th>\n",
       "      <th>cell_type</th>\n",
       "      <th>mean</th>\n",
       "      <th>std</th>\n",
       "    </tr>\n",
       "  </thead>\n",
       "  <tbody>\n",
       "    <tr>\n",
       "      <th>0</th>\n",
       "      <td>monocyte</td>\n",
       "      <td>0.112</td>\n",
       "      <td>0.042</td>\n",
       "    </tr>\n",
       "    <tr>\n",
       "      <th>1</th>\n",
       "      <td>macrophages</td>\n",
       "      <td>0.097</td>\n",
       "      <td>0.025</td>\n",
       "    </tr>\n",
       "    <tr>\n",
       "      <th>2</th>\n",
       "      <td>dendritic</td>\n",
       "      <td>0.011</td>\n",
       "      <td>0.004</td>\n",
       "    </tr>\n",
       "    <tr>\n",
       "      <th>3</th>\n",
       "      <td>NK_cells</td>\n",
       "      <td>0.094</td>\n",
       "      <td>0.052</td>\n",
       "    </tr>\n",
       "    <tr>\n",
       "      <th>4</th>\n",
       "      <td>B_cells</td>\n",
       "      <td>0.056</td>\n",
       "      <td>0.021</td>\n",
       "    </tr>\n",
       "    <tr>\n",
       "      <th>5</th>\n",
       "      <td>T_cells</td>\n",
       "      <td>0.581</td>\n",
       "      <td>0.125</td>\n",
       "    </tr>\n",
       "    <tr>\n",
       "      <th>6</th>\n",
       "      <td>platelets</td>\n",
       "      <td>0.048</td>\n",
       "      <td>0.038</td>\n",
       "    </tr>\n",
       "  </tbody>\n",
       "</table>\n",
       "</div>"
      ],
      "text/plain": [
       "     cell_type   mean    std\n",
       "0     monocyte  0.112  0.042\n",
       "1  macrophages  0.097  0.025\n",
       "2    dendritic  0.011  0.004\n",
       "3     NK_cells  0.094  0.052\n",
       "4      B_cells  0.056  0.021\n",
       "5      T_cells  0.581  0.125\n",
       "6    platelets  0.048  0.038"
      ]
     },
     "execution_count": 10,
     "metadata": {},
     "output_type": "execute_result"
    }
   ],
   "source": [
    "pbmc_df.round(3)"
   ]
  },
  {
   "cell_type": "code",
   "execution_count": 12,
   "metadata": {},
   "outputs": [],
   "source": [
    "new_json = {\n",
    "    \"pbmc_sc_with_metadata_cpm_pc_cell_type_profiles.csv\": {\n",
    "        \"B-cells\": [0.056, 0.021],\n",
    "        \"Dendritic cells\": [0.011, 0.004],\n",
    "        \"Macrophages\": [0.097, 0.025],\n",
    "        \"Monocytes\": [0.112, 0.042],\n",
    "        \"Nk-cells\": [0.094, 0.052],\n",
    "        \"Platelets\": [0.048, 0.038],\n",
    "        \"T-cells\": [0.581, 0.125],\n",
    "    },\n",
    "\n",
    "    \"brain_sc_with_metadata_cpm_pc_cell_type_profiles.csv\":{\n",
    "        \"Astrocytes\": [0.154, 0.033],\n",
    "        \"Excitatory neurons\": [0.324, 0.047],\n",
    "        \"Inhibitory neurons\": [0.139, 0.047],\n",
    "        \"Microglial cells\": [0.090, 0.028],\n",
    "        \"Oligodendrocytes\": [0.123, 0.035],\n",
    "        \"Endocyte\": [0.170, 0.030]\n",
    "    }\n",
    "}\n",
    "\n",
    "json_string = json.dumps(new_json)\n",
    "\n",
    "with open('../cell_type_proportions2.json', 'w') as json_file:\n",
    "    json_file.write(json_string)"
   ]
  }
 ],
 "metadata": {
  "kernelspec": {
   "display_name": "PseudoPipelineEnv",
   "language": "python",
   "name": "python3"
  },
  "language_info": {
   "codemirror_mode": {
    "name": "ipython",
    "version": 3
   },
   "file_extension": ".py",
   "mimetype": "text/x-python",
   "name": "python",
   "nbconvert_exporter": "python",
   "pygments_lexer": "ipython3",
   "version": "3.9.13"
  }
 },
 "nbformat": 4,
 "nbformat_minor": 2
}
