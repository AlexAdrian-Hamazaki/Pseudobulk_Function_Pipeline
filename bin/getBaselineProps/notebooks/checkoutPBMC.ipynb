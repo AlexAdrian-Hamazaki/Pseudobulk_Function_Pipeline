{
 "cells": [
  {
   "cell_type": "code",
   "execution_count": null,
   "metadata": {},
   "outputs": [],
   "source": [
    "import pandas as pd"
   ]
  },
  {
   "cell_type": "code",
   "execution_count": null,
   "metadata": {},
   "outputs": [],
   "source": [
    "df = pd.read_csv(\"/space/grp/aadrian/Pseudobulk_Function_Pipeline_HighRes/bin/getBaselineProps/data/pbmc/raw/composition_range.csv\", index_col=0)\n",
    "df"
   ]
  },
  {
   "cell_type": "code",
   "execution_count": null,
   "metadata": {},
   "outputs": [],
   "source": [
    "# Arbitrarily choose this\n",
    "df.loc[\"macrophages\",\"mean\"] = 10\n",
    "df.loc[\"macrophages\",\"lower\"] = 5\n",
    "df.loc[\"macrophages\",\"upper\"] = 15\n",
    "\n",
    "df.loc[\"platelets\",\"mean\"] = 5\n",
    "df.loc[\"platelets\",\"lower\"] = 7.5\n",
    "df.loc[\"platelets\",\"upper\"] = 12.5"
   ]
  },
  {
   "cell_type": "code",
   "execution_count": null,
   "metadata": {},
   "outputs": [],
   "source": [
    "# Calculate the \"standard deviations\" for each cell type\n",
    "# Here, I'm going to assume the uppe and lower bound are 2 stds away from the mean\n",
    "std_2 = df.loc[:,'upper'] - df.loc[:,'mean']\n",
    "std_1 = std_2/2"
   ]
  },
  {
   "cell_type": "code",
   "execution_count": null,
   "metadata": {},
   "outputs": [],
   "source": [
    "df_fin = pd.concat([df.loc[:,'mean'], std_1], axis = 1)\n",
    "df_fin.columns = ['mean', 'std']"
   ]
  },
  {
   "cell_type": "code",
   "execution_count": null,
   "metadata": {},
   "outputs": [],
   "source": [
    "# Rescale the 'Values' column to sum to 100 using the div function\n",
    "df_fin['mean'] = df_fin['mean'].div(df_fin['mean'].sum())"
   ]
  },
  {
   "cell_type": "code",
   "execution_count": null,
   "metadata": {},
   "outputs": [],
   "source": [
    "df_fin['std'] = df_fin['std']/100"
   ]
  },
  {
   "cell_type": "code",
   "execution_count": null,
   "metadata": {},
   "outputs": [],
   "source": [
    "df_fin.to_csv(\"../data/pbmc/pro/composition_range.csv\")"
   ]
  }
 ],
 "metadata": {
  "language_info": {
   "name": "python"
  }
 },
 "nbformat": 4,
 "nbformat_minor": 2
}
