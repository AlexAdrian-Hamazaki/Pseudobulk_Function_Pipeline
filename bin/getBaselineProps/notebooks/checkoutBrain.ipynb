{
 "cells": [
  {
   "cell_type": "code",
   "execution_count": 32,
   "metadata": {},
   "outputs": [],
   "source": [
    "import pandas as pd"
   ]
  },
  {
   "cell_type": "markdown",
   "metadata": {},
   "source": [
    "purpose: Concat all of the raw brain proportions together, and then drop the alzheimers samples\n"
   ]
  },
  {
   "cell_type": "markdown",
   "metadata": {},
   "source": [
    "These are from https://github.com/ellispatrick/CortexCellDeconv/tree/master/CellTypeDeconvAnalysis/Data"
   ]
  },
  {
   "cell_type": "code",
   "execution_count": 63,
   "metadata": {},
   "outputs": [],
   "source": [
    "astro = \"/space/grp/aadrian/Pseudobulk_Function_Pipeline_HighRes/bin/getBaselineProps/data/brain/raw/IHC.astro.txt\"\n",
    "endo =  \"/space/grp/aadrian/Pseudobulk_Function_Pipeline_HighRes/bin/getBaselineProps/data/brain/raw/IHC.endo.txt\"\n",
    "micro = \"/space/grp/aadrian/Pseudobulk_Function_Pipeline_HighRes/bin/getBaselineProps/data/brain/raw/IHC.microglia.txt\"\n",
    "neuro = \"/space/grp/aadrian/Pseudobulk_Function_Pipeline_HighRes/bin/getBaselineProps/data/brain/raw/IHC.neuro.txt\"\n",
    "oligo = \"/space/grp/aadrian/Pseudobulk_Function_Pipeline_HighRes/bin/getBaselineProps/data/brain/raw/IHC.oligo.txt\"\n",
    "\n",
    "lo_paths = [astro, endo, micro, neuro, oligo]"
   ]
  },
  {
   "cell_type": "markdown",
   "metadata": {},
   "source": [
    "Load all dfs"
   ]
  },
  {
   "cell_type": "code",
   "execution_count": 64,
   "metadata": {},
   "outputs": [],
   "source": [
    "lodfs = [pd.read_csv(path, index_col=0, sep = \"\\t\") for path in lo_paths]"
   ]
  },
  {
   "cell_type": "markdown",
   "metadata": {},
   "source": [
    "Merge the dfs via the column id"
   ]
  },
  {
   "cell_type": "code",
   "execution_count": 81,
   "metadata": {},
   "outputs": [],
   "source": [
    "merged_df = pd.concat(lodfs, axis = 0)"
   ]
  },
  {
   "cell_type": "markdown",
   "metadata": {},
   "source": [
    "Load info on which were alzheimers"
   ]
  },
  {
   "cell_type": "code",
   "execution_count": 84,
   "metadata": {},
   "outputs": [],
   "source": [
    "meta = pd.read_csv(\"/space/grp/aadrian/Pseudobulk_Function_Pipeline_HighRes/bin/getBaselineProps/data/brain/pcbi.1008120.s001.csv\")"
   ]
  },
  {
   "cell_type": "code",
   "execution_count": 108,
   "metadata": {},
   "outputs": [],
   "source": [
    "healthy_ids = meta[meta.clinicalAD==0].projID.astype(str)"
   ]
  },
  {
   "cell_type": "markdown",
   "metadata": {},
   "source": [
    "Subset our data for only healthy samples"
   ]
  },
  {
   "cell_type": "code",
   "execution_count": 112,
   "metadata": {},
   "outputs": [],
   "source": [
    "merged_df = merged_df.iloc[:,merged_df.columns.isin(healthy_ids)]"
   ]
  },
  {
   "cell_type": "code",
   "execution_count": 116,
   "metadata": {},
   "outputs": [
    {
     "data": {
      "text/html": [
       "<div>\n",
       "<style scoped>\n",
       "    .dataframe tbody tr th:only-of-type {\n",
       "        vertical-align: middle;\n",
       "    }\n",
       "\n",
       "    .dataframe tbody tr th {\n",
       "        vertical-align: top;\n",
       "    }\n",
       "\n",
       "    .dataframe thead th {\n",
       "        text-align: right;\n",
       "    }\n",
       "</style>\n",
       "<table border=\"1\" class=\"dataframe\">\n",
       "  <thead>\n",
       "    <tr style=\"text-align: right;\">\n",
       "      <th></th>\n",
       "      <th>10203224</th>\n",
       "      <th>10208143</th>\n",
       "      <th>10249336</th>\n",
       "      <th>10253148</th>\n",
       "      <th>10260309</th>\n",
       "      <th>10271474</th>\n",
       "      <th>10288185</th>\n",
       "      <th>10291856</th>\n",
       "      <th>10292311</th>\n",
       "      <th>10300914</th>\n",
       "      <th>...</th>\n",
       "      <th>11399321</th>\n",
       "      <th>11409232</th>\n",
       "      <th>11440263</th>\n",
       "      <th>11455530</th>\n",
       "      <th>11466579</th>\n",
       "      <th>11467746</th>\n",
       "      <th>11469504</th>\n",
       "      <th>10536568</th>\n",
       "      <th>11165535</th>\n",
       "      <th>11460357</th>\n",
       "    </tr>\n",
       "    <tr>\n",
       "      <th>cell_type</th>\n",
       "      <th></th>\n",
       "      <th></th>\n",
       "      <th></th>\n",
       "      <th></th>\n",
       "      <th></th>\n",
       "      <th></th>\n",
       "      <th></th>\n",
       "      <th></th>\n",
       "      <th></th>\n",
       "      <th></th>\n",
       "      <th></th>\n",
       "      <th></th>\n",
       "      <th></th>\n",
       "      <th></th>\n",
       "      <th></th>\n",
       "      <th></th>\n",
       "      <th></th>\n",
       "      <th></th>\n",
       "      <th></th>\n",
       "      <th></th>\n",
       "      <th></th>\n",
       "    </tr>\n",
       "  </thead>\n",
       "  <tbody>\n",
       "    <tr>\n",
       "      <th>astrocyte</th>\n",
       "      <td>0.127007</td>\n",
       "      <td>0.188298</td>\n",
       "      <td>0.163943</td>\n",
       "      <td>0.218107</td>\n",
       "      <td>0.121135</td>\n",
       "      <td>0.185678</td>\n",
       "      <td>0.138182</td>\n",
       "      <td>0.176449</td>\n",
       "      <td>0.226169</td>\n",
       "      <td>0.208942</td>\n",
       "      <td>...</td>\n",
       "      <td>0.103306</td>\n",
       "      <td>0.207627</td>\n",
       "      <td>0.212598</td>\n",
       "      <td>0.244828</td>\n",
       "      <td>0.140233</td>\n",
       "      <td>0.232650</td>\n",
       "      <td>0.189227</td>\n",
       "      <td>NaN</td>\n",
       "      <td>NaN</td>\n",
       "      <td>NaN</td>\n",
       "    </tr>\n",
       "    <tr>\n",
       "      <th>endocyte</th>\n",
       "      <td>0.145161</td>\n",
       "      <td>0.232975</td>\n",
       "      <td>0.182186</td>\n",
       "      <td>0.169752</td>\n",
       "      <td>0.154778</td>\n",
       "      <td>NaN</td>\n",
       "      <td>0.286680</td>\n",
       "      <td>0.317757</td>\n",
       "      <td>0.154589</td>\n",
       "      <td>0.151659</td>\n",
       "      <td>...</td>\n",
       "      <td>0.166022</td>\n",
       "      <td>0.176272</td>\n",
       "      <td>0.162678</td>\n",
       "      <td>0.215653</td>\n",
       "      <td>NaN</td>\n",
       "      <td>0.169231</td>\n",
       "      <td>0.207826</td>\n",
       "      <td>0.159884</td>\n",
       "      <td>0.144279</td>\n",
       "      <td>0.155102</td>\n",
       "    </tr>\n",
       "    <tr>\n",
       "      <th>microglia</th>\n",
       "      <td>0.095076</td>\n",
       "      <td>0.115036</td>\n",
       "      <td>0.094262</td>\n",
       "      <td>0.094401</td>\n",
       "      <td>0.089131</td>\n",
       "      <td>0.140000</td>\n",
       "      <td>0.100431</td>\n",
       "      <td>0.112069</td>\n",
       "      <td>0.073215</td>\n",
       "      <td>0.089905</td>\n",
       "      <td>...</td>\n",
       "      <td>0.080146</td>\n",
       "      <td>0.100000</td>\n",
       "      <td>0.121771</td>\n",
       "      <td>0.226766</td>\n",
       "      <td>0.029730</td>\n",
       "      <td>0.121829</td>\n",
       "      <td>0.121154</td>\n",
       "      <td>0.145214</td>\n",
       "      <td>0.161830</td>\n",
       "      <td>0.140845</td>\n",
       "    </tr>\n",
       "    <tr>\n",
       "      <th>neuron</th>\n",
       "      <td>0.498433</td>\n",
       "      <td>0.401315</td>\n",
       "      <td>0.557940</td>\n",
       "      <td>0.542185</td>\n",
       "      <td>0.508571</td>\n",
       "      <td>0.501767</td>\n",
       "      <td>0.581615</td>\n",
       "      <td>NaN</td>\n",
       "      <td>0.520833</td>\n",
       "      <td>NaN</td>\n",
       "      <td>...</td>\n",
       "      <td>0.502052</td>\n",
       "      <td>NaN</td>\n",
       "      <td>0.533981</td>\n",
       "      <td>0.494048</td>\n",
       "      <td>NaN</td>\n",
       "      <td>NaN</td>\n",
       "      <td>NaN</td>\n",
       "      <td>NaN</td>\n",
       "      <td>NaN</td>\n",
       "      <td>0.534535</td>\n",
       "    </tr>\n",
       "    <tr>\n",
       "      <th>oligodendrocyte</th>\n",
       "      <td>0.086420</td>\n",
       "      <td>0.123228</td>\n",
       "      <td>0.152610</td>\n",
       "      <td>0.139888</td>\n",
       "      <td>0.194444</td>\n",
       "      <td>0.135135</td>\n",
       "      <td>0.109522</td>\n",
       "      <td>0.158333</td>\n",
       "      <td>0.153975</td>\n",
       "      <td>0.096045</td>\n",
       "      <td>...</td>\n",
       "      <td>0.090000</td>\n",
       "      <td>0.120623</td>\n",
       "      <td>0.078117</td>\n",
       "      <td>0.089105</td>\n",
       "      <td>NaN</td>\n",
       "      <td>0.151639</td>\n",
       "      <td>0.140042</td>\n",
       "      <td>0.110000</td>\n",
       "      <td>0.201923</td>\n",
       "      <td>0.051578</td>\n",
       "    </tr>\n",
       "  </tbody>\n",
       "</table>\n",
       "<p>5 rows × 46 columns</p>\n",
       "</div>"
      ],
      "text/plain": [
       "                 10203224  10208143  10249336  10253148  10260309  10271474  \\\n",
       "cell_type                                                                     \n",
       "astrocyte        0.127007  0.188298  0.163943  0.218107  0.121135  0.185678   \n",
       "endocyte         0.145161  0.232975  0.182186  0.169752  0.154778       NaN   \n",
       "microglia        0.095076  0.115036  0.094262  0.094401  0.089131  0.140000   \n",
       "neuron           0.498433  0.401315  0.557940  0.542185  0.508571  0.501767   \n",
       "oligodendrocyte  0.086420  0.123228  0.152610  0.139888  0.194444  0.135135   \n",
       "\n",
       "                 10288185  10291856  10292311  10300914  ...  11399321  \\\n",
       "cell_type                                                ...             \n",
       "astrocyte        0.138182  0.176449  0.226169  0.208942  ...  0.103306   \n",
       "endocyte         0.286680  0.317757  0.154589  0.151659  ...  0.166022   \n",
       "microglia        0.100431  0.112069  0.073215  0.089905  ...  0.080146   \n",
       "neuron           0.581615       NaN  0.520833       NaN  ...  0.502052   \n",
       "oligodendrocyte  0.109522  0.158333  0.153975  0.096045  ...  0.090000   \n",
       "\n",
       "                 11409232  11440263  11455530  11466579  11467746  11469504  \\\n",
       "cell_type                                                                     \n",
       "astrocyte        0.207627  0.212598  0.244828  0.140233  0.232650  0.189227   \n",
       "endocyte         0.176272  0.162678  0.215653       NaN  0.169231  0.207826   \n",
       "microglia        0.100000  0.121771  0.226766  0.029730  0.121829  0.121154   \n",
       "neuron                NaN  0.533981  0.494048       NaN       NaN       NaN   \n",
       "oligodendrocyte  0.120623  0.078117  0.089105       NaN  0.151639  0.140042   \n",
       "\n",
       "                 10536568  11165535  11460357  \n",
       "cell_type                                      \n",
       "astrocyte             NaN       NaN       NaN  \n",
       "endocyte         0.159884  0.144279  0.155102  \n",
       "microglia        0.145214  0.161830  0.140845  \n",
       "neuron                NaN       NaN  0.534535  \n",
       "oligodendrocyte  0.110000  0.201923  0.051578  \n",
       "\n",
       "[5 rows x 46 columns]"
      ]
     },
     "execution_count": 116,
     "metadata": {},
     "output_type": "execute_result"
    }
   ],
   "source": [
    "# Drop columns with NA values\n",
    "merged_df = merged_df.dropna(axis=1)"
   ]
  },
  {
   "cell_type": "code",
   "execution_count": null,
   "metadata": {},
   "outputs": [],
   "source": [
    "# Scale each column to sum to 1\n",
    "scaled_df = merged_df.div(merged_df.sum())"
   ]
  },
  {
   "cell_type": "code",
   "execution_count": null,
   "metadata": {},
   "outputs": [],
   "source": [
    "baseline_proportion = scaled_df.mean(axis = 1)"
   ]
  },
  {
   "cell_type": "code",
   "execution_count": 115,
   "metadata": {},
   "outputs": [
    {
     "data": {
      "text/plain": [
       "10203224    0.952096\n",
       "10208143    1.060852\n",
       "10249336    1.150941\n",
       "10253148    1.164333\n",
       "10260309    1.068060\n",
       "10271474    0.962579\n",
       "10288185    1.216430\n",
       "10291856    0.764609\n",
       "10292311    1.128782\n",
       "10300914    0.546551\n",
       "10315029    0.936695\n",
       "10383017    1.264961\n",
       "10394182    0.989076\n",
       "10395197    1.153067\n",
       "10405008    1.008023\n",
       "10436131    1.121421\n",
       "10460587    1.053435\n",
       "10473384    1.203749\n",
       "10478041    1.005431\n",
       "10490993    1.106262\n",
       "10510090    1.074259\n",
       "10516762    1.133967\n",
       "10551157    1.053241\n",
       "10557081    1.142058\n",
       "10577337    0.856555\n",
       "10669174    1.101352\n",
       "10850171    1.117635\n",
       "10885370    1.067145\n",
       "10901987    0.972180\n",
       "10929637    1.089314\n",
       "11200645    1.098666\n",
       "11259716    1.219854\n",
       "11310844    0.855310\n",
       "11342432    1.183546\n",
       "11349119    0.599314\n",
       "11395417    1.046555\n",
       "11399321    0.941526\n",
       "11409232    0.604522\n",
       "11440263    1.109145\n",
       "11455530    1.270400\n",
       "11466579    0.169962\n",
       "11467746    0.675350\n",
       "11469504    0.658248\n",
       "10536568    0.415097\n",
       "11165535    0.508032\n",
       "11460357    0.882059\n",
       "dtype: float64"
      ]
     },
     "execution_count": 115,
     "metadata": {},
     "output_type": "execute_result"
    }
   ],
   "source": [
    "standard_dev = scaled_df.std(axis = 1)\n",
    "standard_dev"
   ]
  },
  {
   "cell_type": "code",
   "execution_count": null,
   "metadata": {},
   "outputs": [],
   "source": [
    "metadata = pd.concat([baseline_proportion, standard_dev], axis = 1)"
   ]
  },
  {
   "cell_type": "code",
   "execution_count": null,
   "metadata": {},
   "outputs": [],
   "source": [
    "metadata.columns = ('mean', 'stdev')"
   ]
  },
  {
   "cell_type": "code",
   "execution_count": null,
   "metadata": {},
   "outputs": [],
   "source": [
    "metadata.to_csv(\"../data/brain/pro/metadata.csv\")"
   ]
  }
 ],
 "metadata": {
  "kernelspec": {
   "display_name": "python3.7",
   "language": "python",
   "name": "python3"
  },
  "language_info": {
   "codemirror_mode": {
    "name": "ipython",
    "version": 3
   },
   "file_extension": ".py",
   "mimetype": "text/x-python",
   "name": "python",
   "nbconvert_exporter": "python",
   "pygments_lexer": "ipython3",
   "version": "3.9.13"
  }
 },
 "nbformat": 4,
 "nbformat_minor": 2
}
