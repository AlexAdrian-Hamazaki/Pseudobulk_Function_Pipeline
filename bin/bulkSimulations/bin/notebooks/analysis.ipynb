{
 "cells": [
  {
   "cell_type": "code",
   "execution_count": 1,
   "metadata": {},
   "outputs": [],
   "source": [
    "import pandas as pd"
   ]
  },
  {
   "cell_type": "code",
   "execution_count": 22,
   "metadata": {},
   "outputs": [],
   "source": [
    "# tissue = 'brain' # or pbmc\n",
    "tissue = \"pbmc\"\n",
    "path_to_melted_df = f\"/space/grp/aadrian/Pseudobulk_Function_Pipeline_HighRes/bin/bulkSimulations/data/boostrapped/1/EGAD/melted_dfs/{tissue}_sc_with_metadata_cpm_pc.h5ad_melted_df.csv.gz\"\n",
    "path_to_curated_gos = \"/space/grp/aadrian/Pseudobulk_Function_Pipeline_HighRes/bin/preprocessing/preprocessGO_pipe/data/bp_curated_annotations.tsv\""
   ]
  },
  {
   "cell_type": "code",
   "execution_count": 23,
   "metadata": {},
   "outputs": [],
   "source": [
    "df_brain_melted = pd.read_csv(path_to_melted_df, index_col = 0)"
   ]
  },
  {
   "cell_type": "code",
   "execution_count": 24,
   "metadata": {},
   "outputs": [
    {
     "data": {
      "text/html": [
       "<div>\n",
       "<style scoped>\n",
       "    .dataframe tbody tr th:only-of-type {\n",
       "        vertical-align: middle;\n",
       "    }\n",
       "\n",
       "    .dataframe tbody tr th {\n",
       "        vertical-align: top;\n",
       "    }\n",
       "\n",
       "    .dataframe thead th {\n",
       "        text-align: right;\n",
       "    }\n",
       "</style>\n",
       "<table border=\"1\" class=\"dataframe\">\n",
       "  <thead>\n",
       "    <tr style=\"text-align: right;\">\n",
       "      <th></th>\n",
       "      <th>index</th>\n",
       "      <th>tissue</th>\n",
       "      <th>variance</th>\n",
       "      <th>auc</th>\n",
       "    </tr>\n",
       "  </thead>\n",
       "  <tbody>\n",
       "    <tr>\n",
       "      <th>0</th>\n",
       "      <td>GO:0000045</td>\n",
       "      <td>pbmc_sc_with_metadata_cpm_pc.h5ad</td>\n",
       "      <td>0.01</td>\n",
       "      <td>0.572421</td>\n",
       "    </tr>\n",
       "    <tr>\n",
       "      <th>1</th>\n",
       "      <td>GO:0000070</td>\n",
       "      <td>pbmc_sc_with_metadata_cpm_pc.h5ad</td>\n",
       "      <td>0.01</td>\n",
       "      <td>0.638011</td>\n",
       "    </tr>\n",
       "    <tr>\n",
       "      <th>2</th>\n",
       "      <td>GO:0000077</td>\n",
       "      <td>pbmc_sc_with_metadata_cpm_pc.h5ad</td>\n",
       "      <td>0.01</td>\n",
       "      <td>0.525249</td>\n",
       "    </tr>\n",
       "    <tr>\n",
       "      <th>3</th>\n",
       "      <td>GO:0000079</td>\n",
       "      <td>pbmc_sc_with_metadata_cpm_pc.h5ad</td>\n",
       "      <td>0.01</td>\n",
       "      <td>0.562212</td>\n",
       "    </tr>\n",
       "    <tr>\n",
       "      <th>4</th>\n",
       "      <td>GO:0000082</td>\n",
       "      <td>pbmc_sc_with_metadata_cpm_pc.h5ad</td>\n",
       "      <td>0.01</td>\n",
       "      <td>0.516878</td>\n",
       "    </tr>\n",
       "    <tr>\n",
       "      <th>...</th>\n",
       "      <td>...</td>\n",
       "      <td>...</td>\n",
       "      <td>...</td>\n",
       "      <td>...</td>\n",
       "    </tr>\n",
       "    <tr>\n",
       "      <th>5603</th>\n",
       "      <td>GO:2001237</td>\n",
       "      <td>pbmc_sc_with_metadata_cpm_pc.h5ad</td>\n",
       "      <td>0.00</td>\n",
       "      <td>0.509704</td>\n",
       "    </tr>\n",
       "    <tr>\n",
       "      <th>5604</th>\n",
       "      <td>GO:2001238</td>\n",
       "      <td>pbmc_sc_with_metadata_cpm_pc.h5ad</td>\n",
       "      <td>0.00</td>\n",
       "      <td>0.575212</td>\n",
       "    </tr>\n",
       "    <tr>\n",
       "      <th>5605</th>\n",
       "      <td>GO:2001240</td>\n",
       "      <td>pbmc_sc_with_metadata_cpm_pc.h5ad</td>\n",
       "      <td>0.00</td>\n",
       "      <td>0.596038</td>\n",
       "    </tr>\n",
       "    <tr>\n",
       "      <th>5606</th>\n",
       "      <td>GO:2001243</td>\n",
       "      <td>pbmc_sc_with_metadata_cpm_pc.h5ad</td>\n",
       "      <td>0.00</td>\n",
       "      <td>0.544872</td>\n",
       "    </tr>\n",
       "    <tr>\n",
       "      <th>5607</th>\n",
       "      <td>GO:2001244</td>\n",
       "      <td>pbmc_sc_with_metadata_cpm_pc.h5ad</td>\n",
       "      <td>0.00</td>\n",
       "      <td>0.500637</td>\n",
       "    </tr>\n",
       "  </tbody>\n",
       "</table>\n",
       "<p>5608 rows × 4 columns</p>\n",
       "</div>"
      ],
      "text/plain": [
       "           index                             tissue  variance       auc\n",
       "0     GO:0000045  pbmc_sc_with_metadata_cpm_pc.h5ad      0.01  0.572421\n",
       "1     GO:0000070  pbmc_sc_with_metadata_cpm_pc.h5ad      0.01  0.638011\n",
       "2     GO:0000077  pbmc_sc_with_metadata_cpm_pc.h5ad      0.01  0.525249\n",
       "3     GO:0000079  pbmc_sc_with_metadata_cpm_pc.h5ad      0.01  0.562212\n",
       "4     GO:0000082  pbmc_sc_with_metadata_cpm_pc.h5ad      0.01  0.516878\n",
       "...          ...                                ...       ...       ...\n",
       "5603  GO:2001237  pbmc_sc_with_metadata_cpm_pc.h5ad      0.00  0.509704\n",
       "5604  GO:2001238  pbmc_sc_with_metadata_cpm_pc.h5ad      0.00  0.575212\n",
       "5605  GO:2001240  pbmc_sc_with_metadata_cpm_pc.h5ad      0.00  0.596038\n",
       "5606  GO:2001243  pbmc_sc_with_metadata_cpm_pc.h5ad      0.00  0.544872\n",
       "5607  GO:2001244  pbmc_sc_with_metadata_cpm_pc.h5ad      0.00  0.500637\n",
       "\n",
       "[5608 rows x 4 columns]"
      ]
     },
     "execution_count": 24,
     "metadata": {},
     "output_type": "execute_result"
    }
   ],
   "source": [
    "df_brain_melted"
   ]
  },
  {
   "cell_type": "code",
   "execution_count": 25,
   "metadata": {},
   "outputs": [],
   "source": [
    "curated_gos = pd.read_csv(path_to_curated_gos, sep = \"\\t\")\n",
    "curated_gos.fillna(\"F\", inplace=True)"
   ]
  },
  {
   "cell_type": "code",
   "execution_count": 26,
   "metadata": {},
   "outputs": [],
   "source": [
    "def combine_bootstraps_to_avg(melted_df:pd.DataFrame) -> pd.DataFrame:\n",
    "    \"\"\"Combine the performance of GO terms across bootstraps\n",
    "\n",
    "    Args:\n",
    "        melted_df (pd.DataFrame): df of data for aucs across many bootstraps\n",
    "    \"\"\"\n",
    "    avg_performance = melted_df.groupby('index').mean()\n",
    "    avg_performance = avg_performance['auc']\n",
    "    return avg_performance\n",
    "    "
   ]
  },
  {
   "cell_type": "code",
   "execution_count": 27,
   "metadata": {},
   "outputs": [
    {
     "data": {
      "text/html": [
       "<div>\n",
       "<style scoped>\n",
       "    .dataframe tbody tr th:only-of-type {\n",
       "        vertical-align: middle;\n",
       "    }\n",
       "\n",
       "    .dataframe tbody tr th {\n",
       "        vertical-align: top;\n",
       "    }\n",
       "\n",
       "    .dataframe thead th {\n",
       "        text-align: right;\n",
       "    }\n",
       "</style>\n",
       "<table border=\"1\" class=\"dataframe\">\n",
       "  <thead>\n",
       "    <tr style=\"text-align: right;\">\n",
       "      <th></th>\n",
       "      <th>index</th>\n",
       "      <th>tissue</th>\n",
       "      <th>variance</th>\n",
       "      <th>auc</th>\n",
       "      <th>id</th>\n",
       "      <th>name</th>\n",
       "      <th>namespace</th>\n",
       "      <th>CTAffiliated</th>\n",
       "      <th>BrainAffiliated</th>\n",
       "      <th>PBMCAffiliated</th>\n",
       "      <th>def</th>\n",
       "    </tr>\n",
       "  </thead>\n",
       "  <tbody>\n",
       "    <tr>\n",
       "      <th>0</th>\n",
       "      <td>GO:0000045</td>\n",
       "      <td>pbmc_sc_with_metadata_cpm_pc.h5ad</td>\n",
       "      <td>0.01</td>\n",
       "      <td>0.572421</td>\n",
       "      <td>GO:0000045</td>\n",
       "      <td>autophagosome assembly</td>\n",
       "      <td>biological_process</td>\n",
       "      <td>F</td>\n",
       "      <td>F</td>\n",
       "      <td>F</td>\n",
       "      <td>The formation of a double membrane-bounded str...</td>\n",
       "    </tr>\n",
       "    <tr>\n",
       "      <th>1</th>\n",
       "      <td>GO:0000070</td>\n",
       "      <td>pbmc_sc_with_metadata_cpm_pc.h5ad</td>\n",
       "      <td>0.01</td>\n",
       "      <td>0.638011</td>\n",
       "      <td>GO:0000070</td>\n",
       "      <td>mitotic sister chromatid segregation</td>\n",
       "      <td>biological_process</td>\n",
       "      <td>F</td>\n",
       "      <td>F</td>\n",
       "      <td>F</td>\n",
       "      <td>The cell cycle process in which replicated hom...</td>\n",
       "    </tr>\n",
       "    <tr>\n",
       "      <th>2</th>\n",
       "      <td>GO:0000077</td>\n",
       "      <td>pbmc_sc_with_metadata_cpm_pc.h5ad</td>\n",
       "      <td>0.01</td>\n",
       "      <td>0.525249</td>\n",
       "      <td>GO:0000077</td>\n",
       "      <td>DNA damage checkpoint signaling</td>\n",
       "      <td>biological_process</td>\n",
       "      <td>F</td>\n",
       "      <td>F</td>\n",
       "      <td>F</td>\n",
       "      <td>A signal transduction process that contributes...</td>\n",
       "    </tr>\n",
       "    <tr>\n",
       "      <th>3</th>\n",
       "      <td>GO:0000079</td>\n",
       "      <td>pbmc_sc_with_metadata_cpm_pc.h5ad</td>\n",
       "      <td>0.01</td>\n",
       "      <td>0.562212</td>\n",
       "      <td>GO:0000079</td>\n",
       "      <td>regulation of cyclin-dependent protein serine/...</td>\n",
       "      <td>biological_process</td>\n",
       "      <td>F</td>\n",
       "      <td>F</td>\n",
       "      <td>F</td>\n",
       "      <td>Any process that modulates the frequency, rate...</td>\n",
       "    </tr>\n",
       "    <tr>\n",
       "      <th>4</th>\n",
       "      <td>GO:0000082</td>\n",
       "      <td>pbmc_sc_with_metadata_cpm_pc.h5ad</td>\n",
       "      <td>0.01</td>\n",
       "      <td>0.516878</td>\n",
       "      <td>GO:0000082</td>\n",
       "      <td>G1/S transition of mitotic cell cycle</td>\n",
       "      <td>biological_process</td>\n",
       "      <td>F</td>\n",
       "      <td>F</td>\n",
       "      <td>F</td>\n",
       "      <td>The mitotic cell cycle transition by which a c...</td>\n",
       "    </tr>\n",
       "  </tbody>\n",
       "</table>\n",
       "</div>"
      ],
      "text/plain": [
       "        index                             tissue  variance       auc  \\\n",
       "0  GO:0000045  pbmc_sc_with_metadata_cpm_pc.h5ad      0.01  0.572421   \n",
       "1  GO:0000070  pbmc_sc_with_metadata_cpm_pc.h5ad      0.01  0.638011   \n",
       "2  GO:0000077  pbmc_sc_with_metadata_cpm_pc.h5ad      0.01  0.525249   \n",
       "3  GO:0000079  pbmc_sc_with_metadata_cpm_pc.h5ad      0.01  0.562212   \n",
       "4  GO:0000082  pbmc_sc_with_metadata_cpm_pc.h5ad      0.01  0.516878   \n",
       "\n",
       "           id                                               name  \\\n",
       "0  GO:0000045                             autophagosome assembly   \n",
       "1  GO:0000070               mitotic sister chromatid segregation   \n",
       "2  GO:0000077                    DNA damage checkpoint signaling   \n",
       "3  GO:0000079  regulation of cyclin-dependent protein serine/...   \n",
       "4  GO:0000082              G1/S transition of mitotic cell cycle   \n",
       "\n",
       "            namespace CTAffiliated BrainAffiliated PBMCAffiliated  \\\n",
       "0  biological_process            F               F              F   \n",
       "1  biological_process            F               F              F   \n",
       "2  biological_process            F               F              F   \n",
       "3  biological_process            F               F              F   \n",
       "4  biological_process            F               F              F   \n",
       "\n",
       "                                                 def  \n",
       "0  The formation of a double membrane-bounded str...  \n",
       "1  The cell cycle process in which replicated hom...  \n",
       "2  A signal transduction process that contributes...  \n",
       "3  Any process that modulates the frequency, rate...  \n",
       "4  The mitotic cell cycle transition by which a c...  "
      ]
     },
     "execution_count": 27,
     "metadata": {},
     "output_type": "execute_result"
    }
   ],
   "source": [
    "def combine_with_go_metadata(df_auc_performance:pd.DataFrame, go_cta_df:pd.DataFrame)-> pd.DataFrame:\n",
    "    \"\"\"Combine the GO metadata to our gene information\n",
    "\n",
    "    Args:\n",
    "        df_auc_performance (_type_): performance of go terms\n",
    "        go_cta (_type_): cell type affiliation of go curations\n",
    "\n",
    "    Returns:\n",
    "        pd.DataFrame: _description_\n",
    "    \"\"\"\n",
    "    \n",
    "    merged_data = pd.merge(df_auc_performance, go_cta_df, how = 'left', left_on='index', right_on='id')\n",
    "    return merged_data\n",
    "\n",
    "brain_annotations = combine_with_go_metadata(df_auc_performance=df_brain_melted,\n",
    "                                             go_cta_df=curated_gos)\n",
    "brain_annotations.head()"
   ]
  },
  {
   "cell_type": "code",
   "execution_count": 28,
   "metadata": {},
   "outputs": [
    {
     "data": {
      "text/html": [
       "<div>\n",
       "<style scoped>\n",
       "    .dataframe tbody tr th:only-of-type {\n",
       "        vertical-align: middle;\n",
       "    }\n",
       "\n",
       "    .dataframe tbody tr th {\n",
       "        vertical-align: top;\n",
       "    }\n",
       "\n",
       "    .dataframe thead th {\n",
       "        text-align: right;\n",
       "    }\n",
       "</style>\n",
       "<table border=\"1\" class=\"dataframe\">\n",
       "  <thead>\n",
       "    <tr style=\"text-align: right;\">\n",
       "      <th></th>\n",
       "      <th>id</th>\n",
       "      <th>auc</th>\n",
       "      <th>variance</th>\n",
       "      <th>variable</th>\n",
       "      <th>value</th>\n",
       "    </tr>\n",
       "  </thead>\n",
       "  <tbody>\n",
       "    <tr>\n",
       "      <th>0</th>\n",
       "      <td>GO:0000045</td>\n",
       "      <td>0.572421</td>\n",
       "      <td>0.01</td>\n",
       "      <td>CTAffiliated</td>\n",
       "      <td>F</td>\n",
       "    </tr>\n",
       "    <tr>\n",
       "      <th>1</th>\n",
       "      <td>GO:0000070</td>\n",
       "      <td>0.638011</td>\n",
       "      <td>0.01</td>\n",
       "      <td>CTAffiliated</td>\n",
       "      <td>F</td>\n",
       "    </tr>\n",
       "    <tr>\n",
       "      <th>2</th>\n",
       "      <td>GO:0000077</td>\n",
       "      <td>0.525249</td>\n",
       "      <td>0.01</td>\n",
       "      <td>CTAffiliated</td>\n",
       "      <td>F</td>\n",
       "    </tr>\n",
       "    <tr>\n",
       "      <th>3</th>\n",
       "      <td>GO:0000079</td>\n",
       "      <td>0.562212</td>\n",
       "      <td>0.01</td>\n",
       "      <td>CTAffiliated</td>\n",
       "      <td>F</td>\n",
       "    </tr>\n",
       "    <tr>\n",
       "      <th>4</th>\n",
       "      <td>GO:0000082</td>\n",
       "      <td>0.516878</td>\n",
       "      <td>0.01</td>\n",
       "      <td>CTAffiliated</td>\n",
       "      <td>F</td>\n",
       "    </tr>\n",
       "  </tbody>\n",
       "</table>\n",
       "</div>"
      ],
      "text/plain": [
       "           id       auc  variance      variable value\n",
       "0  GO:0000045  0.572421      0.01  CTAffiliated     F\n",
       "1  GO:0000070  0.638011      0.01  CTAffiliated     F\n",
       "2  GO:0000077  0.525249      0.01  CTAffiliated     F\n",
       "3  GO:0000079  0.562212      0.01  CTAffiliated     F\n",
       "4  GO:0000082  0.516878      0.01  CTAffiliated     F"
      ]
     },
     "execution_count": 28,
     "metadata": {},
     "output_type": "execute_result"
    }
   ],
   "source": [
    "melted_df = brain_annotations.melt(id_vars=['id', 'auc', 'variance'],\n",
    "                                   value_vars=['CTAffiliated', 'BrainAffiliated', 'PBMCAffiliated'])\n",
    "melted_df.head()"
   ]
  },
  {
   "cell_type": "code",
   "execution_count": 29,
   "metadata": {},
   "outputs": [
    {
     "data": {
      "image/png": "[encoded data removed]",
      "text/plain": [
       "<Figure size 2222.11x600 with 3 Axes>"
      ]
     },
     "metadata": {},
     "output_type": "display_data"
    }
   ],
   "source": [
    "import pandas as pd\n",
    "import seaborn as sns\n",
    "import matplotlib.pyplot as plt\n",
    "\n",
    "# Assuming you have a DataFrame named melted_df\n",
    "# containing columns 'variance', 'auc', 'variable', 'value'\n",
    "\n",
    "# Set a different color palette (e.g., 'Set2')\n",
    "sns.set_palette('Set2')\n",
    "\n",
    "# Use Seaborn to create a faceted boxplot separated by color\n",
    "g = sns.FacetGrid(melted_df, col='variable', height=6, aspect=1.2)\n",
    "g.map_dataframe(sns.boxplot, x='variance', y='auc', hue='value', dodge=True)\n",
    "\n",
    "# Set labels and title\n",
    "g.set_axis_labels('Variance Level', 'AUC')\n",
    "g.fig.suptitle(f'{tissue}: Cell Type Related GO Term Performance Increases with Compositional Variance', y=1.02)\n",
    "\n",
    "# Add legend outside the plot\n",
    "g.add_legend(title='Legend', bbox_to_anchor=(1, 0.5), loc='center left')\n",
    "\n",
    "# Show the plot\n",
    "plt.show()\n"
   ]
  },
  {
   "cell_type": "code",
   "execution_count": 58,
   "metadata": {},
   "outputs": [],
   "source": [
    "import pandas as pd"
   ]
  },
  {
   "cell_type": "code",
   "execution_count": 87,
   "metadata": {},
   "outputs": [],
   "source": [
    "import anndata as ad\n",
    "import pandas as pd\n",
    "df = pd.read_csv(\"/space/grp/aadrian/Pseudobulk_Function_Pipeline_HighRes/bin/bulkSimulations/data/bootd/1/simulated_bulk_datasets/brain_sc_with_metadata_cpm_pc/var_0.01_brain_sc_with_metadata_cpm_pc_simulated_bulk_samples.csv.gz\")\n",
    "adata = ad.read_h5ad(\"/space/grp/aadrian/Pseudobulk_Function_Pipeline_HighRes/bin/preprocessing/preprocessSC_pipe/data/h5ad_datasets/processed/withStats/pbmc_sc_with_metadata_cpm_pc_stats.h5ad\")\n"
   ]
  },
  {
   "cell_type": "code",
   "execution_count": 88,
   "metadata": {},
   "outputs": [
    {
     "data": {
      "text/plain": [
       "['Macrophages', 'T-cells', 'Monocytes', 'Nk-cells', 'Platelets', 'Dendritic cells', 'B-cells']\n",
       "Categories (7, object): ['B-cells', 'Dendritic cells', 'Macrophages', 'Monocytes', 'Nk-cells', 'Platelets', 'T-cells']"
      ]
     },
     "execution_count": 88,
     "metadata": {},
     "output_type": "execute_result"
    }
   ],
   "source": [
    "adata.obs.loc[:,'Cell type'].unique()"
   ]
  },
  {
   "cell_type": "code",
   "execution_count": 76,
   "metadata": {},
   "outputs": [
    {
     "data": {
      "text/plain": [
       "1000000.8119999999"
      ]
     },
     "execution_count": 76,
     "metadata": {},
     "output_type": "execute_result"
    }
   ],
   "source": [
    "df2 = pd.read_csv(\"/space/grp/aadrian/Pseudobulk_Function_Pipeline_HighRes/bin/bulkSimulations/data/bootd/2/simulated_bulk_datasets/brain_sc_with_metadata_cpm_pc/var_0.01_brain_sc_with_metadata_cpm_pc_simulated_bulk_samples.csv.gz\")\n",
    "\n"
   ]
  }
 ],
 "metadata": {
  "kernelspec": {
   "display_name": "main_env",
   "language": "python",
   "name": "python3"
  },
  "language_info": {
   "codemirror_mode": {
    "name": "ipython",
    "version": 3
   },
   "file_extension": ".py",
   "mimetype": "text/x-python",
   "name": "python",
   "nbconvert_exporter": "python",
   "pygments_lexer": "ipython3",
   "version": "3.9.18"
  }
 },
 "nbformat": 4,
 "nbformat_minor": 2
}
