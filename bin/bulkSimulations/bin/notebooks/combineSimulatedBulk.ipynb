{
 "cells": [
  {
   "cell_type": "code",
   "execution_count": 2,
   "metadata": {},
   "outputs": [],
   "source": [
    "import pandas as pd"
   ]
  },
  {
   "cell_type": "code",
   "execution_count": 3,
   "metadata": {},
   "outputs": [],
   "source": [
    "df = pd.read_csv(\"/space/grp/aadrian/Pseudobulk_Function_Pipeline_HighRes/bin/bulkSimulations/data/collapsed/simulation_100_0.01/brain_sc_with_metadata_cpm_pc_stats_n_sim_0_var_0.csv\", index_col=0)"
   ]
  },
  {
   "cell_type": "code",
   "execution_count": 4,
   "metadata": {},
   "outputs": [],
   "source": [
    "df2 = pd.read_csv(\"/space/grp/aadrian/Pseudobulk_Function_Pipeline_HighRes/bin/bulkSimulations/data/collapsed/simulation_100_0.01/brain_sc_with_metadata_cpm_pc_stats_n_sim_1_var_0.csv\", index_col=0)"
   ]
  },
  {
   "cell_type": "code",
   "execution_count": 8,
   "metadata": {},
   "outputs": [
    {
     "data": {
      "text/html": [
       "<div>\n",
       "<style scoped>\n",
       "    .dataframe tbody tr th:only-of-type {\n",
       "        vertical-align: middle;\n",
       "    }\n",
       "\n",
       "    .dataframe tbody tr th {\n",
       "        vertical-align: top;\n",
       "    }\n",
       "\n",
       "    .dataframe thead th {\n",
       "        text-align: right;\n",
       "    }\n",
       "</style>\n",
       "<table border=\"1\" class=\"dataframe\">\n",
       "  <thead>\n",
       "    <tr style=\"text-align: right;\">\n",
       "      <th></th>\n",
       "      <th>brain_sc_with_metadata_cpm_pc_stats_n_sim_0_var_0</th>\n",
       "      <th>brain_sc_with_metadata_cpm_pc_stats_n_sim_1_var_0</th>\n",
       "    </tr>\n",
       "    <tr>\n",
       "      <th>ensembl_gene_id</th>\n",
       "      <th></th>\n",
       "      <th></th>\n",
       "    </tr>\n",
       "  </thead>\n",
       "  <tbody>\n",
       "    <tr>\n",
       "      <th>ENSG00000000003</th>\n",
       "      <td>11.323317</td>\n",
       "      <td>11.297312</td>\n",
       "    </tr>\n",
       "    <tr>\n",
       "      <th>ENSG00000000938</th>\n",
       "      <td>-4.147204</td>\n",
       "      <td>-4.143885</td>\n",
       "    </tr>\n",
       "    <tr>\n",
       "      <th>ENSG00000000971</th>\n",
       "      <td>-7.320809</td>\n",
       "      <td>-7.326015</td>\n",
       "    </tr>\n",
       "    <tr>\n",
       "      <th>ENSG00000001626</th>\n",
       "      <td>5.117795</td>\n",
       "      <td>5.130120</td>\n",
       "    </tr>\n",
       "    <tr>\n",
       "      <th>ENSG00000002586</th>\n",
       "      <td>53.893406</td>\n",
       "      <td>62.762394</td>\n",
       "    </tr>\n",
       "    <tr>\n",
       "      <th>...</th>\n",
       "      <td>...</td>\n",
       "      <td>...</td>\n",
       "    </tr>\n",
       "    <tr>\n",
       "      <th>ENSG00000283703</th>\n",
       "      <td>-0.873853</td>\n",
       "      <td>-0.877043</td>\n",
       "    </tr>\n",
       "    <tr>\n",
       "      <th>ENSG00000283706</th>\n",
       "      <td>6.327146</td>\n",
       "      <td>6.324515</td>\n",
       "    </tr>\n",
       "    <tr>\n",
       "      <th>ENSG00000285975</th>\n",
       "      <td>-1.343590</td>\n",
       "      <td>-1.342980</td>\n",
       "    </tr>\n",
       "    <tr>\n",
       "      <th>ENSG00000286019</th>\n",
       "      <td>24.241110</td>\n",
       "      <td>24.233631</td>\n",
       "    </tr>\n",
       "    <tr>\n",
       "      <th>ENSG00000288649</th>\n",
       "      <td>-1.758071</td>\n",
       "      <td>-1.760340</td>\n",
       "    </tr>\n",
       "  </tbody>\n",
       "</table>\n",
       "<p>1973 rows × 2 columns</p>\n",
       "</div>"
      ],
      "text/plain": [
       "                 brain_sc_with_metadata_cpm_pc_stats_n_sim_0_var_0  \\\n",
       "ensembl_gene_id                                                      \n",
       "ENSG00000000003                                          11.323317   \n",
       "ENSG00000000938                                          -4.147204   \n",
       "ENSG00000000971                                          -7.320809   \n",
       "ENSG00000001626                                           5.117795   \n",
       "ENSG00000002586                                          53.893406   \n",
       "...                                                            ...   \n",
       "ENSG00000283703                                          -0.873853   \n",
       "ENSG00000283706                                           6.327146   \n",
       "ENSG00000285975                                          -1.343590   \n",
       "ENSG00000286019                                          24.241110   \n",
       "ENSG00000288649                                          -1.758071   \n",
       "\n",
       "                 brain_sc_with_metadata_cpm_pc_stats_n_sim_1_var_0  \n",
       "ensembl_gene_id                                                     \n",
       "ENSG00000000003                                          11.297312  \n",
       "ENSG00000000938                                          -4.143885  \n",
       "ENSG00000000971                                          -7.326015  \n",
       "ENSG00000001626                                           5.130120  \n",
       "ENSG00000002586                                          62.762394  \n",
       "...                                                            ...  \n",
       "ENSG00000283703                                          -0.877043  \n",
       "ENSG00000283706                                           6.324515  \n",
       "ENSG00000285975                                          -1.342980  \n",
       "ENSG00000286019                                          24.233631  \n",
       "ENSG00000288649                                          -1.760340  \n",
       "\n",
       "[1973 rows x 2 columns]"
      ]
     },
     "execution_count": 8,
     "metadata": {},
     "output_type": "execute_result"
    }
   ],
   "source": [
    "pd.concat([df,df2], axis = 1)"
   ]
  }
 ],
 "metadata": {
  "kernelspec": {
   "display_name": "PseudoPipelineEnv",
   "language": "python",
   "name": "python3"
  },
  "language_info": {
   "codemirror_mode": {
    "name": "ipython",
    "version": 3
   },
   "file_extension": ".py",
   "mimetype": "text/x-python",
   "name": "python",
   "nbconvert_exporter": "python",
   "pygments_lexer": "ipython3",
   "version": "3.9.13"
  },
  "orig_nbformat": 4
 },
 "nbformat": 4,
 "nbformat_minor": 2
}
