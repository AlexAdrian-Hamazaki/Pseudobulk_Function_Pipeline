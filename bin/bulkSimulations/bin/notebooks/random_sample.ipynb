{
 "cells": [
  {
   "cell_type": "code",
   "execution_count": 198,
   "metadata": {},
   "outputs": [],
   "source": [
    "import numpy as np\n",
    "import scanpy as sc"
   ]
  },
  {
   "cell_type": "code",
   "execution_count": 199,
   "metadata": {},
   "outputs": [],
   "source": [
    "import scanpy as sc"
   ]
  },
  {
   "cell_type": "code",
   "execution_count": 169,
   "metadata": {},
   "outputs": [],
   "source": [
    "adata = sc.read_h5ad('/space/grp/aadrian/Pseudobulk_Function_Pipeline_HighRes/bin/preprocessing/preprocessSC_pipe/data/h5ad_datasets/processed/withStats/brain_sc_with_metadata_cpm_pc_stats.h5ad')"
   ]
  },
  {
   "cell_type": "code",
   "execution_count": 241,
   "metadata": {},
   "outputs": [
    {
     "data": {
      "text/plain": [
       "array([[-0.08634007, -0.03052081, -0.05556148, ..., -0.01230601,\n",
       "        -0.29016137, -0.01911202],\n",
       "       [-0.11159052, -0.04629401, -0.08018494, ..., -0.01395351,\n",
       "        -0.31046838, -0.01677084],\n",
       "       [-0.1100802 , -0.05275587, -0.08634064, ..., -0.0147281 ,\n",
       "        -0.31433898, -0.01513948],\n",
       "       [-0.11324341, -0.03069228, -0.06466114, ..., -0.01210005,\n",
       "        -0.30037493, -0.02059661],\n",
       "       [-0.07416604, -0.0265131 , -0.04739521, ..., -0.01193582,\n",
       "        -0.28284082, -0.01938034]], dtype=float32)"
      ]
     },
     "execution_count": 241,
     "metadata": {},
     "output_type": "execute_result"
    }
   ],
   "source": [
    "adata.X"
   ]
  },
  {
   "cell_type": "code",
   "execution_count": 240,
   "metadata": {},
   "outputs": [
    {
     "data": {
      "text/plain": [
       "AnnData object with n_obs × n_vars = 5 × 1973\n",
       "    obs: 'cluster', 'umap_x', 'umap_y', 'Tissue', 'Cluster', 'Cell type', 'Cell type group', 'Cell count', 'n_genes', 'n_genes_by_counts', 'total_counts', 'total_counts_mt', 'pct_counts_mt', 'norm_factor', 'leiden'\n",
       "    var: 'hgnc_symbol', 'uniprotswissprot', 'entrezgene_id', 'description', 'n_cells', 'mt', 'n_cells_by_counts', 'mean_counts', 'pct_dropout_by_counts', 'total_counts', 'highly_variable', 'means', 'dispersions', 'dispersions_norm', 'mean', 'std'\n",
       "    uns: 'hvg', 'leiden', 'leiden_colors', 'log1p', 'neighbors', 'pca', 'umap'\n",
       "    obsm: 'X_pca', 'X_umap'\n",
       "    varm: 'PCs'\n",
       "    obsp: 'connectivities', 'distances'"
      ]
     },
     "execution_count": 240,
     "metadata": {},
     "output_type": "execute_result"
    }
   ],
   "source": [
    "sc.pp.subsample(adata, n_obs = 5)\n",
    "adata"
   ]
  },
  {
   "cell_type": "code",
   "execution_count": 236,
   "metadata": {},
   "outputs": [],
   "source": [
    "adata2 =adata[adata.obs.loc[:,\"Cell type\"] == \"Inhibitory neurons\"]"
   ]
  },
  {
   "cell_type": "code",
   "execution_count": 237,
   "metadata": {},
   "outputs": [
    {
     "data": {
      "text/plain": [
       "View of AnnData object with n_obs × n_vars = 23897 × 1973\n",
       "    obs: 'cluster', 'umap_x', 'umap_y', 'Tissue', 'Cluster', 'Cell type', 'Cell type group', 'Cell count', 'n_genes', 'n_genes_by_counts', 'total_counts', 'total_counts_mt', 'pct_counts_mt', 'norm_factor', 'leiden'\n",
       "    var: 'hgnc_symbol', 'uniprotswissprot', 'entrezgene_id', 'description', 'n_cells', 'mt', 'n_cells_by_counts', 'mean_counts', 'pct_dropout_by_counts', 'total_counts', 'highly_variable', 'means', 'dispersions', 'dispersions_norm', 'mean', 'std'\n",
       "    uns: 'hvg', 'leiden', 'leiden_colors', 'log1p', 'neighbors', 'pca', 'umap'\n",
       "    obsm: 'X_pca', 'X_umap'\n",
       "    varm: 'PCs'\n",
       "    obsp: 'connectivities', 'distances'"
      ]
     },
     "execution_count": 237,
     "metadata": {},
     "output_type": "execute_result"
    }
   ],
   "source": [
    "adata2"
   ]
  },
  {
   "cell_type": "code",
   "execution_count": 99,
   "metadata": {},
   "outputs": [
    {
     "name": "stdout",
     "output_type": "stream",
     "text": [
      "Group A    14\n",
      "Group B    20\n",
      "Group C    17\n",
      "Group D    49\n",
      "Name: samples, dtype: int64\n"
     ]
    }
   ],
   "source": [
    "import random\n",
    "import pandas as pd\n",
    "\n",
    "def getNumToSubsample(loCTs:list, totalSampleSize:int) -> pd.Series:\n",
    "    \"\"\"\n",
    "    Get the number of samples to supsample from each cell type\n",
    "    \n",
    "    \"\"\"\n",
    "    group_samples = []  # List to store the number of samples per group\n",
    "    remaining_samples = totalSampleSize  # Initialize remaining samples to the total number\n",
    "\n",
    "    # Loop through each group except the last one\n",
    "    for i, group in enumerate(loCTs[:-1]):\n",
    "        # Generate a random percentage between 0 and the remaining samples divided by the number of remaining groups\n",
    "        percent = random.uniform(0, remaining_samples / (len(loCTs) - i))\n",
    "        num_samples = int(percent)  # Convert the percentage to an integer number of samples\n",
    "        group_samples.append(num_samples)  # Add the number of samples to the list\n",
    "        remaining_samples -= num_samples  # Subtract the allocated samples from the remaining\n",
    "\n",
    "    # Allocate the remaining samples to the last group\n",
    "    group_samples.append(remaining_samples)\n",
    "    \n",
    "    \n",
    "    group_series = pd.Series(group_samples, index = loCTs, name = \"samples\")\n",
    "    \n",
    "    return group_series\n",
    "\n",
    "# Define the groups and their initial percentage compositions\n",
    "loCTs = ['Group A', 'Group B', 'Group C', 'Group D']\n",
    "\n",
    "print(getNumToSubsample(loCTs, 100))"
   ]
  },
  {
   "cell_type": "code",
   "execution_count": 100,
   "metadata": {},
   "outputs": [],
   "source": [
    "initial_ratio = 100 / 4 "
   ]
  },
  {
   "cell_type": "code",
   "execution_count": 231,
   "metadata": {},
   "outputs": [
    {
     "data": {
      "text/plain": [
       "Group A    27\n",
       "Group B    20\n",
       "Group C    24\n",
       "Group D    29\n",
       "Name: numbers_to_sample, dtype: int64"
      ]
     },
     "execution_count": 231,
     "metadata": {},
     "output_type": "execute_result"
    }
   ],
   "source": [
    "import random\n",
    "\n",
    "def getNumberToSubsample(loCTs:list, totalSampleSize:int, variance_factor:float) -> pd.Series:\n",
    "    \"\"\"\n",
    "    Define the umber of cell for each cell type to subsample\n",
    "    \"\"\"\n",
    "    loNumberOfSamples = []  # List to store the number of samples per group\n",
    "    remaining_samples = totalSampleSize  # Initialize remaining samples to the total number\n",
    "\n",
    "    # Loop through each group except the last one\n",
    "    for i, group in enumerate(loCTs[:-1]):\n",
    "        # Generate a random percentage within a certain range influenced by variance_factor\n",
    "        min_samples = max(0, remaining_samples / (len(loCTs) - i) - variance_factor * totalSampleSize)\n",
    "        max_samples = min(remaining_samples / (len(loCTs) - i) + variance_factor * totalSampleSize, remaining_samples)\n",
    "        \n",
    "        # Get the number of cells we will sample\n",
    "        samples = int(random.uniform(min_samples, max_samples))\n",
    "        \n",
    "        # print(f'min {min_samples}')\n",
    "        # print(f'max {max_samples}')\n",
    "        # print(f'per {samples}')\n",
    "        \n",
    "        # turn it into an int\n",
    "        num_samples = int(samples)\n",
    "        \n",
    "        # Add the number of samples we will sample to the list\n",
    "        loNumberOfSamples.append(num_samples) \n",
    "    \n",
    "        # Remove these samples\n",
    "        remaining_samples -= num_samples  # Subtract the allocated samples from the remaining\n",
    "\n",
    "    # Allocate the remaining samples to the last group so that the last group is there\n",
    "    loNumberOfSamples.append(remaining_samples)\n",
    "    \n",
    "    random.shuffle(loNumberOfSamples)  # Shuffle the order of allocated samples among groups\n",
    "    \n",
    "    return pd.Series(loNumberOfSamples, index = loCTs, name = 'numbers_to_sample')\n",
    "\n",
    "# Define the groups and their initial percentage compositions\n",
    "loCTs = ['Group A', 'Group B', 'Group C', 'Group D']\n",
    "\n",
    "# Total number of samples\n",
    "totalSampleSize = 100\n",
    "variance_factor = 0.05\n",
    "getNumberToSubsample(loCTs, totalSampleSize, variance_factor)"
   ]
  },
  {
   "cell_type": "code",
   "execution_count": 171,
   "metadata": {},
   "outputs": [],
   "source": [
    "data = pd.Series([10, 20, 30, 40, 50], index=['a', 'b', 'c', 'd', 'e'], name=\"MySeries\")"
   ]
  },
  {
   "cell_type": "code",
   "execution_count": 197,
   "metadata": {},
   "outputs": [
    {
     "name": "stdout",
     "output_type": "stream",
     "text": [
      "a\n",
      "10\n",
      "b\n",
      "20\n",
      "c\n",
      "30\n",
      "d\n",
      "40\n",
      "e\n",
      "50\n"
     ]
    }
   ],
   "source": [
    "for i, n_cells in enumerate(data):\n",
    "    print(data.index[i])\n",
    "    print(n_cells)"
   ]
  }
 ],
 "metadata": {
  "kernelspec": {
   "display_name": "PseudoPipelineEnv",
   "language": "python",
   "name": "python3"
  },
  "language_info": {
   "codemirror_mode": {
    "name": "ipython",
    "version": 3
   },
   "file_extension": ".py",
   "mimetype": "text/x-python",
   "name": "python",
   "nbconvert_exporter": "python",
   "pygments_lexer": "ipython3",
   "version": "3.9.13"
  },
  "orig_nbformat": 4
 },
 "nbformat": 4,
 "nbformat_minor": 2
}
