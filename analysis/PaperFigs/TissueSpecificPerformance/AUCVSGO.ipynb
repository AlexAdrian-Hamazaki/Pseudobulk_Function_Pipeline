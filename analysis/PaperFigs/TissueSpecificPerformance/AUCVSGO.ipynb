{
 "cells": [
  {
   "cell_type": "markdown",
   "metadata": {},
   "source": [
    "# Purpose\n",
    "\n",
    "Compare the learnability of GO terms from composition-induced co-expression across manually curated tissue categories"
   ]
  },
  {
   "cell_type": "code",
   "execution_count": 1,
   "metadata": {},
   "outputs": [],
   "source": [
    "import pandas as pd\n",
    "import seaborn as sns\n",
    "import matplotlib.pyplot as plt\n",
    "from statsmodels.formula.api import mixedlm\n",
    "import statsmodels.api as sm"
   ]
  },
  {
   "cell_type": "markdown",
   "metadata": {},
   "source": [
    "### Load GO term performance from composition-induced co-expression"
   ]
  },
  {
   "cell_type": "code",
   "execution_count": 8,
   "metadata": {},
   "outputs": [
    {
     "data": {
      "text/html": [
       "<div>\n",
       "<style scoped>\n",
       "    .dataframe tbody tr th:only-of-type {\n",
       "        vertical-align: middle;\n",
       "    }\n",
       "\n",
       "    .dataframe tbody tr th {\n",
       "        vertical-align: top;\n",
       "    }\n",
       "\n",
       "    .dataframe thead th {\n",
       "        text-align: right;\n",
       "    }\n",
       "</style>\n",
       "<table border=\"1\" class=\"dataframe\">\n",
       "  <thead>\n",
       "    <tr style=\"text-align: right;\">\n",
       "      <th></th>\n",
       "      <th>index</th>\n",
       "      <th>bootstrap</th>\n",
       "      <th>auc</th>\n",
       "      <th>exp_type</th>\n",
       "      <th>tissue</th>\n",
       "    </tr>\n",
       "  </thead>\n",
       "  <tbody>\n",
       "    <tr>\n",
       "      <th>1397</th>\n",
       "      <td>GO:0000045</td>\n",
       "      <td>3</td>\n",
       "      <td>0.522443</td>\n",
       "      <td>cntrl</td>\n",
       "      <td>brain</td>\n",
       "    </tr>\n",
       "    <tr>\n",
       "      <th>1398</th>\n",
       "      <td>GO:0000070</td>\n",
       "      <td>3</td>\n",
       "      <td>0.504677</td>\n",
       "      <td>cntrl</td>\n",
       "      <td>brain</td>\n",
       "    </tr>\n",
       "    <tr>\n",
       "      <th>1399</th>\n",
       "      <td>GO:0000077</td>\n",
       "      <td>3</td>\n",
       "      <td>0.468358</td>\n",
       "      <td>cntrl</td>\n",
       "      <td>brain</td>\n",
       "    </tr>\n",
       "    <tr>\n",
       "      <th>1400</th>\n",
       "      <td>GO:0000079</td>\n",
       "      <td>3</td>\n",
       "      <td>0.498369</td>\n",
       "      <td>cntrl</td>\n",
       "      <td>brain</td>\n",
       "    </tr>\n",
       "    <tr>\n",
       "      <th>1401</th>\n",
       "      <td>GO:0000082</td>\n",
       "      <td>3</td>\n",
       "      <td>0.520443</td>\n",
       "      <td>cntrl</td>\n",
       "      <td>brain</td>\n",
       "    </tr>\n",
       "  </tbody>\n",
       "</table>\n",
       "</div>"
      ],
      "text/plain": [
       "           index  bootstrap       auc exp_type tissue\n",
       "1397  GO:0000045          3  0.522443    cntrl  brain\n",
       "1398  GO:0000070          3  0.504677    cntrl  brain\n",
       "1399  GO:0000077          3  0.468358    cntrl  brain\n",
       "1400  GO:0000079          3  0.498369    cntrl  brain\n",
       "1401  GO:0000082          3  0.520443    cntrl  brain"
      ]
     },
     "execution_count": 8,
     "metadata": {},
     "output_type": "execute_result"
    }
   ],
   "source": [
    "def load_learnability(path:str)->pd.DataFrame:\n",
    "\t\"\"\"Load a dataframe containing info about a GO term's learnability from composition-induced co-expression\n",
    "\n",
    "\tArgs:\n",
    "\t\tpath (str): file path\n",
    "\n",
    "\tReturns:\n",
    "\t\tpd.DataFrame: df\n",
    "\t\"\"\"\n",
    "\tGO_learnabilty_df = pd.read_csv(path,index_col=0)\n",
    "\n",
    "\t# extract and drop some metadata columns\n",
    "\tGO_learnabilty_df['exp_type'] = GO_learnabilty_df.organism_part.str.split(\"_\").str.get(0)\n",
    "\tGO_learnabilty_df['tissue'] = GO_learnabilty_df.organism_part.str.split(\"_\").str.get(1)\n",
    "\tGO_learnabilty_df = GO_learnabilty_df[GO_learnabilty_df.loc[:,'variance']==0.05]\n",
    "\tGO_learnabilty_df.drop('organism_part', axis =1 , inplace=True)\n",
    "\tGO_learnabilty_df.drop('variance', axis =1 , inplace=True)\n",
    "\n",
    "\treturn GO_learnabilty_df\n",
    "\t\n",
    "path_to_learnability_file = \"/space/grp/aadrian/Pseudobulk_Function_Pipeline_HighRes/bin/bulkSimulationOneProfile/data/boot_run_feb29/master_melted_df.csv.gz\"\n",
    "GO_learnabilty_df = load_learnability(path_to_learnability_file)\n",
    "GO_learnabilty_df.head()"
   ]
  },
  {
   "cell_type": "markdown",
   "metadata": {},
   "source": [
    "### Load tissue-categories of GO terms"
   ]
  },
  {
   "cell_type": "code",
   "execution_count": 9,
   "metadata": {},
   "outputs": [],
   "source": [
    "def load_GO_curations(patho_to_curations=\"/space/grp/aadrian/Pseudobulk_Function_Pipeline_HighRes/bin/preprocessing/preprocessGO_pipe/data/2024_march/data/GOCurations.tsv\"):\n",
    "\tGO_curations = pd.read_csv(patho_to_curations, sep = \"\\t\")\n",
    "\n",
    "\tdef melt_curations(df:pd.DataFrame)->pd.DataFrame:\n",
    "\t\t\"\"\"\n",
    "\t\tcreate a new column that is a melted version of the GO term curations\n",
    "\n",
    "\t\tParameters:\n",
    "\t\t- df: pandas DataFrame\n",
    "\n",
    "\t\tReturns:\n",
    "\t\t- pandas DataFrame with a new column 'meta' indicating the curation category of the GO term\n",
    "\t\t\"\"\"\n",
    "\t\t# Create a new column using conditions\n",
    "\t\tmeta = df.apply(lambda row: 'Brain' if row['BrainAffiliated'] == 'T' else ('PBMC' if row['PBMCAffiliated'] == 'T' else \"Neither\"), axis=1)\n",
    "\t\tdf['meta']=meta\n",
    "\t\t\n",
    "\t\treturn df\n",
    "\tGO_curations = melt_curations(GO_curations)\n",
    "\treturn GO_curations\n",
    "\n",
    "GO_curations = load_GO_curations()"
   ]
  },
  {
   "cell_type": "code",
   "execution_count": 10,
   "metadata": {},
   "outputs": [],
   "source": [
    "# Merge GO learnability with curated category\n",
    "GO_learnabilty_df = GO_learnabilty_df.merge(GO_curations.loc[:,['id','meta']], left_on='index', right_on='id')\n",
    "\n",
    "#  Calc mean for graphing convenience and reduce overplotting\n",
    "GO_learnabilty_df_mean = GO_learnabilty_df.groupby(['index', 'exp_type', 'tissue','meta'])['auc'].mean().reset_index()"
   ]
  },
  {
   "cell_type": "markdown",
   "metadata": {},
   "source": [
    "### Plot relationship"
   ]
  },
  {
   "cell_type": "code",
   "execution_count": 11,
   "metadata": {},
   "outputs": [
    {
     "name": "stderr",
     "output_type": "stream",
     "text": [
      "/home/aadrian/miniforge3/envs/main_env/lib/python3.9/site-packages/seaborn/axisgrid.py:712: UserWarning: Using the boxplot function without specifying `order` is likely to produce an incorrect plot.\n",
      "  warnings.warn(warning)\n",
      "/home/aadrian/miniforge3/envs/main_env/lib/python3.9/site-packages/seaborn/axisgrid.py:717: UserWarning: Using the boxplot function without specifying `hue_order` is likely to produce an incorrect plot.\n",
      "  warnings.warn(warning)\n",
      "/home/aadrian/miniforge3/envs/main_env/lib/python3.9/site-packages/seaborn/categorical.py:641: FutureWarning: The default of observed=False is deprecated and will be changed to True in a future version of pandas. Pass observed=False to retain current behavior or observed=True to adopt the future default and silence this warning.\n",
      "  grouped_vals = vals.groupby(grouper)\n",
      "/home/aadrian/miniforge3/envs/main_env/lib/python3.9/site-packages/seaborn/categorical.py:641: FutureWarning: The default of observed=False is deprecated and will be changed to True in a future version of pandas. Pass observed=False to retain current behavior or observed=True to adopt the future default and silence this warning.\n",
      "  grouped_vals = vals.groupby(grouper)\n"
     ]
    },
    {
     "data": {
      "image/png": "[encoded data removed]",
      "text/plain": [
       "<Figure size 900x600 with 2 Axes>"
      ]
     },
     "metadata": {},
     "output_type": "display_data"
    }
   ],
   "source": [
    "def plot(GO_learnabilty_df_mean)->None:\n",
    "    # Set the color palette\n",
    "    sns.set_palette('Set2')  # Set the color palette to Dark\n",
    "\n",
    "    GO_learnabilty_df_mean['exp_type'] = pd.Categorical(GO_learnabilty_df_mean.loc[:,'exp_type'], categories=['cntrl', 'exp'], ordered=True)\n",
    "    GO_learnabilty_df_mean['meta'] = pd.Categorical(GO_learnabilty_df_mean.loc[:,'meta'], categories=['Neither', 'Brain', 'PBMC'], ordered=True)\n",
    "\n",
    "    # Create a FacetGrid with seaborn\n",
    "    g = sns.FacetGrid(GO_learnabilty_df_mean, col=\"tissue\", height=6, aspect=0.75)\n",
    "\n",
    "    # Draw a boxplot in each facet\n",
    "    g.map(sns.boxplot, 'exp_type', 'auc', 'meta', palette=\"Set2\")\n",
    "\n",
    "    # Set the background color to white\n",
    "    plt.gca().set_facecolor('white')\n",
    "\n",
    "    # Remove facet titles\n",
    "    g.set_titles(\"\")\n",
    "\n",
    "    # Set x-axis labels with smaller font size separately for each column\n",
    "    g.axes[0, 0].set_xlabel('Brain', fontsize=20)\n",
    "    g.axes[0, 1].set_xlabel('PBMC', fontsize=20)\n",
    "\n",
    "    # Set y-axis label with smaller font size\n",
    "    g.set_ylabels(\"Performance (AUROC)\", fontsize=20)\n",
    "\n",
    "    # Add a legend with a custom title and font size\n",
    "    legend = plt.legend(title=\"GO Term Category\", fontsize=14, bbox_to_anchor=(-0.5,1))\n",
    "\n",
    "    # Set the font size of the legend title\n",
    "    legend.get_title().set_fontsize(14)\n",
    "\n",
    "    # Rename the legend labels\n",
    "    legend.get_texts()[0].set_text(\"Neither\")\n",
    "    legend.get_texts()[1].set_text(\"Brain\")\n",
    "    legend.get_texts()[2].set_text(\"PBMC\")\n",
    "\n",
    "    # Access each axis and set custom tick labels\n",
    "    for ax in g.axes.flat:\n",
    "        ax.set_xticklabels([\"Permuted\", \"Simulated\"], fontsize=16)\n",
    "        ax.tick_params(axis='y', labelsize=16) \n",
    "    # Adjust the layout to make room for the title\n",
    "    g.fig.subplots_adjust(top=0.9)\n",
    "\n",
    "    # Add a title to the entire plot\n",
    "    # g.fig.suptitle('Simulated Bulk from Cell Type Profiles', fontsize=16)\n",
    "    # Add a title to the entire plot\n",
    "    # g.fig.suptitle('       Composition Variance Increases \\n       Performance of Cell Type Related GO Terms', fontsize=20,  y=1.025)\n",
    "\n",
    "\n",
    "    # Save the plot\n",
    "    g.savefig('figs/CTProfileBulkResults.png', dpi = 300)\n",
    "\n",
    "plot(GO_learnabilty_df_mean)"
   ]
  },
  {
   "cell_type": "markdown",
   "metadata": {},
   "source": [
    "### Evaluate Differences"
   ]
  },
  {
   "cell_type": "code",
   "execution_count": 21,
   "metadata": {},
   "outputs": [
    {
     "name": "stdout",
     "output_type": "stream",
     "text": [
      "Brain Mixed Effect Model\n",
      "~~~Mixed Effect Model~~~~~\n"
     ]
    },
    {
     "name": "stderr",
     "output_type": "stream",
     "text": [
      "/tmp/ipykernel_3308416/1762091544.py:3: SettingWithCopyWarning: \n",
      "A value is trying to be set on a copy of a slice from a DataFrame.\n",
      "Try using .loc[row_indexer,col_indexer] = value instead\n",
      "\n",
      "See the caveats in the documentation: https://pandas.pydata.org/pandas-docs/stable/user_guide/indexing.html#returning-a-view-versus-a-copy\n",
      "  GO_learnabilty_df['meta'] = pd.Categorical(GO_learnabilty_df.loc[:,'meta'], categories=['Neither', 'Brain', 'PBMC'], ordered=True)\n",
      "/home/aadrian/miniforge3/envs/main_env/lib/python3.9/site-packages/statsmodels/regression/mixed_linear_model.py:2238: ConvergenceWarning: The MLE may be on the boundary of the parameter space.\n",
      "  warnings.warn(msg, ConvergenceWarning)\n"
     ]
    },
    {
     "name": "stdout",
     "output_type": "stream",
     "text": [
      "                  Mixed Linear Model Regression Results\n",
      "=========================================================================\n",
      "Model:                  MixedLM      Dependent Variable:      auc        \n",
      "No. Observations:       279200       Method:                  REML       \n",
      "No. Groups:             1396         Scale:                   0.0028     \n",
      "Min. group size:        200          Log-Likelihood:          421740.1066\n",
      "Max. group size:        200          Converged:               Yes        \n",
      "Mean group size:        200.0                                            \n",
      "-------------------------------------------------------------------------\n",
      "                              Coef.  Std.Err.    z    P>|z| [0.025 0.975]\n",
      "-------------------------------------------------------------------------\n",
      "Intercept                      0.501    0.001 653.886 0.000  0.499  0.502\n",
      "exp_type[T.exp]                0.004    0.000  20.300 0.000  0.004  0.005\n",
      "meta[T.Brain]                 -0.001    0.003  -0.366 0.715 -0.006  0.004\n",
      "meta[T.PBMC]                   0.001    0.002   0.358 0.720 -0.004  0.006\n",
      "exp_type[T.exp]:meta[T.Brain]  0.034    0.001  43.734 0.000  0.032  0.035\n",
      "exp_type[T.exp]:meta[T.PBMC]   0.006    0.001   8.970 0.000  0.005  0.008\n",
      "Group Var                      0.001    0.000                            \n",
      "=========================================================================\n",
      "\n",
      "PBMC Mixed Effect Model\n",
      "~~~Mixed Effect Model~~~~~\n"
     ]
    },
    {
     "name": "stderr",
     "output_type": "stream",
     "text": [
      "/tmp/ipykernel_3308416/1762091544.py:3: SettingWithCopyWarning: \n",
      "A value is trying to be set on a copy of a slice from a DataFrame.\n",
      "Try using .loc[row_indexer,col_indexer] = value instead\n",
      "\n",
      "See the caveats in the documentation: https://pandas.pydata.org/pandas-docs/stable/user_guide/indexing.html#returning-a-view-versus-a-copy\n",
      "  GO_learnabilty_df['meta'] = pd.Categorical(GO_learnabilty_df.loc[:,'meta'], categories=['Neither', 'Brain', 'PBMC'], ordered=True)\n",
      "/home/aadrian/miniforge3/envs/main_env/lib/python3.9/site-packages/statsmodels/base/model.py:607: ConvergenceWarning: Maximum Likelihood optimization failed to converge. Check mle_retvals\n",
      "  warnings.warn(\"Maximum Likelihood optimization failed to \"\n",
      "/home/aadrian/miniforge3/envs/main_env/lib/python3.9/site-packages/statsmodels/regression/mixed_linear_model.py:2201: ConvergenceWarning: Retrying MixedLM optimization with lbfgs\n",
      "  warnings.warn(\n",
      "/home/aadrian/miniforge3/envs/main_env/lib/python3.9/site-packages/statsmodels/base/model.py:607: ConvergenceWarning: Maximum Likelihood optimization failed to converge. Check mle_retvals\n",
      "  warnings.warn(\"Maximum Likelihood optimization failed to \"\n",
      "/home/aadrian/miniforge3/envs/main_env/lib/python3.9/site-packages/statsmodels/regression/mixed_linear_model.py:2201: ConvergenceWarning: Retrying MixedLM optimization with cg\n",
      "  warnings.warn(\n",
      "/home/aadrian/miniforge3/envs/main_env/lib/python3.9/site-packages/statsmodels/base/model.py:607: ConvergenceWarning: Maximum Likelihood optimization failed to converge. Check mle_retvals\n",
      "  warnings.warn(\"Maximum Likelihood optimization failed to \"\n",
      "/home/aadrian/miniforge3/envs/main_env/lib/python3.9/site-packages/statsmodels/regression/mixed_linear_model.py:2207: ConvergenceWarning: MixedLM optimization failed, trying a different optimizer may help.\n",
      "  warnings.warn(msg, ConvergenceWarning)\n",
      "/home/aadrian/miniforge3/envs/main_env/lib/python3.9/site-packages/statsmodels/regression/mixed_linear_model.py:2219: ConvergenceWarning: Gradient optimization failed, |grad| = 593.288264\n",
      "  warnings.warn(msg, ConvergenceWarning)\n",
      "/home/aadrian/miniforge3/envs/main_env/lib/python3.9/site-packages/statsmodels/regression/mixed_linear_model.py:2238: ConvergenceWarning: The MLE may be on the boundary of the parameter space.\n",
      "  warnings.warn(msg, ConvergenceWarning)\n"
     ]
    },
    {
     "name": "stdout",
     "output_type": "stream",
     "text": [
      "                  Mixed Linear Model Regression Results\n",
      "=========================================================================\n",
      "Model:                  MixedLM      Dependent Variable:      auc        \n",
      "No. Observations:       279200       Method:                  REML       \n",
      "No. Groups:             1396         Scale:                   0.0041     \n",
      "Min. group size:        200          Log-Likelihood:          368749.5783\n",
      "Max. group size:        200          Converged:               No         \n",
      "Mean group size:        200.0                                            \n",
      "-------------------------------------------------------------------------\n",
      "                              Coef.  Std.Err.    z    P>|z| [0.025 0.975]\n",
      "-------------------------------------------------------------------------\n",
      "Intercept                      0.499    0.001 508.994 0.000  0.497  0.501\n",
      "exp_type[T.exp]                0.026    0.000  97.824 0.000  0.025  0.026\n",
      "meta[T.Brain]                 -0.003    0.003  -0.790 0.430 -0.010  0.004\n",
      "meta[T.PBMC]                  -0.002    0.003  -0.628 0.530 -0.008  0.004\n",
      "exp_type[T.exp]:meta[T.Brain]  0.011    0.001  11.962 0.000  0.009  0.013\n",
      "exp_type[T.exp]:meta[T.PBMC]   0.036    0.001  42.688 0.000  0.035  0.038\n",
      "Group Var                      0.001    0.001                            \n",
      "=========================================================================\n",
      "\n"
     ]
    }
   ],
   "source": [
    "def print_mixedlm(GO_learnabilty_df:pd.DataFrame)->None:\n",
    "\tprint(\"~~~Mixed Effect Model~~~~~\")\n",
    "\tGO_learnabilty_df['meta'] = pd.Categorical(GO_learnabilty_df.loc[:,'meta'], categories=['Neither', 'Brain', 'PBMC'], ordered=True)\n",
    "\tmodel = mixedlm(\"auc ~ exp_type * meta\", GO_learnabilty_df, groups=GO_learnabilty_df[\"id\"])\n",
    "\tresult = model.fit()\n",
    "\tprint(result.summary())\n",
    "\t# anova_table = sm.stats.anova_lm(model, typ=2)\n",
    "\t# print(anova_table)\n",
    "\t# print('\\n\\n')\n",
    "\t# print(\"~~~~~TUKEYHSD~~~~~\")\n",
    "\t# tukey = pairwise_tukeyhsd(endog=GO_curations[ycol], groups=GO_curations['meta'], alpha=0.01)\n",
    "\t# print(tukey.summary())\n",
    "\t# print(tukey.pvalues)\n",
    "\n",
    "print(\"Brain Mixed Effect Model\")\n",
    "GO_learnabilty_df_brain = GO_learnabilty_df[GO_learnabilty_df.loc[:,'tissue']==\"brain\"]\n",
    "print_mixedlm(GO_learnabilty_df=GO_learnabilty_df_brain)"
   ]
  },
  {
   "cell_type": "code",
   "execution_count": 22,
   "metadata": {},
   "outputs": [
    {
     "name": "stdout",
     "output_type": "stream",
     "text": [
      "PBMC Mixed Effect Model\n",
      "~~~Mixed Effect Model~~~~~\n"
     ]
    },
    {
     "name": "stderr",
     "output_type": "stream",
     "text": [
      "/tmp/ipykernel_3308416/1762091544.py:3: SettingWithCopyWarning: \n",
      "A value is trying to be set on a copy of a slice from a DataFrame.\n",
      "Try using .loc[row_indexer,col_indexer] = value instead\n",
      "\n",
      "See the caveats in the documentation: https://pandas.pydata.org/pandas-docs/stable/user_guide/indexing.html#returning-a-view-versus-a-copy\n",
      "  GO_learnabilty_df['meta'] = pd.Categorical(GO_learnabilty_df.loc[:,'meta'], categories=['Neither', 'Brain', 'PBMC'], ordered=True)\n",
      "/home/aadrian/miniforge3/envs/main_env/lib/python3.9/site-packages/statsmodels/base/model.py:607: ConvergenceWarning: Maximum Likelihood optimization failed to converge. Check mle_retvals\n",
      "  warnings.warn(\"Maximum Likelihood optimization failed to \"\n",
      "/home/aadrian/miniforge3/envs/main_env/lib/python3.9/site-packages/statsmodels/regression/mixed_linear_model.py:2201: ConvergenceWarning: Retrying MixedLM optimization with lbfgs\n",
      "  warnings.warn(\n",
      "/home/aadrian/miniforge3/envs/main_env/lib/python3.9/site-packages/statsmodels/base/model.py:607: ConvergenceWarning: Maximum Likelihood optimization failed to converge. Check mle_retvals\n",
      "  warnings.warn(\"Maximum Likelihood optimization failed to \"\n",
      "/home/aadrian/miniforge3/envs/main_env/lib/python3.9/site-packages/statsmodels/regression/mixed_linear_model.py:2201: ConvergenceWarning: Retrying MixedLM optimization with cg\n",
      "  warnings.warn(\n",
      "/home/aadrian/miniforge3/envs/main_env/lib/python3.9/site-packages/statsmodels/base/model.py:607: ConvergenceWarning: Maximum Likelihood optimization failed to converge. Check mle_retvals\n",
      "  warnings.warn(\"Maximum Likelihood optimization failed to \"\n",
      "/home/aadrian/miniforge3/envs/main_env/lib/python3.9/site-packages/statsmodels/regression/mixed_linear_model.py:2207: ConvergenceWarning: MixedLM optimization failed, trying a different optimizer may help.\n",
      "  warnings.warn(msg, ConvergenceWarning)\n",
      "/home/aadrian/miniforge3/envs/main_env/lib/python3.9/site-packages/statsmodels/regression/mixed_linear_model.py:2219: ConvergenceWarning: Gradient optimization failed, |grad| = 593.288264\n",
      "  warnings.warn(msg, ConvergenceWarning)\n",
      "/home/aadrian/miniforge3/envs/main_env/lib/python3.9/site-packages/statsmodels/regression/mixed_linear_model.py:2238: ConvergenceWarning: The MLE may be on the boundary of the parameter space.\n",
      "  warnings.warn(msg, ConvergenceWarning)\n"
     ]
    },
    {
     "name": "stdout",
     "output_type": "stream",
     "text": [
      "                  Mixed Linear Model Regression Results\n",
      "=========================================================================\n",
      "Model:                  MixedLM      Dependent Variable:      auc        \n",
      "No. Observations:       279200       Method:                  REML       \n",
      "No. Groups:             1396         Scale:                   0.0041     \n",
      "Min. group size:        200          Log-Likelihood:          368749.5783\n",
      "Max. group size:        200          Converged:               No         \n",
      "Mean group size:        200.0                                            \n",
      "-------------------------------------------------------------------------\n",
      "                              Coef.  Std.Err.    z    P>|z| [0.025 0.975]\n",
      "-------------------------------------------------------------------------\n",
      "Intercept                      0.499    0.001 508.994 0.000  0.497  0.501\n",
      "exp_type[T.exp]                0.026    0.000  97.824 0.000  0.025  0.026\n",
      "meta[T.Brain]                 -0.003    0.003  -0.790 0.430 -0.010  0.004\n",
      "meta[T.PBMC]                  -0.002    0.003  -0.628 0.530 -0.008  0.004\n",
      "exp_type[T.exp]:meta[T.Brain]  0.011    0.001  11.962 0.000  0.009  0.013\n",
      "exp_type[T.exp]:meta[T.PBMC]   0.036    0.001  42.688 0.000  0.035  0.038\n",
      "Group Var                      0.001    0.001                            \n",
      "=========================================================================\n",
      "\n"
     ]
    }
   ],
   "source": [
    "print(\"PBMC Mixed Effect Model\")\n",
    "GO_learnabilty_df_pbmc = GO_learnabilty_df[GO_learnabilty_df.loc[:,'tissue']==\"pbmc\"]\n",
    "print_mixedlm(GO_learnabilty_df=GO_learnabilty_df_pbmc)"
   ]
  }
 ],
 "metadata": {
  "kernelspec": {
   "display_name": "main_env",
   "language": "python",
   "name": "python3"
  },
  "language_info": {
   "codemirror_mode": {
    "name": "ipython",
    "version": 3
   },
   "file_extension": ".py",
   "mimetype": "text/x-python",
   "name": "python",
   "nbconvert_exporter": "python",
   "pygments_lexer": "ipython3",
   "version": "3.9.18"
  }
 },
 "nbformat": 4,
 "nbformat_minor": 2
}
