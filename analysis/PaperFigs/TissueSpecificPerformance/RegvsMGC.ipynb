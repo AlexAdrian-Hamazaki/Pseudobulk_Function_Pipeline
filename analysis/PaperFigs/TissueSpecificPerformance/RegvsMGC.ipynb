{
 "cells": [
  {
   "cell_type": "markdown",
   "metadata": {},
   "source": [
    "# Purpose\n",
    "\n",
    "Show that when you regress out composition variance from bulk co-expression and train models with it, the most impacted GO terms are those with high brain MGC scores"
   ]
  },
  {
   "cell_type": "code",
   "execution_count": 1,
   "metadata": {},
   "outputs": [],
   "source": [
    "import pandas as pd\n",
    "import os \n",
    "import seaborn as sns\n",
    "import matplotlib.pyplot as plt\n",
    "import statsmodels.formula.api as smf\n",
    "import json"
   ]
  },
  {
   "cell_type": "markdown",
   "metadata": {},
   "source": [
    "### Load GO learnability from Brain with no composition variance"
   ]
  },
  {
   "cell_type": "code",
   "execution_count": 2,
   "metadata": {},
   "outputs": [
    {
     "data": {
      "text/html": [
       "<div>\n",
       "<style scoped>\n",
       "    .dataframe tbody tr th:only-of-type {\n",
       "        vertical-align: middle;\n",
       "    }\n",
       "\n",
       "    .dataframe tbody tr th {\n",
       "        vertical-align: top;\n",
       "    }\n",
       "\n",
       "    .dataframe thead th {\n",
       "        text-align: right;\n",
       "    }\n",
       "</style>\n",
       "<table border=\"1\" class=\"dataframe\">\n",
       "  <thead>\n",
       "    <tr style=\"text-align: right;\">\n",
       "      <th>type</th>\n",
       "      <th>index</th>\n",
       "      <th>markers</th>\n",
       "      <th>random</th>\n",
       "    </tr>\n",
       "  </thead>\n",
       "  <tbody>\n",
       "    <tr>\n",
       "      <th>0</th>\n",
       "      <td>GO:0000045</td>\n",
       "      <td>0.535564</td>\n",
       "      <td>0.547717</td>\n",
       "    </tr>\n",
       "    <tr>\n",
       "      <th>1</th>\n",
       "      <td>GO:0000070</td>\n",
       "      <td>0.666578</td>\n",
       "      <td>0.692279</td>\n",
       "    </tr>\n",
       "    <tr>\n",
       "      <th>2</th>\n",
       "      <td>GO:0000077</td>\n",
       "      <td>0.566519</td>\n",
       "      <td>0.535777</td>\n",
       "    </tr>\n",
       "    <tr>\n",
       "      <th>3</th>\n",
       "      <td>GO:0000079</td>\n",
       "      <td>0.595023</td>\n",
       "      <td>0.547955</td>\n",
       "    </tr>\n",
       "    <tr>\n",
       "      <th>4</th>\n",
       "      <td>GO:0000082</td>\n",
       "      <td>0.528514</td>\n",
       "      <td>0.505917</td>\n",
       "    </tr>\n",
       "  </tbody>\n",
       "</table>\n",
       "</div>"
      ],
      "text/plain": [
       "type       index   markers    random\n",
       "0     GO:0000045  0.535564  0.547717\n",
       "1     GO:0000070  0.666578  0.692279\n",
       "2     GO:0000077  0.566519  0.535777\n",
       "3     GO:0000079  0.595023  0.547955\n",
       "4     GO:0000082  0.528514  0.505917"
      ]
     },
     "execution_count": 2,
     "metadata": {},
     "output_type": "execute_result"
    }
   ],
   "source": [
    "def load_regressed_performance(path = \"/space/grp/aadrian/Pseudobulk_Function_Pipeline_HighRes/bin/deconvolutingBulk/data/dev/july_boot_29\")->pd.DataFrame:\n",
    "    \"\"\"Loads performance from 62 simulations where composition variance from brain markers was regressed out\n",
    "\n",
    "    Args:\n",
    "        path (str, optional): path to regression performance directory\n",
    "\n",
    "    Returns:\n",
    "        pd.DataFrame: Dataframe that has performance for bulk brain with regressed comp\n",
    "    \"\"\"\n",
    "\n",
    "    lo_dirs = os.listdir(path)\n",
    "    lo_potential_files = [f\"{path}/{dir}/melted_EGAD.csv\" for dir in lo_dirs]\n",
    "\n",
    "    def filter_existing_paths(paths):\n",
    "        \"\"\"Filter out paths that do not exist.\"\"\"\n",
    "        existing_paths = [path for path in paths if os.path.exists(path)]\n",
    "        return existing_paths\n",
    "    lo_files = filter_existing_paths(lo_potential_files)\n",
    "    \n",
    "    lo_dfs = [pd.read_csv(file, index_col=0) for file in lo_files]\n",
    "\n",
    "    def add_boot_col(lo_dfs):\n",
    "        lo_new_dfs = []\n",
    "        for i,df in enumerate(lo_dfs):\n",
    "            df['boot']=i\n",
    "            lo_new_dfs.append(df)\n",
    "        return lo_new_dfs\n",
    "    lo_dfs = add_boot_col(lo_dfs=lo_dfs)\n",
    "    \n",
    "    df = pd.concat(lo_dfs, axis = 0)\n",
    "    # df_grouped = df.reset_index().groupby(by = ['index', 'tissue', 'type'])['auc'].mean().reset_index()\n",
    "    return df #df_grouped\n",
    "\n",
    "GO_learnabilty_regressed = load_regressed_performance()\n",
    "GO_learnabilty_regressed = GO_learnabilty_regressed.loc[:,['auc','type']].reset_index().groupby(['index','type']).mean().reset_index() # aggragate over repeats\n",
    "GO_learnabilty_regressed = GO_learnabilty_regressed.loc[:,['type','auc', 'index']].pivot(index='index', columns='type', values='auc').reset_index()\n",
    "GO_learnabilty_regressed.head()"
   ]
  },
  {
   "cell_type": "markdown",
   "metadata": {},
   "source": [
    "### Load Brain and MGC Scores"
   ]
  },
  {
   "cell_type": "code",
   "execution_count": 3,
   "metadata": {},
   "outputs": [],
   "source": [
    "def load_mges_scores(mges_path:str, mgesname:str)->pd.DataFrame:\n",
    "\t\"\"\"Load MGES dictionary\n",
    "\n",
    "\tArgs:\n",
    "\t\tmges_path (str): path to dict\n",
    "\t\tmgesname (str): name of MGES type (Brain or PBMC)\n",
    "\n",
    "\tReturns:\n",
    "\t\tpd.DataFrame: has GO term and term's MGES score\n",
    "\t\"\"\"\n",
    "\t# Load the JSON file into a dictionary\n",
    "\twith open(mges_path, 'r') as json_file:\n",
    "\t\tmges = json.load(json_file)\n",
    "\t\n",
    "\t# Convert the dictionary to a DataFrame\n",
    "\tmges = pd.DataFrame(list(mges.items()), columns=['GO', mgesname])\n",
    "\t\n",
    "\treturn mges\n",
    "\n",
    "brain_mges = load_mges_scores(\"../MGES/data/brain_mges.json\", 'brainMGES')\n",
    "pbmc_mges = load_mges_scores(\"../MGES/data/pbmc_mges.json\", 'pbmcMGES')"
   ]
  },
  {
   "cell_type": "code",
   "execution_count": 4,
   "metadata": {},
   "outputs": [],
   "source": [
    "def process(GO_learnabilty_regressed, brain_mges, pbmc_mges):\n",
    "\tGO_learnabilty_regressed = GO_learnabilty_regressed.merge(brain_mges, left_on='index', right_on=\"GO\")\n",
    "\tGO_learnabilty_regressed = GO_learnabilty_regressed.merge(pbmc_mges, on=\"GO\")\n",
    "\tGO_learnabilty_regressed = GO_learnabilty_regressed.drop(columns='index')\n",
    "\tGO_learnabilty_regressed['random-markers'] = GO_learnabilty_regressed.random - GO_learnabilty_regressed.markers\n",
    "\treturn GO_learnabilty_regressed\n",
    "\n",
    "GO_learnabilty_regressed = process(GO_learnabilty_regressed, brain_mges, pbmc_mges)"
   ]
  },
  {
   "cell_type": "code",
   "execution_count": 5,
   "metadata": {},
   "outputs": [
    {
     "data": {
      "text/html": [
       "<div>\n",
       "<style scoped>\n",
       "    .dataframe tbody tr th:only-of-type {\n",
       "        vertical-align: middle;\n",
       "    }\n",
       "\n",
       "    .dataframe tbody tr th {\n",
       "        vertical-align: top;\n",
       "    }\n",
       "\n",
       "    .dataframe thead th {\n",
       "        text-align: right;\n",
       "    }\n",
       "</style>\n",
       "<table border=\"1\" class=\"dataframe\">\n",
       "  <thead>\n",
       "    <tr style=\"text-align: right;\">\n",
       "      <th></th>\n",
       "      <th>brainMGES</th>\n",
       "      <th>pbmcMGES</th>\n",
       "      <th>random-markers</th>\n",
       "    </tr>\n",
       "  </thead>\n",
       "  <tbody>\n",
       "    <tr>\n",
       "      <th>brainMGES</th>\n",
       "      <td>1.000000</td>\n",
       "      <td>0.083642</td>\n",
       "      <td>0.044381</td>\n",
       "    </tr>\n",
       "    <tr>\n",
       "      <th>pbmcMGES</th>\n",
       "      <td>0.083642</td>\n",
       "      <td>1.000000</td>\n",
       "      <td>-0.194196</td>\n",
       "    </tr>\n",
       "    <tr>\n",
       "      <th>random-markers</th>\n",
       "      <td>0.044381</td>\n",
       "      <td>-0.194196</td>\n",
       "      <td>1.000000</td>\n",
       "    </tr>\n",
       "  </tbody>\n",
       "</table>\n",
       "</div>"
      ],
      "text/plain": [
       "                brainMGES  pbmcMGES  random-markers\n",
       "brainMGES        1.000000  0.083642        0.044381\n",
       "pbmcMGES         0.083642  1.000000       -0.194196\n",
       "random-markers   0.044381 -0.194196        1.000000"
      ]
     },
     "execution_count": 5,
     "metadata": {},
     "output_type": "execute_result"
    }
   ],
   "source": [
    "GO_learnabilty_regressed.loc[:,['brainMGES','pbmcMGES','random-markers']].corr()"
   ]
  },
  {
   "cell_type": "code",
   "execution_count": 6,
   "metadata": {},
   "outputs": [],
   "source": [
    "# sns.lmplot(pivoted, x = 'MGES_Value', y = 'random-markers', hue='Sample', legend=None, height=8, aspect=1.5, ci = None)\n",
    "# # Add title and labels\n",
    "# plt.title('GO Terms with Highest Brain MGCS Show \\n Decreased Learnability Without Composition EFfects', fontsize=20)\n",
    "# plt.xlabel('Marker Gene Content Score (MGCS)', fontsize=16)\n",
    "# plt.ylabel('Difference in Learnability (AUROC) \\n (Random Genes - Marker Gene) ', fontsize=16)\n",
    "\n",
    "# # Add legend with increased font size\n",
    "# plt.legend(title='MGCS Type', title_fontsize='14', fontsize='14')\n",
    "\n",
    "# # Show plot\n",
    "# plt.show()"
   ]
  }
 ],
 "metadata": {
  "kernelspec": {
   "display_name": "main_env",
   "language": "python",
   "name": "python3"
  },
  "language_info": {
   "codemirror_mode": {
    "name": "ipython",
    "version": 3
   },
   "file_extension": ".py",
   "mimetype": "text/x-python",
   "name": "python",
   "nbconvert_exporter": "python",
   "pygments_lexer": "ipython3",
   "version": "3.9.18"
  }
 },
 "nbformat": 4,
 "nbformat_minor": 2
}
